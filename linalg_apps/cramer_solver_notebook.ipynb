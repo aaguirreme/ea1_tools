{
 "cells": [
  {
   "cell_type": "markdown",
   "metadata": {},
   "source": [
    "# Cramer's rule solver"
   ]
  },
  {
   "cell_type": "markdown",
   "metadata": {},
   "source": [
    "## Instructions"
   ]
  },
  {
   "cell_type": "markdown",
   "metadata": {},
   "source": [
    "To use this interactive notebook\n",
    "1. Click on the Kernel menu.\n",
    "2. Select the option \"Restart & Run All\".\n",
    "3. On the popup dialog, Click on the red button that says \"Restart and Run All Cells\"."
   ]
  },
  {
   "cell_type": "markdown",
   "metadata": {},
   "source": [
    "## Configuration"
   ]
  },
  {
   "cell_type": "markdown",
   "metadata": {},
   "source": [
    "The following lines contain configuration commands and libraries. Please do not modify."
   ]
  },
  {
   "cell_type": "code",
   "execution_count": 1,
   "metadata": {},
   "outputs": [],
   "source": [
    "%reset -f"
   ]
  },
  {
   "cell_type": "code",
   "execution_count": 2,
   "metadata": {},
   "outputs": [],
   "source": [
    "import sys\n",
    "sys.path.append('libraries')"
   ]
  },
  {
   "cell_type": "code",
   "execution_count": 3,
   "metadata": {},
   "outputs": [],
   "source": [
    "from cramer_app import run_app"
   ]
  },
  {
   "cell_type": "markdown",
   "metadata": {},
   "source": [
    "## Interactive app"
   ]
  },
  {
   "cell_type": "code",
   "execution_count": 4,
   "metadata": {},
   "outputs": [
    {
     "data": {
      "application/vnd.jupyter.widget-view+json": {
       "model_id": "c9a95fa37a9444fa84a1d707797fa479",
       "version_major": 2,
       "version_minor": 0
      },
      "text/plain": [
       "Box(children=(HBox(children=(HTMLMath(value='Enter here the values of the matrix $\\\\bf{A}$', layout=Layout(wid…"
      ]
     },
     "metadata": {},
     "output_type": "display_data"
    },
    {
     "data": {
      "application/vnd.jupyter.widget-view+json": {
       "model_id": "f54f8570b5624d1dabb59b29f54a1838",
       "version_major": 2,
       "version_minor": 0
      },
      "text/plain": [
       "Box(children=(VBox(children=(HTML(value='Choose a variable to solve for.', layout=Layout(width='140px')), Drop…"
      ]
     },
     "metadata": {},
     "output_type": "display_data"
    }
   ],
   "source": [
    "run_app()"
   ]
  }
 ],
 "metadata": {
  "kernelspec": {
   "display_name": "Python 3",
   "language": "python",
   "name": "python3"
  },
  "language_info": {
   "codemirror_mode": {
    "name": "ipython",
    "version": 3
   },
   "file_extension": ".py",
   "mimetype": "text/x-python",
   "name": "python",
   "nbconvert_exporter": "python",
   "pygments_lexer": "ipython3",
   "version": "3.7.7"
  },
  "widgets": {
   "application/vnd.jupyter.widget-state+json": {
    "state": {
     "001cefab6eab4d1b81bd416ebeb933ac": {
      "model_module": "@jupyter-widgets/base",
      "model_module_version": "1.2.0",
      "model_name": "LayoutModel",
      "state": {
       "width": "150px"
      }
     },
     "0024c811974b45af86a198d901ffdeba": {
      "model_module": "@jupyter-widgets/controls",
      "model_module_version": "1.5.0",
      "model_name": "TextModel",
      "state": {
       "layout": "IPY_MODEL_56b7235de6f34f8ea7f7ee90eec44abc",
       "style": "IPY_MODEL_bcddb9a471094714820917ecf1f23565",
       "value": "3"
      }
     },
     "008c504ea16a499fbb315383e2e6d93c": {
      "model_module": "@jupyter-widgets/controls",
      "model_module_version": "1.5.0",
      "model_name": "DescriptionStyleModel",
      "state": {
       "description_width": ""
      }
     },
     "0117c5c4289547038b5fb461fdc012d6": {
      "model_module": "@jupyter-widgets/controls",
      "model_module_version": "1.5.0",
      "model_name": "HTMLMathModel",
      "state": {
       "layout": "IPY_MODEL_9a3421019e144647bd3d7a9aaf172f4b",
       "style": "IPY_MODEL_6a19b88762ef43f2a857a2d9694f3df7",
       "value": "Enter here the values of the constant matrix $\\bf{B}$"
      }
     },
     "013cb350e4754787ab617b5a90ec9f99": {
      "model_module": "@jupyter-widgets/base",
      "model_module_version": "1.2.0",
      "model_name": "LayoutModel",
      "state": {
       "flex_flow": "row wrap",
       "justify_content": "space-around"
      }
     },
     "0159972c206141ba9c34b9bff5f92877": {
      "model_module": "@jupyter-widgets/controls",
      "model_module_version": "1.5.0",
      "model_name": "DescriptionStyleModel",
      "state": {
       "description_width": ""
      }
     },
     "0179583ad8104d0c967b50f0c8fe6b4c": {
      "model_module": "@jupyter-widgets/base",
      "model_module_version": "1.2.0",
      "model_name": "LayoutModel",
      "state": {
       "height": "120px",
       "justify_content": "center",
       "width": "300px"
      }
     },
     "01b4fcc4f52d4a3eafe06fc99dadf69c": {
      "model_module": "@jupyter-widgets/controls",
      "model_module_version": "1.5.0",
      "model_name": "GridBoxModel",
      "state": {
       "children": [
        "IPY_MODEL_79d9881881054ede87764c85ec6b8872",
        "IPY_MODEL_9e675b90b6364da9963e52d7e4ec51b2",
        "IPY_MODEL_ea875e5959dc44d68623b83adc143a62",
        "IPY_MODEL_fa01b811b3d9488188fb2151ec1618f8",
        "IPY_MODEL_e3d8f9e1befa4ed1b1f6d229c2603346",
        "IPY_MODEL_a16402a55d7f4736aa6602732f8aaf9a",
        "IPY_MODEL_fc4c4174441044b899207aa59789be53",
        "IPY_MODEL_059932596f37492cbead1cf2eb5752db",
        "IPY_MODEL_fcc4fae526b44476ac1753d650d387fb"
       ],
       "layout": "IPY_MODEL_c7389bf36f624af5a5df7d7814a98b06"
      }
     },
     "01c16a5ef70f401f88329db784bcb7bb": {
      "model_module": "@jupyter-widgets/base",
      "model_module_version": "1.2.0",
      "model_name": "LayoutModel",
      "state": {
       "flex_flow": "row wrap",
       "justify_content": "space-around"
      }
     },
     "01f7e59380b6444abc3f48e7609b54f2": {
      "model_module": "@jupyter-widgets/controls",
      "model_module_version": "1.5.0",
      "model_name": "DescriptionStyleModel",
      "state": {
       "description_width": ""
      }
     },
     "01f81b0cfe8f491a8141d62a19de98e8": {
      "model_module": "@jupyter-widgets/controls",
      "model_module_version": "1.5.0",
      "model_name": "DescriptionStyleModel",
      "state": {
       "description_width": ""
      }
     },
     "020ab8198e8c4923af0925613035a32d": {
      "model_module": "@jupyter-widgets/base",
      "model_module_version": "1.2.0",
      "model_name": "LayoutModel",
      "state": {
       "height": "120px",
       "width": "150px"
      }
     },
     "023519c7fe8a4f1080ead11eb11d5edb": {
      "model_module": "@jupyter-widgets/controls",
      "model_module_version": "1.5.0",
      "model_name": "VBoxModel",
      "state": {
       "children": [
        "IPY_MODEL_16370a89b6a44356824cb2c60d6cbd05",
        "IPY_MODEL_a3c1380a91bf408986e7f0f7037ede5f"
       ],
       "layout": "IPY_MODEL_fa13014bbec444b987a7486d179c4580"
      }
     },
     "023a3de6a59f49aaab8e9602efc93bb8": {
      "model_module": "@jupyter-widgets/controls",
      "model_module_version": "1.5.0",
      "model_name": "HTMLMathModel",
      "state": {
       "layout": "IPY_MODEL_2a4a6e6a74dd4c518ec851463dcf6e0f",
       "style": "IPY_MODEL_fa821af80a3a4772b9a464c1fabdcb21",
       "value": "$$ \\det A_1 = \\left| \n      \\begin{array}{rrr}\n          \\color{blue}{ 3 } & 1 & -1\\\\\n          \\color{blue}{ 9 } & 1 & 1\\\\\n          \\color{blue}{ 8 } & -1 & 4\n      \\end{array}\n      \\right| = 4$$ <br> $$ x_{ 1 } =\\frac{ \\det A_1}{\\det A} = \\frac{ 4 }{ -2 } = -2$$"
      }
     },
     "027a904d878c441182cafccd60b5e533": {
      "model_module": "@jupyter-widgets/base",
      "model_module_version": "1.2.0",
      "model_name": "LayoutModel",
      "state": {
       "width": "140px"
      }
     },
     "027b65c234e5496488a2f154b77b05fb": {
      "model_module": "@jupyter-widgets/base",
      "model_module_version": "1.2.0",
      "model_name": "LayoutModel",
      "state": {}
     },
     "02d20255a69741a0afbf228aea49c839": {
      "model_module": "@jupyter-widgets/controls",
      "model_module_version": "1.5.0",
      "model_name": "TextModel",
      "state": {
       "layout": "IPY_MODEL_7998cf86679645c9bf9a645c93e463c8",
       "style": "IPY_MODEL_a2bb8740477e43eaa1080068c336a860",
       "value": "1"
      }
     },
     "03355950acbf49809b2c40cb1b13dc89": {
      "model_module": "@jupyter-widgets/controls",
      "model_module_version": "1.5.0",
      "model_name": "VBoxModel",
      "state": {
       "children": [
        "IPY_MODEL_27abaa6162fe49dda22fec69a8ac229e",
        "IPY_MODEL_647537b4b7484b069f0998897576bd2e",
        "IPY_MODEL_a40dee743fe8401d9bf980bf488982c8"
       ],
       "layout": "IPY_MODEL_f634663640de4fc8a89f5e49fa8d1cec"
      }
     },
     "0336ea02401a4ef6b53deb4ff494f8d5": {
      "model_module": "@jupyter-widgets/controls",
      "model_module_version": "1.5.0",
      "model_name": "DescriptionStyleModel",
      "state": {
       "description_width": ""
      }
     },
     "03ae277881894842a7d53dae3f6e0d63": {
      "model_module": "@jupyter-widgets/controls",
      "model_module_version": "1.5.0",
      "model_name": "DescriptionStyleModel",
      "state": {
       "description_width": ""
      }
     },
     "04a6197681d84fadb17d97b37136002d": {
      "model_module": "@jupyter-widgets/controls",
      "model_module_version": "1.5.0",
      "model_name": "TextModel",
      "state": {
       "layout": "IPY_MODEL_8233178bdcdc4cc5a36e758a2579d1fc",
       "style": "IPY_MODEL_7acd85ee9f7d450193bc05aa37f2be02",
       "value": "3"
      }
     },
     "04ac2eaf4a9b415cbe0808710899bbd0": {
      "model_module": "@jupyter-widgets/controls",
      "model_module_version": "1.5.0",
      "model_name": "VBoxModel",
      "state": {
       "children": [
        "IPY_MODEL_ad1439eb6337450ca54e725667fc5cba",
        "IPY_MODEL_ef6693c7da0d4365b57d45b159fbd393",
        "IPY_MODEL_f5c74afbdffe47668533e6a40f0b40aa"
       ],
       "layout": "IPY_MODEL_9540b00c61144a06b8f288c3cd92990b"
      }
     },
     "051933830f814b12a5d0e533b38f2310": {
      "model_module": "@jupyter-widgets/base",
      "model_module_version": "1.2.0",
      "model_name": "LayoutModel",
      "state": {
       "height": "120px",
       "justify_content": "center",
       "width": "400px"
      }
     },
     "05376740a89a4d3f95de1a1f2bc52686": {
      "model_module": "@jupyter-widgets/base",
      "model_module_version": "1.2.0",
      "model_name": "LayoutModel",
      "state": {
       "width": "150px"
      }
     },
     "059932596f37492cbead1cf2eb5752db": {
      "model_module": "@jupyter-widgets/controls",
      "model_module_version": "1.5.0",
      "model_name": "TextModel",
      "state": {
       "layout": "IPY_MODEL_38b8c268bd754197a79daa5bfd085f20",
       "style": "IPY_MODEL_5ea745f58df2459d8d9b86bc2d12f6a0",
       "value": "-1"
      }
     },
     "05d6f4cdf40d4a4ca49389b5ee876729": {
      "model_module": "@jupyter-widgets/controls",
      "model_module_version": "1.5.0",
      "model_name": "TextModel",
      "state": {
       "layout": "IPY_MODEL_56b7235de6f34f8ea7f7ee90eec44abc",
       "style": "IPY_MODEL_bb1364ee3cbe49b1a9403fb1d3a3f1c0",
       "value": "9"
      }
     },
     "05d824fd902840c8803f54716dfdc08b": {
      "model_module": "@jupyter-widgets/controls",
      "model_module_version": "1.5.0",
      "model_name": "DescriptionStyleModel",
      "state": {
       "description_width": ""
      }
     },
     "05df83e2289f48499f0b14a3c80a78f5": {
      "model_module": "@jupyter-widgets/base",
      "model_module_version": "1.2.0",
      "model_name": "LayoutModel",
      "state": {}
     },
     "06136227a6ba4943bb872c919410dff3": {
      "model_module": "@jupyter-widgets/base",
      "model_module_version": "1.2.0",
      "model_name": "LayoutModel",
      "state": {
       "height": "120px",
       "width": "250px"
      }
     },
     "0617194ebee348b2a2b64a66993e8e64": {
      "model_module": "@jupyter-widgets/controls",
      "model_module_version": "1.5.0",
      "model_name": "TextModel",
      "state": {
       "layout": "IPY_MODEL_0874150cd33b4f338f6b1c26dff102c7",
       "style": "IPY_MODEL_291db00c0059481c97a1fad4799f726b",
       "value": "1"
      }
     },
     "06633b2874fb43e0a9d5bb1537eaadda": {
      "model_module": "@jupyter-widgets/controls",
      "model_module_version": "1.5.0",
      "model_name": "GridBoxModel",
      "state": {
       "children": [
        "IPY_MODEL_10532b79e1be47baad471c413b4c9a89",
        "IPY_MODEL_06bfd7bfabd243d7b31b7e405aa3ac07",
        "IPY_MODEL_aa8a43bc7efc4610acbcd9034541fe5a"
       ],
       "layout": "IPY_MODEL_5e961a00395144718823e70cd943e2a3"
      }
     },
     "0679ce5e19f44a0f9e064586f0e5a5b3": {
      "model_module": "@jupyter-widgets/controls",
      "model_module_version": "1.5.0",
      "model_name": "DescriptionStyleModel",
      "state": {
       "description_width": ""
      }
     },
     "06996884288146ec90a251bb69c9f137": {
      "model_module": "@jupyter-widgets/controls",
      "model_module_version": "1.5.0",
      "model_name": "DescriptionStyleModel",
      "state": {
       "description_width": ""
      }
     },
     "06bfd7bfabd243d7b31b7e405aa3ac07": {
      "model_module": "@jupyter-widgets/controls",
      "model_module_version": "1.5.0",
      "model_name": "TextModel",
      "state": {
       "layout": "IPY_MODEL_bac3718a75224a58a09cb1f3e996c28a",
       "style": "IPY_MODEL_fd8d91185b4f41f0a99603f6d89b53fe",
       "value": "9"
      }
     },
     "06cf61b9801f486cb844e0d2aeb645ab": {
      "model_module": "@jupyter-widgets/base",
      "model_module_version": "1.2.0",
      "model_name": "LayoutModel",
      "state": {}
     },
     "06d22807ea15419397dda8037e428cca": {
      "model_module": "@jupyter-widgets/controls",
      "model_module_version": "1.5.0",
      "model_name": "ButtonModel",
      "state": {
       "description": "Solve",
       "layout": "IPY_MODEL_b3bf896de5ec449abae440c68e03abd8",
       "style": "IPY_MODEL_c0e678d581e744c282bb9e7c50abd2c8"
      }
     },
     "072f157225464f08bfa7a671e86baf4f": {
      "model_module": "@jupyter-widgets/controls",
      "model_module_version": "1.5.0",
      "model_name": "ButtonStyleModel",
      "state": {}
     },
     "07439eab0952410d9194714a6e54691a": {
      "model_module": "@jupyter-widgets/controls",
      "model_module_version": "1.5.0",
      "model_name": "BoxModel",
      "state": {
       "children": [
        "IPY_MODEL_366b91a5e4e744878e76d3dcc6a3bad3",
        "IPY_MODEL_fbc26cd2c3594fa387723230fed0addf"
       ],
       "layout": "IPY_MODEL_d771e3b9c95f4496b88ad2674a575980"
      }
     },
     "0770a48a65c04047a2f6666c679eeb82": {
      "model_module": "@jupyter-widgets/controls",
      "model_module_version": "1.5.0",
      "model_name": "DescriptionStyleModel",
      "state": {
       "description_width": ""
      }
     },
     "082f1558b36947cead0e12596167732d": {
      "model_module": "@jupyter-widgets/base",
      "model_module_version": "1.2.0",
      "model_name": "LayoutModel",
      "state": {}
     },
     "084bce05db48466caa5eb0ed02e5f9f2": {
      "model_module": "@jupyter-widgets/base",
      "model_module_version": "1.2.0",
      "model_name": "LayoutModel",
      "state": {
       "height": "250px",
       "justify_content": "center",
       "width": "400px"
      }
     },
     "08575b9496c84f9882270af5e904d4bb": {
      "model_module": "@jupyter-widgets/controls",
      "model_module_version": "1.5.0",
      "model_name": "TextModel",
      "state": {
       "layout": "IPY_MODEL_365ba57c32664ab38fd8d83a88c4d1cb",
       "style": "IPY_MODEL_ec6397aec5f5467ca2ff7268c9274487",
       "value": "1"
      }
     },
     "0874150cd33b4f338f6b1c26dff102c7": {
      "model_module": "@jupyter-widgets/base",
      "model_module_version": "1.2.0",
      "model_name": "LayoutModel",
      "state": {
       "height": "35px",
       "width": "40px"
      }
     },
     "08f049f2492d40af8c78dc9be06b332e": {
      "model_module": "@jupyter-widgets/base",
      "model_module_version": "1.2.0",
      "model_name": "LayoutModel",
      "state": {
       "height": "120px",
       "justify_content": "center",
       "width": "400px"
      }
     },
     "09014203e4104304942ac3a6eda5b1da": {
      "model_module": "@jupyter-widgets/controls",
      "model_module_version": "1.5.0",
      "model_name": "ButtonStyleModel",
      "state": {}
     },
     "090dbc6a0d2f4b74aab45263b161f087": {
      "model_module": "@jupyter-widgets/controls",
      "model_module_version": "1.5.0",
      "model_name": "DescriptionStyleModel",
      "state": {
       "description_width": ""
      }
     },
     "09533cd32a6a4d56a8ba8c21fb4cb7a8": {
      "model_module": "@jupyter-widgets/base",
      "model_module_version": "1.2.0",
      "model_name": "LayoutModel",
      "state": {
       "width": "140px"
      }
     },
     "099ec4b2d32d45008b7ddc0c34f93724": {
      "model_module": "@jupyter-widgets/controls",
      "model_module_version": "1.5.0",
      "model_name": "BoxModel",
      "state": {
       "children": [
        "IPY_MODEL_1173bd96801641d3a0c456314ee4ba08",
        "IPY_MODEL_7e864ff194af4f4e9ac5f468407a3692",
        "IPY_MODEL_5b60062b9ad0426fa8aa8ff34c526237",
        "IPY_MODEL_62fae667a3cf4824a89c1dedeab82461"
       ],
       "layout": "IPY_MODEL_2dd1cd861fec458da66d8922427eb496"
      }
     },
     "09ab0e60abab427fa81548e74fe9eebd": {
      "model_module": "@jupyter-widgets/base",
      "model_module_version": "1.2.0",
      "model_name": "LayoutModel",
      "state": {
       "height": "120px",
       "width": "150px"
      }
     },
     "09ace0f1845c4a63ac6863cc434c6296": {
      "model_module": "@jupyter-widgets/base",
      "model_module_version": "1.2.0",
      "model_name": "LayoutModel",
      "state": {
       "width": "90px"
      }
     },
     "09eb1734c22341e5886a768bf4b65288": {
      "model_module": "@jupyter-widgets/controls",
      "model_module_version": "1.5.0",
      "model_name": "TextModel",
      "state": {
       "layout": "IPY_MODEL_c4e9f4a8c7bf48249bb5b50320703732",
       "style": "IPY_MODEL_a23018ab1ff343b19b09a691f0aaf89c",
       "value": "1"
      }
     },
     "09eff0a6f31b4632963d7f8b36a3abd2": {
      "model_module": "@jupyter-widgets/controls",
      "model_module_version": "1.5.0",
      "model_name": "TextModel",
      "state": {
       "layout": "IPY_MODEL_2d3cc260859645ad9ef1bccbe1a463c7",
       "style": "IPY_MODEL_aa2d47ca9cc747fe8fadc2224f33c7e3",
       "value": "-1"
      }
     },
     "0a096e4b900b4b29ba858597f4836ffd": {
      "model_module": "@jupyter-widgets/base",
      "model_module_version": "1.2.0",
      "model_name": "LayoutModel",
      "state": {
       "height": "120px",
       "width": "250px"
      }
     },
     "0a86436cc60047679aad5ab9574369fc": {
      "model_module": "@jupyter-widgets/controls",
      "model_module_version": "1.5.0",
      "model_name": "DescriptionStyleModel",
      "state": {
       "description_width": ""
      }
     },
     "0aecee499def4bc9b01cb1ace755eb14": {
      "model_module": "@jupyter-widgets/base",
      "model_module_version": "1.2.0",
      "model_name": "LayoutModel",
      "state": {
       "width": "90px"
      }
     },
     "0b23f4686d7d417988e6d5c22ace809a": {
      "model_module": "@jupyter-widgets/controls",
      "model_module_version": "1.5.0",
      "model_name": "GridBoxModel",
      "state": {
       "children": [
        "IPY_MODEL_d706dc8929094e3daca4e3715d485a97",
        "IPY_MODEL_2cb3abd16f6443edbe6d7e31fe77f064",
        "IPY_MODEL_5077bed829ff492d9bc99b9f5dfea152",
        "IPY_MODEL_0c9a9615b3ac422582a7d36f0fa95d0c",
        "IPY_MODEL_95c5296ffb22422db53315b56d9c8326",
        "IPY_MODEL_3e5ea93126f54da79f6bd8eaf3e5dc6e",
        "IPY_MODEL_308ec7a0b5ba45a187e258f7389816f0",
        "IPY_MODEL_88c7deddb695432bab106d165f41e1aa",
        "IPY_MODEL_67ae58bed016438db186e590000eee14"
       ],
       "layout": "IPY_MODEL_2380c9795ebf4b699241f4ea00e44600"
      }
     },
     "0b24902a98694bc7bfdc4780a434eaaa": {
      "model_module": "@jupyter-widgets/base",
      "model_module_version": "1.2.0",
      "model_name": "LayoutModel",
      "state": {
       "width": "150px"
      }
     },
     "0b42ce39416e4894a5c1e7699e177c8f": {
      "model_module": "@jupyter-widgets/controls",
      "model_module_version": "1.5.0",
      "model_name": "DescriptionStyleModel",
      "state": {
       "description_width": ""
      }
     },
     "0b76d7e9adce4dbab37d5dbb685b7160": {
      "model_module": "@jupyter-widgets/base",
      "model_module_version": "1.2.0",
      "model_name": "LayoutModel",
      "state": {
       "grid_template_columns": "repeat(1, 45px)"
      }
     },
     "0c32a1edb7e240108b5ca72895bd2701": {
      "model_module": "@jupyter-widgets/controls",
      "model_module_version": "1.5.0",
      "model_name": "TextModel",
      "state": {
       "layout": "IPY_MODEL_35a7bfeaf8664758b5ea5e8c6d003d65",
       "style": "IPY_MODEL_ed395c56d0da40ee8093f11018da6ba1",
       "value": "1"
      }
     },
     "0c43bd3ab887427297512b58841f8ea4": {
      "model_module": "@jupyter-widgets/controls",
      "model_module_version": "1.5.0",
      "model_name": "DescriptionStyleModel",
      "state": {
       "description_width": ""
      }
     },
     "0c6748e536174262a6235c7e8f6ffb7f": {
      "model_module": "@jupyter-widgets/controls",
      "model_module_version": "1.5.0",
      "model_name": "DescriptionStyleModel",
      "state": {
       "description_width": ""
      }
     },
     "0c7043a4e36747c68c41b69d04d8c424": {
      "model_module": "@jupyter-widgets/base",
      "model_module_version": "1.2.0",
      "model_name": "LayoutModel",
      "state": {
       "flex_flow": "row wrap",
       "justify_content": "space-around"
      }
     },
     "0c7783c858364d5da01a0dfe797614a9": {
      "model_module": "@jupyter-widgets/controls",
      "model_module_version": "1.5.0",
      "model_name": "VBoxModel",
      "state": {
       "children": [
        "IPY_MODEL_c5381a33264f494083e943c79244a2f9",
        "IPY_MODEL_eebeca6dc8a841f880c26c02d4d73788",
        "IPY_MODEL_06d22807ea15419397dda8037e428cca"
       ],
       "layout": "IPY_MODEL_333ac8df58f24bfc832443be4e7c51d2"
      }
     },
     "0c9a9615b3ac422582a7d36f0fa95d0c": {
      "model_module": "@jupyter-widgets/controls",
      "model_module_version": "1.5.0",
      "model_name": "TextModel",
      "state": {
       "layout": "IPY_MODEL_852e11ecf67743b9b3d1ddb8b98182be",
       "style": "IPY_MODEL_2c0cfb8a3cf84180925b8ae65a4bf6d5",
       "value": "3"
      }
     },
     "0d1b0f864aee4aa59aaba67675a0e654": {
      "model_module": "@jupyter-widgets/base",
      "model_module_version": "1.2.0",
      "model_name": "LayoutModel",
      "state": {
       "width": "140px"
      }
     },
     "0d2a45df886843cc83613f87dac55438": {
      "model_module": "@jupyter-widgets/controls",
      "model_module_version": "1.5.0",
      "model_name": "HTMLMathModel",
      "state": {
       "layout": "IPY_MODEL_9e4499c59861449eb2b615c359ac8d51",
       "style": "IPY_MODEL_e3059c1a33764b6499367f4966b105d4",
       "value": "$$ \\mathbf{A} = \\left[  \n      \\begin{array}{rrr}\n          1 & 1 & -1\\\\\n          3 & 1 & 1\\\\\n          1 & -1 & 4\n      \\end{array}\n      , \\right] \\quad \\color{blue}{\\mathbf{B} = \\left[ \n    \\begin{array}{r}\n        3 \\\\\n        9 \\\\\n        8 \n    \\end{array}\n    \\right]}$$<br>with $\\det A =-2$."
      }
     },
     "0d4af74240b04aca81ae2c4a3397a4aa": {
      "model_module": "@jupyter-widgets/controls",
      "model_module_version": "1.5.0",
      "model_name": "DescriptionStyleModel",
      "state": {
       "description_width": ""
      }
     },
     "0d7967f66a264134aa8be03c9fa1b17d": {
      "model_module": "@jupyter-widgets/controls",
      "model_module_version": "1.5.0",
      "model_name": "VBoxModel",
      "state": {
       "children": [
        "IPY_MODEL_567c883f7e0f45278e0c5387818cbb87",
        "IPY_MODEL_18fa97d9e9ff4f0c90fac86c358a49ce",
        "IPY_MODEL_cc8377b12ba14278808067910c76dced"
       ],
       "layout": "IPY_MODEL_39b7c193faa64ac79c7061e531c5d2c2"
      }
     },
     "0d89414c571e4ad895c393dd95cc4478": {
      "model_module": "@jupyter-widgets/base",
      "model_module_version": "1.2.0",
      "model_name": "LayoutModel",
      "state": {
       "grid_template_columns": "repeat(1, 45px)"
      }
     },
     "0d95daa820364580b5f349e5b6c8183c": {
      "model_module": "@jupyter-widgets/controls",
      "model_module_version": "1.5.0",
      "model_name": "GridBoxModel",
      "state": {
       "children": [
        "IPY_MODEL_c6e9124fdfc249e8a9168482b5882cfa",
        "IPY_MODEL_78f8bdc3c283476f8dc77f773b7bf219",
        "IPY_MODEL_e77e183564634e008a18803a6dc93202",
        "IPY_MODEL_229937fbe2ed4e6888a5c7f6a3d84568",
        "IPY_MODEL_58d63a8b43714dd48114e93f01888fbb",
        "IPY_MODEL_f8b1ccbaeae04d7fbd6e627d27f0ae1b",
        "IPY_MODEL_58057d4cb3a845f4bcfed5d3ec575c9c",
        "IPY_MODEL_cff2cf1de61f4ef1919acd99ae05f5c5",
        "IPY_MODEL_1c3dc41ec3fd4867ada5a84ea0cf9693"
       ],
       "layout": "IPY_MODEL_c657e8bedc2d4510a33c2fa79de4b4f3"
      }
     },
     "0df7e762c24a4bff95215f7dc5c08547": {
      "model_module": "@jupyter-widgets/controls",
      "model_module_version": "1.5.0",
      "model_name": "TextModel",
      "state": {
       "layout": "IPY_MODEL_559e088c23fd41ac878f827500212741",
       "style": "IPY_MODEL_edb1629430e04fa7880c474d4e6728e2",
       "value": "0"
      }
     },
     "0e502c0d21244b1f974c456c78ff247d": {
      "model_module": "@jupyter-widgets/controls",
      "model_module_version": "1.5.0",
      "model_name": "DescriptionStyleModel",
      "state": {
       "description_width": ""
      }
     },
     "0e97560dd5014699a74eeb1291fe2bd1": {
      "model_module": "@jupyter-widgets/controls",
      "model_module_version": "1.5.0",
      "model_name": "DescriptionStyleModel",
      "state": {
       "description_width": ""
      }
     },
     "0e9b1e00c8584cb5bdb6b5c636bc6ce8": {
      "model_module": "@jupyter-widgets/base",
      "model_module_version": "1.2.0",
      "model_name": "LayoutModel",
      "state": {
       "width": "90px"
      }
     },
     "0eae99973b10449b8c5b1545f2ab5a1a": {
      "model_module": "@jupyter-widgets/controls",
      "model_module_version": "1.5.0",
      "model_name": "DescriptionStyleModel",
      "state": {
       "description_width": ""
      }
     },
     "0ec3f679fa0a45f9911dfad95e854095": {
      "model_module": "@jupyter-widgets/controls",
      "model_module_version": "1.5.0",
      "model_name": "DescriptionStyleModel",
      "state": {
       "description_width": ""
      }
     },
     "0ed09ce314504cfa96bd5a654665c883": {
      "model_module": "@jupyter-widgets/controls",
      "model_module_version": "1.5.0",
      "model_name": "HTMLMathModel",
      "state": {
       "layout": "IPY_MODEL_7f5f63a94aca4aa19ad38f11c7b716df",
       "style": "IPY_MODEL_ad39d859f80a4e87bc710b9f2cc1919d",
       "value": "Error. The system does not have a unique solution."
      }
     },
     "0edc24d102be4100be4b3397bfa095c6": {
      "model_module": "@jupyter-widgets/base",
      "model_module_version": "1.2.0",
      "model_name": "LayoutModel",
      "state": {
       "width": "90px"
      }
     },
     "0f98b37ba4f6457b86bcffe02f714bed": {
      "model_module": "@jupyter-widgets/base",
      "model_module_version": "1.2.0",
      "model_name": "LayoutModel",
      "state": {
       "width": "140px"
      }
     },
     "0fa01d9008f643d8bb273a6956e9162a": {
      "model_module": "@jupyter-widgets/controls",
      "model_module_version": "1.5.0",
      "model_name": "TextModel",
      "state": {
       "layout": "IPY_MODEL_60fba3a3410847dc8a3bad3fcd17590c",
       "style": "IPY_MODEL_4536df658e494a7f8428cdce101d7ae4",
       "value": "1"
      }
     },
     "0fb1df5ecd4d4fce8e31d67c122bea45": {
      "model_module": "@jupyter-widgets/controls",
      "model_module_version": "1.5.0",
      "model_name": "DescriptionStyleModel",
      "state": {
       "description_width": ""
      }
     },
     "0ff3f8052d8346228f4abafb8af0a99b": {
      "model_module": "@jupyter-widgets/controls",
      "model_module_version": "1.5.0",
      "model_name": "GridBoxModel",
      "state": {
       "children": [
        "IPY_MODEL_f2d1d65aac384ad19f4100eb42a83ca0",
        "IPY_MODEL_d3852dd01524484e990583541bd70545",
        "IPY_MODEL_416afc049dc346f5b0b64876544e5020"
       ],
       "layout": "IPY_MODEL_0d89414c571e4ad895c393dd95cc4478"
      }
     },
     "0ffad30b6fd04cb987aa05623918cea8": {
      "model_module": "@jupyter-widgets/controls",
      "model_module_version": "1.5.0",
      "model_name": "VBoxModel",
      "state": {
       "children": [
        "IPY_MODEL_c63e57a43d6040be9ae1caee693f9a8a",
        "IPY_MODEL_81aaf5ff23094ea9a43a941ebc08f7ea"
       ],
       "layout": "IPY_MODEL_c71353cc99874151945332f996d22c73"
      }
     },
     "100a20929b6e42099556456b390dd69b": {
      "model_module": "@jupyter-widgets/controls",
      "model_module_version": "1.5.0",
      "model_name": "DescriptionStyleModel",
      "state": {
       "description_width": ""
      }
     },
     "103a5de37ccd4e45bb278899b3e2963b": {
      "model_module": "@jupyter-widgets/controls",
      "model_module_version": "1.5.0",
      "model_name": "HBoxModel",
      "state": {
       "children": [
        "IPY_MODEL_23e64b058a7d487ba25e59ff213370f3",
        "IPY_MODEL_d43497f7eb9640dfbdce042bf073cf4e"
       ],
       "layout": "IPY_MODEL_f29eb509b5d5442e90cdf128c2b9b237"
      }
     },
     "10532b79e1be47baad471c413b4c9a89": {
      "model_module": "@jupyter-widgets/controls",
      "model_module_version": "1.5.0",
      "model_name": "TextModel",
      "state": {
       "layout": "IPY_MODEL_bac3718a75224a58a09cb1f3e996c28a",
       "style": "IPY_MODEL_97a7aefad722435198452bc123d34729",
       "value": "3"
      }
     },
     "10585b8a281b402a9d5f52b9525508b7": {
      "model_module": "@jupyter-widgets/controls",
      "model_module_version": "1.5.0",
      "model_name": "BoxModel",
      "state": {
       "children": [
        "IPY_MODEL_253a9489a64f4ec2b15377293151083e",
        "IPY_MODEL_ee203ebc8c88496f8e690f75b3294f83"
       ],
       "layout": "IPY_MODEL_daf69c6d7c904eae8d1b1342037826fb"
      }
     },
     "105888a4bd9d4cf3925eacded869c538": {
      "model_module": "@jupyter-widgets/base",
      "model_module_version": "1.2.0",
      "model_name": "LayoutModel",
      "state": {
       "height": "120px",
       "width": "150px"
      }
     },
     "10717b6e7718436291bf0c1bd5fa4ee1": {
      "model_module": "@jupyter-widgets/base",
      "model_module_version": "1.2.0",
      "model_name": "LayoutModel",
      "state": {
       "height": "120px",
       "justify_content": "center",
       "width": "400px"
      }
     },
     "109b57741de84886b143eb899bbf4595": {
      "model_module": "@jupyter-widgets/controls",
      "model_module_version": "1.5.0",
      "model_name": "BoxModel",
      "state": {
       "children": [
        "IPY_MODEL_ba61ba4fbd5c4a7b8f69cb514e5f409d",
        "IPY_MODEL_7be97a25d8a041ab88cb933291c7cac1",
        "IPY_MODEL_756c4dbca0bd41df8d5083fe2ffba2ad",
        "IPY_MODEL_b34ba5ccc98246a3b6c7937acd74f8e0"
       ],
       "layout": "IPY_MODEL_4e60ec0527d44413b49ebd87a50f06a5"
      }
     },
     "10f0b74844014de492ab8088b5ec8edf": {
      "model_module": "@jupyter-widgets/controls",
      "model_module_version": "1.5.0",
      "model_name": "TextModel",
      "state": {
       "layout": "IPY_MODEL_559e088c23fd41ac878f827500212741",
       "style": "IPY_MODEL_41e37eb0809a4e69b423ea63df3fb800",
       "value": "0"
      }
     },
     "11596f2075c34320892b5a07830a36f2": {
      "model_module": "@jupyter-widgets/controls",
      "model_module_version": "1.5.0",
      "model_name": "TextModel",
      "state": {
       "layout": "IPY_MODEL_f7d10756bf8e446d8f8deb1712e2baa5",
       "style": "IPY_MODEL_a8cea1965d514d6e8d48a16e8cc33172",
       "value": "1"
      }
     },
     "115a373196574527ac07cc2ff1e98894": {
      "model_module": "@jupyter-widgets/controls",
      "model_module_version": "1.5.0",
      "model_name": "TextModel",
      "state": {
       "layout": "IPY_MODEL_7998cf86679645c9bf9a645c93e463c8",
       "style": "IPY_MODEL_0c43bd3ab887427297512b58841f8ea4",
       "value": "1"
      }
     },
     "115e75377fba4f739d69b943da13cc8b": {
      "model_module": "@jupyter-widgets/base",
      "model_module_version": "1.2.0",
      "model_name": "LayoutModel",
      "state": {
       "width": "140px"
      }
     },
     "1173bd96801641d3a0c456314ee4ba08": {
      "model_module": "@jupyter-widgets/controls",
      "model_module_version": "1.5.0",
      "model_name": "HBoxModel",
      "state": {
       "children": [
        "IPY_MODEL_5091983c580444a8b8f8efe2d92667ca",
        "IPY_MODEL_f51a952de8f64032a1a2ff6ce6273be8"
       ],
       "layout": "IPY_MODEL_cdee0a21702d41959fac8da14625169a"
      }
     },
     "124d8713d1144bb8ad4adbf85c133e04": {
      "model_module": "@jupyter-widgets/controls",
      "model_module_version": "1.5.0",
      "model_name": "DescriptionStyleModel",
      "state": {
       "description_width": ""
      }
     },
     "125a6ed2d847455eb0bc42527c9f5bac": {
      "model_module": "@jupyter-widgets/controls",
      "model_module_version": "1.5.0",
      "model_name": "DescriptionStyleModel",
      "state": {
       "description_width": ""
      }
     },
     "12b76c038c0147fda9f414638b916c71": {
      "model_module": "@jupyter-widgets/base",
      "model_module_version": "1.2.0",
      "model_name": "LayoutModel",
      "state": {
       "width": "150px"
      }
     },
     "12d09fb2349c4f8dbf0ed13fafc1e92d": {
      "model_module": "@jupyter-widgets/controls",
      "model_module_version": "1.5.0",
      "model_name": "DescriptionStyleModel",
      "state": {
       "description_width": ""
      }
     },
     "12da39a5e1a3469881a8a1385dd34ef7": {
      "model_module": "@jupyter-widgets/base",
      "model_module_version": "1.2.0",
      "model_name": "LayoutModel",
      "state": {
       "width": "90px"
      }
     },
     "12fd3cc111d7425597952dbda589b109": {
      "model_module": "@jupyter-widgets/controls",
      "model_module_version": "1.5.0",
      "model_name": "HTMLMathModel",
      "state": {
       "layout": "IPY_MODEL_ad15cad2ab9f44f782e9e4acceca4045",
       "style": "IPY_MODEL_bde9d7aa2ce647718bb5751c08635334",
       "value": "Enter here the values of the matrix $\\bf{A}$"
      }
     },
     "131fe4477fe3459c88a0f446d80b978d": {
      "model_module": "@jupyter-widgets/controls",
      "model_module_version": "1.5.0",
      "model_name": "TextModel",
      "state": {
       "layout": "IPY_MODEL_1e007c68dda5461984bff523c716db0a",
       "style": "IPY_MODEL_7cfcd89cf05840778d9dc410f7244fe7",
       "value": "3"
      }
     },
     "133b683d0c124aa2a5172728ef69292b": {
      "model_module": "@jupyter-widgets/controls",
      "model_module_version": "1.5.0",
      "model_name": "DescriptionStyleModel",
      "state": {
       "description_width": ""
      }
     },
     "143dfe097ee042999f0068c63f78269e": {
      "model_module": "@jupyter-widgets/controls",
      "model_module_version": "1.5.0",
      "model_name": "DescriptionStyleModel",
      "state": {
       "description_width": ""
      }
     },
     "148b552ae89d46269a125fadb1cc3580": {
      "model_module": "@jupyter-widgets/controls",
      "model_module_version": "1.5.0",
      "model_name": "DescriptionStyleModel",
      "state": {
       "description_width": ""
      }
     },
     "14c666fd5f1e4869aa9b330c7c66e363": {
      "model_module": "@jupyter-widgets/controls",
      "model_module_version": "1.5.0",
      "model_name": "DescriptionStyleModel",
      "state": {
       "description_width": ""
      }
     },
     "14cba3fb83404d4399f136802f2ff733": {
      "model_module": "@jupyter-widgets/controls",
      "model_module_version": "1.5.0",
      "model_name": "DescriptionStyleModel",
      "state": {
       "description_width": ""
      }
     },
     "153e06432e4f400fbe9bbf88760f28a5": {
      "model_module": "@jupyter-widgets/controls",
      "model_module_version": "1.5.0",
      "model_name": "DescriptionStyleModel",
      "state": {
       "description_width": ""
      }
     },
     "15bf226914fc4f1ab6d4589d3e660a75": {
      "model_module": "@jupyter-widgets/controls",
      "model_module_version": "1.5.0",
      "model_name": "TextModel",
      "state": {
       "layout": "IPY_MODEL_365ba57c32664ab38fd8d83a88c4d1cb",
       "style": "IPY_MODEL_d0a1ef1ba49b4093b4f450c45b59b3da",
       "value": "1"
      }
     },
     "15c65d33e22f4a3399d0a09c3012e6ea": {
      "model_module": "@jupyter-widgets/base",
      "model_module_version": "1.2.0",
      "model_name": "LayoutModel",
      "state": {
       "width": "150px"
      }
     },
     "15c851fdf2144d33a45dd5229cfb1841": {
      "model_module": "@jupyter-widgets/controls",
      "model_module_version": "1.5.0",
      "model_name": "TextModel",
      "state": {
       "layout": "IPY_MODEL_60fba3a3410847dc8a3bad3fcd17590c",
       "style": "IPY_MODEL_1df19ce8ba5c4ae790b6840172f253c3",
       "value": "-1"
      }
     },
     "15fc81d6def24c5db28c2ad50d336f70": {
      "model_module": "@jupyter-widgets/controls",
      "model_module_version": "1.5.0",
      "model_name": "BoxModel",
      "state": {
       "children": [
        "IPY_MODEL_7db681c22cbe48a98adbeb2a41023ef0",
        "IPY_MODEL_1c36d214e0f2480ea55a9b8b8b64e7bf",
        "IPY_MODEL_81729b045ddf4f778df245035751b1c1",
        "IPY_MODEL_bd3fff6c591b4f569154c1f56a1bee81"
       ],
       "layout": "IPY_MODEL_6b0cb042ed0e4d33a5e28bb4cd370bb0"
      }
     },
     "16370a89b6a44356824cb2c60d6cbd05": {
      "model_module": "@jupyter-widgets/controls",
      "model_module_version": "1.5.0",
      "model_name": "HTMLModel",
      "state": {
       "layout": "IPY_MODEL_8778468eb1e543038b4dec8e48c762aa",
       "style": "IPY_MODEL_3b5721c40518444b93768979d160b4fb",
       "value": "Click this button to start or reset the app."
      }
     },
     "163f8c7dcecf4dfa9f5f1565b0c1ed9a": {
      "model_module": "@jupyter-widgets/controls",
      "model_module_version": "1.5.0",
      "model_name": "TextModel",
      "state": {
       "layout": "IPY_MODEL_559e088c23fd41ac878f827500212741",
       "style": "IPY_MODEL_31e26c7ccfbe42fcb52c421dcb4589d4",
       "value": "0"
      }
     },
     "165764740c384f278e83138f19ce2b3d": {
      "model_module": "@jupyter-widgets/controls",
      "model_module_version": "1.5.0",
      "model_name": "ButtonStyleModel",
      "state": {}
     },
     "165eaca49a2c4a17a775c833617a78ce": {
      "model_module": "@jupyter-widgets/controls",
      "model_module_version": "1.5.0",
      "model_name": "ButtonStyleModel",
      "state": {}
     },
     "166e1d358e054bc2adced585e0a57e02": {
      "model_module": "@jupyter-widgets/base",
      "model_module_version": "1.2.0",
      "model_name": "LayoutModel",
      "state": {
       "width": "150px"
      }
     },
     "169c6accca754ac6a9482bee937e1c38": {
      "model_module": "@jupyter-widgets/controls",
      "model_module_version": "1.5.0",
      "model_name": "TextModel",
      "state": {
       "layout": "IPY_MODEL_f7d10756bf8e446d8f8deb1712e2baa5",
       "style": "IPY_MODEL_27b68dc4251f4271b08ffa07d982631e",
       "value": "3"
      }
     },
     "16c54ac36ba043119a99fca7dcae4d6d": {
      "model_module": "@jupyter-widgets/base",
      "model_module_version": "1.2.0",
      "model_name": "LayoutModel",
      "state": {
       "width": "140px"
      }
     },
     "16c9fab7b9c54bb6a63b23b310a1e6fa": {
      "model_module": "@jupyter-widgets/controls",
      "model_module_version": "1.5.0",
      "model_name": "DescriptionStyleModel",
      "state": {
       "description_width": ""
      }
     },
     "16cbdcbe1008457fb73288136039ac95": {
      "model_module": "@jupyter-widgets/controls",
      "model_module_version": "1.5.0",
      "model_name": "BoxModel",
      "state": {
       "children": [
        "IPY_MODEL_23699cbcac2140ad91dda34d449d5cec",
        "IPY_MODEL_98fe73c218e74e70bacd69ad90548d9d",
        "IPY_MODEL_20bf275d2fa442419137c6861922751b",
        "IPY_MODEL_0d2a45df886843cc83613f87dac55438"
       ],
       "layout": "IPY_MODEL_3e763f4e0f8b4872b6daea04bc3d9797"
      }
     },
     "16d69ef960b94ac3b0037b75bfb90df9": {
      "model_module": "@jupyter-widgets/base",
      "model_module_version": "1.2.0",
      "model_name": "LayoutModel",
      "state": {
       "width": "140px"
      }
     },
     "1701cca7e6d14fb79c934c1aaf2ccd9d": {
      "model_module": "@jupyter-widgets/controls",
      "model_module_version": "1.5.0",
      "model_name": "DescriptionStyleModel",
      "state": {
       "description_width": ""
      }
     },
     "1794d50f423a499596e2004616174541": {
      "model_module": "@jupyter-widgets/base",
      "model_module_version": "1.2.0",
      "model_name": "LayoutModel",
      "state": {}
     },
     "17a3309c7aae4658adeed709a99fe017": {
      "model_module": "@jupyter-widgets/controls",
      "model_module_version": "1.5.0",
      "model_name": "TextModel",
      "state": {
       "layout": "IPY_MODEL_60fba3a3410847dc8a3bad3fcd17590c",
       "style": "IPY_MODEL_66e3efaaf6904eb89266ef365049fe7d",
       "value": "1"
      }
     },
     "17c80a9b65ba4397a8ae0602a7ab3c41": {
      "model_module": "@jupyter-widgets/controls",
      "model_module_version": "1.5.0",
      "model_name": "DescriptionStyleModel",
      "state": {
       "description_width": ""
      }
     },
     "17d2626a5ce045178085a3843f5e1814": {
      "model_module": "@jupyter-widgets/controls",
      "model_module_version": "1.5.0",
      "model_name": "GridBoxModel",
      "state": {
       "children": [
        "IPY_MODEL_9e7b0b7b7eaa4274a037d1e356026110",
        "IPY_MODEL_cb7b916326c6466baed640bb6de15310",
        "IPY_MODEL_3f27be2af78541dda5a9ec9cd483bc9a"
       ],
       "layout": "IPY_MODEL_70be9284031b4ef69bc8f8cd9ea061ad"
      }
     },
     "18083fc70cfa481f8a1c85f39d9d3552": {
      "model_module": "@jupyter-widgets/controls",
      "model_module_version": "1.5.0",
      "model_name": "DescriptionStyleModel",
      "state": {
       "description_width": ""
      }
     },
     "18100358d5304ed4891d4bdaa1675d17": {
      "model_module": "@jupyter-widgets/controls",
      "model_module_version": "1.5.0",
      "model_name": "TextModel",
      "state": {
       "layout": "IPY_MODEL_c4e9f4a8c7bf48249bb5b50320703732",
       "style": "IPY_MODEL_b0abcf4591b543f6ab8908efa355a292",
       "value": "4"
      }
     },
     "182fb8dff1174e0286351342ed05001d": {
      "model_module": "@jupyter-widgets/controls",
      "model_module_version": "1.5.0",
      "model_name": "DescriptionStyleModel",
      "state": {
       "description_width": ""
      }
     },
     "1836b5b12d814144bb56f72236fa1de0": {
      "model_module": "@jupyter-widgets/controls",
      "model_module_version": "1.5.0",
      "model_name": "HBoxModel",
      "state": {
       "children": [
        "IPY_MODEL_edc166f9d145440798618cf80bf65864",
        "IPY_MODEL_1d37c680a3234d2aba235568b3e9db5d"
       ],
       "layout": "IPY_MODEL_223570f466634c24867e3483c276c84e"
      }
     },
     "1866e7b6a0bb4b559ef9688ebd8207e6": {
      "model_module": "@jupyter-widgets/base",
      "model_module_version": "1.2.0",
      "model_name": "LayoutModel",
      "state": {
       "grid_template_columns": "repeat(1, 45px)"
      }
     },
     "18687213589d40bc9b0af9e58fe9a3d4": {
      "model_module": "@jupyter-widgets/controls",
      "model_module_version": "1.5.0",
      "model_name": "VBoxModel",
      "state": {
       "children": [
        "IPY_MODEL_2a20841edcfc4d94808f2b57f2e20add",
        "IPY_MODEL_59802643914c496ebcf728295bcab84a",
        "IPY_MODEL_60c6e7ab086b4839aa9fa85bff510451"
       ],
       "layout": "IPY_MODEL_5392883cd04a474298975cb2a08cb987"
      }
     },
     "18768d699c86435593af7fb35fbf74fe": {
      "model_module": "@jupyter-widgets/controls",
      "model_module_version": "1.5.0",
      "model_name": "DescriptionStyleModel",
      "state": {
       "description_width": ""
      }
     },
     "1887dcfef26e472d90dcd4bfa519da12": {
      "model_module": "@jupyter-widgets/controls",
      "model_module_version": "1.5.0",
      "model_name": "HTMLMathModel",
      "state": {
       "layout": "IPY_MODEL_3183bc4f7a2249689b5ce0ba4e18e7c2",
       "style": "IPY_MODEL_b7346f41588b4738a6a8254e480e5bca",
       "value": "$$ \\mathbf{A} = \\left[  \n      \\begin{array}{rrr}\n          1 & 1 & -1\\\\\n          3 & 1 & 1\\\\\n          1 & -1 & 4\n      \\end{array}\n      , \\right] \\quad \\color{blue}{\\mathbf{B} = \\left[ \n    \\begin{array}{r}\n        3 \\\\\n        9 \\\\\n        8 \n    \\end{array}\n    \\right]}$$<br>with $\\det A =-2$."
      }
     },
     "18a8e6450fdf4bd5a28dfb2d7ca97fb5": {
      "model_module": "@jupyter-widgets/controls",
      "model_module_version": "1.5.0",
      "model_name": "HTMLMathModel",
      "state": {
       "layout": "IPY_MODEL_08f049f2492d40af8c78dc9be06b332e",
       "style": "IPY_MODEL_2060b513ec6147fbbab76a4808fc9242",
       "value": "$$ \\det A = \\left| \n      \\begin{array}{rrr}\n          1 & 1 & -1\\\\\n          3 & 1 & 1\\\\\n          1 & -1 & 4\n      \\end{array}\n      \\right| = -2$$ <br>$$ \\det A_1 = \\left| \n      \\begin{array}{rrr}\n          \\color{blue}{ 3 } & 1 & -1\\\\\n          \\color{blue}{ 9 } & 1 & 1\\\\\n          \\color{blue}{ 8 } & -1 & 4\n      \\end{array}\n      \\right| = 4$$ <br>$$ x_{ 1 } =\\frac{ \\det A_1}{\\det A} = \\frac{ 4 }{ -2 } = -2$$"
      }
     },
     "18c8bec569704e89824cd05d1d27c5a3": {
      "model_module": "@jupyter-widgets/controls",
      "model_module_version": "1.5.0",
      "model_name": "HTMLModel",
      "state": {
       "layout": "IPY_MODEL_2b4b1066ee2a4d1e8f5ec75ef04498e1",
       "style": "IPY_MODEL_39a7fe016bb245129c0fc88614dac12a",
       "value": "Click this button to start or reset the app."
      }
     },
     "18d941fb98154764943576de68cac9ee": {
      "model_module": "@jupyter-widgets/base",
      "model_module_version": "1.2.0",
      "model_name": "LayoutModel",
      "state": {
       "flex_flow": "row wrap",
       "justify_content": "space-around"
      }
     },
     "18ef01f3594b4f7d83ec6a8101e8fad5": {
      "model_module": "@jupyter-widgets/controls",
      "model_module_version": "1.5.0",
      "model_name": "HTMLMathModel",
      "state": {
       "layout": "IPY_MODEL_693e0f524a9743148503afd0dcc0569d",
       "style": "IPY_MODEL_be6e51570696421fa6a65a7b4ebc3c9e",
       "value": "$$ \\mathbf{A} = \\left[  \n      \\begin{array}{rrr}\n          1 & 1 & -1\\\\\n          3 & 1 & 1\\\\\n          1 & -1 & 4\n      \\end{array}\n      , \\right] \\quad \\color{blue}{\\mathbf{B} = \\left[ \n    \\begin{array}{r}\n        3 \\\\\n        9 \\\\\n        8 \n    \\end{array}\n    \\right]}$$<br>with $\\det A =-2$."
      }
     },
     "18fa97d9e9ff4f0c90fac86c358a49ce": {
      "model_module": "@jupyter-widgets/controls",
      "model_module_version": "1.5.0",
      "model_name": "DropdownModel",
      "state": {
       "_options_labels": [
        "x₁",
        "x₂",
        "x₃"
       ],
       "description": "Variable:",
       "index": 0,
       "layout": "IPY_MODEL_15c65d33e22f4a3399d0a09c3012e6ea",
       "style": "IPY_MODEL_ec1f3fc9765445e081f9b7205cb64f1d"
      }
     },
     "191b54a249644b0cb46aa7ebf5390fab": {
      "model_module": "@jupyter-widgets/controls",
      "model_module_version": "1.5.0",
      "model_name": "DescriptionStyleModel",
      "state": {
       "description_width": ""
      }
     },
     "197ec2f18c544349b10d1e4566769d6b": {
      "model_module": "@jupyter-widgets/base",
      "model_module_version": "1.2.0",
      "model_name": "LayoutModel",
      "state": {
       "flex_flow": "row wrap",
       "justify_content": "space-around"
      }
     },
     "1991ff420db04e3ea50ef7d43ce4495e": {
      "model_module": "@jupyter-widgets/controls",
      "model_module_version": "1.5.0",
      "model_name": "GridBoxModel",
      "state": {
       "children": [
        "IPY_MODEL_27dc2dd3eb2e43b0a65913db985c1cfb",
        "IPY_MODEL_7a05daa4dbbe49e69d7d6b0a08502deb",
        "IPY_MODEL_dfc7a9a899e44ef5b11f7e00429806f7"
       ],
       "layout": "IPY_MODEL_b488de22b394428f9eafe703e20e39db"
      }
     },
     "199e9208e4914223b2740c2263dcb15e": {
      "model_module": "@jupyter-widgets/base",
      "model_module_version": "1.2.0",
      "model_name": "LayoutModel",
      "state": {
       "grid_template_columns": "repeat(3, 45px)"
      }
     },
     "19bde04076974e87811201a7ab638afa": {
      "model_module": "@jupyter-widgets/base",
      "model_module_version": "1.2.0",
      "model_name": "LayoutModel",
      "state": {
       "height": "120px",
       "width": "250px"
      }
     },
     "19e24746c61c493d8b8ac02e51b7ec25": {
      "model_module": "@jupyter-widgets/controls",
      "model_module_version": "1.5.0",
      "model_name": "DescriptionStyleModel",
      "state": {
       "description_width": ""
      }
     },
     "1a9ccb81bd2047898076f8419b62880d": {
      "model_module": "@jupyter-widgets/base",
      "model_module_version": "1.2.0",
      "model_name": "LayoutModel",
      "state": {
       "width": "90px"
      }
     },
     "1b4268dc18d44be4a61907d01d27c8b5": {
      "model_module": "@jupyter-widgets/base",
      "model_module_version": "1.2.0",
      "model_name": "LayoutModel",
      "state": {
       "width": "150px"
      }
     },
     "1b99698a62174129b211fd686c634529": {
      "model_module": "@jupyter-widgets/base",
      "model_module_version": "1.2.0",
      "model_name": "LayoutModel",
      "state": {}
     },
     "1bc492b1310b4441b328689291fcfad4": {
      "model_module": "@jupyter-widgets/controls",
      "model_module_version": "1.5.0",
      "model_name": "HTMLMathModel",
      "state": {
       "layout": "IPY_MODEL_ccc573f268fa414a81b5ab77ad01aaf6",
       "style": "IPY_MODEL_4bf8f674d625407591baa481c1423054",
       "value": "$$ \\mathbf{A} = \\left[  \n      \\begin{array}{rrr}\n          1 & 1 & -1\\\\\n          3 & 1 & 1\\\\\n          1 & -1 & 4\n      \\end{array}\n      , \\right] \\quad \\color{blue}{\\mathbf{B} = \\left[ \n    \\begin{array}{r}\n        3 \\\\\n        9 \\\\\n        8 \n    \\end{array}\n    \\right]}$$<br>with $\\det A =-2$."
      }
     },
     "1bd2aa7ce16547f19dc175a8e8b5a525": {
      "model_module": "@jupyter-widgets/base",
      "model_module_version": "1.2.0",
      "model_name": "LayoutModel",
      "state": {}
     },
     "1c36d214e0f2480ea55a9b8b8b64e7bf": {
      "model_module": "@jupyter-widgets/controls",
      "model_module_version": "1.5.0",
      "model_name": "HBoxModel",
      "state": {
       "children": [
        "IPY_MODEL_9b7e1abce7b54ca8baf83e2f38cb1511",
        "IPY_MODEL_dd81138c47c64782b7fd5a43f8fdb348"
       ],
       "layout": "IPY_MODEL_020ab8198e8c4923af0925613035a32d"
      }
     },
     "1c3dc41ec3fd4867ada5a84ea0cf9693": {
      "model_module": "@jupyter-widgets/controls",
      "model_module_version": "1.5.0",
      "model_name": "TextModel",
      "state": {
       "layout": "IPY_MODEL_5064eb8b796f469bb47ced8ec32aba1e",
       "style": "IPY_MODEL_67880a7c346a46eeb7fed90d1f0140c7",
       "value": "4"
      }
     },
     "1d0b41e7b57e4431ab783eeccd3a9bd1": {
      "model_module": "@jupyter-widgets/controls",
      "model_module_version": "1.5.0",
      "model_name": "TextModel",
      "state": {
       "layout": "IPY_MODEL_7d582068d7aa41488a3ed889fd050d18",
       "style": "IPY_MODEL_70bfd434087049fe870217039796f2c4",
       "value": "1"
      }
     },
     "1d29587561aa414492ecd0802dac4fde": {
      "model_module": "@jupyter-widgets/controls",
      "model_module_version": "1.5.0",
      "model_name": "TextModel",
      "state": {
       "layout": "IPY_MODEL_c4e9f4a8c7bf48249bb5b50320703732",
       "style": "IPY_MODEL_55aef82009404c4facb5469dcd48f79d",
       "value": "1"
      }
     },
     "1d37c680a3234d2aba235568b3e9db5d": {
      "model_module": "@jupyter-widgets/controls",
      "model_module_version": "1.5.0",
      "model_name": "GridBoxModel",
      "state": {
       "children": [
        "IPY_MODEL_975deacc52424f55a59d68f91f821e40",
        "IPY_MODEL_be312648d31b4b648fcfb39235e90b13",
        "IPY_MODEL_d66e94f6fa684bb49554665d1d85adc1",
        "IPY_MODEL_a705c1b26f3341a4b90d5b961e27b060",
        "IPY_MODEL_e3601bccff37433582f7cba0933f48bd",
        "IPY_MODEL_d5a46cb7e37f43079f90ce04f64514c8",
        "IPY_MODEL_0c32a1edb7e240108b5ca72895bd2701",
        "IPY_MODEL_3341cc9699af4c76ba4ab154abc1cc4f",
        "IPY_MODEL_bf106810ef864696bb8e8cc40fb21115"
       ],
       "layout": "IPY_MODEL_199e9208e4914223b2740c2263dcb15e"
      }
     },
     "1d5c7507142d474398a020f032bcb342": {
      "model_module": "@jupyter-widgets/base",
      "model_module_version": "1.2.0",
      "model_name": "LayoutModel",
      "state": {}
     },
     "1d6150759abd45c98900f561f4817e8c": {
      "model_module": "@jupyter-widgets/controls",
      "model_module_version": "1.5.0",
      "model_name": "DescriptionStyleModel",
      "state": {
       "description_width": ""
      }
     },
     "1d9a04a627994c1083b7f9a4560b00dc": {
      "model_module": "@jupyter-widgets/controls",
      "model_module_version": "1.5.0",
      "model_name": "ButtonStyleModel",
      "state": {}
     },
     "1df19ce8ba5c4ae790b6840172f253c3": {
      "model_module": "@jupyter-widgets/controls",
      "model_module_version": "1.5.0",
      "model_name": "DescriptionStyleModel",
      "state": {
       "description_width": ""
      }
     },
     "1dfb276415ce4c3993f75f75fc1724f6": {
      "model_module": "@jupyter-widgets/controls",
      "model_module_version": "1.5.0",
      "model_name": "VBoxModel",
      "state": {
       "children": [
        "IPY_MODEL_9d6d1663191f48c58b91ae5fc4337feb",
        "IPY_MODEL_3e4af1da7051439580e6dc83895ec8b8"
       ],
       "layout": "IPY_MODEL_641bed9369ef47f895221a8a31cc6f57"
      }
     },
     "1e007c68dda5461984bff523c716db0a": {
      "model_module": "@jupyter-widgets/base",
      "model_module_version": "1.2.0",
      "model_name": "LayoutModel",
      "state": {
       "height": "35px",
       "width": "40px"
      }
     },
     "1e538c93edd941dbbe0f59923e230e6f": {
      "model_module": "@jupyter-widgets/controls",
      "model_module_version": "1.5.0",
      "model_name": "HTMLMathModel",
      "state": {
       "layout": "IPY_MODEL_a96a89c02efb4c17b52c54d64df8dd59",
       "style": "IPY_MODEL_b84f9570116d4ea8a385318cf0cc97e8",
       "value": "Enter here the values of the constant matrix $\\bf{B}$"
      }
     },
     "1e86a271b0a74ed49c06a1350b87addd": {
      "model_module": "@jupyter-widgets/base",
      "model_module_version": "1.2.0",
      "model_name": "LayoutModel",
      "state": {}
     },
     "1eac90272e7845e89b07dbfa1e08d791": {
      "model_module": "@jupyter-widgets/base",
      "model_module_version": "1.2.0",
      "model_name": "LayoutModel",
      "state": {}
     },
     "1ec6552c70354c56ba2621ad37f7f497": {
      "model_module": "@jupyter-widgets/base",
      "model_module_version": "1.2.0",
      "model_name": "LayoutModel",
      "state": {
       "flex_flow": "row wrap",
       "justify_content": "space-around"
      }
     },
     "1f548b7fa2ea42f9a80f15327daceec9": {
      "model_module": "@jupyter-widgets/base",
      "model_module_version": "1.2.0",
      "model_name": "LayoutModel",
      "state": {
       "height": "120px",
       "width": "150px"
      }
     },
     "1f96967aaee947e68c51acc9b7fa3901": {
      "model_module": "@jupyter-widgets/controls",
      "model_module_version": "1.5.0",
      "model_name": "ButtonStyleModel",
      "state": {}
     },
     "1fb06acbfeaf4c78b84b6a86b6d8cb7b": {
      "model_module": "@jupyter-widgets/base",
      "model_module_version": "1.2.0",
      "model_name": "LayoutModel",
      "state": {}
     },
     "1feccfb1c568483998ea09255aa2015a": {
      "model_module": "@jupyter-widgets/base",
      "model_module_version": "1.2.0",
      "model_name": "LayoutModel",
      "state": {
       "grid_template_columns": "repeat(1, 45px)"
      }
     },
     "1ff16783a154496996d9b676d8844f28": {
      "model_module": "@jupyter-widgets/controls",
      "model_module_version": "1.5.0",
      "model_name": "ButtonModel",
      "state": {
       "description": "Solve",
       "layout": "IPY_MODEL_e4d5f9de23d4402d8a66aac7d240fdca",
       "style": "IPY_MODEL_165eaca49a2c4a17a775c833617a78ce"
      }
     },
     "2060b513ec6147fbbab76a4808fc9242": {
      "model_module": "@jupyter-widgets/controls",
      "model_module_version": "1.5.0",
      "model_name": "DescriptionStyleModel",
      "state": {
       "description_width": ""
      }
     },
     "2087e3a840374acf90901f89d3eb5250": {
      "model_module": "@jupyter-widgets/controls",
      "model_module_version": "1.5.0",
      "model_name": "DescriptionStyleModel",
      "state": {
       "description_width": ""
      }
     },
     "2099c3cea5784f59a11efea4464c6fc3": {
      "model_module": "@jupyter-widgets/controls",
      "model_module_version": "1.5.0",
      "model_name": "TextModel",
      "state": {
       "layout": "IPY_MODEL_1e007c68dda5461984bff523c716db0a",
       "style": "IPY_MODEL_ea40ecc77b454874b4ab5458d06d63c7",
       "value": "1"
      }
     },
     "20bf275d2fa442419137c6861922751b": {
      "model_module": "@jupyter-widgets/controls",
      "model_module_version": "1.5.0",
      "model_name": "VBoxModel",
      "state": {
       "children": [
        "IPY_MODEL_9d0dd25be9a044289c9739ff1bb0ad2c",
        "IPY_MODEL_ed3e28e0bf0b4a4aa59030d6cd6ec39b"
       ],
       "layout": "IPY_MODEL_b1a8efba6f744da6a1d19450c722a722"
      }
     },
     "21083f81c53742828c6c53985ed0f050": {
      "model_module": "@jupyter-widgets/controls",
      "model_module_version": "1.5.0",
      "model_name": "HTMLModel",
      "state": {
       "layout": "IPY_MODEL_c8b7b4c49b4647b38a0271bad3085e29",
       "style": "IPY_MODEL_df3a3f5fb1d946e892166a563d9d790f",
       "value": "Click this button to start or reset the app."
      }
     },
     "212552e9700745be989a25d5f443a750": {
      "model_module": "@jupyter-widgets/base",
      "model_module_version": "1.2.0",
      "model_name": "LayoutModel",
      "state": {
       "flex_flow": "row wrap",
       "justify_content": "space-around"
      }
     },
     "21d7adf3369649b4923093a1e345a6f2": {
      "model_module": "@jupyter-widgets/base",
      "model_module_version": "1.2.0",
      "model_name": "LayoutModel",
      "state": {
       "width": "140px"
      }
     },
     "22043dc568b34921a539b98128c38d33": {
      "model_module": "@jupyter-widgets/controls",
      "model_module_version": "1.5.0",
      "model_name": "GridBoxModel",
      "state": {
       "children": [
        "IPY_MODEL_9d59e60cbb6848b48a22644747e0c210",
        "IPY_MODEL_7df9cc1c8d48454d8b667ebf42615ea7",
        "IPY_MODEL_b070e8e72fa14e06aeaa958afefe92dc"
       ],
       "layout": "IPY_MODEL_de2fff4ce2f1436aa2342e88b9983ebf"
      }
     },
     "220dbd925a01466489dd11b6120f7b34": {
      "model_module": "@jupyter-widgets/controls",
      "model_module_version": "1.5.0",
      "model_name": "DropdownModel",
      "state": {
       "_options_labels": [
        "x₁",
        "x₂",
        "x₃"
       ],
       "description": "Variable:",
       "index": 0,
       "layout": "IPY_MODEL_b57449bfa3ab44ec9820658446a62aa8",
       "style": "IPY_MODEL_87e19f9cdb054c019eff6cc964acce75"
      }
     },
     "223570f466634c24867e3483c276c84e": {
      "model_module": "@jupyter-widgets/base",
      "model_module_version": "1.2.0",
      "model_name": "LayoutModel",
      "state": {
       "height": "120px",
       "width": "250px"
      }
     },
     "22484b3e0ce64752a33e9d3c2c4014cf": {
      "model_module": "@jupyter-widgets/controls",
      "model_module_version": "1.5.0",
      "model_name": "DescriptionStyleModel",
      "state": {
       "description_width": ""
      }
     },
     "229937fbe2ed4e6888a5c7f6a3d84568": {
      "model_module": "@jupyter-widgets/controls",
      "model_module_version": "1.5.0",
      "model_name": "TextModel",
      "state": {
       "layout": "IPY_MODEL_5064eb8b796f469bb47ced8ec32aba1e",
       "style": "IPY_MODEL_2ffe1db7ed0642e29d948645729553b5",
       "value": "3"
      }
     },
     "22bc0bdb0749411e81a68e8320ff3254": {
      "model_module": "@jupyter-widgets/controls",
      "model_module_version": "1.5.0",
      "model_name": "HBoxModel",
      "state": {
       "children": [
        "IPY_MODEL_6f85f4f9bdd749aead96ce8ade560d21",
        "IPY_MODEL_e9d0277a5f03456986863add85c43593"
       ],
       "layout": "IPY_MODEL_e819a7b2525a41ae89c200a2fd12b39a"
      }
     },
     "22c2ef4b35e94b1c883079ad0843b098": {
      "model_module": "@jupyter-widgets/controls",
      "model_module_version": "1.5.0",
      "model_name": "DescriptionStyleModel",
      "state": {
       "description_width": ""
      }
     },
     "22e6d7ea454244c38676ec6f4d13df26": {
      "model_module": "@jupyter-widgets/controls",
      "model_module_version": "1.5.0",
      "model_name": "ButtonStyleModel",
      "state": {}
     },
     "234089e579e241298ce6531f2a1192d9": {
      "model_module": "@jupyter-widgets/controls",
      "model_module_version": "1.5.0",
      "model_name": "DescriptionStyleModel",
      "state": {
       "description_width": ""
      }
     },
     "23699cbcac2140ad91dda34d449d5cec": {
      "model_module": "@jupyter-widgets/controls",
      "model_module_version": "1.5.0",
      "model_name": "HBoxModel",
      "state": {
       "children": [
        "IPY_MODEL_d0554b854161489f94a53e6dbd68fb45",
        "IPY_MODEL_942876bf5426456cbce789717127ca89"
       ],
       "layout": "IPY_MODEL_fd3430e2355249c5b0d8d40d16c05198"
      }
     },
     "236b356eba4244ebbbf158f509040b4a": {
      "model_module": "@jupyter-widgets/controls",
      "model_module_version": "1.5.0",
      "model_name": "DescriptionStyleModel",
      "state": {
       "description_width": ""
      }
     },
     "2380c9795ebf4b699241f4ea00e44600": {
      "model_module": "@jupyter-widgets/base",
      "model_module_version": "1.2.0",
      "model_name": "LayoutModel",
      "state": {
       "grid_template_columns": "repeat(3, 45px)"
      }
     },
     "238535908317476b8a8fe0c0da73b6c5": {
      "model_module": "@jupyter-widgets/controls",
      "model_module_version": "1.5.0",
      "model_name": "HBoxModel",
      "state": {
       "children": [
        "IPY_MODEL_5d04eba6172b4238ba57ee4e002208eb",
        "IPY_MODEL_8a0a61b451f14bed8602f300f33ad94b"
       ],
       "layout": "IPY_MODEL_2daea8bf8e854e14ae77819c681ee9ce"
      }
     },
     "23a9d5cbd05b465697744a949e56e92e": {
      "model_module": "@jupyter-widgets/controls",
      "model_module_version": "1.5.0",
      "model_name": "DescriptionStyleModel",
      "state": {
       "description_width": ""
      }
     },
     "23acb76a00e64de3985ab4c212845f63": {
      "model_module": "@jupyter-widgets/controls",
      "model_module_version": "1.5.0",
      "model_name": "DescriptionStyleModel",
      "state": {
       "description_width": ""
      }
     },
     "23e64b058a7d487ba25e59ff213370f3": {
      "model_module": "@jupyter-widgets/controls",
      "model_module_version": "1.5.0",
      "model_name": "GridBoxModel",
      "state": {
       "children": [
        "IPY_MODEL_3f7b2e03062d475798d2bf06a82dea56",
        "IPY_MODEL_b1f149572d744eaaae61ea2d3ee89805",
        "IPY_MODEL_9d937a72e3c24d14b5bffc45d5c47db7"
       ],
       "layout": "IPY_MODEL_530cfdd26f0748289b69507965f5f976"
      }
     },
     "23f07b812a9943938e92cc2964b1a8da": {
      "model_module": "@jupyter-widgets/controls",
      "model_module_version": "1.5.0",
      "model_name": "TextModel",
      "state": {
       "layout": "IPY_MODEL_1e007c68dda5461984bff523c716db0a",
       "style": "IPY_MODEL_607bcb25cb1a485a9ce7d042e9098f96",
       "value": "9"
      }
     },
     "242a56a804074c1d852574ddfdcfc5e7": {
      "model_module": "@jupyter-widgets/controls",
      "model_module_version": "1.5.0",
      "model_name": "TextModel",
      "state": {
       "layout": "IPY_MODEL_8233178bdcdc4cc5a36e758a2579d1fc",
       "style": "IPY_MODEL_e95ea0d1a64d461082dc6511918836f7",
       "value": "3"
      }
     },
     "250b7d8069074ba6b6ee1fedd94b0a0a": {
      "model_module": "@jupyter-widgets/base",
      "model_module_version": "1.2.0",
      "model_name": "LayoutModel",
      "state": {}
     },
     "253a9489a64f4ec2b15377293151083e": {
      "model_module": "@jupyter-widgets/controls",
      "model_module_version": "1.5.0",
      "model_name": "VBoxModel",
      "state": {
       "children": [
        "IPY_MODEL_fc8a8de401b94509b45c2033a94ec045",
        "IPY_MODEL_b4db9b8f9d3e4eb7bd55aa5b33ce0d4b",
        "IPY_MODEL_776195f037894b3ca8c826ad374087f3"
       ],
       "layout": "IPY_MODEL_71f38cc1a7ca4e0b9fc9f8b6f7d78f52"
      }
     },
     "2554d404d80c470ab55a12a3fa83150a": {
      "model_module": "@jupyter-widgets/controls",
      "model_module_version": "1.5.0",
      "model_name": "DescriptionStyleModel",
      "state": {
       "description_width": ""
      }
     },
     "25ce598a291b4404b371a576ed48c9b1": {
      "model_module": "@jupyter-widgets/controls",
      "model_module_version": "1.5.0",
      "model_name": "DescriptionStyleModel",
      "state": {
       "description_width": ""
      }
     },
     "262c3927d9cb41d4858f6c437614015d": {
      "model_module": "@jupyter-widgets/base",
      "model_module_version": "1.2.0",
      "model_name": "LayoutModel",
      "state": {
       "height": "120px",
       "justify_content": "center",
       "width": "300px"
      }
     },
     "265ffc3e2d1b46d7bd5a4c5f4ac880d5": {
      "model_module": "@jupyter-widgets/controls",
      "model_module_version": "1.5.0",
      "model_name": "TextModel",
      "state": {
       "layout": "IPY_MODEL_f10e93f25a7549fb8fcf6aa01db5a79e",
       "style": "IPY_MODEL_23acb76a00e64de3985ab4c212845f63",
       "value": "1"
      }
     },
     "267cf0d13a6045bfb4faf66c75043f98": {
      "model_module": "@jupyter-widgets/controls",
      "model_module_version": "1.5.0",
      "model_name": "ButtonStyleModel",
      "state": {}
     },
     "26fce033498446869d5609219d92c323": {
      "model_module": "@jupyter-widgets/controls",
      "model_module_version": "1.5.0",
      "model_name": "TextModel",
      "state": {
       "layout": "IPY_MODEL_c4e9f4a8c7bf48249bb5b50320703732",
       "style": "IPY_MODEL_4529ba07fd72463da257e0bd479173d8",
       "value": "3"
      }
     },
     "27931472d1194e5780d2f6a56e9c4624": {
      "model_module": "@jupyter-widgets/controls",
      "model_module_version": "1.5.0",
      "model_name": "TextModel",
      "state": {
       "layout": "IPY_MODEL_7998cf86679645c9bf9a645c93e463c8",
       "style": "IPY_MODEL_d585b02118334e90a70bf129c0f3890b",
       "value": "3"
      }
     },
     "279fb50bafe9452c923244cd28138147": {
      "model_module": "@jupyter-widgets/controls",
      "model_module_version": "1.5.0",
      "model_name": "DescriptionStyleModel",
      "state": {
       "description_width": ""
      }
     },
     "27abaa6162fe49dda22fec69a8ac229e": {
      "model_module": "@jupyter-widgets/controls",
      "model_module_version": "1.5.0",
      "model_name": "HTMLModel",
      "state": {
       "layout": "IPY_MODEL_bbcbf53ff786407aa79c3cf09b215dc0",
       "style": "IPY_MODEL_a6e8589fbb8141a4ba7c7fd764f7306d",
       "value": "Choose a variable to solve for."
      }
     },
     "27b68dc4251f4271b08ffa07d982631e": {
      "model_module": "@jupyter-widgets/controls",
      "model_module_version": "1.5.0",
      "model_name": "DescriptionStyleModel",
      "state": {
       "description_width": ""
      }
     },
     "27dc2dd3eb2e43b0a65913db985c1cfb": {
      "model_module": "@jupyter-widgets/controls",
      "model_module_version": "1.5.0",
      "model_name": "TextModel",
      "state": {
       "layout": "IPY_MODEL_60fba3a3410847dc8a3bad3fcd17590c",
       "style": "IPY_MODEL_0679ce5e19f44a0f9e064586f0e5a5b3",
       "value": "3"
      }
     },
     "280ede00f90c46a6bfa2fd6a28785cc3": {
      "model_module": "@jupyter-widgets/controls",
      "model_module_version": "1.5.0",
      "model_name": "HTMLMathModel",
      "state": {
       "layout": "IPY_MODEL_262c3927d9cb41d4858f6c437614015d",
       "style": "IPY_MODEL_73df9da702954b25b66599e116978853",
       "value": "$$ \\mathbf{A} = \\left[  \n      \\begin{array}{rrr}\n          1 & 1 & -1\\\\\n          3 & 1 & 1\\\\\n          1 & -1 & 4\n      \\end{array}\n      , \\right] \\quad \\color{blue}{\\mathbf{B} = \\left[ \n    \\begin{array}{r}\n        3 \\\\\n        9 \\\\\n        8 \n    \\end{array}\n    \\right]}$$<br>with $\\det A =-2$."
      }
     },
     "28432ff1c071403ebb5bd2841c88129a": {
      "model_module": "@jupyter-widgets/controls",
      "model_module_version": "1.5.0",
      "model_name": "BoxModel",
      "state": {
       "children": [
        "IPY_MODEL_ebe9e031a64241c8bfe8c3e64676a94e",
        "IPY_MODEL_2f24871d69c04de0a5f69c75edf127ff",
        "IPY_MODEL_2ab748681265481bbb1d2e2fa6d80919",
        "IPY_MODEL_cb10a353ef4d4d039810c15f9b85ac89"
       ],
       "layout": "IPY_MODEL_013cb350e4754787ab617b5a90ec9f99"
      }
     },
     "287bbd6ce6494772b3da4e5a3ca7f03e": {
      "model_module": "@jupyter-widgets/controls",
      "model_module_version": "1.5.0",
      "model_name": "DescriptionStyleModel",
      "state": {
       "description_width": ""
      }
     },
     "28d7b1cbdb3246db8d852cd7e47ac786": {
      "model_module": "@jupyter-widgets/base",
      "model_module_version": "1.2.0",
      "model_name": "LayoutModel",
      "state": {}
     },
     "291db00c0059481c97a1fad4799f726b": {
      "model_module": "@jupyter-widgets/controls",
      "model_module_version": "1.5.0",
      "model_name": "DescriptionStyleModel",
      "state": {
       "description_width": ""
      }
     },
     "292e318376204411aec9561b91d4f2fd": {
      "model_module": "@jupyter-widgets/controls",
      "model_module_version": "1.5.0",
      "model_name": "VBoxModel",
      "state": {
       "children": [
        "IPY_MODEL_56fbdf82e9dc42c88bdec2dd60885252",
        "IPY_MODEL_3387e54d956f4aeda1b53bbe408079af",
        "IPY_MODEL_2c2f1d75caa544e1a144440828a7beef"
       ],
       "layout": "IPY_MODEL_33f6d16cf6cc4cd2b500ba8adf2c48e0"
      }
     },
     "294a41e480374be8a3af9a748df9b249": {
      "model_module": "@jupyter-widgets/controls",
      "model_module_version": "1.5.0",
      "model_name": "TextModel",
      "state": {
       "layout": "IPY_MODEL_d7967788413544aa83e6234d99bfcfaf",
       "style": "IPY_MODEL_100a20929b6e42099556456b390dd69b",
       "value": "3"
      }
     },
     "29dd95ef49e84dac965f80bbc3c03a41": {
      "model_module": "@jupyter-widgets/controls",
      "model_module_version": "1.5.0",
      "model_name": "TextModel",
      "state": {
       "layout": "IPY_MODEL_56b7235de6f34f8ea7f7ee90eec44abc",
       "style": "IPY_MODEL_d573d198483a4399ac0754825d8b0060",
       "value": "1"
      }
     },
     "29fc5c4b9e284b42817a39460777c4f9": {
      "model_module": "@jupyter-widgets/controls",
      "model_module_version": "1.5.0",
      "model_name": "DescriptionStyleModel",
      "state": {
       "description_width": ""
      }
     },
     "2a20841edcfc4d94808f2b57f2e20add": {
      "model_module": "@jupyter-widgets/controls",
      "model_module_version": "1.5.0",
      "model_name": "HTMLModel",
      "state": {
       "layout": "IPY_MODEL_b707f23029d7448d877738ad02639028",
       "style": "IPY_MODEL_ff4666c8813048ee9dc62c714b752e13",
       "value": "Choose a variable to solve for."
      }
     },
     "2a2ac16fe71b43cab3b48b0b5b3ff1f5": {
      "model_module": "@jupyter-widgets/controls",
      "model_module_version": "1.5.0",
      "model_name": "DescriptionStyleModel",
      "state": {
       "description_width": ""
      }
     },
     "2a305a2405c34ef6817c5ca9251e04c9": {
      "model_module": "@jupyter-widgets/controls",
      "model_module_version": "1.5.0",
      "model_name": "TextModel",
      "state": {
       "layout": "IPY_MODEL_365ba57c32664ab38fd8d83a88c4d1cb",
       "style": "IPY_MODEL_94ac8441e28c465d97dc1844bf1109b1",
       "value": "3"
      }
     },
     "2a4a6e6a74dd4c518ec851463dcf6e0f": {
      "model_module": "@jupyter-widgets/base",
      "model_module_version": "1.2.0",
      "model_name": "LayoutModel",
      "state": {
       "height": "120px",
       "justify_content": "center",
       "width": "400px"
      }
     },
     "2a7fa78840a14a699c069050e4a9eeda": {
      "model_module": "@jupyter-widgets/base",
      "model_module_version": "1.2.0",
      "model_name": "LayoutModel",
      "state": {}
     },
     "2a9acd61500d4d2e906f625dddd104f2": {
      "model_module": "@jupyter-widgets/controls",
      "model_module_version": "1.5.0",
      "model_name": "TextModel",
      "state": {
       "layout": "IPY_MODEL_f7d10756bf8e446d8f8deb1712e2baa5",
       "style": "IPY_MODEL_ac8e817637e6415eb3a9472f7145668f",
       "value": "8"
      }
     },
     "2ab748681265481bbb1d2e2fa6d80919": {
      "model_module": "@jupyter-widgets/controls",
      "model_module_version": "1.5.0",
      "model_name": "VBoxModel",
      "state": {
       "children": [
        "IPY_MODEL_df73f7fb6beb40a1bc9a50f6ada23b71",
        "IPY_MODEL_e3a6fb1367e74b3192ae2dbb76ae0e48"
       ],
       "layout": "IPY_MODEL_c51126265e1348139af81527c9f1f3d7"
      }
     },
     "2b4b1066ee2a4d1e8f5ec75ef04498e1": {
      "model_module": "@jupyter-widgets/base",
      "model_module_version": "1.2.0",
      "model_name": "LayoutModel",
      "state": {
       "width": "140px"
      }
     },
     "2b505704e21545e4b7d2ac7c79181e1c": {
      "model_module": "@jupyter-widgets/base",
      "model_module_version": "1.2.0",
      "model_name": "LayoutModel",
      "state": {}
     },
     "2b79d35e3d0e462198e107b4266febc9": {
      "model_module": "@jupyter-widgets/base",
      "model_module_version": "1.2.0",
      "model_name": "LayoutModel",
      "state": {
       "width": "140px"
      }
     },
     "2ba78ea1a40543d389859c92a4cfe282": {
      "model_module": "@jupyter-widgets/controls",
      "model_module_version": "1.5.0",
      "model_name": "HBoxModel",
      "state": {
       "children": [
        "IPY_MODEL_17d2626a5ce045178085a3843f5e1814",
        "IPY_MODEL_5514dc6b2b4b4b24966a3859524340c7"
       ],
       "layout": "IPY_MODEL_9cc383b681544e2e84c85121dcc104b5"
      }
     },
     "2bb8779436e54a3d853c10be43abbd19": {
      "model_module": "@jupyter-widgets/controls",
      "model_module_version": "1.5.0",
      "model_name": "DescriptionStyleModel",
      "state": {
       "description_width": ""
      }
     },
     "2c0cfb8a3cf84180925b8ae65a4bf6d5": {
      "model_module": "@jupyter-widgets/controls",
      "model_module_version": "1.5.0",
      "model_name": "DescriptionStyleModel",
      "state": {
       "description_width": ""
      }
     },
     "2c2f1d75caa544e1a144440828a7beef": {
      "model_module": "@jupyter-widgets/controls",
      "model_module_version": "1.5.0",
      "model_name": "ButtonModel",
      "state": {
       "description": "Solve",
       "layout": "IPY_MODEL_4bd7f09c8f6043a498e0017337abc470",
       "style": "IPY_MODEL_09014203e4104304942ac3a6eda5b1da"
      }
     },
     "2c3fa02dd7444518b799859e1d057613": {
      "model_module": "@jupyter-widgets/controls",
      "model_module_version": "1.5.0",
      "model_name": "HTMLMathModel",
      "state": {
       "layout": "IPY_MODEL_e0cc99a256f24691bb98f30ca6257b6b",
       "style": "IPY_MODEL_6504ad466f5b47bd9a2dac27a617df3b",
       "value": "Enter here the values of the constant matrix $\\bf{B}$"
      }
     },
     "2c4e08862f16408cb1db52b8edd28b93": {
      "model_module": "@jupyter-widgets/base",
      "model_module_version": "1.2.0",
      "model_name": "LayoutModel",
      "state": {
       "grid_template_columns": "repeat(3, 45px)"
      }
     },
     "2cb3abd16f6443edbe6d7e31fe77f064": {
      "model_module": "@jupyter-widgets/controls",
      "model_module_version": "1.5.0",
      "model_name": "TextModel",
      "state": {
       "layout": "IPY_MODEL_852e11ecf67743b9b3d1ddb8b98182be",
       "style": "IPY_MODEL_18083fc70cfa481f8a1c85f39d9d3552",
       "value": "1"
      }
     },
     "2cc1de84c853467fa8f996d54d143e03": {
      "model_module": "@jupyter-widgets/controls",
      "model_module_version": "1.5.0",
      "model_name": "TextModel",
      "state": {
       "layout": "IPY_MODEL_0874150cd33b4f338f6b1c26dff102c7",
       "style": "IPY_MODEL_816c9c7dd8d34c188fd85cbef22ca3da",
       "value": "3"
      }
     },
     "2ce49d760a954ad9bd54bc165debf0c9": {
      "model_module": "@jupyter-widgets/controls",
      "model_module_version": "1.5.0",
      "model_name": "HBoxModel",
      "state": {
       "children": [
        "IPY_MODEL_9bf2d07b7d784a48b4a990d2f1d3968d",
        "IPY_MODEL_57332bc0532d4434b69127a4fe9bbe96"
       ],
       "layout": "IPY_MODEL_c8abadc2610344e2945d62408fa6ccec"
      }
     },
     "2d3cc260859645ad9ef1bccbe1a463c7": {
      "model_module": "@jupyter-widgets/base",
      "model_module_version": "1.2.0",
      "model_name": "LayoutModel",
      "state": {
       "height": "35px",
       "width": "40px"
      }
     },
     "2d4e1d12104c46f2a2736651053d9ea8": {
      "model_module": "@jupyter-widgets/controls",
      "model_module_version": "1.5.0",
      "model_name": "GridBoxModel",
      "state": {
       "children": [
        "IPY_MODEL_e17106a1b9eb4910bcbc5b4e934389b2",
        "IPY_MODEL_6cb235ee5019421f9e5e0a1ba04b88fc",
        "IPY_MODEL_d29374c7dd9940d987c15719c30f9c35",
        "IPY_MODEL_8ec941a4e6df42508b35d25833dd1e6d",
        "IPY_MODEL_aac02fb146514d3186ffb789060e47ba",
        "IPY_MODEL_08575b9496c84f9882270af5e904d4bb",
        "IPY_MODEL_15bf226914fc4f1ab6d4589d3e660a75",
        "IPY_MODEL_5e8fb1a764c8462e89ba8c712d5accc6",
        "IPY_MODEL_574e80f191c746689810b5bc9edb6c1d"
       ],
       "layout": "IPY_MODEL_d9128fae15bf4ea4a770c6159e3e9fb2"
      }
     },
     "2daea8bf8e854e14ae77819c681ee9ce": {
      "model_module": "@jupyter-widgets/base",
      "model_module_version": "1.2.0",
      "model_name": "LayoutModel",
      "state": {
       "height": "120px",
       "width": "250px"
      }
     },
     "2dd1cd861fec458da66d8922427eb496": {
      "model_module": "@jupyter-widgets/base",
      "model_module_version": "1.2.0",
      "model_name": "LayoutModel",
      "state": {
       "flex_flow": "row wrap",
       "justify_content": "space-around"
      }
     },
     "2dd8943723194ab5bde250c20b002a70": {
      "model_module": "@jupyter-widgets/controls",
      "model_module_version": "1.5.0",
      "model_name": "HBoxModel",
      "state": {
       "children": [
        "IPY_MODEL_8c876cd0292d4734988465eeb89e4699",
        "IPY_MODEL_4fc3a1ada5584640bbe8ff2e87eee922"
       ],
       "layout": "IPY_MODEL_bb637ab98f74478abdaf5088aa36fb3d"
      }
     },
     "2df6f4dcf824417c88c040ba57dd7f0a": {
      "model_module": "@jupyter-widgets/controls",
      "model_module_version": "1.5.0",
      "model_name": "DescriptionStyleModel",
      "state": {
       "description_width": ""
      }
     },
     "2e3e95bb695a4aaeadd3ba3307a3fa15": {
      "model_module": "@jupyter-widgets/controls",
      "model_module_version": "1.5.0",
      "model_name": "DescriptionStyleModel",
      "state": {
       "description_width": ""
      }
     },
     "2e5673569afa4f0f903c8e55f3f5ee13": {
      "model_module": "@jupyter-widgets/controls",
      "model_module_version": "1.5.0",
      "model_name": "TextModel",
      "state": {
       "layout": "IPY_MODEL_bac3718a75224a58a09cb1f3e996c28a",
       "style": "IPY_MODEL_f4ac5e383ae84399b4b1baf56710e26b",
       "value": "3"
      }
     },
     "2eac5daeae8e4f459cf8a9b656b3736b": {
      "model_module": "@jupyter-widgets/base",
      "model_module_version": "1.2.0",
      "model_name": "LayoutModel",
      "state": {}
     },
     "2ed817eab0124a3e8a96070875d8aace": {
      "model_module": "@jupyter-widgets/controls",
      "model_module_version": "1.5.0",
      "model_name": "TextModel",
      "state": {
       "layout": "IPY_MODEL_7998cf86679645c9bf9a645c93e463c8",
       "style": "IPY_MODEL_14c666fd5f1e4869aa9b330c7c66e363",
       "value": "4"
      }
     },
     "2f186962aede4eac95c3bda3cc39cd50": {
      "model_module": "@jupyter-widgets/controls",
      "model_module_version": "1.5.0",
      "model_name": "DescriptionStyleModel",
      "state": {
       "description_width": ""
      }
     },
     "2f24871d69c04de0a5f69c75edf127ff": {
      "model_module": "@jupyter-widgets/controls",
      "model_module_version": "1.5.0",
      "model_name": "HBoxModel",
      "state": {
       "children": [
        "IPY_MODEL_ae9dcf7873d048198d02f697f1a53eb0",
        "IPY_MODEL_cd763553517d41db9ef697e6b20be46b"
       ],
       "layout": "IPY_MODEL_a0c0be3b6fe44d52b39129eecf723aef"
      }
     },
     "2f2ecba1a8254f269c6c2d09b22c1c03": {
      "model_module": "@jupyter-widgets/controls",
      "model_module_version": "1.5.0",
      "model_name": "BoxModel",
      "state": {
       "children": [
        "IPY_MODEL_b7daf4467bc442e58ab7461dfce32c70",
        "IPY_MODEL_9bbd074f5fc84bb8b36644455c871dff",
        "IPY_MODEL_ca9d43d2b6f64aa8803a5ce2ac17ebe2",
        "IPY_MODEL_411bb6e41cc641888c3128778a7f13bb"
       ],
       "layout": "IPY_MODEL_3516e664af3b49b4b131a9ed91a2d552"
      }
     },
     "2f35840d71a54059a590e17600617ef8": {
      "model_module": "@jupyter-widgets/base",
      "model_module_version": "1.2.0",
      "model_name": "LayoutModel",
      "state": {
       "flex_flow": "row wrap",
       "justify_content": "space-around"
      }
     },
     "2f8626ba2e2f48b1bdcb62d93f8bc49e": {
      "model_module": "@jupyter-widgets/base",
      "model_module_version": "1.2.0",
      "model_name": "LayoutModel",
      "state": {
       "width": "140px"
      }
     },
     "2fd3bae6cca04ac7afdc51187208af90": {
      "model_module": "@jupyter-widgets/controls",
      "model_module_version": "1.5.0",
      "model_name": "DescriptionStyleModel",
      "state": {
       "description_width": ""
      }
     },
     "2ffaee7f69c04feba7901ef45739e1c1": {
      "model_module": "@jupyter-widgets/base",
      "model_module_version": "1.2.0",
      "model_name": "LayoutModel",
      "state": {
       "width": "140px"
      }
     },
     "2ffe1db7ed0642e29d948645729553b5": {
      "model_module": "@jupyter-widgets/controls",
      "model_module_version": "1.5.0",
      "model_name": "DescriptionStyleModel",
      "state": {
       "description_width": ""
      }
     },
     "300f02d04b44493fb17882bdb6d82946": {
      "model_module": "@jupyter-widgets/controls",
      "model_module_version": "1.5.0",
      "model_name": "DescriptionStyleModel",
      "state": {
       "description_width": ""
      }
     },
     "308ec7a0b5ba45a187e258f7389816f0": {
      "model_module": "@jupyter-widgets/controls",
      "model_module_version": "1.5.0",
      "model_name": "TextModel",
      "state": {
       "layout": "IPY_MODEL_852e11ecf67743b9b3d1ddb8b98182be",
       "style": "IPY_MODEL_99affc5e9c5e4a8e99da21b057c0990b",
       "value": "1"
      }
     },
     "309328c9930c44cb861327bbb99e7713": {
      "model_module": "@jupyter-widgets/controls",
      "model_module_version": "1.5.0",
      "model_name": "DescriptionStyleModel",
      "state": {
       "description_width": ""
      }
     },
     "30a4964be3d94a50887359d9c0e6d0d9": {
      "model_module": "@jupyter-widgets/base",
      "model_module_version": "1.2.0",
      "model_name": "LayoutModel",
      "state": {}
     },
     "30e6baa376e74d229d7ef9d9c7112a24": {
      "model_module": "@jupyter-widgets/base",
      "model_module_version": "1.2.0",
      "model_name": "LayoutModel",
      "state": {
       "width": "90px"
      }
     },
     "30fe525ea2124975832c3d7589333031": {
      "model_module": "@jupyter-widgets/controls",
      "model_module_version": "1.5.0",
      "model_name": "ButtonModel",
      "state": {
       "description": "Solve",
       "layout": "IPY_MODEL_30a4964be3d94a50887359d9c0e6d0d9",
       "style": "IPY_MODEL_867081c8db024e63afc1a4952dff72d2"
      }
     },
     "311717a5f8b34be38c7b0489e404fdc6": {
      "model_module": "@jupyter-widgets/controls",
      "model_module_version": "1.5.0",
      "model_name": "TextModel",
      "state": {
       "layout": "IPY_MODEL_d7967788413544aa83e6234d99bfcfaf",
       "style": "IPY_MODEL_c65d08f9a57243ebbc7f23142e1048d4",
       "value": "9"
      }
     },
     "3183bc4f7a2249689b5ce0ba4e18e7c2": {
      "model_module": "@jupyter-widgets/base",
      "model_module_version": "1.2.0",
      "model_name": "LayoutModel",
      "state": {
       "height": "120px",
       "justify_content": "center",
       "width": "300px"
      }
     },
     "319ca2c784b5430db3243578da492a18": {
      "model_module": "@jupyter-widgets/controls",
      "model_module_version": "1.5.0",
      "model_name": "ButtonModel",
      "state": {
       "description": "Start",
       "layout": "IPY_MODEL_1e86a271b0a74ed49c06a1350b87addd",
       "style": "IPY_MODEL_eea81cd51f534c0f941a9448430fb177"
      }
     },
     "31c419314a634937aebd4517a00bce8f": {
      "model_module": "@jupyter-widgets/controls",
      "model_module_version": "1.5.0",
      "model_name": "DescriptionStyleModel",
      "state": {
       "description_width": ""
      }
     },
     "31ce8074d7144855815666b320038420": {
      "model_module": "@jupyter-widgets/base",
      "model_module_version": "1.2.0",
      "model_name": "LayoutModel",
      "state": {
       "height": "120px",
       "justify_content": "center",
       "width": "300px"
      }
     },
     "31e26c7ccfbe42fcb52c421dcb4589d4": {
      "model_module": "@jupyter-widgets/controls",
      "model_module_version": "1.5.0",
      "model_name": "DescriptionStyleModel",
      "state": {
       "description_width": ""
      }
     },
     "322f5cc6001c47b7b307873e965d2b48": {
      "model_module": "@jupyter-widgets/controls",
      "model_module_version": "1.5.0",
      "model_name": "DescriptionStyleModel",
      "state": {
       "description_width": ""
      }
     },
     "323135ce97b64f86af2efc1e9cd2f5f7": {
      "model_module": "@jupyter-widgets/controls",
      "model_module_version": "1.5.0",
      "model_name": "DescriptionStyleModel",
      "state": {
       "description_width": ""
      }
     },
     "3235aac441ac415183b236a1d022d251": {
      "model_module": "@jupyter-widgets/base",
      "model_module_version": "1.2.0",
      "model_name": "LayoutModel",
      "state": {
       "grid_template_columns": "repeat(3, 45px)"
      }
     },
     "32704636f505472ebbf7b8eda4382d9e": {
      "model_module": "@jupyter-widgets/controls",
      "model_module_version": "1.5.0",
      "model_name": "DescriptionStyleModel",
      "state": {
       "description_width": ""
      }
     },
     "327e2e4da4a14e0198b1540ccd963ca3": {
      "model_module": "@jupyter-widgets/controls",
      "model_module_version": "1.5.0",
      "model_name": "DescriptionStyleModel",
      "state": {
       "description_width": ""
      }
     },
     "32eeae1c8a584afeac5baf96463fabc5": {
      "model_module": "@jupyter-widgets/controls",
      "model_module_version": "1.5.0",
      "model_name": "DescriptionStyleModel",
      "state": {
       "description_width": ""
      }
     },
     "333ac8df58f24bfc832443be4e7c51d2": {
      "model_module": "@jupyter-widgets/base",
      "model_module_version": "1.2.0",
      "model_name": "LayoutModel",
      "state": {}
     },
     "3341cc9699af4c76ba4ab154abc1cc4f": {
      "model_module": "@jupyter-widgets/controls",
      "model_module_version": "1.5.0",
      "model_name": "TextModel",
      "state": {
       "layout": "IPY_MODEL_35a7bfeaf8664758b5ea5e8c6d003d65",
       "style": "IPY_MODEL_2e3e95bb695a4aaeadd3ba3307a3fa15",
       "value": "-1"
      }
     },
     "33512570118942c3a11c916b8e050517": {
      "model_module": "@jupyter-widgets/controls",
      "model_module_version": "1.5.0",
      "model_name": "HTMLMathModel",
      "state": {
       "layout": "IPY_MODEL_d03751cae40f449dbb9709f4713c2d36",
       "style": "IPY_MODEL_81652bfa6dab4dea80d4bfad4845b8ee",
       "value": "Enter here the values of the matrix $\\bf{A}$"
      }
     },
     "3363d1ee84d04a85b3449faab3b8f073": {
      "model_module": "@jupyter-widgets/controls",
      "model_module_version": "1.5.0",
      "model_name": "DescriptionStyleModel",
      "state": {
       "description_width": ""
      }
     },
     "3387e54d956f4aeda1b53bbe408079af": {
      "model_module": "@jupyter-widgets/controls",
      "model_module_version": "1.5.0",
      "model_name": "DropdownModel",
      "state": {
       "_options_labels": [
        "x₁",
        "x₂",
        "x₃"
       ],
       "description": "Variable:",
       "index": 2,
       "layout": "IPY_MODEL_6b5461e92b044da5a8d7f268f52ddd36",
       "style": "IPY_MODEL_c655db9ea87f4421966eb9085b641d7b"
      }
     },
     "339f0b5b285c47a593c9be3f557693ae": {
      "model_module": "@jupyter-widgets/controls",
      "model_module_version": "1.5.0",
      "model_name": "TextModel",
      "state": {
       "layout": "IPY_MODEL_d7967788413544aa83e6234d99bfcfaf",
       "style": "IPY_MODEL_ff5d9d06c80b4884ab5103346b852cce",
       "value": "3"
      }
     },
     "33f6d16cf6cc4cd2b500ba8adf2c48e0": {
      "model_module": "@jupyter-widgets/base",
      "model_module_version": "1.2.0",
      "model_name": "LayoutModel",
      "state": {}
     },
     "350d9ed092d049c0a0945bd174e3cf85": {
      "model_module": "@jupyter-widgets/controls",
      "model_module_version": "1.5.0",
      "model_name": "TextModel",
      "state": {
       "layout": "IPY_MODEL_56b7235de6f34f8ea7f7ee90eec44abc",
       "style": "IPY_MODEL_c7e23a5a297247c68bb070b2fe53d25d",
       "value": "1"
      }
     },
     "3516e664af3b49b4b131a9ed91a2d552": {
      "model_module": "@jupyter-widgets/base",
      "model_module_version": "1.2.0",
      "model_name": "LayoutModel",
      "state": {
       "flex_flow": "row wrap",
       "justify_content": "space-around"
      }
     },
     "3591de0f4f0e41968f666c49a9692bc8": {
      "model_module": "@jupyter-widgets/controls",
      "model_module_version": "1.5.0",
      "model_name": "DescriptionStyleModel",
      "state": {
       "description_width": ""
      }
     },
     "35a7bfeaf8664758b5ea5e8c6d003d65": {
      "model_module": "@jupyter-widgets/base",
      "model_module_version": "1.2.0",
      "model_name": "LayoutModel",
      "state": {
       "height": "35px",
       "width": "40px"
      }
     },
     "35c47ceb696442c78dfabe65394ea261": {
      "model_module": "@jupyter-widgets/controls",
      "model_module_version": "1.5.0",
      "model_name": "DescriptionStyleModel",
      "state": {
       "description_width": ""
      }
     },
     "360273a3cd6d4da088b966a092ff73f7": {
      "model_module": "@jupyter-widgets/controls",
      "model_module_version": "1.5.0",
      "model_name": "DescriptionStyleModel",
      "state": {
       "description_width": ""
      }
     },
     "364286a6aeb449829d325a663934fa39": {
      "model_module": "@jupyter-widgets/controls",
      "model_module_version": "1.5.0",
      "model_name": "DescriptionStyleModel",
      "state": {
       "description_width": ""
      }
     },
     "365ba57c32664ab38fd8d83a88c4d1cb": {
      "model_module": "@jupyter-widgets/base",
      "model_module_version": "1.2.0",
      "model_name": "LayoutModel",
      "state": {
       "height": "35px",
       "width": "40px"
      }
     },
     "3668632052b347c7a3d141b81433e8c1": {
      "model_module": "@jupyter-widgets/controls",
      "model_module_version": "1.5.0",
      "model_name": "DescriptionStyleModel",
      "state": {
       "description_width": ""
      }
     },
     "366b91a5e4e744878e76d3dcc6a3bad3": {
      "model_module": "@jupyter-widgets/controls",
      "model_module_version": "1.5.0",
      "model_name": "VBoxModel",
      "state": {
       "children": [
        "IPY_MODEL_720ed09e04a34eda8d31e297f2fcbc60",
        "IPY_MODEL_7129293fe2ac4a2eb4c916d60effc4a0",
        "IPY_MODEL_734d4b746cd64e4c9f1d7f081c3ec1c6"
       ],
       "layout": "IPY_MODEL_1794d50f423a499596e2004616174541"
      }
     },
     "367dc776b83546b3a11893675f35dbcf": {
      "model_module": "@jupyter-widgets/controls",
      "model_module_version": "1.5.0",
      "model_name": "VBoxModel",
      "state": {
       "children": [
        "IPY_MODEL_a2feb7ed938f47a8b56bf6421fb3a587",
        "IPY_MODEL_f29dd5bbd1f8410a99aa11b8861a75c3"
       ],
       "layout": "IPY_MODEL_dba263e3d54848d08e8479657b3811dd"
      }
     },
     "36eadf4d50784cf4b02cbf9f89945ef6": {
      "model_module": "@jupyter-widgets/controls",
      "model_module_version": "1.5.0",
      "model_name": "DescriptionStyleModel",
      "state": {
       "description_width": ""
      }
     },
     "3711a22943f54d0cac80339ea168d1b9": {
      "model_module": "@jupyter-widgets/base",
      "model_module_version": "1.2.0",
      "model_name": "LayoutModel",
      "state": {
       "width": "140px"
      }
     },
     "376f038352f74719b4e64472e6c37143": {
      "model_module": "@jupyter-widgets/controls",
      "model_module_version": "1.5.0",
      "model_name": "TextModel",
      "state": {
       "layout": "IPY_MODEL_60fba3a3410847dc8a3bad3fcd17590c",
       "style": "IPY_MODEL_191b54a249644b0cb46aa7ebf5390fab",
       "value": "-1"
      }
     },
     "37833543778841e89cbc37add145824d": {
      "model_module": "@jupyter-widgets/controls",
      "model_module_version": "1.5.0",
      "model_name": "TextModel",
      "state": {
       "layout": "IPY_MODEL_c4e9f4a8c7bf48249bb5b50320703732",
       "style": "IPY_MODEL_2a2ac16fe71b43cab3b48b0b5b3ff1f5",
       "value": "9"
      }
     },
     "385f7ef21e6c42b7a14e80454562e99a": {
      "model_module": "@jupyter-widgets/controls",
      "model_module_version": "1.5.0",
      "model_name": "DescriptionStyleModel",
      "state": {
       "description_width": ""
      }
     },
     "388bfb1aaddc44178416b897d19e896e": {
      "model_module": "@jupyter-widgets/controls",
      "model_module_version": "1.5.0",
      "model_name": "ButtonStyleModel",
      "state": {}
     },
     "38b8c268bd754197a79daa5bfd085f20": {
      "model_module": "@jupyter-widgets/base",
      "model_module_version": "1.2.0",
      "model_name": "LayoutModel",
      "state": {
       "height": "35px",
       "width": "40px"
      }
     },
     "38f900decc9844fcad9ed1a30e297c72": {
      "model_module": "@jupyter-widgets/controls",
      "model_module_version": "1.5.0",
      "model_name": "TextModel",
      "state": {
       "layout": "IPY_MODEL_f7d10756bf8e446d8f8deb1712e2baa5",
       "style": "IPY_MODEL_a6dcac0bff0046a6bbbb1ab772e82379",
       "value": "9"
      }
     },
     "38ff024f508945478eeb0d8f8e397f0d": {
      "model_module": "@jupyter-widgets/base",
      "model_module_version": "1.2.0",
      "model_name": "LayoutModel",
      "state": {}
     },
     "3965fe420976455f8ea6da31dad90195": {
      "model_module": "@jupyter-widgets/base",
      "model_module_version": "1.2.0",
      "model_name": "LayoutModel",
      "state": {
       "width": "150px"
      }
     },
     "39a7fe016bb245129c0fc88614dac12a": {
      "model_module": "@jupyter-widgets/controls",
      "model_module_version": "1.5.0",
      "model_name": "DescriptionStyleModel",
      "state": {
       "description_width": ""
      }
     },
     "39b7c193faa64ac79c7061e531c5d2c2": {
      "model_module": "@jupyter-widgets/base",
      "model_module_version": "1.2.0",
      "model_name": "LayoutModel",
      "state": {}
     },
     "39b9b99b1a0341709c231ca1f754afcb": {
      "model_module": "@jupyter-widgets/controls",
      "model_module_version": "1.5.0",
      "model_name": "TextModel",
      "state": {
       "layout": "IPY_MODEL_60fba3a3410847dc8a3bad3fcd17590c",
       "style": "IPY_MODEL_99aed210ba4d4e01b8fc0f6ba4a87916",
       "value": "1"
      }
     },
     "39c0f2d31da94eedbea4e81bff6ca0bf": {
      "model_module": "@jupyter-widgets/controls",
      "model_module_version": "1.5.0",
      "model_name": "DescriptionStyleModel",
      "state": {
       "description_width": ""
      }
     },
     "3a1d91cbc7644abc9c78091f47f315eb": {
      "model_module": "@jupyter-widgets/controls",
      "model_module_version": "1.5.0",
      "model_name": "TextModel",
      "state": {
       "layout": "IPY_MODEL_0874150cd33b4f338f6b1c26dff102c7",
       "style": "IPY_MODEL_592699a33e894a78829f2d661a6fed2e",
       "value": "1"
      }
     },
     "3ad5e7cdfa11470eac032ab3fee43f5c": {
      "model_module": "@jupyter-widgets/base",
      "model_module_version": "1.2.0",
      "model_name": "LayoutModel",
      "state": {
       "width": "150px"
      }
     },
     "3b5721c40518444b93768979d160b4fb": {
      "model_module": "@jupyter-widgets/controls",
      "model_module_version": "1.5.0",
      "model_name": "DescriptionStyleModel",
      "state": {
       "description_width": ""
      }
     },
     "3b621ccc2c7a49568b06ad7245e785a4": {
      "model_module": "@jupyter-widgets/controls",
      "model_module_version": "1.5.0",
      "model_name": "ButtonModel",
      "state": {
       "description": "Start",
       "layout": "IPY_MODEL_bc4663a3f4ad478e9ddf04059f57608d",
       "style": "IPY_MODEL_dec20d91770a4f24922dc66d83a90e24"
      }
     },
     "3b6e8df652834b9e9a946082970e508b": {
      "model_module": "@jupyter-widgets/controls",
      "model_module_version": "1.5.0",
      "model_name": "TextModel",
      "state": {
       "layout": "IPY_MODEL_60fba3a3410847dc8a3bad3fcd17590c",
       "style": "IPY_MODEL_e0d6f4b97f3449a597a55c37d9efc9d8",
       "value": "4"
      }
     },
     "3bb5da51e4cb4bafa30143d0d49434eb": {
      "model_module": "@jupyter-widgets/base",
      "model_module_version": "1.2.0",
      "model_name": "LayoutModel",
      "state": {
       "height": "120px",
       "justify_content": "center",
       "width": "300px"
      }
     },
     "3bf9d55d62374c628aae45332c9c3d3b": {
      "model_module": "@jupyter-widgets/controls",
      "model_module_version": "1.5.0",
      "model_name": "TextModel",
      "state": {
       "layout": "IPY_MODEL_bac3718a75224a58a09cb1f3e996c28a",
       "style": "IPY_MODEL_a21a3e5972314d57ba3a0e4bc9322f51",
       "value": "-1"
      }
     },
     "3c189c56832142aca40bc4f1b2b67b75": {
      "model_module": "@jupyter-widgets/controls",
      "model_module_version": "1.5.0",
      "model_name": "DescriptionStyleModel",
      "state": {
       "description_width": ""
      }
     },
     "3c4f72045a204c2aa3931d636003330a": {
      "model_module": "@jupyter-widgets/controls",
      "model_module_version": "1.5.0",
      "model_name": "HTMLMathModel",
      "state": {
       "layout": "IPY_MODEL_aeb11b3278a34ff1bce3be9032e77402",
       "style": "IPY_MODEL_f1222d712a6c4c919452f52a877b601d",
       "value": "$$ \\det A = \\left| \n      \\begin{array}{rrr}\n          1 & 1 & -1\\\\\n          3 & 1 & 1\\\\\n          1 & -1 & 4\n      \\end{array}\n      \\right| = -2$$ <br>$$ \\det A_1 = \\left| \n      \\begin{array}{rrr}\n          \\color{blue}{ 3 } & 1 & -1\\\\\n          \\color{blue}{ 9 } & 1 & 1\\\\\n          \\color{blue}{ 8 } & -1 & 4\n      \\end{array}\n      \\right| = 4$$ <br>$$ x_{ 1 } =\\frac{ \\det A_1}{\\det A} = \\frac{ 4 }{ -2 } = -2$$"
      }
     },
     "3c8bdf7e85984386b655aa28b297558d": {
      "model_module": "@jupyter-widgets/base",
      "model_module_version": "1.2.0",
      "model_name": "LayoutModel",
      "state": {
       "grid_template_columns": "repeat(1, 45px)"
      }
     },
     "3d7a615d3c1d4a45af9f1754f1c078d8": {
      "model_module": "@jupyter-widgets/base",
      "model_module_version": "1.2.0",
      "model_name": "LayoutModel",
      "state": {
       "height": "250px",
       "justify_content": "center",
       "width": "400px"
      }
     },
     "3e1df6d003a84324b56ac88e6bc1b447": {
      "model_module": "@jupyter-widgets/base",
      "model_module_version": "1.2.0",
      "model_name": "LayoutModel",
      "state": {
       "height": "120px",
       "width": "250px"
      }
     },
     "3e4af1da7051439580e6dc83895ec8b8": {
      "model_module": "@jupyter-widgets/controls",
      "model_module_version": "1.5.0",
      "model_name": "ButtonModel",
      "state": {
       "description": "Start",
       "layout": "IPY_MODEL_8c5657a194fd4e94b25ab9a18c930ba8",
       "style": "IPY_MODEL_1f96967aaee947e68c51acc9b7fa3901"
      }
     },
     "3e5ea93126f54da79f6bd8eaf3e5dc6e": {
      "model_module": "@jupyter-widgets/controls",
      "model_module_version": "1.5.0",
      "model_name": "TextModel",
      "state": {
       "layout": "IPY_MODEL_852e11ecf67743b9b3d1ddb8b98182be",
       "style": "IPY_MODEL_234089e579e241298ce6531f2a1192d9",
       "value": "1"
      }
     },
     "3e65de7130274de2a2bb6286db562e89": {
      "model_module": "@jupyter-widgets/controls",
      "model_module_version": "1.5.0",
      "model_name": "TextModel",
      "state": {
       "layout": "IPY_MODEL_559e088c23fd41ac878f827500212741",
       "style": "IPY_MODEL_c1d3cecf75c64cf8a88cc3b283586125",
       "value": "1"
      }
     },
     "3e763f4e0f8b4872b6daea04bc3d9797": {
      "model_module": "@jupyter-widgets/base",
      "model_module_version": "1.2.0",
      "model_name": "LayoutModel",
      "state": {
       "flex_flow": "row wrap",
       "justify_content": "space-around"
      }
     },
     "3ec3c0e749a64b1b97cdfbaf5cce3bdd": {
      "model_module": "@jupyter-widgets/controls",
      "model_module_version": "1.5.0",
      "model_name": "ButtonModel",
      "state": {
       "description": "Solve",
       "layout": "IPY_MODEL_ad7c7462ba8741bfb018306467d0e7cc",
       "style": "IPY_MODEL_54a2d4ad632f4e0a9bec17136c06356c"
      }
     },
     "3f0fe896773048b19562136cbdf353b6": {
      "model_module": "@jupyter-widgets/controls",
      "model_module_version": "1.5.0",
      "model_name": "DescriptionStyleModel",
      "state": {
       "description_width": ""
      }
     },
     "3f12fab3b18443e2b631b63d2eb131e6": {
      "model_module": "@jupyter-widgets/controls",
      "model_module_version": "1.5.0",
      "model_name": "GridBoxModel",
      "state": {
       "children": [
        "IPY_MODEL_541bb6baea244b2c9f6812d5a2a2977f",
        "IPY_MODEL_05d6f4cdf40d4a4ca49389b5ee876729",
        "IPY_MODEL_4247c8f57fdc434f80f5f6c7b41fcc9b"
       ],
       "layout": "IPY_MODEL_6e773909b5024195a3ff19512b578224"
      }
     },
     "3f27be2af78541dda5a9ec9cd483bc9a": {
      "model_module": "@jupyter-widgets/controls",
      "model_module_version": "1.5.0",
      "model_name": "TextModel",
      "state": {
       "layout": "IPY_MODEL_7d582068d7aa41488a3ed889fd050d18",
       "style": "IPY_MODEL_76b81c10ff2345a9a2dd4d5030f5e010",
       "value": "8"
      }
     },
     "3f4909dcb4994defab9cbcf24768408a": {
      "model_module": "@jupyter-widgets/controls",
      "model_module_version": "1.5.0",
      "model_name": "ButtonStyleModel",
      "state": {}
     },
     "3f7b2e03062d475798d2bf06a82dea56": {
      "model_module": "@jupyter-widgets/controls",
      "model_module_version": "1.5.0",
      "model_name": "TextModel",
      "state": {
       "layout": "IPY_MODEL_0874150cd33b4f338f6b1c26dff102c7",
       "style": "IPY_MODEL_ba674855fc9042c8914f51881f7a8f40",
       "value": "3"
      }
     },
     "3fad968097ba4da686c0e5dd0672b412": {
      "model_module": "@jupyter-widgets/controls",
      "model_module_version": "1.5.0",
      "model_name": "HBoxModel",
      "state": {
       "children": [
        "IPY_MODEL_df4fd17a1eea4af38435a1613d4d880e",
        "IPY_MODEL_0117c5c4289547038b5fb461fdc012d6"
       ],
       "layout": "IPY_MODEL_f20a5bd3f5304acb89c5a04316f1b39a"
      }
     },
     "3fc7a238878e4358a76c95413a6153ca": {
      "model_module": "@jupyter-widgets/controls",
      "model_module_version": "1.5.0",
      "model_name": "TextModel",
      "state": {
       "layout": "IPY_MODEL_8233178bdcdc4cc5a36e758a2579d1fc",
       "style": "IPY_MODEL_ca82ce67cdce475e8094964aa0e947d0",
       "value": "1"
      }
     },
     "3fe40215bcd54ca2aead77110131e712": {
      "model_module": "@jupyter-widgets/controls",
      "model_module_version": "1.5.0",
      "model_name": "DescriptionStyleModel",
      "state": {
       "description_width": ""
      }
     },
     "403669eddbf1414e8210cc439a03f7af": {
      "model_module": "@jupyter-widgets/controls",
      "model_module_version": "1.5.0",
      "model_name": "HBoxModel",
      "state": {
       "children": [
        "IPY_MODEL_a606abb2c92041699dc33a94c82bbf52",
        "IPY_MODEL_e575fe7bc1904f0bb645b87fbe453ffb"
       ],
       "layout": "IPY_MODEL_d59be9cf29b0463e900d3c933e35e70e"
      }
     },
     "40a5f744a6c048bfa3624960032d32e2": {
      "model_module": "@jupyter-widgets/base",
      "model_module_version": "1.2.0",
      "model_name": "LayoutModel",
      "state": {
       "grid_template_columns": "repeat(3, 45px)"
      }
     },
     "411bb6e41cc641888c3128778a7f13bb": {
      "model_module": "@jupyter-widgets/controls",
      "model_module_version": "1.5.0",
      "model_name": "HTMLMathModel",
      "state": {
       "layout": "IPY_MODEL_3bb5da51e4cb4bafa30143d0d49434eb",
       "style": "IPY_MODEL_236b356eba4244ebbbf158f509040b4a",
       "value": "$$ \\mathbf{A} = \\left[  \n      \\begin{array}{rrr}\n          1 & 1 & -1\\\\\n          3 & 1 & 1\\\\\n          1 & -1 & 4\n      \\end{array}\n      , \\right] \\quad \\color{blue}{\\mathbf{B} = \\left[ \n    \\begin{array}{r}\n        3 \\\\\n        9 \\\\\n        8 \n    \\end{array}\n    \\right]}$$<br>with $\\det A =-2$."
      }
     },
     "414686a093bc4669b0e75dcc53af3fc9": {
      "model_module": "@jupyter-widgets/controls",
      "model_module_version": "1.5.0",
      "model_name": "DescriptionStyleModel",
      "state": {
       "description_width": ""
      }
     },
     "4155dbad0a6c4f17a46885e04ccf8488": {
      "model_module": "@jupyter-widgets/base",
      "model_module_version": "1.2.0",
      "model_name": "LayoutModel",
      "state": {}
     },
     "416afc049dc346f5b0b64876544e5020": {
      "model_module": "@jupyter-widgets/controls",
      "model_module_version": "1.5.0",
      "model_name": "TextModel",
      "state": {
       "layout": "IPY_MODEL_559e088c23fd41ac878f827500212741",
       "style": "IPY_MODEL_25ce598a291b4404b371a576ed48c9b1",
       "value": "8"
      }
     },
     "4176382d7d37475b858d32d45b6bca01": {
      "model_module": "@jupyter-widgets/controls",
      "model_module_version": "1.5.0",
      "model_name": "ButtonStyleModel",
      "state": {}
     },
     "41a112403c61466fae016f666b87f7ed": {
      "model_module": "@jupyter-widgets/base",
      "model_module_version": "1.2.0",
      "model_name": "LayoutModel",
      "state": {
       "height": "120px",
       "width": "250px"
      }
     },
     "41e37eb0809a4e69b423ea63df3fb800": {
      "model_module": "@jupyter-widgets/controls",
      "model_module_version": "1.5.0",
      "model_name": "DescriptionStyleModel",
      "state": {
       "description_width": ""
      }
     },
     "4234b8affa5b4c21b34ad8757584a1c3": {
      "model_module": "@jupyter-widgets/controls",
      "model_module_version": "1.5.0",
      "model_name": "HTMLMathModel",
      "state": {
       "layout": "IPY_MODEL_09ace0f1845c4a63ac6863cc434c6296",
       "style": "IPY_MODEL_b3bf8ee822ef4032adef9482d6db904a",
       "value": "Enter here the values of the constant matrix $\\bf{B}$"
      }
     },
     "4247c8f57fdc434f80f5f6c7b41fcc9b": {
      "model_module": "@jupyter-widgets/controls",
      "model_module_version": "1.5.0",
      "model_name": "TextModel",
      "state": {
       "layout": "IPY_MODEL_56b7235de6f34f8ea7f7ee90eec44abc",
       "style": "IPY_MODEL_d397c085fcef4cf1bcec36ffa85e6075",
       "value": "8"
      }
     },
     "42e9d9794d50440284151feb775fb87d": {
      "model_module": "@jupyter-widgets/controls",
      "model_module_version": "1.5.0",
      "model_name": "HTMLMathModel",
      "state": {
       "layout": "IPY_MODEL_b86bdab4b76244b5b377ca0c4bd2cb85",
       "style": "IPY_MODEL_df70c1d6c5224e8faf73984fabc13fb4",
       "value": "Enter here the values of the constant matrix $\\bf{B}$"
      }
     },
     "435cdb7bb09b4e0cb79a23ce2b0ca12b": {
      "model_module": "@jupyter-widgets/controls",
      "model_module_version": "1.5.0",
      "model_name": "TextModel",
      "state": {
       "layout": "IPY_MODEL_0874150cd33b4f338f6b1c26dff102c7",
       "style": "IPY_MODEL_d04e2f5f179443a7b76d4c43d1edd497",
       "value": "1"
      }
     },
     "437e4e447db64970b0933bcb07a20159": {
      "model_module": "@jupyter-widgets/base",
      "model_module_version": "1.2.0",
      "model_name": "LayoutModel",
      "state": {
       "flex_flow": "row wrap",
       "justify_content": "space-around"
      }
     },
     "44137f1bb98a4a728263a22d707ec4f8": {
      "model_module": "@jupyter-widgets/controls",
      "model_module_version": "1.5.0",
      "model_name": "DescriptionStyleModel",
      "state": {
       "description_width": ""
      }
     },
     "448220e41587476db11b7f3187da054f": {
      "model_module": "@jupyter-widgets/base",
      "model_module_version": "1.2.0",
      "model_name": "LayoutModel",
      "state": {
       "grid_template_columns": "repeat(1, 45px)"
      }
     },
     "4529ba07fd72463da257e0bd479173d8": {
      "model_module": "@jupyter-widgets/controls",
      "model_module_version": "1.5.0",
      "model_name": "DescriptionStyleModel",
      "state": {
       "description_width": ""
      }
     },
     "4536ae60e2f34315834d6c68563fa196": {
      "model_module": "@jupyter-widgets/controls",
      "model_module_version": "1.5.0",
      "model_name": "TextModel",
      "state": {
       "layout": "IPY_MODEL_60fba3a3410847dc8a3bad3fcd17590c",
       "style": "IPY_MODEL_090dbc6a0d2f4b74aab45263b161f087",
       "value": "3"
      }
     },
     "4536df658e494a7f8428cdce101d7ae4": {
      "model_module": "@jupyter-widgets/controls",
      "model_module_version": "1.5.0",
      "model_name": "DescriptionStyleModel",
      "state": {
       "description_width": ""
      }
     },
     "456bae48881d43f2a6a6e7ef630e2560": {
      "model_module": "@jupyter-widgets/controls",
      "model_module_version": "1.5.0",
      "model_name": "TextModel",
      "state": {
       "layout": "IPY_MODEL_5064eb8b796f469bb47ced8ec32aba1e",
       "style": "IPY_MODEL_2087e3a840374acf90901f89d3eb5250",
       "value": "3"
      }
     },
     "457200d193d340278a5e7d78c5b00dde": {
      "model_module": "@jupyter-widgets/controls",
      "model_module_version": "1.5.0",
      "model_name": "DescriptionStyleModel",
      "state": {
       "description_width": ""
      }
     },
     "467c9ad7ece84af7b728ac6a19f9f776": {
      "model_module": "@jupyter-widgets/controls",
      "model_module_version": "1.5.0",
      "model_name": "ButtonModel",
      "state": {
       "description": "Solve",
       "layout": "IPY_MODEL_250b7d8069074ba6b6ee1fedd94b0a0a",
       "style": "IPY_MODEL_91f755540a9e49bfa6804fd64d7590d4"
      }
     },
     "47123a65641e43fe93077b92d9df2770": {
      "model_module": "@jupyter-widgets/controls",
      "model_module_version": "1.5.0",
      "model_name": "TextModel",
      "state": {
       "layout": "IPY_MODEL_1e007c68dda5461984bff523c716db0a",
       "style": "IPY_MODEL_9dc0ae9e43554d6c94240765131d242e",
       "value": "1"
      }
     },
     "4714d9ec0e2945a4859873656e67906e": {
      "model_module": "@jupyter-widgets/base",
      "model_module_version": "1.2.0",
      "model_name": "LayoutModel",
      "state": {
       "width": "140px"
      }
     },
     "4765fc19ac7d4918b74e081eee8a88e0": {
      "model_module": "@jupyter-widgets/controls",
      "model_module_version": "1.5.0",
      "model_name": "DescriptionStyleModel",
      "state": {
       "description_width": ""
      }
     },
     "476714807ca046b5bf49831859743bc9": {
      "model_module": "@jupyter-widgets/base",
      "model_module_version": "1.2.0",
      "model_name": "LayoutModel",
      "state": {
       "width": "140px"
      }
     },
     "47909f0fd68c48e799645a2d54609c40": {
      "model_module": "@jupyter-widgets/base",
      "model_module_version": "1.2.0",
      "model_name": "LayoutModel",
      "state": {
       "height": "120px",
       "width": "250px"
      }
     },
     "485f45841d7d4157b862e1f7f86058d1": {
      "model_module": "@jupyter-widgets/controls",
      "model_module_version": "1.5.0",
      "model_name": "TextModel",
      "state": {
       "layout": "IPY_MODEL_bac3718a75224a58a09cb1f3e996c28a",
       "style": "IPY_MODEL_32eeae1c8a584afeac5baf96463fabc5",
       "value": "1"
      }
     },
     "488697bfb6cd4a39ba2efaad8803bfe3": {
      "model_module": "@jupyter-widgets/controls",
      "model_module_version": "1.5.0",
      "model_name": "ButtonModel",
      "state": {
       "description": "Start",
       "layout": "IPY_MODEL_a91ac71a1d894aabb0d93440942cb767",
       "style": "IPY_MODEL_ef83c734f8c94a1dba1417dc04000298"
      }
     },
     "48c2e2524fd04ae6b51d7cc20601a3ad": {
      "model_module": "@jupyter-widgets/controls",
      "model_module_version": "1.5.0",
      "model_name": "DescriptionStyleModel",
      "state": {
       "description_width": ""
      }
     },
     "495b687291f04f489343f08325569db2": {
      "model_module": "@jupyter-widgets/controls",
      "model_module_version": "1.5.0",
      "model_name": "HTMLModel",
      "state": {
       "layout": "IPY_MODEL_115e75377fba4f739d69b943da13cc8b",
       "style": "IPY_MODEL_ead8d49df9eb4657964ae72d44ef02a9",
       "value": "Click this button to start or reset the app."
      }
     },
     "497f6ce8226b4824b421f28186f89a96": {
      "model_module": "@jupyter-widgets/controls",
      "model_module_version": "1.5.0",
      "model_name": "DescriptionStyleModel",
      "state": {
       "description_width": ""
      }
     },
     "4984b63dafa240af95b43fc18629697f": {
      "model_module": "@jupyter-widgets/base",
      "model_module_version": "1.2.0",
      "model_name": "LayoutModel",
      "state": {
       "flex_flow": "row wrap",
       "justify_content": "space-around"
      }
     },
     "49e4a4af856d488fab4adcd04ce1fa81": {
      "model_module": "@jupyter-widgets/controls",
      "model_module_version": "1.5.0",
      "model_name": "BoxModel",
      "state": {
       "children": [
        "IPY_MODEL_ff55be5f6b4f45ed99b2779d0c2d1b62",
        "IPY_MODEL_b35b8e0246cf4c1c9659c94ff5f891c5"
       ],
       "layout": "IPY_MODEL_2f35840d71a54059a590e17600617ef8"
      }
     },
     "49fd5e4c9b1d4993a363a86aee870f1d": {
      "model_module": "@jupyter-widgets/base",
      "model_module_version": "1.2.0",
      "model_name": "LayoutModel",
      "state": {
       "grid_template_columns": "repeat(1, 45px)"
      }
     },
     "4a345d48088342679c1b831b8e1a92c2": {
      "model_module": "@jupyter-widgets/base",
      "model_module_version": "1.2.0",
      "model_name": "LayoutModel",
      "state": {}
     },
     "4a55d1fe375545159760e7c455339be1": {
      "model_module": "@jupyter-widgets/base",
      "model_module_version": "1.2.0",
      "model_name": "LayoutModel",
      "state": {
       "flex_flow": "row wrap",
       "justify_content": "space-around"
      }
     },
     "4a708c2313ab45a5b80b3a02dca09099": {
      "model_module": "@jupyter-widgets/controls",
      "model_module_version": "1.5.0",
      "model_name": "TextModel",
      "state": {
       "layout": "IPY_MODEL_2d3cc260859645ad9ef1bccbe1a463c7",
       "style": "IPY_MODEL_06996884288146ec90a251bb69c9f137",
       "value": "1"
      }
     },
     "4a8852a0dac841dcb7cf0dac88973b88": {
      "model_module": "@jupyter-widgets/base",
      "model_module_version": "1.2.0",
      "model_name": "LayoutModel",
      "state": {
       "width": "140px"
      }
     },
     "4afcbb3f8d8a45348dd5d44fdabf83cc": {
      "model_module": "@jupyter-widgets/controls",
      "model_module_version": "1.5.0",
      "model_name": "DescriptionStyleModel",
      "state": {
       "description_width": ""
      }
     },
     "4b2d8a2c454e4a379dda0e9778288e5b": {
      "model_module": "@jupyter-widgets/controls",
      "model_module_version": "1.5.0",
      "model_name": "HTMLMathModel",
      "state": {
       "layout": "IPY_MODEL_7a19c109ad6240d5883f4400722ec087",
       "style": "IPY_MODEL_fecc8b03575e4a61b344400c70788191",
       "value": "$$ \\det A = \\left| \n      \\begin{array}{rrr}\n          1 & 1 & -1\\\\\n          3 & 1 & 1\\\\\n          1 & -1 & 4\n      \\end{array}\n      \\right| = -2$$ + <br>$$ \\det A_1 = \\left| \n      \\begin{array}{rrr}\n          \\color{blue}{ 3 } & 1 & -1\\\\\n          \\color{blue}{ 9 } & 1 & 1\\\\\n          \\color{blue}{ 8 } & -1 & 4\n      \\end{array}\n      \\right| = 4$$ + <br>$$ x_{ 1 } =\\frac{ \\det A_1}{\\det A} = \\frac{ 4 }{ -2 } = -2$$"
      }
     },
     "4bd7f09c8f6043a498e0017337abc470": {
      "model_module": "@jupyter-widgets/base",
      "model_module_version": "1.2.0",
      "model_name": "LayoutModel",
      "state": {}
     },
     "4bf8f674d625407591baa481c1423054": {
      "model_module": "@jupyter-widgets/controls",
      "model_module_version": "1.5.0",
      "model_name": "DescriptionStyleModel",
      "state": {
       "description_width": ""
      }
     },
     "4c96a66745b64067b6b77127cf1ef343": {
      "model_module": "@jupyter-widgets/controls",
      "model_module_version": "1.5.0",
      "model_name": "DescriptionStyleModel",
      "state": {
       "description_width": ""
      }
     },
     "4cc40a907c7e4f4b84ad2867d1fd4a25": {
      "model_module": "@jupyter-widgets/controls",
      "model_module_version": "1.5.0",
      "model_name": "DescriptionStyleModel",
      "state": {
       "description_width": ""
      }
     },
     "4cdec6d3309e470aa05b7ec1fc3dad7e": {
      "model_module": "@jupyter-widgets/controls",
      "model_module_version": "1.5.0",
      "model_name": "HTMLMathModel",
      "state": {
       "layout": "IPY_MODEL_f5c33ae31bc3412c9ee1f45945659a4f",
       "style": "IPY_MODEL_7e6b44fb13174fcb957d1361abce633d",
       "value": "$$ \\color{green}{\\det A} = \\left| \n      \\begin{array}{rrr}\n          1 & 1 & -1\\\\\n          3 & 1 & 1\\\\\n          1 & -1 & 4\n      \\end{array}\n      \\right| = \\color{green}{ -2}$$ <br>$$ \\color{red}{ \\det A_3 } = \\left| \n      \\begin{array}{rrr}\n          1 & 1 & \\color{blue}{ 3 }\\\\\n          3 & 1 & \\color{blue}{ 9 }\\\\\n          1 & -1 & \\color{blue}{ 8 }\n      \\end{array}\n      \\right| = \\color{red}{ -10 }$$ <br>$$ x_{ 3 } =\\frac{ \\color{red}{\\det A_3}}{\\color{green}{ \\det A }} = \\frac{ \\color{red}{-10}}{\\color{green}{-2}} = 5$$"
      }
     },
     "4d101add099647b088402764d669f205": {
      "model_module": "@jupyter-widgets/controls",
      "model_module_version": "1.5.0",
      "model_name": "BoxModel",
      "state": {
       "children": [
        "IPY_MODEL_fc7aea852cc9457884480bf77ba4e996",
        "IPY_MODEL_0ed09ce314504cfa96bd5a654665c883"
       ],
       "layout": "IPY_MODEL_955fbee8adb740f981bbc82e71efb4c5"
      }
     },
     "4d8170839bfc4d9b9f5ac52c625f44e0": {
      "model_module": "@jupyter-widgets/controls",
      "model_module_version": "1.5.0",
      "model_name": "TextModel",
      "state": {
       "layout": "IPY_MODEL_c4e9f4a8c7bf48249bb5b50320703732",
       "style": "IPY_MODEL_360273a3cd6d4da088b966a092ff73f7",
       "value": "8"
      }
     },
     "4dc36751d78d44e99b0e9c71f7475dcd": {
      "model_module": "@jupyter-widgets/base",
      "model_module_version": "1.2.0",
      "model_name": "LayoutModel",
      "state": {
       "height": "120px",
       "justify_content": "center",
       "width": "300px"
      }
     },
     "4dcaabc62be74f35bbfbd0b2078fd0b6": {
      "model_module": "@jupyter-widgets/controls",
      "model_module_version": "1.5.0",
      "model_name": "TextModel",
      "state": {
       "layout": "IPY_MODEL_7998cf86679645c9bf9a645c93e463c8",
       "style": "IPY_MODEL_0159972c206141ba9c34b9bff5f92877",
       "value": "9"
      }
     },
     "4e46001064bd4026b238f18c645caa14": {
      "model_module": "@jupyter-widgets/controls",
      "model_module_version": "1.5.0",
      "model_name": "HTMLMathModel",
      "state": {
       "layout": "IPY_MODEL_d2ecf7a93299449e98a11b8ec4116621",
       "style": "IPY_MODEL_148b552ae89d46269a125fadb1cc3580",
       "value": "Error. The system does not have a unique solution."
      }
     },
     "4e60123ac0804453826ccd515bc2734e": {
      "model_module": "@jupyter-widgets/controls",
      "model_module_version": "1.5.0",
      "model_name": "TextModel",
      "state": {
       "layout": "IPY_MODEL_559e088c23fd41ac878f827500212741",
       "style": "IPY_MODEL_a5205eb378074abf8a2fdcba9b457356",
       "value": "-1"
      }
     },
     "4e60ec0527d44413b49ebd87a50f06a5": {
      "model_module": "@jupyter-widgets/base",
      "model_module_version": "1.2.0",
      "model_name": "LayoutModel",
      "state": {
       "flex_flow": "row wrap",
       "justify_content": "space-around"
      }
     },
     "4eb8778c3dc54714a53b41580da306b2": {
      "model_module": "@jupyter-widgets/base",
      "model_module_version": "1.2.0",
      "model_name": "LayoutModel",
      "state": {
       "width": "140px"
      }
     },
     "4ece10abcef94b5cba6ff86e5d2185e4": {
      "model_module": "@jupyter-widgets/base",
      "model_module_version": "1.2.0",
      "model_name": "LayoutModel",
      "state": {
       "width": "90px"
      }
     },
     "4edcbbc317bd4b4caba7445a0038e96a": {
      "model_module": "@jupyter-widgets/controls",
      "model_module_version": "1.5.0",
      "model_name": "ButtonStyleModel",
      "state": {}
     },
     "4f00c2b3514b4cfaae061e0aa9f32b08": {
      "model_module": "@jupyter-widgets/controls",
      "model_module_version": "1.5.0",
      "model_name": "DescriptionStyleModel",
      "state": {
       "description_width": ""
      }
     },
     "4f6b18ed2f0c42fd937004c955b20d2b": {
      "model_module": "@jupyter-widgets/controls",
      "model_module_version": "1.5.0",
      "model_name": "DescriptionStyleModel",
      "state": {
       "description_width": ""
      }
     },
     "4f875962cec04eda8af9edf5b696bcc0": {
      "model_module": "@jupyter-widgets/controls",
      "model_module_version": "1.5.0",
      "model_name": "TextModel",
      "state": {
       "layout": "IPY_MODEL_1e007c68dda5461984bff523c716db0a",
       "style": "IPY_MODEL_7e7796c462be4f118de46269ae9185b4",
       "value": "-1"
      }
     },
     "4fa9f69bef034195b41f714e7691d7ba": {
      "model_module": "@jupyter-widgets/base",
      "model_module_version": "1.2.0",
      "model_name": "LayoutModel",
      "state": {
       "width": "150px"
      }
     },
     "4fc3a1ada5584640bbe8ff2e87eee922": {
      "model_module": "@jupyter-widgets/controls",
      "model_module_version": "1.5.0",
      "model_name": "GridBoxModel",
      "state": {
       "children": [
        "IPY_MODEL_65b09e69089f43a8aea3d8eb040135b5",
        "IPY_MODEL_a4586505da78479b898a64e2d9467c74",
        "IPY_MODEL_bfe262df2ede407183b5411bd6339129",
        "IPY_MODEL_2e5673569afa4f0f903c8e55f3f5ee13",
        "IPY_MODEL_59e6955e2a2640ee9cfe72e273961989",
        "IPY_MODEL_ad807c17ed9744399be5dbf22569ef23",
        "IPY_MODEL_485f45841d7d4157b862e1f7f86058d1",
        "IPY_MODEL_3bf9d55d62374c628aae45332c9c3d3b",
        "IPY_MODEL_dfb9c00469a2436ca973f96cd13f27f6"
       ],
       "layout": "IPY_MODEL_2c4e08862f16408cb1db52b8edd28b93"
      }
     },
     "4fd6222ec649486e970422a1d104c362": {
      "model_module": "@jupyter-widgets/controls",
      "model_module_version": "1.5.0",
      "model_name": "DescriptionStyleModel",
      "state": {
       "description_width": ""
      }
     },
     "5064eb8b796f469bb47ced8ec32aba1e": {
      "model_module": "@jupyter-widgets/base",
      "model_module_version": "1.2.0",
      "model_name": "LayoutModel",
      "state": {
       "height": "35px",
       "width": "40px"
      }
     },
     "5077bed829ff492d9bc99b9f5dfea152": {
      "model_module": "@jupyter-widgets/controls",
      "model_module_version": "1.5.0",
      "model_name": "TextModel",
      "state": {
       "layout": "IPY_MODEL_852e11ecf67743b9b3d1ddb8b98182be",
       "style": "IPY_MODEL_d646a7eaf831466b95d619af47878263",
       "value": "-1"
      }
     },
     "5091983c580444a8b8f8efe2d92667ca": {
      "model_module": "@jupyter-widgets/controls",
      "model_module_version": "1.5.0",
      "model_name": "HTMLMathModel",
      "state": {
       "layout": "IPY_MODEL_8cf08909c19948388ed3301d44559e03",
       "style": "IPY_MODEL_cfd347f64ff44059974127890ed8fcc5",
       "value": "Enter here the values of the matrix $\\bf{A}$"
      }
     },
     "510f8011b52c430ba058e78a2fa4806f": {
      "model_module": "@jupyter-widgets/controls",
      "model_module_version": "1.5.0",
      "model_name": "VBoxModel",
      "state": {
       "children": [
        "IPY_MODEL_b11376e75ef14e8187e10eebe55002c5",
        "IPY_MODEL_b4e30ec831f04793bd52da37283aec7f",
        "IPY_MODEL_cb65992dbf54437db8ce3cba4b61b47f"
       ],
       "layout": "IPY_MODEL_975bcdcfc84948909ea29074d722900c"
      }
     },
     "51755a966dd2478ca3573cdb19faa5a1": {
      "model_module": "@jupyter-widgets/controls",
      "model_module_version": "1.5.0",
      "model_name": "VBoxModel",
      "state": {
       "children": [
        "IPY_MODEL_18c8bec569704e89824cd05d1d27c5a3",
        "IPY_MODEL_5849b02b06b04641ab8112b654691463"
       ],
       "layout": "IPY_MODEL_2eac5daeae8e4f459cf8a9b656b3736b"
      }
     },
     "51b37c88e4e3402eba63fdf75bb0c207": {
      "model_module": "@jupyter-widgets/controls",
      "model_module_version": "1.5.0",
      "model_name": "TextModel",
      "state": {
       "layout": "IPY_MODEL_38b8c268bd754197a79daa5bfd085f20",
       "style": "IPY_MODEL_5cf0921e358647e0813943036d0a1551",
       "value": "3"
      }
     },
     "51fa6fb9e4bc40c19d417988455d7aeb": {
      "model_module": "@jupyter-widgets/controls",
      "model_module_version": "1.5.0",
      "model_name": "ButtonStyleModel",
      "state": {}
     },
     "525011c016924c61aa8964af71f81e55": {
      "model_module": "@jupyter-widgets/controls",
      "model_module_version": "1.5.0",
      "model_name": "HTMLMathModel",
      "state": {
       "layout": "IPY_MODEL_9c805f829b90405da13e38260db29d90",
       "style": "IPY_MODEL_457200d193d340278a5e7d78c5b00dde",
       "value": "$$ \\mathbf{A} = \\left[  \n      \\begin{array}{rrr}\n          1 & 1 & -1\\\\\n          3 & 1 & 1\\\\\n          0 & 0 & 0\n      \\end{array}\n      , \\right] \\quad \\color{blue}{\\mathbf{B} = \\left[ \n    \\begin{array}{r}\n        3 \\\\\n        9 \\\\\n        8 \n    \\end{array}\n    \\right]}$$"
      }
     },
     "5266d89ff1904c969b48dd7050e46714": {
      "model_module": "@jupyter-widgets/base",
      "model_module_version": "1.2.0",
      "model_name": "LayoutModel",
      "state": {
       "width": "140px"
      }
     },
     "5281fdc373464eb4a844ab1d0465d1bb": {
      "model_module": "@jupyter-widgets/controls",
      "model_module_version": "1.5.0",
      "model_name": "DescriptionStyleModel",
      "state": {
       "description_width": ""
      }
     },
     "52863c5924a54786abe5999ae30c1c46": {
      "model_module": "@jupyter-widgets/controls",
      "model_module_version": "1.5.0",
      "model_name": "BoxModel",
      "state": {
       "children": [
        "IPY_MODEL_577567110fd2456f9eca3590e4a973ad",
        "IPY_MODEL_8b93f1828c244b1a92e5f0aed4aad00a"
       ],
       "layout": "IPY_MODEL_6002c3ce13b741049605955dfb921659"
      }
     },
     "528dccaa5fd24b8fb96fabd1565eee4e": {
      "model_module": "@jupyter-widgets/controls",
      "model_module_version": "1.5.0",
      "model_name": "DescriptionStyleModel",
      "state": {
       "description_width": ""
      }
     },
     "52bed2db0f484c4a8da3c07c2c49c4a0": {
      "model_module": "@jupyter-widgets/controls",
      "model_module_version": "1.5.0",
      "model_name": "TextModel",
      "state": {
       "layout": "IPY_MODEL_7d582068d7aa41488a3ed889fd050d18",
       "style": "IPY_MODEL_c836d1bf7d9642d3ba79f928b86614c7",
       "value": "-1"
      }
     },
     "52c00f6e04bb4fb18b2b136db40c2dc2": {
      "model_module": "@jupyter-widgets/controls",
      "model_module_version": "1.5.0",
      "model_name": "TextModel",
      "state": {
       "layout": "IPY_MODEL_0874150cd33b4f338f6b1c26dff102c7",
       "style": "IPY_MODEL_bca7ba9fc7824d44bf6c335006b342ee",
       "value": "1"
      }
     },
     "530cfdd26f0748289b69507965f5f976": {
      "model_module": "@jupyter-widgets/base",
      "model_module_version": "1.2.0",
      "model_name": "LayoutModel",
      "state": {
       "grid_template_columns": "repeat(1, 45px)"
      }
     },
     "5314d57e78cc452aa1553768be117baa": {
      "model_module": "@jupyter-widgets/controls",
      "model_module_version": "1.5.0",
      "model_name": "ButtonStyleModel",
      "state": {}
     },
     "53419434067445718e9fab6cffece423": {
      "model_module": "@jupyter-widgets/controls",
      "model_module_version": "1.5.0",
      "model_name": "TextModel",
      "state": {
       "layout": "IPY_MODEL_c4e9f4a8c7bf48249bb5b50320703732",
       "style": "IPY_MODEL_56b007c8a8db4463a14ce79b2feb8638",
       "value": "-1"
      }
     },
     "5352b5e23cab42d5bf5a3ffbd7f5f365": {
      "model_module": "@jupyter-widgets/controls",
      "model_module_version": "1.5.0",
      "model_name": "DescriptionStyleModel",
      "state": {
       "description_width": ""
      }
     },
     "5392883cd04a474298975cb2a08cb987": {
      "model_module": "@jupyter-widgets/base",
      "model_module_version": "1.2.0",
      "model_name": "LayoutModel",
      "state": {}
     },
     "53b8cfb9091a4cecb9428c8fddc1d973": {
      "model_module": "@jupyter-widgets/controls",
      "model_module_version": "1.5.0",
      "model_name": "DescriptionStyleModel",
      "state": {
       "description_width": ""
      }
     },
     "53c1d2ff0d2245d58dfe449f79866711": {
      "model_module": "@jupyter-widgets/controls",
      "model_module_version": "1.5.0",
      "model_name": "HBoxModel",
      "state": {
       "children": [
        "IPY_MODEL_8480d17f26ba49c28c2bdeb772f1d894",
        "IPY_MODEL_0d95daa820364580b5f349e5b6c8183c"
       ],
       "layout": "IPY_MODEL_7af887c1ce754405a2f2a9589e5bf13a"
      }
     },
     "53eb1473d88b4a3aaceb0999b7cff55f": {
      "model_module": "@jupyter-widgets/controls",
      "model_module_version": "1.5.0",
      "model_name": "GridBoxModel",
      "state": {
       "children": [
        "IPY_MODEL_fc11f3036a2340069e7ca92d35713c3e",
        "IPY_MODEL_37833543778841e89cbc37add145824d",
        "IPY_MODEL_4d8170839bfc4d9b9f5ac52c625f44e0"
       ],
       "layout": "IPY_MODEL_49fd5e4c9b1d4993a363a86aee870f1d"
      }
     },
     "541bb6baea244b2c9f6812d5a2a2977f": {
      "model_module": "@jupyter-widgets/controls",
      "model_module_version": "1.5.0",
      "model_name": "TextModel",
      "state": {
       "layout": "IPY_MODEL_56b7235de6f34f8ea7f7ee90eec44abc",
       "style": "IPY_MODEL_17c80a9b65ba4397a8ae0602a7ab3c41",
       "value": "3"
      }
     },
     "543b97e4312e47558f1647e861e4c8e9": {
      "model_module": "@jupyter-widgets/controls",
      "model_module_version": "1.5.0",
      "model_name": "DropdownModel",
      "state": {
       "_options_labels": [
        "x₁",
        "x₂",
        "x₃"
       ],
       "description": "Variable:",
       "index": 0,
       "layout": "IPY_MODEL_1b4268dc18d44be4a61907d01d27c8b5",
       "style": "IPY_MODEL_4cc40a907c7e4f4b84ad2867d1fd4a25"
      }
     },
     "5463981d808f497691e489b94ad67344": {
      "model_module": "@jupyter-widgets/base",
      "model_module_version": "1.2.0",
      "model_name": "LayoutModel",
      "state": {
       "flex_flow": "row wrap",
       "justify_content": "space-around"
      }
     },
     "5494e6e573104acaa1e97a7b3921f8e1": {
      "model_module": "@jupyter-widgets/controls",
      "model_module_version": "1.5.0",
      "model_name": "TextModel",
      "state": {
       "layout": "IPY_MODEL_7998cf86679645c9bf9a645c93e463c8",
       "style": "IPY_MODEL_385f7ef21e6c42b7a14e80454562e99a",
       "value": "-1"
      }
     },
     "54a2d4ad632f4e0a9bec17136c06356c": {
      "model_module": "@jupyter-widgets/controls",
      "model_module_version": "1.5.0",
      "model_name": "ButtonStyleModel",
      "state": {}
     },
     "54afdbe43b524f2caa172a6a616e3718": {
      "model_module": "@jupyter-widgets/controls",
      "model_module_version": "1.5.0",
      "model_name": "GridBoxModel",
      "state": {
       "children": [
        "IPY_MODEL_51b37c88e4e3402eba63fdf75bb0c207",
        "IPY_MODEL_78facfd705f54c0f8e373a70f95dc6c4",
        "IPY_MODEL_5d4162242fc64be2921f12ee22b4e0e2"
       ],
       "layout": "IPY_MODEL_7fe4efb1bf2e4bcda7eb6f5da2af52c5"
      }
     },
     "54cf9159348647bb8f395a796acae9c0": {
      "model_module": "@jupyter-widgets/controls",
      "model_module_version": "1.5.0",
      "model_name": "HTMLModel",
      "state": {
       "layout": "IPY_MODEL_bcf764ec543848e5bf7c14bcf39538e1",
       "style": "IPY_MODEL_b6715cfa5c7a4459aa14ec695256a012",
       "value": "Click this button to start or reset the app."
      }
     },
     "54ffbb7e2ce144d499a3518ccdf18b25": {
      "model_module": "@jupyter-widgets/controls",
      "model_module_version": "1.5.0",
      "model_name": "DescriptionStyleModel",
      "state": {
       "description_width": ""
      }
     },
     "5514dc6b2b4b4b24966a3859524340c7": {
      "model_module": "@jupyter-widgets/controls",
      "model_module_version": "1.5.0",
      "model_name": "HTMLMathModel",
      "state": {
       "layout": "IPY_MODEL_e2e71228076c4fd79b66985bed71a968",
       "style": "IPY_MODEL_af7df95cddf2421ebb1128ed30d87a17",
       "value": "Enter here the values of the constant matrix $\\bf{B}$"
      }
     },
     "554891e62847424990360635c1796211": {
      "model_module": "@jupyter-widgets/base",
      "model_module_version": "1.2.0",
      "model_name": "LayoutModel",
      "state": {
       "grid_template_columns": "repeat(3, 45px)"
      }
     },
     "5577faf43a6a4570863bd89df4fbd442": {
      "model_module": "@jupyter-widgets/controls",
      "model_module_version": "1.5.0",
      "model_name": "HBoxModel",
      "state": {
       "children": [
        "IPY_MODEL_3f12fab3b18443e2b631b63d2eb131e6",
        "IPY_MODEL_2c3fa02dd7444518b799859e1d057613"
       ],
       "layout": "IPY_MODEL_c2b347d1b8e343fc80eebd9eba2abedb"
      }
     },
     "559c02fefe4e4714986ad81c598dfd87": {
      "model_module": "@jupyter-widgets/controls",
      "model_module_version": "1.5.0",
      "model_name": "HTMLMathModel",
      "state": {
       "layout": "IPY_MODEL_7f720f05d4214fe0bd57c0c08793caf5",
       "style": "IPY_MODEL_3c189c56832142aca40bc4f1b2b67b75",
       "value": "Enter here the values of the constant matrix $\\bf{B}$"
      }
     },
     "559e088c23fd41ac878f827500212741": {
      "model_module": "@jupyter-widgets/base",
      "model_module_version": "1.2.0",
      "model_name": "LayoutModel",
      "state": {
       "height": "35px",
       "width": "40px"
      }
     },
     "55a193c8a4ca46b0b36d5f656dc50f5d": {
      "model_module": "@jupyter-widgets/controls",
      "model_module_version": "1.5.0",
      "model_name": "TextModel",
      "state": {
       "layout": "IPY_MODEL_8233178bdcdc4cc5a36e758a2579d1fc",
       "style": "IPY_MODEL_18768d699c86435593af7fb35fbf74fe",
       "value": "8"
      }
     },
     "55aef82009404c4facb5469dcd48f79d": {
      "model_module": "@jupyter-widgets/controls",
      "model_module_version": "1.5.0",
      "model_name": "DescriptionStyleModel",
      "state": {
       "description_width": ""
      }
     },
     "55cd142075404cada298cdb00329490f": {
      "model_module": "@jupyter-widgets/controls",
      "model_module_version": "1.5.0",
      "model_name": "ButtonModel",
      "state": {
       "description": "Start",
       "layout": "IPY_MODEL_f7d1a9352cec4258abdb17a0ab891256",
       "style": "IPY_MODEL_6786698e071349b9a4993372d4666eb9"
      }
     },
     "560780694bbe4108b31fbbb80ccd9d95": {
      "model_module": "@jupyter-widgets/base",
      "model_module_version": "1.2.0",
      "model_name": "LayoutModel",
      "state": {
       "width": "150px"
      }
     },
     "561e593575c94f98abae958fbf2c0c72": {
      "model_module": "@jupyter-widgets/controls",
      "model_module_version": "1.5.0",
      "model_name": "ButtonStyleModel",
      "state": {}
     },
     "567c883f7e0f45278e0c5387818cbb87": {
      "model_module": "@jupyter-widgets/controls",
      "model_module_version": "1.5.0",
      "model_name": "HTMLModel",
      "state": {
       "layout": "IPY_MODEL_4714d9ec0e2945a4859873656e67906e",
       "style": "IPY_MODEL_a2e3b11d09cc4c34b6792ebc67467239",
       "value": "Choose a variable to solve for."
      }
     },
     "56832c0f56a940729ec792ed4c7509d9": {
      "model_module": "@jupyter-widgets/controls",
      "model_module_version": "1.5.0",
      "model_name": "TextModel",
      "state": {
       "layout": "IPY_MODEL_f7d10756bf8e446d8f8deb1712e2baa5",
       "style": "IPY_MODEL_7e12332763094f359f2e31957dbb1cf6",
       "value": "1"
      }
     },
     "5686f7b186b841bf9153b4e97627d15b": {
      "model_module": "@jupyter-widgets/base",
      "model_module_version": "1.2.0",
      "model_name": "LayoutModel",
      "state": {
       "width": "140px"
      }
     },
     "56b007c8a8db4463a14ce79b2feb8638": {
      "model_module": "@jupyter-widgets/controls",
      "model_module_version": "1.5.0",
      "model_name": "DescriptionStyleModel",
      "state": {
       "description_width": ""
      }
     },
     "56b7235de6f34f8ea7f7ee90eec44abc": {
      "model_module": "@jupyter-widgets/base",
      "model_module_version": "1.2.0",
      "model_name": "LayoutModel",
      "state": {
       "height": "35px",
       "width": "40px"
      }
     },
     "56b7e82a3ee6423d99b96bf12d195ea8": {
      "model_module": "@jupyter-widgets/base",
      "model_module_version": "1.2.0",
      "model_name": "LayoutModel",
      "state": {
       "width": "90px"
      }
     },
     "56d8f1e784bc47399c1c3c525f6ab307": {
      "model_module": "@jupyter-widgets/controls",
      "model_module_version": "1.5.0",
      "model_name": "HTMLMathModel",
      "state": {
       "layout": "IPY_MODEL_e2c839898eeb47a7b768ea3215c56b59",
       "style": "IPY_MODEL_92acea392c3d4a198284bb931a66ac5c",
       "value": "$$ \\det A = \\left| \n      \\begin{array}{rrr}\n          1 & 1 & -1\\\\\n          3 & 1 & 1\\\\\n          1 & -1 & 4\n      \\end{array}\n      \\right| = -2$$ <br>$$ \\det A_1 = \\left| \n      \\begin{array}{rrr}\n          \\color{blue}{ 3 } & 1 & -1\\\\\n          \\color{blue}{ 9 } & 1 & 1\\\\\n          \\color{blue}{ 8 } & -1 & 4\n      \\end{array}\n      \\right| = 4$$ <br>$$ x_{ 1 } =\\frac{ \\det A_1}{\\det A} = \\frac{ 4 }{ -2 } = -2$$"
      }
     },
     "56df27793e6543c68124d0d9f0bbe699": {
      "model_module": "@jupyter-widgets/controls",
      "model_module_version": "1.5.0",
      "model_name": "DescriptionStyleModel",
      "state": {
       "description_width": ""
      }
     },
     "56fbdf82e9dc42c88bdec2dd60885252": {
      "model_module": "@jupyter-widgets/controls",
      "model_module_version": "1.5.0",
      "model_name": "HTMLModel",
      "state": {
       "layout": "IPY_MODEL_5266d89ff1904c969b48dd7050e46714",
       "style": "IPY_MODEL_fc430c42c5e04b30be13ba78f95fa31d",
       "value": "Choose a variable to solve for."
      }
     },
     "57332bc0532d4434b69127a4fe9bbe96": {
      "model_module": "@jupyter-widgets/controls",
      "model_module_version": "1.5.0",
      "model_name": "GridBoxModel",
      "state": {
       "children": [
        "IPY_MODEL_ff07ea5e46e14b55ba8c296d4c4c287a",
        "IPY_MODEL_61330802305d413ca5aa4c253724b8f9",
        "IPY_MODEL_cc7c6b0b7de64b61b7209baf6e4a3ed5",
        "IPY_MODEL_6bc1aa7891c1485ca881a7d336d8a866",
        "IPY_MODEL_acebc969cb13488dbc62012798010b4c",
        "IPY_MODEL_e8255f961a5044bca99da2837bf33b86",
        "IPY_MODEL_265ffc3e2d1b46d7bd5a4c5f4ac880d5",
        "IPY_MODEL_9d66c63101e2493486c34d5bd014311a",
        "IPY_MODEL_9e223ef534e44cd0869f1e642b63caa1"
       ],
       "layout": "IPY_MODEL_c6b1e55ac5dd4e44b1b4a7535b267322"
      }
     },
     "574e80f191c746689810b5bc9edb6c1d": {
      "model_module": "@jupyter-widgets/controls",
      "model_module_version": "1.5.0",
      "model_name": "TextModel",
      "state": {
       "layout": "IPY_MODEL_365ba57c32664ab38fd8d83a88c4d1cb",
       "style": "IPY_MODEL_0b42ce39416e4894a5c1e7699e177c8f",
       "value": "4"
      }
     },
     "577567110fd2456f9eca3590e4a973ad": {
      "model_module": "@jupyter-widgets/controls",
      "model_module_version": "1.5.0",
      "model_name": "VBoxModel",
      "state": {
       "children": [
        "IPY_MODEL_bf0625022ab247deac8ee47620d53bd0",
        "IPY_MODEL_d6c7dd4363464570a8cf204e978d956f",
        "IPY_MODEL_f3a2d7511ad841e8acc7f823ec913ce5"
       ],
       "layout": "IPY_MODEL_ffe087035ffa45c59334659b9046d837"
      }
     },
     "57ad282efc384caaa05b9a95932279aa": {
      "model_module": "@jupyter-widgets/controls",
      "model_module_version": "1.5.0",
      "model_name": "ButtonModel",
      "state": {
       "description": "Start",
       "layout": "IPY_MODEL_acdfcb6e434b4eed9d2875628b125019",
       "style": "IPY_MODEL_9e8cc330022548449c43dc523ef6be7b"
      }
     },
     "57bea68a605748ae8a52e8ea04258fd0": {
      "model_module": "@jupyter-widgets/controls",
      "model_module_version": "1.5.0",
      "model_name": "DescriptionStyleModel",
      "state": {
       "description_width": ""
      }
     },
     "58057d4cb3a845f4bcfed5d3ec575c9c": {
      "model_module": "@jupyter-widgets/controls",
      "model_module_version": "1.5.0",
      "model_name": "TextModel",
      "state": {
       "layout": "IPY_MODEL_5064eb8b796f469bb47ced8ec32aba1e",
       "style": "IPY_MODEL_0eae99973b10449b8c5b1545f2ab5a1a",
       "value": "1"
      }
     },
     "5836ba817e864349a4a5bc2ffbe548f8": {
      "model_module": "@jupyter-widgets/base",
      "model_module_version": "1.2.0",
      "model_name": "LayoutModel",
      "state": {
       "width": "140px"
      }
     },
     "5849b02b06b04641ab8112b654691463": {
      "model_module": "@jupyter-widgets/controls",
      "model_module_version": "1.5.0",
      "model_name": "ButtonModel",
      "state": {
       "description": "Start",
       "layout": "IPY_MODEL_4155dbad0a6c4f17a46885e04ccf8488",
       "style": "IPY_MODEL_e069f445c4e249f98a45aa2627bce057"
      }
     },
     "58a78b93609041db94b776c4125eef77": {
      "model_module": "@jupyter-widgets/controls",
      "model_module_version": "1.5.0",
      "model_name": "DescriptionStyleModel",
      "state": {
       "description_width": ""
      }
     },
     "58af85f8292e478d83f363d681e457df": {
      "model_module": "@jupyter-widgets/base",
      "model_module_version": "1.2.0",
      "model_name": "LayoutModel",
      "state": {
       "grid_template_columns": "repeat(1, 45px)"
      }
     },
     "58d63a8b43714dd48114e93f01888fbb": {
      "model_module": "@jupyter-widgets/controls",
      "model_module_version": "1.5.0",
      "model_name": "TextModel",
      "state": {
       "layout": "IPY_MODEL_5064eb8b796f469bb47ced8ec32aba1e",
       "style": "IPY_MODEL_7b0c76224ec74c39bce7aaf771c4f846",
       "value": "1"
      }
     },
     "58f4ac6ea7964c43ac73d72679cb0395": {
      "model_module": "@jupyter-widgets/controls",
      "model_module_version": "1.5.0",
      "model_name": "DescriptionStyleModel",
      "state": {
       "description_width": ""
      }
     },
     "592699a33e894a78829f2d661a6fed2e": {
      "model_module": "@jupyter-widgets/controls",
      "model_module_version": "1.5.0",
      "model_name": "DescriptionStyleModel",
      "state": {
       "description_width": ""
      }
     },
     "5935aabdc4d4487e9cdd64cb576bfca8": {
      "model_module": "@jupyter-widgets/controls",
      "model_module_version": "1.5.0",
      "model_name": "TextModel",
      "state": {
       "layout": "IPY_MODEL_0874150cd33b4f338f6b1c26dff102c7",
       "style": "IPY_MODEL_d87b8021ced448b3808378f03c963894",
       "value": "-1"
      }
     },
     "5978522bfacc4af29fdcd6561e1a1c46": {
      "model_module": "@jupyter-widgets/base",
      "model_module_version": "1.2.0",
      "model_name": "LayoutModel",
      "state": {
       "width": "150px"
      }
     },
     "597ee65fd6064aa88a40e11c9163bb9c": {
      "model_module": "@jupyter-widgets/controls",
      "model_module_version": "1.5.0",
      "model_name": "DescriptionStyleModel",
      "state": {
       "description_width": ""
      }
     },
     "59802643914c496ebcf728295bcab84a": {
      "model_module": "@jupyter-widgets/controls",
      "model_module_version": "1.5.0",
      "model_name": "DropdownModel",
      "state": {
       "_options_labels": [
        "x₁",
        "x₂",
        "x₃"
       ],
       "description": "Variable:",
       "index": 0,
       "layout": "IPY_MODEL_c1c7ede33e244e5fa4977e1c396d338e",
       "style": "IPY_MODEL_528dccaa5fd24b8fb96fabd1565eee4e"
      }
     },
     "59e6955e2a2640ee9cfe72e273961989": {
      "model_module": "@jupyter-widgets/controls",
      "model_module_version": "1.5.0",
      "model_name": "TextModel",
      "state": {
       "layout": "IPY_MODEL_bac3718a75224a58a09cb1f3e996c28a",
       "style": "IPY_MODEL_c51806adc2aa43dc9b4683aa656512d2",
       "value": "1"
      }
     },
     "59f799f2ecbb4afd81eba563249f9679": {
      "model_module": "@jupyter-widgets/controls",
      "model_module_version": "1.5.0",
      "model_name": "TextModel",
      "state": {
       "layout": "IPY_MODEL_852e11ecf67743b9b3d1ddb8b98182be",
       "style": "IPY_MODEL_bddcc759dfbe479d803fc4015a71b9f8",
       "value": "9"
      }
     },
     "5a1ea68344e34e87ada9a7c094389de8": {
      "model_module": "@jupyter-widgets/controls",
      "model_module_version": "1.5.0",
      "model_name": "DescriptionStyleModel",
      "state": {
       "description_width": ""
      }
     },
     "5a818b70f21344fa910adb104db14cce": {
      "model_module": "@jupyter-widgets/controls",
      "model_module_version": "1.5.0",
      "model_name": "DescriptionStyleModel",
      "state": {
       "description_width": ""
      }
     },
     "5aef4034fd464000ba9655b303430882": {
      "model_module": "@jupyter-widgets/controls",
      "model_module_version": "1.5.0",
      "model_name": "DescriptionStyleModel",
      "state": {
       "description_width": ""
      }
     },
     "5b60062b9ad0426fa8aa8ff34c526237": {
      "model_module": "@jupyter-widgets/controls",
      "model_module_version": "1.5.0",
      "model_name": "VBoxModel",
      "state": {
       "children": [
        "IPY_MODEL_b1fc902638b54b30b6bacf8e3df1ceac",
        "IPY_MODEL_57ad282efc384caaa05b9a95932279aa"
       ],
       "layout": "IPY_MODEL_f0ab3031cb3e4ab38096902a14541a2e"
      }
     },
     "5b6b015a32d44ab09fb43728a7a7502d": {
      "model_module": "@jupyter-widgets/controls",
      "model_module_version": "1.5.0",
      "model_name": "ButtonModel",
      "state": {
       "description": "Start",
       "layout": "IPY_MODEL_2a7fa78840a14a699c069050e4a9eeda",
       "style": "IPY_MODEL_79430d471b6f42bdb162bf10f2f8d084"
      }
     },
     "5bc89e4f53694c9d89b9a6291f718171": {
      "model_module": "@jupyter-widgets/controls",
      "model_module_version": "1.5.0",
      "model_name": "VBoxModel",
      "state": {
       "children": [
        "IPY_MODEL_495b687291f04f489343f08325569db2",
        "IPY_MODEL_6a06d86c11e64a7086f01586dc0b85f8"
       ],
       "layout": "IPY_MODEL_7178e7716872474b995bb2f983a3e012"
      }
     },
     "5c95d429bcdc42ad9b387a150222001b": {
      "model_module": "@jupyter-widgets/controls",
      "model_module_version": "1.5.0",
      "model_name": "HTMLMathModel",
      "state": {
       "layout": "IPY_MODEL_4ece10abcef94b5cba6ff86e5d2185e4",
       "style": "IPY_MODEL_3363d1ee84d04a85b3449faab3b8f073",
       "value": "Enter here the values of the matrix $\\bf{A}$"
      }
     },
     "5cbef9369f2347ba802c4881683482ae": {
      "model_module": "@jupyter-widgets/controls",
      "model_module_version": "1.5.0",
      "model_name": "HBoxModel",
      "state": {
       "children": [
        "IPY_MODEL_54afdbe43b524f2caa172a6a616e3718",
        "IPY_MODEL_b014c3a4940b4bb28c25ecd3848071b1"
       ],
       "layout": "IPY_MODEL_105888a4bd9d4cf3925eacded869c538"
      }
     },
     "5cc616c7eb8e45c88df5bb7d98b36946": {
      "model_module": "@jupyter-widgets/base",
      "model_module_version": "1.2.0",
      "model_name": "LayoutModel",
      "state": {
       "grid_template_columns": "repeat(3, 45px)"
      }
     },
     "5ccf3d7d947a4b3e91bdcd1285851901": {
      "model_module": "@jupyter-widgets/controls",
      "model_module_version": "1.5.0",
      "model_name": "ButtonStyleModel",
      "state": {}
     },
     "5cf0921e358647e0813943036d0a1551": {
      "model_module": "@jupyter-widgets/controls",
      "model_module_version": "1.5.0",
      "model_name": "DescriptionStyleModel",
      "state": {
       "description_width": ""
      }
     },
     "5d04eba6172b4238ba57ee4e002208eb": {
      "model_module": "@jupyter-widgets/controls",
      "model_module_version": "1.5.0",
      "model_name": "HTMLMathModel",
      "state": {
       "layout": "IPY_MODEL_dff578e791e84e39a696e8f3e650d9f6",
       "style": "IPY_MODEL_2df6f4dcf824417c88c040ba57dd7f0a",
       "value": "Enter here the values of the matrix $\\bf{A}$"
      }
     },
     "5d4162242fc64be2921f12ee22b4e0e2": {
      "model_module": "@jupyter-widgets/controls",
      "model_module_version": "1.5.0",
      "model_name": "TextModel",
      "state": {
       "layout": "IPY_MODEL_38b8c268bd754197a79daa5bfd085f20",
       "style": "IPY_MODEL_22484b3e0ce64752a33e9d3c2c4014cf",
       "value": "8"
      }
     },
     "5d673f71cf89432a9d1315e69d958bf4": {
      "model_module": "@jupyter-widgets/controls",
      "model_module_version": "1.5.0",
      "model_name": "TextModel",
      "state": {
       "layout": "IPY_MODEL_2d3cc260859645ad9ef1bccbe1a463c7",
       "style": "IPY_MODEL_ba875aa68bd6491f8cd41495cdb75e12",
       "value": "3"
      }
     },
     "5db2a5a548e44e89983f574461380de4": {
      "model_module": "@jupyter-widgets/controls",
      "model_module_version": "1.5.0",
      "model_name": "TextModel",
      "state": {
       "layout": "IPY_MODEL_7d582068d7aa41488a3ed889fd050d18",
       "style": "IPY_MODEL_deb3df6133d14d7e842a626a8b04d782",
       "value": "1"
      }
     },
     "5de9239ca205450ca45c62386142852d": {
      "model_module": "@jupyter-widgets/controls",
      "model_module_version": "1.5.0",
      "model_name": "VBoxModel",
      "state": {
       "children": [
        "IPY_MODEL_54cf9159348647bb8f395a796acae9c0",
        "IPY_MODEL_e9adc10895bf4a61ad9722de496d372e"
       ],
       "layout": "IPY_MODEL_d7417326679b4fe3bfc06dc5d79fa70e"
      }
     },
     "5e8d4a15079b4a92b0cd4151cdca6e10": {
      "model_module": "@jupyter-widgets/controls",
      "model_module_version": "1.5.0",
      "model_name": "TextModel",
      "state": {
       "layout": "IPY_MODEL_1e007c68dda5461984bff523c716db0a",
       "style": "IPY_MODEL_a81dd083cfad4d43bf49bb21a159ddc7",
       "value": "1"
      }
     },
     "5e8fb1a764c8462e89ba8c712d5accc6": {
      "model_module": "@jupyter-widgets/controls",
      "model_module_version": "1.5.0",
      "model_name": "TextModel",
      "state": {
       "layout": "IPY_MODEL_365ba57c32664ab38fd8d83a88c4d1cb",
       "style": "IPY_MODEL_c85b7ffed2d54ef4b7777221118518a4",
       "value": "-1"
      }
     },
     "5e961a00395144718823e70cd943e2a3": {
      "model_module": "@jupyter-widgets/base",
      "model_module_version": "1.2.0",
      "model_name": "LayoutModel",
      "state": {
       "grid_template_columns": "repeat(1, 45px)"
      }
     },
     "5ea745f58df2459d8d9b86bc2d12f6a0": {
      "model_module": "@jupyter-widgets/controls",
      "model_module_version": "1.5.0",
      "model_name": "DescriptionStyleModel",
      "state": {
       "description_width": ""
      }
     },
     "5eb17c9197454fa3b71479b3101334f3": {
      "model_module": "@jupyter-widgets/base",
      "model_module_version": "1.2.0",
      "model_name": "LayoutModel",
      "state": {
       "height": "120px",
       "width": "250px"
      }
     },
     "5ee71d2c2bad4ec58a2b9921d27c7d41": {
      "model_module": "@jupyter-widgets/controls",
      "model_module_version": "1.5.0",
      "model_name": "TextModel",
      "state": {
       "layout": "IPY_MODEL_852e11ecf67743b9b3d1ddb8b98182be",
       "style": "IPY_MODEL_f5373670035a4e9eb26bb516490ea7ca",
       "value": "3"
      }
     },
     "5f6499c0020344f4962151501743326c": {
      "model_module": "@jupyter-widgets/controls",
      "model_module_version": "1.5.0",
      "model_name": "DescriptionStyleModel",
      "state": {
       "description_width": ""
      }
     },
     "6002c3ce13b741049605955dfb921659": {
      "model_module": "@jupyter-widgets/base",
      "model_module_version": "1.2.0",
      "model_name": "LayoutModel",
      "state": {
       "flex_flow": "row wrap",
       "justify_content": "space-around"
      }
     },
     "607bcb25cb1a485a9ce7d042e9098f96": {
      "model_module": "@jupyter-widgets/controls",
      "model_module_version": "1.5.0",
      "model_name": "DescriptionStyleModel",
      "state": {
       "description_width": ""
      }
     },
     "60a937da50d94a188923d67d369c54e2": {
      "model_module": "@jupyter-widgets/base",
      "model_module_version": "1.2.0",
      "model_name": "LayoutModel",
      "state": {
       "width": "90px"
      }
     },
     "60c6e7ab086b4839aa9fa85bff510451": {
      "model_module": "@jupyter-widgets/controls",
      "model_module_version": "1.5.0",
      "model_name": "ButtonModel",
      "state": {
       "description": "Solve",
       "layout": "IPY_MODEL_c781cc9a27d64f65b42cf686a87d0ced",
       "style": "IPY_MODEL_4edcbbc317bd4b4caba7445a0038e96a"
      }
     },
     "60fba3a3410847dc8a3bad3fcd17590c": {
      "model_module": "@jupyter-widgets/base",
      "model_module_version": "1.2.0",
      "model_name": "LayoutModel",
      "state": {
       "height": "35px",
       "width": "40px"
      }
     },
     "610f6c3c649b44fe9dd872eecc7cd24a": {
      "model_module": "@jupyter-widgets/controls",
      "model_module_version": "1.5.0",
      "model_name": "VBoxModel",
      "state": {
       "children": [
        "IPY_MODEL_21083f81c53742828c6c53985ed0f050",
        "IPY_MODEL_3b621ccc2c7a49568b06ad7245e785a4"
       ],
       "layout": "IPY_MODEL_806f0fbe228c4c1aaf9fbad794519592"
      }
     },
     "61330802305d413ca5aa4c253724b8f9": {
      "model_module": "@jupyter-widgets/controls",
      "model_module_version": "1.5.0",
      "model_name": "TextModel",
      "state": {
       "layout": "IPY_MODEL_f10e93f25a7549fb8fcf6aa01db5a79e",
       "style": "IPY_MODEL_76e246db78664386875c2573ded561de",
       "value": "1"
      }
     },
     "615fab45d2e0450ca62eecfbb6224aa1": {
      "model_module": "@jupyter-widgets/controls",
      "model_module_version": "1.5.0",
      "model_name": "DescriptionStyleModel",
      "state": {
       "description_width": ""
      }
     },
     "61a36a48f27648f2b54447eb4ec8547b": {
      "model_module": "@jupyter-widgets/controls",
      "model_module_version": "1.5.0",
      "model_name": "VBoxModel",
      "state": {
       "children": [
        "IPY_MODEL_99ea9787cfcd464f994bd4e512e7a259",
        "IPY_MODEL_8373088f873c4c1883c80b18f2d0616e"
       ],
       "layout": "IPY_MODEL_6bf32aff607543529709e0f3c0b2645f"
      }
     },
     "61c9c30c916f4ec2b6c05220ce42bec9": {
      "model_module": "@jupyter-widgets/controls",
      "model_module_version": "1.5.0",
      "model_name": "DescriptionStyleModel",
      "state": {
       "description_width": ""
      }
     },
     "62188abecf3d454daf2c3553c7cfb1a2": {
      "model_module": "@jupyter-widgets/controls",
      "model_module_version": "1.5.0",
      "model_name": "DescriptionStyleModel",
      "state": {
       "description_width": ""
      }
     },
     "62fae667a3cf4824a89c1dedeab82461": {
      "model_module": "@jupyter-widgets/controls",
      "model_module_version": "1.5.0",
      "model_name": "HTMLMathModel",
      "state": {
       "layout": "IPY_MODEL_649b22012bf8429f8f0abe6b463729b4",
       "style": "IPY_MODEL_7ad6c7f81d114e33aec584baf0768844",
       "value": "$$ \\mathbf{A} = \\left[  \n      \\begin{array}{rrr}\n          1 & 1 & -1\\\\\n          3 & 1 & 1\\\\\n          0 & 0 & 0\n      \\end{array}\n      , \\right] \\quad \\color{blue}{\\mathbf{B} = \\left[ \n    \\begin{array}{r}\n        3 \\\\\n        9 \\\\\n        8 \n    \\end{array}\n    \\right]}$$<br>with $\\color{red}{ \\det A =0}$."
      }
     },
     "6353fab1d848418698d06ca5f3a9a7dc": {
      "model_module": "@jupyter-widgets/base",
      "model_module_version": "1.2.0",
      "model_name": "LayoutModel",
      "state": {}
     },
     "63b9a935fa6e43e9ae4df01965a28d16": {
      "model_module": "@jupyter-widgets/controls",
      "model_module_version": "1.5.0",
      "model_name": "DescriptionStyleModel",
      "state": {
       "description_width": ""
      }
     },
     "63da124cfc8941ef9e14db7c9e79105f": {
      "model_module": "@jupyter-widgets/controls",
      "model_module_version": "1.5.0",
      "model_name": "BoxModel",
      "state": {
       "children": [
        "IPY_MODEL_f45dae5b9881408f9455a0ac4aca6a8e",
        "IPY_MODEL_e9e4315023f74b2f91c45b734f586dde"
       ],
       "layout": "IPY_MODEL_a233a753b38d456d86c288f2de64bdbd"
      }
     },
     "63e0da762ecc43ce8f82a1fa594a3462": {
      "model_module": "@jupyter-widgets/base",
      "model_module_version": "1.2.0",
      "model_name": "LayoutModel",
      "state": {
       "width": "90px"
      }
     },
     "63f2567a0ec44616976ee60db22cfdc9": {
      "model_module": "@jupyter-widgets/controls",
      "model_module_version": "1.5.0",
      "model_name": "BoxModel",
      "state": {
       "children": [
        "IPY_MODEL_03355950acbf49809b2c40cb1b13dc89",
        "IPY_MODEL_4e46001064bd4026b238f18c645caa14"
       ],
       "layout": "IPY_MODEL_726b1ad576e8423590b8e2cc93adbd54"
      }
     },
     "641bed9369ef47f895221a8a31cc6f57": {
      "model_module": "@jupyter-widgets/base",
      "model_module_version": "1.2.0",
      "model_name": "LayoutModel",
      "state": {}
     },
     "6431fbaa11d64071bb7618db12742562": {
      "model_module": "@jupyter-widgets/controls",
      "model_module_version": "1.5.0",
      "model_name": "TextModel",
      "state": {
       "layout": "IPY_MODEL_2d3cc260859645ad9ef1bccbe1a463c7",
       "style": "IPY_MODEL_dfc8e6482273467a95c0e7536352f873",
       "value": "1"
      }
     },
     "64357ad325f84e1387de767a42980384": {
      "model_module": "@jupyter-widgets/controls",
      "model_module_version": "1.5.0",
      "model_name": "HTMLModel",
      "state": {
       "layout": "IPY_MODEL_833509b634244d0696b72ee91d921d99",
       "style": "IPY_MODEL_124d8713d1144bb8ad4adbf85c133e04",
       "value": "Choose a variable to solve for."
      }
     },
     "6475338d3fb04855827346cdcfe9435b": {
      "model_module": "@jupyter-widgets/controls",
      "model_module_version": "1.5.0",
      "model_name": "VBoxModel",
      "state": {
       "children": [
        "IPY_MODEL_e0e009a5471947f28258ffd13c93985c",
        "IPY_MODEL_220dbd925a01466489dd11b6120f7b34",
        "IPY_MODEL_467c9ad7ece84af7b728ac6a19f9f776"
       ],
       "layout": "IPY_MODEL_28d7b1cbdb3246db8d852cd7e47ac786"
      }
     },
     "647537b4b7484b069f0998897576bd2e": {
      "model_module": "@jupyter-widgets/controls",
      "model_module_version": "1.5.0",
      "model_name": "DropdownModel",
      "state": {
       "_options_labels": [
        "x₁",
        "x₂",
        "x₃"
       ],
       "description": "Variable:",
       "index": 0,
       "layout": "IPY_MODEL_3ad5e7cdfa11470eac032ab3fee43f5c",
       "style": "IPY_MODEL_c1ce741e123141c997f314f6288a9268"
      }
     },
     "649b22012bf8429f8f0abe6b463729b4": {
      "model_module": "@jupyter-widgets/base",
      "model_module_version": "1.2.0",
      "model_name": "LayoutModel",
      "state": {
       "height": "120px",
       "justify_content": "center",
       "width": "300px"
      }
     },
     "64d1a6578313440cab8405d762801b15": {
      "model_module": "@jupyter-widgets/controls",
      "model_module_version": "1.5.0",
      "model_name": "ButtonStyleModel",
      "state": {}
     },
     "64ef08c010ec46e48d46b38450056db9": {
      "model_module": "@jupyter-widgets/controls",
      "model_module_version": "1.5.0",
      "model_name": "DescriptionStyleModel",
      "state": {
       "description_width": ""
      }
     },
     "6504ad466f5b47bd9a2dac27a617df3b": {
      "model_module": "@jupyter-widgets/controls",
      "model_module_version": "1.5.0",
      "model_name": "DescriptionStyleModel",
      "state": {
       "description_width": ""
      }
     },
     "65172673b6e24a8395423da8e1827d59": {
      "model_module": "@jupyter-widgets/controls",
      "model_module_version": "1.5.0",
      "model_name": "HTMLMathModel",
      "state": {
       "layout": "IPY_MODEL_4dc36751d78d44e99b0e9c71f7475dcd",
       "style": "IPY_MODEL_67917e46a72b4d8cb27fd490a30f059a",
       "value": "The matrix $\\bf{A}$ and the vector $\\bf{B}$ will appear here."
      }
     },
     "654f3a0014d342d28d3cb317bd505f05": {
      "model_module": "@jupyter-widgets/controls",
      "model_module_version": "1.5.0",
      "model_name": "VBoxModel",
      "state": {
       "children": [
        "IPY_MODEL_b2afdf255d7c48b7b5d246b6c9df1926",
        "IPY_MODEL_bcecb80dc51c468493b8c769e14382c1"
       ],
       "layout": "IPY_MODEL_027b65c234e5496488a2f154b77b05fb"
      }
     },
     "65b09e69089f43a8aea3d8eb040135b5": {
      "model_module": "@jupyter-widgets/controls",
      "model_module_version": "1.5.0",
      "model_name": "TextModel",
      "state": {
       "layout": "IPY_MODEL_bac3718a75224a58a09cb1f3e996c28a",
       "style": "IPY_MODEL_35c47ceb696442c78dfabe65394ea261",
       "value": "1"
      }
     },
     "65efa6506b9646edb5d5ac9271aaaf71": {
      "model_module": "@jupyter-widgets/controls",
      "model_module_version": "1.5.0",
      "model_name": "ButtonStyleModel",
      "state": {}
     },
     "667a408067064560846a9780c551ffc6": {
      "model_module": "@jupyter-widgets/base",
      "model_module_version": "1.2.0",
      "model_name": "LayoutModel",
      "state": {}
     },
     "6684522fb75b4691808ca2a0100b2ad6": {
      "model_module": "@jupyter-widgets/controls",
      "model_module_version": "1.5.0",
      "model_name": "TextModel",
      "state": {
       "layout": "IPY_MODEL_56b7235de6f34f8ea7f7ee90eec44abc",
       "style": "IPY_MODEL_48c2e2524fd04ae6b51d7cc20601a3ad",
       "value": "1"
      }
     },
     "66e3efaaf6904eb89266ef365049fe7d": {
      "model_module": "@jupyter-widgets/controls",
      "model_module_version": "1.5.0",
      "model_name": "DescriptionStyleModel",
      "state": {
       "description_width": ""
      }
     },
     "66f8360656524313ae56ba7ecb2b480a": {
      "model_module": "@jupyter-widgets/base",
      "model_module_version": "1.2.0",
      "model_name": "LayoutModel",
      "state": {
       "height": "120px",
       "width": "150px"
      }
     },
     "6708b0062eb44725968dfda412a39a8b": {
      "model_module": "@jupyter-widgets/base",
      "model_module_version": "1.2.0",
      "model_name": "LayoutModel",
      "state": {
       "width": "140px"
      }
     },
     "6786698e071349b9a4993372d4666eb9": {
      "model_module": "@jupyter-widgets/controls",
      "model_module_version": "1.5.0",
      "model_name": "ButtonStyleModel",
      "state": {}
     },
     "67880a7c346a46eeb7fed90d1f0140c7": {
      "model_module": "@jupyter-widgets/controls",
      "model_module_version": "1.5.0",
      "model_name": "DescriptionStyleModel",
      "state": {
       "description_width": ""
      }
     },
     "67917e46a72b4d8cb27fd490a30f059a": {
      "model_module": "@jupyter-widgets/controls",
      "model_module_version": "1.5.0",
      "model_name": "DescriptionStyleModel",
      "state": {
       "description_width": ""
      }
     },
     "6796eb6a0a9546ac99be9da7de418c67": {
      "model_module": "@jupyter-widgets/controls",
      "model_module_version": "1.5.0",
      "model_name": "VBoxModel",
      "state": {
       "children": [
        "IPY_MODEL_6a0c54f36d6e4a6e96b2bc9b11bb94c1",
        "IPY_MODEL_889e875f29e6492bb05781cd1510d894",
        "IPY_MODEL_3ec3c0e749a64b1b97cdfbaf5cce3bdd"
       ],
       "layout": "IPY_MODEL_38ff024f508945478eeb0d8f8e397f0d"
      }
     },
     "67ae58bed016438db186e590000eee14": {
      "model_module": "@jupyter-widgets/controls",
      "model_module_version": "1.5.0",
      "model_name": "TextModel",
      "state": {
       "layout": "IPY_MODEL_852e11ecf67743b9b3d1ddb8b98182be",
       "style": "IPY_MODEL_9668507c7bad4659a8de85202bbc1aa5",
       "value": "4"
      }
     },
     "67d3453834944c4687abd12494253e48": {
      "model_module": "@jupyter-widgets/controls",
      "model_module_version": "1.5.0",
      "model_name": "DescriptionStyleModel",
      "state": {
       "description_width": ""
      }
     },
     "681b2cf913764bdc875c07a70f9cba5f": {
      "model_module": "@jupyter-widgets/base",
      "model_module_version": "1.2.0",
      "model_name": "LayoutModel",
      "state": {
       "grid_template_columns": "repeat(3, 45px)"
      }
     },
     "68aae2c0d6fc444bbbdf19ae32452a5e": {
      "model_module": "@jupyter-widgets/controls",
      "model_module_version": "1.5.0",
      "model_name": "TextModel",
      "state": {
       "layout": "IPY_MODEL_1e007c68dda5461984bff523c716db0a",
       "style": "IPY_MODEL_b2eeedeccecf47b49a1b1322c5fa7e73",
       "value": "8"
      }
     },
     "68c246c3168945ae923537278bae3037": {
      "model_module": "@jupyter-widgets/base",
      "model_module_version": "1.2.0",
      "model_name": "LayoutModel",
      "state": {
       "height": "250px",
       "justify_content": "center",
       "width": "400px"
      }
     },
     "68ca2140815f436e9cdcd579fff5f10e": {
      "model_module": "@jupyter-widgets/controls",
      "model_module_version": "1.5.0",
      "model_name": "DescriptionStyleModel",
      "state": {
       "description_width": ""
      }
     },
     "69114b9823f04ca2a430894207dc7091": {
      "model_module": "@jupyter-widgets/controls",
      "model_module_version": "1.5.0",
      "model_name": "DescriptionStyleModel",
      "state": {
       "description_width": ""
      }
     },
     "693e0f524a9743148503afd0dcc0569d": {
      "model_module": "@jupyter-widgets/base",
      "model_module_version": "1.2.0",
      "model_name": "LayoutModel",
      "state": {
       "height": "120px",
       "justify_content": "center",
       "width": "300px"
      }
     },
     "69995b77f84d4f48b5a840290a1aa72c": {
      "model_module": "@jupyter-widgets/controls",
      "model_module_version": "1.5.0",
      "model_name": "ButtonStyleModel",
      "state": {}
     },
     "69a1505583df48beb1fd70a5a0319a67": {
      "model_module": "@jupyter-widgets/controls",
      "model_module_version": "1.5.0",
      "model_name": "DescriptionStyleModel",
      "state": {
       "description_width": ""
      }
     },
     "69c3b254b85848109cda450d5f25d9cb": {
      "model_module": "@jupyter-widgets/controls",
      "model_module_version": "1.5.0",
      "model_name": "DescriptionStyleModel",
      "state": {
       "description_width": ""
      }
     },
     "6a06d86c11e64a7086f01586dc0b85f8": {
      "model_module": "@jupyter-widgets/controls",
      "model_module_version": "1.5.0",
      "model_name": "ButtonModel",
      "state": {
       "description": "Start",
       "layout": "IPY_MODEL_715902dca5a9451681c0d82f42b1e8e8",
       "style": "IPY_MODEL_fe5694fd18d644b38c1a693baa37d4c4"
      }
     },
     "6a0c54f36d6e4a6e96b2bc9b11bb94c1": {
      "model_module": "@jupyter-widgets/controls",
      "model_module_version": "1.5.0",
      "model_name": "HTMLModel",
      "state": {
       "layout": "IPY_MODEL_027a904d878c441182cafccd60b5e533",
       "style": "IPY_MODEL_9806e0bf401f4ed5b752807b18510322",
       "value": "Choose a variable to solve for."
      }
     },
     "6a19b88762ef43f2a857a2d9694f3df7": {
      "model_module": "@jupyter-widgets/controls",
      "model_module_version": "1.5.0",
      "model_name": "DescriptionStyleModel",
      "state": {
       "description_width": ""
      }
     },
     "6aa6f2fed8b64a7f804c052d168a9ee8": {
      "model_module": "@jupyter-widgets/base",
      "model_module_version": "1.2.0",
      "model_name": "LayoutModel",
      "state": {
       "flex_flow": "row wrap",
       "justify_content": "space-around"
      }
     },
     "6b0cb042ed0e4d33a5e28bb4cd370bb0": {
      "model_module": "@jupyter-widgets/base",
      "model_module_version": "1.2.0",
      "model_name": "LayoutModel",
      "state": {
       "flex_flow": "row wrap",
       "justify_content": "space-around"
      }
     },
     "6b1957d0a8cd4b459523dbb3830b81fb": {
      "model_module": "@jupyter-widgets/controls",
      "model_module_version": "1.5.0",
      "model_name": "GridBoxModel",
      "state": {
       "children": [
        "IPY_MODEL_09eb1734c22341e5886a768bf4b65288",
        "IPY_MODEL_1d29587561aa414492ecd0802dac4fde",
        "IPY_MODEL_d55c826258384b5ca82b9932261de5fe",
        "IPY_MODEL_26fce033498446869d5609219d92c323",
        "IPY_MODEL_cae850518c2446ba9e8deef9bec0d54d",
        "IPY_MODEL_95407559739446a5bd896205bdfaa2ef",
        "IPY_MODEL_fcd26877cfb64fcda796f38b3d8a6bf8",
        "IPY_MODEL_53419434067445718e9fab6cffece423",
        "IPY_MODEL_18100358d5304ed4891d4bdaa1675d17"
       ],
       "layout": "IPY_MODEL_998d29842a7740979626b1b05da6afda"
      }
     },
     "6b41b000ef6f4024b869523c4d0c37ba": {
      "model_module": "@jupyter-widgets/controls",
      "model_module_version": "1.5.0",
      "model_name": "TextModel",
      "state": {
       "layout": "IPY_MODEL_2d3cc260859645ad9ef1bccbe1a463c7",
       "style": "IPY_MODEL_d58eb465e51a47ad89b5cec896bfde2f",
       "value": "-1"
      }
     },
     "6b5461e92b044da5a8d7f268f52ddd36": {
      "model_module": "@jupyter-widgets/base",
      "model_module_version": "1.2.0",
      "model_name": "LayoutModel",
      "state": {
       "width": "150px"
      }
     },
     "6bc1aa7891c1485ca881a7d336d8a866": {
      "model_module": "@jupyter-widgets/controls",
      "model_module_version": "1.5.0",
      "model_name": "TextModel",
      "state": {
       "layout": "IPY_MODEL_f10e93f25a7549fb8fcf6aa01db5a79e",
       "style": "IPY_MODEL_f8427d4e1e47448cac575902a89dfdec",
       "value": "3"
      }
     },
     "6bda8a85bd724bcf99a357ca2a1182a1": {
      "model_module": "@jupyter-widgets/base",
      "model_module_version": "1.2.0",
      "model_name": "LayoutModel",
      "state": {
       "height": "120px",
       "width": "150px"
      }
     },
     "6bf32aff607543529709e0f3c0b2645f": {
      "model_module": "@jupyter-widgets/base",
      "model_module_version": "1.2.0",
      "model_name": "LayoutModel",
      "state": {}
     },
     "6bf454cd6bcb4a3eb2cc67e00205a6ce": {
      "model_module": "@jupyter-widgets/base",
      "model_module_version": "1.2.0",
      "model_name": "LayoutModel",
      "state": {
       "width": "90px"
      }
     },
     "6c12bb4856da463dbbf44105af7b870c": {
      "model_module": "@jupyter-widgets/controls",
      "model_module_version": "1.5.0",
      "model_name": "DropdownModel",
      "state": {
       "_options_labels": [
        "x₁",
        "x₂",
        "x₃"
       ],
       "description": "Variable:",
       "index": 0,
       "layout": "IPY_MODEL_12b76c038c0147fda9f414638b916c71",
       "style": "IPY_MODEL_5281fdc373464eb4a844ab1d0465d1bb"
      }
     },
     "6ca2a295b9c94904b257b27da95edd4a": {
      "model_module": "@jupyter-widgets/controls",
      "model_module_version": "1.5.0",
      "model_name": "HTMLModel",
      "state": {
       "layout": "IPY_MODEL_f81db706629142c286d97b14d0c1a6b4",
       "style": "IPY_MODEL_03ae277881894842a7d53dae3f6e0d63",
       "value": "Click this button to start or reset the app."
      }
     },
     "6cb235ee5019421f9e5e0a1ba04b88fc": {
      "model_module": "@jupyter-widgets/controls",
      "model_module_version": "1.5.0",
      "model_name": "TextModel",
      "state": {
       "layout": "IPY_MODEL_365ba57c32664ab38fd8d83a88c4d1cb",
       "style": "IPY_MODEL_efbd1c61bde84c6ebf1088748ab3398c",
       "value": "1"
      }
     },
     "6cd88ea583844625819e9b10bf2b26d6": {
      "model_module": "@jupyter-widgets/controls",
      "model_module_version": "1.5.0",
      "model_name": "DescriptionStyleModel",
      "state": {
       "description_width": ""
      }
     },
     "6d12f804ff8f46999deb3b23441f804d": {
      "model_module": "@jupyter-widgets/controls",
      "model_module_version": "1.5.0",
      "model_name": "DescriptionStyleModel",
      "state": {
       "description_width": ""
      }
     },
     "6d65fc00f72c42fa9db8d630c879b6aa": {
      "model_module": "@jupyter-widgets/controls",
      "model_module_version": "1.5.0",
      "model_name": "DescriptionStyleModel",
      "state": {
       "description_width": ""
      }
     },
     "6d7785a2661d4e97a942d8ad80a2913e": {
      "model_module": "@jupyter-widgets/controls",
      "model_module_version": "1.5.0",
      "model_name": "HTMLModel",
      "state": {
       "layout": "IPY_MODEL_2f8626ba2e2f48b1bdcb62d93f8bc49e",
       "style": "IPY_MODEL_a71e2338f72f4e1db598228128cea957",
       "value": "Click this button to start or reset the app."
      }
     },
     "6dd9d49cdd144c399930680ed98ca003": {
      "model_module": "@jupyter-widgets/controls",
      "model_module_version": "1.5.0",
      "model_name": "HTMLMathModel",
      "state": {
       "layout": "IPY_MODEL_6bf454cd6bcb4a3eb2cc67e00205a6ce",
       "style": "IPY_MODEL_e43553509aeb4e28847f0cabb3563bbc",
       "value": "Enter here the values of the matrix $\\bf{A}$"
      }
     },
     "6e773909b5024195a3ff19512b578224": {
      "model_module": "@jupyter-widgets/base",
      "model_module_version": "1.2.0",
      "model_name": "LayoutModel",
      "state": {
       "grid_template_columns": "repeat(1, 45px)"
      }
     },
     "6f80caaec38549968d2bc33d41edaa73": {
      "model_module": "@jupyter-widgets/base",
      "model_module_version": "1.2.0",
      "model_name": "LayoutModel",
      "state": {
       "width": "140px"
      }
     },
     "6f85f4f9bdd749aead96ce8ade560d21": {
      "model_module": "@jupyter-widgets/controls",
      "model_module_version": "1.5.0",
      "model_name": "HTMLMathModel",
      "state": {
       "layout": "IPY_MODEL_a8fde438c16c4f5f83fe5b26652fd9a4",
       "style": "IPY_MODEL_f2193e55883046b998c091924c01d4ed",
       "value": "Enter here the values of the matrix $\\bf{A}$"
      }
     },
     "6feb77eae3bb45869e4176abc3c49d5b": {
      "model_module": "@jupyter-widgets/controls",
      "model_module_version": "1.5.0",
      "model_name": "TextModel",
      "state": {
       "layout": "IPY_MODEL_f7d10756bf8e446d8f8deb1712e2baa5",
       "style": "IPY_MODEL_56df27793e6543c68124d0d9f0bbe699",
       "value": "-1"
      }
     },
     "6febc84c9a474689b08c3f28ba926265": {
      "model_module": "@jupyter-widgets/base",
      "model_module_version": "1.2.0",
      "model_name": "LayoutModel",
      "state": {
       "height": "120px",
       "justify_content": "center",
       "width": "300px"
      }
     },
     "7074f086776f4a7e82c0aa03ae4597dd": {
      "model_module": "@jupyter-widgets/controls",
      "model_module_version": "1.5.0",
      "model_name": "HTMLMathModel",
      "state": {
       "layout": "IPY_MODEL_56b7e82a3ee6423d99b96bf12d195ea8",
       "style": "IPY_MODEL_0fb1df5ecd4d4fce8e31d67c122bea45",
       "value": "Enter here the values of the constant matrix $\\bf{B}$"
      }
     },
     "70be9284031b4ef69bc8f8cd9ea061ad": {
      "model_module": "@jupyter-widgets/base",
      "model_module_version": "1.2.0",
      "model_name": "LayoutModel",
      "state": {
       "grid_template_columns": "repeat(1, 45px)"
      }
     },
     "70bfd434087049fe870217039796f2c4": {
      "model_module": "@jupyter-widgets/controls",
      "model_module_version": "1.5.0",
      "model_name": "DescriptionStyleModel",
      "state": {
       "description_width": ""
      }
     },
     "70ccc5a3eed84371b94d8b06f9dc2566": {
      "model_module": "@jupyter-widgets/controls",
      "model_module_version": "1.5.0",
      "model_name": "TextModel",
      "state": {
       "layout": "IPY_MODEL_7998cf86679645c9bf9a645c93e463c8",
       "style": "IPY_MODEL_cfa28566a05d4ec1bfb484acd6fe7941",
       "value": "-1"
      }
     },
     "71206d9fbeda48baa48f018601bf60c4": {
      "model_module": "@jupyter-widgets/controls",
      "model_module_version": "1.5.0",
      "model_name": "TextModel",
      "state": {
       "layout": "IPY_MODEL_7d582068d7aa41488a3ed889fd050d18",
       "style": "IPY_MODEL_e60c7ea7cc0e475687cc4be356b2f4c2",
       "value": "1"
      }
     },
     "7129293fe2ac4a2eb4c916d60effc4a0": {
      "model_module": "@jupyter-widgets/controls",
      "model_module_version": "1.5.0",
      "model_name": "DropdownModel",
      "state": {
       "_options_labels": [
        "x₁",
        "x₂",
        "x₃"
       ],
       "description": "Variable:",
       "index": 0,
       "layout": "IPY_MODEL_3965fe420976455f8ea6da31dad90195",
       "style": "IPY_MODEL_c7b2062df8304614bd0ad8a18c794a28"
      }
     },
     "71516d345a6c4ebc8770d19f97cb3c2e": {
      "model_module": "@jupyter-widgets/base",
      "model_module_version": "1.2.0",
      "model_name": "LayoutModel",
      "state": {
       "height": "120px",
       "justify_content": "center",
       "width": "300px"
      }
     },
     "715902dca5a9451681c0d82f42b1e8e8": {
      "model_module": "@jupyter-widgets/base",
      "model_module_version": "1.2.0",
      "model_name": "LayoutModel",
      "state": {}
     },
     "7178e7716872474b995bb2f983a3e012": {
      "model_module": "@jupyter-widgets/base",
      "model_module_version": "1.2.0",
      "model_name": "LayoutModel",
      "state": {}
     },
     "71f38cc1a7ca4e0b9fc9f8b6f7d78f52": {
      "model_module": "@jupyter-widgets/base",
      "model_module_version": "1.2.0",
      "model_name": "LayoutModel",
      "state": {}
     },
     "720ed09e04a34eda8d31e297f2fcbc60": {
      "model_module": "@jupyter-widgets/controls",
      "model_module_version": "1.5.0",
      "model_name": "HTMLModel",
      "state": {
       "layout": "IPY_MODEL_21d7adf3369649b4923093a1e345a6f2",
       "style": "IPY_MODEL_e13652ef48d74c838e0db6c6bfc22fed",
       "value": "Choose a variable to solve for."
      }
     },
     "723a1204f29f49bfa051656d0f23508b": {
      "model_module": "@jupyter-widgets/base",
      "model_module_version": "1.2.0",
      "model_name": "LayoutModel",
      "state": {}
     },
     "7244d838e5034f25a69462c3c311f87b": {
      "model_module": "@jupyter-widgets/controls",
      "model_module_version": "1.5.0",
      "model_name": "VBoxModel",
      "state": {
       "children": [
        "IPY_MODEL_64357ad325f84e1387de767a42980384",
        "IPY_MODEL_ea3b8df8c97447369ce5a9bdaae50b0d",
        "IPY_MODEL_30fe525ea2124975832c3d7589333031"
       ],
       "layout": "IPY_MODEL_2b505704e21545e4b7d2ac7c79181e1c"
      }
     },
     "726b1ad576e8423590b8e2cc93adbd54": {
      "model_module": "@jupyter-widgets/base",
      "model_module_version": "1.2.0",
      "model_name": "LayoutModel",
      "state": {
       "flex_flow": "row wrap",
       "justify_content": "space-around"
      }
     },
     "72849f77f85441ebba339ccabd5b5537": {
      "model_module": "@jupyter-widgets/base",
      "model_module_version": "1.2.0",
      "model_name": "LayoutModel",
      "state": {
       "flex_flow": "row wrap",
       "justify_content": "space-around"
      }
     },
     "728b8198921040769d8332129cb9ce08": {
      "model_module": "@jupyter-widgets/base",
      "model_module_version": "1.2.0",
      "model_name": "LayoutModel",
      "state": {
       "grid_template_columns": "repeat(3, 45px)"
      }
     },
     "7336118e334a4356a4aaccb61cfcd254": {
      "model_module": "@jupyter-widgets/base",
      "model_module_version": "1.2.0",
      "model_name": "LayoutModel",
      "state": {}
     },
     "734d4b746cd64e4c9f1d7f081c3ec1c6": {
      "model_module": "@jupyter-widgets/controls",
      "model_module_version": "1.5.0",
      "model_name": "ButtonModel",
      "state": {
       "description": "Solve",
       "layout": "IPY_MODEL_082f1558b36947cead0e12596167732d",
       "style": "IPY_MODEL_64d1a6578313440cab8405d762801b15"
      }
     },
     "739cff42dafc4329b6227463fc5c5dfa": {
      "model_module": "@jupyter-widgets/controls",
      "model_module_version": "1.5.0",
      "model_name": "TextModel",
      "state": {
       "layout": "IPY_MODEL_f10e93f25a7549fb8fcf6aa01db5a79e",
       "style": "IPY_MODEL_53b8cfb9091a4cecb9428c8fddc1d973",
       "value": "3"
      }
     },
     "73ae163c10344ea98639d84c6a7d6deb": {
      "model_module": "@jupyter-widgets/controls",
      "model_module_version": "1.5.0",
      "model_name": "DescriptionStyleModel",
      "state": {
       "description_width": ""
      }
     },
     "73df9da702954b25b66599e116978853": {
      "model_module": "@jupyter-widgets/controls",
      "model_module_version": "1.5.0",
      "model_name": "DescriptionStyleModel",
      "state": {
       "description_width": ""
      }
     },
     "752d0b52e8ef40a0b31c76b649c177d6": {
      "model_module": "@jupyter-widgets/controls",
      "model_module_version": "1.5.0",
      "model_name": "DescriptionStyleModel",
      "state": {
       "description_width": ""
      }
     },
     "756c4dbca0bd41df8d5083fe2ffba2ad": {
      "model_module": "@jupyter-widgets/controls",
      "model_module_version": "1.5.0",
      "model_name": "VBoxModel",
      "state": {
       "children": [
        "IPY_MODEL_9bd8cdba1fb049cdbb67c36dc036329d",
        "IPY_MODEL_9f5e3792b08f4e039e1efacd44359345"
       ],
       "layout": "IPY_MODEL_1d5c7507142d474398a020f032bcb342"
      }
     },
     "75b337c5a7f6418181152a0bb18df4de": {
      "model_module": "@jupyter-widgets/controls",
      "model_module_version": "1.5.0",
      "model_name": "TextModel",
      "state": {
       "layout": "IPY_MODEL_7d582068d7aa41488a3ed889fd050d18",
       "style": "IPY_MODEL_279fb50bafe9452c923244cd28138147",
       "value": "4"
      }
     },
     "7611590063f44bb2abcf6d28a920f724": {
      "model_module": "@jupyter-widgets/controls",
      "model_module_version": "1.5.0",
      "model_name": "ButtonStyleModel",
      "state": {}
     },
     "7615d14be96841aca7110ede5d0958b9": {
      "model_module": "@jupyter-widgets/controls",
      "model_module_version": "1.5.0",
      "model_name": "DescriptionStyleModel",
      "state": {
       "description_width": ""
      }
     },
     "76523e12623a43168973e0d647e54a9a": {
      "model_module": "@jupyter-widgets/controls",
      "model_module_version": "1.5.0",
      "model_name": "GridBoxModel",
      "state": {
       "children": [
        "IPY_MODEL_2a305a2405c34ef6817c5ca9251e04c9",
        "IPY_MODEL_981b11a914054ff8a8c17c8d7a76fba5",
        "IPY_MODEL_b051ef6ff86f489f896aefa3e48b0316"
       ],
       "layout": "IPY_MODEL_58af85f8292e478d83f363d681e457df"
      }
     },
     "76559601901446d2b27b3f3737969fee": {
      "model_module": "@jupyter-widgets/base",
      "model_module_version": "1.2.0",
      "model_name": "LayoutModel",
      "state": {}
     },
     "76b81c10ff2345a9a2dd4d5030f5e010": {
      "model_module": "@jupyter-widgets/controls",
      "model_module_version": "1.5.0",
      "model_name": "DescriptionStyleModel",
      "state": {
       "description_width": ""
      }
     },
     "76e246db78664386875c2573ded561de": {
      "model_module": "@jupyter-widgets/controls",
      "model_module_version": "1.5.0",
      "model_name": "DescriptionStyleModel",
      "state": {
       "description_width": ""
      }
     },
     "77008be38f2a4fafbf25a48009851c1b": {
      "model_module": "@jupyter-widgets/controls",
      "model_module_version": "1.5.0",
      "model_name": "DescriptionStyleModel",
      "state": {
       "description_width": ""
      }
     },
     "772e77f03c134c52bf193590ce0e9e2c": {
      "model_module": "@jupyter-widgets/controls",
      "model_module_version": "1.5.0",
      "model_name": "TextModel",
      "state": {
       "layout": "IPY_MODEL_0874150cd33b4f338f6b1c26dff102c7",
       "style": "IPY_MODEL_83b3bd625fd442d2a4b84f68d353a722",
       "value": "4"
      }
     },
     "776195f037894b3ca8c826ad374087f3": {
      "model_module": "@jupyter-widgets/controls",
      "model_module_version": "1.5.0",
      "model_name": "ButtonModel",
      "state": {
       "description": "Solve",
       "layout": "IPY_MODEL_e18c1c9936e64d2390d08f695e95bbfd",
       "style": "IPY_MODEL_dc12075bb45c465c855d97fdc103e509"
      }
     },
     "7772640ff521406abcbd81217c2316e7": {
      "model_module": "@jupyter-widgets/controls",
      "model_module_version": "1.5.0",
      "model_name": "VBoxModel",
      "state": {
       "children": [
        "IPY_MODEL_6ca2a295b9c94904b257b27da95edd4a",
        "IPY_MODEL_5b6b015a32d44ab09fb43728a7a7502d"
       ],
       "layout": "IPY_MODEL_9e77952c26b54b47865992052d28c415"
      }
     },
     "780afa3a57064c8ca4431f2b5dfef866": {
      "model_module": "@jupyter-widgets/controls",
      "model_module_version": "1.5.0",
      "model_name": "DescriptionStyleModel",
      "state": {
       "description_width": ""
      }
     },
     "78432798506a465ca9c9aa44fc3f6aa7": {
      "model_module": "@jupyter-widgets/base",
      "model_module_version": "1.2.0",
      "model_name": "LayoutModel",
      "state": {
       "width": "90px"
      }
     },
     "785ea4e716c84df2a4e0b412df67a3b4": {
      "model_module": "@jupyter-widgets/base",
      "model_module_version": "1.2.0",
      "model_name": "LayoutModel",
      "state": {
       "width": "90px"
      }
     },
     "787401874af548bbaf84d94becf55e6f": {
      "model_module": "@jupyter-widgets/controls",
      "model_module_version": "1.5.0",
      "model_name": "DescriptionStyleModel",
      "state": {
       "description_width": ""
      }
     },
     "78f8bdc3c283476f8dc77f773b7bf219": {
      "model_module": "@jupyter-widgets/controls",
      "model_module_version": "1.5.0",
      "model_name": "TextModel",
      "state": {
       "layout": "IPY_MODEL_5064eb8b796f469bb47ced8ec32aba1e",
       "style": "IPY_MODEL_2554d404d80c470ab55a12a3fa83150a",
       "value": "1"
      }
     },
     "78facfd705f54c0f8e373a70f95dc6c4": {
      "model_module": "@jupyter-widgets/controls",
      "model_module_version": "1.5.0",
      "model_name": "TextModel",
      "state": {
       "layout": "IPY_MODEL_38b8c268bd754197a79daa5bfd085f20",
       "style": "IPY_MODEL_ebd43eda287e4efc916805463621aedf",
       "value": "9"
      }
     },
     "790716f4a9ea434ba7ae9d4b7d84c287": {
      "model_module": "@jupyter-widgets/base",
      "model_module_version": "1.2.0",
      "model_name": "LayoutModel",
      "state": {
       "grid_template_columns": "repeat(1, 45px)"
      }
     },
     "79430d471b6f42bdb162bf10f2f8d084": {
      "model_module": "@jupyter-widgets/controls",
      "model_module_version": "1.5.0",
      "model_name": "ButtonStyleModel",
      "state": {}
     },
     "79443a0241b04c8bb92ec45bca4cb075": {
      "model_module": "@jupyter-widgets/base",
      "model_module_version": "1.2.0",
      "model_name": "LayoutModel",
      "state": {
       "flex_flow": "row wrap",
       "justify_content": "space-around"
      }
     },
     "796a52e29b1746abba49c49a1087c732": {
      "model_module": "@jupyter-widgets/controls",
      "model_module_version": "1.5.0",
      "model_name": "TextModel",
      "state": {
       "layout": "IPY_MODEL_d7967788413544aa83e6234d99bfcfaf",
       "style": "IPY_MODEL_f902553242bc4684aad7ac14ee43d76d",
       "value": "1"
      }
     },
     "7998cf86679645c9bf9a645c93e463c8": {
      "model_module": "@jupyter-widgets/base",
      "model_module_version": "1.2.0",
      "model_name": "LayoutModel",
      "state": {
       "height": "35px",
       "width": "40px"
      }
     },
     "79d9881881054ede87764c85ec6b8872": {
      "model_module": "@jupyter-widgets/controls",
      "model_module_version": "1.5.0",
      "model_name": "TextModel",
      "state": {
       "layout": "IPY_MODEL_38b8c268bd754197a79daa5bfd085f20",
       "style": "IPY_MODEL_1d6150759abd45c98900f561f4817e8c",
       "value": "1"
      }
     },
     "7a05daa4dbbe49e69d7d6b0a08502deb": {
      "model_module": "@jupyter-widgets/controls",
      "model_module_version": "1.5.0",
      "model_name": "TextModel",
      "state": {
       "layout": "IPY_MODEL_60fba3a3410847dc8a3bad3fcd17590c",
       "style": "IPY_MODEL_dff8c1fd3ce94fdb9d21d4017c3eadfe",
       "value": "9"
      }
     },
     "7a19c109ad6240d5883f4400722ec087": {
      "model_module": "@jupyter-widgets/base",
      "model_module_version": "1.2.0",
      "model_name": "LayoutModel",
      "state": {
       "height": "120px",
       "justify_content": "center",
       "width": "400px"
      }
     },
     "7a4d3a27ad3c4126ae128181a41024fd": {
      "model_module": "@jupyter-widgets/controls",
      "model_module_version": "1.5.0",
      "model_name": "HTMLMathModel",
      "state": {
       "layout": "IPY_MODEL_a8c563c8bda247bcacf0154c60a591cc",
       "style": "IPY_MODEL_3f0fe896773048b19562136cbdf353b6",
       "value": "Enter here the values of the constant matrix $\\bf{B}$"
      }
     },
     "7a6688af40c54e1eb804182a7de14e6a": {
      "model_module": "@jupyter-widgets/controls",
      "model_module_version": "1.5.0",
      "model_name": "TextModel",
      "state": {
       "layout": "IPY_MODEL_d7967788413544aa83e6234d99bfcfaf",
       "style": "IPY_MODEL_9b5115dc816b4f67b729ae893e19758b",
       "value": "1"
      }
     },
     "7a802d35de3942c3a608e79b4050650c": {
      "model_module": "@jupyter-widgets/controls",
      "model_module_version": "1.5.0",
      "model_name": "TextModel",
      "state": {
       "layout": "IPY_MODEL_56b7235de6f34f8ea7f7ee90eec44abc",
       "style": "IPY_MODEL_69a1505583df48beb1fd70a5a0319a67",
       "value": "4"
      }
     },
     "7acd85ee9f7d450193bc05aa37f2be02": {
      "model_module": "@jupyter-widgets/controls",
      "model_module_version": "1.5.0",
      "model_name": "DescriptionStyleModel",
      "state": {
       "description_width": ""
      }
     },
     "7ad5bb0193564b09a0d1d147082e220e": {
      "model_module": "@jupyter-widgets/controls",
      "model_module_version": "1.5.0",
      "model_name": "GridBoxModel",
      "state": {
       "children": [
        "IPY_MODEL_456bae48881d43f2a6a6e7ef630e2560",
        "IPY_MODEL_c908d31ff93f4e16b61baab8e75d8480",
        "IPY_MODEL_a1432f95b3524c92a1fe5a8537f35bc3"
       ],
       "layout": "IPY_MODEL_1866e7b6a0bb4b559ef9688ebd8207e6"
      }
     },
     "7ad6c7f81d114e33aec584baf0768844": {
      "model_module": "@jupyter-widgets/controls",
      "model_module_version": "1.5.0",
      "model_name": "DescriptionStyleModel",
      "state": {
       "description_width": ""
      }
     },
     "7ae127ebe8f943d1934ac8d211b0730c": {
      "model_module": "@jupyter-widgets/controls",
      "model_module_version": "1.5.0",
      "model_name": "DescriptionStyleModel",
      "state": {
       "description_width": ""
      }
     },
     "7af887c1ce754405a2f2a9589e5bf13a": {
      "model_module": "@jupyter-widgets/base",
      "model_module_version": "1.2.0",
      "model_name": "LayoutModel",
      "state": {
       "height": "120px",
       "width": "250px"
      }
     },
     "7b0c76224ec74c39bce7aaf771c4f846": {
      "model_module": "@jupyter-widgets/controls",
      "model_module_version": "1.5.0",
      "model_name": "DescriptionStyleModel",
      "state": {
       "description_width": ""
      }
     },
     "7b15e96006384d6d96f0e084173eb15e": {
      "model_module": "@jupyter-widgets/controls",
      "model_module_version": "1.5.0",
      "model_name": "DescriptionStyleModel",
      "state": {
       "description_width": ""
      }
     },
     "7bca35380ec64133990acfe57bff0205": {
      "model_module": "@jupyter-widgets/controls",
      "model_module_version": "1.5.0",
      "model_name": "DescriptionStyleModel",
      "state": {
       "description_width": ""
      }
     },
     "7be139f45e374e8b816c74b224ceac98": {
      "model_module": "@jupyter-widgets/base",
      "model_module_version": "1.2.0",
      "model_name": "LayoutModel",
      "state": {
       "grid_template_columns": "repeat(3, 45px)"
      }
     },
     "7be97a25d8a041ab88cb933291c7cac1": {
      "model_module": "@jupyter-widgets/controls",
      "model_module_version": "1.5.0",
      "model_name": "HBoxModel",
      "state": {
       "children": [
        "IPY_MODEL_76523e12623a43168973e0d647e54a9a",
        "IPY_MODEL_42e9d9794d50440284151feb775fb87d"
       ],
       "layout": "IPY_MODEL_aab25879aee8400696527f96b58aaf44"
      }
     },
     "7bf14d78e174414687ee34ef944a0ee9": {
      "model_module": "@jupyter-widgets/controls",
      "model_module_version": "1.5.0",
      "model_name": "TextModel",
      "state": {
       "layout": "IPY_MODEL_559e088c23fd41ac878f827500212741",
       "style": "IPY_MODEL_58a78b93609041db94b776c4125eef77",
       "value": "1"
      }
     },
     "7cc1e163e1644e57bdf313b663404496": {
      "model_module": "@jupyter-widgets/controls",
      "model_module_version": "1.5.0",
      "model_name": "DescriptionStyleModel",
      "state": {
       "description_width": ""
      }
     },
     "7cfcd89cf05840778d9dc410f7244fe7": {
      "model_module": "@jupyter-widgets/controls",
      "model_module_version": "1.5.0",
      "model_name": "DescriptionStyleModel",
      "state": {
       "description_width": ""
      }
     },
     "7d582068d7aa41488a3ed889fd050d18": {
      "model_module": "@jupyter-widgets/base",
      "model_module_version": "1.2.0",
      "model_name": "LayoutModel",
      "state": {
       "height": "35px",
       "width": "40px"
      }
     },
     "7d8073a44ff44142a3471cc1cc72f0ae": {
      "model_module": "@jupyter-widgets/base",
      "model_module_version": "1.2.0",
      "model_name": "LayoutModel",
      "state": {
       "grid_template_columns": "repeat(3, 45px)"
      }
     },
     "7d9f77ea15304f25ab0154a734445adf": {
      "model_module": "@jupyter-widgets/controls",
      "model_module_version": "1.5.0",
      "model_name": "TextModel",
      "state": {
       "layout": "IPY_MODEL_2d3cc260859645ad9ef1bccbe1a463c7",
       "style": "IPY_MODEL_143dfe097ee042999f0068c63f78269e",
       "value": "1"
      }
     },
     "7da5cec4144543f8941e3a0ab246ccbd": {
      "model_module": "@jupyter-widgets/controls",
      "model_module_version": "1.5.0",
      "model_name": "DescriptionStyleModel",
      "state": {
       "description_width": ""
      }
     },
     "7db681c22cbe48a98adbeb2a41023ef0": {
      "model_module": "@jupyter-widgets/controls",
      "model_module_version": "1.5.0",
      "model_name": "HBoxModel",
      "state": {
       "children": [
        "IPY_MODEL_6dd9d49cdd144c399930680ed98ca003",
        "IPY_MODEL_0b23f4686d7d417988e6d5c22ace809a"
       ],
       "layout": "IPY_MODEL_3e1df6d003a84324b56ac88e6bc1b447"
      }
     },
     "7ddd477da238487b88a5938a3ed8602a": {
      "model_module": "@jupyter-widgets/controls",
      "model_module_version": "1.5.0",
      "model_name": "HTMLMathModel",
      "state": {
       "layout": "IPY_MODEL_baf0e94f04fe4f439908186d2cae5866",
       "style": "IPY_MODEL_b01c30ff8caa40afbe36cc2436a8fcc2",
       "value": "Results will be shown here."
      }
     },
     "7df9cc1c8d48454d8b667ebf42615ea7": {
      "model_module": "@jupyter-widgets/controls",
      "model_module_version": "1.5.0",
      "model_name": "TextModel",
      "state": {
       "layout": "IPY_MODEL_35a7bfeaf8664758b5ea5e8c6d003d65",
       "style": "IPY_MODEL_9561f62c8d3341f6bc653333a1e66c39",
       "value": "9"
      }
     },
     "7e12332763094f359f2e31957dbb1cf6": {
      "model_module": "@jupyter-widgets/controls",
      "model_module_version": "1.5.0",
      "model_name": "DescriptionStyleModel",
      "state": {
       "description_width": ""
      }
     },
     "7e657cdc5d54417fa56eee4c276cfa6d": {
      "model_module": "@jupyter-widgets/controls",
      "model_module_version": "1.5.0",
      "model_name": "DescriptionStyleModel",
      "state": {
       "description_width": ""
      }
     },
     "7e696714cef74cb39b03f9298d983314": {
      "model_module": "@jupyter-widgets/controls",
      "model_module_version": "1.5.0",
      "model_name": "HTMLModel",
      "state": {
       "layout": "IPY_MODEL_16c54ac36ba043119a99fca7dcae4d6d",
       "style": "IPY_MODEL_966f2e967aa14aa784fea495fd537536",
       "value": "Choose a variable to solve for."
      }
     },
     "7e6b44fb13174fcb957d1361abce633d": {
      "model_module": "@jupyter-widgets/controls",
      "model_module_version": "1.5.0",
      "model_name": "DescriptionStyleModel",
      "state": {
       "description_width": ""
      }
     },
     "7e7796c462be4f118de46269ae9185b4": {
      "model_module": "@jupyter-widgets/controls",
      "model_module_version": "1.5.0",
      "model_name": "DescriptionStyleModel",
      "state": {
       "description_width": ""
      }
     },
     "7e864ff194af4f4e9ac5f468407a3692": {
      "model_module": "@jupyter-widgets/controls",
      "model_module_version": "1.5.0",
      "model_name": "HBoxModel",
      "state": {
       "children": [
        "IPY_MODEL_0ff3f8052d8346228f4abafb8af0a99b",
        "IPY_MODEL_7a4d3a27ad3c4126ae128181a41024fd"
       ],
       "layout": "IPY_MODEL_f7535d1d475341d98c1e53589c247f06"
      }
     },
     "7e906fd6685d4aed9f219610d5c29c3f": {
      "model_module": "@jupyter-widgets/base",
      "model_module_version": "1.2.0",
      "model_name": "LayoutModel",
      "state": {}
     },
     "7ed5d0a4bf5043c9a6e7a21c7875bbff": {
      "model_module": "@jupyter-widgets/base",
      "model_module_version": "1.2.0",
      "model_name": "LayoutModel",
      "state": {
       "flex_flow": "row wrap",
       "justify_content": "space-around"
      }
     },
     "7f5f63a94aca4aa19ad38f11c7b716df": {
      "model_module": "@jupyter-widgets/base",
      "model_module_version": "1.2.0",
      "model_name": "LayoutModel",
      "state": {
       "height": "120px",
       "justify_content": "center",
       "width": "400px"
      }
     },
     "7f720f05d4214fe0bd57c0c08793caf5": {
      "model_module": "@jupyter-widgets/base",
      "model_module_version": "1.2.0",
      "model_name": "LayoutModel",
      "state": {
       "width": "90px"
      }
     },
     "7f933082ccf14fa8aad4e01b87448630": {
      "model_module": "@jupyter-widgets/controls",
      "model_module_version": "1.5.0",
      "model_name": "TextModel",
      "state": {
       "layout": "IPY_MODEL_559e088c23fd41ac878f827500212741",
       "style": "IPY_MODEL_f34bec3ffd0249059a312c902fdaf33d",
       "value": "3"
      }
     },
     "7fe4efb1bf2e4bcda7eb6f5da2af52c5": {
      "model_module": "@jupyter-widgets/base",
      "model_module_version": "1.2.0",
      "model_name": "LayoutModel",
      "state": {
       "grid_template_columns": "repeat(1, 45px)"
      }
     },
     "8044cba4a1794b549b5b46e4c2842c23": {
      "model_module": "@jupyter-widgets/controls",
      "model_module_version": "1.5.0",
      "model_name": "DescriptionStyleModel",
      "state": {
       "description_width": ""
      }
     },
     "806f0fbe228c4c1aaf9fbad794519592": {
      "model_module": "@jupyter-widgets/base",
      "model_module_version": "1.2.0",
      "model_name": "LayoutModel",
      "state": {}
     },
     "809ec6947edf4a31b715c91a2e8ebd42": {
      "model_module": "@jupyter-widgets/controls",
      "model_module_version": "1.5.0",
      "model_name": "TextModel",
      "state": {
       "layout": "IPY_MODEL_f10e93f25a7549fb8fcf6aa01db5a79e",
       "style": "IPY_MODEL_aa5f4e7ff7ad48e4b264eb6869d004a6",
       "value": "8"
      }
     },
     "80caf044637945a0abda24fb36d1694e": {
      "model_module": "@jupyter-widgets/base",
      "model_module_version": "1.2.0",
      "model_name": "LayoutModel",
      "state": {
       "height": "120px",
       "width": "250px"
      }
     },
     "81652bfa6dab4dea80d4bfad4845b8ee": {
      "model_module": "@jupyter-widgets/controls",
      "model_module_version": "1.5.0",
      "model_name": "DescriptionStyleModel",
      "state": {
       "description_width": ""
      }
     },
     "816c9c7dd8d34c188fd85cbef22ca3da": {
      "model_module": "@jupyter-widgets/controls",
      "model_module_version": "1.5.0",
      "model_name": "DescriptionStyleModel",
      "state": {
       "description_width": ""
      }
     },
     "81729b045ddf4f778df245035751b1c1": {
      "model_module": "@jupyter-widgets/controls",
      "model_module_version": "1.5.0",
      "model_name": "VBoxModel",
      "state": {
       "children": [
        "IPY_MODEL_b292fcf4e7a548ea9d7310a7885d8641",
        "IPY_MODEL_55cd142075404cada298cdb00329490f"
       ],
       "layout": "IPY_MODEL_b7a8a15204d347d2b5632321627cc422"
      }
     },
     "81aaf5ff23094ea9a43a941ebc08f7ea": {
      "model_module": "@jupyter-widgets/controls",
      "model_module_version": "1.5.0",
      "model_name": "ButtonModel",
      "state": {
       "description": "Start",
       "layout": "IPY_MODEL_1fb06acbfeaf4c78b84b6a86b6d8cb7b",
       "style": "IPY_MODEL_561e593575c94f98abae958fbf2c0c72"
      }
     },
     "81b206b6cb2047ffa6e2ba57a11dd726": {
      "model_module": "@jupyter-widgets/controls",
      "model_module_version": "1.5.0",
      "model_name": "DescriptionStyleModel",
      "state": {
       "description_width": ""
      }
     },
     "81b85314c26a408d9d8542c30f490139": {
      "model_module": "@jupyter-widgets/controls",
      "model_module_version": "1.5.0",
      "model_name": "TextModel",
      "state": {
       "layout": "IPY_MODEL_60fba3a3410847dc8a3bad3fcd17590c",
       "style": "IPY_MODEL_a40958c79367423189726379ac54ec69",
       "value": "1"
      }
     },
     "820755cb79d94a4e96b93a36523a28bb": {
      "model_module": "@jupyter-widgets/controls",
      "model_module_version": "1.5.0",
      "model_name": "DescriptionStyleModel",
      "state": {
       "description_width": ""
      }
     },
     "8233178bdcdc4cc5a36e758a2579d1fc": {
      "model_module": "@jupyter-widgets/base",
      "model_module_version": "1.2.0",
      "model_name": "LayoutModel",
      "state": {
       "height": "35px",
       "width": "40px"
      }
     },
     "82a48107230648d5814b2696b0f413a9": {
      "model_module": "@jupyter-widgets/controls",
      "model_module_version": "1.5.0",
      "model_name": "GridBoxModel",
      "state": {
       "children": [
        "IPY_MODEL_aded17b0bdcb422b96e495fb720bfc65",
        "IPY_MODEL_1d0b41e7b57e4431ab783eeccd3a9bd1",
        "IPY_MODEL_52bed2db0f484c4a8da3c07c2c49c4a0",
        "IPY_MODEL_a1fed754109e4d12b745ede03f387f33",
        "IPY_MODEL_71206d9fbeda48baa48f018601bf60c4",
        "IPY_MODEL_5db2a5a548e44e89983f574461380de4",
        "IPY_MODEL_cc7244b9c09f416fb0f87108441977ae",
        "IPY_MODEL_840c45df5c944edd93b97fe1363dd323",
        "IPY_MODEL_75b337c5a7f6418181152a0bb18df4de"
       ],
       "layout": "IPY_MODEL_f86675d7911447f193901ef27392eb84"
      }
     },
     "82a9f4bf82744a8f9bbdadfef25214bf": {
      "model_module": "@jupyter-widgets/controls",
      "model_module_version": "1.5.0",
      "model_name": "TextModel",
      "state": {
       "layout": "IPY_MODEL_7998cf86679645c9bf9a645c93e463c8",
       "style": "IPY_MODEL_d1b5ff8476d74e619e6b7a9df59a53ed",
       "value": "1"
      }
     },
     "82d47504f46e4aa2a16b4fb22655eae2": {
      "model_module": "@jupyter-widgets/controls",
      "model_module_version": "1.5.0",
      "model_name": "DescriptionStyleModel",
      "state": {
       "description_width": ""
      }
     },
     "82f7e88e70af475a9ecccb8347e88472": {
      "model_module": "@jupyter-widgets/controls",
      "model_module_version": "1.5.0",
      "model_name": "HBoxModel",
      "state": {
       "children": [
        "IPY_MODEL_f507f94f37e7437aab185aeaa9d0bbff",
        "IPY_MODEL_01b4fcc4f52d4a3eafe06fc99dadf69c"
       ],
       "layout": "IPY_MODEL_47909f0fd68c48e799645a2d54609c40"
      }
     },
     "830d675e20734253b3d8c85366177f84": {
      "model_module": "@jupyter-widgets/base",
      "model_module_version": "1.2.0",
      "model_name": "LayoutModel",
      "state": {}
     },
     "833509b634244d0696b72ee91d921d99": {
      "model_module": "@jupyter-widgets/base",
      "model_module_version": "1.2.0",
      "model_name": "LayoutModel",
      "state": {
       "width": "140px"
      }
     },
     "8373088f873c4c1883c80b18f2d0616e": {
      "model_module": "@jupyter-widgets/controls",
      "model_module_version": "1.5.0",
      "model_name": "ButtonModel",
      "state": {
       "description": "Start",
       "layout": "IPY_MODEL_06cf61b9801f486cb844e0d2aeb645ab",
       "style": "IPY_MODEL_d30114c650394dc5885bb8a8dce0468c"
      }
     },
     "839b10a06a644b238826bf01a3fba3c8": {
      "model_module": "@jupyter-widgets/controls",
      "model_module_version": "1.5.0",
      "model_name": "TextModel",
      "state": {
       "layout": "IPY_MODEL_56b7235de6f34f8ea7f7ee90eec44abc",
       "style": "IPY_MODEL_b70ab993355543b3b1eb5a33bab292ad",
       "value": "1"
      }
     },
     "83a6daefa51e4e2cb17a41f276a107e2": {
      "model_module": "@jupyter-widgets/base",
      "model_module_version": "1.2.0",
      "model_name": "LayoutModel",
      "state": {
       "grid_template_columns": "repeat(3, 45px)"
      }
     },
     "83aa7c1f9e554d1c918aafbbb6a7763d": {
      "model_module": "@jupyter-widgets/controls",
      "model_module_version": "1.5.0",
      "model_name": "DescriptionStyleModel",
      "state": {
       "description_width": ""
      }
     },
     "83b3bd625fd442d2a4b84f68d353a722": {
      "model_module": "@jupyter-widgets/controls",
      "model_module_version": "1.5.0",
      "model_name": "DescriptionStyleModel",
      "state": {
       "description_width": ""
      }
     },
     "83b450f54bb04f33ae0c4760f88b78a3": {
      "model_module": "@jupyter-widgets/base",
      "model_module_version": "1.2.0",
      "model_name": "LayoutModel",
      "state": {}
     },
     "840c45df5c944edd93b97fe1363dd323": {
      "model_module": "@jupyter-widgets/controls",
      "model_module_version": "1.5.0",
      "model_name": "TextModel",
      "state": {
       "layout": "IPY_MODEL_7d582068d7aa41488a3ed889fd050d18",
       "style": "IPY_MODEL_19e24746c61c493d8b8ac02e51b7ec25",
       "value": "-1"
      }
     },
     "84387d2d588c420591a94b195ff3f929": {
      "model_module": "@jupyter-widgets/controls",
      "model_module_version": "1.5.0",
      "model_name": "DescriptionStyleModel",
      "state": {
       "description_width": ""
      }
     },
     "8480d17f26ba49c28c2bdeb772f1d894": {
      "model_module": "@jupyter-widgets/controls",
      "model_module_version": "1.5.0",
      "model_name": "HTMLMathModel",
      "state": {
       "layout": "IPY_MODEL_dfa97dbf70f84c10a0d28459c2b20e57",
       "style": "IPY_MODEL_7b15e96006384d6d96f0e084173eb15e",
       "value": "Enter here the values of the matrix $\\bf{A}$"
      }
     },
     "84a4d4f97a6a4a889cc823743142bd36": {
      "model_module": "@jupyter-widgets/controls",
      "model_module_version": "1.5.0",
      "model_name": "ButtonModel",
      "state": {
       "description": "Start",
       "layout": "IPY_MODEL_dd0e6658754d42e18488a3e4a281379c",
       "style": "IPY_MODEL_f15a6dc6ba0448039573b3094e7f5411"
      }
     },
     "84c7db29b2e24e7f907f84587ddd30fa": {
      "model_module": "@jupyter-widgets/base",
      "model_module_version": "1.2.0",
      "model_name": "LayoutModel",
      "state": {}
     },
     "84cd3f2bbb724337b0a3c6319a3214b5": {
      "model_module": "@jupyter-widgets/controls",
      "model_module_version": "1.5.0",
      "model_name": "DescriptionStyleModel",
      "state": {
       "description_width": ""
      }
     },
     "852e11ecf67743b9b3d1ddb8b98182be": {
      "model_module": "@jupyter-widgets/base",
      "model_module_version": "1.2.0",
      "model_name": "LayoutModel",
      "state": {
       "height": "35px",
       "width": "40px"
      }
     },
     "85c5b564616547d38799a588059b588e": {
      "model_module": "@jupyter-widgets/controls",
      "model_module_version": "1.5.0",
      "model_name": "DropdownModel",
      "state": {
       "_options_labels": [
        "x₁",
        "x₂",
        "x₃"
       ],
       "description": "Variable:",
       "index": 0,
       "layout": "IPY_MODEL_05376740a89a4d3f95de1a1f2bc52686",
       "style": "IPY_MODEL_e9b514a48d5d438aa0a06732c3c925d9"
      }
     },
     "85cb8a21115c4f7ea580dd1735914495": {
      "model_module": "@jupyter-widgets/controls",
      "model_module_version": "1.5.0",
      "model_name": "DescriptionStyleModel",
      "state": {
       "description_width": ""
      }
     },
     "85e3de6db78844e0b3d146dec48041d8": {
      "model_module": "@jupyter-widgets/controls",
      "model_module_version": "1.5.0",
      "model_name": "TextModel",
      "state": {
       "layout": "IPY_MODEL_7998cf86679645c9bf9a645c93e463c8",
       "style": "IPY_MODEL_820755cb79d94a4e96b93a36523a28bb",
       "value": "3"
      }
     },
     "85ee3855719a44fab2da6ef3008f6165": {
      "model_module": "@jupyter-widgets/base",
      "model_module_version": "1.2.0",
      "model_name": "LayoutModel",
      "state": {
       "flex_flow": "row wrap",
       "justify_content": "space-around"
      }
     },
     "867081c8db024e63afc1a4952dff72d2": {
      "model_module": "@jupyter-widgets/controls",
      "model_module_version": "1.5.0",
      "model_name": "ButtonStyleModel",
      "state": {}
     },
     "86767bb3f2b94d81b29ffdd25921173a": {
      "model_module": "@jupyter-widgets/controls",
      "model_module_version": "1.5.0",
      "model_name": "GridBoxModel",
      "state": {
       "children": [
        "IPY_MODEL_02d20255a69741a0afbf228aea49c839",
        "IPY_MODEL_82a9f4bf82744a8f9bbdadfef25214bf",
        "IPY_MODEL_5494e6e573104acaa1e97a7b3921f8e1",
        "IPY_MODEL_85e3de6db78844e0b3d146dec48041d8",
        "IPY_MODEL_115a373196574527ac07cc2ff1e98894",
        "IPY_MODEL_fce19f453b274292909fcb7eaed39fc4",
        "IPY_MODEL_94b133a462b34dfaaad7af93b35db69c",
        "IPY_MODEL_70ccc5a3eed84371b94d8b06f9dc2566",
        "IPY_MODEL_2ed817eab0124a3e8a96070875d8aace"
       ],
       "layout": "IPY_MODEL_5cc616c7eb8e45c88df5bb7d98b36946"
      }
     },
     "874e45c230274622b31d1ecb733bf37b": {
      "model_module": "@jupyter-widgets/controls",
      "model_module_version": "1.5.0",
      "model_name": "TextModel",
      "state": {
       "layout": "IPY_MODEL_0874150cd33b4f338f6b1c26dff102c7",
       "style": "IPY_MODEL_153e06432e4f400fbe9bbf88760f28a5",
       "value": "-1"
      }
     },
     "8778468eb1e543038b4dec8e48c762aa": {
      "model_module": "@jupyter-widgets/base",
      "model_module_version": "1.2.0",
      "model_name": "LayoutModel",
      "state": {
       "width": "140px"
      }
     },
     "87a3ef6c93554546bda80d2b4c85f2f6": {
      "model_module": "@jupyter-widgets/controls",
      "model_module_version": "1.5.0",
      "model_name": "DescriptionStyleModel",
      "state": {
       "description_width": ""
      }
     },
     "87c7c565043c42f4a7a063ec135aea11": {
      "model_module": "@jupyter-widgets/controls",
      "model_module_version": "1.5.0",
      "model_name": "HTMLMathModel",
      "state": {
       "layout": "IPY_MODEL_3d7a615d3c1d4a45af9f1754f1c078d8",
       "style": "IPY_MODEL_16c9fab7b9c54bb6a63b23b310a1e6fa",
       "value": "$$ \\det A = \\left| \n      \\begin{array}{rrr}\n          1 & 1 & -1\\\\\n          3 & 1 & 1\\\\\n          1 & -1 & 4\n      \\end{array}\n      \\right| = -2$$ <br>$$ \\det A_1 = \\left| \n      \\begin{array}{rrr}\n          \\color{blue}{ 3 } & 1 & -1\\\\\n          \\color{blue}{ 9 } & 1 & 1\\\\\n          \\color{blue}{ 8 } & -1 & 4\n      \\end{array}\n      \\right| = 4$$ <br>$$ x_{ 1 } =\\frac{ \\det A_1}{\\det A} = \\frac{ 4 }{ -2 } = -2$$"
      }
     },
     "87e19f9cdb054c019eff6cc964acce75": {
      "model_module": "@jupyter-widgets/controls",
      "model_module_version": "1.5.0",
      "model_name": "DescriptionStyleModel",
      "state": {
       "description_width": ""
      }
     },
     "885d288688184bf8951bef23ba3decf2": {
      "model_module": "@jupyter-widgets/controls",
      "model_module_version": "1.5.0",
      "model_name": "DescriptionStyleModel",
      "state": {
       "description_width": ""
      }
     },
     "889e875f29e6492bb05781cd1510d894": {
      "model_module": "@jupyter-widgets/controls",
      "model_module_version": "1.5.0",
      "model_name": "DropdownModel",
      "state": {
       "_options_labels": [
        "x₁",
        "x₂",
        "x₃"
       ],
       "description": "Variable:",
       "index": 0,
       "layout": "IPY_MODEL_e32871679a704b25b59055864750dc90",
       "style": "IPY_MODEL_0ec3f679fa0a45f9911dfad95e854095"
      }
     },
     "88a8c6333de44cdb900b881ec372afa0": {
      "model_module": "@jupyter-widgets/controls",
      "model_module_version": "1.5.0",
      "model_name": "ButtonModel",
      "state": {
       "description": "Solve",
       "layout": "IPY_MODEL_a16cdaa1a06f44f38138f0c7b4a9b22b",
       "style": "IPY_MODEL_c370b3fb09b04e6f880ada8f89a280fa"
      }
     },
     "88c7deddb695432bab106d165f41e1aa": {
      "model_module": "@jupyter-widgets/controls",
      "model_module_version": "1.5.0",
      "model_name": "TextModel",
      "state": {
       "layout": "IPY_MODEL_852e11ecf67743b9b3d1ddb8b98182be",
       "style": "IPY_MODEL_8cac6ea00f5c4e20acb1e32ee345660c",
       "value": "-1"
      }
     },
     "88c91259cd8642d9ad23c54d639d432e": {
      "model_module": "@jupyter-widgets/controls",
      "model_module_version": "1.5.0",
      "model_name": "VBoxModel",
      "state": {
       "children": [
        "IPY_MODEL_c5492eb5abf74d8d81f8cec15f83ca22",
        "IPY_MODEL_319ca2c784b5430db3243578da492a18"
       ],
       "layout": "IPY_MODEL_4a345d48088342679c1b831b8e1a92c2"
      }
     },
     "897833c7bc7440bb957dda01808df695": {
      "model_module": "@jupyter-widgets/controls",
      "model_module_version": "1.5.0",
      "model_name": "DescriptionStyleModel",
      "state": {
       "description_width": ""
      }
     },
     "89ca849cca2a49aa952d944c114923f1": {
      "model_module": "@jupyter-widgets/base",
      "model_module_version": "1.2.0",
      "model_name": "LayoutModel",
      "state": {}
     },
     "8a0a61b451f14bed8602f300f33ad94b": {
      "model_module": "@jupyter-widgets/controls",
      "model_module_version": "1.5.0",
      "model_name": "GridBoxModel",
      "state": {
       "children": [
        "IPY_MODEL_52c00f6e04bb4fb18b2b136db40c2dc2",
        "IPY_MODEL_f8631ebc3d3e45bfa7680094c6098bda",
        "IPY_MODEL_874e45c230274622b31d1ecb733bf37b",
        "IPY_MODEL_2cc1de84c853467fa8f996d54d143e03",
        "IPY_MODEL_3a1d91cbc7644abc9c78091f47f315eb",
        "IPY_MODEL_435cdb7bb09b4e0cb79a23ce2b0ca12b",
        "IPY_MODEL_0617194ebee348b2a2b64a66993e8e64",
        "IPY_MODEL_5935aabdc4d4487e9cdd64cb576bfca8",
        "IPY_MODEL_772e77f03c134c52bf193590ce0e9e2c"
       ],
       "layout": "IPY_MODEL_681b2cf913764bdc875c07a70f9cba5f"
      }
     },
     "8a5ecda4555a4985b23ac8c9085c53ca": {
      "model_module": "@jupyter-widgets/controls",
      "model_module_version": "1.5.0",
      "model_name": "DescriptionStyleModel",
      "state": {
       "description_width": ""
      }
     },
     "8b93f1828c244b1a92e5f0aed4aad00a": {
      "model_module": "@jupyter-widgets/controls",
      "model_module_version": "1.5.0",
      "model_name": "HTMLMathModel",
      "state": {
       "layout": "IPY_MODEL_9d2ff9ab297048c1ac7ae755b198057c",
       "style": "IPY_MODEL_c92a8be5a61d424087b4d26267a97bbb",
       "value": "$$ \\det A = \\left| \n      \\begin{array}{rrr}\n          1 & 1 & -1\\\\\n          3 & 1 & 1\\\\\n          1 & -1 & 4\n      \\end{array}\n      \\right| = -2$$$$ \\det A_1 = \\left| \n      \\begin{array}{rrr}\n          \\color{blue}{ 3 } & 1 & -1\\\\\n          \\color{blue}{ 9 } & 1 & 1\\\\\n          \\color{blue}{ 8 } & -1 & 4\n      \\end{array}\n      \\right| = 4$$ <br> $$ x_{{ {k} }} =\\frac{ \\det A_1}{\\det A} = \\frac{ 4 }{ -2 } = -2$$"
      }
     },
     "8c12dc0c8e864a0b9e5f7e7e2034e5ba": {
      "model_module": "@jupyter-widgets/controls",
      "model_module_version": "1.5.0",
      "model_name": "DescriptionStyleModel",
      "state": {
       "description_width": ""
      }
     },
     "8c20f8b1d3894449b4d984a72954e066": {
      "model_module": "@jupyter-widgets/controls",
      "model_module_version": "1.5.0",
      "model_name": "DescriptionStyleModel",
      "state": {
       "description_width": ""
      }
     },
     "8c5657a194fd4e94b25ab9a18c930ba8": {
      "model_module": "@jupyter-widgets/base",
      "model_module_version": "1.2.0",
      "model_name": "LayoutModel",
      "state": {}
     },
     "8c71d99f7feb499f983d5f52973ba979": {
      "model_module": "@jupyter-widgets/base",
      "model_module_version": "1.2.0",
      "model_name": "LayoutModel",
      "state": {
       "height": "120px",
       "width": "150px"
      }
     },
     "8c876cd0292d4734988465eeb89e4699": {
      "model_module": "@jupyter-widgets/controls",
      "model_module_version": "1.5.0",
      "model_name": "HTMLMathModel",
      "state": {
       "layout": "IPY_MODEL_785ea4e716c84df2a4e0b412df67a3b4",
       "style": "IPY_MODEL_a489c77a7f57408487af30cada0ad0f2",
       "value": "Enter here the values of the matrix $\\bf{A}$"
      }
     },
     "8cac6ea00f5c4e20acb1e32ee345660c": {
      "model_module": "@jupyter-widgets/controls",
      "model_module_version": "1.5.0",
      "model_name": "DescriptionStyleModel",
      "state": {
       "description_width": ""
      }
     },
     "8cdced97fb3b4cb6bf324e8857cc4a87": {
      "model_module": "@jupyter-widgets/controls",
      "model_module_version": "1.5.0",
      "model_name": "HBoxModel",
      "state": {
       "children": [
        "IPY_MODEL_eeb04073e004412692fbfb4e9c0e4be3",
        "IPY_MODEL_9a1b143bd2894abba9c88c409b24cace"
       ],
       "layout": "IPY_MODEL_bc9bdf3fe5ef4566ae850bfe035f16fd"
      }
     },
     "8cf08909c19948388ed3301d44559e03": {
      "model_module": "@jupyter-widgets/base",
      "model_module_version": "1.2.0",
      "model_name": "LayoutModel",
      "state": {
       "width": "90px"
      }
     },
     "8cf2373e93b5428c8b5cb574dea8370e": {
      "model_module": "@jupyter-widgets/controls",
      "model_module_version": "1.5.0",
      "model_name": "BoxModel",
      "state": {
       "children": [
        "IPY_MODEL_53c1d2ff0d2245d58dfe449f79866711",
        "IPY_MODEL_b8acdfcb264e49308637779b6701fc2f",
        "IPY_MODEL_5bc89e4f53694c9d89b9a6291f718171",
        "IPY_MODEL_afe43798b9104d428cef7875f19e2c76"
       ],
       "layout": "IPY_MODEL_4a55d1fe375545159760e7c455339be1"
      }
     },
     "8d69435741c24f6e8329c85132023719": {
      "model_module": "@jupyter-widgets/controls",
      "model_module_version": "1.5.0",
      "model_name": "BoxModel",
      "state": {
       "children": [
        "IPY_MODEL_7244d838e5034f25a69462c3c311f87b",
        "IPY_MODEL_56d8f1e784bc47399c1c3c525f6ab307"
       ],
       "layout": "IPY_MODEL_0c7043a4e36747c68c41b69d04d8c424"
      }
     },
     "8e0fb9ba432140c3aa6d309ce3383dc9": {
      "model_module": "@jupyter-widgets/controls",
      "model_module_version": "1.5.0",
      "model_name": "DescriptionStyleModel",
      "state": {
       "description_width": ""
      }
     },
     "8e4fac80f0bb4302bd358376bf2dc727": {
      "model_module": "@jupyter-widgets/controls",
      "model_module_version": "1.5.0",
      "model_name": "HTMLMathModel",
      "state": {
       "layout": "IPY_MODEL_68c246c3168945ae923537278bae3037",
       "style": "IPY_MODEL_4f00c2b3514b4cfaae061e0aa9f32b08",
       "value": "$$ \\color{green}{\\det A} = \\left| \n      \\begin{array}{rrr}\n          1 & 1 & -1\\\\\n          3 & 1 & 1\\\\\n          1 & -1 & 4\n      \\end{array}\n      \\right| = \\color{green}{ -2}$$ <br>$$ \\color{red}{ \\det A_1 } = \\left| \n      \\begin{array}{rrr}\n          \\color{blue}{ 3 } & 1 & -1\\\\\n          \\color{blue}{ 9 } & 1 & 1\\\\\n          \\color{blue}{ 8 } & -1 & 4\n      \\end{array}\n      \\right| = \\color{red}{ 4 }$$ <br>$$ x_{ 1 } =\\frac{ \\color{green}{\\det A_1}}\\color{red}{ {\\det A} } = \\frac{ 4 }{ -2 } = -2$$"
      }
     },
     "8e5f0dd29524472e8e7de9ea3b67efbe": {
      "model_module": "@jupyter-widgets/controls",
      "model_module_version": "1.5.0",
      "model_name": "TextModel",
      "state": {
       "layout": "IPY_MODEL_d7967788413544aa83e6234d99bfcfaf",
       "style": "IPY_MODEL_b8914ad9f00349b4937e7fac96f26b62",
       "value": "1"
      }
     },
     "8ec941a4e6df42508b35d25833dd1e6d": {
      "model_module": "@jupyter-widgets/controls",
      "model_module_version": "1.5.0",
      "model_name": "TextModel",
      "state": {
       "layout": "IPY_MODEL_365ba57c32664ab38fd8d83a88c4d1cb",
       "style": "IPY_MODEL_e5064e70809241239641c68cb2c5b0cf",
       "value": "3"
      }
     },
     "8f096e2ff1a8438183db51e25747c9d9": {
      "model_module": "@jupyter-widgets/controls",
      "model_module_version": "1.5.0",
      "model_name": "DescriptionStyleModel",
      "state": {
       "description_width": ""
      }
     },
     "8f1daad18bc442a094f334e6659e73aa": {
      "model_module": "@jupyter-widgets/controls",
      "model_module_version": "1.5.0",
      "model_name": "BoxModel",
      "state": {
       "children": [
        "IPY_MODEL_c30b7f8c084c4ce99968c0534f6b1725",
        "IPY_MODEL_3c4f72045a204c2aa3931d636003330a"
       ],
       "layout": "IPY_MODEL_6aa6f2fed8b64a7f804c052d168a9ee8"
      }
     },
     "8f74e7455ae041ee8b29d4448a0b155f": {
      "model_module": "@jupyter-widgets/controls",
      "model_module_version": "1.5.0",
      "model_name": "DescriptionStyleModel",
      "state": {
       "description_width": ""
      }
     },
     "8f9240718b9f4a879cbe46d8a4c0baee": {
      "model_module": "@jupyter-widgets/base",
      "model_module_version": "1.2.0",
      "model_name": "LayoutModel",
      "state": {
       "grid_template_columns": "repeat(1, 45px)"
      }
     },
     "900e7502b7ce4885b59e1464eb8ebc3a": {
      "model_module": "@jupyter-widgets/controls",
      "model_module_version": "1.5.0",
      "model_name": "GridBoxModel",
      "state": {
       "children": [
        "IPY_MODEL_739cff42dafc4329b6227463fc5c5dfa",
        "IPY_MODEL_f07baff83aa54d1f8230a8763e2130df",
        "IPY_MODEL_809ec6947edf4a31b715c91a2e8ebd42"
       ],
       "layout": "IPY_MODEL_8f9240718b9f4a879cbe46d8a4c0baee"
      }
     },
     "9045d0fead864fb6b2ad9d3e0b1dbb19": {
      "model_module": "@jupyter-widgets/base",
      "model_module_version": "1.2.0",
      "model_name": "LayoutModel",
      "state": {}
     },
     "9067189cc24d47639936ebdf7c6fb320": {
      "model_module": "@jupyter-widgets/controls",
      "model_module_version": "1.5.0",
      "model_name": "TextModel",
      "state": {
       "layout": "IPY_MODEL_f7d10756bf8e446d8f8deb1712e2baa5",
       "style": "IPY_MODEL_4fd6222ec649486e970422a1d104c362",
       "value": "1"
      }
     },
     "907107a1adb4432c99f830c9740352bf": {
      "model_module": "@jupyter-widgets/controls",
      "model_module_version": "1.5.0",
      "model_name": "DescriptionStyleModel",
      "state": {
       "description_width": ""
      }
     },
     "910078062d624cea8dc64b37b63bc99a": {
      "model_module": "@jupyter-widgets/controls",
      "model_module_version": "1.5.0",
      "model_name": "ButtonStyleModel",
      "state": {}
     },
     "910806f959694d4d9015366e1c378e86": {
      "model_module": "@jupyter-widgets/base",
      "model_module_version": "1.2.0",
      "model_name": "LayoutModel",
      "state": {
       "flex_flow": "row wrap",
       "justify_content": "space-around"
      }
     },
     "9119f3a19f96498b937b47c1c55b010f": {
      "model_module": "@jupyter-widgets/base",
      "model_module_version": "1.2.0",
      "model_name": "LayoutModel",
      "state": {
       "height": "120px",
       "justify_content": "center",
       "width": "300px"
      }
     },
     "911cb08a731346d2b46678e8c06aa4ef": {
      "model_module": "@jupyter-widgets/base",
      "model_module_version": "1.2.0",
      "model_name": "LayoutModel",
      "state": {
       "width": "90px"
      }
     },
     "91dae690631b4561b1eae7a250a53535": {
      "model_module": "@jupyter-widgets/controls",
      "model_module_version": "1.5.0",
      "model_name": "BoxModel",
      "state": {
       "children": [
        "IPY_MODEL_c31c4a589ce74d498aca5e9f7b88690b",
        "IPY_MODEL_2ba78ea1a40543d389859c92a4cfe282",
        "IPY_MODEL_a3955c4f6a51493abb89f62ad1230e4c",
        "IPY_MODEL_ae8b5172c73e4b7ea1a8d8b3bc716717"
       ],
       "layout": "IPY_MODEL_d79a55506e4a4cdcb5123ebe3a34dfe8"
      }
     },
     "91f755540a9e49bfa6804fd64d7590d4": {
      "model_module": "@jupyter-widgets/controls",
      "model_module_version": "1.5.0",
      "model_name": "ButtonStyleModel",
      "state": {}
     },
     "921ec5fc661b4edf9abcaeb6c864e596": {
      "model_module": "@jupyter-widgets/controls",
      "model_module_version": "1.5.0",
      "model_name": "HTMLMathModel",
      "state": {
       "layout": "IPY_MODEL_31ce8074d7144855815666b320038420",
       "style": "IPY_MODEL_39c0f2d31da94eedbea4e81bff6ca0bf",
       "value": "$$ \\mathbf{A} = \\left[  \n      \\begin{array}{rrr}\n          1 & 1 & -1\\\\\n          3 & 1 & 1\\\\\n          1 & -1 & 4\n      \\end{array}\n      , \\right] \\quad \\color{blue}{\\mathbf{B} = \\left[ \n    \\begin{array}{r}\n        3 \\\\\n        9 \\\\\n        8 \n    \\end{array}\n    \\right]}$$<br>with $\\det A =-2$."
      }
     },
     "926b37030b25484fb984b66a6f35e9aa": {
      "model_module": "@jupyter-widgets/controls",
      "model_module_version": "1.5.0",
      "model_name": "DescriptionStyleModel",
      "state": {
       "description_width": ""
      }
     },
     "92acea392c3d4a198284bb931a66ac5c": {
      "model_module": "@jupyter-widgets/controls",
      "model_module_version": "1.5.0",
      "model_name": "DescriptionStyleModel",
      "state": {
       "description_width": ""
      }
     },
     "939a067703d24de2ad7b2f5630e629b3": {
      "model_module": "@jupyter-widgets/controls",
      "model_module_version": "1.5.0",
      "model_name": "GridBoxModel",
      "state": {
       "children": [
        "IPY_MODEL_6684522fb75b4691808ca2a0100b2ad6",
        "IPY_MODEL_d27b369997394f358ce8509db4203434",
        "IPY_MODEL_baa3655bea6042ff835919b7722ee4de",
        "IPY_MODEL_0024c811974b45af86a198d901ffdeba",
        "IPY_MODEL_350d9ed092d049c0a0945bd174e3cf85",
        "IPY_MODEL_839b10a06a644b238826bf01a3fba3c8",
        "IPY_MODEL_29dd95ef49e84dac965f80bbc3c03a41",
        "IPY_MODEL_e145ff34ac9f4764888723428fce25d3",
        "IPY_MODEL_7a802d35de3942c3a608e79b4050650c"
       ],
       "layout": "IPY_MODEL_ea30048f87054f22a86d8adfe73bfd81"
      }
     },
     "942876bf5426456cbce789717127ca89": {
      "model_module": "@jupyter-widgets/controls",
      "model_module_version": "1.5.0",
      "model_name": "GridBoxModel",
      "state": {
       "children": [
        "IPY_MODEL_9bebb57ac52c4b148b1e4fdec21855e0",
        "IPY_MODEL_5e8d4a15079b4a92b0cd4151cdca6e10",
        "IPY_MODEL_4f875962cec04eda8af9edf5b696bcc0",
        "IPY_MODEL_ca013f5628194285bb2400daaff43d2e",
        "IPY_MODEL_2099c3cea5784f59a11efea4464c6fc3",
        "IPY_MODEL_b10ae48e628d46269daeb4cb0a056e6d",
        "IPY_MODEL_47123a65641e43fe93077b92d9df2770",
        "IPY_MODEL_fcf38a74a6c74b71beea2908dad7c716",
        "IPY_MODEL_c3e5ca0a59d64421b3e043a5ffd0ff7d"
       ],
       "layout": "IPY_MODEL_3235aac441ac415183b236a1d022d251"
      }
     },
     "947c811ab6784e4981f627cd4c405bcb": {
      "model_module": "@jupyter-widgets/base",
      "model_module_version": "1.2.0",
      "model_name": "LayoutModel",
      "state": {
       "width": "140px"
      }
     },
     "94ac8441e28c465d97dc1844bf1109b1": {
      "model_module": "@jupyter-widgets/controls",
      "model_module_version": "1.5.0",
      "model_name": "DescriptionStyleModel",
      "state": {
       "description_width": ""
      }
     },
     "94b133a462b34dfaaad7af93b35db69c": {
      "model_module": "@jupyter-widgets/controls",
      "model_module_version": "1.5.0",
      "model_name": "TextModel",
      "state": {
       "layout": "IPY_MODEL_7998cf86679645c9bf9a645c93e463c8",
       "style": "IPY_MODEL_6d12f804ff8f46999deb3b23441f804d",
       "value": "1"
      }
     },
     "94c38655a0fc493cab3106c2a5bdce94": {
      "model_module": "@jupyter-widgets/controls",
      "model_module_version": "1.5.0",
      "model_name": "HTMLMathModel",
      "state": {
       "layout": "IPY_MODEL_6febc84c9a474689b08c3f28ba926265",
       "style": "IPY_MODEL_85cb8a21115c4f7ea580dd1735914495",
       "value": "$$ \\mathbf{A} = \\left[  \n      \\begin{array}{rrr}\n          1 & 1 & -1\\\\\n          3 & 1 & 1\\\\\n          1 & -1 & 4\n      \\end{array}\n      , \\right] \\quad \\color{blue}{\\mathbf{B} = \\left[ \n    \\begin{array}{r}\n        3 \\\\\n        9 \\\\\n        8 \n    \\end{array}\n    \\right]}$$<br>with $\\det A =-2$."
      }
     },
     "95407559739446a5bd896205bdfaa2ef": {
      "model_module": "@jupyter-widgets/controls",
      "model_module_version": "1.5.0",
      "model_name": "TextModel",
      "state": {
       "layout": "IPY_MODEL_c4e9f4a8c7bf48249bb5b50320703732",
       "style": "IPY_MODEL_44137f1bb98a4a728263a22d707ec4f8",
       "value": "1"
      }
     },
     "9540b00c61144a06b8f288c3cd92990b": {
      "model_module": "@jupyter-widgets/base",
      "model_module_version": "1.2.0",
      "model_name": "LayoutModel",
      "state": {}
     },
     "9555fef23c9342b8aa367341be8156f0": {
      "model_module": "@jupyter-widgets/controls",
      "model_module_version": "1.5.0",
      "model_name": "HTMLMathModel",
      "state": {
       "layout": "IPY_MODEL_0aecee499def4bc9b01cb1ace755eb14",
       "style": "IPY_MODEL_dba8fed535c94074866cf26427ebcef8",
       "value": "Enter here the values of the matrix $\\bf{A}$"
      }
     },
     "955fbee8adb740f981bbc82e71efb4c5": {
      "model_module": "@jupyter-widgets/base",
      "model_module_version": "1.2.0",
      "model_name": "LayoutModel",
      "state": {
       "flex_flow": "row wrap",
       "justify_content": "space-around"
      }
     },
     "9561f62c8d3341f6bc653333a1e66c39": {
      "model_module": "@jupyter-widgets/controls",
      "model_module_version": "1.5.0",
      "model_name": "DescriptionStyleModel",
      "state": {
       "description_width": ""
      }
     },
     "957905b8d5514c58b5cc5e1ecb16483f": {
      "model_module": "@jupyter-widgets/controls",
      "model_module_version": "1.5.0",
      "model_name": "DescriptionStyleModel",
      "state": {
       "description_width": ""
      }
     },
     "95c5296ffb22422db53315b56d9c8326": {
      "model_module": "@jupyter-widgets/controls",
      "model_module_version": "1.5.0",
      "model_name": "TextModel",
      "state": {
       "layout": "IPY_MODEL_852e11ecf67743b9b3d1ddb8b98182be",
       "style": "IPY_MODEL_c7171cfc0d2b4f90b0037b3f30d19e4c",
       "value": "1"
      }
     },
     "96179146f0cd4392974b7d4c21390451": {
      "model_module": "@jupyter-widgets/controls",
      "model_module_version": "1.5.0",
      "model_name": "BoxModel",
      "state": {
       "children": [
        "IPY_MODEL_2dd8943723194ab5bde250c20b002a70",
        "IPY_MODEL_c74b8fe38ce545aab028049acd937780",
        "IPY_MODEL_367dc776b83546b3a11893675f35dbcf",
        "IPY_MODEL_1887dcfef26e472d90dcd4bfa519da12"
       ],
       "layout": "IPY_MODEL_9974d64e4c5a42c193b0fd05b64f880b"
      }
     },
     "9624a0b518404d64a3fd55c257a5ed7a": {
      "model_module": "@jupyter-widgets/controls",
      "model_module_version": "1.5.0",
      "model_name": "DescriptionStyleModel",
      "state": {
       "description_width": ""
      }
     },
     "9668507c7bad4659a8de85202bbc1aa5": {
      "model_module": "@jupyter-widgets/controls",
      "model_module_version": "1.5.0",
      "model_name": "DescriptionStyleModel",
      "state": {
       "description_width": ""
      }
     },
     "966f2e967aa14aa784fea495fd537536": {
      "model_module": "@jupyter-widgets/controls",
      "model_module_version": "1.5.0",
      "model_name": "DescriptionStyleModel",
      "state": {
       "description_width": ""
      }
     },
     "9687835f048b452a86cb18e9e8de3092": {
      "model_module": "@jupyter-widgets/controls",
      "model_module_version": "1.5.0",
      "model_name": "HTMLMathModel",
      "state": {
       "layout": "IPY_MODEL_dec27924f4c14e11976ffb445d6a8b27",
       "style": "IPY_MODEL_309328c9930c44cb861327bbb99e7713",
       "value": "$$ \\mathbf{A} = \\left[  \n      \\begin{array}{rrr}\n          1 & 1 & -1\\\\\n          3 & 1 & 1\\\\\n          1 & -1 & 4\n      \\end{array}\n      , \\right] \\quad \\color{blue}{\\mathbf{B} = \\left[ \n    \\begin{array}{r}\n        3 \\\\\n        9 \\\\\n        8 \n    \\end{array}\n    \\right]}$$<br>with $\\det A =-2$."
      }
     },
     "96dd9005ff9f47d683a2618b980d472c": {
      "model_module": "@jupyter-widgets/controls",
      "model_module_version": "1.5.0",
      "model_name": "TextModel",
      "state": {
       "layout": "IPY_MODEL_d7967788413544aa83e6234d99bfcfaf",
       "style": "IPY_MODEL_73ae163c10344ea98639d84c6a7d6deb",
       "value": "-1"
      }
     },
     "972c570f8a804bcca0f427c6643ff9bd": {
      "model_module": "@jupyter-widgets/controls",
      "model_module_version": "1.5.0",
      "model_name": "DescriptionStyleModel",
      "state": {
       "description_width": ""
      }
     },
     "975bcdcfc84948909ea29074d722900c": {
      "model_module": "@jupyter-widgets/base",
      "model_module_version": "1.2.0",
      "model_name": "LayoutModel",
      "state": {}
     },
     "975deacc52424f55a59d68f91f821e40": {
      "model_module": "@jupyter-widgets/controls",
      "model_module_version": "1.5.0",
      "model_name": "TextModel",
      "state": {
       "layout": "IPY_MODEL_35a7bfeaf8664758b5ea5e8c6d003d65",
       "style": "IPY_MODEL_8c12dc0c8e864a0b9e5f7e7e2034e5ba",
       "value": "1"
      }
     },
     "97a7aefad722435198452bc123d34729": {
      "model_module": "@jupyter-widgets/controls",
      "model_module_version": "1.5.0",
      "model_name": "DescriptionStyleModel",
      "state": {
       "description_width": ""
      }
     },
     "9806e0bf401f4ed5b752807b18510322": {
      "model_module": "@jupyter-widgets/controls",
      "model_module_version": "1.5.0",
      "model_name": "DescriptionStyleModel",
      "state": {
       "description_width": ""
      }
     },
     "981b11a914054ff8a8c17c8d7a76fba5": {
      "model_module": "@jupyter-widgets/controls",
      "model_module_version": "1.5.0",
      "model_name": "TextModel",
      "state": {
       "layout": "IPY_MODEL_365ba57c32664ab38fd8d83a88c4d1cb",
       "style": "IPY_MODEL_8e0fb9ba432140c3aa6d309ce3383dc9",
       "value": "9"
      }
     },
     "98fcbcd50d1c4e00ad2fa06167ec8553": {
      "model_module": "@jupyter-widgets/controls",
      "model_module_version": "1.5.0",
      "model_name": "HTMLMathModel",
      "state": {
       "layout": "IPY_MODEL_084bce05db48466caa5eb0ed02e5f9f2",
       "style": "IPY_MODEL_e074c047a1bc44de9023712895610b0c",
       "value": "$$ \\color{green}{\\det A} = \\left| \n      \\begin{array}{rrr}\n          1 & 1 & -1\\\\\n          3 & 1 & 1\\\\\n          1 & -1 & 4\n      \\end{array}\n      \\right| = \\color{green}{ -2}$$ <br>$$ \\color{red}{ \\det A_1 } = \\left| \n      \\begin{array}{rrr}\n          \\color{blue}{ 3 } & 1 & -1\\\\\n          \\color{blue}{ 9 } & 1 & 1\\\\\n          \\color{blue}{ 8 } & -1 & 4\n      \\end{array}\n      \\right| = \\color{red}{ 4 }$$ <br>$$ x_{ 1 } =\\frac{ \\det A_1}{\\det A} = \\frac{ 4 }{ -2 } = -2$$"
      }
     },
     "98fe73c218e74e70bacd69ad90548d9d": {
      "model_module": "@jupyter-widgets/controls",
      "model_module_version": "1.5.0",
      "model_name": "HBoxModel",
      "state": {
       "children": [
        "IPY_MODEL_d6af2259317a4dfd9f9b5315eb0aa38e",
        "IPY_MODEL_7074f086776f4a7e82c0aa03ae4597dd"
       ],
       "layout": "IPY_MODEL_cf3e8eed6cf44b96889b8c0f3c638c79"
      }
     },
     "9950df7175da4b23b279f68626ea608a": {
      "model_module": "@jupyter-widgets/base",
      "model_module_version": "1.2.0",
      "model_name": "LayoutModel",
      "state": {
       "width": "90px"
      }
     },
     "9974d64e4c5a42c193b0fd05b64f880b": {
      "model_module": "@jupyter-widgets/base",
      "model_module_version": "1.2.0",
      "model_name": "LayoutModel",
      "state": {
       "flex_flow": "row wrap",
       "justify_content": "space-around"
      }
     },
     "998d29842a7740979626b1b05da6afda": {
      "model_module": "@jupyter-widgets/base",
      "model_module_version": "1.2.0",
      "model_name": "LayoutModel",
      "state": {
       "grid_template_columns": "repeat(3, 45px)"
      }
     },
     "9992a8c66f64464eb4e0bae4877e4043": {
      "model_module": "@jupyter-widgets/controls",
      "model_module_version": "1.5.0",
      "model_name": "DescriptionStyleModel",
      "state": {
       "description_width": ""
      }
     },
     "99aed210ba4d4e01b8fc0f6ba4a87916": {
      "model_module": "@jupyter-widgets/controls",
      "model_module_version": "1.5.0",
      "model_name": "DescriptionStyleModel",
      "state": {
       "description_width": ""
      }
     },
     "99afd3ff445941f685c6addc491b459d": {
      "model_module": "@jupyter-widgets/base",
      "model_module_version": "1.2.0",
      "model_name": "LayoutModel",
      "state": {
       "width": "140px"
      }
     },
     "99affc5e9c5e4a8e99da21b057c0990b": {
      "model_module": "@jupyter-widgets/controls",
      "model_module_version": "1.5.0",
      "model_name": "DescriptionStyleModel",
      "state": {
       "description_width": ""
      }
     },
     "99ea9787cfcd464f994bd4e512e7a259": {
      "model_module": "@jupyter-widgets/controls",
      "model_module_version": "1.5.0",
      "model_name": "HTMLModel",
      "state": {
       "layout": "IPY_MODEL_4eb8778c3dc54714a53b41580da306b2",
       "style": "IPY_MODEL_780afa3a57064c8ca4431f2b5dfef866",
       "value": "Click this button to start or reset the app."
      }
     },
     "9a1b143bd2894abba9c88c409b24cace": {
      "model_module": "@jupyter-widgets/controls",
      "model_module_version": "1.5.0",
      "model_name": "GridBoxModel",
      "state": {
       "children": [
        "IPY_MODEL_39b9b99b1a0341709c231ca1f754afcb",
        "IPY_MODEL_0fa01d9008f643d8bb273a6956e9162a",
        "IPY_MODEL_15c851fdf2144d33a45dd5229cfb1841",
        "IPY_MODEL_4536ae60e2f34315834d6c68563fa196",
        "IPY_MODEL_17a3309c7aae4658adeed709a99fe017",
        "IPY_MODEL_81b85314c26a408d9d8542c30f490139",
        "IPY_MODEL_b39b13c0e5f04e97aef91a34cb3fea7b",
        "IPY_MODEL_376f038352f74719b4e64472e6c37143",
        "IPY_MODEL_3b6e8df652834b9e9a946082970e508b"
       ],
       "layout": "IPY_MODEL_7be139f45e374e8b816c74b224ceac98"
      }
     },
     "9a3421019e144647bd3d7a9aaf172f4b": {
      "model_module": "@jupyter-widgets/base",
      "model_module_version": "1.2.0",
      "model_name": "LayoutModel",
      "state": {
       "width": "90px"
      }
     },
     "9b5115dc816b4f67b729ae893e19758b": {
      "model_module": "@jupyter-widgets/controls",
      "model_module_version": "1.5.0",
      "model_name": "DescriptionStyleModel",
      "state": {
       "description_width": ""
      }
     },
     "9b7e1abce7b54ca8baf83e2f38cb1511": {
      "model_module": "@jupyter-widgets/controls",
      "model_module_version": "1.5.0",
      "model_name": "GridBoxModel",
      "state": {
       "children": [
        "IPY_MODEL_5ee71d2c2bad4ec58a2b9921d27c7d41",
        "IPY_MODEL_59f799f2ecbb4afd81eba563249f9679",
        "IPY_MODEL_ecdc9398341c4b36990f12a7f46b8b9a"
       ],
       "layout": "IPY_MODEL_1feccfb1c568483998ea09255aa2015a"
      }
     },
     "9b97b54563a645bb9eccaf372630860f": {
      "model_module": "@jupyter-widgets/base",
      "model_module_version": "1.2.0",
      "model_name": "LayoutModel",
      "state": {
       "grid_template_columns": "repeat(1, 45px)"
      }
     },
     "9b9f3038f4c243688b980e5291722dbf": {
      "model_module": "@jupyter-widgets/controls",
      "model_module_version": "1.5.0",
      "model_name": "GridBoxModel",
      "state": {
       "children": [
        "IPY_MODEL_242a56a804074c1d852574ddfdcfc5e7",
        "IPY_MODEL_d114ab79a35742c3b7c9c239b26908eb",
        "IPY_MODEL_55a193c8a4ca46b0b36d5f656dc50f5d"
       ],
       "layout": "IPY_MODEL_3c8bdf7e85984386b655aa28b297558d"
      }
     },
     "9bbd074f5fc84bb8b36644455c871dff": {
      "model_module": "@jupyter-widgets/controls",
      "model_module_version": "1.5.0",
      "model_name": "HBoxModel",
      "state": {
       "children": [
        "IPY_MODEL_53eb1473d88b4a3aaceb0999b7cff55f",
        "IPY_MODEL_559c02fefe4e4714986ad81c598dfd87"
       ],
       "layout": "IPY_MODEL_8c71d99f7feb499f983d5f52973ba979"
      }
     },
     "9bd8cdba1fb049cdbb67c36dc036329d": {
      "model_module": "@jupyter-widgets/controls",
      "model_module_version": "1.5.0",
      "model_name": "HTMLModel",
      "state": {
       "layout": "IPY_MODEL_16d69ef960b94ac3b0037b75bfb90df9",
       "style": "IPY_MODEL_9992a8c66f64464eb4e0bae4877e4043",
       "value": "Click this button to start or reset the app."
      }
     },
     "9bebb57ac52c4b148b1e4fdec21855e0": {
      "model_module": "@jupyter-widgets/controls",
      "model_module_version": "1.5.0",
      "model_name": "TextModel",
      "state": {
       "layout": "IPY_MODEL_1e007c68dda5461984bff523c716db0a",
       "style": "IPY_MODEL_ffa43d2a96df45b8abcfb67fe74319e2",
       "value": "1"
      }
     },
     "9bf2d07b7d784a48b4a990d2f1d3968d": {
      "model_module": "@jupyter-widgets/controls",
      "model_module_version": "1.5.0",
      "model_name": "HTMLMathModel",
      "state": {
       "layout": "IPY_MODEL_f474a9eacd9044838b177f9897a17d18",
       "style": "IPY_MODEL_7e657cdc5d54417fa56eee4c276cfa6d",
       "value": "Enter here the values of the matrix $\\bf{A}$"
      }
     },
     "9c46846f8d0545819abeb5e879f64cd8": {
      "model_module": "@jupyter-widgets/controls",
      "model_module_version": "1.5.0",
      "model_name": "DescriptionStyleModel",
      "state": {
       "description_width": ""
      }
     },
     "9c5fe590c1ab4435894179ad2ff1b6be": {
      "model_module": "@jupyter-widgets/controls",
      "model_module_version": "1.5.0",
      "model_name": "BoxModel",
      "state": {
       "children": [
        "IPY_MODEL_6475338d3fb04855827346cdcfe9435b",
        "IPY_MODEL_18a8e6450fdf4bd5a28dfb2d7ca97fb5"
       ],
       "layout": "IPY_MODEL_4984b63dafa240af95b43fc18629697f"
      }
     },
     "9c805f829b90405da13e38260db29d90": {
      "model_module": "@jupyter-widgets/base",
      "model_module_version": "1.2.0",
      "model_name": "LayoutModel",
      "state": {
       "height": "120px",
       "justify_content": "center",
       "width": "300px"
      }
     },
     "9c842b3277b64cbd92fc3a1763813d5b": {
      "model_module": "@jupyter-widgets/base",
      "model_module_version": "1.2.0",
      "model_name": "LayoutModel",
      "state": {}
     },
     "9cc383b681544e2e84c85121dcc104b5": {
      "model_module": "@jupyter-widgets/base",
      "model_module_version": "1.2.0",
      "model_name": "LayoutModel",
      "state": {
       "height": "120px",
       "width": "150px"
      }
     },
     "9d0dd25be9a044289c9739ff1bb0ad2c": {
      "model_module": "@jupyter-widgets/controls",
      "model_module_version": "1.5.0",
      "model_name": "HTMLModel",
      "state": {
       "layout": "IPY_MODEL_99afd3ff445941f685c6addc491b459d",
       "style": "IPY_MODEL_d80beaef9b564f948375f3bee2c661ce",
       "value": "Click this button to start or reset the app."
      }
     },
     "9d2f7bdeaeac4180ab3a716cbdec5355": {
      "model_module": "@jupyter-widgets/controls",
      "model_module_version": "1.5.0",
      "model_name": "HTMLMathModel",
      "state": {
       "layout": "IPY_MODEL_cd613790eb464e2da530ac4629be11d3",
       "style": "IPY_MODEL_a6ceed1c36884b46bcf9d6f5b5153324",
       "value": "Enter here the values of the constant matrix $\\bf{B}$"
      }
     },
     "9d2ff9ab297048c1ac7ae755b198057c": {
      "model_module": "@jupyter-widgets/base",
      "model_module_version": "1.2.0",
      "model_name": "LayoutModel",
      "state": {
       "height": "120px",
       "justify_content": "center",
       "width": "400px"
      }
     },
     "9d59e60cbb6848b48a22644747e0c210": {
      "model_module": "@jupyter-widgets/controls",
      "model_module_version": "1.5.0",
      "model_name": "TextModel",
      "state": {
       "layout": "IPY_MODEL_35a7bfeaf8664758b5ea5e8c6d003d65",
       "style": "IPY_MODEL_323135ce97b64f86af2efc1e9cd2f5f7",
       "value": "3"
      }
     },
     "9d66c63101e2493486c34d5bd014311a": {
      "model_module": "@jupyter-widgets/controls",
      "model_module_version": "1.5.0",
      "model_name": "TextModel",
      "state": {
       "layout": "IPY_MODEL_f10e93f25a7549fb8fcf6aa01db5a79e",
       "style": "IPY_MODEL_7da5cec4144543f8941e3a0ab246ccbd",
       "value": "-1"
      }
     },
     "9d6d1663191f48c58b91ae5fc4337feb": {
      "model_module": "@jupyter-widgets/controls",
      "model_module_version": "1.5.0",
      "model_name": "HTMLModel",
      "state": {
       "layout": "IPY_MODEL_476714807ca046b5bf49831859743bc9",
       "style": "IPY_MODEL_e0575d708edf466ea30245f5c17283da",
       "value": "Click this button to start or reset the app."
      }
     },
     "9d937a72e3c24d14b5bffc45d5c47db7": {
      "model_module": "@jupyter-widgets/controls",
      "model_module_version": "1.5.0",
      "model_name": "TextModel",
      "state": {
       "layout": "IPY_MODEL_0874150cd33b4f338f6b1c26dff102c7",
       "style": "IPY_MODEL_364286a6aeb449829d325a663934fa39",
       "value": "8"
      }
     },
     "9dc0ae9e43554d6c94240765131d242e": {
      "model_module": "@jupyter-widgets/controls",
      "model_module_version": "1.5.0",
      "model_name": "DescriptionStyleModel",
      "state": {
       "description_width": ""
      }
     },
     "9e223ef534e44cd0869f1e642b63caa1": {
      "model_module": "@jupyter-widgets/controls",
      "model_module_version": "1.5.0",
      "model_name": "TextModel",
      "state": {
       "layout": "IPY_MODEL_f10e93f25a7549fb8fcf6aa01db5a79e",
       "style": "IPY_MODEL_68ca2140815f436e9cdcd579fff5f10e",
       "value": "4"
      }
     },
     "9e4499c59861449eb2b615c359ac8d51": {
      "model_module": "@jupyter-widgets/base",
      "model_module_version": "1.2.0",
      "model_name": "LayoutModel",
      "state": {
       "height": "120px",
       "justify_content": "center",
       "width": "300px"
      }
     },
     "9e4a7e7680254a8eb055ce96578b017a": {
      "model_module": "@jupyter-widgets/controls",
      "model_module_version": "1.5.0",
      "model_name": "DescriptionStyleModel",
      "state": {
       "description_width": ""
      }
     },
     "9e675b90b6364da9963e52d7e4ec51b2": {
      "model_module": "@jupyter-widgets/controls",
      "model_module_version": "1.5.0",
      "model_name": "TextModel",
      "state": {
       "layout": "IPY_MODEL_38b8c268bd754197a79daa5bfd085f20",
       "style": "IPY_MODEL_ee2aeeaa7c4944f093992298b777c9f5",
       "value": "1"
      }
     },
     "9e77952c26b54b47865992052d28c415": {
      "model_module": "@jupyter-widgets/base",
      "model_module_version": "1.2.0",
      "model_name": "LayoutModel",
      "state": {}
     },
     "9e7b0b7b7eaa4274a037d1e356026110": {
      "model_module": "@jupyter-widgets/controls",
      "model_module_version": "1.5.0",
      "model_name": "TextModel",
      "state": {
       "layout": "IPY_MODEL_7d582068d7aa41488a3ed889fd050d18",
       "style": "IPY_MODEL_b4c605c205ef4b8b81b5273da9fdd662",
       "value": "3"
      }
     },
     "9e8cc330022548449c43dc523ef6be7b": {
      "model_module": "@jupyter-widgets/controls",
      "model_module_version": "1.5.0",
      "model_name": "ButtonStyleModel",
      "state": {}
     },
     "9ea7eec8ed38492a9091302bcb3cc915": {
      "model_module": "@jupyter-widgets/controls",
      "model_module_version": "1.5.0",
      "model_name": "HTMLMathModel",
      "state": {
       "layout": "IPY_MODEL_a9014c6b7dc4436897a8e5c0761bd285",
       "style": "IPY_MODEL_7cc1e163e1644e57bdf313b663404496",
       "value": "Enter here the values of the matrix $\\bf{A}$"
      }
     },
     "9eabb859982f4f5e8781d5a70816ef7d": {
      "model_module": "@jupyter-widgets/base",
      "model_module_version": "1.2.0",
      "model_name": "LayoutModel",
      "state": {
       "height": "120px",
       "justify_content": "center",
       "width": "300px"
      }
     },
     "9f1af4b2c31a428d9f4dceb8acc843db": {
      "model_module": "@jupyter-widgets/controls",
      "model_module_version": "1.5.0",
      "model_name": "HBoxModel",
      "state": {
       "children": [
        "IPY_MODEL_33512570118942c3a11c916b8e050517",
        "IPY_MODEL_e5470f36f0f643279532e0c2df4206f4"
       ],
       "layout": "IPY_MODEL_41a112403c61466fae016f666b87f7ed"
      }
     },
     "9f1ec4d4672b42b59aaa756c85065b39": {
      "model_module": "@jupyter-widgets/base",
      "model_module_version": "1.2.0",
      "model_name": "LayoutModel",
      "state": {
       "flex_flow": "row wrap",
       "justify_content": "space-around"
      }
     },
     "9f5e3792b08f4e039e1efacd44359345": {
      "model_module": "@jupyter-widgets/controls",
      "model_module_version": "1.5.0",
      "model_name": "ButtonModel",
      "state": {
       "description": "Start",
       "layout": "IPY_MODEL_b98c3581152848289e6f69ac7663f243",
       "style": "IPY_MODEL_388bfb1aaddc44178416b897d19e896e"
      }
     },
     "9f6b278e621e4d04bba779d5a2e8ede1": {
      "model_module": "@jupyter-widgets/base",
      "model_module_version": "1.2.0",
      "model_name": "LayoutModel",
      "state": {
       "width": "140px"
      }
     },
     "a0c0be3b6fe44d52b39129eecf723aef": {
      "model_module": "@jupyter-widgets/base",
      "model_module_version": "1.2.0",
      "model_name": "LayoutModel",
      "state": {
       "height": "120px",
       "width": "150px"
      }
     },
     "a0d56673efdc42e08314bd9a939fee4d": {
      "model_module": "@jupyter-widgets/controls",
      "model_module_version": "1.5.0",
      "model_name": "TextModel",
      "state": {
       "layout": "IPY_MODEL_d7967788413544aa83e6234d99bfcfaf",
       "style": "IPY_MODEL_0c6748e536174262a6235c7e8f6ffb7f",
       "value": "1"
      }
     },
     "a1432f95b3524c92a1fe5a8537f35bc3": {
      "model_module": "@jupyter-widgets/controls",
      "model_module_version": "1.5.0",
      "model_name": "TextModel",
      "state": {
       "layout": "IPY_MODEL_5064eb8b796f469bb47ced8ec32aba1e",
       "style": "IPY_MODEL_57bea68a605748ae8a52e8ea04258fd0",
       "value": "8"
      }
     },
     "a16402a55d7f4736aa6602732f8aaf9a": {
      "model_module": "@jupyter-widgets/controls",
      "model_module_version": "1.5.0",
      "model_name": "TextModel",
      "state": {
       "layout": "IPY_MODEL_38b8c268bd754197a79daa5bfd085f20",
       "style": "IPY_MODEL_baecfdd8beb34825b82b5cded12ac56d",
       "value": "1"
      }
     },
     "a16cdaa1a06f44f38138f0c7b4a9b22b": {
      "model_module": "@jupyter-widgets/base",
      "model_module_version": "1.2.0",
      "model_name": "LayoutModel",
      "state": {}
     },
     "a1bcbdd1041541aab7fba2966def8e7c": {
      "model_module": "@jupyter-widgets/base",
      "model_module_version": "1.2.0",
      "model_name": "LayoutModel",
      "state": {
       "width": "140px"
      }
     },
     "a1d5e49cea86401a8b487018dd30558f": {
      "model_module": "@jupyter-widgets/controls",
      "model_module_version": "1.5.0",
      "model_name": "TextModel",
      "state": {
       "layout": "IPY_MODEL_559e088c23fd41ac878f827500212741",
       "style": "IPY_MODEL_2bb8779436e54a3d853c10be43abbd19",
       "value": "1"
      }
     },
     "a1eec3c46e1f403c884dcdedf1bea4b1": {
      "model_module": "@jupyter-widgets/base",
      "model_module_version": "1.2.0",
      "model_name": "LayoutModel",
      "state": {
       "height": "120px",
       "width": "250px"
      }
     },
     "a1fed754109e4d12b745ede03f387f33": {
      "model_module": "@jupyter-widgets/controls",
      "model_module_version": "1.5.0",
      "model_name": "TextModel",
      "state": {
       "layout": "IPY_MODEL_7d582068d7aa41488a3ed889fd050d18",
       "style": "IPY_MODEL_fbeb45a89d9e4e6489657e14a5daaa92",
       "value": "3"
      }
     },
     "a21a3e5972314d57ba3a0e4bc9322f51": {
      "model_module": "@jupyter-widgets/controls",
      "model_module_version": "1.5.0",
      "model_name": "DescriptionStyleModel",
      "state": {
       "description_width": ""
      }
     },
     "a2280e9942a9489fbf6b93e7e8501dfc": {
      "model_module": "@jupyter-widgets/controls",
      "model_module_version": "1.5.0",
      "model_name": "DescriptionStyleModel",
      "state": {
       "description_width": ""
      }
     },
     "a23018ab1ff343b19b09a691f0aaf89c": {
      "model_module": "@jupyter-widgets/controls",
      "model_module_version": "1.5.0",
      "model_name": "DescriptionStyleModel",
      "state": {
       "description_width": ""
      }
     },
     "a233a753b38d456d86c288f2de64bdbd": {
      "model_module": "@jupyter-widgets/base",
      "model_module_version": "1.2.0",
      "model_name": "LayoutModel",
      "state": {
       "flex_flow": "row wrap",
       "justify_content": "space-around"
      }
     },
     "a2bb8740477e43eaa1080068c336a860": {
      "model_module": "@jupyter-widgets/controls",
      "model_module_version": "1.5.0",
      "model_name": "DescriptionStyleModel",
      "state": {
       "description_width": ""
      }
     },
     "a2bc8daffaf048f1b6b459cb2483c5e2": {
      "model_module": "@jupyter-widgets/controls",
      "model_module_version": "1.5.0",
      "model_name": "TextModel",
      "state": {
       "layout": "IPY_MODEL_f7d10756bf8e446d8f8deb1712e2baa5",
       "style": "IPY_MODEL_6d65fc00f72c42fa9db8d630c879b6aa",
       "value": "0"
      }
     },
     "a2e3b11d09cc4c34b6792ebc67467239": {
      "model_module": "@jupyter-widgets/controls",
      "model_module_version": "1.5.0",
      "model_name": "DescriptionStyleModel",
      "state": {
       "description_width": ""
      }
     },
     "a2feb7ed938f47a8b56bf6421fb3a587": {
      "model_module": "@jupyter-widgets/controls",
      "model_module_version": "1.5.0",
      "model_name": "HTMLModel",
      "state": {
       "layout": "IPY_MODEL_5836ba817e864349a4a5bc2ffbe548f8",
       "style": "IPY_MODEL_c5c695f2816848ec9f40f836b4fdf5a0",
       "value": "Click this button to start or reset the app."
      }
     },
     "a320ee82edc24181acd5421dff507699": {
      "model_module": "@jupyter-widgets/base",
      "model_module_version": "1.2.0",
      "model_name": "LayoutModel",
      "state": {
       "width": "90px"
      }
     },
     "a33b33255ca944039212b8886aafa8e9": {
      "model_module": "@jupyter-widgets/base",
      "model_module_version": "1.2.0",
      "model_name": "LayoutModel",
      "state": {
       "width": "90px"
      }
     },
     "a3955c4f6a51493abb89f62ad1230e4c": {
      "model_module": "@jupyter-widgets/controls",
      "model_module_version": "1.5.0",
      "model_name": "VBoxModel",
      "state": {
       "children": [
        "IPY_MODEL_6d7785a2661d4e97a942d8ad80a2913e",
        "IPY_MODEL_488697bfb6cd4a39ba2efaad8803bfe3"
       ],
       "layout": "IPY_MODEL_830d675e20734253b3d8c85366177f84"
      }
     },
     "a3c1380a91bf408986e7f0f7037ede5f": {
      "model_module": "@jupyter-widgets/controls",
      "model_module_version": "1.5.0",
      "model_name": "ButtonModel",
      "state": {
       "description": "Start",
       "layout": "IPY_MODEL_1b99698a62174129b211fd686c634529",
       "style": "IPY_MODEL_51fa6fb9e4bc40c19d417988455d7aeb"
      }
     },
     "a40958c79367423189726379ac54ec69": {
      "model_module": "@jupyter-widgets/controls",
      "model_module_version": "1.5.0",
      "model_name": "DescriptionStyleModel",
      "state": {
       "description_width": ""
      }
     },
     "a40dee743fe8401d9bf980bf488982c8": {
      "model_module": "@jupyter-widgets/controls",
      "model_module_version": "1.5.0",
      "model_name": "ButtonModel",
      "state": {
       "description": "Solve",
       "layout": "IPY_MODEL_e9154ebf36324ff98fd2c1cd297c167d",
       "style": "IPY_MODEL_1d9a04a627994c1083b7f9a4560b00dc"
      }
     },
     "a430acd1edf341438e5c51f7e019af6d": {
      "model_module": "@jupyter-widgets/controls",
      "model_module_version": "1.5.0",
      "model_name": "GridBoxModel",
      "state": {
       "children": [
        "IPY_MODEL_5d673f71cf89432a9d1315e69d958bf4",
        "IPY_MODEL_fd89aaee1f7f4d4583a70a33b740ee9b",
        "IPY_MODEL_c70ff243a7a24bfe9b005f92871af490"
       ],
       "layout": "IPY_MODEL_790716f4a9ea434ba7ae9d4b7d84c287"
      }
     },
     "a4586505da78479b898a64e2d9467c74": {
      "model_module": "@jupyter-widgets/controls",
      "model_module_version": "1.5.0",
      "model_name": "TextModel",
      "state": {
       "layout": "IPY_MODEL_bac3718a75224a58a09cb1f3e996c28a",
       "style": "IPY_MODEL_897833c7bc7440bb957dda01808df695",
       "value": "1"
      }
     },
     "a48526179f824951bd5529bb7ac1ec4f": {
      "model_module": "@jupyter-widgets/base",
      "model_module_version": "1.2.0",
      "model_name": "LayoutModel",
      "state": {
       "flex_flow": "row wrap",
       "justify_content": "space-around"
      }
     },
     "a489c77a7f57408487af30cada0ad0f2": {
      "model_module": "@jupyter-widgets/controls",
      "model_module_version": "1.5.0",
      "model_name": "DescriptionStyleModel",
      "state": {
       "description_width": ""
      }
     },
     "a4a94248cda4444ab15368d7f8c38026": {
      "model_module": "@jupyter-widgets/base",
      "model_module_version": "1.2.0",
      "model_name": "LayoutModel",
      "state": {
       "width": "150px"
      }
     },
     "a4e0d0f0e5a24ac9888bf5b3f05c50c2": {
      "model_module": "@jupyter-widgets/controls",
      "model_module_version": "1.5.0",
      "model_name": "DescriptionStyleModel",
      "state": {
       "description_width": ""
      }
     },
     "a50141fe1bf7432dbf8718cf9064772e": {
      "model_module": "@jupyter-widgets/controls",
      "model_module_version": "1.5.0",
      "model_name": "DescriptionStyleModel",
      "state": {
       "description_width": ""
      }
     },
     "a50f5bf1d00c40a98d741022d8d3537e": {
      "model_module": "@jupyter-widgets/controls",
      "model_module_version": "1.5.0",
      "model_name": "DescriptionStyleModel",
      "state": {
       "description_width": ""
      }
     },
     "a5205eb378074abf8a2fdcba9b457356": {
      "model_module": "@jupyter-widgets/controls",
      "model_module_version": "1.5.0",
      "model_name": "DescriptionStyleModel",
      "state": {
       "description_width": ""
      }
     },
     "a5cccc82e90a4fe5b2c34b2f8b9853c5": {
      "model_module": "@jupyter-widgets/controls",
      "model_module_version": "1.5.0",
      "model_name": "BoxModel",
      "state": {
       "children": [
        "IPY_MODEL_18687213589d40bc9b0af9e58fe9a3d4",
        "IPY_MODEL_8e4fac80f0bb4302bd358376bf2dc727"
       ],
       "layout": "IPY_MODEL_910806f959694d4d9015366e1c378e86"
      }
     },
     "a606abb2c92041699dc33a94c82bbf52": {
      "model_module": "@jupyter-widgets/controls",
      "model_module_version": "1.5.0",
      "model_name": "HTMLMathModel",
      "state": {
       "layout": "IPY_MODEL_63e0da762ecc43ce8f82a1fa594a3462",
       "style": "IPY_MODEL_4f6b18ed2f0c42fd937004c955b20d2b",
       "value": "Enter here the values of the matrix $\\bf{A}$"
      }
     },
     "a6ceed1c36884b46bcf9d6f5b5153324": {
      "model_module": "@jupyter-widgets/controls",
      "model_module_version": "1.5.0",
      "model_name": "DescriptionStyleModel",
      "state": {
       "description_width": ""
      }
     },
     "a6dcac0bff0046a6bbbb1ab772e82379": {
      "model_module": "@jupyter-widgets/controls",
      "model_module_version": "1.5.0",
      "model_name": "DescriptionStyleModel",
      "state": {
       "description_width": ""
      }
     },
     "a6e8589fbb8141a4ba7c7fd764f7306d": {
      "model_module": "@jupyter-widgets/controls",
      "model_module_version": "1.5.0",
      "model_name": "DescriptionStyleModel",
      "state": {
       "description_width": ""
      }
     },
     "a705c1b26f3341a4b90d5b961e27b060": {
      "model_module": "@jupyter-widgets/controls",
      "model_module_version": "1.5.0",
      "model_name": "TextModel",
      "state": {
       "layout": "IPY_MODEL_35a7bfeaf8664758b5ea5e8c6d003d65",
       "style": "IPY_MODEL_615fab45d2e0450ca62eecfbb6224aa1",
       "value": "3"
      }
     },
     "a71e2338f72f4e1db598228128cea957": {
      "model_module": "@jupyter-widgets/controls",
      "model_module_version": "1.5.0",
      "model_name": "DescriptionStyleModel",
      "state": {
       "description_width": ""
      }
     },
     "a7b9636875e34e1fad1954a9ea78f261": {
      "model_module": "@jupyter-widgets/controls",
      "model_module_version": "1.5.0",
      "model_name": "ButtonModel",
      "state": {
       "description": "Solve",
       "layout": "IPY_MODEL_d93c21bfa8194f45a24464a671d1e355",
       "style": "IPY_MODEL_5314d57e78cc452aa1553768be117baa"
      }
     },
     "a81dd083cfad4d43bf49bb21a159ddc7": {
      "model_module": "@jupyter-widgets/controls",
      "model_module_version": "1.5.0",
      "model_name": "DescriptionStyleModel",
      "state": {
       "description_width": ""
      }
     },
     "a8c563c8bda247bcacf0154c60a591cc": {
      "model_module": "@jupyter-widgets/base",
      "model_module_version": "1.2.0",
      "model_name": "LayoutModel",
      "state": {
       "width": "90px"
      }
     },
     "a8cea1965d514d6e8d48a16e8cc33172": {
      "model_module": "@jupyter-widgets/controls",
      "model_module_version": "1.5.0",
      "model_name": "DescriptionStyleModel",
      "state": {
       "description_width": ""
      }
     },
     "a8d7634b6a6e49f8a1cdbd0df5f0764c": {
      "model_module": "@jupyter-widgets/controls",
      "model_module_version": "1.5.0",
      "model_name": "BoxModel",
      "state": {
       "children": [
        "IPY_MODEL_2ce49d760a954ad9bd54bc165debf0c9",
        "IPY_MODEL_ad5168d04dbb4d53809be9ed92714d80",
        "IPY_MODEL_61a36a48f27648f2b54447eb4ec8547b",
        "IPY_MODEL_d359b30e7f3045f2b7531bf7503ecc0f"
       ],
       "layout": "IPY_MODEL_a48526179f824951bd5529bb7ac1ec4f"
      }
     },
     "a8fde438c16c4f5f83fe5b26652fd9a4": {
      "model_module": "@jupyter-widgets/base",
      "model_module_version": "1.2.0",
      "model_name": "LayoutModel",
      "state": {
       "width": "90px"
      }
     },
     "a8ff0ca36f15412dac89f5407120c710": {
      "model_module": "@jupyter-widgets/controls",
      "model_module_version": "1.5.0",
      "model_name": "TextModel",
      "state": {
       "layout": "IPY_MODEL_8233178bdcdc4cc5a36e758a2579d1fc",
       "style": "IPY_MODEL_54ffbb7e2ce144d499a3518ccdf18b25",
       "value": "1"
      }
     },
     "a9014c6b7dc4436897a8e5c0761bd285": {
      "model_module": "@jupyter-widgets/base",
      "model_module_version": "1.2.0",
      "model_name": "LayoutModel",
      "state": {
       "width": "90px"
      }
     },
     "a90d039e542c48c2bc1784fa02a504e4": {
      "model_module": "@jupyter-widgets/controls",
      "model_module_version": "1.5.0",
      "model_name": "HTMLModel",
      "state": {
       "layout": "IPY_MODEL_6708b0062eb44725968dfda412a39a8b",
       "style": "IPY_MODEL_a50141fe1bf7432dbf8718cf9064772e",
       "value": "Choose a variable to solve for."
      }
     },
     "a91ac71a1d894aabb0d93440942cb767": {
      "model_module": "@jupyter-widgets/base",
      "model_module_version": "1.2.0",
      "model_name": "LayoutModel",
      "state": {}
     },
     "a96a89c02efb4c17b52c54d64df8dd59": {
      "model_module": "@jupyter-widgets/base",
      "model_module_version": "1.2.0",
      "model_name": "LayoutModel",
      "state": {
       "width": "90px"
      }
     },
     "a972361eb770460b9d01d1f686b10dd9": {
      "model_module": "@jupyter-widgets/base",
      "model_module_version": "1.2.0",
      "model_name": "LayoutModel",
      "state": {
       "flex_flow": "row wrap",
       "justify_content": "space-around"
      }
     },
     "a9e916708e3f4eaea47894ecf43fdd2f": {
      "model_module": "@jupyter-widgets/controls",
      "model_module_version": "1.5.0",
      "model_name": "DescriptionStyleModel",
      "state": {
       "description_width": ""
      }
     },
     "aa2d47ca9cc747fe8fadc2224f33c7e3": {
      "model_module": "@jupyter-widgets/controls",
      "model_module_version": "1.5.0",
      "model_name": "DescriptionStyleModel",
      "state": {
       "description_width": ""
      }
     },
     "aa5f4e7ff7ad48e4b264eb6869d004a6": {
      "model_module": "@jupyter-widgets/controls",
      "model_module_version": "1.5.0",
      "model_name": "DescriptionStyleModel",
      "state": {
       "description_width": ""
      }
     },
     "aa8a43bc7efc4610acbcd9034541fe5a": {
      "model_module": "@jupyter-widgets/controls",
      "model_module_version": "1.5.0",
      "model_name": "TextModel",
      "state": {
       "layout": "IPY_MODEL_bac3718a75224a58a09cb1f3e996c28a",
       "style": "IPY_MODEL_dbdc3973caee4294a9226152e263ac37",
       "value": "8"
      }
     },
     "aab25879aee8400696527f96b58aaf44": {
      "model_module": "@jupyter-widgets/base",
      "model_module_version": "1.2.0",
      "model_name": "LayoutModel",
      "state": {
       "height": "120px",
       "width": "150px"
      }
     },
     "aac02fb146514d3186ffb789060e47ba": {
      "model_module": "@jupyter-widgets/controls",
      "model_module_version": "1.5.0",
      "model_name": "TextModel",
      "state": {
       "layout": "IPY_MODEL_365ba57c32664ab38fd8d83a88c4d1cb",
       "style": "IPY_MODEL_8044cba4a1794b549b5b46e4c2842c23",
       "value": "1"
      }
     },
     "ab2ea24974ee4d0095731c31db68a527": {
      "model_module": "@jupyter-widgets/base",
      "model_module_version": "1.2.0",
      "model_name": "LayoutModel",
      "state": {
       "flex_flow": "row wrap",
       "justify_content": "space-around"
      }
     },
     "ab5da7ceace94cfca58d3b93d62c5d2f": {
      "model_module": "@jupyter-widgets/controls",
      "model_module_version": "1.5.0",
      "model_name": "HBoxModel",
      "state": {
       "children": [
        "IPY_MODEL_f50d80e622c046e5871dc396d9cb9b3e",
        "IPY_MODEL_c204e34220df4337ba0acb18123ebc4a"
       ],
       "layout": "IPY_MODEL_b44489dec6b74a4089cad688212b5cc3"
      }
     },
     "ab96f044a02042398ccc93aed70163d1": {
      "model_module": "@jupyter-widgets/controls",
      "model_module_version": "1.5.0",
      "model_name": "TextModel",
      "state": {
       "layout": "IPY_MODEL_f7d10756bf8e446d8f8deb1712e2baa5",
       "style": "IPY_MODEL_787401874af548bbaf84d94becf55e6f",
       "value": "3"
      }
     },
     "abae80f55b94499896b507657ad4d5ec": {
      "model_module": "@jupyter-widgets/controls",
      "model_module_version": "1.5.0",
      "model_name": "DescriptionStyleModel",
      "state": {
       "description_width": ""
      }
     },
     "ac1a10bf042b449f9ba60960ec635960": {
      "model_module": "@jupyter-widgets/controls",
      "model_module_version": "1.5.0",
      "model_name": "HTMLMathModel",
      "state": {
       "layout": "IPY_MODEL_60a937da50d94a188923d67d369c54e2",
       "style": "IPY_MODEL_58f4ac6ea7964c43ac73d72679cb0395",
       "value": "Enter here the values of the matrix $\\bf{A}$"
      }
     },
     "ac2fa0a827d14ffb8731ddeff5c95cdd": {
      "model_module": "@jupyter-widgets/base",
      "model_module_version": "1.2.0",
      "model_name": "LayoutModel",
      "state": {
       "width": "140px"
      }
     },
     "ac8e817637e6415eb3a9472f7145668f": {
      "model_module": "@jupyter-widgets/controls",
      "model_module_version": "1.5.0",
      "model_name": "DescriptionStyleModel",
      "state": {
       "description_width": ""
      }
     },
     "acdbe6b318224b198e18e6bfe949f1cf": {
      "model_module": "@jupyter-widgets/controls",
      "model_module_version": "1.5.0",
      "model_name": "TextModel",
      "state": {
       "layout": "IPY_MODEL_2d3cc260859645ad9ef1bccbe1a463c7",
       "style": "IPY_MODEL_c1eeb293eda940ac8f3dee56ed7fba20",
       "value": "1"
      }
     },
     "acdfcb6e434b4eed9d2875628b125019": {
      "model_module": "@jupyter-widgets/base",
      "model_module_version": "1.2.0",
      "model_name": "LayoutModel",
      "state": {}
     },
     "acebc969cb13488dbc62012798010b4c": {
      "model_module": "@jupyter-widgets/controls",
      "model_module_version": "1.5.0",
      "model_name": "TextModel",
      "state": {
       "layout": "IPY_MODEL_f10e93f25a7549fb8fcf6aa01db5a79e",
       "style": "IPY_MODEL_287bbd6ce6494772b3da4e5a3ca7f03e",
       "value": "1"
      }
     },
     "acec3bfed68d479fb9fcc138b322f19e": {
      "model_module": "@jupyter-widgets/controls",
      "model_module_version": "1.5.0",
      "model_name": "DescriptionStyleModel",
      "state": {
       "description_width": ""
      }
     },
     "ad1439eb6337450ca54e725667fc5cba": {
      "model_module": "@jupyter-widgets/controls",
      "model_module_version": "1.5.0",
      "model_name": "HTMLModel",
      "state": {
       "layout": "IPY_MODEL_ac2fa0a827d14ffb8731ddeff5c95cdd",
       "style": "IPY_MODEL_e8abe16c6b514c56971eeeb80be3ef01",
       "value": "Choose a variable to solve for."
      }
     },
     "ad15cad2ab9f44f782e9e4acceca4045": {
      "model_module": "@jupyter-widgets/base",
      "model_module_version": "1.2.0",
      "model_name": "LayoutModel",
      "state": {
       "width": "90px"
      }
     },
     "ad39d859f80a4e87bc710b9f2cc1919d": {
      "model_module": "@jupyter-widgets/controls",
      "model_module_version": "1.5.0",
      "model_name": "DescriptionStyleModel",
      "state": {
       "description_width": ""
      }
     },
     "ad5168d04dbb4d53809be9ed92714d80": {
      "model_module": "@jupyter-widgets/controls",
      "model_module_version": "1.5.0",
      "model_name": "HBoxModel",
      "state": {
       "children": [
        "IPY_MODEL_900e7502b7ce4885b59e1464eb8ebc3a",
        "IPY_MODEL_4234b8affa5b4c21b34ad8757584a1c3"
       ],
       "layout": "IPY_MODEL_1f548b7fa2ea42f9a80f15327daceec9"
      }
     },
     "ad5ed5a5923349c08951fd72dfd393f8": {
      "model_module": "@jupyter-widgets/controls",
      "model_module_version": "1.5.0",
      "model_name": "DescriptionStyleModel",
      "state": {
       "description_width": ""
      }
     },
     "ad6fad55faab4d12a80c5ee130ffb0b2": {
      "model_module": "@jupyter-widgets/controls",
      "model_module_version": "1.5.0",
      "model_name": "DescriptionStyleModel",
      "state": {
       "description_width": ""
      }
     },
     "ad7c7462ba8741bfb018306467d0e7cc": {
      "model_module": "@jupyter-widgets/base",
      "model_module_version": "1.2.0",
      "model_name": "LayoutModel",
      "state": {}
     },
     "ad807c17ed9744399be5dbf22569ef23": {
      "model_module": "@jupyter-widgets/controls",
      "model_module_version": "1.5.0",
      "model_name": "TextModel",
      "state": {
       "layout": "IPY_MODEL_bac3718a75224a58a09cb1f3e996c28a",
       "style": "IPY_MODEL_ad5ed5a5923349c08951fd72dfd393f8",
       "value": "1"
      }
     },
     "aded17b0bdcb422b96e495fb720bfc65": {
      "model_module": "@jupyter-widgets/controls",
      "model_module_version": "1.5.0",
      "model_name": "TextModel",
      "state": {
       "layout": "IPY_MODEL_7d582068d7aa41488a3ed889fd050d18",
       "style": "IPY_MODEL_abae80f55b94499896b507657ad4d5ec",
       "value": "1"
      }
     },
     "ae8b5172c73e4b7ea1a8d8b3bc716717": {
      "model_module": "@jupyter-widgets/controls",
      "model_module_version": "1.5.0",
      "model_name": "HTMLMathModel",
      "state": {
       "layout": "IPY_MODEL_0179583ad8104d0c967b50f0c8fe6b4c",
       "style": "IPY_MODEL_0a86436cc60047679aad5ab9574369fc",
       "value": "$$ \\mathbf{A} = \\left[  \n      \\begin{array}{rrr}\n          1 & 1 & -1\\\\\n          3 & 1 & 1\\\\\n          1 & -1 & 4\n      \\end{array}\n      , \\right] \\quad \\color{blue}{\\mathbf{B} = \\left[ \n    \\begin{array}{r}\n        3 \\\\\n        9 \\\\\n        8 \n    \\end{array}\n    \\right]}$$<br>with $\\det A =-2$."
      }
     },
     "ae9dcf7873d048198d02f697f1a53eb0": {
      "model_module": "@jupyter-widgets/controls",
      "model_module_version": "1.5.0",
      "model_name": "GridBoxModel",
      "state": {
       "children": [
        "IPY_MODEL_27931472d1194e5780d2f6a56e9c4624",
        "IPY_MODEL_4dcaabc62be74f35bbfbd0b2078fd0b6",
        "IPY_MODEL_c26772d18b714d2ba615c4ecfe029f86"
       ],
       "layout": "IPY_MODEL_448220e41587476db11b7f3187da054f"
      }
     },
     "aeb11b3278a34ff1bce3be9032e77402": {
      "model_module": "@jupyter-widgets/base",
      "model_module_version": "1.2.0",
      "model_name": "LayoutModel",
      "state": {
       "height": "120px",
       "justify_content": "center",
       "width": "800px"
      }
     },
     "af2ab37ca58547aa9dd99f63cdaa4a44": {
      "model_module": "@jupyter-widgets/controls",
      "model_module_version": "1.5.0",
      "model_name": "ButtonModel",
      "state": {
       "description": "Solve",
       "layout": "IPY_MODEL_7e906fd6685d4aed9f219610d5c29c3f",
       "style": "IPY_MODEL_910078062d624cea8dc64b37b63bc99a"
      }
     },
     "af7df95cddf2421ebb1128ed30d87a17": {
      "model_module": "@jupyter-widgets/controls",
      "model_module_version": "1.5.0",
      "model_name": "DescriptionStyleModel",
      "state": {
       "description_width": ""
      }
     },
     "afe43798b9104d428cef7875f19e2c76": {
      "model_module": "@jupyter-widgets/controls",
      "model_module_version": "1.5.0",
      "model_name": "HTMLMathModel",
      "state": {
       "layout": "IPY_MODEL_9119f3a19f96498b937b47c1c55b010f",
       "style": "IPY_MODEL_1701cca7e6d14fb79c934c1aaf2ccd9d",
       "value": "$$ \\mathbf{A} = \\left[  \n      \\begin{array}{rrr}\n          1 & 1 & -1\\\\\n          3 & 1 & 1\\\\\n          1 & -1 & 4\n      \\end{array}\n      , \\right] \\quad \\color{blue}{\\mathbf{B} = \\left[ \n    \\begin{array}{r}\n        3 \\\\\n        9 \\\\\n        8 \n    \\end{array}\n    \\right]}$$<br>with $\\det A =-2$."
      }
     },
     "aff0ce3a49ba4dec880e9e9a151419b0": {
      "model_module": "@jupyter-widgets/controls",
      "model_module_version": "1.5.0",
      "model_name": "DescriptionStyleModel",
      "state": {
       "description_width": ""
      }
     },
     "b014c3a4940b4bb28c25ecd3848071b1": {
      "model_module": "@jupyter-widgets/controls",
      "model_module_version": "1.5.0",
      "model_name": "HTMLMathModel",
      "state": {
       "layout": "IPY_MODEL_78432798506a465ca9c9aa44fc3f6aa7",
       "style": "IPY_MODEL_9624a0b518404d64a3fd55c257a5ed7a",
       "value": "Enter here the values of the constant matrix $\\bf{B}$"
      }
     },
     "b01c30ff8caa40afbe36cc2436a8fcc2": {
      "model_module": "@jupyter-widgets/controls",
      "model_module_version": "1.5.0",
      "model_name": "DescriptionStyleModel",
      "state": {
       "description_width": ""
      }
     },
     "b051ef6ff86f489f896aefa3e48b0316": {
      "model_module": "@jupyter-widgets/controls",
      "model_module_version": "1.5.0",
      "model_name": "TextModel",
      "state": {
       "layout": "IPY_MODEL_365ba57c32664ab38fd8d83a88c4d1cb",
       "style": "IPY_MODEL_23a9d5cbd05b465697744a949e56e92e",
       "value": "8"
      }
     },
     "b070e8e72fa14e06aeaa958afefe92dc": {
      "model_module": "@jupyter-widgets/controls",
      "model_module_version": "1.5.0",
      "model_name": "TextModel",
      "state": {
       "layout": "IPY_MODEL_35a7bfeaf8664758b5ea5e8c6d003d65",
       "style": "IPY_MODEL_d7467b812d044ed78d28a3d9ec11df38",
       "value": "8"
      }
     },
     "b0768d8cac844ca3b23b57285ef35bd6": {
      "model_module": "@jupyter-widgets/controls",
      "model_module_version": "1.5.0",
      "model_name": "HTMLMathModel",
      "state": {
       "layout": "IPY_MODEL_ce11225849db41b4ba0f5cf7aaea9169",
       "style": "IPY_MODEL_4c96a66745b64067b6b77127cf1ef343",
       "value": "Enter here the values of the constant matrix $\\bf{B}$"
      }
     },
     "b0abcf4591b543f6ab8908efa355a292": {
      "model_module": "@jupyter-widgets/controls",
      "model_module_version": "1.5.0",
      "model_name": "DescriptionStyleModel",
      "state": {
       "description_width": ""
      }
     },
     "b0c90e8449ec4de889ff072dc7f352c0": {
      "model_module": "@jupyter-widgets/controls",
      "model_module_version": "1.5.0",
      "model_name": "BoxModel",
      "state": {
       "children": [
        "IPY_MODEL_0c7783c858364d5da01a0dfe797614a9",
        "IPY_MODEL_87c7c565043c42f4a7a063ec135aea11"
       ],
       "layout": "IPY_MODEL_437e4e447db64970b0933bcb07a20159"
      }
     },
     "b10ae48e628d46269daeb4cb0a056e6d": {
      "model_module": "@jupyter-widgets/controls",
      "model_module_version": "1.5.0",
      "model_name": "TextModel",
      "state": {
       "layout": "IPY_MODEL_1e007c68dda5461984bff523c716db0a",
       "style": "IPY_MODEL_327e2e4da4a14e0198b1540ccd963ca3",
       "value": "1"
      }
     },
     "b11376e75ef14e8187e10eebe55002c5": {
      "model_module": "@jupyter-widgets/controls",
      "model_module_version": "1.5.0",
      "model_name": "HTMLModel",
      "state": {
       "layout": "IPY_MODEL_ff0136a80e324dabafe3c87a9fc28c7f",
       "style": "IPY_MODEL_d600baabe66c4623805740efac3b1654",
       "value": "Choose a variable to solve for."
      }
     },
     "b16c18c7c84440058dcaa3463c32e041": {
      "model_module": "@jupyter-widgets/controls",
      "model_module_version": "1.5.0",
      "model_name": "DescriptionStyleModel",
      "state": {
       "description_width": ""
      }
     },
     "b1a8efba6f744da6a1d19450c722a722": {
      "model_module": "@jupyter-widgets/base",
      "model_module_version": "1.2.0",
      "model_name": "LayoutModel",
      "state": {}
     },
     "b1f149572d744eaaae61ea2d3ee89805": {
      "model_module": "@jupyter-widgets/controls",
      "model_module_version": "1.5.0",
      "model_name": "TextModel",
      "state": {
       "layout": "IPY_MODEL_0874150cd33b4f338f6b1c26dff102c7",
       "style": "IPY_MODEL_957905b8d5514c58b5cc5e1ecb16483f",
       "value": "9"
      }
     },
     "b1fc902638b54b30b6bacf8e3df1ceac": {
      "model_module": "@jupyter-widgets/controls",
      "model_module_version": "1.5.0",
      "model_name": "HTMLModel",
      "state": {
       "layout": "IPY_MODEL_947c811ab6784e4981f627cd4c405bcb",
       "style": "IPY_MODEL_81b206b6cb2047ffa6e2ba57a11dd726",
       "value": "Click this button to start or reset the app."
      }
     },
     "b2150ea9b4a64599b0b45da9d0d2bd64": {
      "model_module": "@jupyter-widgets/controls",
      "model_module_version": "1.5.0",
      "model_name": "HBoxModel",
      "state": {
       "children": [
        "IPY_MODEL_a430acd1edf341438e5c51f7e019af6d",
        "IPY_MODEL_b0768d8cac844ca3b23b57285ef35bd6"
       ],
       "layout": "IPY_MODEL_09ab0e60abab427fa81548e74fe9eebd"
      }
     },
     "b259cb409f504639b16277851b5811fc": {
      "model_module": "@jupyter-widgets/controls",
      "model_module_version": "1.5.0",
      "model_name": "BoxModel",
      "state": {
       "children": [
        "IPY_MODEL_f62d63184b394264b81ca6f9e4478fa7",
        "IPY_MODEL_da37af8d703448a9885ba9e752839ba1"
       ],
       "layout": "IPY_MODEL_197ec2f18c544349b10d1e4566769d6b"
      }
     },
     "b292fcf4e7a548ea9d7310a7885d8641": {
      "model_module": "@jupyter-widgets/controls",
      "model_module_version": "1.5.0",
      "model_name": "HTMLModel",
      "state": {
       "layout": "IPY_MODEL_9f6b278e621e4d04bba779d5a2e8ede1",
       "style": "IPY_MODEL_d399c35ac93e47caa90cfc87cde16aa7",
       "value": "Click this button to start or reset the app."
      }
     },
     "b2a3ca3847c04fdbb11c8ac57647c990": {
      "model_module": "@jupyter-widgets/controls",
      "model_module_version": "1.5.0",
      "model_name": "DescriptionStyleModel",
      "state": {
       "description_width": ""
      }
     },
     "b2afdf255d7c48b7b5d246b6c9df1926": {
      "model_module": "@jupyter-widgets/controls",
      "model_module_version": "1.5.0",
      "model_name": "HTMLModel",
      "state": {
       "layout": "IPY_MODEL_2b79d35e3d0e462198e107b4266febc9",
       "style": "IPY_MODEL_c7c54de0e86b4f9aa502cc0c7b1ae57a",
       "value": "Click this button to start or reset the app."
      }
     },
     "b2eeedeccecf47b49a1b1322c5fa7e73": {
      "model_module": "@jupyter-widgets/controls",
      "model_module_version": "1.5.0",
      "model_name": "DescriptionStyleModel",
      "state": {
       "description_width": ""
      }
     },
     "b3125ae4a7e84e6d91919a0b8d1c96b6": {
      "model_module": "@jupyter-widgets/controls",
      "model_module_version": "1.5.0",
      "model_name": "DescriptionStyleModel",
      "state": {
       "description_width": ""
      }
     },
     "b34ba5ccc98246a3b6c7937acd74f8e0": {
      "model_module": "@jupyter-widgets/controls",
      "model_module_version": "1.5.0",
      "model_name": "HTMLMathModel",
      "state": {
       "layout": "IPY_MODEL_bb10349a102e43e2bca38e1f2c665e3c",
       "style": "IPY_MODEL_d198e2e18c604e00b2d97772590a7edb",
       "value": "$$ \\mathbf{A} = \\left[  \n      \\begin{array}{rrr}\n          1 & 1 & -1\\\\\n          3 & 1 & 1\\\\\n          1 & -1 & 4\n      \\end{array}\n      , \\right] \\quad \\color{blue}{\\mathbf{B} = \\left[ \n    \\begin{array}{r}\n        3 \\\\\n        9 \\\\\n        8 \n    \\end{array}\n    \\right]}$$<br>with $\\det A =-2$."
      }
     },
     "b35b8e0246cf4c1c9659c94ff5f891c5": {
      "model_module": "@jupyter-widgets/controls",
      "model_module_version": "1.5.0",
      "model_name": "HTMLMathModel",
      "state": {
       "layout": "IPY_MODEL_bcdeb1cfc76f4724ab62cbc69f8a1c63",
       "style": "IPY_MODEL_c1d0320a09c74d96bbff41a9a7aaefd0",
       "value": "$$ \\color{red}{\\det A} = \\left| \n      \\begin{array}{rrr}\n          1 & 1 & -1\\\\\n          3 & 1 & 1\\\\\n          1 & -1 & 4\n      \\end{array}\n      \\right| = -2$$ <br>$$ \\det A_1 = \\left| \n      \\begin{array}{rrr}\n          \\color{blue}{ 3 } & 1 & -1\\\\\n          \\color{blue}{ 9 } & 1 & 1\\\\\n          \\color{blue}{ 8 } & -1 & 4\n      \\end{array}\n      \\right| = 4$$ <br>$$ x_{ 1 } =\\frac{ \\det A_1}{\\det A} = \\frac{ 4 }{ -2 } = -2$$"
      }
     },
     "b35e6586cb1641f5ac2d20a75fe33325": {
      "model_module": "@jupyter-widgets/controls",
      "model_module_version": "1.5.0",
      "model_name": "BoxModel",
      "state": {
       "children": [
        "IPY_MODEL_9f1af4b2c31a428d9f4dceb8acc843db",
        "IPY_MODEL_ab5da7ceace94cfca58d3b93d62c5d2f",
        "IPY_MODEL_654f3a0014d342d28d3cb317bd505f05",
        "IPY_MODEL_525011c016924c61aa8964af71f81e55"
       ],
       "layout": "IPY_MODEL_9f1ec4d4672b42b59aaa756c85065b39"
      }
     },
     "b39b13c0e5f04e97aef91a34cb3fea7b": {
      "model_module": "@jupyter-widgets/controls",
      "model_module_version": "1.5.0",
      "model_name": "TextModel",
      "state": {
       "layout": "IPY_MODEL_60fba3a3410847dc8a3bad3fcd17590c",
       "style": "IPY_MODEL_b16c18c7c84440058dcaa3463c32e041",
       "value": "1"
      }
     },
     "b3bf896de5ec449abae440c68e03abd8": {
      "model_module": "@jupyter-widgets/base",
      "model_module_version": "1.2.0",
      "model_name": "LayoutModel",
      "state": {}
     },
     "b3bf8ee822ef4032adef9482d6db904a": {
      "model_module": "@jupyter-widgets/controls",
      "model_module_version": "1.5.0",
      "model_name": "DescriptionStyleModel",
      "state": {
       "description_width": ""
      }
     },
     "b425ca4c5b6a4a12b5870e74b85600cd": {
      "model_module": "@jupyter-widgets/controls",
      "model_module_version": "1.5.0",
      "model_name": "DescriptionStyleModel",
      "state": {
       "description_width": ""
      }
     },
     "b4391df114bf4f729c2885a14ed13cd6": {
      "model_module": "@jupyter-widgets/controls",
      "model_module_version": "1.5.0",
      "model_name": "DescriptionStyleModel",
      "state": {
       "description_width": ""
      }
     },
     "b44489dec6b74a4089cad688212b5cc3": {
      "model_module": "@jupyter-widgets/base",
      "model_module_version": "1.2.0",
      "model_name": "LayoutModel",
      "state": {
       "height": "120px",
       "width": "150px"
      }
     },
     "b488de22b394428f9eafe703e20e39db": {
      "model_module": "@jupyter-widgets/base",
      "model_module_version": "1.2.0",
      "model_name": "LayoutModel",
      "state": {
       "grid_template_columns": "repeat(1, 45px)"
      }
     },
     "b4c605c205ef4b8b81b5273da9fdd662": {
      "model_module": "@jupyter-widgets/controls",
      "model_module_version": "1.5.0",
      "model_name": "DescriptionStyleModel",
      "state": {
       "description_width": ""
      }
     },
     "b4db9b8f9d3e4eb7bd55aa5b33ce0d4b": {
      "model_module": "@jupyter-widgets/controls",
      "model_module_version": "1.5.0",
      "model_name": "DropdownModel",
      "state": {
       "_options_labels": [
        "x₁",
        "x₂",
        "x₃"
       ],
       "description": "Variable:",
       "index": 0,
       "layout": "IPY_MODEL_f9ef4989885e4021af6d3f468c6b6766",
       "style": "IPY_MODEL_bcc223885ab148a8a49b8ee6065d341f"
      }
     },
     "b4e30ec831f04793bd52da37283aec7f": {
      "model_module": "@jupyter-widgets/controls",
      "model_module_version": "1.5.0",
      "model_name": "DropdownModel",
      "state": {
       "_options_labels": [
        "x₁",
        "x₂",
        "x₃"
       ],
       "description": "Variable:",
       "index": 0,
       "layout": "IPY_MODEL_c33bc2ec902a468596934e5660be2d22",
       "style": "IPY_MODEL_4765fc19ac7d4918b74e081eee8a88e0"
      }
     },
     "b57449bfa3ab44ec9820658446a62aa8": {
      "model_module": "@jupyter-widgets/base",
      "model_module_version": "1.2.0",
      "model_name": "LayoutModel",
      "state": {
       "width": "150px"
      }
     },
     "b58d347a13de4444bb692627567579e2": {
      "model_module": "@jupyter-widgets/controls",
      "model_module_version": "1.5.0",
      "model_name": "DescriptionStyleModel",
      "state": {
       "description_width": ""
      }
     },
     "b60efe38f7c14a1db09002cd3c13cbc2": {
      "model_module": "@jupyter-widgets/controls",
      "model_module_version": "1.5.0",
      "model_name": "DescriptionStyleModel",
      "state": {
       "description_width": ""
      }
     },
     "b6715cfa5c7a4459aa14ec695256a012": {
      "model_module": "@jupyter-widgets/controls",
      "model_module_version": "1.5.0",
      "model_name": "DescriptionStyleModel",
      "state": {
       "description_width": ""
      }
     },
     "b6779b8b0ae24e94bd85a791fe4e2991": {
      "model_module": "@jupyter-widgets/controls",
      "model_module_version": "1.5.0",
      "model_name": "HBoxModel",
      "state": {
       "children": [
        "IPY_MODEL_ac1a10bf042b449f9ba60960ec635960",
        "IPY_MODEL_c6022292c2d242ff9cefa8de5101fa9a"
       ],
       "layout": "IPY_MODEL_0a096e4b900b4b29ba858597f4836ffd"
      }
     },
     "b707f23029d7448d877738ad02639028": {
      "model_module": "@jupyter-widgets/base",
      "model_module_version": "1.2.0",
      "model_name": "LayoutModel",
      "state": {
       "width": "140px"
      }
     },
     "b70ab993355543b3b1eb5a33bab292ad": {
      "model_module": "@jupyter-widgets/controls",
      "model_module_version": "1.5.0",
      "model_name": "DescriptionStyleModel",
      "state": {
       "description_width": ""
      }
     },
     "b7346f41588b4738a6a8254e480e5bca": {
      "model_module": "@jupyter-widgets/controls",
      "model_module_version": "1.5.0",
      "model_name": "DescriptionStyleModel",
      "state": {
       "description_width": ""
      }
     },
     "b7520ab63b954c9cb37052f5fa6a5c6d": {
      "model_module": "@jupyter-widgets/controls",
      "model_module_version": "1.5.0",
      "model_name": "ButtonModel",
      "state": {
       "description": "Solve",
       "layout": "IPY_MODEL_83b450f54bb04f33ae0c4760f88b78a3",
       "style": "IPY_MODEL_5ccf3d7d947a4b3e91bdcd1285851901"
      }
     },
     "b7a8a15204d347d2b5632321627cc422": {
      "model_module": "@jupyter-widgets/base",
      "model_module_version": "1.2.0",
      "model_name": "LayoutModel",
      "state": {}
     },
     "b7daf4467bc442e58ab7461dfce32c70": {
      "model_module": "@jupyter-widgets/controls",
      "model_module_version": "1.5.0",
      "model_name": "HBoxModel",
      "state": {
       "children": [
        "IPY_MODEL_e6e042f62c974ad08184331c6c11cf00",
        "IPY_MODEL_6b1957d0a8cd4b459523dbb3830b81fb"
       ],
       "layout": "IPY_MODEL_06136227a6ba4943bb872c919410dff3"
      }
     },
     "b84f9570116d4ea8a385318cf0cc97e8": {
      "model_module": "@jupyter-widgets/controls",
      "model_module_version": "1.5.0",
      "model_name": "DescriptionStyleModel",
      "state": {
       "description_width": ""
      }
     },
     "b86bdab4b76244b5b377ca0c4bd2cb85": {
      "model_module": "@jupyter-widgets/base",
      "model_module_version": "1.2.0",
      "model_name": "LayoutModel",
      "state": {
       "width": "90px"
      }
     },
     "b8914ad9f00349b4937e7fac96f26b62": {
      "model_module": "@jupyter-widgets/controls",
      "model_module_version": "1.5.0",
      "model_name": "DescriptionStyleModel",
      "state": {
       "description_width": ""
      }
     },
     "b8acdfcb264e49308637779b6701fc2f": {
      "model_module": "@jupyter-widgets/controls",
      "model_module_version": "1.5.0",
      "model_name": "HBoxModel",
      "state": {
       "children": [
        "IPY_MODEL_7ad5bb0193564b09a0d1d147082e220e",
        "IPY_MODEL_9d2f7bdeaeac4180ab3a716cbdec5355"
       ],
       "layout": "IPY_MODEL_d6fb2b39722146ed885f8c23e0027a37"
      }
     },
     "b8e80c3575e74820afc6bc6ec7e81961": {
      "model_module": "@jupyter-widgets/base",
      "model_module_version": "1.2.0",
      "model_name": "LayoutModel",
      "state": {
       "height": "250px",
       "justify_content": "center",
       "width": "400px"
      }
     },
     "b8f9242a936748368403a278ab5f5176": {
      "model_module": "@jupyter-widgets/controls",
      "model_module_version": "1.5.0",
      "model_name": "TextModel",
      "state": {
       "layout": "IPY_MODEL_f7d10756bf8e446d8f8deb1712e2baa5",
       "style": "IPY_MODEL_f0fa7bcd5e004ebc98825269318c844c",
       "value": "0"
      }
     },
     "b9207ba6126048789dfbfc8657ec0c80": {
      "model_module": "@jupyter-widgets/controls",
      "model_module_version": "1.5.0",
      "model_name": "TextModel",
      "state": {
       "layout": "IPY_MODEL_8233178bdcdc4cc5a36e758a2579d1fc",
       "style": "IPY_MODEL_182fb8dff1174e0286351342ed05001d",
       "value": "-1"
      }
     },
     "b988c8d63a9a41e89e9b48b24c933f87": {
      "model_module": "@jupyter-widgets/controls",
      "model_module_version": "1.5.0",
      "model_name": "HBoxModel",
      "state": {
       "children": [
        "IPY_MODEL_1991ff420db04e3ea50ef7d43ce4495e",
        "IPY_MODEL_1e538c93edd941dbbe0f59923e230e6f"
       ],
       "layout": "IPY_MODEL_66f8360656524313ae56ba7ecb2b480a"
      }
     },
     "b98c3581152848289e6f69ac7663f243": {
      "model_module": "@jupyter-widgets/base",
      "model_module_version": "1.2.0",
      "model_name": "LayoutModel",
      "state": {}
     },
     "ba61ba4fbd5c4a7b8f69cb514e5f409d": {
      "model_module": "@jupyter-widgets/controls",
      "model_module_version": "1.5.0",
      "model_name": "HBoxModel",
      "state": {
       "children": [
        "IPY_MODEL_9555fef23c9342b8aa367341be8156f0",
        "IPY_MODEL_2d4e1d12104c46f2a2736651053d9ea8"
       ],
       "layout": "IPY_MODEL_5eb17c9197454fa3b71479b3101334f3"
      }
     },
     "ba674855fc9042c8914f51881f7a8f40": {
      "model_module": "@jupyter-widgets/controls",
      "model_module_version": "1.5.0",
      "model_name": "DescriptionStyleModel",
      "state": {
       "description_width": ""
      }
     },
     "ba875aa68bd6491f8cd41495cdb75e12": {
      "model_module": "@jupyter-widgets/controls",
      "model_module_version": "1.5.0",
      "model_name": "DescriptionStyleModel",
      "state": {
       "description_width": ""
      }
     },
     "baa3655bea6042ff835919b7722ee4de": {
      "model_module": "@jupyter-widgets/controls",
      "model_module_version": "1.5.0",
      "model_name": "TextModel",
      "state": {
       "layout": "IPY_MODEL_56b7235de6f34f8ea7f7ee90eec44abc",
       "style": "IPY_MODEL_885d288688184bf8951bef23ba3decf2",
       "value": "-1"
      }
     },
     "bac3718a75224a58a09cb1f3e996c28a": {
      "model_module": "@jupyter-widgets/base",
      "model_module_version": "1.2.0",
      "model_name": "LayoutModel",
      "state": {
       "height": "35px",
       "width": "40px"
      }
     },
     "baecfdd8beb34825b82b5cded12ac56d": {
      "model_module": "@jupyter-widgets/controls",
      "model_module_version": "1.5.0",
      "model_name": "DescriptionStyleModel",
      "state": {
       "description_width": ""
      }
     },
     "baf0e94f04fe4f439908186d2cae5866": {
      "model_module": "@jupyter-widgets/base",
      "model_module_version": "1.2.0",
      "model_name": "LayoutModel",
      "state": {
       "height": "120px",
       "justify_content": "center",
       "width": "400px"
      }
     },
     "bb10349a102e43e2bca38e1f2c665e3c": {
      "model_module": "@jupyter-widgets/base",
      "model_module_version": "1.2.0",
      "model_name": "LayoutModel",
      "state": {
       "height": "120px",
       "justify_content": "center",
       "width": "300px"
      }
     },
     "bb1364ee3cbe49b1a9403fb1d3a3f1c0": {
      "model_module": "@jupyter-widgets/controls",
      "model_module_version": "1.5.0",
      "model_name": "DescriptionStyleModel",
      "state": {
       "description_width": ""
      }
     },
     "bb2a7e466fe049be89ad3cc62f294cd4": {
      "model_module": "@jupyter-widgets/controls",
      "model_module_version": "1.5.0",
      "model_name": "TextModel",
      "state": {
       "layout": "IPY_MODEL_2d3cc260859645ad9ef1bccbe1a463c7",
       "style": "IPY_MODEL_0770a48a65c04047a2f6666c679eeb82",
       "value": "4"
      }
     },
     "bb637ab98f74478abdaf5088aa36fb3d": {
      "model_module": "@jupyter-widgets/base",
      "model_module_version": "1.2.0",
      "model_name": "LayoutModel",
      "state": {
       "height": "120px",
       "width": "250px"
      }
     },
     "bbc95fc4932a4aa9a893096ce2bcc8ca": {
      "model_module": "@jupyter-widgets/base",
      "model_module_version": "1.2.0",
      "model_name": "LayoutModel",
      "state": {
       "height": "120px",
       "justify_content": "center",
       "width": "300px"
      }
     },
     "bbcbf53ff786407aa79c3cf09b215dc0": {
      "model_module": "@jupyter-widgets/base",
      "model_module_version": "1.2.0",
      "model_name": "LayoutModel",
      "state": {
       "width": "140px"
      }
     },
     "bc4663a3f4ad478e9ddf04059f57608d": {
      "model_module": "@jupyter-widgets/base",
      "model_module_version": "1.2.0",
      "model_name": "LayoutModel",
      "state": {}
     },
     "bc9bdf3fe5ef4566ae850bfe035f16fd": {
      "model_module": "@jupyter-widgets/base",
      "model_module_version": "1.2.0",
      "model_name": "LayoutModel",
      "state": {
       "height": "120px",
       "width": "250px"
      }
     },
     "bca7ba9fc7824d44bf6c335006b342ee": {
      "model_module": "@jupyter-widgets/controls",
      "model_module_version": "1.5.0",
      "model_name": "DescriptionStyleModel",
      "state": {
       "description_width": ""
      }
     },
     "bcc223885ab148a8a49b8ee6065d341f": {
      "model_module": "@jupyter-widgets/controls",
      "model_module_version": "1.5.0",
      "model_name": "DescriptionStyleModel",
      "state": {
       "description_width": ""
      }
     },
     "bcddb9a471094714820917ecf1f23565": {
      "model_module": "@jupyter-widgets/controls",
      "model_module_version": "1.5.0",
      "model_name": "DescriptionStyleModel",
      "state": {
       "description_width": ""
      }
     },
     "bcdeb1cfc76f4724ab62cbc69f8a1c63": {
      "model_module": "@jupyter-widgets/base",
      "model_module_version": "1.2.0",
      "model_name": "LayoutModel",
      "state": {
       "height": "250px",
       "justify_content": "center",
       "width": "400px"
      }
     },
     "bcecb80dc51c468493b8c769e14382c1": {
      "model_module": "@jupyter-widgets/controls",
      "model_module_version": "1.5.0",
      "model_name": "ButtonModel",
      "state": {
       "description": "Start",
       "layout": "IPY_MODEL_d81703e0d9374cf19f9d4621d28b7508",
       "style": "IPY_MODEL_69995b77f84d4f48b5a840290a1aa72c"
      }
     },
     "bcf764ec543848e5bf7c14bcf39538e1": {
      "model_module": "@jupyter-widgets/base",
      "model_module_version": "1.2.0",
      "model_name": "LayoutModel",
      "state": {
       "width": "140px"
      }
     },
     "bd3fff6c591b4f569154c1f56a1bee81": {
      "model_module": "@jupyter-widgets/controls",
      "model_module_version": "1.5.0",
      "model_name": "HTMLMathModel",
      "state": {
       "layout": "IPY_MODEL_bbc95fc4932a4aa9a893096ce2bcc8ca",
       "style": "IPY_MODEL_f27e48a344df4b83bd01f9bb61b2b50a",
       "value": "$$ \\mathbf{A} = \\left[  \n      \\begin{array}{rrr}\n          1 & 1 & -1\\\\\n          3 & 1 & 1\\\\\n          1 & -1 & 4\n      \\end{array}\n      , \\right] \\quad \\color{blue}{\\mathbf{B} = \\left[ \n    \\begin{array}{r}\n        3 \\\\\n        9 \\\\\n        8 \n    \\end{array}\n    \\right]}$$<br>with $\\det A =-2$."
      }
     },
     "bddcc759dfbe479d803fc4015a71b9f8": {
      "model_module": "@jupyter-widgets/controls",
      "model_module_version": "1.5.0",
      "model_name": "DescriptionStyleModel",
      "state": {
       "description_width": ""
      }
     },
     "bde9d7aa2ce647718bb5751c08635334": {
      "model_module": "@jupyter-widgets/controls",
      "model_module_version": "1.5.0",
      "model_name": "DescriptionStyleModel",
      "state": {
       "description_width": ""
      }
     },
     "be2395951fc04709a00dd5ca5be821e8": {
      "model_module": "@jupyter-widgets/controls",
      "model_module_version": "1.5.0",
      "model_name": "BoxModel",
      "state": {
       "children": [
        "IPY_MODEL_0d7967f66a264134aa8be03c9fa1b17d",
        "IPY_MODEL_f04378d28b5f4c7bb7a6c009229c08f1"
       ],
       "layout": "IPY_MODEL_caa0fc2a6bde4fb495787b819069eb7d"
      }
     },
     "be312648d31b4b648fcfb39235e90b13": {
      "model_module": "@jupyter-widgets/controls",
      "model_module_version": "1.5.0",
      "model_name": "TextModel",
      "state": {
       "layout": "IPY_MODEL_35a7bfeaf8664758b5ea5e8c6d003d65",
       "style": "IPY_MODEL_83aa7c1f9e554d1c918aafbbb6a7763d",
       "value": "1"
      }
     },
     "be36731b1a3a4780a118087cba9be6e6": {
      "model_module": "@jupyter-widgets/controls",
      "model_module_version": "1.5.0",
      "model_name": "DescriptionStyleModel",
      "state": {
       "description_width": ""
      }
     },
     "be6e51570696421fa6a65a7b4ebc3c9e": {
      "model_module": "@jupyter-widgets/controls",
      "model_module_version": "1.5.0",
      "model_name": "DescriptionStyleModel",
      "state": {
       "description_width": ""
      }
     },
     "be9b93b1567e4412baec25696650ad0a": {
      "model_module": "@jupyter-widgets/base",
      "model_module_version": "1.2.0",
      "model_name": "LayoutModel",
      "state": {}
     },
     "bef38ea13f4b4a9cbc5933ed2464babe": {
      "model_module": "@jupyter-widgets/controls",
      "model_module_version": "1.5.0",
      "model_name": "ButtonStyleModel",
      "state": {}
     },
     "bf00d802d1c5434fbdbca54c4ef4cb20": {
      "model_module": "@jupyter-widgets/controls",
      "model_module_version": "1.5.0",
      "model_name": "TextModel",
      "state": {
       "layout": "IPY_MODEL_2d3cc260859645ad9ef1bccbe1a463c7",
       "style": "IPY_MODEL_b2a3ca3847c04fdbb11c8ac57647c990",
       "value": "1"
      }
     },
     "bf0625022ab247deac8ee47620d53bd0": {
      "model_module": "@jupyter-widgets/controls",
      "model_module_version": "1.5.0",
      "model_name": "HTMLModel",
      "state": {
       "layout": "IPY_MODEL_c3188ac6c2a8498c980622b240e7f71b",
       "style": "IPY_MODEL_da11fa0cab494ad4b6d122e53cd0ab9a",
       "value": "Choose a variable to solve for."
      }
     },
     "bf106810ef864696bb8e8cc40fb21115": {
      "model_module": "@jupyter-widgets/controls",
      "model_module_version": "1.5.0",
      "model_name": "TextModel",
      "state": {
       "layout": "IPY_MODEL_35a7bfeaf8664758b5ea5e8c6d003d65",
       "style": "IPY_MODEL_0e502c0d21244b1f974c456c78ff247d",
       "value": "4"
      }
     },
     "bfe262df2ede407183b5411bd6339129": {
      "model_module": "@jupyter-widgets/controls",
      "model_module_version": "1.5.0",
      "model_name": "TextModel",
      "state": {
       "layout": "IPY_MODEL_bac3718a75224a58a09cb1f3e996c28a",
       "style": "IPY_MODEL_008c504ea16a499fbb315383e2e6d93c",
       "value": "-1"
      }
     },
     "c05b867a14f54abe9d76e784516d8044": {
      "model_module": "@jupyter-widgets/controls",
      "model_module_version": "1.5.0",
      "model_name": "HBoxModel",
      "state": {
       "children": [
        "IPY_MODEL_9ea7eec8ed38492a9091302bcb3cc915",
        "IPY_MODEL_939a067703d24de2ad7b2f5630e629b3"
       ],
       "layout": "IPY_MODEL_a1eec3c46e1f403c884dcdedf1bea4b1"
      }
     },
     "c07ea4c4caf64e6aa6db87aa23fd0a7c": {
      "model_module": "@jupyter-widgets/controls",
      "model_module_version": "1.5.0",
      "model_name": "DescriptionStyleModel",
      "state": {
       "description_width": ""
      }
     },
     "c0a4802849dd441083b21687ec5b4f55": {
      "model_module": "@jupyter-widgets/controls",
      "model_module_version": "1.5.0",
      "model_name": "DescriptionStyleModel",
      "state": {
       "description_width": ""
      }
     },
     "c0d824faf88646c08ed63d1c5e19aa1e": {
      "model_module": "@jupyter-widgets/controls",
      "model_module_version": "1.5.0",
      "model_name": "DescriptionStyleModel",
      "state": {
       "description_width": ""
      }
     },
     "c0e678d581e744c282bb9e7c50abd2c8": {
      "model_module": "@jupyter-widgets/controls",
      "model_module_version": "1.5.0",
      "model_name": "ButtonStyleModel",
      "state": {}
     },
     "c15a8431d8a74b8b84ed4aa1d4b22679": {
      "model_module": "@jupyter-widgets/controls",
      "model_module_version": "1.5.0",
      "model_name": "BoxModel",
      "state": {
       "children": [
        "IPY_MODEL_82f7e88e70af475a9ecccb8347e88472",
        "IPY_MODEL_5cbef9369f2347ba802c4881683482ae",
        "IPY_MODEL_0ffad30b6fd04cb987aa05623918cea8",
        "IPY_MODEL_921ec5fc661b4edf9abcaeb6c864e596"
       ],
       "layout": "IPY_MODEL_7ed5d0a4bf5043c9a6e7a21c7875bbff"
      }
     },
     "c188e6cdfecc41ef9b719fae53da8bf7": {
      "model_module": "@jupyter-widgets/base",
      "model_module_version": "1.2.0",
      "model_name": "LayoutModel",
      "state": {
       "width": "140px"
      }
     },
     "c1c7ede33e244e5fa4977e1c396d338e": {
      "model_module": "@jupyter-widgets/base",
      "model_module_version": "1.2.0",
      "model_name": "LayoutModel",
      "state": {
       "width": "150px"
      }
     },
     "c1ce741e123141c997f314f6288a9268": {
      "model_module": "@jupyter-widgets/controls",
      "model_module_version": "1.5.0",
      "model_name": "DescriptionStyleModel",
      "state": {
       "description_width": ""
      }
     },
     "c1d0320a09c74d96bbff41a9a7aaefd0": {
      "model_module": "@jupyter-widgets/controls",
      "model_module_version": "1.5.0",
      "model_name": "DescriptionStyleModel",
      "state": {
       "description_width": ""
      }
     },
     "c1d3cecf75c64cf8a88cc3b283586125": {
      "model_module": "@jupyter-widgets/controls",
      "model_module_version": "1.5.0",
      "model_name": "DescriptionStyleModel",
      "state": {
       "description_width": ""
      }
     },
     "c1eeb293eda940ac8f3dee56ed7fba20": {
      "model_module": "@jupyter-widgets/controls",
      "model_module_version": "1.5.0",
      "model_name": "DescriptionStyleModel",
      "state": {
       "description_width": ""
      }
     },
     "c204e34220df4337ba0acb18123ebc4a": {
      "model_module": "@jupyter-widgets/controls",
      "model_module_version": "1.5.0",
      "model_name": "HTMLMathModel",
      "state": {
       "layout": "IPY_MODEL_a33b33255ca944039212b8886aafa8e9",
       "style": "IPY_MODEL_5352b5e23cab42d5bf5a3ffbd7f5f365",
       "value": "Enter here the values of the constant matrix $\\bf{B}$"
      }
     },
     "c26772d18b714d2ba615c4ecfe029f86": {
      "model_module": "@jupyter-widgets/controls",
      "model_module_version": "1.5.0",
      "model_name": "TextModel",
      "state": {
       "layout": "IPY_MODEL_7998cf86679645c9bf9a645c93e463c8",
       "style": "IPY_MODEL_29fc5c4b9e284b42817a39460777c4f9",
       "value": "8"
      }
     },
     "c2b347d1b8e343fc80eebd9eba2abedb": {
      "model_module": "@jupyter-widgets/base",
      "model_module_version": "1.2.0",
      "model_name": "LayoutModel",
      "state": {
       "height": "120px",
       "width": "150px"
      }
     },
     "c2c0a61cef5148f8a24acd80d0d67b86": {
      "model_module": "@jupyter-widgets/controls",
      "model_module_version": "1.5.0",
      "model_name": "BoxModel",
      "state": {
       "children": [
        "IPY_MODEL_8cdced97fb3b4cb6bf324e8857cc4a87",
        "IPY_MODEL_b988c8d63a9a41e89e9b48b24c933f87",
        "IPY_MODEL_1dfb276415ce4c3993f75f75fc1724f6",
        "IPY_MODEL_cce8660901b241dca0943b569f33c852"
       ],
       "layout": "IPY_MODEL_212552e9700745be989a25d5f443a750"
      }
     },
     "c30b7f8c084c4ce99968c0534f6b1725": {
      "model_module": "@jupyter-widgets/controls",
      "model_module_version": "1.5.0",
      "model_name": "VBoxModel",
      "state": {
       "children": [
        "IPY_MODEL_f4829be3dde14abeb7dd6abab0e334ce",
        "IPY_MODEL_6c12bb4856da463dbbf44105af7b870c",
        "IPY_MODEL_88a8c6333de44cdb900b881ec372afa0"
       ],
       "layout": "IPY_MODEL_9045d0fead864fb6b2ad9d3e0b1dbb19"
      }
     },
     "c3188ac6c2a8498c980622b240e7f71b": {
      "model_module": "@jupyter-widgets/base",
      "model_module_version": "1.2.0",
      "model_name": "LayoutModel",
      "state": {
       "width": "140px"
      }
     },
     "c31c4a589ce74d498aca5e9f7b88690b": {
      "model_module": "@jupyter-widgets/controls",
      "model_module_version": "1.5.0",
      "model_name": "HBoxModel",
      "state": {
       "children": [
        "IPY_MODEL_12fd3cc111d7425597952dbda589b109",
        "IPY_MODEL_82a48107230648d5814b2696b0f413a9"
       ],
       "layout": "IPY_MODEL_80caf044637945a0abda24fb36d1694e"
      }
     },
     "c33bc2ec902a468596934e5660be2d22": {
      "model_module": "@jupyter-widgets/base",
      "model_module_version": "1.2.0",
      "model_name": "LayoutModel",
      "state": {
       "width": "150px"
      }
     },
     "c370b3fb09b04e6f880ada8f89a280fa": {
      "model_module": "@jupyter-widgets/controls",
      "model_module_version": "1.5.0",
      "model_name": "ButtonStyleModel",
      "state": {}
     },
     "c3ac0a809ae74c458e5f1418c0f82c88": {
      "model_module": "@jupyter-widgets/controls",
      "model_module_version": "1.5.0",
      "model_name": "HTMLMathModel",
      "state": {
       "layout": "IPY_MODEL_9950df7175da4b23b279f68626ea608a",
       "style": "IPY_MODEL_67d3453834944c4687abd12494253e48",
       "value": "Enter here the values of the constant matrix $\\bf{B}$"
      }
     },
     "c3cb06e0ef874eb4be87db7b8f245742": {
      "model_module": "@jupyter-widgets/base",
      "model_module_version": "1.2.0",
      "model_name": "LayoutModel",
      "state": {
       "grid_template_columns": "repeat(1, 45px)"
      }
     },
     "c3d7591ce2144390b9cd67e3ef2b8123": {
      "model_module": "@jupyter-widgets/base",
      "model_module_version": "1.2.0",
      "model_name": "LayoutModel",
      "state": {}
     },
     "c3e5ca0a59d64421b3e043a5ffd0ff7d": {
      "model_module": "@jupyter-widgets/controls",
      "model_module_version": "1.5.0",
      "model_name": "TextModel",
      "state": {
       "layout": "IPY_MODEL_1e007c68dda5461984bff523c716db0a",
       "style": "IPY_MODEL_0336ea02401a4ef6b53deb4ff494f8d5",
       "value": "4"
      }
     },
     "c477628ccb804888909038ec4a35ce74": {
      "model_module": "@jupyter-widgets/controls",
      "model_module_version": "1.5.0",
      "model_name": "TextModel",
      "state": {
       "layout": "IPY_MODEL_8233178bdcdc4cc5a36e758a2579d1fc",
       "style": "IPY_MODEL_a9e916708e3f4eaea47894ecf43fdd2f",
       "value": "-1"
      }
     },
     "c4e8fc986a694426ac6a500e8ae3e54e": {
      "model_module": "@jupyter-widgets/controls",
      "model_module_version": "1.5.0",
      "model_name": "BoxModel",
      "state": {
       "children": [
        "IPY_MODEL_238535908317476b8a8fe0c0da73b6c5",
        "IPY_MODEL_103a5de37ccd4e45bb278899b3e2963b",
        "IPY_MODEL_023519c7fe8a4f1080ead11eb11d5edb",
        "IPY_MODEL_280ede00f90c46a6bfa2fd6a28785cc3"
       ],
       "layout": "IPY_MODEL_5463981d808f497691e489b94ad67344"
      }
     },
     "c4e9f4a8c7bf48249bb5b50320703732": {
      "model_module": "@jupyter-widgets/base",
      "model_module_version": "1.2.0",
      "model_name": "LayoutModel",
      "state": {
       "height": "35px",
       "width": "40px"
      }
     },
     "c51126265e1348139af81527c9f1f3d7": {
      "model_module": "@jupyter-widgets/base",
      "model_module_version": "1.2.0",
      "model_name": "LayoutModel",
      "state": {}
     },
     "c51806adc2aa43dc9b4683aa656512d2": {
      "model_module": "@jupyter-widgets/controls",
      "model_module_version": "1.5.0",
      "model_name": "DescriptionStyleModel",
      "state": {
       "description_width": ""
      }
     },
     "c5381a33264f494083e943c79244a2f9": {
      "model_module": "@jupyter-widgets/controls",
      "model_module_version": "1.5.0",
      "model_name": "HTMLModel",
      "state": {
       "layout": "IPY_MODEL_0f98b37ba4f6457b86bcffe02f714bed",
       "style": "IPY_MODEL_8f74e7455ae041ee8b29d4448a0b155f",
       "value": "Choose a variable to solve for."
      }
     },
     "c5492eb5abf74d8d81f8cec15f83ca22": {
      "model_module": "@jupyter-widgets/controls",
      "model_module_version": "1.5.0",
      "model_name": "HTMLModel",
      "state": {
       "layout": "IPY_MODEL_0d1b0f864aee4aa59aaba67675a0e654",
       "style": "IPY_MODEL_8c20f8b1d3894449b4d984a72954e066",
       "value": "Click this button to start or reset the app."
      }
     },
     "c5c695f2816848ec9f40f836b4fdf5a0": {
      "model_module": "@jupyter-widgets/controls",
      "model_module_version": "1.5.0",
      "model_name": "DescriptionStyleModel",
      "state": {
       "description_width": ""
      }
     },
     "c6022292c2d242ff9cefa8de5101fa9a": {
      "model_module": "@jupyter-widgets/controls",
      "model_module_version": "1.5.0",
      "model_name": "GridBoxModel",
      "state": {
       "children": [
        "IPY_MODEL_d59a7470426b43a0a8907157e10a57b5",
        "IPY_MODEL_a8ff0ca36f15412dac89f5407120c710",
        "IPY_MODEL_b9207ba6126048789dfbfc8657ec0c80",
        "IPY_MODEL_04a6197681d84fadb17d97b37136002d",
        "IPY_MODEL_eec86f5df7614259b68944d0f0702466",
        "IPY_MODEL_3fc7a238878e4358a76c95413a6153ca",
        "IPY_MODEL_f1c78b725e84465fa2d0be13b4d4b107",
        "IPY_MODEL_c477628ccb804888909038ec4a35ce74",
        "IPY_MODEL_de818257189d43189c4f2b5e5bbdfc0c"
       ],
       "layout": "IPY_MODEL_83a6daefa51e4e2cb17a41f276a107e2"
      }
     },
     "c63e57a43d6040be9ae1caee693f9a8a": {
      "model_module": "@jupyter-widgets/controls",
      "model_module_version": "1.5.0",
      "model_name": "HTMLModel",
      "state": {
       "layout": "IPY_MODEL_5686f7b186b841bf9153b4e97627d15b",
       "style": "IPY_MODEL_5a818b70f21344fa910adb104db14cce",
       "value": "Click this button to start or reset the app."
      }
     },
     "c655db9ea87f4421966eb9085b641d7b": {
      "model_module": "@jupyter-widgets/controls",
      "model_module_version": "1.5.0",
      "model_name": "DescriptionStyleModel",
      "state": {
       "description_width": ""
      }
     },
     "c657e8bedc2d4510a33c2fa79de4b4f3": {
      "model_module": "@jupyter-widgets/base",
      "model_module_version": "1.2.0",
      "model_name": "LayoutModel",
      "state": {
       "grid_template_columns": "repeat(3, 45px)"
      }
     },
     "c65d08f9a57243ebbc7f23142e1048d4": {
      "model_module": "@jupyter-widgets/controls",
      "model_module_version": "1.5.0",
      "model_name": "DescriptionStyleModel",
      "state": {
       "description_width": ""
      }
     },
     "c687474c428d46d7845cb53688dcb8b5": {
      "model_module": "@jupyter-widgets/base",
      "model_module_version": "1.2.0",
      "model_name": "LayoutModel",
      "state": {
       "width": "140px"
      }
     },
     "c6b1e55ac5dd4e44b1b4a7535b267322": {
      "model_module": "@jupyter-widgets/base",
      "model_module_version": "1.2.0",
      "model_name": "LayoutModel",
      "state": {
       "grid_template_columns": "repeat(3, 45px)"
      }
     },
     "c6e9124fdfc249e8a9168482b5882cfa": {
      "model_module": "@jupyter-widgets/controls",
      "model_module_version": "1.5.0",
      "model_name": "TextModel",
      "state": {
       "layout": "IPY_MODEL_5064eb8b796f469bb47ced8ec32aba1e",
       "style": "IPY_MODEL_f3b0898af3d6465996cac3be9610ad05",
       "value": "1"
      }
     },
     "c70ff243a7a24bfe9b005f92871af490": {
      "model_module": "@jupyter-widgets/controls",
      "model_module_version": "1.5.0",
      "model_name": "TextModel",
      "state": {
       "layout": "IPY_MODEL_2d3cc260859645ad9ef1bccbe1a463c7",
       "style": "IPY_MODEL_acec3bfed68d479fb9fcc138b322f19e",
       "value": "8"
      }
     },
     "c71353cc99874151945332f996d22c73": {
      "model_module": "@jupyter-widgets/base",
      "model_module_version": "1.2.0",
      "model_name": "LayoutModel",
      "state": {}
     },
     "c7171cfc0d2b4f90b0037b3f30d19e4c": {
      "model_module": "@jupyter-widgets/controls",
      "model_module_version": "1.5.0",
      "model_name": "DescriptionStyleModel",
      "state": {
       "description_width": ""
      }
     },
     "c7389bf36f624af5a5df7d7814a98b06": {
      "model_module": "@jupyter-widgets/base",
      "model_module_version": "1.2.0",
      "model_name": "LayoutModel",
      "state": {
       "grid_template_columns": "repeat(3, 45px)"
      }
     },
     "c74b8fe38ce545aab028049acd937780": {
      "model_module": "@jupyter-widgets/controls",
      "model_module_version": "1.5.0",
      "model_name": "HBoxModel",
      "state": {
       "children": [
        "IPY_MODEL_06633b2874fb43e0a9d5bb1537eaadda",
        "IPY_MODEL_f4c0c2744b7144a49d55d9e3062690cc"
       ],
       "layout": "IPY_MODEL_cea069271685478a8cdaac929395dd13"
      }
     },
     "c781cc9a27d64f65b42cf686a87d0ced": {
      "model_module": "@jupyter-widgets/base",
      "model_module_version": "1.2.0",
      "model_name": "LayoutModel",
      "state": {}
     },
     "c7b2062df8304614bd0ad8a18c794a28": {
      "model_module": "@jupyter-widgets/controls",
      "model_module_version": "1.5.0",
      "model_name": "DescriptionStyleModel",
      "state": {
       "description_width": ""
      }
     },
     "c7c54de0e86b4f9aa502cc0c7b1ae57a": {
      "model_module": "@jupyter-widgets/controls",
      "model_module_version": "1.5.0",
      "model_name": "DescriptionStyleModel",
      "state": {
       "description_width": ""
      }
     },
     "c7e23a5a297247c68bb070b2fe53d25d": {
      "model_module": "@jupyter-widgets/controls",
      "model_module_version": "1.5.0",
      "model_name": "DescriptionStyleModel",
      "state": {
       "description_width": ""
      }
     },
     "c836d1bf7d9642d3ba79f928b86614c7": {
      "model_module": "@jupyter-widgets/controls",
      "model_module_version": "1.5.0",
      "model_name": "DescriptionStyleModel",
      "state": {
       "description_width": ""
      }
     },
     "c85b7ffed2d54ef4b7777221118518a4": {
      "model_module": "@jupyter-widgets/controls",
      "model_module_version": "1.5.0",
      "model_name": "DescriptionStyleModel",
      "state": {
       "description_width": ""
      }
     },
     "c8abadc2610344e2945d62408fa6ccec": {
      "model_module": "@jupyter-widgets/base",
      "model_module_version": "1.2.0",
      "model_name": "LayoutModel",
      "state": {
       "height": "120px",
       "width": "250px"
      }
     },
     "c8b7b4c49b4647b38a0271bad3085e29": {
      "model_module": "@jupyter-widgets/base",
      "model_module_version": "1.2.0",
      "model_name": "LayoutModel",
      "state": {
       "width": "140px"
      }
     },
     "c908d31ff93f4e16b61baab8e75d8480": {
      "model_module": "@jupyter-widgets/controls",
      "model_module_version": "1.5.0",
      "model_name": "TextModel",
      "state": {
       "layout": "IPY_MODEL_5064eb8b796f469bb47ced8ec32aba1e",
       "style": "IPY_MODEL_69114b9823f04ca2a430894207dc7091",
       "value": "9"
      }
     },
     "c92a8be5a61d424087b4d26267a97bbb": {
      "model_module": "@jupyter-widgets/controls",
      "model_module_version": "1.5.0",
      "model_name": "DescriptionStyleModel",
      "state": {
       "description_width": ""
      }
     },
     "c9a95fa37a9444fa84a1d707797fa479": {
      "model_module": "@jupyter-widgets/controls",
      "model_module_version": "1.5.0",
      "model_name": "BoxModel",
      "state": {
       "children": [
        "IPY_MODEL_403669eddbf1414e8210cc439a03f7af",
        "IPY_MODEL_3fad968097ba4da686c0e5dd0672b412",
        "IPY_MODEL_5de9239ca205450ca45c62386142852d",
        "IPY_MODEL_1bc492b1310b4441b328689291fcfad4"
       ],
       "layout": "IPY_MODEL_72849f77f85441ebba339ccabd5b5537"
      }
     },
     "ca013f5628194285bb2400daaff43d2e": {
      "model_module": "@jupyter-widgets/controls",
      "model_module_version": "1.5.0",
      "model_name": "TextModel",
      "state": {
       "layout": "IPY_MODEL_1e007c68dda5461984bff523c716db0a",
       "style": "IPY_MODEL_c07ea4c4caf64e6aa6db87aa23fd0a7c",
       "value": "3"
      }
     },
     "ca82ce67cdce475e8094964aa0e947d0": {
      "model_module": "@jupyter-widgets/controls",
      "model_module_version": "1.5.0",
      "model_name": "DescriptionStyleModel",
      "state": {
       "description_width": ""
      }
     },
     "ca9d43d2b6f64aa8803a5ce2ac17ebe2": {
      "model_module": "@jupyter-widgets/controls",
      "model_module_version": "1.5.0",
      "model_name": "VBoxModel",
      "state": {
       "children": [
        "IPY_MODEL_ed6364d5992d426baa2ab163349cc2b9",
        "IPY_MODEL_84a4d4f97a6a4a889cc823743142bd36"
       ],
       "layout": "IPY_MODEL_7336118e334a4356a4aaccb61cfcd254"
      }
     },
     "caa0fc2a6bde4fb495787b819069eb7d": {
      "model_module": "@jupyter-widgets/base",
      "model_module_version": "1.2.0",
      "model_name": "LayoutModel",
      "state": {
       "flex_flow": "row wrap",
       "justify_content": "space-around"
      }
     },
     "cae850518c2446ba9e8deef9bec0d54d": {
      "model_module": "@jupyter-widgets/controls",
      "model_module_version": "1.5.0",
      "model_name": "TextModel",
      "state": {
       "layout": "IPY_MODEL_c4e9f4a8c7bf48249bb5b50320703732",
       "style": "IPY_MODEL_eadde7364d814c00b87d207ee576d3dd",
       "value": "1"
      }
     },
     "cb10a353ef4d4d039810c15f9b85ac89": {
      "model_module": "@jupyter-widgets/controls",
      "model_module_version": "1.5.0",
      "model_name": "HTMLMathModel",
      "state": {
       "layout": "IPY_MODEL_f34a503d1de0401fb357b703858a1aa1",
       "style": "IPY_MODEL_82d47504f46e4aa2a16b4fb22655eae2",
       "value": "$$ \\mathbf{A} = \\left[  \n      \\begin{array}{rrr}\n          1 & 1 & -1\\\\\n          3 & 1 & 1\\\\\n          1 & -1 & 4\n      \\end{array}\n      , \\right] \\quad \\color{blue}{\\mathbf{B} = \\left[ \n    \\begin{array}{r}\n        3 \\\\\n        9 \\\\\n        8 \n    \\end{array}\n    \\right]}$$<br>with $\\det A =-2$."
      }
     },
     "cb65992dbf54437db8ce3cba4b61b47f": {
      "model_module": "@jupyter-widgets/controls",
      "model_module_version": "1.5.0",
      "model_name": "ButtonModel",
      "state": {
       "description": "Solve",
       "layout": "IPY_MODEL_667a408067064560846a9780c551ffc6",
       "style": "IPY_MODEL_22e6d7ea454244c38676ec6f4d13df26"
      }
     },
     "cb7b916326c6466baed640bb6de15310": {
      "model_module": "@jupyter-widgets/controls",
      "model_module_version": "1.5.0",
      "model_name": "TextModel",
      "state": {
       "layout": "IPY_MODEL_7d582068d7aa41488a3ed889fd050d18",
       "style": "IPY_MODEL_0e97560dd5014699a74eeb1291fe2bd1",
       "value": "9"
      }
     },
     "cba3152e2feb4b358dcea91ee1298de5": {
      "model_module": "@jupyter-widgets/controls",
      "model_module_version": "1.5.0",
      "model_name": "TextModel",
      "state": {
       "layout": "IPY_MODEL_f7d10756bf8e446d8f8deb1712e2baa5",
       "style": "IPY_MODEL_da0dd3bfce6346f7b5496f467fc8d954",
       "value": "0"
      }
     },
     "cc4d681346bf4515826108c03c1a8884": {
      "model_module": "@jupyter-widgets/controls",
      "model_module_version": "1.5.0",
      "model_name": "DescriptionStyleModel",
      "state": {
       "description_width": ""
      }
     },
     "cc7244b9c09f416fb0f87108441977ae": {
      "model_module": "@jupyter-widgets/controls",
      "model_module_version": "1.5.0",
      "model_name": "TextModel",
      "state": {
       "layout": "IPY_MODEL_7d582068d7aa41488a3ed889fd050d18",
       "style": "IPY_MODEL_3668632052b347c7a3d141b81433e8c1",
       "value": "1"
      }
     },
     "cc7c6b0b7de64b61b7209baf6e4a3ed5": {
      "model_module": "@jupyter-widgets/controls",
      "model_module_version": "1.5.0",
      "model_name": "TextModel",
      "state": {
       "layout": "IPY_MODEL_f10e93f25a7549fb8fcf6aa01db5a79e",
       "style": "IPY_MODEL_69c3b254b85848109cda450d5f25d9cb",
       "value": "-1"
      }
     },
     "cc8377b12ba14278808067910c76dced": {
      "model_module": "@jupyter-widgets/controls",
      "model_module_version": "1.5.0",
      "model_name": "ButtonModel",
      "state": {
       "description": "Solve",
       "layout": "IPY_MODEL_84c7db29b2e24e7f907f84587ddd30fa",
       "style": "IPY_MODEL_267cf0d13a6045bfb4faf66c75043f98"
      }
     },
     "ccc573f268fa414a81b5ab77ad01aaf6": {
      "model_module": "@jupyter-widgets/base",
      "model_module_version": "1.2.0",
      "model_name": "LayoutModel",
      "state": {
       "height": "120px",
       "justify_content": "center",
       "width": "300px"
      }
     },
     "cce8660901b241dca0943b569f33c852": {
      "model_module": "@jupyter-widgets/controls",
      "model_module_version": "1.5.0",
      "model_name": "HTMLMathModel",
      "state": {
       "layout": "IPY_MODEL_9eabb859982f4f5e8781d5a70816ef7d",
       "style": "IPY_MODEL_f3ec984ef2f1483db707e7cbe3aa3241",
       "value": "$$ \\mathbf{A} = \\left[  \n      \\begin{array}{rrr}\n          1 & 1 & -1\\\\\n          3 & 1 & 1\\\\\n          1 & -1 & 4\n      \\end{array}\n      , \\right] \\quad \\color{blue}{\\mathbf{B} = \\left[ \n    \\begin{array}{r}\n        3 \\\\\n        9 \\\\\n        8 \n    \\end{array}\n    \\right]}$$<br>with $\\det A =-2$."
      }
     },
     "cd613790eb464e2da530ac4629be11d3": {
      "model_module": "@jupyter-widgets/base",
      "model_module_version": "1.2.0",
      "model_name": "LayoutModel",
      "state": {
       "width": "90px"
      }
     },
     "cd763553517d41db9ef697e6b20be46b": {
      "model_module": "@jupyter-widgets/controls",
      "model_module_version": "1.5.0",
      "model_name": "HTMLMathModel",
      "state": {
       "layout": "IPY_MODEL_30e6baa376e74d229d7ef9d9c7112a24",
       "style": "IPY_MODEL_b60efe38f7c14a1db09002cd3c13cbc2",
       "value": "Enter here the values of the constant matrix $\\bf{B}$"
      }
     },
     "cde805d188d14a7a8abf2df5acc1e28a": {
      "model_module": "@jupyter-widgets/controls",
      "model_module_version": "1.5.0",
      "model_name": "DescriptionStyleModel",
      "state": {
       "description_width": ""
      }
     },
     "cdeb58b49ef24357b30bb1cdc8eb2f81": {
      "model_module": "@jupyter-widgets/controls",
      "model_module_version": "1.5.0",
      "model_name": "TextModel",
      "state": {
       "layout": "IPY_MODEL_f7d10756bf8e446d8f8deb1712e2baa5",
       "style": "IPY_MODEL_14cba3fb83404d4399f136802f2ff733",
       "value": "1"
      }
     },
     "cdee0a21702d41959fac8da14625169a": {
      "model_module": "@jupyter-widgets/base",
      "model_module_version": "1.2.0",
      "model_name": "LayoutModel",
      "state": {
       "height": "120px",
       "width": "250px"
      }
     },
     "cdee2ee96cc54ae1b6e12c09dafd2d52": {
      "model_module": "@jupyter-widgets/controls",
      "model_module_version": "1.5.0",
      "model_name": "TextModel",
      "state": {
       "layout": "IPY_MODEL_2d3cc260859645ad9ef1bccbe1a463c7",
       "style": "IPY_MODEL_d28c4363af894b5ea65abe6d4ac4410f",
       "value": "3"
      }
     },
     "ce11225849db41b4ba0f5cf7aaea9169": {
      "model_module": "@jupyter-widgets/base",
      "model_module_version": "1.2.0",
      "model_name": "LayoutModel",
      "state": {
       "width": "90px"
      }
     },
     "cea069271685478a8cdaac929395dd13": {
      "model_module": "@jupyter-widgets/base",
      "model_module_version": "1.2.0",
      "model_name": "LayoutModel",
      "state": {
       "height": "120px",
       "width": "150px"
      }
     },
     "cee7ebcae4794e728147c6299aaa18ce": {
      "model_module": "@jupyter-widgets/controls",
      "model_module_version": "1.5.0",
      "model_name": "ButtonModel",
      "state": {
       "description": "Solve",
       "layout": "IPY_MODEL_6353fab1d848418698d06ca5f3a9a7dc",
       "style": "IPY_MODEL_165764740c384f278e83138f19ce2b3d"
      }
     },
     "cf2fe11ca3ee4e6b96af5a58d8d59eb9": {
      "model_module": "@jupyter-widgets/controls",
      "model_module_version": "1.5.0",
      "model_name": "HTMLModel",
      "state": {
       "layout": "IPY_MODEL_6f80caaec38549968d2bc33d41edaa73",
       "style": "IPY_MODEL_4afcbb3f8d8a45348dd5d44fdabf83cc",
       "value": "Choose a variable to solve for."
      }
     },
     "cf3d2ad5713b427fa7dcec6d2f07664f": {
      "model_module": "@jupyter-widgets/controls",
      "model_module_version": "1.5.0",
      "model_name": "BoxModel",
      "state": {
       "children": [
        "IPY_MODEL_510f8011b52c430ba058e78a2fa4806f",
        "IPY_MODEL_7ddd477da238487b88a5938a3ed8602a"
       ],
       "layout": "IPY_MODEL_f199683e7cee4b4baa38ef8aaa2ac454"
      }
     },
     "cf3e8eed6cf44b96889b8c0f3c638c79": {
      "model_module": "@jupyter-widgets/base",
      "model_module_version": "1.2.0",
      "model_name": "LayoutModel",
      "state": {
       "height": "120px",
       "width": "150px"
      }
     },
     "cf8ef4a1f3284e60a8ce513f0326e604": {
      "model_module": "@jupyter-widgets/base",
      "model_module_version": "1.2.0",
      "model_name": "LayoutModel",
      "state": {
       "height": "120px",
       "justify_content": "center",
       "width": "400px"
      }
     },
     "cfa28566a05d4ec1bfb484acd6fe7941": {
      "model_module": "@jupyter-widgets/controls",
      "model_module_version": "1.5.0",
      "model_name": "DescriptionStyleModel",
      "state": {
       "description_width": ""
      }
     },
     "cfd347f64ff44059974127890ed8fcc5": {
      "model_module": "@jupyter-widgets/controls",
      "model_module_version": "1.5.0",
      "model_name": "DescriptionStyleModel",
      "state": {
       "description_width": ""
      }
     },
     "cff2cf1de61f4ef1919acd99ae05f5c5": {
      "model_module": "@jupyter-widgets/controls",
      "model_module_version": "1.5.0",
      "model_name": "TextModel",
      "state": {
       "layout": "IPY_MODEL_5064eb8b796f469bb47ced8ec32aba1e",
       "style": "IPY_MODEL_5f6499c0020344f4962151501743326c",
       "value": "-1"
      }
     },
     "d03751cae40f449dbb9709f4713c2d36": {
      "model_module": "@jupyter-widgets/base",
      "model_module_version": "1.2.0",
      "model_name": "LayoutModel",
      "state": {
       "width": "90px"
      }
     },
     "d04e2f5f179443a7b76d4c43d1edd497": {
      "model_module": "@jupyter-widgets/controls",
      "model_module_version": "1.5.0",
      "model_name": "DescriptionStyleModel",
      "state": {
       "description_width": ""
      }
     },
     "d0554b854161489f94a53e6dbd68fb45": {
      "model_module": "@jupyter-widgets/controls",
      "model_module_version": "1.5.0",
      "model_name": "HTMLMathModel",
      "state": {
       "layout": "IPY_MODEL_911cb08a731346d2b46678e8c06aa4ef",
       "style": "IPY_MODEL_de4f6e1929a942a0b613aa525fd06cb9",
       "value": "Enter here the values of the matrix $\\bf{A}$"
      }
     },
     "d0a1ef1ba49b4093b4f450c45b59b3da": {
      "model_module": "@jupyter-widgets/controls",
      "model_module_version": "1.5.0",
      "model_name": "DescriptionStyleModel",
      "state": {
       "description_width": ""
      }
     },
     "d114ab79a35742c3b7c9c239b26908eb": {
      "model_module": "@jupyter-widgets/controls",
      "model_module_version": "1.5.0",
      "model_name": "TextModel",
      "state": {
       "layout": "IPY_MODEL_8233178bdcdc4cc5a36e758a2579d1fc",
       "style": "IPY_MODEL_b3125ae4a7e84e6d91919a0b8d1c96b6",
       "value": "9"
      }
     },
     "d198e2e18c604e00b2d97772590a7edb": {
      "model_module": "@jupyter-widgets/controls",
      "model_module_version": "1.5.0",
      "model_name": "DescriptionStyleModel",
      "state": {
       "description_width": ""
      }
     },
     "d1b5ff8476d74e619e6b7a9df59a53ed": {
      "model_module": "@jupyter-widgets/controls",
      "model_module_version": "1.5.0",
      "model_name": "DescriptionStyleModel",
      "state": {
       "description_width": ""
      }
     },
     "d27b369997394f358ce8509db4203434": {
      "model_module": "@jupyter-widgets/controls",
      "model_module_version": "1.5.0",
      "model_name": "TextModel",
      "state": {
       "layout": "IPY_MODEL_56b7235de6f34f8ea7f7ee90eec44abc",
       "style": "IPY_MODEL_5a1ea68344e34e87ada9a7c094389de8",
       "value": "1"
      }
     },
     "d28c4363af894b5ea65abe6d4ac4410f": {
      "model_module": "@jupyter-widgets/controls",
      "model_module_version": "1.5.0",
      "model_name": "DescriptionStyleModel",
      "state": {
       "description_width": ""
      }
     },
     "d29374c7dd9940d987c15719c30f9c35": {
      "model_module": "@jupyter-widgets/controls",
      "model_module_version": "1.5.0",
      "model_name": "TextModel",
      "state": {
       "layout": "IPY_MODEL_365ba57c32664ab38fd8d83a88c4d1cb",
       "style": "IPY_MODEL_be36731b1a3a4780a118087cba9be6e6",
       "value": "-1"
      }
     },
     "d2ecf7a93299449e98a11b8ec4116621": {
      "model_module": "@jupyter-widgets/base",
      "model_module_version": "1.2.0",
      "model_name": "LayoutModel",
      "state": {
       "height": "120px",
       "justify_content": "center",
       "width": "400px"
      }
     },
     "d2f7194e147148c3989c73c4f73ace31": {
      "model_module": "@jupyter-widgets/controls",
      "model_module_version": "1.5.0",
      "model_name": "BoxModel",
      "state": {
       "children": [
        "IPY_MODEL_6796eb6a0a9546ac99be9da7de418c67",
        "IPY_MODEL_98fcbcd50d1c4e00ad2fa06167ec8553"
       ],
       "layout": "IPY_MODEL_a972361eb770460b9d01d1f686b10dd9"
      }
     },
     "d30114c650394dc5885bb8a8dce0468c": {
      "model_module": "@jupyter-widgets/controls",
      "model_module_version": "1.5.0",
      "model_name": "ButtonStyleModel",
      "state": {}
     },
     "d3070bd6ca4045e0ba69c8ef18088bee": {
      "model_module": "@jupyter-widgets/controls",
      "model_module_version": "1.5.0",
      "model_name": "VBoxModel",
      "state": {
       "children": [
        "IPY_MODEL_7e696714cef74cb39b03f9298d983314",
        "IPY_MODEL_e702b64ac5464c1489d4ea003c42d7e5",
        "IPY_MODEL_1ff16783a154496996d9b676d8844f28"
       ],
       "layout": "IPY_MODEL_1bd2aa7ce16547f19dc175a8e8b5a525"
      }
     },
     "d359b30e7f3045f2b7531bf7503ecc0f": {
      "model_module": "@jupyter-widgets/controls",
      "model_module_version": "1.5.0",
      "model_name": "HTMLMathModel",
      "state": {
       "layout": "IPY_MODEL_71516d345a6c4ebc8770d19f97cb3c2e",
       "style": "IPY_MODEL_907107a1adb4432c99f830c9740352bf",
       "value": "$$ \\mathbf{A} = \\left[  \n      \\begin{array}{rrr}\n          1 & 1 & -1\\\\\n          3 & 1 & 1\\\\\n          1 & -1 & 4\n      \\end{array}\n      , \\right] \\quad \\color{blue}{\\mathbf{B} = \\left[ \n    \\begin{array}{r}\n        3 \\\\\n        9 \\\\\n        8 \n    \\end{array}\n    \\right]}$$<br>with $\\det A =-2$."
      }
     },
     "d3852dd01524484e990583541bd70545": {
      "model_module": "@jupyter-widgets/controls",
      "model_module_version": "1.5.0",
      "model_name": "TextModel",
      "state": {
       "layout": "IPY_MODEL_559e088c23fd41ac878f827500212741",
       "style": "IPY_MODEL_300f02d04b44493fb17882bdb6d82946",
       "value": "9"
      }
     },
     "d397c085fcef4cf1bcec36ffa85e6075": {
      "model_module": "@jupyter-widgets/controls",
      "model_module_version": "1.5.0",
      "model_name": "DescriptionStyleModel",
      "state": {
       "description_width": ""
      }
     },
     "d398c6e1eae14162a129b6b73d0b2c63": {
      "model_module": "@jupyter-widgets/controls",
      "model_module_version": "1.5.0",
      "model_name": "HBoxModel",
      "state": {
       "children": [
        "IPY_MODEL_22043dc568b34921a539b98128c38d33",
        "IPY_MODEL_d98fe93fca8a4a2aa9dd4bf3e09689e1"
       ],
       "layout": "IPY_MODEL_6bda8a85bd724bcf99a357ca2a1182a1"
      }
     },
     "d399c35ac93e47caa90cfc87cde16aa7": {
      "model_module": "@jupyter-widgets/controls",
      "model_module_version": "1.5.0",
      "model_name": "DescriptionStyleModel",
      "state": {
       "description_width": ""
      }
     },
     "d43497f7eb9640dfbdce042bf073cf4e": {
      "model_module": "@jupyter-widgets/controls",
      "model_module_version": "1.5.0",
      "model_name": "HTMLMathModel",
      "state": {
       "layout": "IPY_MODEL_a320ee82edc24181acd5421dff507699",
       "style": "IPY_MODEL_32704636f505472ebbf7b8eda4382d9e",
       "value": "Enter here the values of the constant matrix $\\bf{B}$"
      }
     },
     "d4f604850ce1476c855c5af4de321388": {
      "model_module": "@jupyter-widgets/controls",
      "model_module_version": "1.5.0",
      "model_name": "TextModel",
      "state": {
       "layout": "IPY_MODEL_d7967788413544aa83e6234d99bfcfaf",
       "style": "IPY_MODEL_8a5ecda4555a4985b23ac8c9085c53ca",
       "value": "-1"
      }
     },
     "d55c5b6aa58f405385fd5786d2b4d6fd": {
      "model_module": "@jupyter-widgets/controls",
      "model_module_version": "1.5.0",
      "model_name": "TextModel",
      "state": {
       "layout": "IPY_MODEL_d7967788413544aa83e6234d99bfcfaf",
       "style": "IPY_MODEL_84cd3f2bbb724337b0a3c6319a3214b5",
       "value": "4"
      }
     },
     "d55c826258384b5ca82b9932261de5fe": {
      "model_module": "@jupyter-widgets/controls",
      "model_module_version": "1.5.0",
      "model_name": "TextModel",
      "state": {
       "layout": "IPY_MODEL_c4e9f4a8c7bf48249bb5b50320703732",
       "style": "IPY_MODEL_fb4821278f6848e7a47e1d260426520b",
       "value": "-1"
      }
     },
     "d573d198483a4399ac0754825d8b0060": {
      "model_module": "@jupyter-widgets/controls",
      "model_module_version": "1.5.0",
      "model_name": "DescriptionStyleModel",
      "state": {
       "description_width": ""
      }
     },
     "d585b02118334e90a70bf129c0f3890b": {
      "model_module": "@jupyter-widgets/controls",
      "model_module_version": "1.5.0",
      "model_name": "DescriptionStyleModel",
      "state": {
       "description_width": ""
      }
     },
     "d58eb465e51a47ad89b5cec896bfde2f": {
      "model_module": "@jupyter-widgets/controls",
      "model_module_version": "1.5.0",
      "model_name": "DescriptionStyleModel",
      "state": {
       "description_width": ""
      }
     },
     "d59a7470426b43a0a8907157e10a57b5": {
      "model_module": "@jupyter-widgets/controls",
      "model_module_version": "1.5.0",
      "model_name": "TextModel",
      "state": {
       "layout": "IPY_MODEL_8233178bdcdc4cc5a36e758a2579d1fc",
       "style": "IPY_MODEL_22c2ef4b35e94b1c883079ad0843b098",
       "value": "1"
      }
     },
     "d59be9cf29b0463e900d3c933e35e70e": {
      "model_module": "@jupyter-widgets/base",
      "model_module_version": "1.2.0",
      "model_name": "LayoutModel",
      "state": {
       "height": "120px",
       "width": "250px"
      }
     },
     "d5a46cb7e37f43079f90ce04f64514c8": {
      "model_module": "@jupyter-widgets/controls",
      "model_module_version": "1.5.0",
      "model_name": "TextModel",
      "state": {
       "layout": "IPY_MODEL_35a7bfeaf8664758b5ea5e8c6d003d65",
       "style": "IPY_MODEL_01f81b0cfe8f491a8141d62a19de98e8",
       "value": "1"
      }
     },
     "d600baabe66c4623805740efac3b1654": {
      "model_module": "@jupyter-widgets/controls",
      "model_module_version": "1.5.0",
      "model_name": "DescriptionStyleModel",
      "state": {
       "description_width": ""
      }
     },
     "d646a7eaf831466b95d619af47878263": {
      "model_module": "@jupyter-widgets/controls",
      "model_module_version": "1.5.0",
      "model_name": "DescriptionStyleModel",
      "state": {
       "description_width": ""
      }
     },
     "d66e94f6fa684bb49554665d1d85adc1": {
      "model_module": "@jupyter-widgets/controls",
      "model_module_version": "1.5.0",
      "model_name": "TextModel",
      "state": {
       "layout": "IPY_MODEL_35a7bfeaf8664758b5ea5e8c6d003d65",
       "style": "IPY_MODEL_926b37030b25484fb984b66a6f35e9aa",
       "value": "-1"
      }
     },
     "d6af2259317a4dfd9f9b5315eb0aa38e": {
      "model_module": "@jupyter-widgets/controls",
      "model_module_version": "1.5.0",
      "model_name": "GridBoxModel",
      "state": {
       "children": [
        "IPY_MODEL_131fe4477fe3459c88a0f446d80b978d",
        "IPY_MODEL_23f07b812a9943938e92cc2964b1a8da",
        "IPY_MODEL_68aae2c0d6fc444bbbdf19ae32452a5e"
       ],
       "layout": "IPY_MODEL_c3cb06e0ef874eb4be87db7b8f245742"
      }
     },
     "d6c7dd4363464570a8cf204e978d956f": {
      "model_module": "@jupyter-widgets/controls",
      "model_module_version": "1.5.0",
      "model_name": "DropdownModel",
      "state": {
       "_options_labels": [
        "x₁",
        "x₂",
        "x₃"
       ],
       "description": "Variable:",
       "index": 0,
       "layout": "IPY_MODEL_4fa9f69bef034195b41f714e7691d7ba",
       "style": "IPY_MODEL_b4391df114bf4f729c2885a14ed13cd6"
      }
     },
     "d6fb2b39722146ed885f8c23e0027a37": {
      "model_module": "@jupyter-widgets/base",
      "model_module_version": "1.2.0",
      "model_name": "LayoutModel",
      "state": {
       "height": "120px",
       "width": "150px"
      }
     },
     "d706dc8929094e3daca4e3715d485a97": {
      "model_module": "@jupyter-widgets/controls",
      "model_module_version": "1.5.0",
      "model_name": "TextModel",
      "state": {
       "layout": "IPY_MODEL_852e11ecf67743b9b3d1ddb8b98182be",
       "style": "IPY_MODEL_7ae127ebe8f943d1934ac8d211b0730c",
       "value": "1"
      }
     },
     "d7417326679b4fe3bfc06dc5d79fa70e": {
      "model_module": "@jupyter-widgets/base",
      "model_module_version": "1.2.0",
      "model_name": "LayoutModel",
      "state": {}
     },
     "d7467b812d044ed78d28a3d9ec11df38": {
      "model_module": "@jupyter-widgets/controls",
      "model_module_version": "1.5.0",
      "model_name": "DescriptionStyleModel",
      "state": {
       "description_width": ""
      }
     },
     "d771e3b9c95f4496b88ad2674a575980": {
      "model_module": "@jupyter-widgets/base",
      "model_module_version": "1.2.0",
      "model_name": "LayoutModel",
      "state": {
       "flex_flow": "row wrap",
       "justify_content": "space-around"
      }
     },
     "d7967788413544aa83e6234d99bfcfaf": {
      "model_module": "@jupyter-widgets/base",
      "model_module_version": "1.2.0",
      "model_name": "LayoutModel",
      "state": {
       "height": "35px",
       "width": "40px"
      }
     },
     "d79a55506e4a4cdcb5123ebe3a34dfe8": {
      "model_module": "@jupyter-widgets/base",
      "model_module_version": "1.2.0",
      "model_name": "LayoutModel",
      "state": {
       "flex_flow": "row wrap",
       "justify_content": "space-around"
      }
     },
     "d7d24ee5f5f94930803584213f59eb96": {
      "model_module": "@jupyter-widgets/controls",
      "model_module_version": "1.5.0",
      "model_name": "DescriptionStyleModel",
      "state": {
       "description_width": ""
      }
     },
     "d80beaef9b564f948375f3bee2c661ce": {
      "model_module": "@jupyter-widgets/controls",
      "model_module_version": "1.5.0",
      "model_name": "DescriptionStyleModel",
      "state": {
       "description_width": ""
      }
     },
     "d81703e0d9374cf19f9d4621d28b7508": {
      "model_module": "@jupyter-widgets/base",
      "model_module_version": "1.2.0",
      "model_name": "LayoutModel",
      "state": {}
     },
     "d87b8021ced448b3808378f03c963894": {
      "model_module": "@jupyter-widgets/controls",
      "model_module_version": "1.5.0",
      "model_name": "DescriptionStyleModel",
      "state": {
       "description_width": ""
      }
     },
     "d88b4db45b6b41b38298c2b78dcdab22": {
      "model_module": "@jupyter-widgets/controls",
      "model_module_version": "1.5.0",
      "model_name": "DescriptionStyleModel",
      "state": {
       "description_width": ""
      }
     },
     "d9128fae15bf4ea4a770c6159e3e9fb2": {
      "model_module": "@jupyter-widgets/base",
      "model_module_version": "1.2.0",
      "model_name": "LayoutModel",
      "state": {
       "grid_template_columns": "repeat(3, 45px)"
      }
     },
     "d93c21bfa8194f45a24464a671d1e355": {
      "model_module": "@jupyter-widgets/base",
      "model_module_version": "1.2.0",
      "model_name": "LayoutModel",
      "state": {}
     },
     "d98fe93fca8a4a2aa9dd4bf3e09689e1": {
      "model_module": "@jupyter-widgets/controls",
      "model_module_version": "1.5.0",
      "model_name": "HTMLMathModel",
      "state": {
       "layout": "IPY_MODEL_12da39a5e1a3469881a8a1385dd34ef7",
       "style": "IPY_MODEL_64ef08c010ec46e48d46b38450056db9",
       "value": "Enter here the values of the constant matrix $\\bf{B}$"
      }
     },
     "d998806b65cf4258b1d0ae881bfe32c0": {
      "model_module": "@jupyter-widgets/controls",
      "model_module_version": "1.5.0",
      "model_name": "DescriptionStyleModel",
      "state": {
       "description_width": ""
      }
     },
     "da0dd3bfce6346f7b5496f467fc8d954": {
      "model_module": "@jupyter-widgets/controls",
      "model_module_version": "1.5.0",
      "model_name": "DescriptionStyleModel",
      "state": {
       "description_width": ""
      }
     },
     "da11fa0cab494ad4b6d122e53cd0ab9a": {
      "model_module": "@jupyter-widgets/controls",
      "model_module_version": "1.5.0",
      "model_name": "DescriptionStyleModel",
      "state": {
       "description_width": ""
      }
     },
     "da37af8d703448a9885ba9e752839ba1": {
      "model_module": "@jupyter-widgets/controls",
      "model_module_version": "1.5.0",
      "model_name": "HTMLMathModel",
      "state": {
       "layout": "IPY_MODEL_cf8ef4a1f3284e60a8ce513f0326e604",
       "style": "IPY_MODEL_84387d2d588c420591a94b195ff3f929",
       "value": "$$ \\det A_1 = \\left| \n      \\begin{array}{rrr}\n          \\color{blue}{ 3 } & 1 & -1\\\\\n          \\color{blue}{ 9 } & 1 & 1\\\\\n          \\color{blue}{ 8 } & -1 & 4\n      \\end{array}\n      \\right| = 4$$ <br> $$ x_{ 1 } =\\frac{ \\det A_1}{\\det A} = \\frac{ 4 }{ -2 } = -2$$"
      }
     },
     "da6ee6213c3943a9861712cbcaa96238": {
      "model_module": "@jupyter-widgets/controls",
      "model_module_version": "1.5.0",
      "model_name": "DropdownModel",
      "state": {
       "_options_labels": [
        "x₁",
        "x₂",
        "x₃"
       ],
       "description": "Variable:",
       "index": 0,
       "layout": "IPY_MODEL_560780694bbe4108b31fbbb80ccd9d95",
       "style": "IPY_MODEL_c0d824faf88646c08ed63d1c5e19aa1e"
      }
     },
     "dada7a7131604f4e81a13548babde959": {
      "model_module": "@jupyter-widgets/controls",
      "model_module_version": "1.5.0",
      "model_name": "DropdownModel",
      "state": {
       "_options_labels": [
        "x₁",
        "x₂",
        "x₃"
       ],
       "description": "Variable:",
       "index": 0,
       "layout": "IPY_MODEL_5978522bfacc4af29fdcd6561e1a1c46",
       "style": "IPY_MODEL_b58d347a13de4444bb692627567579e2"
      }
     },
     "daf69c6d7c904eae8d1b1342037826fb": {
      "model_module": "@jupyter-widgets/base",
      "model_module_version": "1.2.0",
      "model_name": "LayoutModel",
      "state": {
       "flex_flow": "row wrap",
       "justify_content": "space-around"
      }
     },
     "db18d920de354559a0ec4854fed7d42c": {
      "model_module": "@jupyter-widgets/controls",
      "model_module_version": "1.5.0",
      "model_name": "HTMLModel",
      "state": {
       "layout": "IPY_MODEL_a1bcbdd1041541aab7fba2966def8e7c",
       "style": "IPY_MODEL_a4e0d0f0e5a24ac9888bf5b3f05c50c2",
       "value": "Choose a variable to solve for."
      }
     },
     "dba263e3d54848d08e8479657b3811dd": {
      "model_module": "@jupyter-widgets/base",
      "model_module_version": "1.2.0",
      "model_name": "LayoutModel",
      "state": {}
     },
     "dba8fed535c94074866cf26427ebcef8": {
      "model_module": "@jupyter-widgets/controls",
      "model_module_version": "1.5.0",
      "model_name": "DescriptionStyleModel",
      "state": {
       "description_width": ""
      }
     },
     "dbdc3973caee4294a9226152e263ac37": {
      "model_module": "@jupyter-widgets/controls",
      "model_module_version": "1.5.0",
      "model_name": "DescriptionStyleModel",
      "state": {
       "description_width": ""
      }
     },
     "dc12075bb45c465c855d97fdc103e509": {
      "model_module": "@jupyter-widgets/controls",
      "model_module_version": "1.5.0",
      "model_name": "ButtonStyleModel",
      "state": {}
     },
     "dd0e6658754d42e18488a3e4a281379c": {
      "model_module": "@jupyter-widgets/base",
      "model_module_version": "1.2.0",
      "model_name": "LayoutModel",
      "state": {}
     },
     "dd81138c47c64782b7fd5a43f8fdb348": {
      "model_module": "@jupyter-widgets/controls",
      "model_module_version": "1.5.0",
      "model_name": "HTMLMathModel",
      "state": {
       "layout": "IPY_MODEL_1a9ccb81bd2047898076f8419b62880d",
       "style": "IPY_MODEL_87a3ef6c93554546bda80d2b4c85f2f6",
       "value": "Enter here the values of the constant matrix $\\bf{B}$"
      }
     },
     "de2fff4ce2f1436aa2342e88b9983ebf": {
      "model_module": "@jupyter-widgets/base",
      "model_module_version": "1.2.0",
      "model_name": "LayoutModel",
      "state": {
       "grid_template_columns": "repeat(1, 45px)"
      }
     },
     "de3496dde66a41fe9f626454aa7996fc": {
      "model_module": "@jupyter-widgets/controls",
      "model_module_version": "1.5.0",
      "model_name": "DescriptionStyleModel",
      "state": {
       "description_width": ""
      }
     },
     "de4f6e1929a942a0b613aa525fd06cb9": {
      "model_module": "@jupyter-widgets/controls",
      "model_module_version": "1.5.0",
      "model_name": "DescriptionStyleModel",
      "state": {
       "description_width": ""
      }
     },
     "de818257189d43189c4f2b5e5bbdfc0c": {
      "model_module": "@jupyter-widgets/controls",
      "model_module_version": "1.5.0",
      "model_name": "TextModel",
      "state": {
       "layout": "IPY_MODEL_8233178bdcdc4cc5a36e758a2579d1fc",
       "style": "IPY_MODEL_12d09fb2349c4f8dbf0ed13fafc1e92d",
       "value": "4"
      }
     },
     "deb3df6133d14d7e842a626a8b04d782": {
      "model_module": "@jupyter-widgets/controls",
      "model_module_version": "1.5.0",
      "model_name": "DescriptionStyleModel",
      "state": {
       "description_width": ""
      }
     },
     "dec20d91770a4f24922dc66d83a90e24": {
      "model_module": "@jupyter-widgets/controls",
      "model_module_version": "1.5.0",
      "model_name": "ButtonStyleModel",
      "state": {}
     },
     "dec27924f4c14e11976ffb445d6a8b27": {
      "model_module": "@jupyter-widgets/base",
      "model_module_version": "1.2.0",
      "model_name": "LayoutModel",
      "state": {
       "height": "120px",
       "justify_content": "center",
       "width": "300px"
      }
     },
     "dec65daebb1b4b84b3bdcb29850ec120": {
      "model_module": "@jupyter-widgets/controls",
      "model_module_version": "1.5.0",
      "model_name": "BoxModel",
      "state": {
       "children": [
        "IPY_MODEL_04ac2eaf4a9b415cbe0808710899bbd0",
        "IPY_MODEL_023a3de6a59f49aaab8e9602efc93bb8"
       ],
       "layout": "IPY_MODEL_01c16a5ef70f401f88329db784bcb7bb"
      }
     },
     "df3a3f5fb1d946e892166a563d9d790f": {
      "model_module": "@jupyter-widgets/controls",
      "model_module_version": "1.5.0",
      "model_name": "DescriptionStyleModel",
      "state": {
       "description_width": ""
      }
     },
     "df4fd17a1eea4af38435a1613d4d880e": {
      "model_module": "@jupyter-widgets/controls",
      "model_module_version": "1.5.0",
      "model_name": "GridBoxModel",
      "state": {
       "children": [
        "IPY_MODEL_294a41e480374be8a3af9a748df9b249",
        "IPY_MODEL_311717a5f8b34be38c7b0489e404fdc6",
        "IPY_MODEL_eb40a92932eb48c99d0a3cea757beb86"
       ],
       "layout": "IPY_MODEL_9b97b54563a645bb9eccaf372630860f"
      }
     },
     "df70c1d6c5224e8faf73984fabc13fb4": {
      "model_module": "@jupyter-widgets/controls",
      "model_module_version": "1.5.0",
      "model_name": "DescriptionStyleModel",
      "state": {
       "description_width": ""
      }
     },
     "df73f7fb6beb40a1bc9a50f6ada23b71": {
      "model_module": "@jupyter-widgets/controls",
      "model_module_version": "1.5.0",
      "model_name": "HTMLModel",
      "state": {
       "layout": "IPY_MODEL_c687474c428d46d7845cb53688dcb8b5",
       "style": "IPY_MODEL_36eadf4d50784cf4b02cbf9f89945ef6",
       "value": "Click this button to start or reset the app."
      }
     },
     "dfa97dbf70f84c10a0d28459c2b20e57": {
      "model_module": "@jupyter-widgets/base",
      "model_module_version": "1.2.0",
      "model_name": "LayoutModel",
      "state": {
       "width": "90px"
      }
     },
     "dfb9c00469a2436ca973f96cd13f27f6": {
      "model_module": "@jupyter-widgets/controls",
      "model_module_version": "1.5.0",
      "model_name": "TextModel",
      "state": {
       "layout": "IPY_MODEL_bac3718a75224a58a09cb1f3e996c28a",
       "style": "IPY_MODEL_0d4af74240b04aca81ae2c4a3397a4aa",
       "value": "4"
      }
     },
     "dfc45ce097084db08e3e7a668a59a302": {
      "model_module": "@jupyter-widgets/controls",
      "model_module_version": "1.5.0",
      "model_name": "BoxModel",
      "state": {
       "children": [
        "IPY_MODEL_d3070bd6ca4045e0ba69c8ef18088bee",
        "IPY_MODEL_4b2d8a2c454e4a379dda0e9778288e5b"
       ],
       "layout": "IPY_MODEL_fa70c6577f534d4f82a04c5bd3079425"
      }
     },
     "dfc7a9a899e44ef5b11f7e00429806f7": {
      "model_module": "@jupyter-widgets/controls",
      "model_module_version": "1.5.0",
      "model_name": "TextModel",
      "state": {
       "layout": "IPY_MODEL_60fba3a3410847dc8a3bad3fcd17590c",
       "style": "IPY_MODEL_de3496dde66a41fe9f626454aa7996fc",
       "value": "8"
      }
     },
     "dfc8e6482273467a95c0e7536352f873": {
      "model_module": "@jupyter-widgets/controls",
      "model_module_version": "1.5.0",
      "model_name": "DescriptionStyleModel",
      "state": {
       "description_width": ""
      }
     },
     "dff578e791e84e39a696e8f3e650d9f6": {
      "model_module": "@jupyter-widgets/base",
      "model_module_version": "1.2.0",
      "model_name": "LayoutModel",
      "state": {
       "width": "90px"
      }
     },
     "dff8c1fd3ce94fdb9d21d4017c3eadfe": {
      "model_module": "@jupyter-widgets/controls",
      "model_module_version": "1.5.0",
      "model_name": "DescriptionStyleModel",
      "state": {
       "description_width": ""
      }
     },
     "e0575d708edf466ea30245f5c17283da": {
      "model_module": "@jupyter-widgets/controls",
      "model_module_version": "1.5.0",
      "model_name": "DescriptionStyleModel",
      "state": {
       "description_width": ""
      }
     },
     "e069f445c4e249f98a45aa2627bce057": {
      "model_module": "@jupyter-widgets/controls",
      "model_module_version": "1.5.0",
      "model_name": "ButtonStyleModel",
      "state": {}
     },
     "e074c047a1bc44de9023712895610b0c": {
      "model_module": "@jupyter-widgets/controls",
      "model_module_version": "1.5.0",
      "model_name": "DescriptionStyleModel",
      "state": {
       "description_width": ""
      }
     },
     "e07f9db733be4cc4a0f34be0751bb593": {
      "model_module": "@jupyter-widgets/controls",
      "model_module_version": "1.5.0",
      "model_name": "HTMLModel",
      "state": {
       "layout": "IPY_MODEL_4a8852a0dac841dcb7cf0dac88973b88",
       "style": "IPY_MODEL_31c419314a634937aebd4517a00bce8f",
       "value": "Choose a variable to solve for."
      }
     },
     "e0cc99a256f24691bb98f30ca6257b6b": {
      "model_module": "@jupyter-widgets/base",
      "model_module_version": "1.2.0",
      "model_name": "LayoutModel",
      "state": {
       "width": "90px"
      }
     },
     "e0d6f4b97f3449a597a55c37d9efc9d8": {
      "model_module": "@jupyter-widgets/controls",
      "model_module_version": "1.5.0",
      "model_name": "DescriptionStyleModel",
      "state": {
       "description_width": ""
      }
     },
     "e0e009a5471947f28258ffd13c93985c": {
      "model_module": "@jupyter-widgets/controls",
      "model_module_version": "1.5.0",
      "model_name": "HTMLModel",
      "state": {
       "layout": "IPY_MODEL_3711a22943f54d0cac80339ea168d1b9",
       "style": "IPY_MODEL_fcd8548136094503a6a4fcc620546521",
       "value": "Choose a variable to solve for."
      }
     },
     "e13652ef48d74c838e0db6c6bfc22fed": {
      "model_module": "@jupyter-widgets/controls",
      "model_module_version": "1.5.0",
      "model_name": "DescriptionStyleModel",
      "state": {
       "description_width": ""
      }
     },
     "e145ff34ac9f4764888723428fce25d3": {
      "model_module": "@jupyter-widgets/controls",
      "model_module_version": "1.5.0",
      "model_name": "TextModel",
      "state": {
       "layout": "IPY_MODEL_56b7235de6f34f8ea7f7ee90eec44abc",
       "style": "IPY_MODEL_8f096e2ff1a8438183db51e25747c9d9",
       "value": "-1"
      }
     },
     "e14e8d00f21a413fa95b6231a7151130": {
      "model_module": "@jupyter-widgets/controls",
      "model_module_version": "1.5.0",
      "model_name": "BoxModel",
      "state": {
       "children": [
        "IPY_MODEL_b6779b8b0ae24e94bd85a791fe4e2991",
        "IPY_MODEL_e8dadd54342e47fa947f6b1f2b762111",
        "IPY_MODEL_610f6c3c649b44fe9dd872eecc7cd24a",
        "IPY_MODEL_9687835f048b452a86cb18e9e8de3092"
       ],
       "layout": "IPY_MODEL_79443a0241b04c8bb92ec45bca4cb075"
      }
     },
     "e17106a1b9eb4910bcbc5b4e934389b2": {
      "model_module": "@jupyter-widgets/controls",
      "model_module_version": "1.5.0",
      "model_name": "TextModel",
      "state": {
       "layout": "IPY_MODEL_365ba57c32664ab38fd8d83a88c4d1cb",
       "style": "IPY_MODEL_322f5cc6001c47b7b307873e965d2b48",
       "value": "1"
      }
     },
     "e179f7502b1246e9acc6c34e31066033": {
      "model_module": "@jupyter-widgets/controls",
      "model_module_version": "1.5.0",
      "model_name": "DescriptionStyleModel",
      "state": {
       "description_width": ""
      }
     },
     "e18c1c9936e64d2390d08f695e95bbfd": {
      "model_module": "@jupyter-widgets/base",
      "model_module_version": "1.2.0",
      "model_name": "LayoutModel",
      "state": {}
     },
     "e2ae16256dc04f8b837adeccf557a2fc": {
      "model_module": "@jupyter-widgets/base",
      "model_module_version": "1.2.0",
      "model_name": "LayoutModel",
      "state": {
       "width": "90px"
      }
     },
     "e2c839898eeb47a7b768ea3215c56b59": {
      "model_module": "@jupyter-widgets/base",
      "model_module_version": "1.2.0",
      "model_name": "LayoutModel",
      "state": {
       "height": "300px",
       "justify_content": "center",
       "width": "400px"
      }
     },
     "e2e71228076c4fd79b66985bed71a968": {
      "model_module": "@jupyter-widgets/base",
      "model_module_version": "1.2.0",
      "model_name": "LayoutModel",
      "state": {
       "width": "90px"
      }
     },
     "e3059c1a33764b6499367f4966b105d4": {
      "model_module": "@jupyter-widgets/controls",
      "model_module_version": "1.5.0",
      "model_name": "DescriptionStyleModel",
      "state": {
       "description_width": ""
      }
     },
     "e32871679a704b25b59055864750dc90": {
      "model_module": "@jupyter-widgets/base",
      "model_module_version": "1.2.0",
      "model_name": "LayoutModel",
      "state": {
       "width": "150px"
      }
     },
     "e3601bccff37433582f7cba0933f48bd": {
      "model_module": "@jupyter-widgets/controls",
      "model_module_version": "1.5.0",
      "model_name": "TextModel",
      "state": {
       "layout": "IPY_MODEL_35a7bfeaf8664758b5ea5e8c6d003d65",
       "style": "IPY_MODEL_497f6ce8226b4824b421f28186f89a96",
       "value": "1"
      }
     },
     "e3a6fb1367e74b3192ae2dbb76ae0e48": {
      "model_module": "@jupyter-widgets/controls",
      "model_module_version": "1.5.0",
      "model_name": "ButtonModel",
      "state": {
       "description": "Start",
       "layout": "IPY_MODEL_1eac90272e7845e89b07dbfa1e08d791",
       "style": "IPY_MODEL_4176382d7d37475b858d32d45b6bca01"
      }
     },
     "e3d8f9e1befa4ed1b1f6d229c2603346": {
      "model_module": "@jupyter-widgets/controls",
      "model_module_version": "1.5.0",
      "model_name": "TextModel",
      "state": {
       "layout": "IPY_MODEL_38b8c268bd754197a79daa5bfd085f20",
       "style": "IPY_MODEL_f16b42c6e5d24e0798c5386a3344e5dc",
       "value": "1"
      }
     },
     "e43553509aeb4e28847f0cabb3563bbc": {
      "model_module": "@jupyter-widgets/controls",
      "model_module_version": "1.5.0",
      "model_name": "DescriptionStyleModel",
      "state": {
       "description_width": ""
      }
     },
     "e4d5f9de23d4402d8a66aac7d240fdca": {
      "model_module": "@jupyter-widgets/base",
      "model_module_version": "1.2.0",
      "model_name": "LayoutModel",
      "state": {}
     },
     "e5064e70809241239641c68cb2c5b0cf": {
      "model_module": "@jupyter-widgets/controls",
      "model_module_version": "1.5.0",
      "model_name": "DescriptionStyleModel",
      "state": {
       "description_width": ""
      }
     },
     "e5470f36f0f643279532e0c2df4206f4": {
      "model_module": "@jupyter-widgets/controls",
      "model_module_version": "1.5.0",
      "model_name": "GridBoxModel",
      "state": {
       "children": [
        "IPY_MODEL_56832c0f56a940729ec792ed4c7509d9",
        "IPY_MODEL_9067189cc24d47639936ebdf7c6fb320",
        "IPY_MODEL_6feb77eae3bb45869e4176abc3c49d5b",
        "IPY_MODEL_ab96f044a02042398ccc93aed70163d1",
        "IPY_MODEL_11596f2075c34320892b5a07830a36f2",
        "IPY_MODEL_cdeb58b49ef24357b30bb1cdc8eb2f81",
        "IPY_MODEL_a2bc8daffaf048f1b6b459cb2483c5e2",
        "IPY_MODEL_b8f9242a936748368403a278ab5f5176",
        "IPY_MODEL_cba3152e2feb4b358dcea91ee1298de5"
       ],
       "layout": "IPY_MODEL_40a5f744a6c048bfa3624960032d32e2"
      }
     },
     "e575fe7bc1904f0bb645b87fbe453ffb": {
      "model_module": "@jupyter-widgets/controls",
      "model_module_version": "1.5.0",
      "model_name": "GridBoxModel",
      "state": {
       "children": [
        "IPY_MODEL_796a52e29b1746abba49c49a1087c732",
        "IPY_MODEL_7a6688af40c54e1eb804182a7de14e6a",
        "IPY_MODEL_96dd9005ff9f47d683a2618b980d472c",
        "IPY_MODEL_339f0b5b285c47a593c9be3f557693ae",
        "IPY_MODEL_8e5f0dd29524472e8e7de9ea3b67efbe",
        "IPY_MODEL_a0d56673efdc42e08314bd9a939fee4d",
        "IPY_MODEL_ff67e04390e649c499c7b3dc538ebb73",
        "IPY_MODEL_d4f604850ce1476c855c5af4de321388",
        "IPY_MODEL_d55c5b6aa58f405385fd5786d2b4d6fd"
       ],
       "layout": "IPY_MODEL_7d8073a44ff44142a3471cc1cc72f0ae"
      }
     },
     "e60c7ea7cc0e475687cc4be356b2f4c2": {
      "model_module": "@jupyter-widgets/controls",
      "model_module_version": "1.5.0",
      "model_name": "DescriptionStyleModel",
      "state": {
       "description_width": ""
      }
     },
     "e6e042f62c974ad08184331c6c11cf00": {
      "model_module": "@jupyter-widgets/controls",
      "model_module_version": "1.5.0",
      "model_name": "HTMLMathModel",
      "state": {
       "layout": "IPY_MODEL_ed42d707e35748a98a54ce206141f7e9",
       "style": "IPY_MODEL_f18ca91bd55746bc8900d87563aca1c5",
       "value": "Enter here the values of the matrix $\\bf{A}$"
      }
     },
     "e702b64ac5464c1489d4ea003c42d7e5": {
      "model_module": "@jupyter-widgets/controls",
      "model_module_version": "1.5.0",
      "model_name": "DropdownModel",
      "state": {
       "_options_labels": [
        "x₁",
        "x₂",
        "x₃"
       ],
       "description": "Variable:",
       "index": 0,
       "layout": "IPY_MODEL_0b24902a98694bc7bfdc4780a434eaaa",
       "style": "IPY_MODEL_597ee65fd6064aa88a40e11c9163bb9c"
      }
     },
     "e77e183564634e008a18803a6dc93202": {
      "model_module": "@jupyter-widgets/controls",
      "model_module_version": "1.5.0",
      "model_name": "TextModel",
      "state": {
       "layout": "IPY_MODEL_5064eb8b796f469bb47ced8ec32aba1e",
       "style": "IPY_MODEL_7bca35380ec64133990acfe57bff0205",
       "value": "-1"
      }
     },
     "e819a7b2525a41ae89c200a2fd12b39a": {
      "model_module": "@jupyter-widgets/base",
      "model_module_version": "1.2.0",
      "model_name": "LayoutModel",
      "state": {
       "height": "120px",
       "width": "250px"
      }
     },
     "e8255f961a5044bca99da2837bf33b86": {
      "model_module": "@jupyter-widgets/controls",
      "model_module_version": "1.5.0",
      "model_name": "TextModel",
      "state": {
       "layout": "IPY_MODEL_f10e93f25a7549fb8fcf6aa01db5a79e",
       "style": "IPY_MODEL_d7d24ee5f5f94930803584213f59eb96",
       "value": "1"
      }
     },
     "e8abe16c6b514c56971eeeb80be3ef01": {
      "model_module": "@jupyter-widgets/controls",
      "model_module_version": "1.5.0",
      "model_name": "DescriptionStyleModel",
      "state": {
       "description_width": ""
      }
     },
     "e8dadd54342e47fa947f6b1f2b762111": {
      "model_module": "@jupyter-widgets/controls",
      "model_module_version": "1.5.0",
      "model_name": "HBoxModel",
      "state": {
       "children": [
        "IPY_MODEL_9b9f3038f4c243688b980e5291722dbf",
        "IPY_MODEL_c3ac0a809ae74c458e5f1418c0f82c88"
       ],
       "layout": "IPY_MODEL_fc158387fde148bbaf9dbceb691b8126"
      }
     },
     "e904bf46287149379808eb8c7278607c": {
      "model_module": "@jupyter-widgets/base",
      "model_module_version": "1.2.0",
      "model_name": "LayoutModel",
      "state": {}
     },
     "e9154ebf36324ff98fd2c1cd297c167d": {
      "model_module": "@jupyter-widgets/base",
      "model_module_version": "1.2.0",
      "model_name": "LayoutModel",
      "state": {}
     },
     "e95ea0d1a64d461082dc6511918836f7": {
      "model_module": "@jupyter-widgets/controls",
      "model_module_version": "1.5.0",
      "model_name": "DescriptionStyleModel",
      "state": {
       "description_width": ""
      }
     },
     "e98a2fb2b98349e198c56065d75b343d": {
      "model_module": "@jupyter-widgets/base",
      "model_module_version": "1.2.0",
      "model_name": "LayoutModel",
      "state": {
       "width": "90px"
      }
     },
     "e9adc10895bf4a61ad9722de496d372e": {
      "model_module": "@jupyter-widgets/controls",
      "model_module_version": "1.5.0",
      "model_name": "ButtonModel",
      "state": {
       "description": "Start",
       "layout": "IPY_MODEL_be9b93b1567e4412baec25696650ad0a",
       "style": "IPY_MODEL_7611590063f44bb2abcf6d28a920f724"
      }
     },
     "e9b514a48d5d438aa0a06732c3c925d9": {
      "model_module": "@jupyter-widgets/controls",
      "model_module_version": "1.5.0",
      "model_name": "DescriptionStyleModel",
      "state": {
       "description_width": ""
      }
     },
     "e9d0277a5f03456986863add85c43593": {
      "model_module": "@jupyter-widgets/controls",
      "model_module_version": "1.5.0",
      "model_name": "GridBoxModel",
      "state": {
       "children": [
        "IPY_MODEL_6431fbaa11d64071bb7618db12742562",
        "IPY_MODEL_4a708c2313ab45a5b80b3a02dca09099",
        "IPY_MODEL_6b41b000ef6f4024b869523c4d0c37ba",
        "IPY_MODEL_cdee2ee96cc54ae1b6e12c09dafd2d52",
        "IPY_MODEL_bf00d802d1c5434fbdbca54c4ef4cb20",
        "IPY_MODEL_acdbe6b318224b198e18e6bfe949f1cf",
        "IPY_MODEL_7d9f77ea15304f25ab0154a734445adf",
        "IPY_MODEL_09eff0a6f31b4632963d7f8b36a3abd2",
        "IPY_MODEL_bb2a7e466fe049be89ad3cc62f294cd4"
       ],
       "layout": "IPY_MODEL_728b8198921040769d8332129cb9ce08"
      }
     },
     "e9e4315023f74b2f91c45b734f586dde": {
      "model_module": "@jupyter-widgets/controls",
      "model_module_version": "1.5.0",
      "model_name": "HTMLMathModel",
      "state": {
       "layout": "IPY_MODEL_ef28e3ad4b694fa38536350f6acbe097",
       "style": "IPY_MODEL_cc4d681346bf4515826108c03c1a8884",
       "value": "$$ \\color{red}{\\det A} = \\left| \n      \\begin{array}{rrr}\n          1 & 1 & -1\\\\\n          3 & 1 & 1\\\\\n          1 & -1 & 4\n      \\end{array}\n      \\right| = \\color{red}{ -2}$$ <br>$$ \\color{green}{ \\det A_1 } = \\left| \n      \\begin{array}{rrr}\n          \\color{blue}{ 3 } & 1 & -1\\\\\n          \\color{blue}{ 9 } & 1 & 1\\\\\n          \\color{blue}{ 8 } & -1 & 4\n      \\end{array}\n      \\right| = \\color{green}{ 4 }$$ <br>$$ x_{ 1 } =\\frac{ \\det A_1}{\\det A} = \\frac{ 4 }{ -2 } = -2$$"
      }
     },
     "ea30048f87054f22a86d8adfe73bfd81": {
      "model_module": "@jupyter-widgets/base",
      "model_module_version": "1.2.0",
      "model_name": "LayoutModel",
      "state": {
       "grid_template_columns": "repeat(3, 45px)"
      }
     },
     "ea3b8df8c97447369ce5a9bdaae50b0d": {
      "model_module": "@jupyter-widgets/controls",
      "model_module_version": "1.5.0",
      "model_name": "DropdownModel",
      "state": {
       "_options_labels": [
        "x₁",
        "x₂",
        "x₃"
       ],
       "description": "Variable:",
       "index": 0,
       "layout": "IPY_MODEL_001cefab6eab4d1b81bd416ebeb933ac",
       "style": "IPY_MODEL_2f186962aede4eac95c3bda3cc39cd50"
      }
     },
     "ea40ecc77b454874b4ab5458d06d63c7": {
      "model_module": "@jupyter-widgets/controls",
      "model_module_version": "1.5.0",
      "model_name": "DescriptionStyleModel",
      "state": {
       "description_width": ""
      }
     },
     "ea875e5959dc44d68623b83adc143a62": {
      "model_module": "@jupyter-widgets/controls",
      "model_module_version": "1.5.0",
      "model_name": "TextModel",
      "state": {
       "layout": "IPY_MODEL_38b8c268bd754197a79daa5bfd085f20",
       "style": "IPY_MODEL_752d0b52e8ef40a0b31c76b649c177d6",
       "value": "-1"
      }
     },
     "ead8d49df9eb4657964ae72d44ef02a9": {
      "model_module": "@jupyter-widgets/controls",
      "model_module_version": "1.5.0",
      "model_name": "DescriptionStyleModel",
      "state": {
       "description_width": ""
      }
     },
     "eadde7364d814c00b87d207ee576d3dd": {
      "model_module": "@jupyter-widgets/controls",
      "model_module_version": "1.5.0",
      "model_name": "DescriptionStyleModel",
      "state": {
       "description_width": ""
      }
     },
     "eb40a92932eb48c99d0a3cea757beb86": {
      "model_module": "@jupyter-widgets/controls",
      "model_module_version": "1.5.0",
      "model_name": "TextModel",
      "state": {
       "layout": "IPY_MODEL_d7967788413544aa83e6234d99bfcfaf",
       "style": "IPY_MODEL_ad6fad55faab4d12a80c5ee130ffb0b2",
       "value": "8"
      }
     },
     "ebd43eda287e4efc916805463621aedf": {
      "model_module": "@jupyter-widgets/controls",
      "model_module_version": "1.5.0",
      "model_name": "DescriptionStyleModel",
      "state": {
       "description_width": ""
      }
     },
     "ebe9e031a64241c8bfe8c3e64676a94e": {
      "model_module": "@jupyter-widgets/controls",
      "model_module_version": "1.5.0",
      "model_name": "HBoxModel",
      "state": {
       "children": [
        "IPY_MODEL_5c95d429bcdc42ad9b387a150222001b",
        "IPY_MODEL_86767bb3f2b94d81b29ffdd25921173a"
       ],
       "layout": "IPY_MODEL_19bde04076974e87811201a7ab638afa"
      }
     },
     "ec1f3fc9765445e081f9b7205cb64f1d": {
      "model_module": "@jupyter-widgets/controls",
      "model_module_version": "1.5.0",
      "model_name": "DescriptionStyleModel",
      "state": {
       "description_width": ""
      }
     },
     "ec6397aec5f5467ca2ff7268c9274487": {
      "model_module": "@jupyter-widgets/controls",
      "model_module_version": "1.5.0",
      "model_name": "DescriptionStyleModel",
      "state": {
       "description_width": ""
      }
     },
     "ecdc9398341c4b36990f12a7f46b8b9a": {
      "model_module": "@jupyter-widgets/controls",
      "model_module_version": "1.5.0",
      "model_name": "TextModel",
      "state": {
       "layout": "IPY_MODEL_852e11ecf67743b9b3d1ddb8b98182be",
       "style": "IPY_MODEL_6cd88ea583844625819e9b10bf2b26d6",
       "value": "8"
      }
     },
     "ed395c56d0da40ee8093f11018da6ba1": {
      "model_module": "@jupyter-widgets/controls",
      "model_module_version": "1.5.0",
      "model_name": "DescriptionStyleModel",
      "state": {
       "description_width": ""
      }
     },
     "ed3e28e0bf0b4a4aa59030d6cd6ec39b": {
      "model_module": "@jupyter-widgets/controls",
      "model_module_version": "1.5.0",
      "model_name": "ButtonModel",
      "state": {
       "description": "Start",
       "layout": "IPY_MODEL_89ca849cca2a49aa952d944c114923f1",
       "style": "IPY_MODEL_072f157225464f08bfa7a671e86baf4f"
      }
     },
     "ed42d707e35748a98a54ce206141f7e9": {
      "model_module": "@jupyter-widgets/base",
      "model_module_version": "1.2.0",
      "model_name": "LayoutModel",
      "state": {
       "width": "90px"
      }
     },
     "ed6364d5992d426baa2ab163349cc2b9": {
      "model_module": "@jupyter-widgets/controls",
      "model_module_version": "1.5.0",
      "model_name": "HTMLModel",
      "state": {
       "layout": "IPY_MODEL_09533cd32a6a4d56a8ba8c21fb4cb7a8",
       "style": "IPY_MODEL_d998806b65cf4258b1d0ae881bfe32c0",
       "value": "Click this button to start or reset the app."
      }
     },
     "edb1629430e04fa7880c474d4e6728e2": {
      "model_module": "@jupyter-widgets/controls",
      "model_module_version": "1.5.0",
      "model_name": "DescriptionStyleModel",
      "state": {
       "description_width": ""
      }
     },
     "edc166f9d145440798618cf80bf65864": {
      "model_module": "@jupyter-widgets/controls",
      "model_module_version": "1.5.0",
      "model_name": "HTMLMathModel",
      "state": {
       "layout": "IPY_MODEL_e2ae16256dc04f8b837adeccf557a2fc",
       "style": "IPY_MODEL_a50f5bf1d00c40a98d741022d8d3537e",
       "value": "Enter here the values of the matrix $\\bf{A}$"
      }
     },
     "ee203ebc8c88496f8e690f75b3294f83": {
      "model_module": "@jupyter-widgets/controls",
      "model_module_version": "1.5.0",
      "model_name": "HTMLMathModel",
      "state": {
       "layout": "IPY_MODEL_10717b6e7718436291bf0c1bd5fa4ee1",
       "style": "IPY_MODEL_61c9c30c916f4ec2b6c05220ce42bec9"
      }
     },
     "ee2aeeaa7c4944f093992298b777c9f5": {
      "model_module": "@jupyter-widgets/controls",
      "model_module_version": "1.5.0",
      "model_name": "DescriptionStyleModel",
      "state": {
       "description_width": ""
      }
     },
     "ee833576f81c48b5be0220bd344ad862": {
      "model_module": "@jupyter-widgets/controls",
      "model_module_version": "1.5.0",
      "model_name": "TextModel",
      "state": {
       "layout": "IPY_MODEL_559e088c23fd41ac878f827500212741",
       "style": "IPY_MODEL_77008be38f2a4fafbf25a48009851c1b",
       "value": "1"
      }
     },
     "eea81cd51f534c0f941a9448430fb177": {
      "model_module": "@jupyter-widgets/controls",
      "model_module_version": "1.5.0",
      "model_name": "ButtonStyleModel",
      "state": {}
     },
     "eeb04073e004412692fbfb4e9c0e4be3": {
      "model_module": "@jupyter-widgets/controls",
      "model_module_version": "1.5.0",
      "model_name": "HTMLMathModel",
      "state": {
       "layout": "IPY_MODEL_0e9b1e00c8584cb5bdb6b5c636bc6ce8",
       "style": "IPY_MODEL_e179f7502b1246e9acc6c34e31066033",
       "value": "Enter here the values of the matrix $\\bf{A}$"
      }
     },
     "eebeca6dc8a841f880c26c02d4d73788": {
      "model_module": "@jupyter-widgets/controls",
      "model_module_version": "1.5.0",
      "model_name": "DropdownModel",
      "state": {
       "_options_labels": [
        "x₁",
        "x₂",
        "x₃"
       ],
       "description": "Variable:",
       "index": 0,
       "layout": "IPY_MODEL_a4a94248cda4444ab15368d7f8c38026",
       "style": "IPY_MODEL_972c570f8a804bcca0f427c6643ff9bd"
      }
     },
     "eec86f5df7614259b68944d0f0702466": {
      "model_module": "@jupyter-widgets/controls",
      "model_module_version": "1.5.0",
      "model_name": "TextModel",
      "state": {
       "layout": "IPY_MODEL_8233178bdcdc4cc5a36e758a2579d1fc",
       "style": "IPY_MODEL_63b9a935fa6e43e9ae4df01965a28d16",
       "value": "1"
      }
     },
     "ef28e3ad4b694fa38536350f6acbe097": {
      "model_module": "@jupyter-widgets/base",
      "model_module_version": "1.2.0",
      "model_name": "LayoutModel",
      "state": {
       "height": "250px",
       "justify_content": "center",
       "width": "400px"
      }
     },
     "ef6693c7da0d4365b57d45b159fbd393": {
      "model_module": "@jupyter-widgets/controls",
      "model_module_version": "1.5.0",
      "model_name": "DropdownModel",
      "state": {
       "_options_labels": [
        "x₁",
        "x₂",
        "x₃"
       ],
       "description": "Variable:",
       "index": 0,
       "layout": "IPY_MODEL_166e1d358e054bc2adced585e0a57e02",
       "style": "IPY_MODEL_cde805d188d14a7a8abf2df5acc1e28a"
      }
     },
     "ef83c734f8c94a1dba1417dc04000298": {
      "model_module": "@jupyter-widgets/controls",
      "model_module_version": "1.5.0",
      "model_name": "ButtonStyleModel",
      "state": {}
     },
     "efbd1c61bde84c6ebf1088748ab3398c": {
      "model_module": "@jupyter-widgets/controls",
      "model_module_version": "1.5.0",
      "model_name": "DescriptionStyleModel",
      "state": {
       "description_width": ""
      }
     },
     "f04378d28b5f4c7bb7a6c009229c08f1": {
      "model_module": "@jupyter-widgets/controls",
      "model_module_version": "1.5.0",
      "model_name": "HTMLMathModel",
      "state": {
       "layout": "IPY_MODEL_051933830f814b12a5d0e533b38f2310",
       "style": "IPY_MODEL_01f7e59380b6444abc3f48e7609b54f2",
       "value": "$$ \\det A_1 = \\left| \n      \\begin{array}{rrr}\n          \\color{blue}{ 3 } & 1 & -1\\\\\n          \\color{blue}{ 9 } & 1 & 1\\\\\n          \\color{blue}{ 8 } & -1 & 4\n      \\end{array}\n      \\right| = 4$$ $$ x_{ 1 } =\\frac{ \\det A_1}{\\det A} = \\frac{ 4 }{ -2 } = -2$$"
      }
     },
     "f07baff83aa54d1f8230a8763e2130df": {
      "model_module": "@jupyter-widgets/controls",
      "model_module_version": "1.5.0",
      "model_name": "TextModel",
      "state": {
       "layout": "IPY_MODEL_f10e93f25a7549fb8fcf6aa01db5a79e",
       "style": "IPY_MODEL_9c46846f8d0545819abeb5e879f64cd8",
       "value": "9"
      }
     },
     "f0ab3031cb3e4ab38096902a14541a2e": {
      "model_module": "@jupyter-widgets/base",
      "model_module_version": "1.2.0",
      "model_name": "LayoutModel",
      "state": {}
     },
     "f0fa7bcd5e004ebc98825269318c844c": {
      "model_module": "@jupyter-widgets/controls",
      "model_module_version": "1.5.0",
      "model_name": "DescriptionStyleModel",
      "state": {
       "description_width": ""
      }
     },
     "f10e93f25a7549fb8fcf6aa01db5a79e": {
      "model_module": "@jupyter-widgets/base",
      "model_module_version": "1.2.0",
      "model_name": "LayoutModel",
      "state": {
       "height": "35px",
       "width": "40px"
      }
     },
     "f1222d712a6c4c919452f52a877b601d": {
      "model_module": "@jupyter-widgets/controls",
      "model_module_version": "1.5.0",
      "model_name": "DescriptionStyleModel",
      "state": {
       "description_width": ""
      }
     },
     "f15a6dc6ba0448039573b3094e7f5411": {
      "model_module": "@jupyter-widgets/controls",
      "model_module_version": "1.5.0",
      "model_name": "ButtonStyleModel",
      "state": {}
     },
     "f16b42c6e5d24e0798c5386a3344e5dc": {
      "model_module": "@jupyter-widgets/controls",
      "model_module_version": "1.5.0",
      "model_name": "DescriptionStyleModel",
      "state": {
       "description_width": ""
      }
     },
     "f18ca91bd55746bc8900d87563aca1c5": {
      "model_module": "@jupyter-widgets/controls",
      "model_module_version": "1.5.0",
      "model_name": "DescriptionStyleModel",
      "state": {
       "description_width": ""
      }
     },
     "f199683e7cee4b4baa38ef8aaa2ac454": {
      "model_module": "@jupyter-widgets/base",
      "model_module_version": "1.2.0",
      "model_name": "LayoutModel",
      "state": {
       "flex_flow": "row wrap",
       "justify_content": "space-around"
      }
     },
     "f1c78b725e84465fa2d0be13b4d4b107": {
      "model_module": "@jupyter-widgets/controls",
      "model_module_version": "1.5.0",
      "model_name": "TextModel",
      "state": {
       "layout": "IPY_MODEL_8233178bdcdc4cc5a36e758a2579d1fc",
       "style": "IPY_MODEL_05d824fd902840c8803f54716dfdc08b",
       "value": "1"
      }
     },
     "f20a5bd3f5304acb89c5a04316f1b39a": {
      "model_module": "@jupyter-widgets/base",
      "model_module_version": "1.2.0",
      "model_name": "LayoutModel",
      "state": {
       "height": "120px",
       "width": "150px"
      }
     },
     "f2193e55883046b998c091924c01d4ed": {
      "model_module": "@jupyter-widgets/controls",
      "model_module_version": "1.5.0",
      "model_name": "DescriptionStyleModel",
      "state": {
       "description_width": ""
      }
     },
     "f27e48a344df4b83bd01f9bb61b2b50a": {
      "model_module": "@jupyter-widgets/controls",
      "model_module_version": "1.5.0",
      "model_name": "DescriptionStyleModel",
      "state": {
       "description_width": ""
      }
     },
     "f29dd5bbd1f8410a99aa11b8861a75c3": {
      "model_module": "@jupyter-widgets/controls",
      "model_module_version": "1.5.0",
      "model_name": "ButtonModel",
      "state": {
       "description": "Start",
       "layout": "IPY_MODEL_c3d7591ce2144390b9cd67e3ef2b8123",
       "style": "IPY_MODEL_65efa6506b9646edb5d5ac9271aaaf71"
      }
     },
     "f29eb509b5d5442e90cdf128c2b9b237": {
      "model_module": "@jupyter-widgets/base",
      "model_module_version": "1.2.0",
      "model_name": "LayoutModel",
      "state": {
       "height": "120px",
       "width": "150px"
      }
     },
     "f2d1d65aac384ad19f4100eb42a83ca0": {
      "model_module": "@jupyter-widgets/controls",
      "model_module_version": "1.5.0",
      "model_name": "TextModel",
      "state": {
       "layout": "IPY_MODEL_559e088c23fd41ac878f827500212741",
       "style": "IPY_MODEL_fb55f71a15194f26ba378714f515348c",
       "value": "3"
      }
     },
     "f34a503d1de0401fb357b703858a1aa1": {
      "model_module": "@jupyter-widgets/base",
      "model_module_version": "1.2.0",
      "model_name": "LayoutModel",
      "state": {
       "height": "120px",
       "justify_content": "center",
       "width": "300px"
      }
     },
     "f34bec3ffd0249059a312c902fdaf33d": {
      "model_module": "@jupyter-widgets/controls",
      "model_module_version": "1.5.0",
      "model_name": "DescriptionStyleModel",
      "state": {
       "description_width": ""
      }
     },
     "f3a2d7511ad841e8acc7f823ec913ce5": {
      "model_module": "@jupyter-widgets/controls",
      "model_module_version": "1.5.0",
      "model_name": "ButtonModel",
      "state": {
       "description": "Solve",
       "layout": "IPY_MODEL_05df83e2289f48499f0b14a3c80a78f5",
       "style": "IPY_MODEL_bef38ea13f4b4a9cbc5933ed2464babe"
      }
     },
     "f3b0898af3d6465996cac3be9610ad05": {
      "model_module": "@jupyter-widgets/controls",
      "model_module_version": "1.5.0",
      "model_name": "DescriptionStyleModel",
      "state": {
       "description_width": ""
      }
     },
     "f3ec984ef2f1483db707e7cbe3aa3241": {
      "model_module": "@jupyter-widgets/controls",
      "model_module_version": "1.5.0",
      "model_name": "DescriptionStyleModel",
      "state": {
       "description_width": ""
      }
     },
     "f45dae5b9881408f9455a0ac4aca6a8e": {
      "model_module": "@jupyter-widgets/controls",
      "model_module_version": "1.5.0",
      "model_name": "VBoxModel",
      "state": {
       "children": [
        "IPY_MODEL_cf2fe11ca3ee4e6b96af5a58d8d59eb9",
        "IPY_MODEL_dada7a7131604f4e81a13548babde959",
        "IPY_MODEL_a7b9636875e34e1fad1954a9ea78f261"
       ],
       "layout": "IPY_MODEL_e904bf46287149379808eb8c7278607c"
      }
     },
     "f474a9eacd9044838b177f9897a17d18": {
      "model_module": "@jupyter-widgets/base",
      "model_module_version": "1.2.0",
      "model_name": "LayoutModel",
      "state": {
       "width": "90px"
      }
     },
     "f4829be3dde14abeb7dd6abab0e334ce": {
      "model_module": "@jupyter-widgets/controls",
      "model_module_version": "1.5.0",
      "model_name": "HTMLModel",
      "state": {
       "layout": "IPY_MODEL_2ffaee7f69c04feba7901ef45739e1c1",
       "style": "IPY_MODEL_9e4a7e7680254a8eb055ce96578b017a",
       "value": "Choose a variable to solve for."
      }
     },
     "f4ac5e383ae84399b4b1baf56710e26b": {
      "model_module": "@jupyter-widgets/controls",
      "model_module_version": "1.5.0",
      "model_name": "DescriptionStyleModel",
      "state": {
       "description_width": ""
      }
     },
     "f4bd9020071d447eadd1e916700d24e7": {
      "model_module": "@jupyter-widgets/controls",
      "model_module_version": "1.5.0",
      "model_name": "BoxModel",
      "state": {
       "children": [
        "IPY_MODEL_1836b5b12d814144bb56f72236fa1de0",
        "IPY_MODEL_d398c6e1eae14162a129b6b73d0b2c63",
        "IPY_MODEL_7772640ff521406abcbd81217c2316e7",
        "IPY_MODEL_18ef01f3594b4f7d83ec6a8101e8fad5"
       ],
       "layout": "IPY_MODEL_85ee3855719a44fab2da6ef3008f6165"
      }
     },
     "f4c0c2744b7144a49d55d9e3062690cc": {
      "model_module": "@jupyter-widgets/controls",
      "model_module_version": "1.5.0",
      "model_name": "HTMLMathModel",
      "state": {
       "layout": "IPY_MODEL_e98a2fb2b98349e198c56065d75b343d",
       "style": "IPY_MODEL_f796e34b6b82452591468bd84fedd702",
       "value": "Enter here the values of the constant matrix $\\bf{B}$"
      }
     },
     "f507f94f37e7437aab185aeaa9d0bbff": {
      "model_module": "@jupyter-widgets/controls",
      "model_module_version": "1.5.0",
      "model_name": "HTMLMathModel",
      "state": {
       "layout": "IPY_MODEL_0edc24d102be4100be4b3397bfa095c6",
       "style": "IPY_MODEL_2fd3bae6cca04ac7afdc51187208af90",
       "value": "Enter here the values of the matrix $\\bf{A}$"
      }
     },
     "f50d80e622c046e5871dc396d9cb9b3e": {
      "model_module": "@jupyter-widgets/controls",
      "model_module_version": "1.5.0",
      "model_name": "GridBoxModel",
      "state": {
       "children": [
        "IPY_MODEL_169c6accca754ac6a9482bee937e1c38",
        "IPY_MODEL_38f900decc9844fcad9ed1a30e297c72",
        "IPY_MODEL_2a9acd61500d4d2e906f625dddd104f2"
       ],
       "layout": "IPY_MODEL_0b76d7e9adce4dbab37d5dbb685b7160"
      }
     },
     "f51a952de8f64032a1a2ff6ce6273be8": {
      "model_module": "@jupyter-widgets/controls",
      "model_module_version": "1.5.0",
      "model_name": "GridBoxModel",
      "state": {
       "children": [
        "IPY_MODEL_a1d5e49cea86401a8b487018dd30558f",
        "IPY_MODEL_ee833576f81c48b5be0220bd344ad862",
        "IPY_MODEL_4e60123ac0804453826ccd515bc2734e",
        "IPY_MODEL_7f933082ccf14fa8aad4e01b87448630",
        "IPY_MODEL_7bf14d78e174414687ee34ef944a0ee9",
        "IPY_MODEL_3e65de7130274de2a2bb6286db562e89",
        "IPY_MODEL_0df7e762c24a4bff95215f7dc5c08547",
        "IPY_MODEL_163f8c7dcecf4dfa9f5f1565b0c1ed9a",
        "IPY_MODEL_10f0b74844014de492ab8088b5ec8edf"
       ],
       "layout": "IPY_MODEL_554891e62847424990360635c1796211"
      }
     },
     "f5373670035a4e9eb26bb516490ea7ca": {
      "model_module": "@jupyter-widgets/controls",
      "model_module_version": "1.5.0",
      "model_name": "DescriptionStyleModel",
      "state": {
       "description_width": ""
      }
     },
     "f54f8570b5624d1dabb59b29f54a1838": {
      "model_module": "@jupyter-widgets/controls",
      "model_module_version": "1.5.0",
      "model_name": "BoxModel",
      "state": {
       "children": [
        "IPY_MODEL_292e318376204411aec9561b91d4f2fd",
        "IPY_MODEL_4cdec6d3309e470aa05b7ec1fc3dad7e"
       ],
       "layout": "IPY_MODEL_ab2ea24974ee4d0095731c31db68a527"
      }
     },
     "f55ecef2e0d34686ba32f791e76f3127": {
      "model_module": "@jupyter-widgets/controls",
      "model_module_version": "1.5.0",
      "model_name": "BoxModel",
      "state": {
       "children": [
        "IPY_MODEL_c05b867a14f54abe9d76e784516d8044",
        "IPY_MODEL_5577faf43a6a4570863bd89df4fbd442",
        "IPY_MODEL_51755a966dd2478ca3573cdb19faa5a1",
        "IPY_MODEL_94c38655a0fc493cab3106c2a5bdce94"
       ],
       "layout": "IPY_MODEL_1ec6552c70354c56ba2621ad37f7f497"
      }
     },
     "f5c33ae31bc3412c9ee1f45945659a4f": {
      "model_module": "@jupyter-widgets/base",
      "model_module_version": "1.2.0",
      "model_name": "LayoutModel",
      "state": {
       "height": "250px",
       "justify_content": "center",
       "width": "400px"
      }
     },
     "f5c74afbdffe47668533e6a40f0b40aa": {
      "model_module": "@jupyter-widgets/controls",
      "model_module_version": "1.5.0",
      "model_name": "ButtonModel",
      "state": {
       "description": "Solve",
       "layout": "IPY_MODEL_9c842b3277b64cbd92fc3a1763813d5b",
       "style": "IPY_MODEL_3f4909dcb4994defab9cbcf24768408a"
      }
     },
     "f62d63184b394264b81ca6f9e4478fa7": {
      "model_module": "@jupyter-widgets/controls",
      "model_module_version": "1.5.0",
      "model_name": "VBoxModel",
      "state": {
       "children": [
        "IPY_MODEL_a90d039e542c48c2bc1784fa02a504e4",
        "IPY_MODEL_85c5b564616547d38799a588059b588e",
        "IPY_MODEL_af2ab37ca58547aa9dd99f63cdaa4a44"
       ],
       "layout": "IPY_MODEL_723a1204f29f49bfa051656d0f23508b"
      }
     },
     "f634663640de4fc8a89f5e49fa8d1cec": {
      "model_module": "@jupyter-widgets/base",
      "model_module_version": "1.2.0",
      "model_name": "LayoutModel",
      "state": {}
     },
     "f7535d1d475341d98c1e53589c247f06": {
      "model_module": "@jupyter-widgets/base",
      "model_module_version": "1.2.0",
      "model_name": "LayoutModel",
      "state": {
       "height": "120px",
       "width": "150px"
      }
     },
     "f796e34b6b82452591468bd84fedd702": {
      "model_module": "@jupyter-widgets/controls",
      "model_module_version": "1.5.0",
      "model_name": "DescriptionStyleModel",
      "state": {
       "description_width": ""
      }
     },
     "f7d10756bf8e446d8f8deb1712e2baa5": {
      "model_module": "@jupyter-widgets/base",
      "model_module_version": "1.2.0",
      "model_name": "LayoutModel",
      "state": {
       "height": "35px",
       "width": "40px"
      }
     },
     "f7d1a9352cec4258abdb17a0ab891256": {
      "model_module": "@jupyter-widgets/base",
      "model_module_version": "1.2.0",
      "model_name": "LayoutModel",
      "state": {}
     },
     "f81db706629142c286d97b14d0c1a6b4": {
      "model_module": "@jupyter-widgets/base",
      "model_module_version": "1.2.0",
      "model_name": "LayoutModel",
      "state": {
       "width": "140px"
      }
     },
     "f8427d4e1e47448cac575902a89dfdec": {
      "model_module": "@jupyter-widgets/controls",
      "model_module_version": "1.5.0",
      "model_name": "DescriptionStyleModel",
      "state": {
       "description_width": ""
      }
     },
     "f8631ebc3d3e45bfa7680094c6098bda": {
      "model_module": "@jupyter-widgets/controls",
      "model_module_version": "1.5.0",
      "model_name": "TextModel",
      "state": {
       "layout": "IPY_MODEL_0874150cd33b4f338f6b1c26dff102c7",
       "style": "IPY_MODEL_133b683d0c124aa2a5172728ef69292b",
       "value": "1"
      }
     },
     "f86675d7911447f193901ef27392eb84": {
      "model_module": "@jupyter-widgets/base",
      "model_module_version": "1.2.0",
      "model_name": "LayoutModel",
      "state": {
       "grid_template_columns": "repeat(3, 45px)"
      }
     },
     "f8b1ccbaeae04d7fbd6e627d27f0ae1b": {
      "model_module": "@jupyter-widgets/controls",
      "model_module_version": "1.5.0",
      "model_name": "TextModel",
      "state": {
       "layout": "IPY_MODEL_5064eb8b796f469bb47ced8ec32aba1e",
       "style": "IPY_MODEL_aff0ce3a49ba4dec880e9e9a151419b0",
       "value": "1"
      }
     },
     "f902553242bc4684aad7ac14ee43d76d": {
      "model_module": "@jupyter-widgets/controls",
      "model_module_version": "1.5.0",
      "model_name": "DescriptionStyleModel",
      "state": {
       "description_width": ""
      }
     },
     "f9ef4989885e4021af6d3f468c6b6766": {
      "model_module": "@jupyter-widgets/base",
      "model_module_version": "1.2.0",
      "model_name": "LayoutModel",
      "state": {
       "width": "150px"
      }
     },
     "fa01b811b3d9488188fb2151ec1618f8": {
      "model_module": "@jupyter-widgets/controls",
      "model_module_version": "1.5.0",
      "model_name": "TextModel",
      "state": {
       "layout": "IPY_MODEL_38b8c268bd754197a79daa5bfd085f20",
       "style": "IPY_MODEL_d88b4db45b6b41b38298c2b78dcdab22",
       "value": "3"
      }
     },
     "fa13014bbec444b987a7486d179c4580": {
      "model_module": "@jupyter-widgets/base",
      "model_module_version": "1.2.0",
      "model_name": "LayoutModel",
      "state": {}
     },
     "fa70c6577f534d4f82a04c5bd3079425": {
      "model_module": "@jupyter-widgets/base",
      "model_module_version": "1.2.0",
      "model_name": "LayoutModel",
      "state": {
       "flex_flow": "row wrap",
       "justify_content": "space-around"
      }
     },
     "fa821af80a3a4772b9a464c1fabdcb21": {
      "model_module": "@jupyter-widgets/controls",
      "model_module_version": "1.5.0",
      "model_name": "DescriptionStyleModel",
      "state": {
       "description_width": ""
      }
     },
     "fb4821278f6848e7a47e1d260426520b": {
      "model_module": "@jupyter-widgets/controls",
      "model_module_version": "1.5.0",
      "model_name": "DescriptionStyleModel",
      "state": {
       "description_width": ""
      }
     },
     "fb55f71a15194f26ba378714f515348c": {
      "model_module": "@jupyter-widgets/controls",
      "model_module_version": "1.5.0",
      "model_name": "DescriptionStyleModel",
      "state": {
       "description_width": ""
      }
     },
     "fb8d24043a964d2c9b3e1a53cceece26": {
      "model_module": "@jupyter-widgets/base",
      "model_module_version": "1.2.0",
      "model_name": "LayoutModel",
      "state": {}
     },
     "fbc26cd2c3594fa387723230fed0addf": {
      "model_module": "@jupyter-widgets/controls",
      "model_module_version": "1.5.0",
      "model_name": "HTMLMathModel",
      "state": {
       "layout": "IPY_MODEL_b8e80c3575e74820afc6bc6ec7e81961",
       "style": "IPY_MODEL_7615d14be96841aca7110ede5d0958b9",
       "value": "$$ \\color{green}{\\det A} = \\left| \n      \\begin{array}{rrr}\n          1 & 1 & -1\\\\\n          3 & 1 & 1\\\\\n          1 & -1 & 4\n      \\end{array}\n      \\right| = \\color{green}{ -2}$$ <br>$$ \\color{red}{ \\det A_1 } = \\left| \n      \\begin{array}{rrr}\n          \\color{blue}{ 3 } & 1 & -1\\\\\n          \\color{blue}{ 9 } & 1 & 1\\\\\n          \\color{blue}{ 8 } & -1 & 4\n      \\end{array}\n      \\right| = \\color{red}{ 4 }$$ <br>$$ x_{ 1 } =\\frac{ \\color{green}{\\det A_1}}{\\color{red}{ \\det A }} = \\frac{ 4 }{ -2 } = -2$$"
      }
     },
     "fbeb45a89d9e4e6489657e14a5daaa92": {
      "model_module": "@jupyter-widgets/controls",
      "model_module_version": "1.5.0",
      "model_name": "DescriptionStyleModel",
      "state": {
       "description_width": ""
      }
     },
     "fc11f3036a2340069e7ca92d35713c3e": {
      "model_module": "@jupyter-widgets/controls",
      "model_module_version": "1.5.0",
      "model_name": "TextModel",
      "state": {
       "layout": "IPY_MODEL_c4e9f4a8c7bf48249bb5b50320703732",
       "style": "IPY_MODEL_ff4e800f6e694ac199e63472e6c9ab5e",
       "value": "3"
      }
     },
     "fc158387fde148bbaf9dbceb691b8126": {
      "model_module": "@jupyter-widgets/base",
      "model_module_version": "1.2.0",
      "model_name": "LayoutModel",
      "state": {
       "height": "120px",
       "width": "150px"
      }
     },
     "fc430c42c5e04b30be13ba78f95fa31d": {
      "model_module": "@jupyter-widgets/controls",
      "model_module_version": "1.5.0",
      "model_name": "DescriptionStyleModel",
      "state": {
       "description_width": ""
      }
     },
     "fc4c4174441044b899207aa59789be53": {
      "model_module": "@jupyter-widgets/controls",
      "model_module_version": "1.5.0",
      "model_name": "TextModel",
      "state": {
       "layout": "IPY_MODEL_38b8c268bd754197a79daa5bfd085f20",
       "style": "IPY_MODEL_5aef4034fd464000ba9655b303430882",
       "value": "1"
      }
     },
     "fc7aea852cc9457884480bf77ba4e996": {
      "model_module": "@jupyter-widgets/controls",
      "model_module_version": "1.5.0",
      "model_name": "VBoxModel",
      "state": {
       "children": [
        "IPY_MODEL_db18d920de354559a0ec4854fed7d42c",
        "IPY_MODEL_da6ee6213c3943a9861712cbcaa96238",
        "IPY_MODEL_cee7ebcae4794e728147c6299aaa18ce"
       ],
       "layout": "IPY_MODEL_76559601901446d2b27b3f3737969fee"
      }
     },
     "fc8a8de401b94509b45c2033a94ec045": {
      "model_module": "@jupyter-widgets/controls",
      "model_module_version": "1.5.0",
      "model_name": "HTMLModel",
      "state": {
       "layout": "IPY_MODEL_c188e6cdfecc41ef9b719fae53da8bf7",
       "style": "IPY_MODEL_c0a4802849dd441083b21687ec5b4f55",
       "value": "Choose a variable to solve for."
      }
     },
     "fcc4fae526b44476ac1753d650d387fb": {
      "model_module": "@jupyter-widgets/controls",
      "model_module_version": "1.5.0",
      "model_name": "TextModel",
      "state": {
       "layout": "IPY_MODEL_38b8c268bd754197a79daa5bfd085f20",
       "style": "IPY_MODEL_3fe40215bcd54ca2aead77110131e712",
       "value": "4"
      }
     },
     "fcd26877cfb64fcda796f38b3d8a6bf8": {
      "model_module": "@jupyter-widgets/controls",
      "model_module_version": "1.5.0",
      "model_name": "TextModel",
      "state": {
       "layout": "IPY_MODEL_c4e9f4a8c7bf48249bb5b50320703732",
       "style": "IPY_MODEL_414686a093bc4669b0e75dcc53af3fc9",
       "value": "1"
      }
     },
     "fcd8548136094503a6a4fcc620546521": {
      "model_module": "@jupyter-widgets/controls",
      "model_module_version": "1.5.0",
      "model_name": "DescriptionStyleModel",
      "state": {
       "description_width": ""
      }
     },
     "fce19f453b274292909fcb7eaed39fc4": {
      "model_module": "@jupyter-widgets/controls",
      "model_module_version": "1.5.0",
      "model_name": "TextModel",
      "state": {
       "layout": "IPY_MODEL_7998cf86679645c9bf9a645c93e463c8",
       "style": "IPY_MODEL_125a6ed2d847455eb0bc42527c9f5bac",
       "value": "1"
      }
     },
     "fcf38a74a6c74b71beea2908dad7c716": {
      "model_module": "@jupyter-widgets/controls",
      "model_module_version": "1.5.0",
      "model_name": "TextModel",
      "state": {
       "layout": "IPY_MODEL_1e007c68dda5461984bff523c716db0a",
       "style": "IPY_MODEL_b425ca4c5b6a4a12b5870e74b85600cd",
       "value": "-1"
      }
     },
     "fd3430e2355249c5b0d8d40d16c05198": {
      "model_module": "@jupyter-widgets/base",
      "model_module_version": "1.2.0",
      "model_name": "LayoutModel",
      "state": {
       "height": "120px",
       "width": "250px"
      }
     },
     "fd89aaee1f7f4d4583a70a33b740ee9b": {
      "model_module": "@jupyter-widgets/controls",
      "model_module_version": "1.5.0",
      "model_name": "TextModel",
      "state": {
       "layout": "IPY_MODEL_2d3cc260859645ad9ef1bccbe1a463c7",
       "style": "IPY_MODEL_3591de0f4f0e41968f666c49a9692bc8",
       "value": "9"
      }
     },
     "fd8d91185b4f41f0a99603f6d89b53fe": {
      "model_module": "@jupyter-widgets/controls",
      "model_module_version": "1.5.0",
      "model_name": "DescriptionStyleModel",
      "state": {
       "description_width": ""
      }
     },
     "fe5694fd18d644b38c1a693baa37d4c4": {
      "model_module": "@jupyter-widgets/controls",
      "model_module_version": "1.5.0",
      "model_name": "ButtonStyleModel",
      "state": {}
     },
     "fecc8b03575e4a61b344400c70788191": {
      "model_module": "@jupyter-widgets/controls",
      "model_module_version": "1.5.0",
      "model_name": "DescriptionStyleModel",
      "state": {
       "description_width": ""
      }
     },
     "ff0136a80e324dabafe3c87a9fc28c7f": {
      "model_module": "@jupyter-widgets/base",
      "model_module_version": "1.2.0",
      "model_name": "LayoutModel",
      "state": {
       "width": "140px"
      }
     },
     "ff07ea5e46e14b55ba8c296d4c4c287a": {
      "model_module": "@jupyter-widgets/controls",
      "model_module_version": "1.5.0",
      "model_name": "TextModel",
      "state": {
       "layout": "IPY_MODEL_f10e93f25a7549fb8fcf6aa01db5a79e",
       "style": "IPY_MODEL_62188abecf3d454daf2c3553c7cfb1a2",
       "value": "1"
      }
     },
     "ff4666c8813048ee9dc62c714b752e13": {
      "model_module": "@jupyter-widgets/controls",
      "model_module_version": "1.5.0",
      "model_name": "DescriptionStyleModel",
      "state": {
       "description_width": ""
      }
     },
     "ff4e800f6e694ac199e63472e6c9ab5e": {
      "model_module": "@jupyter-widgets/controls",
      "model_module_version": "1.5.0",
      "model_name": "DescriptionStyleModel",
      "state": {
       "description_width": ""
      }
     },
     "ff55be5f6b4f45ed99b2779d0c2d1b62": {
      "model_module": "@jupyter-widgets/controls",
      "model_module_version": "1.5.0",
      "model_name": "VBoxModel",
      "state": {
       "children": [
        "IPY_MODEL_e07f9db733be4cc4a0f34be0751bb593",
        "IPY_MODEL_543b97e4312e47558f1647e861e4c8e9",
        "IPY_MODEL_b7520ab63b954c9cb37052f5fa6a5c6d"
       ],
       "layout": "IPY_MODEL_fb8d24043a964d2c9b3e1a53cceece26"
      }
     },
     "ff5d9d06c80b4884ab5103346b852cce": {
      "model_module": "@jupyter-widgets/controls",
      "model_module_version": "1.5.0",
      "model_name": "DescriptionStyleModel",
      "state": {
       "description_width": ""
      }
     },
     "ff67e04390e649c499c7b3dc538ebb73": {
      "model_module": "@jupyter-widgets/controls",
      "model_module_version": "1.5.0",
      "model_name": "TextModel",
      "state": {
       "layout": "IPY_MODEL_d7967788413544aa83e6234d99bfcfaf",
       "style": "IPY_MODEL_a2280e9942a9489fbf6b93e7e8501dfc",
       "value": "1"
      }
     },
     "ffa43d2a96df45b8abcfb67fe74319e2": {
      "model_module": "@jupyter-widgets/controls",
      "model_module_version": "1.5.0",
      "model_name": "DescriptionStyleModel",
      "state": {
       "description_width": ""
      }
     },
     "ffe087035ffa45c59334659b9046d837": {
      "model_module": "@jupyter-widgets/base",
      "model_module_version": "1.2.0",
      "model_name": "LayoutModel",
      "state": {}
     },
     "ffefb5eea0274872827df75c2f3622ee": {
      "model_module": "@jupyter-widgets/controls",
      "model_module_version": "1.5.0",
      "model_name": "BoxModel",
      "state": {
       "children": [
        "IPY_MODEL_22bc0bdb0749411e81a68e8320ff3254",
        "IPY_MODEL_b2150ea9b4a64599b0b45da9d0d2bd64",
        "IPY_MODEL_88c91259cd8642d9ad23c54d639d432e",
        "IPY_MODEL_65172673b6e24a8395423da8e1827d59"
       ],
       "layout": "IPY_MODEL_18d941fb98154764943576de68cac9ee"
      }
     }
    },
    "version_major": 2,
    "version_minor": 0
   }
  }
 },
 "nbformat": 4,
 "nbformat_minor": 4
}
