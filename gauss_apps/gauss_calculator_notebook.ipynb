{
 "cells": [
  {
   "cell_type": "markdown",
   "metadata": {},
   "source": [
    "# Gauss elimination calculator"
   ]
  },
  {
   "cell_type": "markdown",
   "metadata": {},
   "source": [
    "## Instructions"
   ]
  },
  {
   "cell_type": "markdown",
   "metadata": {},
   "source": [
    "To use this interactive notebook\n",
    "1. Click on the Kernel menu.\n",
    "2. Select the option \"Restart & Run All\".\n",
    "3. On the popup dialog, Click on the red button that says \"Restart and Run All Cells\"."
   ]
  },
  {
   "cell_type": "markdown",
   "metadata": {},
   "source": [
    "## Configuration"
   ]
  },
  {
   "cell_type": "markdown",
   "metadata": {},
   "source": [
    "The following lines contain configuration commands and libraries. Please do not modify."
   ]
  },
  {
   "cell_type": "code",
   "execution_count": 1,
   "metadata": {},
   "outputs": [],
   "source": [
    "%reset -s -f"
   ]
  },
  {
   "cell_type": "code",
   "execution_count": 2,
   "metadata": {},
   "outputs": [],
   "source": [
    "import sys\n",
    "sys.path.append('libraries')"
   ]
  },
  {
   "cell_type": "code",
   "execution_count": 3,
   "metadata": {},
   "outputs": [],
   "source": [
    "from gauss_app import run_app"
   ]
  },
  {
   "cell_type": "markdown",
   "metadata": {},
   "source": [
    "## Interactive app"
   ]
  },
  {
   "cell_type": "code",
   "execution_count": 4,
   "metadata": {},
   "outputs": [
    {
     "data": {
      "application/vnd.jupyter.widget-view+json": {
       "model_id": "c3401db989264411b0333dc4d0155914",
       "version_major": 2,
       "version_minor": 0
      },
      "text/plain": [
       "Box(children=(HBox(children=(HTMLMath(value='Enter here the values of the matrix $\\\\bf{A}$', layout=Layout(wid…"
      ]
     },
     "metadata": {},
     "output_type": "display_data"
    },
    {
     "data": {
      "application/vnd.jupyter.widget-view+json": {
       "model_id": "0714ca18a1834270b55558634b7870ea",
       "version_major": 2,
       "version_minor": 0
      },
      "text/plain": [
       "Box(children=(VBox(children=(Dropdown(description='Swap row', layout=Layout(width='150px'), options=('1', '2',…"
      ]
     },
     "metadata": {},
     "output_type": "display_data"
    },
    {
     "data": {
      "application/vnd.jupyter.widget-view+json": {
       "model_id": "efa063d2d9c842e58789aaf5f62d326a",
       "version_major": 2,
       "version_minor": 0
      },
      "text/plain": [
       "HTMLMath(value='Results will be shown here.', layout=Layout(height='300px', justify_content='center'))"
      ]
     },
     "metadata": {},
     "output_type": "display_data"
    }
   ],
   "source": [
    "run_app()"
   ]
  }
 ],
 "metadata": {
  "kernelspec": {
   "display_name": "Python 3",
   "language": "python",
   "name": "python3"
  },
  "language_info": {
   "codemirror_mode": {
    "name": "ipython",
    "version": 3
   },
   "file_extension": ".py",
   "mimetype": "text/x-python",
   "name": "python",
   "nbconvert_exporter": "python",
   "pygments_lexer": "ipython3",
   "version": "3.7.7"
  },
  "widgets": {
   "application/vnd.jupyter.widget-state+json": {
    "state": {
     "0007e9edcf9c4962b82849626b3d8d2c": {
      "model_module": "@jupyter-widgets/controls",
      "model_module_version": "1.5.0",
      "model_name": "HBoxModel",
      "state": {
       "children": [
        "IPY_MODEL_e65005353bf1418db6601012dc6b9af8",
        "IPY_MODEL_c3015bcbfc53442d896452040b5beb5e"
       ],
       "layout": "IPY_MODEL_0d1f13b839914f6a99cf34216894a3b9"
      }
     },
     "0011b98acade445c903fc724a314f6c6": {
      "model_module": "@jupyter-widgets/base",
      "model_module_version": "1.2.0",
      "model_name": "LayoutModel",
      "state": {
       "grid_template_columns": "repeat(3, 45px)"
      }
     },
     "00163c3bd6e3456992c71da0d3a83a01": {
      "model_module": "@jupyter-widgets/base",
      "model_module_version": "1.2.0",
      "model_name": "LayoutModel",
      "state": {}
     },
     "00377420b05c4f988f0c534a2323b1fd": {
      "model_module": "@jupyter-widgets/controls",
      "model_module_version": "1.5.0",
      "model_name": "ButtonModel",
      "state": {
       "description": "Swap rows",
       "layout": "IPY_MODEL_c9eb3a3c76f548a486e32a8ae2ff017e",
       "style": "IPY_MODEL_4af9411f4ebf480b8dd7073e122c7210"
      }
     },
     "008533c8e6514a46b4a5d0d32abdb081": {
      "model_module": "@jupyter-widgets/controls",
      "model_module_version": "1.5.0",
      "model_name": "TextModel",
      "state": {
       "layout": "IPY_MODEL_065f08ede0b647238ec761aa592646c7",
       "style": "IPY_MODEL_50e52a33327146348c5fab7b8e93d09a",
       "value": "2"
      }
     },
     "00b49682c323495090ab5aefc3e9969e": {
      "model_module": "@jupyter-widgets/controls",
      "model_module_version": "1.5.0",
      "model_name": "DescriptionStyleModel",
      "state": {
       "description_width": ""
      }
     },
     "00b623b2e55e485fba8af54f3e08e1dd": {
      "model_module": "@jupyter-widgets/controls",
      "model_module_version": "1.5.0",
      "model_name": "HBoxModel",
      "state": {
       "children": [
        "IPY_MODEL_7f30dec383c9460eac44556116156ea1",
        "IPY_MODEL_43d45095b3bb480787d374cb0e79e0c5"
       ],
       "layout": "IPY_MODEL_878a2fe2fb944fd4bd655d8a112ce0f2"
      }
     },
     "00bad89f10f84261b66ba902ec6dc01d": {
      "model_module": "@jupyter-widgets/base",
      "model_module_version": "1.2.0",
      "model_name": "LayoutModel",
      "state": {}
     },
     "00e4c11c5d2844d9891fa26d6399b838": {
      "model_module": "@jupyter-widgets/controls",
      "model_module_version": "1.5.0",
      "model_name": "HTMLMathModel",
      "state": {
       "layout": "IPY_MODEL_12d5685db0024de7a4566865c4969be2",
       "style": "IPY_MODEL_3310356d2e61490c85af607a748f2605",
       "value": "Enter here the values of the constant matrix $\\bf{B}$"
      }
     },
     "00eb8c2b2bcd4266ae00682af1b48ec4": {
      "model_module": "@jupyter-widgets/base",
      "model_module_version": "1.2.0",
      "model_name": "LayoutModel",
      "state": {}
     },
     "00f464d65fe34dfebf03a58c0152a346": {
      "model_module": "@jupyter-widgets/base",
      "model_module_version": "1.2.0",
      "model_name": "LayoutModel",
      "state": {}
     },
     "010b35601e864c298ae9f05f519b4a6c": {
      "model_module": "@jupyter-widgets/controls",
      "model_module_version": "1.5.0",
      "model_name": "VBoxModel",
      "state": {
       "children": [
        "IPY_MODEL_15e37a6df70f4bd2a450d445745adf98",
        "IPY_MODEL_9451f37a7732424cb1f6a513095d1cdc"
       ],
       "layout": "IPY_MODEL_fcf60882fc0d49298f9b9ab685e18cfb"
      }
     },
     "010d4e71670e454f8ccb68d6704e79f5": {
      "model_module": "@jupyter-widgets/controls",
      "model_module_version": "1.5.0",
      "model_name": "DescriptionStyleModel",
      "state": {
       "description_width": ""
      }
     },
     "01638fc262524c519e5136a0baf2df37": {
      "model_module": "@jupyter-widgets/base",
      "model_module_version": "1.2.0",
      "model_name": "LayoutModel",
      "state": {}
     },
     "01741f2f65e54a6e996c9f63eebb3a4a": {
      "model_module": "@jupyter-widgets/controls",
      "model_module_version": "1.5.0",
      "model_name": "DescriptionStyleModel",
      "state": {
       "description_width": ""
      }
     },
     "017cf17c585148b18d0df195df307086": {
      "model_module": "@jupyter-widgets/controls",
      "model_module_version": "1.5.0",
      "model_name": "HTMLModel",
      "state": {
       "layout": "IPY_MODEL_9c2115dcd23149b4b1539d130af7e9b0",
       "style": "IPY_MODEL_b773511b817b4faa8d10821a2846f86f",
       "value": "Click the button below to start the calculator"
      }
     },
     "0221b6529c754201b043eb2e1435cc33": {
      "model_module": "@jupyter-widgets/controls",
      "model_module_version": "1.5.0",
      "model_name": "DescriptionStyleModel",
      "state": {
       "description_width": ""
      }
     },
     "022ab57b395d41cfa17e02b5ccf1ca8a": {
      "model_module": "@jupyter-widgets/controls",
      "model_module_version": "1.5.0",
      "model_name": "TextModel",
      "state": {
       "layout": "IPY_MODEL_a6b672bf88094d8fa8327c74293c6a55",
       "style": "IPY_MODEL_29656c331b434cb9a44a81e17fd9d846",
       "value": "-1"
      }
     },
     "022c8f73b6ff47ed9f1d733b8a5b9b68": {
      "model_module": "@jupyter-widgets/controls",
      "model_module_version": "1.5.0",
      "model_name": "DescriptionStyleModel",
      "state": {
       "description_width": ""
      }
     },
     "022ccd1e1bf4465294356a5c7c92aedf": {
      "model_module": "@jupyter-widgets/base",
      "model_module_version": "1.2.0",
      "model_name": "LayoutModel",
      "state": {}
     },
     "025e86c63af24d5fb26d7bc2f65a34c6": {
      "model_module": "@jupyter-widgets/controls",
      "model_module_version": "1.5.0",
      "model_name": "DropdownModel",
      "state": {
       "_options_labels": [
        "1",
        "2",
        "3"
       ],
       "description": "and row",
       "index": 1,
       "layout": "IPY_MODEL_76fc43357db64550a44cc4c72a5a5a1c",
       "style": "IPY_MODEL_5fd7926e9287424e9192f573ec327ef6"
      }
     },
     "0261727a0a2e41e583fb6712a55d8f5e": {
      "model_module": "@jupyter-widgets/controls",
      "model_module_version": "1.5.0",
      "model_name": "DescriptionStyleModel",
      "state": {
       "description_width": ""
      }
     },
     "0265a5db2db941e8835f319be55ef459": {
      "model_module": "@jupyter-widgets/controls",
      "model_module_version": "1.5.0",
      "model_name": "DescriptionStyleModel",
      "state": {
       "description_width": ""
      }
     },
     "0288734af88e4b0bb76afc602227642e": {
      "model_module": "@jupyter-widgets/controls",
      "model_module_version": "1.5.0",
      "model_name": "TextModel",
      "state": {
       "layout": "IPY_MODEL_1ceaf9c9ac774ae985cae0c34af76539",
       "style": "IPY_MODEL_96e694cf6c574adeb0604bd1b34eb473",
       "value": "7"
      }
     },
     "028fe965c3f44a7892542246327f7496": {
      "model_module": "@jupyter-widgets/base",
      "model_module_version": "1.2.0",
      "model_name": "LayoutModel",
      "state": {
       "width": "150px"
      }
     },
     "02918147d93c4a498574ec9ca08427b7": {
      "model_module": "@jupyter-widgets/controls",
      "model_module_version": "1.5.0",
      "model_name": "VBoxModel",
      "state": {
       "children": [
        "IPY_MODEL_470ac3a13d2c4ecf87b707643a7aefdd",
        "IPY_MODEL_6f73f61d7ee94767b9144f8de012ffbf",
        "IPY_MODEL_fda7ac6e0efd43e3a01dcb24dda71e46"
       ],
       "layout": "IPY_MODEL_62a520007c9f4e4ea9170b2f0101dc72"
      }
     },
     "02ab505bdb774066b289b53d7f5cc40c": {
      "model_module": "@jupyter-widgets/controls",
      "model_module_version": "1.5.0",
      "model_name": "TextModel",
      "state": {
       "layout": "IPY_MODEL_109f6d462a004bdd9a95542348d778f8",
       "style": "IPY_MODEL_ac86d81545b64d17a98d72f3df6e61a7",
       "value": "2"
      }
     },
     "02abb2b51ddf4f7bb245ca3c0ed34380": {
      "model_module": "@jupyter-widgets/controls",
      "model_module_version": "1.5.0",
      "model_name": "TextModel",
      "state": {
       "layout": "IPY_MODEL_9f4d9e00ae3e470a8d024478444df27d",
       "style": "IPY_MODEL_8128addc87474a52b7302af4a9dd1a21",
       "value": "2"
      }
     },
     "02d02a3a41104a4cb1ce19dd6231e7b0": {
      "model_module": "@jupyter-widgets/controls",
      "model_module_version": "1.5.0",
      "model_name": "TextModel",
      "state": {
       "layout": "IPY_MODEL_35e7cd5dc3a344c7867ddf08fc7e1130",
       "style": "IPY_MODEL_eeef97788e59480e8ae35444b0d4f51f",
       "value": "-1"
      }
     },
     "02d54be0240c42b18994aa9c9b3b31dd": {
      "model_module": "@jupyter-widgets/base",
      "model_module_version": "1.2.0",
      "model_name": "LayoutModel",
      "state": {}
     },
     "02e1d391f4ac45d2b0dd6de34d0180bb": {
      "model_module": "@jupyter-widgets/controls",
      "model_module_version": "1.5.0",
      "model_name": "DescriptionStyleModel",
      "state": {
       "description_width": ""
      }
     },
     "02fa46bfb10b44d5b5d6851008cca90d": {
      "model_module": "@jupyter-widgets/controls",
      "model_module_version": "1.5.0",
      "model_name": "DescriptionStyleModel",
      "state": {
       "description_width": ""
      }
     },
     "031a25d7c45a4ad9b687ddde73f1b979": {
      "model_module": "@jupyter-widgets/controls",
      "model_module_version": "1.5.0",
      "model_name": "DescriptionStyleModel",
      "state": {
       "description_width": ""
      }
     },
     "0373ebbff55945a1934f6beb2ba9b566": {
      "model_module": "@jupyter-widgets/base",
      "model_module_version": "1.2.0",
      "model_name": "LayoutModel",
      "state": {
       "width": "90px"
      }
     },
     "038d0b0c04a24d18bd246f469c06964b": {
      "model_module": "@jupyter-widgets/base",
      "model_module_version": "1.2.0",
      "model_name": "LayoutModel",
      "state": {
       "width": "90px"
      }
     },
     "0398204f33394a48b552143a1a5a1e59": {
      "model_module": "@jupyter-widgets/controls",
      "model_module_version": "1.5.0",
      "model_name": "TextModel",
      "state": {
       "layout": "IPY_MODEL_bbd5dabd53c049fca9a7f5878437cad9",
       "style": "IPY_MODEL_95dde4496c77470f913e9441131deb62",
       "value": "4"
      }
     },
     "03b560bf96ee41318f455c2fa0bec6e6": {
      "model_module": "@jupyter-widgets/controls",
      "model_module_version": "1.5.0",
      "model_name": "HTMLMathModel",
      "state": {
       "layout": "IPY_MODEL_c5063591b116485a9ea4d294b57eed86",
       "style": "IPY_MODEL_a5cbea5fa926421aa5669a4ac7a9d66b",
       "value": "Enter here the values of the right hand side vector $b$"
      }
     },
     "03c3b5c23d544bbdbf63789c60fc3379": {
      "model_module": "@jupyter-widgets/controls",
      "model_module_version": "1.5.0",
      "model_name": "HBoxModel",
      "state": {
       "children": [
        "IPY_MODEL_9b595882bcef4c6eac513d65019fb4ef",
        "IPY_MODEL_10d93b62a74c488d8c6f11595fa0e58d"
       ],
       "layout": "IPY_MODEL_e3534da883f446e294ac72203b7f77e0"
      }
     },
     "03d1158065b645c89bf19acd9fb7023e": {
      "model_module": "@jupyter-widgets/controls",
      "model_module_version": "1.5.0",
      "model_name": "DescriptionStyleModel",
      "state": {
       "description_width": ""
      }
     },
     "03da79831a3b488e9722475f701fb1c5": {
      "model_module": "@jupyter-widgets/controls",
      "model_module_version": "1.5.0",
      "model_name": "BoxModel",
      "state": {
       "children": [
        "IPY_MODEL_667daf33f88743978d23a1f8bddc7c40",
        "IPY_MODEL_36df80a41b054c1c90fa58a10d0c498f",
        "IPY_MODEL_1beeb7548f8243f983f579ca4de4c670"
       ],
       "layout": "IPY_MODEL_4e3061f1cfe24fc784d7e3959968dbfb"
      }
     },
     "040bf9e24c294c4f92db343361cda087": {
      "model_module": "@jupyter-widgets/controls",
      "model_module_version": "1.5.0",
      "model_name": "TextModel",
      "state": {
       "layout": "IPY_MODEL_1b785352cb1a4de487a9efaa222c7a96",
       "style": "IPY_MODEL_0e210148ebe44a0cb2cc0654112bf4b1",
       "value": "1"
      }
     },
     "042c3f295f0349f6a18d8354e3490e05": {
      "model_module": "@jupyter-widgets/base",
      "model_module_version": "1.2.0",
      "model_name": "LayoutModel",
      "state": {
       "width": "150px"
      }
     },
     "043f92e7e9b04dc596161e769fe417c7": {
      "model_module": "@jupyter-widgets/controls",
      "model_module_version": "1.5.0",
      "model_name": "DescriptionStyleModel",
      "state": {
       "description_width": ""
      }
     },
     "04470ade57e34f9f8741e6ab65ef1567": {
      "model_module": "@jupyter-widgets/controls",
      "model_module_version": "1.5.0",
      "model_name": "TextModel",
      "state": {
       "layout": "IPY_MODEL_250753b918e0432c803452a019d33c5c",
       "style": "IPY_MODEL_23dd1ca78ec447f9babdc3ef3b3c5cec",
       "value": "-1"
      }
     },
     "04893e74f4054d4f9bcd50d44748d01a": {
      "model_module": "@jupyter-widgets/controls",
      "model_module_version": "1.5.0",
      "model_name": "DescriptionStyleModel",
      "state": {
       "description_width": ""
      }
     },
     "04cdc9fd85474cc3a01bcac1d60f7671": {
      "model_module": "@jupyter-widgets/controls",
      "model_module_version": "1.5.0",
      "model_name": "TextModel",
      "state": {
       "layout": "IPY_MODEL_f28c3c7f5ced4384b8a9eca6bc4c00fd",
       "style": "IPY_MODEL_3336ef4628934ae6976d52d6d7bbc184",
       "value": "5"
      }
     },
     "04d25003413f4f508e0f29e3e6337f09": {
      "model_module": "@jupyter-widgets/controls",
      "model_module_version": "1.5.0",
      "model_name": "TextModel",
      "state": {
       "layout": "IPY_MODEL_1ceaf9c9ac774ae985cae0c34af76539",
       "style": "IPY_MODEL_d0d4de5f8ea748fd8a2b2cf87ee9a044",
       "value": "2"
      }
     },
     "04db686b7a50431db5c0a215a93abaf4": {
      "model_module": "@jupyter-widgets/controls",
      "model_module_version": "1.5.0",
      "model_name": "DescriptionStyleModel",
      "state": {
       "description_width": ""
      }
     },
     "04f179f159cd4390a1679b7cdfd63742": {
      "model_module": "@jupyter-widgets/base",
      "model_module_version": "1.2.0",
      "model_name": "LayoutModel",
      "state": {}
     },
     "05013bbe756c4219808b1fc1059082d6": {
      "model_module": "@jupyter-widgets/base",
      "model_module_version": "1.2.0",
      "model_name": "LayoutModel",
      "state": {
       "flex_flow": "row wrap",
       "justify_content": "space-around"
      }
     },
     "05289a0e205147fbb94813186d954274": {
      "model_module": "@jupyter-widgets/base",
      "model_module_version": "1.2.0",
      "model_name": "LayoutModel",
      "state": {}
     },
     "052b1e05722c4f84a8a8afdf4c8bd50e": {
      "model_module": "@jupyter-widgets/controls",
      "model_module_version": "1.5.0",
      "model_name": "HBoxModel",
      "state": {
       "children": [
        "IPY_MODEL_615c999d17af4440a729ff54b432ca1b",
        "IPY_MODEL_42737598ceb94212803e8b6f602da1e3"
       ],
       "layout": "IPY_MODEL_d1672121b53b4b69a962b46ee528c6ec"
      }
     },
     "0539bbb194854c9e9915eeca31595aef": {
      "model_module": "@jupyter-widgets/base",
      "model_module_version": "1.2.0",
      "model_name": "LayoutModel",
      "state": {}
     },
     "054f8067bb1648fbb09e3fb64dbf4312": {
      "model_module": "@jupyter-widgets/base",
      "model_module_version": "1.2.0",
      "model_name": "LayoutModel",
      "state": {
       "flex_flow": "row wrap",
       "justify_content": "space-around"
      }
     },
     "05826fc3d6c1452dbd996f50056eff0b": {
      "model_module": "@jupyter-widgets/controls",
      "model_module_version": "1.5.0",
      "model_name": "HBoxModel",
      "state": {
       "children": [
        "IPY_MODEL_45f36584e17d4cb799fe282581839c92",
        "IPY_MODEL_989b38be82d14a488904e5186fcb3161",
        "IPY_MODEL_dc8cab5b981849e58feddbd219c43be8"
       ],
       "layout": "IPY_MODEL_55613864bf2b49b6808a5965f523fee9"
      }
     },
     "058a930ab69a46fca51409202ea0de9f": {
      "model_module": "@jupyter-widgets/controls",
      "model_module_version": "1.5.0",
      "model_name": "DescriptionStyleModel",
      "state": {
       "description_width": ""
      }
     },
     "05b849ccfedf4cb1b4e2ba4eac340f85": {
      "model_module": "@jupyter-widgets/controls",
      "model_module_version": "1.5.0",
      "model_name": "TextModel",
      "state": {
       "layout": "IPY_MODEL_f9ebc65ea59246e1a7d2bcdb072b46e0",
       "style": "IPY_MODEL_2f400410b9a44984942dc5a2ab587839",
       "value": "0"
      }
     },
     "05b9945f99b74c8aab7d9fdf04aff964": {
      "model_module": "@jupyter-widgets/controls",
      "model_module_version": "1.5.0",
      "model_name": "HBoxModel",
      "state": {
       "children": [
        "IPY_MODEL_6e57efaac86c4b869c692c0dd290d8ca",
        "IPY_MODEL_cf1ae174465243cf846771558cc3a7e5"
       ],
       "layout": "IPY_MODEL_c3fdb0021eb74189ac9646c05ed1c778"
      }
     },
     "05d824fc732b462cbc65da1fe3b445de": {
      "model_module": "@jupyter-widgets/controls",
      "model_module_version": "1.5.0",
      "model_name": "DescriptionStyleModel",
      "state": {
       "description_width": ""
      }
     },
     "05e862dd72184112a12ce0b135b95e58": {
      "model_module": "@jupyter-widgets/controls",
      "model_module_version": "1.5.0",
      "model_name": "TextModel",
      "state": {
       "description": "times",
       "layout": "IPY_MODEL_b9bafd0b6a3a4e07905bdc0b20ac952d",
       "style": "IPY_MODEL_f5b73808be344a048b1e69097228586d",
       "value": "1"
      }
     },
     "05f1926266754cfd91626bb84964269a": {
      "model_module": "@jupyter-widgets/base",
      "model_module_version": "1.2.0",
      "model_name": "LayoutModel",
      "state": {}
     },
     "05f7501b90f348f89d7ae8e61517a072": {
      "model_module": "@jupyter-widgets/controls",
      "model_module_version": "1.5.0",
      "model_name": "DescriptionStyleModel",
      "state": {
       "description_width": ""
      }
     },
     "0631eb28ef7042c39e2888def56f7014": {
      "model_module": "@jupyter-widgets/controls",
      "model_module_version": "1.5.0",
      "model_name": "DescriptionStyleModel",
      "state": {
       "description_width": ""
      }
     },
     "065607d587154dd0bf33efd59c9fd2e5": {
      "model_module": "@jupyter-widgets/controls",
      "model_module_version": "1.5.0",
      "model_name": "TextModel",
      "state": {
       "layout": "IPY_MODEL_250753b918e0432c803452a019d33c5c",
       "style": "IPY_MODEL_e2961294fff944cea7162e05b0c33c87",
       "value": "5"
      }
     },
     "065f08ede0b647238ec761aa592646c7": {
      "model_module": "@jupyter-widgets/base",
      "model_module_version": "1.2.0",
      "model_name": "LayoutModel",
      "state": {
       "height": "35px",
       "width": "30px"
      }
     },
     "067f2e63bd504995866dd23c4c0461b6": {
      "model_module": "@jupyter-widgets/controls",
      "model_module_version": "1.5.0",
      "model_name": "DescriptionStyleModel",
      "state": {
       "description_width": ""
      }
     },
     "069a925a480540a1b410682f093ae38a": {
      "model_module": "@jupyter-widgets/base",
      "model_module_version": "1.2.0",
      "model_name": "LayoutModel",
      "state": {}
     },
     "06a8c3b3818c4583982330e63f0e9d22": {
      "model_module": "@jupyter-widgets/controls",
      "model_module_version": "1.5.0",
      "model_name": "DescriptionStyleModel",
      "state": {
       "description_width": ""
      }
     },
     "06a8ce91817b4818a12394322f1e6548": {
      "model_module": "@jupyter-widgets/controls",
      "model_module_version": "1.5.0",
      "model_name": "TextModel",
      "state": {
       "layout": "IPY_MODEL_383a1c5f5f0c418b84e9a50a2a78d25a",
       "style": "IPY_MODEL_479eb8fdf02b41338447cfe224c0ab30",
       "value": "1"
      }
     },
     "06b62d54e2f04aa38ac4733df7852070": {
      "model_module": "@jupyter-widgets/base",
      "model_module_version": "1.2.0",
      "model_name": "LayoutModel",
      "state": {}
     },
     "06cc1cfdccc1448fb51828b7f8a750b0": {
      "model_module": "@jupyter-widgets/controls",
      "model_module_version": "1.5.0",
      "model_name": "DescriptionStyleModel",
      "state": {
       "description_width": ""
      }
     },
     "06dcdafd05a042d5a13a3b6e1bb87e12": {
      "model_module": "@jupyter-widgets/controls",
      "model_module_version": "1.5.0",
      "model_name": "TextModel",
      "state": {
       "layout": "IPY_MODEL_f9ebc65ea59246e1a7d2bcdb072b46e0",
       "style": "IPY_MODEL_b1b5fa7f64304b42abdce6ce4da43d5e",
       "value": "-1"
      }
     },
     "06f5fe5bc9534d6e8d7adbf04c081b11": {
      "model_module": "@jupyter-widgets/controls",
      "model_module_version": "1.5.0",
      "model_name": "DropdownModel",
      "state": {
       "_options_labels": [
        "1",
        "2",
        "3"
       ],
       "description": "Add row",
       "index": 0,
       "layout": "IPY_MODEL_2d282b9121bb4c73a4f1b22458413649",
       "style": "IPY_MODEL_9e0ead81d8cb4c44b526642f8d8a47d0"
      }
     },
     "06f781b1145042f4aaaf169bf0cf1c99": {
      "model_module": "@jupyter-widgets/controls",
      "model_module_version": "1.5.0",
      "model_name": "ButtonModel",
      "state": {
       "description": "Multiply row",
       "layout": "IPY_MODEL_f5ec38601bdb424e86fdfdb7dc1728ef",
       "style": "IPY_MODEL_b188595e7cc8401cb3c6e765f8e86dfd"
      }
     },
     "0714ca18a1834270b55558634b7870ea": {
      "model_module": "@jupyter-widgets/controls",
      "model_module_version": "1.5.0",
      "model_name": "BoxModel",
      "state": {
       "children": [
        "IPY_MODEL_a8641ac40b9e4875b913b94509fb849c",
        "IPY_MODEL_09be0e1c8cc147e8b2a96c449cffe50a",
        "IPY_MODEL_3f3cee9a62bb46ad8ec02b71e85137e8"
       ],
       "layout": "IPY_MODEL_1df46a14c6a34c118aaefda4eed4bd84"
      }
     },
     "072aca35362c468e993078205183437a": {
      "model_module": "@jupyter-widgets/controls",
      "model_module_version": "1.5.0",
      "model_name": "ButtonModel",
      "state": {
       "description": "Add rows",
       "layout": "IPY_MODEL_28cda9ace8814fc6b9e4351cfac64ded",
       "style": "IPY_MODEL_feabf1f5f53347e59dceab28d105d12f"
      }
     },
     "072b6fbe005546e89b4b906e1b9e4f54": {
      "model_module": "@jupyter-widgets/controls",
      "model_module_version": "1.5.0",
      "model_name": "BoxModel",
      "state": {
       "children": [
        "IPY_MODEL_0007e9edcf9c4962b82849626b3d8d2c",
        "IPY_MODEL_37df36448f5c405194729a2c35c33d59",
        "IPY_MODEL_6ceb3e39013c44b7abf9bb4802981df2",
        "IPY_MODEL_238dc26deb124d2e826066be38802c6d"
       ],
       "layout": "IPY_MODEL_a4ecbf0cb990401bbe345b2363bdcd94"
      }
     },
     "072b7d2210c44b33b9e99bb7c75176f4": {
      "model_module": "@jupyter-widgets/base",
      "model_module_version": "1.2.0",
      "model_name": "LayoutModel",
      "state": {
       "width": "150px"
      }
     },
     "07326cfa60494e6083ebb125f32a41f6": {
      "model_module": "@jupyter-widgets/controls",
      "model_module_version": "1.5.0",
      "model_name": "DescriptionStyleModel",
      "state": {
       "description_width": ""
      }
     },
     "07361b8935ce41ccb877278c622db033": {
      "model_module": "@jupyter-widgets/base",
      "model_module_version": "1.2.0",
      "model_name": "LayoutModel",
      "state": {}
     },
     "0749e51fce5741c2be11a06622082a52": {
      "model_module": "@jupyter-widgets/controls",
      "model_module_version": "1.5.0",
      "model_name": "DropdownModel",
      "state": {
       "_options_labels": [
        "1",
        "2",
        "3"
       ],
       "description": "Row",
       "index": 0,
       "layout": "IPY_MODEL_0a39b7942fa149a6af52cec6d0d541c0",
       "style": "IPY_MODEL_06a8c3b3818c4583982330e63f0e9d22"
      }
     },
     "0766ced820424d41bd624dbd87376402": {
      "model_module": "@jupyter-widgets/base",
      "model_module_version": "1.2.0",
      "model_name": "LayoutModel",
      "state": {}
     },
     "078e01adcc8140ad8e31821dcdcc39a9": {
      "model_module": "@jupyter-widgets/controls",
      "model_module_version": "1.5.0",
      "model_name": "HBoxModel",
      "state": {
       "children": [
        "IPY_MODEL_cea70f92caf84ed1b91ca470f821752c",
        "IPY_MODEL_c198f856f502450dbd01b0210a624e44"
       ],
       "layout": "IPY_MODEL_76c8b8d59e96486391b9bb003baa3519"
      }
     },
     "078eba34603b4abe9af284bd7c36e506": {
      "model_module": "@jupyter-widgets/controls",
      "model_module_version": "1.5.0",
      "model_name": "TextModel",
      "state": {
       "layout": "IPY_MODEL_d7c4f11771b948fa9166cf5745d8d1c9",
       "style": "IPY_MODEL_cb1fcdc874d944bd97c508444fb20f5f",
       "value": "-1"
      }
     },
     "07c1ec7739c84ab9ac6cb72b1f3c64f1": {
      "model_module": "@jupyter-widgets/base",
      "model_module_version": "1.2.0",
      "model_name": "LayoutModel",
      "state": {}
     },
     "07d0f9a0cf9a4c409539873163d5dc90": {
      "model_module": "@jupyter-widgets/controls",
      "model_module_version": "1.5.0",
      "model_name": "DescriptionStyleModel",
      "state": {
       "description_width": ""
      }
     },
     "07deda7b92004be580f11a9181992118": {
      "model_module": "@jupyter-widgets/controls",
      "model_module_version": "1.5.0",
      "model_name": "HBoxModel",
      "state": {
       "children": [
        "IPY_MODEL_4cdb7b5a038845098e289e53b2125a72",
        "IPY_MODEL_e7399f40ac1340359c918cd0f0671b93"
       ],
       "layout": "IPY_MODEL_f66d21d8cba34e41b0debead8d73fbea"
      }
     },
     "07fd7c61f6cd4f3fb88a8f43df3d0996": {
      "model_module": "@jupyter-widgets/controls",
      "model_module_version": "1.5.0",
      "model_name": "DescriptionStyleModel",
      "state": {
       "description_width": ""
      }
     },
     "0801093bfb36451398ac22fe324a5a7f": {
      "model_module": "@jupyter-widgets/base",
      "model_module_version": "1.2.0",
      "model_name": "LayoutModel",
      "state": {}
     },
     "080e245494a84bc19b59b3de9ffee19c": {
      "model_module": "@jupyter-widgets/controls",
      "model_module_version": "1.5.0",
      "model_name": "DescriptionStyleModel",
      "state": {
       "description_width": ""
      }
     },
     "082fd162475847578bb712bab74da44d": {
      "model_module": "@jupyter-widgets/controls",
      "model_module_version": "1.5.0",
      "model_name": "TextModel",
      "state": {
       "layout": "IPY_MODEL_065f08ede0b647238ec761aa592646c7",
       "style": "IPY_MODEL_413babb57e214caaa1f8047aabe85756",
       "value": "7"
      }
     },
     "08367ae695c645c0959ca3bc414774dd": {
      "model_module": "@jupyter-widgets/controls",
      "model_module_version": "1.5.0",
      "model_name": "TextModel",
      "state": {
       "layout": "IPY_MODEL_5a0c24727aa941b48d996c0a1f0c2bf8",
       "style": "IPY_MODEL_07fd7c61f6cd4f3fb88a8f43df3d0996",
       "value": "-1"
      }
     },
     "0869ce1872ca4ffebaac25a16ebba8d2": {
      "model_module": "@jupyter-widgets/controls",
      "model_module_version": "1.5.0",
      "model_name": "VBoxModel",
      "state": {
       "children": [
        "IPY_MODEL_0c8b7dbc92ac421786a6889588222939",
        "IPY_MODEL_8b21283e5ccb40d79395fb7e071c8402",
        "IPY_MODEL_bc36e6dc8a2c481d997e813232456ea7"
       ],
       "layout": "IPY_MODEL_c67cd244a91644a3a5260ad3bcaa3af0"
      }
     },
     "086a64e8bcf44878bb6439563fd399cf": {
      "model_module": "@jupyter-widgets/base",
      "model_module_version": "1.2.0",
      "model_name": "LayoutModel",
      "state": {
       "width": "150px"
      }
     },
     "0879d44faf45430888f326841a202dea": {
      "model_module": "@jupyter-widgets/controls",
      "model_module_version": "1.5.0",
      "model_name": "TextModel",
      "state": {
       "layout": "IPY_MODEL_d7c4f11771b948fa9166cf5745d8d1c9",
       "style": "IPY_MODEL_66238458e7304b90a18fb02c2342850b",
       "value": "2"
      }
     },
     "087fac6b26f944b29ee2e8d87cec1b24": {
      "model_module": "@jupyter-widgets/controls",
      "model_module_version": "1.5.0",
      "model_name": "TextModel",
      "state": {
       "layout": "IPY_MODEL_776389df997545fcab086c0233cb0ab0",
       "style": "IPY_MODEL_8a8f51ce59da445cab30a74817bb10fe",
       "value": "7"
      }
     },
     "088627021db34591b402142767cc991b": {
      "model_module": "@jupyter-widgets/controls",
      "model_module_version": "1.5.0",
      "model_name": "DescriptionStyleModel",
      "state": {
       "description_width": ""
      }
     },
     "088aa52508cf4a47b1bb596a6b68f8ed": {
      "model_module": "@jupyter-widgets/controls",
      "model_module_version": "1.5.0",
      "model_name": "HTMLMathModel",
      "state": {
       "layout": "IPY_MODEL_c0087dcef37d4938880a2c50087ae282",
       "style": "IPY_MODEL_8eb7f269d05d4f68bfe127fc91489dd4",
       "value": "The augmented matrix will appear here."
      }
     },
     "08b2a5799774495a8b28a770cb22e3db": {
      "model_module": "@jupyter-widgets/base",
      "model_module_version": "1.2.0",
      "model_name": "LayoutModel",
      "state": {}
     },
     "08c391716f754d7d87cc4cfe55a330ac": {
      "model_module": "@jupyter-widgets/controls",
      "model_module_version": "1.5.0",
      "model_name": "TextModel",
      "state": {
       "layout": "IPY_MODEL_065f08ede0b647238ec761aa592646c7",
       "style": "IPY_MODEL_e85b60d5795940b78b2b0309d777c459",
       "value": "7"
      }
     },
     "08e0f164719a49af9db853200b5b3233": {
      "model_module": "@jupyter-widgets/controls",
      "model_module_version": "1.5.0",
      "model_name": "VBoxModel",
      "state": {
       "children": [
        "IPY_MODEL_aa169e8431314d0a99af0fd9e195db7f",
        "IPY_MODEL_7540fd173e8f4d2a946df908e7e2e407"
       ],
       "layout": "IPY_MODEL_c8115f76758b49f5b3527c1149a4013d"
      }
     },
     "08e87bb5ac5b4062bb89c33b52ec02a7": {
      "model_module": "@jupyter-widgets/controls",
      "model_module_version": "1.5.0",
      "model_name": "VBoxModel",
      "state": {
       "children": [
        "IPY_MODEL_a87133d2b4c34130a07bc303b10257e4",
        "IPY_MODEL_dea65e988b10490ca341f9a9434a932f",
        "IPY_MODEL_6187dc080e784ce1b06e472048647c3c"
       ],
       "layout": "IPY_MODEL_d2d4b9ce88014140ab49c9adbfc4f41f"
      }
     },
     "08fb17f1d1c941a8b667c74d15ba69eb": {
      "model_module": "@jupyter-widgets/controls",
      "model_module_version": "1.5.0",
      "model_name": "TextModel",
      "state": {
       "description": "times",
       "layout": "IPY_MODEL_82e3bf20138147fe85c0752ff97fac41",
       "style": "IPY_MODEL_b602ef5e5a3d4a2f899d0509810b9022",
       "value": "1"
      }
     },
     "090d5a4f63a74b7e9fe7ecb9626faebf": {
      "model_module": "@jupyter-widgets/base",
      "model_module_version": "1.2.0",
      "model_name": "LayoutModel",
      "state": {}
     },
     "09347a6c033445648a5b38845b2cffd8": {
      "model_module": "@jupyter-widgets/controls",
      "model_module_version": "1.5.0",
      "model_name": "HBoxModel",
      "state": {
       "children": [
        "IPY_MODEL_d4faf9dbbbf14986882b5b9b12ba1401",
        "IPY_MODEL_c923f02de59345ea95cce81c42c7f136",
        "IPY_MODEL_6906c8e64a804184b1933571548a0b24"
       ],
       "layout": "IPY_MODEL_6809d34d186541ef91d5cfd024fc9782"
      }
     },
     "093d54d2ff3c4700b2e9e95c41589838": {
      "model_module": "@jupyter-widgets/controls",
      "model_module_version": "1.5.0",
      "model_name": "DescriptionStyleModel",
      "state": {
       "description_width": ""
      }
     },
     "095f0bb465814d788951e17aee133a42": {
      "model_module": "@jupyter-widgets/base",
      "model_module_version": "1.2.0",
      "model_name": "LayoutModel",
      "state": {}
     },
     "096d7e01c4ab495b97d4c8da52092a3c": {
      "model_module": "@jupyter-widgets/controls",
      "model_module_version": "1.5.0",
      "model_name": "HBoxModel",
      "state": {
       "children": [
        "IPY_MODEL_4265f3529f1149aeb98126130c96b425",
        "IPY_MODEL_8c686a87a0974ee9812f0c4acdd42b46"
       ],
       "layout": "IPY_MODEL_e9c77696af63445e927b60a5d777aeef"
      }
     },
     "097a293b33d64e8e8d2cc6d3257248be": {
      "model_module": "@jupyter-widgets/base",
      "model_module_version": "1.2.0",
      "model_name": "LayoutModel",
      "state": {
       "width": "40px"
      }
     },
     "0999378733a24bab863bad390d16ee41": {
      "model_module": "@jupyter-widgets/controls",
      "model_module_version": "1.5.0",
      "model_name": "HBoxModel",
      "state": {
       "children": [
        "IPY_MODEL_7283262a48814e33b27f1ffb36e24f39",
        "IPY_MODEL_10f8e505a9f14a05890a8cd0dc61107c"
       ],
       "layout": "IPY_MODEL_ac0bd227518841a2857a2d9662fa007d"
      }
     },
     "099971f01b6b43bcbf4a8cd847c5f088": {
      "model_module": "@jupyter-widgets/controls",
      "model_module_version": "1.5.0",
      "model_name": "TextModel",
      "state": {
       "layout": "IPY_MODEL_97993fa24fac42e28605e8d366180168",
       "style": "IPY_MODEL_4dc8b9450435447ebef56a12de022275",
       "value": "-4"
      }
     },
     "09a6256c899e4f99bd7006b25a734cb0": {
      "model_module": "@jupyter-widgets/controls",
      "model_module_version": "1.5.0",
      "model_name": "DescriptionStyleModel",
      "state": {
       "description_width": ""
      }
     },
     "09be0e1c8cc147e8b2a96c449cffe50a": {
      "model_module": "@jupyter-widgets/controls",
      "model_module_version": "1.5.0",
      "model_name": "VBoxModel",
      "state": {
       "children": [
        "IPY_MODEL_eff85b9b93d24d7681b7f94a134adf68",
        "IPY_MODEL_7ae094d323894052bb986624a6b36ccd",
        "IPY_MODEL_95cb7d9d5c574abbbd440ef2e831fffb"
       ],
       "layout": "IPY_MODEL_f3df611b0a6d4b36987ca538e8425396"
      }
     },
     "09c868aa266b4a4f91083bec6c8fd593": {
      "model_module": "@jupyter-widgets/base",
      "model_module_version": "1.2.0",
      "model_name": "LayoutModel",
      "state": {}
     },
     "09da1c4605184562a2d7c2d6ea3839a8": {
      "model_module": "@jupyter-widgets/controls",
      "model_module_version": "1.5.0",
      "model_name": "DescriptionStyleModel",
      "state": {
       "description_width": ""
      }
     },
     "0a02e7b644da470cb73ee9aba198f096": {
      "model_module": "@jupyter-widgets/controls",
      "model_module_version": "1.5.0",
      "model_name": "TextModel",
      "state": {
       "layout": "IPY_MODEL_b2827ab913cf4f49b7a4aeebd116396e",
       "style": "IPY_MODEL_c423e0a776c74bba82606e70efbf6ea0",
       "value": "5"
      }
     },
     "0a125904f15d473ebd86c861e96b9ef0": {
      "model_module": "@jupyter-widgets/controls",
      "model_module_version": "1.5.0",
      "model_name": "VBoxModel",
      "state": {
       "children": [
        "IPY_MODEL_c730cc44611641c081f635d3e5bdf038",
        "IPY_MODEL_d7d07c72b0934bfc8ebe912b0cf3117b"
       ],
       "layout": "IPY_MODEL_52466bf230334ac2bc3149fb7cc526cc"
      }
     },
     "0a2b760debba442881752869b447449c": {
      "model_module": "@jupyter-widgets/controls",
      "model_module_version": "1.5.0",
      "model_name": "DescriptionStyleModel",
      "state": {
       "description_width": ""
      }
     },
     "0a39b7942fa149a6af52cec6d0d541c0": {
      "model_module": "@jupyter-widgets/base",
      "model_module_version": "1.2.0",
      "model_name": "LayoutModel",
      "state": {
       "width": "150px"
      }
     },
     "0a6fdaf2cab9418cb73cde409a0a83f0": {
      "model_module": "@jupyter-widgets/controls",
      "model_module_version": "1.5.0",
      "model_name": "DescriptionStyleModel",
      "state": {
       "description_width": ""
      }
     },
     "0a8cceae1d9344f296af7ddc2c5ee720": {
      "model_module": "@jupyter-widgets/controls",
      "model_module_version": "1.5.0",
      "model_name": "HBoxModel",
      "state": {
       "children": [
        "IPY_MODEL_ea4c33f7782241d68035a6d6340fabba",
        "IPY_MODEL_1d8631b27f334741b4dec4e62367332d"
       ],
       "layout": "IPY_MODEL_090d5a4f63a74b7e9fe7ecb9626faebf"
      }
     },
     "0a9283977c4f4ac9a4717616fdb7ddb9": {
      "model_module": "@jupyter-widgets/controls",
      "model_module_version": "1.5.0",
      "model_name": "DescriptionStyleModel",
      "state": {
       "description_width": ""
      }
     },
     "0ad6ee58a4fc4360af8f7552d0e693b8": {
      "model_module": "@jupyter-widgets/controls",
      "model_module_version": "1.5.0",
      "model_name": "DescriptionStyleModel",
      "state": {
       "description_width": ""
      }
     },
     "0b49b1e15c66421e925efbf75e7bec4b": {
      "model_module": "@jupyter-widgets/base",
      "model_module_version": "1.2.0",
      "model_name": "LayoutModel",
      "state": {}
     },
     "0b51104c1e9f4719b5061bea145fdfaa": {
      "model_module": "@jupyter-widgets/controls",
      "model_module_version": "1.5.0",
      "model_name": "DescriptionStyleModel",
      "state": {
       "description_width": ""
      }
     },
     "0b6872970b134a9794bf6713e01fffae": {
      "model_module": "@jupyter-widgets/controls",
      "model_module_version": "1.5.0",
      "model_name": "DescriptionStyleModel",
      "state": {
       "description_width": ""
      }
     },
     "0b939843b33244f598beb1d018494b7b": {
      "model_module": "@jupyter-widgets/controls",
      "model_module_version": "1.5.0",
      "model_name": "DescriptionStyleModel",
      "state": {
       "description_width": ""
      }
     },
     "0b93b44acdce4d9197a7c8f3e6b4c1c7": {
      "model_module": "@jupyter-widgets/controls",
      "model_module_version": "1.5.0",
      "model_name": "DescriptionStyleModel",
      "state": {
       "description_width": ""
      }
     },
     "0b94b169e480469bbed13b877c6d7758": {
      "model_module": "@jupyter-widgets/base",
      "model_module_version": "1.2.0",
      "model_name": "LayoutModel",
      "state": {
       "width": "150px"
      }
     },
     "0bdbc075252144f6b39a71f35a9d2843": {
      "model_module": "@jupyter-widgets/controls",
      "model_module_version": "1.5.0",
      "model_name": "DescriptionStyleModel",
      "state": {
       "description_width": ""
      }
     },
     "0be087d82ca1497b8f6f9d31cbb4239e": {
      "model_module": "@jupyter-widgets/controls",
      "model_module_version": "1.5.0",
      "model_name": "DescriptionStyleModel",
      "state": {
       "description_width": ""
      }
     },
     "0c08a95ef5a84dc6a82a786848f4a2a2": {
      "model_module": "@jupyter-widgets/controls",
      "model_module_version": "1.5.0",
      "model_name": "TextModel",
      "state": {
       "layout": "IPY_MODEL_201e1a4ee32840b19f981690bdacf3ae",
       "style": "IPY_MODEL_891f51e9502742adb34a1eed1e551d41",
       "value": "9"
      }
     },
     "0c4a2012c43f438991589c2c630fb6b2": {
      "model_module": "@jupyter-widgets/controls",
      "model_module_version": "1.5.0",
      "model_name": "ButtonStyleModel",
      "state": {}
     },
     "0c75223a1dec4741b1b708ef6fe84920": {
      "model_module": "@jupyter-widgets/base",
      "model_module_version": "1.2.0",
      "model_name": "LayoutModel",
      "state": {
       "width": "100px"
      }
     },
     "0c7ad4d71e4c46d8be409f7d817a62e9": {
      "model_module": "@jupyter-widgets/controls",
      "model_module_version": "1.5.0",
      "model_name": "DescriptionStyleModel",
      "state": {
       "description_width": ""
      }
     },
     "0c7da122900b4eb692cfd3438226341f": {
      "model_module": "@jupyter-widgets/controls",
      "model_module_version": "1.5.0",
      "model_name": "ButtonModel",
      "state": {
       "description": "Swap rows",
       "layout": "IPY_MODEL_2f2f9fb585204a3f9fc5183ea08bf1f5",
       "style": "IPY_MODEL_c00f4b2f17164911b5f4d806285b3eed"
      }
     },
     "0c87e0e9dd314f49af89ae12a412d2c1": {
      "model_module": "@jupyter-widgets/controls",
      "model_module_version": "1.5.0",
      "model_name": "TextModel",
      "state": {
       "layout": "IPY_MODEL_7a607c89a00143a7a0808c95689bf41a",
       "style": "IPY_MODEL_7280a62ab27f4595969c2db2a3eeec5f",
       "value": "5"
      }
     },
     "0c8b7dbc92ac421786a6889588222939": {
      "model_module": "@jupyter-widgets/controls",
      "model_module_version": "1.5.0",
      "model_name": "DropdownModel",
      "state": {
       "_options_labels": [
        "1",
        "2",
        "3"
       ],
       "description": "Row",
       "index": 0,
       "layout": "IPY_MODEL_1c48b6d81e5541e0926b6178e9a61476",
       "style": "IPY_MODEL_f53ffb000d594b03abb935e20d6e2c86"
      }
     },
     "0c9442cac1194995a742e23535c40406": {
      "model_module": "@jupyter-widgets/base",
      "model_module_version": "1.2.0",
      "model_name": "LayoutModel",
      "state": {
       "width": "120px"
      }
     },
     "0cabdc15793e4dd58e647f6542dd1b99": {
      "model_module": "@jupyter-widgets/base",
      "model_module_version": "1.2.0",
      "model_name": "LayoutModel",
      "state": {}
     },
     "0cc061f4602d4733b367e761aad09b37": {
      "model_module": "@jupyter-widgets/controls",
      "model_module_version": "1.5.0",
      "model_name": "TextModel",
      "state": {
       "layout": "IPY_MODEL_776389df997545fcab086c0233cb0ab0",
       "style": "IPY_MODEL_85077bf8003d4501acfa8a9f154f25a2",
       "value": "-1"
      }
     },
     "0cd909d7e75b4dca930bf7befc8e9156": {
      "model_module": "@jupyter-widgets/controls",
      "model_module_version": "1.5.0",
      "model_name": "TextModel",
      "state": {
       "layout": "IPY_MODEL_342fbdc31d2d406489b24d1349c22e03",
       "style": "IPY_MODEL_043f92e7e9b04dc596161e769fe417c7",
       "value": "7"
      }
     },
     "0cfdce1ee86043ee8284474a5bc8b45b": {
      "model_module": "@jupyter-widgets/controls",
      "model_module_version": "1.5.0",
      "model_name": "DescriptionStyleModel",
      "state": {
       "description_width": ""
      }
     },
     "0d07b70590d84085895b2a6723373ac4": {
      "model_module": "@jupyter-widgets/controls",
      "model_module_version": "1.5.0",
      "model_name": "DescriptionStyleModel",
      "state": {
       "description_width": ""
      }
     },
     "0d13a2ae3090437a9013c2620fae42d2": {
      "model_module": "@jupyter-widgets/controls",
      "model_module_version": "1.5.0",
      "model_name": "VBoxModel",
      "state": {
       "children": [
        "IPY_MODEL_0d9cf3ada7b04ba3b03abbc0d8e9a782",
        "IPY_MODEL_2a44e11b4a604194b1dddad46bccf849"
       ],
       "layout": "IPY_MODEL_78b46fdc4a1d46c1a133a310d723dc8f"
      }
     },
     "0d1f13b839914f6a99cf34216894a3b9": {
      "model_module": "@jupyter-widgets/base",
      "model_module_version": "1.2.0",
      "model_name": "LayoutModel",
      "state": {}
     },
     "0d472be7819f4e9faeee5d6252f29290": {
      "model_module": "@jupyter-widgets/controls",
      "model_module_version": "1.5.0",
      "model_name": "ButtonModel",
      "state": {
       "description": "Swap rows",
       "layout": "IPY_MODEL_244534296dbf435fbc9442b858609f49",
       "style": "IPY_MODEL_da2fe6227a13420da42ed57b0f8cfb1b"
      }
     },
     "0d6bdfcbd4a0483e8b44b5f267ea3c6e": {
      "model_module": "@jupyter-widgets/base",
      "model_module_version": "1.2.0",
      "model_name": "LayoutModel",
      "state": {}
     },
     "0d83040495904c82b895a7860c681a9e": {
      "model_module": "@jupyter-widgets/controls",
      "model_module_version": "1.5.0",
      "model_name": "DescriptionStyleModel",
      "state": {
       "description_width": ""
      }
     },
     "0d8d7d0cf84b4037b7e377649d9f56bc": {
      "model_module": "@jupyter-widgets/controls",
      "model_module_version": "1.5.0",
      "model_name": "VBoxModel",
      "state": {
       "children": [
        "IPY_MODEL_f7b8143c54a84033b19278978ddfa7d0",
        "IPY_MODEL_b7776b8c4c6b4d89a60e46a4b3fbf5eb",
        "IPY_MODEL_f22c060de5474d7e8daa8c79ee787237"
       ],
       "layout": "IPY_MODEL_fd194d982bfa4c81912215d884faef58"
      }
     },
     "0d90a62c69f04db09f7e6c938c607302": {
      "model_module": "@jupyter-widgets/controls",
      "model_module_version": "1.5.0",
      "model_name": "TextModel",
      "state": {
       "layout": "IPY_MODEL_250753b918e0432c803452a019d33c5c",
       "style": "IPY_MODEL_8c8dbfc314bf4626b88dcc2f9217890a",
       "value": "-6"
      }
     },
     "0d9746d3a2fb4d549b6108a850e6a3e7": {
      "model_module": "@jupyter-widgets/controls",
      "model_module_version": "1.5.0",
      "model_name": "DescriptionStyleModel",
      "state": {
       "description_width": ""
      }
     },
     "0d9cf3ada7b04ba3b03abbc0d8e9a782": {
      "model_module": "@jupyter-widgets/controls",
      "model_module_version": "1.5.0",
      "model_name": "HTMLModel",
      "state": {
       "layout": "IPY_MODEL_b45cca93b651435b81c2143578b9d4a3",
       "style": "IPY_MODEL_68937de1ef6d46c6b4f0f79712e71607",
       "value": "Click this button to start the calculator"
      }
     },
     "0dab27311a574510a4e8775960744879": {
      "model_module": "@jupyter-widgets/base",
      "model_module_version": "1.2.0",
      "model_name": "LayoutModel",
      "state": {
       "width": "100px"
      }
     },
     "0de49fa242fb4f759fdc7f84ec87fba3": {
      "model_module": "@jupyter-widgets/controls",
      "model_module_version": "1.5.0",
      "model_name": "DescriptionStyleModel",
      "state": {
       "description_width": ""
      }
     },
     "0e210148ebe44a0cb2cc0654112bf4b1": {
      "model_module": "@jupyter-widgets/controls",
      "model_module_version": "1.5.0",
      "model_name": "DescriptionStyleModel",
      "state": {
       "description_width": ""
      }
     },
     "0e292b6285d943b09d392d62f5ecbc89": {
      "model_module": "@jupyter-widgets/controls",
      "model_module_version": "1.5.0",
      "model_name": "TextModel",
      "state": {
       "layout": "IPY_MODEL_7003463d13444a27a885608e31a34ec8",
       "style": "IPY_MODEL_eadb90c094f44eb3a68fe8a93b272cdd",
       "value": "1"
      }
     },
     "0e3670d7a37d4366a34fab339b9308e1": {
      "model_module": "@jupyter-widgets/base",
      "model_module_version": "1.2.0",
      "model_name": "LayoutModel",
      "state": {
       "width": "40px"
      }
     },
     "0e6cf7f51fe6496a9cf10cc476805197": {
      "model_module": "@jupyter-widgets/base",
      "model_module_version": "1.2.0",
      "model_name": "LayoutModel",
      "state": {}
     },
     "0e6e0efceabd4ae3a46b211dc4ff810b": {
      "model_module": "@jupyter-widgets/controls",
      "model_module_version": "1.5.0",
      "model_name": "TextModel",
      "state": {
       "layout": "IPY_MODEL_194d5881fb18447585798b14c51e301b",
       "style": "IPY_MODEL_9098c965a51d4f86942174e4766c8595",
       "value": "-6"
      }
     },
     "0e854f26a1f34e898cea5d16e4114734": {
      "model_module": "@jupyter-widgets/controls",
      "model_module_version": "1.5.0",
      "model_name": "HBoxModel",
      "state": {
       "children": [
        "IPY_MODEL_624d7a532cc145a19781e66687d9c82b",
        "IPY_MODEL_461cb6309f3549a998d14f1794548655",
        "IPY_MODEL_b139b5bfb3064ef284e7c4c902337610"
       ],
       "layout": "IPY_MODEL_4a462b62283c43538330a170e98ca4d7"
      }
     },
     "0e8779d387d345ce83061d7884680c4b": {
      "model_module": "@jupyter-widgets/controls",
      "model_module_version": "1.5.0",
      "model_name": "DescriptionStyleModel",
      "state": {
       "description_width": ""
      }
     },
     "0e94e36f3ffc4397b7b027e6f13dcf86": {
      "model_module": "@jupyter-widgets/controls",
      "model_module_version": "1.5.0",
      "model_name": "DescriptionStyleModel",
      "state": {
       "description_width": ""
      }
     },
     "0ea18523c5d748059fccdd96a26b89fe": {
      "model_module": "@jupyter-widgets/controls",
      "model_module_version": "1.5.0",
      "model_name": "DescriptionStyleModel",
      "state": {
       "description_width": ""
      }
     },
     "0eae850f291a4fb6990eff505e33407b": {
      "model_module": "@jupyter-widgets/base",
      "model_module_version": "1.2.0",
      "model_name": "LayoutModel",
      "state": {
       "justify_content": "center"
      }
     },
     "0eb6e1ce612644788b4e8d2129fca744": {
      "model_module": "@jupyter-widgets/controls",
      "model_module_version": "1.5.0",
      "model_name": "TextModel",
      "state": {
       "layout": "IPY_MODEL_bbd5dabd53c049fca9a7f5878437cad9",
       "style": "IPY_MODEL_2cc30151503a4b2d89ec6f6a5295fe39",
       "value": "3"
      }
     },
     "0ef0234445154cc8acb93d7777ba30b9": {
      "model_module": "@jupyter-widgets/controls",
      "model_module_version": "1.5.0",
      "model_name": "TextModel",
      "state": {
       "layout": "IPY_MODEL_97993fa24fac42e28605e8d366180168",
       "style": "IPY_MODEL_7360273407e04c57ae2c648d0f434a90",
       "value": "7"
      }
     },
     "0f146334d20c40c5a3cf2f6f9e454979": {
      "model_module": "@jupyter-widgets/controls",
      "model_module_version": "1.5.0",
      "model_name": "TextModel",
      "state": {
       "layout": "IPY_MODEL_b2827ab913cf4f49b7a4aeebd116396e",
       "style": "IPY_MODEL_1893a0a1365446b982bde153f137f578",
       "value": "7"
      }
     },
     "0f16d9783380428c9e683c825e2b4423": {
      "model_module": "@jupyter-widgets/controls",
      "model_module_version": "1.5.0",
      "model_name": "DropdownModel",
      "state": {
       "_options_labels": [
        "1",
        "2",
        "3"
       ],
       "description": "to row",
       "index": 1,
       "layout": "IPY_MODEL_e347fe1d10be4182a46e1dcb953a9d74",
       "style": "IPY_MODEL_8852c2ba05e94bd6b0ca92060b4a657b"
      }
     },
     "0f351ad227364b28b2aad46ee261b59d": {
      "model_module": "@jupyter-widgets/controls",
      "model_module_version": "1.5.0",
      "model_name": "HTMLModel",
      "state": {
       "layout": "IPY_MODEL_272693dae249402d964a049d58e0c3a8",
       "style": "IPY_MODEL_01741f2f65e54a6e996c9f63eebb3a4a",
       "value": "Click the button below to start the calculator"
      }
     },
     "0f73d60c72fa4763a786e53528d3506d": {
      "model_module": "@jupyter-widgets/base",
      "model_module_version": "1.2.0",
      "model_name": "LayoutModel",
      "state": {
       "width": "100px"
      }
     },
     "0fa53be0c5b3446f8225156f37f08315": {
      "model_module": "@jupyter-widgets/base",
      "model_module_version": "1.2.0",
      "model_name": "LayoutModel",
      "state": {}
     },
     "0fb0c0ac4ae8447fbb17ff43596d9168": {
      "model_module": "@jupyter-widgets/controls",
      "model_module_version": "1.5.0",
      "model_name": "VBoxModel",
      "state": {
       "children": [
        "IPY_MODEL_1c42016859284db5acf760b042fbe760",
        "IPY_MODEL_472abd49d98a4066b63c7fc3161a33db"
       ],
       "layout": "IPY_MODEL_ed9e4888a47a41bdbca99949e12037f8"
      }
     },
     "0fd5928b876c4d9d80f95ab4c8fc7851": {
      "model_module": "@jupyter-widgets/controls",
      "model_module_version": "1.5.0",
      "model_name": "ButtonStyleModel",
      "state": {}
     },
     "103155977d88458bae43b1483b1832fd": {
      "model_module": "@jupyter-widgets/controls",
      "model_module_version": "1.5.0",
      "model_name": "TextModel",
      "state": {
       "layout": "IPY_MODEL_47a60aa1cf3045f2a536b06edf49c5ea",
       "style": "IPY_MODEL_d584c5573e924c35b4bef2919816e088",
       "value": "-1"
      }
     },
     "107eacf5d7d04ec79526ac975b916f4b": {
      "model_module": "@jupyter-widgets/controls",
      "model_module_version": "1.5.0",
      "model_name": "TextModel",
      "state": {
       "layout": "IPY_MODEL_7003463d13444a27a885608e31a34ec8",
       "style": "IPY_MODEL_d473673cc1da41ef9594dbfd209999a9",
       "value": "-1"
      }
     },
     "109f6d462a004bdd9a95542348d778f8": {
      "model_module": "@jupyter-widgets/base",
      "model_module_version": "1.2.0",
      "model_name": "LayoutModel",
      "state": {
       "height": "35px",
       "width": "30px"
      }
     },
     "10a58219c0cd44d98cac63e23eaa7fe2": {
      "model_module": "@jupyter-widgets/controls",
      "model_module_version": "1.5.0",
      "model_name": "ButtonStyleModel",
      "state": {}
     },
     "10b695f98e3045a98d2654eb8462ea0c": {
      "model_module": "@jupyter-widgets/controls",
      "model_module_version": "1.5.0",
      "model_name": "TextModel",
      "state": {
       "layout": "IPY_MODEL_194d5881fb18447585798b14c51e301b",
       "style": "IPY_MODEL_61bb2d603f3b42dc88999c25922900d9",
       "value": "-4"
      }
     },
     "10bec6bf165345d6a2247806c20a044c": {
      "model_module": "@jupyter-widgets/controls",
      "model_module_version": "1.5.0",
      "model_name": "ButtonModel",
      "state": {
       "description": "Swap rows",
       "layout": "IPY_MODEL_4ec6730c6222433194c686dec62c16d8",
       "style": "IPY_MODEL_86a0b6bbca4f4266a3a5360582b7d747"
      }
     },
     "10c6593628b94ec9afd38a333213fa40": {
      "model_module": "@jupyter-widgets/controls",
      "model_module_version": "1.5.0",
      "model_name": "DescriptionStyleModel",
      "state": {
       "description_width": ""
      }
     },
     "10c7837a966f4796a96051bb35ea126d": {
      "model_module": "@jupyter-widgets/controls",
      "model_module_version": "1.5.0",
      "model_name": "DescriptionStyleModel",
      "state": {
       "description_width": ""
      }
     },
     "10d93b62a74c488d8c6f11595fa0e58d": {
      "model_module": "@jupyter-widgets/controls",
      "model_module_version": "1.5.0",
      "model_name": "GridBoxModel",
      "state": {
       "children": [
        "IPY_MODEL_db158a7cb4934f57ab5e1788aeafa0e7",
        "IPY_MODEL_d09d7cd7d48b4bc4b63d6655f4763e98",
        "IPY_MODEL_f9b9f8a4ca184dcc8be35e105579a364",
        "IPY_MODEL_a3b745e4e8ed444488a4530d7ca1e279",
        "IPY_MODEL_06dcdafd05a042d5a13a3b6e1bb87e12",
        "IPY_MODEL_a843e242935f4cee9282661fcc0b7e10",
        "IPY_MODEL_83095ed8270249f4baf9f532219f0814",
        "IPY_MODEL_b44fbe1530b8486a8a003242bde108f2",
        "IPY_MODEL_d94f90c023194d5d86264d58cff494fc"
       ],
       "layout": "IPY_MODEL_e9abab88b7d24723969cc86f1e45e85f"
      }
     },
     "10f325c9cdd5412db11465529d3d02ae": {
      "model_module": "@jupyter-widgets/controls",
      "model_module_version": "1.5.0",
      "model_name": "DescriptionStyleModel",
      "state": {
       "description_width": ""
      }
     },
     "10f8e505a9f14a05890a8cd0dc61107c": {
      "model_module": "@jupyter-widgets/controls",
      "model_module_version": "1.5.0",
      "model_name": "HTMLMathModel",
      "state": {
       "layout": "IPY_MODEL_1346779d04e1453d82bd4fcf65e1d321",
       "style": "IPY_MODEL_ad667437c7504081859d5c162a06411b",
       "value": "Enter here the values of the right hand side vector $b$"
      }
     },
     "11284215318541d5aa2ff828facefe79": {
      "model_module": "@jupyter-widgets/controls",
      "model_module_version": "1.5.0",
      "model_name": "TextModel",
      "state": {
       "layout": "IPY_MODEL_bbd5dabd53c049fca9a7f5878437cad9",
       "style": "IPY_MODEL_389dcc405c97404e889efe41aec4c5aa",
       "value": "1"
      }
     },
     "116c3d2aeaec4cccbb0fb1470cea5fbd": {
      "model_module": "@jupyter-widgets/controls",
      "model_module_version": "1.5.0",
      "model_name": "TextModel",
      "state": {
       "layout": "IPY_MODEL_109f6d462a004bdd9a95542348d778f8",
       "style": "IPY_MODEL_afcee6e16407434a8a8ba611f03bf62b",
       "value": "-4"
      }
     },
     "11fcc015374b427bb197b0d5244dbd8a": {
      "model_module": "@jupyter-widgets/controls",
      "model_module_version": "1.5.0",
      "model_name": "TextModel",
      "state": {
       "layout": "IPY_MODEL_e168436c7ee0437a9552e5f0afc85715",
       "style": "IPY_MODEL_667ee9246b0740be9d21afb4ca7944b7",
       "value": "-1"
      }
     },
     "123f7c0267e24c01839a4172262e7c85": {
      "model_module": "@jupyter-widgets/base",
      "model_module_version": "1.2.0",
      "model_name": "LayoutModel",
      "state": {}
     },
     "124a684d9f2c49afac32c936b687984c": {
      "model_module": "@jupyter-widgets/base",
      "model_module_version": "1.2.0",
      "model_name": "LayoutModel",
      "state": {
       "width": "150px"
      }
     },
     "124d9e6b1e624c0ab89adb99c83858a0": {
      "model_module": "@jupyter-widgets/controls",
      "model_module_version": "1.5.0",
      "model_name": "TextModel",
      "state": {
       "layout": "IPY_MODEL_35e7cd5dc3a344c7867ddf08fc7e1130",
       "style": "IPY_MODEL_dcd7341dd28b4bfd94cebdc438839d36",
       "value": " 2"
      }
     },
     "12647a1ed57d4122a3e425dc663ac125": {
      "model_module": "@jupyter-widgets/controls",
      "model_module_version": "1.5.0",
      "model_name": "DescriptionStyleModel",
      "state": {
       "description_width": ""
      }
     },
     "12919e24d0384f1488cd93b35a3380ae": {
      "model_module": "@jupyter-widgets/base",
      "model_module_version": "1.2.0",
      "model_name": "LayoutModel",
      "state": {
       "width": "150px"
      }
     },
     "12932f2c8c3d4eeb95088967ccdb0d22": {
      "model_module": "@jupyter-widgets/controls",
      "model_module_version": "1.5.0",
      "model_name": "TextModel",
      "state": {
       "layout": "IPY_MODEL_35e7cd5dc3a344c7867ddf08fc7e1130",
       "style": "IPY_MODEL_83a3ced6c8c64bf2836ea80fd5ffcf1c",
       "value": "-6"
      }
     },
     "129c6d7cd1c341ab93fd59634722d890": {
      "model_module": "@jupyter-widgets/controls",
      "model_module_version": "1.5.0",
      "model_name": "DescriptionStyleModel",
      "state": {
       "description_width": ""
      }
     },
     "12c119afecf44377bc5b2683a9245655": {
      "model_module": "@jupyter-widgets/controls",
      "model_module_version": "1.5.0",
      "model_name": "VBoxModel",
      "state": {
       "children": [
        "IPY_MODEL_c149fc4995e043b197f8fdd97266b2de",
        "IPY_MODEL_9d4493d685d84937912b85c0d5271711",
        "IPY_MODEL_20559d79dceb43e3b78860b66a5ccb34"
       ],
       "layout": "IPY_MODEL_dc9686957e7a4f50943ce04860efd25d"
      }
     },
     "12c88b7bec5f4eb2b97f1c12dbd41baa": {
      "model_module": "@jupyter-widgets/controls",
      "model_module_version": "1.5.0",
      "model_name": "VBoxModel",
      "state": {
       "children": [
        "IPY_MODEL_e3bdf8d52f5f4d3c9ce1f0157ec1b18f",
        "IPY_MODEL_5b9118f2352a44f5a322baae71489f99"
       ],
       "layout": "IPY_MODEL_9e9c3873cf7e4fe68504d566674dadf1"
      }
     },
     "12c9096434eb4b009cb1af19b52fa748": {
      "model_module": "@jupyter-widgets/base",
      "model_module_version": "1.2.0",
      "model_name": "LayoutModel",
      "state": {}
     },
     "12d3e28e7ce34b71a02bfe9458d4930b": {
      "model_module": "@jupyter-widgets/controls",
      "model_module_version": "1.5.0",
      "model_name": "VBoxModel",
      "state": {
       "children": [
        "IPY_MODEL_265dc97ead1348268d4fec0c5a85c5b3",
        "IPY_MODEL_959b0d6930f44a08b608939ccfa4c2fa"
       ],
       "layout": "IPY_MODEL_00163c3bd6e3456992c71da0d3a83a01"
      }
     },
     "12d5685db0024de7a4566865c4969be2": {
      "model_module": "@jupyter-widgets/base",
      "model_module_version": "1.2.0",
      "model_name": "LayoutModel",
      "state": {
       "width": "90px"
      }
     },
     "130c0e9ce08645a6860799fb9b56ddd6": {
      "model_module": "@jupyter-widgets/controls",
      "model_module_version": "1.5.0",
      "model_name": "DescriptionStyleModel",
      "state": {
       "description_width": ""
      }
     },
     "1322ff74d35b4e38aa17a21bcb4c1e08": {
      "model_module": "@jupyter-widgets/controls",
      "model_module_version": "1.5.0",
      "model_name": "ButtonModel",
      "state": {
       "description": "Start",
       "layout": "IPY_MODEL_292be73146b44de2a4b404ce554f2a80",
       "style": "IPY_MODEL_e3b3cbf229ba40a2bb97b837f46785c7"
      }
     },
     "1346779d04e1453d82bd4fcf65e1d321": {
      "model_module": "@jupyter-widgets/base",
      "model_module_version": "1.2.0",
      "model_name": "LayoutModel",
      "state": {
       "width": "100px"
      }
     },
     "1350a907184f4e5a8f72675951e36177": {
      "model_module": "@jupyter-widgets/base",
      "model_module_version": "1.2.0",
      "model_name": "LayoutModel",
      "state": {}
     },
     "136433dc00f242c48ca727dcf2a88b93": {
      "model_module": "@jupyter-widgets/controls",
      "model_module_version": "1.5.0",
      "model_name": "TextModel",
      "state": {
       "layout": "IPY_MODEL_7a607c89a00143a7a0808c95689bf41a",
       "style": "IPY_MODEL_d5720e1b89794f4191711502677e5a47",
       "value": "2"
      }
     },
     "138f3d0f8b5e466d9c3f9652e070fc44": {
      "model_module": "@jupyter-widgets/controls",
      "model_module_version": "1.5.0",
      "model_name": "ButtonModel",
      "state": {
       "description": "Multiply row",
       "layout": "IPY_MODEL_865a725c88ee491db0bcf87d2fdab680",
       "style": "IPY_MODEL_75598fbbf3654bee81a9f77b05103a98"
      }
     },
     "13b2a989995f45d789414b3b89e8dc92": {
      "model_module": "@jupyter-widgets/base",
      "model_module_version": "1.2.0",
      "model_name": "LayoutModel",
      "state": {}
     },
     "13b871b4f1294b79addc825df026b2d9": {
      "model_module": "@jupyter-widgets/base",
      "model_module_version": "1.2.0",
      "model_name": "LayoutModel",
      "state": {}
     },
     "13e2564bb813496a9fe8a8a618109eff": {
      "model_module": "@jupyter-widgets/controls",
      "model_module_version": "1.5.0",
      "model_name": "HBoxModel",
      "state": {
       "children": [
        "IPY_MODEL_5d57b31b70ab401182d4571bd820aeca",
        "IPY_MODEL_93622fe6937f4605a871e065d4ed3008",
        "IPY_MODEL_b2fd1676cfc9432e80f7990cf343bd4e"
       ],
       "layout": "IPY_MODEL_87905b94b3cf4fafb0261506110687d5"
      }
     },
     "13f3642104b941ee98c7c3f0e3972147": {
      "model_module": "@jupyter-widgets/controls",
      "model_module_version": "1.5.0",
      "model_name": "VBoxModel",
      "state": {
       "children": [
        "IPY_MODEL_c60575bd77544bc5b42f363f13c1db01",
        "IPY_MODEL_be024f87c912484d9019d5c53520c889",
        "IPY_MODEL_45e9bd62968c4173b8e23ac28401178a"
       ],
       "layout": "IPY_MODEL_6fb9220283a747dc8505978644b87d42"
      }
     },
     "1401e9f079554030bd9d69a9bb58350a": {
      "model_module": "@jupyter-widgets/controls",
      "model_module_version": "1.5.0",
      "model_name": "DescriptionStyleModel",
      "state": {
       "description_width": ""
      }
     },
     "141df16611cd4e46bbad8c4ce580da96": {
      "model_module": "@jupyter-widgets/controls",
      "model_module_version": "1.5.0",
      "model_name": "DescriptionStyleModel",
      "state": {
       "description_width": ""
      }
     },
     "1468d91b96c2407294945354ffa84e77": {
      "model_module": "@jupyter-widgets/controls",
      "model_module_version": "1.5.0",
      "model_name": "ButtonStyleModel",
      "state": {}
     },
     "14ac1c7acedb4b4f8ef005ca8700024c": {
      "model_module": "@jupyter-widgets/controls",
      "model_module_version": "1.5.0",
      "model_name": "DescriptionStyleModel",
      "state": {
       "description_width": ""
      }
     },
     "14f522fd2fd24732bc86a5515bfabd50": {
      "model_module": "@jupyter-widgets/controls",
      "model_module_version": "1.5.0",
      "model_name": "DescriptionStyleModel",
      "state": {
       "description_width": ""
      }
     },
     "150cbb1499e94340991f7e37dc9bcebd": {
      "model_module": "@jupyter-widgets/controls",
      "model_module_version": "1.5.0",
      "model_name": "VBoxModel",
      "state": {
       "children": [
        "IPY_MODEL_f363c2a9593f443e8d24b329e1a2d926",
        "IPY_MODEL_1abbabc41ba44b0d928bf37857cb73cd"
       ],
       "layout": "IPY_MODEL_4b7552e5d8974f719af6189f69ec1a20"
      }
     },
     "151d4cd19704496b81b6768e2ef2bb70": {
      "model_module": "@jupyter-widgets/controls",
      "model_module_version": "1.5.0",
      "model_name": "HTMLMathModel",
      "state": {
       "layout": "IPY_MODEL_f716d79fea354c018b8acdfbadf8b2a0",
       "style": "IPY_MODEL_f4ed553abd55484dbc6eb44905cee816",
       "value": "Enter here the values of the right hand side vector $b$"
      }
     },
     "1523a88304354d388b470b2d01418d15": {
      "model_module": "@jupyter-widgets/controls",
      "model_module_version": "1.5.0",
      "model_name": "TextModel",
      "state": {
       "layout": "IPY_MODEL_383a1c5f5f0c418b84e9a50a2a78d25a",
       "style": "IPY_MODEL_3ed32a4b3dee40abbce1f9ef326c36a8",
       "value": "1"
      }
     },
     "15369d6e49984de4a53e22d903185d7c": {
      "model_module": "@jupyter-widgets/controls",
      "model_module_version": "1.5.0",
      "model_name": "DescriptionStyleModel",
      "state": {
       "description_width": ""
      }
     },
     "156d06c26db241928dc0d6cc68c2cc36": {
      "model_module": "@jupyter-widgets/controls",
      "model_module_version": "1.5.0",
      "model_name": "DescriptionStyleModel",
      "state": {
       "description_width": ""
      }
     },
     "157ae4e77b3947a8abde54620b799bc9": {
      "model_module": "@jupyter-widgets/controls",
      "model_module_version": "1.5.0",
      "model_name": "DescriptionStyleModel",
      "state": {
       "description_width": ""
      }
     },
     "15ca9276830c4b84abbb569829e3bfe2": {
      "model_module": "@jupyter-widgets/controls",
      "model_module_version": "1.5.0",
      "model_name": "TextModel",
      "state": {
       "layout": "IPY_MODEL_35e7cd5dc3a344c7867ddf08fc7e1130",
       "style": "IPY_MODEL_5d42a8c6dc014997860aaa4600b2405b",
       "value": "-1"
      }
     },
     "15cb1eba10714e2095f4d934b9f73e07": {
      "model_module": "@jupyter-widgets/base",
      "model_module_version": "1.2.0",
      "model_name": "LayoutModel",
      "state": {
       "width": "40px"
      }
     },
     "15d7c0a375b44586b4132ddc54104639": {
      "model_module": "@jupyter-widgets/controls",
      "model_module_version": "1.5.0",
      "model_name": "DescriptionStyleModel",
      "state": {
       "description_width": ""
      }
     },
     "15e37a6df70f4bd2a450d445745adf98": {
      "model_module": "@jupyter-widgets/controls",
      "model_module_version": "1.5.0",
      "model_name": "HTMLModel",
      "state": {
       "layout": "IPY_MODEL_808258953ad74d98b41611f7319f3293",
       "style": "IPY_MODEL_f5fbe78df3b54169ba1b75b764cbb342",
       "value": "Click this button to start the calculator"
      }
     },
     "15f61fa354404bd1bdd88c4d87bc858f": {
      "model_module": "@jupyter-widgets/base",
      "model_module_version": "1.2.0",
      "model_name": "LayoutModel",
      "state": {
       "width": "250px"
      }
     },
     "16083809f2774b3ba96eb7f2429affe1": {
      "model_module": "@jupyter-widgets/controls",
      "model_module_version": "1.5.0",
      "model_name": "DescriptionStyleModel",
      "state": {
       "description_width": ""
      }
     },
     "162329c75be941a7b40463be5f7c2805": {
      "model_module": "@jupyter-widgets/controls",
      "model_module_version": "1.5.0",
      "model_name": "DescriptionStyleModel",
      "state": {
       "description_width": ""
      }
     },
     "16506dc3b5f9426fa2760d8a18a3f178": {
      "model_module": "@jupyter-widgets/controls",
      "model_module_version": "1.5.0",
      "model_name": "TextModel",
      "state": {
       "layout": "IPY_MODEL_201e1a4ee32840b19f981690bdacf3ae",
       "style": "IPY_MODEL_56b063aa808a4e4288063755efeae76e",
       "value": "-6"
      }
     },
     "1697ca7de2b14b059e57e92996030e9f": {
      "model_module": "@jupyter-widgets/base",
      "model_module_version": "1.2.0",
      "model_name": "LayoutModel",
      "state": {}
     },
     "1698fc2ea89940b3afa9a5726c23a0d2": {
      "model_module": "@jupyter-widgets/controls",
      "model_module_version": "1.5.0",
      "model_name": "DescriptionStyleModel",
      "state": {
       "description_width": ""
      }
     },
     "16a5b1ce60bc48b4b33c971494166401": {
      "model_module": "@jupyter-widgets/controls",
      "model_module_version": "1.5.0",
      "model_name": "HBoxModel",
      "state": {
       "children": [
        "IPY_MODEL_446bd0f86a6044d79e7e10a2c7a2d9bf",
        "IPY_MODEL_580d13390c1f455fa295ac08753af4c4",
        "IPY_MODEL_29e20250ef5a4f98937bffb4dd3a2816"
       ],
       "layout": "IPY_MODEL_4e7ce9bdf5004837b0ab930a8085aa33"
      }
     },
     "16d10af4b2ee4e189f770da47880e72b": {
      "model_module": "@jupyter-widgets/controls",
      "model_module_version": "1.5.0",
      "model_name": "DescriptionStyleModel",
      "state": {
       "description_width": ""
      }
     },
     "16d7e588c06e43bfb642ae0ff98faaa0": {
      "model_module": "@jupyter-widgets/controls",
      "model_module_version": "1.5.0",
      "model_name": "TextModel",
      "state": {
       "layout": "IPY_MODEL_250753b918e0432c803452a019d33c5c",
       "style": "IPY_MODEL_7eeee1955ce74ebd9fc09516b8fb2ba3",
       "value": "2"
      }
     },
     "16eaf48503304fc5a756b0fb1c5803f3": {
      "model_module": "@jupyter-widgets/base",
      "model_module_version": "1.2.0",
      "model_name": "LayoutModel",
      "state": {
       "width": "100px"
      }
     },
     "170f2c77b047495ebecba81ba606a0cf": {
      "model_module": "@jupyter-widgets/controls",
      "model_module_version": "1.5.0",
      "model_name": "BoxModel",
      "state": {
       "children": [
        "IPY_MODEL_28b5e7192b734a298fc3171956e93d2e",
        "IPY_MODEL_12c119afecf44377bc5b2683a9245655",
        "IPY_MODEL_62ce867ab11f4b229f4110e5413d6c3b"
       ],
       "layout": "IPY_MODEL_451ced09ec714605ad76ddecf3e541a1"
      }
     },
     "171d71039d1947fb980da20c068a0690": {
      "model_module": "@jupyter-widgets/controls",
      "model_module_version": "1.5.0",
      "model_name": "HBoxModel",
      "state": {
       "children": [
        "IPY_MODEL_24de0fc4349f49dca93eff3358c148d2",
        "IPY_MODEL_d2734faefdb7480eb2354117a15b2297"
       ],
       "layout": "IPY_MODEL_a7192a4cd93f41d6ad11286ea82bc14e"
      }
     },
     "173fda1ef3754f68ba7d55e5407ae60c": {
      "model_module": "@jupyter-widgets/controls",
      "model_module_version": "1.5.0",
      "model_name": "HBoxModel",
      "state": {
       "children": [
        "IPY_MODEL_b7cc6496638748a0a0b2e0990b5c24cd",
        "IPY_MODEL_86f96c38d02748a0a84135cd1db01a3d",
        "IPY_MODEL_eff41c6f29db4c7e81c5e11e317e5c5e"
       ],
       "layout": "IPY_MODEL_bca5690a734a4f618262ef31e7571272"
      }
     },
     "1762cc6f207747919ca28897fba82d70": {
      "model_module": "@jupyter-widgets/controls",
      "model_module_version": "1.5.0",
      "model_name": "TextModel",
      "state": {
       "description": "times",
       "layout": "IPY_MODEL_30414b9b4b28414baf7f22c252767ef7",
       "style": "IPY_MODEL_92e4cd8b5f67430ab79f31dc4dfa893a",
       "value": "1/10"
      }
     },
     "1783e8f560bc4d1a8dc9b14626f8b0ad": {
      "model_module": "@jupyter-widgets/controls",
      "model_module_version": "1.5.0",
      "model_name": "VBoxModel",
      "state": {
       "children": [
        "IPY_MODEL_fec747be70df4a558b3088f2dcf3c1f7",
        "IPY_MODEL_43235a77f49940c0aee85f719894d192",
        "IPY_MODEL_b54771b656be4d48a53bf86e18bf3e9d"
       ],
       "layout": "IPY_MODEL_0e3670d7a37d4366a34fab339b9308e1"
      }
     },
     "17892684d7af47eab0f2ac4c6b193afb": {
      "model_module": "@jupyter-widgets/controls",
      "model_module_version": "1.5.0",
      "model_name": "TextModel",
      "state": {
       "layout": "IPY_MODEL_1b785352cb1a4de487a9efaa222c7a96",
       "style": "IPY_MODEL_583d2fc7ea7b40efbd3a1c55be5079e1",
       "value": "-2"
      }
     },
     "17a87dc521874b868118507527fbc0cc": {
      "model_module": "@jupyter-widgets/controls",
      "model_module_version": "1.5.0",
      "model_name": "DescriptionStyleModel",
      "state": {
       "description_width": ""
      }
     },
     "17ac7a7304e24b929c8a9efc4d89c5a6": {
      "model_module": "@jupyter-widgets/controls",
      "model_module_version": "1.5.0",
      "model_name": "DescriptionStyleModel",
      "state": {
       "description_width": ""
      }
     },
     "17b71db5681b4d258bb0205f930b72b9": {
      "model_module": "@jupyter-widgets/controls",
      "model_module_version": "1.5.0",
      "model_name": "DescriptionStyleModel",
      "state": {
       "description_width": ""
      }
     },
     "17bc9321de474f2fac9acb7e2c6ec572": {
      "model_module": "@jupyter-widgets/controls",
      "model_module_version": "1.5.0",
      "model_name": "TextModel",
      "state": {
       "layout": "IPY_MODEL_d29f4c6323274c2ea715833a610068a5",
       "style": "IPY_MODEL_347d689d18c046a09ff914f4d3497591",
       "value": "5"
      }
     },
     "17c48bff25c94e1b8ebf18d1cd4f8066": {
      "model_module": "@jupyter-widgets/controls",
      "model_module_version": "1.5.0",
      "model_name": "BoxModel",
      "state": {
       "children": [
        "IPY_MODEL_171d71039d1947fb980da20c068a0690",
        "IPY_MODEL_c97077be0d1443ba9a1ee5cd5821c9f4",
        "IPY_MODEL_af6de9f6c4424dc989b783ffcc139792",
        "IPY_MODEL_78ef9a42c5254c6f9df62864fd4345a9"
       ],
       "layout": "IPY_MODEL_9e523b43626a434d8e9b35924bb6dad3"
      }
     },
     "17d1c86131f44115a4f6956b6bf744fe": {
      "model_module": "@jupyter-widgets/controls",
      "model_module_version": "1.5.0",
      "model_name": "HBoxModel",
      "state": {
       "children": [
        "IPY_MODEL_ca87561f5fd04a02aac6b22183ec0238",
        "IPY_MODEL_e7484725f42f4170b3e5cf05fb1c8645"
       ],
       "layout": "IPY_MODEL_b9b78ce0d8454ab9a46163f0cc35fd0d"
      }
     },
     "17e0c499ff3b41f7acfe1f46931781d3": {
      "model_module": "@jupyter-widgets/base",
      "model_module_version": "1.2.0",
      "model_name": "LayoutModel",
      "state": {}
     },
     "17ee71bc161f4ee6b475ff360576c239": {
      "model_module": "@jupyter-widgets/controls",
      "model_module_version": "1.5.0",
      "model_name": "TextModel",
      "state": {
       "layout": "IPY_MODEL_c488e0656e78457c941ce778fefda70e",
       "style": "IPY_MODEL_0265a5db2db941e8835f319be55ef459",
       "value": "3"
      }
     },
     "180cd0a7f14c4ce0aed9cf0ab1204918": {
      "model_module": "@jupyter-widgets/controls",
      "model_module_version": "1.5.0",
      "model_name": "DescriptionStyleModel",
      "state": {
       "description_width": ""
      }
     },
     "180e518928984c238e151e47659d3495": {
      "model_module": "@jupyter-widgets/controls",
      "model_module_version": "1.5.0",
      "model_name": "DescriptionStyleModel",
      "state": {
       "description_width": ""
      }
     },
     "18595dde49b44358a1957b07f35a3c0a": {
      "model_module": "@jupyter-widgets/controls",
      "model_module_version": "1.5.0",
      "model_name": "BoxModel",
      "state": {
       "children": [
        "IPY_MODEL_558283ed6ad54b00920c3b7ee41643b9",
        "IPY_MODEL_8afe343619064fa8bfdfef8806d989d0",
        "IPY_MODEL_67192b9a5077409d860c21c16101abd3"
       ],
       "layout": "IPY_MODEL_a7afe44bc9fb4882878b9cf9d5862e42"
      }
     },
     "185ca62ad59b4fb1898de88daadfbf19": {
      "model_module": "@jupyter-widgets/controls",
      "model_module_version": "1.5.0",
      "model_name": "HBoxModel",
      "state": {
       "children": [
        "IPY_MODEL_d9d3994636a44eaaa5a0469788291ebe",
        "IPY_MODEL_02918147d93c4a498574ec9ca08427b7"
       ],
       "layout": "IPY_MODEL_b690ed8b742a4bc292fd270f6229f2a7"
      }
     },
     "186e0f28be0f4346842b6d3e08d280e9": {
      "model_module": "@jupyter-widgets/base",
      "model_module_version": "1.2.0",
      "model_name": "LayoutModel",
      "state": {
       "width": "40px"
      }
     },
     "1893a0a1365446b982bde153f137f578": {
      "model_module": "@jupyter-widgets/controls",
      "model_module_version": "1.5.0",
      "model_name": "DescriptionStyleModel",
      "state": {
       "description_width": ""
      }
     },
     "18de2520a3cb47638ef1788ceb33f2dd": {
      "model_module": "@jupyter-widgets/controls",
      "model_module_version": "1.5.0",
      "model_name": "DescriptionStyleModel",
      "state": {
       "description_width": ""
      }
     },
     "18e77e13623f45fc9698915ad866fc2b": {
      "model_module": "@jupyter-widgets/controls",
      "model_module_version": "1.5.0",
      "model_name": "BoxModel",
      "state": {
       "children": [
        "IPY_MODEL_d14b119ca725417c9d65ce255efe8b4e",
        "IPY_MODEL_0999378733a24bab863bad390d16ee41",
        "IPY_MODEL_8abba779255f4a47b15c0cfd01d3a27e",
        "IPY_MODEL_3263fa349260464ea52668dc5ad42812"
       ],
       "layout": "IPY_MODEL_527bb8380c37401087bcd28e94711a8c"
      }
     },
     "18e800eadb0a403fac297973b35ed653": {
      "model_module": "@jupyter-widgets/controls",
      "model_module_version": "1.5.0",
      "model_name": "ButtonStyleModel",
      "state": {}
     },
     "194d5881fb18447585798b14c51e301b": {
      "model_module": "@jupyter-widgets/base",
      "model_module_version": "1.2.0",
      "model_name": "LayoutModel",
      "state": {
       "height": "35px",
       "width": "30px"
      }
     },
     "195db56fa98f4c12b658ad58e60b1e32": {
      "model_module": "@jupyter-widgets/controls",
      "model_module_version": "1.5.0",
      "model_name": "HTMLMathModel",
      "state": {
       "layout": "IPY_MODEL_adb8f78097994fa1a1bda0983ecc6ced",
       "style": "IPY_MODEL_1e40ea9b05d645bc8e288d3b83d03036",
       "value": "Results will be shown here."
      }
     },
     "196a0ade760743e093e07f8b4dc55c56": {
      "model_module": "@jupyter-widgets/controls",
      "model_module_version": "1.5.0",
      "model_name": "DescriptionStyleModel",
      "state": {
       "description_width": ""
      }
     },
     "1978815529be43f08ccf4d296ae678f3": {
      "model_module": "@jupyter-widgets/controls",
      "model_module_version": "1.5.0",
      "model_name": "ButtonStyleModel",
      "state": {}
     },
     "19cbe962e8c54b8785f50134b7747dc1": {
      "model_module": "@jupyter-widgets/base",
      "model_module_version": "1.2.0",
      "model_name": "LayoutModel",
      "state": {
       "width": "40px"
      }
     },
     "19e16f9a6d32479b8e08846947605b0b": {
      "model_module": "@jupyter-widgets/controls",
      "model_module_version": "1.5.0",
      "model_name": "DescriptionStyleModel",
      "state": {
       "description_width": ""
      }
     },
     "19fa193cac964d278ae6c86bf2d59099": {
      "model_module": "@jupyter-widgets/controls",
      "model_module_version": "1.5.0",
      "model_name": "TextModel",
      "state": {
       "layout": "IPY_MODEL_250753b918e0432c803452a019d33c5c",
       "style": "IPY_MODEL_5f983e3acaac416e8a9921c86452432d",
       "value": "7"
      }
     },
     "1a3f7aab2c7543329557f2a3ecb54029": {
      "model_module": "@jupyter-widgets/controls",
      "model_module_version": "1.5.0",
      "model_name": "TextModel",
      "state": {
       "layout": "IPY_MODEL_d743f8ba50f447a3ad2d5faaa6a0e9e2",
       "style": "IPY_MODEL_b40eb410e1ce4ac6a5429c652689b637",
       "value": "9"
      }
     },
     "1a49f50980d546b78848028893a4217c": {
      "model_module": "@jupyter-widgets/controls",
      "model_module_version": "1.5.0",
      "model_name": "HBoxModel",
      "state": {
       "children": [
        "IPY_MODEL_320f3af34cef4fc99355b350cdc9ee47",
        "IPY_MODEL_08e87bb5ac5b4062bb89c33b52ec02a7"
       ],
       "layout": "IPY_MODEL_cee1a5dae95b4c51a73e85d33242b432"
      }
     },
     "1a4dca5e1d3b4bcf8fd2fa6495f655ae": {
      "model_module": "@jupyter-widgets/controls",
      "model_module_version": "1.5.0",
      "model_name": "TextModel",
      "state": {
       "description": "times",
       "layout": "IPY_MODEL_1f52837be41342c2a6d247a064d1a935",
       "style": "IPY_MODEL_fdd2bf30fedd47c9843283aeeea24ba9",
       "value": "1"
      }
     },
     "1a4e7075c3ef4e43abe0ee10b4c30e5e": {
      "model_module": "@jupyter-widgets/controls",
      "model_module_version": "1.5.0",
      "model_name": "TextModel",
      "state": {
       "layout": "IPY_MODEL_250753b918e0432c803452a019d33c5c",
       "style": "IPY_MODEL_46964c4bbbc94785be24c627e3f60c9f",
       "value": "-1"
      }
     },
     "1a8624605d0e4ccab80dd4c6dae8c7da": {
      "model_module": "@jupyter-widgets/base",
      "model_module_version": "1.2.0",
      "model_name": "LayoutModel",
      "state": {}
     },
     "1ab781484dd24550b34507f44f2a186f": {
      "model_module": "@jupyter-widgets/controls",
      "model_module_version": "1.5.0",
      "model_name": "DescriptionStyleModel",
      "state": {
       "description_width": ""
      }
     },
     "1abbabc41ba44b0d928bf37857cb73cd": {
      "model_module": "@jupyter-widgets/controls",
      "model_module_version": "1.5.0",
      "model_name": "ButtonModel",
      "state": {
       "description": "Add rows",
       "layout": "IPY_MODEL_5ae5dd2c957749cda43de6e4ca5a2a0a",
       "style": "IPY_MODEL_baae6d59497b41ca8a0c653931e5c3cc"
      }
     },
     "1ad478fb93ac455096f343ff66be9ccf": {
      "model_module": "@jupyter-widgets/controls",
      "model_module_version": "1.5.0",
      "model_name": "DescriptionStyleModel",
      "state": {
       "description_width": ""
      }
     },
     "1ae9ca2c7aa344218ff0143264ccdd71": {
      "model_module": "@jupyter-widgets/controls",
      "model_module_version": "1.5.0",
      "model_name": "HBoxModel",
      "state": {
       "children": [
        "IPY_MODEL_202bcea152d8455fab230486ecd60886",
        "IPY_MODEL_49dd9cc77f46495083137b30377a9857",
        "IPY_MODEL_cb6395e0542b4504a1146f40e1f6620b"
       ],
       "layout": "IPY_MODEL_31712fbd2aa54f68a18fd31f523e1d26"
      }
     },
     "1af76ee5f0594bc7a6ec173107b18037": {
      "model_module": "@jupyter-widgets/controls",
      "model_module_version": "1.5.0",
      "model_name": "HTMLMathModel",
      "state": {
       "layout": "IPY_MODEL_99d435aca2024110b4a5617ab503fafc",
       "style": "IPY_MODEL_9c73f942b87642ed81933ab42fc9e355",
       "value": "Enter here the values of the right hand side vector $b$"
      }
     },
     "1b3a773e66084685801c3502eddcfc1f": {
      "model_module": "@jupyter-widgets/controls",
      "model_module_version": "1.5.0",
      "model_name": "TextModel",
      "state": {
       "layout": "IPY_MODEL_201e1a4ee32840b19f981690bdacf3ae",
       "style": "IPY_MODEL_820d5503e5704a0d869352f6dd31a5df",
       "value": "1"
      }
     },
     "1b3c9f5758b948da9cc1e0f5db464056": {
      "model_module": "@jupyter-widgets/controls",
      "model_module_version": "1.5.0",
      "model_name": "DescriptionStyleModel",
      "state": {
       "description_width": ""
      }
     },
     "1b4128d059e64ccd9a69f046676d65dc": {
      "model_module": "@jupyter-widgets/controls",
      "model_module_version": "1.5.0",
      "model_name": "ButtonStyleModel",
      "state": {}
     },
     "1b67125bc30f4371b0004013cb1f07b2": {
      "model_module": "@jupyter-widgets/controls",
      "model_module_version": "1.5.0",
      "model_name": "DescriptionStyleModel",
      "state": {
       "description_width": ""
      }
     },
     "1b785352cb1a4de487a9efaa222c7a96": {
      "model_module": "@jupyter-widgets/base",
      "model_module_version": "1.2.0",
      "model_name": "LayoutModel",
      "state": {
       "height": "35px",
       "width": "40px"
      }
     },
     "1ba9b5a6948a4e00864cf684f2dedd49": {
      "model_module": "@jupyter-widgets/controls",
      "model_module_version": "1.5.0",
      "model_name": "DescriptionStyleModel",
      "state": {
       "description_width": ""
      }
     },
     "1babda5310064a1095c2a1ce71e0f253": {
      "model_module": "@jupyter-widgets/controls",
      "model_module_version": "1.5.0",
      "model_name": "DescriptionStyleModel",
      "state": {
       "description_width": ""
      }
     },
     "1bc2b574a66042bf8b84f311bdcdfb3f": {
      "model_module": "@jupyter-widgets/base",
      "model_module_version": "1.2.0",
      "model_name": "LayoutModel",
      "state": {
       "width": "90px"
      }
     },
     "1bdfd78d4e0044cbba4909e665465369": {
      "model_module": "@jupyter-widgets/controls",
      "model_module_version": "1.5.0",
      "model_name": "DescriptionStyleModel",
      "state": {
       "description_width": ""
      }
     },
     "1beeb7548f8243f983f579ca4de4c670": {
      "model_module": "@jupyter-widgets/controls",
      "model_module_version": "1.5.0",
      "model_name": "HBoxModel",
      "state": {
       "children": [
        "IPY_MODEL_4ea99b699c41402c9691d6fd626dcfd9",
        "IPY_MODEL_dc321408fa284c7cbfe40818683a20be"
       ],
       "layout": "IPY_MODEL_2ce70e61e8ed43f4a109dd4fdcc1d76f"
      }
     },
     "1c09d5fa83504cc7b37edf1fca619c04": {
      "model_module": "@jupyter-widgets/base",
      "model_module_version": "1.2.0",
      "model_name": "LayoutModel",
      "state": {
       "justify_content": "space-between"
      }
     },
     "1c1bcb38cf6347d294c09c44ea5372c2": {
      "model_module": "@jupyter-widgets/base",
      "model_module_version": "1.2.0",
      "model_name": "LayoutModel",
      "state": {
       "width": "40px"
      }
     },
     "1c2e07a08f6f4529909c12f9e151ca96": {
      "model_module": "@jupyter-widgets/base",
      "model_module_version": "1.2.0",
      "model_name": "LayoutModel",
      "state": {
       "width": "150px"
      }
     },
     "1c331eeda1014ce2bd00b94476de78cf": {
      "model_module": "@jupyter-widgets/controls",
      "model_module_version": "1.5.0",
      "model_name": "ButtonStyleModel",
      "state": {}
     },
     "1c42016859284db5acf760b042fbe760": {
      "model_module": "@jupyter-widgets/controls",
      "model_module_version": "1.5.0",
      "model_name": "DropdownModel",
      "state": {
       "_options_labels": [
        "1",
        "2",
        "3"
       ],
       "description": "to row",
       "index": 1,
       "layout": "IPY_MODEL_882a386452c94d7baaf9bd4b3d9082ad",
       "style": "IPY_MODEL_54441dc8a73d4a059a82d04dd09c2e9a"
      }
     },
     "1c46c51be39841bc932da2174e799a8a": {
      "model_module": "@jupyter-widgets/controls",
      "model_module_version": "1.5.0",
      "model_name": "DropdownModel",
      "state": {
       "_options_labels": [
        "1",
        "2",
        "3"
       ],
       "description": "Swap row",
       "index": 0,
       "layout": "IPY_MODEL_a932b7f11e0c44e285e84db71a43508d",
       "style": "IPY_MODEL_a757d95fa52f40c087f3d6e7cdd66076"
      }
     },
     "1c473fa3fa084f6fb6f32f4f09d42d23": {
      "model_module": "@jupyter-widgets/controls",
      "model_module_version": "1.5.0",
      "model_name": "HTMLMathModel",
      "state": {
       "layout": "IPY_MODEL_305d1587d7104b50a98b9af1a5c2ac27",
       "style": "IPY_MODEL_8abf4bfdb9574deb83d5526265325a76",
       "value": "Enter here the values of the right hand side vector $b$"
      }
     },
     "1c48b6d81e5541e0926b6178e9a61476": {
      "model_module": "@jupyter-widgets/base",
      "model_module_version": "1.2.0",
      "model_name": "LayoutModel",
      "state": {
       "width": "150px"
      }
     },
     "1c4a8fdc3c9946fdaa2fcfae6d91276b": {
      "model_module": "@jupyter-widgets/controls",
      "model_module_version": "1.5.0",
      "model_name": "DescriptionStyleModel",
      "state": {
       "description_width": ""
      }
     },
     "1c59f0e6916a496c860ac94baefb0399": {
      "model_module": "@jupyter-widgets/base",
      "model_module_version": "1.2.0",
      "model_name": "LayoutModel",
      "state": {
       "width": "90px"
      }
     },
     "1cb0574fe7684b8fb47191d4c64450d4": {
      "model_module": "@jupyter-widgets/controls",
      "model_module_version": "1.5.0",
      "model_name": "TextModel",
      "state": {
       "layout": "IPY_MODEL_194d5881fb18447585798b14c51e301b",
       "style": "IPY_MODEL_c36672e4c69b40c8963b29175e86f8f0",
       "value": "1"
      }
     },
     "1ceaf9c9ac774ae985cae0c34af76539": {
      "model_module": "@jupyter-widgets/base",
      "model_module_version": "1.2.0",
      "model_name": "LayoutModel",
      "state": {
       "height": "35px",
       "width": "30px"
      }
     },
     "1d1aac312589425db1c6912646c6e798": {
      "model_module": "@jupyter-widgets/controls",
      "model_module_version": "1.5.0",
      "model_name": "HTMLMathModel",
      "state": {
       "layout": "IPY_MODEL_a36b11fd532342f9a38f3c7269eb5255",
       "style": "IPY_MODEL_2d33edac4b1c417fa28de5fc8e9fafaa"
      }
     },
     "1d2cf0dd430042028208abc8c7ac3880": {
      "model_module": "@jupyter-widgets/base",
      "model_module_version": "1.2.0",
      "model_name": "LayoutModel",
      "state": {
       "width": "100px"
      }
     },
     "1d362fa3291a438991c0f64e813d6fb5": {
      "model_module": "@jupyter-widgets/controls",
      "model_module_version": "1.5.0",
      "model_name": "HBoxModel",
      "state": {
       "children": [
        "IPY_MODEL_bd7a7e5e032c4a71be00bbfc02ac8080",
        "IPY_MODEL_9fe42b2fd1794fcb9db6d654f804828d"
       ],
       "layout": "IPY_MODEL_8da7e323600647a4857851013aadc645"
      }
     },
     "1d4a68d74d2147e1b5854782d5e2588c": {
      "model_module": "@jupyter-widgets/controls",
      "model_module_version": "1.5.0",
      "model_name": "DescriptionStyleModel",
      "state": {
       "description_width": ""
      }
     },
     "1d6f8011df4649169e2274b9b89c3aff": {
      "model_module": "@jupyter-widgets/controls",
      "model_module_version": "1.5.0",
      "model_name": "DescriptionStyleModel",
      "state": {
       "description_width": ""
      }
     },
     "1d8631b27f334741b4dec4e62367332d": {
      "model_module": "@jupyter-widgets/controls",
      "model_module_version": "1.5.0",
      "model_name": "HTMLMathModel",
      "state": {
       "layout": "IPY_MODEL_3019e58990bb4706a3bf95b83a8cca0d",
       "style": "IPY_MODEL_348495434cbc45ffbb3b84f1b4571117",
       "value": "Enter here the values of the right hand side vector $b$"
      }
     },
     "1d87c96996df4560becef2317973b3a5": {
      "model_module": "@jupyter-widgets/controls",
      "model_module_version": "1.5.0",
      "model_name": "TextModel",
      "state": {
       "layout": "IPY_MODEL_9f4d9e00ae3e470a8d024478444df27d",
       "style": "IPY_MODEL_afd07095cfa744c0a6d4068a1eea5f3b",
       "value": "2"
      }
     },
     "1d8dd25d307d4215987c4cffe4f8dc87": {
      "model_module": "@jupyter-widgets/controls",
      "model_module_version": "1.5.0",
      "model_name": "DescriptionStyleModel",
      "state": {
       "description_width": ""
      }
     },
     "1da17dbcd9c44aafbd009ed926a22938": {
      "model_module": "@jupyter-widgets/controls",
      "model_module_version": "1.5.0",
      "model_name": "TextModel",
      "state": {
       "layout": "IPY_MODEL_5658a8e71503421ab525d14883c87170",
       "style": "IPY_MODEL_0a9283977c4f4ac9a4717616fdb7ddb9",
       "value": "-1"
      }
     },
     "1dc7a793c07d40ba97d56d1d8a26d346": {
      "model_module": "@jupyter-widgets/controls",
      "model_module_version": "1.5.0",
      "model_name": "TextModel",
      "state": {
       "layout": "IPY_MODEL_1ceaf9c9ac774ae985cae0c34af76539",
       "style": "IPY_MODEL_b244ac24cb6c46f498c847643e9a754f",
       "value": "2"
      }
     },
     "1dd6798dcc784a88bc13c5b61f5db63b": {
      "model_module": "@jupyter-widgets/controls",
      "model_module_version": "1.5.0",
      "model_name": "DescriptionStyleModel",
      "state": {
       "description_width": ""
      }
     },
     "1dda77c3b2994a3bb88681d1a2f7e3bf": {
      "model_module": "@jupyter-widgets/controls",
      "model_module_version": "1.5.0",
      "model_name": "DescriptionStyleModel",
      "state": {
       "description_width": ""
      }
     },
     "1df46a14c6a34c118aaefda4eed4bd84": {
      "model_module": "@jupyter-widgets/base",
      "model_module_version": "1.2.0",
      "model_name": "LayoutModel",
      "state": {
       "flex_flow": "row wrap",
       "justify_content": "space-around"
      }
     },
     "1e0e540311654503ba7e3d3205e9e21d": {
      "model_module": "@jupyter-widgets/base",
      "model_module_version": "1.2.0",
      "model_name": "LayoutModel",
      "state": {
       "justify_content": "space-between"
      }
     },
     "1e204bac2f364ad181a34880cde442d3": {
      "model_module": "@jupyter-widgets/controls",
      "model_module_version": "1.5.0",
      "model_name": "TextModel",
      "state": {
       "layout": "IPY_MODEL_4bcd3a11811347d3979a9396c2e71cd4",
       "style": "IPY_MODEL_245aab02fe79430cbef9252664745237",
       "value": "-1"
      }
     },
     "1e40ea9b05d645bc8e288d3b83d03036": {
      "model_module": "@jupyter-widgets/controls",
      "model_module_version": "1.5.0",
      "model_name": "DescriptionStyleModel",
      "state": {
       "description_width": ""
      }
     },
     "1e477f549b904a3f83f3df8bdf0a4c76": {
      "model_module": "@jupyter-widgets/controls",
      "model_module_version": "1.5.0",
      "model_name": "DescriptionStyleModel",
      "state": {
       "description_width": ""
      }
     },
     "1e4fbedd193042388b3b255e25cfc160": {
      "model_module": "@jupyter-widgets/base",
      "model_module_version": "1.2.0",
      "model_name": "LayoutModel",
      "state": {}
     },
     "1e807409288442e1badd9adad68a45fc": {
      "model_module": "@jupyter-widgets/base",
      "model_module_version": "1.2.0",
      "model_name": "LayoutModel",
      "state": {}
     },
     "1ea4034f4b944ea2b8195289feca344b": {
      "model_module": "@jupyter-widgets/controls",
      "model_module_version": "1.5.0",
      "model_name": "DescriptionStyleModel",
      "state": {
       "description_width": ""
      }
     },
     "1eba5f7167cd49e6aae4447eb467570d": {
      "model_module": "@jupyter-widgets/base",
      "model_module_version": "1.2.0",
      "model_name": "LayoutModel",
      "state": {}
     },
     "1ec8a06b596d496fbcbce0324f6c8977": {
      "model_module": "@jupyter-widgets/base",
      "model_module_version": "1.2.0",
      "model_name": "LayoutModel",
      "state": {
       "width": "150px"
      }
     },
     "1ed225d750c74609a2bb98ddc1eb5a32": {
      "model_module": "@jupyter-widgets/controls",
      "model_module_version": "1.5.0",
      "model_name": "HBoxModel",
      "state": {
       "children": [
        "IPY_MODEL_9b690c913985495384e27195dd29d951",
        "IPY_MODEL_6b6770213d9c4ddf95c5668f5b408e98"
       ],
       "layout": "IPY_MODEL_28771b2e734a4640961c51a4baf36eb9"
      }
     },
     "1efbb9d5c4f0409c8978d5465ea6fc17": {
      "model_module": "@jupyter-widgets/controls",
      "model_module_version": "1.5.0",
      "model_name": "HBoxModel",
      "state": {
       "children": [
        "IPY_MODEL_7ab158f6fff941ad8580f2a6e8077c9d",
        "IPY_MODEL_40b5f3358d8f42df964a3535bbd32b4b",
        "IPY_MODEL_ca5cb79102e4486f94a85625e3bdbfff"
       ],
       "layout": "IPY_MODEL_06b62d54e2f04aa38ac4733df7852070"
      }
     },
     "1f0db46fc0ba44d1bb224a68a5cdc603": {
      "model_module": "@jupyter-widgets/base",
      "model_module_version": "1.2.0",
      "model_name": "LayoutModel",
      "state": {}
     },
     "1f1721a406774c5b881d4b6417839ce7": {
      "model_module": "@jupyter-widgets/controls",
      "model_module_version": "1.5.0",
      "model_name": "TextModel",
      "state": {
       "layout": "IPY_MODEL_9f4d9e00ae3e470a8d024478444df27d",
       "style": "IPY_MODEL_9d39e1be33c14ddab3fca2fbfdc502fe",
       "value": "2"
      }
     },
     "1f4ff2dc9cc14829ab276ba790386732": {
      "model_module": "@jupyter-widgets/controls",
      "model_module_version": "1.5.0",
      "model_name": "ButtonStyleModel",
      "state": {}
     },
     "1f52837be41342c2a6d247a064d1a935": {
      "model_module": "@jupyter-widgets/base",
      "model_module_version": "1.2.0",
      "model_name": "LayoutModel",
      "state": {
       "width": "150px"
      }
     },
     "1f7bd99816a947c5a12ee239811365bb": {
      "model_module": "@jupyter-widgets/controls",
      "model_module_version": "1.5.0",
      "model_name": "TextModel",
      "state": {
       "layout": "IPY_MODEL_ff8f131091ed4bf49b858ed52bc5b3ea",
       "style": "IPY_MODEL_5562803f777f4220922e115d4f04d27c",
       "value": "-6"
      }
     },
     "1f7fc871a0604e378812d9bb1fae1758": {
      "model_module": "@jupyter-widgets/controls",
      "model_module_version": "1.5.0",
      "model_name": "TextModel",
      "state": {
       "layout": "IPY_MODEL_c488e0656e78457c941ce778fefda70e",
       "style": "IPY_MODEL_e63c1c2f786e44d699edc019bafd3a1b",
       "value": "0"
      }
     },
     "1f91d9fc3aae4beba0ee078b58f73171": {
      "model_module": "@jupyter-widgets/controls",
      "model_module_version": "1.5.0",
      "model_name": "DescriptionStyleModel",
      "state": {
       "description_width": ""
      }
     },
     "1fe574e1054f404d8202f5becc84007d": {
      "model_module": "@jupyter-widgets/controls",
      "model_module_version": "1.5.0",
      "model_name": "TextModel",
      "state": {
       "layout": "IPY_MODEL_7003463d13444a27a885608e31a34ec8",
       "style": "IPY_MODEL_bae39f2e9d164a1aa912ddd2fbfac503",
       "value": "4"
      }
     },
     "1fe99bc6dcfd406ca5bab6bcbaae7054": {
      "model_module": "@jupyter-widgets/base",
      "model_module_version": "1.2.0",
      "model_name": "LayoutModel",
      "state": {}
     },
     "1fef745312564af7ac08083de461b9aa": {
      "model_module": "@jupyter-widgets/controls",
      "model_module_version": "1.5.0",
      "model_name": "DescriptionStyleModel",
      "state": {
       "description_width": ""
      }
     },
     "201e1a4ee32840b19f981690bdacf3ae": {
      "model_module": "@jupyter-widgets/base",
      "model_module_version": "1.2.0",
      "model_name": "LayoutModel",
      "state": {
       "height": "35px",
       "width": "30px"
      }
     },
     "202bcea152d8455fab230486ecd60886": {
      "model_module": "@jupyter-widgets/controls",
      "model_module_version": "1.5.0",
      "model_name": "TextModel",
      "state": {
       "layout": "IPY_MODEL_e56e2cbba3324f1e9a6da6e53dfda065",
       "style": "IPY_MODEL_0a2b760debba442881752869b447449c",
       "value": "2"
      }
     },
     "205117a8f4f94aabaa92fe5ebce03dd4": {
      "model_module": "@jupyter-widgets/controls",
      "model_module_version": "1.5.0",
      "model_name": "HTMLMathModel",
      "state": {
       "layout": "IPY_MODEL_3791b490e79048c684bb5d12570d454f",
       "style": "IPY_MODEL_a91fd4a111824bb7b225ca7e0b4e0590",
       "value": "Enter here the values of the constant matrix $\\bf{B}$"
      }
     },
     "205178a13b6046ff9e5be2cb3666b384": {
      "model_module": "@jupyter-widgets/controls",
      "model_module_version": "1.5.0",
      "model_name": "GridBoxModel",
      "state": {
       "children": [
        "IPY_MODEL_0398204f33394a48b552143a1a5a1e59",
        "IPY_MODEL_aebbaada5736432b974bc9394acfecc0",
        "IPY_MODEL_63f346ec2d4345668e541bb799af59dc",
        "IPY_MODEL_d78d2a905ada4d5e87019ba9cdd25d0a",
        "IPY_MODEL_512efbfa42cd445b96cceb06b4ad483b",
        "IPY_MODEL_92f60c35122944868d0262d7bd4089b7",
        "IPY_MODEL_f4f56300c6734f17be157f6d2b5be17b",
        "IPY_MODEL_35ad94afcbdb4111ac27f1e88154533f",
        "IPY_MODEL_11284215318541d5aa2ff828facefe79"
       ],
       "layout": "IPY_MODEL_9ca9815f747941e28c83e5a20b4c3311"
      }
     },
     "20559d79dceb43e3b78860b66a5ccb34": {
      "model_module": "@jupyter-widgets/controls",
      "model_module_version": "1.5.0",
      "model_name": "ButtonModel",
      "state": {
       "description": "Multiply row",
       "layout": "IPY_MODEL_29d0123e078349d1b637706ed8af4b65",
       "style": "IPY_MODEL_59e5da1d512e4c08a6ee898784c7e6e0"
      }
     },
     "20cc6ee9c4b8471899b0eed8346430ce": {
      "model_module": "@jupyter-widgets/controls",
      "model_module_version": "1.5.0",
      "model_name": "HBoxModel",
      "state": {
       "children": [
        "IPY_MODEL_065607d587154dd0bf33efd59c9fd2e5",
        "IPY_MODEL_45600524194d41f9843f8cfef3d021cb",
        "IPY_MODEL_6027277628f14e74a3f2a49fcb4d1e71"
       ],
       "layout": "IPY_MODEL_07c1ec7739c84ab9ac6cb72b1f3c64f1"
      }
     },
     "20f2323de88c4f828e3ed4f1c2e3ab40": {
      "model_module": "@jupyter-widgets/controls",
      "model_module_version": "1.5.0",
      "model_name": "DescriptionStyleModel",
      "state": {
       "description_width": ""
      }
     },
     "210a393e750a4ad8917ff5cb67fb339f": {
      "model_module": "@jupyter-widgets/controls",
      "model_module_version": "1.5.0",
      "model_name": "HBoxModel",
      "state": {
       "children": [
        "IPY_MODEL_9de3d1ad90064f468a849a10745fd0fa",
        "IPY_MODEL_0d90a62c69f04db09f7e6c938c607302",
        "IPY_MODEL_7ce32d06288d4ccd848b0de8c4bb2177"
       ],
       "layout": "IPY_MODEL_695f9257f4a9417a81a9b176fd2944ec"
      }
     },
     "212590dd4485435897194493cb29de06": {
      "model_module": "@jupyter-widgets/controls",
      "model_module_version": "1.5.0",
      "model_name": "BoxModel",
      "state": {
       "children": [
        "IPY_MODEL_a6ef1cc8de694870aca8d4499b77ed63",
        "IPY_MODEL_60e64e346ad44c2a8a4ec036373bbf35",
        "IPY_MODEL_d26badf452d64984998611e112ee2d98",
        "IPY_MODEL_9af74652ab8347ec97ce3b0b40395138"
       ],
       "layout": "IPY_MODEL_c81ddd24179e4c50b81a1fdb5c4cdad3"
      }
     },
     "213171bafceb417580ae616b5cd6fbd2": {
      "model_module": "@jupyter-widgets/controls",
      "model_module_version": "1.5.0",
      "model_name": "TextModel",
      "state": {
       "layout": "IPY_MODEL_342fbdc31d2d406489b24d1349c22e03",
       "style": "IPY_MODEL_fe1eacb80c524d05bd3206c88634d7e2",
       "value": "2"
      }
     },
     "2149a2c76b964772a4a3545aa597628b": {
      "model_module": "@jupyter-widgets/base",
      "model_module_version": "1.2.0",
      "model_name": "LayoutModel",
      "state": {}
     },
     "2151371b93794de4b96228021502e397": {
      "model_module": "@jupyter-widgets/controls",
      "model_module_version": "1.5.0",
      "model_name": "TextModel",
      "state": {
       "layout": "IPY_MODEL_1b785352cb1a4de487a9efaa222c7a96",
       "style": "IPY_MODEL_920c1e04729144f38f485519cb4bd803",
       "value": "3"
      }
     },
     "215dfe54c4e344daae05088a2c266042": {
      "model_module": "@jupyter-widgets/base",
      "model_module_version": "1.2.0",
      "model_name": "LayoutModel",
      "state": {}
     },
     "21c8eaa8104147e5be4c03204a5855c9": {
      "model_module": "@jupyter-widgets/controls",
      "model_module_version": "1.5.0",
      "model_name": "TextModel",
      "state": {
       "layout": "IPY_MODEL_c488e0656e78457c941ce778fefda70e",
       "style": "IPY_MODEL_e5e5ade033b44aaeb61d82114053637f",
       "value": "-1"
      }
     },
     "220023d8dfce4698ae5434e9230be0c4": {
      "model_module": "@jupyter-widgets/controls",
      "model_module_version": "1.5.0",
      "model_name": "BoxModel",
      "state": {
       "children": [
        "IPY_MODEL_798f4a9a0653434181ae0b0d8d82e677",
        "IPY_MODEL_3c4ec5effdd74ea18fd1ec3a8480692d",
        "IPY_MODEL_70b01c5704794019927ff06f0ffd65c8",
        "IPY_MODEL_6637f3c5eaab427bab59fffd0f299f83"
       ],
       "layout": "IPY_MODEL_1e0e540311654503ba7e3d3205e9e21d"
      }
     },
     "2201fc263d934025a98b6446ae7d8f2c": {
      "model_module": "@jupyter-widgets/controls",
      "model_module_version": "1.5.0",
      "model_name": "VBoxModel",
      "state": {
       "children": [
        "IPY_MODEL_27def1cebe11409d914b2b8ff9595290",
        "IPY_MODEL_cd6c514871824ca6b4ad768f59d6b078",
        "IPY_MODEL_4c0b1ef52a8c4d188d3abc59fb505491"
       ],
       "layout": "IPY_MODEL_7a1de4d5af1e4f33b84c915067d8aaac"
      }
     },
     "2208c8013a0d4581a2662f947d523ae7": {
      "model_module": "@jupyter-widgets/base",
      "model_module_version": "1.2.0",
      "model_name": "LayoutModel",
      "state": {}
     },
     "221413b645cf469a99a03986d50f7250": {
      "model_module": "@jupyter-widgets/controls",
      "model_module_version": "1.5.0",
      "model_name": "DescriptionStyleModel",
      "state": {
       "description_width": ""
      }
     },
     "2257a54b7fb44eef953cc10919568a02": {
      "model_module": "@jupyter-widgets/controls",
      "model_module_version": "1.5.0",
      "model_name": "DescriptionStyleModel",
      "state": {
       "description_width": ""
      }
     },
     "226c7c5f1b15439686c255a2c7570eff": {
      "model_module": "@jupyter-widgets/controls",
      "model_module_version": "1.5.0",
      "model_name": "DescriptionStyleModel",
      "state": {
       "description_width": ""
      }
     },
     "228ca673db6848d2b13ab692bc3fda44": {
      "model_module": "@jupyter-widgets/controls",
      "model_module_version": "1.5.0",
      "model_name": "BoxModel",
      "state": {
       "children": [
        "IPY_MODEL_d835e14b95ff413da8e335b159e808d6",
        "IPY_MODEL_d67c2a5bf2b249a88dea1110b382f7c6",
        "IPY_MODEL_12d3e28e7ce34b71a02bfe9458d4930b",
        "IPY_MODEL_f823ff325aed40fd85786b680418073e"
       ],
       "layout": "IPY_MODEL_1c09d5fa83504cc7b37edf1fca619c04"
      }
     },
     "22ed4d4ecee840d68a2d9da9321467a0": {
      "model_module": "@jupyter-widgets/controls",
      "model_module_version": "1.5.0",
      "model_name": "DescriptionStyleModel",
      "state": {
       "description_width": ""
      }
     },
     "23032e0b18c748c4b66356fe909656ed": {
      "model_module": "@jupyter-widgets/controls",
      "model_module_version": "1.5.0",
      "model_name": "TextModel",
      "state": {
       "layout": "IPY_MODEL_b2827ab913cf4f49b7a4aeebd116396e",
       "style": "IPY_MODEL_2d33913fd8c44fa2b32543c12a135386",
       "value": "1"
      }
     },
     "230eaa41c63a4af498c5d5c00b11ff94": {
      "model_module": "@jupyter-widgets/controls",
      "model_module_version": "1.5.0",
      "model_name": "TextModel",
      "state": {
       "layout": "IPY_MODEL_7a607c89a00143a7a0808c95689bf41a",
       "style": "IPY_MODEL_999d16ca92594bd4a58a13637bcd4cc1",
       "value": "7"
      }
     },
     "231b58a9b1854609a5f4b598fa6e40bb": {
      "model_module": "@jupyter-widgets/base",
      "model_module_version": "1.2.0",
      "model_name": "LayoutModel",
      "state": {
       "flex_flow": "row wrap",
       "justify_content": "space-around"
      }
     },
     "2321cf2b4a914bb587a06b04a654a09e": {
      "model_module": "@jupyter-widgets/base",
      "model_module_version": "1.2.0",
      "model_name": "LayoutModel",
      "state": {
       "width": "150px"
      }
     },
     "234fd6bd218943bca80c2e98b9f8ba69": {
      "model_module": "@jupyter-widgets/controls",
      "model_module_version": "1.5.0",
      "model_name": "DescriptionStyleModel",
      "state": {
       "description_width": ""
      }
     },
     "23650d83b2f0469ebc2fc217affa137d": {
      "model_module": "@jupyter-widgets/controls",
      "model_module_version": "1.5.0",
      "model_name": "DescriptionStyleModel",
      "state": {
       "description_width": ""
      }
     },
     "237feb43c3984f1c9f37ac9c75cb0316": {
      "model_module": "@jupyter-widgets/controls",
      "model_module_version": "1.5.0",
      "model_name": "HBoxModel",
      "state": {
       "children": [
        "IPY_MODEL_eb29f29b39b647e08cfea5f0f8b41fa7",
        "IPY_MODEL_5f85c6ab0277455f99b05f34b351e22c",
        "IPY_MODEL_9935ee937e5d4e7696be5d4b22b056b3"
       ],
       "layout": "IPY_MODEL_89aa01d2624b45949572270d6e8b60f5"
      }
     },
     "2381015450404a7291bf34625932bde6": {
      "model_module": "@jupyter-widgets/controls",
      "model_module_version": "1.5.0",
      "model_name": "DescriptionStyleModel",
      "state": {
       "description_width": ""
      }
     },
     "238dc26deb124d2e826066be38802c6d": {
      "model_module": "@jupyter-widgets/controls",
      "model_module_version": "1.5.0",
      "model_name": "HTMLMathModel",
      "state": {
       "layout": "IPY_MODEL_7c93b0891d2d41bfbfc9d9ad98e5c3aa",
       "style": "IPY_MODEL_614eeb440c474e308e97660a23910362",
       "value": "The augmented matrix is:\n    $$\n    \\left[ \\begin{array}{rrr|r}\n        2 & -6 & 1 & 7\\\\\n        1 & 2 & -1 & -1\\\\\n        5 & 7 & -4 & 9\n    \\end{array} \\right]\n    $$"
      }
     },
     "239bec109578490f9329cf0477e25967": {
      "model_module": "@jupyter-widgets/base",
      "model_module_version": "1.2.0",
      "model_name": "LayoutModel",
      "state": {
       "height": "35px",
       "width": "30px"
      }
     },
     "23b71ad4c90c41ae9eda16c6b16e8791": {
      "model_module": "@jupyter-widgets/controls",
      "model_module_version": "1.5.0",
      "model_name": "HBoxModel",
      "state": {
       "children": [
        "IPY_MODEL_e06b6935fe4f4197904c5ef76be76a4b",
        "IPY_MODEL_8f703c7c65e541269845be3faeb124e9"
       ],
       "layout": "IPY_MODEL_8c21363e29ca4259a8e74c484b3a756d"
      }
     },
     "23d608c094b34066a6bbb7cbd733c1a0": {
      "model_module": "@jupyter-widgets/controls",
      "model_module_version": "1.5.0",
      "model_name": "TextModel",
      "state": {
       "layout": "IPY_MODEL_97993fa24fac42e28605e8d366180168",
       "style": "IPY_MODEL_563d566cffc449619e6778b5aa4a3369",
       "value": "1"
      }
     },
     "23dd1ca78ec447f9babdc3ef3b3c5cec": {
      "model_module": "@jupyter-widgets/controls",
      "model_module_version": "1.5.0",
      "model_name": "DescriptionStyleModel",
      "state": {
       "description_width": ""
      }
     },
     "2421c9d1816149519b4c4aa120cff6a1": {
      "model_module": "@jupyter-widgets/controls",
      "model_module_version": "1.5.0",
      "model_name": "DropdownModel",
      "state": {
       "_options_labels": [
        "1",
        "2",
        "3"
       ],
       "description": "to row",
       "index": 1,
       "layout": "IPY_MODEL_8430b079d5ed4805be3645bfb2d1d1b8",
       "style": "IPY_MODEL_9619a83f1039411bacf6160ccd9073e6"
      }
     },
     "2430d7ab76e14c8399c1b62d5c64d452": {
      "model_module": "@jupyter-widgets/controls",
      "model_module_version": "1.5.0",
      "model_name": "HBoxModel",
      "state": {
       "children": [
        "IPY_MODEL_eca4c35a016d4bfab194ffb0cd279fbe",
        "IPY_MODEL_6c965513aa7d4ea69d036cfd7a56bc44"
       ],
       "layout": "IPY_MODEL_d1e7cd7d7a5c4afb97dada2c7c6d1757"
      }
     },
     "244534296dbf435fbc9442b858609f49": {
      "model_module": "@jupyter-widgets/base",
      "model_module_version": "1.2.0",
      "model_name": "LayoutModel",
      "state": {}
     },
     "245aab02fe79430cbef9252664745237": {
      "model_module": "@jupyter-widgets/controls",
      "model_module_version": "1.5.0",
      "model_name": "DescriptionStyleModel",
      "state": {
       "description_width": ""
      }
     },
     "248aa46aa6924a879e705dd7291bb893": {
      "model_module": "@jupyter-widgets/controls",
      "model_module_version": "1.5.0",
      "model_name": "HTMLMathModel",
      "state": {
       "layout": "IPY_MODEL_26e4f2aac50a42659caec5fec5cb1044",
       "style": "IPY_MODEL_0a6fdaf2cab9418cb73cde409a0a83f0",
       "value": "Enter here the values of the matrix $A$"
      }
     },
     "24da1a4ef69c4e6aaf08af01ec5fc126": {
      "model_module": "@jupyter-widgets/controls",
      "model_module_version": "1.5.0",
      "model_name": "VBoxModel",
      "state": {
       "children": [
        "IPY_MODEL_0cd909d7e75b4dca930bf7befc8e9156",
        "IPY_MODEL_7362a71846a24c0f90bc62605b13b547",
        "IPY_MODEL_4a488eba4b3d4c309074a0b1c13dd2ec"
       ],
       "layout": "IPY_MODEL_7edfd17ba07446bf9f3490b0b73ca4fb"
      }
     },
     "24de0fc4349f49dca93eff3358c148d2": {
      "model_module": "@jupyter-widgets/controls",
      "model_module_version": "1.5.0",
      "model_name": "HTMLMathModel",
      "state": {
       "layout": "IPY_MODEL_6491d7a88f0a43129db3865bf2c52bd3",
       "style": "IPY_MODEL_b46dffe59e25455b8da113a95882f408",
       "value": "Enter here the values of the matrix $A$"
      }
     },
     "24e52a9da5f64680833f56257412e632": {
      "model_module": "@jupyter-widgets/base",
      "model_module_version": "1.2.0",
      "model_name": "LayoutModel",
      "state": {
       "height": "35px",
       "width": "30px"
      }
     },
     "24e928f6f8cb48e9a2c8810e45ffa908": {
      "model_module": "@jupyter-widgets/controls",
      "model_module_version": "1.5.0",
      "model_name": "VBoxModel",
      "state": {
       "children": [
        "IPY_MODEL_859cc43c1d154e15a6b81826e2874929",
        "IPY_MODEL_edf76f77bb2345249e4915144d90afc2"
       ],
       "layout": "IPY_MODEL_c77caa6526a745949292ebc17be476ac"
      }
     },
     "24f3b6a6852542fcafa7522a595f43a1": {
      "model_module": "@jupyter-widgets/controls",
      "model_module_version": "1.5.0",
      "model_name": "VBoxModel",
      "state": {
       "children": [
        "IPY_MODEL_8689fc2bb6ce480485156cf5b07bdf4d",
        "IPY_MODEL_a64ee2cb1ea24db7bbe56e821291f43c"
       ],
       "layout": "IPY_MODEL_620c2d87598f4c928d6573093a0380ab"
      }
     },
     "250753b918e0432c803452a019d33c5c": {
      "model_module": "@jupyter-widgets/base",
      "model_module_version": "1.2.0",
      "model_name": "LayoutModel",
      "state": {
       "height": "35px",
       "width": "40px"
      }
     },
     "25b711b470f24ac1ae6f95a115b77415": {
      "model_module": "@jupyter-widgets/base",
      "model_module_version": "1.2.0",
      "model_name": "LayoutModel",
      "state": {}
     },
     "25baaf28b2324ebda9a7c97a543b470f": {
      "model_module": "@jupyter-widgets/controls",
      "model_module_version": "1.5.0",
      "model_name": "DescriptionStyleModel",
      "state": {
       "description_width": ""
      }
     },
     "25d4f493c8ea4cedbfa7dcb7717d3701": {
      "model_module": "@jupyter-widgets/controls",
      "model_module_version": "1.5.0",
      "model_name": "HTMLModel",
      "state": {
       "layout": "IPY_MODEL_d8d558cfae7743ee98c2838480f962fc",
       "style": "IPY_MODEL_a7c5c741036f4cb2b81c51b48da8fa71",
       "value": "Click the button below to start the calculator"
      }
     },
     "25da9847c7e64e2aba5e4aade0fa849d": {
      "model_module": "@jupyter-widgets/controls",
      "model_module_version": "1.5.0",
      "model_name": "TextModel",
      "state": {
       "layout": "IPY_MODEL_383a1c5f5f0c418b84e9a50a2a78d25a",
       "style": "IPY_MODEL_aa674477ff8a492bb4947fa0e14ffdcf",
       "value": "3"
      }
     },
     "25de9f3d375e41e7a8a4105790e0815e": {
      "model_module": "@jupyter-widgets/controls",
      "model_module_version": "1.5.0",
      "model_name": "TextModel",
      "state": {
       "layout": "IPY_MODEL_e168436c7ee0437a9552e5f0afc85715",
       "style": "IPY_MODEL_a766e68449cb4c0dbe626c0dbf3c6711",
       "value": "-2"
      }
     },
     "25eb5f3912014d3e8dca02d0788b2af3": {
      "model_module": "@jupyter-widgets/controls",
      "model_module_version": "1.5.0",
      "model_name": "DescriptionStyleModel",
      "state": {
       "description_width": ""
      }
     },
     "25ef4af5bc174cd9903de9e6ce4562b1": {
      "model_module": "@jupyter-widgets/base",
      "model_module_version": "1.2.0",
      "model_name": "LayoutModel",
      "state": {}
     },
     "25f8a100db8c46eaaa3bbec5fd7f66bf": {
      "model_module": "@jupyter-widgets/controls",
      "model_module_version": "1.5.0",
      "model_name": "DescriptionStyleModel",
      "state": {
       "description_width": ""
      }
     },
     "2606432d4b3744eba13f63c81f6e8436": {
      "model_module": "@jupyter-widgets/base",
      "model_module_version": "1.2.0",
      "model_name": "LayoutModel",
      "state": {}
     },
     "265dc97ead1348268d4fec0c5a85c5b3": {
      "model_module": "@jupyter-widgets/controls",
      "model_module_version": "1.5.0",
      "model_name": "HTMLModel",
      "state": {
       "layout": "IPY_MODEL_b6150c63209b4276b3bd02f308092141",
       "style": "IPY_MODEL_7ecd63ce5cb94b2a84bf5a7c6658a342",
       "value": "Click the button below to start the calculator"
      }
     },
     "268b20f256bc4d2cb538471abe1d5078": {
      "model_module": "@jupyter-widgets/controls",
      "model_module_version": "1.5.0",
      "model_name": "DescriptionStyleModel",
      "state": {
       "description_width": ""
      }
     },
     "268d4ad3924647ce906335e7415ad7a2": {
      "model_module": "@jupyter-widgets/controls",
      "model_module_version": "1.5.0",
      "model_name": "TextModel",
      "state": {
       "layout": "IPY_MODEL_776389df997545fcab086c0233cb0ab0",
       "style": "IPY_MODEL_86ae6eb8ce7643dfaf73c1d1b1addd88",
       "value": "9"
      }
     },
     "2694759319eb4c2fbc58bcfb039c1643": {
      "model_module": "@jupyter-widgets/controls",
      "model_module_version": "1.5.0",
      "model_name": "HTMLMathModel",
      "state": {
       "layout": "IPY_MODEL_46bd368a155544aeb7f43ca6c392538a",
       "style": "IPY_MODEL_996630e66dd54e9cb6a3775c5bda16d9",
       "value": "The augmented matrix $(\\bf{A}|\\bf{B})$ is:\n $$ \n    \\left[ \\begin{array}{rrr|r}\n        2 & -6 & 1 & 7\\\\\n        1 & 2 & -1 & -1\\\\\n        5 & 7 & -4 & 9\n    \\end{array} \\right]\n    $$ \nwith $\\det{\\bf A} = 1$"
      }
     },
     "26ae4d7d8ca84d0da16f6704116d6d81": {
      "model_module": "@jupyter-widgets/base",
      "model_module_version": "1.2.0",
      "model_name": "LayoutModel",
      "state": {
       "width": "90px"
      }
     },
     "26b0a5e6521b404ea78e4c5f76d889a6": {
      "model_module": "@jupyter-widgets/base",
      "model_module_version": "1.2.0",
      "model_name": "LayoutModel",
      "state": {}
     },
     "26e4f2aac50a42659caec5fec5cb1044": {
      "model_module": "@jupyter-widgets/base",
      "model_module_version": "1.2.0",
      "model_name": "LayoutModel",
      "state": {
       "width": "90px"
      }
     },
     "271c37bcc7cc4dab8c857a1a5c5cf653": {
      "model_module": "@jupyter-widgets/base",
      "model_module_version": "1.2.0",
      "model_name": "LayoutModel",
      "state": {}
     },
     "2723cc5a4fb348278c3373ff5f55afd5": {
      "model_module": "@jupyter-widgets/base",
      "model_module_version": "1.2.0",
      "model_name": "LayoutModel",
      "state": {}
     },
     "272693dae249402d964a049d58e0c3a8": {
      "model_module": "@jupyter-widgets/base",
      "model_module_version": "1.2.0",
      "model_name": "LayoutModel",
      "state": {
       "width": "100px"
      }
     },
     "2776291cb0144876be4745eddadccc5f": {
      "model_module": "@jupyter-widgets/controls",
      "model_module_version": "1.5.0",
      "model_name": "TextModel",
      "state": {
       "layout": "IPY_MODEL_239bec109578490f9329cf0477e25967",
       "style": "IPY_MODEL_a0ca02b99863475181c472671181931b",
       "value": "2"
      }
     },
     "2778daa48ab64c0db6ad457cd526e82b": {
      "model_module": "@jupyter-widgets/base",
      "model_module_version": "1.2.0",
      "model_name": "LayoutModel",
      "state": {}
     },
     "279f582fd16e487ab9983179129112ee": {
      "model_module": "@jupyter-widgets/controls",
      "model_module_version": "1.5.0",
      "model_name": "BoxModel",
      "state": {
       "children": [
        "IPY_MODEL_a59f12fa718c46579c4aea8809dea6a7",
        "IPY_MODEL_a9ac0550e11a40198a6cf372d3a5a6ed",
        "IPY_MODEL_7e3c5396fcee44518743f679cbdde3e4",
        "IPY_MODEL_ce8d672259f64ba5b0abc94b3c51cff2"
       ],
       "layout": "IPY_MODEL_96d97b2c33114511b89b12ab5eb8480b"
      }
     },
     "27def1cebe11409d914b2b8ff9595290": {
      "model_module": "@jupyter-widgets/controls",
      "model_module_version": "1.5.0",
      "model_name": "TextModel",
      "state": {
       "layout": "IPY_MODEL_4bcd3a11811347d3979a9396c2e71cd4",
       "style": "IPY_MODEL_99297227650b4b25a957dead6bc6dc34",
       "value": "7"
      }
     },
     "27e12ce652fd4b288abbe6a1c86ca315": {
      "model_module": "@jupyter-widgets/controls",
      "model_module_version": "1.5.0",
      "model_name": "ButtonStyleModel",
      "state": {}
     },
     "27e270f81499483c9c05d25b93ff2503": {
      "model_module": "@jupyter-widgets/controls",
      "model_module_version": "1.5.0",
      "model_name": "TextModel",
      "state": {
       "layout": "IPY_MODEL_d7c4f11771b948fa9166cf5745d8d1c9",
       "style": "IPY_MODEL_6d36fe9ac2a8401a8b726a75147126af",
       "value": "-2"
      }
     },
     "28020b00756041d7978aa1dc3d078eb2": {
      "model_module": "@jupyter-widgets/controls",
      "model_module_version": "1.5.0",
      "model_name": "DescriptionStyleModel",
      "state": {
       "description_width": ""
      }
     },
     "281efdd502c74ca8a2e8d12af8d95a38": {
      "model_module": "@jupyter-widgets/base",
      "model_module_version": "1.2.0",
      "model_name": "LayoutModel",
      "state": {}
     },
     "28281cc5db8849778bce13619e1bee94": {
      "model_module": "@jupyter-widgets/controls",
      "model_module_version": "1.5.0",
      "model_name": "DescriptionStyleModel",
      "state": {
       "description_width": ""
      }
     },
     "282f0118aa2f4f158fbfd1ecfe149712": {
      "model_module": "@jupyter-widgets/controls",
      "model_module_version": "1.5.0",
      "model_name": "HTMLMathModel",
      "state": {
       "layout": "IPY_MODEL_f616f17b85f443ceaaf08420fbb6fafd",
       "style": "IPY_MODEL_8ae8bbc9e00349259b6d9ca69b0c7731",
       "value": "Enter here the values of the matrix $\\bf{A}$"
      }
     },
     "28373c1896904be39f1e3dac378e9e2b": {
      "model_module": "@jupyter-widgets/base",
      "model_module_version": "1.2.0",
      "model_name": "LayoutModel",
      "state": {
       "width": "120px"
      }
     },
     "28771b2e734a4640961c51a4baf36eb9": {
      "model_module": "@jupyter-widgets/base",
      "model_module_version": "1.2.0",
      "model_name": "LayoutModel",
      "state": {}
     },
     "28778d37a3d34de8abdb465645c3a198": {
      "model_module": "@jupyter-widgets/base",
      "model_module_version": "1.2.0",
      "model_name": "LayoutModel",
      "state": {
       "justify_content": "center"
      }
     },
     "28b5e7192b734a298fc3171956e93d2e": {
      "model_module": "@jupyter-widgets/controls",
      "model_module_version": "1.5.0",
      "model_name": "VBoxModel",
      "state": {
       "children": [
        "IPY_MODEL_1c46c51be39841bc932da2174e799a8a",
        "IPY_MODEL_f442a28641c04a2f8d4fc2c1c1bf0854",
        "IPY_MODEL_5a2ba0172d81486caad06bc3b533ed52"
       ],
       "layout": "IPY_MODEL_dad6d53a50fa4d5a83489cb96cc0f3ae"
      }
     },
     "28c6f44c68c24f47930ad943e1c212ae": {
      "model_module": "@jupyter-widgets/controls",
      "model_module_version": "1.5.0",
      "model_name": "ButtonStyleModel",
      "state": {}
     },
     "28cda9ace8814fc6b9e4351cfac64ded": {
      "model_module": "@jupyter-widgets/base",
      "model_module_version": "1.2.0",
      "model_name": "LayoutModel",
      "state": {}
     },
     "28ceea5bd3b94a2882c848e4c9d38095": {
      "model_module": "@jupyter-widgets/controls",
      "model_module_version": "1.5.0",
      "model_name": "DescriptionStyleModel",
      "state": {
       "description_width": ""
      }
     },
     "28d5633686e6401d9eb6f462f2178b21": {
      "model_module": "@jupyter-widgets/base",
      "model_module_version": "1.2.0",
      "model_name": "LayoutModel",
      "state": {
       "width": "100px"
      }
     },
     "28f1a048e81e46ff8588ec500ca814bc": {
      "model_module": "@jupyter-widgets/controls",
      "model_module_version": "1.5.0",
      "model_name": "HTMLMathModel",
      "state": {
       "layout": "IPY_MODEL_4fe85e2e9fe44935918d987dd3b640c9",
       "style": "IPY_MODEL_4ecaa8b7683a40939c401081bd7ed430",
       "value": "Enter here the values of the matrix $A$"
      }
     },
     "292616b9a7b0409d922f4e8da963d12f": {
      "model_module": "@jupyter-widgets/controls",
      "model_module_version": "1.5.0",
      "model_name": "DescriptionStyleModel",
      "state": {
       "description_width": ""
      }
     },
     "292be73146b44de2a4b404ce554f2a80": {
      "model_module": "@jupyter-widgets/base",
      "model_module_version": "1.2.0",
      "model_name": "LayoutModel",
      "state": {}
     },
     "293283801400457d9dc53c4bad5b1bea": {
      "model_module": "@jupyter-widgets/controls",
      "model_module_version": "1.5.0",
      "model_name": "ButtonModel",
      "state": {
       "description": "Start",
       "layout": "IPY_MODEL_3d70e78e02cc4be4bf80c75ab7951a04",
       "style": "IPY_MODEL_9a673a15eb51477c869624fda7432d4b"
      }
     },
     "2964aaa1cec7472fbf3d4e5f7375ff1a": {
      "model_module": "@jupyter-widgets/controls",
      "model_module_version": "1.5.0",
      "model_name": "TextModel",
      "state": {
       "layout": "IPY_MODEL_d7c4f11771b948fa9166cf5745d8d1c9",
       "style": "IPY_MODEL_d949371dcc594414a53d793be67083c3",
       "value": "3"
      }
     },
     "29656c331b434cb9a44a81e17fd9d846": {
      "model_module": "@jupyter-widgets/controls",
      "model_module_version": "1.5.0",
      "model_name": "DescriptionStyleModel",
      "state": {
       "description_width": ""
      }
     },
     "296689efafeb4f78b587d5171f20ceda": {
      "model_module": "@jupyter-widgets/controls",
      "model_module_version": "1.5.0",
      "model_name": "DescriptionStyleModel",
      "state": {
       "description_width": ""
      }
     },
     "2966ba1130e74e7788bceb36f0dfd090": {
      "model_module": "@jupyter-widgets/controls",
      "model_module_version": "1.5.0",
      "model_name": "DescriptionStyleModel",
      "state": {
       "description_width": ""
      }
     },
     "29908dd67df2444caafa1ccafe794c45": {
      "model_module": "@jupyter-widgets/base",
      "model_module_version": "1.2.0",
      "model_name": "LayoutModel",
      "state": {}
     },
     "29a7171df78b4293b134864cd105c5fb": {
      "model_module": "@jupyter-widgets/controls",
      "model_module_version": "1.5.0",
      "model_name": "DescriptionStyleModel",
      "state": {
       "description_width": ""
      }
     },
     "29d0123e078349d1b637706ed8af4b65": {
      "model_module": "@jupyter-widgets/base",
      "model_module_version": "1.2.0",
      "model_name": "LayoutModel",
      "state": {}
     },
     "29d21bc21ee24e8392b2eb9118556be3": {
      "model_module": "@jupyter-widgets/controls",
      "model_module_version": "1.5.0",
      "model_name": "DescriptionStyleModel",
      "state": {
       "description_width": ""
      }
     },
     "29e20250ef5a4f98937bffb4dd3a2816": {
      "model_module": "@jupyter-widgets/controls",
      "model_module_version": "1.5.0",
      "model_name": "TextModel",
      "state": {
       "layout": "IPY_MODEL_109f6d462a004bdd9a95542348d778f8",
       "style": "IPY_MODEL_f90a04cf9aa141c2b2268effad885d92",
       "value": "-1"
      }
     },
     "2a44e11b4a604194b1dddad46bccf849": {
      "model_module": "@jupyter-widgets/controls",
      "model_module_version": "1.5.0",
      "model_name": "ButtonModel",
      "state": {
       "description": "Start",
       "layout": "IPY_MODEL_29908dd67df2444caafa1ccafe794c45",
       "style": "IPY_MODEL_759a4cdb2c014bed8ace68c7fd0debfc"
      }
     },
     "2a75ae7e276c4b90aff664ea81dbf53e": {
      "model_module": "@jupyter-widgets/controls",
      "model_module_version": "1.5.0",
      "model_name": "TextModel",
      "state": {
       "layout": "IPY_MODEL_47a60aa1cf3045f2a536b06edf49c5ea",
       "style": "IPY_MODEL_6f8efccceed649bba135fcfc82dd1b6c",
       "value": "2"
      }
     },
     "2a8104ca7fd5419bafbec370c0fee84f": {
      "model_module": "@jupyter-widgets/base",
      "model_module_version": "1.2.0",
      "model_name": "LayoutModel",
      "state": {}
     },
     "2a84caefaaf04cd9b6f67a05dc1039a9": {
      "model_module": "@jupyter-widgets/controls",
      "model_module_version": "1.5.0",
      "model_name": "TextModel",
      "state": {
       "layout": "IPY_MODEL_201e1a4ee32840b19f981690bdacf3ae",
       "style": "IPY_MODEL_dfdc943601c64603ac3cf14cf995f38d",
       "value": "-1"
      }
     },
     "2a90f9ef28eb4e99aad79e83136a4bd6": {
      "model_module": "@jupyter-widgets/controls",
      "model_module_version": "1.5.0",
      "model_name": "DescriptionStyleModel",
      "state": {
       "description_width": ""
      }
     },
     "2aa17632797d492988b90a4f5fb6687b": {
      "model_module": "@jupyter-widgets/controls",
      "model_module_version": "1.5.0",
      "model_name": "HBoxModel",
      "state": {
       "children": [
        "IPY_MODEL_db87d0b42b6b464a90308e08be743a0f",
        "IPY_MODEL_44cb07a0751941d4a4d14f7cff087d4d"
       ],
       "layout": "IPY_MODEL_13b2a989995f45d789414b3b89e8dc92"
      }
     },
     "2aaf272458ff4a91912f44f70ce55db7": {
      "model_module": "@jupyter-widgets/controls",
      "model_module_version": "1.5.0",
      "model_name": "TextModel",
      "state": {
       "layout": "IPY_MODEL_97993fa24fac42e28605e8d366180168",
       "style": "IPY_MODEL_c15c8aa9f302432888f362099dbeabb7",
       "value": "9"
      }
     },
     "2aba338cc9b64901a54259ebd2b7dedb": {
      "model_module": "@jupyter-widgets/base",
      "model_module_version": "1.2.0",
      "model_name": "LayoutModel",
      "state": {
       "width": "90px"
      }
     },
     "2ace8d28a67e4d9aab87e6de4dba898f": {
      "model_module": "@jupyter-widgets/controls",
      "model_module_version": "1.5.0",
      "model_name": "TextModel",
      "state": {
       "layout": "IPY_MODEL_5a0c24727aa941b48d996c0a1f0c2bf8",
       "style": "IPY_MODEL_63831aa668c547daa7d69cdb79734294",
       "value": "-6"
      }
     },
     "2adcaf30401b4797b9cfc813761f42d8": {
      "model_module": "@jupyter-widgets/controls",
      "model_module_version": "1.5.0",
      "model_name": "TextModel",
      "state": {
       "layout": "IPY_MODEL_dfe771ca3cb647c5ba599a113ad575df",
       "style": "IPY_MODEL_312ee71620fc4495a1aded436e61cace",
       "value": "-1"
      }
     },
     "2b1a28b63fe54bb0aa2b38644bb53a42": {
      "model_module": "@jupyter-widgets/controls",
      "model_module_version": "1.5.0",
      "model_name": "HTMLMathModel",
      "state": {
       "layout": "IPY_MODEL_37fcb50523f34e7297659eb4d4c61bc7",
       "style": "IPY_MODEL_22ed4d4ecee840d68a2d9da9321467a0",
       "value": "The augmented matrix will appear here."
      }
     },
     "2b344d9ebcf040338f89b9e60afaa0f4": {
      "model_module": "@jupyter-widgets/controls",
      "model_module_version": "1.5.0",
      "model_name": "HBoxModel",
      "state": {
       "children": [
        "IPY_MODEL_86f58410ab2544e9b1378cb940941d97",
        "IPY_MODEL_151d4cd19704496b81b6768e2ef2bb70"
       ],
       "layout": "IPY_MODEL_0d6bdfcbd4a0483e8b44b5f267ea3c6e"
      }
     },
     "2b414da73256469183a63797efc162d1": {
      "model_module": "@jupyter-widgets/controls",
      "model_module_version": "1.5.0",
      "model_name": "HBoxModel",
      "state": {
       "children": [
        "IPY_MODEL_48601e1496764b1783d8750ed425f8d1",
        "IPY_MODEL_8ff0ec45936248d8811eb7582dace907",
        "IPY_MODEL_71bddc835ec74c7bbdcc813765c37303"
       ],
       "layout": "IPY_MODEL_2fc29ec74c2f4d52ad6509f751ad9046"
      }
     },
     "2b49cd18a6794f69886182b35cd5b700": {
      "model_module": "@jupyter-widgets/controls",
      "model_module_version": "1.5.0",
      "model_name": "DescriptionStyleModel",
      "state": {
       "description_width": ""
      }
     },
     "2b566c72742a44cf89334ee30a5f109d": {
      "model_module": "@jupyter-widgets/controls",
      "model_module_version": "1.5.0",
      "model_name": "DescriptionStyleModel",
      "state": {
       "description_width": ""
      }
     },
     "2b787eaa14064c8ab6aabd3ed94d26d0": {
      "model_module": "@jupyter-widgets/controls",
      "model_module_version": "1.5.0",
      "model_name": "DescriptionStyleModel",
      "state": {
       "description_width": ""
      }
     },
     "2b9d502a9ca546cf9535554db0210514": {
      "model_module": "@jupyter-widgets/controls",
      "model_module_version": "1.5.0",
      "model_name": "HTMLMathModel",
      "state": {
       "layout": "IPY_MODEL_70baa58455054321bb7d5e3aae8e8e95",
       "style": "IPY_MODEL_b13f421f280243d386639d38cd4c3b09",
       "value": "Enter here the values of the constant matrix $\\bf{B}$"
      }
     },
     "2c33a9b4e41a4727bef14ba44f6fed0c": {
      "model_module": "@jupyter-widgets/controls",
      "model_module_version": "1.5.0",
      "model_name": "VBoxModel",
      "state": {
       "children": [
        "IPY_MODEL_e0f7e9c79b414ab6987e26eb7247b9f1",
        "IPY_MODEL_8d16ced010fc428ab81bce4fbe2609e1",
        "IPY_MODEL_237feb43c3984f1c9f37ac9c75cb0316"
       ],
       "layout": "IPY_MODEL_f1fa41c9f71c4f8bb49565f039a58277"
      }
     },
     "2c67d59838f344f1a0c2980369b50763": {
      "model_module": "@jupyter-widgets/controls",
      "model_module_version": "1.5.0",
      "model_name": "DescriptionStyleModel",
      "state": {
       "description_width": ""
      }
     },
     "2caeeb42ddce4b1ea35267507bd7eae1": {
      "model_module": "@jupyter-widgets/controls",
      "model_module_version": "1.5.0",
      "model_name": "DescriptionStyleModel",
      "state": {
       "description_width": ""
      }
     },
     "2cc30151503a4b2d89ec6f6a5295fe39": {
      "model_module": "@jupyter-widgets/controls",
      "model_module_version": "1.5.0",
      "model_name": "DescriptionStyleModel",
      "state": {
       "description_width": ""
      }
     },
     "2ce70e61e8ed43f4a109dd4fdcc1d76f": {
      "model_module": "@jupyter-widgets/base",
      "model_module_version": "1.2.0",
      "model_name": "LayoutModel",
      "state": {}
     },
     "2cf59dd1f01749619920b519ebd8a16f": {
      "model_module": "@jupyter-widgets/controls",
      "model_module_version": "1.5.0",
      "model_name": "DropdownModel",
      "state": {
       "_options_labels": [
        "1",
        "2",
        "3"
       ],
       "description": "Row",
       "index": 0,
       "layout": "IPY_MODEL_1ec8a06b596d496fbcbce0324f6c8977",
       "style": "IPY_MODEL_585c11ee402b44d3904a959db8ba0078"
      }
     },
     "2d282b9121bb4c73a4f1b22458413649": {
      "model_module": "@jupyter-widgets/base",
      "model_module_version": "1.2.0",
      "model_name": "LayoutModel",
      "state": {
       "width": "150px"
      }
     },
     "2d2917d769b6478989bd9fd8c0ea961b": {
      "model_module": "@jupyter-widgets/controls",
      "model_module_version": "1.5.0",
      "model_name": "DescriptionStyleModel",
      "state": {
       "description_width": ""
      }
     },
     "2d33574bd29841d6b6d3498276177b53": {
      "model_module": "@jupyter-widgets/controls",
      "model_module_version": "1.5.0",
      "model_name": "DescriptionStyleModel",
      "state": {
       "description_width": ""
      }
     },
     "2d33913fd8c44fa2b32543c12a135386": {
      "model_module": "@jupyter-widgets/controls",
      "model_module_version": "1.5.0",
      "model_name": "DescriptionStyleModel",
      "state": {
       "description_width": ""
      }
     },
     "2d33edac4b1c417fa28de5fc8e9fafaa": {
      "model_module": "@jupyter-widgets/controls",
      "model_module_version": "1.5.0",
      "model_name": "DescriptionStyleModel",
      "state": {
       "description_width": ""
      }
     },
     "2d4dbd51b0f8420fb735d1359a64c8bd": {
      "model_module": "@jupyter-widgets/controls",
      "model_module_version": "1.5.0",
      "model_name": "DropdownModel",
      "state": {
       "_options_labels": [
        "1",
        "2",
        "3"
       ],
       "description": "and row",
       "index": 1,
       "layout": "IPY_MODEL_86caedd405404da18faa832837898e9b",
       "style": "IPY_MODEL_0cfdce1ee86043ee8284474a5bc8b45b"
      }
     },
     "2d67ec38004c47ffbb5db63abfaf30c0": {
      "model_module": "@jupyter-widgets/controls",
      "model_module_version": "1.5.0",
      "model_name": "ButtonModel",
      "state": {
       "description": "Start",
       "layout": "IPY_MODEL_4258c0cb737247b0b2954f90cc0d40aa",
       "style": "IPY_MODEL_f422046e23c8401abdfb33fc0a5f3f5a"
      }
     },
     "2d8dfb43d02a4ea7b5a8918d25da9f57": {
      "model_module": "@jupyter-widgets/base",
      "model_module_version": "1.2.0",
      "model_name": "LayoutModel",
      "state": {
       "width": "90px"
      }
     },
     "2db503a85439425791628965ca545608": {
      "model_module": "@jupyter-widgets/controls",
      "model_module_version": "1.5.0",
      "model_name": "DescriptionStyleModel",
      "state": {
       "description_width": ""
      }
     },
     "2dc891ffe5fc4cb9bcadc89f915d30d3": {
      "model_module": "@jupyter-widgets/base",
      "model_module_version": "1.2.0",
      "model_name": "LayoutModel",
      "state": {}
     },
     "2dd052f9e5cf46fc8cbe7badda5ece48": {
      "model_module": "@jupyter-widgets/base",
      "model_module_version": "1.2.0",
      "model_name": "LayoutModel",
      "state": {
       "width": "100px"
      }
     },
     "2dd8f476c90946ca8411be22e8261c6b": {
      "model_module": "@jupyter-widgets/controls",
      "model_module_version": "1.5.0",
      "model_name": "DescriptionStyleModel",
      "state": {
       "description_width": ""
      }
     },
     "2dfb2f0815b74f8d8717a64975508a06": {
      "model_module": "@jupyter-widgets/base",
      "model_module_version": "1.2.0",
      "model_name": "LayoutModel",
      "state": {}
     },
     "2e6bfdadb4474882b32393a9a1465b65": {
      "model_module": "@jupyter-widgets/controls",
      "model_module_version": "1.5.0",
      "model_name": "HBoxModel",
      "state": {
       "children": [
        "IPY_MODEL_65c402a2652c40dc9a6e1c673809c5ac",
        "IPY_MODEL_ec98a905b0674bab9d816ed1bc603cc7",
        "IPY_MODEL_93d75bf643ef4ed5915f52affd6d1221"
       ],
       "layout": "IPY_MODEL_423519f11c55416f965eb4875a1b7d1c"
      }
     },
     "2e78165978314fe487c8258b2a617921": {
      "model_module": "@jupyter-widgets/controls",
      "model_module_version": "1.5.0",
      "model_name": "DescriptionStyleModel",
      "state": {
       "description_width": ""
      }
     },
     "2eb1476cf7a54fb38c86c2d1b546cbd4": {
      "model_module": "@jupyter-widgets/base",
      "model_module_version": "1.2.0",
      "model_name": "LayoutModel",
      "state": {}
     },
     "2ec9226b9b7f4ec0b94edf0817c63cf5": {
      "model_module": "@jupyter-widgets/controls",
      "model_module_version": "1.5.0",
      "model_name": "VBoxModel",
      "state": {
       "children": [
        "IPY_MODEL_30411944513143c4aac23cd689834cd1",
        "IPY_MODEL_9618558decf8443597cadb53683c3764",
        "IPY_MODEL_7dec5e9d35524e9088f0d350425a23f7"
       ],
       "layout": "IPY_MODEL_c576efd8be4b41539ac5c4fff72b7966"
      }
     },
     "2eda68fa1c2244e9afdd548d36d43caa": {
      "model_module": "@jupyter-widgets/controls",
      "model_module_version": "1.5.0",
      "model_name": "DescriptionStyleModel",
      "state": {
       "description_width": ""
      }
     },
     "2f2f9fb585204a3f9fc5183ea08bf1f5": {
      "model_module": "@jupyter-widgets/base",
      "model_module_version": "1.2.0",
      "model_name": "LayoutModel",
      "state": {}
     },
     "2f400410b9a44984942dc5a2ab587839": {
      "model_module": "@jupyter-widgets/controls",
      "model_module_version": "1.5.0",
      "model_name": "DescriptionStyleModel",
      "state": {
       "description_width": ""
      }
     },
     "2f755b9020d549f5877dbeb4cfc47c86": {
      "model_module": "@jupyter-widgets/controls",
      "model_module_version": "1.5.0",
      "model_name": "DescriptionStyleModel",
      "state": {
       "description_width": ""
      }
     },
     "2f972f77c5c84d3eab5c41a43cb10bc7": {
      "model_module": "@jupyter-widgets/controls",
      "model_module_version": "1.5.0",
      "model_name": "DescriptionStyleModel",
      "state": {
       "description_width": ""
      }
     },
     "2fb823c64dc34ceb91d467ae2b3ed534": {
      "model_module": "@jupyter-widgets/controls",
      "model_module_version": "1.5.0",
      "model_name": "ButtonModel",
      "state": {
       "description": "Multiply row",
       "layout": "IPY_MODEL_a69b49b9edff4897850208e1ca10abc4",
       "style": "IPY_MODEL_877692e61c46484c9bd2dc0ce5af0742"
      }
     },
     "2fc29ec74c2f4d52ad6509f751ad9046": {
      "model_module": "@jupyter-widgets/base",
      "model_module_version": "1.2.0",
      "model_name": "LayoutModel",
      "state": {}
     },
     "2fd153954dc147da970765cb657eebe3": {
      "model_module": "@jupyter-widgets/controls",
      "model_module_version": "1.5.0",
      "model_name": "HTMLMathModel",
      "state": {
       "layout": "IPY_MODEL_57402a2d9d3d495b9627d59c87363c23",
       "style": "IPY_MODEL_57636afa71ac47b69928ac189dab6828",
       "value": "Enter here the values of the right hand side vector $b$"
      }
     },
     "2fedb076a914436bb19c4c0acdce1eb4": {
      "model_module": "@jupyter-widgets/base",
      "model_module_version": "1.2.0",
      "model_name": "LayoutModel",
      "state": {}
     },
     "2ff03e909ccb4770823fd6afdc2ee7fe": {
      "model_module": "@jupyter-widgets/controls",
      "model_module_version": "1.5.0",
      "model_name": "DescriptionStyleModel",
      "state": {
       "description_width": ""
      }
     },
     "3001e1fd9f714c35a6a21f571a8a6cbe": {
      "model_module": "@jupyter-widgets/controls",
      "model_module_version": "1.5.0",
      "model_name": "HBoxModel",
      "state": {
       "children": [
        "IPY_MODEL_c1a36c62dcab4f2a8f798b83b85d083d",
        "IPY_MODEL_08e0f164719a49af9db853200b5b3233"
       ],
       "layout": "IPY_MODEL_59e8a25264234ac798e428ff0de1abd0"
      }
     },
     "3019e58990bb4706a3bf95b83a8cca0d": {
      "model_module": "@jupyter-widgets/base",
      "model_module_version": "1.2.0",
      "model_name": "LayoutModel",
      "state": {
       "width": "100px"
      }
     },
     "30411944513143c4aac23cd689834cd1": {
      "model_module": "@jupyter-widgets/controls",
      "model_module_version": "1.5.0",
      "model_name": "DropdownModel",
      "state": {
       "_options_labels": [
        "1",
        "2",
        "3"
       ],
       "description": "Swap row",
       "index": 0,
       "layout": "IPY_MODEL_b5b9a3dac7b9462cbd6af07124cdee44",
       "style": "IPY_MODEL_42b594d8b2f346acad4d5bf133fba54a"
      }
     },
     "30414b9b4b28414baf7f22c252767ef7": {
      "model_module": "@jupyter-widgets/base",
      "model_module_version": "1.2.0",
      "model_name": "LayoutModel",
      "state": {
       "width": "150px"
      }
     },
     "30417b19cbcf4f13b307052fdba25749": {
      "model_module": "@jupyter-widgets/controls",
      "model_module_version": "1.5.0",
      "model_name": "DescriptionStyleModel",
      "state": {
       "description_width": ""
      }
     },
     "304b08b4a7014314a8c561d2ae74b4b8": {
      "model_module": "@jupyter-widgets/controls",
      "model_module_version": "1.5.0",
      "model_name": "VBoxModel",
      "state": {
       "children": [
        "IPY_MODEL_5ee53d25fc564b1faf206c4a448278fa",
        "IPY_MODEL_71a043bb35034ef8a8f68b15be0448e7"
       ],
       "layout": "IPY_MODEL_bbbba68533d7458589b5f23bdb521bb9"
      }
     },
     "305123cecbae49f7b42103a76e08cd41": {
      "model_module": "@jupyter-widgets/controls",
      "model_module_version": "1.5.0",
      "model_name": "DescriptionStyleModel",
      "state": {
       "description_width": ""
      }
     },
     "3052d1ae3dc149a997947ade1185ba4d": {
      "model_module": "@jupyter-widgets/base",
      "model_module_version": "1.2.0",
      "model_name": "LayoutModel",
      "state": {}
     },
     "305d1587d7104b50a98b9af1a5c2ac27": {
      "model_module": "@jupyter-widgets/base",
      "model_module_version": "1.2.0",
      "model_name": "LayoutModel",
      "state": {
       "width": "100px"
      }
     },
     "305e593408534fb2bf02cd0a3b5a063e": {
      "model_module": "@jupyter-widgets/controls",
      "model_module_version": "1.5.0",
      "model_name": "TextModel",
      "state": {
       "layout": "IPY_MODEL_7003463d13444a27a885608e31a34ec8",
       "style": "IPY_MODEL_dc6dca47be1c416ba5d9062433684c1a",
       "value": "2"
      }
     },
     "306ba045db1343acb0cb8a721fd5d370": {
      "model_module": "@jupyter-widgets/base",
      "model_module_version": "1.2.0",
      "model_name": "LayoutModel",
      "state": {}
     },
     "30b93015e3c444248f73545d1d92177f": {
      "model_module": "@jupyter-widgets/base",
      "model_module_version": "1.2.0",
      "model_name": "LayoutModel",
      "state": {
       "width": "150px"
      }
     },
     "30be6ffb1a0f4e73b1d8ef11af374c4e": {
      "model_module": "@jupyter-widgets/controls",
      "model_module_version": "1.5.0",
      "model_name": "TextModel",
      "state": {
       "description": "times",
       "layout": "IPY_MODEL_ce60963d95b44314920e05b5fa45d91b",
       "style": "IPY_MODEL_94313c349e1e4bd8a709c582c48b3df4",
       "value": "1"
      }
     },
     "30c3d49e2aaa48dfa4485199962941fd": {
      "model_module": "@jupyter-widgets/controls",
      "model_module_version": "1.5.0",
      "model_name": "TextModel",
      "state": {
       "layout": "IPY_MODEL_d743f8ba50f447a3ad2d5faaa6a0e9e2",
       "style": "IPY_MODEL_4adb0b2ba8e0421f9e47825dd8d97adb",
       "value": "7"
      }
     },
     "30c90ace0afa45adb76a627dfff80b2b": {
      "model_module": "@jupyter-widgets/controls",
      "model_module_version": "1.5.0",
      "model_name": "TextModel",
      "state": {
       "layout": "IPY_MODEL_65cb8db367e14667886b79ef97c800d1",
       "style": "IPY_MODEL_234fd6bd218943bca80c2e98b9f8ba69",
       "value": "-1"
      }
     },
     "31230e9aa15c4947891a15505593e2b7": {
      "model_module": "@jupyter-widgets/base",
      "model_module_version": "1.2.0",
      "model_name": "LayoutModel",
      "state": {}
     },
     "312ee71620fc4495a1aded436e61cace": {
      "model_module": "@jupyter-widgets/controls",
      "model_module_version": "1.5.0",
      "model_name": "DescriptionStyleModel",
      "state": {
       "description_width": ""
      }
     },
     "314bb94c9c014d978fada9500f616f6e": {
      "model_module": "@jupyter-widgets/controls",
      "model_module_version": "1.5.0",
      "model_name": "VBoxModel",
      "state": {
       "children": [
        "IPY_MODEL_4f0b6526f7a2485db163725e9f434078",
        "IPY_MODEL_fd23300aee924fad8ea0efd4f67b34c5"
       ],
       "layout": "IPY_MODEL_e1a3cec1865e42c7bee40dca27edb129"
      }
     },
     "31712fbd2aa54f68a18fd31f523e1d26": {
      "model_module": "@jupyter-widgets/base",
      "model_module_version": "1.2.0",
      "model_name": "LayoutModel",
      "state": {}
     },
     "317b08822be5456f8d603e9422304319": {
      "model_module": "@jupyter-widgets/base",
      "model_module_version": "1.2.0",
      "model_name": "LayoutModel",
      "state": {
       "width": "150px"
      }
     },
     "319fadb2ec894910825e0a62eb0d37fd": {
      "model_module": "@jupyter-widgets/controls",
      "model_module_version": "1.5.0",
      "model_name": "DescriptionStyleModel",
      "state": {
       "description_width": ""
      }
     },
     "31b5e520e1a6493daedb89ae05ab8c4f": {
      "model_module": "@jupyter-widgets/base",
      "model_module_version": "1.2.0",
      "model_name": "LayoutModel",
      "state": {
       "width": "150px"
      }
     },
     "31f7b242d3b242e69309b22c1149a097": {
      "model_module": "@jupyter-widgets/controls",
      "model_module_version": "1.5.0",
      "model_name": "DescriptionStyleModel",
      "state": {
       "description_width": ""
      }
     },
     "320f3af34cef4fc99355b350cdc9ee47": {
      "model_module": "@jupyter-widgets/controls",
      "model_module_version": "1.5.0",
      "model_name": "HTMLMathModel",
      "state": {
       "layout": "IPY_MODEL_4b4f676af3fb4b288ef52c00510a88fc",
       "style": "IPY_MODEL_07d0f9a0cf9a4c409539873163d5dc90",
       "value": "Enter here the values of the coefficient matrix $\\bf{A}$"
      }
     },
     "3222b408154b455884d7e503e710c875": {
      "model_module": "@jupyter-widgets/controls",
      "model_module_version": "1.5.0",
      "model_name": "HTMLMathModel",
      "state": {
       "layout": "IPY_MODEL_6c00d498461f4887bc7b464ffa994ab5",
       "style": "IPY_MODEL_9b7575d290054351ab81d7d8cbbbff8a",
       "value": "Enter here the values of the coefficient matrix $\\bf{A}$"
      }
     },
     "3225d56c13224b2f91875047c725e5fa": {
      "model_module": "@jupyter-widgets/controls",
      "model_module_version": "1.5.0",
      "model_name": "DescriptionStyleModel",
      "state": {
       "description_width": ""
      }
     },
     "32541324f6cb4c70802a6209a605ccaf": {
      "model_module": "@jupyter-widgets/base",
      "model_module_version": "1.2.0",
      "model_name": "LayoutModel",
      "state": {
       "justify_content": "center"
      }
     },
     "3263fa349260464ea52668dc5ad42812": {
      "model_module": "@jupyter-widgets/controls",
      "model_module_version": "1.5.0",
      "model_name": "HTMLMathModel",
      "state": {
       "layout": "IPY_MODEL_7b9fbf87fec34688af7ea7293e3537bc",
       "style": "IPY_MODEL_d921c4620ed54d18aabf21b32cd98d09",
       "value": "The augmented matrix is:\n \n    $$\n    \\left[ \\begin{array}{rrr|r}\n        2 & -6 & 1 & 7\\\\\n        1 & 2 & -1 & -1\\\\\n        5 & 7 & -4 & 9\n    \\end{array} \\right]\n    $$\n    "
      }
     },
     "328b3676b5c24f18bc2e47ede2b4c473": {
      "model_module": "@jupyter-widgets/base",
      "model_module_version": "1.2.0",
      "model_name": "LayoutModel",
      "state": {}
     },
     "32bd3667e04d42b69756252d5360ed57": {
      "model_module": "@jupyter-widgets/base",
      "model_module_version": "1.2.0",
      "model_name": "LayoutModel",
      "state": {}
     },
     "32d7f0cab2d04c6ca23af3a1a7ca2c0a": {
      "model_module": "@jupyter-widgets/controls",
      "model_module_version": "1.5.0",
      "model_name": "VBoxModel",
      "state": {
       "children": [
        "IPY_MODEL_0f16d9783380428c9e683c825e2b4423",
        "IPY_MODEL_8677864ba06e40e795161a8b964dbd24"
       ],
       "layout": "IPY_MODEL_3422c735913543c1a76824c148ddf34c"
      }
     },
     "32f602b51c8340b6802da89319e1132b": {
      "model_module": "@jupyter-widgets/controls",
      "model_module_version": "1.5.0",
      "model_name": "DescriptionStyleModel",
      "state": {
       "description_width": ""
      }
     },
     "32feb49b5d0145f4a85b9625643a303f": {
      "model_module": "@jupyter-widgets/controls",
      "model_module_version": "1.5.0",
      "model_name": "DropdownModel",
      "state": {
       "_options_labels": [
        "1",
        "2",
        "3"
       ],
       "description": "Swap row",
       "index": 0,
       "layout": "IPY_MODEL_1c2e07a08f6f4529909c12f9e151ca96",
       "style": "IPY_MODEL_d5664297b59d433da038aaca81fcf4f4"
      }
     },
     "3310356d2e61490c85af607a748f2605": {
      "model_module": "@jupyter-widgets/controls",
      "model_module_version": "1.5.0",
      "model_name": "DescriptionStyleModel",
      "state": {
       "description_width": ""
      }
     },
     "3336ef4628934ae6976d52d6d7bbc184": {
      "model_module": "@jupyter-widgets/controls",
      "model_module_version": "1.5.0",
      "model_name": "DescriptionStyleModel",
      "state": {
       "description_width": ""
      }
     },
     "33396439e67747aaa6d6baa3c98fd179": {
      "model_module": "@jupyter-widgets/controls",
      "model_module_version": "1.5.0",
      "model_name": "VBoxModel",
      "state": {
       "children": [
        "IPY_MODEL_ca464192a3a849f4a3111ec029a3d1d5",
        "IPY_MODEL_2d67ec38004c47ffbb5db63abfaf30c0"
       ],
       "layout": "IPY_MODEL_9eb7208844e74bd9868e7fe13c980bed"
      }
     },
     "335b12333fe34dd98a0419021d672f38": {
      "model_module": "@jupyter-widgets/controls",
      "model_module_version": "1.5.0",
      "model_name": "DescriptionStyleModel",
      "state": {
       "description_width": ""
      }
     },
     "335f4ecb0d434d8c8404200f239f73da": {
      "model_module": "@jupyter-widgets/controls",
      "model_module_version": "1.5.0",
      "model_name": "TextModel",
      "state": {
       "layout": "IPY_MODEL_35e7cd5dc3a344c7867ddf08fc7e1130",
       "style": "IPY_MODEL_619b7d8c06f64c7e97681ca808b4d02f",
       "value": " 1"
      }
     },
     "33a3115d3e9748249560c9c00eea641b": {
      "model_module": "@jupyter-widgets/controls",
      "model_module_version": "1.5.0",
      "model_name": "DropdownModel",
      "state": {
       "_options_labels": [
        "1",
        "2",
        "3"
       ],
       "description": "and row",
       "index": 1,
       "layout": "IPY_MODEL_bd3842339cdf4876819766eb479ee0cc",
       "style": "IPY_MODEL_8245315002a94a0da0a86544325482f3"
      }
     },
     "33fab2c7cef44485941637efe4bf32ae": {
      "model_module": "@jupyter-widgets/base",
      "model_module_version": "1.2.0",
      "model_name": "LayoutModel",
      "state": {}
     },
     "3422c735913543c1a76824c148ddf34c": {
      "model_module": "@jupyter-widgets/base",
      "model_module_version": "1.2.0",
      "model_name": "LayoutModel",
      "state": {}
     },
     "342fbdc31d2d406489b24d1349c22e03": {
      "model_module": "@jupyter-widgets/base",
      "model_module_version": "1.2.0",
      "model_name": "LayoutModel",
      "state": {
       "height": "35px",
       "width": "40px"
      }
     },
     "344cef62ee194b1ea53d1db52a0557d8": {
      "model_module": "@jupyter-widgets/base",
      "model_module_version": "1.2.0",
      "model_name": "LayoutModel",
      "state": {}
     },
     "3451af4dcedb4a95b04e1f7f309462f1": {
      "model_module": "@jupyter-widgets/controls",
      "model_module_version": "1.5.0",
      "model_name": "DescriptionStyleModel",
      "state": {
       "description_width": ""
      }
     },
     "34549cebb567477b963fc121c2d04585": {
      "model_module": "@jupyter-widgets/controls",
      "model_module_version": "1.5.0",
      "model_name": "DescriptionStyleModel",
      "state": {
       "description_width": ""
      }
     },
     "345c96814d644cc79191d1c68086d3ea": {
      "model_module": "@jupyter-widgets/controls",
      "model_module_version": "1.5.0",
      "model_name": "TextModel",
      "state": {
       "layout": "IPY_MODEL_24e52a9da5f64680833f56257412e632",
       "style": "IPY_MODEL_f3f39816c8804cfca62d30eee3143169",
       "value": "7"
      }
     },
     "347d689d18c046a09ff914f4d3497591": {
      "model_module": "@jupyter-widgets/controls",
      "model_module_version": "1.5.0",
      "model_name": "DescriptionStyleModel",
      "state": {
       "description_width": ""
      }
     },
     "348495434cbc45ffbb3b84f1b4571117": {
      "model_module": "@jupyter-widgets/controls",
      "model_module_version": "1.5.0",
      "model_name": "DescriptionStyleModel",
      "state": {
       "description_width": ""
      }
     },
     "348fa9d1bb694e879a7518b96693835f": {
      "model_module": "@jupyter-widgets/controls",
      "model_module_version": "1.5.0",
      "model_name": "DescriptionStyleModel",
      "state": {
       "description_width": ""
      }
     },
     "349695f8da084530925e788a541afae0": {
      "model_module": "@jupyter-widgets/controls",
      "model_module_version": "1.5.0",
      "model_name": "DescriptionStyleModel",
      "state": {
       "description_width": ""
      }
     },
     "34cc6803183a43e081417ee3a38f94b6": {
      "model_module": "@jupyter-widgets/controls",
      "model_module_version": "1.5.0",
      "model_name": "VBoxModel",
      "state": {
       "children": [
        "IPY_MODEL_845cd8e412634f5f949ceefd45856941",
        "IPY_MODEL_3db181f7959a40e1bf0f11495d2d7c92"
       ],
       "layout": "IPY_MODEL_fc8c15267a7142c3beb0ef5761079855"
      }
     },
     "34d6b37c6eff4e54baeca93fb16388ba": {
      "model_module": "@jupyter-widgets/base",
      "model_module_version": "1.2.0",
      "model_name": "LayoutModel",
      "state": {
       "width": "150px"
      }
     },
     "35000041449b487092bf5b738dc3e803": {
      "model_module": "@jupyter-widgets/controls",
      "model_module_version": "1.5.0",
      "model_name": "TextModel",
      "state": {
       "layout": "IPY_MODEL_f28c3c7f5ced4384b8a9eca6bc4c00fd",
       "style": "IPY_MODEL_eb71288ee6b64a15b0d0a2803f6b8572",
       "value": "7"
      }
     },
     "350e9ddc25c146b6a1c85fb6025af524": {
      "model_module": "@jupyter-widgets/base",
      "model_module_version": "1.2.0",
      "model_name": "LayoutModel",
      "state": {
       "grid_template_columns": "repeat(1, 45px)"
      }
     },
     "35224dec32d84903b83dfca5d5887968": {
      "model_module": "@jupyter-widgets/controls",
      "model_module_version": "1.5.0",
      "model_name": "TextModel",
      "state": {
       "layout": "IPY_MODEL_239bec109578490f9329cf0477e25967",
       "style": "IPY_MODEL_cd1235ab90e64818a6d4bec00d5ef162",
       "value": "2"
      }
     },
     "352c8d3df20c4a169c179e7f318aa4d8": {
      "model_module": "@jupyter-widgets/controls",
      "model_module_version": "1.5.0",
      "model_name": "DescriptionStyleModel",
      "state": {
       "description_width": ""
      }
     },
     "35350c4302b14cb1976c54dfe3a486cf": {
      "model_module": "@jupyter-widgets/controls",
      "model_module_version": "1.5.0",
      "model_name": "DescriptionStyleModel",
      "state": {
       "description_width": ""
      }
     },
     "35377fcb8b304ec89d483579bcc13b5d": {
      "model_module": "@jupyter-widgets/controls",
      "model_module_version": "1.5.0",
      "model_name": "TextModel",
      "state": {
       "layout": "IPY_MODEL_342fbdc31d2d406489b24d1349c22e03",
       "style": "IPY_MODEL_53b6f3d32824469a899776b3ac2e5018",
       "value": "7"
      }
     },
     "3566ddabed134c3aa4b704daaa0a9613": {
      "model_module": "@jupyter-widgets/controls",
      "model_module_version": "1.5.0",
      "model_name": "DescriptionStyleModel",
      "state": {
       "description_width": ""
      }
     },
     "35698706a0c74b948d293f208ebfbf4d": {
      "model_module": "@jupyter-widgets/controls",
      "model_module_version": "1.5.0",
      "model_name": "VBoxModel",
      "state": {
       "children": [
        "IPY_MODEL_a121cd67d17a499d9b71b33b73c12d77",
        "IPY_MODEL_41837046d02f4b61a27084fface2c437"
       ],
       "layout": "IPY_MODEL_9773009742044ae4ba9e6f3c13ba3bb5"
      }
     },
     "35acd6b3e01049ee996dc1d334507ae4": {
      "model_module": "@jupyter-widgets/controls",
      "model_module_version": "1.5.0",
      "model_name": "TextModel",
      "state": {
       "layout": "IPY_MODEL_5658a8e71503421ab525d14883c87170",
       "style": "IPY_MODEL_96188468312a477db1b449b98791ef6e",
       "value": "1"
      }
     },
     "35ad94afcbdb4111ac27f1e88154533f": {
      "model_module": "@jupyter-widgets/controls",
      "model_module_version": "1.5.0",
      "model_name": "TextModel",
      "state": {
       "layout": "IPY_MODEL_bbd5dabd53c049fca9a7f5878437cad9",
       "style": "IPY_MODEL_813dbfedee684dcda1220fb43598a984",
       "value": "-1"
      }
     },
     "35b993817d86442da3079985ffb1240d": {
      "model_module": "@jupyter-widgets/base",
      "model_module_version": "1.2.0",
      "model_name": "LayoutModel",
      "state": {}
     },
     "35bfcafcc1a84b28ab6323acdc71b0a7": {
      "model_module": "@jupyter-widgets/base",
      "model_module_version": "1.2.0",
      "model_name": "LayoutModel",
      "state": {
       "width": "120px"
      }
     },
     "35c44a1b53024d65889815d417de8966": {
      "model_module": "@jupyter-widgets/base",
      "model_module_version": "1.2.0",
      "model_name": "LayoutModel",
      "state": {}
     },
     "35d0d0c03d5d45ceaa167a5231b20667": {
      "model_module": "@jupyter-widgets/controls",
      "model_module_version": "1.5.0",
      "model_name": "DescriptionStyleModel",
      "state": {
       "description_width": ""
      }
     },
     "35e7cd5dc3a344c7867ddf08fc7e1130": {
      "model_module": "@jupyter-widgets/base",
      "model_module_version": "1.2.0",
      "model_name": "LayoutModel",
      "state": {
       "height": "35px",
       "width": "30px"
      }
     },
     "360fc902e9824ec382244ee4778c6110": {
      "model_module": "@jupyter-widgets/controls",
      "model_module_version": "1.5.0",
      "model_name": "DescriptionStyleModel",
      "state": {
       "description_width": ""
      }
     },
     "364dd5a5d4ca4fffbbe41d1bd3d1bfab": {
      "model_module": "@jupyter-widgets/controls",
      "model_module_version": "1.5.0",
      "model_name": "TextModel",
      "state": {
       "layout": "IPY_MODEL_35e7cd5dc3a344c7867ddf08fc7e1130",
       "style": "IPY_MODEL_bf133051f9c242d5961ba3c7aa41f595",
       "value": " 7"
      }
     },
     "3659d426474b430fb68b997c3e1615d9": {
      "model_module": "@jupyter-widgets/controls",
      "model_module_version": "1.5.0",
      "model_name": "ButtonStyleModel",
      "state": {}
     },
     "366f6a5ae4cc44c7882402dc5647b4ce": {
      "model_module": "@jupyter-widgets/base",
      "model_module_version": "1.2.0",
      "model_name": "LayoutModel",
      "state": {
       "justify_content": "center"
      }
     },
     "3686333061284c9c89eeeaf180d12c0b": {
      "model_module": "@jupyter-widgets/base",
      "model_module_version": "1.2.0",
      "model_name": "LayoutModel",
      "state": {
       "flex_flow": "row wrap",
       "justify_content": "space-around"
      }
     },
     "369754e4b678443d8c2919b0840e6a3d": {
      "model_module": "@jupyter-widgets/base",
      "model_module_version": "1.2.0",
      "model_name": "LayoutModel",
      "state": {}
     },
     "36ba2c83cc8948fbb0ec4bf9ad6a3d9a": {
      "model_module": "@jupyter-widgets/controls",
      "model_module_version": "1.5.0",
      "model_name": "TextModel",
      "state": {
       "layout": "IPY_MODEL_e168436c7ee0437a9552e5f0afc85715",
       "style": "IPY_MODEL_c35066f07945407d8a0e7a27dd1f7eb1",
       "value": "-1"
      }
     },
     "36c3335ba7014120bc8951fc24905925": {
      "model_module": "@jupyter-widgets/controls",
      "model_module_version": "1.5.0",
      "model_name": "DescriptionStyleModel",
      "state": {
       "description_width": ""
      }
     },
     "36da31c1490443ae9bf4534336822938": {
      "model_module": "@jupyter-widgets/base",
      "model_module_version": "1.2.0",
      "model_name": "LayoutModel",
      "state": {
       "width": "150px"
      }
     },
     "36dbc954e5a74e50ac82fc551f0ed952": {
      "model_module": "@jupyter-widgets/controls",
      "model_module_version": "1.5.0",
      "model_name": "TextModel",
      "state": {
       "layout": "IPY_MODEL_4bcd3a11811347d3979a9396c2e71cd4",
       "style": "IPY_MODEL_05d824fc732b462cbc65da1fe3b445de",
       "value": "-4"
      }
     },
     "36df80a41b054c1c90fa58a10d0c498f": {
      "model_module": "@jupyter-widgets/controls",
      "model_module_version": "1.5.0",
      "model_name": "VBoxModel",
      "state": {
       "children": [
        "IPY_MODEL_2cf59dd1f01749619920b519ebd8a16f",
        "IPY_MODEL_c10e38d8d13a455dbd7bcfe5e917594b",
        "IPY_MODEL_a34bf4a7c0f74c6f88767fcb67caa21c"
       ],
       "layout": "IPY_MODEL_bf863cb0e08142ceb424f21a8e6b5099"
      }
     },
     "36f4a001763645f284adce9268ed5287": {
      "model_module": "@jupyter-widgets/controls",
      "model_module_version": "1.5.0",
      "model_name": "DescriptionStyleModel",
      "state": {
       "description_width": ""
      }
     },
     "3701d37ee3c44bc5b8e46eaea1bfc544": {
      "model_module": "@jupyter-widgets/controls",
      "model_module_version": "1.5.0",
      "model_name": "DescriptionStyleModel",
      "state": {
       "description_width": ""
      }
     },
     "3737a08d728547868f7664d49d34e801": {
      "model_module": "@jupyter-widgets/base",
      "model_module_version": "1.2.0",
      "model_name": "LayoutModel",
      "state": {}
     },
     "3741cebce3e449bc903713c6b0c606d1": {
      "model_module": "@jupyter-widgets/controls",
      "model_module_version": "1.5.0",
      "model_name": "DescriptionStyleModel",
      "state": {
       "description_width": ""
      }
     },
     "3791b490e79048c684bb5d12570d454f": {
      "model_module": "@jupyter-widgets/base",
      "model_module_version": "1.2.0",
      "model_name": "LayoutModel",
      "state": {
       "width": "90px"
      }
     },
     "37dae0dce8774bc1882d3dcbaf114419": {
      "model_module": "@jupyter-widgets/controls",
      "model_module_version": "1.5.0",
      "model_name": "DescriptionStyleModel",
      "state": {
       "description_width": ""
      }
     },
     "37df36448f5c405194729a2c35c33d59": {
      "model_module": "@jupyter-widgets/controls",
      "model_module_version": "1.5.0",
      "model_name": "HBoxModel",
      "state": {
       "children": [
        "IPY_MODEL_2201fc263d934025a98b6446ae7d8f2c",
        "IPY_MODEL_e8c351c7ca3146cb902e74efccfdb1fe"
       ],
       "layout": "IPY_MODEL_a5de056aa545494d9c6adbc57f035436"
      }
     },
     "37f6707337e548fd8d9da12068d1e432": {
      "model_module": "@jupyter-widgets/base",
      "model_module_version": "1.2.0",
      "model_name": "LayoutModel",
      "state": {}
     },
     "37fcb50523f34e7297659eb4d4c61bc7": {
      "model_module": "@jupyter-widgets/base",
      "model_module_version": "1.2.0",
      "model_name": "LayoutModel",
      "state": {
       "width": "300px"
      }
     },
     "383a1c5f5f0c418b84e9a50a2a78d25a": {
      "model_module": "@jupyter-widgets/base",
      "model_module_version": "1.2.0",
      "model_name": "LayoutModel",
      "state": {
       "height": "35px",
       "width": "40px"
      }
     },
     "3843f1d8a0bf41a695d14e23f35e970f": {
      "model_module": "@jupyter-widgets/controls",
      "model_module_version": "1.5.0",
      "model_name": "DescriptionStyleModel",
      "state": {
       "description_width": ""
      }
     },
     "3880841f797b416a98480c81eabfd492": {
      "model_module": "@jupyter-widgets/controls",
      "model_module_version": "1.5.0",
      "model_name": "HBoxModel",
      "state": {
       "children": [
        "IPY_MODEL_ad7a09ca5dd245c9b86ba8cb1b5e230b",
        "IPY_MODEL_9748d940eb5e476998049c017764b096",
        "IPY_MODEL_5b2b21137c8a40ca963b4b178d50b9e2"
       ],
       "layout": "IPY_MODEL_78265e98fce34cca99783d6035995310"
      }
     },
     "388330af6e3749b5a4d160059b1b203f": {
      "model_module": "@jupyter-widgets/controls",
      "model_module_version": "1.5.0",
      "model_name": "DescriptionStyleModel",
      "state": {
       "description_width": ""
      }
     },
     "389dcc405c97404e889efe41aec4c5aa": {
      "model_module": "@jupyter-widgets/controls",
      "model_module_version": "1.5.0",
      "model_name": "DescriptionStyleModel",
      "state": {
       "description_width": ""
      }
     },
     "389e41d10a70427a9f773410b02ba265": {
      "model_module": "@jupyter-widgets/controls",
      "model_module_version": "1.5.0",
      "model_name": "TextModel",
      "state": {
       "layout": "IPY_MODEL_194d5881fb18447585798b14c51e301b",
       "style": "IPY_MODEL_afdfadb9789c4a9ca681bfb9063319a8",
       "value": "7"
      }
     },
     "38b85f55610846528ee727f7268f414e": {
      "model_module": "@jupyter-widgets/base",
      "model_module_version": "1.2.0",
      "model_name": "LayoutModel",
      "state": {}
     },
     "38ba7f1aa33642cca39b07fe201e1086": {
      "model_module": "@jupyter-widgets/controls",
      "model_module_version": "1.5.0",
      "model_name": "BoxModel",
      "state": {
       "children": [
        "IPY_MODEL_467abe371e45470db69e38e48f3fc9bc",
        "IPY_MODEL_9ef9826b987a4c6bb930e59baa3ec7bd",
        "IPY_MODEL_d6def6e010bd4ac3a65f888bd214de72",
        "IPY_MODEL_bd2273473ed94c6ea91bc9f88282e08c"
       ],
       "layout": "IPY_MODEL_5c668c713e554d97af8e3fa4fe1cd0ee"
      }
     },
     "38cce1a64bde48478c6873906e560717": {
      "model_module": "@jupyter-widgets/controls",
      "model_module_version": "1.5.0",
      "model_name": "DescriptionStyleModel",
      "state": {
       "description_width": ""
      }
     },
     "38e76337283c4a00a813a2c2670d439d": {
      "model_module": "@jupyter-widgets/base",
      "model_module_version": "1.2.0",
      "model_name": "LayoutModel",
      "state": {}
     },
     "396a39095de24ef5b1ad48887cedc2c3": {
      "model_module": "@jupyter-widgets/base",
      "model_module_version": "1.2.0",
      "model_name": "LayoutModel",
      "state": {}
     },
     "396c01c87ca24b6eaa10a7ee4e57eb45": {
      "model_module": "@jupyter-widgets/controls",
      "model_module_version": "1.5.0",
      "model_name": "ButtonStyleModel",
      "state": {}
     },
     "396dc6abaac24db2b18d24ed41b40490": {
      "model_module": "@jupyter-widgets/base",
      "model_module_version": "1.2.0",
      "model_name": "LayoutModel",
      "state": {
       "justify_content": "center"
      }
     },
     "3994d78d0349440dbf70b7e46e35270b": {
      "model_module": "@jupyter-widgets/base",
      "model_module_version": "1.2.0",
      "model_name": "LayoutModel",
      "state": {}
     },
     "39a045d69ca94ba4a93eb39f9268a0fa": {
      "model_module": "@jupyter-widgets/controls",
      "model_module_version": "1.5.0",
      "model_name": "DropdownModel",
      "state": {
       "_options_labels": [
        "1",
        "2",
        "3"
       ],
       "description": "and row",
       "index": 1,
       "layout": "IPY_MODEL_be6616b7fa8a4a69bfe79867e7822993",
       "style": "IPY_MODEL_df732e62bd5d46abb748553a7aebfff7"
      }
     },
     "39c5948a10d24f4fa19897b7497b1a5f": {
      "model_module": "@jupyter-widgets/controls",
      "model_module_version": "1.5.0",
      "model_name": "HTMLMathModel",
      "state": {
       "layout": "IPY_MODEL_59f5e64ebd634673b1934ecdf5c26a9f",
       "style": "IPY_MODEL_296689efafeb4f78b587d5171f20ceda",
       "value": "Enter here the values of the matrix $\\bf{A}$"
      }
     },
     "39f1be3210e843abaab2be0b7951763a": {
      "model_module": "@jupyter-widgets/controls",
      "model_module_version": "1.5.0",
      "model_name": "ButtonModel",
      "state": {
       "description": "Swap rows",
       "layout": "IPY_MODEL_0b49b1e15c66421e925efbf75e7bec4b",
       "style": "IPY_MODEL_577b97fa2660405eb8fd9db452a0bc73"
      }
     },
     "3a0ed782347544099f1e92b25dd08930": {
      "model_module": "@jupyter-widgets/base",
      "model_module_version": "1.2.0",
      "model_name": "LayoutModel",
      "state": {
       "width": "150px"
      }
     },
     "3a4dfe5d507640ab8bb9092ebf2e6bb2": {
      "model_module": "@jupyter-widgets/controls",
      "model_module_version": "1.5.0",
      "model_name": "DescriptionStyleModel",
      "state": {
       "description_width": ""
      }
     },
     "3a5296d89eed4978ac29bda34dbab445": {
      "model_module": "@jupyter-widgets/controls",
      "model_module_version": "1.5.0",
      "model_name": "TextModel",
      "state": {
       "layout": "IPY_MODEL_065f08ede0b647238ec761aa592646c7",
       "style": "IPY_MODEL_3db9f1d9e79745e0a6a1f743c92bfda1",
       "value": "2"
      }
     },
     "3a67296a5abd44e79175cdb6b5095f4e": {
      "model_module": "@jupyter-widgets/controls",
      "model_module_version": "1.5.0",
      "model_name": "HTMLMathModel",
      "state": {
       "layout": "IPY_MODEL_3c1a77ad9a104254802262ca3f434b56",
       "style": "IPY_MODEL_9aec1d5a682849f8bf63ed0d4f07169d",
       "value": "Enter here the values of the constant matrix $\\bf{B}$"
      }
     },
     "3a78b01b2cf848cebd0752e725e1eb43": {
      "model_module": "@jupyter-widgets/controls",
      "model_module_version": "1.5.0",
      "model_name": "DescriptionStyleModel",
      "state": {
       "description_width": ""
      }
     },
     "3a80830ac2b64030a9c6a4bfa3c02b18": {
      "model_module": "@jupyter-widgets/base",
      "model_module_version": "1.2.0",
      "model_name": "LayoutModel",
      "state": {
       "height": "35px",
       "width": "30px"
      }
     },
     "3af32c0d12bb45cfb451562e2feddec9": {
      "model_module": "@jupyter-widgets/controls",
      "model_module_version": "1.5.0",
      "model_name": "HBoxModel",
      "state": {
       "children": [
        "IPY_MODEL_46766a6153f84c5e91b0e683469534b6",
        "IPY_MODEL_f71287e41b8d43418ec96663c5aabdcb",
        "IPY_MODEL_23d608c094b34066a6bbb7cbd733c1a0"
       ],
       "layout": "IPY_MODEL_c55d781a4ec043acb73efe998faf3d60"
      }
     },
     "3b06c9ae88ac4612805bc409b7e3c876": {
      "model_module": "@jupyter-widgets/controls",
      "model_module_version": "1.5.0",
      "model_name": "VBoxModel",
      "state": {
       "children": [
        "IPY_MODEL_c64ffb32691f4970aff68373a923db0d",
        "IPY_MODEL_53d510311e6145fe9c1e91f7701c8d28",
        "IPY_MODEL_99176302b17940a8948bb8b5c64c9a47"
       ],
       "layout": "IPY_MODEL_a64f71796f2347bc98374add432a5d91"
      }
     },
     "3b092df8dde24e699550d620dc36d41f": {
      "model_module": "@jupyter-widgets/base",
      "model_module_version": "1.2.0",
      "model_name": "LayoutModel",
      "state": {
       "width": "100px"
      }
     },
     "3b17770969f24f1291ff58a0e747076e": {
      "model_module": "@jupyter-widgets/controls",
      "model_module_version": "1.5.0",
      "model_name": "TextModel",
      "state": {
       "layout": "IPY_MODEL_e168436c7ee0437a9552e5f0afc85715",
       "style": "IPY_MODEL_305123cecbae49f7b42103a76e08cd41",
       "value": "1"
      }
     },
     "3b40a227975d46cbbe343fbc144a6127": {
      "model_module": "@jupyter-widgets/base",
      "model_module_version": "1.2.0",
      "model_name": "LayoutModel",
      "state": {
       "width": "150px"
      }
     },
     "3b50ee6f30af43e984f9aaedd3aa964d": {
      "model_module": "@jupyter-widgets/controls",
      "model_module_version": "1.5.0",
      "model_name": "TextModel",
      "state": {
       "layout": "IPY_MODEL_d7c4f11771b948fa9166cf5745d8d1c9",
       "style": "IPY_MODEL_9de1a19af4be4c1083926ee9d6a6c9c5",
       "value": "-1"
      }
     },
     "3b6168d524b349f4b60b5c3db7ea7206": {
      "model_module": "@jupyter-widgets/controls",
      "model_module_version": "1.5.0",
      "model_name": "VBoxModel",
      "state": {
       "children": [
        "IPY_MODEL_3fdb771cefdd4d65a43e8e7d88e99ff5",
        "IPY_MODEL_30c90ace0afa45adb76a627dfff80b2b",
        "IPY_MODEL_951ddb31c207458ca03edf12c64999e2"
       ],
       "layout": "IPY_MODEL_7f95c2af627d42abb02163ba0656f55c"
      }
     },
     "3b644969fba742ac8715488678270c0c": {
      "model_module": "@jupyter-widgets/controls",
      "model_module_version": "1.5.0",
      "model_name": "TextModel",
      "state": {
       "layout": "IPY_MODEL_d29f4c6323274c2ea715833a610068a5",
       "style": "IPY_MODEL_f6ae98d6d5f44b7391c4b2f8d67d9340",
       "value": "2"
      }
     },
     "3b6746c53df34f9f923a92ff0a94452e": {
      "model_module": "@jupyter-widgets/controls",
      "model_module_version": "1.5.0",
      "model_name": "DescriptionStyleModel",
      "state": {
       "description_width": ""
      }
     },
     "3b7f380bdd6e494b996eeeed29bfc430": {
      "model_module": "@jupyter-widgets/controls",
      "model_module_version": "1.5.0",
      "model_name": "DropdownModel",
      "state": {
       "_options_labels": [
        "1",
        "2",
        "3"
       ],
       "description": "Row",
       "index": 0,
       "layout": "IPY_MODEL_8c1d44295274484293ff84f480d6af28",
       "style": "IPY_MODEL_10c6593628b94ec9afd38a333213fa40"
      }
     },
     "3b9e242250584f1b8ab885b8b63a438c": {
      "model_module": "@jupyter-widgets/base",
      "model_module_version": "1.2.0",
      "model_name": "LayoutModel",
      "state": {
       "width": "90px"
      }
     },
     "3ba64c148baa4c0880128ea6c9d462a7": {
      "model_module": "@jupyter-widgets/controls",
      "model_module_version": "1.5.0",
      "model_name": "DropdownModel",
      "state": {
       "_options_labels": [
        "1",
        "2",
        "3"
       ],
       "description": "Swap row",
       "index": 0,
       "layout": "IPY_MODEL_981dcb87019a4ded9037f1f6ced8af62",
       "style": "IPY_MODEL_cf3b693ce768490fb1432a40cd13951d"
      }
     },
     "3bb8261974264858a8fd215375cd4d04": {
      "model_module": "@jupyter-widgets/base",
      "model_module_version": "1.2.0",
      "model_name": "LayoutModel",
      "state": {
       "width": "150px"
      }
     },
     "3bea237394c74d4c910c2bd4cc8529e5": {
      "model_module": "@jupyter-widgets/base",
      "model_module_version": "1.2.0",
      "model_name": "LayoutModel",
      "state": {}
     },
     "3beea588c1084881ba2fc96a06fface2": {
      "model_module": "@jupyter-widgets/base",
      "model_module_version": "1.2.0",
      "model_name": "LayoutModel",
      "state": {
       "width": "250px"
      }
     },
     "3c1a77ad9a104254802262ca3f434b56": {
      "model_module": "@jupyter-widgets/base",
      "model_module_version": "1.2.0",
      "model_name": "LayoutModel",
      "state": {
       "width": "90px"
      }
     },
     "3c1daffb2501413c9a1420c84d71ecbf": {
      "model_module": "@jupyter-widgets/controls",
      "model_module_version": "1.5.0",
      "model_name": "HBoxModel",
      "state": {
       "children": [
        "IPY_MODEL_f0e435f708eb40afb638d2cf9d9781d3",
        "IPY_MODEL_1af76ee5f0594bc7a6ec173107b18037"
       ],
       "layout": "IPY_MODEL_0539bbb194854c9e9915eeca31595aef"
      }
     },
     "3c3fcc4d43ee48beb4006da8b5d79a1b": {
      "model_module": "@jupyter-widgets/base",
      "model_module_version": "1.2.0",
      "model_name": "LayoutModel",
      "state": {
       "grid_template_columns": "repeat(1, 45px)"
      }
     },
     "3c4ec5effdd74ea18fd1ec3a8480692d": {
      "model_module": "@jupyter-widgets/controls",
      "model_module_version": "1.5.0",
      "model_name": "HBoxModel",
      "state": {
       "children": [
        "IPY_MODEL_b988c113dbf14e86a1715061c72c7152",
        "IPY_MODEL_2fd153954dc147da970765cb657eebe3"
       ],
       "layout": "IPY_MODEL_7dceb22fd1cc4c69b6072291aa5a807c"
      }
     },
     "3c6b58232c9c4c5c8fc0a5567f95c4eb": {
      "model_module": "@jupyter-widgets/base",
      "model_module_version": "1.2.0",
      "model_name": "LayoutModel",
      "state": {}
     },
     "3c71608d4e084918872dd4840230c98a": {
      "model_module": "@jupyter-widgets/controls",
      "model_module_version": "1.5.0",
      "model_name": "HTMLMathModel",
      "state": {
       "layout": "IPY_MODEL_b46cd9dd6196443db5682258f01d446c",
       "style": "IPY_MODEL_19e16f9a6d32479b8e08846947605b0b",
       "value": "Enter here the values of the matrix $A$"
      }
     },
     "3cd4d536052b4685abbe3c1404fe6b2a": {
      "model_module": "@jupyter-widgets/controls",
      "model_module_version": "1.5.0",
      "model_name": "TextModel",
      "state": {
       "description": "times",
       "layout": "IPY_MODEL_fbd22b4091d04606945ea5393c257bbc",
       "style": "IPY_MODEL_f8c88373379443b5b138b676f4efd08e",
       "value": "-4"
      }
     },
     "3d0adf1c14424857bebb22c7fcc3b99f": {
      "model_module": "@jupyter-widgets/controls",
      "model_module_version": "1.5.0",
      "model_name": "ButtonStyleModel",
      "state": {}
     },
     "3d324a712e40486e870d49e02835fff2": {
      "model_module": "@jupyter-widgets/controls",
      "model_module_version": "1.5.0",
      "model_name": "BoxModel",
      "state": {
       "children": [
        "IPY_MODEL_74954d716d34439c935140861ed8a0d0",
        "IPY_MODEL_9c1a5a907b704f7ebf2cefc7c89f9124",
        "IPY_MODEL_6bc78f3566e94334a6411d532a102623"
       ],
       "layout": "IPY_MODEL_98977cdc57a84cb394170264d2755082"
      }
     },
     "3d70e78e02cc4be4bf80c75ab7951a04": {
      "model_module": "@jupyter-widgets/base",
      "model_module_version": "1.2.0",
      "model_name": "LayoutModel",
      "state": {}
     },
     "3d7ae768a6aa4b79ae3f122f7f6b3c9f": {
      "model_module": "@jupyter-widgets/controls",
      "model_module_version": "1.5.0",
      "model_name": "TextModel",
      "state": {
       "layout": "IPY_MODEL_4bcd3a11811347d3979a9396c2e71cd4",
       "style": "IPY_MODEL_1c4a8fdc3c9946fdaa2fcfae6d91276b",
       "value": "2"
      }
     },
     "3d7f54f4165b41769fa5f2901a40bfd5": {
      "model_module": "@jupyter-widgets/controls",
      "model_module_version": "1.5.0",
      "model_name": "DescriptionStyleModel",
      "state": {
       "description_width": ""
      }
     },
     "3d8cc5b061604dcdaf140d971c6a2d83": {
      "model_module": "@jupyter-widgets/controls",
      "model_module_version": "1.5.0",
      "model_name": "HBoxModel",
      "state": {
       "children": [
        "IPY_MODEL_f27e0f18d55744be8068dad7dbf7737a",
        "IPY_MODEL_49947b9714d242579f6685a2c327a6a6",
        "IPY_MODEL_099971f01b6b43bcbf4a8cd847c5f088"
       ],
       "layout": "IPY_MODEL_67f623a1221044139c2e0e17c17a6198"
      }
     },
     "3da97c80fb1542a78e88a246bccf4378": {
      "model_module": "@jupyter-widgets/base",
      "model_module_version": "1.2.0",
      "model_name": "LayoutModel",
      "state": {
       "width": "100px"
      }
     },
     "3db181f7959a40e1bf0f11495d2d7c92": {
      "model_module": "@jupyter-widgets/controls",
      "model_module_version": "1.5.0",
      "model_name": "ButtonModel",
      "state": {
       "description": "Start",
       "layout": "IPY_MODEL_6346305f8fcd4dcfad79fb48120773f3",
       "style": "IPY_MODEL_aca5d4097ce54949ba9688241c0ddbbe"
      }
     },
     "3db2e2b11fdb45cd8f264eaa8c4e1b96": {
      "model_module": "@jupyter-widgets/controls",
      "model_module_version": "1.5.0",
      "model_name": "TextModel",
      "state": {
       "layout": "IPY_MODEL_5a0c24727aa941b48d996c0a1f0c2bf8",
       "style": "IPY_MODEL_25baaf28b2324ebda9a7c97a543b470f",
       "value": "1"
      }
     },
     "3db9f1d9e79745e0a6a1f743c92bfda1": {
      "model_module": "@jupyter-widgets/controls",
      "model_module_version": "1.5.0",
      "model_name": "DescriptionStyleModel",
      "state": {
       "description_width": ""
      }
     },
     "3dc38e58e200492c8d1d680232f2515b": {
      "model_module": "@jupyter-widgets/controls",
      "model_module_version": "1.5.0",
      "model_name": "TextModel",
      "state": {
       "layout": "IPY_MODEL_c488e0656e78457c941ce778fefda70e",
       "style": "IPY_MODEL_c0ee115f44c14ee38711a3daded892b9",
       "value": "1"
      }
     },
     "3de2ebf26ed140c68c84ff787ffcfb7f": {
      "model_module": "@jupyter-widgets/controls",
      "model_module_version": "1.5.0",
      "model_name": "HBoxModel",
      "state": {
       "children": [
        "IPY_MODEL_f9aabeac974b4419abdd181e988d6564",
        "IPY_MODEL_ad06bc4debb9475d92e15f3a36fccf5b",
        "IPY_MODEL_404d3c6422a247ae986fdf946535f5fd"
       ],
       "layout": "IPY_MODEL_e7cbaebbdead48cbb9e5afbe0afa2b76"
      }
     },
     "3e071dde0bd649fda66d85b1b239f98d": {
      "model_module": "@jupyter-widgets/base",
      "model_module_version": "1.2.0",
      "model_name": "LayoutModel",
      "state": {
       "width": "90px"
      }
     },
     "3e30ad1a3c3d40da952f47e393edb3bf": {
      "model_module": "@jupyter-widgets/base",
      "model_module_version": "1.2.0",
      "model_name": "LayoutModel",
      "state": {
       "width": "150px"
      }
     },
     "3e42da55c14d4c96ad61bc1b4584224c": {
      "model_module": "@jupyter-widgets/controls",
      "model_module_version": "1.5.0",
      "model_name": "TextModel",
      "state": {
       "layout": "IPY_MODEL_9f4d9e00ae3e470a8d024478444df27d",
       "style": "IPY_MODEL_918257d8846f4ba6bc4cab24c50e6524",
       "value": "2"
      }
     },
     "3e465d29936b451486e351ad53355287": {
      "model_module": "@jupyter-widgets/controls",
      "model_module_version": "1.5.0",
      "model_name": "HBoxModel",
      "state": {
       "children": [
        "IPY_MODEL_58f53823b3a5433cbcb57c2974e9458e",
        "IPY_MODEL_cdd9dab4935c42c3962d95f2eeb84c89",
        "IPY_MODEL_9b34b632123f4974b8391883ef60cfea"
       ],
       "layout": "IPY_MODEL_6dd22e7d56754a168034fd760123ce0f"
      }
     },
     "3e8cdf14b9d24f3683c6a378a59a4e9d": {
      "model_module": "@jupyter-widgets/controls",
      "model_module_version": "1.5.0",
      "model_name": "VBoxModel",
      "state": {
       "children": [
        "IPY_MODEL_f77d1fb585694c3389c00f503e2fa0a3",
        "IPY_MODEL_83d770af0e8340c4bdbc081e74842472",
        "IPY_MODEL_4bda761bd9b74a85a4ea33a5d991467e"
       ],
       "layout": "IPY_MODEL_8ddcecf59fca4d40908db694dbb11e3c"
      }
     },
     "3e9436ced64d4d2585161ed2571da4d8": {
      "model_module": "@jupyter-widgets/controls",
      "model_module_version": "1.5.0",
      "model_name": "ButtonModel",
      "state": {
       "description": "Start",
       "layout": "IPY_MODEL_7d73186bfd034b90a9e5a0398599d2eb",
       "style": "IPY_MODEL_0c4a2012c43f438991589c2c630fb6b2"
      }
     },
     "3eada95ee57b414780d5c378b3b2f36c": {
      "model_module": "@jupyter-widgets/controls",
      "model_module_version": "1.5.0",
      "model_name": "HTMLMathModel",
      "state": {
       "layout": "IPY_MODEL_df0ffce47b3f4515bd1da641632e8a97",
       "style": "IPY_MODEL_68a8d700b6fe4f259fde5354434f8288",
       "value": "Enter here the values of the right hand side vector $b$"
      }
     },
     "3ed32a4b3dee40abbce1f9ef326c36a8": {
      "model_module": "@jupyter-widgets/controls",
      "model_module_version": "1.5.0",
      "model_name": "DescriptionStyleModel",
      "state": {
       "description_width": ""
      }
     },
     "3ed4ffb11b9b41ac88c852a15316aa36": {
      "model_module": "@jupyter-widgets/controls",
      "model_module_version": "1.5.0",
      "model_name": "DescriptionStyleModel",
      "state": {
       "description_width": ""
      }
     },
     "3f031cac4b2348d685e936bcf5b85491": {
      "model_module": "@jupyter-widgets/controls",
      "model_module_version": "1.5.0",
      "model_name": "HTMLMathModel",
      "state": {
       "layout": "IPY_MODEL_0eae850f291a4fb6990eff505e33407b",
       "style": "IPY_MODEL_a356ca7a10e0491e82005f042454ea61",
       "value": "Results will be shown here."
      }
     },
     "3f1887a0343a4b629c2fc718930c81c2": {
      "model_module": "@jupyter-widgets/controls",
      "model_module_version": "1.5.0",
      "model_name": "BoxModel",
      "state": {
       "children": [
        "IPY_MODEL_7b404394238447f6b19c4446c474786c",
        "IPY_MODEL_7b3ea608f62743d3ad121460eb9aab9a",
        "IPY_MODEL_da986a1857e14f21b7ff267b3dcc95b9",
        "IPY_MODEL_c361ecfb861e40119385ae71b619e8fa"
       ],
       "layout": "IPY_MODEL_4843895668de43c9ac30e4fc38974a3e"
      }
     },
     "3f22e8f1a1214e1e8856946dae2c8c53": {
      "model_module": "@jupyter-widgets/controls",
      "model_module_version": "1.5.0",
      "model_name": "TextModel",
      "state": {
       "layout": "IPY_MODEL_9f4d9e00ae3e470a8d024478444df27d",
       "style": "IPY_MODEL_4665c19c5aeb4403b342424a6c364515",
       "value": "2"
      }
     },
     "3f3cee9a62bb46ad8ec02b71e85137e8": {
      "model_module": "@jupyter-widgets/controls",
      "model_module_version": "1.5.0",
      "model_name": "HBoxModel",
      "state": {
       "children": [
        "IPY_MODEL_43c5c5e959424dc595b3e6325957d220",
        "IPY_MODEL_7966899af45742a4881fe0ef229f5307"
       ],
       "layout": "IPY_MODEL_123f7c0267e24c01839a4172262e7c85"
      }
     },
     "3f5694b129604e6ab874cea5a5925093": {
      "model_module": "@jupyter-widgets/base",
      "model_module_version": "1.2.0",
      "model_name": "LayoutModel",
      "state": {}
     },
     "3f5c282cb7614c07a33fdfceddad2e59": {
      "model_module": "@jupyter-widgets/controls",
      "model_module_version": "1.5.0",
      "model_name": "TextModel",
      "state": {
       "layout": "IPY_MODEL_24e52a9da5f64680833f56257412e632",
       "style": "IPY_MODEL_af6006bf4c634e0d89d3ef82c0b37465",
       "value": "2/3"
      }
     },
     "3f5f9e21ae7142128f6b6ea581f1cd25": {
      "model_module": "@jupyter-widgets/base",
      "model_module_version": "1.2.0",
      "model_name": "LayoutModel",
      "state": {}
     },
     "3f73331f1d704fe69ff13fda7b7f52cd": {
      "model_module": "@jupyter-widgets/controls",
      "model_module_version": "1.5.0",
      "model_name": "TextModel",
      "state": {
       "layout": "IPY_MODEL_bbd5dabd53c049fca9a7f5878437cad9",
       "style": "IPY_MODEL_bd4133373cc641e69e1e374c956f434b",
       "value": "2"
      }
     },
     "3fc23ff5933444e19612e4df69707bad": {
      "model_module": "@jupyter-widgets/controls",
      "model_module_version": "1.5.0",
      "model_name": "TextModel",
      "state": {
       "layout": "IPY_MODEL_e9aebd82017d4a8ba76e24a5bdf8ca4f",
       "style": "IPY_MODEL_58814e163bae4be2b1e301afd275bba3",
       "value": "-1"
      }
     },
     "3fcc0720e03f4ca0b91d2b9db850cb34": {
      "model_module": "@jupyter-widgets/controls",
      "model_module_version": "1.5.0",
      "model_name": "VBoxModel",
      "state": {
       "children": [
        "IPY_MODEL_ade8ad9064cd47fb8ce036c5993ff78c",
        "IPY_MODEL_4c1d480cf7d54cfdb9e5cc35f5779b7e",
        "IPY_MODEL_0c7da122900b4eb692cfd3438226341f"
       ],
       "layout": "IPY_MODEL_c52cc2a79ebb40e381aec5cd025bdeb9"
      }
     },
     "3fcedba7054b4f00aa95b24f4459252a": {
      "model_module": "@jupyter-widgets/controls",
      "model_module_version": "1.5.0",
      "model_name": "ButtonModel",
      "state": {
       "description": "Start",
       "layout": "IPY_MODEL_4c76c6b487df4a228b0014fd785ba48d",
       "style": "IPY_MODEL_10a58219c0cd44d98cac63e23eaa7fe2"
      }
     },
     "3fdb154f4fc24590a7b07905849613e7": {
      "model_module": "@jupyter-widgets/controls",
      "model_module_version": "1.5.0",
      "model_name": "DescriptionStyleModel",
      "state": {
       "description_width": ""
      }
     },
     "3fdb771cefdd4d65a43e8e7d88e99ff5": {
      "model_module": "@jupyter-widgets/controls",
      "model_module_version": "1.5.0",
      "model_name": "TextModel",
      "state": {
       "layout": "IPY_MODEL_65cb8db367e14667886b79ef97c800d1",
       "style": "IPY_MODEL_60780020aeec4cd6a5005588e958946c",
       "value": "7"
      }
     },
     "3fee606d44464bb48017f3e372539c60": {
      "model_module": "@jupyter-widgets/controls",
      "model_module_version": "1.5.0",
      "model_name": "DescriptionStyleModel",
      "state": {
       "description_width": ""
      }
     },
     "3ff1dcae763c45de9639835e3e9e93ca": {
      "model_module": "@jupyter-widgets/controls",
      "model_module_version": "1.5.0",
      "model_name": "DescriptionStyleModel",
      "state": {
       "description_width": ""
      }
     },
     "3ff36ff6342944398db3d919ad3e2ce7": {
      "model_module": "@jupyter-widgets/controls",
      "model_module_version": "1.5.0",
      "model_name": "DropdownModel",
      "state": {
       "_options_labels": [
        "1",
        "2",
        "3"
       ],
       "description": "Row",
       "index": 0,
       "layout": "IPY_MODEL_c107b01fcf3c436c9d48e2bd2e4a4797",
       "style": "IPY_MODEL_28020b00756041d7978aa1dc3d078eb2"
      }
     },
     "401d76ed5c5047538d5c51f725ac606e": {
      "model_module": "@jupyter-widgets/controls",
      "model_module_version": "1.5.0",
      "model_name": "DescriptionStyleModel",
      "state": {
       "description_width": ""
      }
     },
     "403f6b50c01b425984516eb0d23793c2": {
      "model_module": "@jupyter-widgets/controls",
      "model_module_version": "1.5.0",
      "model_name": "TextModel",
      "state": {
       "layout": "IPY_MODEL_109f6d462a004bdd9a95542348d778f8",
       "style": "IPY_MODEL_a6ab870be1e84abcb4578ffec5467fa8",
       "value": "1"
      }
     },
     "404d3c6422a247ae986fdf946535f5fd": {
      "model_module": "@jupyter-widgets/controls",
      "model_module_version": "1.5.0",
      "model_name": "TextModel",
      "state": {
       "layout": "IPY_MODEL_194d5881fb18447585798b14c51e301b",
       "style": "IPY_MODEL_f95ea6c6a2614feba56e2877f30f1353",
       "value": "-1"
      }
     },
     "407fb7ac773e4783bd56a75b3bbe6cd9": {
      "model_module": "@jupyter-widgets/controls",
      "model_module_version": "1.5.0",
      "model_name": "TextModel",
      "state": {
       "layout": "IPY_MODEL_383a1c5f5f0c418b84e9a50a2a78d25a",
       "style": "IPY_MODEL_aaab94310a934f15b50d3ac386f896c3",
       "value": "1"
      }
     },
     "4081949446e141c1879d5345ef974dcf": {
      "model_module": "@jupyter-widgets/controls",
      "model_module_version": "1.5.0",
      "model_name": "HTMLModel",
      "state": {
       "layout": "IPY_MODEL_5a730f4a86c04107be4ccc85c2b569a1",
       "style": "IPY_MODEL_eefc9c0201ae48deb3268c915b3fb7b0",
       "value": "Click the button below to start the calculator"
      }
     },
     "40b5f3358d8f42df964a3535bbd32b4b": {
      "model_module": "@jupyter-widgets/controls",
      "model_module_version": "1.5.0",
      "model_name": "TextModel",
      "state": {
       "layout": "IPY_MODEL_5a0c24727aa941b48d996c0a1f0c2bf8",
       "style": "IPY_MODEL_bba58beff2704be5a8a1e6606af679a0",
       "value": "7"
      }
     },
     "40c3b198f4ba4d53a1a049546757ed98": {
      "model_module": "@jupyter-widgets/controls",
      "model_module_version": "1.5.0",
      "model_name": "VBoxModel",
      "state": {
       "children": [
        "IPY_MODEL_0ef0234445154cc8acb93d7777ba30b9",
        "IPY_MODEL_d0d44bbfa3a24c07a9e5dd462b584db0",
        "IPY_MODEL_2aaf272458ff4a91912f44f70ce55db7"
       ],
       "layout": "IPY_MODEL_6ae136288848499885cc76c693627dbe"
      }
     },
     "40d52eb81d894994837af5324e71566c": {
      "model_module": "@jupyter-widgets/controls",
      "model_module_version": "1.5.0",
      "model_name": "DescriptionStyleModel",
      "state": {
       "description_width": ""
      }
     },
     "4103463bea7b400ba7bea4fdec5bbff6": {
      "model_module": "@jupyter-widgets/base",
      "model_module_version": "1.2.0",
      "model_name": "LayoutModel",
      "state": {
       "width": "100px"
      }
     },
     "410a8c62e21540afa6c312425d7240ab": {
      "model_module": "@jupyter-widgets/base",
      "model_module_version": "1.2.0",
      "model_name": "LayoutModel",
      "state": {
       "width": "100px"
      }
     },
     "410b909e09794f089f651f07cade4a45": {
      "model_module": "@jupyter-widgets/controls",
      "model_module_version": "1.5.0",
      "model_name": "TextModel",
      "state": {
       "layout": "IPY_MODEL_5658a8e71503421ab525d14883c87170",
       "style": "IPY_MODEL_967bd7f4876744b0bd9efb3172246841",
       "value": "1"
      }
     },
     "413babb57e214caaa1f8047aabe85756": {
      "model_module": "@jupyter-widgets/controls",
      "model_module_version": "1.5.0",
      "model_name": "DescriptionStyleModel",
      "state": {
       "description_width": ""
      }
     },
     "4148c095bd24450a8dd6b2d33c72966e": {
      "model_module": "@jupyter-widgets/controls",
      "model_module_version": "1.5.0",
      "model_name": "HBoxModel",
      "state": {
       "children": [
        "IPY_MODEL_63888e459a374ce79460f073f5aefde9",
        "IPY_MODEL_c19e9cf7ae3f4efeaf7bc4b6b325e7b2",
        "IPY_MODEL_cbe4c8e6f2d24f40a2cd538ac9dd62b9"
       ],
       "layout": "IPY_MODEL_9b3904d84cc34825880f52798ae1bc87"
      }
     },
     "415c7b25f4f343c89e46759710c95b06": {
      "model_module": "@jupyter-widgets/base",
      "model_module_version": "1.2.0",
      "model_name": "LayoutModel",
      "state": {
       "width": "150px"
      }
     },
     "41752c975cdd464692ab3826ed8fea75": {
      "model_module": "@jupyter-widgets/controls",
      "model_module_version": "1.5.0",
      "model_name": "HBoxModel",
      "state": {
       "children": [
        "IPY_MODEL_bf470fc58914473bb9de9c9d91b1f8da",
        "IPY_MODEL_a83e47b84a3e4ebd996596d925e258e7",
        "IPY_MODEL_746fa81095204260a1da7db8ae4c2924"
       ],
       "layout": "IPY_MODEL_64e3e56d08f44a4888573f2692cda4ca"
      }
     },
     "41792316ecc5436aa4d748a1fcbe0eae": {
      "model_module": "@jupyter-widgets/controls",
      "model_module_version": "1.5.0",
      "model_name": "ButtonStyleModel",
      "state": {}
     },
     "41837046d02f4b61a27084fface2c437": {
      "model_module": "@jupyter-widgets/controls",
      "model_module_version": "1.5.0",
      "model_name": "ButtonModel",
      "state": {
       "description": "Start",
       "layout": "IPY_MODEL_b5412308b42844929ea6cb7509694b92",
       "style": "IPY_MODEL_62058eae981647c3b0128ccef6be377b"
      }
     },
     "41a3c80778db49f69b3ad5214a553176": {
      "model_module": "@jupyter-widgets/base",
      "model_module_version": "1.2.0",
      "model_name": "LayoutModel",
      "state": {}
     },
     "41cad7d4afcd402ba73f8363863aaab8": {
      "model_module": "@jupyter-widgets/base",
      "model_module_version": "1.2.0",
      "model_name": "LayoutModel",
      "state": {}
     },
     "41d3726d9628467d9272111dd9aeb5e2": {
      "model_module": "@jupyter-widgets/controls",
      "model_module_version": "1.5.0",
      "model_name": "DescriptionStyleModel",
      "state": {
       "description_width": ""
      }
     },
     "41eba958119a459aa99c15a7cf22a422": {
      "model_module": "@jupyter-widgets/controls",
      "model_module_version": "1.5.0",
      "model_name": "TextModel",
      "state": {
       "layout": "IPY_MODEL_e56e2cbba3324f1e9a6da6e53dfda065",
       "style": "IPY_MODEL_76f2861cae944245a92eb58aa11ab809",
       "value": "7"
      }
     },
     "422983a77e9a413da6ca571778dcbc89": {
      "model_module": "@jupyter-widgets/controls",
      "model_module_version": "1.5.0",
      "model_name": "DescriptionStyleModel",
      "state": {
       "description_width": ""
      }
     },
     "423519f11c55416f965eb4875a1b7d1c": {
      "model_module": "@jupyter-widgets/base",
      "model_module_version": "1.2.0",
      "model_name": "LayoutModel",
      "state": {}
     },
     "4258c0cb737247b0b2954f90cc0d40aa": {
      "model_module": "@jupyter-widgets/base",
      "model_module_version": "1.2.0",
      "model_name": "LayoutModel",
      "state": {}
     },
     "4265f3529f1149aeb98126130c96b425": {
      "model_module": "@jupyter-widgets/controls",
      "model_module_version": "1.5.0",
      "model_name": "HTMLMathModel",
      "state": {
       "layout": "IPY_MODEL_0373ebbff55945a1934f6beb2ba9b566",
       "style": "IPY_MODEL_3566ddabed134c3aa4b704daaa0a9613",
       "value": "Enter here the values of the coefficient matrix $\\bf{A}$"
      }
     },
     "42737598ceb94212803e8b6f602da1e3": {
      "model_module": "@jupyter-widgets/controls",
      "model_module_version": "1.5.0",
      "model_name": "GridBoxModel",
      "state": {
       "children": [
        "IPY_MODEL_1fe574e1054f404d8202f5becc84007d",
        "IPY_MODEL_8179b30575714b04b00deb389a9377c3",
        "IPY_MODEL_e516cf37d2634f9fa05ee6cf92efba8e",
        "IPY_MODEL_72a1f73d91ae417aa35d57b509a570b2",
        "IPY_MODEL_f2e0851c440c459598053173a7e4b35b",
        "IPY_MODEL_cbc25584a35944c8810dd578630a28d4",
        "IPY_MODEL_0e292b6285d943b09d392d62f5ecbc89",
        "IPY_MODEL_107eacf5d7d04ec79526ac975b916f4b",
        "IPY_MODEL_580e2321fac44f77b5f6584ea86e1d3c"
       ],
       "layout": "IPY_MODEL_67c706fa4d764878be0ac3bfd92b8188"
      }
     },
     "428944530b7b4f449028404d92e3a7ad": {
      "model_module": "@jupyter-widgets/controls",
      "model_module_version": "1.5.0",
      "model_name": "DescriptionStyleModel",
      "state": {
       "description_width": ""
      }
     },
     "42b15d0e1fbb489f8b3bd80087e7f0af": {
      "model_module": "@jupyter-widgets/controls",
      "model_module_version": "1.5.0",
      "model_name": "DescriptionStyleModel",
      "state": {
       "description_width": ""
      }
     },
     "42b594d8b2f346acad4d5bf133fba54a": {
      "model_module": "@jupyter-widgets/controls",
      "model_module_version": "1.5.0",
      "model_name": "DescriptionStyleModel",
      "state": {
       "description_width": ""
      }
     },
     "42b941b1b02a4dd8816ba0af704a022b": {
      "model_module": "@jupyter-widgets/controls",
      "model_module_version": "1.5.0",
      "model_name": "DescriptionStyleModel",
      "state": {
       "description_width": ""
      }
     },
     "42d4f2e980d74e3d924b25d70772b5a6": {
      "model_module": "@jupyter-widgets/base",
      "model_module_version": "1.2.0",
      "model_name": "LayoutModel",
      "state": {
       "width": "120px"
      }
     },
     "430bcf396aa04007a171abce7823fe93": {
      "model_module": "@jupyter-widgets/controls",
      "model_module_version": "1.5.0",
      "model_name": "TextModel",
      "state": {
       "layout": "IPY_MODEL_065f08ede0b647238ec761aa592646c7",
       "style": "IPY_MODEL_8230740224844c9195f0574d10c86d7e",
       "value": "2"
      }
     },
     "430f084f28914b059709ecb4b8f6f712": {
      "model_module": "@jupyter-widgets/controls",
      "model_module_version": "1.5.0",
      "model_name": "HBoxModel",
      "state": {
       "children": [
        "IPY_MODEL_17bc9321de474f2fac9acb7e2c6ec572",
        "IPY_MODEL_a6191c7b85f24d29967a142f134ca578",
        "IPY_MODEL_a6f0dc7c4b2f4f14ac0933f9f1f5511d"
       ],
       "layout": "IPY_MODEL_2149a2c76b964772a4a3545aa597628b"
      }
     },
     "43235a77f49940c0aee85f719894d192": {
      "model_module": "@jupyter-widgets/controls",
      "model_module_version": "1.5.0",
      "model_name": "TextModel",
      "state": {
       "layout": "IPY_MODEL_ff8f131091ed4bf49b858ed52bc5b3ea",
       "style": "IPY_MODEL_1ab781484dd24550b34507f44f2a186f",
       "value": "-1"
      }
     },
     "432dd1f474964e35b1568fdc39575336": {
      "model_module": "@jupyter-widgets/controls",
      "model_module_version": "1.5.0",
      "model_name": "DescriptionStyleModel",
      "state": {
       "description_width": ""
      }
     },
     "43c03291296a42089d709604317ded46": {
      "model_module": "@jupyter-widgets/base",
      "model_module_version": "1.2.0",
      "model_name": "LayoutModel",
      "state": {}
     },
     "43c5c5e959424dc595b3e6325957d220": {
      "model_module": "@jupyter-widgets/controls",
      "model_module_version": "1.5.0",
      "model_name": "VBoxModel",
      "state": {
       "children": [
        "IPY_MODEL_69a4ad9322ab48488075006963c56c79",
        "IPY_MODEL_b1de36b1b50d4b30b3071b04666c1958"
       ],
       "layout": "IPY_MODEL_dc169a792c7c47d98d3195d87b75b279"
      }
     },
     "43d22d0cb869411aa30b1ac30659627c": {
      "model_module": "@jupyter-widgets/controls",
      "model_module_version": "1.5.0",
      "model_name": "DropdownModel",
      "state": {
       "_options_labels": [
        "1",
        "2",
        "3"
       ],
       "description": "Row",
       "index": 0,
       "layout": "IPY_MODEL_36da31c1490443ae9bf4534336822938",
       "style": "IPY_MODEL_360fc902e9824ec382244ee4778c6110"
      }
     },
     "43d45095b3bb480787d374cb0e79e0c5": {
      "model_module": "@jupyter-widgets/controls",
      "model_module_version": "1.5.0",
      "model_name": "HTMLMathModel",
      "state": {
       "layout": "IPY_MODEL_8fd2915d6ac34d2285425a215868d17e",
       "style": "IPY_MODEL_d8a5fee0b34149b581b27226d34f81fd",
       "value": "Enter here the values of the right hand side vector $b$"
      }
     },
     "43ea316cf7154d038674a2be56018d60": {
      "model_module": "@jupyter-widgets/controls",
      "model_module_version": "1.5.0",
      "model_name": "DescriptionStyleModel",
      "state": {
       "description_width": ""
      }
     },
     "43f262eff72c4c2e90aeccd4baa0667e": {
      "model_module": "@jupyter-widgets/base",
      "model_module_version": "1.2.0",
      "model_name": "LayoutModel",
      "state": {}
     },
     "44075922e82845a7ad78617e2661993d": {
      "model_module": "@jupyter-widgets/controls",
      "model_module_version": "1.5.0",
      "model_name": "DescriptionStyleModel",
      "state": {
       "description_width": ""
      }
     },
     "44133bbf1c60489d9e440eabc261aa30": {
      "model_module": "@jupyter-widgets/base",
      "model_module_version": "1.2.0",
      "model_name": "LayoutModel",
      "state": {
       "width": "50px"
      }
     },
     "441de1e256e749bd8b2a06263d4b24f4": {
      "model_module": "@jupyter-widgets/controls",
      "model_module_version": "1.5.0",
      "model_name": "BoxModel",
      "state": {
       "children": [
        "IPY_MODEL_7fe6078de9b242ca96a6405fda0a0a44",
        "IPY_MODEL_b2da0e500b16485c95b72ada479982d8",
        "IPY_MODEL_e122dddaa8a94c6799d86e41e57fbda8",
        "IPY_MODEL_bfe90f0b088e4744841d9615494c5524"
       ],
       "layout": "IPY_MODEL_c68ba1b409ec46f59a86e118d2714a93"
      }
     },
     "443a0000a7254ab49f0e3f9888250c94": {
      "model_module": "@jupyter-widgets/controls",
      "model_module_version": "1.5.0",
      "model_name": "DescriptionStyleModel",
      "state": {
       "description_width": ""
      }
     },
     "446bd0f86a6044d79e7e10a2c7a2d9bf": {
      "model_module": "@jupyter-widgets/controls",
      "model_module_version": "1.5.0",
      "model_name": "TextModel",
      "state": {
       "layout": "IPY_MODEL_109f6d462a004bdd9a95542348d778f8",
       "style": "IPY_MODEL_1bdfd78d4e0044cbba4909e665465369",
       "value": "1"
      }
     },
     "44cb07a0751941d4a4d14f7cff087d4d": {
      "model_module": "@jupyter-widgets/controls",
      "model_module_version": "1.5.0",
      "model_name": "VBoxModel",
      "state": {
       "children": [
        "IPY_MODEL_210a393e750a4ad8917ff5cb67fb339f",
        "IPY_MODEL_afdd129ec13244fd8b99e75f808be5b9",
        "IPY_MODEL_20cc6ee9c4b8471899b0eed8346430ce"
       ],
       "layout": "IPY_MODEL_069a925a480540a1b410682f093ae38a"
      }
     },
     "44efd293fadc43e4919bf20e87c5d8bb": {
      "model_module": "@jupyter-widgets/controls",
      "model_module_version": "1.5.0",
      "model_name": "DescriptionStyleModel",
      "state": {
       "description_width": ""
      }
     },
     "44f45716382047738312e675c5dc20d2": {
      "model_module": "@jupyter-widgets/controls",
      "model_module_version": "1.5.0",
      "model_name": "DescriptionStyleModel",
      "state": {
       "description_width": ""
      }
     },
     "451bfd2114104297a6bf0b0cc7cfb3a9": {
      "model_module": "@jupyter-widgets/controls",
      "model_module_version": "1.5.0",
      "model_name": "TextModel",
      "state": {
       "layout": "IPY_MODEL_1ceaf9c9ac774ae985cae0c34af76539",
       "style": "IPY_MODEL_2dd8f476c90946ca8411be22e8261c6b",
       "value": "2"
      }
     },
     "451c1ef12f0d468ba7f777b03581d90b": {
      "model_module": "@jupyter-widgets/controls",
      "model_module_version": "1.5.0",
      "model_name": "GridBoxModel",
      "state": {
       "children": [
        "IPY_MODEL_c96cb1b20db64c75a3cbf486d0bb2392",
        "IPY_MODEL_ff360d15a6a34f19a4b89cba53c1c796",
        "IPY_MODEL_1f7fc871a0604e378812d9bb1fae1758"
       ],
       "layout": "IPY_MODEL_bad3b3c3638d40cba1f4ff3e90039a17"
      }
     },
     "451ced09ec714605ad76ddecf3e541a1": {
      "model_module": "@jupyter-widgets/base",
      "model_module_version": "1.2.0",
      "model_name": "LayoutModel",
      "state": {
       "flex_flow": "row wrap",
       "justify_content": "space-around"
      }
     },
     "45600524194d41f9843f8cfef3d021cb": {
      "model_module": "@jupyter-widgets/controls",
      "model_module_version": "1.5.0",
      "model_name": "TextModel",
      "state": {
       "layout": "IPY_MODEL_250753b918e0432c803452a019d33c5c",
       "style": "IPY_MODEL_65abb230129546c4a8be04778678eec6",
       "value": "7"
      }
     },
     "45808614afea485c8eb741b83d1c92e0": {
      "model_module": "@jupyter-widgets/controls",
      "model_module_version": "1.5.0",
      "model_name": "TextModel",
      "state": {
       "layout": "IPY_MODEL_1ceaf9c9ac774ae985cae0c34af76539",
       "style": "IPY_MODEL_7335ec8989094b4c8a2baa4226018349",
       "value": "7"
      }
     },
     "45e3f90f469547f6a42e4ba9151d2b5f": {
      "model_module": "@jupyter-widgets/base",
      "model_module_version": "1.2.0",
      "model_name": "LayoutModel",
      "state": {
       "width": "150px"
      }
     },
     "45e9bd62968c4173b8e23ac28401178a": {
      "model_module": "@jupyter-widgets/controls",
      "model_module_version": "1.5.0",
      "model_name": "ButtonModel",
      "state": {
       "description": "Multiply row",
       "layout": "IPY_MODEL_de0bcec127c44bb9a5530dccefd17fd7",
       "style": "IPY_MODEL_f00e54f6aa3149388d454aab4692fd51"
      }
     },
     "45f36584e17d4cb799fe282581839c92": {
      "model_module": "@jupyter-widgets/controls",
      "model_module_version": "1.5.0",
      "model_name": "TextModel",
      "state": {
       "layout": "IPY_MODEL_dfe771ca3cb647c5ba599a113ad575df",
       "style": "IPY_MODEL_d3bc5cdde6e34f878db129df2557e8b0",
       "value": "2"
      }
     },
     "46078661b45f4502ad6a42800109b977": {
      "model_module": "@jupyter-widgets/controls",
      "model_module_version": "1.5.0",
      "model_name": "DescriptionStyleModel",
      "state": {
       "description_width": ""
      }
     },
     "460a520abdb9412388af8c3b44ca82d9": {
      "model_module": "@jupyter-widgets/controls",
      "model_module_version": "1.5.0",
      "model_name": "VBoxModel",
      "state": {
       "children": [
        "IPY_MODEL_6452a364bbae4664a9675bd8365b157a",
        "IPY_MODEL_91a72f682f924389bdcadc627973ba43",
        "IPY_MODEL_792dbfe75e0d468a8a256fdc441fe671"
       ],
       "layout": "IPY_MODEL_2dc891ffe5fc4cb9bcadc89f915d30d3"
      }
     },
     "461cb6309f3549a998d14f1794548655": {
      "model_module": "@jupyter-widgets/controls",
      "model_module_version": "1.5.0",
      "model_name": "TextModel",
      "state": {
       "layout": "IPY_MODEL_24e52a9da5f64680833f56257412e632",
       "style": "IPY_MODEL_e74fcf404e004a1ba2d5393ae1fb28b0",
       "value": "7"
      }
     },
     "4634f28305954d10b4ad96623b089a73": {
      "model_module": "@jupyter-widgets/controls",
      "model_module_version": "1.5.0",
      "model_name": "HBoxModel",
      "state": {
       "children": [
        "IPY_MODEL_4821efaa03644e18b941cf73f15cd294",
        "IPY_MODEL_8347664d2c6b458ab113ee8cbc01561f",
        "IPY_MODEL_5303cafc37eb4171956b0f4eff768217"
       ],
       "layout": "IPY_MODEL_ec6356d787844b12abf4df0a396148f5"
      }
     },
     "4665c19c5aeb4403b342424a6c364515": {
      "model_module": "@jupyter-widgets/controls",
      "model_module_version": "1.5.0",
      "model_name": "DescriptionStyleModel",
      "state": {
       "description_width": ""
      }
     },
     "46766a6153f84c5e91b0e683469534b6": {
      "model_module": "@jupyter-widgets/controls",
      "model_module_version": "1.5.0",
      "model_name": "TextModel",
      "state": {
       "layout": "IPY_MODEL_97993fa24fac42e28605e8d366180168",
       "style": "IPY_MODEL_fa460f7171ea4e338379113aab0b4a67",
       "value": "2"
      }
     },
     "467abe371e45470db69e38e48f3fc9bc": {
      "model_module": "@jupyter-widgets/controls",
      "model_module_version": "1.5.0",
      "model_name": "HBoxModel",
      "state": {
       "children": [
        "IPY_MODEL_e3556a0c67ef431397d44a4e3848a40d",
        "IPY_MODEL_2c33a9b4e41a4727bef14ba44f6fed0c"
       ],
       "layout": "IPY_MODEL_56ef320d3b87465890320dcfe92d0eab"
      }
     },
     "46964c4bbbc94785be24c627e3f60c9f": {
      "model_module": "@jupyter-widgets/controls",
      "model_module_version": "1.5.0",
      "model_name": "DescriptionStyleModel",
      "state": {
       "description_width": ""
      }
     },
     "469b2a10962f4730ab1aa848fc57cfdc": {
      "model_module": "@jupyter-widgets/controls",
      "model_module_version": "1.5.0",
      "model_name": "DescriptionStyleModel",
      "state": {
       "description_width": ""
      }
     },
     "46a21cf46e6e48b98682901c5b4e1354": {
      "model_module": "@jupyter-widgets/controls",
      "model_module_version": "1.5.0",
      "model_name": "TextModel",
      "state": {
       "layout": "IPY_MODEL_c488e0656e78457c941ce778fefda70e",
       "style": "IPY_MODEL_f71734d8384b49ccb122bc9c8278b019",
       "value": "4"
      }
     },
     "46a6d9472cbd4892ad6b1e4142f4d68d": {
      "model_module": "@jupyter-widgets/base",
      "model_module_version": "1.2.0",
      "model_name": "LayoutModel",
      "state": {
       "width": "100px"
      }
     },
     "46b320499f5044bf99e9c3cf19d5228c": {
      "model_module": "@jupyter-widgets/controls",
      "model_module_version": "1.5.0",
      "model_name": "DescriptionStyleModel",
      "state": {
       "description_width": ""
      }
     },
     "46bd368a155544aeb7f43ca6c392538a": {
      "model_module": "@jupyter-widgets/base",
      "model_module_version": "1.2.0",
      "model_name": "LayoutModel",
      "state": {
       "justify_content": "center"
      }
     },
     "470ac3a13d2c4ecf87b707643a7aefdd": {
      "model_module": "@jupyter-widgets/controls",
      "model_module_version": "1.5.0",
      "model_name": "HBoxModel",
      "state": {
       "children": [
        "IPY_MODEL_5d61b8fac4b44ca19a9899cc4cb695e0",
        "IPY_MODEL_ca4c2db1f93947cbad65be98fe43599f",
        "IPY_MODEL_59a5ce918cb04f6e8196a4b81f302c2e"
       ],
       "layout": "IPY_MODEL_cdd7855ec53a479893be1ee02b6eb0e9"
      }
     },
     "472abd49d98a4066b63c7fc3161a33db": {
      "model_module": "@jupyter-widgets/controls",
      "model_module_version": "1.5.0",
      "model_name": "ButtonModel",
      "state": {
       "description": "Add rows",
       "layout": "IPY_MODEL_37f6707337e548fd8d9da12068d1e432",
       "style": "IPY_MODEL_e39100f5658a4aaa84f50601cdbde6a2"
      }
     },
     "4743ef299a894971829c4223238c0b79": {
      "model_module": "@jupyter-widgets/base",
      "model_module_version": "1.2.0",
      "model_name": "LayoutModel",
      "state": {}
     },
     "476faae924464f448d4d449ac63a8bb6": {
      "model_module": "@jupyter-widgets/base",
      "model_module_version": "1.2.0",
      "model_name": "LayoutModel",
      "state": {}
     },
     "477fd14af0af4a149789e50a64265241": {
      "model_module": "@jupyter-widgets/base",
      "model_module_version": "1.2.0",
      "model_name": "LayoutModel",
      "state": {
       "width": "150px"
      }
     },
     "479eb8fdf02b41338447cfe224c0ab30": {
      "model_module": "@jupyter-widgets/controls",
      "model_module_version": "1.5.0",
      "model_name": "DescriptionStyleModel",
      "state": {
       "description_width": ""
      }
     },
     "47a60aa1cf3045f2a536b06edf49c5ea": {
      "model_module": "@jupyter-widgets/base",
      "model_module_version": "1.2.0",
      "model_name": "LayoutModel",
      "state": {
       "height": "35px",
       "width": "30px"
      }
     },
     "4821efaa03644e18b941cf73f15cd294": {
      "model_module": "@jupyter-widgets/controls",
      "model_module_version": "1.5.0",
      "model_name": "TextModel",
      "state": {
       "layout": "IPY_MODEL_201e1a4ee32840b19f981690bdacf3ae",
       "style": "IPY_MODEL_cf7ec6985ae843cc8a4659886c36e7d1",
       "value": "5"
      }
     },
     "4828a278398d44df87562342f8d7f3c7": {
      "model_module": "@jupyter-widgets/controls",
      "model_module_version": "1.5.0",
      "model_name": "HTMLMathModel",
      "state": {
       "layout": "IPY_MODEL_3b9e242250584f1b8ab885b8b63a438c",
       "style": "IPY_MODEL_348fa9d1bb694e879a7518b96693835f",
       "value": "Enter here the values of the coefficient matrix $\\bf{A}$"
      }
     },
     "48337776fba346daaf8ea7ba5def78db": {
      "model_module": "@jupyter-widgets/controls",
      "model_module_version": "1.5.0",
      "model_name": "TextModel",
      "state": {
       "layout": "IPY_MODEL_1b785352cb1a4de487a9efaa222c7a96",
       "style": "IPY_MODEL_632ebfc8b3584134a1b1111366954a3f",
       "value": "0"
      }
     },
     "4843895668de43c9ac30e4fc38974a3e": {
      "model_module": "@jupyter-widgets/base",
      "model_module_version": "1.2.0",
      "model_name": "LayoutModel",
      "state": {
       "flex_flow": "row wrap",
       "justify_content": "space-around"
      }
     },
     "4845bb52c671408f8404ef6886d810c5": {
      "model_module": "@jupyter-widgets/controls",
      "model_module_version": "1.5.0",
      "model_name": "TextModel",
      "state": {
       "layout": "IPY_MODEL_dfe771ca3cb647c5ba599a113ad575df",
       "style": "IPY_MODEL_fc838a3673c54ee1a5818ec92a34b307",
       "value": "7"
      }
     },
     "484f655761684a08bf8817d715b75345": {
      "model_module": "@jupyter-widgets/base",
      "model_module_version": "1.2.0",
      "model_name": "LayoutModel",
      "state": {}
     },
     "48601e1496764b1783d8750ed425f8d1": {
      "model_module": "@jupyter-widgets/controls",
      "model_module_version": "1.5.0",
      "model_name": "TextModel",
      "state": {
       "layout": "IPY_MODEL_239bec109578490f9329cf0477e25967",
       "style": "IPY_MODEL_7b7863acfa67404183957296f07d4ed2",
       "value": "2"
      }
     },
     "48a458c96d0c4f59a0d60b46fee3180c": {
      "model_module": "@jupyter-widgets/controls",
      "model_module_version": "1.5.0",
      "model_name": "VBoxModel",
      "state": {
       "children": [
        "IPY_MODEL_087fac6b26f944b29ee2e8d87cec1b24",
        "IPY_MODEL_f2e149f1a8d0497eb086b5fd62f3847f",
        "IPY_MODEL_268d4ad3924647ce906335e7415ad7a2"
       ],
       "layout": "IPY_MODEL_19cbe962e8c54b8785f50134b7747dc1"
      }
     },
     "48a9446b70384f5cad1fad47cd905e9f": {
      "model_module": "@jupyter-widgets/base",
      "model_module_version": "1.2.0",
      "model_name": "LayoutModel",
      "state": {}
     },
     "48cccc2f4e624b9e9b5ad3f71b9d911a": {
      "model_module": "@jupyter-widgets/controls",
      "model_module_version": "1.5.0",
      "model_name": "HTMLMathModel",
      "state": {
       "layout": "IPY_MODEL_baceb057f2824a32bfd1a299b8c9f0ca",
       "style": "IPY_MODEL_ab630e7d6b8b430ab76670ed1729a764",
       "value": "Enter here the values of the matrix $A$"
      }
     },
     "48ce2a5544ec4074890ee9caef96a6ff": {
      "model_module": "@jupyter-widgets/controls",
      "model_module_version": "1.5.0",
      "model_name": "DescriptionStyleModel",
      "state": {
       "description_width": ""
      }
     },
     "48d4402a766b4fd7b3b730ea196faf97": {
      "model_module": "@jupyter-widgets/controls",
      "model_module_version": "1.5.0",
      "model_name": "DescriptionStyleModel",
      "state": {
       "description_width": ""
      }
     },
     "492736fd03b948aabdf5437a244434c9": {
      "model_module": "@jupyter-widgets/controls",
      "model_module_version": "1.5.0",
      "model_name": "ButtonModel",
      "state": {
       "description": "Multiply row",
       "layout": "IPY_MODEL_793660552c22429a8dcefad7bcb0bbbd",
       "style": "IPY_MODEL_b8df7ab948fc48d48d7cd89a49a6da71"
      }
     },
     "4936dc93e93b4ac1939a2d158ae5a110": {
      "model_module": "@jupyter-widgets/controls",
      "model_module_version": "1.5.0",
      "model_name": "DescriptionStyleModel",
      "state": {
       "description_width": ""
      }
     },
     "4966ad1c24ea4c59aeec58155348a271": {
      "model_module": "@jupyter-widgets/controls",
      "model_module_version": "1.5.0",
      "model_name": "DescriptionStyleModel",
      "state": {
       "description_width": ""
      }
     },
     "49733811a47544a1bd1ad125242e48ac": {
      "model_module": "@jupyter-widgets/controls",
      "model_module_version": "1.5.0",
      "model_name": "DescriptionStyleModel",
      "state": {
       "description_width": ""
      }
     },
     "49947b9714d242579f6685a2c327a6a6": {
      "model_module": "@jupyter-widgets/controls",
      "model_module_version": "1.5.0",
      "model_name": "TextModel",
      "state": {
       "layout": "IPY_MODEL_97993fa24fac42e28605e8d366180168",
       "style": "IPY_MODEL_e26b2eec25dd4fecb08f9c1835111319",
       "value": "7"
      }
     },
     "49d5eed653f5442dbf3291d66f246e2b": {
      "model_module": "@jupyter-widgets/controls",
      "model_module_version": "1.5.0",
      "model_name": "DropdownModel",
      "state": {
       "_options_labels": [
        "1",
        "2",
        "3"
       ],
       "description": "Row",
       "index": 0,
       "layout": "IPY_MODEL_b6f50405cbbd4679967eeaef8e2d809e",
       "style": "IPY_MODEL_541fd91735f245d4b6b77956e80a2d3b"
      }
     },
     "49dd9cc77f46495083137b30377a9857": {
      "model_module": "@jupyter-widgets/controls",
      "model_module_version": "1.5.0",
      "model_name": "TextModel",
      "state": {
       "layout": "IPY_MODEL_e56e2cbba3324f1e9a6da6e53dfda065",
       "style": "IPY_MODEL_46078661b45f4502ad6a42800109b977",
       "value": "2"
      }
     },
     "49f4a56b51f2468c9459c22ea008bccd": {
      "model_module": "@jupyter-widgets/base",
      "model_module_version": "1.2.0",
      "model_name": "LayoutModel",
      "state": {
       "width": "150px"
      }
     },
     "49f833aec50049728347b67ead722224": {
      "model_module": "@jupyter-widgets/base",
      "model_module_version": "1.2.0",
      "model_name": "LayoutModel",
      "state": {}
     },
     "4a462b62283c43538330a170e98ca4d7": {
      "model_module": "@jupyter-widgets/base",
      "model_module_version": "1.2.0",
      "model_name": "LayoutModel",
      "state": {}
     },
     "4a488eba4b3d4c309074a0b1c13dd2ec": {
      "model_module": "@jupyter-widgets/controls",
      "model_module_version": "1.5.0",
      "model_name": "TextModel",
      "state": {
       "layout": "IPY_MODEL_342fbdc31d2d406489b24d1349c22e03",
       "style": "IPY_MODEL_c8756142dbd74b40943ae81419356657",
       "value": "9"
      }
     },
     "4a587684b5ad4b7ab5b69fbd2b15d964": {
      "model_module": "@jupyter-widgets/base",
      "model_module_version": "1.2.0",
      "model_name": "LayoutModel",
      "state": {}
     },
     "4a71317b903d4509b926c61eec1b262d": {
      "model_module": "@jupyter-widgets/controls",
      "model_module_version": "1.5.0",
      "model_name": "DescriptionStyleModel",
      "state": {
       "description_width": ""
      }
     },
     "4a8bc5a4a70a483fa1a659da0c219ad7": {
      "model_module": "@jupyter-widgets/base",
      "model_module_version": "1.2.0",
      "model_name": "LayoutModel",
      "state": {}
     },
     "4a919114425149a5ae1cc09c00d6143f": {
      "model_module": "@jupyter-widgets/base",
      "model_module_version": "1.2.0",
      "model_name": "LayoutModel",
      "state": {
       "grid_template_columns": "repeat(3, 45px)"
      }
     },
     "4adb0b2ba8e0421f9e47825dd8d97adb": {
      "model_module": "@jupyter-widgets/controls",
      "model_module_version": "1.5.0",
      "model_name": "DescriptionStyleModel",
      "state": {
       "description_width": ""
      }
     },
     "4adc861bc89e456e8ea1adc21f4b507e": {
      "model_module": "@jupyter-widgets/controls",
      "model_module_version": "1.5.0",
      "model_name": "ButtonStyleModel",
      "state": {}
     },
     "4af9411f4ebf480b8dd7073e122c7210": {
      "model_module": "@jupyter-widgets/controls",
      "model_module_version": "1.5.0",
      "model_name": "ButtonStyleModel",
      "state": {}
     },
     "4afe107bcbe74f66b98b2c322da8f810": {
      "model_module": "@jupyter-widgets/base",
      "model_module_version": "1.2.0",
      "model_name": "LayoutModel",
      "state": {}
     },
     "4b13c98a3aee4e58a240bdb4e73613c2": {
      "model_module": "@jupyter-widgets/base",
      "model_module_version": "1.2.0",
      "model_name": "LayoutModel",
      "state": {}
     },
     "4b289ce0dbdf412195d862da6bfcbf02": {
      "model_module": "@jupyter-widgets/base",
      "model_module_version": "1.2.0",
      "model_name": "LayoutModel",
      "state": {
       "grid_template_columns": "repeat(3, 45px)"
      }
     },
     "4b2e113cc1384bf99f494a1206f44cf5": {
      "model_module": "@jupyter-widgets/base",
      "model_module_version": "1.2.0",
      "model_name": "LayoutModel",
      "state": {
       "flex_flow": "row wrap",
       "justify_content": "space-around"
      }
     },
     "4b4b11dbbd1d4679abcd824f39f84d78": {
      "model_module": "@jupyter-widgets/controls",
      "model_module_version": "1.5.0",
      "model_name": "VBoxModel",
      "state": {
       "children": [
        "IPY_MODEL_75d46b3fba5b4e2d91edbac8f35b0dd3",
        "IPY_MODEL_16a5b1ce60bc48b4b33c971494166401",
        "IPY_MODEL_cfed47a3c03749c58c7656eb799d455e"
       ],
       "layout": "IPY_MODEL_25b711b470f24ac1ae6f95a115b77415"
      }
     },
     "4b4f676af3fb4b288ef52c00510a88fc": {
      "model_module": "@jupyter-widgets/base",
      "model_module_version": "1.2.0",
      "model_name": "LayoutModel",
      "state": {
       "width": "90px"
      }
     },
     "4b7552e5d8974f719af6189f69ec1a20": {
      "model_module": "@jupyter-widgets/base",
      "model_module_version": "1.2.0",
      "model_name": "LayoutModel",
      "state": {}
     },
     "4b7b774fe5b5401c83d6d3a01dd6f487": {
      "model_module": "@jupyter-widgets/base",
      "model_module_version": "1.2.0",
      "model_name": "LayoutModel",
      "state": {
       "width": "150px"
      }
     },
     "4b88beee1cae4ac89adfb6189b3d8826": {
      "model_module": "@jupyter-widgets/controls",
      "model_module_version": "1.5.0",
      "model_name": "DescriptionStyleModel",
      "state": {
       "description_width": ""
      }
     },
     "4b91f4231d2440558535d75f19c020e4": {
      "model_module": "@jupyter-widgets/base",
      "model_module_version": "1.2.0",
      "model_name": "LayoutModel",
      "state": {}
     },
     "4bcd3a11811347d3979a9396c2e71cd4": {
      "model_module": "@jupyter-widgets/base",
      "model_module_version": "1.2.0",
      "model_name": "LayoutModel",
      "state": {
       "height": "35px",
       "width": "30px"
      }
     },
     "4bda761bd9b74a85a4ea33a5d991467e": {
      "model_module": "@jupyter-widgets/controls",
      "model_module_version": "1.5.0",
      "model_name": "ButtonModel",
      "state": {
       "description": "Swap rows",
       "layout": "IPY_MODEL_ea7d1da261334a319480630764d5b3ee",
       "style": "IPY_MODEL_71743aa2d5db436faab7891939a31e47"
      }
     },
     "4be901e7e78a426fb917aee1c9e4548a": {
      "model_module": "@jupyter-widgets/base",
      "model_module_version": "1.2.0",
      "model_name": "LayoutModel",
      "state": {}
     },
     "4be9f3f43bc743ec86e193fa7296f488": {
      "model_module": "@jupyter-widgets/controls",
      "model_module_version": "1.5.0",
      "model_name": "VBoxModel",
      "state": {
       "children": [
        "IPY_MODEL_9c5fb3dcd7644526af57adb06996e84b",
        "IPY_MODEL_1762cc6f207747919ca28897fba82d70",
        "IPY_MODEL_138f3d0f8b5e466d9c3f9652e070fc44"
       ],
       "layout": "IPY_MODEL_a2e1bf502f3b413d9abd0f232702db24"
      }
     },
     "4c0b1ef52a8c4d188d3abc59fb505491": {
      "model_module": "@jupyter-widgets/controls",
      "model_module_version": "1.5.0",
      "model_name": "TextModel",
      "state": {
       "layout": "IPY_MODEL_4bcd3a11811347d3979a9396c2e71cd4",
       "style": "IPY_MODEL_17b71db5681b4d258bb0205f930b72b9",
       "value": "9"
      }
     },
     "4c1d480cf7d54cfdb9e5cc35f5779b7e": {
      "model_module": "@jupyter-widgets/controls",
      "model_module_version": "1.5.0",
      "model_name": "DropdownModel",
      "state": {
       "_options_labels": [
        "1",
        "2",
        "3"
       ],
       "description": "and row",
       "index": 1,
       "layout": "IPY_MODEL_c708842c1a80461fac7df7f6af4c1af1",
       "style": "IPY_MODEL_6fa439c452914a238dc5457b6840a955"
      }
     },
     "4c24898c7983471aa85b2374b325cc42": {
      "model_module": "@jupyter-widgets/controls",
      "model_module_version": "1.5.0",
      "model_name": "ButtonStyleModel",
      "state": {}
     },
     "4c314dd6f22041cdafac2a0df4e418ee": {
      "model_module": "@jupyter-widgets/controls",
      "model_module_version": "1.5.0",
      "model_name": "ButtonStyleModel",
      "state": {}
     },
     "4c481b4d81bf44fdbaff5dd670f85ea4": {
      "model_module": "@jupyter-widgets/base",
      "model_module_version": "1.2.0",
      "model_name": "LayoutModel",
      "state": {
       "border": "solid"
      }
     },
     "4c48c4de2f6148e887c2fc75281b6404": {
      "model_module": "@jupyter-widgets/controls",
      "model_module_version": "1.5.0",
      "model_name": "ButtonStyleModel",
      "state": {}
     },
     "4c690ee7921046299501021b0613d727": {
      "model_module": "@jupyter-widgets/controls",
      "model_module_version": "1.5.0",
      "model_name": "TextModel",
      "state": {
       "layout": "IPY_MODEL_65cb8db367e14667886b79ef97c800d1",
       "style": "IPY_MODEL_319fadb2ec894910825e0a62eb0d37fd",
       "value": "2"
      }
     },
     "4c70d4a776e445cb9bc067511f702ca9": {
      "model_module": "@jupyter-widgets/base",
      "model_module_version": "1.2.0",
      "model_name": "LayoutModel",
      "state": {
       "width": "150px"
      }
     },
     "4c76c6b487df4a228b0014fd785ba48d": {
      "model_module": "@jupyter-widgets/base",
      "model_module_version": "1.2.0",
      "model_name": "LayoutModel",
      "state": {}
     },
     "4c88779a52f14fbc816379b4b6a50e79": {
      "model_module": "@jupyter-widgets/controls",
      "model_module_version": "1.5.0",
      "model_name": "ButtonModel",
      "state": {
       "description": "Multiply row",
       "layout": "IPY_MODEL_f80e0fd83a5f4227babf1b8225fa4ab5",
       "style": "IPY_MODEL_4c314dd6f22041cdafac2a0df4e418ee"
      }
     },
     "4ca520b5298740fab98874851bc7e360": {
      "model_module": "@jupyter-widgets/base",
      "model_module_version": "1.2.0",
      "model_name": "LayoutModel",
      "state": {
       "justify_content": "space-between"
      }
     },
     "4cb16403fa884fb8b571022f4cb06a76": {
      "model_module": "@jupyter-widgets/base",
      "model_module_version": "1.2.0",
      "model_name": "LayoutModel",
      "state": {
       "width": "150px"
      }
     },
     "4cdb7b5a038845098e289e53b2125a72": {
      "model_module": "@jupyter-widgets/controls",
      "model_module_version": "1.5.0",
      "model_name": "HTMLMathModel",
      "state": {
       "layout": "IPY_MODEL_8d3926e6b49a41bb8122d0ce30f0715d",
       "style": "IPY_MODEL_1698fc2ea89940b3afa9a5726c23a0d2",
       "value": "Enter here the values of the coefficient matrix $\\bf{A}$"
      }
     },
     "4cdc710347c84425bf813fbc1354240a": {
      "model_module": "@jupyter-widgets/controls",
      "model_module_version": "1.5.0",
      "model_name": "HBoxModel",
      "state": {
       "children": [
        "IPY_MODEL_04cdc9fd85474cc3a01bcac1d60f7671",
        "IPY_MODEL_35000041449b487092bf5b738dc3e803",
        "IPY_MODEL_52692f3e950e4d2a9bc33bd2c9c52ec1"
       ],
       "layout": "IPY_MODEL_f4a859db86ad4588891d2c32612887ed"
      }
     },
     "4ce7eb7ce6f948c6925f5719ff6ca495": {
      "model_module": "@jupyter-widgets/controls",
      "model_module_version": "1.5.0",
      "model_name": "HBoxModel",
      "state": {
       "children": [
        "IPY_MODEL_2a75ae7e276c4b90aff664ea81dbf53e",
        "IPY_MODEL_c63cc49d1f6e42c280caa089327057a9",
        "IPY_MODEL_89ed7a566d214769ac6de3c224cce994"
       ],
       "layout": "IPY_MODEL_99eebb9442fe47b185aaa9db049de54c"
      }
     },
     "4d090d5c77564b81a1cc3171f55ef4af": {
      "model_module": "@jupyter-widgets/controls",
      "model_module_version": "1.5.0",
      "model_name": "DescriptionStyleModel",
      "state": {
       "description_width": ""
      }
     },
     "4d181be52b504ffa908da50ecaafba6d": {
      "model_module": "@jupyter-widgets/controls",
      "model_module_version": "1.5.0",
      "model_name": "HBoxModel",
      "state": {
       "children": [
        "IPY_MODEL_666b4116b218482ca020d9517d76277f",
        "IPY_MODEL_0e6e0efceabd4ae3a46b211dc4ff810b",
        "IPY_MODEL_1cb0574fe7684b8fb47191d4c64450d4"
       ],
       "layout": "IPY_MODEL_cd22321a9c8440198e4796d6e987082c"
      }
     },
     "4d18bda7b5ab4d2db460dedd00e47709": {
      "model_module": "@jupyter-widgets/base",
      "model_module_version": "1.2.0",
      "model_name": "LayoutModel",
      "state": {}
     },
     "4d215c88febe40f3a985280ae9a17bd0": {
      "model_module": "@jupyter-widgets/controls",
      "model_module_version": "1.5.0",
      "model_name": "DescriptionStyleModel",
      "state": {
       "description_width": ""
      }
     },
     "4d3efca797e04672bc418cd73e7b8f92": {
      "model_module": "@jupyter-widgets/base",
      "model_module_version": "1.2.0",
      "model_name": "LayoutModel",
      "state": {}
     },
     "4d495d8c77804fa78dd8f7f3c3b71abe": {
      "model_module": "@jupyter-widgets/controls",
      "model_module_version": "1.5.0",
      "model_name": "DescriptionStyleModel",
      "state": {
       "description_width": ""
      }
     },
     "4d809df97dbf4b6894c67b3e76824e9d": {
      "model_module": "@jupyter-widgets/controls",
      "model_module_version": "1.5.0",
      "model_name": "ButtonModel",
      "state": {
       "description": "Start",
       "layout": "IPY_MODEL_33fab2c7cef44485941637efe4bf32ae",
       "style": "IPY_MODEL_1b4128d059e64ccd9a69f046676d65dc"
      }
     },
     "4d85738cd47e43c9ae256ff6df822fda": {
      "model_module": "@jupyter-widgets/controls",
      "model_module_version": "1.5.0",
      "model_name": "ButtonStyleModel",
      "state": {}
     },
     "4dc8b9450435447ebef56a12de022275": {
      "model_module": "@jupyter-widgets/controls",
      "model_module_version": "1.5.0",
      "model_name": "DescriptionStyleModel",
      "state": {
       "description_width": ""
      }
     },
     "4dccef186f484543be56c7f05e88fb7b": {
      "model_module": "@jupyter-widgets/controls",
      "model_module_version": "1.5.0",
      "model_name": "TextModel",
      "state": {
       "layout": "IPY_MODEL_5658a8e71503421ab525d14883c87170",
       "style": "IPY_MODEL_86f991cd24dd4620a3a6556f6da9e62a",
       "value": "0"
      }
     },
     "4ddc2d90976745818d601cefda1d8661": {
      "model_module": "@jupyter-widgets/base",
      "model_module_version": "1.2.0",
      "model_name": "LayoutModel",
      "state": {}
     },
     "4de8fcd02a244d71938c6b584b708e3d": {
      "model_module": "@jupyter-widgets/controls",
      "model_module_version": "1.5.0",
      "model_name": "TextModel",
      "state": {
       "layout": "IPY_MODEL_9f4d9e00ae3e470a8d024478444df27d",
       "style": "IPY_MODEL_9c6effb8a19a497189c0e14d57ea300b",
       "value": "2"
      }
     },
     "4dfbe679109146bba4fa78bb12fbe1c0": {
      "model_module": "@jupyter-widgets/base",
      "model_module_version": "1.2.0",
      "model_name": "LayoutModel",
      "state": {}
     },
     "4e135d7f61ae4373a84e725879254970": {
      "model_module": "@jupyter-widgets/controls",
      "model_module_version": "1.5.0",
      "model_name": "DropdownModel",
      "state": {
       "_options_labels": [
        "1",
        "2",
        "3"
       ],
       "description": "Add row",
       "index": 0,
       "layout": "IPY_MODEL_7799ecd528e44434ad3e5b689ade743d",
       "style": "IPY_MODEL_e2aaabf27ad549479e80f6afd220a820"
      }
     },
     "4e3061f1cfe24fc784d7e3959968dbfb": {
      "model_module": "@jupyter-widgets/base",
      "model_module_version": "1.2.0",
      "model_name": "LayoutModel",
      "state": {
       "flex_flow": "row wrap",
       "justify_content": "space-around"
      }
     },
     "4e4c740168f540b2868ec45051ec2f88": {
      "model_module": "@jupyter-widgets/controls",
      "model_module_version": "1.5.0",
      "model_name": "VBoxModel",
      "state": {
       "children": [
        "IPY_MODEL_fca1f378f9894c4fa96f469513e2d98a",
        "IPY_MODEL_5294333dd5ae4663ae17edc4a35ae7e4"
       ],
       "layout": "IPY_MODEL_3994d78d0349440dbf70b7e46e35270b"
      }
     },
     "4e4ca7ab3dc04e17aafa81be5eb39834": {
      "model_module": "@jupyter-widgets/base",
      "model_module_version": "1.2.0",
      "model_name": "LayoutModel",
      "state": {
       "width": "90px"
      }
     },
     "4e6295a5047847f3b983e837dcb99df5": {
      "model_module": "@jupyter-widgets/controls",
      "model_module_version": "1.5.0",
      "model_name": "VBoxModel",
      "state": {
       "children": [
        "IPY_MODEL_345c96814d644cc79191d1c68086d3ea",
        "IPY_MODEL_b674b130b01948a1967559211c4f32cf",
        "IPY_MODEL_e2483a59d1db4e5e92e34ff01be22074"
       ],
       "layout": "IPY_MODEL_ced30150dd3848d0bcc6107092dc418c"
      }
     },
     "4e7ce9bdf5004837b0ab930a8085aa33": {
      "model_module": "@jupyter-widgets/base",
      "model_module_version": "1.2.0",
      "model_name": "LayoutModel",
      "state": {}
     },
     "4e906a31db0a414890457e2563c74669": {
      "model_module": "@jupyter-widgets/controls",
      "model_module_version": "1.5.0",
      "model_name": "TextModel",
      "state": {
       "layout": "IPY_MODEL_24e52a9da5f64680833f56257412e632",
       "style": "IPY_MODEL_0d83040495904c82b895a7860c681a9e",
       "value": "1"
      }
     },
     "4ea99b699c41402c9691d6fd626dcfd9": {
      "model_module": "@jupyter-widgets/controls",
      "model_module_version": "1.5.0",
      "model_name": "VBoxModel",
      "state": {
       "children": [
        "IPY_MODEL_e4335350723e42868f129da154a9220f",
        "IPY_MODEL_5d238604dff34ffb99ef228c91fb5d4d"
       ],
       "layout": "IPY_MODEL_35b993817d86442da3079985ffb1240d"
      }
     },
     "4ec6730c6222433194c686dec62c16d8": {
      "model_module": "@jupyter-widgets/base",
      "model_module_version": "1.2.0",
      "model_name": "LayoutModel",
      "state": {}
     },
     "4ecaa8b7683a40939c401081bd7ed430": {
      "model_module": "@jupyter-widgets/controls",
      "model_module_version": "1.5.0",
      "model_name": "DescriptionStyleModel",
      "state": {
       "description_width": ""
      }
     },
     "4f0b6526f7a2485db163725e9f434078": {
      "model_module": "@jupyter-widgets/controls",
      "model_module_version": "1.5.0",
      "model_name": "DropdownModel",
      "state": {
       "_options_labels": [
        "1",
        "2",
        "3"
       ],
       "description": "Add row",
       "index": 0,
       "layout": "IPY_MODEL_5869d2f654ca45198c5680e7a7296dbc",
       "style": "IPY_MODEL_4a71317b903d4509b926c61eec1b262d"
      }
     },
     "4f10ab575d6042c0ba29f7b49c79a389": {
      "model_module": "@jupyter-widgets/base",
      "model_module_version": "1.2.0",
      "model_name": "LayoutModel",
      "state": {}
     },
     "4f2889aa15df49d7b228e1b9cf9c3298": {
      "model_module": "@jupyter-widgets/controls",
      "model_module_version": "1.5.0",
      "model_name": "DescriptionStyleModel",
      "state": {
       "description_width": ""
      }
     },
     "4f6fbde9d12749639703a02793d24d4a": {
      "model_module": "@jupyter-widgets/controls",
      "model_module_version": "1.5.0",
      "model_name": "TextModel",
      "state": {
       "layout": "IPY_MODEL_47a60aa1cf3045f2a536b06edf49c5ea",
       "style": "IPY_MODEL_adfe9b7cbe7e48cd9e3ef644043fa7a8",
       "value": "-1"
      }
     },
     "4f8dfc5fbcb449df8976d17f4caecaac": {
      "model_module": "@jupyter-widgets/controls",
      "model_module_version": "1.5.0",
      "model_name": "TextModel",
      "state": {
       "layout": "IPY_MODEL_7a607c89a00143a7a0808c95689bf41a",
       "style": "IPY_MODEL_03d1158065b645c89bf19acd9fb7023e",
       "value": "2"
      }
     },
     "4fad1550850f4576b336756424fac862": {
      "model_module": "@jupyter-widgets/controls",
      "model_module_version": "1.5.0",
      "model_name": "DescriptionStyleModel",
      "state": {
       "description_width": ""
      }
     },
     "4fe85e2e9fe44935918d987dd3b640c9": {
      "model_module": "@jupyter-widgets/base",
      "model_module_version": "1.2.0",
      "model_name": "LayoutModel",
      "state": {
       "width": "90px"
      }
     },
     "4fffdef6fcb9425eaf2e56e43ec61679": {
      "model_module": "@jupyter-widgets/controls",
      "model_module_version": "1.5.0",
      "model_name": "DescriptionStyleModel",
      "state": {
       "description_width": ""
      }
     },
     "502f7704abc44abbae308f2e86d05bd2": {
      "model_module": "@jupyter-widgets/controls",
      "model_module_version": "1.5.0",
      "model_name": "TextModel",
      "state": {
       "layout": "IPY_MODEL_e9aebd82017d4a8ba76e24a5bdf8ca4f",
       "style": "IPY_MODEL_3701d37ee3c44bc5b8e46eaea1bfc544",
       "value": "0"
      }
     },
     "50dd9fd79c9d4aeab6699b701779c9a8": {
      "model_module": "@jupyter-widgets/controls",
      "model_module_version": "1.5.0",
      "model_name": "DescriptionStyleModel",
      "state": {
       "description_width": ""
      }
     },
     "50e51500cd0141788cc45018360405f6": {
      "model_module": "@jupyter-widgets/controls",
      "model_module_version": "1.5.0",
      "model_name": "ButtonStyleModel",
      "state": {}
     },
     "50e52a33327146348c5fab7b8e93d09a": {
      "model_module": "@jupyter-widgets/controls",
      "model_module_version": "1.5.0",
      "model_name": "DescriptionStyleModel",
      "state": {
       "description_width": ""
      }
     },
     "50f25f1155f94d4d800b3e62163e8b76": {
      "model_module": "@jupyter-widgets/base",
      "model_module_version": "1.2.0",
      "model_name": "LayoutModel",
      "state": {
       "width": "150px"
      }
     },
     "51083d56560b41049042230c8f7764f8": {
      "model_module": "@jupyter-widgets/controls",
      "model_module_version": "1.5.0",
      "model_name": "TextModel",
      "state": {
       "layout": "IPY_MODEL_1ceaf9c9ac774ae985cae0c34af76539",
       "style": "IPY_MODEL_69b47da00a6049f0ac7a28b2b6b79d44",
       "value": "2"
      }
     },
     "510c0e24476444f0ad1640fe332695a6": {
      "model_module": "@jupyter-widgets/base",
      "model_module_version": "1.2.0",
      "model_name": "LayoutModel",
      "state": {}
     },
     "512efbfa42cd445b96cceb06b4ad483b": {
      "model_module": "@jupyter-widgets/controls",
      "model_module_version": "1.5.0",
      "model_name": "TextModel",
      "state": {
       "layout": "IPY_MODEL_bbd5dabd53c049fca9a7f5878437cad9",
       "style": "IPY_MODEL_fb61566b136845908d273e24721c279f",
       "value": "-1"
      }
     },
     "51502ebb977a45298446028368f9e77c": {
      "model_module": "@jupyter-widgets/controls",
      "model_module_version": "1.5.0",
      "model_name": "ButtonModel",
      "state": {
       "description": "Start",
       "layout": "IPY_MODEL_1350a907184f4e5a8f72675951e36177",
       "style": "IPY_MODEL_50e51500cd0141788cc45018360405f6"
      }
     },
     "516962bd8d264667bc70b4b61be7e327": {
      "model_module": "@jupyter-widgets/controls",
      "model_module_version": "1.5.0",
      "model_name": "TextModel",
      "state": {
       "layout": "IPY_MODEL_239bec109578490f9329cf0477e25967",
       "style": "IPY_MODEL_e590e70d2e654827a1a13fe7c4e9eeac",
       "value": "2"
      }
     },
     "51c1ffe48e334f30aa4a9a9eb7f15112": {
      "model_module": "@jupyter-widgets/controls",
      "model_module_version": "1.5.0",
      "model_name": "HBoxModel",
      "state": {
       "children": [
        "IPY_MODEL_04d25003413f4f508e0f29e3e6337f09",
        "IPY_MODEL_8bfa437597724a95ba309f1f8092ee72",
        "IPY_MODEL_51083d56560b41049042230c8f7764f8"
       ],
       "layout": "IPY_MODEL_95f4ff13162042cf8a405bff2dba842c"
      }
     },
     "51db859a846d4bdea6e95da5919da6dd": {
      "model_module": "@jupyter-widgets/base",
      "model_module_version": "1.2.0",
      "model_name": "LayoutModel",
      "state": {}
     },
     "51e6cbbeeec1428d829c483b0a32442a": {
      "model_module": "@jupyter-widgets/controls",
      "model_module_version": "1.5.0",
      "model_name": "DropdownModel",
      "state": {
       "_options_labels": [
        "1",
        "2",
        "3"
       ],
       "description": "and row",
       "index": 1,
       "layout": "IPY_MODEL_124a684d9f2c49afac32c936b687984c",
       "style": "IPY_MODEL_3225d56c13224b2f91875047c725e5fa"
      }
     },
     "51ea2e314b874ed2858c567c0cbca8d9": {
      "model_module": "@jupyter-widgets/base",
      "model_module_version": "1.2.0",
      "model_name": "LayoutModel",
      "state": {}
     },
     "51efdd5f1d144807a20dd483e9c25a58": {
      "model_module": "@jupyter-widgets/controls",
      "model_module_version": "1.5.0",
      "model_name": "HTMLMathModel",
      "state": {
       "layout": "IPY_MODEL_b83fd4ae545a4265809440b66acf2ecb",
       "style": "IPY_MODEL_010d4e71670e454f8ccb68d6704e79f5",
       "value": "The augmented matrix is:\n \n    $$\n    \\left[ \\begin{array}{rrr|r}\n        2/3 & -6 & 1 & 7\\\\\n        1 & 2 & -1 & -1\\\\\n        5 & 7 & -4 & 9\n    \\end{array} \\right]\n    $$\n    "
      }
     },
     "522206124bee4f8db427068f58b5a267": {
      "model_module": "@jupyter-widgets/controls",
      "model_module_version": "1.5.0",
      "model_name": "DescriptionStyleModel",
      "state": {
       "description_width": ""
      }
     },
     "5239b82364514b858ee05fafbfc42e97": {
      "model_module": "@jupyter-widgets/controls",
      "model_module_version": "1.5.0",
      "model_name": "TextModel",
      "state": {
       "layout": "IPY_MODEL_e168436c7ee0437a9552e5f0afc85715",
       "style": "IPY_MODEL_17a87dc521874b868118507527fbc0cc",
       "value": "0"
      }
     },
     "52466bf230334ac2bc3149fb7cc526cc": {
      "model_module": "@jupyter-widgets/base",
      "model_module_version": "1.2.0",
      "model_name": "LayoutModel",
      "state": {}
     },
     "52692f3e950e4d2a9bc33bd2c9c52ec1": {
      "model_module": "@jupyter-widgets/controls",
      "model_module_version": "1.5.0",
      "model_name": "TextModel",
      "state": {
       "layout": "IPY_MODEL_f28c3c7f5ced4384b8a9eca6bc4c00fd",
       "style": "IPY_MODEL_3ff1dcae763c45de9639835e3e9e93ca",
       "value": "-4"
      }
     },
     "527bb8380c37401087bcd28e94711a8c": {
      "model_module": "@jupyter-widgets/base",
      "model_module_version": "1.2.0",
      "model_name": "LayoutModel",
      "state": {
       "justify_content": "space-between"
      }
     },
     "5294333dd5ae4663ae17edc4a35ae7e4": {
      "model_module": "@jupyter-widgets/controls",
      "model_module_version": "1.5.0",
      "model_name": "TextModel",
      "state": {
       "description": "times",
       "layout": "IPY_MODEL_deba24d331604f0cb92f56183a5fc945",
       "style": "IPY_MODEL_809020c3111848c3ae54e27303cec962",
       "value": "-2"
      }
     },
     "5303cafc37eb4171956b0f4eff768217": {
      "model_module": "@jupyter-widgets/controls",
      "model_module_version": "1.5.0",
      "model_name": "TextModel",
      "state": {
       "layout": "IPY_MODEL_201e1a4ee32840b19f981690bdacf3ae",
       "style": "IPY_MODEL_c85a987b874c4c649cba6805255f9318",
       "value": "-4"
      }
     },
     "5320e0ea201946529b26ac7a2e965ae6": {
      "model_module": "@jupyter-widgets/base",
      "model_module_version": "1.2.0",
      "model_name": "LayoutModel",
      "state": {}
     },
     "534415669b284c279828039d71d5b2be": {
      "model_module": "@jupyter-widgets/base",
      "model_module_version": "1.2.0",
      "model_name": "LayoutModel",
      "state": {}
     },
     "53550936e5674e849d77a73776ce2af5": {
      "model_module": "@jupyter-widgets/controls",
      "model_module_version": "1.5.0",
      "model_name": "TextModel",
      "state": {
       "layout": "IPY_MODEL_47a60aa1cf3045f2a536b06edf49c5ea",
       "style": "IPY_MODEL_a80c4d1ad60d4d83b0f7acafdb185167",
       "value": "5"
      }
     },
     "536f548f2c294c0f9c0a20c81f76e8e3": {
      "model_module": "@jupyter-widgets/controls",
      "model_module_version": "1.5.0",
      "model_name": "DescriptionStyleModel",
      "state": {
       "description_width": ""
      }
     },
     "537394e3a42f4e189c8560c8ccdda6ba": {
      "model_module": "@jupyter-widgets/controls",
      "model_module_version": "1.5.0",
      "model_name": "TextModel",
      "state": {
       "layout": "IPY_MODEL_f28c3c7f5ced4384b8a9eca6bc4c00fd",
       "style": "IPY_MODEL_42b941b1b02a4dd8816ba0af704a022b",
       "value": "7"
      }
     },
     "537e67cac0064f43b69043eaba367292": {
      "model_module": "@jupyter-widgets/controls",
      "model_module_version": "1.5.0",
      "model_name": "HBoxModel",
      "state": {
       "children": [
        "IPY_MODEL_876bddcf1fc64521b938cea765b46c9a",
        "IPY_MODEL_9a32256fa2db4d9ca3b8ef74421a0fc7"
       ],
       "layout": "IPY_MODEL_476faae924464f448d4d449ac63a8bb6"
      }
     },
     "53882676a31b48e69adc3870e996b7d7": {
      "model_module": "@jupyter-widgets/controls",
      "model_module_version": "1.5.0",
      "model_name": "HTMLMathModel",
      "state": {
       "layout": "IPY_MODEL_b0b37cbad4314c71ac6d9ffbb15fcf0a",
       "style": "IPY_MODEL_ac3bc8e3641e46d4adced4a17ea7c65a",
       "value": "Enter here the values of the matrix $A$"
      }
     },
     "53b4c44145ba49d8946b33f4a0ce0b89": {
      "model_module": "@jupyter-widgets/controls",
      "model_module_version": "1.5.0",
      "model_name": "ButtonModel",
      "state": {
       "description": "Start",
       "layout": "IPY_MODEL_4afe107bcbe74f66b98b2c322da8f810",
       "style": "IPY_MODEL_fd4b3e29c1fa4a8e8f7fb5a849022c0f"
      }
     },
     "53b6f3d32824469a899776b3ac2e5018": {
      "model_module": "@jupyter-widgets/controls",
      "model_module_version": "1.5.0",
      "model_name": "DescriptionStyleModel",
      "state": {
       "description_width": ""
      }
     },
     "53d510311e6145fe9c1e91f7701c8d28": {
      "model_module": "@jupyter-widgets/controls",
      "model_module_version": "1.5.0",
      "model_name": "DropdownModel",
      "state": {
       "_options_labels": [
        "1",
        "2",
        "3"
       ],
       "description": "and row",
       "index": 1,
       "layout": "IPY_MODEL_663a65cefdf44e659024cdb5ff96ad92",
       "style": "IPY_MODEL_162329c75be941a7b40463be5f7c2805"
      }
     },
     "540f6b98699a4234b52615d1a1ebebea": {
      "model_module": "@jupyter-widgets/controls",
      "model_module_version": "1.5.0",
      "model_name": "TextModel",
      "state": {
       "layout": "IPY_MODEL_1b785352cb1a4de487a9efaa222c7a96",
       "style": "IPY_MODEL_bd931cc45e90423a9bb9e9a48295ea56",
       "value": "-1"
      }
     },
     "54179c0ba5fd47d0a78bda231e247538": {
      "model_module": "@jupyter-widgets/controls",
      "model_module_version": "1.5.0",
      "model_name": "TextModel",
      "state": {
       "layout": "IPY_MODEL_1b785352cb1a4de487a9efaa222c7a96",
       "style": "IPY_MODEL_0de49fa242fb4f759fdc7f84ec87fba3",
       "value": "2"
      }
     },
     "541fd91735f245d4b6b77956e80a2d3b": {
      "model_module": "@jupyter-widgets/controls",
      "model_module_version": "1.5.0",
      "model_name": "DescriptionStyleModel",
      "state": {
       "description_width": ""
      }
     },
     "5432b236fd4742429f05235d2ed230b9": {
      "model_module": "@jupyter-widgets/base",
      "model_module_version": "1.2.0",
      "model_name": "LayoutModel",
      "state": {
       "width": "90px"
      }
     },
     "54347aac6fa74fe1bd3eb1454197e6bd": {
      "model_module": "@jupyter-widgets/base",
      "model_module_version": "1.2.0",
      "model_name": "LayoutModel",
      "state": {
       "width": "150px"
      }
     },
     "54441dc8a73d4a059a82d04dd09c2e9a": {
      "model_module": "@jupyter-widgets/controls",
      "model_module_version": "1.5.0",
      "model_name": "DescriptionStyleModel",
      "state": {
       "description_width": ""
      }
     },
     "547c854d26234f9abbd1f4f15818cdb1": {
      "model_module": "@jupyter-widgets/base",
      "model_module_version": "1.2.0",
      "model_name": "LayoutModel",
      "state": {
       "justify_content": "space-between"
      }
     },
     "54cb811300384baba4e9c29c5c4afb79": {
      "model_module": "@jupyter-widgets/controls",
      "model_module_version": "1.5.0",
      "model_name": "HTMLMathModel",
      "state": {
       "layout": "IPY_MODEL_89164236eef8469290b5a50cfbae1efa",
       "style": "IPY_MODEL_3fee606d44464bb48017f3e372539c60",
       "value": "Enter here the values of the matrix $\\bf{A}$"
      }
     },
     "550caf5593ac4998b4c61c6b7b6d1878": {
      "model_module": "@jupyter-widgets/controls",
      "model_module_version": "1.5.0",
      "model_name": "VBoxModel",
      "state": {
       "children": [
        "IPY_MODEL_96f594af6c60456f9434245523ff8f55",
        "IPY_MODEL_1322ff74d35b4e38aa17a21bcb4c1e08"
       ],
       "layout": "IPY_MODEL_5feb8c929349460dbf15300fb45387ef"
      }
     },
     "55259ab1568b4f4db2a5b38a443d0108": {
      "model_module": "@jupyter-widgets/controls",
      "model_module_version": "1.5.0",
      "model_name": "DescriptionStyleModel",
      "state": {
       "description_width": ""
      }
     },
     "5540e9ff21904f0d96d3dbc1bb4419f1": {
      "model_module": "@jupyter-widgets/controls",
      "model_module_version": "1.5.0",
      "model_name": "TextModel",
      "state": {
       "layout": "IPY_MODEL_c488e0656e78457c941ce778fefda70e",
       "style": "IPY_MODEL_e35fd670213c4b0eb6384c79ae707146",
       "value": "-2"
      }
     },
     "55414b87723a4ea9a40c59e3d27932f2": {
      "model_module": "@jupyter-widgets/controls",
      "model_module_version": "1.5.0",
      "model_name": "TextModel",
      "state": {
       "layout": "IPY_MODEL_47a60aa1cf3045f2a536b06edf49c5ea",
       "style": "IPY_MODEL_93f0d1409c7a4102bf9dccea0a49cbdd",
       "value": "1"
      }
     },
     "5550e816d068429987ba6ca55c1a7e8c": {
      "model_module": "@jupyter-widgets/controls",
      "model_module_version": "1.5.0",
      "model_name": "TextModel",
      "state": {
       "layout": "IPY_MODEL_ff8f131091ed4bf49b858ed52bc5b3ea",
       "style": "IPY_MODEL_580043c44b9b485faafb02bfea3de182",
       "value": "-1"
      }
     },
     "55613864bf2b49b6808a5965f523fee9": {
      "model_module": "@jupyter-widgets/base",
      "model_module_version": "1.2.0",
      "model_name": "LayoutModel",
      "state": {}
     },
     "5562803f777f4220922e115d4f04d27c": {
      "model_module": "@jupyter-widgets/controls",
      "model_module_version": "1.5.0",
      "model_name": "DescriptionStyleModel",
      "state": {
       "description_width": ""
      }
     },
     "5568816a1cca42f58508e83235d89f1e": {
      "model_module": "@jupyter-widgets/base",
      "model_module_version": "1.2.0",
      "model_name": "LayoutModel",
      "state": {
       "height": "35px",
       "width": "30px"
      }
     },
     "556b9ac4710749dda073434a2562b4df": {
      "model_module": "@jupyter-widgets/controls",
      "model_module_version": "1.5.0",
      "model_name": "HTMLModel",
      "state": {
       "layout": "IPY_MODEL_e3b0043337d84f57a4b94b298fdb01aa",
       "style": "IPY_MODEL_c0cc098bac7549dcbc8671cc9a2cae55",
       "value": "Click this button to start the calculator"
      }
     },
     "557dd59e6a5b4bd29ccd6496645c7a28": {
      "model_module": "@jupyter-widgets/controls",
      "model_module_version": "1.5.0",
      "model_name": "DescriptionStyleModel",
      "state": {
       "description_width": ""
      }
     },
     "558283ed6ad54b00920c3b7ee41643b9": {
      "model_module": "@jupyter-widgets/controls",
      "model_module_version": "1.5.0",
      "model_name": "VBoxModel",
      "state": {
       "children": [
        "IPY_MODEL_aa3d1b35af034af993be349218493de3",
        "IPY_MODEL_39a045d69ca94ba4a93eb39f9268a0fa",
        "IPY_MODEL_39f1be3210e843abaab2be0b7951763a"
       ],
       "layout": "IPY_MODEL_4be901e7e78a426fb917aee1c9e4548a"
      }
     },
     "55a31ec2072a48169843e6c7b415bd31": {
      "model_module": "@jupyter-widgets/controls",
      "model_module_version": "1.5.0",
      "model_name": "DropdownModel",
      "state": {
       "_options_labels": [
        "1",
        "2",
        "3"
       ],
       "description": "Add row",
       "index": 0,
       "layout": "IPY_MODEL_d61cdc5fb641474c98c5d1738322e951",
       "style": "IPY_MODEL_ddb301eb9123451887854efa514fc275"
      }
     },
     "55ceb80c9f104e7d962a5dd621a200ed": {
      "model_module": "@jupyter-widgets/controls",
      "model_module_version": "1.5.0",
      "model_name": "DescriptionStyleModel",
      "state": {
       "description_width": ""
      }
     },
     "5603ed0f084d479ead91a220a4ac9db8": {
      "model_module": "@jupyter-widgets/base",
      "model_module_version": "1.2.0",
      "model_name": "LayoutModel",
      "state": {}
     },
     "561bd46bb4074d7cae746a4914f28c9b": {
      "model_module": "@jupyter-widgets/controls",
      "model_module_version": "1.5.0",
      "model_name": "HTMLMathModel",
      "state": {
       "layout": "IPY_MODEL_396dc6abaac24db2b18d24ed41b40490",
       "style": "IPY_MODEL_fdace73915244554b6291e49f09ec7f4",
       "value": "$$ \n    \\left[ \\begin{array}{rrr|r}\n        1 & 2 & 0 & 112\\\\\n        0 & 1 & 0 & 33\\\\\n        0 & 0 & 1 & 113\n    \\end{array} \\right]\n    \\stackrel{ -2 \\, R_2 + R_1 }{\\Rightarrow} \n    \\left[ \\begin{array}{rrr|r}\n        1 & 0 & 0 & 46\\\\\n        0 & 1 & 0 & 33\\\\\n        0 & 0 & 1 & 113\n    \\end{array} \\right]\n    $$"
      }
     },
     "563d566cffc449619e6778b5aa4a3369": {
      "model_module": "@jupyter-widgets/controls",
      "model_module_version": "1.5.0",
      "model_name": "DescriptionStyleModel",
      "state": {
       "description_width": ""
      }
     },
     "5645aad67ba549f2a01ffedefaaf50ab": {
      "model_module": "@jupyter-widgets/controls",
      "model_module_version": "1.5.0",
      "model_name": "DescriptionStyleModel",
      "state": {
       "description_width": ""
      }
     },
     "564f1dfe6fad47959acf725285108dde": {
      "model_module": "@jupyter-widgets/base",
      "model_module_version": "1.2.0",
      "model_name": "LayoutModel",
      "state": {
       "width": "150px"
      }
     },
     "56588b94a7b544949832cdad083ac66f": {
      "model_module": "@jupyter-widgets/controls",
      "model_module_version": "1.5.0",
      "model_name": "HBoxModel",
      "state": {
       "children": [
        "IPY_MODEL_a266c8b6128642d9904d79ba7be8a9d1",
        "IPY_MODEL_b6c88ee779944499829f6d6f352b0e65",
        "IPY_MODEL_968c59e906ae4323acc26bacb63baf83"
       ],
       "layout": "IPY_MODEL_49f833aec50049728347b67ead722224"
      }
     },
     "5658a8e71503421ab525d14883c87170": {
      "model_module": "@jupyter-widgets/base",
      "model_module_version": "1.2.0",
      "model_name": "LayoutModel",
      "state": {
       "height": "35px",
       "width": "40px"
      }
     },
     "566811e0e68443a08edad1205d69edb6": {
      "model_module": "@jupyter-widgets/controls",
      "model_module_version": "1.5.0",
      "model_name": "TextModel",
      "state": {
       "layout": "IPY_MODEL_5658a8e71503421ab525d14883c87170",
       "style": "IPY_MODEL_16083809f2774b3ba96eb7f2429affe1",
       "value": "1"
      }
     },
     "5674c956c6ff4aa6a435516caccca6cd": {
      "model_module": "@jupyter-widgets/controls",
      "model_module_version": "1.5.0",
      "model_name": "ButtonModel",
      "state": {
       "description": "Start",
       "layout": "IPY_MODEL_b9f347d32ddd4c52956e059f34993ad0",
       "style": "IPY_MODEL_cb30237610154aa18f26227eb63e3096"
      }
     },
     "567ca486007d4b28a2508a9f4a504dfc": {
      "model_module": "@jupyter-widgets/controls",
      "model_module_version": "1.5.0",
      "model_name": "TextModel",
      "state": {
       "layout": "IPY_MODEL_5a0c24727aa941b48d996c0a1f0c2bf8",
       "style": "IPY_MODEL_95e89f6314944daa9a3b52d3a6f61e85",
       "value": "1"
      }
     },
     "5683ce8eeb4e4b4dab70df356784fce9": {
      "model_module": "@jupyter-widgets/base",
      "model_module_version": "1.2.0",
      "model_name": "LayoutModel",
      "state": {}
     },
     "56919c9dcb654f41a25dd1b55b811457": {
      "model_module": "@jupyter-widgets/controls",
      "model_module_version": "1.5.0",
      "model_name": "VBoxModel",
      "state": {
       "children": [
        "IPY_MODEL_ad30a1f33d0b4f52b229b232df47adb8",
        "IPY_MODEL_5674c956c6ff4aa6a435516caccca6cd"
       ],
       "layout": "IPY_MODEL_25ef4af5bc174cd9903de9e6ce4562b1"
      }
     },
     "56b063aa808a4e4288063755efeae76e": {
      "model_module": "@jupyter-widgets/controls",
      "model_module_version": "1.5.0",
      "model_name": "DescriptionStyleModel",
      "state": {
       "description_width": ""
      }
     },
     "56ef320d3b87465890320dcfe92d0eab": {
      "model_module": "@jupyter-widgets/base",
      "model_module_version": "1.2.0",
      "model_name": "LayoutModel",
      "state": {}
     },
     "57090f2f83bd45e78c6efa7552fbed99": {
      "model_module": "@jupyter-widgets/base",
      "model_module_version": "1.2.0",
      "model_name": "LayoutModel",
      "state": {
       "flex_flow": "row wrap",
       "justify_content": "space-around"
      }
     },
     "571a0e9e17e149d9be515e7ac7cd9e07": {
      "model_module": "@jupyter-widgets/base",
      "model_module_version": "1.2.0",
      "model_name": "LayoutModel",
      "state": {
       "width": "100px"
      }
     },
     "5725ed9360854e5d88d72a355bd35f9c": {
      "model_module": "@jupyter-widgets/controls",
      "model_module_version": "1.5.0",
      "model_name": "DescriptionStyleModel",
      "state": {
       "description_width": ""
      }
     },
     "57329ae3c2564e17822ee7d6af24e192": {
      "model_module": "@jupyter-widgets/base",
      "model_module_version": "1.2.0",
      "model_name": "LayoutModel",
      "state": {
       "width": "150px"
      }
     },
     "57402a2d9d3d495b9627d59c87363c23": {
      "model_module": "@jupyter-widgets/base",
      "model_module_version": "1.2.0",
      "model_name": "LayoutModel",
      "state": {
       "width": "100px"
      }
     },
     "575f937f908949548c510205936ca7e8": {
      "model_module": "@jupyter-widgets/controls",
      "model_module_version": "1.5.0",
      "model_name": "DescriptionStyleModel",
      "state": {
       "description_width": ""
      }
     },
     "57636afa71ac47b69928ac189dab6828": {
      "model_module": "@jupyter-widgets/controls",
      "model_module_version": "1.5.0",
      "model_name": "DescriptionStyleModel",
      "state": {
       "description_width": ""
      }
     },
     "577b97fa2660405eb8fd9db452a0bc73": {
      "model_module": "@jupyter-widgets/controls",
      "model_module_version": "1.5.0",
      "model_name": "ButtonStyleModel",
      "state": {}
     },
     "57911ae11a164f64b4797f73d3fc0d87": {
      "model_module": "@jupyter-widgets/controls",
      "model_module_version": "1.5.0",
      "model_name": "VBoxModel",
      "state": {
       "children": [
        "IPY_MODEL_b68155761c3c4d859a21163c3aa75780",
        "IPY_MODEL_08fb17f1d1c941a8b667c74d15ba69eb"
       ],
       "layout": "IPY_MODEL_d00e1dae6cf9426fb005a4a460f3bb5d"
      }
     },
     "57e524f9e16a4125abd2ec5cd30df1df": {
      "model_module": "@jupyter-widgets/controls",
      "model_module_version": "1.5.0",
      "model_name": "DescriptionStyleModel",
      "state": {
       "description_width": ""
      }
     },
     "57ed2c7b44c2486fa420c0811110ed5e": {
      "model_module": "@jupyter-widgets/controls",
      "model_module_version": "1.5.0",
      "model_name": "ButtonModel",
      "state": {
       "description": "Start",
       "layout": "IPY_MODEL_510c0e24476444f0ad1640fe332695a6",
       "style": "IPY_MODEL_1978815529be43f08ccf4d296ae678f3"
      }
     },
     "57f37a482b9b4212a5d2ed4a2eec7123": {
      "model_module": "@jupyter-widgets/controls",
      "model_module_version": "1.5.0",
      "model_name": "DescriptionStyleModel",
      "state": {
       "description_width": ""
      }
     },
     "580043c44b9b485faafb02bfea3de182": {
      "model_module": "@jupyter-widgets/controls",
      "model_module_version": "1.5.0",
      "model_name": "DescriptionStyleModel",
      "state": {
       "description_width": ""
      }
     },
     "580597e7aa9344b0a1de196dd77cefe1": {
      "model_module": "@jupyter-widgets/base",
      "model_module_version": "1.2.0",
      "model_name": "LayoutModel",
      "state": {
       "width": "100px"
      }
     },
     "580d13390c1f455fa295ac08753af4c4": {
      "model_module": "@jupyter-widgets/controls",
      "model_module_version": "1.5.0",
      "model_name": "TextModel",
      "state": {
       "layout": "IPY_MODEL_109f6d462a004bdd9a95542348d778f8",
       "style": "IPY_MODEL_28ceea5bd3b94a2882c848e4c9d38095",
       "value": "4"
      }
     },
     "580e2321fac44f77b5f6584ea86e1d3c": {
      "model_module": "@jupyter-widgets/controls",
      "model_module_version": "1.5.0",
      "model_name": "TextModel",
      "state": {
       "layout": "IPY_MODEL_7003463d13444a27a885608e31a34ec8",
       "style": "IPY_MODEL_b6fbc83893e84e308e537f72fb1763ea",
       "value": "1"
      }
     },
     "58349022765c4e9d9e1dc50abe4323b9": {
      "model_module": "@jupyter-widgets/controls",
      "model_module_version": "1.5.0",
      "model_name": "DescriptionStyleModel",
      "state": {
       "description_width": ""
      }
     },
     "583d2fc7ea7b40efbd3a1c55be5079e1": {
      "model_module": "@jupyter-widgets/controls",
      "model_module_version": "1.5.0",
      "model_name": "DescriptionStyleModel",
      "state": {
       "description_width": ""
      }
     },
     "585ab0d443264c7d8e9516fc7f81f2ee": {
      "model_module": "@jupyter-widgets/base",
      "model_module_version": "1.2.0",
      "model_name": "LayoutModel",
      "state": {
       "height": "300px",
       "justify_content": "center"
      }
     },
     "585c11ee402b44d3904a959db8ba0078": {
      "model_module": "@jupyter-widgets/controls",
      "model_module_version": "1.5.0",
      "model_name": "DescriptionStyleModel",
      "state": {
       "description_width": ""
      }
     },
     "586173b69cb3439b91c31d14d893a954": {
      "model_module": "@jupyter-widgets/controls",
      "model_module_version": "1.5.0",
      "model_name": "HBoxModel",
      "state": {
       "children": [
        "IPY_MODEL_af7477456c33456ca54767e20fa33876",
        "IPY_MODEL_12932f2c8c3d4eeb95088967ccdb0d22",
        "IPY_MODEL_335f4ecb0d434d8c8404200f239f73da"
       ],
       "layout": "IPY_MODEL_7f3e3690462d4f2893902f9b16156a3d"
      }
     },
     "5869d2f654ca45198c5680e7a7296dbc": {
      "model_module": "@jupyter-widgets/base",
      "model_module_version": "1.2.0",
      "model_name": "LayoutModel",
      "state": {
       "width": "150px"
      }
     },
     "58814e163bae4be2b1e301afd275bba3": {
      "model_module": "@jupyter-widgets/controls",
      "model_module_version": "1.5.0",
      "model_name": "DescriptionStyleModel",
      "state": {
       "description_width": ""
      }
     },
     "58a946c1e0ec43bf87a56043b1b801bd": {
      "model_module": "@jupyter-widgets/controls",
      "model_module_version": "1.5.0",
      "model_name": "DescriptionStyleModel",
      "state": {
       "description_width": ""
      }
     },
     "58aafa981a8542a8b629a87e497f4343": {
      "model_module": "@jupyter-widgets/controls",
      "model_module_version": "1.5.0",
      "model_name": "DescriptionStyleModel",
      "state": {
       "description_width": ""
      }
     },
     "58b4a21b18f741c2a58f87d88e6e45a5": {
      "model_module": "@jupyter-widgets/controls",
      "model_module_version": "1.5.0",
      "model_name": "HBoxModel",
      "state": {
       "children": [
        "IPY_MODEL_aaca31f7153548bb951d262e84068b44",
        "IPY_MODEL_76f7c68c3af84ef19ecb054b594cdd06"
       ],
       "layout": "IPY_MODEL_5daee7295f9d427583fc6447ecbcace8"
      }
     },
     "58b78db0cccf4131a6975a68a897a489": {
      "model_module": "@jupyter-widgets/controls",
      "model_module_version": "1.5.0",
      "model_name": "DescriptionStyleModel",
      "state": {
       "description_width": ""
      }
     },
     "58f53823b3a5433cbcb57c2974e9458e": {
      "model_module": "@jupyter-widgets/controls",
      "model_module_version": "1.5.0",
      "model_name": "TextModel",
      "state": {
       "layout": "IPY_MODEL_201e1a4ee32840b19f981690bdacf3ae",
       "style": "IPY_MODEL_ecc7c416e4554d67824e1735f8adf8ed",
       "value": "1"
      }
     },
     "590bd867545e4f828a33d836914d9331": {
      "model_module": "@jupyter-widgets/controls",
      "model_module_version": "1.5.0",
      "model_name": "TextModel",
      "state": {
       "layout": "IPY_MODEL_250753b918e0432c803452a019d33c5c",
       "style": "IPY_MODEL_5d74c7d8c17044408b6d45afbc37671a",
       "value": "1"
      }
     },
     "59295dda47144015b771b704f1ce73ab": {
      "model_module": "@jupyter-widgets/controls",
      "model_module_version": "1.5.0",
      "model_name": "VBoxModel",
      "state": {
       "children": [
        "IPY_MODEL_cc65be7f9a734613989f8b8da7d66e95",
        "IPY_MODEL_edb0f32a283f419aa6949e7b0a5cf25c",
        "IPY_MODEL_4dccef186f484543be56c7f05e88fb7b"
       ],
       "layout": "IPY_MODEL_9907801a18664d2aaf487bc082ecf80b"
      }
     },
     "593e2075857b43408e0d7f5098950d55": {
      "model_module": "@jupyter-widgets/controls",
      "model_module_version": "1.5.0",
      "model_name": "DescriptionStyleModel",
      "state": {
       "description_width": ""
      }
     },
     "59473b6f810d4a6b9c421954e87c06d7": {
      "model_module": "@jupyter-widgets/controls",
      "model_module_version": "1.5.0",
      "model_name": "TextModel",
      "state": {
       "layout": "IPY_MODEL_e168436c7ee0437a9552e5f0afc85715",
       "style": "IPY_MODEL_593e2075857b43408e0d7f5098950d55",
       "value": "1"
      }
     },
     "596c323d9ab54c17a2ee73511dda6fb2": {
      "model_module": "@jupyter-widgets/controls",
      "model_module_version": "1.5.0",
      "model_name": "DescriptionStyleModel",
      "state": {
       "description_width": ""
      }
     },
     "59a5ce918cb04f6e8196a4b81f302c2e": {
      "model_module": "@jupyter-widgets/controls",
      "model_module_version": "1.5.0",
      "model_name": "TextModel",
      "state": {
       "layout": "IPY_MODEL_65cb8db367e14667886b79ef97c800d1",
       "style": "IPY_MODEL_8e3fab4c84364ff1962b50b3c24ccab1",
       "value": "1"
      }
     },
     "59aaf93ad5e74f89a9d1684f22b39b30": {
      "model_module": "@jupyter-widgets/controls",
      "model_module_version": "1.5.0",
      "model_name": "TextModel",
      "state": {
       "layout": "IPY_MODEL_1ceaf9c9ac774ae985cae0c34af76539",
       "style": "IPY_MODEL_0e8779d387d345ce83061d7884680c4b",
       "value": "2"
      }
     },
     "59e5da1d512e4c08a6ee898784c7e6e0": {
      "model_module": "@jupyter-widgets/controls",
      "model_module_version": "1.5.0",
      "model_name": "ButtonStyleModel",
      "state": {}
     },
     "59e8a25264234ac798e428ff0de1abd0": {
      "model_module": "@jupyter-widgets/base",
      "model_module_version": "1.2.0",
      "model_name": "LayoutModel",
      "state": {}
     },
     "59f5e64ebd634673b1934ecdf5c26a9f": {
      "model_module": "@jupyter-widgets/base",
      "model_module_version": "1.2.0",
      "model_name": "LayoutModel",
      "state": {
       "width": "90px"
      }
     },
     "5a0c24727aa941b48d996c0a1f0c2bf8": {
      "model_module": "@jupyter-widgets/base",
      "model_module_version": "1.2.0",
      "model_name": "LayoutModel",
      "state": {
       "height": "35px",
       "width": "40px"
      }
     },
     "5a195c0d1e70499e9aa83c3332dd719d": {
      "model_module": "@jupyter-widgets/base",
      "model_module_version": "1.2.0",
      "model_name": "LayoutModel",
      "state": {}
     },
     "5a2ba0172d81486caad06bc3b533ed52": {
      "model_module": "@jupyter-widgets/controls",
      "model_module_version": "1.5.0",
      "model_name": "ButtonModel",
      "state": {
       "description": "Swap rows",
       "layout": "IPY_MODEL_0fa53be0c5b3446f8225156f37f08315",
       "style": "IPY_MODEL_3d0adf1c14424857bebb22c7fcc3b99f"
      }
     },
     "5a507ec33302402296f53fe711dc414a": {
      "model_module": "@jupyter-widgets/controls",
      "model_module_version": "1.5.0",
      "model_name": "ButtonModel",
      "state": {
       "description": "Swap rows",
       "layout": "IPY_MODEL_328b3676b5c24f18bc2e47ede2b4c473",
       "style": "IPY_MODEL_4d85738cd47e43c9ae256ff6df822fda"
      }
     },
     "5a730f4a86c04107be4ccc85c2b569a1": {
      "model_module": "@jupyter-widgets/base",
      "model_module_version": "1.2.0",
      "model_name": "LayoutModel",
      "state": {
       "width": "100px"
      }
     },
     "5a821d7e577b42c8ae2d56a31fcfec77": {
      "model_module": "@jupyter-widgets/controls",
      "model_module_version": "1.5.0",
      "model_name": "HBoxModel",
      "state": {
       "children": [
        "IPY_MODEL_bff12ca03f2f477b8df56827cfc9aca5",
        "IPY_MODEL_75a8e3e75fce4f7fb2d20f102a46ef55",
        "IPY_MODEL_cab4d8d41bcd413f834122d156fa5bb2"
       ],
       "layout": "IPY_MODEL_1fe99bc6dcfd406ca5bab6bcbaae7054"
      }
     },
     "5ac478c19fcb4b9eb123e71c5cd00212": {
      "model_module": "@jupyter-widgets/base",
      "model_module_version": "1.2.0",
      "model_name": "LayoutModel",
      "state": {
       "flex_flow": "row wrap",
       "justify_content": "space-around"
      }
     },
     "5adf9d9f09334095abbdc828b00563b9": {
      "model_module": "@jupyter-widgets/controls",
      "model_module_version": "1.5.0",
      "model_name": "DescriptionStyleModel",
      "state": {
       "description_width": ""
      }
     },
     "5ae5dd2c957749cda43de6e4ca5a2a0a": {
      "model_module": "@jupyter-widgets/base",
      "model_module_version": "1.2.0",
      "model_name": "LayoutModel",
      "state": {}
     },
     "5afbc4573934497a8d0924d46bfb39fe": {
      "model_module": "@jupyter-widgets/controls",
      "model_module_version": "1.5.0",
      "model_name": "DropdownModel",
      "state": {
       "_options_labels": [
        "1",
        "2",
        "3"
       ],
       "description": "Row",
       "index": 0,
       "layout": "IPY_MODEL_564f1dfe6fad47959acf725285108dde",
       "style": "IPY_MODEL_0b93b44acdce4d9197a7c8f3e6b4c1c7"
      }
     },
     "5b2b21137c8a40ca963b4b178d50b9e2": {
      "model_module": "@jupyter-widgets/controls",
      "model_module_version": "1.5.0",
      "model_name": "TextModel",
      "state": {
       "layout": "IPY_MODEL_d29f4c6323274c2ea715833a610068a5",
       "style": "IPY_MODEL_a85445def5ea42728df88b18fda59ee1",
       "value": "-1"
      }
     },
     "5b88b39bed0a4897befe923f9c60708c": {
      "model_module": "@jupyter-widgets/controls",
      "model_module_version": "1.5.0",
      "model_name": "VBoxModel",
      "state": {
       "children": [
        "IPY_MODEL_952ba0c0e4fa4672ba0fe93aebbd3789",
        "IPY_MODEL_da5618a0a9cd4f9baf1345b9a9964efb",
        "IPY_MODEL_cb0f16d897a54439bf23465e7b9934cf"
       ],
       "layout": "IPY_MODEL_a16ff7a015594611837ac0bbe9b1eb02"
      }
     },
     "5b9118f2352a44f5a322baae71489f99": {
      "model_module": "@jupyter-widgets/controls",
      "model_module_version": "1.5.0",
      "model_name": "ButtonModel",
      "state": {
       "description": "Start",
       "layout": "IPY_MODEL_bc5b8dfec5ea462e831759ae0fc061f2",
       "style": "IPY_MODEL_675276f03db74c9dbf15ae04dd05d784"
      }
     },
     "5be6132763a34df091f8dc4aec43b799": {
      "model_module": "@jupyter-widgets/controls",
      "model_module_version": "1.5.0",
      "model_name": "DescriptionStyleModel",
      "state": {
       "description_width": ""
      }
     },
     "5bece2a1b87e4bdd96b71bee36a6a9e4": {
      "model_module": "@jupyter-widgets/base",
      "model_module_version": "1.2.0",
      "model_name": "LayoutModel",
      "state": {}
     },
     "5c142e9d7a454d24845502de24978630": {
      "model_module": "@jupyter-widgets/controls",
      "model_module_version": "1.5.0",
      "model_name": "HBoxModel",
      "state": {
       "children": [
        "IPY_MODEL_661bdb6ab57a465891b46b20715ddb78",
        "IPY_MODEL_3b17770969f24f1291ff58a0e747076e",
        "IPY_MODEL_25de9f3d375e41e7a8a4105790e0815e"
       ],
       "layout": "IPY_MODEL_93727e1c4cb3445d843ff9cf71335b47"
      }
     },
     "5c41e05133a8474dbd879de17b0e9983": {
      "model_module": "@jupyter-widgets/controls",
      "model_module_version": "1.5.0",
      "model_name": "HBoxModel",
      "state": {
       "children": [
        "IPY_MODEL_4e4c740168f540b2868ec45051ec2f88",
        "IPY_MODEL_7f1d4d510410432daa6e38c2cd8e1842"
       ],
       "layout": "IPY_MODEL_8d4b50e567d94154af95f250ea6e41a5"
      }
     },
     "5c668c713e554d97af8e3fa4fe1cd0ee": {
      "model_module": "@jupyter-widgets/base",
      "model_module_version": "1.2.0",
      "model_name": "LayoutModel",
      "state": {
       "justify_content": "space-between"
      }
     },
     "5c7dd0149eb6408998e2ffea88a44db3": {
      "model_module": "@jupyter-widgets/controls",
      "model_module_version": "1.5.0",
      "model_name": "VBoxModel",
      "state": {
       "children": [
        "IPY_MODEL_05826fc3d6c1452dbd996f50056eff0b",
        "IPY_MODEL_13e2564bb813496a9fe8a8a618109eff",
        "IPY_MODEL_7c70e37c53ce408381cd5e44831dab9b"
       ],
       "layout": "IPY_MODEL_d915ffffc8524ecebac4fa7fdd73994b"
      }
     },
     "5c870b470f4649938c410039a7d55f48": {
      "model_module": "@jupyter-widgets/controls",
      "model_module_version": "1.5.0",
      "model_name": "DescriptionStyleModel",
      "state": {
       "description_width": ""
      }
     },
     "5c9ba0a0a18444cb9fad2a46845c253f": {
      "model_module": "@jupyter-widgets/base",
      "model_module_version": "1.2.0",
      "model_name": "LayoutModel",
      "state": {}
     },
     "5cab07d256ab49d3924b047c9409c151": {
      "model_module": "@jupyter-widgets/base",
      "model_module_version": "1.2.0",
      "model_name": "LayoutModel",
      "state": {}
     },
     "5cd82bfc64364e8b8c3ed782b6637c82": {
      "model_module": "@jupyter-widgets/base",
      "model_module_version": "1.2.0",
      "model_name": "LayoutModel",
      "state": {
       "height": "300px",
       "justify_content": "center"
      }
     },
     "5ce4a7d84ecf41eb978ee2d7650fb9e7": {
      "model_module": "@jupyter-widgets/controls",
      "model_module_version": "1.5.0",
      "model_name": "TextModel",
      "state": {
       "layout": "IPY_MODEL_b2827ab913cf4f49b7a4aeebd116396e",
       "style": "IPY_MODEL_f1aa2df246494e15a23c8062d7e3ccde",
       "value": "-6"
      }
     },
     "5cfa150771064f49b6b49bfe381c8b37": {
      "model_module": "@jupyter-widgets/controls",
      "model_module_version": "1.5.0",
      "model_name": "HTMLMathModel",
      "state": {
       "layout": "IPY_MODEL_742f75ad3c1e4a579b6bdd20bb4ad6d5",
       "style": "IPY_MODEL_e9759d1361b34347b881d4235932ed62",
       "value": "The augmented matrix $(\\bf{A}|\\bf{B})$ will appear here."
      }
     },
     "5d10ef145dcf4288b6428af42387ee99": {
      "model_module": "@jupyter-widgets/controls",
      "model_module_version": "1.5.0",
      "model_name": "GridBoxModel",
      "state": {
       "children": [
        "IPY_MODEL_ab1a78af96654a738ffb33ffc8d3f268",
        "IPY_MODEL_c88a9b4576814f6dbef4e788521ba132",
        "IPY_MODEL_27e270f81499483c9c05d25b93ff2503",
        "IPY_MODEL_2964aaa1cec7472fbf3d4e5f7375ff1a",
        "IPY_MODEL_078eba34603b4abe9af284bd7c36e506",
        "IPY_MODEL_c52556f0230c4baab79eb0f6c5f16a5c",
        "IPY_MODEL_6c0aa5b972f44fe29520ade6a2230789",
        "IPY_MODEL_3b50ee6f30af43e984f9aaedd3aa964d",
        "IPY_MODEL_971e67b66ce3494aa2df14e4deb3957a"
       ],
       "layout": "IPY_MODEL_0011b98acade445c903fc724a314f6c6"
      }
     },
     "5d1575e4a6934614a0ab83b0e1d4984d": {
      "model_module": "@jupyter-widgets/controls",
      "model_module_version": "1.5.0",
      "model_name": "DescriptionStyleModel",
      "state": {
       "description_width": ""
      }
     },
     "5d238604dff34ffb99ef228c91fb5d4d": {
      "model_module": "@jupyter-widgets/controls",
      "model_module_version": "1.5.0",
      "model_name": "TextModel",
      "state": {
       "description": "times",
       "layout": "IPY_MODEL_0b94b169e480469bbed13b877c6d7758",
       "style": "IPY_MODEL_e4169ca5dff0415ea79aff2751271073",
       "value": "1"
      }
     },
     "5d42a8c6dc014997860aaa4600b2405b": {
      "model_module": "@jupyter-widgets/controls",
      "model_module_version": "1.5.0",
      "model_name": "DescriptionStyleModel",
      "state": {
       "description_width": ""
      }
     },
     "5d4a00169b2f42c68bfedb3687e4528f": {
      "model_module": "@jupyter-widgets/controls",
      "model_module_version": "1.5.0",
      "model_name": "HBoxModel",
      "state": {
       "children": [
        "IPY_MODEL_d1a162c79f59407b9ca55ea7eee0226d",
        "IPY_MODEL_5f6edcac46784d378b88e872ea5eb240"
       ],
       "layout": "IPY_MODEL_2eb1476cf7a54fb38c86c2d1b546cbd4"
      }
     },
     "5d57b31b70ab401182d4571bd820aeca": {
      "model_module": "@jupyter-widgets/controls",
      "model_module_version": "1.5.0",
      "model_name": "TextModel",
      "state": {
       "layout": "IPY_MODEL_dfe771ca3cb647c5ba599a113ad575df",
       "style": "IPY_MODEL_6ab06ae82e094e4fa4b0cfa4b50afb8b",
       "value": "1"
      }
     },
     "5d5fd9a4a15d4c528359baa4ea4ff759": {
      "model_module": "@jupyter-widgets/base",
      "model_module_version": "1.2.0",
      "model_name": "LayoutModel",
      "state": {
       "width": "90px"
      }
     },
     "5d61b8fac4b44ca19a9899cc4cb695e0": {
      "model_module": "@jupyter-widgets/controls",
      "model_module_version": "1.5.0",
      "model_name": "TextModel",
      "state": {
       "layout": "IPY_MODEL_65cb8db367e14667886b79ef97c800d1",
       "style": "IPY_MODEL_79b45511afa14b9099b020203adc4e5c",
       "value": "2"
      }
     },
     "5d661419008c418eb7fcb896662eb3c9": {
      "model_module": "@jupyter-widgets/controls",
      "model_module_version": "1.5.0",
      "model_name": "BoxModel",
      "state": {
       "children": [
        "IPY_MODEL_2430d7ab76e14c8399c1b62d5c64d452",
        "IPY_MODEL_b94963d0a1434b1e984ef602f8059bb1",
        "IPY_MODEL_9e2f248b499648cf9f65c5e5a6b3f74b",
        "IPY_MODEL_51efdd5f1d144807a20dd483e9c25a58"
       ],
       "layout": "IPY_MODEL_cbb6c52ee8b6435d9bfcce83422f2da0"
      }
     },
     "5d6d44d61a294ef09ccdf4532f30a494": {
      "model_module": "@jupyter-widgets/controls",
      "model_module_version": "1.5.0",
      "model_name": "GridBoxModel",
      "state": {
       "children": [
        "IPY_MODEL_46a21cf46e6e48b98682901c5b4e1354",
        "IPY_MODEL_3dc38e58e200492c8d1d680232f2515b",
        "IPY_MODEL_5540e9ff21904f0d96d3dbc1bb4419f1",
        "IPY_MODEL_17ee71bc161f4ee6b475ff360576c239",
        "IPY_MODEL_21c8eaa8104147e5be4c03204a5855c9",
        "IPY_MODEL_d85e82be158f427aaf5af8042dc4d419",
        "IPY_MODEL_6de695ddeb94439b93ee05bce6de5cc4",
        "IPY_MODEL_949d0b3da2cc4b99a1ef8e047d774c06",
        "IPY_MODEL_c1f18476f128437786f1d2d8033219ed"
       ],
       "layout": "IPY_MODEL_4a919114425149a5ae1cc09c00d6143f"
      }
     },
     "5d74c7d8c17044408b6d45afbc37671a": {
      "model_module": "@jupyter-widgets/controls",
      "model_module_version": "1.5.0",
      "model_name": "DescriptionStyleModel",
      "state": {
       "description_width": ""
      }
     },
     "5d8824e772c44ba6b2db408f4c18e308": {
      "model_module": "@jupyter-widgets/controls",
      "model_module_version": "1.5.0",
      "model_name": "TextModel",
      "state": {
       "layout": "IPY_MODEL_109f6d462a004bdd9a95542348d778f8",
       "style": "IPY_MODEL_64414fce32e447f79d269328cbb21e46",
       "value": "7"
      }
     },
     "5da7425e44b042cb92ac73d9134a89ae": {
      "model_module": "@jupyter-widgets/controls",
      "model_module_version": "1.5.0",
      "model_name": "DescriptionStyleModel",
      "state": {
       "description_width": ""
      }
     },
     "5daee7295f9d427583fc6447ecbcace8": {
      "model_module": "@jupyter-widgets/base",
      "model_module_version": "1.2.0",
      "model_name": "LayoutModel",
      "state": {}
     },
     "5dc953eb61c54fc1948b313fb3461dd9": {
      "model_module": "@jupyter-widgets/controls",
      "model_module_version": "1.5.0",
      "model_name": "DescriptionStyleModel",
      "state": {
       "description_width": ""
      }
     },
     "5e0fe3f5069f4585af9224b4b19c0b90": {
      "model_module": "@jupyter-widgets/controls",
      "model_module_version": "1.5.0",
      "model_name": "ButtonStyleModel",
      "state": {}
     },
     "5e638243fe01472fb267b174de418599": {
      "model_module": "@jupyter-widgets/base",
      "model_module_version": "1.2.0",
      "model_name": "LayoutModel",
      "state": {
       "width": "40px"
      }
     },
     "5e9bf23ce17d44209b063bd3d0c689e4": {
      "model_module": "@jupyter-widgets/base",
      "model_module_version": "1.2.0",
      "model_name": "LayoutModel",
      "state": {
       "flex_flow": "row wrap",
       "justify_content": "space-around"
      }
     },
     "5eab7ff98c634aeba0718607ae240033": {
      "model_module": "@jupyter-widgets/controls",
      "model_module_version": "1.5.0",
      "model_name": "HBoxModel",
      "state": {
       "children": [
        "IPY_MODEL_3b6168d524b349f4b60b5c3db7ea7206",
        "IPY_MODEL_5eb8384193dc432aba6505645053fd45"
       ],
       "layout": "IPY_MODEL_4b13c98a3aee4e58a240bdb4e73613c2"
      }
     },
     "5eb8384193dc432aba6505645053fd45": {
      "model_module": "@jupyter-widgets/controls",
      "model_module_version": "1.5.0",
      "model_name": "HTMLMathModel",
      "state": {
       "layout": "IPY_MODEL_4e4ca7ab3dc04e17aafa81be5eb39834",
       "style": "IPY_MODEL_080e245494a84bc19b59b3de9ffee19c",
       "value": "Enter here the values of the constant matrix $\\bf{B}$"
      }
     },
     "5ee53d25fc564b1faf206c4a448278fa": {
      "model_module": "@jupyter-widgets/controls",
      "model_module_version": "1.5.0",
      "model_name": "HTMLModel",
      "state": {
       "layout": "IPY_MODEL_28d5633686e6401d9eb6f462f2178b21",
       "style": "IPY_MODEL_f4ececb133c946159ffda3fb7d04a502",
       "value": "Click the button below to start the calculator"
      }
     },
     "5f0c26c3d40e4881906939cfabb1a5d4": {
      "model_module": "@jupyter-widgets/controls",
      "model_module_version": "1.5.0",
      "model_name": "DescriptionStyleModel",
      "state": {
       "description_width": ""
      }
     },
     "5f2425829dae4b15b0a0d0b3a37cb4e2": {
      "model_module": "@jupyter-widgets/base",
      "model_module_version": "1.2.0",
      "model_name": "LayoutModel",
      "state": {}
     },
     "5f2aef43bbbe4deb80266dbfdca0caa9": {
      "model_module": "@jupyter-widgets/controls",
      "model_module_version": "1.5.0",
      "model_name": "DropdownModel",
      "state": {
       "_options_labels": [
        "1",
        "2",
        "3"
       ],
       "description": "Add row",
       "index": 0,
       "layout": "IPY_MODEL_072b7d2210c44b33b9e99bb7c75176f4",
       "style": "IPY_MODEL_b372bed8d3b34349b95278f809ffc29e"
      }
     },
     "5f40c5be70ee456e903dc502557032d9": {
      "model_module": "@jupyter-widgets/controls",
      "model_module_version": "1.5.0",
      "model_name": "DescriptionStyleModel",
      "state": {
       "description_width": ""
      }
     },
     "5f6edcac46784d378b88e872ea5eb240": {
      "model_module": "@jupyter-widgets/controls",
      "model_module_version": "1.5.0",
      "model_name": "HTMLMathModel",
      "state": {
       "layout": "IPY_MODEL_4103463bea7b400ba7bea4fdec5bbff6",
       "style": "IPY_MODEL_dfa294d7aec1452c93ca5911f16e2fea",
       "value": "Enter here the values of the right hand side vector $b$"
      }
     },
     "5f85c6ab0277455f99b05f34b351e22c": {
      "model_module": "@jupyter-widgets/controls",
      "model_module_version": "1.5.0",
      "model_name": "TextModel",
      "state": {
       "layout": "IPY_MODEL_776389df997545fcab086c0233cb0ab0",
       "style": "IPY_MODEL_09da1c4605184562a2d7c2d6ea3839a8",
       "value": "7"
      }
     },
     "5f983e3acaac416e8a9921c86452432d": {
      "model_module": "@jupyter-widgets/controls",
      "model_module_version": "1.5.0",
      "model_name": "DescriptionStyleModel",
      "state": {
       "description_width": ""
      }
     },
     "5f9f15e11c9a472a8e9d60794a0e0d5d": {
      "model_module": "@jupyter-widgets/base",
      "model_module_version": "1.2.0",
      "model_name": "LayoutModel",
      "state": {
       "width": "40px"
      }
     },
     "5fcd0dc93570409490dc792c9d846797": {
      "model_module": "@jupyter-widgets/base",
      "model_module_version": "1.2.0",
      "model_name": "LayoutModel",
      "state": {}
     },
     "5fd7926e9287424e9192f573ec327ef6": {
      "model_module": "@jupyter-widgets/controls",
      "model_module_version": "1.5.0",
      "model_name": "DescriptionStyleModel",
      "state": {
       "description_width": ""
      }
     },
     "5fe000100d944351b4eca728e99465d6": {
      "model_module": "@jupyter-widgets/controls",
      "model_module_version": "1.5.0",
      "model_name": "DescriptionStyleModel",
      "state": {
       "description_width": ""
      }
     },
     "5feb8c929349460dbf15300fb45387ef": {
      "model_module": "@jupyter-widgets/base",
      "model_module_version": "1.2.0",
      "model_name": "LayoutModel",
      "state": {}
     },
     "6027277628f14e74a3f2a49fcb4d1e71": {
      "model_module": "@jupyter-widgets/controls",
      "model_module_version": "1.5.0",
      "model_name": "TextModel",
      "state": {
       "layout": "IPY_MODEL_250753b918e0432c803452a019d33c5c",
       "style": "IPY_MODEL_6b4536305c2d48f1b369266664ccb5f5",
       "value": "-4"
      }
     },
     "602ab08f8fcb49cba4ed28b0884c2ecf": {
      "model_module": "@jupyter-widgets/controls",
      "model_module_version": "1.5.0",
      "model_name": "DescriptionStyleModel",
      "state": {
       "description_width": ""
      }
     },
     "605dd6ff4ba84564bfc9de5db3081a60": {
      "model_module": "@jupyter-widgets/controls",
      "model_module_version": "1.5.0",
      "model_name": "VBoxModel",
      "state": {
       "children": [
        "IPY_MODEL_c884d48c01674abfaee3be0a446793d3",
        "IPY_MODEL_57ed2c7b44c2486fa420c0811110ed5e"
       ],
       "layout": "IPY_MODEL_ddcf2a8712e44bb8998246c043577940"
      }
     },
     "605f25783a0c4bb3b6880f26c185ce99": {
      "model_module": "@jupyter-widgets/controls",
      "model_module_version": "1.5.0",
      "model_name": "HBoxModel",
      "state": {
       "children": [
        "IPY_MODEL_282f0118aa2f4f158fbfd1ecfe149712",
        "IPY_MODEL_5d6d44d61a294ef09ccdf4532f30a494"
       ],
       "layout": "IPY_MODEL_d6de41e1ed98425c9b50e2107491e02f"
      }
     },
     "60665d832ac346e4a839849fdbbbcb4e": {
      "model_module": "@jupyter-widgets/controls",
      "model_module_version": "1.5.0",
      "model_name": "HTMLModel",
      "state": {
       "layout": "IPY_MODEL_8ee546c7362a4d12a7de73aaa75ade1b",
       "style": "IPY_MODEL_1f91d9fc3aae4beba0ee078b58f73171",
       "value": "Click this button to start the calculator"
      }
     },
     "60734b346c0541c681783809ffa01ef0": {
      "model_module": "@jupyter-widgets/controls",
      "model_module_version": "1.5.0",
      "model_name": "ButtonModel",
      "state": {
       "description": "Add rows",
       "layout": "IPY_MODEL_f3e314b99eef452cb3e0e8028081577d",
       "style": "IPY_MODEL_a3d145a284764831816decd97ecadb2d"
      }
     },
     "60780020aeec4cd6a5005588e958946c": {
      "model_module": "@jupyter-widgets/controls",
      "model_module_version": "1.5.0",
      "model_name": "DescriptionStyleModel",
      "state": {
       "description_width": ""
      }
     },
     "6086da3b55d84608b05e457bc868a20f": {
      "model_module": "@jupyter-widgets/base",
      "model_module_version": "1.2.0",
      "model_name": "LayoutModel",
      "state": {}
     },
     "60b3bc25b70344f2a234618103b1316c": {
      "model_module": "@jupyter-widgets/controls",
      "model_module_version": "1.5.0",
      "model_name": "HBoxModel",
      "state": {
       "children": [
        "IPY_MODEL_cf25bf7197a54e5295698ffbfa71fce3",
        "IPY_MODEL_97406c9b014244d992281efd858ca0f3"
       ],
       "layout": "IPY_MODEL_ff36274868d4421c849d869f57fbc891"
      }
     },
     "60d3132022a744a48d53e3fa153002b5": {
      "model_module": "@jupyter-widgets/controls",
      "model_module_version": "1.5.0",
      "model_name": "TextModel",
      "state": {
       "layout": "IPY_MODEL_5a0c24727aa941b48d996c0a1f0c2bf8",
       "style": "IPY_MODEL_b95d9576413f4b89b29d4a1d68b1f97a",
       "value": "2"
      }
     },
     "60d6b679cb9b4f3eb142f214b775077e": {
      "model_module": "@jupyter-widgets/controls",
      "model_module_version": "1.5.0",
      "model_name": "HTMLMathModel",
      "state": {
       "layout": "IPY_MODEL_83f6273ae35948f38c595c5b6879dedf",
       "style": "IPY_MODEL_5be6132763a34df091f8dc4aec43b799",
       "value": "The augmented matrix $(\\bf{A}|\\bf{B})$ will appear here."
      }
     },
     "60e64e346ad44c2a8a4ec036373bbf35": {
      "model_module": "@jupyter-widgets/controls",
      "model_module_version": "1.5.0",
      "model_name": "HBoxModel",
      "state": {
       "children": [
        "IPY_MODEL_d660457bd6a84766a546e0838cf6c866",
        "IPY_MODEL_a64bdc59c046403db06c62dd3ad95c08"
       ],
       "layout": "IPY_MODEL_41cad7d4afcd402ba73f8363863aaab8"
      }
     },
     "60e977fa3df3419a9a07292736996280": {
      "model_module": "@jupyter-widgets/controls",
      "model_module_version": "1.5.0",
      "model_name": "TextModel",
      "state": {
       "layout": "IPY_MODEL_e56e2cbba3324f1e9a6da6e53dfda065",
       "style": "IPY_MODEL_eeefb8331e13454eabb4f58381b053d7",
       "value": "2"
      }
     },
     "61169f54d60a4858a5ebad8f0afe97c2": {
      "model_module": "@jupyter-widgets/base",
      "model_module_version": "1.2.0",
      "model_name": "LayoutModel",
      "state": {
       "height": "300px",
       "justify_content": "center"
      }
     },
     "614eeb440c474e308e97660a23910362": {
      "model_module": "@jupyter-widgets/controls",
      "model_module_version": "1.5.0",
      "model_name": "DescriptionStyleModel",
      "state": {
       "description_width": ""
      }
     },
     "615c999d17af4440a729ff54b432ca1b": {
      "model_module": "@jupyter-widgets/controls",
      "model_module_version": "1.5.0",
      "model_name": "HTMLMathModel",
      "state": {
       "layout": "IPY_MODEL_1bc2b574a66042bf8b84f311bdcdfb3f",
       "style": "IPY_MODEL_b71df5c48a01436991d48fa144d15c52",
       "value": "Enter here the values of the matrix $\\bf{A}$"
      }
     },
     "61797528a6264a3083befe9fde875f97": {
      "model_module": "@jupyter-widgets/controls",
      "model_module_version": "1.5.0",
      "model_name": "DescriptionStyleModel",
      "state": {
       "description_width": ""
      }
     },
     "6187dc080e784ce1b06e472048647c3c": {
      "model_module": "@jupyter-widgets/controls",
      "model_module_version": "1.5.0",
      "model_name": "HBoxModel",
      "state": {
       "children": [
        "IPY_MODEL_d9b2bcc850874c34a15b4c2d4a6ce473",
        "IPY_MODEL_35377fcb8b304ec89d483579bcc13b5d",
        "IPY_MODEL_f2b6b852a94441abad5cca5793983c9f"
       ],
       "layout": "IPY_MODEL_d94d6bb532ae4043b66dd8bb46b08d9f"
      }
     },
     "619955ee74d54df08ee3f999e2f07575": {
      "model_module": "@jupyter-widgets/base",
      "model_module_version": "1.2.0",
      "model_name": "LayoutModel",
      "state": {}
     },
     "619b7d8c06f64c7e97681ca808b4d02f": {
      "model_module": "@jupyter-widgets/controls",
      "model_module_version": "1.5.0",
      "model_name": "DescriptionStyleModel",
      "state": {
       "description_width": ""
      }
     },
     "619efbd321c941ee9694e5e4065169f4": {
      "model_module": "@jupyter-widgets/controls",
      "model_module_version": "1.5.0",
      "model_name": "ButtonStyleModel",
      "state": {}
     },
     "61bb2d603f3b42dc88999c25922900d9": {
      "model_module": "@jupyter-widgets/controls",
      "model_module_version": "1.5.0",
      "model_name": "DescriptionStyleModel",
      "state": {
       "description_width": ""
      }
     },
     "61cee55513ca41eba56e87017e6c27d6": {
      "model_module": "@jupyter-widgets/controls",
      "model_module_version": "1.5.0",
      "model_name": "DropdownModel",
      "state": {
       "_options_labels": [
        "1",
        "2",
        "3"
       ],
       "description": "Add row",
       "index": 0,
       "layout": "IPY_MODEL_3b40a227975d46cbbe343fbc144a6127",
       "style": "IPY_MODEL_29a7171df78b4293b134864cd105c5fb"
      }
     },
     "62058eae981647c3b0128ccef6be377b": {
      "model_module": "@jupyter-widgets/controls",
      "model_module_version": "1.5.0",
      "model_name": "ButtonStyleModel",
      "state": {}
     },
     "620c2d87598f4c928d6573093a0380ab": {
      "model_module": "@jupyter-widgets/base",
      "model_module_version": "1.2.0",
      "model_name": "LayoutModel",
      "state": {}
     },
     "623921d0e69240bc9a94dc3830f517bd": {
      "model_module": "@jupyter-widgets/controls",
      "model_module_version": "1.5.0",
      "model_name": "TextModel",
      "state": {
       "layout": "IPY_MODEL_342fbdc31d2d406489b24d1349c22e03",
       "style": "IPY_MODEL_f3d5e08eff0c48a08a4209d2c72b688f",
       "value": "1"
      }
     },
     "62463a8c949e4261bc1a9eb6e05d340e": {
      "model_module": "@jupyter-widgets/controls",
      "model_module_version": "1.5.0",
      "model_name": "DescriptionStyleModel",
      "state": {
       "description_width": ""
      }
     },
     "624d7a532cc145a19781e66687d9c82b": {
      "model_module": "@jupyter-widgets/controls",
      "model_module_version": "1.5.0",
      "model_name": "TextModel",
      "state": {
       "layout": "IPY_MODEL_24e52a9da5f64680833f56257412e632",
       "style": "IPY_MODEL_49733811a47544a1bd1ad125242e48ac",
       "value": "5"
      }
     },
     "6251019a8edd4245be01f1afc6493cae": {
      "model_module": "@jupyter-widgets/controls",
      "model_module_version": "1.5.0",
      "model_name": "TextModel",
      "state": {
       "layout": "IPY_MODEL_4bcd3a11811347d3979a9396c2e71cd4",
       "style": "IPY_MODEL_55ceb80c9f104e7d962a5dd621a200ed",
       "value": "2"
      }
     },
     "625b7f57678a47679c960cae15ade347": {
      "model_module": "@jupyter-widgets/controls",
      "model_module_version": "1.5.0",
      "model_name": "VBoxModel",
      "state": {
       "children": [
        "IPY_MODEL_92ef7dc2886f4e1d883286b549948cd7",
        "IPY_MODEL_928af77fb9544b048ce9c57bab62ca78"
       ],
       "layout": "IPY_MODEL_1697ca7de2b14b059e57e92996030e9f"
      }
     },
     "626b6c7e80ce48829102d3b46128f013": {
      "model_module": "@jupyter-widgets/controls",
      "model_module_version": "1.5.0",
      "model_name": "DescriptionStyleModel",
      "state": {
       "description_width": ""
      }
     },
     "6299f44249684c518b0bd3e2fbc9c2b2": {
      "model_module": "@jupyter-widgets/controls",
      "model_module_version": "1.5.0",
      "model_name": "DescriptionStyleModel",
      "state": {
       "description_width": ""
      }
     },
     "62a520007c9f4e4ea9170b2f0101dc72": {
      "model_module": "@jupyter-widgets/base",
      "model_module_version": "1.2.0",
      "model_name": "LayoutModel",
      "state": {}
     },
     "62a7596d52df48a39855a5241ef5713c": {
      "model_module": "@jupyter-widgets/controls",
      "model_module_version": "1.5.0",
      "model_name": "HBoxModel",
      "state": {
       "children": [
        "IPY_MODEL_54cb811300384baba4e9c29c5c4afb79",
        "IPY_MODEL_205178a13b6046ff9e5be2cb3666b384"
       ],
       "layout": "IPY_MODEL_71a6b98b8a204eb58532a31faae2b607"
      }
     },
     "62c4ee51c74d4f78a3d13c1cacf03561": {
      "model_module": "@jupyter-widgets/controls",
      "model_module_version": "1.5.0",
      "model_name": "BoxModel",
      "state": {
       "children": [
        "IPY_MODEL_17d1c86131f44115a4f6956b6bf744fe",
        "IPY_MODEL_5d4a00169b2f42c68bfedb3687e4528f",
        "IPY_MODEL_33396439e67747aaa6d6baa3c98fd179",
        "IPY_MODEL_2b1a28b63fe54bb0aa2b38644bb53a42"
       ],
       "layout": "IPY_MODEL_96d19d494fb04199b01f18e291be8b75"
      }
     },
     "62ce867ab11f4b229f4110e5413d6c3b": {
      "model_module": "@jupyter-widgets/controls",
      "model_module_version": "1.5.0",
      "model_name": "HBoxModel",
      "state": {
       "children": [
        "IPY_MODEL_e70d1f095c4f4295accda93ae8a6e44c",
        "IPY_MODEL_ccfaaf24cec74f958464883a451675cc"
       ],
       "layout": "IPY_MODEL_ef6f44b97b0a4599a57baec850deb8ef"
      }
     },
     "62da834a27334571b3e7209ecc1ea65b": {
      "model_module": "@jupyter-widgets/controls",
      "model_module_version": "1.5.0",
      "model_name": "DescriptionStyleModel",
      "state": {
       "description_width": ""
      }
     },
     "62eed11e178f4b81ad1c48f29f334fdb": {
      "model_module": "@jupyter-widgets/base",
      "model_module_version": "1.2.0",
      "model_name": "LayoutModel",
      "state": {}
     },
     "62f8e520c42f4d939c839664f6e56ef5": {
      "model_module": "@jupyter-widgets/controls",
      "model_module_version": "1.5.0",
      "model_name": "TextModel",
      "state": {
       "layout": "IPY_MODEL_239bec109578490f9329cf0477e25967",
       "style": "IPY_MODEL_aa6a88b675cd41a68584497ba2d69ec7",
       "value": "7"
      }
     },
     "632ebfc8b3584134a1b1111366954a3f": {
      "model_module": "@jupyter-widgets/controls",
      "model_module_version": "1.5.0",
      "model_name": "DescriptionStyleModel",
      "state": {
       "description_width": ""
      }
     },
     "6346305f8fcd4dcfad79fb48120773f3": {
      "model_module": "@jupyter-widgets/base",
      "model_module_version": "1.2.0",
      "model_name": "LayoutModel",
      "state": {}
     },
     "637799a6bc404f5786c3fc4c24fa166f": {
      "model_module": "@jupyter-widgets/controls",
      "model_module_version": "1.5.0",
      "model_name": "DescriptionStyleModel",
      "state": {
       "description_width": ""
      }
     },
     "63831aa668c547daa7d69cdb79734294": {
      "model_module": "@jupyter-widgets/controls",
      "model_module_version": "1.5.0",
      "model_name": "DescriptionStyleModel",
      "state": {
       "description_width": ""
      }
     },
     "63888e459a374ce79460f073f5aefde9": {
      "model_module": "@jupyter-widgets/controls",
      "model_module_version": "1.5.0",
      "model_name": "TextModel",
      "state": {
       "layout": "IPY_MODEL_a6b672bf88094d8fa8327c74293c6a55",
       "style": "IPY_MODEL_55259ab1568b4f4db2a5b38a443d0108",
       "value": "1"
      }
     },
     "63f346ec2d4345668e541bb799af59dc": {
      "model_module": "@jupyter-widgets/controls",
      "model_module_version": "1.5.0",
      "model_name": "TextModel",
      "state": {
       "layout": "IPY_MODEL_bbd5dabd53c049fca9a7f5878437cad9",
       "style": "IPY_MODEL_855ac42593064416a598192d440772b4",
       "value": "-2"
      }
     },
     "640b0d9c6d284a918ba3f5e88b82621d": {
      "model_module": "@jupyter-widgets/base",
      "model_module_version": "1.2.0",
      "model_name": "LayoutModel",
      "state": {
       "flex_flow": "row wrap",
       "justify_content": "space-around"
      }
     },
     "642fa8999dd34e5aa518b1a4b2a4c1a9": {
      "model_module": "@jupyter-widgets/controls",
      "model_module_version": "1.5.0",
      "model_name": "TextModel",
      "state": {
       "layout": "IPY_MODEL_4bcd3a11811347d3979a9396c2e71cd4",
       "style": "IPY_MODEL_04db686b7a50431db5c0a215a93abaf4",
       "value": "5"
      }
     },
     "64414fce32e447f79d269328cbb21e46": {
      "model_module": "@jupyter-widgets/controls",
      "model_module_version": "1.5.0",
      "model_name": "DescriptionStyleModel",
      "state": {
       "description_width": ""
      }
     },
     "6452a364bbae4664a9675bd8365b157a": {
      "model_module": "@jupyter-widgets/controls",
      "model_module_version": "1.5.0",
      "model_name": "HBoxModel",
      "state": {
       "children": [
        "IPY_MODEL_430bcf396aa04007a171abce7823fe93",
        "IPY_MODEL_8414a43bf0ba47e9a3501592779794b9",
        "IPY_MODEL_8c910f49460843d48764a89f2b1692b0"
       ],
       "layout": "IPY_MODEL_9dfe574a4a8e4415b2620da2cc67ac24"
      }
     },
     "6491d7a88f0a43129db3865bf2c52bd3": {
      "model_module": "@jupyter-widgets/base",
      "model_module_version": "1.2.0",
      "model_name": "LayoutModel",
      "state": {
       "width": "90px"
      }
     },
     "64a276f07dc746b3ba04a9063d7af81f": {
      "model_module": "@jupyter-widgets/controls",
      "model_module_version": "1.5.0",
      "model_name": "HTMLModel",
      "state": {
       "layout": "IPY_MODEL_c9e81550eb244174925ab99a767dc9f6",
       "style": "IPY_MODEL_cd2ebe4f0fd0454cafbc4843565e385e",
       "value": "Click this button to start the calculator"
      }
     },
     "64a5281db1df4f10a52902ce276e0d7b": {
      "model_module": "@jupyter-widgets/controls",
      "model_module_version": "1.5.0",
      "model_name": "TextModel",
      "state": {
       "layout": "IPY_MODEL_1b785352cb1a4de487a9efaa222c7a96",
       "style": "IPY_MODEL_9f2cc071763c4f679babfb91574d512d",
       "value": "3"
      }
     },
     "64b9e8e9c9374bb18e45a3f962dfe685": {
      "model_module": "@jupyter-widgets/controls",
      "model_module_version": "1.5.0",
      "model_name": "DropdownModel",
      "state": {
       "_options_labels": [
        "1",
        "2",
        "3"
       ],
       "description": "Add row",
       "index": 0,
       "layout": "IPY_MODEL_6ac05eaae4fa444691b4f8b613b91115",
       "style": "IPY_MODEL_2db503a85439425791628965ca545608"
      }
     },
     "64c97bf5a3d14a6a923faa8149fc7952": {
      "model_module": "@jupyter-widgets/controls",
      "model_module_version": "1.5.0",
      "model_name": "HBoxModel",
      "state": {
       "children": [
        "IPY_MODEL_782185885e874282855669e9f6b5c968",
        "IPY_MODEL_451bfd2114104297a6bf0b0cc7cfb3a9",
        "IPY_MODEL_e5d0d54b798a40a5a02955c8e33526c0"
       ],
       "layout": "IPY_MODEL_43c03291296a42089d709604317ded46"
      }
     },
     "64dd000f36ad4246a69cfc6bd2eff2a8": {
      "model_module": "@jupyter-widgets/base",
      "model_module_version": "1.2.0",
      "model_name": "LayoutModel",
      "state": {
       "width": "150px"
      }
     },
     "64e3e56d08f44a4888573f2692cda4ca": {
      "model_module": "@jupyter-widgets/base",
      "model_module_version": "1.2.0",
      "model_name": "LayoutModel",
      "state": {}
     },
     "64fa9221ea8f44c48d030858eeda8fce": {
      "model_module": "@jupyter-widgets/base",
      "model_module_version": "1.2.0",
      "model_name": "LayoutModel",
      "state": {
       "width": "150px"
      }
     },
     "6512ca68235e4e67a26cd6ea02032e44": {
      "model_module": "@jupyter-widgets/base",
      "model_module_version": "1.2.0",
      "model_name": "LayoutModel",
      "state": {}
     },
     "653b2ea70b52429bafd64219b00041cd": {
      "model_module": "@jupyter-widgets/controls",
      "model_module_version": "1.5.0",
      "model_name": "TextModel",
      "state": {
       "layout": "IPY_MODEL_1b785352cb1a4de487a9efaa222c7a96",
       "style": "IPY_MODEL_78e76603f5fe44e8beae92dfb170ea42",
       "value": "-1"
      }
     },
     "655dbe5633494153bd29b1429a990ce0": {
      "model_module": "@jupyter-widgets/controls",
      "model_module_version": "1.5.0",
      "model_name": "ButtonModel",
      "state": {
       "description": "Start",
       "layout": "IPY_MODEL_4f10ab575d6042c0ba29f7b49c79a389",
       "style": "IPY_MODEL_a8cdc7bac58c4242907cec53e38332dd"
      }
     },
     "658cde154c9f488fb0be7c7c29c0af9c": {
      "model_module": "@jupyter-widgets/controls",
      "model_module_version": "1.5.0",
      "model_name": "DescriptionStyleModel",
      "state": {
       "description_width": ""
      }
     },
     "65abb230129546c4a8be04778678eec6": {
      "model_module": "@jupyter-widgets/controls",
      "model_module_version": "1.5.0",
      "model_name": "DescriptionStyleModel",
      "state": {
       "description_width": ""
      }
     },
     "65c402a2652c40dc9a6e1c673809c5ac": {
      "model_module": "@jupyter-widgets/controls",
      "model_module_version": "1.5.0",
      "model_name": "TextModel",
      "state": {
       "layout": "IPY_MODEL_97993fa24fac42e28605e8d366180168",
       "style": "IPY_MODEL_720bb0097968463c90c4280da92f4f7e",
       "value": "1"
      }
     },
     "65cb8db367e14667886b79ef97c800d1": {
      "model_module": "@jupyter-widgets/base",
      "model_module_version": "1.2.0",
      "model_name": "LayoutModel",
      "state": {
       "height": "35px",
       "width": "40px"
      }
     },
     "65d5b47270a54725933207ff9f0a1b04": {
      "model_module": "@jupyter-widgets/controls",
      "model_module_version": "1.5.0",
      "model_name": "ButtonStyleModel",
      "state": {}
     },
     "65dafe633b3d4f839124c071a21bba83": {
      "model_module": "@jupyter-widgets/controls",
      "model_module_version": "1.5.0",
      "model_name": "DropdownModel",
      "state": {
       "_options_labels": [
        "1",
        "2",
        "3"
       ],
       "description": "Swap row",
       "index": 0,
       "layout": "IPY_MODEL_042c3f295f0349f6a18d8354e3490e05",
       "style": "IPY_MODEL_74006deb0758483390f6be857857beae"
      }
     },
     "65fd8c1312da405981fdc57d1f69c603": {
      "model_module": "@jupyter-widgets/controls",
      "model_module_version": "1.5.0",
      "model_name": "DescriptionStyleModel",
      "state": {
       "description_width": ""
      }
     },
     "661bdb6ab57a465891b46b20715ddb78": {
      "model_module": "@jupyter-widgets/controls",
      "model_module_version": "1.5.0",
      "model_name": "TextModel",
      "state": {
       "layout": "IPY_MODEL_e168436c7ee0437a9552e5f0afc85715",
       "style": "IPY_MODEL_18de2520a3cb47638ef1788ceb33f2dd",
       "value": "4"
      }
     },
     "6623208b66e44f45abe794b71760d53c": {
      "model_module": "@jupyter-widgets/controls",
      "model_module_version": "1.5.0",
      "model_name": "TextModel",
      "state": {
       "layout": "IPY_MODEL_250753b918e0432c803452a019d33c5c",
       "style": "IPY_MODEL_d14ab43598aa4951b21c510595540277",
       "value": "9"
      }
     },
     "66238458e7304b90a18fb02c2342850b": {
      "model_module": "@jupyter-widgets/controls",
      "model_module_version": "1.5.0",
      "model_name": "DescriptionStyleModel",
      "state": {
       "description_width": ""
      }
     },
     "6637f3c5eaab427bab59fffd0f299f83": {
      "model_module": "@jupyter-widgets/controls",
      "model_module_version": "1.5.0",
      "model_name": "HTMLMathModel",
      "state": {
       "layout": "IPY_MODEL_410a8c62e21540afa6c312425d7240ab",
       "style": "IPY_MODEL_2b787eaa14064c8ab6aabd3ed94d26d0",
       "value": "The augmented matrix will appear here."
      }
     },
     "663a65cefdf44e659024cdb5ff96ad92": {
      "model_module": "@jupyter-widgets/base",
      "model_module_version": "1.2.0",
      "model_name": "LayoutModel",
      "state": {
       "width": "150px"
      }
     },
     "66575964dc914c028d2493954e6ba604": {
      "model_module": "@jupyter-widgets/controls",
      "model_module_version": "1.5.0",
      "model_name": "DescriptionStyleModel",
      "state": {
       "description_width": ""
      }
     },
     "666b4116b218482ca020d9517d76277f": {
      "model_module": "@jupyter-widgets/controls",
      "model_module_version": "1.5.0",
      "model_name": "TextModel",
      "state": {
       "layout": "IPY_MODEL_194d5881fb18447585798b14c51e301b",
       "style": "IPY_MODEL_058a930ab69a46fca51409202ea0de9f",
       "value": "2"
      }
     },
     "667d47ec12d64f8b923c67c222d301b8": {
      "model_module": "@jupyter-widgets/controls",
      "model_module_version": "1.5.0",
      "model_name": "VBoxModel",
      "state": {
       "children": [
        "IPY_MODEL_49d5eed653f5442dbf3291d66f246e2b",
        "IPY_MODEL_fc53b7dbd4a34d77836ff269c10f5f6b",
        "IPY_MODEL_492736fd03b948aabdf5437a244434c9"
       ],
       "layout": "IPY_MODEL_5320e0ea201946529b26ac7a2e965ae6"
      }
     },
     "667daf33f88743978d23a1f8bddc7c40": {
      "model_module": "@jupyter-widgets/controls",
      "model_module_version": "1.5.0",
      "model_name": "VBoxModel",
      "state": {
       "children": [
        "IPY_MODEL_65dafe633b3d4f839124c071a21bba83",
        "IPY_MODEL_2d4dbd51b0f8420fb735d1359a64c8bd",
        "IPY_MODEL_10bec6bf165345d6a2247806c20a044c"
       ],
       "layout": "IPY_MODEL_1f0db46fc0ba44d1bb224a68a5cdc603"
      }
     },
     "667ee9246b0740be9d21afb4ca7944b7": {
      "model_module": "@jupyter-widgets/controls",
      "model_module_version": "1.5.0",
      "model_name": "DescriptionStyleModel",
      "state": {
       "description_width": ""
      }
     },
     "66803d9f7cf84dfdb576e48f4e6a14f8": {
      "model_module": "@jupyter-widgets/controls",
      "model_module_version": "1.5.0",
      "model_name": "DescriptionStyleModel",
      "state": {
       "description_width": ""
      }
     },
     "6681f64315474cc3810d0a9c8a756e71": {
      "model_module": "@jupyter-widgets/controls",
      "model_module_version": "1.5.0",
      "model_name": "BoxModel",
      "state": {
       "children": [
        "IPY_MODEL_2aa17632797d492988b90a4f5fb6687b",
        "IPY_MODEL_a86266f5c9c74443b17d344cc32156e9",
        "IPY_MODEL_6dce6c59eda04251958dfaa6e7dd14c3",
        "IPY_MODEL_c32c0d2b78d346128ca7383b2d75b662"
       ],
       "layout": "IPY_MODEL_e4e0fb4e6b89454a86cbfcffd3fa5a35"
      }
     },
     "668b58442b1c49c391fb9ed5fbd6bd10": {
      "model_module": "@jupyter-widgets/base",
      "model_module_version": "1.2.0",
      "model_name": "LayoutModel",
      "state": {
       "width": "100px"
      }
     },
     "668d1b7ee9574d808ac10157acf3a793": {
      "model_module": "@jupyter-widgets/controls",
      "model_module_version": "1.5.0",
      "model_name": "DescriptionStyleModel",
      "state": {
       "description_width": ""
      }
     },
     "6694a139e1b14486a107472a65fe2979": {
      "model_module": "@jupyter-widgets/controls",
      "model_module_version": "1.5.0",
      "model_name": "DescriptionStyleModel",
      "state": {
       "description_width": ""
      }
     },
     "66a94674b0b94854a03ae0cc321b0e53": {
      "model_module": "@jupyter-widgets/base",
      "model_module_version": "1.2.0",
      "model_name": "LayoutModel",
      "state": {}
     },
     "66b24b1cb84f458eb2f3ded5f2a6676e": {
      "model_module": "@jupyter-widgets/controls",
      "model_module_version": "1.5.0",
      "model_name": "HBoxModel",
      "state": {
       "children": [
        "IPY_MODEL_b87caeeafffd4c5ab8f0d6ec665b8d4e",
        "IPY_MODEL_b1791b0879624e658357762d2369ac65"
       ],
       "layout": "IPY_MODEL_619955ee74d54df08ee3f999e2f07575"
      }
     },
     "66c03f69c26241279063153b1e533ad1": {
      "model_module": "@jupyter-widgets/controls",
      "model_module_version": "1.5.0",
      "model_name": "ButtonStyleModel",
      "state": {}
     },
     "67192b9a5077409d860c21c16101abd3": {
      "model_module": "@jupyter-widgets/controls",
      "model_module_version": "1.5.0",
      "model_name": "HBoxModel",
      "state": {
       "children": [
        "IPY_MODEL_b9631cba1d2d4fcaa434ecc2b2274074",
        "IPY_MODEL_0fb0c0ac4ae8447fbb17ff43596d9168"
       ],
       "layout": "IPY_MODEL_35c44a1b53024d65889815d417de8966"
      }
     },
     "6724c5a3c95547aa851050f5db7d2932": {
      "model_module": "@jupyter-widgets/base",
      "model_module_version": "1.2.0",
      "model_name": "LayoutModel",
      "state": {}
     },
     "6741c8e89e514040901e33f7e5f70e9b": {
      "model_module": "@jupyter-widgets/controls",
      "model_module_version": "1.5.0",
      "model_name": "DescriptionStyleModel",
      "state": {
       "description_width": ""
      }
     },
     "675276f03db74c9dbf15ae04dd05d784": {
      "model_module": "@jupyter-widgets/controls",
      "model_module_version": "1.5.0",
      "model_name": "ButtonStyleModel",
      "state": {}
     },
     "67739626fc1b4f4abf087f772914942b": {
      "model_module": "@jupyter-widgets/controls",
      "model_module_version": "1.5.0",
      "model_name": "TextModel",
      "state": {
       "layout": "IPY_MODEL_065f08ede0b647238ec761aa592646c7",
       "style": "IPY_MODEL_2b566c72742a44cf89334ee30a5f109d",
       "value": "2"
      }
     },
     "67c706fa4d764878be0ac3bfd92b8188": {
      "model_module": "@jupyter-widgets/base",
      "model_module_version": "1.2.0",
      "model_name": "LayoutModel",
      "state": {
       "grid_template_columns": "repeat(3, 45px)"
      }
     },
     "67f623a1221044139c2e0e17c17a6198": {
      "model_module": "@jupyter-widgets/base",
      "model_module_version": "1.2.0",
      "model_name": "LayoutModel",
      "state": {}
     },
     "6808831a1628406db2f3ac9a4fcc847b": {
      "model_module": "@jupyter-widgets/controls",
      "model_module_version": "1.5.0",
      "model_name": "DescriptionStyleModel",
      "state": {
       "description_width": ""
      }
     },
     "6809d34d186541ef91d5cfd024fc9782": {
      "model_module": "@jupyter-widgets/base",
      "model_module_version": "1.2.0",
      "model_name": "LayoutModel",
      "state": {}
     },
     "681474a7973d4b749115bd735dbdf0e1": {
      "model_module": "@jupyter-widgets/controls",
      "model_module_version": "1.5.0",
      "model_name": "HBoxModel",
      "state": {
       "children": [
        "IPY_MODEL_c4650cd8404440079c26dfee57285a6f",
        "IPY_MODEL_ec92452da74a4cdb8bec4d17ce338bd8",
        "IPY_MODEL_a0cec4f6bf814f67acd467b72cefcf28"
       ],
       "layout": "IPY_MODEL_344cef62ee194b1ea53d1db52a0557d8"
      }
     },
     "6821276e7696428e93f2319a3f402cfd": {
      "model_module": "@jupyter-widgets/controls",
      "model_module_version": "1.5.0",
      "model_name": "DescriptionStyleModel",
      "state": {
       "description_width": ""
      }
     },
     "68307ad28a194411b9815a24bf44e468": {
      "model_module": "@jupyter-widgets/controls",
      "model_module_version": "1.5.0",
      "model_name": "HBoxModel",
      "state": {
       "children": [
        "IPY_MODEL_0a125904f15d473ebd86c861e96b9ef0",
        "IPY_MODEL_150cbb1499e94340991f7e37dc9bcebd"
       ],
       "layout": "IPY_MODEL_8c392af24601481ea2818b3ccb2bb632"
      }
     },
     "684aef2eb6df4d20842dd25326b73f75": {
      "model_module": "@jupyter-widgets/controls",
      "model_module_version": "1.5.0",
      "model_name": "TextModel",
      "state": {
       "layout": "IPY_MODEL_e56e2cbba3324f1e9a6da6e53dfda065",
       "style": "IPY_MODEL_6808831a1628406db2f3ac9a4fcc847b",
       "value": "2"
      }
     },
     "68543e0a26c047a583cd3e54b1d5d474": {
      "model_module": "@jupyter-widgets/controls",
      "model_module_version": "1.5.0",
      "model_name": "HTMLMathModel",
      "state": {
       "layout": "IPY_MODEL_3da97c80fb1542a78e88a246bccf4378",
       "style": "IPY_MODEL_6c40de0f11994c3ea85d7103408499dc",
       "value": "The augmented matrix is:\n    $$\n    \\left[ \\begin{array}{rrr|r}\n        2 & -6 & 1 & 7\\\\\n        1 & 2 & -1 & -1\\\\\n        5 & 7 & -4 & 9\n    \\end{array} \\right]\n    $$"
      }
     },
     "68937de1ef6d46c6b4f0f79712e71607": {
      "model_module": "@jupyter-widgets/controls",
      "model_module_version": "1.5.0",
      "model_name": "DescriptionStyleModel",
      "state": {
       "description_width": ""
      }
     },
     "68a8d700b6fe4f259fde5354434f8288": {
      "model_module": "@jupyter-widgets/controls",
      "model_module_version": "1.5.0",
      "model_name": "DescriptionStyleModel",
      "state": {
       "description_width": ""
      }
     },
     "68e76f2b98124ec28d2448e80dc33863": {
      "model_module": "@jupyter-widgets/controls",
      "model_module_version": "1.5.0",
      "model_name": "TextModel",
      "state": {
       "layout": "IPY_MODEL_5a0c24727aa941b48d996c0a1f0c2bf8",
       "style": "IPY_MODEL_7c9d58bbb1d54bf28db322aedbf19166",
       "value": "9"
      }
     },
     "68e991d4aec64994a909b7cdb10becbc": {
      "model_module": "@jupyter-widgets/controls",
      "model_module_version": "1.5.0",
      "model_name": "DescriptionStyleModel",
      "state": {
       "description_width": ""
      }
     },
     "6906c8e64a804184b1933571548a0b24": {
      "model_module": "@jupyter-widgets/controls",
      "model_module_version": "1.5.0",
      "model_name": "TextModel",
      "state": {
       "layout": "IPY_MODEL_a6b672bf88094d8fa8327c74293c6a55",
       "style": "IPY_MODEL_c14d3d7f3cda4370b99048bcbeae02a1",
       "value": "1"
      }
     },
     "695aa9e8bd06472997a6a077fab96b45": {
      "model_module": "@jupyter-widgets/controls",
      "model_module_version": "1.5.0",
      "model_name": "DescriptionStyleModel",
      "state": {
       "description_width": ""
      }
     },
     "695f9257f4a9417a81a9b176fd2944ec": {
      "model_module": "@jupyter-widgets/base",
      "model_module_version": "1.2.0",
      "model_name": "LayoutModel",
      "state": {}
     },
     "69a4ad9322ab48488075006963c56c79": {
      "model_module": "@jupyter-widgets/controls",
      "model_module_version": "1.5.0",
      "model_name": "DropdownModel",
      "state": {
       "_options_labels": [
        "1",
        "2",
        "3"
       ],
       "description": "Add row",
       "index": 0,
       "layout": "IPY_MODEL_317b08822be5456f8d603e9422304319",
       "style": "IPY_MODEL_0ad6ee58a4fc4360af8f7552d0e693b8"
      }
     },
     "69b47da00a6049f0ac7a28b2b6b79d44": {
      "model_module": "@jupyter-widgets/controls",
      "model_module_version": "1.5.0",
      "model_name": "DescriptionStyleModel",
      "state": {
       "description_width": ""
      }
     },
     "69bc4e3c52194474998aa9265dfe56c9": {
      "model_module": "@jupyter-widgets/base",
      "model_module_version": "1.2.0",
      "model_name": "LayoutModel",
      "state": {
       "width": "100px"
      }
     },
     "69c30bf1d73744968eb59a68b40ef03c": {
      "model_module": "@jupyter-widgets/controls",
      "model_module_version": "1.5.0",
      "model_name": "DescriptionStyleModel",
      "state": {
       "description_width": ""
      }
     },
     "69f1d92c76194409b605d61578acc0f4": {
      "model_module": "@jupyter-widgets/controls",
      "model_module_version": "1.5.0",
      "model_name": "HTMLMathModel",
      "state": {
       "layout": "IPY_MODEL_26ae4d7d8ca84d0da16f6704116d6d81",
       "style": "IPY_MODEL_0bdbc075252144f6b39a71f35a9d2843",
       "value": "Enter here the values of the matrix $A$"
      }
     },
     "69f96826782144a587c54c0c600d2c89": {
      "model_module": "@jupyter-widgets/base",
      "model_module_version": "1.2.0",
      "model_name": "LayoutModel",
      "state": {}
     },
     "6a3afa979d134545b005ccbf971f9f2b": {
      "model_module": "@jupyter-widgets/controls",
      "model_module_version": "1.5.0",
      "model_name": "DescriptionStyleModel",
      "state": {
       "description_width": ""
      }
     },
     "6a9c29d715954664a3b6582a3fd99a05": {
      "model_module": "@jupyter-widgets/controls",
      "model_module_version": "1.5.0",
      "model_name": "DescriptionStyleModel",
      "state": {
       "description_width": ""
      }
     },
     "6aad26db731740b8b2ca4c39a85f2b19": {
      "model_module": "@jupyter-widgets/controls",
      "model_module_version": "1.5.0",
      "model_name": "DescriptionStyleModel",
      "state": {
       "description_width": ""
      }
     },
     "6ab06ae82e094e4fa4b0cfa4b50afb8b": {
      "model_module": "@jupyter-widgets/controls",
      "model_module_version": "1.5.0",
      "model_name": "DescriptionStyleModel",
      "state": {
       "description_width": ""
      }
     },
     "6ac05eaae4fa444691b4f8b613b91115": {
      "model_module": "@jupyter-widgets/base",
      "model_module_version": "1.2.0",
      "model_name": "LayoutModel",
      "state": {
       "width": "150px"
      }
     },
     "6ae136288848499885cc76c693627dbe": {
      "model_module": "@jupyter-widgets/base",
      "model_module_version": "1.2.0",
      "model_name": "LayoutModel",
      "state": {
       "width": "50px"
      }
     },
     "6afae485e1274ef0835afdd3b9aba54f": {
      "model_module": "@jupyter-widgets/base",
      "model_module_version": "1.2.0",
      "model_name": "LayoutModel",
      "state": {}
     },
     "6b38ab958ed1496fadaabbc9193d92c3": {
      "model_module": "@jupyter-widgets/controls",
      "model_module_version": "1.5.0",
      "model_name": "TextModel",
      "state": {
       "layout": "IPY_MODEL_383a1c5f5f0c418b84e9a50a2a78d25a",
       "style": "IPY_MODEL_dd70618c9df64b94b7a8027f438f7afe",
       "value": "-1"
      }
     },
     "6b3ebf123f1940d2a1985abc852ca74b": {
      "model_module": "@jupyter-widgets/controls",
      "model_module_version": "1.5.0",
      "model_name": "TextModel",
      "state": {
       "layout": "IPY_MODEL_109f6d462a004bdd9a95542348d778f8",
       "style": "IPY_MODEL_10f325c9cdd5412db11465529d3d02ae",
       "value": "-1"
      }
     },
     "6b4536305c2d48f1b369266664ccb5f5": {
      "model_module": "@jupyter-widgets/controls",
      "model_module_version": "1.5.0",
      "model_name": "DescriptionStyleModel",
      "state": {
       "description_width": ""
      }
     },
     "6b6770213d9c4ddf95c5668f5b408e98": {
      "model_module": "@jupyter-widgets/controls",
      "model_module_version": "1.5.0",
      "model_name": "HTMLMathModel",
      "state": {
       "layout": "IPY_MODEL_038d0b0c04a24d18bd246f469c06964b",
       "style": "IPY_MODEL_bb2009e38a6b46888f09f2cc35a8e029",
       "value": "Enter here the values of the constant matrix $\\bf{B}$"
      }
     },
     "6bac896b44fa446dbe2cc50dbf2ab508": {
      "model_module": "@jupyter-widgets/controls",
      "model_module_version": "1.5.0",
      "model_name": "TextModel",
      "state": {
       "layout": "IPY_MODEL_1ceaf9c9ac774ae985cae0c34af76539",
       "style": "IPY_MODEL_b1896b3f670d4d108835cab73cba5ad7",
       "value": "2"
      }
     },
     "6baf3bee1cb94db6b09fdd1d9ac8204a": {
      "model_module": "@jupyter-widgets/controls",
      "model_module_version": "1.5.0",
      "model_name": "BoxModel",
      "state": {
       "children": [
        "IPY_MODEL_07deda7b92004be580f11a9181992118",
        "IPY_MODEL_7e1231afd0b44733b3196aeb113f5d40",
        "IPY_MODEL_fb87d43024cf4c419c84494bc8b85274",
        "IPY_MODEL_b64f59a203764a89af5a45834e8cc53f"
       ],
       "layout": "IPY_MODEL_c99eb4f1a3c6468187e530814945f6d7"
      }
     },
     "6bb04487f30b47dba4d9b035c68a4a4b": {
      "model_module": "@jupyter-widgets/base",
      "model_module_version": "1.2.0",
      "model_name": "LayoutModel",
      "state": {}
     },
     "6bc78f3566e94334a6411d532a102623": {
      "model_module": "@jupyter-widgets/controls",
      "model_module_version": "1.5.0",
      "model_name": "HBoxModel",
      "state": {
       "children": [
        "IPY_MODEL_314bb94c9c014d978fada9500f616f6e",
        "IPY_MODEL_fce1fc3730bc4284a7cc410c1fc844cf"
       ],
       "layout": "IPY_MODEL_8cc29d3def0b4ec68e1bd8980c71b16d"
      }
     },
     "6bef60a7b3994bd2aa874e69f4dc84da": {
      "model_module": "@jupyter-widgets/controls",
      "model_module_version": "1.5.0",
      "model_name": "DescriptionStyleModel",
      "state": {
       "description_width": ""
      }
     },
     "6bf012f6d178429f9b9bf08fbc5bd06d": {
      "model_module": "@jupyter-widgets/controls",
      "model_module_version": "1.5.0",
      "model_name": "VBoxModel",
      "state": {
       "children": [
        "IPY_MODEL_30c3d49e2aaa48dfa4485199962941fd",
        "IPY_MODEL_98516fb8019d423eb195970e617bc353",
        "IPY_MODEL_1a3f7aab2c7543329557f2a3ecb54029"
       ],
       "layout": "IPY_MODEL_edcba7f84b834a7697b3280a6cea10fe"
      }
     },
     "6c00d498461f4887bc7b464ffa994ab5": {
      "model_module": "@jupyter-widgets/base",
      "model_module_version": "1.2.0",
      "model_name": "LayoutModel",
      "state": {
       "width": "90px"
      }
     },
     "6c0aa5b972f44fe29520ade6a2230789": {
      "model_module": "@jupyter-widgets/controls",
      "model_module_version": "1.5.0",
      "model_name": "TextModel",
      "state": {
       "layout": "IPY_MODEL_d7c4f11771b948fa9166cf5745d8d1c9",
       "style": "IPY_MODEL_f45189e426ca468291ea6ca17d2de317",
       "value": "1"
      }
     },
     "6c2eac0f207445529430b606f6fa2def": {
      "model_module": "@jupyter-widgets/controls",
      "model_module_version": "1.5.0",
      "model_name": "DescriptionStyleModel",
      "state": {
       "description_width": ""
      }
     },
     "6c40de0f11994c3ea85d7103408499dc": {
      "model_module": "@jupyter-widgets/controls",
      "model_module_version": "1.5.0",
      "model_name": "DescriptionStyleModel",
      "state": {
       "description_width": ""
      }
     },
     "6c965513aa7d4ea69d036cfd7a56bc44": {
      "model_module": "@jupyter-widgets/controls",
      "model_module_version": "1.5.0",
      "model_name": "VBoxModel",
      "state": {
       "children": [
        "IPY_MODEL_8c786dde77ec479b9ba92c21b5e3e706",
        "IPY_MODEL_3e465d29936b451486e351ad53355287",
        "IPY_MODEL_4634f28305954d10b4ad96623b089a73"
       ],
       "layout": "IPY_MODEL_6e34ffd49deb44c6a32756ccd7737025"
      }
     },
     "6ce1b377ec7649228be55f298142f7a6": {
      "model_module": "@jupyter-widgets/base",
      "model_module_version": "1.2.0",
      "model_name": "LayoutModel",
      "state": {}
     },
     "6cead23cb1e2410a884c15e46c3a6c4a": {
      "model_module": "@jupyter-widgets/controls",
      "model_module_version": "1.5.0",
      "model_name": "VBoxModel",
      "state": {
       "children": [
        "IPY_MODEL_fc9277aad2a94993aeb3b24a1b30dd70",
        "IPY_MODEL_77d0ae46dd374a17a3fe0222430db5ac",
        "IPY_MODEL_ef52107204e04f2a97f6b95ecc1151de"
       ],
       "layout": "IPY_MODEL_bc6ef12b830b4e6f86e10966e090a3d6"
      }
     },
     "6ceb3e39013c44b7abf9bb4802981df2": {
      "model_module": "@jupyter-widgets/controls",
      "model_module_version": "1.5.0",
      "model_name": "VBoxModel",
      "state": {
       "children": [
        "IPY_MODEL_b71a1c4e2bef4baba58bcdc3b74c23f9",
        "IPY_MODEL_955d3f6f69c849298521710ff0ff6624"
       ],
       "layout": "IPY_MODEL_f29ce3ba67d24dc8871830d5d9f4d4c7"
      }
     },
     "6cfc77168c6044229a39c5f4d1270653": {
      "model_module": "@jupyter-widgets/controls",
      "model_module_version": "1.5.0",
      "model_name": "TextModel",
      "state": {
       "layout": "IPY_MODEL_776389df997545fcab086c0233cb0ab0",
       "style": "IPY_MODEL_bd9e4e39c0f145f29ea1a5da6f08d394",
       "value": "2"
      }
     },
     "6d1cb18f312240e79106ede9f5bfb423": {
      "model_module": "@jupyter-widgets/controls",
      "model_module_version": "1.5.0",
      "model_name": "TextModel",
      "state": {
       "layout": "IPY_MODEL_5658a8e71503421ab525d14883c87170",
       "style": "IPY_MODEL_2ff03e909ccb4770823fd6afdc2ee7fe",
       "value": "3"
      }
     },
     "6d36fe9ac2a8401a8b726a75147126af": {
      "model_module": "@jupyter-widgets/controls",
      "model_module_version": "1.5.0",
      "model_name": "DescriptionStyleModel",
      "state": {
       "description_width": ""
      }
     },
     "6d3d48d014b14a948ade2c9c74e1edd9": {
      "model_module": "@jupyter-widgets/base",
      "model_module_version": "1.2.0",
      "model_name": "LayoutModel",
      "state": {
       "flex_flow": "row wrap",
       "justify_content": "space-around"
      }
     },
     "6d7a0617108443e89b2a41c52ed1f630": {
      "model_module": "@jupyter-widgets/base",
      "model_module_version": "1.2.0",
      "model_name": "LayoutModel",
      "state": {}
     },
     "6d942404b0954a4bafd7352ec4138701": {
      "model_module": "@jupyter-widgets/controls",
      "model_module_version": "1.5.0",
      "model_name": "TextModel",
      "state": {
       "layout": "IPY_MODEL_065f08ede0b647238ec761aa592646c7",
       "style": "IPY_MODEL_46b320499f5044bf99e9c3cf19d5228c",
       "value": "7"
      }
     },
     "6da59dd17a054d4a89f3c8898013d8e1": {
      "model_module": "@jupyter-widgets/controls",
      "model_module_version": "1.5.0",
      "model_name": "VBoxModel",
      "state": {
       "children": [
        "IPY_MODEL_60665d832ac346e4a839849fdbbbcb4e",
        "IPY_MODEL_655dbe5633494153bd29b1429a990ce0"
       ],
       "layout": "IPY_MODEL_6f92bd6c62e94381a97fb84cd385af96"
      }
     },
     "6dad8dc389924fa0baf9c3f001d7c8f0": {
      "model_module": "@jupyter-widgets/base",
      "model_module_version": "1.2.0",
      "model_name": "LayoutModel",
      "state": {
       "width": "100px"
      }
     },
     "6dce6c59eda04251958dfaa6e7dd14c3": {
      "model_module": "@jupyter-widgets/controls",
      "model_module_version": "1.5.0",
      "model_name": "VBoxModel",
      "state": {
       "children": [
        "IPY_MODEL_0f351ad227364b28b2aad46ee261b59d",
        "IPY_MODEL_7b2f2b8af5584ee3aa3cf9075f6a4461"
       ],
       "layout": "IPY_MODEL_0cabdc15793e4dd58e647f6542dd1b99"
      }
     },
     "6dd22e7d56754a168034fd760123ce0f": {
      "model_module": "@jupyter-widgets/base",
      "model_module_version": "1.2.0",
      "model_name": "LayoutModel",
      "state": {}
     },
     "6de695ddeb94439b93ee05bce6de5cc4": {
      "model_module": "@jupyter-widgets/controls",
      "model_module_version": "1.5.0",
      "model_name": "TextModel",
      "state": {
       "layout": "IPY_MODEL_c488e0656e78457c941ce778fefda70e",
       "style": "IPY_MODEL_c1dc14461d1c4807a77c092bd09fcfe9",
       "value": "1"
      }
     },
     "6e066c9211684a5481eadc996b6c51d1": {
      "model_module": "@jupyter-widgets/controls",
      "model_module_version": "1.5.0",
      "model_name": "VBoxModel",
      "state": {
       "children": [
        "IPY_MODEL_993857af94b74179938819e908dd6211",
        "IPY_MODEL_982eb6210cee45f383a61d447317ed55",
        "IPY_MODEL_f33bc32532f14d079a5b6a40df72ef50"
       ],
       "layout": "IPY_MODEL_ff0ae4c98157472997cc8f44af9833df"
      }
     },
     "6e08c9382fce40d092e6d5e0c371b7ca": {
      "model_module": "@jupyter-widgets/controls",
      "model_module_version": "1.5.0",
      "model_name": "DescriptionStyleModel",
      "state": {
       "description_width": ""
      }
     },
     "6e0b65549c6e4d06814e5dda69f48b8c": {
      "model_module": "@jupyter-widgets/controls",
      "model_module_version": "1.5.0",
      "model_name": "TextModel",
      "state": {
       "layout": "IPY_MODEL_47a60aa1cf3045f2a536b06edf49c5ea",
       "style": "IPY_MODEL_0b6872970b134a9794bf6713e01fffae",
       "value": "7"
      }
     },
     "6e1195a568ee4d0e89f2d6eb4ae88352": {
      "model_module": "@jupyter-widgets/controls",
      "model_module_version": "1.5.0",
      "model_name": "HBoxModel",
      "state": {
       "children": [
        "IPY_MODEL_567ca486007d4b28a2508a9f4a504dfc",
        "IPY_MODEL_60d3132022a744a48d53e3fa153002b5",
        "IPY_MODEL_08367ae695c645c0959ca3bc414774dd"
       ],
       "layout": "IPY_MODEL_4a587684b5ad4b7ab5b69fbd2b15d964"
      }
     },
     "6e1b2bf58c6f4b89b480971d1d61e787": {
      "model_module": "@jupyter-widgets/base",
      "model_module_version": "1.2.0",
      "model_name": "LayoutModel",
      "state": {
       "width": "120px"
      }
     },
     "6e288c97588e418aabfc1f3ef33b8c3e": {
      "model_module": "@jupyter-widgets/base",
      "model_module_version": "1.2.0",
      "model_name": "LayoutModel",
      "state": {}
     },
     "6e34ffd49deb44c6a32756ccd7737025": {
      "model_module": "@jupyter-widgets/base",
      "model_module_version": "1.2.0",
      "model_name": "LayoutModel",
      "state": {}
     },
     "6e3d12632e2e47a8aea7fda25d9a48c1": {
      "model_module": "@jupyter-widgets/base",
      "model_module_version": "1.2.0",
      "model_name": "LayoutModel",
      "state": {
       "width": "90px"
      }
     },
     "6e57efaac86c4b869c692c0dd290d8ca": {
      "model_module": "@jupyter-widgets/controls",
      "model_module_version": "1.5.0",
      "model_name": "VBoxModel",
      "state": {
       "children": [
        "IPY_MODEL_0f146334d20c40c5a3cf2f6f9e454979",
        "IPY_MODEL_a9473816ad6241cf80cf8ea226761390",
        "IPY_MODEL_eefc96d3ecc94c589d5246bde07b63c2"
       ],
       "layout": "IPY_MODEL_5e638243fe01472fb267b174de418599"
      }
     },
     "6e7363e8017c44daad8b9d164d011131": {
      "model_module": "@jupyter-widgets/base",
      "model_module_version": "1.2.0",
      "model_name": "LayoutModel",
      "state": {
       "justify_content": "space-between"
      }
     },
     "6e939921766a4f98b752e8b4d0b93b35": {
      "model_module": "@jupyter-widgets/base",
      "model_module_version": "1.2.0",
      "model_name": "LayoutModel",
      "state": {}
     },
     "6ee17cb2215e4a51b4ff1a9e949bd107": {
      "model_module": "@jupyter-widgets/controls",
      "model_module_version": "1.5.0",
      "model_name": "DescriptionStyleModel",
      "state": {
       "description_width": ""
      }
     },
     "6ef3bc0744a743f4a50b6c4fc67c3b22": {
      "model_module": "@jupyter-widgets/base",
      "model_module_version": "1.2.0",
      "model_name": "LayoutModel",
      "state": {}
     },
     "6f53c8db1469459ab58d7e362a68aa76": {
      "model_module": "@jupyter-widgets/controls",
      "model_module_version": "1.5.0",
      "model_name": "ButtonStyleModel",
      "state": {}
     },
     "6f73f61d7ee94767b9144f8de012ffbf": {
      "model_module": "@jupyter-widgets/controls",
      "model_module_version": "1.5.0",
      "model_name": "HBoxModel",
      "state": {
       "children": [
        "IPY_MODEL_f03167670854477988a957d116c254b7",
        "IPY_MODEL_4c690ee7921046299501021b0613d727",
        "IPY_MODEL_8056cfa700ac4315850f82e18bb8cf23"
       ],
       "layout": "IPY_MODEL_c5d636cea53d4916b99b4e03b8ac467a"
      }
     },
     "6f8c11ace14d4c928c5dd528b9b4f2eb": {
      "model_module": "@jupyter-widgets/controls",
      "model_module_version": "1.5.0",
      "model_name": "DescriptionStyleModel",
      "state": {
       "description_width": ""
      }
     },
     "6f8d5a25238b4dbcad0d3a0d27cfbc4c": {
      "model_module": "@jupyter-widgets/controls",
      "model_module_version": "1.5.0",
      "model_name": "TextModel",
      "state": {
       "layout": "IPY_MODEL_ff8f131091ed4bf49b858ed52bc5b3ea",
       "style": "IPY_MODEL_744b952698ec45f6a2a0d7f5033dcf47",
       "value": "1"
      }
     },
     "6f8efccceed649bba135fcfc82dd1b6c": {
      "model_module": "@jupyter-widgets/controls",
      "model_module_version": "1.5.0",
      "model_name": "DescriptionStyleModel",
      "state": {
       "description_width": ""
      }
     },
     "6f92bd6c62e94381a97fb84cd385af96": {
      "model_module": "@jupyter-widgets/base",
      "model_module_version": "1.2.0",
      "model_name": "LayoutModel",
      "state": {}
     },
     "6fa29062b24b4688bbee8bada14ecafc": {
      "model_module": "@jupyter-widgets/controls",
      "model_module_version": "1.5.0",
      "model_name": "DropdownModel",
      "state": {
       "_options_labels": [
        "1",
        "2",
        "3"
       ],
       "description": "to row",
       "index": 1,
       "layout": "IPY_MODEL_57329ae3c2564e17822ee7d6af24e192",
       "style": "IPY_MODEL_2eda68fa1c2244e9afdd548d36d43caa"
      }
     },
     "6fa439c452914a238dc5457b6840a955": {
      "model_module": "@jupyter-widgets/controls",
      "model_module_version": "1.5.0",
      "model_name": "DescriptionStyleModel",
      "state": {
       "description_width": ""
      }
     },
     "6faad59dbb884c9fbb17637883343600": {
      "model_module": "@jupyter-widgets/controls",
      "model_module_version": "1.5.0",
      "model_name": "DescriptionStyleModel",
      "state": {
       "description_width": ""
      }
     },
     "6fb9220283a747dc8505978644b87d42": {
      "model_module": "@jupyter-widgets/base",
      "model_module_version": "1.2.0",
      "model_name": "LayoutModel",
      "state": {}
     },
     "7003463d13444a27a885608e31a34ec8": {
      "model_module": "@jupyter-widgets/base",
      "model_module_version": "1.2.0",
      "model_name": "LayoutModel",
      "state": {
       "height": "35px",
       "width": "40px"
      }
     },
     "702fa46304c24628869bf2ae24697e6e": {
      "model_module": "@jupyter-widgets/controls",
      "model_module_version": "1.5.0",
      "model_name": "DescriptionStyleModel",
      "state": {
       "description_width": ""
      }
     },
     "704d5a26e8574765b67aa1f7b78dda36": {
      "model_module": "@jupyter-widgets/controls",
      "model_module_version": "1.5.0",
      "model_name": "HBoxModel",
      "state": {
       "children": [
        "IPY_MODEL_ddf32652dd6043ad9317968265fa17ef",
        "IPY_MODEL_6cead23cb1e2410a884c15e46c3a6c4a"
       ],
       "layout": "IPY_MODEL_07361b8935ce41ccb877278c622db033"
      }
     },
     "70b01c5704794019927ff06f0ffd65c8": {
      "model_module": "@jupyter-widgets/controls",
      "model_module_version": "1.5.0",
      "model_name": "VBoxModel",
      "state": {
       "children": [
        "IPY_MODEL_ffab03d87d05495b92a79147ec420936",
        "IPY_MODEL_d0a6210a464046b281c28128290ebd53"
       ],
       "layout": "IPY_MODEL_2dfb2f0815b74f8d8717a64975508a06"
      }
     },
     "70baa58455054321bb7d5e3aae8e8e95": {
      "model_module": "@jupyter-widgets/base",
      "model_module_version": "1.2.0",
      "model_name": "LayoutModel",
      "state": {
       "width": "90px"
      }
     },
     "70e9dc86d3c0445183ba9bd542784ffb": {
      "model_module": "@jupyter-widgets/controls",
      "model_module_version": "1.5.0",
      "model_name": "DescriptionStyleModel",
      "state": {
       "description_width": ""
      }
     },
     "7158a014734241aab5bc5d0df1b2d8af": {
      "model_module": "@jupyter-widgets/controls",
      "model_module_version": "1.5.0",
      "model_name": "TextModel",
      "state": {
       "layout": "IPY_MODEL_35e7cd5dc3a344c7867ddf08fc7e1130",
       "style": "IPY_MODEL_71c32b7655874675ac173f958d911040",
       "value": " 1"
      }
     },
     "715f240dd0f14ff59bff832dceb68bcc": {
      "model_module": "@jupyter-widgets/controls",
      "model_module_version": "1.5.0",
      "model_name": "ButtonStyleModel",
      "state": {}
     },
     "71743aa2d5db436faab7891939a31e47": {
      "model_module": "@jupyter-widgets/controls",
      "model_module_version": "1.5.0",
      "model_name": "ButtonStyleModel",
      "state": {}
     },
     "71767ad1af554999bd12c591aee9fb25": {
      "model_module": "@jupyter-widgets/base",
      "model_module_version": "1.2.0",
      "model_name": "LayoutModel",
      "state": {}
     },
     "7181974b028a4af5931d6b537d949cc8": {
      "model_module": "@jupyter-widgets/controls",
      "model_module_version": "1.5.0",
      "model_name": "ButtonStyleModel",
      "state": {}
     },
     "71963e313bbe4e8f820a65c9b2b6560a": {
      "model_module": "@jupyter-widgets/controls",
      "model_module_version": "1.5.0",
      "model_name": "DescriptionStyleModel",
      "state": {
       "description_width": ""
      }
     },
     "719f1bad21714d2995495fc75fda3093": {
      "model_module": "@jupyter-widgets/controls",
      "model_module_version": "1.5.0",
      "model_name": "DescriptionStyleModel",
      "state": {
       "description_width": ""
      }
     },
     "71a043bb35034ef8a8f68b15be0448e7": {
      "model_module": "@jupyter-widgets/controls",
      "model_module_version": "1.5.0",
      "model_name": "ButtonModel",
      "state": {
       "description": "Start",
       "layout": "IPY_MODEL_00bad89f10f84261b66ba902ec6dc01d",
       "style": "IPY_MODEL_28c6f44c68c24f47930ad943e1c212ae"
      }
     },
     "71a6b98b8a204eb58532a31faae2b607": {
      "model_module": "@jupyter-widgets/base",
      "model_module_version": "1.2.0",
      "model_name": "LayoutModel",
      "state": {
       "width": "250px"
      }
     },
     "71bbc4fbf92448f4ba65e77d5291c2f5": {
      "model_module": "@jupyter-widgets/controls",
      "model_module_version": "1.5.0",
      "model_name": "TextModel",
      "state": {
       "layout": "IPY_MODEL_e168436c7ee0437a9552e5f0afc85715",
       "style": "IPY_MODEL_adb994ec81f64308aa58425b50220e1d",
       "value": "1"
      }
     },
     "71bddc835ec74c7bbdcc813765c37303": {
      "model_module": "@jupyter-widgets/controls",
      "model_module_version": "1.5.0",
      "model_name": "TextModel",
      "state": {
       "layout": "IPY_MODEL_239bec109578490f9329cf0477e25967",
       "style": "IPY_MODEL_c02d8f1652314e80a48eff63e69d1ccc",
       "value": "2"
      }
     },
     "71bfeb31b4614f6b9b3e5d6446a2633a": {
      "model_module": "@jupyter-widgets/controls",
      "model_module_version": "1.5.0",
      "model_name": "VBoxModel",
      "state": {
       "children": [
        "IPY_MODEL_5c142e9d7a454d24845502de24978630",
        "IPY_MODEL_ebbe6eb9fc0c412f858526c5203e4341",
        "IPY_MODEL_d6d46a793f94488eaa9c5b1093f95423"
       ],
       "layout": "IPY_MODEL_8334d61ec78f47308471740fc6dddd16"
      }
     },
     "71c32b7655874675ac173f958d911040": {
      "model_module": "@jupyter-widgets/controls",
      "model_module_version": "1.5.0",
      "model_name": "DescriptionStyleModel",
      "state": {
       "description_width": ""
      }
     },
     "71c8db1a40c64665a03d33fedd74d377": {
      "model_module": "@jupyter-widgets/controls",
      "model_module_version": "1.5.0",
      "model_name": "DescriptionStyleModel",
      "state": {
       "description_width": ""
      }
     },
     "71ccaefef5204efb9847d70d0986be68": {
      "model_module": "@jupyter-widgets/base",
      "model_module_version": "1.2.0",
      "model_name": "LayoutModel",
      "state": {
       "width": "120px"
      }
     },
     "71e49b91f93641bb95d04796a1254019": {
      "model_module": "@jupyter-widgets/controls",
      "model_module_version": "1.5.0",
      "model_name": "DescriptionStyleModel",
      "state": {
       "description_width": ""
      }
     },
     "720bb0097968463c90c4280da92f4f7e": {
      "model_module": "@jupyter-widgets/controls",
      "model_module_version": "1.5.0",
      "model_name": "DescriptionStyleModel",
      "state": {
       "description_width": ""
      }
     },
     "721e905890494a43bb331fa1a6bf0902": {
      "model_module": "@jupyter-widgets/controls",
      "model_module_version": "1.5.0",
      "model_name": "HBoxModel",
      "state": {
       "children": [
        "IPY_MODEL_55414b87723a4ea9a40c59e3d27932f2",
        "IPY_MODEL_e5f45988dcc34d81b5ae6e54e536b7de",
        "IPY_MODEL_4f6fbde9d12749639703a02793d24d4a"
       ],
       "layout": "IPY_MODEL_4a8bc5a4a70a483fa1a659da0c219ad7"
      }
     },
     "722f88f6b7c2404f8d3a0500c5eefc45": {
      "model_module": "@jupyter-widgets/controls",
      "model_module_version": "1.5.0",
      "model_name": "GridBoxModel",
      "state": {
       "children": [
        "IPY_MODEL_bc544e98edbc4f6bb0068d83e5a677f2",
        "IPY_MODEL_06a8ce91817b4818a12394322f1e6548",
        "IPY_MODEL_ec7b59078b0e4c47b6a6bf3e9bbb4c7d",
        "IPY_MODEL_25da9847c7e64e2aba5e4aade0fa849d",
        "IPY_MODEL_6b38ab958ed1496fadaabbc9193d92c3",
        "IPY_MODEL_b1f5ef10d8b2416d8bd6fe660457fb33",
        "IPY_MODEL_1523a88304354d388b470b2d01418d15",
        "IPY_MODEL_abc2253e8e1a46aab55030412689505b",
        "IPY_MODEL_407fb7ac773e4783bd56a75b3bbe6cd9"
       ],
       "layout": "IPY_MODEL_4b289ce0dbdf412195d862da6bfcbf02"
      }
     },
     "7231a6e6a9504e24a63aba01f0b0a6ab": {
      "model_module": "@jupyter-widgets/controls",
      "model_module_version": "1.5.0",
      "model_name": "TextModel",
      "state": {
       "layout": "IPY_MODEL_24e52a9da5f64680833f56257412e632",
       "style": "IPY_MODEL_5dc953eb61c54fc1948b313fb3461dd9",
       "value": "-6"
      }
     },
     "7238e65219374dde85db1716a83173fb": {
      "model_module": "@jupyter-widgets/controls",
      "model_module_version": "1.5.0",
      "model_name": "TextModel",
      "state": {
       "description": "times",
       "layout": "IPY_MODEL_64fa9221ea8f44c48d030858eeda8fce",
       "style": "IPY_MODEL_9991906b4c984d73bb62878fc1749ca9",
       "value": "1"
      }
     },
     "7241a873056b49d3877814e2ac8b97c7": {
      "model_module": "@jupyter-widgets/controls",
      "model_module_version": "1.5.0",
      "model_name": "DescriptionStyleModel",
      "state": {
       "description_width": ""
      }
     },
     "72477a4a70de4dbebfdd0aeda8a30cee": {
      "model_module": "@jupyter-widgets/controls",
      "model_module_version": "1.5.0",
      "model_name": "DescriptionStyleModel",
      "state": {
       "description_width": ""
      }
     },
     "724c6a91d9094a5eb15278283f01e927": {
      "model_module": "@jupyter-widgets/controls",
      "model_module_version": "1.5.0",
      "model_name": "HBoxModel",
      "state": {
       "children": [
        "IPY_MODEL_e2680f5102274c879290f0fd80b7a2fd",
        "IPY_MODEL_3a67296a5abd44e79175cdb6b5095f4e"
       ],
       "layout": "IPY_MODEL_f2f1079d40fe4ce5b06799417f86036c"
      }
     },
     "7280a62ab27f4595969c2db2a3eeec5f": {
      "model_module": "@jupyter-widgets/controls",
      "model_module_version": "1.5.0",
      "model_name": "DescriptionStyleModel",
      "state": {
       "description_width": ""
      }
     },
     "7282b0e52c5745819d59ae398bdf74f1": {
      "model_module": "@jupyter-widgets/controls",
      "model_module_version": "1.5.0",
      "model_name": "DescriptionStyleModel",
      "state": {
       "description_width": ""
      }
     },
     "7283262a48814e33b27f1ffb36e24f39": {
      "model_module": "@jupyter-widgets/controls",
      "model_module_version": "1.5.0",
      "model_name": "VBoxModel",
      "state": {
       "children": [
        "IPY_MODEL_9f73eee50005417b96459dbd9eeba9ef",
        "IPY_MODEL_022ab57b395d41cfa17e02b5ccf1ca8a",
        "IPY_MODEL_8c72cee3e98f48b29999197a67d0eece"
       ],
       "layout": "IPY_MODEL_9e8ea9f08df8499eb80b895b04aa8775"
      }
     },
     "72842ae846ed4417b1962e61c0143613": {
      "model_module": "@jupyter-widgets/controls",
      "model_module_version": "1.5.0",
      "model_name": "TextModel",
      "state": {
       "layout": "IPY_MODEL_e9aebd82017d4a8ba76e24a5bdf8ca4f",
       "style": "IPY_MODEL_b03492d98c37424b9c745bf1b064f81e",
       "value": "1"
      }
     },
     "72985fd91f8b4d1097b58b276981043f": {
      "model_module": "@jupyter-widgets/controls",
      "model_module_version": "1.5.0",
      "model_name": "HTMLMathModel",
      "state": {
       "layout": "IPY_MODEL_b73a47a6949b4fbb9c457e60eb20b552",
       "style": "IPY_MODEL_62da834a27334571b3e7209ecc1ea65b",
       "value": "The augmented matrix will appear here."
      }
     },
     "72a1f73d91ae417aa35d57b509a570b2": {
      "model_module": "@jupyter-widgets/controls",
      "model_module_version": "1.5.0",
      "model_name": "TextModel",
      "state": {
       "layout": "IPY_MODEL_7003463d13444a27a885608e31a34ec8",
       "style": "IPY_MODEL_90b5af2c2e0d462c931a2eeb1feeec7a",
       "value": "3"
      }
     },
     "72bb58bd5b5647f9b0f2bbae6756c292": {
      "model_module": "@jupyter-widgets/controls",
      "model_module_version": "1.5.0",
      "model_name": "TextModel",
      "state": {
       "layout": "IPY_MODEL_dfe771ca3cb647c5ba599a113ad575df",
       "style": "IPY_MODEL_b83654dbe6154a2ea6780feff2354ae0",
       "value": "9"
      }
     },
     "72c920985ddd49e08088aaccc0e2b859": {
      "model_module": "@jupyter-widgets/controls",
      "model_module_version": "1.5.0",
      "model_name": "TextModel",
      "state": {
       "layout": "IPY_MODEL_342fbdc31d2d406489b24d1349c22e03",
       "style": "IPY_MODEL_9fecc969df554c3bb6fa46b79b26d15e",
       "value": "-1"
      }
     },
     "730489c14e4e4555afdf6dfcd79389e8": {
      "model_module": "@jupyter-widgets/controls",
      "model_module_version": "1.5.0",
      "model_name": "TextModel",
      "state": {
       "layout": "IPY_MODEL_65cb8db367e14667886b79ef97c800d1",
       "style": "IPY_MODEL_0be087d82ca1497b8f6f9d31cbb4239e",
       "value": "7"
      }
     },
     "7335ec8989094b4c8a2baa4226018349": {
      "model_module": "@jupyter-widgets/controls",
      "model_module_version": "1.5.0",
      "model_name": "DescriptionStyleModel",
      "state": {
       "description_width": ""
      }
     },
     "734f908248364b5eb88bed04a49f9677": {
      "model_module": "@jupyter-widgets/base",
      "model_module_version": "1.2.0",
      "model_name": "LayoutModel",
      "state": {
       "width": "100px"
      }
     },
     "7360273407e04c57ae2c648d0f434a90": {
      "model_module": "@jupyter-widgets/controls",
      "model_module_version": "1.5.0",
      "model_name": "DescriptionStyleModel",
      "state": {
       "description_width": ""
      }
     },
     "7362a71846a24c0f90bc62605b13b547": {
      "model_module": "@jupyter-widgets/controls",
      "model_module_version": "1.5.0",
      "model_name": "TextModel",
      "state": {
       "layout": "IPY_MODEL_342fbdc31d2d406489b24d1349c22e03",
       "style": "IPY_MODEL_dd77878f5e5c4cbfb022fe1ae57e409f",
       "value": "-1"
      }
     },
     "73cafa62da9743a3817cdc9ca4a68f4d": {
      "model_module": "@jupyter-widgets/controls",
      "model_module_version": "1.5.0",
      "model_name": "TextModel",
      "state": {
       "layout": "IPY_MODEL_342fbdc31d2d406489b24d1349c22e03",
       "style": "IPY_MODEL_3843f1d8a0bf41a695d14e23f35e970f",
       "value": "2"
      }
     },
     "73e278548575430ba34d148a792d1687": {
      "model_module": "@jupyter-widgets/controls",
      "model_module_version": "1.5.0",
      "model_name": "HTMLMathModel",
      "state": {
       "layout": "IPY_MODEL_b2ffaba8b497439a942ad036187b964b",
       "style": "IPY_MODEL_c64059aee24b495dbdfe2d17c3363fd4",
       "value": "Enter here the values of the right hand side vector $b$"
      }
     },
     "74006deb0758483390f6be857857beae": {
      "model_module": "@jupyter-widgets/controls",
      "model_module_version": "1.5.0",
      "model_name": "DescriptionStyleModel",
      "state": {
       "description_width": ""
      }
     },
     "742f75ad3c1e4a579b6bdd20bb4ad6d5": {
      "model_module": "@jupyter-widgets/base",
      "model_module_version": "1.2.0",
      "model_name": "LayoutModel",
      "state": {
       "justify_content": "center"
      }
     },
     "744b952698ec45f6a2a0d7f5033dcf47": {
      "model_module": "@jupyter-widgets/controls",
      "model_module_version": "1.5.0",
      "model_name": "DescriptionStyleModel",
      "state": {
       "description_width": ""
      }
     },
     "746fa81095204260a1da7db8ae4c2924": {
      "model_module": "@jupyter-widgets/controls",
      "model_module_version": "1.5.0",
      "model_name": "TextModel",
      "state": {
       "layout": "IPY_MODEL_35e7cd5dc3a344c7867ddf08fc7e1130",
       "style": "IPY_MODEL_1b67125bc30f4371b0004013cb1f07b2",
       "value": "-4"
      }
     },
     "74954d716d34439c935140861ed8a0d0": {
      "model_module": "@jupyter-widgets/controls",
      "model_module_version": "1.5.0",
      "model_name": "VBoxModel",
      "state": {
       "children": [
        "IPY_MODEL_e70a48165a91416f948aea37d95809ee",
        "IPY_MODEL_33a3115d3e9748249560c9c00eea641b",
        "IPY_MODEL_a6b839a96a9b4b5a84d86ced8e82bc11"
       ],
       "layout": "IPY_MODEL_7539534e4fd242a5a3f7b94aa3bfd8ac"
      }
     },
     "749f6875a42d43818eacf729788cd425": {
      "model_module": "@jupyter-widgets/base",
      "model_module_version": "1.2.0",
      "model_name": "LayoutModel",
      "state": {}
     },
     "749f71f0184b4aa486dc319ec00855c6": {
      "model_module": "@jupyter-widgets/controls",
      "model_module_version": "1.5.0",
      "model_name": "HBoxModel",
      "state": {
       "children": [
        "IPY_MODEL_7dde712f1739459c9ecdf3e5cd144f3f",
        "IPY_MODEL_35224dec32d84903b83dfca5d5887968",
        "IPY_MODEL_c814b1c43f274816a7a1ddfb9148137c"
       ],
       "layout": "IPY_MODEL_fa6ffe7609f44c86a845c42560697ecb"
      }
     },
     "74aed2adacf74a3ba1254ec7f5ddb8c6": {
      "model_module": "@jupyter-widgets/base",
      "model_module_version": "1.2.0",
      "model_name": "LayoutModel",
      "state": {
       "width": "120px"
      }
     },
     "74cd3546676f4b52998b873b9481d48e": {
      "model_module": "@jupyter-widgets/base",
      "model_module_version": "1.2.0",
      "model_name": "LayoutModel",
      "state": {}
     },
     "74d5714661a846d89c00c0e7855a3b28": {
      "model_module": "@jupyter-widgets/controls",
      "model_module_version": "1.5.0",
      "model_name": "BoxModel",
      "state": {
       "children": [
        "IPY_MODEL_185ca62ad59b4fb1898de88daadfbf19",
        "IPY_MODEL_5eab7ff98c634aeba0718607ae240033",
        "IPY_MODEL_7b8a14a2e4234bcf8a7209938b68c57e",
        "IPY_MODEL_e8f8d488ac1948b5b90177cb2b455b1f"
       ],
       "layout": "IPY_MODEL_3686333061284c9c89eeeaf180d12c0b"
      }
     },
     "74d5e40220c543e38afd705a4f81476e": {
      "model_module": "@jupyter-widgets/controls",
      "model_module_version": "1.5.0",
      "model_name": "ButtonModel",
      "state": {
       "description": "Multiply row",
       "layout": "IPY_MODEL_6512ca68235e4e67a26cd6ea02032e44",
       "style": "IPY_MODEL_41792316ecc5436aa4d748a1fcbe0eae"
      }
     },
     "7539534e4fd242a5a3f7b94aa3bfd8ac": {
      "model_module": "@jupyter-widgets/base",
      "model_module_version": "1.2.0",
      "model_name": "LayoutModel",
      "state": {
       "border": "solid"
      }
     },
     "7540fd173e8f4d2a946df908e7e2e407": {
      "model_module": "@jupyter-widgets/controls",
      "model_module_version": "1.5.0",
      "model_name": "ButtonModel",
      "state": {
       "description": "Add rows",
       "layout": "IPY_MODEL_cd5beba8553b407dae8e5387d50df1f3",
       "style": "IPY_MODEL_6f53c8db1469459ab58d7e362a68aa76"
      }
     },
     "7549926702ea461ca3ea9a372b0bce09": {
      "model_module": "@jupyter-widgets/controls",
      "model_module_version": "1.5.0",
      "model_name": "TextModel",
      "state": {
       "layout": "IPY_MODEL_e9aebd82017d4a8ba76e24a5bdf8ca4f",
       "style": "IPY_MODEL_af8f90233fe64101abdeb0546c0c8630",
       "value": "3"
      }
     },
     "75598fbbf3654bee81a9f77b05103a98": {
      "model_module": "@jupyter-widgets/controls",
      "model_module_version": "1.5.0",
      "model_name": "ButtonStyleModel",
      "state": {}
     },
     "75850048d7224e19b0814d9b61ad602a": {
      "model_module": "@jupyter-widgets/controls",
      "model_module_version": "1.5.0",
      "model_name": "DescriptionStyleModel",
      "state": {
       "description_width": ""
      }
     },
     "759a4cdb2c014bed8ace68c7fd0debfc": {
      "model_module": "@jupyter-widgets/controls",
      "model_module_version": "1.5.0",
      "model_name": "ButtonStyleModel",
      "state": {}
     },
     "75a6736d1b554771af5fd5b22a225cd7": {
      "model_module": "@jupyter-widgets/controls",
      "model_module_version": "1.5.0",
      "model_name": "DescriptionStyleModel",
      "state": {
       "description_width": ""
      }
     },
     "75a8e3e75fce4f7fb2d20f102a46ef55": {
      "model_module": "@jupyter-widgets/controls",
      "model_module_version": "1.5.0",
      "model_name": "TextModel",
      "state": {
       "layout": "IPY_MODEL_ff8f131091ed4bf49b858ed52bc5b3ea",
       "style": "IPY_MODEL_04893e74f4054d4f9bcd50d44748d01a",
       "value": "7"
      }
     },
     "75d46b3fba5b4e2d91edbac8f35b0dd3": {
      "model_module": "@jupyter-widgets/controls",
      "model_module_version": "1.5.0",
      "model_name": "HBoxModel",
      "state": {
       "children": [
        "IPY_MODEL_02ab505bdb774066b289b53d7f5cc40c",
        "IPY_MODEL_b88433ee3f2e4fad97a6181a28efa23f",
        "IPY_MODEL_403f6b50c01b425984516eb0d23793c2"
       ],
       "layout": "IPY_MODEL_ce0b8e347f0e4c6f95b244b8743697fe"
      }
     },
     "75d53e8d60304c599bec5db36d1d566e": {
      "model_module": "@jupyter-widgets/controls",
      "model_module_version": "1.5.0",
      "model_name": "DescriptionStyleModel",
      "state": {
       "description_width": ""
      }
     },
     "761265acf45546c38b009da957086831": {
      "model_module": "@jupyter-widgets/base",
      "model_module_version": "1.2.0",
      "model_name": "LayoutModel",
      "state": {
       "width": "90px"
      }
     },
     "764b8b0cedbd4c79a3ddca781dd65111": {
      "model_module": "@jupyter-widgets/controls",
      "model_module_version": "1.5.0",
      "model_name": "HTMLMathModel",
      "state": {
       "layout": "IPY_MODEL_1d2cf0dd430042028208abc8c7ac3880",
       "style": "IPY_MODEL_0c7ad4d71e4c46d8be409f7d817a62e9",
       "value": "Enter here the values of the right hand side vector $b$"
      }
     },
     "764faca5f2464a95a3b07b0081d46e68": {
      "model_module": "@jupyter-widgets/controls",
      "model_module_version": "1.5.0",
      "model_name": "TextModel",
      "state": {
       "layout": "IPY_MODEL_dfe771ca3cb647c5ba599a113ad575df",
       "style": "IPY_MODEL_ad582b963daa4691af6d82cc03f90c98",
       "value": "-4"
      }
     },
     "767c8c97575d40f59091c00e401cc95c": {
      "model_module": "@jupyter-widgets/controls",
      "model_module_version": "1.5.0",
      "model_name": "TextModel",
      "state": {
       "layout": "IPY_MODEL_e56e2cbba3324f1e9a6da6e53dfda065",
       "style": "IPY_MODEL_66803d9f7cf84dfdb576e48f4e6a14f8",
       "value": "2"
      }
     },
     "7682743347c24a3d881f388e55fbe600": {
      "model_module": "@jupyter-widgets/controls",
      "model_module_version": "1.5.0",
      "model_name": "DescriptionStyleModel",
      "state": {
       "description_width": ""
      }
     },
     "76c7b549bdcd4fff95d7eb17223b6812": {
      "model_module": "@jupyter-widgets/controls",
      "model_module_version": "1.5.0",
      "model_name": "HTMLModel",
      "state": {
       "layout": "IPY_MODEL_c0f03013f8974e06b203201dad818da6",
       "style": "IPY_MODEL_180cd0a7f14c4ce0aed9cf0ab1204918",
       "value": "Click the button below to start the calculator"
      }
     },
     "76c8b8d59e96486391b9bb003baa3519": {
      "model_module": "@jupyter-widgets/base",
      "model_module_version": "1.2.0",
      "model_name": "LayoutModel",
      "state": {}
     },
     "76ecfc4ac2034aa08c1e30f0a5f02511": {
      "model_module": "@jupyter-widgets/controls",
      "model_module_version": "1.5.0",
      "model_name": "BoxModel",
      "state": {
       "children": [
        "IPY_MODEL_704d5a26e8574765b67aa1f7b78dda36",
        "IPY_MODEL_2b344d9ebcf040338f89b9e60afaa0f4",
        "IPY_MODEL_35698706a0c74b948d293f208ebfbf4d",
        "IPY_MODEL_ff8c910b2ced41dc92b40fa0b1cd83f1"
       ],
       "layout": "IPY_MODEL_c3afe053aa96462786353332ad2f9241"
      }
     },
     "76f2861cae944245a92eb58aa11ab809": {
      "model_module": "@jupyter-widgets/controls",
      "model_module_version": "1.5.0",
      "model_name": "DescriptionStyleModel",
      "state": {
       "description_width": ""
      }
     },
     "76f2ebc86de64662b256384098ea0f74": {
      "model_module": "@jupyter-widgets/base",
      "model_module_version": "1.2.0",
      "model_name": "LayoutModel",
      "state": {}
     },
     "76f306559b394bfab8b316a4c4d0a41d": {
      "model_module": "@jupyter-widgets/controls",
      "model_module_version": "1.5.0",
      "model_name": "TextModel",
      "state": {
       "layout": "IPY_MODEL_47a60aa1cf3045f2a536b06edf49c5ea",
       "style": "IPY_MODEL_818c4696cd4d47b29398f73a3d75ac9e",
       "value": "7"
      }
     },
     "76f7c68c3af84ef19ecb054b594cdd06": {
      "model_module": "@jupyter-widgets/controls",
      "model_module_version": "1.5.0",
      "model_name": "HTMLMathModel",
      "state": {
       "layout": "IPY_MODEL_5d5fd9a4a15d4c528359baa4ea4ff759",
       "style": "IPY_MODEL_d714a3a9500d4c71adc6b7046679cd84",
       "value": "Enter here the values of the constant matrix $\\bf{B}$"
      }
     },
     "76fc43357db64550a44cc4c72a5a5a1c": {
      "model_module": "@jupyter-widgets/base",
      "model_module_version": "1.2.0",
      "model_name": "LayoutModel",
      "state": {
       "width": "150px"
      }
     },
     "77128ab465da4e8eb25b5d9e3683b1c8": {
      "model_module": "@jupyter-widgets/controls",
      "model_module_version": "1.5.0",
      "model_name": "HTMLMathModel",
      "state": {
       "layout": "IPY_MODEL_69bc4e3c52194474998aa9265dfe56c9",
       "style": "IPY_MODEL_25eb5f3912014d3e8dca02d0788b2af3",
       "value": "Enter here the values of the right hand side vector $b$"
      }
     },
     "77262e2420b84139be84713590236071": {
      "model_module": "@jupyter-widgets/controls",
      "model_module_version": "1.5.0",
      "model_name": "TextModel",
      "state": {
       "layout": "IPY_MODEL_7a607c89a00143a7a0808c95689bf41a",
       "style": "IPY_MODEL_088627021db34591b402142767cc991b",
       "value": "-4"
      }
     },
     "772a4dacf67f48cead87599d74a548b7": {
      "model_module": "@jupyter-widgets/controls",
      "model_module_version": "1.5.0",
      "model_name": "DescriptionStyleModel",
      "state": {
       "description_width": ""
      }
     },
     "776389df997545fcab086c0233cb0ab0": {
      "model_module": "@jupyter-widgets/base",
      "model_module_version": "1.2.0",
      "model_name": "LayoutModel",
      "state": {
       "height": "35px",
       "width": "30px"
      }
     },
     "7766674660134c608a1710e13b0e88a6": {
      "model_module": "@jupyter-widgets/base",
      "model_module_version": "1.2.0",
      "model_name": "LayoutModel",
      "state": {}
     },
     "777e2d395bfa4c6da9d4b7a53cfad041": {
      "model_module": "@jupyter-widgets/controls",
      "model_module_version": "1.5.0",
      "model_name": "TextModel",
      "state": {
       "layout": "IPY_MODEL_e56e2cbba3324f1e9a6da6e53dfda065",
       "style": "IPY_MODEL_f5fd07a008d6498dabe37fd510233c5f",
       "value": "7"
      }
     },
     "7799ecd528e44434ad3e5b689ade743d": {
      "model_module": "@jupyter-widgets/base",
      "model_module_version": "1.2.0",
      "model_name": "LayoutModel",
      "state": {
       "width": "150px"
      }
     },
     "77d0ae46dd374a17a3fe0222430db5ac": {
      "model_module": "@jupyter-widgets/controls",
      "model_module_version": "1.5.0",
      "model_name": "HBoxModel",
      "state": {
       "children": [
        "IPY_MODEL_e122dcce1911475788c82adf7f1f53d5",
        "IPY_MODEL_4f8dfc5fbcb449df8976d17f4caecaac",
        "IPY_MODEL_a7fd2cd6dcb2492d9f206d86d530c26a"
       ],
       "layout": "IPY_MODEL_f98a9a9016f34eec99b078d6c738146f"
      }
     },
     "782185885e874282855669e9f6b5c968": {
      "model_module": "@jupyter-widgets/controls",
      "model_module_version": "1.5.0",
      "model_name": "TextModel",
      "state": {
       "layout": "IPY_MODEL_1ceaf9c9ac774ae985cae0c34af76539",
       "style": "IPY_MODEL_d59d73dbbf0247e09209869aefcfed17",
       "value": "2"
      }
     },
     "78265e98fce34cca99783d6035995310": {
      "model_module": "@jupyter-widgets/base",
      "model_module_version": "1.2.0",
      "model_name": "LayoutModel",
      "state": {}
     },
     "782d6ea60dec469a863bbd246a6b2060": {
      "model_module": "@jupyter-widgets/base",
      "model_module_version": "1.2.0",
      "model_name": "LayoutModel",
      "state": {}
     },
     "78950406acab47cfbbb52e78a7731cad": {
      "model_module": "@jupyter-widgets/base",
      "model_module_version": "1.2.0",
      "model_name": "LayoutModel",
      "state": {
       "width": "90px"
      }
     },
     "78b46fdc4a1d46c1a133a310d723dc8f": {
      "model_module": "@jupyter-widgets/base",
      "model_module_version": "1.2.0",
      "model_name": "LayoutModel",
      "state": {}
     },
     "78d83c26d40d4ba38b91634d573fdc07": {
      "model_module": "@jupyter-widgets/base",
      "model_module_version": "1.2.0",
      "model_name": "LayoutModel",
      "state": {}
     },
     "78e76603f5fe44e8beae92dfb170ea42": {
      "model_module": "@jupyter-widgets/controls",
      "model_module_version": "1.5.0",
      "model_name": "DescriptionStyleModel",
      "state": {
       "description_width": ""
      }
     },
     "78ef9a42c5254c6f9df62864fd4345a9": {
      "model_module": "@jupyter-widgets/controls",
      "model_module_version": "1.5.0",
      "model_name": "HTMLMathModel",
      "state": {
       "layout": "IPY_MODEL_bfc58a432ec6425abf68bf907943b5b6",
       "style": "IPY_MODEL_dcb07c21a07b40d4ba38f1cd6d7252d8",
       "value": "The augmented matrix is:\n \n    $$\n    \\left[ \\begin{array}{rrr|r}\n        2/3 & -6 & 1 & 7\\\\\n        1 & 2 & -1 & -1\\\\\n        5 & 7 & -4 & 9\n    \\end{array} \\right]\n    $$\n    "
      }
     },
     "7904caf4ba6a48028da2e9afd26c9973": {
      "model_module": "@jupyter-widgets/controls",
      "model_module_version": "1.5.0",
      "model_name": "DescriptionStyleModel",
      "state": {
       "description_width": ""
      }
     },
     "7920598ae2de47498f360537ce342b43": {
      "model_module": "@jupyter-widgets/controls",
      "model_module_version": "1.5.0",
      "model_name": "TextModel",
      "state": {
       "description": "times",
       "layout": "IPY_MODEL_835189416fd84fc39afd74e118b75489",
       "style": "IPY_MODEL_141df16611cd4e46bbad8c4ce580da96",
       "value": "1"
      }
     },
     "792ca8dcec6d4416ab1ee7481ad1d3bc": {
      "model_module": "@jupyter-widgets/base",
      "model_module_version": "1.2.0",
      "model_name": "LayoutModel",
      "state": {
       "width": "50px"
      }
     },
     "792dbfe75e0d468a8a256fdc441fe671": {
      "model_module": "@jupyter-widgets/controls",
      "model_module_version": "1.5.0",
      "model_name": "HBoxModel",
      "state": {
       "children": [
        "IPY_MODEL_df30a71038e64f2fa1d6db5da5249ef5",
        "IPY_MODEL_67739626fc1b4f4abf087f772914942b",
        "IPY_MODEL_3a5296d89eed4978ac29bda34dbab445"
       ],
       "layout": "IPY_MODEL_4d18bda7b5ab4d2db460dedd00e47709"
      }
     },
     "793660552c22429a8dcefad7bcb0bbbd": {
      "model_module": "@jupyter-widgets/base",
      "model_module_version": "1.2.0",
      "model_name": "LayoutModel",
      "state": {}
     },
     "793a43898f3a4c3fa6c774842378f8b5": {
      "model_module": "@jupyter-widgets/controls",
      "model_module_version": "1.5.0",
      "model_name": "VBoxModel",
      "state": {
       "children": [
        "IPY_MODEL_5afbc4573934497a8d0924d46bfb39fe",
        "IPY_MODEL_bc0698a7827a44d98ac51bdcc4b61e70",
        "IPY_MODEL_2fb823c64dc34ceb91d467ae2b3ed534"
       ],
       "layout": "IPY_MODEL_41a3c80778db49f69b3ad5214a553176"
      }
     },
     "7947974f472448cab52d5367e18d4d16": {
      "model_module": "@jupyter-widgets/controls",
      "model_module_version": "1.5.0",
      "model_name": "DescriptionStyleModel",
      "state": {
       "description_width": ""
      }
     },
     "79601fac43644dfe8498d7c9159ac60e": {
      "model_module": "@jupyter-widgets/controls",
      "model_module_version": "1.5.0",
      "model_name": "DescriptionStyleModel",
      "state": {
       "description_width": ""
      }
     },
     "7966899af45742a4881fe0ef229f5307": {
      "model_module": "@jupyter-widgets/controls",
      "model_module_version": "1.5.0",
      "model_name": "VBoxModel",
      "state": {
       "children": [
        "IPY_MODEL_dd889ed3585e4ed09a439349d6264314",
        "IPY_MODEL_e4f726d38da546f793e490ce389df486"
       ],
       "layout": "IPY_MODEL_79e2ffaf5cb142b881230accf40efaa7"
      }
     },
     "7976a6062cc74b4bbba7d062c2e73e4c": {
      "model_module": "@jupyter-widgets/base",
      "model_module_version": "1.2.0",
      "model_name": "LayoutModel",
      "state": {
       "width": "40px"
      }
     },
     "798f4a9a0653434181ae0b0d8d82e677": {
      "model_module": "@jupyter-widgets/controls",
      "model_module_version": "1.5.0",
      "model_name": "HBoxModel",
      "state": {
       "children": [
        "IPY_MODEL_fe628084846c43ebac6b00cb47fcdcdf",
        "IPY_MODEL_aedbf0ad4686406ab1c2c93571c2a08e"
       ],
       "layout": "IPY_MODEL_84da16342ca6452a88ea03e97a10668d"
      }
     },
     "79b45511afa14b9099b020203adc4e5c": {
      "model_module": "@jupyter-widgets/controls",
      "model_module_version": "1.5.0",
      "model_name": "DescriptionStyleModel",
      "state": {
       "description_width": ""
      }
     },
     "79e2ffaf5cb142b881230accf40efaa7": {
      "model_module": "@jupyter-widgets/base",
      "model_module_version": "1.2.0",
      "model_name": "LayoutModel",
      "state": {}
     },
     "7a1de4d5af1e4f33b84c915067d8aaac": {
      "model_module": "@jupyter-widgets/base",
      "model_module_version": "1.2.0",
      "model_name": "LayoutModel",
      "state": {
       "width": "40px"
      }
     },
     "7a607c89a00143a7a0808c95689bf41a": {
      "model_module": "@jupyter-widgets/base",
      "model_module_version": "1.2.0",
      "model_name": "LayoutModel",
      "state": {
       "height": "35px",
       "width": "30px"
      }
     },
     "7ab158f6fff941ad8580f2a6e8077c9d": {
      "model_module": "@jupyter-widgets/controls",
      "model_module_version": "1.5.0",
      "model_name": "TextModel",
      "state": {
       "layout": "IPY_MODEL_5a0c24727aa941b48d996c0a1f0c2bf8",
       "style": "IPY_MODEL_c5b2331e0c3141579a3e43ae55bfd5ba",
       "value": "5"
      }
     },
     "7ac51a5e71f54269b6ee9f1dfdba8b48": {
      "model_module": "@jupyter-widgets/controls",
      "model_module_version": "1.5.0",
      "model_name": "DescriptionStyleModel",
      "state": {
       "description_width": ""
      }
     },
     "7ae094d323894052bb986624a6b36ccd": {
      "model_module": "@jupyter-widgets/controls",
      "model_module_version": "1.5.0",
      "model_name": "TextModel",
      "state": {
       "description": "times",
       "layout": "IPY_MODEL_49f4a56b51f2468c9459c22ea008bccd",
       "style": "IPY_MODEL_ed9cb710a47048b68b5b3f0c35a6de1e",
       "value": "1"
      }
     },
     "7aef777ae4c04daa9f29fb9e8306ed4b": {
      "model_module": "@jupyter-widgets/controls",
      "model_module_version": "1.5.0",
      "model_name": "DescriptionStyleModel",
      "state": {
       "description_width": ""
      }
     },
     "7af583561230447585879073000829a8": {
      "model_module": "@jupyter-widgets/controls",
      "model_module_version": "1.5.0",
      "model_name": "TextModel",
      "state": {
       "layout": "IPY_MODEL_194d5881fb18447585798b14c51e301b",
       "style": "IPY_MODEL_c4ca9923ead94e1894c9af6928a73825",
       "value": "5"
      }
     },
     "7b2f2b8af5584ee3aa3cf9075f6a4461": {
      "model_module": "@jupyter-widgets/controls",
      "model_module_version": "1.5.0",
      "model_name": "ButtonModel",
      "state": {
       "description": "Start",
       "layout": "IPY_MODEL_85d726df836f4ac3b775232543f6489e",
       "style": "IPY_MODEL_1c331eeda1014ce2bd00b94476de78cf"
      }
     },
     "7b3ea608f62743d3ad121460eb9aab9a": {
      "model_module": "@jupyter-widgets/controls",
      "model_module_version": "1.5.0",
      "model_name": "HBoxModel",
      "state": {
       "children": [
        "IPY_MODEL_59295dda47144015b771b704f1ce73ab",
        "IPY_MODEL_de78a230c2704b5597d973ca8146307d"
       ],
       "layout": "IPY_MODEL_5fcd0dc93570409490dc792c9d846797"
      }
     },
     "7b404394238447f6b19c4446c474786c": {
      "model_module": "@jupyter-widgets/controls",
      "model_module_version": "1.5.0",
      "model_name": "HBoxModel",
      "state": {
       "children": [
        "IPY_MODEL_c8e3d7693f68412485b24db7b05cb86d",
        "IPY_MODEL_a990fe53f7ed4d8fb1f1ba8c77604682"
       ],
       "layout": "IPY_MODEL_5bece2a1b87e4bdd96b71bee36a6a9e4"
      }
     },
     "7b5d1a632ea64703b677759da084d9fb": {
      "model_module": "@jupyter-widgets/controls",
      "model_module_version": "1.5.0",
      "model_name": "BoxModel",
      "state": {
       "children": [
        "IPY_MODEL_8f02137791ae4d74a3128c85f158b4ab",
        "IPY_MODEL_e210e493bcda4798872a05d373613894",
        "IPY_MODEL_23b71ad4c90c41ae9eda16c6b16e8791"
       ],
       "layout": "IPY_MODEL_4b2e113cc1384bf99f494a1206f44cf5"
      }
     },
     "7b7863acfa67404183957296f07d4ed2": {
      "model_module": "@jupyter-widgets/controls",
      "model_module_version": "1.5.0",
      "model_name": "DescriptionStyleModel",
      "state": {
       "description_width": ""
      }
     },
     "7b7d29f1ca354a1787fb86a5ddd7d571": {
      "model_module": "@jupyter-widgets/base",
      "model_module_version": "1.2.0",
      "model_name": "LayoutModel",
      "state": {}
     },
     "7b8a14a2e4234bcf8a7209938b68c57e": {
      "model_module": "@jupyter-widgets/controls",
      "model_module_version": "1.5.0",
      "model_name": "VBoxModel",
      "state": {
       "children": [
        "IPY_MODEL_a00428fdcf0f49d88311e8669fe71f32",
        "IPY_MODEL_aa1c9541094240f6952159eeccfce0e6"
       ],
       "layout": "IPY_MODEL_2723cc5a4fb348278c3373ff5f55afd5"
      }
     },
     "7b8ad78edd6c44ac9043e4d4307a3ab1": {
      "model_module": "@jupyter-widgets/base",
      "model_module_version": "1.2.0",
      "model_name": "LayoutModel",
      "state": {
       "justify_content": "space-between"
      }
     },
     "7b9fbf87fec34688af7ea7293e3537bc": {
      "model_module": "@jupyter-widgets/base",
      "model_module_version": "1.2.0",
      "model_name": "LayoutModel",
      "state": {
       "width": "150px"
      }
     },
     "7bc22f2759354225979a8f13978f200c": {
      "model_module": "@jupyter-widgets/controls",
      "model_module_version": "1.5.0",
      "model_name": "TextModel",
      "state": {
       "layout": "IPY_MODEL_9f4d9e00ae3e470a8d024478444df27d",
       "style": "IPY_MODEL_99e5d8fa7af7400c802122803725fb61",
       "value": "2"
      }
     },
     "7c27273dff8b4e7eb16f68c179440fb8": {
      "model_module": "@jupyter-widgets/base",
      "model_module_version": "1.2.0",
      "model_name": "LayoutModel",
      "state": {}
     },
     "7c4d15c3fa72493cb98a0cc1cf1a8427": {
      "model_module": "@jupyter-widgets/controls",
      "model_module_version": "1.5.0",
      "model_name": "DescriptionStyleModel",
      "state": {
       "description_width": ""
      }
     },
     "7c61e0c2b43c4fd2937ed781f78ab29e": {
      "model_module": "@jupyter-widgets/base",
      "model_module_version": "1.2.0",
      "model_name": "LayoutModel",
      "state": {
       "justify_content": "center"
      }
     },
     "7c70e37c53ce408381cd5e44831dab9b": {
      "model_module": "@jupyter-widgets/controls",
      "model_module_version": "1.5.0",
      "model_name": "HBoxModel",
      "state": {
       "children": [
        "IPY_MODEL_ee0fac3c03254350a8d60801c82c0f7e",
        "IPY_MODEL_4845bb52c671408f8404ef6886d810c5",
        "IPY_MODEL_764faca5f2464a95a3b07b0081d46e68"
       ],
       "layout": "IPY_MODEL_e7abbc721f6e4bb6830239c57ae0e439"
      }
     },
     "7c93b0891d2d41bfbfc9d9ad98e5c3aa": {
      "model_module": "@jupyter-widgets/base",
      "model_module_version": "1.2.0",
      "model_name": "LayoutModel",
      "state": {
       "width": "150px"
      }
     },
     "7c9d58bbb1d54bf28db322aedbf19166": {
      "model_module": "@jupyter-widgets/controls",
      "model_module_version": "1.5.0",
      "model_name": "DescriptionStyleModel",
      "state": {
       "description_width": ""
      }
     },
     "7ca6d11dc801458c8489c6e32a879d25": {
      "model_module": "@jupyter-widgets/controls",
      "model_module_version": "1.5.0",
      "model_name": "DescriptionStyleModel",
      "state": {
       "description_width": ""
      }
     },
     "7ce32d06288d4ccd848b0de8c4bb2177": {
      "model_module": "@jupyter-widgets/controls",
      "model_module_version": "1.5.0",
      "model_name": "TextModel",
      "state": {
       "layout": "IPY_MODEL_250753b918e0432c803452a019d33c5c",
       "style": "IPY_MODEL_12647a1ed57d4122a3e425dc663ac125",
       "value": "1"
      }
     },
     "7d5af838b19146bda1e6b996a266cbc1": {
      "model_module": "@jupyter-widgets/controls",
      "model_module_version": "1.5.0",
      "model_name": "TextModel",
      "state": {
       "layout": "IPY_MODEL_f28c3c7f5ced4384b8a9eca6bc4c00fd",
       "style": "IPY_MODEL_44f45716382047738312e675c5dc20d2",
       "value": "1"
      }
     },
     "7d5fd12d0990492fa45577fd36fbd6dc": {
      "model_module": "@jupyter-widgets/controls",
      "model_module_version": "1.5.0",
      "model_name": "DescriptionStyleModel",
      "state": {
       "description_width": ""
      }
     },
     "7d73186bfd034b90a9e5a0398599d2eb": {
      "model_module": "@jupyter-widgets/base",
      "model_module_version": "1.2.0",
      "model_name": "LayoutModel",
      "state": {}
     },
     "7d7b79f717d443ceb7206cdb6630ef4c": {
      "model_module": "@jupyter-widgets/base",
      "model_module_version": "1.2.0",
      "model_name": "LayoutModel",
      "state": {
       "width": "100px"
      }
     },
     "7d7d88ffc94843e988f3ebfb35979e02": {
      "model_module": "@jupyter-widgets/controls",
      "model_module_version": "1.5.0",
      "model_name": "TextModel",
      "state": {
       "layout": "IPY_MODEL_d743f8ba50f447a3ad2d5faaa6a0e9e2",
       "style": "IPY_MODEL_4fffdef6fcb9425eaf2e56e43ec61679",
       "value": "7"
      }
     },
     "7da62cbba2534eb68c1d2f1827d7ab58": {
      "model_module": "@jupyter-widgets/controls",
      "model_module_version": "1.5.0",
      "model_name": "TextModel",
      "state": {
       "layout": "IPY_MODEL_776389df997545fcab086c0233cb0ab0",
       "style": "IPY_MODEL_4d090d5c77564b81a1cc3171f55ef4af",
       "value": "1"
      }
     },
     "7daf65fce7814e8e855c44062fae55c8": {
      "model_module": "@jupyter-widgets/controls",
      "model_module_version": "1.5.0",
      "model_name": "HBoxModel",
      "state": {
       "children": [
        "IPY_MODEL_fb4cf6adf6dd4316b1b33ceefbf49c18",
        "IPY_MODEL_e729b7a994534b1682157812676238d0"
       ],
       "layout": "IPY_MODEL_ed66af272c9a4bd1b826c0d0070b8dd6"
      }
     },
     "7dceb22fd1cc4c69b6072291aa5a807c": {
      "model_module": "@jupyter-widgets/base",
      "model_module_version": "1.2.0",
      "model_name": "LayoutModel",
      "state": {}
     },
     "7dde712f1739459c9ecdf3e5cd144f3f": {
      "model_module": "@jupyter-widgets/controls",
      "model_module_version": "1.5.0",
      "model_name": "TextModel",
      "state": {
       "layout": "IPY_MODEL_239bec109578490f9329cf0477e25967",
       "style": "IPY_MODEL_00b49682c323495090ab5aefc3e9969e",
       "value": "2"
      }
     },
     "7dec5e9d35524e9088f0d350425a23f7": {
      "model_module": "@jupyter-widgets/controls",
      "model_module_version": "1.5.0",
      "model_name": "ButtonModel",
      "state": {
       "description": "Swap rows",
       "layout": "IPY_MODEL_d69a58b676d14e34976f89feffc814ca",
       "style": "IPY_MODEL_7181974b028a4af5931d6b537d949cc8"
      }
     },
     "7e1231afd0b44733b3196aeb113f5d40": {
      "model_module": "@jupyter-widgets/controls",
      "model_module_version": "1.5.0",
      "model_name": "HBoxModel",
      "state": {
       "children": [
        "IPY_MODEL_40c3b198f4ba4d53a1a049546757ed98",
        "IPY_MODEL_ea7e22664aff417694d571c55475b12b"
       ],
       "layout": "IPY_MODEL_12c9096434eb4b009cb1af19b52fa748"
      }
     },
     "7e1c175d4ba249ea8c0511d244d4f399": {
      "model_module": "@jupyter-widgets/controls",
      "model_module_version": "1.5.0",
      "model_name": "DropdownModel",
      "state": {
       "_options_labels": [
        "1",
        "2",
        "3"
       ],
       "description": "and row",
       "index": 1,
       "layout": "IPY_MODEL_3a0ed782347544099f1e92b25dd08930",
       "style": "IPY_MODEL_28281cc5db8849778bce13619e1bee94"
      }
     },
     "7e1e1ebf3c6040dc8cbb0e9ee77be293": {
      "model_module": "@jupyter-widgets/base",
      "model_module_version": "1.2.0",
      "model_name": "LayoutModel",
      "state": {}
     },
     "7e3c5396fcee44518743f679cbdde3e4": {
      "model_module": "@jupyter-widgets/controls",
      "model_module_version": "1.5.0",
      "model_name": "VBoxModel",
      "state": {
       "children": [
        "IPY_MODEL_bdef2a0a52ae4e97a1bee792a020dc65",
        "IPY_MODEL_906c7977d372403fa0933dfaeb72b757"
       ],
       "layout": "IPY_MODEL_32bd3667e04d42b69756252d5360ed57"
      }
     },
     "7e5e930f04c147aa9bae7b68d0ed29a9": {
      "model_module": "@jupyter-widgets/controls",
      "model_module_version": "1.5.0",
      "model_name": "HBoxModel",
      "state": {
       "children": [
        "IPY_MODEL_ef93346854e84e1f8b29e578cc772fb4",
        "IPY_MODEL_f7777aa89f2548f2addc50807cdba06f"
       ],
       "layout": "IPY_MODEL_26b0a5e6521b404ea78e4c5f76d889a6"
      }
     },
     "7e610db10e6b42eebc37e0319450dd5d": {
      "model_module": "@jupyter-widgets/controls",
      "model_module_version": "1.5.0",
      "model_name": "DescriptionStyleModel",
      "state": {
       "description_width": ""
      }
     },
     "7e74107f2edf49498fb8e559ca505572": {
      "model_module": "@jupyter-widgets/controls",
      "model_module_version": "1.5.0",
      "model_name": "DescriptionStyleModel",
      "state": {
       "description_width": ""
      }
     },
     "7ecd63ce5cb94b2a84bf5a7c6658a342": {
      "model_module": "@jupyter-widgets/controls",
      "model_module_version": "1.5.0",
      "model_name": "DescriptionStyleModel",
      "state": {
       "description_width": ""
      }
     },
     "7edfd17ba07446bf9f3490b0b73ca4fb": {
      "model_module": "@jupyter-widgets/base",
      "model_module_version": "1.2.0",
      "model_name": "LayoutModel",
      "state": {
       "width": "50px"
      }
     },
     "7eeee1955ce74ebd9fc09516b8fb2ba3": {
      "model_module": "@jupyter-widgets/controls",
      "model_module_version": "1.5.0",
      "model_name": "DescriptionStyleModel",
      "state": {
       "description_width": ""
      }
     },
     "7ef336cd35c845dab6ce7c87eaaa1c24": {
      "model_module": "@jupyter-widgets/base",
      "model_module_version": "1.2.0",
      "model_name": "LayoutModel",
      "state": {}
     },
     "7f1d4d510410432daa6e38c2cd8e1842": {
      "model_module": "@jupyter-widgets/controls",
      "model_module_version": "1.5.0",
      "model_name": "VBoxModel",
      "state": {
       "children": [
        "IPY_MODEL_f091f449490a41eabafc9416846749b3",
        "IPY_MODEL_b1bb9582f5664bab878cae686d35c113"
       ],
       "layout": "IPY_MODEL_8a0083f5168b49a88c122feea6035e85"
      }
     },
     "7f30dec383c9460eac44556116156ea1": {
      "model_module": "@jupyter-widgets/controls",
      "model_module_version": "1.5.0",
      "model_name": "VBoxModel",
      "state": {
       "children": [
        "IPY_MODEL_deaf1adf664148f8aed99c78a4d3cb88",
        "IPY_MODEL_777e2d395bfa4c6da9d4b7a53cfad041",
        "IPY_MODEL_41eba958119a459aa99c15a7cf22a422"
       ],
       "layout": "IPY_MODEL_f6b7b12288084af2bfde95df5410f94d"
      }
     },
     "7f349744b7c24f32b288d3b47cb85956": {
      "model_module": "@jupyter-widgets/base",
      "model_module_version": "1.2.0",
      "model_name": "LayoutModel",
      "state": {}
     },
     "7f38dacd36cc41c2a6aee83a0f863f58": {
      "model_module": "@jupyter-widgets/controls",
      "model_module_version": "1.5.0",
      "model_name": "HBoxModel",
      "state": {
       "children": [
        "IPY_MODEL_53550936e5674e849d77a73776ce2af5",
        "IPY_MODEL_6e0b65549c6e4d06814e5dda69f48b8c",
        "IPY_MODEL_cf3a4a8c12504fe3b0c5a175dc56a1e4"
       ],
       "layout": "IPY_MODEL_c357de2c62374bcaaf1d8692a5785540"
      }
     },
     "7f3e3690462d4f2893902f9b16156a3d": {
      "model_module": "@jupyter-widgets/base",
      "model_module_version": "1.2.0",
      "model_name": "LayoutModel",
      "state": {}
     },
     "7f5aea508d054b9db8744822c4aca0a0": {
      "model_module": "@jupyter-widgets/controls",
      "model_module_version": "1.5.0",
      "model_name": "ButtonModel",
      "state": {
       "description": "Add rows",
       "layout": "IPY_MODEL_f95f898b6663456bb642cdaeb8d3cd91",
       "style": "IPY_MODEL_d4ad1cb4761d4efa9e85c21b20413717"
      }
     },
     "7f95c2af627d42abb02163ba0656f55c": {
      "model_module": "@jupyter-widgets/base",
      "model_module_version": "1.2.0",
      "model_name": "LayoutModel",
      "state": {
       "width": "50px"
      }
     },
     "7fb4a2fd115246778a2f07a8cb6d4e36": {
      "model_module": "@jupyter-widgets/controls",
      "model_module_version": "1.5.0",
      "model_name": "TextModel",
      "state": {
       "layout": "IPY_MODEL_d29f4c6323274c2ea715833a610068a5",
       "style": "IPY_MODEL_71c8db1a40c64665a03d33fedd74d377",
       "value": "-6"
      }
     },
     "7fbff3551ceb431e95b6a8de7e4ef3ee": {
      "model_module": "@jupyter-widgets/controls",
      "model_module_version": "1.5.0",
      "model_name": "TextModel",
      "state": {
       "layout": "IPY_MODEL_f28c3c7f5ced4384b8a9eca6bc4c00fd",
       "style": "IPY_MODEL_4b88beee1cae4ac89adfb6189b3d8826",
       "value": "-1"
      }
     },
     "7fd11bc345004c37ba8a5ce2906aef35": {
      "model_module": "@jupyter-widgets/controls",
      "model_module_version": "1.5.0",
      "model_name": "TextModel",
      "state": {
       "layout": "IPY_MODEL_4bcd3a11811347d3979a9396c2e71cd4",
       "style": "IPY_MODEL_40d52eb81d894994837af5324e71566c",
       "value": "1"
      }
     },
     "7fe6078de9b242ca96a6405fda0a0a44": {
      "model_module": "@jupyter-widgets/controls",
      "model_module_version": "1.5.0",
      "model_name": "HBoxModel",
      "state": {
       "children": [
        "IPY_MODEL_48cccc2f4e624b9e9b5ad3f71b9d911a",
        "IPY_MODEL_ca6c3f4d328c46cdb0560cae4b44698b"
       ],
       "layout": "IPY_MODEL_912dcb0aa7fb4bd1bef42ae67783f916"
      }
     },
     "7ff2f59f334942ee8d37958d42187b79": {
      "model_module": "@jupyter-widgets/controls",
      "model_module_version": "1.5.0",
      "model_name": "ButtonStyleModel",
      "state": {}
     },
     "8015eb259b67417f86d2aee53e4c38e8": {
      "model_module": "@jupyter-widgets/base",
      "model_module_version": "1.2.0",
      "model_name": "LayoutModel",
      "state": {
       "width": "250px"
      }
     },
     "80387b3f03754d14bb2fd63711c3c601": {
      "model_module": "@jupyter-widgets/controls",
      "model_module_version": "1.5.0",
      "model_name": "VBoxModel",
      "state": {
       "children": [
        "IPY_MODEL_364dd5a5d4ca4fffbbe41d1bd3d1bfab",
        "IPY_MODEL_15ca9276830c4b84abbb569829e3bfe2",
        "IPY_MODEL_bd838b6228b34498a45d5b9542932568"
       ],
       "layout": "IPY_MODEL_85ab1b11d2014e1688c01c8a9c69d3e8"
      }
     },
     "8056cfa700ac4315850f82e18bb8cf23": {
      "model_module": "@jupyter-widgets/controls",
      "model_module_version": "1.5.0",
      "model_name": "TextModel",
      "state": {
       "layout": "IPY_MODEL_65cb8db367e14667886b79ef97c800d1",
       "style": "IPY_MODEL_09a6256c899e4f99bd7006b25a734cb0",
       "value": "-1"
      }
     },
     "807a89e511464bb6beb86cb3bced08a7": {
      "model_module": "@jupyter-widgets/controls",
      "model_module_version": "1.5.0",
      "model_name": "DescriptionStyleModel",
      "state": {
       "description_width": ""
      }
     },
     "808258953ad74d98b41611f7319f3293": {
      "model_module": "@jupyter-widgets/base",
      "model_module_version": "1.2.0",
      "model_name": "LayoutModel",
      "state": {
       "width": "120px"
      }
     },
     "8088a1057058427d8b9034ab41260e00": {
      "model_module": "@jupyter-widgets/controls",
      "model_module_version": "1.5.0",
      "model_name": "VBoxModel",
      "state": {
       "children": [
        "IPY_MODEL_2b414da73256469183a63797efc162d1",
        "IPY_MODEL_749f71f0184b4aa486dc319ec00855c6",
        "IPY_MODEL_cc8318150c284d4e9e8023fa70ab6180"
       ],
       "layout": "IPY_MODEL_aeb819a310ad4bd6bf967194d64bb21c"
      }
     },
     "809020c3111848c3ae54e27303cec962": {
      "model_module": "@jupyter-widgets/controls",
      "model_module_version": "1.5.0",
      "model_name": "DescriptionStyleModel",
      "state": {
       "description_width": ""
      }
     },
     "80b67a2f132942e3ad72668d236c53fb": {
      "model_module": "@jupyter-widgets/controls",
      "model_module_version": "1.5.0",
      "model_name": "DescriptionStyleModel",
      "state": {
       "description_width": ""
      }
     },
     "80e59833f6494e16b4b1c0396502e5f1": {
      "model_module": "@jupyter-widgets/controls",
      "model_module_version": "1.5.0",
      "model_name": "DescriptionStyleModel",
      "state": {
       "description_width": ""
      }
     },
     "80ecd02b4878462a9bfea2798770cbd0": {
      "model_module": "@jupyter-widgets/controls",
      "model_module_version": "1.5.0",
      "model_name": "ButtonModel",
      "state": {
       "description": "Add rows",
       "layout": "IPY_MODEL_6086da3b55d84608b05e457bc868a20f",
       "style": "IPY_MODEL_fb4085a8a7c3490292ac4e12e6609697"
      }
     },
     "80f259b13ab24c5c9c6d50c65250009f": {
      "model_module": "@jupyter-widgets/base",
      "model_module_version": "1.2.0",
      "model_name": "LayoutModel",
      "state": {}
     },
     "811070e317c04001b7c3176159eedb1a": {
      "model_module": "@jupyter-widgets/controls",
      "model_module_version": "1.5.0",
      "model_name": "DescriptionStyleModel",
      "state": {
       "description_width": ""
      }
     },
     "8114520d502e4b4cbb86d8848a53ced6": {
      "model_module": "@jupyter-widgets/controls",
      "model_module_version": "1.5.0",
      "model_name": "DescriptionStyleModel",
      "state": {
       "description_width": ""
      }
     },
     "8128addc87474a52b7302af4a9dd1a21": {
      "model_module": "@jupyter-widgets/controls",
      "model_module_version": "1.5.0",
      "model_name": "DescriptionStyleModel",
      "state": {
       "description_width": ""
      }
     },
     "813dbfedee684dcda1220fb43598a984": {
      "model_module": "@jupyter-widgets/controls",
      "model_module_version": "1.5.0",
      "model_name": "DescriptionStyleModel",
      "state": {
       "description_width": ""
      }
     },
     "8148061acb494fbf8eb7cdb5e6d25e67": {
      "model_module": "@jupyter-widgets/controls",
      "model_module_version": "1.5.0",
      "model_name": "TextModel",
      "state": {
       "layout": "IPY_MODEL_ff8f131091ed4bf49b858ed52bc5b3ea",
       "style": "IPY_MODEL_f7b3943169a0462e98ee81a95205f93f",
       "value": "1"
      }
     },
     "8179b30575714b04b00deb389a9377c3": {
      "model_module": "@jupyter-widgets/controls",
      "model_module_version": "1.5.0",
      "model_name": "TextModel",
      "state": {
       "layout": "IPY_MODEL_7003463d13444a27a885608e31a34ec8",
       "style": "IPY_MODEL_7ca6d11dc801458c8489c6e32a879d25",
       "value": "1"
      }
     },
     "817b8188af144d88a141cf14449faa37": {
      "model_module": "@jupyter-widgets/base",
      "model_module_version": "1.2.0",
      "model_name": "LayoutModel",
      "state": {}
     },
     "818c4696cd4d47b29398f73a3d75ac9e": {
      "model_module": "@jupyter-widgets/controls",
      "model_module_version": "1.5.0",
      "model_name": "DescriptionStyleModel",
      "state": {
       "description_width": ""
      }
     },
     "819acd4064d246b7b67b5c271e89c461": {
      "model_module": "@jupyter-widgets/controls",
      "model_module_version": "1.5.0",
      "model_name": "DescriptionStyleModel",
      "state": {
       "description_width": ""
      }
     },
     "81c27c13e4a94cdf92e4cc198973780d": {
      "model_module": "@jupyter-widgets/base",
      "model_module_version": "1.2.0",
      "model_name": "LayoutModel",
      "state": {}
     },
     "81d28aa1c5e44866a65d801b74c25340": {
      "model_module": "@jupyter-widgets/controls",
      "model_module_version": "1.5.0",
      "model_name": "DescriptionStyleModel",
      "state": {
       "description_width": ""
      }
     },
     "81e1ea914d1f491b8c149edbdd6a594f": {
      "model_module": "@jupyter-widgets/controls",
      "model_module_version": "1.5.0",
      "model_name": "DescriptionStyleModel",
      "state": {
       "description_width": ""
      }
     },
     "820d5503e5704a0d869352f6dd31a5df": {
      "model_module": "@jupyter-widgets/controls",
      "model_module_version": "1.5.0",
      "model_name": "DescriptionStyleModel",
      "state": {
       "description_width": ""
      }
     },
     "823004aa46354852aee0fd37c0b030ba": {
      "model_module": "@jupyter-widgets/controls",
      "model_module_version": "1.5.0",
      "model_name": "DescriptionStyleModel",
      "state": {
       "description_width": ""
      }
     },
     "8230740224844c9195f0574d10c86d7e": {
      "model_module": "@jupyter-widgets/controls",
      "model_module_version": "1.5.0",
      "model_name": "DescriptionStyleModel",
      "state": {
       "description_width": ""
      }
     },
     "8245315002a94a0da0a86544325482f3": {
      "model_module": "@jupyter-widgets/controls",
      "model_module_version": "1.5.0",
      "model_name": "DescriptionStyleModel",
      "state": {
       "description_width": ""
      }
     },
     "824f8626841f41ac89952e1f54346e8f": {
      "model_module": "@jupyter-widgets/controls",
      "model_module_version": "1.5.0",
      "model_name": "TextModel",
      "state": {
       "layout": "IPY_MODEL_776389df997545fcab086c0233cb0ab0",
       "style": "IPY_MODEL_d26df39d21404e7dbc3b8384096cc245",
       "value": "-6"
      }
     },
     "82cf7b01dba34acf8f2a20db7a87eead": {
      "model_module": "@jupyter-widgets/controls",
      "model_module_version": "1.5.0",
      "model_name": "DescriptionStyleModel",
      "state": {
       "description_width": ""
      }
     },
     "82e3bf20138147fe85c0752ff97fac41": {
      "model_module": "@jupyter-widgets/base",
      "model_module_version": "1.2.0",
      "model_name": "LayoutModel",
      "state": {
       "width": "150px"
      }
     },
     "83095ed8270249f4baf9f532219f0814": {
      "model_module": "@jupyter-widgets/controls",
      "model_module_version": "1.5.0",
      "model_name": "TextModel",
      "state": {
       "layout": "IPY_MODEL_f9ebc65ea59246e1a7d2bcdb072b46e0",
       "style": "IPY_MODEL_422983a77e9a413da6ca571778dcbc89",
       "value": "1"
      }
     },
     "83323b5c1e014e8d963d4780c4348277": {
      "model_module": "@jupyter-widgets/controls",
      "model_module_version": "1.5.0",
      "model_name": "DescriptionStyleModel",
      "state": {
       "description_width": ""
      }
     },
     "8334d61ec78f47308471740fc6dddd16": {
      "model_module": "@jupyter-widgets/base",
      "model_module_version": "1.2.0",
      "model_name": "LayoutModel",
      "state": {}
     },
     "8347664d2c6b458ab113ee8cbc01561f": {
      "model_module": "@jupyter-widgets/controls",
      "model_module_version": "1.5.0",
      "model_name": "TextModel",
      "state": {
       "layout": "IPY_MODEL_201e1a4ee32840b19f981690bdacf3ae",
       "style": "IPY_MODEL_6a3afa979d134545b005ccbf971f9f2b",
       "value": "7"
      }
     },
     "835189416fd84fc39afd74e118b75489": {
      "model_module": "@jupyter-widgets/base",
      "model_module_version": "1.2.0",
      "model_name": "LayoutModel",
      "state": {
       "width": "150px"
      }
     },
     "8353ccc2560145698095cea6140446fd": {
      "model_module": "@jupyter-widgets/base",
      "model_module_version": "1.2.0",
      "model_name": "LayoutModel",
      "state": {
       "justify_content": "center"
      }
     },
     "83a3ced6c8c64bf2836ea80fd5ffcf1c": {
      "model_module": "@jupyter-widgets/controls",
      "model_module_version": "1.5.0",
      "model_name": "DescriptionStyleModel",
      "state": {
       "description_width": ""
      }
     },
     "83aecc892a5a496f95b0b6402dcb61df": {
      "model_module": "@jupyter-widgets/base",
      "model_module_version": "1.2.0",
      "model_name": "LayoutModel",
      "state": {}
     },
     "83d770af0e8340c4bdbc081e74842472": {
      "model_module": "@jupyter-widgets/controls",
      "model_module_version": "1.5.0",
      "model_name": "DropdownModel",
      "state": {
       "_options_labels": [
        "1",
        "2",
        "3"
       ],
       "description": "and row",
       "index": 1,
       "layout": "IPY_MODEL_dfc9609476e5449380c688850a4e204a",
       "style": "IPY_MODEL_9299dae3c0d74c16bfd3f5baece0bf1e"
      }
     },
     "83f6273ae35948f38c595c5b6879dedf": {
      "model_module": "@jupyter-widgets/base",
      "model_module_version": "1.2.0",
      "model_name": "LayoutModel",
      "state": {
       "justify_content": "center"
      }
     },
     "8414a43bf0ba47e9a3501592779794b9": {
      "model_module": "@jupyter-widgets/controls",
      "model_module_version": "1.5.0",
      "model_name": "TextModel",
      "state": {
       "layout": "IPY_MODEL_065f08ede0b647238ec761aa592646c7",
       "style": "IPY_MODEL_b204a51df14e4006a11bff71ba14b36a",
       "value": "2"
      }
     },
     "8419d117de0a483bb4f7f2dd2f014fac": {
      "model_module": "@jupyter-widgets/base",
      "model_module_version": "1.2.0",
      "model_name": "LayoutModel",
      "state": {
       "width": "90px"
      }
     },
     "8430b079d5ed4805be3645bfb2d1d1b8": {
      "model_module": "@jupyter-widgets/base",
      "model_module_version": "1.2.0",
      "model_name": "LayoutModel",
      "state": {
       "width": "150px"
      }
     },
     "844b37e96d92458f8dfee75f60f6efad": {
      "model_module": "@jupyter-widgets/controls",
      "model_module_version": "1.5.0",
      "model_name": "VBoxModel",
      "state": {
       "children": [
        "IPY_MODEL_e9942661f54c4f869208fa6fd77a3755",
        "IPY_MODEL_2a84caefaaf04cd9b6f67a05dc1039a9",
        "IPY_MODEL_0c08a95ef5a84dc6a82a786848f4a2a2"
       ],
       "layout": "IPY_MODEL_097a293b33d64e8e8d2cc6d3257248be"
      }
     },
     "845cd8e412634f5f949ceefd45856941": {
      "model_module": "@jupyter-widgets/controls",
      "model_module_version": "1.5.0",
      "model_name": "HTMLModel",
      "state": {
       "layout": "IPY_MODEL_b7a541c5631e49ef9425b932d8dd1292",
       "style": "IPY_MODEL_3d7f54f4165b41769fa5f2901a40bfd5",
       "value": "Click the button below to start the calculator"
      }
     },
     "849a080c8bcc4bd18916f98517068cc6": {
      "model_module": "@jupyter-widgets/controls",
      "model_module_version": "1.5.0",
      "model_name": "TextModel",
      "state": {
       "layout": "IPY_MODEL_5658a8e71503421ab525d14883c87170",
       "style": "IPY_MODEL_25f8a100db8c46eaaa3bbec5fd7f66bf",
       "value": "-2"
      }
     },
     "84bdc06fbaad42e487d1a3aa3793916d": {
      "model_module": "@jupyter-widgets/controls",
      "model_module_version": "1.5.0",
      "model_name": "HBoxModel",
      "state": {
       "children": [
        "IPY_MODEL_451c1ef12f0d468ba7f777b03581d90b",
        "IPY_MODEL_ced16ede1b2d4857b9d5ae0967a2dc80"
       ],
       "layout": "IPY_MODEL_38b85f55610846528ee727f7268f414e"
      }
     },
     "84da16342ca6452a88ea03e97a10668d": {
      "model_module": "@jupyter-widgets/base",
      "model_module_version": "1.2.0",
      "model_name": "LayoutModel",
      "state": {}
     },
     "85077bf8003d4501acfa8a9f154f25a2": {
      "model_module": "@jupyter-widgets/controls",
      "model_module_version": "1.5.0",
      "model_name": "DescriptionStyleModel",
      "state": {
       "description_width": ""
      }
     },
     "854698d3124944c4b01e997588977372": {
      "model_module": "@jupyter-widgets/controls",
      "model_module_version": "1.5.0",
      "model_name": "DescriptionStyleModel",
      "state": {
       "description_width": ""
      }
     },
     "854eb498d46145859349f83e258f7486": {
      "model_module": "@jupyter-widgets/controls",
      "model_module_version": "1.5.0",
      "model_name": "DescriptionStyleModel",
      "state": {
       "description_width": ""
      }
     },
     "85587d5312494651852678f83ffd5726": {
      "model_module": "@jupyter-widgets/controls",
      "model_module_version": "1.5.0",
      "model_name": "DescriptionStyleModel",
      "state": {
       "description_width": ""
      }
     },
     "855ac42593064416a598192d440772b4": {
      "model_module": "@jupyter-widgets/controls",
      "model_module_version": "1.5.0",
      "model_name": "DescriptionStyleModel",
      "state": {
       "description_width": ""
      }
     },
     "85801564a80549adbf3ff92b4d61e3f2": {
      "model_module": "@jupyter-widgets/controls",
      "model_module_version": "1.5.0",
      "model_name": "TextModel",
      "state": {
       "layout": "IPY_MODEL_d29f4c6323274c2ea715833a610068a5",
       "style": "IPY_MODEL_95e4288b9a1a4eee8bbc63ed8f093aab",
       "value": "1"
      }
     },
     "8593a8fbdd8d4de0b6176b1406020b14": {
      "model_module": "@jupyter-widgets/controls",
      "model_module_version": "1.5.0",
      "model_name": "ButtonModel",
      "state": {
       "description": "Add rows",
       "layout": "IPY_MODEL_bb7f98dd204146009d836aeece81c6e7",
       "style": "IPY_MODEL_715f240dd0f14ff59bff832dceb68bcc"
      }
     },
     "859cc43c1d154e15a6b81826e2874929": {
      "model_module": "@jupyter-widgets/controls",
      "model_module_version": "1.5.0",
      "model_name": "HTMLModel",
      "state": {
       "layout": "IPY_MODEL_668b58442b1c49c391fb9ed5fbd6bd10",
       "style": "IPY_MODEL_c22478fe1b0d4f3795ea62042ac3b543",
       "value": "Click the button below to start the calculator"
      }
     },
     "85ab1b11d2014e1688c01c8a9c69d3e8": {
      "model_module": "@jupyter-widgets/base",
      "model_module_version": "1.2.0",
      "model_name": "LayoutModel",
      "state": {
       "width": "40px"
      }
     },
     "85d726df836f4ac3b775232543f6489e": {
      "model_module": "@jupyter-widgets/base",
      "model_module_version": "1.2.0",
      "model_name": "LayoutModel",
      "state": {}
     },
     "85e2aa2db22a4271ad960d9b75559ce0": {
      "model_module": "@jupyter-widgets/controls",
      "model_module_version": "1.5.0",
      "model_name": "TextModel",
      "state": {
       "layout": "IPY_MODEL_1b785352cb1a4de487a9efaa222c7a96",
       "style": "IPY_MODEL_022c8f73b6ff47ed9f1d733b8a5b9b68",
       "value": "1"
      }
     },
     "865a725c88ee491db0bcf87d2fdab680": {
      "model_module": "@jupyter-widgets/base",
      "model_module_version": "1.2.0",
      "model_name": "LayoutModel",
      "state": {}
     },
     "8677864ba06e40e795161a8b964dbd24": {
      "model_module": "@jupyter-widgets/controls",
      "model_module_version": "1.5.0",
      "model_name": "ButtonModel",
      "state": {
       "description": "Add rows",
       "layout": "IPY_MODEL_a687d082e16540cd8c7ea52f6defd51e",
       "style": "IPY_MODEL_4adc861bc89e456e8ea1adc21f4b507e"
      }
     },
     "8684c52b01f24376b53f0cc6096210bf": {
      "model_module": "@jupyter-widgets/controls",
      "model_module_version": "1.5.0",
      "model_name": "BoxModel",
      "state": {
       "children": [
        "IPY_MODEL_3fcc0720e03f4ca0b91d2b9db850cb34",
        "IPY_MODEL_0869ce1872ca4ffebaac25a16ebba8d2",
        "IPY_MODEL_537e67cac0064f43b69043eaba367292"
       ],
       "layout": "IPY_MODEL_05013bbe756c4219808b1fc1059082d6"
      }
     },
     "8689fc2bb6ce480485156cf5b07bdf4d": {
      "model_module": "@jupyter-widgets/controls",
      "model_module_version": "1.5.0",
      "model_name": "HTMLModel",
      "state": {
       "layout": "IPY_MODEL_b022a4792c1d45e8a716fcf99ecf088c",
       "style": "IPY_MODEL_1e477f549b904a3f83f3df8bdf0a4c76",
       "value": "Click the button below to start the calculator"
      }
     },
     "86a0b6bbca4f4266a3a5360582b7d747": {
      "model_module": "@jupyter-widgets/controls",
      "model_module_version": "1.5.0",
      "model_name": "ButtonStyleModel",
      "state": {}
     },
     "86a7ca35c0c046c19d628b7c2172e622": {
      "model_module": "@jupyter-widgets/controls",
      "model_module_version": "1.5.0",
      "model_name": "DescriptionStyleModel",
      "state": {
       "description_width": ""
      }
     },
     "86ae6eb8ce7643dfaf73c1d1b1addd88": {
      "model_module": "@jupyter-widgets/controls",
      "model_module_version": "1.5.0",
      "model_name": "DescriptionStyleModel",
      "state": {
       "description_width": ""
      }
     },
     "86caedd405404da18faa832837898e9b": {
      "model_module": "@jupyter-widgets/base",
      "model_module_version": "1.2.0",
      "model_name": "LayoutModel",
      "state": {
       "width": "150px"
      }
     },
     "86cd2f987ac2460ca049baf5ef56eff6": {
      "model_module": "@jupyter-widgets/base",
      "model_module_version": "1.2.0",
      "model_name": "LayoutModel",
      "state": {
       "width": "150px"
      }
     },
     "86f58410ab2544e9b1378cb940941d97": {
      "model_module": "@jupyter-widgets/controls",
      "model_module_version": "1.5.0",
      "model_name": "VBoxModel",
      "state": {
       "children": [
        "IPY_MODEL_230eaa41c63a4af498c5d5c00b11ff94",
        "IPY_MODEL_ad89ee31645c4e22ae6daf14671e0ca5",
        "IPY_MODEL_f71ec22e621a4a38b3e9ccc942c9bc4a"
       ],
       "layout": "IPY_MODEL_f19cadcefec641e395cd67af48991c05"
      }
     },
     "86f96c38d02748a0a84135cd1db01a3d": {
      "model_module": "@jupyter-widgets/controls",
      "model_module_version": "1.5.0",
      "model_name": "TextModel",
      "state": {
       "layout": "IPY_MODEL_e9aebd82017d4a8ba76e24a5bdf8ca4f",
       "style": "IPY_MODEL_335b12333fe34dd98a0419021d672f38",
       "value": "1"
      }
     },
     "86f991cd24dd4620a3a6556f6da9e62a": {
      "model_module": "@jupyter-widgets/controls",
      "model_module_version": "1.5.0",
      "model_name": "DescriptionStyleModel",
      "state": {
       "description_width": ""
      }
     },
     "87219293ed324a78b94421185d26a09c": {
      "model_module": "@jupyter-widgets/controls",
      "model_module_version": "1.5.0",
      "model_name": "ButtonModel",
      "state": {
       "description": "Multiply row",
       "layout": "IPY_MODEL_484f655761684a08bf8817d715b75345",
       "style": "IPY_MODEL_3659d426474b430fb68b997c3e1615d9"
      }
     },
     "8744f6d14e654f24ad0353240a0db607": {
      "model_module": "@jupyter-widgets/base",
      "model_module_version": "1.2.0",
      "model_name": "LayoutModel",
      "state": {
       "width": "150px"
      }
     },
     "8747842558d9474e93039d23a3050a25": {
      "model_module": "@jupyter-widgets/controls",
      "model_module_version": "1.5.0",
      "model_name": "DescriptionStyleModel",
      "state": {
       "description_width": ""
      }
     },
     "876bddcf1fc64521b938cea765b46c9a": {
      "model_module": "@jupyter-widgets/controls",
      "model_module_version": "1.5.0",
      "model_name": "VBoxModel",
      "state": {
       "children": [
        "IPY_MODEL_61cee55513ca41eba56e87017e6c27d6",
        "IPY_MODEL_1a4dca5e1d3b4bcf8fd2fa6495f655ae"
       ],
       "layout": "IPY_MODEL_f7a7d56154224cff89b746806246c628"
      }
     },
     "877692e61c46484c9bd2dc0ce5af0742": {
      "model_module": "@jupyter-widgets/controls",
      "model_module_version": "1.5.0",
      "model_name": "ButtonStyleModel",
      "state": {}
     },
     "878a2fe2fb944fd4bd655d8a112ce0f2": {
      "model_module": "@jupyter-widgets/base",
      "model_module_version": "1.2.0",
      "model_name": "LayoutModel",
      "state": {}
     },
     "87905b94b3cf4fafb0261506110687d5": {
      "model_module": "@jupyter-widgets/base",
      "model_module_version": "1.2.0",
      "model_name": "LayoutModel",
      "state": {}
     },
     "8824468931684d0da16445df8364c975": {
      "model_module": "@jupyter-widgets/base",
      "model_module_version": "1.2.0",
      "model_name": "LayoutModel",
      "state": {}
     },
     "882a386452c94d7baaf9bd4b3d9082ad": {
      "model_module": "@jupyter-widgets/base",
      "model_module_version": "1.2.0",
      "model_name": "LayoutModel",
      "state": {
       "width": "150px"
      }
     },
     "88443d3565134680ad935cde84797d9e": {
      "model_module": "@jupyter-widgets/controls",
      "model_module_version": "1.5.0",
      "model_name": "TextModel",
      "state": {
       "layout": "IPY_MODEL_24e52a9da5f64680833f56257412e632",
       "style": "IPY_MODEL_b5bfe1f40a4e4ec9b4908f610e3fc4e7",
       "value": "1"
      }
     },
     "8852c2ba05e94bd6b0ca92060b4a657b": {
      "model_module": "@jupyter-widgets/controls",
      "model_module_version": "1.5.0",
      "model_name": "DescriptionStyleModel",
      "state": {
       "description_width": ""
      }
     },
     "889783ef65bf4d41bc2136f055b7e8cf": {
      "model_module": "@jupyter-widgets/base",
      "model_module_version": "1.2.0",
      "model_name": "LayoutModel",
      "state": {}
     },
     "88a669d6a24d4ccc8077ca677805791d": {
      "model_module": "@jupyter-widgets/base",
      "model_module_version": "1.2.0",
      "model_name": "LayoutModel",
      "state": {}
     },
     "88cbc6d726c5460aba93dd255bb8daa7": {
      "model_module": "@jupyter-widgets/controls",
      "model_module_version": "1.5.0",
      "model_name": "BoxModel",
      "state": {
       "children": [
        "IPY_MODEL_dc90cce451eb4960a24c189a28f3b89f",
        "IPY_MODEL_05b9945f99b74c8aab7d9fdf04aff964",
        "IPY_MODEL_304b08b4a7014314a8c561d2ae74b4b8",
        "IPY_MODEL_e6c181e87e7248e5a35f8bf520433bc3"
       ],
       "layout": "IPY_MODEL_b0405bcdc64e48e88e2ce24a821b02bf"
      }
     },
     "88f2b62e152c4aa4a19547997d5fd4bc": {
      "model_module": "@jupyter-widgets/controls",
      "model_module_version": "1.5.0",
      "model_name": "DescriptionStyleModel",
      "state": {
       "description_width": ""
      }
     },
     "890983480d4042eaa69ee9c30df8c931": {
      "model_module": "@jupyter-widgets/base",
      "model_module_version": "1.2.0",
      "model_name": "LayoutModel",
      "state": {}
     },
     "89164236eef8469290b5a50cfbae1efa": {
      "model_module": "@jupyter-widgets/base",
      "model_module_version": "1.2.0",
      "model_name": "LayoutModel",
      "state": {
       "width": "90px"
      }
     },
     "891f51e9502742adb34a1eed1e551d41": {
      "model_module": "@jupyter-widgets/controls",
      "model_module_version": "1.5.0",
      "model_name": "DescriptionStyleModel",
      "state": {
       "description_width": ""
      }
     },
     "8989008f3ab74a88819f54a9b8b06e87": {
      "model_module": "@jupyter-widgets/controls",
      "model_module_version": "1.5.0",
      "model_name": "TextModel",
      "state": {
       "layout": "IPY_MODEL_1ceaf9c9ac774ae985cae0c34af76539",
       "style": "IPY_MODEL_469b2a10962f4730ab1aa848fc57cfdc",
       "value": "7"
      }
     },
     "89aa01d2624b45949572270d6e8b60f5": {
      "model_module": "@jupyter-widgets/base",
      "model_module_version": "1.2.0",
      "model_name": "LayoutModel",
      "state": {}
     },
     "89dadae5026041f88381fb01c126ad82": {
      "model_module": "@jupyter-widgets/controls",
      "model_module_version": "1.5.0",
      "model_name": "HTMLMathModel",
      "state": {
       "layout": "IPY_MODEL_585ab0d443264c7d8e9516fc7f81f2ee",
       "style": "IPY_MODEL_ea4d53a625f34e7d8976f5a79da7c87a",
       "value": "Results will be shown here."
      }
     },
     "89e0afba6c6d4e1a8b0e6b37e315d8f2": {
      "model_module": "@jupyter-widgets/controls",
      "model_module_version": "1.5.0",
      "model_name": "DescriptionStyleModel",
      "state": {
       "description_width": ""
      }
     },
     "89ebd0fdcf934b8f958bc97ae307c517": {
      "model_module": "@jupyter-widgets/controls",
      "model_module_version": "1.5.0",
      "model_name": "DescriptionStyleModel",
      "state": {
       "description_width": ""
      }
     },
     "89ed7a566d214769ac6de3c224cce994": {
      "model_module": "@jupyter-widgets/controls",
      "model_module_version": "1.5.0",
      "model_name": "TextModel",
      "state": {
       "layout": "IPY_MODEL_47a60aa1cf3045f2a536b06edf49c5ea",
       "style": "IPY_MODEL_d4f22d1be86749a88d55a4d2ea1c9654",
       "value": "1"
      }
     },
     "8a0083f5168b49a88c122feea6035e85": {
      "model_module": "@jupyter-widgets/base",
      "model_module_version": "1.2.0",
      "model_name": "LayoutModel",
      "state": {}
     },
     "8a188f18880f440ca3e786d87b2d8af7": {
      "model_module": "@jupyter-widgets/controls",
      "model_module_version": "1.5.0",
      "model_name": "DescriptionStyleModel",
      "state": {
       "description_width": ""
      }
     },
     "8a8f51ce59da445cab30a74817bb10fe": {
      "model_module": "@jupyter-widgets/controls",
      "model_module_version": "1.5.0",
      "model_name": "DescriptionStyleModel",
      "state": {
       "description_width": ""
      }
     },
     "8abba779255f4a47b15c0cfd01d3a27e": {
      "model_module": "@jupyter-widgets/controls",
      "model_module_version": "1.5.0",
      "model_name": "VBoxModel",
      "state": {
       "children": [
        "IPY_MODEL_fcd0effc71594e75812f11150dd9043f",
        "IPY_MODEL_91342cc031174464afec0fdb80c325cb"
       ],
       "layout": "IPY_MODEL_4b91f4231d2440558535d75f19c020e4"
      }
     },
     "8abf4bfdb9574deb83d5526265325a76": {
      "model_module": "@jupyter-widgets/controls",
      "model_module_version": "1.5.0",
      "model_name": "DescriptionStyleModel",
      "state": {
       "description_width": ""
      }
     },
     "8ac6f64dd6df4dd18c767b6a3d6ca935": {
      "model_module": "@jupyter-widgets/controls",
      "model_module_version": "1.5.0",
      "model_name": "VBoxModel",
      "state": {
       "children": [
        "IPY_MODEL_6d942404b0954a4bafd7352ec4138701",
        "IPY_MODEL_082fd162475847578bb712bab74da44d",
        "IPY_MODEL_08c391716f754d7d87cc4cfe55a330ac"
       ],
       "layout": "IPY_MODEL_186e0f28be0f4346842b6d3e08d280e9"
      }
     },
     "8ad366ef2b994147b7a9364e037ad9ff": {
      "model_module": "@jupyter-widgets/controls",
      "model_module_version": "1.5.0",
      "model_name": "TextModel",
      "state": {
       "layout": "IPY_MODEL_e168436c7ee0437a9552e5f0afc85715",
       "style": "IPY_MODEL_dd3d1c3ca3604b1bae3aa45b11ddb728",
       "value": "1"
      }
     },
     "8ae8bbc9e00349259b6d9ca69b0c7731": {
      "model_module": "@jupyter-widgets/controls",
      "model_module_version": "1.5.0",
      "model_name": "DescriptionStyleModel",
      "state": {
       "description_width": ""
      }
     },
     "8afe343619064fa8bfdfef8806d989d0": {
      "model_module": "@jupyter-widgets/controls",
      "model_module_version": "1.5.0",
      "model_name": "VBoxModel",
      "state": {
       "children": [
        "IPY_MODEL_0749e51fce5741c2be11a06622082a52",
        "IPY_MODEL_cb6c37fc39c746aab7d88428953189d6",
        "IPY_MODEL_06f781b1145042f4aaaf169bf0cf1c99"
       ],
       "layout": "IPY_MODEL_ccae19b5fe3d4c63865bb6b6e991c9cd"
      }
     },
     "8b21283e5ccb40d79395fb7e071c8402": {
      "model_module": "@jupyter-widgets/controls",
      "model_module_version": "1.5.0",
      "model_name": "TextModel",
      "state": {
       "description": "times",
       "layout": "IPY_MODEL_fe646dd549584b21b2a484f30b31e833",
       "style": "IPY_MODEL_70e9dc86d3c0445183ba9bd542784ffb",
       "value": "1"
      }
     },
     "8b4afb1df6eb4ce7a006f86f6c598a8f": {
      "model_module": "@jupyter-widgets/controls",
      "model_module_version": "1.5.0",
      "model_name": "DescriptionStyleModel",
      "state": {
       "description_width": ""
      }
     },
     "8b784dac0e86496496346537eebf2cd7": {
      "model_module": "@jupyter-widgets/controls",
      "model_module_version": "1.5.0",
      "model_name": "ButtonStyleModel",
      "state": {}
     },
     "8b81d93fc9f04a33b256d91c97ac546f": {
      "model_module": "@jupyter-widgets/controls",
      "model_module_version": "1.5.0",
      "model_name": "DescriptionStyleModel",
      "state": {
       "description_width": ""
      }
     },
     "8b91dde451f9469ba32c7c9704d81d29": {
      "model_module": "@jupyter-widgets/controls",
      "model_module_version": "1.5.0",
      "model_name": "DescriptionStyleModel",
      "state": {
       "description_width": ""
      }
     },
     "8ba7aa1be79445e7a3c57b1df103cc33": {
      "model_module": "@jupyter-widgets/base",
      "model_module_version": "1.2.0",
      "model_name": "LayoutModel",
      "state": {
       "justify_content": "center"
      }
     },
     "8bfa437597724a95ba309f1f8092ee72": {
      "model_module": "@jupyter-widgets/controls",
      "model_module_version": "1.5.0",
      "model_name": "TextModel",
      "state": {
       "layout": "IPY_MODEL_1ceaf9c9ac774ae985cae0c34af76539",
       "style": "IPY_MODEL_07326cfa60494e6083ebb125f32a41f6",
       "value": "2"
      }
     },
     "8c1d44295274484293ff84f480d6af28": {
      "model_module": "@jupyter-widgets/base",
      "model_module_version": "1.2.0",
      "model_name": "LayoutModel",
      "state": {
       "width": "150px"
      }
     },
     "8c21363e29ca4259a8e74c484b3a756d": {
      "model_module": "@jupyter-widgets/base",
      "model_module_version": "1.2.0",
      "model_name": "LayoutModel",
      "state": {}
     },
     "8c392af24601481ea2818b3ccb2bb632": {
      "model_module": "@jupyter-widgets/base",
      "model_module_version": "1.2.0",
      "model_name": "LayoutModel",
      "state": {}
     },
     "8c62b0c4430145ceae4d8be510e8ec92": {
      "model_module": "@jupyter-widgets/base",
      "model_module_version": "1.2.0",
      "model_name": "LayoutModel",
      "state": {
       "justify_content": "space-between"
      }
     },
     "8c686a87a0974ee9812f0c4acdd42b46": {
      "model_module": "@jupyter-widgets/controls",
      "model_module_version": "1.5.0",
      "model_name": "VBoxModel",
      "state": {
       "children": [
        "IPY_MODEL_e24b373cefd249239248808256d983ce",
        "IPY_MODEL_6e1195a568ee4d0e89f2d6eb4ae88352",
        "IPY_MODEL_1efbb9d5c4f0409c8978d5465ea6fc17"
       ],
       "layout": "IPY_MODEL_05289a0e205147fbb94813186d954274"
      }
     },
     "8c72cee3e98f48b29999197a67d0eece": {
      "model_module": "@jupyter-widgets/controls",
      "model_module_version": "1.5.0",
      "model_name": "TextModel",
      "state": {
       "layout": "IPY_MODEL_a6b672bf88094d8fa8327c74293c6a55",
       "style": "IPY_MODEL_38cce1a64bde48478c6873906e560717",
       "value": "9"
      }
     },
     "8c786dde77ec479b9ba92c21b5e3e706": {
      "model_module": "@jupyter-widgets/controls",
      "model_module_version": "1.5.0",
      "model_name": "HBoxModel",
      "state": {
       "children": [
        "IPY_MODEL_e97148d946324133ad43252de564f26c",
        "IPY_MODEL_16506dc3b5f9426fa2760d8a18a3f178",
        "IPY_MODEL_1b3a773e66084685801c3502eddcfc1f"
       ],
       "layout": "IPY_MODEL_b021255de6654125b6a12dbc17cebd18"
      }
     },
     "8c87b6e7c49d42b0aef7b519edcf394d": {
      "model_module": "@jupyter-widgets/base",
      "model_module_version": "1.2.0",
      "model_name": "LayoutModel",
      "state": {
       "flex_flow": "row wrap",
       "justify_content": "space-around"
      }
     },
     "8c8dbfc314bf4626b88dcc2f9217890a": {
      "model_module": "@jupyter-widgets/controls",
      "model_module_version": "1.5.0",
      "model_name": "DescriptionStyleModel",
      "state": {
       "description_width": ""
      }
     },
     "8c910f49460843d48764a89f2b1692b0": {
      "model_module": "@jupyter-widgets/controls",
      "model_module_version": "1.5.0",
      "model_name": "TextModel",
      "state": {
       "layout": "IPY_MODEL_065f08ede0b647238ec761aa592646c7",
       "style": "IPY_MODEL_5725ed9360854e5d88d72a355bd35f9c",
       "value": "2"
      }
     },
     "8cac153018544667aa15208e7e9340f5": {
      "model_module": "@jupyter-widgets/controls",
      "model_module_version": "1.5.0",
      "model_name": "HTMLMathModel",
      "state": {
       "layout": "IPY_MODEL_bf7a28195ad64043a87a0afb6764d212",
       "style": "IPY_MODEL_0631eb28ef7042c39e2888def56f7014",
       "value": "Results will be shown here."
      }
     },
     "8cc29d3def0b4ec68e1bd8980c71b16d": {
      "model_module": "@jupyter-widgets/base",
      "model_module_version": "1.2.0",
      "model_name": "LayoutModel",
      "state": {}
     },
     "8d0405004a88437a92058046c34210a3": {
      "model_module": "@jupyter-widgets/base",
      "model_module_version": "1.2.0",
      "model_name": "LayoutModel",
      "state": {}
     },
     "8d0cd6ca340e4fd0bea5625b0db2267d": {
      "model_module": "@jupyter-widgets/base",
      "model_module_version": "1.2.0",
      "model_name": "LayoutModel",
      "state": {
       "width": "150px"
      }
     },
     "8d16ced010fc428ab81bce4fbe2609e1": {
      "model_module": "@jupyter-widgets/controls",
      "model_module_version": "1.5.0",
      "model_name": "HBoxModel",
      "state": {
       "children": [
        "IPY_MODEL_7da62cbba2534eb68c1d2f1827d7ab58",
        "IPY_MODEL_6cfc77168c6044229a39c5f4d1270653",
        "IPY_MODEL_0cc061f4602d4733b367e761aad09b37"
       ],
       "layout": "IPY_MODEL_6e288c97588e418aabfc1f3ef33b8c3e"
      }
     },
     "8d178c7dbcb84e16ae6c67cab08506e4": {
      "model_module": "@jupyter-widgets/controls",
      "model_module_version": "1.5.0",
      "model_name": "HBoxModel",
      "state": {
       "children": [
        "IPY_MODEL_1d87c96996df4560becef2317973b3a5",
        "IPY_MODEL_c73ceabe5e37471dbcde32658547cb1d",
        "IPY_MODEL_93d09b4754f84ed890462aacb7a2d408"
       ],
       "layout": "IPY_MODEL_95625489786e4c679acdba157ce43a5e"
      }
     },
     "8d3926e6b49a41bb8122d0ce30f0715d": {
      "model_module": "@jupyter-widgets/base",
      "model_module_version": "1.2.0",
      "model_name": "LayoutModel",
      "state": {
       "width": "90px"
      }
     },
     "8d4b50e567d94154af95f250ea6e41a5": {
      "model_module": "@jupyter-widgets/base",
      "model_module_version": "1.2.0",
      "model_name": "LayoutModel",
      "state": {}
     },
     "8d6e213d92c7477b9d301a1c44249c19": {
      "model_module": "@jupyter-widgets/controls",
      "model_module_version": "1.5.0",
      "model_name": "VBoxModel",
      "state": {
       "children": [
        "IPY_MODEL_e0376c0f89da4c06a5ee8cf2b4ed9cfc",
        "IPY_MODEL_681474a7973d4b749115bd735dbdf0e1",
        "IPY_MODEL_b69d67ac313a40b0bb50cb9e51bc7bfe"
       ],
       "layout": "IPY_MODEL_2fedb076a914436bb19c4c0acdce1eb4"
      }
     },
     "8d8b21ef344f457ab7a51cdedf68a90d": {
      "model_module": "@jupyter-widgets/controls",
      "model_module_version": "1.5.0",
      "model_name": "TextModel",
      "state": {
       "layout": "IPY_MODEL_24e52a9da5f64680833f56257412e632",
       "style": "IPY_MODEL_ee590e817f7c495b80d39039d98ffde0",
       "value": "2"
      }
     },
     "8da7e323600647a4857851013aadc645": {
      "model_module": "@jupyter-widgets/base",
      "model_module_version": "1.2.0",
      "model_name": "LayoutModel",
      "state": {}
     },
     "8db6b00844384ba486a69b2bee444d3e": {
      "model_module": "@jupyter-widgets/controls",
      "model_module_version": "1.5.0",
      "model_name": "DescriptionStyleModel",
      "state": {
       "description_width": ""
      }
     },
     "8ddcecf59fca4d40908db694dbb11e3c": {
      "model_module": "@jupyter-widgets/base",
      "model_module_version": "1.2.0",
      "model_name": "LayoutModel",
      "state": {}
     },
     "8df7c3dc3df24618940b584610c6c908": {
      "model_module": "@jupyter-widgets/controls",
      "model_module_version": "1.5.0",
      "model_name": "BoxModel",
      "state": {
       "children": [
        "IPY_MODEL_1d362fa3291a438991c0f64e813d6fb5",
        "IPY_MODEL_cee7d934dbaa41c68000ff08e8173020",
        "IPY_MODEL_34cc6803183a43e081417ee3a38f94b6",
        "IPY_MODEL_72985fd91f8b4d1097b58b276981043f"
       ],
       "layout": "IPY_MODEL_547c854d26234f9abbd1f4f15818cdb1"
      }
     },
     "8e3fab4c84364ff1962b50b3c24ccab1": {
      "model_module": "@jupyter-widgets/controls",
      "model_module_version": "1.5.0",
      "model_name": "DescriptionStyleModel",
      "state": {
       "description_width": ""
      }
     },
     "8eb7f269d05d4f68bfe127fc91489dd4": {
      "model_module": "@jupyter-widgets/controls",
      "model_module_version": "1.5.0",
      "model_name": "DescriptionStyleModel",
      "state": {
       "description_width": ""
      }
     },
     "8ed1fae549034de3bbde442b4c5bfc78": {
      "model_module": "@jupyter-widgets/controls",
      "model_module_version": "1.5.0",
      "model_name": "HTMLMathModel",
      "state": {
       "layout": "IPY_MODEL_8ba7aa1be79445e7a3c57b1df103cc33",
       "style": "IPY_MODEL_81d28aa1c5e44866a65d801b74c25340",
       "value": "Results will be shown here."
      }
     },
     "8ee546c7362a4d12a7de73aaa75ade1b": {
      "model_module": "@jupyter-widgets/base",
      "model_module_version": "1.2.0",
      "model_name": "LayoutModel",
      "state": {
       "width": "120px"
      }
     },
     "8f02137791ae4d74a3128c85f158b4ab": {
      "model_module": "@jupyter-widgets/controls",
      "model_module_version": "1.5.0",
      "model_name": "VBoxModel",
      "state": {
       "children": [
        "IPY_MODEL_32feb49b5d0145f4a85b9625643a303f",
        "IPY_MODEL_51e6cbbeeec1428d829c483b0a32442a",
        "IPY_MODEL_00377420b05c4f988f0c534a2323b1fd"
       ],
       "layout": "IPY_MODEL_b44b3024983f4137b8d179db77698459"
      }
     },
     "8f703c7c65e541269845be3faeb124e9": {
      "model_module": "@jupyter-widgets/controls",
      "model_module_version": "1.5.0",
      "model_name": "VBoxModel",
      "state": {
       "children": [
        "IPY_MODEL_b9fcafe4daa3425eb76f8273bec8165f",
        "IPY_MODEL_d8e3b817cb8b4e31a42bc9dbee5d0cec"
       ],
       "layout": "IPY_MODEL_5cab07d256ab49d3924b047c9409c151"
      }
     },
     "8f7bde90d4294b18aaddbc825d3ecfe1": {
      "model_module": "@jupyter-widgets/controls",
      "model_module_version": "1.5.0",
      "model_name": "BoxModel",
      "state": {
       "children": [
        "IPY_MODEL_605f25783a0c4bb3b6880f26c185ce99",
        "IPY_MODEL_84bdc06fbaad42e487d1a3aa3793916d",
        "IPY_MODEL_6da59dd17a054d4a89f3c8898013d8e1",
        "IPY_MODEL_ef1553837bfe423086883be84d6f21ef"
       ],
       "layout": "IPY_MODEL_fe3ee882a8d44a108ed4c0ea39629415"
      }
     },
     "8fd2915d6ac34d2285425a215868d17e": {
      "model_module": "@jupyter-widgets/base",
      "model_module_version": "1.2.0",
      "model_name": "LayoutModel",
      "state": {
       "width": "100px"
      }
     },
     "8ff0ec45936248d8811eb7582dace907": {
      "model_module": "@jupyter-widgets/controls",
      "model_module_version": "1.5.0",
      "model_name": "TextModel",
      "state": {
       "layout": "IPY_MODEL_239bec109578490f9329cf0477e25967",
       "style": "IPY_MODEL_89ebd0fdcf934b8f958bc97ae307c517",
       "value": "2"
      }
     },
     "906c7977d372403fa0933dfaeb72b757": {
      "model_module": "@jupyter-widgets/controls",
      "model_module_version": "1.5.0",
      "model_name": "ButtonModel",
      "state": {
       "description": "Start",
       "layout": "IPY_MODEL_782d6ea60dec469a863bbd246a6b2060",
       "style": "IPY_MODEL_e1bcbb60ebab4617ac690232d0d74196"
      }
     },
     "9081a0716bc44b7ea86f2b59b7f3bf1f": {
      "model_module": "@jupyter-widgets/base",
      "model_module_version": "1.2.0",
      "model_name": "LayoutModel",
      "state": {}
     },
     "9098c965a51d4f86942174e4766c8595": {
      "model_module": "@jupyter-widgets/controls",
      "model_module_version": "1.5.0",
      "model_name": "DescriptionStyleModel",
      "state": {
       "description_width": ""
      }
     },
     "909bb8a066fb44099ebd540a9b6cc6c7": {
      "model_module": "@jupyter-widgets/controls",
      "model_module_version": "1.5.0",
      "model_name": "DescriptionStyleModel",
      "state": {
       "description_width": ""
      }
     },
     "909edb0fab65494cba9a4e4e7ef025d2": {
      "model_module": "@jupyter-widgets/base",
      "model_module_version": "1.2.0",
      "model_name": "LayoutModel",
      "state": {
       "width": "150px"
      }
     },
     "90aef78a96ce4d1194b547d6f2f55ffa": {
      "model_module": "@jupyter-widgets/controls",
      "model_module_version": "1.5.0",
      "model_name": "TextModel",
      "state": {
       "layout": "IPY_MODEL_d743f8ba50f447a3ad2d5faaa6a0e9e2",
       "style": "IPY_MODEL_d236ef24818641ada0cbeffc529212a6",
       "value": "-1"
      }
     },
     "90b5af2c2e0d462c931a2eeb1feeec7a": {
      "model_module": "@jupyter-widgets/controls",
      "model_module_version": "1.5.0",
      "model_name": "DescriptionStyleModel",
      "state": {
       "description_width": ""
      }
     },
     "90bd8ae8e0c84aa48137a9d367a0d7e4": {
      "model_module": "@jupyter-widgets/controls",
      "model_module_version": "1.5.0",
      "model_name": "DropdownModel",
      "state": {
       "_options_labels": [
        "1",
        "2",
        "3"
       ],
       "description": "Swap row",
       "index": 0,
       "layout": "IPY_MODEL_9d4f4bc73e39442d88c4587c9b24417e",
       "style": "IPY_MODEL_72477a4a70de4dbebfdd0aeda8a30cee"
      }
     },
     "911782efbdb943058e1fb7375d220e6b": {
      "model_module": "@jupyter-widgets/base",
      "model_module_version": "1.2.0",
      "model_name": "LayoutModel",
      "state": {
       "width": "100px"
      }
     },
     "912dcb0aa7fb4bd1bef42ae67783f916": {
      "model_module": "@jupyter-widgets/base",
      "model_module_version": "1.2.0",
      "model_name": "LayoutModel",
      "state": {}
     },
     "91342cc031174464afec0fdb80c325cb": {
      "model_module": "@jupyter-widgets/controls",
      "model_module_version": "1.5.0",
      "model_name": "ButtonModel",
      "state": {
       "description": "Start",
       "layout": "IPY_MODEL_4d3efca797e04672bc418cd73e7b8f92",
       "style": "IPY_MODEL_4c24898c7983471aa85b2374b325cc42"
      }
     },
     "9141f2dde1084ea2b324df57759f2d3c": {
      "model_module": "@jupyter-widgets/base",
      "model_module_version": "1.2.0",
      "model_name": "LayoutModel",
      "state": {}
     },
     "915f22419d9d4ab4b9e56bbf7a2d2ae9": {
      "model_module": "@jupyter-widgets/base",
      "model_module_version": "1.2.0",
      "model_name": "LayoutModel",
      "state": {
       "width": "150px"
      }
     },
     "91784b2a3b01482e916116652aecf183": {
      "model_module": "@jupyter-widgets/controls",
      "model_module_version": "1.5.0",
      "model_name": "HBoxModel",
      "state": {
       "children": [
        "IPY_MODEL_aa3fd332ab7346408b2511dc2ed703af",
        "IPY_MODEL_c33b14e5954044d1bc8347d420f80038",
        "IPY_MODEL_a774ad687fbd43c28e79cbc983d1d03b"
       ],
       "layout": "IPY_MODEL_7f349744b7c24f32b288d3b47cb85956"
      }
     },
     "918257d8846f4ba6bc4cab24c50e6524": {
      "model_module": "@jupyter-widgets/controls",
      "model_module_version": "1.5.0",
      "model_name": "DescriptionStyleModel",
      "state": {
       "description_width": ""
      }
     },
     "91a72f682f924389bdcadc627973ba43": {
      "model_module": "@jupyter-widgets/controls",
      "model_module_version": "1.5.0",
      "model_name": "HBoxModel",
      "state": {
       "children": [
        "IPY_MODEL_9d633646cedf46749f505f90aa0f0810",
        "IPY_MODEL_cccd12e1209d4fe9ad8ecd8255b5449b",
        "IPY_MODEL_008533c8e6514a46b4a5d0d32abdb081"
       ],
       "layout": "IPY_MODEL_da49f8edf9cc477cb16925ea0bccc703"
      }
     },
     "91db62ef1eaf48919f036805a60f6fd2": {
      "model_module": "@jupyter-widgets/controls",
      "model_module_version": "1.5.0",
      "model_name": "HBoxModel",
      "state": {
       "children": [
        "IPY_MODEL_7158a014734241aab5bc5d0df1b2d8af",
        "IPY_MODEL_124d9e6b1e624c0ab89adb99c83858a0",
        "IPY_MODEL_02d02a3a41104a4cb1ce19dd6231e7b0"
       ],
       "layout": "IPY_MODEL_2208c8013a0d4581a2662f947d523ae7"
      }
     },
     "91f0cae43e2d41ecb88b2b1144505b68": {
      "model_module": "@jupyter-widgets/controls",
      "model_module_version": "1.5.0",
      "model_name": "DescriptionStyleModel",
      "state": {
       "description_width": ""
      }
     },
     "91f4ec477c9b48f0a0f8b879a06db714": {
      "model_module": "@jupyter-widgets/controls",
      "model_module_version": "1.5.0",
      "model_name": "DescriptionStyleModel",
      "state": {
       "description_width": ""
      }
     },
     "920c1e04729144f38f485519cb4bd803": {
      "model_module": "@jupyter-widgets/controls",
      "model_module_version": "1.5.0",
      "model_name": "DescriptionStyleModel",
      "state": {
       "description_width": ""
      }
     },
     "9240155b1afa405badd5dd9e6b5c9a34": {
      "model_module": "@jupyter-widgets/controls",
      "model_module_version": "1.5.0",
      "model_name": "DescriptionStyleModel",
      "state": {
       "description_width": ""
      }
     },
     "928af77fb9544b048ce9c57bab62ca78": {
      "model_module": "@jupyter-widgets/controls",
      "model_module_version": "1.5.0",
      "model_name": "ButtonModel",
      "state": {
       "description": "Start",
       "layout": "IPY_MODEL_b85305a20b1b4a4f807aeebc03c16d4e",
       "style": "IPY_MODEL_1f4ff2dc9cc14829ab276ba790386732"
      }
     },
     "92995dbd99b4442d81ed1ac5a88c7d56": {
      "model_module": "@jupyter-widgets/controls",
      "model_module_version": "1.5.0",
      "model_name": "DescriptionStyleModel",
      "state": {
       "description_width": ""
      }
     },
     "9299dae3c0d74c16bfd3f5baece0bf1e": {
      "model_module": "@jupyter-widgets/controls",
      "model_module_version": "1.5.0",
      "model_name": "DescriptionStyleModel",
      "state": {
       "description_width": ""
      }
     },
     "929fde971a6d4652a2eef270b0330d35": {
      "model_module": "@jupyter-widgets/base",
      "model_module_version": "1.2.0",
      "model_name": "LayoutModel",
      "state": {
       "flex_flow": "row wrap",
       "justify_content": "space-around"
      }
     },
     "92a6543388b649baa3eb9e0a5b23b206": {
      "model_module": "@jupyter-widgets/controls",
      "model_module_version": "1.5.0",
      "model_name": "VBoxModel",
      "state": {
       "children": [
        "IPY_MODEL_4d181be52b504ffa908da50ecaafba6d",
        "IPY_MODEL_3de2ebf26ed140c68c84ff787ffcfb7f",
        "IPY_MODEL_def1c5c6e5c4480cb1c0fda03de51552"
       ],
       "layout": "IPY_MODEL_2778daa48ab64c0db6ad457cd526e82b"
      }
     },
     "92b55001dd354012abb5d9a62b16fdb3": {
      "model_module": "@jupyter-widgets/base",
      "model_module_version": "1.2.0",
      "model_name": "LayoutModel",
      "state": {
       "width": "90px"
      }
     },
     "92d69cb7de8945dea5c7e1fca837a606": {
      "model_module": "@jupyter-widgets/controls",
      "model_module_version": "1.5.0",
      "model_name": "DropdownModel",
      "state": {
       "_options_labels": [
        "1",
        "2",
        "3"
       ],
       "description": "to row",
       "index": 1,
       "layout": "IPY_MODEL_b51a09c790b540e18b069db38eab4f8c",
       "style": "IPY_MODEL_dee3aa0dcb204bebac37f567ddc02317"
      }
     },
     "92e4cd8b5f67430ab79f31dc4dfa893a": {
      "model_module": "@jupyter-widgets/controls",
      "model_module_version": "1.5.0",
      "model_name": "DescriptionStyleModel",
      "state": {
       "description_width": ""
      }
     },
     "92ef7dc2886f4e1d883286b549948cd7": {
      "model_module": "@jupyter-widgets/controls",
      "model_module_version": "1.5.0",
      "model_name": "HTMLModel",
      "state": {
       "layout": "IPY_MODEL_46a6d9472cbd4892ad6b1e4142f4d68d",
       "style": "IPY_MODEL_2d33574bd29841d6b6d3498276177b53",
       "value": "Click the button below to start the calculator"
      }
     },
     "92f60c35122944868d0262d7bd4089b7": {
      "model_module": "@jupyter-widgets/controls",
      "model_module_version": "1.5.0",
      "model_name": "TextModel",
      "state": {
       "layout": "IPY_MODEL_bbd5dabd53c049fca9a7f5878437cad9",
       "style": "IPY_MODEL_352c8d3df20c4a169c179e7f318aa4d8",
       "value": "1"
      }
     },
     "93622fe6937f4605a871e065d4ed3008": {
      "model_module": "@jupyter-widgets/controls",
      "model_module_version": "1.5.0",
      "model_name": "TextModel",
      "state": {
       "layout": "IPY_MODEL_dfe771ca3cb647c5ba599a113ad575df",
       "style": "IPY_MODEL_5f0c26c3d40e4881906939cfabb1a5d4",
       "value": "2"
      }
     },
     "93727e1c4cb3445d843ff9cf71335b47": {
      "model_module": "@jupyter-widgets/base",
      "model_module_version": "1.2.0",
      "model_name": "LayoutModel",
      "state": {}
     },
     "937c7680fade4ba68d71bac5dfa2040c": {
      "model_module": "@jupyter-widgets/controls",
      "model_module_version": "1.5.0",
      "model_name": "DescriptionStyleModel",
      "state": {
       "description_width": ""
      }
     },
     "93afcd4a20a844269625caff03d002a4": {
      "model_module": "@jupyter-widgets/controls",
      "model_module_version": "1.5.0",
      "model_name": "VBoxModel",
      "state": {
       "children": [
        "IPY_MODEL_43d22d0cb869411aa30b1ac30659627c",
        "IPY_MODEL_7238e65219374dde85db1716a83173fb",
        "IPY_MODEL_74d5e40220c543e38afd705a4f81476e"
       ],
       "layout": "IPY_MODEL_38e76337283c4a00a813a2c2670d439d"
      }
     },
     "93d09b4754f84ed890462aacb7a2d408": {
      "model_module": "@jupyter-widgets/controls",
      "model_module_version": "1.5.0",
      "model_name": "TextModel",
      "state": {
       "layout": "IPY_MODEL_9f4d9e00ae3e470a8d024478444df27d",
       "style": "IPY_MODEL_f2ae0e66337c4ebdae2cb01a413f8e02",
       "value": "2"
      }
     },
     "93d75bf643ef4ed5915f52affd6d1221": {
      "model_module": "@jupyter-widgets/controls",
      "model_module_version": "1.5.0",
      "model_name": "TextModel",
      "state": {
       "layout": "IPY_MODEL_97993fa24fac42e28605e8d366180168",
       "style": "IPY_MODEL_292616b9a7b0409d922f4e8da963d12f",
       "value": "-1"
      }
     },
     "93f0d1409c7a4102bf9dccea0a49cbdd": {
      "model_module": "@jupyter-widgets/controls",
      "model_module_version": "1.5.0",
      "model_name": "DescriptionStyleModel",
      "state": {
       "description_width": ""
      }
     },
     "93f18c113c4d47579b3ad5e2cba4f782": {
      "model_module": "@jupyter-widgets/base",
      "model_module_version": "1.2.0",
      "model_name": "LayoutModel",
      "state": {}
     },
     "94120941d8134bc5b4a252b15efc449a": {
      "model_module": "@jupyter-widgets/controls",
      "model_module_version": "1.5.0",
      "model_name": "HTMLMathModel",
      "state": {
       "layout": "IPY_MODEL_6dad8dc389924fa0baf9c3f001d7c8f0",
       "style": "IPY_MODEL_8b4afb1df6eb4ce7a006f86f6c598a8f",
       "value": "Enter here the values of the right hand side vector $b$"
      }
     },
     "941ed82dec964d609a564aabc630068b": {
      "model_module": "@jupyter-widgets/base",
      "model_module_version": "1.2.0",
      "model_name": "LayoutModel",
      "state": {
       "width": "150px"
      }
     },
     "942d9e5ac5034120be3faf8d878d2c81": {
      "model_module": "@jupyter-widgets/controls",
      "model_module_version": "1.5.0",
      "model_name": "DropdownModel",
      "state": {
       "_options_labels": [
        "1",
        "2",
        "3"
       ],
       "description": "to row",
       "index": 1,
       "layout": "IPY_MODEL_028fe965c3f44a7892542246327f7496",
       "style": "IPY_MODEL_8747842558d9474e93039d23a3050a25"
      }
     },
     "94313c349e1e4bd8a709c582c48b3df4": {
      "model_module": "@jupyter-widgets/controls",
      "model_module_version": "1.5.0",
      "model_name": "DescriptionStyleModel",
      "state": {
       "description_width": ""
      }
     },
     "9451f37a7732424cb1f6a513095d1cdc": {
      "model_module": "@jupyter-widgets/controls",
      "model_module_version": "1.5.0",
      "model_name": "ButtonModel",
      "state": {
       "description": "Start",
       "layout": "IPY_MODEL_f0a80bf15b6444ab8a59063ef23e79bb",
       "style": "IPY_MODEL_ed10e4caac63416eacac28c3067e0ca7"
      }
     },
     "9472dc7c8a6341bc870d60aad19fefe8": {
      "model_module": "@jupyter-widgets/controls",
      "model_module_version": "1.5.0",
      "model_name": "DescriptionStyleModel",
      "state": {
       "description_width": ""
      }
     },
     "94993f2d8edb4c15b815b85125f23b3c": {
      "model_module": "@jupyter-widgets/controls",
      "model_module_version": "1.5.0",
      "model_name": "BoxModel",
      "state": {
       "children": [
        "IPY_MODEL_98f25a87b33c4872a51514dc01221949",
        "IPY_MODEL_a1de97ffa09b4779a1cb9bf24a973716",
        "IPY_MODEL_fc8138c1f7a44e6b8a907d0f7f1a0bd5",
        "IPY_MODEL_68543e0a26c047a583cd3e54b1d5d474"
       ],
       "layout": "IPY_MODEL_4ca520b5298740fab98874851bc7e360"
      }
     },
     "949d0b3da2cc4b99a1ef8e047d774c06": {
      "model_module": "@jupyter-widgets/controls",
      "model_module_version": "1.5.0",
      "model_name": "TextModel",
      "state": {
       "layout": "IPY_MODEL_c488e0656e78457c941ce778fefda70e",
       "style": "IPY_MODEL_637799a6bc404f5786c3fc4c24fa166f",
       "value": "-1"
      }
     },
     "94b8d5f2ae2c45bbb110d859f4abc8e2": {
      "model_module": "@jupyter-widgets/controls",
      "model_module_version": "1.5.0",
      "model_name": "GridBoxModel",
      "state": {
       "children": [
        "IPY_MODEL_d9c321a14c324ac69b3255f4deec5e0b",
        "IPY_MODEL_040bf9e24c294c4f92db343361cda087",
        "IPY_MODEL_17892684d7af47eab0f2ac4c6b193afb",
        "IPY_MODEL_2151371b93794de4b96228021502e397",
        "IPY_MODEL_653b2ea70b52429bafd64219b00041cd",
        "IPY_MODEL_e1c39a48cba64114b908607ac7759b10",
        "IPY_MODEL_ccf76a434cc940498a983acebe2be629",
        "IPY_MODEL_540f6b98699a4234b52615d1a1ebebea",
        "IPY_MODEL_85e2aa2db22a4271ad960d9b75559ce0"
       ],
       "layout": "IPY_MODEL_a267958442944f05b96cdab6280ca8d2"
      }
     },
     "94d1f64f764c4519b458eaae0bbacf75": {
      "model_module": "@jupyter-widgets/base",
      "model_module_version": "1.2.0",
      "model_name": "LayoutModel",
      "state": {}
     },
     "950636dfec7446fa929ac9c8e182e8f2": {
      "model_module": "@jupyter-widgets/base",
      "model_module_version": "1.2.0",
      "model_name": "LayoutModel",
      "state": {
       "width": "90px"
      }
     },
     "951ddb31c207458ca03edf12c64999e2": {
      "model_module": "@jupyter-widgets/controls",
      "model_module_version": "1.5.0",
      "model_name": "TextModel",
      "state": {
       "layout": "IPY_MODEL_65cb8db367e14667886b79ef97c800d1",
       "style": "IPY_MODEL_14ac1c7acedb4b4f8ef005ca8700024c",
       "value": "9"
      }
     },
     "952ba0c0e4fa4672ba0fe93aebbd3789": {
      "model_module": "@jupyter-widgets/controls",
      "model_module_version": "1.5.0",
      "model_name": "DropdownModel",
      "state": {
       "_options_labels": [
        "1",
        "2",
        "3"
       ],
       "description": "Swap row",
       "index": 0,
       "layout": "IPY_MODEL_12919e24d0384f1488cd93b35a3380ae",
       "style": "IPY_MODEL_fdc837dd94354c84be9339b023e36dce"
      }
     },
     "9555669019a44fb1a41ee73e6f7f9fc5": {
      "model_module": "@jupyter-widgets/controls",
      "model_module_version": "1.5.0",
      "model_name": "HTMLMathModel",
      "state": {
       "layout": "IPY_MODEL_f0c37c50ebf74d1b8c8e6007f1902a2d",
       "style": "IPY_MODEL_f768bf630d6d4b4e9df315eb1bccd4ca",
       "value": "The augmented matrix is:\n    $$\n    \\left[ \\begin{array}{rrr|r}\n        2 & -6 & 1 & 7\\\\\n        1 & 4 & -1 & -1\\\\\n        5 & 7 & -4 & 9\n    \\end{array} \\right]\n    $$"
      }
     },
     "955c3c0dbd694d0e9bb08773daf3d343": {
      "model_module": "@jupyter-widgets/controls",
      "model_module_version": "1.5.0",
      "model_name": "DescriptionStyleModel",
      "state": {
       "description_width": ""
      }
     },
     "955d3f6f69c849298521710ff0ff6624": {
      "model_module": "@jupyter-widgets/controls",
      "model_module_version": "1.5.0",
      "model_name": "ButtonModel",
      "state": {
       "description": "Start",
       "layout": "IPY_MODEL_3bea237394c74d4c910c2bd4cc8529e5",
       "style": "IPY_MODEL_619efbd321c941ee9694e5e4065169f4"
      }
     },
     "955dbb7de0f84ee49e6975e9addd5d1f": {
      "model_module": "@jupyter-widgets/controls",
      "model_module_version": "1.5.0",
      "model_name": "DescriptionStyleModel",
      "state": {
       "description_width": ""
      }
     },
     "95625489786e4c679acdba157ce43a5e": {
      "model_module": "@jupyter-widgets/base",
      "model_module_version": "1.2.0",
      "model_name": "LayoutModel",
      "state": {}
     },
     "9568f6d8e9624adaa6c2161c819c22b1": {
      "model_module": "@jupyter-widgets/controls",
      "model_module_version": "1.5.0",
      "model_name": "DropdownModel",
      "state": {
       "_options_labels": [
        "1",
        "2",
        "3"
       ],
       "description": "and row",
       "index": 1,
       "layout": "IPY_MODEL_30b93015e3c444248f73545d1d92177f",
       "style": "IPY_MODEL_cbf337106b2a4262bc245904dec0ac35"
      }
     },
     "95968a2cca7e472d98e5f41b5eb73ade": {
      "model_module": "@jupyter-widgets/controls",
      "model_module_version": "1.5.0",
      "model_name": "TextModel",
      "state": {
       "layout": "IPY_MODEL_e168436c7ee0437a9552e5f0afc85715",
       "style": "IPY_MODEL_a091e4374fce4662bd389dd4a81aad4b",
       "value": "3"
      }
     },
     "959b0d6930f44a08b608939ccfa4c2fa": {
      "model_module": "@jupyter-widgets/controls",
      "model_module_version": "1.5.0",
      "model_name": "ButtonModel",
      "state": {
       "description": "Start",
       "layout": "IPY_MODEL_74cd3546676f4b52998b873b9481d48e",
       "style": "IPY_MODEL_bfbe2a03bc8b4a278fd13b513823dee6"
      }
     },
     "95cb7d9d5c574abbbd440ef2e831fffb": {
      "model_module": "@jupyter-widgets/controls",
      "model_module_version": "1.5.0",
      "model_name": "ButtonModel",
      "state": {
       "description": "Multiply row",
       "layout": "IPY_MODEL_a30f6fbc8d4b486da40ee5ed59264372",
       "style": "IPY_MODEL_7ff2f59f334942ee8d37958d42187b79"
      }
     },
     "95dde4496c77470f913e9441131deb62": {
      "model_module": "@jupyter-widgets/controls",
      "model_module_version": "1.5.0",
      "model_name": "DescriptionStyleModel",
      "state": {
       "description_width": ""
      }
     },
     "95e4288b9a1a4eee8bbc63ed8f093aab": {
      "model_module": "@jupyter-widgets/controls",
      "model_module_version": "1.5.0",
      "model_name": "DescriptionStyleModel",
      "state": {
       "description_width": ""
      }
     },
     "95e89f6314944daa9a3b52d3a6f61e85": {
      "model_module": "@jupyter-widgets/controls",
      "model_module_version": "1.5.0",
      "model_name": "DescriptionStyleModel",
      "state": {
       "description_width": ""
      }
     },
     "95f4ff13162042cf8a405bff2dba842c": {
      "model_module": "@jupyter-widgets/base",
      "model_module_version": "1.2.0",
      "model_name": "LayoutModel",
      "state": {}
     },
     "9618558decf8443597cadb53683c3764": {
      "model_module": "@jupyter-widgets/controls",
      "model_module_version": "1.5.0",
      "model_name": "DropdownModel",
      "state": {
       "_options_labels": [
        "1",
        "2",
        "3"
       ],
       "description": "and row",
       "index": 1,
       "layout": "IPY_MODEL_aa8364a617964dd982070a8112c0d353",
       "style": "IPY_MODEL_2caeeb42ddce4b1ea35267507bd7eae1"
      }
     },
     "96188468312a477db1b449b98791ef6e": {
      "model_module": "@jupyter-widgets/controls",
      "model_module_version": "1.5.0",
      "model_name": "DescriptionStyleModel",
      "state": {
       "description_width": ""
      }
     },
     "9619a83f1039411bacf6160ccd9073e6": {
      "model_module": "@jupyter-widgets/controls",
      "model_module_version": "1.5.0",
      "model_name": "DescriptionStyleModel",
      "state": {
       "description_width": ""
      }
     },
     "9622b87d96e346ff9156b0af9b242f3e": {
      "model_module": "@jupyter-widgets/base",
      "model_module_version": "1.2.0",
      "model_name": "LayoutModel",
      "state": {
       "width": "150px"
      }
     },
     "9670e9cfb18f4124988e999e1d0344b0": {
      "model_module": "@jupyter-widgets/base",
      "model_module_version": "1.2.0",
      "model_name": "LayoutModel",
      "state": {}
     },
     "96731ed4acc440c6b494163601990df7": {
      "model_module": "@jupyter-widgets/controls",
      "model_module_version": "1.5.0",
      "model_name": "TextModel",
      "state": {
       "description": "times",
       "layout": "IPY_MODEL_3bb8261974264858a8fd215375cd4d04",
       "style": "IPY_MODEL_a6ee9256d81c4cf3bf7a593eb7811cdc",
       "value": "1"
      }
     },
     "9679b07c0f354f30afcf89b9f099a9f0": {
      "model_module": "@jupyter-widgets/controls",
      "model_module_version": "1.5.0",
      "model_name": "HBoxModel",
      "state": {
       "children": [
        "IPY_MODEL_8ac6f64dd6df4dd18c767b6a3d6ca935",
        "IPY_MODEL_73e278548575430ba34d148a792d1687"
       ],
       "layout": "IPY_MODEL_62eed11e178f4b81ad1c48f29f334fdb"
      }
     },
     "967bd7f4876744b0bd9efb3172246841": {
      "model_module": "@jupyter-widgets/controls",
      "model_module_version": "1.5.0",
      "model_name": "DescriptionStyleModel",
      "state": {
       "description_width": ""
      }
     },
     "968c59e906ae4323acc26bacb63baf83": {
      "model_module": "@jupyter-widgets/controls",
      "model_module_version": "1.5.0",
      "model_name": "TextModel",
      "state": {
       "layout": "IPY_MODEL_f28c3c7f5ced4384b8a9eca6bc4c00fd",
       "style": "IPY_MODEL_5f40c5be70ee456e903dc502557032d9",
       "value": "-1"
      }
     },
     "96a669ea2fbc4f5b89d66566f7c35020": {
      "model_module": "@jupyter-widgets/controls",
      "model_module_version": "1.5.0",
      "model_name": "VBoxModel",
      "state": {
       "children": [
        "IPY_MODEL_09347a6c033445648a5b38845b2cffd8",
        "IPY_MODEL_4148c095bd24450a8dd6b2d33c72966e",
        "IPY_MODEL_91784b2a3b01482e916116652aecf183"
       ],
       "layout": "IPY_MODEL_ea941d8f6eb24820bba538d2c4260b4a"
      }
     },
     "96c3b68a139842e9b54a2a02b927daba": {
      "model_module": "@jupyter-widgets/controls",
      "model_module_version": "1.5.0",
      "model_name": "DescriptionStyleModel",
      "state": {
       "description_width": ""
      }
     },
     "96d19d494fb04199b01f18e291be8b75": {
      "model_module": "@jupyter-widgets/base",
      "model_module_version": "1.2.0",
      "model_name": "LayoutModel",
      "state": {
       "justify_content": "space-between"
      }
     },
     "96d97b2c33114511b89b12ab5eb8480b": {
      "model_module": "@jupyter-widgets/base",
      "model_module_version": "1.2.0",
      "model_name": "LayoutModel",
      "state": {
       "justify_content": "space-between"
      }
     },
     "96e694cf6c574adeb0604bd1b34eb473": {
      "model_module": "@jupyter-widgets/controls",
      "model_module_version": "1.5.0",
      "model_name": "DescriptionStyleModel",
      "state": {
       "description_width": ""
      }
     },
     "96ea6fa32ca14d219844712a3a7b5513": {
      "model_module": "@jupyter-widgets/controls",
      "model_module_version": "1.5.0",
      "model_name": "HBoxModel",
      "state": {
       "children": [
        "IPY_MODEL_3e42da55c14d4c96ad61bc1b4584224c",
        "IPY_MODEL_1f1721a406774c5b881d4b6417839ce7",
        "IPY_MODEL_4de8fcd02a244d71938c6b584b708e3d"
       ],
       "layout": "IPY_MODEL_f40918507ba748c199cf99ae1d4a343b"
      }
     },
     "96f594af6c60456f9434245523ff8f55": {
      "model_module": "@jupyter-widgets/controls",
      "model_module_version": "1.5.0",
      "model_name": "HTMLModel",
      "state": {
       "layout": "IPY_MODEL_28373c1896904be39f1e3dac378e9e2b",
       "style": "IPY_MODEL_536f548f2c294c0f9c0a20c81f76e8e3",
       "value": "Click this button to start the calculator"
      }
     },
     "96fce22b49874b799fe61902fd5c9a6c": {
      "model_module": "@jupyter-widgets/controls",
      "model_module_version": "1.5.0",
      "model_name": "DescriptionStyleModel",
      "state": {
       "description_width": ""
      }
     },
     "9704ef41a85f442289d2ac76308a8904": {
      "model_module": "@jupyter-widgets/base",
      "model_module_version": "1.2.0",
      "model_name": "LayoutModel",
      "state": {
       "width": "150px"
      }
     },
     "971e67b66ce3494aa2df14e4deb3957a": {
      "model_module": "@jupyter-widgets/controls",
      "model_module_version": "1.5.0",
      "model_name": "TextModel",
      "state": {
       "layout": "IPY_MODEL_d7c4f11771b948fa9166cf5745d8d1c9",
       "style": "IPY_MODEL_66575964dc914c028d2493954e6ba604",
       "value": "1"
      }
     },
     "97406c9b014244d992281efd858ca0f3": {
      "model_module": "@jupyter-widgets/controls",
      "model_module_version": "1.5.0",
      "model_name": "HTMLMathModel",
      "state": {
       "layout": "IPY_MODEL_b4ac8b1e033149548f2275cb87701126",
       "style": "IPY_MODEL_ee4d54acd3764853a2e18fb37c87f6ff",
       "value": "Enter here the values of the constant matrix $\\bf{B}$"
      }
     },
     "97443628219a4546b47dd3d531819942": {
      "model_module": "@jupyter-widgets/controls",
      "model_module_version": "1.5.0",
      "model_name": "TextModel",
      "state": {
       "layout": "IPY_MODEL_b2827ab913cf4f49b7a4aeebd116396e",
       "style": "IPY_MODEL_85587d5312494651852678f83ffd5726",
       "value": "7"
      }
     },
     "9748d940eb5e476998049c017764b096": {
      "model_module": "@jupyter-widgets/controls",
      "model_module_version": "1.5.0",
      "model_name": "TextModel",
      "state": {
       "layout": "IPY_MODEL_d29f4c6323274c2ea715833a610068a5",
       "style": "IPY_MODEL_1babda5310064a1095c2a1ce71e0f253",
       "value": "2"
      }
     },
     "9773009742044ae4ba9e6f3c13ba3bb5": {
      "model_module": "@jupyter-widgets/base",
      "model_module_version": "1.2.0",
      "model_name": "LayoutModel",
      "state": {}
     },
     "97993fa24fac42e28605e8d366180168": {
      "model_module": "@jupyter-widgets/base",
      "model_module_version": "1.2.0",
      "model_name": "LayoutModel",
      "state": {
       "height": "35px",
       "width": "40px"
      }
     },
     "97f8b4a8fac04a3981c1e2226e3d2bea": {
      "model_module": "@jupyter-widgets/controls",
      "model_module_version": "1.5.0",
      "model_name": "HBoxModel",
      "state": {
       "children": [
        "IPY_MODEL_39c5948a10d24f4fa19897b7497b1a5f",
        "IPY_MODEL_5d10ef145dcf4288b6428af42387ee99"
       ],
       "layout": "IPY_MODEL_3beea588c1084881ba2fc96a06fface2"
      }
     },
     "981dcb87019a4ded9037f1f6ced8af62": {
      "model_module": "@jupyter-widgets/base",
      "model_module_version": "1.2.0",
      "model_name": "LayoutModel",
      "state": {
       "width": "150px"
      }
     },
     "982eb6210cee45f383a61d447317ed55": {
      "model_module": "@jupyter-widgets/controls",
      "model_module_version": "1.5.0",
      "model_name": "TextModel",
      "state": {
       "layout": "IPY_MODEL_194d5881fb18447585798b14c51e301b",
       "style": "IPY_MODEL_ef8ff7e115424eeb9f1ab956b502617e",
       "value": "-1"
      }
     },
     "98516fb8019d423eb195970e617bc353": {
      "model_module": "@jupyter-widgets/controls",
      "model_module_version": "1.5.0",
      "model_name": "TextModel",
      "state": {
       "layout": "IPY_MODEL_d743f8ba50f447a3ad2d5faaa6a0e9e2",
       "style": "IPY_MODEL_c439c5fd2e8241318092750f6357d1a6",
       "value": "-1"
      }
     },
     "9860967390e442e6b59702d77463839c": {
      "model_module": "@jupyter-widgets/controls",
      "model_module_version": "1.5.0",
      "model_name": "DescriptionStyleModel",
      "state": {
       "description_width": ""
      }
     },
     "98639c4fe44f4ad2b8cac11ae8e2bbb3": {
      "model_module": "@jupyter-widgets/controls",
      "model_module_version": "1.5.0",
      "model_name": "ButtonStyleModel",
      "state": {}
     },
     "988c15a0f6f04ff0ba5087dcb70c9a60": {
      "model_module": "@jupyter-widgets/controls",
      "model_module_version": "1.5.0",
      "model_name": "ButtonStyleModel",
      "state": {}
     },
     "98977cdc57a84cb394170264d2755082": {
      "model_module": "@jupyter-widgets/base",
      "model_module_version": "1.2.0",
      "model_name": "LayoutModel",
      "state": {
       "flex_flow": "row wrap",
       "justify_content": "space-around"
      }
     },
     "989b38be82d14a488904e5186fcb3161": {
      "model_module": "@jupyter-widgets/controls",
      "model_module_version": "1.5.0",
      "model_name": "TextModel",
      "state": {
       "layout": "IPY_MODEL_dfe771ca3cb647c5ba599a113ad575df",
       "style": "IPY_MODEL_75d53e8d60304c599bec5db36d1d566e",
       "value": "-6"
      }
     },
     "98c124b12b4c48cbb371b2d915f41d35": {
      "model_module": "@jupyter-widgets/base",
      "model_module_version": "1.2.0",
      "model_name": "LayoutModel",
      "state": {
       "width": "120px"
      }
     },
     "98f25a87b33c4872a51514dc01221949": {
      "model_module": "@jupyter-widgets/controls",
      "model_module_version": "1.5.0",
      "model_name": "HBoxModel",
      "state": {
       "children": [
        "IPY_MODEL_bab1f6c2766b44c2a3abf090e834a017",
        "IPY_MODEL_9c640ce0cd04473dbc759760acdace4f"
       ],
       "layout": "IPY_MODEL_271c37bcc7cc4dab8c857a1a5c5cf653"
      }
     },
     "9907801a18664d2aaf487bc082ecf80b": {
      "model_module": "@jupyter-widgets/base",
      "model_module_version": "1.2.0",
      "model_name": "LayoutModel",
      "state": {
       "width": "50px"
      }
     },
     "99176302b17940a8948bb8b5c64c9a47": {
      "model_module": "@jupyter-widgets/controls",
      "model_module_version": "1.5.0",
      "model_name": "ButtonModel",
      "state": {
       "description": "Swap rows",
       "layout": "IPY_MODEL_76f2ebc86de64662b256384098ea0f74",
       "style": "IPY_MODEL_27e12ce652fd4b288abbe6a1c86ca315"
      }
     },
     "99297227650b4b25a957dead6bc6dc34": {
      "model_module": "@jupyter-widgets/controls",
      "model_module_version": "1.5.0",
      "model_name": "DescriptionStyleModel",
      "state": {
       "description_width": ""
      }
     },
     "9935ee937e5d4e7696be5d4b22b056b3": {
      "model_module": "@jupyter-widgets/controls",
      "model_module_version": "1.5.0",
      "model_name": "TextModel",
      "state": {
       "layout": "IPY_MODEL_776389df997545fcab086c0233cb0ab0",
       "style": "IPY_MODEL_b79a6222ceb24a419585eace47c694cb",
       "value": "-4"
      }
     },
     "993857af94b74179938819e908dd6211": {
      "model_module": "@jupyter-widgets/controls",
      "model_module_version": "1.5.0",
      "model_name": "TextModel",
      "state": {
       "layout": "IPY_MODEL_194d5881fb18447585798b14c51e301b",
       "style": "IPY_MODEL_42b15d0e1fbb489f8b3bd80087e7f0af",
       "value": "7"
      }
     },
     "99441ff72fda4f91aa7f34e23eebb138": {
      "model_module": "@jupyter-widgets/controls",
      "model_module_version": "1.5.0",
      "model_name": "VBoxModel",
      "state": {
       "children": [
        "IPY_MODEL_f9d6b70b6cf044e3a32555cfb438c052",
        "IPY_MODEL_7e1c175d4ba249ea8c0511d244d4f399",
        "IPY_MODEL_c600058616a24e58990e5d00c1b9f6bf"
       ],
       "layout": "IPY_MODEL_05f1926266754cfd91626bb84964269a"
      }
     },
     "996630e66dd54e9cb6a3775c5bda16d9": {
      "model_module": "@jupyter-widgets/controls",
      "model_module_version": "1.5.0",
      "model_name": "DescriptionStyleModel",
      "state": {
       "description_width": ""
      }
     },
     "9991906b4c984d73bb62878fc1749ca9": {
      "model_module": "@jupyter-widgets/controls",
      "model_module_version": "1.5.0",
      "model_name": "DescriptionStyleModel",
      "state": {
       "description_width": ""
      }
     },
     "999d16ca92594bd4a58a13637bcd4cc1": {
      "model_module": "@jupyter-widgets/controls",
      "model_module_version": "1.5.0",
      "model_name": "DescriptionStyleModel",
      "state": {
       "description_width": ""
      }
     },
     "99d435aca2024110b4a5617ab503fafc": {
      "model_module": "@jupyter-widgets/base",
      "model_module_version": "1.2.0",
      "model_name": "LayoutModel",
      "state": {
       "width": "100px"
      }
     },
     "99e5d8fa7af7400c802122803725fb61": {
      "model_module": "@jupyter-widgets/controls",
      "model_module_version": "1.5.0",
      "model_name": "DescriptionStyleModel",
      "state": {
       "description_width": ""
      }
     },
     "99eebb9442fe47b185aaa9db049de54c": {
      "model_module": "@jupyter-widgets/base",
      "model_module_version": "1.2.0",
      "model_name": "LayoutModel",
      "state": {}
     },
     "9a0711ec496342c8ab978bcf70283918": {
      "model_module": "@jupyter-widgets/base",
      "model_module_version": "1.2.0",
      "model_name": "LayoutModel",
      "state": {}
     },
     "9a32256fa2db4d9ca3b8ef74421a0fc7": {
      "model_module": "@jupyter-widgets/controls",
      "model_module_version": "1.5.0",
      "model_name": "VBoxModel",
      "state": {
       "children": [
        "IPY_MODEL_bfd6547c96934322a8127ac99b2d50d7",
        "IPY_MODEL_80ecd02b4878462a9bfea2798770cbd0"
       ],
       "layout": "IPY_MODEL_ba79112c0e374f10899baada70e94c53"
      }
     },
     "9a673a15eb51477c869624fda7432d4b": {
      "model_module": "@jupyter-widgets/controls",
      "model_module_version": "1.5.0",
      "model_name": "ButtonStyleModel",
      "state": {}
     },
     "9a82381e9fc44c2a8bd80e485571bd17": {
      "model_module": "@jupyter-widgets/base",
      "model_module_version": "1.2.0",
      "model_name": "LayoutModel",
      "state": {
       "width": "90px"
      }
     },
     "9ad40d767bd946dca55ed665b376fa37": {
      "model_module": "@jupyter-widgets/controls",
      "model_module_version": "1.5.0",
      "model_name": "DescriptionStyleModel",
      "state": {
       "description_width": ""
      }
     },
     "9aec1d5a682849f8bf63ed0d4f07169d": {
      "model_module": "@jupyter-widgets/controls",
      "model_module_version": "1.5.0",
      "model_name": "DescriptionStyleModel",
      "state": {
       "description_width": ""
      }
     },
     "9af74652ab8347ec97ce3b0b40395138": {
      "model_module": "@jupyter-widgets/controls",
      "model_module_version": "1.5.0",
      "model_name": "HTMLMathModel",
      "state": {
       "layout": "IPY_MODEL_32541324f6cb4c70802a6209a605ccaf",
       "style": "IPY_MODEL_0221b6529c754201b043eb2e1435cc33",
       "value": "The augmented matrix $(\\bf{A}|\\bf{B})$ is:\n $$\\left [\\begin{array}{ rrr|r }\n4 & 1 & -2 & 3 \\\\\n3 & -1 & 1 & 2 \\\\\n1 & -1 & 1 & 0\n\\end{array}\\right ] $$ with $\\det A =2$."
      }
     },
     "9b00b4ec31964672a420c973147abced": {
      "model_module": "@jupyter-widgets/controls",
      "model_module_version": "1.5.0",
      "model_name": "DescriptionStyleModel",
      "state": {
       "description_width": ""
      }
     },
     "9b06db0e30214a879741724ebb9ce690": {
      "model_module": "@jupyter-widgets/base",
      "model_module_version": "1.2.0",
      "model_name": "LayoutModel",
      "state": {
       "width": "300px"
      }
     },
     "9b34b632123f4974b8391883ef60cfea": {
      "model_module": "@jupyter-widgets/controls",
      "model_module_version": "1.5.0",
      "model_name": "TextModel",
      "state": {
       "layout": "IPY_MODEL_201e1a4ee32840b19f981690bdacf3ae",
       "style": "IPY_MODEL_79601fac43644dfe8498d7c9159ac60e",
       "value": "-1"
      }
     },
     "9b3904d84cc34825880f52798ae1bc87": {
      "model_module": "@jupyter-widgets/base",
      "model_module_version": "1.2.0",
      "model_name": "LayoutModel",
      "state": {}
     },
     "9b595882bcef4c6eac513d65019fb4ef": {
      "model_module": "@jupyter-widgets/controls",
      "model_module_version": "1.5.0",
      "model_name": "HTMLMathModel",
      "state": {
       "layout": "IPY_MODEL_df7ed4d4e9904840924fa377a3d4b92c",
       "style": "IPY_MODEL_7241a873056b49d3877814e2ac8b97c7",
       "value": "Enter here the values of the matrix $\\bf{A}$"
      }
     },
     "9b59b8f98c2245d096f2be7208f7522f": {
      "model_module": "@jupyter-widgets/controls",
      "model_module_version": "1.5.0",
      "model_name": "HBoxModel",
      "state": {
       "children": [
        "IPY_MODEL_3b644969fba742ac8715488678270c0c",
        "IPY_MODEL_7fb4a2fd115246778a2f07a8cb6d4e36",
        "IPY_MODEL_85801564a80549adbf3ff92b4d61e3f2"
       ],
       "layout": "IPY_MODEL_e7f2c78a6f2f46f18eb36073e544aa51"
      }
     },
     "9b63673dcd2344eda79dba68ac1fb197": {
      "model_module": "@jupyter-widgets/controls",
      "model_module_version": "1.5.0",
      "model_name": "DescriptionStyleModel",
      "state": {
       "description_width": ""
      }
     },
     "9b690c913985495384e27195dd29d951": {
      "model_module": "@jupyter-widgets/controls",
      "model_module_version": "1.5.0",
      "model_name": "GridBoxModel",
      "state": {
       "children": [
        "IPY_MODEL_e439883eb1d84e48bda3ae1ab492300f",
        "IPY_MODEL_305e593408534fb2bf02cd0a3b5a063e",
        "IPY_MODEL_d0faa64755d84ee09b37ed0568f1d661"
       ],
       "layout": "IPY_MODEL_9ecb7bf116fe40e38c29d3b032b11485"
      }
     },
     "9b7575d290054351ab81d7d8cbbbff8a": {
      "model_module": "@jupyter-widgets/controls",
      "model_module_version": "1.5.0",
      "model_name": "DescriptionStyleModel",
      "state": {
       "description_width": ""
      }
     },
     "9bf84e09e10049c3930a283180c06a32": {
      "model_module": "@jupyter-widgets/controls",
      "model_module_version": "1.5.0",
      "model_name": "DescriptionStyleModel",
      "state": {
       "description_width": ""
      }
     },
     "9c0b56dc468441629eb1806c60e3d5ba": {
      "model_module": "@jupyter-widgets/controls",
      "model_module_version": "1.5.0",
      "model_name": "HTMLMathModel",
      "state": {
       "layout": "IPY_MODEL_7c61e0c2b43c4fd2937ed781f78ab29e",
       "style": "IPY_MODEL_067f2e63bd504995866dd23c4c0461b6",
       "value": "The augmented matrix $(\\bf{A}|\\bf{B})$ will appear here."
      }
     },
     "9c1a5a907b704f7ebf2cefc7c89f9124": {
      "model_module": "@jupyter-widgets/controls",
      "model_module_version": "1.5.0",
      "model_name": "VBoxModel",
      "state": {
       "children": [
        "IPY_MODEL_3b7f380bdd6e494b996eeeed29bfc430",
        "IPY_MODEL_7920598ae2de47498f360537ce342b43",
        "IPY_MODEL_4c88779a52f14fbc816379b4b6a50e79"
       ],
       "layout": "IPY_MODEL_09c868aa266b4a4f91083bec6c8fd593"
      }
     },
     "9c2115dcd23149b4b1539d130af7e9b0": {
      "model_module": "@jupyter-widgets/base",
      "model_module_version": "1.2.0",
      "model_name": "LayoutModel",
      "state": {
       "width": "100px"
      }
     },
     "9c307432a46441c1865d286171269841": {
      "model_module": "@jupyter-widgets/controls",
      "model_module_version": "1.5.0",
      "model_name": "TextModel",
      "state": {
       "layout": "IPY_MODEL_b2827ab913cf4f49b7a4aeebd116396e",
       "style": "IPY_MODEL_c5d708b861ca42ef98ce6bee61e47e39",
       "value": "-4"
      }
     },
     "9c56a278d3eb4ff5a3ed50ae0d38f251": {
      "model_module": "@jupyter-widgets/base",
      "model_module_version": "1.2.0",
      "model_name": "LayoutModel",
      "state": {}
     },
     "9c5fb3dcd7644526af57adb06996e84b": {
      "model_module": "@jupyter-widgets/controls",
      "model_module_version": "1.5.0",
      "model_name": "DropdownModel",
      "state": {
       "_options_labels": [
        "1",
        "2",
        "3"
       ],
       "description": "Row",
       "index": 1,
       "layout": "IPY_MODEL_c056a79e780d43c89b62fbe55fbe56f4",
       "style": "IPY_MODEL_e6e8634bf3fa45a981d0b15fb379c303"
      }
     },
     "9c640ce0cd04473dbc759760acdace4f": {
      "model_module": "@jupyter-widgets/controls",
      "model_module_version": "1.5.0",
      "model_name": "VBoxModel",
      "state": {
       "children": [
        "IPY_MODEL_f474cab1c8f54b52bad2fe2cb3823b84",
        "IPY_MODEL_df70b502de93411190527415db503d0b",
        "IPY_MODEL_5a821d7e577b42c8ae2d56a31fcfec77"
       ],
       "layout": "IPY_MODEL_ab43396becc34353a6270f34e81e3bed"
      }
     },
     "9c6effb8a19a497189c0e14d57ea300b": {
      "model_module": "@jupyter-widgets/controls",
      "model_module_version": "1.5.0",
      "model_name": "DescriptionStyleModel",
      "state": {
       "description_width": ""
      }
     },
     "9c73f942b87642ed81933ab42fc9e355": {
      "model_module": "@jupyter-widgets/controls",
      "model_module_version": "1.5.0",
      "model_name": "DescriptionStyleModel",
      "state": {
       "description_width": ""
      }
     },
     "9c9ac125803046c9a98c0065cb43e73a": {
      "model_module": "@jupyter-widgets/controls",
      "model_module_version": "1.5.0",
      "model_name": "HBoxModel",
      "state": {
       "children": [
        "IPY_MODEL_642fa8999dd34e5aa518b1a4b2a4c1a9",
        "IPY_MODEL_a4af4e14976342d1af0c90a71e99f190",
        "IPY_MODEL_36dbc954e5a74e50ac82fc551f0ed952"
       ],
       "layout": "IPY_MODEL_6afae485e1274ef0835afdd3b9aba54f"
      }
     },
     "9ca9815f747941e28c83e5a20b4c3311": {
      "model_module": "@jupyter-widgets/base",
      "model_module_version": "1.2.0",
      "model_name": "LayoutModel",
      "state": {
       "grid_template_columns": "repeat(3, 45px)"
      }
     },
     "9ccfb7a25fe049db8aeb3cddf1cef57c": {
      "model_module": "@jupyter-widgets/controls",
      "model_module_version": "1.5.0",
      "model_name": "HTMLMathModel",
      "state": {
       "layout": "IPY_MODEL_1c59f0e6916a496c860ac94baefb0399",
       "style": "IPY_MODEL_d66184e2c3a94e53a7e66b6a2f6b1290",
       "value": "Enter here the values of the matrix $\\bf{A}$"
      }
     },
     "9d39e1be33c14ddab3fca2fbfdc502fe": {
      "model_module": "@jupyter-widgets/controls",
      "model_module_version": "1.5.0",
      "model_name": "DescriptionStyleModel",
      "state": {
       "description_width": ""
      }
     },
     "9d4493d685d84937912b85c0d5271711": {
      "model_module": "@jupyter-widgets/controls",
      "model_module_version": "1.5.0",
      "model_name": "TextModel",
      "state": {
       "description": "times",
       "layout": "IPY_MODEL_415c7b25f4f343c89e46759710c95b06",
       "style": "IPY_MODEL_fdd9a13217c84e56af4da7e5d815beb4",
       "value": "1"
      }
     },
     "9d4f4bc73e39442d88c4587c9b24417e": {
      "model_module": "@jupyter-widgets/base",
      "model_module_version": "1.2.0",
      "model_name": "LayoutModel",
      "state": {
       "width": "150px"
      }
     },
     "9d633646cedf46749f505f90aa0f0810": {
      "model_module": "@jupyter-widgets/controls",
      "model_module_version": "1.5.0",
      "model_name": "TextModel",
      "state": {
       "layout": "IPY_MODEL_065f08ede0b647238ec761aa592646c7",
       "style": "IPY_MODEL_10c7837a966f4796a96051bb35ea126d",
       "value": "2"
      }
     },
     "9db8695a9feb44889b2e280f93ad8f06": {
      "model_module": "@jupyter-widgets/controls",
      "model_module_version": "1.5.0",
      "model_name": "BoxModel",
      "state": {
       "children": [
        "IPY_MODEL_fdbaef6e96274830b8505ca4383f5224",
        "IPY_MODEL_3c1daffb2501413c9a1420c84d71ecbf",
        "IPY_MODEL_24e928f6f8cb48e9a2c8810e45ffa908",
        "IPY_MODEL_9555669019a44fb1a41ee73e6f7f9fc5"
       ],
       "layout": "IPY_MODEL_7b8ad78edd6c44ac9043e4d4307a3ab1"
      }
     },
     "9dc76bbe6c1d4d11b03eb0374dfcccb5": {
      "model_module": "@jupyter-widgets/controls",
      "model_module_version": "1.5.0",
      "model_name": "HBoxModel",
      "state": {
       "children": [
        "IPY_MODEL_6e066c9211684a5481eadc996b6c51d1",
        "IPY_MODEL_f2eb8d9717d341ecb4c76868748421e1"
       ],
       "layout": "IPY_MODEL_5f2425829dae4b15b0a0d0b3a37cb4e2"
      }
     },
     "9de1a19af4be4c1083926ee9d6a6c9c5": {
      "model_module": "@jupyter-widgets/controls",
      "model_module_version": "1.5.0",
      "model_name": "DescriptionStyleModel",
      "state": {
       "description_width": ""
      }
     },
     "9de3d1ad90064f468a849a10745fd0fa": {
      "model_module": "@jupyter-widgets/controls",
      "model_module_version": "1.5.0",
      "model_name": "TextModel",
      "state": {
       "layout": "IPY_MODEL_250753b918e0432c803452a019d33c5c",
       "style": "IPY_MODEL_955c3c0dbd694d0e9bb08773daf3d343",
       "value": "2"
      }
     },
     "9dfe574a4a8e4415b2620da2cc67ac24": {
      "model_module": "@jupyter-widgets/base",
      "model_module_version": "1.2.0",
      "model_name": "LayoutModel",
      "state": {}
     },
     "9e0ead81d8cb4c44b526642f8d8a47d0": {
      "model_module": "@jupyter-widgets/controls",
      "model_module_version": "1.5.0",
      "model_name": "DescriptionStyleModel",
      "state": {
       "description_width": ""
      }
     },
     "9e1d0b398a274dd2936890aa79201eb9": {
      "model_module": "@jupyter-widgets/controls",
      "model_module_version": "1.5.0",
      "model_name": "HTMLMathModel",
      "state": {
       "layout": "IPY_MODEL_5cd82bfc64364e8b8c3ed782b6637c82",
       "style": "IPY_MODEL_4f2889aa15df49d7b228e1b9cf9c3298",
       "value": "$$ $$$$ \\left[\\begin{array}{ rrr|r }\n\\color{ blue }{ 4 } & \\color{ blue }{ 1 } & \\color{ blue }{ -2 } & \\color{ blue }{ 3 } \\\\\n\\color{ red }{ 3 } & \\color{ red }{ -1 } & \\color{ red }{ 1 } & \\color{ red }{ 2 } \\\\\n1 & -1 & 1 & 0\n\\end{array}\\right ]\\stackrel{ \\color{blue}{R_1} \\leftrightarrow \\color{red}{R_2}}{\\Longrightarrow}\\left [\\begin{array}{ rrr|r }\n\\color{ red }{ 3 } & \\color{ red }{ -1 } & \\color{ red }{ 1 } & \\color{ red }{ 2 } \\\\\n\\color{ blue }{ 4 } & \\color{ blue }{ 1 } & \\color{ blue }{ -2 } & \\color{ blue }{ 3 } \\\\\n1 & -1 & 1 & 0\n\\end{array}\\right ] $$"
      }
     },
     "9e2f248b499648cf9f65c5e5a6b3f74b": {
      "model_module": "@jupyter-widgets/controls",
      "model_module_version": "1.5.0",
      "model_name": "VBoxModel",
      "state": {
       "children": [
        "IPY_MODEL_017cf17c585148b18d0df195df307086",
        "IPY_MODEL_a1a21a2c64ef4b4ba3161ccdafb83b37"
       ],
       "layout": "IPY_MODEL_095f0bb465814d788951e17aee133a42"
      }
     },
     "9e4c2557cd14444a8c717ce1ca253cae": {
      "model_module": "@jupyter-widgets/base",
      "model_module_version": "1.2.0",
      "model_name": "LayoutModel",
      "state": {
       "flex_flow": "row wrap",
       "justify_content": "space-around"
      }
     },
     "9e523b43626a434d8e9b35924bb6dad3": {
      "model_module": "@jupyter-widgets/base",
      "model_module_version": "1.2.0",
      "model_name": "LayoutModel",
      "state": {
       "justify_content": "space-between"
      }
     },
     "9e8ea9f08df8499eb80b895b04aa8775": {
      "model_module": "@jupyter-widgets/base",
      "model_module_version": "1.2.0",
      "model_name": "LayoutModel",
      "state": {
       "width": "40px"
      }
     },
     "9e9c3873cf7e4fe68504d566674dadf1": {
      "model_module": "@jupyter-widgets/base",
      "model_module_version": "1.2.0",
      "model_name": "LayoutModel",
      "state": {}
     },
     "9eb7208844e74bd9868e7fe13c980bed": {
      "model_module": "@jupyter-widgets/base",
      "model_module_version": "1.2.0",
      "model_name": "LayoutModel",
      "state": {}
     },
     "9ecb7bf116fe40e38c29d3b032b11485": {
      "model_module": "@jupyter-widgets/base",
      "model_module_version": "1.2.0",
      "model_name": "LayoutModel",
      "state": {
       "grid_template_columns": "repeat(1, 45px)"
      }
     },
     "9ef5aee8414e411ab9b26d478502db02": {
      "model_module": "@jupyter-widgets/base",
      "model_module_version": "1.2.0",
      "model_name": "LayoutModel",
      "state": {}
     },
     "9ef9826b987a4c6bb930e59baa3ec7bd": {
      "model_module": "@jupyter-widgets/controls",
      "model_module_version": "1.5.0",
      "model_name": "HBoxModel",
      "state": {
       "children": [
        "IPY_MODEL_48a458c96d0c4f59a0d60b46fee3180c",
        "IPY_MODEL_ec03ea6157c04c5f823fa7f5591c7e58"
       ],
       "layout": "IPY_MODEL_eaf31ba8fcce43b2be33f3b76c6cd8dc"
      }
     },
     "9f2cc071763c4f679babfb91574d512d": {
      "model_module": "@jupyter-widgets/controls",
      "model_module_version": "1.5.0",
      "model_name": "DescriptionStyleModel",
      "state": {
       "description_width": ""
      }
     },
     "9f323d97e66c42f0a174cf6fb1d537d8": {
      "model_module": "@jupyter-widgets/controls",
      "model_module_version": "1.5.0",
      "model_name": "DescriptionStyleModel",
      "state": {
       "description_width": ""
      }
     },
     "9f3ec02253cf49a18343d80ccc1d0f0c": {
      "model_module": "@jupyter-widgets/base",
      "model_module_version": "1.2.0",
      "model_name": "LayoutModel",
      "state": {}
     },
     "9f4d9e00ae3e470a8d024478444df27d": {
      "model_module": "@jupyter-widgets/base",
      "model_module_version": "1.2.0",
      "model_name": "LayoutModel",
      "state": {
       "height": "35px",
       "width": "30px"
      }
     },
     "9f5c6fc6e5d54c558e0b19411d7d63f6": {
      "model_module": "@jupyter-widgets/controls",
      "model_module_version": "1.5.0",
      "model_name": "HTMLMathModel",
      "state": {
       "layout": "IPY_MODEL_28778d37a3d34de8abdb465645c3a198",
       "style": "IPY_MODEL_3a78b01b2cf848cebd0752e725e1eb43",
       "value": "The augmented matrix $(\\bf{A}|\\bf{B})$ will appear here."
      }
     },
     "9f73eee50005417b96459dbd9eeba9ef": {
      "model_module": "@jupyter-widgets/controls",
      "model_module_version": "1.5.0",
      "model_name": "TextModel",
      "state": {
       "layout": "IPY_MODEL_a6b672bf88094d8fa8327c74293c6a55",
       "style": "IPY_MODEL_f3bfe76ba66241cdb015000c16d218cd",
       "value": "7"
      }
     },
     "9fc9b98503f445afa47a3400c4b6611d": {
      "model_module": "@jupyter-widgets/controls",
      "model_module_version": "1.5.0",
      "model_name": "VBoxModel",
      "state": {
       "children": [
        "IPY_MODEL_64a276f07dc746b3ba04a9063d7af81f",
        "IPY_MODEL_3e9436ced64d4d2585161ed2571da4d8"
       ],
       "layout": "IPY_MODEL_93f18c113c4d47579b3ad5e2cba4f782"
      }
     },
     "9fde1b3c35b643829e926787b51bd861": {
      "model_module": "@jupyter-widgets/base",
      "model_module_version": "1.2.0",
      "model_name": "LayoutModel",
      "state": {
       "width": "150px"
      }
     },
     "9fe42b2fd1794fcb9db6d654f804828d": {
      "model_module": "@jupyter-widgets/controls",
      "model_module_version": "1.5.0",
      "model_name": "VBoxModel",
      "state": {
       "children": [
        "IPY_MODEL_d378e134c1ff45c398c6ec228da84b6d",
        "IPY_MODEL_56588b94a7b544949832cdad083ac66f",
        "IPY_MODEL_4cdc710347c84425bf813fbc1354240a"
       ],
       "layout": "IPY_MODEL_c5006b66ec054928b6f7cb8cd1f20974"
      }
     },
     "9fecc969df554c3bb6fa46b79b26d15e": {
      "model_module": "@jupyter-widgets/controls",
      "model_module_version": "1.5.0",
      "model_name": "DescriptionStyleModel",
      "state": {
       "description_width": ""
      }
     },
     "a00428fdcf0f49d88311e8669fe71f32": {
      "model_module": "@jupyter-widgets/controls",
      "model_module_version": "1.5.0",
      "model_name": "HTMLModel",
      "state": {
       "layout": "IPY_MODEL_0c9442cac1194995a742e23535c40406",
       "style": "IPY_MODEL_e7adadbd8c24482b91e34418165d0ae6",
       "value": "Click this button to start the calculator"
      }
     },
     "a016b0f585fc49268e9a5ff9755694f4": {
      "model_module": "@jupyter-widgets/controls",
      "model_module_version": "1.5.0",
      "model_name": "ButtonStyleModel",
      "state": {}
     },
     "a03bc017a49840339e22a299913355a4": {
      "model_module": "@jupyter-widgets/controls",
      "model_module_version": "1.5.0",
      "model_name": "DescriptionStyleModel",
      "state": {
       "description_width": ""
      }
     },
     "a03cb5bbc7f4420fabeb26bbb3614ff6": {
      "model_module": "@jupyter-widgets/controls",
      "model_module_version": "1.5.0",
      "model_name": "TextModel",
      "state": {
       "description": "times",
       "layout": "IPY_MODEL_a9aa8bf633fb45d48fbf81f1d5c055b2",
       "style": "IPY_MODEL_9b00b4ec31964672a420c973147abced",
       "value": "1"
      }
     },
     "a06d5e61cd154c7495ee487b5828bb2a": {
      "model_module": "@jupyter-widgets/controls",
      "model_module_version": "1.5.0",
      "model_name": "TextModel",
      "state": {
       "layout": "IPY_MODEL_d7c4f11771b948fa9166cf5745d8d1c9",
       "style": "IPY_MODEL_823004aa46354852aee0fd37c0b030ba",
       "value": "0"
      }
     },
     "a08a9d8a40b947e7b2a97a75e62af6e6": {
      "model_module": "@jupyter-widgets/controls",
      "model_module_version": "1.5.0",
      "model_name": "TextModel",
      "state": {
       "layout": "IPY_MODEL_d743f8ba50f447a3ad2d5faaa6a0e9e2",
       "style": "IPY_MODEL_b60a9d5d2d7c4355bc32aca3b805cbf6",
       "value": "-6"
      }
     },
     "a091e4374fce4662bd389dd4a81aad4b": {
      "model_module": "@jupyter-widgets/controls",
      "model_module_version": "1.5.0",
      "model_name": "DescriptionStyleModel",
      "state": {
       "description_width": ""
      }
     },
     "a0ca02b99863475181c472671181931b": {
      "model_module": "@jupyter-widgets/controls",
      "model_module_version": "1.5.0",
      "model_name": "DescriptionStyleModel",
      "state": {
       "description_width": ""
      }
     },
     "a0cec4f6bf814f67acd467b72cefcf28": {
      "model_module": "@jupyter-widgets/controls",
      "model_module_version": "1.5.0",
      "model_name": "TextModel",
      "state": {
       "layout": "IPY_MODEL_b2827ab913cf4f49b7a4aeebd116396e",
       "style": "IPY_MODEL_32f602b51c8340b6802da89319e1132b",
       "value": "-1"
      }
     },
     "a10ada7c7bfd44cdb19acf5a45824155": {
      "model_module": "@jupyter-widgets/controls",
      "model_module_version": "1.5.0",
      "model_name": "DescriptionStyleModel",
      "state": {
       "description_width": ""
      }
     },
     "a121cd67d17a499d9b71b33b73c12d77": {
      "model_module": "@jupyter-widgets/controls",
      "model_module_version": "1.5.0",
      "model_name": "HTMLModel",
      "state": {
       "layout": "IPY_MODEL_bbfa983be5714b3cacf1f1687e9f34de",
       "style": "IPY_MODEL_30417b19cbcf4f13b307052fdba25749",
       "value": "Click the button below to start the calculator"
      }
     },
     "a13f315bcad549ae9247729c47b30fa0": {
      "model_module": "@jupyter-widgets/controls",
      "model_module_version": "1.5.0",
      "model_name": "HTMLModel",
      "state": {
       "layout": "IPY_MODEL_db8abbdc2cba490590a0f6522398d989",
       "style": "IPY_MODEL_17ac7a7304e24b929c8a9efc4d89c5a6",
       "value": "Click the button below to start the calculator"
      }
     },
     "a16e14e98dc3426bb713fc29ef832720": {
      "model_module": "@jupyter-widgets/base",
      "model_module_version": "1.2.0",
      "model_name": "LayoutModel",
      "state": {}
     },
     "a16ff7a015594611837ac0bbe9b1eb02": {
      "model_module": "@jupyter-widgets/base",
      "model_module_version": "1.2.0",
      "model_name": "LayoutModel",
      "state": {}
     },
     "a1982a7ec499433b9545e6c2fab70671": {
      "model_module": "@jupyter-widgets/base",
      "model_module_version": "1.2.0",
      "model_name": "LayoutModel",
      "state": {}
     },
     "a1a0fa78855b4b968998150d18d67104": {
      "model_module": "@jupyter-widgets/controls",
      "model_module_version": "1.5.0",
      "model_name": "HBoxModel",
      "state": {
       "children": [
        "IPY_MODEL_3222b408154b455884d7e503e710c875",
        "IPY_MODEL_71bfeb31b4614f6b9b3e5d6446a2633a"
       ],
       "layout": "IPY_MODEL_d3ef6bdf879743f8bd1f6bbc07398bd3"
      }
     },
     "a1a21a2c64ef4b4ba3161ccdafb83b37": {
      "model_module": "@jupyter-widgets/controls",
      "model_module_version": "1.5.0",
      "model_name": "ButtonModel",
      "state": {
       "description": "Start",
       "layout": "IPY_MODEL_d63f8d90634348ba8b9f82f2885e9c0a",
       "style": "IPY_MODEL_8b784dac0e86496496346537eebf2cd7"
      }
     },
     "a1af9f30b17e4c43826da4cb47bdab74": {
      "model_module": "@jupyter-widgets/controls",
      "model_module_version": "1.5.0",
      "model_name": "DescriptionStyleModel",
      "state": {
       "description_width": ""
      }
     },
     "a1bcaee7fb4442bcb71d693c3b294136": {
      "model_module": "@jupyter-widgets/controls",
      "model_module_version": "1.5.0",
      "model_name": "TextModel",
      "state": {
       "layout": "IPY_MODEL_239bec109578490f9329cf0477e25967",
       "style": "IPY_MODEL_428944530b7b4f449028404d92e3a7ad",
       "value": "7"
      }
     },
     "a1de97ffa09b4779a1cb9bf24a973716": {
      "model_module": "@jupyter-widgets/controls",
      "model_module_version": "1.5.0",
      "model_name": "HBoxModel",
      "state": {
       "children": [
        "IPY_MODEL_1783e8f560bc4d1a8dc9b14626f8b0ad",
        "IPY_MODEL_bafb335991f74acdaca6e33ab45d60a6"
       ],
       "layout": "IPY_MODEL_e4ec6b9d22fd4ec0a643c90506c80e55"
      }
     },
     "a23bd46e74a1476c8a7b0c2506c1020c": {
      "model_module": "@jupyter-widgets/controls",
      "model_module_version": "1.5.0",
      "model_name": "DescriptionStyleModel",
      "state": {
       "description_width": ""
      }
     },
     "a25dff5c81e140e095ee8ebf5f7da342": {
      "model_module": "@jupyter-widgets/controls",
      "model_module_version": "1.5.0",
      "model_name": "DescriptionStyleModel",
      "state": {
       "description_width": ""
      }
     },
     "a266c8b6128642d9904d79ba7be8a9d1": {
      "model_module": "@jupyter-widgets/controls",
      "model_module_version": "1.5.0",
      "model_name": "TextModel",
      "state": {
       "layout": "IPY_MODEL_f28c3c7f5ced4384b8a9eca6bc4c00fd",
       "style": "IPY_MODEL_96c3b68a139842e9b54a2a02b927daba",
       "value": "1"
      }
     },
     "a267958442944f05b96cdab6280ca8d2": {
      "model_module": "@jupyter-widgets/base",
      "model_module_version": "1.2.0",
      "model_name": "LayoutModel",
      "state": {
       "grid_template_columns": "repeat(3, 45px)"
      }
     },
     "a2a1a61aa5454a9c976e3eaa776ca120": {
      "model_module": "@jupyter-widgets/base",
      "model_module_version": "1.2.0",
      "model_name": "LayoutModel",
      "state": {}
     },
     "a2b0e93ee9dd4e67a3ea848054b0c99c": {
      "model_module": "@jupyter-widgets/controls",
      "model_module_version": "1.5.0",
      "model_name": "TextModel",
      "state": {
       "layout": "IPY_MODEL_b2827ab913cf4f49b7a4aeebd116396e",
       "style": "IPY_MODEL_37dae0dce8774bc1882d3dcbaf114419",
       "value": "2"
      }
     },
     "a2c2aeb39bef4483a29dc15133897d6b": {
      "model_module": "@jupyter-widgets/controls",
      "model_module_version": "1.5.0",
      "model_name": "DescriptionStyleModel",
      "state": {
       "description_width": ""
      }
     },
     "a2c3c3590f49453890bbf499b8d2a98c": {
      "model_module": "@jupyter-widgets/controls",
      "model_module_version": "1.5.0",
      "model_name": "DescriptionStyleModel",
      "state": {
       "description_width": ""
      }
     },
     "a2e1bf502f3b413d9abd0f232702db24": {
      "model_module": "@jupyter-widgets/base",
      "model_module_version": "1.2.0",
      "model_name": "LayoutModel",
      "state": {}
     },
     "a30f6fbc8d4b486da40ee5ed59264372": {
      "model_module": "@jupyter-widgets/base",
      "model_module_version": "1.2.0",
      "model_name": "LayoutModel",
      "state": {}
     },
     "a34bf4a7c0f74c6f88767fcb67caa21c": {
      "model_module": "@jupyter-widgets/controls",
      "model_module_version": "1.5.0",
      "model_name": "ButtonModel",
      "state": {
       "description": "Multiply row",
       "layout": "IPY_MODEL_ed9f2bfa7c914ea5896f09cea7c05aeb",
       "style": "IPY_MODEL_5e0fe3f5069f4585af9224b4b19c0b90"
      }
     },
     "a356ca7a10e0491e82005f042454ea61": {
      "model_module": "@jupyter-widgets/controls",
      "model_module_version": "1.5.0",
      "model_name": "DescriptionStyleModel",
      "state": {
       "description_width": ""
      }
     },
     "a3603e2a49b94d39a56bf8797b17c384": {
      "model_module": "@jupyter-widgets/controls",
      "model_module_version": "1.5.0",
      "model_name": "HTMLMathModel",
      "state": {
       "layout": "IPY_MODEL_48a9446b70384f5cad1fad47cd905e9f",
       "style": "IPY_MODEL_0b939843b33244f598beb1d018494b7b",
       "value": "The augmented matrix is:\n    $$\n    \\left[ \\begin{array}{rrr|r}\n         2 & -6 &  1 &  7\\\\\n         1 &  2 & -1 & -1\\\\\n         5 &  7 & -4 &  9\n    \\end{array} \\right]\n    $$"
      }
     },
     "a36b11fd532342f9a38f3c7269eb5255": {
      "model_module": "@jupyter-widgets/base",
      "model_module_version": "1.2.0",
      "model_name": "LayoutModel",
      "state": {
       "height": "300px",
       "justify_content": "center"
      }
     },
     "a39bcc528d1f4340aadca484237a24a1": {
      "model_module": "@jupyter-widgets/controls",
      "model_module_version": "1.5.0",
      "model_name": "HBoxModel",
      "state": {
       "children": [
        "IPY_MODEL_7fd11bc345004c37ba8a5ce2906aef35",
        "IPY_MODEL_6251019a8edd4245be01f1afc6493cae",
        "IPY_MODEL_1e204bac2f364ad181a34880cde442d3"
       ],
       "layout": "IPY_MODEL_e07eb283342648d0bd663f4f5f468b1d"
      }
     },
     "a3a2eea8c7ff4770b77470bb8a58d7cb": {
      "model_module": "@jupyter-widgets/controls",
      "model_module_version": "1.5.0",
      "model_name": "BoxModel",
      "state": {
       "children": [
        "IPY_MODEL_62a7596d52df48a39855a5241ef5713c",
        "IPY_MODEL_c7bd83b78a224f7fbcb26af690b57aa9",
        "IPY_MODEL_56919c9dcb654f41a25dd1b55b811457",
        "IPY_MODEL_9c0b56dc468441629eb1806c60e3d5ba"
       ],
       "layout": "IPY_MODEL_e28037f329524e619566a6610ea6029f"
      }
     },
     "a3b745e4e8ed444488a4530d7ca1e279": {
      "model_module": "@jupyter-widgets/controls",
      "model_module_version": "1.5.0",
      "model_name": "TextModel",
      "state": {
       "layout": "IPY_MODEL_f9ebc65ea59246e1a7d2bcdb072b46e0",
       "style": "IPY_MODEL_7ac51a5e71f54269b6ee9f1dfdba8b48",
       "value": "3"
      }
     },
     "a3d145a284764831816decd97ecadb2d": {
      "model_module": "@jupyter-widgets/controls",
      "model_module_version": "1.5.0",
      "model_name": "ButtonStyleModel",
      "state": {}
     },
     "a483c52dc5a94df8b7f6fb64c0f3c395": {
      "model_module": "@jupyter-widgets/base",
      "model_module_version": "1.2.0",
      "model_name": "LayoutModel",
      "state": {}
     },
     "a4aeb0065bfe45f8af8114d363222be2": {
      "model_module": "@jupyter-widgets/base",
      "model_module_version": "1.2.0",
      "model_name": "LayoutModel",
      "state": {}
     },
     "a4af4e14976342d1af0c90a71e99f190": {
      "model_module": "@jupyter-widgets/controls",
      "model_module_version": "1.5.0",
      "model_name": "TextModel",
      "state": {
       "layout": "IPY_MODEL_4bcd3a11811347d3979a9396c2e71cd4",
       "style": "IPY_MODEL_ced7d7a9b7c9469781571b1ec307898a",
       "value": "7"
      }
     },
     "a4ecbf0cb990401bbe345b2363bdcd94": {
      "model_module": "@jupyter-widgets/base",
      "model_module_version": "1.2.0",
      "model_name": "LayoutModel",
      "state": {
       "justify_content": "space-between"
      }
     },
     "a4f4a6a808df439887811f5ab49d0097": {
      "model_module": "@jupyter-widgets/controls",
      "model_module_version": "1.5.0",
      "model_name": "DescriptionStyleModel",
      "state": {
       "description_width": ""
      }
     },
     "a52027e1b256464594022dda9d4dd403": {
      "model_module": "@jupyter-widgets/controls",
      "model_module_version": "1.5.0",
      "model_name": "HBoxModel",
      "state": {
       "children": [
        "IPY_MODEL_60e977fa3df3419a9a07292736996280",
        "IPY_MODEL_767c8c97575d40f59091c00e401cc95c",
        "IPY_MODEL_a525f40f59ff4bc7bdd3ea3cbb689ce5"
       ],
       "layout": "IPY_MODEL_31230e9aa15c4947891a15505593e2b7"
      }
     },
     "a525f40f59ff4bc7bdd3ea3cbb689ce5": {
      "model_module": "@jupyter-widgets/controls",
      "model_module_version": "1.5.0",
      "model_name": "TextModel",
      "state": {
       "layout": "IPY_MODEL_e56e2cbba3324f1e9a6da6e53dfda065",
       "style": "IPY_MODEL_eacf872d21354c7591564531c66e2582",
       "value": "2"
      }
     },
     "a5798b0c86cf4df298f1bf1f3f787f64": {
      "model_module": "@jupyter-widgets/controls",
      "model_module_version": "1.5.0",
      "model_name": "DescriptionStyleModel",
      "state": {
       "description_width": ""
      }
     },
     "a59f12fa718c46579c4aea8809dea6a7": {
      "model_module": "@jupyter-widgets/controls",
      "model_module_version": "1.5.0",
      "model_name": "HBoxModel",
      "state": {
       "children": [
        "IPY_MODEL_d03b4b39472e4087b1e97e04716ca758",
        "IPY_MODEL_0d8d7d0cf84b4037b7e377649d9f56bc"
       ],
       "layout": "IPY_MODEL_81c27c13e4a94cdf92e4cc198973780d"
      }
     },
     "a5cbea5fa926421aa5669a4ac7a9d66b": {
      "model_module": "@jupyter-widgets/controls",
      "model_module_version": "1.5.0",
      "model_name": "DescriptionStyleModel",
      "state": {
       "description_width": ""
      }
     },
     "a5de056aa545494d9c6adbc57f035436": {
      "model_module": "@jupyter-widgets/base",
      "model_module_version": "1.2.0",
      "model_name": "LayoutModel",
      "state": {}
     },
     "a5e5042e81ea49c4ac2658a1ceb8c2f5": {
      "model_module": "@jupyter-widgets/controls",
      "model_module_version": "1.5.0",
      "model_name": "ButtonModel",
      "state": {
       "description": "Multiply row",
       "layout": "IPY_MODEL_da111cc88ed344b7bcf2cea9763895ee",
       "style": "IPY_MODEL_ef5b298e469946619a053fa258d7ce90"
      }
     },
     "a60bb58c2ec44d2d87be9aa57a53f46e": {
      "model_module": "@jupyter-widgets/controls",
      "model_module_version": "1.5.0",
      "model_name": "TextModel",
      "state": {
       "layout": "IPY_MODEL_5a0c24727aa941b48d996c0a1f0c2bf8",
       "style": "IPY_MODEL_9240155b1afa405badd5dd9e6b5c9a34",
       "value": "7"
      }
     },
     "a6191c7b85f24d29967a142f134ca578": {
      "model_module": "@jupyter-widgets/controls",
      "model_module_version": "1.5.0",
      "model_name": "TextModel",
      "state": {
       "layout": "IPY_MODEL_d29f4c6323274c2ea715833a610068a5",
       "style": "IPY_MODEL_6faad59dbb884c9fbb17637883343600",
       "value": "7"
      }
     },
     "a61e26bcf0054796956aaca78e8b2271": {
      "model_module": "@jupyter-widgets/controls",
      "model_module_version": "1.5.0",
      "model_name": "DescriptionStyleModel",
      "state": {
       "description_width": ""
      }
     },
     "a64bd27427cc43f99688e7ef7a714386": {
      "model_module": "@jupyter-widgets/controls",
      "model_module_version": "1.5.0",
      "model_name": "TextModel",
      "state": {
       "layout": "IPY_MODEL_d29f4c6323274c2ea715833a610068a5",
       "style": "IPY_MODEL_226c7c5f1b15439686c255a2c7570eff",
       "value": "7"
      }
     },
     "a64bdc59c046403db06c62dd3ad95c08": {
      "model_module": "@jupyter-widgets/controls",
      "model_module_version": "1.5.0",
      "model_name": "HTMLMathModel",
      "state": {
       "layout": "IPY_MODEL_fa7867ec3bc946f3bd12b9d039909894",
       "style": "IPY_MODEL_196a0ade760743e093e07f8b4dc55c56",
       "value": "Enter here the values of the constant matrix $\\bf{B}$"
      }
     },
     "a64ee2cb1ea24db7bbe56e821291f43c": {
      "model_module": "@jupyter-widgets/controls",
      "model_module_version": "1.5.0",
      "model_name": "ButtonModel",
      "state": {
       "description": "Start",
       "layout": "IPY_MODEL_aeed03c4aa404b179dd1bac2f495e8d5",
       "style": "IPY_MODEL_988c15a0f6f04ff0ba5087dcb70c9a60"
      }
     },
     "a64f71796f2347bc98374add432a5d91": {
      "model_module": "@jupyter-widgets/base",
      "model_module_version": "1.2.0",
      "model_name": "LayoutModel",
      "state": {}
     },
     "a65799e2fe494873b3e5d0e34016613e": {
      "model_module": "@jupyter-widgets/controls",
      "model_module_version": "1.5.0",
      "model_name": "DescriptionStyleModel",
      "state": {
       "description_width": ""
      }
     },
     "a687d082e16540cd8c7ea52f6defd51e": {
      "model_module": "@jupyter-widgets/base",
      "model_module_version": "1.2.0",
      "model_name": "LayoutModel",
      "state": {}
     },
     "a69408da23c144839673d74014d20286": {
      "model_module": "@jupyter-widgets/controls",
      "model_module_version": "1.5.0",
      "model_name": "HBoxModel",
      "state": {
       "children": [
        "IPY_MODEL_6d1cb18f312240e79106ede9f5bfb423",
        "IPY_MODEL_c25416254d2c4ff7b10b4b9438a0a09c",
        "IPY_MODEL_f395299a668546ce92625b44e1b2c68b"
       ],
       "layout": "IPY_MODEL_5603ed0f084d479ead91a220a4ac9db8"
      }
     },
     "a69b49b9edff4897850208e1ca10abc4": {
      "model_module": "@jupyter-widgets/base",
      "model_module_version": "1.2.0",
      "model_name": "LayoutModel",
      "state": {}
     },
     "a6ab870be1e84abcb4578ffec5467fa8": {
      "model_module": "@jupyter-widgets/controls",
      "model_module_version": "1.5.0",
      "model_name": "DescriptionStyleModel",
      "state": {
       "description_width": ""
      }
     },
     "a6b0a876801d440c8362f38d9caac2cb": {
      "model_module": "@jupyter-widgets/controls",
      "model_module_version": "1.5.0",
      "model_name": "HTMLMathModel",
      "state": {
       "layout": "IPY_MODEL_d7f9c4d2b4dd4be695a6a339f372b1e4",
       "style": "IPY_MODEL_3a4dfe5d507640ab8bb9092ebf2e6bb2",
       "value": "Enter here the values of the matrix $\\bf{A}$"
      }
     },
     "a6b672bf88094d8fa8327c74293c6a55": {
      "model_module": "@jupyter-widgets/base",
      "model_module_version": "1.2.0",
      "model_name": "LayoutModel",
      "state": {
       "height": "35px",
       "width": "30px"
      }
     },
     "a6b839a96a9b4b5a84d86ced8e82bc11": {
      "model_module": "@jupyter-widgets/controls",
      "model_module_version": "1.5.0",
      "model_name": "ButtonModel",
      "state": {
       "description": "Swap rows",
       "layout": "IPY_MODEL_9f3ec02253cf49a18343d80ccc1d0f0c",
       "style": "IPY_MODEL_debdac38ed704185a316a10da26cea8e"
      }
     },
     "a6ee9256d81c4cf3bf7a593eb7811cdc": {
      "model_module": "@jupyter-widgets/controls",
      "model_module_version": "1.5.0",
      "model_name": "DescriptionStyleModel",
      "state": {
       "description_width": ""
      }
     },
     "a6ef1cc8de694870aca8d4499b77ed63": {
      "model_module": "@jupyter-widgets/controls",
      "model_module_version": "1.5.0",
      "model_name": "HBoxModel",
      "state": {
       "children": [
        "IPY_MODEL_4828a278398d44df87562342f8d7f3c7",
        "IPY_MODEL_b1096263a43741c5af41521a25938c5c"
       ],
       "layout": "IPY_MODEL_cf66f4ec9685484db0acfd885a532c5b"
      }
     },
     "a6f0dc7c4b2f4f14ac0933f9f1f5511d": {
      "model_module": "@jupyter-widgets/controls",
      "model_module_version": "1.5.0",
      "model_name": "TextModel",
      "state": {
       "layout": "IPY_MODEL_d29f4c6323274c2ea715833a610068a5",
       "style": "IPY_MODEL_89e0afba6c6d4e1a8b0e6b37e315d8f2",
       "value": "-4"
      }
     },
     "a7192a4cd93f41d6ad11286ea82bc14e": {
      "model_module": "@jupyter-widgets/base",
      "model_module_version": "1.2.0",
      "model_name": "LayoutModel",
      "state": {}
     },
     "a72ba6f8f4e8452fa173b0eb5a85fd95": {
      "model_module": "@jupyter-widgets/controls",
      "model_module_version": "1.5.0",
      "model_name": "TextModel",
      "state": {
       "layout": "IPY_MODEL_776389df997545fcab086c0233cb0ab0",
       "style": "IPY_MODEL_f54059be4d2748b293ca090e6ff8382b",
       "value": "2"
      }
     },
     "a740ff59eb3649808f9461627980463a": {
      "model_module": "@jupyter-widgets/controls",
      "model_module_version": "1.5.0",
      "model_name": "DescriptionStyleModel",
      "state": {
       "description_width": ""
      }
     },
     "a757d95fa52f40c087f3d6e7cdd66076": {
      "model_module": "@jupyter-widgets/controls",
      "model_module_version": "1.5.0",
      "model_name": "DescriptionStyleModel",
      "state": {
       "description_width": ""
      }
     },
     "a766e68449cb4c0dbe626c0dbf3c6711": {
      "model_module": "@jupyter-widgets/controls",
      "model_module_version": "1.5.0",
      "model_name": "DescriptionStyleModel",
      "state": {
       "description_width": ""
      }
     },
     "a76f7a0fe16241c0bbb8bb683d81bb76": {
      "model_module": "@jupyter-widgets/controls",
      "model_module_version": "1.5.0",
      "model_name": "TextModel",
      "state": {
       "description": "times",
       "layout": "IPY_MODEL_c60528652e3c4636a65b4e10944f638a",
       "style": "IPY_MODEL_5adf9d9f09334095abbdc828b00563b9",
       "value": "1"
      }
     },
     "a774ad687fbd43c28e79cbc983d1d03b": {
      "model_module": "@jupyter-widgets/controls",
      "model_module_version": "1.5.0",
      "model_name": "TextModel",
      "state": {
       "layout": "IPY_MODEL_a6b672bf88094d8fa8327c74293c6a55",
       "style": "IPY_MODEL_432dd1f474964e35b1568fdc39575336",
       "value": "-4"
      }
     },
     "a78a495087764e0b9fb63800ab62ae7e": {
      "model_module": "@jupyter-widgets/controls",
      "model_module_version": "1.5.0",
      "model_name": "BoxModel",
      "state": {
       "children": [
        "IPY_MODEL_a1a0fa78855b4b968998150d18d67104",
        "IPY_MODEL_b9e496cc78b44e56b34d1de8174bb754",
        "IPY_MODEL_fbffa1de21c74f889a89f4e50e6c573c",
        "IPY_MODEL_60d6b679cb9b4f3eb142f214b775077e"
       ],
       "layout": "IPY_MODEL_6d3d48d014b14a948ade2c9c74e1edd9"
      }
     },
     "a7afe44bc9fb4882878b9cf9d5862e42": {
      "model_module": "@jupyter-widgets/base",
      "model_module_version": "1.2.0",
      "model_name": "LayoutModel",
      "state": {
       "flex_flow": "row wrap",
       "justify_content": "space-around"
      }
     },
     "a7c5c741036f4cb2b81c51b48da8fa71": {
      "model_module": "@jupyter-widgets/controls",
      "model_module_version": "1.5.0",
      "model_name": "DescriptionStyleModel",
      "state": {
       "description_width": ""
      }
     },
     "a7ee333669a346e98b853fc4535d26ea": {
      "model_module": "@jupyter-widgets/controls",
      "model_module_version": "1.5.0",
      "model_name": "HBoxModel",
      "state": {
       "children": [
        "IPY_MODEL_53882676a31b48e69adc3870e996b7d7",
        "IPY_MODEL_acdc668f06ca4ce7bb56c554be7f68da"
       ],
       "layout": "IPY_MODEL_dfcd0d23056a4dadb38a0f511c6edb13"
      }
     },
     "a7f16672a77d49739f2cc8c0eef41bfb": {
      "model_module": "@jupyter-widgets/controls",
      "model_module_version": "1.5.0",
      "model_name": "DescriptionStyleModel",
      "state": {
       "description_width": ""
      }
     },
     "a7fd2cd6dcb2492d9f206d86d530c26a": {
      "model_module": "@jupyter-widgets/controls",
      "model_module_version": "1.5.0",
      "model_name": "TextModel",
      "state": {
       "layout": "IPY_MODEL_7a607c89a00143a7a0808c95689bf41a",
       "style": "IPY_MODEL_a2c3c3590f49453890bbf499b8d2a98c",
       "value": "-1"
      }
     },
     "a80c4d1ad60d4d83b0f7acafdb185167": {
      "model_module": "@jupyter-widgets/controls",
      "model_module_version": "1.5.0",
      "model_name": "DescriptionStyleModel",
      "state": {
       "description_width": ""
      }
     },
     "a8328476319646e68bde0b373282e012": {
      "model_module": "@jupyter-widgets/controls",
      "model_module_version": "1.5.0",
      "model_name": "BoxModel",
      "state": {
       "children": [
        "IPY_MODEL_3b06c9ae88ac4612805bc409b7e3c876",
        "IPY_MODEL_dc42e4e4fa1c45b0b6012ffc5d253db7",
        "IPY_MODEL_3001e1fd9f714c35a6a21f571a8a6cbe"
       ],
       "layout": "IPY_MODEL_bd4effdbc1514afba1f3bd09aac6f219"
      }
     },
     "a836b5f64c4a4c65a498c9593a9e9521": {
      "model_module": "@jupyter-widgets/controls",
      "model_module_version": "1.5.0",
      "model_name": "DescriptionStyleModel",
      "state": {
       "description_width": ""
      }
     },
     "a83e47b84a3e4ebd996596d925e258e7": {
      "model_module": "@jupyter-widgets/controls",
      "model_module_version": "1.5.0",
      "model_name": "TextModel",
      "state": {
       "layout": "IPY_MODEL_35e7cd5dc3a344c7867ddf08fc7e1130",
       "style": "IPY_MODEL_695aa9e8bd06472997a6a077fab96b45",
       "value": " 7"
      }
     },
     "a843e242935f4cee9282661fcc0b7e10": {
      "model_module": "@jupyter-widgets/controls",
      "model_module_version": "1.5.0",
      "model_name": "TextModel",
      "state": {
       "layout": "IPY_MODEL_f9ebc65ea59246e1a7d2bcdb072b46e0",
       "style": "IPY_MODEL_ae3f0cfa839e4737839999a4e72e61e5",
       "value": "1"
      }
     },
     "a85445def5ea42728df88b18fda59ee1": {
      "model_module": "@jupyter-widgets/controls",
      "model_module_version": "1.5.0",
      "model_name": "DescriptionStyleModel",
      "state": {
       "description_width": ""
      }
     },
     "a86266f5c9c74443b17d344cc32156e9": {
      "model_module": "@jupyter-widgets/controls",
      "model_module_version": "1.5.0",
      "model_name": "HBoxModel",
      "state": {
       "children": [
        "IPY_MODEL_ae77eebf326042d29e187a1086ad9042",
        "IPY_MODEL_94120941d8134bc5b4a252b15efc449a"
       ],
       "layout": "IPY_MODEL_dba69b7bccad43b2972ff6e43106622a"
      }
     },
     "a8641ac40b9e4875b913b94509fb849c": {
      "model_module": "@jupyter-widgets/controls",
      "model_module_version": "1.5.0",
      "model_name": "VBoxModel",
      "state": {
       "children": [
        "IPY_MODEL_90bd8ae8e0c84aa48137a9d367a0d7e4",
        "IPY_MODEL_025e86c63af24d5fb26d7bc2f65a34c6",
        "IPY_MODEL_0d472be7819f4e9faeee5d6252f29290"
       ],
       "layout": "IPY_MODEL_1e4fbedd193042388b3b255e25cfc160"
      }
     },
     "a870f50104284ac3b1f8d56b2790f4bb": {
      "model_module": "@jupyter-widgets/base",
      "model_module_version": "1.2.0",
      "model_name": "LayoutModel",
      "state": {
       "width": "100px"
      }
     },
     "a87133d2b4c34130a07bc303b10257e4": {
      "model_module": "@jupyter-widgets/controls",
      "model_module_version": "1.5.0",
      "model_name": "HBoxModel",
      "state": {
       "children": [
        "IPY_MODEL_73cafa62da9743a3817cdc9ca4a68f4d",
        "IPY_MODEL_ff52d6e0556d481e9325e5ff6b9f0973",
        "IPY_MODEL_623921d0e69240bc9a94dc3830f517bd"
       ],
       "layout": "IPY_MODEL_9ef5aee8414e411ab9b26d478502db02"
      }
     },
     "a8cdc7bac58c4242907cec53e38332dd": {
      "model_module": "@jupyter-widgets/controls",
      "model_module_version": "1.5.0",
      "model_name": "ButtonStyleModel",
      "state": {}
     },
     "a90df46949534c0e8c9b2676476c4b66": {
      "model_module": "@jupyter-widgets/base",
      "model_module_version": "1.2.0",
      "model_name": "LayoutModel",
      "state": {
       "justify_content": "center"
      }
     },
     "a91fd4a111824bb7b225ca7e0b4e0590": {
      "model_module": "@jupyter-widgets/controls",
      "model_module_version": "1.5.0",
      "model_name": "DescriptionStyleModel",
      "state": {
       "description_width": ""
      }
     },
     "a932b7f11e0c44e285e84db71a43508d": {
      "model_module": "@jupyter-widgets/base",
      "model_module_version": "1.2.0",
      "model_name": "LayoutModel",
      "state": {
       "width": "150px"
      }
     },
     "a93c7abaf7e4470d9c63401fb383193e": {
      "model_module": "@jupyter-widgets/controls",
      "model_module_version": "1.5.0",
      "model_name": "VBoxModel",
      "state": {
       "children": [
        "IPY_MODEL_25d4f493c8ea4cedbfa7dcb7717d3701",
        "IPY_MODEL_c5824ed0b54e4bcd9ed07b5d0d47092b"
       ],
       "layout": "IPY_MODEL_7766674660134c608a1710e13b0e88a6"
      }
     },
     "a9473816ad6241cf80cf8ea226761390": {
      "model_module": "@jupyter-widgets/controls",
      "model_module_version": "1.5.0",
      "model_name": "TextModel",
      "state": {
       "layout": "IPY_MODEL_b2827ab913cf4f49b7a4aeebd116396e",
       "style": "IPY_MODEL_7aef777ae4c04daa9f29fb9e8306ed4b",
       "value": "-1"
      }
     },
     "a990fe53f7ed4d8fb1f1ba8c77604682": {
      "model_module": "@jupyter-widgets/controls",
      "model_module_version": "1.5.0",
      "model_name": "VBoxModel",
      "state": {
       "children": [
        "IPY_MODEL_b12f0a163c3e4156840c9ca58b23bcc2",
        "IPY_MODEL_a69408da23c144839673d74014d20286",
        "IPY_MODEL_e2f324d28428461dba2a1b897eea03b4"
       ],
       "layout": "IPY_MODEL_022ccd1e1bf4465294356a5c7c92aedf"
      }
     },
     "a9aa8bf633fb45d48fbf81f1d5c055b2": {
      "model_module": "@jupyter-widgets/base",
      "model_module_version": "1.2.0",
      "model_name": "LayoutModel",
      "state": {
       "width": "150px"
      }
     },
     "a9ac0550e11a40198a6cf372d3a5a6ed": {
      "model_module": "@jupyter-widgets/controls",
      "model_module_version": "1.5.0",
      "model_name": "HBoxModel",
      "state": {
       "children": [
        "IPY_MODEL_6bf012f6d178429f9b9bf08fbc5bd06d",
        "IPY_MODEL_3eada95ee57b414780d5c378b3b2f36c"
       ],
       "layout": "IPY_MODEL_7c27273dff8b4e7eb16f68c179440fb8"
      }
     },
     "a9c9100bbeb34b1982105aab30a6c77b": {
      "model_module": "@jupyter-widgets/controls",
      "model_module_version": "1.5.0",
      "model_name": "DescriptionStyleModel",
      "state": {
       "description_width": ""
      }
     },
     "aa169e8431314d0a99af0fd9e195db7f": {
      "model_module": "@jupyter-widgets/controls",
      "model_module_version": "1.5.0",
      "model_name": "DropdownModel",
      "state": {
       "_options_labels": [
        "1",
        "2",
        "3"
       ],
       "description": "to row",
       "index": 1,
       "layout": "IPY_MODEL_31b5e520e1a6493daedb89ae05ab8c4f",
       "style": "IPY_MODEL_02e1d391f4ac45d2b0dd6de34d0180bb"
      }
     },
     "aa1c9541094240f6952159eeccfce0e6": {
      "model_module": "@jupyter-widgets/controls",
      "model_module_version": "1.5.0",
      "model_name": "ButtonModel",
      "state": {
       "description": "Start",
       "layout": "IPY_MODEL_5683ce8eeb4e4b4dab70df356784fce9",
       "style": "IPY_MODEL_f1d5cf599d7742bdbcb8970a31942c1b"
      }
     },
     "aa3d1b35af034af993be349218493de3": {
      "model_module": "@jupyter-widgets/controls",
      "model_module_version": "1.5.0",
      "model_name": "DropdownModel",
      "state": {
       "_options_labels": [
        "1",
        "2",
        "3"
       ],
       "description": "Swap row",
       "index": 0,
       "layout": "IPY_MODEL_909edb0fab65494cba9a4e4e7ef025d2",
       "style": "IPY_MODEL_d60ba313d905431984e79fc1504cd97d"
      }
     },
     "aa3fd332ab7346408b2511dc2ed703af": {
      "model_module": "@jupyter-widgets/controls",
      "model_module_version": "1.5.0",
      "model_name": "TextModel",
      "state": {
       "layout": "IPY_MODEL_a6b672bf88094d8fa8327c74293c6a55",
       "style": "IPY_MODEL_ef72b16de5bf4989a0e40ae9e62b66b1",
       "value": "5"
      }
     },
     "aa674477ff8a492bb4947fa0e14ffdcf": {
      "model_module": "@jupyter-widgets/controls",
      "model_module_version": "1.5.0",
      "model_name": "DescriptionStyleModel",
      "state": {
       "description_width": ""
      }
     },
     "aa6a88b675cd41a68584497ba2d69ec7": {
      "model_module": "@jupyter-widgets/controls",
      "model_module_version": "1.5.0",
      "model_name": "DescriptionStyleModel",
      "state": {
       "description_width": ""
      }
     },
     "aa8364a617964dd982070a8112c0d353": {
      "model_module": "@jupyter-widgets/base",
      "model_module_version": "1.2.0",
      "model_name": "LayoutModel",
      "state": {
       "width": "150px"
      }
     },
     "aaab94310a934f15b50d3ac386f896c3": {
      "model_module": "@jupyter-widgets/controls",
      "model_module_version": "1.5.0",
      "model_name": "DescriptionStyleModel",
      "state": {
       "description_width": ""
      }
     },
     "aabe6a2752a241ba90f39497fe04ba69": {
      "model_module": "@jupyter-widgets/base",
      "model_module_version": "1.2.0",
      "model_name": "LayoutModel",
      "state": {
       "width": "90px"
      }
     },
     "aaca31f7153548bb951d262e84068b44": {
      "model_module": "@jupyter-widgets/controls",
      "model_module_version": "1.5.0",
      "model_name": "GridBoxModel",
      "state": {
       "children": [
        "IPY_MODEL_dd9b55ad414143fab94dada4dd0045e9",
        "IPY_MODEL_e4b5732c81fd4a68a34c3b263f6daa0f",
        "IPY_MODEL_05b849ccfedf4cb1b4e2ba4eac340f85"
       ],
       "layout": "IPY_MODEL_f9461472d714435aafd3487955c7b44e"
      }
     },
     "ab1a78af96654a738ffb33ffc8d3f268": {
      "model_module": "@jupyter-widgets/controls",
      "model_module_version": "1.5.0",
      "model_name": "TextModel",
      "state": {
       "layout": "IPY_MODEL_d7c4f11771b948fa9166cf5745d8d1c9",
       "style": "IPY_MODEL_71e49b91f93641bb95d04796a1254019",
       "value": "4"
      }
     },
     "ab43396becc34353a6270f34e81e3bed": {
      "model_module": "@jupyter-widgets/base",
      "model_module_version": "1.2.0",
      "model_name": "LayoutModel",
      "state": {}
     },
     "ab630e7d6b8b430ab76670ed1729a764": {
      "model_module": "@jupyter-widgets/controls",
      "model_module_version": "1.5.0",
      "model_name": "DescriptionStyleModel",
      "state": {
       "description_width": ""
      }
     },
     "ab9ac5dc39c74dc9b6a13120bdc2a6b6": {
      "model_module": "@jupyter-widgets/controls",
      "model_module_version": "1.5.0",
      "model_name": "BoxModel",
      "state": {
       "children": [
        "IPY_MODEL_096d7e01c4ab495b97d4c8da52092a3c",
        "IPY_MODEL_724c6a91d9094a5eb15278283f01e927",
        "IPY_MODEL_0d13a2ae3090437a9013c2620fae42d2",
        "IPY_MODEL_2694759319eb4c2fbc58bcfb039c1643"
       ],
       "layout": "IPY_MODEL_5ac478c19fcb4b9eb123e71c5cd00212"
      }
     },
     "ab9ba25fd07245f3bf46f951ee0190cf": {
      "model_module": "@jupyter-widgets/controls",
      "model_module_version": "1.5.0",
      "model_name": "VBoxModel",
      "state": {
       "children": [
        "IPY_MODEL_537394e3a42f4e189c8560c8ccdda6ba",
        "IPY_MODEL_7fbff3551ceb431e95b6a8de7e4ef3ee",
        "IPY_MODEL_cb4719e8ad0e4cd09d11e3be743a8a1c"
       ],
       "layout": "IPY_MODEL_7976a6062cc74b4bbba7d062c2e73e4c"
      }
     },
     "abc2253e8e1a46aab55030412689505b": {
      "model_module": "@jupyter-widgets/controls",
      "model_module_version": "1.5.0",
      "model_name": "TextModel",
      "state": {
       "layout": "IPY_MODEL_383a1c5f5f0c418b84e9a50a2a78d25a",
       "style": "IPY_MODEL_443a0000a7254ab49f0e3f9888250c94",
       "value": "-1"
      }
     },
     "ac0bd227518841a2857a2d9662fa007d": {
      "model_module": "@jupyter-widgets/base",
      "model_module_version": "1.2.0",
      "model_name": "LayoutModel",
      "state": {}
     },
     "ac0be47907a24d77b26c4b5a9c41ba64": {
      "model_module": "@jupyter-widgets/controls",
      "model_module_version": "1.5.0",
      "model_name": "VBoxModel",
      "state": {
       "children": [
        "IPY_MODEL_95968a2cca7e472d98e5f41b5eb73ade",
        "IPY_MODEL_bbb96f4bc1704e72b424e191d4586eea",
        "IPY_MODEL_5239b82364514b858ee05fafbfc42e97"
       ],
       "layout": "IPY_MODEL_44133bbf1c60489d9e440eabc261aa30"
      }
     },
     "ac1026473bd54de282328a21ecd62127": {
      "model_module": "@jupyter-widgets/base",
      "model_module_version": "1.2.0",
      "model_name": "LayoutModel",
      "state": {
       "width": "50px"
      }
     },
     "ac3bc8e3641e46d4adced4a17ea7c65a": {
      "model_module": "@jupyter-widgets/controls",
      "model_module_version": "1.5.0",
      "model_name": "DescriptionStyleModel",
      "state": {
       "description_width": ""
      }
     },
     "ac86d81545b64d17a98d72f3df6e61a7": {
      "model_module": "@jupyter-widgets/controls",
      "model_module_version": "1.5.0",
      "model_name": "DescriptionStyleModel",
      "state": {
       "description_width": ""
      }
     },
     "aca13585c6ad4c22b0a93cda18c79a90": {
      "model_module": "@jupyter-widgets/controls",
      "model_module_version": "1.5.0",
      "model_name": "DescriptionStyleModel",
      "state": {
       "description_width": ""
      }
     },
     "aca5d4097ce54949ba9688241c0ddbbe": {
      "model_module": "@jupyter-widgets/controls",
      "model_module_version": "1.5.0",
      "model_name": "ButtonStyleModel",
      "state": {}
     },
     "aca9e60bbabb4e898dc9803cc9ed07a3": {
      "model_module": "@jupyter-widgets/controls",
      "model_module_version": "1.5.0",
      "model_name": "TextModel",
      "state": {
       "layout": "IPY_MODEL_e168436c7ee0437a9552e5f0afc85715",
       "style": "IPY_MODEL_b16e6f0064bc43ef84e2e816bfbe5f7e",
       "value": "3"
      }
     },
     "accdf7735ed24909916f8da8c26f9834": {
      "model_module": "@jupyter-widgets/controls",
      "model_module_version": "1.5.0",
      "model_name": "HTMLMathModel",
      "state": {
       "layout": "IPY_MODEL_c7b50d17a04d4fc588ec52e7e5d51d7d",
       "style": "IPY_MODEL_f272a8ad070a4f24904008711556c11e",
       "value": "The augmented matrix $(\\bf{A}|\\bf{B})$ will appear here."
      }
     },
     "acdc668f06ca4ce7bb56c554be7f68da": {
      "model_module": "@jupyter-widgets/controls",
      "model_module_version": "1.5.0",
      "model_name": "VBoxModel",
      "state": {
       "children": [
        "IPY_MODEL_c6bbec391e6742afa027e042be6248bb",
        "IPY_MODEL_a52027e1b256464594022dda9d4dd403",
        "IPY_MODEL_1ae9ca2c7aa344218ff0143264ccdd71"
       ],
       "layout": "IPY_MODEL_0801093bfb36451398ac22fe324a5a7f"
      }
     },
     "acf924170cd4476d95bd450b3f84687c": {
      "model_module": "@jupyter-widgets/controls",
      "model_module_version": "1.5.0",
      "model_name": "DescriptionStyleModel",
      "state": {
       "description_width": ""
      }
     },
     "ad06bc4debb9475d92e15f3a36fccf5b": {
      "model_module": "@jupyter-widgets/controls",
      "model_module_version": "1.5.0",
      "model_name": "TextModel",
      "state": {
       "layout": "IPY_MODEL_194d5881fb18447585798b14c51e301b",
       "style": "IPY_MODEL_0261727a0a2e41e583fb6712a55d8f5e",
       "value": "2"
      }
     },
     "ad21e233277244778e707fd68da2c5d9": {
      "model_module": "@jupyter-widgets/controls",
      "model_module_version": "1.5.0",
      "model_name": "DescriptionStyleModel",
      "state": {
       "description_width": ""
      }
     },
     "ad30a1f33d0b4f52b229b232df47adb8": {
      "model_module": "@jupyter-widgets/controls",
      "model_module_version": "1.5.0",
      "model_name": "HTMLModel",
      "state": {
       "layout": "IPY_MODEL_6e1b2bf58c6f4b89b480971d1d61e787",
       "style": "IPY_MODEL_50dd9fd79c9d4aeab6699b701779c9a8",
       "value": "Click this button to start the calculator"
      }
     },
     "ad3ccc3bb14947b9b81e43cae3cc53b3": {
      "model_module": "@jupyter-widgets/base",
      "model_module_version": "1.2.0",
      "model_name": "LayoutModel",
      "state": {
       "width": "90px"
      }
     },
     "ad582b963daa4691af6d82cc03f90c98": {
      "model_module": "@jupyter-widgets/controls",
      "model_module_version": "1.5.0",
      "model_name": "DescriptionStyleModel",
      "state": {
       "description_width": ""
      }
     },
     "ad667437c7504081859d5c162a06411b": {
      "model_module": "@jupyter-widgets/controls",
      "model_module_version": "1.5.0",
      "model_name": "DescriptionStyleModel",
      "state": {
       "description_width": ""
      }
     },
     "ad7a09ca5dd245c9b86ba8cb1b5e230b": {
      "model_module": "@jupyter-widgets/controls",
      "model_module_version": "1.5.0",
      "model_name": "TextModel",
      "state": {
       "layout": "IPY_MODEL_d29f4c6323274c2ea715833a610068a5",
       "style": "IPY_MODEL_48ce2a5544ec4074890ee9caef96a6ff",
       "value": "1"
      }
     },
     "ad89ee31645c4e22ae6daf14671e0ca5": {
      "model_module": "@jupyter-widgets/controls",
      "model_module_version": "1.5.0",
      "model_name": "TextModel",
      "state": {
       "layout": "IPY_MODEL_7a607c89a00143a7a0808c95689bf41a",
       "style": "IPY_MODEL_f7ac967140d345f4abf41b80a6e16393",
       "value": "-1"
      }
     },
     "adb8f78097994fa1a1bda0983ecc6ced": {
      "model_module": "@jupyter-widgets/base",
      "model_module_version": "1.2.0",
      "model_name": "LayoutModel",
      "state": {
       "height": "300px",
       "justify_content": "center"
      }
     },
     "adb994ec81f64308aa58425b50220e1d": {
      "model_module": "@jupyter-widgets/controls",
      "model_module_version": "1.5.0",
      "model_name": "DescriptionStyleModel",
      "state": {
       "description_width": ""
      }
     },
     "adbc7a5cde2f488fa91e3863dddfbf14": {
      "model_module": "@jupyter-widgets/base",
      "model_module_version": "1.2.0",
      "model_name": "LayoutModel",
      "state": {}
     },
     "ade3660114fe47a7bb7a50fccb931b1e": {
      "model_module": "@jupyter-widgets/controls",
      "model_module_version": "1.5.0",
      "model_name": "HTMLMathModel",
      "state": {
       "layout": "IPY_MODEL_3b092df8dde24e699550d620dc36d41f",
       "style": "IPY_MODEL_ea7032af5a434b63b25757ecd430e019",
       "value": "Enter here the values of the right hand side vector $b$"
      }
     },
     "ade8ad9064cd47fb8ce036c5993ff78c": {
      "model_module": "@jupyter-widgets/controls",
      "model_module_version": "1.5.0",
      "model_name": "DropdownModel",
      "state": {
       "_options_labels": [
        "1",
        "2",
        "3"
       ],
       "description": "Swap row",
       "index": 0,
       "layout": "IPY_MODEL_4cb16403fa884fb8b571022f4cb06a76",
       "style": "IPY_MODEL_2f972f77c5c84d3eab5c41a43cb10bc7"
      }
     },
     "adf6c1a11f454f5e90b1d960065279bd": {
      "model_module": "@jupyter-widgets/controls",
      "model_module_version": "1.5.0",
      "model_name": "HTMLModel",
      "state": {
       "layout": "IPY_MODEL_42d4f2e980d74e3d924b25d70772b5a6",
       "style": "IPY_MODEL_dec46ace93ae4c73884dfbdc51990f4d",
       "value": "Click this button to start the calculator"
      }
     },
     "adfe9b7cbe7e48cd9e3ef644043fa7a8": {
      "model_module": "@jupyter-widgets/controls",
      "model_module_version": "1.5.0",
      "model_name": "DescriptionStyleModel",
      "state": {
       "description_width": ""
      }
     },
     "ae08202cfb514b2ba6fd52d80e055447": {
      "model_module": "@jupyter-widgets/controls",
      "model_module_version": "1.5.0",
      "model_name": "ButtonStyleModel",
      "state": {}
     },
     "ae3f0cfa839e4737839999a4e72e61e5": {
      "model_module": "@jupyter-widgets/controls",
      "model_module_version": "1.5.0",
      "model_name": "DescriptionStyleModel",
      "state": {
       "description_width": ""
      }
     },
     "ae77eebf326042d29e187a1086ad9042": {
      "model_module": "@jupyter-widgets/controls",
      "model_module_version": "1.5.0",
      "model_name": "VBoxModel",
      "state": {
       "children": [
        "IPY_MODEL_19fa193cac964d278ae6c86bf2d59099",
        "IPY_MODEL_1a4e7075c3ef4e43abe0ee10b4c30e5e",
        "IPY_MODEL_6623208b66e44f45abe794b71760d53c"
       ],
       "layout": "IPY_MODEL_e16c683bbe5a4fa9afa56982c1d8e9e5"
      }
     },
     "ae900d2986e541ad9a8f6ccbc1700077": {
      "model_module": "@jupyter-widgets/controls",
      "model_module_version": "1.5.0",
      "model_name": "DescriptionStyleModel",
      "state": {
       "description_width": ""
      }
     },
     "aeb07636df5c4a2dae5b44b4b41ef7c2": {
      "model_module": "@jupyter-widgets/controls",
      "model_module_version": "1.5.0",
      "model_name": "DescriptionStyleModel",
      "state": {
       "description_width": ""
      }
     },
     "aeb819a310ad4bd6bf967194d64bb21c": {
      "model_module": "@jupyter-widgets/base",
      "model_module_version": "1.2.0",
      "model_name": "LayoutModel",
      "state": {}
     },
     "aebbaada5736432b974bc9394acfecc0": {
      "model_module": "@jupyter-widgets/controls",
      "model_module_version": "1.5.0",
      "model_name": "TextModel",
      "state": {
       "layout": "IPY_MODEL_bbd5dabd53c049fca9a7f5878437cad9",
       "style": "IPY_MODEL_626b6c7e80ce48829102d3b46128f013",
       "value": "1"
      }
     },
     "aedbf0ad4686406ab1c2c93571c2a08e": {
      "model_module": "@jupyter-widgets/controls",
      "model_module_version": "1.5.0",
      "model_name": "VBoxModel",
      "state": {
       "children": [
        "IPY_MODEL_fb9a8823347d4aecb7dac7ce200bbb85",
        "IPY_MODEL_96ea6fa32ca14d219844712a3a7b5513",
        "IPY_MODEL_8d178c7dbcb84e16ae6c67cab08506e4"
       ],
       "layout": "IPY_MODEL_78d83c26d40d4ba38b91634d573fdc07"
      }
     },
     "aeed03c4aa404b179dd1bac2f495e8d5": {
      "model_module": "@jupyter-widgets/base",
      "model_module_version": "1.2.0",
      "model_name": "LayoutModel",
      "state": {}
     },
     "af1105e0604d4430b14de9c078bae96c": {
      "model_module": "@jupyter-widgets/controls",
      "model_module_version": "1.5.0",
      "model_name": "TextModel",
      "state": {
       "layout": "IPY_MODEL_239bec109578490f9329cf0477e25967",
       "style": "IPY_MODEL_69c30bf1d73744968eb59a68b40ef03c",
       "value": "7"
      }
     },
     "af6006bf4c634e0d89d3ef82c0b37465": {
      "model_module": "@jupyter-widgets/controls",
      "model_module_version": "1.5.0",
      "model_name": "DescriptionStyleModel",
      "state": {
       "description_width": ""
      }
     },
     "af6de9f6c4424dc989b783ffcc139792": {
      "model_module": "@jupyter-widgets/controls",
      "model_module_version": "1.5.0",
      "model_name": "VBoxModel",
      "state": {
       "children": [
        "IPY_MODEL_c8a8bc8491d94b4b9289f0a90f83169f",
        "IPY_MODEL_4d809df97dbf4b6894c67b3e76824e9d"
       ],
       "layout": "IPY_MODEL_bb4f33fd2a024edbab12b5091188895c"
      }
     },
     "af7477456c33456ca54767e20fa33876": {
      "model_module": "@jupyter-widgets/controls",
      "model_module_version": "1.5.0",
      "model_name": "TextModel",
      "state": {
       "layout": "IPY_MODEL_35e7cd5dc3a344c7867ddf08fc7e1130",
       "style": "IPY_MODEL_807a89e511464bb6beb86cb3bced08a7",
       "value": " 2"
      }
     },
     "af8f90233fe64101abdeb0546c0c8630": {
      "model_module": "@jupyter-widgets/controls",
      "model_module_version": "1.5.0",
      "model_name": "DescriptionStyleModel",
      "state": {
       "description_width": ""
      }
     },
     "afc6d3f6bf3347eba5325746f85bab4b": {
      "model_module": "@jupyter-widgets/controls",
      "model_module_version": "1.5.0",
      "model_name": "DescriptionStyleModel",
      "state": {
       "description_width": ""
      }
     },
     "afcee6e16407434a8a8ba611f03bf62b": {
      "model_module": "@jupyter-widgets/controls",
      "model_module_version": "1.5.0",
      "model_name": "DescriptionStyleModel",
      "state": {
       "description_width": ""
      }
     },
     "afd07095cfa744c0a6d4068a1eea5f3b": {
      "model_module": "@jupyter-widgets/controls",
      "model_module_version": "1.5.0",
      "model_name": "DescriptionStyleModel",
      "state": {
       "description_width": ""
      }
     },
     "afd633c90c664b979c75d8d4f0e27101": {
      "model_module": "@jupyter-widgets/base",
      "model_module_version": "1.2.0",
      "model_name": "LayoutModel",
      "state": {}
     },
     "afdd063b9fc44fdaa6dac4d26eec807e": {
      "model_module": "@jupyter-widgets/controls",
      "model_module_version": "1.5.0",
      "model_name": "TextModel",
      "state": {
       "layout": "IPY_MODEL_d743f8ba50f447a3ad2d5faaa6a0e9e2",
       "style": "IPY_MODEL_31f7b242d3b242e69309b22c1149a097",
       "value": "1"
      }
     },
     "afdd129ec13244fd8b99e75f808be5b9": {
      "model_module": "@jupyter-widgets/controls",
      "model_module_version": "1.5.0",
      "model_name": "HBoxModel",
      "state": {
       "children": [
        "IPY_MODEL_590bd867545e4f828a33d836914d9331",
        "IPY_MODEL_16d7e588c06e43bfb642ae0ff98faaa0",
        "IPY_MODEL_04470ade57e34f9f8741e6ab65ef1567"
       ],
       "layout": "IPY_MODEL_80f259b13ab24c5c9c6d50c65250009f"
      }
     },
     "afdfadb9789c4a9ca681bfb9063319a8": {
      "model_module": "@jupyter-widgets/controls",
      "model_module_version": "1.5.0",
      "model_name": "DescriptionStyleModel",
      "state": {
       "description_width": ""
      }
     },
     "b021255de6654125b6a12dbc17cebd18": {
      "model_module": "@jupyter-widgets/base",
      "model_module_version": "1.2.0",
      "model_name": "LayoutModel",
      "state": {}
     },
     "b022a4792c1d45e8a716fcf99ecf088c": {
      "model_module": "@jupyter-widgets/base",
      "model_module_version": "1.2.0",
      "model_name": "LayoutModel",
      "state": {
       "width": "100px"
      }
     },
     "b02b8f85ab8b4f05819be1812fb9b8a2": {
      "model_module": "@jupyter-widgets/controls",
      "model_module_version": "1.5.0",
      "model_name": "DescriptionStyleModel",
      "state": {
       "description_width": ""
      }
     },
     "b03492d98c37424b9c745bf1b064f81e": {
      "model_module": "@jupyter-widgets/controls",
      "model_module_version": "1.5.0",
      "model_name": "DescriptionStyleModel",
      "state": {
       "description_width": ""
      }
     },
     "b0405bcdc64e48e88e2ce24a821b02bf": {
      "model_module": "@jupyter-widgets/base",
      "model_module_version": "1.2.0",
      "model_name": "LayoutModel",
      "state": {
       "justify_content": "space-between"
      }
     },
     "b09b650053c24433affa28ded09867bd": {
      "model_module": "@jupyter-widgets/base",
      "model_module_version": "1.2.0",
      "model_name": "LayoutModel",
      "state": {}
     },
     "b0b37cbad4314c71ac6d9ffbb15fcf0a": {
      "model_module": "@jupyter-widgets/base",
      "model_module_version": "1.2.0",
      "model_name": "LayoutModel",
      "state": {
       "width": "90px"
      }
     },
     "b0f5bf90f2d44778887d41b67f927cb0": {
      "model_module": "@jupyter-widgets/controls",
      "model_module_version": "1.5.0",
      "model_name": "DescriptionStyleModel",
      "state": {
       "description_width": ""
      }
     },
     "b1096263a43741c5af41521a25938c5c": {
      "model_module": "@jupyter-widgets/controls",
      "model_module_version": "1.5.0",
      "model_name": "VBoxModel",
      "state": {
       "children": [
        "IPY_MODEL_173fda1ef3754f68ba7d55e5407ae60c",
        "IPY_MODEL_cc8608b318be4c0198c305dc8f95d257",
        "IPY_MODEL_e806c1b24a754f478b45aaccc3046031"
       ],
       "layout": "IPY_MODEL_e4a48e74f1fd4cf3aac6026d43c5a33b"
      }
     },
     "b1278b3df10f4338a8bfe4e36f72f0bf": {
      "model_module": "@jupyter-widgets/controls",
      "model_module_version": "1.5.0",
      "model_name": "TextModel",
      "state": {
       "layout": "IPY_MODEL_ff8f131091ed4bf49b858ed52bc5b3ea",
       "style": "IPY_MODEL_cefb352ebcc64fdba426ed489dfe55d2",
       "value": "2"
      }
     },
     "b12f0a163c3e4156840c9ca58b23bcc2": {
      "model_module": "@jupyter-widgets/controls",
      "model_module_version": "1.5.0",
      "model_name": "HBoxModel",
      "state": {
       "children": [
        "IPY_MODEL_b34df8cbb40d4d158ea5b4155c6b02d6",
        "IPY_MODEL_35acd6b3e01049ee996dc1d334507ae4",
        "IPY_MODEL_849a080c8bcc4bd18916f98517068cc6"
       ],
       "layout": "IPY_MODEL_02d54be0240c42b18994aa9c9b3b31dd"
      }
     },
     "b139b5bfb3064ef284e7c4c902337610": {
      "model_module": "@jupyter-widgets/controls",
      "model_module_version": "1.5.0",
      "model_name": "TextModel",
      "state": {
       "layout": "IPY_MODEL_24e52a9da5f64680833f56257412e632",
       "style": "IPY_MODEL_ea23d0027d3d4ed9abbc7770dcaa6f70",
       "value": "-4"
      }
     },
     "b13f421f280243d386639d38cd4c3b09": {
      "model_module": "@jupyter-widgets/controls",
      "model_module_version": "1.5.0",
      "model_name": "DescriptionStyleModel",
      "state": {
       "description_width": ""
      }
     },
     "b16dfbe331fe43fabbc50ae50aed289f": {
      "model_module": "@jupyter-widgets/base",
      "model_module_version": "1.2.0",
      "model_name": "LayoutModel",
      "state": {
       "width": "50px"
      }
     },
     "b16e6f0064bc43ef84e2e816bfbe5f7e": {
      "model_module": "@jupyter-widgets/controls",
      "model_module_version": "1.5.0",
      "model_name": "DescriptionStyleModel",
      "state": {
       "description_width": ""
      }
     },
     "b1791b0879624e658357762d2369ac65": {
      "model_module": "@jupyter-widgets/controls",
      "model_module_version": "1.5.0",
      "model_name": "VBoxModel",
      "state": {
       "children": [
        "IPY_MODEL_f895ea3132694a979c2d178a101b75ad",
        "IPY_MODEL_64c97bf5a3d14a6a923faa8149fc7952",
        "IPY_MODEL_51c1ffe48e334f30aa4a9a9eb7f15112"
       ],
       "layout": "IPY_MODEL_396a39095de24ef5b1ad48887cedc2c3"
      }
     },
     "b188595e7cc8401cb3c6e765f8e86dfd": {
      "model_module": "@jupyter-widgets/controls",
      "model_module_version": "1.5.0",
      "model_name": "ButtonStyleModel",
      "state": {}
     },
     "b1896b3f670d4d108835cab73cba5ad7": {
      "model_module": "@jupyter-widgets/controls",
      "model_module_version": "1.5.0",
      "model_name": "DescriptionStyleModel",
      "state": {
       "description_width": ""
      }
     },
     "b1b400f7a9db48c7b220f38e3f214f0c": {
      "model_module": "@jupyter-widgets/controls",
      "model_module_version": "1.5.0",
      "model_name": "TextModel",
      "state": {
       "layout": "IPY_MODEL_9f4d9e00ae3e470a8d024478444df27d",
       "style": "IPY_MODEL_f889cd3076264fc6ac2d49038d7b96e7",
       "value": "7"
      }
     },
     "b1b5fa7f64304b42abdce6ce4da43d5e": {
      "model_module": "@jupyter-widgets/controls",
      "model_module_version": "1.5.0",
      "model_name": "DescriptionStyleModel",
      "state": {
       "description_width": ""
      }
     },
     "b1bb9582f5664bab878cae686d35c113": {
      "model_module": "@jupyter-widgets/controls",
      "model_module_version": "1.5.0",
      "model_name": "ButtonModel",
      "state": {
       "description": "Add rows",
       "layout": "IPY_MODEL_9081a0716bc44b7ea86f2b59b7f3bf1f",
       "style": "IPY_MODEL_18e800eadb0a403fac297973b35ed653"
      }
     },
     "b1de36b1b50d4b30b3071b04666c1958": {
      "model_module": "@jupyter-widgets/controls",
      "model_module_version": "1.5.0",
      "model_name": "TextModel",
      "state": {
       "description": "times",
       "layout": "IPY_MODEL_fce12b3391ca4296ae41d042086125ab",
       "style": "IPY_MODEL_b87f5f0db623484a81bd0c375671006e",
       "value": "1"
      }
     },
     "b1f5ef10d8b2416d8bd6fe660457fb33": {
      "model_module": "@jupyter-widgets/controls",
      "model_module_version": "1.5.0",
      "model_name": "TextModel",
      "state": {
       "layout": "IPY_MODEL_383a1c5f5f0c418b84e9a50a2a78d25a",
       "style": "IPY_MODEL_156d06c26db241928dc0d6cc68c2cc36",
       "value": "1"
      }
     },
     "b204a51df14e4006a11bff71ba14b36a": {
      "model_module": "@jupyter-widgets/controls",
      "model_module_version": "1.5.0",
      "model_name": "DescriptionStyleModel",
      "state": {
       "description_width": ""
      }
     },
     "b2114799c4a84bbc87247973e58f4c95": {
      "model_module": "@jupyter-widgets/base",
      "model_module_version": "1.2.0",
      "model_name": "LayoutModel",
      "state": {}
     },
     "b24188af17df4f399847f097fc67807e": {
      "model_module": "@jupyter-widgets/controls",
      "model_module_version": "1.5.0",
      "model_name": "HBoxModel",
      "state": {
       "children": [
        "IPY_MODEL_3f5c282cb7614c07a33fdfceddad2e59",
        "IPY_MODEL_7231a6e6a9504e24a63aba01f0b0a6ab",
        "IPY_MODEL_4e906a31db0a414890457e2563c74669"
       ],
       "layout": "IPY_MODEL_3052d1ae3dc149a997947ade1185ba4d"
      }
     },
     "b244ac24cb6c46f498c847643e9a754f": {
      "model_module": "@jupyter-widgets/controls",
      "model_module_version": "1.5.0",
      "model_name": "DescriptionStyleModel",
      "state": {
       "description_width": ""
      }
     },
     "b26ea79547104f72bbb7d86d4bd771f6": {
      "model_module": "@jupyter-widgets/base",
      "model_module_version": "1.2.0",
      "model_name": "LayoutModel",
      "state": {
       "width": "100px"
      }
     },
     "b2827ab913cf4f49b7a4aeebd116396e": {
      "model_module": "@jupyter-widgets/base",
      "model_module_version": "1.2.0",
      "model_name": "LayoutModel",
      "state": {
       "height": "35px",
       "width": "30px"
      }
     },
     "b2b0604d46134161b6ff1301686f5550": {
      "model_module": "@jupyter-widgets/controls",
      "model_module_version": "1.5.0",
      "model_name": "TextModel",
      "state": {
       "layout": "IPY_MODEL_7a607c89a00143a7a0808c95689bf41a",
       "style": "IPY_MODEL_d439cf17d9594c0d8444aa336c93b871",
       "value": "7"
      }
     },
     "b2da0e500b16485c95b72ada479982d8": {
      "model_module": "@jupyter-widgets/controls",
      "model_module_version": "1.5.0",
      "model_name": "HBoxModel",
      "state": {
       "children": [
        "IPY_MODEL_80387b3f03754d14bb2fd63711c3c601",
        "IPY_MODEL_edd10de6b3354b2a9e98cdea7b17e20e"
       ],
       "layout": "IPY_MODEL_9141f2dde1084ea2b324df57759f2d3c"
      }
     },
     "b2fd1676cfc9432e80f7990cf343bd4e": {
      "model_module": "@jupyter-widgets/controls",
      "model_module_version": "1.5.0",
      "model_name": "TextModel",
      "state": {
       "layout": "IPY_MODEL_dfe771ca3cb647c5ba599a113ad575df",
       "style": "IPY_MODEL_88f2b62e152c4aa4a19547997d5fd4bc",
       "value": "-1"
      }
     },
     "b2ffaba8b497439a942ad036187b964b": {
      "model_module": "@jupyter-widgets/base",
      "model_module_version": "1.2.0",
      "model_name": "LayoutModel",
      "state": {
       "width": "100px"
      }
     },
     "b300be204c8646219a46a9d7a8bb14ce": {
      "model_module": "@jupyter-widgets/controls",
      "model_module_version": "1.5.0",
      "model_name": "DescriptionStyleModel",
      "state": {
       "description_width": ""
      }
     },
     "b3087980f9df4a809d553216df4fc908": {
      "model_module": "@jupyter-widgets/controls",
      "model_module_version": "1.5.0",
      "model_name": "ButtonModel",
      "state": {
       "description": "Start",
       "layout": "IPY_MODEL_a483c52dc5a94df8b7f6fb64c0f3c395",
       "style": "IPY_MODEL_eb87a08f228b4899b30e7a7761e4bfd5"
      }
     },
     "b309ff0f0496459bbc8c3bde4a7c3c2c": {
      "model_module": "@jupyter-widgets/controls",
      "model_module_version": "1.5.0",
      "model_name": "DescriptionStyleModel",
      "state": {
       "description_width": ""
      }
     },
     "b34df8cbb40d4d158ea5b4155c6b02d6": {
      "model_module": "@jupyter-widgets/controls",
      "model_module_version": "1.5.0",
      "model_name": "TextModel",
      "state": {
       "layout": "IPY_MODEL_5658a8e71503421ab525d14883c87170",
       "style": "IPY_MODEL_58aafa981a8542a8b629a87e497f4343",
       "value": "4"
      }
     },
     "b372bed8d3b34349b95278f809ffc29e": {
      "model_module": "@jupyter-widgets/controls",
      "model_module_version": "1.5.0",
      "model_name": "DescriptionStyleModel",
      "state": {
       "description_width": ""
      }
     },
     "b3928f2cb08447faa00b8693f608807d": {
      "model_module": "@jupyter-widgets/base",
      "model_module_version": "1.2.0",
      "model_name": "LayoutModel",
      "state": {
       "justify_content": "center"
      }
     },
     "b40eb410e1ce4ac6a5429c652689b637": {
      "model_module": "@jupyter-widgets/controls",
      "model_module_version": "1.5.0",
      "model_name": "DescriptionStyleModel",
      "state": {
       "description_width": ""
      }
     },
     "b4233c1a634145478e2c7712e61c06f3": {
      "model_module": "@jupyter-widgets/controls",
      "model_module_version": "1.5.0",
      "model_name": "DescriptionStyleModel",
      "state": {
       "description_width": ""
      }
     },
     "b42b0d246aeb48caab43124e0464e10e": {
      "model_module": "@jupyter-widgets/base",
      "model_module_version": "1.2.0",
      "model_name": "LayoutModel",
      "state": {
       "width": "150px"
      }
     },
     "b44b3024983f4137b8d179db77698459": {
      "model_module": "@jupyter-widgets/base",
      "model_module_version": "1.2.0",
      "model_name": "LayoutModel",
      "state": {}
     },
     "b44fbe1530b8486a8a003242bde108f2": {
      "model_module": "@jupyter-widgets/controls",
      "model_module_version": "1.5.0",
      "model_name": "TextModel",
      "state": {
       "layout": "IPY_MODEL_f9ebc65ea59246e1a7d2bcdb072b46e0",
       "style": "IPY_MODEL_1401e9f079554030bd9d69a9bb58350a",
       "value": "-1"
      }
     },
     "b45cca93b651435b81c2143578b9d4a3": {
      "model_module": "@jupyter-widgets/base",
      "model_module_version": "1.2.0",
      "model_name": "LayoutModel",
      "state": {
       "width": "120px"
      }
     },
     "b46cd9dd6196443db5682258f01d446c": {
      "model_module": "@jupyter-widgets/base",
      "model_module_version": "1.2.0",
      "model_name": "LayoutModel",
      "state": {
       "width": "90px"
      }
     },
     "b46dffe59e25455b8da113a95882f408": {
      "model_module": "@jupyter-widgets/controls",
      "model_module_version": "1.5.0",
      "model_name": "DescriptionStyleModel",
      "state": {
       "description_width": ""
      }
     },
     "b485cfc31de242488a281e5b3b80acfe": {
      "model_module": "@jupyter-widgets/controls",
      "model_module_version": "1.5.0",
      "model_name": "DescriptionStyleModel",
      "state": {
       "description_width": ""
      }
     },
     "b4ac8b1e033149548f2275cb87701126": {
      "model_module": "@jupyter-widgets/base",
      "model_module_version": "1.2.0",
      "model_name": "LayoutModel",
      "state": {
       "width": "90px"
      }
     },
     "b4aea46e342b496da1e0c1e683c32a1d": {
      "model_module": "@jupyter-widgets/base",
      "model_module_version": "1.2.0",
      "model_name": "LayoutModel",
      "state": {}
     },
     "b4cfe506c079401380e7671fada31f13": {
      "model_module": "@jupyter-widgets/base",
      "model_module_version": "1.2.0",
      "model_name": "LayoutModel",
      "state": {
       "height": "35px",
       "width": "30px"
      }
     },
     "b4e8bedc66614c2b971638f28f3b0643": {
      "model_module": "@jupyter-widgets/base",
      "model_module_version": "1.2.0",
      "model_name": "LayoutModel",
      "state": {
       "width": "100px"
      }
     },
     "b51a09c790b540e18b069db38eab4f8c": {
      "model_module": "@jupyter-widgets/base",
      "model_module_version": "1.2.0",
      "model_name": "LayoutModel",
      "state": {
       "width": "150px"
      }
     },
     "b52e67fabe904ec8b4df7c5b458608ab": {
      "model_module": "@jupyter-widgets/controls",
      "model_module_version": "1.5.0",
      "model_name": "DescriptionStyleModel",
      "state": {
       "description_width": ""
      }
     },
     "b5412308b42844929ea6cb7509694b92": {
      "model_module": "@jupyter-widgets/base",
      "model_module_version": "1.2.0",
      "model_name": "LayoutModel",
      "state": {}
     },
     "b54771b656be4d48a53bf86e18bf3e9d": {
      "model_module": "@jupyter-widgets/controls",
      "model_module_version": "1.5.0",
      "model_name": "TextModel",
      "state": {
       "layout": "IPY_MODEL_ff8f131091ed4bf49b858ed52bc5b3ea",
       "style": "IPY_MODEL_a2c2aeb39bef4483a29dc15133897d6b",
       "value": "9"
      }
     },
     "b58ecbeb11f34c18baa76e340523697c": {
      "model_module": "@jupyter-widgets/base",
      "model_module_version": "1.2.0",
      "model_name": "LayoutModel",
      "state": {}
     },
     "b5b9a3dac7b9462cbd6af07124cdee44": {
      "model_module": "@jupyter-widgets/base",
      "model_module_version": "1.2.0",
      "model_name": "LayoutModel",
      "state": {
       "width": "150px"
      }
     },
     "b5bfe1f40a4e4ec9b4908f610e3fc4e7": {
      "model_module": "@jupyter-widgets/controls",
      "model_module_version": "1.5.0",
      "model_name": "DescriptionStyleModel",
      "state": {
       "description_width": ""
      }
     },
     "b5d7c25c558445dfaaaffc58366c83e8": {
      "model_module": "@jupyter-widgets/controls",
      "model_module_version": "1.5.0",
      "model_name": "DescriptionStyleModel",
      "state": {
       "description_width": ""
      }
     },
     "b5dc224c5410477da16dd3bd79fffe9c": {
      "model_module": "@jupyter-widgets/controls",
      "model_module_version": "1.5.0",
      "model_name": "TextModel",
      "state": {
       "layout": "IPY_MODEL_9f4d9e00ae3e470a8d024478444df27d",
       "style": "IPY_MODEL_b309ff0f0496459bbc8c3bde4a7c3c2c",
       "value": "7"
      }
     },
     "b602ef5e5a3d4a2f899d0509810b9022": {
      "model_module": "@jupyter-widgets/controls",
      "model_module_version": "1.5.0",
      "model_name": "DescriptionStyleModel",
      "state": {
       "description_width": ""
      }
     },
     "b60a9d5d2d7c4355bc32aca3b805cbf6": {
      "model_module": "@jupyter-widgets/controls",
      "model_module_version": "1.5.0",
      "model_name": "DescriptionStyleModel",
      "state": {
       "description_width": ""
      }
     },
     "b6150c63209b4276b3bd02f308092141": {
      "model_module": "@jupyter-widgets/base",
      "model_module_version": "1.2.0",
      "model_name": "LayoutModel",
      "state": {
       "width": "100px"
      }
     },
     "b64f59a203764a89af5a45834e8cc53f": {
      "model_module": "@jupyter-widgets/controls",
      "model_module_version": "1.5.0",
      "model_name": "HTMLMathModel",
      "state": {
       "layout": "IPY_MODEL_fc2e8b14472a49538b44e494859dde65",
       "style": "IPY_MODEL_faf8d511d6da4abd99879cdb6e7d70a4",
       "value": "The augmented matrix $(\\bf{A}|\\bf{B})$ will appear here."
      }
     },
     "b674b130b01948a1967559211c4f32cf": {
      "model_module": "@jupyter-widgets/controls",
      "model_module_version": "1.5.0",
      "model_name": "TextModel",
      "state": {
       "layout": "IPY_MODEL_24e52a9da5f64680833f56257412e632",
       "style": "IPY_MODEL_7c4d15c3fa72493cb98a0cc1cf1a8427",
       "value": "-1"
      }
     },
     "b68155761c3c4d859a21163c3aa75780": {
      "model_module": "@jupyter-widgets/controls",
      "model_module_version": "1.5.0",
      "model_name": "DropdownModel",
      "state": {
       "_options_labels": [
        "1",
        "2",
        "3"
       ],
       "description": "Add row",
       "index": 0,
       "layout": "IPY_MODEL_8d0cd6ca340e4fd0bea5625b0db2267d",
       "style": "IPY_MODEL_9bf84e09e10049c3930a283180c06a32"
      }
     },
     "b690ed8b742a4bc292fd270f6229f2a7": {
      "model_module": "@jupyter-widgets/base",
      "model_module_version": "1.2.0",
      "model_name": "LayoutModel",
      "state": {}
     },
     "b691e570176c45e1868634b486dc3def": {
      "model_module": "@jupyter-widgets/controls",
      "model_module_version": "1.5.0",
      "model_name": "DescriptionStyleModel",
      "state": {
       "description_width": ""
      }
     },
     "b69d67ac313a40b0bb50cb9e51bc7bfe": {
      "model_module": "@jupyter-widgets/controls",
      "model_module_version": "1.5.0",
      "model_name": "HBoxModel",
      "state": {
       "children": [
        "IPY_MODEL_0a02e7b644da470cb73ee9aba198f096",
        "IPY_MODEL_97443628219a4546b47dd3d531819942",
        "IPY_MODEL_9c307432a46441c1865d286171269841"
       ],
       "layout": "IPY_MODEL_b74f316e014b4045b117946e3e23f29a"
      }
     },
     "b6b1e0fd5f0a452183d21e8c04c7a767": {
      "model_module": "@jupyter-widgets/controls",
      "model_module_version": "1.5.0",
      "model_name": "BoxModel",
      "state": {
       "children": [
        "IPY_MODEL_ff950e31222a4f1ab614294935274c32",
        "IPY_MODEL_93afcd4a20a844269625caff03d002a4",
        "IPY_MODEL_68307ad28a194411b9815a24bf44e468"
       ],
       "layout": "IPY_MODEL_640b0d9c6d284a918ba3f5e88b82621d"
      }
     },
     "b6c88ee779944499829f6d6f352b0e65": {
      "model_module": "@jupyter-widgets/controls",
      "model_module_version": "1.5.0",
      "model_name": "TextModel",
      "state": {
       "layout": "IPY_MODEL_f28c3c7f5ced4384b8a9eca6bc4c00fd",
       "style": "IPY_MODEL_668d1b7ee9574d808ac10157acf3a793",
       "value": "2"
      }
     },
     "b6f50405cbbd4679967eeaef8e2d809e": {
      "model_module": "@jupyter-widgets/base",
      "model_module_version": "1.2.0",
      "model_name": "LayoutModel",
      "state": {
       "width": "150px"
      }
     },
     "b6fbc83893e84e308e537f72fb1763ea": {
      "model_module": "@jupyter-widgets/controls",
      "model_module_version": "1.5.0",
      "model_name": "DescriptionStyleModel",
      "state": {
       "description_width": ""
      }
     },
     "b71a1c4e2bef4baba58bcdc3b74c23f9": {
      "model_module": "@jupyter-widgets/controls",
      "model_module_version": "1.5.0",
      "model_name": "HTMLModel",
      "state": {
       "layout": "IPY_MODEL_0dab27311a574510a4e8775960744879",
       "style": "IPY_MODEL_d2975ec20bc64de584422d5b03eb5b92",
       "value": "Click the button below to start the calculator"
      }
     },
     "b71df5c48a01436991d48fa144d15c52": {
      "model_module": "@jupyter-widgets/controls",
      "model_module_version": "1.5.0",
      "model_name": "DescriptionStyleModel",
      "state": {
       "description_width": ""
      }
     },
     "b728c9014fa14742b664d1ff356cfe32": {
      "model_module": "@jupyter-widgets/controls",
      "model_module_version": "1.5.0",
      "model_name": "HTMLMathModel",
      "state": {
       "layout": "IPY_MODEL_fb6b64ad8dac4819b7b996f2752a4970",
       "style": "IPY_MODEL_a03bc017a49840339e22a299913355a4",
       "value": "Enter here the values of the right hand side vector $b$"
      }
     },
     "b73a47a6949b4fbb9c457e60eb20b552": {
      "model_module": "@jupyter-widgets/base",
      "model_module_version": "1.2.0",
      "model_name": "LayoutModel",
      "state": {
       "width": "100px"
      }
     },
     "b74f316e014b4045b117946e3e23f29a": {
      "model_module": "@jupyter-widgets/base",
      "model_module_version": "1.2.0",
      "model_name": "LayoutModel",
      "state": {}
     },
     "b773511b817b4faa8d10821a2846f86f": {
      "model_module": "@jupyter-widgets/controls",
      "model_module_version": "1.5.0",
      "model_name": "DescriptionStyleModel",
      "state": {
       "description_width": ""
      }
     },
     "b7776b8c4c6b4d89a60e46a4b3fbf5eb": {
      "model_module": "@jupyter-widgets/controls",
      "model_module_version": "1.5.0",
      "model_name": "HBoxModel",
      "state": {
       "children": [
        "IPY_MODEL_afdd063b9fc44fdaa6dac4d26eec807e",
        "IPY_MODEL_f672c930fbb1405abd7774618075988e",
        "IPY_MODEL_90aef78a96ce4d1194b547d6f2f55ffa"
       ],
       "layout": "IPY_MODEL_1eba5f7167cd49e6aae4447eb467570d"
      }
     },
     "b7855ad46cf642f485289afda05ff93e": {
      "model_module": "@jupyter-widgets/controls",
      "model_module_version": "1.5.0",
      "model_name": "HBoxModel",
      "state": {
       "children": [
        "IPY_MODEL_c7a96e1f4ae044fdb9d5e3fea9b4ea5d",
        "IPY_MODEL_b975c0c56ac34b1b96b6d81930ce86bb"
       ],
       "layout": "IPY_MODEL_1e807409288442e1badd9adad68a45fc"
      }
     },
     "b79a6222ceb24a419585eace47c694cb": {
      "model_module": "@jupyter-widgets/controls",
      "model_module_version": "1.5.0",
      "model_name": "DescriptionStyleModel",
      "state": {
       "description_width": ""
      }
     },
     "b7a541c5631e49ef9425b932d8dd1292": {
      "model_module": "@jupyter-widgets/base",
      "model_module_version": "1.2.0",
      "model_name": "LayoutModel",
      "state": {
       "width": "100px"
      }
     },
     "b7cc6496638748a0a0b2e0990b5c24cd": {
      "model_module": "@jupyter-widgets/controls",
      "model_module_version": "1.5.0",
      "model_name": "TextModel",
      "state": {
       "layout": "IPY_MODEL_e9aebd82017d4a8ba76e24a5bdf8ca4f",
       "style": "IPY_MODEL_b831e830231847fbb148f2a0b2162228",
       "value": "4"
      }
     },
     "b831e830231847fbb148f2a0b2162228": {
      "model_module": "@jupyter-widgets/controls",
      "model_module_version": "1.5.0",
      "model_name": "DescriptionStyleModel",
      "state": {
       "description_width": ""
      }
     },
     "b83654dbe6154a2ea6780feff2354ae0": {
      "model_module": "@jupyter-widgets/controls",
      "model_module_version": "1.5.0",
      "model_name": "DescriptionStyleModel",
      "state": {
       "description_width": ""
      }
     },
     "b838a7586e394db2a8cf5f71139c465e": {
      "model_module": "@jupyter-widgets/controls",
      "model_module_version": "1.5.0",
      "model_name": "DescriptionStyleModel",
      "state": {
       "description_width": ""
      }
     },
     "b83fd4ae545a4265809440b66acf2ecb": {
      "model_module": "@jupyter-widgets/base",
      "model_module_version": "1.2.0",
      "model_name": "LayoutModel",
      "state": {
       "width": "150px"
      }
     },
     "b85305a20b1b4a4f807aeebc03c16d4e": {
      "model_module": "@jupyter-widgets/base",
      "model_module_version": "1.2.0",
      "model_name": "LayoutModel",
      "state": {}
     },
     "b872929a130941e09564239fed7eb104": {
      "model_module": "@jupyter-widgets/base",
      "model_module_version": "1.2.0",
      "model_name": "LayoutModel",
      "state": {
       "width": "150px"
      }
     },
     "b87caeeafffd4c5ab8f0d6ec665b8d4e": {
      "model_module": "@jupyter-widgets/controls",
      "model_module_version": "1.5.0",
      "model_name": "HTMLMathModel",
      "state": {
       "layout": "IPY_MODEL_761265acf45546c38b009da957086831",
       "style": "IPY_MODEL_596c323d9ab54c17a2ee73511dda6fb2",
       "value": "Enter here the values of the matrix $A$"
      }
     },
     "b87f5f0db623484a81bd0c375671006e": {
      "model_module": "@jupyter-widgets/controls",
      "model_module_version": "1.5.0",
      "model_name": "DescriptionStyleModel",
      "state": {
       "description_width": ""
      }
     },
     "b88433ee3f2e4fad97a6181a28efa23f": {
      "model_module": "@jupyter-widgets/controls",
      "model_module_version": "1.5.0",
      "model_name": "TextModel",
      "state": {
       "layout": "IPY_MODEL_109f6d462a004bdd9a95542348d778f8",
       "style": "IPY_MODEL_14f522fd2fd24732bc86a5515bfabd50",
       "value": "-6"
      }
     },
     "b8df7ab948fc48d48d7cd89a49a6da71": {
      "model_module": "@jupyter-widgets/controls",
      "model_module_version": "1.5.0",
      "model_name": "ButtonStyleModel",
      "state": {}
     },
     "b927e4294283456c9a036b73b0eb8531": {
      "model_module": "@jupyter-widgets/controls",
      "model_module_version": "1.5.0",
      "model_name": "BoxModel",
      "state": {
       "children": [
        "IPY_MODEL_99441ff72fda4f91aa7f34e23eebb138",
        "IPY_MODEL_4be9f3f43bc743ec86e193fa7296f488",
        "IPY_MODEL_5c41e05133a8474dbd879de17b0e9983"
       ],
       "layout": "IPY_MODEL_c2d9a8bb18c2457c86a2aa25312cc7a5"
      }
     },
     "b92f398f79bb48739c48a90d2f52eea6": {
      "model_module": "@jupyter-widgets/controls",
      "model_module_version": "1.5.0",
      "model_name": "DescriptionStyleModel",
      "state": {
       "description_width": ""
      }
     },
     "b94963d0a1434b1e984ef602f8059bb1": {
      "model_module": "@jupyter-widgets/controls",
      "model_module_version": "1.5.0",
      "model_name": "HBoxModel",
      "state": {
       "children": [
        "IPY_MODEL_844b37e96d92458f8dfee75f60f6efad",
        "IPY_MODEL_1c473fa3fa084f6fb6f32f4f09d42d23"
       ],
       "layout": "IPY_MODEL_ea061cdc7a824fd3ad0b823444d348fd"
      }
     },
     "b95d9576413f4b89b29d4a1d68b1f97a": {
      "model_module": "@jupyter-widgets/controls",
      "model_module_version": "1.5.0",
      "model_name": "DescriptionStyleModel",
      "state": {
       "description_width": ""
      }
     },
     "b9631cba1d2d4fcaa434ecc2b2274074": {
      "model_module": "@jupyter-widgets/controls",
      "model_module_version": "1.5.0",
      "model_name": "VBoxModel",
      "state": {
       "children": [
        "IPY_MODEL_06f5fe5bc9534d6e8d7adbf04c081b11",
        "IPY_MODEL_a03cb5bbc7f4420fabeb26bbb3614ff6"
       ],
       "layout": "IPY_MODEL_6e939921766a4f98b752e8b4d0b93b35"
      }
     },
     "b975c0c56ac34b1b96b6d81930ce86bb": {
      "model_module": "@jupyter-widgets/controls",
      "model_module_version": "1.5.0",
      "model_name": "VBoxModel",
      "state": {
       "children": [
        "IPY_MODEL_942d9e5ac5034120be3faf8d878d2c81",
        "IPY_MODEL_60734b346c0541c681783809ffa01ef0"
       ],
       "layout": "IPY_MODEL_d5088f28f7cb4a269fb6ba5d40a21834"
      }
     },
     "b981c9feb83d4776bd3dc5c7767db06a": {
      "model_module": "@jupyter-widgets/controls",
      "model_module_version": "1.5.0",
      "model_name": "DescriptionStyleModel",
      "state": {
       "description_width": ""
      }
     },
     "b988c113dbf14e86a1715061c72c7152": {
      "model_module": "@jupyter-widgets/controls",
      "model_module_version": "1.5.0",
      "model_name": "VBoxModel",
      "state": {
       "children": [
        "IPY_MODEL_b5dc224c5410477da16dd3bd79fffe9c",
        "IPY_MODEL_c2099aa3093f46cfb774d334922b2c70",
        "IPY_MODEL_b1b400f7a9db48c7b220f38e3f214f0c"
       ],
       "layout": "IPY_MODEL_de35fe9b2c7742e8a5ed676bf0bfb35b"
      }
     },
     "b99085da46e54db9b07262190ea5bdde": {
      "model_module": "@jupyter-widgets/controls",
      "model_module_version": "1.5.0",
      "model_name": "DescriptionStyleModel",
      "state": {
       "description_width": ""
      }
     },
     "b9977383381149bab6b0bf90c4ae0b95": {
      "model_module": "@jupyter-widgets/controls",
      "model_module_version": "1.5.0",
      "model_name": "HBoxModel",
      "state": {
       "children": [
        "IPY_MODEL_9ccfb7a25fe049db8aeb3cddf1cef57c",
        "IPY_MODEL_94b8d5f2ae2c45bbb110d859f4abc8e2"
       ],
       "layout": "IPY_MODEL_15f61fa354404bd1bdd88c4d87bc858f"
      }
     },
     "b9b78ce0d8454ab9a46163f0cc35fd0d": {
      "model_module": "@jupyter-widgets/base",
      "model_module_version": "1.2.0",
      "model_name": "LayoutModel",
      "state": {}
     },
     "b9bafd0b6a3a4e07905bdc0b20ac952d": {
      "model_module": "@jupyter-widgets/base",
      "model_module_version": "1.2.0",
      "model_name": "LayoutModel",
      "state": {
       "width": "150px"
      }
     },
     "b9bfc06ef81a4d948c954bef22443ab8": {
      "model_module": "@jupyter-widgets/controls",
      "model_module_version": "1.5.0",
      "model_name": "DescriptionStyleModel",
      "state": {
       "description_width": ""
      }
     },
     "b9cbe16839484d20b284fc68079d7f74": {
      "model_module": "@jupyter-widgets/base",
      "model_module_version": "1.2.0",
      "model_name": "LayoutModel",
      "state": {
       "width": "150px"
      }
     },
     "b9e496cc78b44e56b34d1de8174bb754": {
      "model_module": "@jupyter-widgets/controls",
      "model_module_version": "1.5.0",
      "model_name": "HBoxModel",
      "state": {
       "children": [
        "IPY_MODEL_ac0be47907a24d77b26c4b5a9c41ba64",
        "IPY_MODEL_00e4c11c5d2844d9891fa26d6399b838"
       ],
       "layout": "IPY_MODEL_4ddc2d90976745818d601cefda1d8661"
      }
     },
     "b9f347d32ddd4c52956e059f34993ad0": {
      "model_module": "@jupyter-widgets/base",
      "model_module_version": "1.2.0",
      "model_name": "LayoutModel",
      "state": {}
     },
     "b9fcafe4daa3425eb76f8273bec8165f": {
      "model_module": "@jupyter-widgets/controls",
      "model_module_version": "1.5.0",
      "model_name": "DropdownModel",
      "state": {
       "_options_labels": [
        "1",
        "2",
        "3"
       ],
       "description": "to row",
       "index": 1,
       "layout": "IPY_MODEL_e00f54ed89a2476b85ea824e0b6f4448",
       "style": "IPY_MODEL_180e518928984c238e151e47659d3495"
      }
     },
     "ba27d619f41a4147a32f0c210bbbbd09": {
      "model_module": "@jupyter-widgets/base",
      "model_module_version": "1.2.0",
      "model_name": "LayoutModel",
      "state": {
       "width": "150px"
      }
     },
     "ba2f855a36de419d86964e3abd55751a": {
      "model_module": "@jupyter-widgets/base",
      "model_module_version": "1.2.0",
      "model_name": "LayoutModel",
      "state": {
       "height": "300px",
       "justify_content": "center"
      }
     },
     "ba79112c0e374f10899baada70e94c53": {
      "model_module": "@jupyter-widgets/base",
      "model_module_version": "1.2.0",
      "model_name": "LayoutModel",
      "state": {}
     },
     "ba9d8ed3affd4cce956a957e92fc06ba": {
      "model_module": "@jupyter-widgets/controls",
      "model_module_version": "1.5.0",
      "model_name": "TextModel",
      "state": {
       "layout": "IPY_MODEL_f28c3c7f5ced4384b8a9eca6bc4c00fd",
       "style": "IPY_MODEL_4936dc93e93b4ac1939a2d158ae5a110",
       "value": "-6"
      }
     },
     "baae6d59497b41ca8a0c653931e5c3cc": {
      "model_module": "@jupyter-widgets/controls",
      "model_module_version": "1.5.0",
      "model_name": "ButtonStyleModel",
      "state": {}
     },
     "bab1f6c2766b44c2a3abf090e834a017": {
      "model_module": "@jupyter-widgets/controls",
      "model_module_version": "1.5.0",
      "model_name": "HTMLMathModel",
      "state": {
       "layout": "IPY_MODEL_dfb4b9bb1cdd4683b59a937680e9639c",
       "style": "IPY_MODEL_1ad478fb93ac455096f343ff66be9ccf",
       "value": "Enter here the values of the matrix $A$"
      }
     },
     "bab4fa0e5841482eb2ae83f4454f62c9": {
      "model_module": "@jupyter-widgets/base",
      "model_module_version": "1.2.0",
      "model_name": "LayoutModel",
      "state": {
       "height": "300px",
       "justify_content": "center"
      }
     },
     "baceb057f2824a32bfd1a299b8c9f0ca": {
      "model_module": "@jupyter-widgets/base",
      "model_module_version": "1.2.0",
      "model_name": "LayoutModel",
      "state": {
       "width": "90px"
      }
     },
     "bad3b3c3638d40cba1f4ff3e90039a17": {
      "model_module": "@jupyter-widgets/base",
      "model_module_version": "1.2.0",
      "model_name": "LayoutModel",
      "state": {
       "grid_template_columns": "repeat(1, 45px)"
      }
     },
     "bae39f2e9d164a1aa912ddd2fbfac503": {
      "model_module": "@jupyter-widgets/controls",
      "model_module_version": "1.5.0",
      "model_name": "DescriptionStyleModel",
      "state": {
       "description_width": ""
      }
     },
     "bafb335991f74acdaca6e33ab45d60a6": {
      "model_module": "@jupyter-widgets/controls",
      "model_module_version": "1.5.0",
      "model_name": "HTMLMathModel",
      "state": {
       "layout": "IPY_MODEL_a870f50104284ac3b1f8d56b2790f4bb",
       "style": "IPY_MODEL_15369d6e49984de4a53e22d903185d7c",
       "value": "Enter here the values of the right hand side vector $b$"
      }
     },
     "bb2009e38a6b46888f09f2cc35a8e029": {
      "model_module": "@jupyter-widgets/controls",
      "model_module_version": "1.5.0",
      "model_name": "DescriptionStyleModel",
      "state": {
       "description_width": ""
      }
     },
     "bb4f33fd2a024edbab12b5091188895c": {
      "model_module": "@jupyter-widgets/base",
      "model_module_version": "1.2.0",
      "model_name": "LayoutModel",
      "state": {}
     },
     "bb721b283a124848ba9ed336ff3fbc8e": {
      "model_module": "@jupyter-widgets/controls",
      "model_module_version": "1.5.0",
      "model_name": "DescriptionStyleModel",
      "state": {
       "description_width": ""
      }
     },
     "bb7f98dd204146009d836aeece81c6e7": {
      "model_module": "@jupyter-widgets/base",
      "model_module_version": "1.2.0",
      "model_name": "LayoutModel",
      "state": {}
     },
     "bba58beff2704be5a8a1e6606af679a0": {
      "model_module": "@jupyter-widgets/controls",
      "model_module_version": "1.5.0",
      "model_name": "DescriptionStyleModel",
      "state": {
       "description_width": ""
      }
     },
     "bbb96f4bc1704e72b424e191d4586eea": {
      "model_module": "@jupyter-widgets/controls",
      "model_module_version": "1.5.0",
      "model_name": "TextModel",
      "state": {
       "layout": "IPY_MODEL_e168436c7ee0437a9552e5f0afc85715",
       "style": "IPY_MODEL_2381015450404a7291bf34625932bde6",
       "value": "2"
      }
     },
     "bbbba68533d7458589b5f23bdb521bb9": {
      "model_module": "@jupyter-widgets/base",
      "model_module_version": "1.2.0",
      "model_name": "LayoutModel",
      "state": {}
     },
     "bbd5dabd53c049fca9a7f5878437cad9": {
      "model_module": "@jupyter-widgets/base",
      "model_module_version": "1.2.0",
      "model_name": "LayoutModel",
      "state": {
       "height": "35px",
       "width": "40px"
      }
     },
     "bbfa983be5714b3cacf1f1687e9f34de": {
      "model_module": "@jupyter-widgets/base",
      "model_module_version": "1.2.0",
      "model_name": "LayoutModel",
      "state": {
       "width": "100px"
      }
     },
     "bc0698a7827a44d98ac51bdcc4b61e70": {
      "model_module": "@jupyter-widgets/controls",
      "model_module_version": "1.5.0",
      "model_name": "TextModel",
      "state": {
       "description": "times",
       "layout": "IPY_MODEL_86cd2f987ac2460ca049baf5ef56eff6",
       "style": "IPY_MODEL_dbc1d1d2fe764ee58f2cab5858ea71e9",
       "value": "1"
      }
     },
     "bc36e6dc8a2c481d997e813232456ea7": {
      "model_module": "@jupyter-widgets/controls",
      "model_module_version": "1.5.0",
      "model_name": "ButtonModel",
      "state": {
       "description": "Multiply row",
       "layout": "IPY_MODEL_4743ef299a894971829c4223238c0b79",
       "style": "IPY_MODEL_c7f51aaede9849f2a62027de3bb31809"
      }
     },
     "bc544e98edbc4f6bb0068d83e5a677f2": {
      "model_module": "@jupyter-widgets/controls",
      "model_module_version": "1.5.0",
      "model_name": "TextModel",
      "state": {
       "layout": "IPY_MODEL_383a1c5f5f0c418b84e9a50a2a78d25a",
       "style": "IPY_MODEL_f5140204c42143d6aaab16db271e0b11",
       "value": "4"
      }
     },
     "bc5b8dfec5ea462e831759ae0fc061f2": {
      "model_module": "@jupyter-widgets/base",
      "model_module_version": "1.2.0",
      "model_name": "LayoutModel",
      "state": {}
     },
     "bc6ef12b830b4e6f86e10966e090a3d6": {
      "model_module": "@jupyter-widgets/base",
      "model_module_version": "1.2.0",
      "model_name": "LayoutModel",
      "state": {}
     },
     "bc9ce607a3e842f399c67598a54e8dbe": {
      "model_module": "@jupyter-widgets/controls",
      "model_module_version": "1.5.0",
      "model_name": "BoxModel",
      "state": {
       "children": [
        "IPY_MODEL_fd9dc18e3e534d57a3a5c1683fb6adbc",
        "IPY_MODEL_9dc76bbe6c1d4d11b03eb0374dfcccb5",
        "IPY_MODEL_24f3b6a6852542fcafa7522a595f43a1",
        "IPY_MODEL_ecb53aaf49a74ce0bd882d4f806c15cd"
       ],
       "layout": "IPY_MODEL_6e7363e8017c44daad8b9d164d011131"
      }
     },
     "bca5690a734a4f618262ef31e7571272": {
      "model_module": "@jupyter-widgets/base",
      "model_module_version": "1.2.0",
      "model_name": "LayoutModel",
      "state": {}
     },
     "bccd81e738124a79a4b966816ea63a25": {
      "model_module": "@jupyter-widgets/base",
      "model_module_version": "1.2.0",
      "model_name": "LayoutModel",
      "state": {
       "width": "150px"
      }
     },
     "bd2273473ed94c6ea91bc9f88282e08c": {
      "model_module": "@jupyter-widgets/controls",
      "model_module_version": "1.5.0",
      "model_name": "HTMLMathModel",
      "state": {
       "layout": "IPY_MODEL_fc71c956adf0406e9e9a1a195b1a173b",
       "style": "IPY_MODEL_7947974f472448cab52d5367e18d4d16",
       "value": "The augmented matrix will appear here."
      }
     },
     "bd3842339cdf4876819766eb479ee0cc": {
      "model_module": "@jupyter-widgets/base",
      "model_module_version": "1.2.0",
      "model_name": "LayoutModel",
      "state": {
       "width": "150px"
      }
     },
     "bd4133373cc641e69e1e374c956f434b": {
      "model_module": "@jupyter-widgets/controls",
      "model_module_version": "1.5.0",
      "model_name": "DescriptionStyleModel",
      "state": {
       "description_width": ""
      }
     },
     "bd4effdbc1514afba1f3bd09aac6f219": {
      "model_module": "@jupyter-widgets/base",
      "model_module_version": "1.2.0",
      "model_name": "LayoutModel",
      "state": {
       "flex_flow": "row wrap",
       "justify_content": "space-around"
      }
     },
     "bd7a7e5e032c4a71be00bbfc02ac8080": {
      "model_module": "@jupyter-widgets/controls",
      "model_module_version": "1.5.0",
      "model_name": "HTMLMathModel",
      "state": {
       "layout": "IPY_MODEL_cfcaef2dd3094d5b98e09ffd0df8b0bb",
       "style": "IPY_MODEL_7e610db10e6b42eebc37e0319450dd5d",
       "value": "Enter here the values of the matrix $A$"
      }
     },
     "bd838b6228b34498a45d5b9542932568": {
      "model_module": "@jupyter-widgets/controls",
      "model_module_version": "1.5.0",
      "model_name": "TextModel",
      "state": {
       "layout": "IPY_MODEL_35e7cd5dc3a344c7867ddf08fc7e1130",
       "style": "IPY_MODEL_4d215c88febe40f3a985280ae9a17bd0",
       "value": " 9"
      }
     },
     "bd931cc45e90423a9bb9e9a48295ea56": {
      "model_module": "@jupyter-widgets/controls",
      "model_module_version": "1.5.0",
      "model_name": "DescriptionStyleModel",
      "state": {
       "description_width": ""
      }
     },
     "bd9e4e39c0f145f29ea1a5da6f08d394": {
      "model_module": "@jupyter-widgets/controls",
      "model_module_version": "1.5.0",
      "model_name": "DescriptionStyleModel",
      "state": {
       "description_width": ""
      }
     },
     "bda164a7675c4815915aab80fb22cbd5": {
      "model_module": "@jupyter-widgets/controls",
      "model_module_version": "1.5.0",
      "model_name": "TextModel",
      "state": {
       "layout": "IPY_MODEL_f28c3c7f5ced4384b8a9eca6bc4c00fd",
       "style": "IPY_MODEL_a740ff59eb3649808f9461627980463a",
       "value": "2"
      }
     },
     "bdef2a0a52ae4e97a1bee792a020dc65": {
      "model_module": "@jupyter-widgets/controls",
      "model_module_version": "1.5.0",
      "model_name": "HTMLModel",
      "state": {
       "layout": "IPY_MODEL_e530640bb6a244e2b64e8de0d4598a90",
       "style": "IPY_MODEL_20f2323de88c4f828e3ed4f1c2e3ab40",
       "value": "Click the button below to start the calculator"
      }
     },
     "be024f87c912484d9019d5c53520c889": {
      "model_module": "@jupyter-widgets/controls",
      "model_module_version": "1.5.0",
      "model_name": "TextModel",
      "state": {
       "description": "times",
       "layout": "IPY_MODEL_ba27d619f41a4147a32f0c210bbbbd09",
       "style": "IPY_MODEL_f32a1d7f10014baeb1b88fc683dd5d76",
       "value": "1"
      }
     },
     "be312c9da52b45159185826b5debe00b": {
      "model_module": "@jupyter-widgets/controls",
      "model_module_version": "1.5.0",
      "model_name": "BoxModel",
      "state": {
       "children": [
        "IPY_MODEL_5b88b39bed0a4897befe923f9c60708c",
        "IPY_MODEL_667d47ec12d64f8b923c67c222d301b8",
        "IPY_MODEL_b7855ad46cf642f485289afda05ff93e"
       ],
       "layout": "IPY_MODEL_57090f2f83bd45e78c6efa7552fbed99"
      }
     },
     "be6616b7fa8a4a69bfe79867e7822993": {
      "model_module": "@jupyter-widgets/base",
      "model_module_version": "1.2.0",
      "model_name": "LayoutModel",
      "state": {
       "width": "150px"
      }
     },
     "beb2efe904d44f53b01e592dd10896bf": {
      "model_module": "@jupyter-widgets/controls",
      "model_module_version": "1.5.0",
      "model_name": "HBoxModel",
      "state": {
       "children": [
        "IPY_MODEL_57911ae11a164f64b4797f73d3fc0d87",
        "IPY_MODEL_32d7f0cab2d04c6ca23af3a1a7ca2c0a"
       ],
       "layout": "IPY_MODEL_8d0405004a88437a92058046c34210a3"
      }
     },
     "bf133051f9c242d5961ba3c7aa41f595": {
      "model_module": "@jupyter-widgets/controls",
      "model_module_version": "1.5.0",
      "model_name": "DescriptionStyleModel",
      "state": {
       "description_width": ""
      }
     },
     "bf470fc58914473bb9de9c9d91b1f8da": {
      "model_module": "@jupyter-widgets/controls",
      "model_module_version": "1.5.0",
      "model_name": "TextModel",
      "state": {
       "layout": "IPY_MODEL_35e7cd5dc3a344c7867ddf08fc7e1130",
       "style": "IPY_MODEL_7904caf4ba6a48028da2e9afd26c9973",
       "value": " 5"
      }
     },
     "bf51894b19ee46949bb89e87d8e4f403": {
      "model_module": "@jupyter-widgets/controls",
      "model_module_version": "1.5.0",
      "model_name": "DescriptionStyleModel",
      "state": {
       "description_width": ""
      }
     },
     "bf777a95bf634bb8968bd5a2921e5588": {
      "model_module": "@jupyter-widgets/controls",
      "model_module_version": "1.5.0",
      "model_name": "DescriptionStyleModel",
      "state": {
       "description_width": ""
      }
     },
     "bf7a28195ad64043a87a0afb6764d212": {
      "model_module": "@jupyter-widgets/base",
      "model_module_version": "1.2.0",
      "model_name": "LayoutModel",
      "state": {
       "height": "300px",
       "justify_content": "center"
      }
     },
     "bf863cb0e08142ceb424f21a8e6b5099": {
      "model_module": "@jupyter-widgets/base",
      "model_module_version": "1.2.0",
      "model_name": "LayoutModel",
      "state": {}
     },
     "bfaa8be9138e4fd285189ee948968e2d": {
      "model_module": "@jupyter-widgets/controls",
      "model_module_version": "1.5.0",
      "model_name": "TextModel",
      "state": {
       "layout": "IPY_MODEL_e9aebd82017d4a8ba76e24a5bdf8ca4f",
       "style": "IPY_MODEL_7682743347c24a3d881f388e55fbe600",
       "value": "-1"
      }
     },
     "bfb0bf4b8aa649a4bcd61a69177be072": {
      "model_module": "@jupyter-widgets/base",
      "model_module_version": "1.2.0",
      "model_name": "LayoutModel",
      "state": {
       "width": "150px"
      }
     },
     "bfbe2a03bc8b4a278fd13b513823dee6": {
      "model_module": "@jupyter-widgets/controls",
      "model_module_version": "1.5.0",
      "model_name": "ButtonStyleModel",
      "state": {}
     },
     "bfc58a432ec6425abf68bf907943b5b6": {
      "model_module": "@jupyter-widgets/base",
      "model_module_version": "1.2.0",
      "model_name": "LayoutModel",
      "state": {
       "width": "300px"
      }
     },
     "bfd6547c96934322a8127ac99b2d50d7": {
      "model_module": "@jupyter-widgets/controls",
      "model_module_version": "1.5.0",
      "model_name": "DropdownModel",
      "state": {
       "_options_labels": [
        "1",
        "2",
        "3"
       ],
       "description": "to row",
       "index": 1,
       "layout": "IPY_MODEL_477fd14af0af4a149789e50a64265241",
       "style": "IPY_MODEL_4fad1550850f4576b336756424fac862"
      }
     },
     "bfe90f0b088e4744841d9615494c5524": {
      "model_module": "@jupyter-widgets/controls",
      "model_module_version": "1.5.0",
      "model_name": "HTMLMathModel",
      "state": {
       "layout": "IPY_MODEL_215dfe54c4e344daae05088a2c266042",
       "style": "IPY_MODEL_1ea4034f4b944ea2b8195289feca344b",
       "value": "The augmented matrix is:\n    $$\n    \\left[ \\begin{array}{rrr|r}\n         2 & -6 &  1 &  7\\\\\n         1 &  2 & -1 & -1\\\\\n         5 &  7 & -4 &  9\n    \\end{array} \\right]\n    $$"
      }
     },
     "bff12ca03f2f477b8df56827cfc9aca5": {
      "model_module": "@jupyter-widgets/controls",
      "model_module_version": "1.5.0",
      "model_name": "TextModel",
      "state": {
       "layout": "IPY_MODEL_ff8f131091ed4bf49b858ed52bc5b3ea",
       "style": "IPY_MODEL_e08bd86acfe3404e8b16421bf5343fba",
       "value": "5"
      }
     },
     "c0087dcef37d4938880a2c50087ae282": {
      "model_module": "@jupyter-widgets/base",
      "model_module_version": "1.2.0",
      "model_name": "LayoutModel",
      "state": {
       "width": "100px"
      }
     },
     "c00f4b2f17164911b5f4d806285b3eed": {
      "model_module": "@jupyter-widgets/controls",
      "model_module_version": "1.5.0",
      "model_name": "ButtonStyleModel",
      "state": {}
     },
     "c02d8f1652314e80a48eff63e69d1ccc": {
      "model_module": "@jupyter-widgets/controls",
      "model_module_version": "1.5.0",
      "model_name": "DescriptionStyleModel",
      "state": {
       "description_width": ""
      }
     },
     "c056a79e780d43c89b62fbe55fbe56f4": {
      "model_module": "@jupyter-widgets/base",
      "model_module_version": "1.2.0",
      "model_name": "LayoutModel",
      "state": {
       "width": "150px"
      }
     },
     "c0cc098bac7549dcbc8671cc9a2cae55": {
      "model_module": "@jupyter-widgets/controls",
      "model_module_version": "1.5.0",
      "model_name": "DescriptionStyleModel",
      "state": {
       "description_width": ""
      }
     },
     "c0ee115f44c14ee38711a3daded892b9": {
      "model_module": "@jupyter-widgets/controls",
      "model_module_version": "1.5.0",
      "model_name": "DescriptionStyleModel",
      "state": {
       "description_width": ""
      }
     },
     "c0f03013f8974e06b203201dad818da6": {
      "model_module": "@jupyter-widgets/base",
      "model_module_version": "1.2.0",
      "model_name": "LayoutModel",
      "state": {
       "width": "100px"
      }
     },
     "c107b01fcf3c436c9d48e2bd2e4a4797": {
      "model_module": "@jupyter-widgets/base",
      "model_module_version": "1.2.0",
      "model_name": "LayoutModel",
      "state": {
       "width": "150px"
      }
     },
     "c10e38d8d13a455dbd7bcfe5e917594b": {
      "model_module": "@jupyter-widgets/controls",
      "model_module_version": "1.5.0",
      "model_name": "TextModel",
      "state": {
       "description": "times",
       "layout": "IPY_MODEL_b42b0d246aeb48caab43124e0464e10e",
       "style": "IPY_MODEL_86a7ca35c0c046c19d628b7c2172e622",
       "value": "1"
      }
     },
     "c149fc4995e043b197f8fdd97266b2de": {
      "model_module": "@jupyter-widgets/controls",
      "model_module_version": "1.5.0",
      "model_name": "DropdownModel",
      "state": {
       "_options_labels": [
        "1",
        "2",
        "3"
       ],
       "description": "Row",
       "index": 0,
       "layout": "IPY_MODEL_915f22419d9d4ab4b9e56bbf7a2d2ae9",
       "style": "IPY_MODEL_cd7b9a7681404d1f89bfa5d5844cdd96"
      }
     },
     "c14d3d7f3cda4370b99048bcbeae02a1": {
      "model_module": "@jupyter-widgets/controls",
      "model_module_version": "1.5.0",
      "model_name": "DescriptionStyleModel",
      "state": {
       "description_width": ""
      }
     },
     "c15c8aa9f302432888f362099dbeabb7": {
      "model_module": "@jupyter-widgets/controls",
      "model_module_version": "1.5.0",
      "model_name": "DescriptionStyleModel",
      "state": {
       "description_width": ""
      }
     },
     "c18c537bfbad433098fff95f60f82f47": {
      "model_module": "@jupyter-widgets/controls",
      "model_module_version": "1.5.0",
      "model_name": "DescriptionStyleModel",
      "state": {
       "description_width": ""
      }
     },
     "c198f856f502450dbd01b0210a624e44": {
      "model_module": "@jupyter-widgets/controls",
      "model_module_version": "1.5.0",
      "model_name": "VBoxModel",
      "state": {
       "children": [
        "IPY_MODEL_2421c9d1816149519b4c4aa120cff6a1",
        "IPY_MODEL_7f5aea508d054b9db8744822c4aca0a0"
       ],
       "layout": "IPY_MODEL_306ba045db1343acb0cb8a721fd5d370"
      }
     },
     "c19e9cf7ae3f4efeaf7bc4b6b325e7b2": {
      "model_module": "@jupyter-widgets/controls",
      "model_module_version": "1.5.0",
      "model_name": "TextModel",
      "state": {
       "layout": "IPY_MODEL_a6b672bf88094d8fa8327c74293c6a55",
       "style": "IPY_MODEL_96fce22b49874b799fe61902fd5c9a6c",
       "value": "2"
      }
     },
     "c1a36c62dcab4f2a8f798b83b85d083d": {
      "model_module": "@jupyter-widgets/controls",
      "model_module_version": "1.5.0",
      "model_name": "VBoxModel",
      "state": {
       "children": [
        "IPY_MODEL_55a31ec2072a48169843e6c7b415bd31",
        "IPY_MODEL_fa89f94208934bf8a23da5bb0b209cd7"
       ],
       "layout": "IPY_MODEL_2a8104ca7fd5419bafbec370c0fee84f"
      }
     },
     "c1b3196aeabe42a7b32146204e076d5a": {
      "model_module": "@jupyter-widgets/controls",
      "model_module_version": "1.5.0",
      "model_name": "TextModel",
      "state": {
       "layout": "IPY_MODEL_342fbdc31d2d406489b24d1349c22e03",
       "style": "IPY_MODEL_f894ccd4e76e4fde8b8c85f85e117e82",
       "value": "1"
      }
     },
     "c1cd9410e22a4625bdac3b683190b156": {
      "model_module": "@jupyter-widgets/base",
      "model_module_version": "1.2.0",
      "model_name": "LayoutModel",
      "state": {
       "width": "150px"
      }
     },
     "c1dc14461d1c4807a77c092bd09fcfe9": {
      "model_module": "@jupyter-widgets/controls",
      "model_module_version": "1.5.0",
      "model_name": "DescriptionStyleModel",
      "state": {
       "description_width": ""
      }
     },
     "c1f18476f128437786f1d2d8033219ed": {
      "model_module": "@jupyter-widgets/controls",
      "model_module_version": "1.5.0",
      "model_name": "TextModel",
      "state": {
       "layout": "IPY_MODEL_c488e0656e78457c941ce778fefda70e",
       "style": "IPY_MODEL_a10ada7c7bfd44cdb19acf5a45824155",
       "value": "1"
      }
     },
     "c2099aa3093f46cfb774d334922b2c70": {
      "model_module": "@jupyter-widgets/controls",
      "model_module_version": "1.5.0",
      "model_name": "TextModel",
      "state": {
       "layout": "IPY_MODEL_9f4d9e00ae3e470a8d024478444df27d",
       "style": "IPY_MODEL_0e94e36f3ffc4397b7b027e6f13dcf86",
       "value": "7"
      }
     },
     "c22478fe1b0d4f3795ea62042ac3b543": {
      "model_module": "@jupyter-widgets/controls",
      "model_module_version": "1.5.0",
      "model_name": "DescriptionStyleModel",
      "state": {
       "description_width": ""
      }
     },
     "c25416254d2c4ff7b10b4b9438a0a09c": {
      "model_module": "@jupyter-widgets/controls",
      "model_module_version": "1.5.0",
      "model_name": "TextModel",
      "state": {
       "layout": "IPY_MODEL_5658a8e71503421ab525d14883c87170",
       "style": "IPY_MODEL_57e524f9e16a4125abd2ec5cd30df1df",
       "value": "-1"
      }
     },
     "c2d9a8bb18c2457c86a2aa25312cc7a5": {
      "model_module": "@jupyter-widgets/base",
      "model_module_version": "1.2.0",
      "model_name": "LayoutModel",
      "state": {
       "flex_flow": "row wrap",
       "justify_content": "space-around"
      }
     },
     "c3015bcbfc53442d896452040b5beb5e": {
      "model_module": "@jupyter-widgets/controls",
      "model_module_version": "1.5.0",
      "model_name": "VBoxModel",
      "state": {
       "children": [
        "IPY_MODEL_d6fd0916667e4fdf925042c57bf09178",
        "IPY_MODEL_a39bcc528d1f4340aadca484237a24a1",
        "IPY_MODEL_9c9ac125803046c9a98c0065cb43e73a"
       ],
       "layout": "IPY_MODEL_f599bfdaf108462bb589f1650b3b184f"
      }
     },
     "c32c0d2b78d346128ca7383b2d75b662": {
      "model_module": "@jupyter-widgets/controls",
      "model_module_version": "1.5.0",
      "model_name": "HTMLMathModel",
      "state": {
       "layout": "IPY_MODEL_9b06db0e30214a879741724ebb9ce690",
       "style": "IPY_MODEL_0ea18523c5d748059fccdd96a26b89fe",
       "value": "The augmented matrix is:\n \n    $$\n    \\left[ \\begin{array}{rrr|r}\n        2 & -6 & 1 & 7\\\\\n        1 & 2 & -1 & -1\\\\\n        5 & 7 & -4 & 9\n    \\end{array} \\right]\n    $$\n    "
      }
     },
     "c33b14e5954044d1bc8347d420f80038": {
      "model_module": "@jupyter-widgets/controls",
      "model_module_version": "1.5.0",
      "model_name": "TextModel",
      "state": {
       "layout": "IPY_MODEL_a6b672bf88094d8fa8327c74293c6a55",
       "style": "IPY_MODEL_9860967390e442e6b59702d77463839c",
       "value": "7"
      }
     },
     "c3401db989264411b0333dc4d0155914": {
      "model_module": "@jupyter-widgets/controls",
      "model_module_version": "1.5.0",
      "model_name": "BoxModel",
      "state": {
       "children": [
        "IPY_MODEL_97f8b4a8fac04a3981c1e2226e3d2bea",
        "IPY_MODEL_60b3bc25b70344f2a234618103b1316c",
        "IPY_MODEL_605dd6ff4ba84564bfc9de5db3081a60",
        "IPY_MODEL_ec747882226143328d0611229df8e77e"
       ],
       "layout": "IPY_MODEL_8c87b6e7c49d42b0aef7b519edcf394d"
      }
     },
     "c35066f07945407d8a0e7a27dd1f7eb1": {
      "model_module": "@jupyter-widgets/controls",
      "model_module_version": "1.5.0",
      "model_name": "DescriptionStyleModel",
      "state": {
       "description_width": ""
      }
     },
     "c357de2c62374bcaaf1d8692a5785540": {
      "model_module": "@jupyter-widgets/base",
      "model_module_version": "1.2.0",
      "model_name": "LayoutModel",
      "state": {}
     },
     "c361ecfb861e40119385ae71b619e8fa": {
      "model_module": "@jupyter-widgets/controls",
      "model_module_version": "1.5.0",
      "model_name": "HTMLMathModel",
      "state": {
       "layout": "IPY_MODEL_366f6a5ae4cc44c7882402dc5647b4ce",
       "style": "IPY_MODEL_719f1bad21714d2995495fc75fda3093",
       "value": "The augmented matrix $(\\bf{A}|\\bf{B})$ will appear here."
      }
     },
     "c36672e4c69b40c8963b29175e86f8f0": {
      "model_module": "@jupyter-widgets/controls",
      "model_module_version": "1.5.0",
      "model_name": "DescriptionStyleModel",
      "state": {
       "description_width": ""
      }
     },
     "c3a471de48f641239745f3d6b30f2085": {
      "model_module": "@jupyter-widgets/controls",
      "model_module_version": "1.5.0",
      "model_name": "DescriptionStyleModel",
      "state": {
       "description_width": ""
      }
     },
     "c3afe053aa96462786353332ad2f9241": {
      "model_module": "@jupyter-widgets/base",
      "model_module_version": "1.2.0",
      "model_name": "LayoutModel",
      "state": {
       "justify_content": "space-between"
      }
     },
     "c3fdb0021eb74189ac9646c05ed1c778": {
      "model_module": "@jupyter-widgets/base",
      "model_module_version": "1.2.0",
      "model_name": "LayoutModel",
      "state": {}
     },
     "c404bdca40134ce78dfd82809bad49e7": {
      "model_module": "@jupyter-widgets/controls",
      "model_module_version": "1.5.0",
      "model_name": "DescriptionStyleModel",
      "state": {
       "description_width": ""
      }
     },
     "c423e0a776c74bba82606e70efbf6ea0": {
      "model_module": "@jupyter-widgets/controls",
      "model_module_version": "1.5.0",
      "model_name": "DescriptionStyleModel",
      "state": {
       "description_width": ""
      }
     },
     "c439c5fd2e8241318092750f6357d1a6": {
      "model_module": "@jupyter-widgets/controls",
      "model_module_version": "1.5.0",
      "model_name": "DescriptionStyleModel",
      "state": {
       "description_width": ""
      }
     },
     "c4650cd8404440079c26dfee57285a6f": {
      "model_module": "@jupyter-widgets/controls",
      "model_module_version": "1.5.0",
      "model_name": "TextModel",
      "state": {
       "layout": "IPY_MODEL_b2827ab913cf4f49b7a4aeebd116396e",
       "style": "IPY_MODEL_349695f8da084530925e788a541afae0",
       "value": "1"
      }
     },
     "c488e0656e78457c941ce778fefda70e": {
      "model_module": "@jupyter-widgets/base",
      "model_module_version": "1.2.0",
      "model_name": "LayoutModel",
      "state": {
       "height": "35px",
       "width": "40px"
      }
     },
     "c4ca9923ead94e1894c9af6928a73825": {
      "model_module": "@jupyter-widgets/controls",
      "model_module_version": "1.5.0",
      "model_name": "DescriptionStyleModel",
      "state": {
       "description_width": ""
      }
     },
     "c5006b66ec054928b6f7cb8cd1f20974": {
      "model_module": "@jupyter-widgets/base",
      "model_module_version": "1.2.0",
      "model_name": "LayoutModel",
      "state": {}
     },
     "c5063591b116485a9ea4d294b57eed86": {
      "model_module": "@jupyter-widgets/base",
      "model_module_version": "1.2.0",
      "model_name": "LayoutModel",
      "state": {
       "width": "100px"
      }
     },
     "c52556f0230c4baab79eb0f6c5f16a5c": {
      "model_module": "@jupyter-widgets/controls",
      "model_module_version": "1.5.0",
      "model_name": "TextModel",
      "state": {
       "layout": "IPY_MODEL_d7c4f11771b948fa9166cf5745d8d1c9",
       "style": "IPY_MODEL_a4f4a6a808df439887811f5ab49d0097",
       "value": "1"
      }
     },
     "c52cc2a79ebb40e381aec5cd025bdeb9": {
      "model_module": "@jupyter-widgets/base",
      "model_module_version": "1.2.0",
      "model_name": "LayoutModel",
      "state": {}
     },
     "c55d781a4ec043acb73efe998faf3d60": {
      "model_module": "@jupyter-widgets/base",
      "model_module_version": "1.2.0",
      "model_name": "LayoutModel",
      "state": {}
     },
     "c576efd8be4b41539ac5c4fff72b7966": {
      "model_module": "@jupyter-widgets/base",
      "model_module_version": "1.2.0",
      "model_name": "LayoutModel",
      "state": {}
     },
     "c57ea4a15e1d4f0eb937f2b9a9fc2314": {
      "model_module": "@jupyter-widgets/controls",
      "model_module_version": "1.5.0",
      "model_name": "HBoxModel",
      "state": {
       "children": [
        "IPY_MODEL_e5e7ceb084e8406ca8d2a66d89dcadca",
        "IPY_MODEL_8088a1057058427d8b9034ab41260e00"
       ],
       "layout": "IPY_MODEL_6d7a0617108443e89b2a41c52ed1f630"
      }
     },
     "c5824ed0b54e4bcd9ed07b5d0d47092b": {
      "model_module": "@jupyter-widgets/controls",
      "model_module_version": "1.5.0",
      "model_name": "ButtonModel",
      "state": {
       "description": "Start",
       "layout": "IPY_MODEL_9670e9cfb18f4124988e999e1d0344b0",
       "style": "IPY_MODEL_98639c4fe44f4ad2b8cac11ae8e2bbb3"
      }
     },
     "c5b2331e0c3141579a3e43ae55bfd5ba": {
      "model_module": "@jupyter-widgets/controls",
      "model_module_version": "1.5.0",
      "model_name": "DescriptionStyleModel",
      "state": {
       "description_width": ""
      }
     },
     "c5d636cea53d4916b99b4e03b8ac467a": {
      "model_module": "@jupyter-widgets/base",
      "model_module_version": "1.2.0",
      "model_name": "LayoutModel",
      "state": {}
     },
     "c5d708b861ca42ef98ce6bee61e47e39": {
      "model_module": "@jupyter-widgets/controls",
      "model_module_version": "1.5.0",
      "model_name": "DescriptionStyleModel",
      "state": {
       "description_width": ""
      }
     },
     "c600058616a24e58990e5d00c1b9f6bf": {
      "model_module": "@jupyter-widgets/controls",
      "model_module_version": "1.5.0",
      "model_name": "ButtonModel",
      "state": {
       "description": "Swap rows",
       "layout": "IPY_MODEL_9a0711ec496342c8ab978bcf70283918",
       "style": "IPY_MODEL_4c48c4de2f6148e887c2fc75281b6404"
      }
     },
     "c60528652e3c4636a65b4e10944f638a": {
      "model_module": "@jupyter-widgets/base",
      "model_module_version": "1.2.0",
      "model_name": "LayoutModel",
      "state": {
       "width": "150px"
      }
     },
     "c60575bd77544bc5b42f363f13c1db01": {
      "model_module": "@jupyter-widgets/controls",
      "model_module_version": "1.5.0",
      "model_name": "DropdownModel",
      "state": {
       "_options_labels": [
        "1",
        "2",
        "3"
       ],
       "description": "Row",
       "index": 0,
       "layout": "IPY_MODEL_086a64e8bcf44878bb6439563fd399cf",
       "style": "IPY_MODEL_de79c86d62fa444e91a98349f0850462"
      }
     },
     "c63cc49d1f6e42c280caa089327057a9": {
      "model_module": "@jupyter-widgets/controls",
      "model_module_version": "1.5.0",
      "model_name": "TextModel",
      "state": {
       "layout": "IPY_MODEL_47a60aa1cf3045f2a536b06edf49c5ea",
       "style": "IPY_MODEL_b02b8f85ab8b4f05819be1812fb9b8a2",
       "value": "-6"
      }
     },
     "c64059aee24b495dbdfe2d17c3363fd4": {
      "model_module": "@jupyter-widgets/controls",
      "model_module_version": "1.5.0",
      "model_name": "DescriptionStyleModel",
      "state": {
       "description_width": ""
      }
     },
     "c64ffb32691f4970aff68373a923db0d": {
      "model_module": "@jupyter-widgets/controls",
      "model_module_version": "1.5.0",
      "model_name": "DropdownModel",
      "state": {
       "_options_labels": [
        "1",
        "2",
        "3"
       ],
       "description": "Swap row",
       "index": 0,
       "layout": "IPY_MODEL_4c70d4a776e445cb9bc067511f702ca9",
       "style": "IPY_MODEL_bb721b283a124848ba9ed336ff3fbc8e"
      }
     },
     "c66b4f922bca4b7d845ce65ee4c75c70": {
      "model_module": "@jupyter-widgets/controls",
      "model_module_version": "1.5.0",
      "model_name": "DescriptionStyleModel",
      "state": {
       "description_width": ""
      }
     },
     "c67cd244a91644a3a5260ad3bcaa3af0": {
      "model_module": "@jupyter-widgets/base",
      "model_module_version": "1.2.0",
      "model_name": "LayoutModel",
      "state": {}
     },
     "c6860b9ca6934cb29ad6f7775c6ee499": {
      "model_module": "@jupyter-widgets/controls",
      "model_module_version": "1.5.0",
      "model_name": "HTMLMathModel",
      "state": {
       "layout": "IPY_MODEL_d71a823a25024b71a0990c9dbc0b64c2",
       "style": "IPY_MODEL_a7f16672a77d49739f2cc8c0eef41bfb",
       "value": "Enter here the values of the matrix $A$"
      }
     },
     "c68b86dd5562422199463d9b1c621d61": {
      "model_module": "@jupyter-widgets/controls",
      "model_module_version": "1.5.0",
      "model_name": "HTMLMathModel",
      "state": {
       "layout": "IPY_MODEL_a90df46949534c0e8c9b2676476c4b66",
       "style": "IPY_MODEL_b92f398f79bb48739c48a90d2f52eea6",
       "value": "The augmented matrix $(\\bf{A}|\\bf{B})$ will appear here."
      }
     },
     "c68ba1b409ec46f59a86e118d2714a93": {
      "model_module": "@jupyter-widgets/base",
      "model_module_version": "1.2.0",
      "model_name": "LayoutModel",
      "state": {
       "justify_content": "space-between"
      }
     },
     "c6bbec391e6742afa027e042be6248bb": {
      "model_module": "@jupyter-widgets/controls",
      "model_module_version": "1.5.0",
      "model_name": "HBoxModel",
      "state": {
       "children": [
        "IPY_MODEL_684aef2eb6df4d20842dd25326b73f75",
        "IPY_MODEL_f39c2405301a45fdaf6706ac32945a36",
        "IPY_MODEL_eb939392501748a59a3887486a7d2971"
       ],
       "layout": "IPY_MODEL_5a195c0d1e70499e9aa83c3332dd719d"
      }
     },
     "c6fead6402ef4e8cb8b7bd65eaf95664": {
      "model_module": "@jupyter-widgets/controls",
      "model_module_version": "1.5.0",
      "model_name": "VBoxModel",
      "state": {
       "children": [
        "IPY_MODEL_e2da8bf827a2404a8f0ca0886b96e05a",
        "IPY_MODEL_2adcaf30401b4797b9cfc813761f42d8",
        "IPY_MODEL_72bb58bd5b5647f9b0f2bbae6756c292"
       ],
       "layout": "IPY_MODEL_5f9f15e11c9a472a8e9d60794a0e0d5d"
      }
     },
     "c708842c1a80461fac7df7f6af4c1af1": {
      "model_module": "@jupyter-widgets/base",
      "model_module_version": "1.2.0",
      "model_name": "LayoutModel",
      "state": {
       "width": "150px"
      }
     },
     "c72b7309c7974dfebbd08ccd8dab80b0": {
      "model_module": "@jupyter-widgets/controls",
      "model_module_version": "1.5.0",
      "model_name": "TextModel",
      "state": {
       "layout": "IPY_MODEL_65cb8db367e14667886b79ef97c800d1",
       "style": "IPY_MODEL_8a188f18880f440ca3e786d87b2d8af7",
       "value": "5"
      }
     },
     "c730cc44611641c081f635d3e5bdf038": {
      "model_module": "@jupyter-widgets/controls",
      "model_module_version": "1.5.0",
      "model_name": "DropdownModel",
      "state": {
       "_options_labels": [
        "1",
        "2",
        "3"
       ],
       "description": "Add row",
       "index": 0,
       "layout": "IPY_MODEL_4b7b774fe5b5401c83d6d3a01dd6f487",
       "style": "IPY_MODEL_c404bdca40134ce78dfd82809bad49e7"
      }
     },
     "c73ceabe5e37471dbcde32658547cb1d": {
      "model_module": "@jupyter-widgets/controls",
      "model_module_version": "1.5.0",
      "model_name": "TextModel",
      "state": {
       "layout": "IPY_MODEL_9f4d9e00ae3e470a8d024478444df27d",
       "style": "IPY_MODEL_a9c9100bbeb34b1982105aab30a6c77b",
       "value": "2"
      }
     },
     "c77caa6526a745949292ebc17be476ac": {
      "model_module": "@jupyter-widgets/base",
      "model_module_version": "1.2.0",
      "model_name": "LayoutModel",
      "state": {}
     },
     "c7a96e1f4ae044fdb9d5e3fea9b4ea5d": {
      "model_module": "@jupyter-widgets/controls",
      "model_module_version": "1.5.0",
      "model_name": "VBoxModel",
      "state": {
       "children": [
        "IPY_MODEL_5f2aef43bbbe4deb80266dbfdca0caa9",
        "IPY_MODEL_30be6ffb1a0f4e73b1d8ef11af374c4e"
       ],
       "layout": "IPY_MODEL_3c6b58232c9c4c5c8fc0a5567f95c4eb"
      }
     },
     "c7b50d17a04d4fc588ec52e7e5d51d7d": {
      "model_module": "@jupyter-widgets/base",
      "model_module_version": "1.2.0",
      "model_name": "LayoutModel",
      "state": {
       "justify_content": "center"
      }
     },
     "c7bd83b78a224f7fbcb26af690b57aa9": {
      "model_module": "@jupyter-widgets/controls",
      "model_module_version": "1.5.0",
      "model_name": "HBoxModel",
      "state": {
       "children": [
        "IPY_MODEL_dfcd26dfae934a82b670f1e9fe63b65d",
        "IPY_MODEL_2b9d502a9ca546cf9535554db0210514"
       ],
       "layout": "IPY_MODEL_4c481b4d81bf44fdbaff5dd670f85ea4"
      }
     },
     "c7cec6fce78944fc8fb51dffe0a50fe4": {
      "model_module": "@jupyter-widgets/controls",
      "model_module_version": "1.5.0",
      "model_name": "TextModel",
      "state": {
       "layout": "IPY_MODEL_7a607c89a00143a7a0808c95689bf41a",
       "style": "IPY_MODEL_2f755b9020d549f5877dbeb4cfc47c86",
       "value": "-6"
      }
     },
     "c7f51aaede9849f2a62027de3bb31809": {
      "model_module": "@jupyter-widgets/controls",
      "model_module_version": "1.5.0",
      "model_name": "ButtonStyleModel",
      "state": {}
     },
     "c8115f76758b49f5b3527c1149a4013d": {
      "model_module": "@jupyter-widgets/base",
      "model_module_version": "1.2.0",
      "model_name": "LayoutModel",
      "state": {}
     },
     "c814b1c43f274816a7a1ddfb9148137c": {
      "model_module": "@jupyter-widgets/controls",
      "model_module_version": "1.5.0",
      "model_name": "TextModel",
      "state": {
       "layout": "IPY_MODEL_239bec109578490f9329cf0477e25967",
       "style": "IPY_MODEL_2257a54b7fb44eef953cc10919568a02",
       "value": "2"
      }
     },
     "c81d75f690c34af5984f1471e502a895": {
      "model_module": "@jupyter-widgets/controls",
      "model_module_version": "1.5.0",
      "model_name": "TextModel",
      "state": {
       "layout": "IPY_MODEL_ff8f131091ed4bf49b858ed52bc5b3ea",
       "style": "IPY_MODEL_f876ef45798542f4914ca266bc3b8f3c",
       "value": "2"
      }
     },
     "c81ddd24179e4c50b81a1fdb5c4cdad3": {
      "model_module": "@jupyter-widgets/base",
      "model_module_version": "1.2.0",
      "model_name": "LayoutModel",
      "state": {
       "flex_flow": "row wrap",
       "justify_content": "space-around"
      }
     },
     "c85a987b874c4c649cba6805255f9318": {
      "model_module": "@jupyter-widgets/controls",
      "model_module_version": "1.5.0",
      "model_name": "DescriptionStyleModel",
      "state": {
       "description_width": ""
      }
     },
     "c8756142dbd74b40943ae81419356657": {
      "model_module": "@jupyter-widgets/controls",
      "model_module_version": "1.5.0",
      "model_name": "DescriptionStyleModel",
      "state": {
       "description_width": ""
      }
     },
     "c884d48c01674abfaee3be0a446793d3": {
      "model_module": "@jupyter-widgets/controls",
      "model_module_version": "1.5.0",
      "model_name": "HTMLModel",
      "state": {
       "layout": "IPY_MODEL_74aed2adacf74a3ba1254ec7f5ddb8c6",
       "style": "IPY_MODEL_a836b5f64c4a4c65a498c9593a9e9521",
       "value": "Click this button to start the calculator"
      }
     },
     "c88a9b4576814f6dbef4e788521ba132": {
      "model_module": "@jupyter-widgets/controls",
      "model_module_version": "1.5.0",
      "model_name": "TextModel",
      "state": {
       "layout": "IPY_MODEL_d7c4f11771b948fa9166cf5745d8d1c9",
       "style": "IPY_MODEL_3451af4dcedb4a95b04e1f7f309462f1",
       "value": "1"
      }
     },
     "c8a8bc8491d94b4b9289f0a90f83169f": {
      "model_module": "@jupyter-widgets/controls",
      "model_module_version": "1.5.0",
      "model_name": "HTMLModel",
      "state": {
       "layout": "IPY_MODEL_571a0e9e17e149d9be515e7ac7cd9e07",
       "style": "IPY_MODEL_1dd6798dcc784a88bc13c5b61f5db63b",
       "value": "Click the button below to start the calculator"
      }
     },
     "c8d35454bab74a0fa8b636796c5266f2": {
      "model_module": "@jupyter-widgets/controls",
      "model_module_version": "1.5.0",
      "model_name": "DescriptionStyleModel",
      "state": {
       "description_width": ""
      }
     },
     "c8e3d7693f68412485b24db7b05cb86d": {
      "model_module": "@jupyter-widgets/controls",
      "model_module_version": "1.5.0",
      "model_name": "HTMLMathModel",
      "state": {
       "layout": "IPY_MODEL_aabe6a2752a241ba90f39497fe04ba69",
       "style": "IPY_MODEL_4d495d8c77804fa78dd8f7f3c3b71abe",
       "value": "Enter here the values of the coefficient matrix $\\bf{A}$"
      }
     },
     "c8ee85cbb5c2415284049feca493ea48": {
      "model_module": "@jupyter-widgets/controls",
      "model_module_version": "1.5.0",
      "model_name": "VBoxModel",
      "state": {
       "children": [
        "IPY_MODEL_76f306559b394bfab8b316a4c4d0a41d",
        "IPY_MODEL_103155977d88458bae43b1483b1832fd",
        "IPY_MODEL_f39330af18304cf98cc420abbea7452a"
       ],
       "layout": "IPY_MODEL_1c1bcb38cf6347d294c09c44ea5372c2"
      }
     },
     "c9184918c1164fe8926499d7cbf33e25": {
      "model_module": "@jupyter-widgets/controls",
      "model_module_version": "1.5.0",
      "model_name": "DropdownModel",
      "state": {
       "_options_labels": [
        "1",
        "2",
        "3"
       ],
       "description": "Add row",
       "index": 0,
       "layout": "IPY_MODEL_b872929a130941e09564239fed7eb104",
       "style": "IPY_MODEL_602ab08f8fcb49cba4ed28b0884c2ecf"
      }
     },
     "c923f02de59345ea95cce81c42c7f136": {
      "model_module": "@jupyter-widgets/controls",
      "model_module_version": "1.5.0",
      "model_name": "TextModel",
      "state": {
       "layout": "IPY_MODEL_a6b672bf88094d8fa8327c74293c6a55",
       "style": "IPY_MODEL_aeb07636df5c4a2dae5b44b4b41ef7c2",
       "value": "-6"
      }
     },
     "c96cb1b20db64c75a3cbf486d0bb2392": {
      "model_module": "@jupyter-widgets/controls",
      "model_module_version": "1.5.0",
      "model_name": "TextModel",
      "state": {
       "layout": "IPY_MODEL_c488e0656e78457c941ce778fefda70e",
       "style": "IPY_MODEL_7e74107f2edf49498fb8e559ca505572",
       "value": "3"
      }
     },
     "c97077be0d1443ba9a1ee5cd5821c9f4": {
      "model_module": "@jupyter-widgets/controls",
      "model_module_version": "1.5.0",
      "model_name": "HBoxModel",
      "state": {
       "children": [
        "IPY_MODEL_4e6295a5047847f3b983e837dcb99df5",
        "IPY_MODEL_03b560bf96ee41318f455c2fa0bec6e6"
       ],
       "layout": "IPY_MODEL_eeebf09d6f9341e89319c547b5376a0d"
      }
     },
     "c99eb4f1a3c6468187e530814945f6d7": {
      "model_module": "@jupyter-widgets/base",
      "model_module_version": "1.2.0",
      "model_name": "LayoutModel",
      "state": {
       "flex_flow": "row wrap",
       "justify_content": "space-around"
      }
     },
     "c9cdd5324809436eb41023bd0ad53167": {
      "model_module": "@jupyter-widgets/controls",
      "model_module_version": "1.5.0",
      "model_name": "HTMLMathModel",
      "state": {
       "layout": "IPY_MODEL_f1317c6bfc014d01b94265459174e211",
       "style": "IPY_MODEL_aca13585c6ad4c22b0a93cda18c79a90",
       "value": "Enter here the values of the constant matrix $\\bf{B}$"
      }
     },
     "c9d4ae8a05c04c5f9404bd63bbd7faec": {
      "model_module": "@jupyter-widgets/base",
      "model_module_version": "1.2.0",
      "model_name": "LayoutModel",
      "state": {
       "width": "90px"
      }
     },
     "c9e81550eb244174925ab99a767dc9f6": {
      "model_module": "@jupyter-widgets/base",
      "model_module_version": "1.2.0",
      "model_name": "LayoutModel",
      "state": {
       "width": "120px"
      }
     },
     "c9eb3a3c76f548a486e32a8ae2ff017e": {
      "model_module": "@jupyter-widgets/base",
      "model_module_version": "1.2.0",
      "model_name": "LayoutModel",
      "state": {}
     },
     "c9fa608b3a5748309fbe1d0471152a0d": {
      "model_module": "@jupyter-widgets/controls",
      "model_module_version": "1.5.0",
      "model_name": "BoxModel",
      "state": {
       "children": [
        "IPY_MODEL_7daf65fce7814e8e855c44062fae55c8",
        "IPY_MODEL_cbdd7ceb8b4d4ae7861332197c70bd16",
        "IPY_MODEL_a93c7abaf7e4470d9c63401fb383193e",
        "IPY_MODEL_088aa52508cf4a47b1bb596a6b68f8ed"
       ],
       "layout": "IPY_MODEL_8c62b0c4430145ceae4d8be510e8ec92"
      }
     },
     "ca464192a3a849f4a3111ec029a3d1d5": {
      "model_module": "@jupyter-widgets/controls",
      "model_module_version": "1.5.0",
      "model_name": "HTMLModel",
      "state": {
       "layout": "IPY_MODEL_7d7b79f717d443ceb7206cdb6630ef4c",
       "style": "IPY_MODEL_b5d7c25c558445dfaaaffc58366c83e8",
       "value": "Click the button below to start the calculator"
      }
     },
     "ca4c2db1f93947cbad65be98fe43599f": {
      "model_module": "@jupyter-widgets/controls",
      "model_module_version": "1.5.0",
      "model_name": "TextModel",
      "state": {
       "layout": "IPY_MODEL_65cb8db367e14667886b79ef97c800d1",
       "style": "IPY_MODEL_92995dbd99b4442d81ed1ac5a88c7d56",
       "value": "-6"
      }
     },
     "ca5cb79102e4486f94a85625e3bdbfff": {
      "model_module": "@jupyter-widgets/controls",
      "model_module_version": "1.5.0",
      "model_name": "TextModel",
      "state": {
       "layout": "IPY_MODEL_5a0c24727aa941b48d996c0a1f0c2bf8",
       "style": "IPY_MODEL_d11c57ac67694301b5920d4d7664840f",
       "value": "-4"
      }
     },
     "ca6c3f4d328c46cdb0560cae4b44698b": {
      "model_module": "@jupyter-widgets/controls",
      "model_module_version": "1.5.0",
      "model_name": "VBoxModel",
      "state": {
       "children": [
        "IPY_MODEL_586173b69cb3439b91c31d14d893a954",
        "IPY_MODEL_91db62ef1eaf48919f036805a60f6fd2",
        "IPY_MODEL_41752c975cdd464692ab3826ed8fea75"
       ],
       "layout": "IPY_MODEL_f2882cebb7f2411abae8002027e464ba"
      }
     },
     "ca87561f5fd04a02aac6b22183ec0238": {
      "model_module": "@jupyter-widgets/controls",
      "model_module_version": "1.5.0",
      "model_name": "HTMLMathModel",
      "state": {
       "layout": "IPY_MODEL_f58ab3e248644d5fa752429a25620982",
       "style": "IPY_MODEL_e54ff38a20124f7495d001d4b76ab1fc",
       "value": "Enter here the values of the matrix $A$"
      }
     },
     "cab4d8d41bcd413f834122d156fa5bb2": {
      "model_module": "@jupyter-widgets/controls",
      "model_module_version": "1.5.0",
      "model_name": "TextModel",
      "state": {
       "layout": "IPY_MODEL_ff8f131091ed4bf49b858ed52bc5b3ea",
       "style": "IPY_MODEL_2a90f9ef28eb4e99aad79e83136a4bd6",
       "value": "-4"
      }
     },
     "cae462006fc0462195f45ae3086689cd": {
      "model_module": "@jupyter-widgets/controls",
      "model_module_version": "1.5.0",
      "model_name": "DescriptionStyleModel",
      "state": {
       "description_width": ""
      }
     },
     "cb0f16d897a54439bf23465e7b9934cf": {
      "model_module": "@jupyter-widgets/controls",
      "model_module_version": "1.5.0",
      "model_name": "ButtonModel",
      "state": {
       "description": "Swap rows",
       "layout": "IPY_MODEL_889783ef65bf4d41bc2136f055b7e8cf",
       "style": "IPY_MODEL_ae08202cfb514b2ba6fd52d80e055447"
      }
     },
     "cb1fcdc874d944bd97c508444fb20f5f": {
      "model_module": "@jupyter-widgets/controls",
      "model_module_version": "1.5.0",
      "model_name": "DescriptionStyleModel",
      "state": {
       "description_width": ""
      }
     },
     "cb2178d5d9b44ee2ab906d0c2d51d309": {
      "model_module": "@jupyter-widgets/controls",
      "model_module_version": "1.5.0",
      "model_name": "ButtonModel",
      "state": {
       "description": "Start",
       "layout": "IPY_MODEL_dff0b0292a1c43479b0483a6b79d42b7",
       "style": "IPY_MODEL_66c03f69c26241279063153b1e533ad1"
      }
     },
     "cb30237610154aa18f26227eb63e3096": {
      "model_module": "@jupyter-widgets/controls",
      "model_module_version": "1.5.0",
      "model_name": "ButtonStyleModel",
      "state": {}
     },
     "cb4719e8ad0e4cd09d11e3be743a8a1c": {
      "model_module": "@jupyter-widgets/controls",
      "model_module_version": "1.5.0",
      "model_name": "TextModel",
      "state": {
       "layout": "IPY_MODEL_f28c3c7f5ced4384b8a9eca6bc4c00fd",
       "style": "IPY_MODEL_819acd4064d246b7b67b5c271e89c461",
       "value": "9"
      }
     },
     "cb6395e0542b4504a1146f40e1f6620b": {
      "model_module": "@jupyter-widgets/controls",
      "model_module_version": "1.5.0",
      "model_name": "TextModel",
      "state": {
       "layout": "IPY_MODEL_e56e2cbba3324f1e9a6da6e53dfda065",
       "style": "IPY_MODEL_9b63673dcd2344eda79dba68ac1fb197",
       "value": "2"
      }
     },
     "cb6c37fc39c746aab7d88428953189d6": {
      "model_module": "@jupyter-widgets/controls",
      "model_module_version": "1.5.0",
      "model_name": "TextModel",
      "state": {
       "description": "times",
       "layout": "IPY_MODEL_8744f6d14e654f24ad0353240a0db607",
       "style": "IPY_MODEL_522206124bee4f8db427068f58b5a267",
       "value": "1"
      }
     },
     "cbb6c52ee8b6435d9bfcce83422f2da0": {
      "model_module": "@jupyter-widgets/base",
      "model_module_version": "1.2.0",
      "model_name": "LayoutModel",
      "state": {
       "justify_content": "space-between"
      }
     },
     "cbbfc98cdc3b4062a35457cf301e1927": {
      "model_module": "@jupyter-widgets/controls",
      "model_module_version": "1.5.0",
      "model_name": "DescriptionStyleModel",
      "state": {
       "description_width": ""
      }
     },
     "cbc25584a35944c8810dd578630a28d4": {
      "model_module": "@jupyter-widgets/controls",
      "model_module_version": "1.5.0",
      "model_name": "TextModel",
      "state": {
       "layout": "IPY_MODEL_7003463d13444a27a885608e31a34ec8",
       "style": "IPY_MODEL_955dbb7de0f84ee49e6975e9addd5d1f",
       "value": "1"
      }
     },
     "cbdd7ceb8b4d4ae7861332197c70bd16": {
      "model_module": "@jupyter-widgets/controls",
      "model_module_version": "1.5.0",
      "model_name": "HBoxModel",
      "state": {
       "children": [
        "IPY_MODEL_c8ee85cbb5c2415284049feca493ea48",
        "IPY_MODEL_b728c9014fa14742b664d1ff356cfe32"
       ],
       "layout": "IPY_MODEL_9c56a278d3eb4ff5a3ed50ae0d38f251"
      }
     },
     "cbe4c8e6f2d24f40a2cd538ac9dd62b9": {
      "model_module": "@jupyter-widgets/controls",
      "model_module_version": "1.5.0",
      "model_name": "TextModel",
      "state": {
       "layout": "IPY_MODEL_a6b672bf88094d8fa8327c74293c6a55",
       "style": "IPY_MODEL_3ed4ffb11b9b41ac88c852a15316aa36",
       "value": "-1"
      }
     },
     "cbf337106b2a4262bc245904dec0ac35": {
      "model_module": "@jupyter-widgets/controls",
      "model_module_version": "1.5.0",
      "model_name": "DescriptionStyleModel",
      "state": {
       "description_width": ""
      }
     },
     "cc56faf88d7a43dcac61a879abbe3eda": {
      "model_module": "@jupyter-widgets/controls",
      "model_module_version": "1.5.0",
      "model_name": "TextModel",
      "state": {
       "layout": "IPY_MODEL_239bec109578490f9329cf0477e25967",
       "style": "IPY_MODEL_b9bfc06ef81a4d948c954bef22443ab8",
       "value": "2"
      }
     },
     "cc65be7f9a734613989f8b8da7d66e95": {
      "model_module": "@jupyter-widgets/controls",
      "model_module_version": "1.5.0",
      "model_name": "TextModel",
      "state": {
       "layout": "IPY_MODEL_5658a8e71503421ab525d14883c87170",
       "style": "IPY_MODEL_75850048d7224e19b0814d9b61ad602a",
       "value": "3"
      }
     },
     "cc8318150c284d4e9e8023fa70ab6180": {
      "model_module": "@jupyter-widgets/controls",
      "model_module_version": "1.5.0",
      "model_name": "HBoxModel",
      "state": {
       "children": [
        "IPY_MODEL_cc56faf88d7a43dcac61a879abbe3eda",
        "IPY_MODEL_2776291cb0144876be4745eddadccc5f",
        "IPY_MODEL_516962bd8d264667bc70b4b61be7e327"
       ],
       "layout": "IPY_MODEL_66a94674b0b94854a03ae0cc321b0e53"
      }
     },
     "cc8608b318be4c0198c305dc8f95d257": {
      "model_module": "@jupyter-widgets/controls",
      "model_module_version": "1.5.0",
      "model_name": "HBoxModel",
      "state": {
       "children": [
        "IPY_MODEL_d7902ef9d1394619933339ce1663e5c2",
        "IPY_MODEL_3fc23ff5933444e19612e4df69707bad",
        "IPY_MODEL_e02dc5e7e81c4cb1b386ef699b1c1903"
       ],
       "layout": "IPY_MODEL_00f464d65fe34dfebf03a58c0152a346"
      }
     },
     "ccae19b5fe3d4c63865bb6b6e991c9cd": {
      "model_module": "@jupyter-widgets/base",
      "model_module_version": "1.2.0",
      "model_name": "LayoutModel",
      "state": {}
     },
     "cccd12e1209d4fe9ad8ecd8255b5449b": {
      "model_module": "@jupyter-widgets/controls",
      "model_module_version": "1.5.0",
      "model_name": "TextModel",
      "state": {
       "layout": "IPY_MODEL_065f08ede0b647238ec761aa592646c7",
       "style": "IPY_MODEL_8db6b00844384ba486a69b2bee444d3e",
       "value": "2"
      }
     },
     "ccf4d10c79d94949920db9a6ae8f33fa": {
      "model_module": "@jupyter-widgets/base",
      "model_module_version": "1.2.0",
      "model_name": "LayoutModel",
      "state": {}
     },
     "ccf76a434cc940498a983acebe2be629": {
      "model_module": "@jupyter-widgets/controls",
      "model_module_version": "1.5.0",
      "model_name": "TextModel",
      "state": {
       "layout": "IPY_MODEL_1b785352cb1a4de487a9efaa222c7a96",
       "style": "IPY_MODEL_bf777a95bf634bb8968bd5a2921e5588",
       "value": "1"
      }
     },
     "ccfaaf24cec74f958464883a451675cc": {
      "model_module": "@jupyter-widgets/controls",
      "model_module_version": "1.5.0",
      "model_name": "VBoxModel",
      "state": {
       "children": [
        "IPY_MODEL_edc80969c040420d904b0135d70856b4",
        "IPY_MODEL_8593a8fbdd8d4de0b6176b1406020b14"
       ],
       "layout": "IPY_MODEL_d91e708cf8994c10ab14bc04d8cd9f62"
      }
     },
     "cd1235ab90e64818a6d4bec00d5ef162": {
      "model_module": "@jupyter-widgets/controls",
      "model_module_version": "1.5.0",
      "model_name": "DescriptionStyleModel",
      "state": {
       "description_width": ""
      }
     },
     "cd22321a9c8440198e4796d6e987082c": {
      "model_module": "@jupyter-widgets/base",
      "model_module_version": "1.2.0",
      "model_name": "LayoutModel",
      "state": {}
     },
     "cd2ebe4f0fd0454cafbc4843565e385e": {
      "model_module": "@jupyter-widgets/controls",
      "model_module_version": "1.5.0",
      "model_name": "DescriptionStyleModel",
      "state": {
       "description_width": ""
      }
     },
     "cd5beba8553b407dae8e5387d50df1f3": {
      "model_module": "@jupyter-widgets/base",
      "model_module_version": "1.2.0",
      "model_name": "LayoutModel",
      "state": {}
     },
     "cd6c514871824ca6b4ad768f59d6b078": {
      "model_module": "@jupyter-widgets/controls",
      "model_module_version": "1.5.0",
      "model_name": "TextModel",
      "state": {
       "layout": "IPY_MODEL_4bcd3a11811347d3979a9396c2e71cd4",
       "style": "IPY_MODEL_eea5d6610d954516b2cf76848db834e0",
       "value": "-1"
      }
     },
     "cd7b9a7681404d1f89bfa5d5844cdd96": {
      "model_module": "@jupyter-widgets/controls",
      "model_module_version": "1.5.0",
      "model_name": "DescriptionStyleModel",
      "state": {
       "description_width": ""
      }
     },
     "cdd7855ec53a479893be1ee02b6eb0e9": {
      "model_module": "@jupyter-widgets/base",
      "model_module_version": "1.2.0",
      "model_name": "LayoutModel",
      "state": {}
     },
     "cdd9dab4935c42c3962d95f2eeb84c89": {
      "model_module": "@jupyter-widgets/controls",
      "model_module_version": "1.5.0",
      "model_name": "TextModel",
      "state": {
       "layout": "IPY_MODEL_201e1a4ee32840b19f981690bdacf3ae",
       "style": "IPY_MODEL_41d3726d9628467d9272111dd9aeb5e2",
       "value": "2"
      }
     },
     "ce0b8e347f0e4c6f95b244b8743697fe": {
      "model_module": "@jupyter-widgets/base",
      "model_module_version": "1.2.0",
      "model_name": "LayoutModel",
      "state": {}
     },
     "ce60963d95b44314920e05b5fa45d91b": {
      "model_module": "@jupyter-widgets/base",
      "model_module_version": "1.2.0",
      "model_name": "LayoutModel",
      "state": {
       "width": "150px"
      }
     },
     "ce8d672259f64ba5b0abc94b3c51cff2": {
      "model_module": "@jupyter-widgets/controls",
      "model_module_version": "1.5.0",
      "model_name": "HTMLMathModel",
      "state": {
       "layout": "IPY_MODEL_b26ea79547104f72bbb7d86d4bd771f6",
       "style": "IPY_MODEL_5fe000100d944351b4eca728e99465d6",
       "value": "The augmented matrix will appear here."
      }
     },
     "cea70f92caf84ed1b91ca470f821752c": {
      "model_module": "@jupyter-widgets/controls",
      "model_module_version": "1.5.0",
      "model_name": "VBoxModel",
      "state": {
       "children": [
        "IPY_MODEL_4e135d7f61ae4373a84e725879254970",
        "IPY_MODEL_e04185d2c7774af9b96389dbb2abf359"
       ],
       "layout": "IPY_MODEL_08b2a5799774495a8b28a770cb22e3db"
      }
     },
     "cead6ed81b0a493082fb6746d7479151": {
      "model_module": "@jupyter-widgets/controls",
      "model_module_version": "1.5.0",
      "model_name": "DescriptionStyleModel",
      "state": {
       "description_width": ""
      }
     },
     "ced16ede1b2d4857b9d5ae0967a2dc80": {
      "model_module": "@jupyter-widgets/controls",
      "model_module_version": "1.5.0",
      "model_name": "HTMLMathModel",
      "state": {
       "layout": "IPY_MODEL_ad3ccc3bb14947b9b81e43cae3cc53b3",
       "style": "IPY_MODEL_b300be204c8646219a46a9d7a8bb14ce",
       "value": "Enter here the values of the constant matrix $\\bf{B}$"
      }
     },
     "ced30150dd3848d0bcc6107092dc418c": {
      "model_module": "@jupyter-widgets/base",
      "model_module_version": "1.2.0",
      "model_name": "LayoutModel",
      "state": {
       "width": "40px"
      }
     },
     "ced7d7a9b7c9469781571b1ec307898a": {
      "model_module": "@jupyter-widgets/controls",
      "model_module_version": "1.5.0",
      "model_name": "DescriptionStyleModel",
      "state": {
       "description_width": ""
      }
     },
     "cee1a5dae95b4c51a73e85d33242b432": {
      "model_module": "@jupyter-widgets/base",
      "model_module_version": "1.2.0",
      "model_name": "LayoutModel",
      "state": {}
     },
     "cee7d934dbaa41c68000ff08e8173020": {
      "model_module": "@jupyter-widgets/controls",
      "model_module_version": "1.5.0",
      "model_name": "HBoxModel",
      "state": {
       "children": [
        "IPY_MODEL_ab9ba25fd07245f3bf46f951ee0190cf",
        "IPY_MODEL_ade3660114fe47a7bb7a50fccb931b1e"
       ],
       "layout": "IPY_MODEL_7b7d29f1ca354a1787fb86a5ddd7d571"
      }
     },
     "cefb352ebcc64fdba426ed489dfe55d2": {
      "model_module": "@jupyter-widgets/controls",
      "model_module_version": "1.5.0",
      "model_name": "DescriptionStyleModel",
      "state": {
       "description_width": ""
      }
     },
     "cf1ae174465243cf846771558cc3a7e5": {
      "model_module": "@jupyter-widgets/controls",
      "model_module_version": "1.5.0",
      "model_name": "HTMLMathModel",
      "state": {
       "layout": "IPY_MODEL_2dd052f9e5cf46fc8cbe7badda5ece48",
       "style": "IPY_MODEL_7282b0e52c5745819d59ae398bdf74f1",
       "value": "Enter here the values of the right hand side vector $b$"
      }
     },
     "cf25bf7197a54e5295698ffbfa71fce3": {
      "model_module": "@jupyter-widgets/controls",
      "model_module_version": "1.5.0",
      "model_name": "GridBoxModel",
      "state": {
       "children": [
        "IPY_MODEL_ec9a2b4a169d4a6bad9f3f99436f5db6",
        "IPY_MODEL_0879d44faf45430888f326841a202dea",
        "IPY_MODEL_a06d5e61cd154c7495ee487b5828bb2a"
       ],
       "layout": "IPY_MODEL_3c3fcc4d43ee48beb4006da8b5d79a1b"
      }
     },
     "cf3a4a8c12504fe3b0c5a175dc56a1e4": {
      "model_module": "@jupyter-widgets/controls",
      "model_module_version": "1.5.0",
      "model_name": "TextModel",
      "state": {
       "layout": "IPY_MODEL_47a60aa1cf3045f2a536b06edf49c5ea",
       "style": "IPY_MODEL_ad21e233277244778e707fd68da2c5d9",
       "value": "-4"
      }
     },
     "cf3b693ce768490fb1432a40cd13951d": {
      "model_module": "@jupyter-widgets/controls",
      "model_module_version": "1.5.0",
      "model_name": "DescriptionStyleModel",
      "state": {
       "description_width": ""
      }
     },
     "cf66f4ec9685484db0acfd885a532c5b": {
      "model_module": "@jupyter-widgets/base",
      "model_module_version": "1.2.0",
      "model_name": "LayoutModel",
      "state": {}
     },
     "cf6e5f5753fe4020b97034dbdcb4808f": {
      "model_module": "@jupyter-widgets/base",
      "model_module_version": "1.2.0",
      "model_name": "LayoutModel",
      "state": {}
     },
     "cf7ec6985ae843cc8a4659886c36e7d1": {
      "model_module": "@jupyter-widgets/controls",
      "model_module_version": "1.5.0",
      "model_name": "DescriptionStyleModel",
      "state": {
       "description_width": ""
      }
     },
     "cf9e7349866e470588789ff62fd401bd": {
      "model_module": "@jupyter-widgets/controls",
      "model_module_version": "1.5.0",
      "model_name": "TextModel",
      "state": {
       "layout": "IPY_MODEL_24e52a9da5f64680833f56257412e632",
       "style": "IPY_MODEL_5c870b470f4649938c410039a7d55f48",
       "value": "-1"
      }
     },
     "cfcaef2dd3094d5b98e09ffd0df8b0bb": {
      "model_module": "@jupyter-widgets/base",
      "model_module_version": "1.2.0",
      "model_name": "LayoutModel",
      "state": {
       "width": "90px"
      }
     },
     "cfed47a3c03749c58c7656eb799d455e": {
      "model_module": "@jupyter-widgets/controls",
      "model_module_version": "1.5.0",
      "model_name": "HBoxModel",
      "state": {
       "children": [
        "IPY_MODEL_db700eeb34994f299e70e242d82678d7",
        "IPY_MODEL_f57d30c88ead4f9c89f904fc3f1ba191",
        "IPY_MODEL_116c3d2aeaec4cccbb0fb1470cea5fbd"
       ],
       "layout": "IPY_MODEL_6ce1b377ec7649228be55f298142f7a6"
      }
     },
     "d00e1dae6cf9426fb005a4a460f3bb5d": {
      "model_module": "@jupyter-widgets/base",
      "model_module_version": "1.2.0",
      "model_name": "LayoutModel",
      "state": {}
     },
     "d029b5edd9904c85a4a7dc34b3afe60a": {
      "model_module": "@jupyter-widgets/controls",
      "model_module_version": "1.5.0",
      "model_name": "HTMLMathModel",
      "state": {
       "layout": "IPY_MODEL_ba2f855a36de419d86964e3abd55751a",
       "style": "IPY_MODEL_44efd293fadc43e4919bf20e87c5d8bb",
       "value": "Results will be shown here."
      }
     },
     "d03b4b39472e4087b1e97e04716ca758": {
      "model_module": "@jupyter-widgets/controls",
      "model_module_version": "1.5.0",
      "model_name": "HTMLMathModel",
      "state": {
       "layout": "IPY_MODEL_78950406acab47cfbbb52e78a7731cad",
       "style": "IPY_MODEL_29d21bc21ee24e8392b2eb9118556be3",
       "value": "Enter here the values of the matrix $A$"
      }
     },
     "d08a51d8d48143089a9a40339e482aef": {
      "model_module": "@jupyter-widgets/base",
      "model_module_version": "1.2.0",
      "model_name": "LayoutModel",
      "state": {
       "flex_flow": "row wrap",
       "justify_content": "space-around"
      }
     },
     "d09d7cd7d48b4bc4b63d6655f4763e98": {
      "model_module": "@jupyter-widgets/controls",
      "model_module_version": "1.5.0",
      "model_name": "TextModel",
      "state": {
       "layout": "IPY_MODEL_f9ebc65ea59246e1a7d2bcdb072b46e0",
       "style": "IPY_MODEL_2c67d59838f344f1a0c2980369b50763",
       "value": "1"
      }
     },
     "d0a6210a464046b281c28128290ebd53": {
      "model_module": "@jupyter-widgets/controls",
      "model_module_version": "1.5.0",
      "model_name": "ButtonModel",
      "state": {
       "description": "Start",
       "layout": "IPY_MODEL_369754e4b678443d8c2919b0840e6a3d",
       "style": "IPY_MODEL_a016b0f585fc49268e9a5ff9755694f4"
      }
     },
     "d0d44bbfa3a24c07a9e5dd462b584db0": {
      "model_module": "@jupyter-widgets/controls",
      "model_module_version": "1.5.0",
      "model_name": "TextModel",
      "state": {
       "layout": "IPY_MODEL_97993fa24fac42e28605e8d366180168",
       "style": "IPY_MODEL_8b81d93fc9f04a33b256d91c97ac546f",
       "value": "-1"
      }
     },
     "d0d4de5f8ea748fd8a2b2cf87ee9a044": {
      "model_module": "@jupyter-widgets/controls",
      "model_module_version": "1.5.0",
      "model_name": "DescriptionStyleModel",
      "state": {
       "description_width": ""
      }
     },
     "d0faa64755d84ee09b37ed0568f1d661": {
      "model_module": "@jupyter-widgets/controls",
      "model_module_version": "1.5.0",
      "model_name": "TextModel",
      "state": {
       "layout": "IPY_MODEL_7003463d13444a27a885608e31a34ec8",
       "style": "IPY_MODEL_06cc1cfdccc1448fb51828b7f8a750b0",
       "value": "0"
      }
     },
     "d1033184396a49c78e3839b47d90ccaa": {
      "model_module": "@jupyter-widgets/controls",
      "model_module_version": "1.5.0",
      "model_name": "TextModel",
      "state": {
       "layout": "IPY_MODEL_e9aebd82017d4a8ba76e24a5bdf8ca4f",
       "style": "IPY_MODEL_6f8c11ace14d4c928c5dd528b9b4f2eb",
       "value": "1"
      }
     },
     "d1107bc4fd364254a16e2cde4eb9d5c6": {
      "model_module": "@jupyter-widgets/base",
      "model_module_version": "1.2.0",
      "model_name": "LayoutModel",
      "state": {
       "grid_template_columns": "repeat(1, 45px)"
      }
     },
     "d11c57ac67694301b5920d4d7664840f": {
      "model_module": "@jupyter-widgets/controls",
      "model_module_version": "1.5.0",
      "model_name": "DescriptionStyleModel",
      "state": {
       "description_width": ""
      }
     },
     "d14ab43598aa4951b21c510595540277": {
      "model_module": "@jupyter-widgets/controls",
      "model_module_version": "1.5.0",
      "model_name": "DescriptionStyleModel",
      "state": {
       "description_width": ""
      }
     },
     "d14b119ca725417c9d65ce255efe8b4e": {
      "model_module": "@jupyter-widgets/controls",
      "model_module_version": "1.5.0",
      "model_name": "HBoxModel",
      "state": {
       "children": [
        "IPY_MODEL_3c71608d4e084918872dd4840230c98a",
        "IPY_MODEL_96a669ea2fbc4f5b89d66566f7c35020"
       ],
       "layout": "IPY_MODEL_17e0c499ff3b41f7acfe1f46931781d3"
      }
     },
     "d1672121b53b4b69a962b46ee528c6ec": {
      "model_module": "@jupyter-widgets/base",
      "model_module_version": "1.2.0",
      "model_name": "LayoutModel",
      "state": {
       "width": "250px"
      }
     },
     "d18632d042a04e36a02600fd236e6b8c": {
      "model_module": "@jupyter-widgets/base",
      "model_module_version": "1.2.0",
      "model_name": "LayoutModel",
      "state": {
       "width": "150px"
      }
     },
     "d1a162c79f59407b9ca55ea7eee0226d": {
      "model_module": "@jupyter-widgets/controls",
      "model_module_version": "1.5.0",
      "model_name": "VBoxModel",
      "state": {
       "children": [
        "IPY_MODEL_a64bd27427cc43f99688e7ef7a714386",
        "IPY_MODEL_e736b81508d841458dff96b9825a05ff",
        "IPY_MODEL_f80f2684859c49cf99f4f5f07b214ddb"
       ],
       "layout": "IPY_MODEL_792ca8dcec6d4416ab1ee7481ad1d3bc"
      }
     },
     "d1e7cd7d7a5c4afb97dada2c7c6d1757": {
      "model_module": "@jupyter-widgets/base",
      "model_module_version": "1.2.0",
      "model_name": "LayoutModel",
      "state": {}
     },
     "d1e7ec8693a64eaa8038088ca413232f": {
      "model_module": "@jupyter-widgets/controls",
      "model_module_version": "1.5.0",
      "model_name": "ButtonModel",
      "state": {
       "description": "Add rows",
       "layout": "IPY_MODEL_cf6e5f5753fe4020b97034dbdcb4808f",
       "style": "IPY_MODEL_ebaa4211fdd64e54a4db1f9470a957cf"
      }
     },
     "d22fab0b63f24ec48dd8a67aa7ce583d": {
      "model_module": "@jupyter-widgets/base",
      "model_module_version": "1.2.0",
      "model_name": "LayoutModel",
      "state": {
       "width": "100px"
      }
     },
     "d236ef24818641ada0cbeffc529212a6": {
      "model_module": "@jupyter-widgets/controls",
      "model_module_version": "1.5.0",
      "model_name": "DescriptionStyleModel",
      "state": {
       "description_width": ""
      }
     },
     "d26badf452d64984998611e112ee2d98": {
      "model_module": "@jupyter-widgets/controls",
      "model_module_version": "1.5.0",
      "model_name": "VBoxModel",
      "state": {
       "children": [
        "IPY_MODEL_e6c2058a46bf41e1a736ad660ceb6227",
        "IPY_MODEL_51502ebb977a45298446028368f9e77c"
       ],
       "layout": "IPY_MODEL_0766ced820424d41bd624dbd87376402"
      }
     },
     "d26df39d21404e7dbc3b8384096cc245": {
      "model_module": "@jupyter-widgets/controls",
      "model_module_version": "1.5.0",
      "model_name": "DescriptionStyleModel",
      "state": {
       "description_width": ""
      }
     },
     "d2734faefdb7480eb2354117a15b2297": {
      "model_module": "@jupyter-widgets/controls",
      "model_module_version": "1.5.0",
      "model_name": "VBoxModel",
      "state": {
       "children": [
        "IPY_MODEL_b24188af17df4f399847f097fc67807e",
        "IPY_MODEL_e098073954fa46139aa9200e78493a23",
        "IPY_MODEL_0e854f26a1f34e898cea5d16e4114734"
       ],
       "layout": "IPY_MODEL_adbc7a5cde2f488fa91e3863dddfbf14"
      }
     },
     "d2975ec20bc64de584422d5b03eb5b92": {
      "model_module": "@jupyter-widgets/controls",
      "model_module_version": "1.5.0",
      "model_name": "DescriptionStyleModel",
      "state": {
       "description_width": ""
      }
     },
     "d29f4c6323274c2ea715833a610068a5": {
      "model_module": "@jupyter-widgets/base",
      "model_module_version": "1.2.0",
      "model_name": "LayoutModel",
      "state": {
       "height": "35px",
       "width": "40px"
      }
     },
     "d2d4b9ce88014140ab49c9adbfc4f41f": {
      "model_module": "@jupyter-widgets/base",
      "model_module_version": "1.2.0",
      "model_name": "LayoutModel",
      "state": {}
     },
     "d377e5d75b5b4b1a81241e7468bf3346": {
      "model_module": "@jupyter-widgets/controls",
      "model_module_version": "1.5.0",
      "model_name": "DescriptionStyleModel",
      "state": {
       "description_width": ""
      }
     },
     "d378e134c1ff45c398c6ec228da84b6d": {
      "model_module": "@jupyter-widgets/controls",
      "model_module_version": "1.5.0",
      "model_name": "HBoxModel",
      "state": {
       "children": [
        "IPY_MODEL_bda164a7675c4815915aab80fb22cbd5",
        "IPY_MODEL_ba9d8ed3affd4cce956a957e92fc06ba",
        "IPY_MODEL_7d5af838b19146bda1e6b996a266cbc1"
       ],
       "layout": "IPY_MODEL_43f262eff72c4c2e90aeccd4baa0667e"
      }
     },
     "d3a2dffb419a427f82b357cdb6c93552": {
      "model_module": "@jupyter-widgets/controls",
      "model_module_version": "1.5.0",
      "model_name": "DescriptionStyleModel",
      "state": {
       "description_width": ""
      }
     },
     "d3bc5cdde6e34f878db129df2557e8b0": {
      "model_module": "@jupyter-widgets/controls",
      "model_module_version": "1.5.0",
      "model_name": "DescriptionStyleModel",
      "state": {
       "description_width": ""
      }
     },
     "d3d1de72d73748f285f95ecc7c9a2357": {
      "model_module": "@jupyter-widgets/base",
      "model_module_version": "1.2.0",
      "model_name": "LayoutModel",
      "state": {
       "width": "150px"
      }
     },
     "d3ef6bdf879743f8bd1f6bbc07398bd3": {
      "model_module": "@jupyter-widgets/base",
      "model_module_version": "1.2.0",
      "model_name": "LayoutModel",
      "state": {}
     },
     "d439cf17d9594c0d8444aa336c93b871": {
      "model_module": "@jupyter-widgets/controls",
      "model_module_version": "1.5.0",
      "model_name": "DescriptionStyleModel",
      "state": {
       "description_width": ""
      }
     },
     "d473673cc1da41ef9594dbfd209999a9": {
      "model_module": "@jupyter-widgets/controls",
      "model_module_version": "1.5.0",
      "model_name": "DescriptionStyleModel",
      "state": {
       "description_width": ""
      }
     },
     "d4ad1cb4761d4efa9e85c21b20413717": {
      "model_module": "@jupyter-widgets/controls",
      "model_module_version": "1.5.0",
      "model_name": "ButtonStyleModel",
      "state": {}
     },
     "d4f22d1be86749a88d55a4d2ea1c9654": {
      "model_module": "@jupyter-widgets/controls",
      "model_module_version": "1.5.0",
      "model_name": "DescriptionStyleModel",
      "state": {
       "description_width": ""
      }
     },
     "d4faf9dbbbf14986882b5b9b12ba1401": {
      "model_module": "@jupyter-widgets/controls",
      "model_module_version": "1.5.0",
      "model_name": "TextModel",
      "state": {
       "layout": "IPY_MODEL_a6b672bf88094d8fa8327c74293c6a55",
       "style": "IPY_MODEL_658cde154c9f488fb0be7c7c29c0af9c",
       "value": "2"
      }
     },
     "d5088f28f7cb4a269fb6ba5d40a21834": {
      "model_module": "@jupyter-widgets/base",
      "model_module_version": "1.2.0",
      "model_name": "LayoutModel",
      "state": {}
     },
     "d5664297b59d433da038aaca81fcf4f4": {
      "model_module": "@jupyter-widgets/controls",
      "model_module_version": "1.5.0",
      "model_name": "DescriptionStyleModel",
      "state": {
       "description_width": ""
      }
     },
     "d5720e1b89794f4191711502677e5a47": {
      "model_module": "@jupyter-widgets/controls",
      "model_module_version": "1.5.0",
      "model_name": "DescriptionStyleModel",
      "state": {
       "description_width": ""
      }
     },
     "d584c5573e924c35b4bef2919816e088": {
      "model_module": "@jupyter-widgets/controls",
      "model_module_version": "1.5.0",
      "model_name": "DescriptionStyleModel",
      "state": {
       "description_width": ""
      }
     },
     "d59d73dbbf0247e09209869aefcfed17": {
      "model_module": "@jupyter-widgets/controls",
      "model_module_version": "1.5.0",
      "model_name": "DescriptionStyleModel",
      "state": {
       "description_width": ""
      }
     },
     "d60ba313d905431984e79fc1504cd97d": {
      "model_module": "@jupyter-widgets/controls",
      "model_module_version": "1.5.0",
      "model_name": "DescriptionStyleModel",
      "state": {
       "description_width": ""
      }
     },
     "d61cdc5fb641474c98c5d1738322e951": {
      "model_module": "@jupyter-widgets/base",
      "model_module_version": "1.2.0",
      "model_name": "LayoutModel",
      "state": {
       "width": "150px"
      }
     },
     "d63f8d90634348ba8b9f82f2885e9c0a": {
      "model_module": "@jupyter-widgets/base",
      "model_module_version": "1.2.0",
      "model_name": "LayoutModel",
      "state": {}
     },
     "d64c192c2e9c47969bacd26bd2f5c1c0": {
      "model_module": "@jupyter-widgets/controls",
      "model_module_version": "1.5.0",
      "model_name": "TextModel",
      "state": {
       "layout": "IPY_MODEL_d743f8ba50f447a3ad2d5faaa6a0e9e2",
       "style": "IPY_MODEL_6aad26db731740b8b2ca4c39a85f2b19",
       "value": "5"
      }
     },
     "d660457bd6a84766a546e0838cf6c866": {
      "model_module": "@jupyter-widgets/controls",
      "model_module_version": "1.5.0",
      "model_name": "VBoxModel",
      "state": {
       "children": [
        "IPY_MODEL_7549926702ea461ca3ea9a372b0bce09",
        "IPY_MODEL_dfa08cd190dc45269ced2d5599741a11",
        "IPY_MODEL_502f7704abc44abbae308f2e86d05bd2"
       ],
       "layout": "IPY_MODEL_ac1026473bd54de282328a21ecd62127"
      }
     },
     "d66184e2c3a94e53a7e66b6a2f6b1290": {
      "model_module": "@jupyter-widgets/controls",
      "model_module_version": "1.5.0",
      "model_name": "DescriptionStyleModel",
      "state": {
       "description_width": ""
      }
     },
     "d67c2a5bf2b249a88dea1110b382f7c6": {
      "model_module": "@jupyter-widgets/controls",
      "model_module_version": "1.5.0",
      "model_name": "HBoxModel",
      "state": {
       "children": [
        "IPY_MODEL_c6fead6402ef4e8cb8b7bd65eaf95664",
        "IPY_MODEL_764b8b0cedbd4c79a3ddca781dd65111"
       ],
       "layout": "IPY_MODEL_b4aea46e342b496da1e0c1e683c32a1d"
      }
     },
     "d69a58b676d14e34976f89feffc814ca": {
      "model_module": "@jupyter-widgets/base",
      "model_module_version": "1.2.0",
      "model_name": "LayoutModel",
      "state": {}
     },
     "d6c32aeabf1b4d68aee21dcb28d2abae": {
      "model_module": "@jupyter-widgets/base",
      "model_module_version": "1.2.0",
      "model_name": "LayoutModel",
      "state": {
       "width": "100px"
      }
     },
     "d6d46a793f94488eaa9c5b1093f95423": {
      "model_module": "@jupyter-widgets/controls",
      "model_module_version": "1.5.0",
      "model_name": "HBoxModel",
      "state": {
       "children": [
        "IPY_MODEL_8ad366ef2b994147b7a9364e037ad9ff",
        "IPY_MODEL_36ba2c83cc8948fbb0ec4bf9ad6a3d9a",
        "IPY_MODEL_71bbc4fbf92448f4ba65e77d5291c2f5"
       ],
       "layout": "IPY_MODEL_3f5f9e21ae7142128f6b6ea581f1cd25"
      }
     },
     "d6de41e1ed98425c9b50e2107491e02f": {
      "model_module": "@jupyter-widgets/base",
      "model_module_version": "1.2.0",
      "model_name": "LayoutModel",
      "state": {
       "width": "250px"
      }
     },
     "d6def6e010bd4ac3a65f888bd214de72": {
      "model_module": "@jupyter-widgets/controls",
      "model_module_version": "1.5.0",
      "model_name": "VBoxModel",
      "state": {
       "children": [
        "IPY_MODEL_4081949446e141c1879d5345ef974dcf",
        "IPY_MODEL_b3087980f9df4a809d553216df4fc908"
       ],
       "layout": "IPY_MODEL_b58ecbeb11f34c18baa76e340523697c"
      }
     },
     "d6fd0916667e4fdf925042c57bf09178": {
      "model_module": "@jupyter-widgets/controls",
      "model_module_version": "1.5.0",
      "model_name": "HBoxModel",
      "state": {
       "children": [
        "IPY_MODEL_3d7ae768a6aa4b79ae3f122f7f6b3c9f",
        "IPY_MODEL_fd062927d4e64720a93e17e638bc51e8",
        "IPY_MODEL_d9f4e7d5e04f434da7a01485bc790be9"
       ],
       "layout": "IPY_MODEL_a1982a7ec499433b9545e6c2fab70671"
      }
     },
     "d714a3a9500d4c71adc6b7046679cd84": {
      "model_module": "@jupyter-widgets/controls",
      "model_module_version": "1.5.0",
      "model_name": "DescriptionStyleModel",
      "state": {
       "description_width": ""
      }
     },
     "d71a823a25024b71a0990c9dbc0b64c2": {
      "model_module": "@jupyter-widgets/base",
      "model_module_version": "1.2.0",
      "model_name": "LayoutModel",
      "state": {
       "width": "90px"
      }
     },
     "d743f8ba50f447a3ad2d5faaa6a0e9e2": {
      "model_module": "@jupyter-widgets/base",
      "model_module_version": "1.2.0",
      "model_name": "LayoutModel",
      "state": {
       "height": "35px",
       "width": "30px"
      }
     },
     "d78d2a905ada4d5e87019ba9cdd25d0a": {
      "model_module": "@jupyter-widgets/controls",
      "model_module_version": "1.5.0",
      "model_name": "TextModel",
      "state": {
       "layout": "IPY_MODEL_bbd5dabd53c049fca9a7f5878437cad9",
       "style": "IPY_MODEL_58a946c1e0ec43bf87a56043b1b801bd",
       "value": "3"
      }
     },
     "d7902ef9d1394619933339ce1663e5c2": {
      "model_module": "@jupyter-widgets/controls",
      "model_module_version": "1.5.0",
      "model_name": "TextModel",
      "state": {
       "layout": "IPY_MODEL_e9aebd82017d4a8ba76e24a5bdf8ca4f",
       "style": "IPY_MODEL_ae900d2986e541ad9a8f6ccbc1700077",
       "value": "3"
      }
     },
     "d7c4f11771b948fa9166cf5745d8d1c9": {
      "model_module": "@jupyter-widgets/base",
      "model_module_version": "1.2.0",
      "model_name": "LayoutModel",
      "state": {
       "height": "35px",
       "width": "40px"
      }
     },
     "d7d07c72b0934bfc8ebe912b0cf3117b": {
      "model_module": "@jupyter-widgets/controls",
      "model_module_version": "1.5.0",
      "model_name": "TextModel",
      "state": {
       "description": "times",
       "layout": "IPY_MODEL_f72c7adb21ae43db9613f6661669326b",
       "style": "IPY_MODEL_afc6d3f6bf3347eba5325746f85bab4b",
       "value": "1"
      }
     },
     "d7f9c4d2b4dd4be695a6a339f372b1e4": {
      "model_module": "@jupyter-widgets/base",
      "model_module_version": "1.2.0",
      "model_name": "LayoutModel",
      "state": {
       "width": "90px"
      }
     },
     "d820b318ccac40d08640f560a801fd28": {
      "model_module": "@jupyter-widgets/base",
      "model_module_version": "1.2.0",
      "model_name": "LayoutModel",
      "state": {
       "width": "40px"
      }
     },
     "d835e14b95ff413da8e335b159e808d6": {
      "model_module": "@jupyter-widgets/controls",
      "model_module_version": "1.5.0",
      "model_name": "HBoxModel",
      "state": {
       "children": [
        "IPY_MODEL_28f1a048e81e46ff8588ec500ca814bc",
        "IPY_MODEL_5c7dd0149eb6408998e2ffea88a44db3"
       ],
       "layout": "IPY_MODEL_7e1e1ebf3c6040dc8cbb0e9ee77be293"
      }
     },
     "d83be6200d3d44409f3f7e65e09c0921": {
      "model_module": "@jupyter-widgets/controls",
      "model_module_version": "1.5.0",
      "model_name": "DescriptionStyleModel",
      "state": {
       "description_width": ""
      }
     },
     "d85e82be158f427aaf5af8042dc4d419": {
      "model_module": "@jupyter-widgets/controls",
      "model_module_version": "1.5.0",
      "model_name": "TextModel",
      "state": {
       "layout": "IPY_MODEL_c488e0656e78457c941ce778fefda70e",
       "style": "IPY_MODEL_b981c9feb83d4776bd3dc5c7767db06a",
       "value": "1"
      }
     },
     "d8a5fee0b34149b581b27226d34f81fd": {
      "model_module": "@jupyter-widgets/controls",
      "model_module_version": "1.5.0",
      "model_name": "DescriptionStyleModel",
      "state": {
       "description_width": ""
      }
     },
     "d8c372fe3176421f8c76a1954edc6f31": {
      "model_module": "@jupyter-widgets/base",
      "model_module_version": "1.2.0",
      "model_name": "LayoutModel",
      "state": {
       "width": "90px"
      }
     },
     "d8d558cfae7743ee98c2838480f962fc": {
      "model_module": "@jupyter-widgets/base",
      "model_module_version": "1.2.0",
      "model_name": "LayoutModel",
      "state": {
       "width": "100px"
      }
     },
     "d8e3b817cb8b4e31a42bc9dbee5d0cec": {
      "model_module": "@jupyter-widgets/controls",
      "model_module_version": "1.5.0",
      "model_name": "ButtonModel",
      "state": {
       "description": "Add rows",
       "layout": "IPY_MODEL_817b8188af144d88a141cf14449faa37",
       "style": "IPY_MODEL_0fd5928b876c4d9d80f95ab4c8fc7851"
      }
     },
     "d915ffffc8524ecebac4fa7fdd73994b": {
      "model_module": "@jupyter-widgets/base",
      "model_module_version": "1.2.0",
      "model_name": "LayoutModel",
      "state": {}
     },
     "d91e708cf8994c10ab14bc04d8cd9f62": {
      "model_module": "@jupyter-widgets/base",
      "model_module_version": "1.2.0",
      "model_name": "LayoutModel",
      "state": {}
     },
     "d921c4620ed54d18aabf21b32cd98d09": {
      "model_module": "@jupyter-widgets/controls",
      "model_module_version": "1.5.0",
      "model_name": "DescriptionStyleModel",
      "state": {
       "description_width": ""
      }
     },
     "d938bde17f534f0f9e33df1ffd1805d0": {
      "model_module": "@jupyter-widgets/controls",
      "model_module_version": "1.5.0",
      "model_name": "DescriptionStyleModel",
      "state": {
       "description_width": ""
      }
     },
     "d949371dcc594414a53d793be67083c3": {
      "model_module": "@jupyter-widgets/controls",
      "model_module_version": "1.5.0",
      "model_name": "DescriptionStyleModel",
      "state": {
       "description_width": ""
      }
     },
     "d94d6bb532ae4043b66dd8bb46b08d9f": {
      "model_module": "@jupyter-widgets/base",
      "model_module_version": "1.2.0",
      "model_name": "LayoutModel",
      "state": {}
     },
     "d94f90c023194d5d86264d58cff494fc": {
      "model_module": "@jupyter-widgets/controls",
      "model_module_version": "1.5.0",
      "model_name": "TextModel",
      "state": {
       "layout": "IPY_MODEL_f9ebc65ea59246e1a7d2bcdb072b46e0",
       "style": "IPY_MODEL_7d5fd12d0990492fa45577fd36fbd6dc",
       "value": "1"
      }
     },
     "d9948c3d95b14d5990a1d1747bce7b93": {
      "model_module": "@jupyter-widgets/controls",
      "model_module_version": "1.5.0",
      "model_name": "DescriptionStyleModel",
      "state": {
       "description_width": ""
      }
     },
     "d9b2bcc850874c34a15b4c2d4a6ce473": {
      "model_module": "@jupyter-widgets/controls",
      "model_module_version": "1.5.0",
      "model_name": "TextModel",
      "state": {
       "layout": "IPY_MODEL_342fbdc31d2d406489b24d1349c22e03",
       "style": "IPY_MODEL_a61e26bcf0054796956aaca78e8b2271",
       "value": "5"
      }
     },
     "d9c321a14c324ac69b3255f4deec5e0b": {
      "model_module": "@jupyter-widgets/controls",
      "model_module_version": "1.5.0",
      "model_name": "TextModel",
      "state": {
       "layout": "IPY_MODEL_1b785352cb1a4de487a9efaa222c7a96",
       "style": "IPY_MODEL_2b49cd18a6794f69886182b35cd5b700",
       "value": "4"
      }
     },
     "d9d3994636a44eaaa5a0469788291ebe": {
      "model_module": "@jupyter-widgets/controls",
      "model_module_version": "1.5.0",
      "model_name": "HTMLMathModel",
      "state": {
       "layout": "IPY_MODEL_d8c372fe3176421f8c76a1954edc6f31",
       "style": "IPY_MODEL_80e59833f6494e16b4b1c0396502e5f1",
       "value": "Enter here the values of the coefficient matrix $\\bf{A}$"
      }
     },
     "d9eb850473d54beaba7348c31cb89e3e": {
      "model_module": "@jupyter-widgets/controls",
      "model_module_version": "1.5.0",
      "model_name": "BoxModel",
      "state": {
       "children": [
        "IPY_MODEL_1a49f50980d546b78848028893a4217c",
        "IPY_MODEL_e1f33a6ce3064a3eb91d81f165fb8463",
        "IPY_MODEL_12c88b7bec5f4eb2b97f1c12dbd41baa",
        "IPY_MODEL_9f5c6fc6e5d54c558e0b19411d7d63f6"
       ],
       "layout": "IPY_MODEL_231b58a9b1854609a5f4b598fa6e40bb"
      }
     },
     "d9f4e7d5e04f434da7a01485bc790be9": {
      "model_module": "@jupyter-widgets/controls",
      "model_module_version": "1.5.0",
      "model_name": "TextModel",
      "state": {
       "layout": "IPY_MODEL_4bcd3a11811347d3979a9396c2e71cd4",
       "style": "IPY_MODEL_268b20f256bc4d2cb538471abe1d5078",
       "value": "1"
      }
     },
     "da111cc88ed344b7bcf2cea9763895ee": {
      "model_module": "@jupyter-widgets/base",
      "model_module_version": "1.2.0",
      "model_name": "LayoutModel",
      "state": {}
     },
     "da2fe6227a13420da42ed57b0f8cfb1b": {
      "model_module": "@jupyter-widgets/controls",
      "model_module_version": "1.5.0",
      "model_name": "ButtonStyleModel",
      "state": {}
     },
     "da49f8edf9cc477cb16925ea0bccc703": {
      "model_module": "@jupyter-widgets/base",
      "model_module_version": "1.2.0",
      "model_name": "LayoutModel",
      "state": {}
     },
     "da5618a0a9cd4f9baf1345b9a9964efb": {
      "model_module": "@jupyter-widgets/controls",
      "model_module_version": "1.5.0",
      "model_name": "DropdownModel",
      "state": {
       "_options_labels": [
        "1",
        "2",
        "3"
       ],
       "description": "and row",
       "index": 1,
       "layout": "IPY_MODEL_9fde1b3c35b643829e926787b51bd861",
       "style": "IPY_MODEL_9f323d97e66c42f0a174cf6fb1d537d8"
      }
     },
     "da8cd33a5af14e178055b87c686b4da4": {
      "model_module": "@jupyter-widgets/controls",
      "model_module_version": "1.5.0",
      "model_name": "DescriptionStyleModel",
      "state": {
       "description_width": ""
      }
     },
     "da986a1857e14f21b7ff267b3dcc95b9": {
      "model_module": "@jupyter-widgets/controls",
      "model_module_version": "1.5.0",
      "model_name": "VBoxModel",
      "state": {
       "children": [
        "IPY_MODEL_f2704e6c9f364705b1abe345054405b3",
        "IPY_MODEL_293283801400457d9dc53c4bad5b1bea"
       ],
       "layout": "IPY_MODEL_3737a08d728547868f7664d49d34e801"
      }
     },
     "dad6d53a50fa4d5a83489cb96cc0f3ae": {
      "model_module": "@jupyter-widgets/base",
      "model_module_version": "1.2.0",
      "model_name": "LayoutModel",
      "state": {}
     },
     "db158a7cb4934f57ab5e1788aeafa0e7": {
      "model_module": "@jupyter-widgets/controls",
      "model_module_version": "1.5.0",
      "model_name": "TextModel",
      "state": {
       "layout": "IPY_MODEL_f9ebc65ea59246e1a7d2bcdb072b46e0",
       "style": "IPY_MODEL_48d4402a766b4fd7b3b730ea196faf97",
       "value": "4"
      }
     },
     "db2fca6d82654535a73bc8f9cc56d561": {
      "model_module": "@jupyter-widgets/base",
      "model_module_version": "1.2.0",
      "model_name": "LayoutModel",
      "state": {
       "width": "150px"
      }
     },
     "db700eeb34994f299e70e242d82678d7": {
      "model_module": "@jupyter-widgets/controls",
      "model_module_version": "1.5.0",
      "model_name": "TextModel",
      "state": {
       "layout": "IPY_MODEL_109f6d462a004bdd9a95542348d778f8",
       "style": "IPY_MODEL_5da7425e44b042cb92ac73d9134a89ae",
       "value": "5"
      }
     },
     "db7ae4c519314abeb98d3cb06673f90e": {
      "model_module": "@jupyter-widgets/base",
      "model_module_version": "1.2.0",
      "model_name": "LayoutModel",
      "state": {
       "justify_content": "center"
      }
     },
     "db87d0b42b6b464a90308e08be743a0f": {
      "model_module": "@jupyter-widgets/controls",
      "model_module_version": "1.5.0",
      "model_name": "HTMLMathModel",
      "state": {
       "layout": "IPY_MODEL_9a82381e9fc44c2a8bd80e485571bd17",
       "style": "IPY_MODEL_da8cd33a5af14e178055b87c686b4da4",
       "value": "Enter here the values of the matrix $A$"
      }
     },
     "db8abbdc2cba490590a0f6522398d989": {
      "model_module": "@jupyter-widgets/base",
      "model_module_version": "1.2.0",
      "model_name": "LayoutModel",
      "state": {
       "width": "100px"
      }
     },
     "dba69b7bccad43b2972ff6e43106622a": {
      "model_module": "@jupyter-widgets/base",
      "model_module_version": "1.2.0",
      "model_name": "LayoutModel",
      "state": {}
     },
     "dbc1d1d2fe764ee58f2cab5858ea71e9": {
      "model_module": "@jupyter-widgets/controls",
      "model_module_version": "1.5.0",
      "model_name": "DescriptionStyleModel",
      "state": {
       "description_width": ""
      }
     },
     "dc169a792c7c47d98d3195d87b75b279": {
      "model_module": "@jupyter-widgets/base",
      "model_module_version": "1.2.0",
      "model_name": "LayoutModel",
      "state": {}
     },
     "dc321408fa284c7cbfe40818683a20be": {
      "model_module": "@jupyter-widgets/controls",
      "model_module_version": "1.5.0",
      "model_name": "VBoxModel",
      "state": {
       "children": [
        "IPY_MODEL_92d69cb7de8945dea5c7e1fca837a606",
        "IPY_MODEL_072aca35362c468e993078205183437a"
       ],
       "layout": "IPY_MODEL_fd82ba79a1d142339335725816ab2910"
      }
     },
     "dc42e4e4fa1c45b0b6012ffc5d253db7": {
      "model_module": "@jupyter-widgets/controls",
      "model_module_version": "1.5.0",
      "model_name": "VBoxModel",
      "state": {
       "children": [
        "IPY_MODEL_3ff36ff6342944398db3d919ad3e2ce7",
        "IPY_MODEL_05e862dd72184112a12ce0b135b95e58",
        "IPY_MODEL_a5e5042e81ea49c4ac2658a1ceb8c2f5"
       ],
       "layout": "IPY_MODEL_51ea2e314b874ed2858c567c0cbca8d9"
      }
     },
     "dc6dca47be1c416ba5d9062433684c1a": {
      "model_module": "@jupyter-widgets/controls",
      "model_module_version": "1.5.0",
      "model_name": "DescriptionStyleModel",
      "state": {
       "description_width": ""
      }
     },
     "dc7303c8caa545c99fb323509aa8d4d4": {
      "model_module": "@jupyter-widgets/controls",
      "model_module_version": "1.5.0",
      "model_name": "ButtonModel",
      "state": {
       "description": "Start",
       "layout": "IPY_MODEL_6724c5a3c95547aa851050f5db7d2932",
       "style": "IPY_MODEL_1468d91b96c2407294945354ffa84e77"
      }
     },
     "dc8cab5b981849e58feddbd219c43be8": {
      "model_module": "@jupyter-widgets/controls",
      "model_module_version": "1.5.0",
      "model_name": "TextModel",
      "state": {
       "layout": "IPY_MODEL_dfe771ca3cb647c5ba599a113ad575df",
       "style": "IPY_MODEL_fc071ac813e3426581b808b4ae45c247",
       "value": "1"
      }
     },
     "dc90cce451eb4960a24c189a28f3b89f": {
      "model_module": "@jupyter-widgets/controls",
      "model_module_version": "1.5.0",
      "model_name": "HBoxModel",
      "state": {
       "children": [
        "IPY_MODEL_f8aaf4ced7bc4bc0bdf082436460403e",
        "IPY_MODEL_8d6e213d92c7477b9d301a1c44249c19"
       ],
       "layout": "IPY_MODEL_a2a1a61aa5454a9c976e3eaa776ca120"
      }
     },
     "dc9686957e7a4f50943ce04860efd25d": {
      "model_module": "@jupyter-widgets/base",
      "model_module_version": "1.2.0",
      "model_name": "LayoutModel",
      "state": {}
     },
     "dcb07c21a07b40d4ba38f1cd6d7252d8": {
      "model_module": "@jupyter-widgets/controls",
      "model_module_version": "1.5.0",
      "model_name": "DescriptionStyleModel",
      "state": {
       "description_width": ""
      }
     },
     "dcd1704f02f345fc9c3a59cb2483e7d6": {
      "model_module": "@jupyter-widgets/controls",
      "model_module_version": "1.5.0",
      "model_name": "DescriptionStyleModel",
      "state": {
       "description_width": ""
      }
     },
     "dcd7341dd28b4bfd94cebdc438839d36": {
      "model_module": "@jupyter-widgets/controls",
      "model_module_version": "1.5.0",
      "model_name": "DescriptionStyleModel",
      "state": {
       "description_width": ""
      }
     },
     "dd3d1c3ca3604b1bae3aa45b11ddb728": {
      "model_module": "@jupyter-widgets/controls",
      "model_module_version": "1.5.0",
      "model_name": "DescriptionStyleModel",
      "state": {
       "description_width": ""
      }
     },
     "dd70618c9df64b94b7a8027f438f7afe": {
      "model_module": "@jupyter-widgets/controls",
      "model_module_version": "1.5.0",
      "model_name": "DescriptionStyleModel",
      "state": {
       "description_width": ""
      }
     },
     "dd77878f5e5c4cbfb022fe1ae57e409f": {
      "model_module": "@jupyter-widgets/controls",
      "model_module_version": "1.5.0",
      "model_name": "DescriptionStyleModel",
      "state": {
       "description_width": ""
      }
     },
     "dd889ed3585e4ed09a439349d6264314": {
      "model_module": "@jupyter-widgets/controls",
      "model_module_version": "1.5.0",
      "model_name": "DropdownModel",
      "state": {
       "_options_labels": [
        "1",
        "2",
        "3"
       ],
       "description": "to row",
       "index": 1,
       "layout": "IPY_MODEL_bccd81e738124a79a4b966816ea63a25",
       "style": "IPY_MODEL_1dda77c3b2994a3bb88681d1a2f7e3bf"
      }
     },
     "dd9b55ad414143fab94dada4dd0045e9": {
      "model_module": "@jupyter-widgets/controls",
      "model_module_version": "1.5.0",
      "model_name": "TextModel",
      "state": {
       "layout": "IPY_MODEL_f9ebc65ea59246e1a7d2bcdb072b46e0",
       "style": "IPY_MODEL_23650d83b2f0469ebc2fc217affa137d",
       "value": "3"
      }
     },
     "ddb301eb9123451887854efa514fc275": {
      "model_module": "@jupyter-widgets/controls",
      "model_module_version": "1.5.0",
      "model_name": "DescriptionStyleModel",
      "state": {
       "description_width": ""
      }
     },
     "ddcf2a8712e44bb8998246c043577940": {
      "model_module": "@jupyter-widgets/base",
      "model_module_version": "1.2.0",
      "model_name": "LayoutModel",
      "state": {}
     },
     "ddf32652dd6043ad9317968265fa17ef": {
      "model_module": "@jupyter-widgets/controls",
      "model_module_version": "1.5.0",
      "model_name": "HTMLMathModel",
      "state": {
       "layout": "IPY_MODEL_5432b236fd4742429f05235d2ed230b9",
       "style": "IPY_MODEL_68e991d4aec64994a909b7cdb10becbc",
       "value": "Enter here the values of the matrix $A$"
      }
     },
     "de0bcec127c44bb9a5530dccefd17fd7": {
      "model_module": "@jupyter-widgets/base",
      "model_module_version": "1.2.0",
      "model_name": "LayoutModel",
      "state": {}
     },
     "de24ffbfb4f44dc988ec7358dd11aebc": {
      "model_module": "@jupyter-widgets/base",
      "model_module_version": "1.2.0",
      "model_name": "LayoutModel",
      "state": {}
     },
     "de35fe9b2c7742e8a5ed676bf0bfb35b": {
      "model_module": "@jupyter-widgets/base",
      "model_module_version": "1.2.0",
      "model_name": "LayoutModel",
      "state": {
       "width": "40px"
      }
     },
     "de78a230c2704b5597d973ca8146307d": {
      "model_module": "@jupyter-widgets/controls",
      "model_module_version": "1.5.0",
      "model_name": "HTMLMathModel",
      "state": {
       "layout": "IPY_MODEL_3e071dde0bd649fda66d85b1b239f98d",
       "style": "IPY_MODEL_80b67a2f132942e3ad72668d236c53fb",
       "value": "Enter here the values of the constant matrix $\\bf{B}$"
      }
     },
     "de79c86d62fa444e91a98349f0850462": {
      "model_module": "@jupyter-widgets/controls",
      "model_module_version": "1.5.0",
      "model_name": "DescriptionStyleModel",
      "state": {
       "description_width": ""
      }
     },
     "dea65e988b10490ca341f9a9434a932f": {
      "model_module": "@jupyter-widgets/controls",
      "model_module_version": "1.5.0",
      "model_name": "HBoxModel",
      "state": {
       "children": [
        "IPY_MODEL_c1b3196aeabe42a7b32146204e076d5a",
        "IPY_MODEL_213171bafceb417580ae616b5cd6fbd2",
        "IPY_MODEL_72c920985ddd49e08088aaccc0e2b859"
       ],
       "layout": "IPY_MODEL_e933fef0d29f4c78a9245a4c4f5a1e96"
      }
     },
     "deaf1adf664148f8aed99c78a4d3cb88": {
      "model_module": "@jupyter-widgets/controls",
      "model_module_version": "1.5.0",
      "model_name": "TextModel",
      "state": {
       "layout": "IPY_MODEL_e56e2cbba3324f1e9a6da6e53dfda065",
       "style": "IPY_MODEL_d938bde17f534f0f9e33df1ffd1805d0",
       "value": "7"
      }
     },
     "deba24d331604f0cb92f56183a5fc945": {
      "model_module": "@jupyter-widgets/base",
      "model_module_version": "1.2.0",
      "model_name": "LayoutModel",
      "state": {
       "width": "150px"
      }
     },
     "debdac38ed704185a316a10da26cea8e": {
      "model_module": "@jupyter-widgets/controls",
      "model_module_version": "1.5.0",
      "model_name": "ButtonStyleModel",
      "state": {}
     },
     "dec46ace93ae4c73884dfbdc51990f4d": {
      "model_module": "@jupyter-widgets/controls",
      "model_module_version": "1.5.0",
      "model_name": "DescriptionStyleModel",
      "state": {
       "description_width": ""
      }
     },
     "dee3aa0dcb204bebac37f567ddc02317": {
      "model_module": "@jupyter-widgets/controls",
      "model_module_version": "1.5.0",
      "model_name": "DescriptionStyleModel",
      "state": {
       "description_width": ""
      }
     },
     "def1c5c6e5c4480cb1c0fda03de51552": {
      "model_module": "@jupyter-widgets/controls",
      "model_module_version": "1.5.0",
      "model_name": "HBoxModel",
      "state": {
       "children": [
        "IPY_MODEL_7af583561230447585879073000829a8",
        "IPY_MODEL_389e41d10a70427a9f773410b02ba265",
        "IPY_MODEL_10b695f98e3045a98d2654eb8462ea0c"
       ],
       "layout": "IPY_MODEL_b09b650053c24433affa28ded09867bd"
      }
     },
     "df0ffce47b3f4515bd1da641632e8a97": {
      "model_module": "@jupyter-widgets/base",
      "model_module_version": "1.2.0",
      "model_name": "LayoutModel",
      "state": {
       "width": "100px"
      }
     },
     "df30a71038e64f2fa1d6db5da5249ef5": {
      "model_module": "@jupyter-widgets/controls",
      "model_module_version": "1.5.0",
      "model_name": "TextModel",
      "state": {
       "layout": "IPY_MODEL_065f08ede0b647238ec761aa592646c7",
       "style": "IPY_MODEL_9472dc7c8a6341bc870d60aad19fefe8",
       "value": "2"
      }
     },
     "df70b502de93411190527415db503d0b": {
      "model_module": "@jupyter-widgets/controls",
      "model_module_version": "1.5.0",
      "model_name": "HBoxModel",
      "state": {
       "children": [
        "IPY_MODEL_8148061acb494fbf8eb7cdb5e6d25e67",
        "IPY_MODEL_b1278b3df10f4338a8bfe4e36f72f0bf",
        "IPY_MODEL_5550e816d068429987ba6ca55c1a7e8c"
       ],
       "layout": "IPY_MODEL_6bb04487f30b47dba4d9b035c68a4a4b"
      }
     },
     "df732e62bd5d46abb748553a7aebfff7": {
      "model_module": "@jupyter-widgets/controls",
      "model_module_version": "1.5.0",
      "model_name": "DescriptionStyleModel",
      "state": {
       "description_width": ""
      }
     },
     "df7ed4d4e9904840924fa377a3d4b92c": {
      "model_module": "@jupyter-widgets/base",
      "model_module_version": "1.2.0",
      "model_name": "LayoutModel",
      "state": {
       "width": "90px"
      }
     },
     "dfa08cd190dc45269ced2d5599741a11": {
      "model_module": "@jupyter-widgets/controls",
      "model_module_version": "1.5.0",
      "model_name": "TextModel",
      "state": {
       "layout": "IPY_MODEL_e9aebd82017d4a8ba76e24a5bdf8ca4f",
       "style": "IPY_MODEL_34549cebb567477b963fc121c2d04585",
       "value": "2"
      }
     },
     "dfa294d7aec1452c93ca5911f16e2fea": {
      "model_module": "@jupyter-widgets/controls",
      "model_module_version": "1.5.0",
      "model_name": "DescriptionStyleModel",
      "state": {
       "description_width": ""
      }
     },
     "dfb4b9bb1cdd4683b59a937680e9639c": {
      "model_module": "@jupyter-widgets/base",
      "model_module_version": "1.2.0",
      "model_name": "LayoutModel",
      "state": {
       "width": "90px"
      }
     },
     "dfc9609476e5449380c688850a4e204a": {
      "model_module": "@jupyter-widgets/base",
      "model_module_version": "1.2.0",
      "model_name": "LayoutModel",
      "state": {
       "width": "150px"
      }
     },
     "dfcd0d23056a4dadb38a0f511c6edb13": {
      "model_module": "@jupyter-widgets/base",
      "model_module_version": "1.2.0",
      "model_name": "LayoutModel",
      "state": {}
     },
     "dfcd26dfae934a82b670f1e9fe63b65d": {
      "model_module": "@jupyter-widgets/controls",
      "model_module_version": "1.5.0",
      "model_name": "GridBoxModel",
      "state": {
       "children": [
        "IPY_MODEL_0eb6e1ce612644788b4e8d2129fca744",
        "IPY_MODEL_3f73331f1d704fe69ff13fda7b7f52cd",
        "IPY_MODEL_fb86646e578245d2b6241e1679a44e04"
       ],
       "layout": "IPY_MODEL_d1107bc4fd364254a16e2cde4eb9d5c6"
      }
     },
     "dfdc943601c64603ac3cf14cf995f38d": {
      "model_module": "@jupyter-widgets/controls",
      "model_module_version": "1.5.0",
      "model_name": "DescriptionStyleModel",
      "state": {
       "description_width": ""
      }
     },
     "dfe771ca3cb647c5ba599a113ad575df": {
      "model_module": "@jupyter-widgets/base",
      "model_module_version": "1.2.0",
      "model_name": "LayoutModel",
      "state": {
       "height": "35px",
       "width": "30px"
      }
     },
     "dff0b0292a1c43479b0483a6b79d42b7": {
      "model_module": "@jupyter-widgets/base",
      "model_module_version": "1.2.0",
      "model_name": "LayoutModel",
      "state": {}
     },
     "e00f54ed89a2476b85ea824e0b6f4448": {
      "model_module": "@jupyter-widgets/base",
      "model_module_version": "1.2.0",
      "model_name": "LayoutModel",
      "state": {
       "width": "150px"
      }
     },
     "e02dc5e7e81c4cb1b386ef699b1c1903": {
      "model_module": "@jupyter-widgets/controls",
      "model_module_version": "1.5.0",
      "model_name": "TextModel",
      "state": {
       "layout": "IPY_MODEL_e9aebd82017d4a8ba76e24a5bdf8ca4f",
       "style": "IPY_MODEL_0d9746d3a2fb4d549b6108a850e6a3e7",
       "value": "1"
      }
     },
     "e0376c0f89da4c06a5ee8cf2b4ed9cfc": {
      "model_module": "@jupyter-widgets/controls",
      "model_module_version": "1.5.0",
      "model_name": "HBoxModel",
      "state": {
       "children": [
        "IPY_MODEL_a2b0e93ee9dd4e67a3ea848054b0c99c",
        "IPY_MODEL_5ce4a7d84ecf41eb978ee2d7650fb9e7",
        "IPY_MODEL_23032e0b18c748c4b66356fe909656ed"
       ],
       "layout": "IPY_MODEL_5c9ba0a0a18444cb9fad2a46845c253f"
      }
     },
     "e04185d2c7774af9b96389dbb2abf359": {
      "model_module": "@jupyter-widgets/controls",
      "model_module_version": "1.5.0",
      "model_name": "TextModel",
      "state": {
       "description": "times",
       "layout": "IPY_MODEL_b9cbe16839484d20b284fc68079d7f74",
       "style": "IPY_MODEL_0d07b70590d84085895b2a6723373ac4",
       "value": "1"
      }
     },
     "e06b6935fe4f4197904c5ef76be76a4b": {
      "model_module": "@jupyter-widgets/controls",
      "model_module_version": "1.5.0",
      "model_name": "VBoxModel",
      "state": {
       "children": [
        "IPY_MODEL_c9184918c1164fe8926499d7cbf33e25",
        "IPY_MODEL_96731ed4acc440c6b494163601990df7"
       ],
       "layout": "IPY_MODEL_f6cc4a54a2384f729c84b50e1be768af"
      }
     },
     "e07eb283342648d0bd663f4f5f468b1d": {
      "model_module": "@jupyter-widgets/base",
      "model_module_version": "1.2.0",
      "model_name": "LayoutModel",
      "state": {}
     },
     "e08bd86acfe3404e8b16421bf5343fba": {
      "model_module": "@jupyter-widgets/controls",
      "model_module_version": "1.5.0",
      "model_name": "DescriptionStyleModel",
      "state": {
       "description_width": ""
      }
     },
     "e098073954fa46139aa9200e78493a23": {
      "model_module": "@jupyter-widgets/controls",
      "model_module_version": "1.5.0",
      "model_name": "HBoxModel",
      "state": {
       "children": [
        "IPY_MODEL_88443d3565134680ad935cde84797d9e",
        "IPY_MODEL_8d8b21ef344f457ab7a51cdedf68a90d",
        "IPY_MODEL_cf9e7349866e470588789ff62fd401bd"
       ],
       "layout": "IPY_MODEL_a16e14e98dc3426bb713fc29ef832720"
      }
     },
     "e0f7e9c79b414ab6987e26eb7247b9f1": {
      "model_module": "@jupyter-widgets/controls",
      "model_module_version": "1.5.0",
      "model_name": "HBoxModel",
      "state": {
       "children": [
        "IPY_MODEL_a72ba6f8f4e8452fa173b0eb5a85fd95",
        "IPY_MODEL_824f8626841f41ac89952e1f54346e8f",
        "IPY_MODEL_f97a52ce4d5442058e31ec16df69a65a"
       ],
       "layout": "IPY_MODEL_afd633c90c664b979c75d8d4f0e27101"
      }
     },
     "e122dcce1911475788c82adf7f1f53d5": {
      "model_module": "@jupyter-widgets/controls",
      "model_module_version": "1.5.0",
      "model_name": "TextModel",
      "state": {
       "layout": "IPY_MODEL_7a607c89a00143a7a0808c95689bf41a",
       "style": "IPY_MODEL_575f937f908949548c510205936ca7e8",
       "value": "1"
      }
     },
     "e122dddaa8a94c6799d86e41e57fbda8": {
      "model_module": "@jupyter-widgets/controls",
      "model_module_version": "1.5.0",
      "model_name": "VBoxModel",
      "state": {
       "children": [
        "IPY_MODEL_76c7b549bdcd4fff95d7eb17223b6812",
        "IPY_MODEL_dc7303c8caa545c99fb323509aa8d4d4"
       ],
       "layout": "IPY_MODEL_94d1f64f764c4519b458eaae0bbacf75"
      }
     },
     "e168436c7ee0437a9552e5f0afc85715": {
      "model_module": "@jupyter-widgets/base",
      "model_module_version": "1.2.0",
      "model_name": "LayoutModel",
      "state": {
       "height": "35px",
       "width": "40px"
      }
     },
     "e16c683bbe5a4fa9afa56982c1d8e9e5": {
      "model_module": "@jupyter-widgets/base",
      "model_module_version": "1.2.0",
      "model_name": "LayoutModel",
      "state": {
       "width": "50px"
      }
     },
     "e1a3cec1865e42c7bee40dca27edb129": {
      "model_module": "@jupyter-widgets/base",
      "model_module_version": "1.2.0",
      "model_name": "LayoutModel",
      "state": {}
     },
     "e1bcbb60ebab4617ac690232d0d74196": {
      "model_module": "@jupyter-widgets/controls",
      "model_module_version": "1.5.0",
      "model_name": "ButtonStyleModel",
      "state": {}
     },
     "e1c39a48cba64114b908607ac7759b10": {
      "model_module": "@jupyter-widgets/controls",
      "model_module_version": "1.5.0",
      "model_name": "TextModel",
      "state": {
       "layout": "IPY_MODEL_1b785352cb1a4de487a9efaa222c7a96",
       "style": "IPY_MODEL_6821276e7696428e93f2319a3f402cfd",
       "value": "1"
      }
     },
     "e1c9386655f84f74b0c54895b6deb9e3": {
      "model_module": "@jupyter-widgets/controls",
      "model_module_version": "1.5.0",
      "model_name": "BoxModel",
      "state": {
       "children": [
        "IPY_MODEL_03c3b5c23d544bbdbf63789c60fc3379",
        "IPY_MODEL_58b4a21b18f741c2a58f87d88e6e45a5",
        "IPY_MODEL_9fc9b98503f445afa47a3400c4b6611d",
        "IPY_MODEL_5cfa150771064f49b6b49bfe381c8b37"
       ],
       "layout": "IPY_MODEL_d08a51d8d48143089a9a40339e482aef"
      }
     },
     "e1f33a6ce3064a3eb91d81f165fb8463": {
      "model_module": "@jupyter-widgets/controls",
      "model_module_version": "1.5.0",
      "model_name": "HBoxModel",
      "state": {
       "children": [
        "IPY_MODEL_24da1a4ef69c4e6aaf08af01ec5fc126",
        "IPY_MODEL_205117a8f4f94aabaa92fe5ebce03dd4"
       ],
       "layout": "IPY_MODEL_890983480d4042eaa69ee9c30df8c931"
      }
     },
     "e210e493bcda4798872a05d373613894": {
      "model_module": "@jupyter-widgets/controls",
      "model_module_version": "1.5.0",
      "model_name": "VBoxModel",
      "state": {
       "children": [
        "IPY_MODEL_f6d38eea29a34a468d669aee57d56a4a",
        "IPY_MODEL_a76f7a0fe16241c0bbb8bb683d81bb76",
        "IPY_MODEL_87219293ed324a78b94421185d26a09c"
       ],
       "layout": "IPY_MODEL_6ef3bc0744a743f4a50b6c4fc67c3b22"
      }
     },
     "e2483a59d1db4e5e92e34ff01be22074": {
      "model_module": "@jupyter-widgets/controls",
      "model_module_version": "1.5.0",
      "model_name": "TextModel",
      "state": {
       "layout": "IPY_MODEL_24e52a9da5f64680833f56257412e632",
       "style": "IPY_MODEL_c66b4f922bca4b7d845ce65ee4c75c70",
       "value": "9"
      }
     },
     "e24b373cefd249239248808256d983ce": {
      "model_module": "@jupyter-widgets/controls",
      "model_module_version": "1.5.0",
      "model_name": "HBoxModel",
      "state": {
       "children": [
        "IPY_MODEL_e587c6d0603a4660bea2f41a08640f2c",
        "IPY_MODEL_2ace8d28a67e4d9aab87e6de4dba898f",
        "IPY_MODEL_3db2e2b11fdb45cd8f264eaa8c4e1b96"
       ],
       "layout": "IPY_MODEL_71767ad1af554999bd12c591aee9fb25"
      }
     },
     "e24ef0dda2e842deb500733821749d75": {
      "model_module": "@jupyter-widgets/base",
      "model_module_version": "1.2.0",
      "model_name": "LayoutModel",
      "state": {}
     },
     "e2680f5102274c879290f0fd80b7a2fd": {
      "model_module": "@jupyter-widgets/controls",
      "model_module_version": "1.5.0",
      "model_name": "VBoxModel",
      "state": {
       "children": [
        "IPY_MODEL_a60bb58c2ec44d2d87be9aa57a53f46e",
        "IPY_MODEL_ea71b0d034c84249b3adec5074883f15",
        "IPY_MODEL_68e76f2b98124ec28d2448e80dc33863"
       ],
       "layout": "IPY_MODEL_b16dfbe331fe43fabbc50ae50aed289f"
      }
     },
     "e26b2eec25dd4fecb08f9c1835111319": {
      "model_module": "@jupyter-widgets/controls",
      "model_module_version": "1.5.0",
      "model_name": "DescriptionStyleModel",
      "state": {
       "description_width": ""
      }
     },
     "e28037f329524e619566a6610ea6029f": {
      "model_module": "@jupyter-widgets/base",
      "model_module_version": "1.2.0",
      "model_name": "LayoutModel",
      "state": {
       "flex_flow": "row wrap",
       "justify_content": "space-around"
      }
     },
     "e2961294fff944cea7162e05b0c33c87": {
      "model_module": "@jupyter-widgets/controls",
      "model_module_version": "1.5.0",
      "model_name": "DescriptionStyleModel",
      "state": {
       "description_width": ""
      }
     },
     "e2aaabf27ad549479e80f6afd220a820": {
      "model_module": "@jupyter-widgets/controls",
      "model_module_version": "1.5.0",
      "model_name": "DescriptionStyleModel",
      "state": {
       "description_width": ""
      }
     },
     "e2da8bf827a2404a8f0ca0886b96e05a": {
      "model_module": "@jupyter-widgets/controls",
      "model_module_version": "1.5.0",
      "model_name": "TextModel",
      "state": {
       "layout": "IPY_MODEL_dfe771ca3cb647c5ba599a113ad575df",
       "style": "IPY_MODEL_cae462006fc0462195f45ae3086689cd",
       "value": "7"
      }
     },
     "e2f324d28428461dba2a1b897eea03b4": {
      "model_module": "@jupyter-widgets/controls",
      "model_module_version": "1.5.0",
      "model_name": "HBoxModel",
      "state": {
       "children": [
        "IPY_MODEL_410b909e09794f089f651f07cade4a45",
        "IPY_MODEL_1da17dbcd9c44aafbd009ed926a22938",
        "IPY_MODEL_566811e0e68443a08edad1205d69edb6"
       ],
       "layout": "IPY_MODEL_01638fc262524c519e5136a0baf2df37"
      }
     },
     "e347fe1d10be4182a46e1dcb953a9d74": {
      "model_module": "@jupyter-widgets/base",
      "model_module_version": "1.2.0",
      "model_name": "LayoutModel",
      "state": {
       "width": "150px"
      }
     },
     "e3534da883f446e294ac72203b7f77e0": {
      "model_module": "@jupyter-widgets/base",
      "model_module_version": "1.2.0",
      "model_name": "LayoutModel",
      "state": {
       "width": "250px"
      }
     },
     "e3556a0c67ef431397d44a4e3848a40d": {
      "model_module": "@jupyter-widgets/controls",
      "model_module_version": "1.5.0",
      "model_name": "HTMLMathModel",
      "state": {
       "layout": "IPY_MODEL_950636dfec7446fa929ac9c8e182e8f2",
       "style": "IPY_MODEL_16d10af4b2ee4e189f770da47880e72b",
       "value": "Enter here the values of the matrix $A$"
      }
     },
     "e35fd670213c4b0eb6384c79ae707146": {
      "model_module": "@jupyter-widgets/controls",
      "model_module_version": "1.5.0",
      "model_name": "DescriptionStyleModel",
      "state": {
       "description_width": ""
      }
     },
     "e39100f5658a4aaa84f50601cdbde6a2": {
      "model_module": "@jupyter-widgets/controls",
      "model_module_version": "1.5.0",
      "model_name": "ButtonStyleModel",
      "state": {}
     },
     "e3b0043337d84f57a4b94b298fdb01aa": {
      "model_module": "@jupyter-widgets/base",
      "model_module_version": "1.2.0",
      "model_name": "LayoutModel",
      "state": {
       "width": "120px"
      }
     },
     "e3b3cbf229ba40a2bb97b837f46785c7": {
      "model_module": "@jupyter-widgets/controls",
      "model_module_version": "1.5.0",
      "model_name": "ButtonStyleModel",
      "state": {}
     },
     "e3bdf8d52f5f4d3c9ce1f0157ec1b18f": {
      "model_module": "@jupyter-widgets/controls",
      "model_module_version": "1.5.0",
      "model_name": "HTMLModel",
      "state": {
       "layout": "IPY_MODEL_71ccaefef5204efb9847d70d0986be68",
       "style": "IPY_MODEL_6694a139e1b14486a107472a65fe2979",
       "value": "Click this button to start the calculator"
      }
     },
     "e4169ca5dff0415ea79aff2751271073": {
      "model_module": "@jupyter-widgets/controls",
      "model_module_version": "1.5.0",
      "model_name": "DescriptionStyleModel",
      "state": {
       "description_width": ""
      }
     },
     "e4335350723e42868f129da154a9220f": {
      "model_module": "@jupyter-widgets/controls",
      "model_module_version": "1.5.0",
      "model_name": "DropdownModel",
      "state": {
       "_options_labels": [
        "1",
        "2",
        "3"
       ],
       "description": "Add row",
       "index": 0,
       "layout": "IPY_MODEL_9704ef41a85f442289d2ac76308a8904",
       "style": "IPY_MODEL_557dd59e6a5b4bd29ccd6496645c7a28"
      }
     },
     "e439883eb1d84e48bda3ae1ab492300f": {
      "model_module": "@jupyter-widgets/controls",
      "model_module_version": "1.5.0",
      "model_name": "TextModel",
      "state": {
       "layout": "IPY_MODEL_7003463d13444a27a885608e31a34ec8",
       "style": "IPY_MODEL_3fdb154f4fc24590a7b07905849613e7",
       "value": "3"
      }
     },
     "e4a48e74f1fd4cf3aac6026d43c5a33b": {
      "model_module": "@jupyter-widgets/base",
      "model_module_version": "1.2.0",
      "model_name": "LayoutModel",
      "state": {}
     },
     "e4b5732c81fd4a68a34c3b263f6daa0f": {
      "model_module": "@jupyter-widgets/controls",
      "model_module_version": "1.5.0",
      "model_name": "TextModel",
      "state": {
       "layout": "IPY_MODEL_f9ebc65ea59246e1a7d2bcdb072b46e0",
       "style": "IPY_MODEL_58b78db0cccf4131a6975a68a897a489",
       "value": "2"
      }
     },
     "e4e0fb4e6b89454a86cbfcffd3fa5a35": {
      "model_module": "@jupyter-widgets/base",
      "model_module_version": "1.2.0",
      "model_name": "LayoutModel",
      "state": {
       "justify_content": "space-between"
      }
     },
     "e4ec6b9d22fd4ec0a643c90506c80e55": {
      "model_module": "@jupyter-widgets/base",
      "model_module_version": "1.2.0",
      "model_name": "LayoutModel",
      "state": {}
     },
     "e4f726d38da546f793e490ce389df486": {
      "model_module": "@jupyter-widgets/controls",
      "model_module_version": "1.5.0",
      "model_name": "ButtonModel",
      "state": {
       "description": "Add rows",
       "layout": "IPY_MODEL_ccf4d10c79d94949920db9a6ae8f33fa",
       "style": "IPY_MODEL_396c01c87ca24b6eaa10a7ee4e57eb45"
      }
     },
     "e516cf37d2634f9fa05ee6cf92efba8e": {
      "model_module": "@jupyter-widgets/controls",
      "model_module_version": "1.5.0",
      "model_name": "TextModel",
      "state": {
       "layout": "IPY_MODEL_7003463d13444a27a885608e31a34ec8",
       "style": "IPY_MODEL_b0f5bf90f2d44778887d41b67f927cb0",
       "value": "-2"
      }
     },
     "e530640bb6a244e2b64e8de0d4598a90": {
      "model_module": "@jupyter-widgets/base",
      "model_module_version": "1.2.0",
      "model_name": "LayoutModel",
      "state": {
       "width": "100px"
      }
     },
     "e54ff38a20124f7495d001d4b76ab1fc": {
      "model_module": "@jupyter-widgets/controls",
      "model_module_version": "1.5.0",
      "model_name": "DescriptionStyleModel",
      "state": {
       "description_width": ""
      }
     },
     "e56e2cbba3324f1e9a6da6e53dfda065": {
      "model_module": "@jupyter-widgets/base",
      "model_module_version": "1.2.0",
      "model_name": "LayoutModel",
      "state": {
       "height": "35px",
       "width": "30px"
      }
     },
     "e5876ace9715463fa05543f92fbb9e4d": {
      "model_module": "@jupyter-widgets/controls",
      "model_module_version": "1.5.0",
      "model_name": "BoxModel",
      "state": {
       "children": [
        "IPY_MODEL_2ec9226b9b7f4ec0b94edf0817c63cf5",
        "IPY_MODEL_793a43898f3a4c3fa6c774842378f8b5",
        "IPY_MODEL_beb2efe904d44f53b01e592dd10896bf"
       ],
       "layout": "IPY_MODEL_929fde971a6d4652a2eef270b0330d35"
      }
     },
     "e587c6d0603a4660bea2f41a08640f2c": {
      "model_module": "@jupyter-widgets/controls",
      "model_module_version": "1.5.0",
      "model_name": "TextModel",
      "state": {
       "layout": "IPY_MODEL_5a0c24727aa941b48d996c0a1f0c2bf8",
       "style": "IPY_MODEL_c3a471de48f641239745f3d6b30f2085",
       "value": "2"
      }
     },
     "e590e70d2e654827a1a13fe7c4e9eeac": {
      "model_module": "@jupyter-widgets/controls",
      "model_module_version": "1.5.0",
      "model_name": "DescriptionStyleModel",
      "state": {
       "description_width": ""
      }
     },
     "e5d0d54b798a40a5a02955c8e33526c0": {
      "model_module": "@jupyter-widgets/controls",
      "model_module_version": "1.5.0",
      "model_name": "TextModel",
      "state": {
       "layout": "IPY_MODEL_1ceaf9c9ac774ae985cae0c34af76539",
       "style": "IPY_MODEL_2d2917d769b6478989bd9fd8c0ea961b",
       "value": "2"
      }
     },
     "e5e5ade033b44aaeb61d82114053637f": {
      "model_module": "@jupyter-widgets/controls",
      "model_module_version": "1.5.0",
      "model_name": "DescriptionStyleModel",
      "state": {
       "description_width": ""
      }
     },
     "e5e7ceb084e8406ca8d2a66d89dcadca": {
      "model_module": "@jupyter-widgets/controls",
      "model_module_version": "1.5.0",
      "model_name": "HTMLMathModel",
      "state": {
       "layout": "IPY_MODEL_f78c7dcb212c4a87b6823c96e024b223",
       "style": "IPY_MODEL_1d4a68d74d2147e1b5854782d5e2588c",
       "value": "Enter here the values of the matrix $A$"
      }
     },
     "e5f45988dcc34d81b5ae6e54e536b7de": {
      "model_module": "@jupyter-widgets/controls",
      "model_module_version": "1.5.0",
      "model_name": "TextModel",
      "state": {
       "layout": "IPY_MODEL_47a60aa1cf3045f2a536b06edf49c5ea",
       "style": "IPY_MODEL_2966ba1130e74e7788bceb36f0dfd090",
       "value": "2"
      }
     },
     "e63c1c2f786e44d699edc019bafd3a1b": {
      "model_module": "@jupyter-widgets/controls",
      "model_module_version": "1.5.0",
      "model_name": "DescriptionStyleModel",
      "state": {
       "description_width": ""
      }
     },
     "e65005353bf1418db6601012dc6b9af8": {
      "model_module": "@jupyter-widgets/controls",
      "model_module_version": "1.5.0",
      "model_name": "HTMLMathModel",
      "state": {
       "layout": "IPY_MODEL_2d8dfb43d02a4ea7b5a8918d25da9f57",
       "style": "IPY_MODEL_6bef60a7b3994bd2aa874e69f4dc84da",
       "value": "Enter here the values of the matrix $A$"
      }
     },
     "e685aa28f90545b9886a135da1b58ec4": {
      "model_module": "@jupyter-widgets/controls",
      "model_module_version": "1.5.0",
      "model_name": "HBoxModel",
      "state": {
       "children": [
        "IPY_MODEL_c6860b9ca6934cb29ad6f7775c6ee499",
        "IPY_MODEL_460a520abdb9412388af8c3b44ca82d9"
       ],
       "layout": "IPY_MODEL_feab542d68594cea9011ae7b078caae9"
      }
     },
     "e6beeb05f6ce4efd8c60d47a977e7ade": {
      "model_module": "@jupyter-widgets/base",
      "model_module_version": "1.2.0",
      "model_name": "LayoutModel",
      "state": {
       "height": "35px",
       "width": "30px"
      }
     },
     "e6c181e87e7248e5a35f8bf520433bc3": {
      "model_module": "@jupyter-widgets/controls",
      "model_module_version": "1.5.0",
      "model_name": "HTMLMathModel",
      "state": {
       "layout": "IPY_MODEL_d22fab0b63f24ec48dd8a67aa7ce583d",
       "style": "IPY_MODEL_43ea316cf7154d038674a2be56018d60",
       "value": "The augmented matrix will appear here."
      }
     },
     "e6c2058a46bf41e1a736ad660ceb6227": {
      "model_module": "@jupyter-widgets/controls",
      "model_module_version": "1.5.0",
      "model_name": "HTMLModel",
      "state": {
       "layout": "IPY_MODEL_98c124b12b4c48cbb371b2d915f41d35",
       "style": "IPY_MODEL_6741c8e89e514040901e33f7e5f70e9b",
       "value": "Click this button to start the calculator"
      }
     },
     "e6db3b0a35b04387a144a3c5489d71fd": {
      "model_module": "@jupyter-widgets/controls",
      "model_module_version": "1.5.0",
      "model_name": "HTMLMathModel",
      "state": {
       "layout": "IPY_MODEL_f52fcf10d4eb44919d64fa8372ae1376",
       "style": "IPY_MODEL_83323b5c1e014e8d963d4780c4348277",
       "value": "Results will be shown here."
      }
     },
     "e6e8634bf3fa45a981d0b15fb379c303": {
      "model_module": "@jupyter-widgets/controls",
      "model_module_version": "1.5.0",
      "model_name": "DescriptionStyleModel",
      "state": {
       "description_width": ""
      }
     },
     "e70a48165a91416f948aea37d95809ee": {
      "model_module": "@jupyter-widgets/controls",
      "model_module_version": "1.5.0",
      "model_name": "DropdownModel",
      "state": {
       "_options_labels": [
        "1",
        "2",
        "3"
       ],
       "description": "Swap row",
       "index": 0,
       "layout": "IPY_MODEL_2321cf2b4a914bb587a06b04a654a09e",
       "style": "IPY_MODEL_bf51894b19ee46949bb89e87d8e4f403"
      }
     },
     "e70d1f095c4f4295accda93ae8a6e44c": {
      "model_module": "@jupyter-widgets/controls",
      "model_module_version": "1.5.0",
      "model_name": "VBoxModel",
      "state": {
       "children": [
        "IPY_MODEL_64b9e8e9c9374bb18e45a3f962dfe685",
        "IPY_MODEL_3cd4d536052b4685abbe3c1404fe6b2a"
       ],
       "layout": "IPY_MODEL_e720a872aa32458cbbefd23b45862fcc"
      }
     },
     "e720a872aa32458cbbefd23b45862fcc": {
      "model_module": "@jupyter-widgets/base",
      "model_module_version": "1.2.0",
      "model_name": "LayoutModel",
      "state": {}
     },
     "e729b7a994534b1682157812676238d0": {
      "model_module": "@jupyter-widgets/controls",
      "model_module_version": "1.5.0",
      "model_name": "VBoxModel",
      "state": {
       "children": [
        "IPY_MODEL_4ce7eb7ce6f948c6925f5719ff6ca495",
        "IPY_MODEL_721e905890494a43bb331fa1a6bf0902",
        "IPY_MODEL_7f38dacd36cc41c2a6aee83a0f863f58"
       ],
       "layout": "IPY_MODEL_de24ffbfb4f44dc988ec7358dd11aebc"
      }
     },
     "e736b81508d841458dff96b9825a05ff": {
      "model_module": "@jupyter-widgets/controls",
      "model_module_version": "1.5.0",
      "model_name": "TextModel",
      "state": {
       "layout": "IPY_MODEL_d29f4c6323274c2ea715833a610068a5",
       "style": "IPY_MODEL_130c0e9ce08645a6860799fb9b56ddd6",
       "value": "-1"
      }
     },
     "e7399f40ac1340359c918cd0f0671b93": {
      "model_module": "@jupyter-widgets/controls",
      "model_module_version": "1.5.0",
      "model_name": "VBoxModel",
      "state": {
       "children": [
        "IPY_MODEL_3af32c0d12bb45cfb451562e2feddec9",
        "IPY_MODEL_2e6bfdadb4474882b32393a9a1465b65",
        "IPY_MODEL_3d8cc5b061604dcdaf140d971c6a2d83"
       ],
       "layout": "IPY_MODEL_13b871b4f1294b79addc825df026b2d9"
      }
     },
     "e7484725f42f4170b3e5cf05fb1c8645": {
      "model_module": "@jupyter-widgets/controls",
      "model_module_version": "1.5.0",
      "model_name": "VBoxModel",
      "state": {
       "children": [
        "IPY_MODEL_9b59b8f98c2245d096f2be7208f7522f",
        "IPY_MODEL_3880841f797b416a98480c81eabfd492",
        "IPY_MODEL_430f084f28914b059709ecb4b8f6f712"
       ],
       "layout": "IPY_MODEL_1a8624605d0e4ccab80dd4c6dae8c7da"
      }
     },
     "e74fcf404e004a1ba2d5393ae1fb28b0": {
      "model_module": "@jupyter-widgets/controls",
      "model_module_version": "1.5.0",
      "model_name": "DescriptionStyleModel",
      "state": {
       "description_width": ""
      }
     },
     "e76894c981c84d558fa16ab36f4b220f": {
      "model_module": "@jupyter-widgets/controls",
      "model_module_version": "1.5.0",
      "model_name": "HBoxModel",
      "state": {
       "children": [
        "IPY_MODEL_a6b0a876801d440c8362f38d9caac2cb",
        "IPY_MODEL_722f88f6b7c2404f8d3a0500c5eefc45"
       ],
       "layout": "IPY_MODEL_8015eb259b67417f86d2aee53e4c38e8"
      }
     },
     "e7a24bbec11247e39d8a24b3207ca1fe": {
      "model_module": "@jupyter-widgets/base",
      "model_module_version": "1.2.0",
      "model_name": "LayoutModel",
      "state": {
       "width": "100px"
      }
     },
     "e7abbc721f6e4bb6830239c57ae0e439": {
      "model_module": "@jupyter-widgets/base",
      "model_module_version": "1.2.0",
      "model_name": "LayoutModel",
      "state": {}
     },
     "e7adadbd8c24482b91e34418165d0ae6": {
      "model_module": "@jupyter-widgets/controls",
      "model_module_version": "1.5.0",
      "model_name": "DescriptionStyleModel",
      "state": {
       "description_width": ""
      }
     },
     "e7cbaebbdead48cbb9e5afbe0afa2b76": {
      "model_module": "@jupyter-widgets/base",
      "model_module_version": "1.2.0",
      "model_name": "LayoutModel",
      "state": {}
     },
     "e7f2c78a6f2f46f18eb36073e544aa51": {
      "model_module": "@jupyter-widgets/base",
      "model_module_version": "1.2.0",
      "model_name": "LayoutModel",
      "state": {}
     },
     "e806c1b24a754f478b45aaccc3046031": {
      "model_module": "@jupyter-widgets/controls",
      "model_module_version": "1.5.0",
      "model_name": "HBoxModel",
      "state": {
       "children": [
        "IPY_MODEL_d1033184396a49c78e3839b47d90ccaa",
        "IPY_MODEL_bfaa8be9138e4fd285189ee948968e2d",
        "IPY_MODEL_72842ae846ed4417b1962e61c0143613"
       ],
       "layout": "IPY_MODEL_3f5694b129604e6ab874cea5a5925093"
      }
     },
     "e85b60d5795940b78b2b0309d777c459": {
      "model_module": "@jupyter-widgets/controls",
      "model_module_version": "1.5.0",
      "model_name": "DescriptionStyleModel",
      "state": {
       "description_width": ""
      }
     },
     "e8c351c7ca3146cb902e74efccfdb1fe": {
      "model_module": "@jupyter-widgets/controls",
      "model_module_version": "1.5.0",
      "model_name": "HTMLMathModel",
      "state": {
       "layout": "IPY_MODEL_0c75223a1dec4741b1b708ef6fe84920",
       "style": "IPY_MODEL_157ae4e77b3947a8abde54620b799bc9",
       "value": "Enter here the values of the right hand side vector $b$"
      }
     },
     "e8c4ce31d136447191e29fab50924497": {
      "model_module": "@jupyter-widgets/controls",
      "model_module_version": "1.5.0",
      "model_name": "TextModel",
      "state": {
       "layout": "IPY_MODEL_7a607c89a00143a7a0808c95689bf41a",
       "style": "IPY_MODEL_221413b645cf469a99a03986d50f7250",
       "value": "1"
      }
     },
     "e8f8d488ac1948b5b90177cb2b455b1f": {
      "model_module": "@jupyter-widgets/controls",
      "model_module_version": "1.5.0",
      "model_name": "HTMLMathModel",
      "state": {
       "layout": "IPY_MODEL_db7ae4c519314abeb98d3cb06673f90e",
       "style": "IPY_MODEL_75a6736d1b554771af5fd5b22a225cd7",
       "value": "The augmented matrix $(\\bf{A}|\\bf{B})$ will appear here."
      }
     },
     "e933fef0d29f4c78a9245a4c4f5a1e96": {
      "model_module": "@jupyter-widgets/base",
      "model_module_version": "1.2.0",
      "model_name": "LayoutModel",
      "state": {}
     },
     "e97148d946324133ad43252de564f26c": {
      "model_module": "@jupyter-widgets/controls",
      "model_module_version": "1.5.0",
      "model_name": "TextModel",
      "state": {
       "layout": "IPY_MODEL_201e1a4ee32840b19f981690bdacf3ae",
       "style": "IPY_MODEL_05f7501b90f348f89d7ae8e61517a072",
       "value": "2/3"
      }
     },
     "e9759d1361b34347b881d4235932ed62": {
      "model_module": "@jupyter-widgets/controls",
      "model_module_version": "1.5.0",
      "model_name": "DescriptionStyleModel",
      "state": {
       "description_width": ""
      }
     },
     "e9942661f54c4f869208fa6fd77a3755": {
      "model_module": "@jupyter-widgets/controls",
      "model_module_version": "1.5.0",
      "model_name": "TextModel",
      "state": {
       "layout": "IPY_MODEL_201e1a4ee32840b19f981690bdacf3ae",
       "style": "IPY_MODEL_1d8dd25d307d4215987c4cffe4f8dc87",
       "value": "7"
      }
     },
     "e9abab88b7d24723969cc86f1e45e85f": {
      "model_module": "@jupyter-widgets/base",
      "model_module_version": "1.2.0",
      "model_name": "LayoutModel",
      "state": {
       "grid_template_columns": "repeat(3, 45px)"
      }
     },
     "e9aebd82017d4a8ba76e24a5bdf8ca4f": {
      "model_module": "@jupyter-widgets/base",
      "model_module_version": "1.2.0",
      "model_name": "LayoutModel",
      "state": {
       "height": "35px",
       "width": "40px"
      }
     },
     "e9c77696af63445e927b60a5d777aeef": {
      "model_module": "@jupyter-widgets/base",
      "model_module_version": "1.2.0",
      "model_name": "LayoutModel",
      "state": {}
     },
     "ea061cdc7a824fd3ad0b823444d348fd": {
      "model_module": "@jupyter-widgets/base",
      "model_module_version": "1.2.0",
      "model_name": "LayoutModel",
      "state": {}
     },
     "ea23d0027d3d4ed9abbc7770dcaa6f70": {
      "model_module": "@jupyter-widgets/controls",
      "model_module_version": "1.5.0",
      "model_name": "DescriptionStyleModel",
      "state": {
       "description_width": ""
      }
     },
     "ea4c33f7782241d68035a6d6340fabba": {
      "model_module": "@jupyter-widgets/controls",
      "model_module_version": "1.5.0",
      "model_name": "VBoxModel",
      "state": {
       "children": [
        "IPY_MODEL_a1bcaee7fb4442bcb71d693c3b294136",
        "IPY_MODEL_62f8e520c42f4d939c839664f6e56ef5",
        "IPY_MODEL_af1105e0604d4430b14de9c078bae96c"
       ],
       "layout": "IPY_MODEL_d820b318ccac40d08640f560a801fd28"
      }
     },
     "ea4d53a625f34e7d8976f5a79da7c87a": {
      "model_module": "@jupyter-widgets/controls",
      "model_module_version": "1.5.0",
      "model_name": "DescriptionStyleModel",
      "state": {
       "description_width": ""
      }
     },
     "ea7032af5a434b63b25757ecd430e019": {
      "model_module": "@jupyter-widgets/controls",
      "model_module_version": "1.5.0",
      "model_name": "DescriptionStyleModel",
      "state": {
       "description_width": ""
      }
     },
     "ea71b0d034c84249b3adec5074883f15": {
      "model_module": "@jupyter-widgets/controls",
      "model_module_version": "1.5.0",
      "model_name": "TextModel",
      "state": {
       "layout": "IPY_MODEL_5a0c24727aa941b48d996c0a1f0c2bf8",
       "style": "IPY_MODEL_d3a2dffb419a427f82b357cdb6c93552",
       "value": "-1"
      }
     },
     "ea7d1da261334a319480630764d5b3ee": {
      "model_module": "@jupyter-widgets/base",
      "model_module_version": "1.2.0",
      "model_name": "LayoutModel",
      "state": {}
     },
     "ea7e22664aff417694d571c55475b12b": {
      "model_module": "@jupyter-widgets/controls",
      "model_module_version": "1.5.0",
      "model_name": "HTMLMathModel",
      "state": {
       "layout": "IPY_MODEL_c9d4ae8a05c04c5f9404bd63bbd7faec",
       "style": "IPY_MODEL_1b3c9f5758b948da9cc1e0f5db464056",
       "value": "Enter here the values of the constant matrix $\\bf{B}$"
      }
     },
     "ea941d8f6eb24820bba538d2c4260b4a": {
      "model_module": "@jupyter-widgets/base",
      "model_module_version": "1.2.0",
      "model_name": "LayoutModel",
      "state": {}
     },
     "ea9c959b68fa46978f06c017677b9361": {
      "model_module": "@jupyter-widgets/controls",
      "model_module_version": "1.5.0",
      "model_name": "TextModel",
      "state": {
       "layout": "IPY_MODEL_d743f8ba50f447a3ad2d5faaa6a0e9e2",
       "style": "IPY_MODEL_f397f39963fc4d7e8afd01c63db77140",
       "value": "2"
      }
     },
     "eacf872d21354c7591564531c66e2582": {
      "model_module": "@jupyter-widgets/controls",
      "model_module_version": "1.5.0",
      "model_name": "DescriptionStyleModel",
      "state": {
       "description_width": ""
      }
     },
     "eadb90c094f44eb3a68fe8a93b272cdd": {
      "model_module": "@jupyter-widgets/controls",
      "model_module_version": "1.5.0",
      "model_name": "DescriptionStyleModel",
      "state": {
       "description_width": ""
      }
     },
     "eaf31ba8fcce43b2be33f3b76c6cd8dc": {
      "model_module": "@jupyter-widgets/base",
      "model_module_version": "1.2.0",
      "model_name": "LayoutModel",
      "state": {}
     },
     "eb29f29b39b647e08cfea5f0f8b41fa7": {
      "model_module": "@jupyter-widgets/controls",
      "model_module_version": "1.5.0",
      "model_name": "TextModel",
      "state": {
       "layout": "IPY_MODEL_776389df997545fcab086c0233cb0ab0",
       "style": "IPY_MODEL_854698d3124944c4b01e997588977372",
       "value": "5"
      }
     },
     "eb71288ee6b64a15b0d0a2803f6b8572": {
      "model_module": "@jupyter-widgets/controls",
      "model_module_version": "1.5.0",
      "model_name": "DescriptionStyleModel",
      "state": {
       "description_width": ""
      }
     },
     "eb87a08f228b4899b30e7a7761e4bfd5": {
      "model_module": "@jupyter-widgets/controls",
      "model_module_version": "1.5.0",
      "model_name": "ButtonStyleModel",
      "state": {}
     },
     "eb939392501748a59a3887486a7d2971": {
      "model_module": "@jupyter-widgets/controls",
      "model_module_version": "1.5.0",
      "model_name": "TextModel",
      "state": {
       "layout": "IPY_MODEL_e56e2cbba3324f1e9a6da6e53dfda065",
       "style": "IPY_MODEL_388330af6e3749b5a4d160059b1b203f",
       "value": "2"
      }
     },
     "ebaa4211fdd64e54a4db1f9470a957cf": {
      "model_module": "@jupyter-widgets/controls",
      "model_module_version": "1.5.0",
      "model_name": "ButtonStyleModel",
      "state": {}
     },
     "ebbe6eb9fc0c412f858526c5203e4341": {
      "model_module": "@jupyter-widgets/controls",
      "model_module_version": "1.5.0",
      "model_name": "HBoxModel",
      "state": {
       "children": [
        "IPY_MODEL_aca9e60bbabb4e898dc9803cc9ed07a3",
        "IPY_MODEL_11fcc015374b427bb197b0d5244dbd8a",
        "IPY_MODEL_59473b6f810d4a6b9c421954e87c06d7"
       ],
       "layout": "IPY_MODEL_534415669b284c279828039d71d5b2be"
      }
     },
     "ec03ea6157c04c5f823fa7f5591c7e58": {
      "model_module": "@jupyter-widgets/controls",
      "model_module_version": "1.5.0",
      "model_name": "HTMLMathModel",
      "state": {
       "layout": "IPY_MODEL_911782efbdb943058e1fb7375d220e6b",
       "style": "IPY_MODEL_91f4ec477c9b48f0a0f8b879a06db714",
       "value": "Enter here the values of the right hand side vector $b$"
      }
     },
     "ec6356d787844b12abf4df0a396148f5": {
      "model_module": "@jupyter-widgets/base",
      "model_module_version": "1.2.0",
      "model_name": "LayoutModel",
      "state": {}
     },
     "ec747882226143328d0611229df8e77e": {
      "model_module": "@jupyter-widgets/controls",
      "model_module_version": "1.5.0",
      "model_name": "HTMLMathModel",
      "state": {
       "layout": "IPY_MODEL_8353ccc2560145698095cea6140446fd",
       "style": "IPY_MODEL_8114520d502e4b4cbb86d8848a53ced6",
       "value": "The augmented matrix $(\\bf{A}|\\bf{B})$ will appear here."
      }
     },
     "ec7b59078b0e4c47b6a6bf3e9bbb4c7d": {
      "model_module": "@jupyter-widgets/controls",
      "model_module_version": "1.5.0",
      "model_name": "TextModel",
      "state": {
       "layout": "IPY_MODEL_383a1c5f5f0c418b84e9a50a2a78d25a",
       "style": "IPY_MODEL_02fa46bfb10b44d5b5d6851008cca90d",
       "value": "-2"
      }
     },
     "ec92452da74a4cdb8bec4d17ce338bd8": {
      "model_module": "@jupyter-widgets/controls",
      "model_module_version": "1.5.0",
      "model_name": "TextModel",
      "state": {
       "layout": "IPY_MODEL_b2827ab913cf4f49b7a4aeebd116396e",
       "style": "IPY_MODEL_82cf7b01dba34acf8f2a20db7a87eead",
       "value": "2"
      }
     },
     "ec98a905b0674bab9d816ed1bc603cc7": {
      "model_module": "@jupyter-widgets/controls",
      "model_module_version": "1.5.0",
      "model_name": "TextModel",
      "state": {
       "layout": "IPY_MODEL_97993fa24fac42e28605e8d366180168",
       "style": "IPY_MODEL_36f4a001763645f284adce9268ed5287",
       "value": "2"
      }
     },
     "ec9a2b4a169d4a6bad9f3f99436f5db6": {
      "model_module": "@jupyter-widgets/controls",
      "model_module_version": "1.5.0",
      "model_name": "TextModel",
      "state": {
       "layout": "IPY_MODEL_d7c4f11771b948fa9166cf5745d8d1c9",
       "style": "IPY_MODEL_a25dff5c81e140e095ee8ebf5f7da342",
       "value": "3"
      }
     },
     "eca4c35a016d4bfab194ffb0cd279fbe": {
      "model_module": "@jupyter-widgets/controls",
      "model_module_version": "1.5.0",
      "model_name": "HTMLMathModel",
      "state": {
       "layout": "IPY_MODEL_8419d117de0a483bb4f7f2dd2f014fac",
       "style": "IPY_MODEL_772a4dacf67f48cead87599d74a548b7",
       "value": "Enter here the values of the matrix $A$"
      }
     },
     "ecb53aaf49a74ce0bd882d4f806c15cd": {
      "model_module": "@jupyter-widgets/controls",
      "model_module_version": "1.5.0",
      "model_name": "HTMLMathModel",
      "state": {
       "layout": "IPY_MODEL_734f908248364b5eb88bed04a49f9677",
       "style": "IPY_MODEL_1d6f8011df4649169e2274b9b89c3aff",
       "value": "The augmented matrix will appear here."
      }
     },
     "ecc7c416e4554d67824e1735f8adf8ed": {
      "model_module": "@jupyter-widgets/controls",
      "model_module_version": "1.5.0",
      "model_name": "DescriptionStyleModel",
      "state": {
       "description_width": ""
      }
     },
     "ed10e4caac63416eacac28c3067e0ca7": {
      "model_module": "@jupyter-widgets/controls",
      "model_module_version": "1.5.0",
      "model_name": "ButtonStyleModel",
      "state": {}
     },
     "ed66af272c9a4bd1b826c0d0070b8dd6": {
      "model_module": "@jupyter-widgets/base",
      "model_module_version": "1.2.0",
      "model_name": "LayoutModel",
      "state": {}
     },
     "ed9cb710a47048b68b5b3f0c35a6de1e": {
      "model_module": "@jupyter-widgets/controls",
      "model_module_version": "1.5.0",
      "model_name": "DescriptionStyleModel",
      "state": {
       "description_width": ""
      }
     },
     "ed9e4888a47a41bdbca99949e12037f8": {
      "model_module": "@jupyter-widgets/base",
      "model_module_version": "1.2.0",
      "model_name": "LayoutModel",
      "state": {}
     },
     "ed9f2bfa7c914ea5896f09cea7c05aeb": {
      "model_module": "@jupyter-widgets/base",
      "model_module_version": "1.2.0",
      "model_name": "LayoutModel",
      "state": {}
     },
     "edb0f32a283f419aa6949e7b0a5cf25c": {
      "model_module": "@jupyter-widgets/controls",
      "model_module_version": "1.5.0",
      "model_name": "TextModel",
      "state": {
       "layout": "IPY_MODEL_5658a8e71503421ab525d14883c87170",
       "style": "IPY_MODEL_4966ad1c24ea4c59aeec58155348a271",
       "value": "2"
      }
     },
     "edc80969c040420d904b0135d70856b4": {
      "model_module": "@jupyter-widgets/controls",
      "model_module_version": "1.5.0",
      "model_name": "DropdownModel",
      "state": {
       "_options_labels": [
        "1",
        "2",
        "3"
       ],
       "description": "to row",
       "index": 2,
       "layout": "IPY_MODEL_d18632d042a04e36a02600fd236e6b8c",
       "style": "IPY_MODEL_d377e5d75b5b4b1a81241e7468bf3346"
      }
     },
     "edcba7f84b834a7697b3280a6cea10fe": {
      "model_module": "@jupyter-widgets/base",
      "model_module_version": "1.2.0",
      "model_name": "LayoutModel",
      "state": {
       "width": "40px"
      }
     },
     "edd10de6b3354b2a9e98cdea7b17e20e": {
      "model_module": "@jupyter-widgets/controls",
      "model_module_version": "1.5.0",
      "model_name": "HTMLMathModel",
      "state": {
       "layout": "IPY_MODEL_e7a24bbec11247e39d8a24b3207ca1fe",
       "style": "IPY_MODEL_81e1ea914d1f491b8c149edbdd6a594f",
       "value": "Enter here the values of the right hand side vector $b$"
      }
     },
     "edf76f77bb2345249e4915144d90afc2": {
      "model_module": "@jupyter-widgets/controls",
      "model_module_version": "1.5.0",
      "model_name": "ButtonModel",
      "state": {
       "description": "Start",
       "layout": "IPY_MODEL_00eb8c2b2bcd4266ae00682af1b48ec4",
       "style": "IPY_MODEL_65d5b47270a54725933207ff9f0a1b04"
      }
     },
     "ee0fac3c03254350a8d60801c82c0f7e": {
      "model_module": "@jupyter-widgets/controls",
      "model_module_version": "1.5.0",
      "model_name": "TextModel",
      "state": {
       "layout": "IPY_MODEL_dfe771ca3cb647c5ba599a113ad575df",
       "style": "IPY_MODEL_3b6746c53df34f9f923a92ff0a94452e",
       "value": "5"
      }
     },
     "ee4d54acd3764853a2e18fb37c87f6ff": {
      "model_module": "@jupyter-widgets/controls",
      "model_module_version": "1.5.0",
      "model_name": "DescriptionStyleModel",
      "state": {
       "description_width": ""
      }
     },
     "ee590e817f7c495b80d39039d98ffde0": {
      "model_module": "@jupyter-widgets/controls",
      "model_module_version": "1.5.0",
      "model_name": "DescriptionStyleModel",
      "state": {
       "description_width": ""
      }
     },
     "eea29d5a44d141b6b4355dc6962b9e93": {
      "model_module": "@jupyter-widgets/controls",
      "model_module_version": "1.5.0",
      "model_name": "HTMLMathModel",
      "state": {
       "layout": "IPY_MODEL_61169f54d60a4858a5ebad8f0afe97c2",
       "style": "IPY_MODEL_f3b74db0f1404b2f9d2d2f82aae2db0f",
       "value": "Results will be shown here."
      }
     },
     "eea5d6610d954516b2cf76848db834e0": {
      "model_module": "@jupyter-widgets/controls",
      "model_module_version": "1.5.0",
      "model_name": "DescriptionStyleModel",
      "state": {
       "description_width": ""
      }
     },
     "eeebf09d6f9341e89319c547b5376a0d": {
      "model_module": "@jupyter-widgets/base",
      "model_module_version": "1.2.0",
      "model_name": "LayoutModel",
      "state": {}
     },
     "eeef97788e59480e8ae35444b0d4f51f": {
      "model_module": "@jupyter-widgets/controls",
      "model_module_version": "1.5.0",
      "model_name": "DescriptionStyleModel",
      "state": {
       "description_width": ""
      }
     },
     "eeefb8331e13454eabb4f58381b053d7": {
      "model_module": "@jupyter-widgets/controls",
      "model_module_version": "1.5.0",
      "model_name": "DescriptionStyleModel",
      "state": {
       "description_width": ""
      }
     },
     "eefc96d3ecc94c589d5246bde07b63c2": {
      "model_module": "@jupyter-widgets/controls",
      "model_module_version": "1.5.0",
      "model_name": "TextModel",
      "state": {
       "layout": "IPY_MODEL_b2827ab913cf4f49b7a4aeebd116396e",
       "style": "IPY_MODEL_58349022765c4e9d9e1dc50abe4323b9",
       "value": "9"
      }
     },
     "eefc9c0201ae48deb3268c915b3fb7b0": {
      "model_module": "@jupyter-widgets/controls",
      "model_module_version": "1.5.0",
      "model_name": "DescriptionStyleModel",
      "state": {
       "description_width": ""
      }
     },
     "ef1553837bfe423086883be84d6f21ef": {
      "model_module": "@jupyter-widgets/controls",
      "model_module_version": "1.5.0",
      "model_name": "HTMLMathModel",
      "state": {
       "layout": "IPY_MODEL_b3928f2cb08447faa00b8693f608807d",
       "style": "IPY_MODEL_3741cebce3e449bc903713c6b0c606d1",
       "value": "The augmented matrix $(\\bf{A}|\\bf{B})$ is:\n $$\\left [\\begin{array}{ rrr|r }\n4 & 1 & -2 & 4 \\\\\n3 & -1 & 1 & 1 \\\\\n1 & -1 & 1 & -2\n\\end{array}\\right ] $$ with $\\det A =2$."
      }
     },
     "ef52107204e04f2a97f6b95ecc1151de": {
      "model_module": "@jupyter-widgets/controls",
      "model_module_version": "1.5.0",
      "model_name": "HBoxModel",
      "state": {
       "children": [
        "IPY_MODEL_0c87e0e9dd314f49af89ae12a412d2c1",
        "IPY_MODEL_b2b0604d46134161b6ff1301686f5550",
        "IPY_MODEL_77262e2420b84139be84713590236071"
       ],
       "layout": "IPY_MODEL_8824468931684d0da16445df8364c975"
      }
     },
     "ef5b298e469946619a053fa258d7ce90": {
      "model_module": "@jupyter-widgets/controls",
      "model_module_version": "1.5.0",
      "model_name": "ButtonStyleModel",
      "state": {}
     },
     "ef6f44b97b0a4599a57baec850deb8ef": {
      "model_module": "@jupyter-widgets/base",
      "model_module_version": "1.2.0",
      "model_name": "LayoutModel",
      "state": {}
     },
     "ef72b16de5bf4989a0e40ae9e62b66b1": {
      "model_module": "@jupyter-widgets/controls",
      "model_module_version": "1.5.0",
      "model_name": "DescriptionStyleModel",
      "state": {
       "description_width": ""
      }
     },
     "ef8ff7e115424eeb9f1ab956b502617e": {
      "model_module": "@jupyter-widgets/controls",
      "model_module_version": "1.5.0",
      "model_name": "DescriptionStyleModel",
      "state": {
       "description_width": ""
      }
     },
     "ef93346854e84e1f8b29e578cc772fb4": {
      "model_module": "@jupyter-widgets/controls",
      "model_module_version": "1.5.0",
      "model_name": "GridBoxModel",
      "state": {
       "children": [
        "IPY_MODEL_64a5281db1df4f10a52902ce276e0d7b",
        "IPY_MODEL_54179c0ba5fd47d0a78bda231e247538",
        "IPY_MODEL_48337776fba346daaf8ea7ba5def78db"
       ],
       "layout": "IPY_MODEL_350e9ddc25c146b6a1c85fb6025af524"
      }
     },
     "efa063d2d9c842e58789aaf5f62d326a": {
      "model_module": "@jupyter-widgets/controls",
      "model_module_version": "1.5.0",
      "model_name": "HTMLMathModel",
      "state": {
       "layout": "IPY_MODEL_bab4fa0e5841482eb2ae83f4454f62c9",
       "style": "IPY_MODEL_dcd1704f02f345fc9c3a59cb2483e7d6",
       "value": "Results will be shown here."
      }
     },
     "eff41c6f29db4c7e81c5e11e317e5c5e": {
      "model_module": "@jupyter-widgets/controls",
      "model_module_version": "1.5.0",
      "model_name": "TextModel",
      "state": {
       "layout": "IPY_MODEL_e9aebd82017d4a8ba76e24a5bdf8ca4f",
       "style": "IPY_MODEL_b99085da46e54db9b07262190ea5bdde",
       "value": "-2"
      }
     },
     "eff85b9b93d24d7681b7f94a134adf68": {
      "model_module": "@jupyter-widgets/controls",
      "model_module_version": "1.5.0",
      "model_name": "DropdownModel",
      "state": {
       "_options_labels": [
        "1",
        "2",
        "3"
       ],
       "description": "Row",
       "index": 0,
       "layout": "IPY_MODEL_d3d1de72d73748f285f95ecc7c9a2357",
       "style": "IPY_MODEL_854eb498d46145859349f83e258f7486"
      }
     },
     "f00e54f6aa3149388d454aab4692fd51": {
      "model_module": "@jupyter-widgets/controls",
      "model_module_version": "1.5.0",
      "model_name": "ButtonStyleModel",
      "state": {}
     },
     "f01ae29b7d644da99ee63fcf34372431": {
      "model_module": "@jupyter-widgets/base",
      "model_module_version": "1.2.0",
      "model_name": "LayoutModel",
      "state": {
       "width": "90px"
      }
     },
     "f03167670854477988a957d116c254b7": {
      "model_module": "@jupyter-widgets/controls",
      "model_module_version": "1.5.0",
      "model_name": "TextModel",
      "state": {
       "layout": "IPY_MODEL_65cb8db367e14667886b79ef97c800d1",
       "style": "IPY_MODEL_57f37a482b9b4212a5d2ed4a2eec7123",
       "value": "1"
      }
     },
     "f091f449490a41eabafc9416846749b3": {
      "model_module": "@jupyter-widgets/controls",
      "model_module_version": "1.5.0",
      "model_name": "DropdownModel",
      "state": {
       "_options_labels": [
        "1",
        "2",
        "3"
       ],
       "description": "to row",
       "index": 0,
       "layout": "IPY_MODEL_9622b87d96e346ff9156b0af9b242f3e",
       "style": "IPY_MODEL_6a9c29d715954664a3b6582a3fd99a05"
      }
     },
     "f0a80bf15b6444ab8a59063ef23e79bb": {
      "model_module": "@jupyter-widgets/base",
      "model_module_version": "1.2.0",
      "model_name": "LayoutModel",
      "state": {}
     },
     "f0c37c50ebf74d1b8c8e6007f1902a2d": {
      "model_module": "@jupyter-widgets/base",
      "model_module_version": "1.2.0",
      "model_name": "LayoutModel",
      "state": {
       "width": "150px"
      }
     },
     "f0e435f708eb40afb638d2cf9d9781d3": {
      "model_module": "@jupyter-widgets/controls",
      "model_module_version": "1.5.0",
      "model_name": "VBoxModel",
      "state": {
       "children": [
        "IPY_MODEL_5d8824e772c44ba6b2db408f4c18e308",
        "IPY_MODEL_6b3ebf123f1940d2a1985abc852ca74b",
        "IPY_MODEL_f4e29c12a4044874876b9d14adb16e6d"
       ],
       "layout": "IPY_MODEL_15cb1eba10714e2095f4d934b9f73e07"
      }
     },
     "f1317c6bfc014d01b94265459174e211": {
      "model_module": "@jupyter-widgets/base",
      "model_module_version": "1.2.0",
      "model_name": "LayoutModel",
      "state": {
       "width": "90px"
      }
     },
     "f1401c6fdd0c40d2908cfdcae7075571": {
      "model_module": "@jupyter-widgets/controls",
      "model_module_version": "1.5.0",
      "model_name": "BoxModel",
      "state": {
       "children": [
        "IPY_MODEL_052b1e05722c4f84a8a8afdf4c8bd50e",
        "IPY_MODEL_1ed225d750c74609a2bb98ddc1eb5a32",
        "IPY_MODEL_010b35601e864c298ae9f05f519b4a6c",
        "IPY_MODEL_accdf7735ed24909916f8da8c26f9834"
       ],
       "layout": "IPY_MODEL_9e4c2557cd14444a8c717ce1ca253cae"
      }
     },
     "f1446b0a7f104c9b818e92e985cf851a": {
      "model_module": "@jupyter-widgets/base",
      "model_module_version": "1.2.0",
      "model_name": "LayoutModel",
      "state": {
       "height": "300px",
       "justify_content": "center"
      }
     },
     "f19cadcefec641e395cd67af48991c05": {
      "model_module": "@jupyter-widgets/base",
      "model_module_version": "1.2.0",
      "model_name": "LayoutModel",
      "state": {
       "width": "40px"
      }
     },
     "f1aa2df246494e15a23c8062d7e3ccde": {
      "model_module": "@jupyter-widgets/controls",
      "model_module_version": "1.5.0",
      "model_name": "DescriptionStyleModel",
      "state": {
       "description_width": ""
      }
     },
     "f1d5cf599d7742bdbcb8970a31942c1b": {
      "model_module": "@jupyter-widgets/controls",
      "model_module_version": "1.5.0",
      "model_name": "ButtonStyleModel",
      "state": {}
     },
     "f1fa41c9f71c4f8bb49565f039a58277": {
      "model_module": "@jupyter-widgets/base",
      "model_module_version": "1.2.0",
      "model_name": "LayoutModel",
      "state": {}
     },
     "f22c060de5474d7e8daa8c79ee787237": {
      "model_module": "@jupyter-widgets/controls",
      "model_module_version": "1.5.0",
      "model_name": "HBoxModel",
      "state": {
       "children": [
        "IPY_MODEL_d64c192c2e9c47969bacd26bd2f5c1c0",
        "IPY_MODEL_7d7d88ffc94843e988f3ebfb35979e02",
        "IPY_MODEL_f88d21bd2fc54bdd892e55255cc40114"
       ],
       "layout": "IPY_MODEL_b2114799c4a84bbc87247973e58f4c95"
      }
     },
     "f258116685c74fff913ffa409d2f3db3": {
      "model_module": "@jupyter-widgets/controls",
      "model_module_version": "1.5.0",
      "model_name": "BoxModel",
      "state": {
       "children": [
        "IPY_MODEL_3e8cdf14b9d24f3683c6a378a59a4e9d",
        "IPY_MODEL_13f3642104b941ee98c7c3f0e3972147",
        "IPY_MODEL_078e01adcc8140ad8e31821dcdcc39a9"
       ],
       "layout": "IPY_MODEL_054f8067bb1648fbb09e3fb64dbf4312"
      }
     },
     "f2704e6c9f364705b1abe345054405b3": {
      "model_module": "@jupyter-widgets/controls",
      "model_module_version": "1.5.0",
      "model_name": "HTMLModel",
      "state": {
       "layout": "IPY_MODEL_35bfcafcc1a84b28ab6323acdc71b0a7",
       "style": "IPY_MODEL_b691e570176c45e1868634b486dc3def",
       "value": "Click this button to start the calculator"
      }
     },
     "f272a8ad070a4f24904008711556c11e": {
      "model_module": "@jupyter-widgets/controls",
      "model_module_version": "1.5.0",
      "model_name": "DescriptionStyleModel",
      "state": {
       "description_width": ""
      }
     },
     "f27e0f18d55744be8068dad7dbf7737a": {
      "model_module": "@jupyter-widgets/controls",
      "model_module_version": "1.5.0",
      "model_name": "TextModel",
      "state": {
       "layout": "IPY_MODEL_97993fa24fac42e28605e8d366180168",
       "style": "IPY_MODEL_cead6ed81b0a493082fb6746d7479151",
       "value": "5"
      }
     },
     "f2882cebb7f2411abae8002027e464ba": {
      "model_module": "@jupyter-widgets/base",
      "model_module_version": "1.2.0",
      "model_name": "LayoutModel",
      "state": {}
     },
     "f28c3c7f5ced4384b8a9eca6bc4c00fd": {
      "model_module": "@jupyter-widgets/base",
      "model_module_version": "1.2.0",
      "model_name": "LayoutModel",
      "state": {
       "height": "35px",
       "width": "30px"
      }
     },
     "f29ce3ba67d24dc8871830d5d9f4d4c7": {
      "model_module": "@jupyter-widgets/base",
      "model_module_version": "1.2.0",
      "model_name": "LayoutModel",
      "state": {}
     },
     "f2ae0e66337c4ebdae2cb01a413f8e02": {
      "model_module": "@jupyter-widgets/controls",
      "model_module_version": "1.5.0",
      "model_name": "DescriptionStyleModel",
      "state": {
       "description_width": ""
      }
     },
     "f2b6b852a94441abad5cca5793983c9f": {
      "model_module": "@jupyter-widgets/controls",
      "model_module_version": "1.5.0",
      "model_name": "TextModel",
      "state": {
       "layout": "IPY_MODEL_342fbdc31d2d406489b24d1349c22e03",
       "style": "IPY_MODEL_6299f44249684c518b0bd3e2fbc9c2b2",
       "value": "-4"
      }
     },
     "f2e0851c440c459598053173a7e4b35b": {
      "model_module": "@jupyter-widgets/controls",
      "model_module_version": "1.5.0",
      "model_name": "TextModel",
      "state": {
       "layout": "IPY_MODEL_7003463d13444a27a885608e31a34ec8",
       "style": "IPY_MODEL_5645aad67ba549f2a01ffedefaaf50ab",
       "value": "-1"
      }
     },
     "f2e149f1a8d0497eb086b5fd62f3847f": {
      "model_module": "@jupyter-widgets/controls",
      "model_module_version": "1.5.0",
      "model_name": "TextModel",
      "state": {
       "layout": "IPY_MODEL_776389df997545fcab086c0233cb0ab0",
       "style": "IPY_MODEL_1ba9b5a6948a4e00864cf684f2dedd49",
       "value": "-1"
      }
     },
     "f2eb8d9717d341ecb4c76868748421e1": {
      "model_module": "@jupyter-widgets/controls",
      "model_module_version": "1.5.0",
      "model_name": "HTMLMathModel",
      "state": {
       "layout": "IPY_MODEL_b4e8bedc66614c2b971638f28f3b0643",
       "style": "IPY_MODEL_f6614e67fb2f471b8322f0f125349cc7",
       "value": "Enter here the values of the right hand side vector $b$"
      }
     },
     "f2f1079d40fe4ce5b06799417f86036c": {
      "model_module": "@jupyter-widgets/base",
      "model_module_version": "1.2.0",
      "model_name": "LayoutModel",
      "state": {}
     },
     "f32a1d7f10014baeb1b88fc683dd5d76": {
      "model_module": "@jupyter-widgets/controls",
      "model_module_version": "1.5.0",
      "model_name": "DescriptionStyleModel",
      "state": {
       "description_width": ""
      }
     },
     "f33bc32532f14d079a5b6a40df72ef50": {
      "model_module": "@jupyter-widgets/controls",
      "model_module_version": "1.5.0",
      "model_name": "TextModel",
      "state": {
       "layout": "IPY_MODEL_194d5881fb18447585798b14c51e301b",
       "style": "IPY_MODEL_909bb8a066fb44099ebd540a9b6cc6c7",
       "value": "9"
      }
     },
     "f363c2a9593f443e8d24b329e1a2d926": {
      "model_module": "@jupyter-widgets/controls",
      "model_module_version": "1.5.0",
      "model_name": "DropdownModel",
      "state": {
       "_options_labels": [
        "1",
        "2",
        "3"
       ],
       "description": "to row",
       "index": 1,
       "layout": "IPY_MODEL_54347aac6fa74fe1bd3eb1454197e6bd",
       "style": "IPY_MODEL_093d54d2ff3c4700b2e9e95c41589838"
      }
     },
     "f39330af18304cf98cc420abbea7452a": {
      "model_module": "@jupyter-widgets/controls",
      "model_module_version": "1.5.0",
      "model_name": "TextModel",
      "state": {
       "layout": "IPY_MODEL_47a60aa1cf3045f2a536b06edf49c5ea",
       "style": "IPY_MODEL_b485cfc31de242488a281e5b3b80acfe",
       "value": "9"
      }
     },
     "f395299a668546ce92625b44e1b2c68b": {
      "model_module": "@jupyter-widgets/controls",
      "model_module_version": "1.5.0",
      "model_name": "TextModel",
      "state": {
       "layout": "IPY_MODEL_5658a8e71503421ab525d14883c87170",
       "style": "IPY_MODEL_35d0d0c03d5d45ceaa167a5231b20667",
       "value": "1"
      }
     },
     "f397f39963fc4d7e8afd01c63db77140": {
      "model_module": "@jupyter-widgets/controls",
      "model_module_version": "1.5.0",
      "model_name": "DescriptionStyleModel",
      "state": {
       "description_width": ""
      }
     },
     "f39c2405301a45fdaf6706ac32945a36": {
      "model_module": "@jupyter-widgets/controls",
      "model_module_version": "1.5.0",
      "model_name": "TextModel",
      "state": {
       "layout": "IPY_MODEL_e56e2cbba3324f1e9a6da6e53dfda065",
       "style": "IPY_MODEL_d83be6200d3d44409f3f7e65e09c0921",
       "value": "2"
      }
     },
     "f3b74db0f1404b2f9d2d2f82aae2db0f": {
      "model_module": "@jupyter-widgets/controls",
      "model_module_version": "1.5.0",
      "model_name": "DescriptionStyleModel",
      "state": {
       "description_width": ""
      }
     },
     "f3bfe76ba66241cdb015000c16d218cd": {
      "model_module": "@jupyter-widgets/controls",
      "model_module_version": "1.5.0",
      "model_name": "DescriptionStyleModel",
      "state": {
       "description_width": ""
      }
     },
     "f3d5e08eff0c48a08a4209d2c72b688f": {
      "model_module": "@jupyter-widgets/controls",
      "model_module_version": "1.5.0",
      "model_name": "DescriptionStyleModel",
      "state": {
       "description_width": ""
      }
     },
     "f3df611b0a6d4b36987ca538e8425396": {
      "model_module": "@jupyter-widgets/base",
      "model_module_version": "1.2.0",
      "model_name": "LayoutModel",
      "state": {}
     },
     "f3e314b99eef452cb3e0e8028081577d": {
      "model_module": "@jupyter-widgets/base",
      "model_module_version": "1.2.0",
      "model_name": "LayoutModel",
      "state": {}
     },
     "f3f39816c8804cfca62d30eee3143169": {
      "model_module": "@jupyter-widgets/controls",
      "model_module_version": "1.5.0",
      "model_name": "DescriptionStyleModel",
      "state": {
       "description_width": ""
      }
     },
     "f40918507ba748c199cf99ae1d4a343b": {
      "model_module": "@jupyter-widgets/base",
      "model_module_version": "1.2.0",
      "model_name": "LayoutModel",
      "state": {}
     },
     "f422046e23c8401abdfb33fc0a5f3f5a": {
      "model_module": "@jupyter-widgets/controls",
      "model_module_version": "1.5.0",
      "model_name": "ButtonStyleModel",
      "state": {}
     },
     "f442a28641c04a2f8d4fc2c1c1bf0854": {
      "model_module": "@jupyter-widgets/controls",
      "model_module_version": "1.5.0",
      "model_name": "DropdownModel",
      "state": {
       "_options_labels": [
        "1",
        "2",
        "3"
       ],
       "description": "and row",
       "index": 2,
       "layout": "IPY_MODEL_db2fca6d82654535a73bc8f9cc56d561",
       "style": "IPY_MODEL_b838a7586e394db2a8cf5f71139c465e"
      }
     },
     "f45189e426ca468291ea6ca17d2de317": {
      "model_module": "@jupyter-widgets/controls",
      "model_module_version": "1.5.0",
      "model_name": "DescriptionStyleModel",
      "state": {
       "description_width": ""
      }
     },
     "f474cab1c8f54b52bad2fe2cb3823b84": {
      "model_module": "@jupyter-widgets/controls",
      "model_module_version": "1.5.0",
      "model_name": "HBoxModel",
      "state": {
       "children": [
        "IPY_MODEL_c81d75f690c34af5984f1471e502a895",
        "IPY_MODEL_1f7bd99816a947c5a12ee239811365bb",
        "IPY_MODEL_6f8d5a25238b4dbcad0d3a0d27cfbc4c"
       ],
       "layout": "IPY_MODEL_4dfbe679109146bba4fa78bb12fbe1c0"
      }
     },
     "f4a859db86ad4588891d2c32612887ed": {
      "model_module": "@jupyter-widgets/base",
      "model_module_version": "1.2.0",
      "model_name": "LayoutModel",
      "state": {}
     },
     "f4ab5f9a45f44824af0c80fa8604e619": {
      "model_module": "@jupyter-widgets/controls",
      "model_module_version": "1.5.0",
      "model_name": "TextModel",
      "state": {
       "layout": "IPY_MODEL_65cb8db367e14667886b79ef97c800d1",
       "style": "IPY_MODEL_b52e67fabe904ec8b4df7c5b458608ab",
       "value": "-4"
      }
     },
     "f4e29c12a4044874876b9d14adb16e6d": {
      "model_module": "@jupyter-widgets/controls",
      "model_module_version": "1.5.0",
      "model_name": "TextModel",
      "state": {
       "layout": "IPY_MODEL_109f6d462a004bdd9a95542348d778f8",
       "style": "IPY_MODEL_b4233c1a634145478e2c7712e61c06f3",
       "value": "9"
      }
     },
     "f4ececb133c946159ffda3fb7d04a502": {
      "model_module": "@jupyter-widgets/controls",
      "model_module_version": "1.5.0",
      "model_name": "DescriptionStyleModel",
      "state": {
       "description_width": ""
      }
     },
     "f4ed553abd55484dbc6eb44905cee816": {
      "model_module": "@jupyter-widgets/controls",
      "model_module_version": "1.5.0",
      "model_name": "DescriptionStyleModel",
      "state": {
       "description_width": ""
      }
     },
     "f4f56300c6734f17be157f6d2b5be17b": {
      "model_module": "@jupyter-widgets/controls",
      "model_module_version": "1.5.0",
      "model_name": "TextModel",
      "state": {
       "layout": "IPY_MODEL_bbd5dabd53c049fca9a7f5878437cad9",
       "style": "IPY_MODEL_91f0cae43e2d41ecb88b2b1144505b68",
       "value": "1"
      }
     },
     "f500709d47024c5da9a12b524f8147d4": {
      "model_module": "@jupyter-widgets/controls",
      "model_module_version": "1.5.0",
      "model_name": "HTMLMathModel",
      "state": {
       "layout": "IPY_MODEL_f1446b0a7f104c9b818e92e985cf851a",
       "style": "IPY_MODEL_d9948c3d95b14d5990a1d1747bce7b93",
       "value": "Results will be shown here."
      }
     },
     "f5140204c42143d6aaab16db271e0b11": {
      "model_module": "@jupyter-widgets/controls",
      "model_module_version": "1.5.0",
      "model_name": "DescriptionStyleModel",
      "state": {
       "description_width": ""
      }
     },
     "f52fcf10d4eb44919d64fa8372ae1376": {
      "model_module": "@jupyter-widgets/base",
      "model_module_version": "1.2.0",
      "model_name": "LayoutModel",
      "state": {
       "justify_content": "center"
      }
     },
     "f53ffb000d594b03abb935e20d6e2c86": {
      "model_module": "@jupyter-widgets/controls",
      "model_module_version": "1.5.0",
      "model_name": "DescriptionStyleModel",
      "state": {
       "description_width": ""
      }
     },
     "f54059be4d2748b293ca090e6ff8382b": {
      "model_module": "@jupyter-widgets/controls",
      "model_module_version": "1.5.0",
      "model_name": "DescriptionStyleModel",
      "state": {
       "description_width": ""
      }
     },
     "f57d30c88ead4f9c89f904fc3f1ba191": {
      "model_module": "@jupyter-widgets/controls",
      "model_module_version": "1.5.0",
      "model_name": "TextModel",
      "state": {
       "layout": "IPY_MODEL_109f6d462a004bdd9a95542348d778f8",
       "style": "IPY_MODEL_62463a8c949e4261bc1a9eb6e05d340e",
       "value": "7"
      }
     },
     "f58ab3e248644d5fa752429a25620982": {
      "model_module": "@jupyter-widgets/base",
      "model_module_version": "1.2.0",
      "model_name": "LayoutModel",
      "state": {
       "width": "90px"
      }
     },
     "f599bfdaf108462bb589f1650b3b184f": {
      "model_module": "@jupyter-widgets/base",
      "model_module_version": "1.2.0",
      "model_name": "LayoutModel",
      "state": {}
     },
     "f5b73808be344a048b1e69097228586d": {
      "model_module": "@jupyter-widgets/controls",
      "model_module_version": "1.5.0",
      "model_name": "DescriptionStyleModel",
      "state": {
       "description_width": ""
      }
     },
     "f5ec38601bdb424e86fdfdb7dc1728ef": {
      "model_module": "@jupyter-widgets/base",
      "model_module_version": "1.2.0",
      "model_name": "LayoutModel",
      "state": {}
     },
     "f5fbe78df3b54169ba1b75b764cbb342": {
      "model_module": "@jupyter-widgets/controls",
      "model_module_version": "1.5.0",
      "model_name": "DescriptionStyleModel",
      "state": {
       "description_width": ""
      }
     },
     "f5fd07a008d6498dabe37fd510233c5f": {
      "model_module": "@jupyter-widgets/controls",
      "model_module_version": "1.5.0",
      "model_name": "DescriptionStyleModel",
      "state": {
       "description_width": ""
      }
     },
     "f6071ab021c34768bd2adfa860a320c7": {
      "model_module": "@jupyter-widgets/controls",
      "model_module_version": "1.5.0",
      "model_name": "BoxModel",
      "state": {
       "children": [
        "IPY_MODEL_b9977383381149bab6b0bf90c4ae0b95",
        "IPY_MODEL_7e5e930f04c147aa9bae7b68d0ed29a9",
        "IPY_MODEL_550caf5593ac4998b4c61c6b7b6d1878",
        "IPY_MODEL_c68b86dd5562422199463d9b1c621d61"
       ],
       "layout": "IPY_MODEL_5e9bf23ce17d44209b063bd3d0c689e4"
      }
     },
     "f616f17b85f443ceaaf08420fbb6fafd": {
      "model_module": "@jupyter-widgets/base",
      "model_module_version": "1.2.0",
      "model_name": "LayoutModel",
      "state": {
       "width": "90px"
      }
     },
     "f6614e67fb2f471b8322f0f125349cc7": {
      "model_module": "@jupyter-widgets/controls",
      "model_module_version": "1.5.0",
      "model_name": "DescriptionStyleModel",
      "state": {
       "description_width": ""
      }
     },
     "f66d21d8cba34e41b0debead8d73fbea": {
      "model_module": "@jupyter-widgets/base",
      "model_module_version": "1.2.0",
      "model_name": "LayoutModel",
      "state": {}
     },
     "f672c930fbb1405abd7774618075988e": {
      "model_module": "@jupyter-widgets/controls",
      "model_module_version": "1.5.0",
      "model_name": "TextModel",
      "state": {
       "layout": "IPY_MODEL_d743f8ba50f447a3ad2d5faaa6a0e9e2",
       "style": "IPY_MODEL_9ad40d767bd946dca55ed665b376fa37",
       "value": "2"
      }
     },
     "f6ae98d6d5f44b7391c4b2f8d67d9340": {
      "model_module": "@jupyter-widgets/controls",
      "model_module_version": "1.5.0",
      "model_name": "DescriptionStyleModel",
      "state": {
       "description_width": ""
      }
     },
     "f6b7b12288084af2bfde95df5410f94d": {
      "model_module": "@jupyter-widgets/base",
      "model_module_version": "1.2.0",
      "model_name": "LayoutModel",
      "state": {
       "width": "40px"
      }
     },
     "f6cc4a54a2384f729c84b50e1be768af": {
      "model_module": "@jupyter-widgets/base",
      "model_module_version": "1.2.0",
      "model_name": "LayoutModel",
      "state": {}
     },
     "f6d38eea29a34a468d669aee57d56a4a": {
      "model_module": "@jupyter-widgets/controls",
      "model_module_version": "1.5.0",
      "model_name": "DropdownModel",
      "state": {
       "_options_labels": [
        "1",
        "2",
        "3"
       ],
       "description": "Row",
       "index": 0,
       "layout": "IPY_MODEL_45e3f90f469547f6a42e4ba9151d2b5f",
       "style": "IPY_MODEL_6e08c9382fce40d092e6d5e0c371b7ca"
      }
     },
     "f71287e41b8d43418ec96663c5aabdcb": {
      "model_module": "@jupyter-widgets/controls",
      "model_module_version": "1.5.0",
      "model_name": "TextModel",
      "state": {
       "layout": "IPY_MODEL_97993fa24fac42e28605e8d366180168",
       "style": "IPY_MODEL_44075922e82845a7ad78617e2661993d",
       "value": "-6"
      }
     },
     "f716d79fea354c018b8acdfbadf8b2a0": {
      "model_module": "@jupyter-widgets/base",
      "model_module_version": "1.2.0",
      "model_name": "LayoutModel",
      "state": {
       "width": "100px"
      }
     },
     "f71734d8384b49ccb122bc9c8278b019": {
      "model_module": "@jupyter-widgets/controls",
      "model_module_version": "1.5.0",
      "model_name": "DescriptionStyleModel",
      "state": {
       "description_width": ""
      }
     },
     "f71ec22e621a4a38b3e9ccc942c9bc4a": {
      "model_module": "@jupyter-widgets/controls",
      "model_module_version": "1.5.0",
      "model_name": "TextModel",
      "state": {
       "layout": "IPY_MODEL_7a607c89a00143a7a0808c95689bf41a",
       "style": "IPY_MODEL_8b91dde451f9469ba32c7c9704d81d29",
       "value": "9"
      }
     },
     "f72c7adb21ae43db9613f6661669326b": {
      "model_module": "@jupyter-widgets/base",
      "model_module_version": "1.2.0",
      "model_name": "LayoutModel",
      "state": {
       "width": "150px"
      }
     },
     "f768bf630d6d4b4e9df315eb1bccd4ca": {
      "model_module": "@jupyter-widgets/controls",
      "model_module_version": "1.5.0",
      "model_name": "DescriptionStyleModel",
      "state": {
       "description_width": ""
      }
     },
     "f7777aa89f2548f2addc50807cdba06f": {
      "model_module": "@jupyter-widgets/controls",
      "model_module_version": "1.5.0",
      "model_name": "HTMLMathModel",
      "state": {
       "layout": "IPY_MODEL_2aba338cc9b64901a54259ebd2b7dedb",
       "style": "IPY_MODEL_401d76ed5c5047538d5c51f725ac606e",
       "value": "Enter here the values of the constant matrix $\\bf{B}$"
      }
     },
     "f77d1fb585694c3389c00f503e2fa0a3": {
      "model_module": "@jupyter-widgets/controls",
      "model_module_version": "1.5.0",
      "model_name": "DropdownModel",
      "state": {
       "_options_labels": [
        "1",
        "2",
        "3"
       ],
       "description": "Swap row",
       "index": 0,
       "layout": "IPY_MODEL_3e30ad1a3c3d40da952f47e393edb3bf",
       "style": "IPY_MODEL_61797528a6264a3083befe9fde875f97"
      }
     },
     "f78c7dcb212c4a87b6823c96e024b223": {
      "model_module": "@jupyter-widgets/base",
      "model_module_version": "1.2.0",
      "model_name": "LayoutModel",
      "state": {
       "width": "90px"
      }
     },
     "f7a7d56154224cff89b746806246c628": {
      "model_module": "@jupyter-widgets/base",
      "model_module_version": "1.2.0",
      "model_name": "LayoutModel",
      "state": {}
     },
     "f7ac967140d345f4abf41b80a6e16393": {
      "model_module": "@jupyter-widgets/controls",
      "model_module_version": "1.5.0",
      "model_name": "DescriptionStyleModel",
      "state": {
       "description_width": ""
      }
     },
     "f7b3943169a0462e98ee81a95205f93f": {
      "model_module": "@jupyter-widgets/controls",
      "model_module_version": "1.5.0",
      "model_name": "DescriptionStyleModel",
      "state": {
       "description_width": ""
      }
     },
     "f7b8143c54a84033b19278978ddfa7d0": {
      "model_module": "@jupyter-widgets/controls",
      "model_module_version": "1.5.0",
      "model_name": "HBoxModel",
      "state": {
       "children": [
        "IPY_MODEL_ea9c959b68fa46978f06c017677b9361",
        "IPY_MODEL_a08a9d8a40b947e7b2a97a75e62af6e6",
        "IPY_MODEL_fdccaa769d28417ea384e8b3bc73d130"
       ],
       "layout": "IPY_MODEL_04f179f159cd4390a1679b7cdfd63742"
      }
     },
     "f80e0fd83a5f4227babf1b8225fa4ab5": {
      "model_module": "@jupyter-widgets/base",
      "model_module_version": "1.2.0",
      "model_name": "LayoutModel",
      "state": {}
     },
     "f80f2684859c49cf99f4f5f07b214ddb": {
      "model_module": "@jupyter-widgets/controls",
      "model_module_version": "1.5.0",
      "model_name": "TextModel",
      "state": {
       "layout": "IPY_MODEL_d29f4c6323274c2ea715833a610068a5",
       "style": "IPY_MODEL_a5798b0c86cf4df298f1bf1f3f787f64",
       "value": "9"
      }
     },
     "f823ff325aed40fd85786b680418073e": {
      "model_module": "@jupyter-widgets/controls",
      "model_module_version": "1.5.0",
      "model_name": "HTMLMathModel",
      "state": {
       "layout": "IPY_MODEL_34d6b37c6eff4e54baeca93fb16388ba",
       "style": "IPY_MODEL_c18c537bfbad433098fff95f60f82f47",
       "value": "The augmented matrix will appear here."
      }
     },
     "f876ef45798542f4914ca266bc3b8f3c": {
      "model_module": "@jupyter-widgets/controls",
      "model_module_version": "1.5.0",
      "model_name": "DescriptionStyleModel",
      "state": {
       "description_width": ""
      }
     },
     "f8864d5f346f429496c2b1cb07bf5b2e": {
      "model_module": "@jupyter-widgets/controls",
      "model_module_version": "1.5.0",
      "model_name": "HTMLModel",
      "state": {
       "layout": "IPY_MODEL_d6c32aeabf1b4d68aee21dcb28d2abae",
       "style": "IPY_MODEL_937c7680fade4ba68d71bac5dfa2040c",
       "value": "Click the button below to start the calculator"
      }
     },
     "f889cd3076264fc6ac2d49038d7b96e7": {
      "model_module": "@jupyter-widgets/controls",
      "model_module_version": "1.5.0",
      "model_name": "DescriptionStyleModel",
      "state": {
       "description_width": ""
      }
     },
     "f88d21bd2fc54bdd892e55255cc40114": {
      "model_module": "@jupyter-widgets/controls",
      "model_module_version": "1.5.0",
      "model_name": "TextModel",
      "state": {
       "layout": "IPY_MODEL_d743f8ba50f447a3ad2d5faaa6a0e9e2",
       "style": "IPY_MODEL_5d1575e4a6934614a0ab83b0e1d4984d",
       "value": "-4"
      }
     },
     "f894ccd4e76e4fde8b8c85f85e117e82": {
      "model_module": "@jupyter-widgets/controls",
      "model_module_version": "1.5.0",
      "model_name": "DescriptionStyleModel",
      "state": {
       "description_width": ""
      }
     },
     "f895ea3132694a979c2d178a101b75ad": {
      "model_module": "@jupyter-widgets/controls",
      "model_module_version": "1.5.0",
      "model_name": "HBoxModel",
      "state": {
       "children": [
        "IPY_MODEL_6bac896b44fa446dbe2cc50dbf2ab508",
        "IPY_MODEL_59aaf93ad5e74f89a9d1684f22b39b30",
        "IPY_MODEL_1dc7a793c07d40ba97d56d1d8a26d346"
       ],
       "layout": "IPY_MODEL_e24ef0dda2e842deb500733821749d75"
      }
     },
     "f8aaf4ced7bc4bc0bdf082436460403e": {
      "model_module": "@jupyter-widgets/controls",
      "model_module_version": "1.5.0",
      "model_name": "HTMLMathModel",
      "state": {
       "layout": "IPY_MODEL_f01ae29b7d644da99ee63fcf34372431",
       "style": "IPY_MODEL_1fef745312564af7ac08083de461b9aa",
       "value": "Enter here the values of the matrix $A$"
      }
     },
     "f8c88373379443b5b138b676f4efd08e": {
      "model_module": "@jupyter-widgets/controls",
      "model_module_version": "1.5.0",
      "model_name": "DescriptionStyleModel",
      "state": {
       "description_width": ""
      }
     },
     "f90a04cf9aa141c2b2268effad885d92": {
      "model_module": "@jupyter-widgets/controls",
      "model_module_version": "1.5.0",
      "model_name": "DescriptionStyleModel",
      "state": {
       "description_width": ""
      }
     },
     "f9461472d714435aafd3487955c7b44e": {
      "model_module": "@jupyter-widgets/base",
      "model_module_version": "1.2.0",
      "model_name": "LayoutModel",
      "state": {
       "grid_template_columns": "repeat(1, 45px)"
      }
     },
     "f95ea6c6a2614feba56e2877f30f1353": {
      "model_module": "@jupyter-widgets/controls",
      "model_module_version": "1.5.0",
      "model_name": "DescriptionStyleModel",
      "state": {
       "description_width": ""
      }
     },
     "f95f898b6663456bb642cdaeb8d3cd91": {
      "model_module": "@jupyter-widgets/base",
      "model_module_version": "1.2.0",
      "model_name": "LayoutModel",
      "state": {}
     },
     "f97a52ce4d5442058e31ec16df69a65a": {
      "model_module": "@jupyter-widgets/controls",
      "model_module_version": "1.5.0",
      "model_name": "TextModel",
      "state": {
       "layout": "IPY_MODEL_776389df997545fcab086c0233cb0ab0",
       "style": "IPY_MODEL_36c3335ba7014120bc8951fc24905925",
       "value": "1"
      }
     },
     "f98a9a9016f34eec99b078d6c738146f": {
      "model_module": "@jupyter-widgets/base",
      "model_module_version": "1.2.0",
      "model_name": "LayoutModel",
      "state": {}
     },
     "f9aabeac974b4419abdd181e988d6564": {
      "model_module": "@jupyter-widgets/controls",
      "model_module_version": "1.5.0",
      "model_name": "TextModel",
      "state": {
       "layout": "IPY_MODEL_194d5881fb18447585798b14c51e301b",
       "style": "IPY_MODEL_6c2eac0f207445529430b606f6fa2def",
       "value": "1"
      }
     },
     "f9b9f8a4ca184dcc8be35e105579a364": {
      "model_module": "@jupyter-widgets/controls",
      "model_module_version": "1.5.0",
      "model_name": "TextModel",
      "state": {
       "layout": "IPY_MODEL_f9ebc65ea59246e1a7d2bcdb072b46e0",
       "style": "IPY_MODEL_031a25d7c45a4ad9b687ddde73f1b979",
       "value": "-2"
      }
     },
     "f9d6b70b6cf044e3a32555cfb438c052": {
      "model_module": "@jupyter-widgets/controls",
      "model_module_version": "1.5.0",
      "model_name": "DropdownModel",
      "state": {
       "_options_labels": [
        "1",
        "2",
        "3"
       ],
       "description": "Swap row",
       "index": 0,
       "layout": "IPY_MODEL_bfb0bf4b8aa649a4bcd61a69177be072",
       "style": "IPY_MODEL_a65799e2fe494873b3e5d0e34016613e"
      }
     },
     "f9ebc65ea59246e1a7d2bcdb072b46e0": {
      "model_module": "@jupyter-widgets/base",
      "model_module_version": "1.2.0",
      "model_name": "LayoutModel",
      "state": {
       "height": "35px",
       "width": "40px"
      }
     },
     "fa460f7171ea4e338379113aab0b4a67": {
      "model_module": "@jupyter-widgets/controls",
      "model_module_version": "1.5.0",
      "model_name": "DescriptionStyleModel",
      "state": {
       "description_width": ""
      }
     },
     "fa6ffe7609f44c86a845c42560697ecb": {
      "model_module": "@jupyter-widgets/base",
      "model_module_version": "1.2.0",
      "model_name": "LayoutModel",
      "state": {}
     },
     "fa7867ec3bc946f3bd12b9d039909894": {
      "model_module": "@jupyter-widgets/base",
      "model_module_version": "1.2.0",
      "model_name": "LayoutModel",
      "state": {
       "width": "90px"
      }
     },
     "fa89f94208934bf8a23da5bb0b209cd7": {
      "model_module": "@jupyter-widgets/controls",
      "model_module_version": "1.5.0",
      "model_name": "TextModel",
      "state": {
       "description": "times",
       "layout": "IPY_MODEL_941ed82dec964d609a564aabc630068b",
       "style": "IPY_MODEL_811070e317c04001b7c3176159eedb1a",
       "value": "1"
      }
     },
     "faf8d511d6da4abd99879cdb6e7d70a4": {
      "model_module": "@jupyter-widgets/controls",
      "model_module_version": "1.5.0",
      "model_name": "DescriptionStyleModel",
      "state": {
       "description_width": ""
      }
     },
     "fb4085a8a7c3490292ac4e12e6609697": {
      "model_module": "@jupyter-widgets/controls",
      "model_module_version": "1.5.0",
      "model_name": "ButtonStyleModel",
      "state": {}
     },
     "fb4cf6adf6dd4316b1b33ceefbf49c18": {
      "model_module": "@jupyter-widgets/controls",
      "model_module_version": "1.5.0",
      "model_name": "HTMLMathModel",
      "state": {
       "layout": "IPY_MODEL_6e3d12632e2e47a8aea7fda25d9a48c1",
       "style": "IPY_MODEL_35350c4302b14cb1976c54dfe3a486cf",
       "value": "Enter here the values of the matrix $A$"
      }
     },
     "fb61566b136845908d273e24721c279f": {
      "model_module": "@jupyter-widgets/controls",
      "model_module_version": "1.5.0",
      "model_name": "DescriptionStyleModel",
      "state": {
       "description_width": ""
      }
     },
     "fb6b64ad8dac4819b7b996f2752a4970": {
      "model_module": "@jupyter-widgets/base",
      "model_module_version": "1.2.0",
      "model_name": "LayoutModel",
      "state": {
       "width": "100px"
      }
     },
     "fb86646e578245d2b6241e1679a44e04": {
      "model_module": "@jupyter-widgets/controls",
      "model_module_version": "1.5.0",
      "model_name": "TextModel",
      "state": {
       "layout": "IPY_MODEL_bbd5dabd53c049fca9a7f5878437cad9",
       "style": "IPY_MODEL_2e78165978314fe487c8258b2a617921",
       "value": "0"
      }
     },
     "fb87d43024cf4c419c84494bc8b85274": {
      "model_module": "@jupyter-widgets/controls",
      "model_module_version": "1.5.0",
      "model_name": "VBoxModel",
      "state": {
       "children": [
        "IPY_MODEL_556b9ac4710749dda073434a2562b4df",
        "IPY_MODEL_3fcedba7054b4f00aa95b24f4459252a"
       ],
       "layout": "IPY_MODEL_0e6cf7f51fe6496a9cf10cc476805197"
      }
     },
     "fb9a8823347d4aecb7dac7ce200bbb85": {
      "model_module": "@jupyter-widgets/controls",
      "model_module_version": "1.5.0",
      "model_name": "HBoxModel",
      "state": {
       "children": [
        "IPY_MODEL_7bc22f2759354225979a8f13978f200c",
        "IPY_MODEL_02abb2b51ddf4f7bb245ca3c0ed34380",
        "IPY_MODEL_3f22e8f1a1214e1e8856946dae2c8c53"
       ],
       "layout": "IPY_MODEL_749f6875a42d43818eacf729788cd425"
      }
     },
     "fbd22b4091d04606945ea5393c257bbc": {
      "model_module": "@jupyter-widgets/base",
      "model_module_version": "1.2.0",
      "model_name": "LayoutModel",
      "state": {
       "width": "150px"
      }
     },
     "fbffa1de21c74f889a89f4e50e6c573c": {
      "model_module": "@jupyter-widgets/controls",
      "model_module_version": "1.5.0",
      "model_name": "VBoxModel",
      "state": {
       "children": [
        "IPY_MODEL_adf6c1a11f454f5e90b1d960065279bd",
        "IPY_MODEL_53b4c44145ba49d8946b33f4a0ce0b89"
       ],
       "layout": "IPY_MODEL_7ef336cd35c845dab6ce7c87eaaa1c24"
      }
     },
     "fc071ac813e3426581b808b4ae45c247": {
      "model_module": "@jupyter-widgets/controls",
      "model_module_version": "1.5.0",
      "model_name": "DescriptionStyleModel",
      "state": {
       "description_width": ""
      }
     },
     "fc2e8b14472a49538b44e494859dde65": {
      "model_module": "@jupyter-widgets/base",
      "model_module_version": "1.2.0",
      "model_name": "LayoutModel",
      "state": {
       "justify_content": "center"
      }
     },
     "fc53b7dbd4a34d77836ff269c10f5f6b": {
      "model_module": "@jupyter-widgets/controls",
      "model_module_version": "1.5.0",
      "model_name": "TextModel",
      "state": {
       "description": "times",
       "layout": "IPY_MODEL_64dd000f36ad4246a69cfc6bd2eff2a8",
       "style": "IPY_MODEL_71963e313bbe4e8f820a65c9b2b6560a",
       "value": "1"
      }
     },
     "fc71c956adf0406e9e9a1a195b1a173b": {
      "model_module": "@jupyter-widgets/base",
      "model_module_version": "1.2.0",
      "model_name": "LayoutModel",
      "state": {
       "width": "150px"
      }
     },
     "fc8138c1f7a44e6b8a907d0f7f1a0bd5": {
      "model_module": "@jupyter-widgets/controls",
      "model_module_version": "1.5.0",
      "model_name": "VBoxModel",
      "state": {
       "children": [
        "IPY_MODEL_f8864d5f346f429496c2b1cb07bf5b2e",
        "IPY_MODEL_cb2178d5d9b44ee2ab906d0c2d51d309"
       ],
       "layout": "IPY_MODEL_281efdd502c74ca8a2e8d12af8d95a38"
      }
     },
     "fc838a3673c54ee1a5818ec92a34b307": {
      "model_module": "@jupyter-widgets/controls",
      "model_module_version": "1.5.0",
      "model_name": "DescriptionStyleModel",
      "state": {
       "description_width": ""
      }
     },
     "fc8c15267a7142c3beb0ef5761079855": {
      "model_module": "@jupyter-widgets/base",
      "model_module_version": "1.2.0",
      "model_name": "LayoutModel",
      "state": {}
     },
     "fc9277aad2a94993aeb3b24a1b30dd70": {
      "model_module": "@jupyter-widgets/controls",
      "model_module_version": "1.5.0",
      "model_name": "HBoxModel",
      "state": {
       "children": [
        "IPY_MODEL_136433dc00f242c48ca727dcf2a88b93",
        "IPY_MODEL_c7cec6fce78944fc8fb51dffe0a50fe4",
        "IPY_MODEL_e8c4ce31d136447191e29fab50924497"
       ],
       "layout": "IPY_MODEL_69f96826782144a587c54c0c600d2c89"
      }
     },
     "fca1f378f9894c4fa96f469513e2d98a": {
      "model_module": "@jupyter-widgets/controls",
      "model_module_version": "1.5.0",
      "model_name": "DropdownModel",
      "state": {
       "_options_labels": [
        "1",
        "2",
        "3"
       ],
       "description": "Add row",
       "index": 1,
       "layout": "IPY_MODEL_c1cd9410e22a4625bdac3b683190b156",
       "style": "IPY_MODEL_702fa46304c24628869bf2ae24697e6e"
      }
     },
     "fcd0effc71594e75812f11150dd9043f": {
      "model_module": "@jupyter-widgets/controls",
      "model_module_version": "1.5.0",
      "model_name": "HTMLModel",
      "state": {
       "layout": "IPY_MODEL_580597e7aa9344b0a1de196dd77cefe1",
       "style": "IPY_MODEL_cbbfc98cdc3b4062a35457cf301e1927",
       "value": "Click the button below to start the calculator"
      }
     },
     "fce12b3391ca4296ae41d042086125ab": {
      "model_module": "@jupyter-widgets/base",
      "model_module_version": "1.2.0",
      "model_name": "LayoutModel",
      "state": {
       "width": "150px"
      }
     },
     "fce1fc3730bc4284a7cc410c1fc844cf": {
      "model_module": "@jupyter-widgets/controls",
      "model_module_version": "1.5.0",
      "model_name": "VBoxModel",
      "state": {
       "children": [
        "IPY_MODEL_6fa29062b24b4688bbee8bada14ecafc",
        "IPY_MODEL_d1e7ec8693a64eaa8038088ca413232f"
       ],
       "layout": "IPY_MODEL_a4aeb0065bfe45f8af8114d363222be2"
      }
     },
     "fcf60882fc0d49298f9b9ab685e18cfb": {
      "model_module": "@jupyter-widgets/base",
      "model_module_version": "1.2.0",
      "model_name": "LayoutModel",
      "state": {}
     },
     "fd062927d4e64720a93e17e638bc51e8": {
      "model_module": "@jupyter-widgets/controls",
      "model_module_version": "1.5.0",
      "model_name": "TextModel",
      "state": {
       "layout": "IPY_MODEL_4bcd3a11811347d3979a9396c2e71cd4",
       "style": "IPY_MODEL_c8d35454bab74a0fa8b636796c5266f2",
       "value": "-6"
      }
     },
     "fd194d982bfa4c81912215d884faef58": {
      "model_module": "@jupyter-widgets/base",
      "model_module_version": "1.2.0",
      "model_name": "LayoutModel",
      "state": {}
     },
     "fd23300aee924fad8ea0efd4f67b34c5": {
      "model_module": "@jupyter-widgets/controls",
      "model_module_version": "1.5.0",
      "model_name": "TextModel",
      "state": {
       "description": "times",
       "layout": "IPY_MODEL_50f25f1155f94d4d800b3e62163e8b76",
       "style": "IPY_MODEL_a1af9f30b17e4c43826da4cb47bdab74",
       "value": "1"
      }
     },
     "fd4b3e29c1fa4a8e8f7fb5a849022c0f": {
      "model_module": "@jupyter-widgets/controls",
      "model_module_version": "1.5.0",
      "model_name": "ButtonStyleModel",
      "state": {}
     },
     "fd82ba79a1d142339335725816ab2910": {
      "model_module": "@jupyter-widgets/base",
      "model_module_version": "1.2.0",
      "model_name": "LayoutModel",
      "state": {}
     },
     "fd9dc18e3e534d57a3a5c1683fb6adbc": {
      "model_module": "@jupyter-widgets/controls",
      "model_module_version": "1.5.0",
      "model_name": "HBoxModel",
      "state": {
       "children": [
        "IPY_MODEL_248aa46aa6924a879e705dd7291bb893",
        "IPY_MODEL_92a6543388b649baa3eb9e0a5b23b206"
       ],
       "layout": "IPY_MODEL_83aecc892a5a496f95b0b6402dcb61df"
      }
     },
     "fda7ac6e0efd43e3a01dcb24dda71e46": {
      "model_module": "@jupyter-widgets/controls",
      "model_module_version": "1.5.0",
      "model_name": "HBoxModel",
      "state": {
       "children": [
        "IPY_MODEL_c72b7309c7974dfebbd08ccd8dab80b0",
        "IPY_MODEL_730489c14e4e4555afdf6dfcd79389e8",
        "IPY_MODEL_f4ab5f9a45f44824af0c80fa8604e619"
       ],
       "layout": "IPY_MODEL_51db859a846d4bdea6e95da5919da6dd"
      }
     },
     "fdace73915244554b6291e49f09ec7f4": {
      "model_module": "@jupyter-widgets/controls",
      "model_module_version": "1.5.0",
      "model_name": "DescriptionStyleModel",
      "state": {
       "description_width": ""
      }
     },
     "fdbaef6e96274830b8505ca4383f5224": {
      "model_module": "@jupyter-widgets/controls",
      "model_module_version": "1.5.0",
      "model_name": "HBoxModel",
      "state": {
       "children": [
        "IPY_MODEL_69f1d92c76194409b605d61578acc0f4",
        "IPY_MODEL_4b4b11dbbd1d4679abcd824f39f84d78"
       ],
       "layout": "IPY_MODEL_2606432d4b3744eba13f63c81f6e8436"
      }
     },
     "fdc837dd94354c84be9339b023e36dce": {
      "model_module": "@jupyter-widgets/controls",
      "model_module_version": "1.5.0",
      "model_name": "DescriptionStyleModel",
      "state": {
       "description_width": ""
      }
     },
     "fdccaa769d28417ea384e8b3bc73d130": {
      "model_module": "@jupyter-widgets/controls",
      "model_module_version": "1.5.0",
      "model_name": "TextModel",
      "state": {
       "layout": "IPY_MODEL_d743f8ba50f447a3ad2d5faaa6a0e9e2",
       "style": "IPY_MODEL_6ee17cb2215e4a51b4ff1a9e949bd107",
       "value": "1"
      }
     },
     "fdd2bf30fedd47c9843283aeeea24ba9": {
      "model_module": "@jupyter-widgets/controls",
      "model_module_version": "1.5.0",
      "model_name": "DescriptionStyleModel",
      "state": {
       "description_width": ""
      }
     },
     "fdd9a13217c84e56af4da7e5d815beb4": {
      "model_module": "@jupyter-widgets/controls",
      "model_module_version": "1.5.0",
      "model_name": "DescriptionStyleModel",
      "state": {
       "description_width": ""
      }
     },
     "fe1eacb80c524d05bd3206c88634d7e2": {
      "model_module": "@jupyter-widgets/controls",
      "model_module_version": "1.5.0",
      "model_name": "DescriptionStyleModel",
      "state": {
       "description_width": ""
      }
     },
     "fe3ee882a8d44a108ed4c0ea39629415": {
      "model_module": "@jupyter-widgets/base",
      "model_module_version": "1.2.0",
      "model_name": "LayoutModel",
      "state": {
       "flex_flow": "row wrap",
       "justify_content": "space-around"
      }
     },
     "fe628084846c43ebac6b00cb47fcdcdf": {
      "model_module": "@jupyter-widgets/controls",
      "model_module_version": "1.5.0",
      "model_name": "HTMLMathModel",
      "state": {
       "layout": "IPY_MODEL_92b55001dd354012abb5d9a62b16fdb3",
       "style": "IPY_MODEL_129c6d7cd1c341ab93fd59634722d890",
       "value": "Enter here the values of the matrix $A$"
      }
     },
     "fe646dd549584b21b2a484f30b31e833": {
      "model_module": "@jupyter-widgets/base",
      "model_module_version": "1.2.0",
      "model_name": "LayoutModel",
      "state": {
       "width": "150px"
      }
     },
     "feab542d68594cea9011ae7b078caae9": {
      "model_module": "@jupyter-widgets/base",
      "model_module_version": "1.2.0",
      "model_name": "LayoutModel",
      "state": {}
     },
     "feabf1f5f53347e59dceab28d105d12f": {
      "model_module": "@jupyter-widgets/controls",
      "model_module_version": "1.5.0",
      "model_name": "ButtonStyleModel",
      "state": {}
     },
     "fec747be70df4a558b3088f2dcf3c1f7": {
      "model_module": "@jupyter-widgets/controls",
      "model_module_version": "1.5.0",
      "model_name": "TextModel",
      "state": {
       "layout": "IPY_MODEL_ff8f131091ed4bf49b858ed52bc5b3ea",
       "style": "IPY_MODEL_15d7c0a375b44586b4132ddc54104639",
       "value": "7"
      }
     },
     "ff0ae4c98157472997cc8f44af9833df": {
      "model_module": "@jupyter-widgets/base",
      "model_module_version": "1.2.0",
      "model_name": "LayoutModel",
      "state": {
       "width": "40px"
      }
     },
     "ff360d15a6a34f19a4b89cba53c1c796": {
      "model_module": "@jupyter-widgets/controls",
      "model_module_version": "1.5.0",
      "model_name": "TextModel",
      "state": {
       "layout": "IPY_MODEL_c488e0656e78457c941ce778fefda70e",
       "style": "IPY_MODEL_a23bd46e74a1476c8a7b0c2506c1020c",
       "value": "2"
      }
     },
     "ff36274868d4421c849d869f57fbc891": {
      "model_module": "@jupyter-widgets/base",
      "model_module_version": "1.2.0",
      "model_name": "LayoutModel",
      "state": {}
     },
     "ff52d6e0556d481e9325e5ff6b9f0973": {
      "model_module": "@jupyter-widgets/controls",
      "model_module_version": "1.5.0",
      "model_name": "TextModel",
      "state": {
       "layout": "IPY_MODEL_342fbdc31d2d406489b24d1349c22e03",
       "style": "IPY_MODEL_0b51104c1e9f4719b5061bea145fdfaa",
       "value": "-6"
      }
     },
     "ff8c910b2ced41dc92b40fa0b1cd83f1": {
      "model_module": "@jupyter-widgets/controls",
      "model_module_version": "1.5.0",
      "model_name": "HTMLMathModel",
      "state": {
       "layout": "IPY_MODEL_0f73d60c72fa4763a786e53528d3506d",
       "style": "IPY_MODEL_65fd8c1312da405981fdc57d1f69c603",
       "value": "The augmented matrix will appear here."
      }
     },
     "ff8f131091ed4bf49b858ed52bc5b3ea": {
      "model_module": "@jupyter-widgets/base",
      "model_module_version": "1.2.0",
      "model_name": "LayoutModel",
      "state": {
       "height": "35px",
       "width": "30px"
      }
     },
     "ff950e31222a4f1ab614294935274c32": {
      "model_module": "@jupyter-widgets/controls",
      "model_module_version": "1.5.0",
      "model_name": "VBoxModel",
      "state": {
       "children": [
        "IPY_MODEL_3ba64c148baa4c0880128ea6c9d462a7",
        "IPY_MODEL_9568f6d8e9624adaa6c2161c819c22b1",
        "IPY_MODEL_5a507ec33302402296f53fe711dc414a"
       ],
       "layout": "IPY_MODEL_88a669d6a24d4ccc8077ca677805791d"
      }
     },
     "ffab03d87d05495b92a79147ec420936": {
      "model_module": "@jupyter-widgets/controls",
      "model_module_version": "1.5.0",
      "model_name": "HTMLModel",
      "state": {
       "layout": "IPY_MODEL_16eaf48503304fc5a756b0fb1c5803f3",
       "style": "IPY_MODEL_acf924170cd4476d95bd450b3f84687c",
       "value": "Click the button below to start the calculator"
      }
     }
    },
    "version_major": 2,
    "version_minor": 0
   }
  }
 },
 "nbformat": 4,
 "nbformat_minor": 4
}
