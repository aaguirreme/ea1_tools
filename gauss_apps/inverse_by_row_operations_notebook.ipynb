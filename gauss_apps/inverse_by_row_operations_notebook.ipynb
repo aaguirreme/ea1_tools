{
 "cells": [
  {
   "cell_type": "markdown",
   "metadata": {},
   "source": [
    "# Inverse by row operations calculator"
   ]
  },
  {
   "cell_type": "markdown",
   "metadata": {},
   "source": [
    "## Instructions"
   ]
  },
  {
   "cell_type": "markdown",
   "metadata": {},
   "source": [
    "To use this interactive notebook\n",
    "1. Click on the Kernel menu.\n",
    "2. Select the option \"Restart & Run All\".\n",
    "3. On the popup dialog, Click on the red button that says \"Restart and Run All Cells\"."
   ]
  },
  {
   "cell_type": "markdown",
   "metadata": {},
   "source": [
    "## Configuration"
   ]
  },
  {
   "cell_type": "markdown",
   "metadata": {},
   "source": [
    "The following lines contain configuration commands and libraries. Please do not modify."
   ]
  },
  {
   "cell_type": "code",
   "execution_count": 1,
   "metadata": {},
   "outputs": [],
   "source": [
    "%reset -s -f"
   ]
  },
  {
   "cell_type": "code",
   "execution_count": 2,
   "metadata": {},
   "outputs": [],
   "source": [
    "import sys\n",
    "sys.path.append('libraries')"
   ]
  },
  {
   "cell_type": "code",
   "execution_count": 3,
   "metadata": {},
   "outputs": [],
   "source": [
    "from inverse_app import run_app"
   ]
  },
  {
   "cell_type": "markdown",
   "metadata": {},
   "source": [
    "## Interactive app"
   ]
  },
  {
   "cell_type": "code",
   "execution_count": 4,
   "metadata": {},
   "outputs": [
    {
     "data": {
      "application/vnd.jupyter.widget-view+json": {
       "model_id": "97cf9053f74b431fa84db6ccc1c79804",
       "version_major": 2,
       "version_minor": 0
      },
      "text/plain": [
       "Box(children=(HBox(children=(HTMLMath(value='Enter here the values of matrix $\\\\bf{A}$', layout=Layout(width='…"
      ]
     },
     "metadata": {},
     "output_type": "display_data"
    },
    {
     "data": {
      "application/vnd.jupyter.widget-view+json": {
       "model_id": "e77f45cea6ac45929e43291a144eaaf0",
       "version_major": 2,
       "version_minor": 0
      },
      "text/plain": [
       "Box(children=(VBox(children=(Dropdown(description='Swap row', layout=Layout(width='150px'), options=('1', '2',…"
      ]
     },
     "metadata": {},
     "output_type": "display_data"
    },
    {
     "data": {
      "application/vnd.jupyter.widget-view+json": {
       "model_id": "af8ad6274d92412d913ee11dfcc986b6",
       "version_major": 2,
       "version_minor": 0
      },
      "text/plain": [
       "Box(children=(Button(description='Check inverse', style=ButtonStyle()),), layout=Layout(align_items='center', …"
      ]
     },
     "metadata": {},
     "output_type": "display_data"
    },
    {
     "data": {
      "application/vnd.jupyter.widget-view+json": {
       "model_id": "0d8a316f35024a96ba8d3395667508a5",
       "version_major": 2,
       "version_minor": 0
      },
      "text/plain": [
       "HTMLMath(value='Results will be shown here.', layout=Layout(height='300px', justify_content='center'))"
      ]
     },
     "metadata": {},
     "output_type": "display_data"
    }
   ],
   "source": [
    "run_app()"
   ]
  }
 ],
 "metadata": {
  "kernelspec": {
   "display_name": "Python 3",
   "language": "python",
   "name": "python3"
  },
  "language_info": {
   "codemirror_mode": {
    "name": "ipython",
    "version": 3
   },
   "file_extension": ".py",
   "mimetype": "text/x-python",
   "name": "python",
   "nbconvert_exporter": "python",
   "pygments_lexer": "ipython3",
   "version": "3.7.7"
  },
  "widgets": {
   "application/vnd.jupyter.widget-state+json": {
    "state": {
     "0007e9edcf9c4962b82849626b3d8d2c": {
      "model_module": "@jupyter-widgets/controls",
      "model_module_version": "1.5.0",
      "model_name": "HBoxModel",
      "state": {
       "children": [
        "IPY_MODEL_e65005353bf1418db6601012dc6b9af8",
        "IPY_MODEL_c3015bcbfc53442d896452040b5beb5e"
       ],
       "layout": "IPY_MODEL_0d1f13b839914f6a99cf34216894a3b9"
      }
     },
     "000a2ec94ba04602b62498979a33ebab": {
      "model_module": "@jupyter-widgets/controls",
      "model_module_version": "1.5.0",
      "model_name": "TextModel",
      "state": {
       "layout": "IPY_MODEL_fc4b7699475642ecb4c02ebf24f1e6a2",
       "style": "IPY_MODEL_465befe8f55740f8a5f6319f40d5e4f7",
       "value": "1"
      }
     },
     "00163c3bd6e3456992c71da0d3a83a01": {
      "model_module": "@jupyter-widgets/base",
      "model_module_version": "1.2.0",
      "model_name": "LayoutModel",
      "state": {}
     },
     "00377420b05c4f988f0c534a2323b1fd": {
      "model_module": "@jupyter-widgets/controls",
      "model_module_version": "1.5.0",
      "model_name": "ButtonModel",
      "state": {
       "description": "Swap rows",
       "layout": "IPY_MODEL_c9eb3a3c76f548a486e32a8ae2ff017e",
       "style": "IPY_MODEL_4af9411f4ebf480b8dd7073e122c7210"
      }
     },
     "00424815f6b2428cab327bc7c100b344": {
      "model_module": "@jupyter-widgets/controls",
      "model_module_version": "1.5.0",
      "model_name": "DescriptionStyleModel",
      "state": {
       "description_width": ""
      }
     },
     "004b1baa5d3942eea0dd3565eb274d0c": {
      "model_module": "@jupyter-widgets/controls",
      "model_module_version": "1.5.0",
      "model_name": "TextModel",
      "state": {
       "layout": "IPY_MODEL_8642f3d57e224dca89f44c73206facdc",
       "style": "IPY_MODEL_fc3599a94bee444f915e379dbf36b706",
       "value": "1"
      }
     },
     "006ac3f4088f4baaae2eeca3ac6b9ce7": {
      "model_module": "@jupyter-widgets/base",
      "model_module_version": "1.2.0",
      "model_name": "LayoutModel",
      "state": {
       "width": "150px"
      }
     },
     "00774dfed7d942f5a0b57b04252600cb": {
      "model_module": "@jupyter-widgets/controls",
      "model_module_version": "1.5.0",
      "model_name": "DropdownModel",
      "state": {
       "_options_labels": [
        "1",
        "2",
        "3"
       ],
       "description": "to row",
       "index": 1,
       "layout": "IPY_MODEL_95264c7a366c4cff892ab4b1e7f7db42",
       "style": "IPY_MODEL_e435fd7f1d454b9b98b4eeeb3fc7ce41"
      }
     },
     "008533c8e6514a46b4a5d0d32abdb081": {
      "model_module": "@jupyter-widgets/controls",
      "model_module_version": "1.5.0",
      "model_name": "TextModel",
      "state": {
       "layout": "IPY_MODEL_065f08ede0b647238ec761aa592646c7",
       "style": "IPY_MODEL_50e52a33327146348c5fab7b8e93d09a",
       "value": "2"
      }
     },
     "00a3a2565177462ba1f0f63dac15821c": {
      "model_module": "@jupyter-widgets/controls",
      "model_module_version": "1.5.0",
      "model_name": "DescriptionStyleModel",
      "state": {
       "description_width": ""
      }
     },
     "00b49682c323495090ab5aefc3e9969e": {
      "model_module": "@jupyter-widgets/controls",
      "model_module_version": "1.5.0",
      "model_name": "DescriptionStyleModel",
      "state": {
       "description_width": ""
      }
     },
     "00b623b2e55e485fba8af54f3e08e1dd": {
      "model_module": "@jupyter-widgets/controls",
      "model_module_version": "1.5.0",
      "model_name": "HBoxModel",
      "state": {
       "children": [
        "IPY_MODEL_7f30dec383c9460eac44556116156ea1",
        "IPY_MODEL_43d45095b3bb480787d374cb0e79e0c5"
       ],
       "layout": "IPY_MODEL_878a2fe2fb944fd4bd655d8a112ce0f2"
      }
     },
     "00bad89f10f84261b66ba902ec6dc01d": {
      "model_module": "@jupyter-widgets/base",
      "model_module_version": "1.2.0",
      "model_name": "LayoutModel",
      "state": {}
     },
     "00eb8c2b2bcd4266ae00682af1b48ec4": {
      "model_module": "@jupyter-widgets/base",
      "model_module_version": "1.2.0",
      "model_name": "LayoutModel",
      "state": {}
     },
     "01000d891f1f42cab6758a3713122e99": {
      "model_module": "@jupyter-widgets/controls",
      "model_module_version": "1.5.0",
      "model_name": "HTMLMathModel",
      "state": {
       "layout": "IPY_MODEL_56d72c9b3bfa46ada38df1859311fb05",
       "style": "IPY_MODEL_fc81dd8f413b4199978ac70ca1af47f8",
       "value": "The augmented matrix $(\\bf{A}|\\bf{I})$ will appear here."
      }
     },
     "010d4e71670e454f8ccb68d6704e79f5": {
      "model_module": "@jupyter-widgets/controls",
      "model_module_version": "1.5.0",
      "model_name": "DescriptionStyleModel",
      "state": {
       "description_width": ""
      }
     },
     "011f364d4a8541c5bb3be68059e59ea9": {
      "model_module": "@jupyter-widgets/controls",
      "model_module_version": "1.5.0",
      "model_name": "ButtonStyleModel",
      "state": {}
     },
     "0122836ea33f478598c57447d3899e3b": {
      "model_module": "@jupyter-widgets/controls",
      "model_module_version": "1.5.0",
      "model_name": "DropdownModel",
      "state": {
       "_options_labels": [
        "1",
        "2",
        "3"
       ],
       "description": "Row",
       "index": 0,
       "layout": "IPY_MODEL_43947a523658464b80499e76a9cc12c7",
       "style": "IPY_MODEL_9b4b64c9b0be438aa4886a6514a55fa6"
      }
     },
     "013a3f173d2b412c8b9718c70730d431": {
      "model_module": "@jupyter-widgets/controls",
      "model_module_version": "1.5.0",
      "model_name": "ButtonStyleModel",
      "state": {}
     },
     "0173a63402124ad5a2984043b0c71cfd": {
      "model_module": "@jupyter-widgets/controls",
      "model_module_version": "1.5.0",
      "model_name": "TextModel",
      "state": {
       "layout": "IPY_MODEL_8642f3d57e224dca89f44c73206facdc",
       "style": "IPY_MODEL_b6b60cbc42eb4f28a2b472a8894c41de",
       "value": "1"
      }
     },
     "01741f2f65e54a6e996c9f63eebb3a4a": {
      "model_module": "@jupyter-widgets/controls",
      "model_module_version": "1.5.0",
      "model_name": "DescriptionStyleModel",
      "state": {
       "description_width": ""
      }
     },
     "017cf17c585148b18d0df195df307086": {
      "model_module": "@jupyter-widgets/controls",
      "model_module_version": "1.5.0",
      "model_name": "HTMLModel",
      "state": {
       "layout": "IPY_MODEL_9c2115dcd23149b4b1539d130af7e9b0",
       "style": "IPY_MODEL_b773511b817b4faa8d10821a2846f86f",
       "value": "Click the button below to start the calculator"
      }
     },
     "018a1ddc20b4430a81ea8333f199734f": {
      "model_module": "@jupyter-widgets/controls",
      "model_module_version": "1.5.0",
      "model_name": "DescriptionStyleModel",
      "state": {
       "description_width": ""
      }
     },
     "019741eae2b04e70b2515ba7cefce9a3": {
      "model_module": "@jupyter-widgets/controls",
      "model_module_version": "1.5.0",
      "model_name": "TextModel",
      "state": {
       "layout": "IPY_MODEL_d19375b63f4b4e069ae82d3822ecfbd2",
       "style": "IPY_MODEL_d852a8e617e34f50b89f6a7fa6161c01",
       "value": "1"
      }
     },
     "01f60b50456842338d9bd70edcfefa39": {
      "model_module": "@jupyter-widgets/base",
      "model_module_version": "1.2.0",
      "model_name": "LayoutModel",
      "state": {}
     },
     "0219e58f76b24b04a0f83fd0a3244a98": {
      "model_module": "@jupyter-widgets/controls",
      "model_module_version": "1.5.0",
      "model_name": "ButtonStyleModel",
      "state": {}
     },
     "022ab57b395d41cfa17e02b5ccf1ca8a": {
      "model_module": "@jupyter-widgets/controls",
      "model_module_version": "1.5.0",
      "model_name": "TextModel",
      "state": {
       "layout": "IPY_MODEL_a6b672bf88094d8fa8327c74293c6a55",
       "style": "IPY_MODEL_29656c331b434cb9a44a81e17fd9d846",
       "value": "-1"
      }
     },
     "023814058e0f4917ab7cbe8659e2a382": {
      "model_module": "@jupyter-widgets/controls",
      "model_module_version": "1.5.0",
      "model_name": "TextModel",
      "state": {
       "layout": "IPY_MODEL_d19375b63f4b4e069ae82d3822ecfbd2",
       "style": "IPY_MODEL_1cef6f3e112e414f85d4779dee8b76a4",
       "value": "-1"
      }
     },
     "02471de07c2349929fc80653ca623e0d": {
      "model_module": "@jupyter-widgets/base",
      "model_module_version": "1.2.0",
      "model_name": "LayoutModel",
      "state": {}
     },
     "0261727a0a2e41e583fb6712a55d8f5e": {
      "model_module": "@jupyter-widgets/controls",
      "model_module_version": "1.5.0",
      "model_name": "DescriptionStyleModel",
      "state": {
       "description_width": ""
      }
     },
     "0263dce4ceb14189871912f61ef6edf1": {
      "model_module": "@jupyter-widgets/controls",
      "model_module_version": "1.5.0",
      "model_name": "VBoxModel",
      "state": {
       "children": [
        "IPY_MODEL_9f21f1a63ede41b28972cfe2f69440b0",
        "IPY_MODEL_de71cb52555b4d57867cea8ff3497484"
       ],
       "layout": "IPY_MODEL_7780c1ca610245ca9c7396ecd964c22b"
      }
     },
     "0283e9bf09c24fa487832a3b4afd72ed": {
      "model_module": "@jupyter-widgets/controls",
      "model_module_version": "1.5.0",
      "model_name": "DescriptionStyleModel",
      "state": {
       "description_width": ""
      }
     },
     "0288734af88e4b0bb76afc602227642e": {
      "model_module": "@jupyter-widgets/controls",
      "model_module_version": "1.5.0",
      "model_name": "TextModel",
      "state": {
       "layout": "IPY_MODEL_1ceaf9c9ac774ae985cae0c34af76539",
       "style": "IPY_MODEL_96e694cf6c574adeb0604bd1b34eb473",
       "value": "7"
      }
     },
     "02918147d93c4a498574ec9ca08427b7": {
      "model_module": "@jupyter-widgets/controls",
      "model_module_version": "1.5.0",
      "model_name": "VBoxModel",
      "state": {
       "children": [
        "IPY_MODEL_470ac3a13d2c4ecf87b707643a7aefdd",
        "IPY_MODEL_6f73f61d7ee94767b9144f8de012ffbf",
        "IPY_MODEL_fda7ac6e0efd43e3a01dcb24dda71e46"
       ],
       "layout": "IPY_MODEL_62a520007c9f4e4ea9170b2f0101dc72"
      }
     },
     "02ab505bdb774066b289b53d7f5cc40c": {
      "model_module": "@jupyter-widgets/controls",
      "model_module_version": "1.5.0",
      "model_name": "TextModel",
      "state": {
       "layout": "IPY_MODEL_109f6d462a004bdd9a95542348d778f8",
       "style": "IPY_MODEL_ac86d81545b64d17a98d72f3df6e61a7",
       "value": "2"
      }
     },
     "02abb2b51ddf4f7bb245ca3c0ed34380": {
      "model_module": "@jupyter-widgets/controls",
      "model_module_version": "1.5.0",
      "model_name": "TextModel",
      "state": {
       "layout": "IPY_MODEL_9f4d9e00ae3e470a8d024478444df27d",
       "style": "IPY_MODEL_8128addc87474a52b7302af4a9dd1a21",
       "value": "2"
      }
     },
     "02ca0318f8d64e50860060fb40564cdc": {
      "model_module": "@jupyter-widgets/base",
      "model_module_version": "1.2.0",
      "model_name": "LayoutModel",
      "state": {
       "width": "120px"
      }
     },
     "02d02a3a41104a4cb1ce19dd6231e7b0": {
      "model_module": "@jupyter-widgets/controls",
      "model_module_version": "1.5.0",
      "model_name": "TextModel",
      "state": {
       "layout": "IPY_MODEL_35e7cd5dc3a344c7867ddf08fc7e1130",
       "style": "IPY_MODEL_eeef97788e59480e8ae35444b0d4f51f",
       "value": "-1"
      }
     },
     "02db26faaef947598fd45c3acee38d42": {
      "model_module": "@jupyter-widgets/controls",
      "model_module_version": "1.5.0",
      "model_name": "HBoxModel",
      "state": {
       "children": [
        "IPY_MODEL_c7e52100ef4b4b189e7a3aa4fd0a1259",
        "IPY_MODEL_87cce66433bf4718820155bb1c666e8e"
       ],
       "layout": "IPY_MODEL_b5dd18cb86dc463d9d5ce3758697ea7a"
      }
     },
     "033ecd4bb38a4902bda3512b72f95f40": {
      "model_module": "@jupyter-widgets/base",
      "model_module_version": "1.2.0",
      "model_name": "LayoutModel",
      "state": {}
     },
     "0360a59724284d16ab0033f9c2a97d5d": {
      "model_module": "@jupyter-widgets/base",
      "model_module_version": "1.2.0",
      "model_name": "LayoutModel",
      "state": {
       "height": "35px",
       "width": "40px"
      }
     },
     "0373ebbff55945a1934f6beb2ba9b566": {
      "model_module": "@jupyter-widgets/base",
      "model_module_version": "1.2.0",
      "model_name": "LayoutModel",
      "state": {
       "width": "90px"
      }
     },
     "03a836cb234e4cf6b35b4748033736f9": {
      "model_module": "@jupyter-widgets/controls",
      "model_module_version": "1.5.0",
      "model_name": "DropdownModel",
      "state": {
       "_options_labels": [
        "1",
        "2",
        "3"
       ],
       "description": "Swap row",
       "index": 0,
       "layout": "IPY_MODEL_71a10ae1f8e04fcab4732cdaaf7f8fd3",
       "style": "IPY_MODEL_bb3ca6c9d4354a9d93091eae41438699"
      }
     },
     "03aa298568504613b3d9685a22992fa2": {
      "model_module": "@jupyter-widgets/base",
      "model_module_version": "1.2.0",
      "model_name": "LayoutModel",
      "state": {
       "height": "300px",
       "justify_content": "center"
      }
     },
     "03b560bf96ee41318f455c2fa0bec6e6": {
      "model_module": "@jupyter-widgets/controls",
      "model_module_version": "1.5.0",
      "model_name": "HTMLMathModel",
      "state": {
       "layout": "IPY_MODEL_c5063591b116485a9ea4d294b57eed86",
       "style": "IPY_MODEL_a5cbea5fa926421aa5669a4ac7a9d66b",
       "value": "Enter here the values of the right hand side vector $b$"
      }
     },
     "03d1158065b645c89bf19acd9fb7023e": {
      "model_module": "@jupyter-widgets/controls",
      "model_module_version": "1.5.0",
      "model_name": "DescriptionStyleModel",
      "state": {
       "description_width": ""
      }
     },
     "042be99070704eabb20a9fed6d1e334a": {
      "model_module": "@jupyter-widgets/controls",
      "model_module_version": "1.5.0",
      "model_name": "DropdownModel",
      "state": {
       "_options_labels": [
        "1",
        "2",
        "3"
       ],
       "description": "Add row",
       "index": 0,
       "layout": "IPY_MODEL_fc8d42f382d046998b374305d94e60a5",
       "style": "IPY_MODEL_6e3a0f2416c84a7dafb6584165082312"
      }
     },
     "04397a36c2c345a5b98814d569c565bd": {
      "model_module": "@jupyter-widgets/controls",
      "model_module_version": "1.5.0",
      "model_name": "DescriptionStyleModel",
      "state": {
       "description_width": ""
      }
     },
     "043f92e7e9b04dc596161e769fe417c7": {
      "model_module": "@jupyter-widgets/controls",
      "model_module_version": "1.5.0",
      "model_name": "DescriptionStyleModel",
      "state": {
       "description_width": ""
      }
     },
     "04470ade57e34f9f8741e6ab65ef1567": {
      "model_module": "@jupyter-widgets/controls",
      "model_module_version": "1.5.0",
      "model_name": "TextModel",
      "state": {
       "layout": "IPY_MODEL_250753b918e0432c803452a019d33c5c",
       "style": "IPY_MODEL_23dd1ca78ec447f9babdc3ef3b3c5cec",
       "value": "-1"
      }
     },
     "04893e74f4054d4f9bcd50d44748d01a": {
      "model_module": "@jupyter-widgets/controls",
      "model_module_version": "1.5.0",
      "model_name": "DescriptionStyleModel",
      "state": {
       "description_width": ""
      }
     },
     "04aa4476a3b940b983dd861b140dbabb": {
      "model_module": "@jupyter-widgets/controls",
      "model_module_version": "1.5.0",
      "model_name": "DescriptionStyleModel",
      "state": {
       "description_width": ""
      }
     },
     "04cdc9fd85474cc3a01bcac1d60f7671": {
      "model_module": "@jupyter-widgets/controls",
      "model_module_version": "1.5.0",
      "model_name": "TextModel",
      "state": {
       "layout": "IPY_MODEL_f28c3c7f5ced4384b8a9eca6bc4c00fd",
       "style": "IPY_MODEL_3336ef4628934ae6976d52d6d7bbc184",
       "value": "5"
      }
     },
     "04d25003413f4f508e0f29e3e6337f09": {
      "model_module": "@jupyter-widgets/controls",
      "model_module_version": "1.5.0",
      "model_name": "TextModel",
      "state": {
       "layout": "IPY_MODEL_1ceaf9c9ac774ae985cae0c34af76539",
       "style": "IPY_MODEL_d0d4de5f8ea748fd8a2b2cf87ee9a044",
       "value": "2"
      }
     },
     "04db686b7a50431db5c0a215a93abaf4": {
      "model_module": "@jupyter-widgets/controls",
      "model_module_version": "1.5.0",
      "model_name": "DescriptionStyleModel",
      "state": {
       "description_width": ""
      }
     },
     "04e4c5cf91b0404c8d6845236b556cbd": {
      "model_module": "@jupyter-widgets/base",
      "model_module_version": "1.2.0",
      "model_name": "LayoutModel",
      "state": {
       "width": "150px"
      }
     },
     "04f179f159cd4390a1679b7cdfd63742": {
      "model_module": "@jupyter-widgets/base",
      "model_module_version": "1.2.0",
      "model_name": "LayoutModel",
      "state": {}
     },
     "0506c79be0b2465a8c4a739c01f5300c": {
      "model_module": "@jupyter-widgets/controls",
      "model_module_version": "1.5.0",
      "model_name": "HTMLMathModel",
      "state": {
       "layout": "IPY_MODEL_ce6f063131f143288bba09b458ec8765",
       "style": "IPY_MODEL_8303ede0076f4f739eeac3fffbb8bdca",
       "value": "The augmented matrix $(\\bf{A}|\\bf{I})$ will appear here."
      }
     },
     "050b831627ca4d4f9786fdf51209d931": {
      "model_module": "@jupyter-widgets/controls",
      "model_module_version": "1.5.0",
      "model_name": "DescriptionStyleModel",
      "state": {
       "description_width": ""
      }
     },
     "05289a0e205147fbb94813186d954274": {
      "model_module": "@jupyter-widgets/base",
      "model_module_version": "1.2.0",
      "model_name": "LayoutModel",
      "state": {}
     },
     "05389552ca1e4815adafaa31d330760b": {
      "model_module": "@jupyter-widgets/base",
      "model_module_version": "1.2.0",
      "model_name": "LayoutModel",
      "state": {
       "width": "120px"
      }
     },
     "0539bbb194854c9e9915eeca31595aef": {
      "model_module": "@jupyter-widgets/base",
      "model_module_version": "1.2.0",
      "model_name": "LayoutModel",
      "state": {}
     },
     "054bb1d3d5cb4563981b19c6d64f5492": {
      "model_module": "@jupyter-widgets/controls",
      "model_module_version": "1.5.0",
      "model_name": "DescriptionStyleModel",
      "state": {
       "description_width": ""
      }
     },
     "0559abe1e7974a988ed90369b76005d8": {
      "model_module": "@jupyter-widgets/base",
      "model_module_version": "1.2.0",
      "model_name": "LayoutModel",
      "state": {}
     },
     "05826fc3d6c1452dbd996f50056eff0b": {
      "model_module": "@jupyter-widgets/controls",
      "model_module_version": "1.5.0",
      "model_name": "HBoxModel",
      "state": {
       "children": [
        "IPY_MODEL_45f36584e17d4cb799fe282581839c92",
        "IPY_MODEL_989b38be82d14a488904e5186fcb3161",
        "IPY_MODEL_dc8cab5b981849e58feddbd219c43be8"
       ],
       "layout": "IPY_MODEL_55613864bf2b49b6808a5965f523fee9"
      }
     },
     "058a930ab69a46fca51409202ea0de9f": {
      "model_module": "@jupyter-widgets/controls",
      "model_module_version": "1.5.0",
      "model_name": "DescriptionStyleModel",
      "state": {
       "description_width": ""
      }
     },
     "05b9945f99b74c8aab7d9fdf04aff964": {
      "model_module": "@jupyter-widgets/controls",
      "model_module_version": "1.5.0",
      "model_name": "HBoxModel",
      "state": {
       "children": [
        "IPY_MODEL_6e57efaac86c4b869c692c0dd290d8ca",
        "IPY_MODEL_cf1ae174465243cf846771558cc3a7e5"
       ],
       "layout": "IPY_MODEL_c3fdb0021eb74189ac9646c05ed1c778"
      }
     },
     "05d824fc732b462cbc65da1fe3b445de": {
      "model_module": "@jupyter-widgets/controls",
      "model_module_version": "1.5.0",
      "model_name": "DescriptionStyleModel",
      "state": {
       "description_width": ""
      }
     },
     "05f1926266754cfd91626bb84964269a": {
      "model_module": "@jupyter-widgets/base",
      "model_module_version": "1.2.0",
      "model_name": "LayoutModel",
      "state": {}
     },
     "05f7501b90f348f89d7ae8e61517a072": {
      "model_module": "@jupyter-widgets/controls",
      "model_module_version": "1.5.0",
      "model_name": "DescriptionStyleModel",
      "state": {
       "description_width": ""
      }
     },
     "064cf949cf3e4f25afd7f21dcc458f0a": {
      "model_module": "@jupyter-widgets/controls",
      "model_module_version": "1.5.0",
      "model_name": "DescriptionStyleModel",
      "state": {
       "description_width": ""
      }
     },
     "065607d587154dd0bf33efd59c9fd2e5": {
      "model_module": "@jupyter-widgets/controls",
      "model_module_version": "1.5.0",
      "model_name": "TextModel",
      "state": {
       "layout": "IPY_MODEL_250753b918e0432c803452a019d33c5c",
       "style": "IPY_MODEL_e2961294fff944cea7162e05b0c33c87",
       "value": "5"
      }
     },
     "065f08ede0b647238ec761aa592646c7": {
      "model_module": "@jupyter-widgets/base",
      "model_module_version": "1.2.0",
      "model_name": "LayoutModel",
      "state": {
       "height": "35px",
       "width": "30px"
      }
     },
     "069a925a480540a1b410682f093ae38a": {
      "model_module": "@jupyter-widgets/base",
      "model_module_version": "1.2.0",
      "model_name": "LayoutModel",
      "state": {}
     },
     "06a8c3b3818c4583982330e63f0e9d22": {
      "model_module": "@jupyter-widgets/controls",
      "model_module_version": "1.5.0",
      "model_name": "DescriptionStyleModel",
      "state": {
       "description_width": ""
      }
     },
     "06b62d54e2f04aa38ac4733df7852070": {
      "model_module": "@jupyter-widgets/base",
      "model_module_version": "1.2.0",
      "model_name": "LayoutModel",
      "state": {}
     },
     "06f5fe5bc9534d6e8d7adbf04c081b11": {
      "model_module": "@jupyter-widgets/controls",
      "model_module_version": "1.5.0",
      "model_name": "DropdownModel",
      "state": {
       "_options_labels": [
        "1",
        "2",
        "3"
       ],
       "description": "Add row",
       "index": 0,
       "layout": "IPY_MODEL_2d282b9121bb4c73a4f1b22458413649",
       "style": "IPY_MODEL_9e0ead81d8cb4c44b526642f8d8a47d0"
      }
     },
     "06f781b1145042f4aaaf169bf0cf1c99": {
      "model_module": "@jupyter-widgets/controls",
      "model_module_version": "1.5.0",
      "model_name": "ButtonModel",
      "state": {
       "description": "Multiply row",
       "layout": "IPY_MODEL_f5ec38601bdb424e86fdfdb7dc1728ef",
       "style": "IPY_MODEL_b188595e7cc8401cb3c6e765f8e86dfd"
      }
     },
     "072b6fbe005546e89b4b906e1b9e4f54": {
      "model_module": "@jupyter-widgets/controls",
      "model_module_version": "1.5.0",
      "model_name": "BoxModel",
      "state": {
       "children": [
        "IPY_MODEL_0007e9edcf9c4962b82849626b3d8d2c",
        "IPY_MODEL_37df36448f5c405194729a2c35c33d59",
        "IPY_MODEL_6ceb3e39013c44b7abf9bb4802981df2",
        "IPY_MODEL_238dc26deb124d2e826066be38802c6d"
       ],
       "layout": "IPY_MODEL_a4ecbf0cb990401bbe345b2363bdcd94"
      }
     },
     "07326cfa60494e6083ebb125f32a41f6": {
      "model_module": "@jupyter-widgets/controls",
      "model_module_version": "1.5.0",
      "model_name": "DescriptionStyleModel",
      "state": {
       "description_width": ""
      }
     },
     "07361b8935ce41ccb877278c622db033": {
      "model_module": "@jupyter-widgets/base",
      "model_module_version": "1.2.0",
      "model_name": "LayoutModel",
      "state": {}
     },
     "0749e51fce5741c2be11a06622082a52": {
      "model_module": "@jupyter-widgets/controls",
      "model_module_version": "1.5.0",
      "model_name": "DropdownModel",
      "state": {
       "_options_labels": [
        "1",
        "2",
        "3"
       ],
       "description": "Row",
       "index": 0,
       "layout": "IPY_MODEL_0a39b7942fa149a6af52cec6d0d541c0",
       "style": "IPY_MODEL_06a8c3b3818c4583982330e63f0e9d22"
      }
     },
     "074dcffb329d41e0b705f0b7cfca2dbf": {
      "model_module": "@jupyter-widgets/controls",
      "model_module_version": "1.5.0",
      "model_name": "TextModel",
      "state": {
       "layout": "IPY_MODEL_36d600bb3cb144de8da56ca358490108",
       "style": "IPY_MODEL_5e9d5f212cf34899af5621ddfd8da6d8",
       "value": "-1"
      }
     },
     "07766f82b3ea47fe8776c218b72e721b": {
      "model_module": "@jupyter-widgets/controls",
      "model_module_version": "1.5.0",
      "model_name": "VBoxModel",
      "state": {
       "children": [
        "IPY_MODEL_d852abe18e5c4992bcffb3eb1cf43475",
        "IPY_MODEL_d5ed8d38b04b4bdca84cb58f02d9b76c"
       ],
       "layout": "IPY_MODEL_4df25e7f8f4b4e878e9ce0687386356d"
      }
     },
     "07a22c4406ee4243ac72cb744db5ab19": {
      "model_module": "@jupyter-widgets/base",
      "model_module_version": "1.2.0",
      "model_name": "LayoutModel",
      "state": {}
     },
     "07b1880a51b74e58870e37b7fe28ea19": {
      "model_module": "@jupyter-widgets/controls",
      "model_module_version": "1.5.0",
      "model_name": "ButtonModel",
      "state": {
       "description": "Check inverse",
       "layout": "IPY_MODEL_3b0ed817d0ab4e8083381c19b39d8ae2",
       "style": "IPY_MODEL_a8e5f6abea014d3abd3189b7c38f4f50"
      }
     },
     "07be2cbf2222489f93d867801970daf1": {
      "model_module": "@jupyter-widgets/controls",
      "model_module_version": "1.5.0",
      "model_name": "VBoxModel",
      "state": {
       "children": [
        "IPY_MODEL_03a836cb234e4cf6b35b4748033736f9",
        "IPY_MODEL_b1a28f44621a4561ac0e1be83d0367ba",
        "IPY_MODEL_90e9b4afabaa42f297d7e3022cfb17db"
       ],
       "layout": "IPY_MODEL_2d567123192d4d709615777378d571af"
      }
     },
     "07c1ec7739c84ab9ac6cb72b1f3c64f1": {
      "model_module": "@jupyter-widgets/base",
      "model_module_version": "1.2.0",
      "model_name": "LayoutModel",
      "state": {}
     },
     "07cbf12cf2264b98a289a66ec0d6e724": {
      "model_module": "@jupyter-widgets/controls",
      "model_module_version": "1.5.0",
      "model_name": "TextModel",
      "state": {
       "layout": "IPY_MODEL_7336bcfb9a2145e9a2df614b1768b15f",
       "style": "IPY_MODEL_d85901dbcb234b2f9fdbb510a342a5d1",
       "value": "1"
      }
     },
     "07d0baaeec3c4c7d808036266f83a272": {
      "model_module": "@jupyter-widgets/controls",
      "model_module_version": "1.5.0",
      "model_name": "ButtonModel",
      "state": {
       "description": "Add rows",
       "layout": "IPY_MODEL_3cbd83117aca4da195d29586f77150af",
       "style": "IPY_MODEL_6cce94c6ce3f48488fe01a71baa43020"
      }
     },
     "07d0f9a0cf9a4c409539873163d5dc90": {
      "model_module": "@jupyter-widgets/controls",
      "model_module_version": "1.5.0",
      "model_name": "DescriptionStyleModel",
      "state": {
       "description_width": ""
      }
     },
     "07deda7b92004be580f11a9181992118": {
      "model_module": "@jupyter-widgets/controls",
      "model_module_version": "1.5.0",
      "model_name": "HBoxModel",
      "state": {
       "children": [
        "IPY_MODEL_4cdb7b5a038845098e289e53b2125a72",
        "IPY_MODEL_e7399f40ac1340359c918cd0f0671b93"
       ],
       "layout": "IPY_MODEL_f66d21d8cba34e41b0debead8d73fbea"
      }
     },
     "07fd7c61f6cd4f3fb88a8f43df3d0996": {
      "model_module": "@jupyter-widgets/controls",
      "model_module_version": "1.5.0",
      "model_name": "DescriptionStyleModel",
      "state": {
       "description_width": ""
      }
     },
     "0801093bfb36451398ac22fe324a5a7f": {
      "model_module": "@jupyter-widgets/base",
      "model_module_version": "1.2.0",
      "model_name": "LayoutModel",
      "state": {}
     },
     "080e245494a84bc19b59b3de9ffee19c": {
      "model_module": "@jupyter-widgets/controls",
      "model_module_version": "1.5.0",
      "model_name": "DescriptionStyleModel",
      "state": {
       "description_width": ""
      }
     },
     "082fd162475847578bb712bab74da44d": {
      "model_module": "@jupyter-widgets/controls",
      "model_module_version": "1.5.0",
      "model_name": "TextModel",
      "state": {
       "layout": "IPY_MODEL_065f08ede0b647238ec761aa592646c7",
       "style": "IPY_MODEL_413babb57e214caaa1f8047aabe85756",
       "value": "7"
      }
     },
     "08367ae695c645c0959ca3bc414774dd": {
      "model_module": "@jupyter-widgets/controls",
      "model_module_version": "1.5.0",
      "model_name": "TextModel",
      "state": {
       "layout": "IPY_MODEL_5a0c24727aa941b48d996c0a1f0c2bf8",
       "style": "IPY_MODEL_07fd7c61f6cd4f3fb88a8f43df3d0996",
       "value": "-1"
      }
     },
     "08389b62e7234ef994c0751439a3f8ae": {
      "model_module": "@jupyter-widgets/controls",
      "model_module_version": "1.5.0",
      "model_name": "TextModel",
      "state": {
       "layout": "IPY_MODEL_8642d067baba44c0bf86d09f3f211429",
       "style": "IPY_MODEL_7cbae076b28b4358962e926da39f6485",
       "value": "-1"
      }
     },
     "087fac6b26f944b29ee2e8d87cec1b24": {
      "model_module": "@jupyter-widgets/controls",
      "model_module_version": "1.5.0",
      "model_name": "TextModel",
      "state": {
       "layout": "IPY_MODEL_776389df997545fcab086c0233cb0ab0",
       "style": "IPY_MODEL_8a8f51ce59da445cab30a74817bb10fe",
       "value": "7"
      }
     },
     "088627021db34591b402142767cc991b": {
      "model_module": "@jupyter-widgets/controls",
      "model_module_version": "1.5.0",
      "model_name": "DescriptionStyleModel",
      "state": {
       "description_width": ""
      }
     },
     "088aa52508cf4a47b1bb596a6b68f8ed": {
      "model_module": "@jupyter-widgets/controls",
      "model_module_version": "1.5.0",
      "model_name": "HTMLMathModel",
      "state": {
       "layout": "IPY_MODEL_c0087dcef37d4938880a2c50087ae282",
       "style": "IPY_MODEL_8eb7f269d05d4f68bfe127fc91489dd4",
       "value": "The augmented matrix will appear here."
      }
     },
     "08c391716f754d7d87cc4cfe55a330ac": {
      "model_module": "@jupyter-widgets/controls",
      "model_module_version": "1.5.0",
      "model_name": "TextModel",
      "state": {
       "layout": "IPY_MODEL_065f08ede0b647238ec761aa592646c7",
       "style": "IPY_MODEL_e85b60d5795940b78b2b0309d777c459",
       "value": "7"
      }
     },
     "08d32c038ea843cbb87931703d1debac": {
      "model_module": "@jupyter-widgets/base",
      "model_module_version": "1.2.0",
      "model_name": "LayoutModel",
      "state": {}
     },
     "08e87bb5ac5b4062bb89c33b52ec02a7": {
      "model_module": "@jupyter-widgets/controls",
      "model_module_version": "1.5.0",
      "model_name": "VBoxModel",
      "state": {
       "children": [
        "IPY_MODEL_a87133d2b4c34130a07bc303b10257e4",
        "IPY_MODEL_dea65e988b10490ca341f9a9434a932f",
        "IPY_MODEL_6187dc080e784ce1b06e472048647c3c"
       ],
       "layout": "IPY_MODEL_d2d4b9ce88014140ab49c9adbfc4f41f"
      }
     },
     "09052b13b2774f33b1c48e07e51efef8": {
      "model_module": "@jupyter-widgets/controls",
      "model_module_version": "1.5.0",
      "model_name": "HTMLMathModel",
      "state": {
       "layout": "IPY_MODEL_4cd5c60b8c924f66bb48e6aaee5976b7",
       "style": "IPY_MODEL_16b1c7f4cfd3488e80cc90283b45f171",
       "value": "Results will be shown here."
      }
     },
     "090c4e59990d47e8b91dea3c9231a3c3": {
      "model_module": "@jupyter-widgets/controls",
      "model_module_version": "1.5.0",
      "model_name": "DescriptionStyleModel",
      "state": {
       "description_width": ""
      }
     },
     "090d5a4f63a74b7e9fe7ecb9626faebf": {
      "model_module": "@jupyter-widgets/base",
      "model_module_version": "1.2.0",
      "model_name": "LayoutModel",
      "state": {}
     },
     "09347a6c033445648a5b38845b2cffd8": {
      "model_module": "@jupyter-widgets/controls",
      "model_module_version": "1.5.0",
      "model_name": "HBoxModel",
      "state": {
       "children": [
        "IPY_MODEL_d4faf9dbbbf14986882b5b9b12ba1401",
        "IPY_MODEL_c923f02de59345ea95cce81c42c7f136",
        "IPY_MODEL_6906c8e64a804184b1933571548a0b24"
       ],
       "layout": "IPY_MODEL_6809d34d186541ef91d5cfd024fc9782"
      }
     },
     "093d54d2ff3c4700b2e9e95c41589838": {
      "model_module": "@jupyter-widgets/controls",
      "model_module_version": "1.5.0",
      "model_name": "DescriptionStyleModel",
      "state": {
       "description_width": ""
      }
     },
     "095f0bb465814d788951e17aee133a42": {
      "model_module": "@jupyter-widgets/base",
      "model_module_version": "1.2.0",
      "model_name": "LayoutModel",
      "state": {}
     },
     "096d7e01c4ab495b97d4c8da52092a3c": {
      "model_module": "@jupyter-widgets/controls",
      "model_module_version": "1.5.0",
      "model_name": "HBoxModel",
      "state": {
       "children": [
        "IPY_MODEL_4265f3529f1149aeb98126130c96b425",
        "IPY_MODEL_8c686a87a0974ee9812f0c4acdd42b46"
       ],
       "layout": "IPY_MODEL_e9c77696af63445e927b60a5d777aeef"
      }
     },
     "097a293b33d64e8e8d2cc6d3257248be": {
      "model_module": "@jupyter-widgets/base",
      "model_module_version": "1.2.0",
      "model_name": "LayoutModel",
      "state": {
       "width": "40px"
      }
     },
     "0999378733a24bab863bad390d16ee41": {
      "model_module": "@jupyter-widgets/controls",
      "model_module_version": "1.5.0",
      "model_name": "HBoxModel",
      "state": {
       "children": [
        "IPY_MODEL_7283262a48814e33b27f1ffb36e24f39",
        "IPY_MODEL_10f8e505a9f14a05890a8cd0dc61107c"
       ],
       "layout": "IPY_MODEL_ac0bd227518841a2857a2d9662fa007d"
      }
     },
     "099971f01b6b43bcbf4a8cd847c5f088": {
      "model_module": "@jupyter-widgets/controls",
      "model_module_version": "1.5.0",
      "model_name": "TextModel",
      "state": {
       "layout": "IPY_MODEL_97993fa24fac42e28605e8d366180168",
       "style": "IPY_MODEL_4dc8b9450435447ebef56a12de022275",
       "value": "-4"
      }
     },
     "09a129273cba4f06b64ea60c945e4947": {
      "model_module": "@jupyter-widgets/base",
      "model_module_version": "1.2.0",
      "model_name": "LayoutModel",
      "state": {
       "width": "150px"
      }
     },
     "09a6256c899e4f99bd7006b25a734cb0": {
      "model_module": "@jupyter-widgets/controls",
      "model_module_version": "1.5.0",
      "model_name": "DescriptionStyleModel",
      "state": {
       "description_width": ""
      }
     },
     "09da1c4605184562a2d7c2d6ea3839a8": {
      "model_module": "@jupyter-widgets/controls",
      "model_module_version": "1.5.0",
      "model_name": "DescriptionStyleModel",
      "state": {
       "description_width": ""
      }
     },
     "0a02e7b644da470cb73ee9aba198f096": {
      "model_module": "@jupyter-widgets/controls",
      "model_module_version": "1.5.0",
      "model_name": "TextModel",
      "state": {
       "layout": "IPY_MODEL_b2827ab913cf4f49b7a4aeebd116396e",
       "style": "IPY_MODEL_c423e0a776c74bba82606e70efbf6ea0",
       "value": "5"
      }
     },
     "0a125904f15d473ebd86c861e96b9ef0": {
      "model_module": "@jupyter-widgets/controls",
      "model_module_version": "1.5.0",
      "model_name": "VBoxModel",
      "state": {
       "children": [
        "IPY_MODEL_c730cc44611641c081f635d3e5bdf038",
        "IPY_MODEL_d7d07c72b0934bfc8ebe912b0cf3117b"
       ],
       "layout": "IPY_MODEL_52466bf230334ac2bc3149fb7cc526cc"
      }
     },
     "0a2b760debba442881752869b447449c": {
      "model_module": "@jupyter-widgets/controls",
      "model_module_version": "1.5.0",
      "model_name": "DescriptionStyleModel",
      "state": {
       "description_width": ""
      }
     },
     "0a39b7942fa149a6af52cec6d0d541c0": {
      "model_module": "@jupyter-widgets/base",
      "model_module_version": "1.2.0",
      "model_name": "LayoutModel",
      "state": {
       "width": "150px"
      }
     },
     "0a3ee6c8a404455284a7f29b357942f2": {
      "model_module": "@jupyter-widgets/base",
      "model_module_version": "1.2.0",
      "model_name": "LayoutModel",
      "state": {}
     },
     "0a5833ded21c4998a2f94f098dd93e5f": {
      "model_module": "@jupyter-widgets/base",
      "model_module_version": "1.2.0",
      "model_name": "LayoutModel",
      "state": {
       "width": "90px"
      }
     },
     "0a583d8aeb5246359721e59cb8117221": {
      "model_module": "@jupyter-widgets/base",
      "model_module_version": "1.2.0",
      "model_name": "LayoutModel",
      "state": {}
     },
     "0a6fdaf2cab9418cb73cde409a0a83f0": {
      "model_module": "@jupyter-widgets/controls",
      "model_module_version": "1.5.0",
      "model_name": "DescriptionStyleModel",
      "state": {
       "description_width": ""
      }
     },
     "0a7a2840a4d34eb489c319e2f6bc64c4": {
      "model_module": "@jupyter-widgets/base",
      "model_module_version": "1.2.0",
      "model_name": "LayoutModel",
      "state": {}
     },
     "0a8cceae1d9344f296af7ddc2c5ee720": {
      "model_module": "@jupyter-widgets/controls",
      "model_module_version": "1.5.0",
      "model_name": "HBoxModel",
      "state": {
       "children": [
        "IPY_MODEL_ea4c33f7782241d68035a6d6340fabba",
        "IPY_MODEL_1d8631b27f334741b4dec4e62367332d"
       ],
       "layout": "IPY_MODEL_090d5a4f63a74b7e9fe7ecb9626faebf"
      }
     },
     "0ab04c70e1d146589f0f5cc9ffc9fa85": {
      "model_module": "@jupyter-widgets/controls",
      "model_module_version": "1.5.0",
      "model_name": "HTMLMathModel",
      "state": {
       "layout": "IPY_MODEL_6e6b42216b8c4db28086c8693a1631b7",
       "style": "IPY_MODEL_bf2624d83eb44ff6990539a3b668cce6",
       "value": "Enter here the values of matrix $\\bf{A}$"
      }
     },
     "0ac096e2f7a24f6bbe4388d8c380d186": {
      "model_module": "@jupyter-widgets/base",
      "model_module_version": "1.2.0",
      "model_name": "LayoutModel",
      "state": {
       "width": "90px"
      }
     },
     "0ad15dc729bc4e728546070b7e9fa12e": {
      "model_module": "@jupyter-widgets/base",
      "model_module_version": "1.2.0",
      "model_name": "LayoutModel",
      "state": {}
     },
     "0ae30b94945943ce913c6650354b1664": {
      "model_module": "@jupyter-widgets/controls",
      "model_module_version": "1.5.0",
      "model_name": "HTMLMathModel",
      "state": {
       "layout": "IPY_MODEL_1b7841a39b56460cafa5955fd02f0e70",
       "style": "IPY_MODEL_fdbb40cfe5734ff894012e17a6dfde37",
       "value": "Enter here the values of matrix $\\bf{A}$"
      }
     },
     "0b01db88c7cb4ac6977b3fba519464f4": {
      "model_module": "@jupyter-widgets/base",
      "model_module_version": "1.2.0",
      "model_name": "LayoutModel",
      "state": {
       "width": "150px"
      }
     },
     "0b1005061f194fa2a8f9adc9dcc6d9f5": {
      "model_module": "@jupyter-widgets/controls",
      "model_module_version": "1.5.0",
      "model_name": "VBoxModel",
      "state": {
       "children": [
        "IPY_MODEL_94f3b762c4f24ae3b2659eadb8432154",
        "IPY_MODEL_e8763a25b9ca43c4a509c670adc526f6",
        "IPY_MODEL_e2d5e137948e4595bc840cf170ce392d"
       ],
       "layout": "IPY_MODEL_9704107052284bffa2796409f9f8d122"
      }
     },
     "0b454023423f45cd82367a0c09954a27": {
      "model_module": "@jupyter-widgets/base",
      "model_module_version": "1.2.0",
      "model_name": "LayoutModel",
      "state": {}
     },
     "0b49b1e15c66421e925efbf75e7bec4b": {
      "model_module": "@jupyter-widgets/base",
      "model_module_version": "1.2.0",
      "model_name": "LayoutModel",
      "state": {}
     },
     "0b51104c1e9f4719b5061bea145fdfaa": {
      "model_module": "@jupyter-widgets/controls",
      "model_module_version": "1.5.0",
      "model_name": "DescriptionStyleModel",
      "state": {
       "description_width": ""
      }
     },
     "0b6872970b134a9794bf6713e01fffae": {
      "model_module": "@jupyter-widgets/controls",
      "model_module_version": "1.5.0",
      "model_name": "DescriptionStyleModel",
      "state": {
       "description_width": ""
      }
     },
     "0b859c0aeaa34571b951aa690f458eb4": {
      "model_module": "@jupyter-widgets/controls",
      "model_module_version": "1.5.0",
      "model_name": "DescriptionStyleModel",
      "state": {
       "description_width": ""
      }
     },
     "0b8d8522f9b046b1813ca8373d8a602b": {
      "model_module": "@jupyter-widgets/controls",
      "model_module_version": "1.5.0",
      "model_name": "HTMLMathModel",
      "state": {
       "layout": "IPY_MODEL_e659cf0fa00743b1b48f8b22ae3b6913",
       "style": "IPY_MODEL_c0837313dafa45fd91fc70e417337efa",
       "value": "Enter here the values of matrix $\\bf{A}$"
      }
     },
     "0b939843b33244f598beb1d018494b7b": {
      "model_module": "@jupyter-widgets/controls",
      "model_module_version": "1.5.0",
      "model_name": "DescriptionStyleModel",
      "state": {
       "description_width": ""
      }
     },
     "0ba799e20a8e4d89aae6d2dc798c607e": {
      "model_module": "@jupyter-widgets/controls",
      "model_module_version": "1.5.0",
      "model_name": "DescriptionStyleModel",
      "state": {
       "description_width": ""
      }
     },
     "0bc34d4545114c028fa07889b8084772": {
      "model_module": "@jupyter-widgets/base",
      "model_module_version": "1.2.0",
      "model_name": "LayoutModel",
      "state": {}
     },
     "0bdbc075252144f6b39a71f35a9d2843": {
      "model_module": "@jupyter-widgets/controls",
      "model_module_version": "1.5.0",
      "model_name": "DescriptionStyleModel",
      "state": {
       "description_width": ""
      }
     },
     "0be087d82ca1497b8f6f9d31cbb4239e": {
      "model_module": "@jupyter-widgets/controls",
      "model_module_version": "1.5.0",
      "model_name": "DescriptionStyleModel",
      "state": {
       "description_width": ""
      }
     },
     "0bf7a4d58c1642a699e5dd62fe83d8fe": {
      "model_module": "@jupyter-widgets/controls",
      "model_module_version": "1.5.0",
      "model_name": "HBoxModel",
      "state": {
       "children": [
        "IPY_MODEL_33d2e629b0fa45cfa3f682a850dae812",
        "IPY_MODEL_feacb065f0a341df928c19b0df9ce636"
       ],
       "layout": "IPY_MODEL_d77c3c582c73441ab327a555a69e203a"
      }
     },
     "0bf90608e018438da96fec272cf6a019": {
      "model_module": "@jupyter-widgets/base",
      "model_module_version": "1.2.0",
      "model_name": "LayoutModel",
      "state": {}
     },
     "0c08a95ef5a84dc6a82a786848f4a2a2": {
      "model_module": "@jupyter-widgets/controls",
      "model_module_version": "1.5.0",
      "model_name": "TextModel",
      "state": {
       "layout": "IPY_MODEL_201e1a4ee32840b19f981690bdacf3ae",
       "style": "IPY_MODEL_891f51e9502742adb34a1eed1e551d41",
       "value": "9"
      }
     },
     "0c565d578f344027b807de21ce8f072c": {
      "model_module": "@jupyter-widgets/base",
      "model_module_version": "1.2.0",
      "model_name": "LayoutModel",
      "state": {}
     },
     "0c6f2c314f204a0a9bb9380d1dc6b960": {
      "model_module": "@jupyter-widgets/base",
      "model_module_version": "1.2.0",
      "model_name": "LayoutModel",
      "state": {}
     },
     "0c75223a1dec4741b1b708ef6fe84920": {
      "model_module": "@jupyter-widgets/base",
      "model_module_version": "1.2.0",
      "model_name": "LayoutModel",
      "state": {
       "width": "100px"
      }
     },
     "0c7ad4d71e4c46d8be409f7d817a62e9": {
      "model_module": "@jupyter-widgets/controls",
      "model_module_version": "1.5.0",
      "model_name": "DescriptionStyleModel",
      "state": {
       "description_width": ""
      }
     },
     "0c87e0e9dd314f49af89ae12a412d2c1": {
      "model_module": "@jupyter-widgets/controls",
      "model_module_version": "1.5.0",
      "model_name": "TextModel",
      "state": {
       "layout": "IPY_MODEL_7a607c89a00143a7a0808c95689bf41a",
       "style": "IPY_MODEL_7280a62ab27f4595969c2db2a3eeec5f",
       "value": "5"
      }
     },
     "0c9442cac1194995a742e23535c40406": {
      "model_module": "@jupyter-widgets/base",
      "model_module_version": "1.2.0",
      "model_name": "LayoutModel",
      "state": {
       "width": "120px"
      }
     },
     "0c9bef34bbc94a78aa088c7684790751": {
      "model_module": "@jupyter-widgets/controls",
      "model_module_version": "1.5.0",
      "model_name": "ButtonModel",
      "state": {
       "description": "Swap rows",
       "layout": "IPY_MODEL_7cc030fb44984b60899dd4d3698162d9",
       "style": "IPY_MODEL_def34a737c1e4ec1a2816c73ed284971"
      }
     },
     "0c9f7e2c0fff4a2dbbfdac47d11bb8d2": {
      "model_module": "@jupyter-widgets/controls",
      "model_module_version": "1.5.0",
      "model_name": "TextModel",
      "state": {
       "description": "times",
       "layout": "IPY_MODEL_5ff2b8aeeafb4bc3a504bda367e7e9dc",
       "style": "IPY_MODEL_f96a2297b952432b8a844b09e215f3c9",
       "value": "1"
      }
     },
     "0cabdc15793e4dd58e647f6542dd1b99": {
      "model_module": "@jupyter-widgets/base",
      "model_module_version": "1.2.0",
      "model_name": "LayoutModel",
      "state": {}
     },
     "0cc061f4602d4733b367e761aad09b37": {
      "model_module": "@jupyter-widgets/controls",
      "model_module_version": "1.5.0",
      "model_name": "TextModel",
      "state": {
       "layout": "IPY_MODEL_776389df997545fcab086c0233cb0ab0",
       "style": "IPY_MODEL_85077bf8003d4501acfa8a9f154f25a2",
       "value": "-1"
      }
     },
     "0cd909d7e75b4dca930bf7befc8e9156": {
      "model_module": "@jupyter-widgets/controls",
      "model_module_version": "1.5.0",
      "model_name": "TextModel",
      "state": {
       "layout": "IPY_MODEL_342fbdc31d2d406489b24d1349c22e03",
       "style": "IPY_MODEL_043f92e7e9b04dc596161e769fe417c7",
       "value": "7"
      }
     },
     "0d13a2ae3090437a9013c2620fae42d2": {
      "model_module": "@jupyter-widgets/controls",
      "model_module_version": "1.5.0",
      "model_name": "VBoxModel",
      "state": {
       "children": [
        "IPY_MODEL_0d9cf3ada7b04ba3b03abbc0d8e9a782",
        "IPY_MODEL_2a44e11b4a604194b1dddad46bccf849"
       ],
       "layout": "IPY_MODEL_78b46fdc4a1d46c1a133a310d723dc8f"
      }
     },
     "0d1f13b839914f6a99cf34216894a3b9": {
      "model_module": "@jupyter-widgets/base",
      "model_module_version": "1.2.0",
      "model_name": "LayoutModel",
      "state": {}
     },
     "0d30074111024cbf935af07db166050b": {
      "model_module": "@jupyter-widgets/controls",
      "model_module_version": "1.5.0",
      "model_name": "ButtonStyleModel",
      "state": {}
     },
     "0d5360a17ca6498eb5e07d4bd1f8953f": {
      "model_module": "@jupyter-widgets/base",
      "model_module_version": "1.2.0",
      "model_name": "LayoutModel",
      "state": {
       "height": "300px",
       "justify_content": "center"
      }
     },
     "0d6bdfcbd4a0483e8b44b5f267ea3c6e": {
      "model_module": "@jupyter-widgets/base",
      "model_module_version": "1.2.0",
      "model_name": "LayoutModel",
      "state": {}
     },
     "0d6deceac52b4c05a2cfaf4587cb3967": {
      "model_module": "@jupyter-widgets/base",
      "model_module_version": "1.2.0",
      "model_name": "LayoutModel",
      "state": {}
     },
     "0d83040495904c82b895a7860c681a9e": {
      "model_module": "@jupyter-widgets/controls",
      "model_module_version": "1.5.0",
      "model_name": "DescriptionStyleModel",
      "state": {
       "description_width": ""
      }
     },
     "0d8a316f35024a96ba8d3395667508a5": {
      "model_module": "@jupyter-widgets/controls",
      "model_module_version": "1.5.0",
      "model_name": "HTMLMathModel",
      "state": {
       "layout": "IPY_MODEL_81fe12969da24c008ceecb167f0e8e28",
       "style": "IPY_MODEL_671cbe0663bc4a58aab8a370916d95ff"
      }
     },
     "0d8d7d0cf84b4037b7e377649d9f56bc": {
      "model_module": "@jupyter-widgets/controls",
      "model_module_version": "1.5.0",
      "model_name": "VBoxModel",
      "state": {
       "children": [
        "IPY_MODEL_f7b8143c54a84033b19278978ddfa7d0",
        "IPY_MODEL_b7776b8c4c6b4d89a60e46a4b3fbf5eb",
        "IPY_MODEL_f22c060de5474d7e8daa8c79ee787237"
       ],
       "layout": "IPY_MODEL_fd194d982bfa4c81912215d884faef58"
      }
     },
     "0d90a62c69f04db09f7e6c938c607302": {
      "model_module": "@jupyter-widgets/controls",
      "model_module_version": "1.5.0",
      "model_name": "TextModel",
      "state": {
       "layout": "IPY_MODEL_250753b918e0432c803452a019d33c5c",
       "style": "IPY_MODEL_8c8dbfc314bf4626b88dcc2f9217890a",
       "value": "-6"
      }
     },
     "0d9cf3ada7b04ba3b03abbc0d8e9a782": {
      "model_module": "@jupyter-widgets/controls",
      "model_module_version": "1.5.0",
      "model_name": "HTMLModel",
      "state": {
       "layout": "IPY_MODEL_b45cca93b651435b81c2143578b9d4a3",
       "style": "IPY_MODEL_68937de1ef6d46c6b4f0f79712e71607",
       "value": "Click this button to start the calculator"
      }
     },
     "0dab27311a574510a4e8775960744879": {
      "model_module": "@jupyter-widgets/base",
      "model_module_version": "1.2.0",
      "model_name": "LayoutModel",
      "state": {
       "width": "100px"
      }
     },
     "0e2183cc86484a959f5c2da3ad882c6f": {
      "model_module": "@jupyter-widgets/controls",
      "model_module_version": "1.5.0",
      "model_name": "HBoxModel",
      "state": {
       "children": [
        "IPY_MODEL_16f6262952aa4a2a9e761c09c6bfab12",
        "IPY_MODEL_a1841f10dc2046cfbca8eb5be66d00ac",
        "IPY_MODEL_7d2cc03bc07f402b8453d892f5543a78"
       ],
       "layout": "IPY_MODEL_46b0ec0b21ba4bd5a97f211e214065b3"
      }
     },
     "0e3670d7a37d4366a34fab339b9308e1": {
      "model_module": "@jupyter-widgets/base",
      "model_module_version": "1.2.0",
      "model_name": "LayoutModel",
      "state": {
       "width": "40px"
      }
     },
     "0e6cf7f51fe6496a9cf10cc476805197": {
      "model_module": "@jupyter-widgets/base",
      "model_module_version": "1.2.0",
      "model_name": "LayoutModel",
      "state": {}
     },
     "0e6e0efceabd4ae3a46b211dc4ff810b": {
      "model_module": "@jupyter-widgets/controls",
      "model_module_version": "1.5.0",
      "model_name": "TextModel",
      "state": {
       "layout": "IPY_MODEL_194d5881fb18447585798b14c51e301b",
       "style": "IPY_MODEL_9098c965a51d4f86942174e4766c8595",
       "value": "-6"
      }
     },
     "0e854f26a1f34e898cea5d16e4114734": {
      "model_module": "@jupyter-widgets/controls",
      "model_module_version": "1.5.0",
      "model_name": "HBoxModel",
      "state": {
       "children": [
        "IPY_MODEL_624d7a532cc145a19781e66687d9c82b",
        "IPY_MODEL_461cb6309f3549a998d14f1794548655",
        "IPY_MODEL_b139b5bfb3064ef284e7c4c902337610"
       ],
       "layout": "IPY_MODEL_4a462b62283c43538330a170e98ca4d7"
      }
     },
     "0e8779d387d345ce83061d7884680c4b": {
      "model_module": "@jupyter-widgets/controls",
      "model_module_version": "1.5.0",
      "model_name": "DescriptionStyleModel",
      "state": {
       "description_width": ""
      }
     },
     "0e94e36f3ffc4397b7b027e6f13dcf86": {
      "model_module": "@jupyter-widgets/controls",
      "model_module_version": "1.5.0",
      "model_name": "DescriptionStyleModel",
      "state": {
       "description_width": ""
      }
     },
     "0ea18523c5d748059fccdd96a26b89fe": {
      "model_module": "@jupyter-widgets/controls",
      "model_module_version": "1.5.0",
      "model_name": "DescriptionStyleModel",
      "state": {
       "description_width": ""
      }
     },
     "0eae850f291a4fb6990eff505e33407b": {
      "model_module": "@jupyter-widgets/base",
      "model_module_version": "1.2.0",
      "model_name": "LayoutModel",
      "state": {
       "justify_content": "center"
      }
     },
     "0ef0234445154cc8acb93d7777ba30b9": {
      "model_module": "@jupyter-widgets/controls",
      "model_module_version": "1.5.0",
      "model_name": "TextModel",
      "state": {
       "layout": "IPY_MODEL_97993fa24fac42e28605e8d366180168",
       "style": "IPY_MODEL_7360273407e04c57ae2c648d0f434a90",
       "value": "7"
      }
     },
     "0ef882c83c1f4ac69d57f2a5d8a09cb6": {
      "model_module": "@jupyter-widgets/controls",
      "model_module_version": "1.5.0",
      "model_name": "BoxModel",
      "state": {
       "children": [
        "IPY_MODEL_d6d6590af3f94b7680a3f8bbdc28fcbf",
        "IPY_MODEL_259aa4ea44154dfa98b297b6a94ecda3",
        "IPY_MODEL_6f6808a1453f46c8b15d427fa7d70528"
       ],
       "layout": "IPY_MODEL_221907c7c41b4b45aedc671d63867511"
      }
     },
     "0f146334d20c40c5a3cf2f6f9e454979": {
      "model_module": "@jupyter-widgets/controls",
      "model_module_version": "1.5.0",
      "model_name": "TextModel",
      "state": {
       "layout": "IPY_MODEL_b2827ab913cf4f49b7a4aeebd116396e",
       "style": "IPY_MODEL_1893a0a1365446b982bde153f137f578",
       "value": "7"
      }
     },
     "0f351ad227364b28b2aad46ee261b59d": {
      "model_module": "@jupyter-widgets/controls",
      "model_module_version": "1.5.0",
      "model_name": "HTMLModel",
      "state": {
       "layout": "IPY_MODEL_272693dae249402d964a049d58e0c3a8",
       "style": "IPY_MODEL_01741f2f65e54a6e996c9f63eebb3a4a",
       "value": "Click the button below to start the calculator"
      }
     },
     "0f52f5602ed84f33bc18f159bdec32fd": {
      "model_module": "@jupyter-widgets/controls",
      "model_module_version": "1.5.0",
      "model_name": "BoxModel",
      "state": {
       "children": [
        "IPY_MODEL_389748515c6c475eb6223e40249ad939",
        "IPY_MODEL_a022fd234d654f989d5198e29e3eca00",
        "IPY_MODEL_c6d0c5f73e0a427291b0940a2fd4f75d"
       ],
       "layout": "IPY_MODEL_50708f463b31415cbed627ccc99d9718"
      }
     },
     "0f6e25d4e68d4f7999e7fe387dc379ea": {
      "model_module": "@jupyter-widgets/controls",
      "model_module_version": "1.5.0",
      "model_name": "DescriptionStyleModel",
      "state": {
       "description_width": ""
      }
     },
     "0f73d60c72fa4763a786e53528d3506d": {
      "model_module": "@jupyter-widgets/base",
      "model_module_version": "1.2.0",
      "model_name": "LayoutModel",
      "state": {
       "width": "100px"
      }
     },
     "0f8fa4a8e2504d5db11ccfbc7064920b": {
      "model_module": "@jupyter-widgets/base",
      "model_module_version": "1.2.0",
      "model_name": "LayoutModel",
      "state": {
       "width": "150px"
      }
     },
     "0f90d747bf4745abba5c6cb4abdfc1f5": {
      "model_module": "@jupyter-widgets/controls",
      "model_module_version": "1.5.0",
      "model_name": "HTMLModel",
      "state": {
       "layout": "IPY_MODEL_50e38bc99cac4f6eaa8958e35e9e66a1",
       "style": "IPY_MODEL_ab53d38855ef4aca9d2e9e14cd9a56b0",
       "value": "Click this button to start the calculator"
      }
     },
     "0fb0c0ac4ae8447fbb17ff43596d9168": {
      "model_module": "@jupyter-widgets/controls",
      "model_module_version": "1.5.0",
      "model_name": "VBoxModel",
      "state": {
       "children": [
        "IPY_MODEL_1c42016859284db5acf760b042fbe760",
        "IPY_MODEL_472abd49d98a4066b63c7fc3161a33db"
       ],
       "layout": "IPY_MODEL_ed9e4888a47a41bdbca99949e12037f8"
      }
     },
     "0fd5928b876c4d9d80f95ab4c8fc7851": {
      "model_module": "@jupyter-widgets/controls",
      "model_module_version": "1.5.0",
      "model_name": "ButtonStyleModel",
      "state": {}
     },
     "0fd6aec4b79043d59028fc4199b7d92a": {
      "model_module": "@jupyter-widgets/controls",
      "model_module_version": "1.5.0",
      "model_name": "DropdownModel",
      "state": {
       "_options_labels": [
        "1",
        "2",
        "3"
       ],
       "description": "Swap row",
       "index": 0,
       "layout": "IPY_MODEL_671febabb8aa460e9eab9a3995c8cdb5",
       "style": "IPY_MODEL_fe51300303d545589fc6e2ee22ead880"
      }
     },
     "0fea4e6d91ae4e48a82e569ada3a620e": {
      "model_module": "@jupyter-widgets/base",
      "model_module_version": "1.2.0",
      "model_name": "LayoutModel",
      "state": {
       "width": "120px"
      }
     },
     "10039fa1f09b43cb8cea57e7e05003a3": {
      "model_module": "@jupyter-widgets/controls",
      "model_module_version": "1.5.0",
      "model_name": "DescriptionStyleModel",
      "state": {
       "description_width": ""
      }
     },
     "1005e81ac98b4c87b344a13966a36a12": {
      "model_module": "@jupyter-widgets/base",
      "model_module_version": "1.2.0",
      "model_name": "LayoutModel",
      "state": {
       "width": "150px"
      }
     },
     "102e908dcff74288801c5cf158216579": {
      "model_module": "@jupyter-widgets/controls",
      "model_module_version": "1.5.0",
      "model_name": "DescriptionStyleModel",
      "state": {
       "description_width": ""
      }
     },
     "103155977d88458bae43b1483b1832fd": {
      "model_module": "@jupyter-widgets/controls",
      "model_module_version": "1.5.0",
      "model_name": "TextModel",
      "state": {
       "layout": "IPY_MODEL_47a60aa1cf3045f2a536b06edf49c5ea",
       "style": "IPY_MODEL_d584c5573e924c35b4bef2919816e088",
       "value": "-1"
      }
     },
     "105367edda914291845dfc460cd5b5ed": {
      "model_module": "@jupyter-widgets/controls",
      "model_module_version": "1.5.0",
      "model_name": "DescriptionStyleModel",
      "state": {
       "description_width": ""
      }
     },
     "1054c6abba2642b0b73cf08f200b0bc0": {
      "model_module": "@jupyter-widgets/base",
      "model_module_version": "1.2.0",
      "model_name": "LayoutModel",
      "state": {
       "width": "150px"
      }
     },
     "109f6d462a004bdd9a95542348d778f8": {
      "model_module": "@jupyter-widgets/base",
      "model_module_version": "1.2.0",
      "model_name": "LayoutModel",
      "state": {
       "height": "35px",
       "width": "30px"
      }
     },
     "10a58219c0cd44d98cac63e23eaa7fe2": {
      "model_module": "@jupyter-widgets/controls",
      "model_module_version": "1.5.0",
      "model_name": "ButtonStyleModel",
      "state": {}
     },
     "10b695f98e3045a98d2654eb8462ea0c": {
      "model_module": "@jupyter-widgets/controls",
      "model_module_version": "1.5.0",
      "model_name": "TextModel",
      "state": {
       "layout": "IPY_MODEL_194d5881fb18447585798b14c51e301b",
       "style": "IPY_MODEL_61bb2d603f3b42dc88999c25922900d9",
       "value": "-4"
      }
     },
     "10bde96bfd6247ee8b6f5b7fd5585a3a": {
      "model_module": "@jupyter-widgets/controls",
      "model_module_version": "1.5.0",
      "model_name": "TextModel",
      "state": {
       "layout": "IPY_MODEL_e60a861eca344ffe9430ae66e253e656",
       "style": "IPY_MODEL_2a128d6d4b754f6b94032aa5acf4c4ec",
       "value": "1"
      }
     },
     "10c7837a966f4796a96051bb35ea126d": {
      "model_module": "@jupyter-widgets/controls",
      "model_module_version": "1.5.0",
      "model_name": "DescriptionStyleModel",
      "state": {
       "description_width": ""
      }
     },
     "10dee4ab04a64c269b6e8699e2ad1727": {
      "model_module": "@jupyter-widgets/controls",
      "model_module_version": "1.5.0",
      "model_name": "DescriptionStyleModel",
      "state": {
       "description_width": ""
      }
     },
     "10f325c9cdd5412db11465529d3d02ae": {
      "model_module": "@jupyter-widgets/controls",
      "model_module_version": "1.5.0",
      "model_name": "DescriptionStyleModel",
      "state": {
       "description_width": ""
      }
     },
     "10f39bfa0f60430584dc4acf8d2f802c": {
      "model_module": "@jupyter-widgets/controls",
      "model_module_version": "1.5.0",
      "model_name": "ButtonModel",
      "state": {
       "description": "Multiply row",
       "layout": "IPY_MODEL_0ad15dc729bc4e728546070b7e9fa12e",
       "style": "IPY_MODEL_a25bb9a65ef842d68b8b2daf59d394c3"
      }
     },
     "10f8e505a9f14a05890a8cd0dc61107c": {
      "model_module": "@jupyter-widgets/controls",
      "model_module_version": "1.5.0",
      "model_name": "HTMLMathModel",
      "state": {
       "layout": "IPY_MODEL_1346779d04e1453d82bd4fcf65e1d321",
       "style": "IPY_MODEL_ad667437c7504081859d5c162a06411b",
       "value": "Enter here the values of the right hand side vector $b$"
      }
     },
     "116c3d2aeaec4cccbb0fb1470cea5fbd": {
      "model_module": "@jupyter-widgets/controls",
      "model_module_version": "1.5.0",
      "model_name": "TextModel",
      "state": {
       "layout": "IPY_MODEL_109f6d462a004bdd9a95542348d778f8",
       "style": "IPY_MODEL_afcee6e16407434a8a8ba611f03bf62b",
       "value": "-4"
      }
     },
     "1194bd3c8fe64af88047e6dcfaa6b391": {
      "model_module": "@jupyter-widgets/base",
      "model_module_version": "1.2.0",
      "model_name": "LayoutModel",
      "state": {
       "width": "150px"
      }
     },
     "124a684d9f2c49afac32c936b687984c": {
      "model_module": "@jupyter-widgets/base",
      "model_module_version": "1.2.0",
      "model_name": "LayoutModel",
      "state": {
       "width": "150px"
      }
     },
     "124d9e6b1e624c0ab89adb99c83858a0": {
      "model_module": "@jupyter-widgets/controls",
      "model_module_version": "1.5.0",
      "model_name": "TextModel",
      "state": {
       "layout": "IPY_MODEL_35e7cd5dc3a344c7867ddf08fc7e1130",
       "style": "IPY_MODEL_dcd7341dd28b4bfd94cebdc438839d36",
       "value": " 2"
      }
     },
     "12515526b4614d98863c3c1532d9f997": {
      "model_module": "@jupyter-widgets/controls",
      "model_module_version": "1.5.0",
      "model_name": "ButtonStyleModel",
      "state": {}
     },
     "12647a1ed57d4122a3e425dc663ac125": {
      "model_module": "@jupyter-widgets/controls",
      "model_module_version": "1.5.0",
      "model_name": "DescriptionStyleModel",
      "state": {
       "description_width": ""
      }
     },
     "1279f02c72b24e9ebf1eee73a15418d3": {
      "model_module": "@jupyter-widgets/controls",
      "model_module_version": "1.5.0",
      "model_name": "HTMLMathModel",
      "state": {
       "layout": "IPY_MODEL_8e1ede23baac4a54ba8535003afc6edd",
       "style": "IPY_MODEL_d7557671ad7141079ff3bede386495ff",
       "value": "The augmented matrix $(\\bf{A}|\\bf{I})$ will appear here."
      }
     },
     "12932f2c8c3d4eeb95088967ccdb0d22": {
      "model_module": "@jupyter-widgets/controls",
      "model_module_version": "1.5.0",
      "model_name": "TextModel",
      "state": {
       "layout": "IPY_MODEL_35e7cd5dc3a344c7867ddf08fc7e1130",
       "style": "IPY_MODEL_83a3ced6c8c64bf2836ea80fd5ffcf1c",
       "value": "-6"
      }
     },
     "129c6d7cd1c341ab93fd59634722d890": {
      "model_module": "@jupyter-widgets/controls",
      "model_module_version": "1.5.0",
      "model_name": "DescriptionStyleModel",
      "state": {
       "description_width": ""
      }
     },
     "12c88b7bec5f4eb2b97f1c12dbd41baa": {
      "model_module": "@jupyter-widgets/controls",
      "model_module_version": "1.5.0",
      "model_name": "VBoxModel",
      "state": {
       "children": [
        "IPY_MODEL_e3bdf8d52f5f4d3c9ce1f0157ec1b18f",
        "IPY_MODEL_5b9118f2352a44f5a322baae71489f99"
       ],
       "layout": "IPY_MODEL_9e9c3873cf7e4fe68504d566674dadf1"
      }
     },
     "12c9096434eb4b009cb1af19b52fa748": {
      "model_module": "@jupyter-widgets/base",
      "model_module_version": "1.2.0",
      "model_name": "LayoutModel",
      "state": {}
     },
     "12cbdd3218bd4b41a9625bcc5b40b545": {
      "model_module": "@jupyter-widgets/controls",
      "model_module_version": "1.5.0",
      "model_name": "DescriptionStyleModel",
      "state": {
       "description_width": ""
      }
     },
     "12d3e28e7ce34b71a02bfe9458d4930b": {
      "model_module": "@jupyter-widgets/controls",
      "model_module_version": "1.5.0",
      "model_name": "VBoxModel",
      "state": {
       "children": [
        "IPY_MODEL_265dc97ead1348268d4fec0c5a85c5b3",
        "IPY_MODEL_959b0d6930f44a08b608939ccfa4c2fa"
       ],
       "layout": "IPY_MODEL_00163c3bd6e3456992c71da0d3a83a01"
      }
     },
     "12da5593b6b94989852a9468736bb837": {
      "model_module": "@jupyter-widgets/controls",
      "model_module_version": "1.5.0",
      "model_name": "HBoxModel",
      "state": {
       "children": [
        "IPY_MODEL_f3c94f406538459a9aa83cc684eb0958",
        "IPY_MODEL_312dfe903bab411a80b9f9497e869381"
       ],
       "layout": "IPY_MODEL_0a583d8aeb5246359721e59cb8117221"
      }
     },
     "130c0e9ce08645a6860799fb9b56ddd6": {
      "model_module": "@jupyter-widgets/controls",
      "model_module_version": "1.5.0",
      "model_name": "DescriptionStyleModel",
      "state": {
       "description_width": ""
      }
     },
     "133071a6e3284c44bba61ea818c127f5": {
      "model_module": "@jupyter-widgets/controls",
      "model_module_version": "1.5.0",
      "model_name": "DescriptionStyleModel",
      "state": {
       "description_width": ""
      }
     },
     "1346779d04e1453d82bd4fcf65e1d321": {
      "model_module": "@jupyter-widgets/base",
      "model_module_version": "1.2.0",
      "model_name": "LayoutModel",
      "state": {
       "width": "100px"
      }
     },
     "136433dc00f242c48ca727dcf2a88b93": {
      "model_module": "@jupyter-widgets/controls",
      "model_module_version": "1.5.0",
      "model_name": "TextModel",
      "state": {
       "layout": "IPY_MODEL_7a607c89a00143a7a0808c95689bf41a",
       "style": "IPY_MODEL_d5720e1b89794f4191711502677e5a47",
       "value": "2"
      }
     },
     "1377a46501834649aff3115a057d2044": {
      "model_module": "@jupyter-widgets/base",
      "model_module_version": "1.2.0",
      "model_name": "LayoutModel",
      "state": {}
     },
     "138f3d0f8b5e466d9c3f9652e070fc44": {
      "model_module": "@jupyter-widgets/controls",
      "model_module_version": "1.5.0",
      "model_name": "ButtonModel",
      "state": {
       "description": "Multiply row",
       "layout": "IPY_MODEL_865a725c88ee491db0bcf87d2fdab680",
       "style": "IPY_MODEL_75598fbbf3654bee81a9f77b05103a98"
      }
     },
     "13b0cece1d994686a9564a07dbded9d3": {
      "model_module": "@jupyter-widgets/controls",
      "model_module_version": "1.5.0",
      "model_name": "TextModel",
      "state": {
       "layout": "IPY_MODEL_fc4b7699475642ecb4c02ebf24f1e6a2",
       "style": "IPY_MODEL_44ec7bb4adc4427a882888e0f04d3285",
       "value": "-2"
      }
     },
     "13b2a989995f45d789414b3b89e8dc92": {
      "model_module": "@jupyter-widgets/base",
      "model_module_version": "1.2.0",
      "model_name": "LayoutModel",
      "state": {}
     },
     "13b871b4f1294b79addc825df026b2d9": {
      "model_module": "@jupyter-widgets/base",
      "model_module_version": "1.2.0",
      "model_name": "LayoutModel",
      "state": {}
     },
     "13e2564bb813496a9fe8a8a618109eff": {
      "model_module": "@jupyter-widgets/controls",
      "model_module_version": "1.5.0",
      "model_name": "HBoxModel",
      "state": {
       "children": [
        "IPY_MODEL_5d57b31b70ab401182d4571bd820aeca",
        "IPY_MODEL_93622fe6937f4605a871e065d4ed3008",
        "IPY_MODEL_b2fd1676cfc9432e80f7990cf343bd4e"
       ],
       "layout": "IPY_MODEL_87905b94b3cf4fafb0261506110687d5"
      }
     },
     "1406ba5af04a480baeccbcdc533082a5": {
      "model_module": "@jupyter-widgets/base",
      "model_module_version": "1.2.0",
      "model_name": "LayoutModel",
      "state": {
       "flex_flow": "row wrap",
       "justify_content": "space-around"
      }
     },
     "141c0912b09e422bb0c93b0a55383890": {
      "model_module": "@jupyter-widgets/controls",
      "model_module_version": "1.5.0",
      "model_name": "DescriptionStyleModel",
      "state": {
       "description_width": ""
      }
     },
     "1468d91b96c2407294945354ffa84e77": {
      "model_module": "@jupyter-widgets/controls",
      "model_module_version": "1.5.0",
      "model_name": "ButtonStyleModel",
      "state": {}
     },
     "14746acf83664855a05d623943a521ae": {
      "model_module": "@jupyter-widgets/controls",
      "model_module_version": "1.5.0",
      "model_name": "DescriptionStyleModel",
      "state": {
       "description_width": ""
      }
     },
     "14a6bc9f71a84c3ca28a319dbd613dcc": {
      "model_module": "@jupyter-widgets/controls",
      "model_module_version": "1.5.0",
      "model_name": "DescriptionStyleModel",
      "state": {
       "description_width": ""
      }
     },
     "14ac1c7acedb4b4f8ef005ca8700024c": {
      "model_module": "@jupyter-widgets/controls",
      "model_module_version": "1.5.0",
      "model_name": "DescriptionStyleModel",
      "state": {
       "description_width": ""
      }
     },
     "14c42d4eeebb444a93536a0613b284dd": {
      "model_module": "@jupyter-widgets/base",
      "model_module_version": "1.2.0",
      "model_name": "LayoutModel",
      "state": {
       "width": "150px"
      }
     },
     "14f522fd2fd24732bc86a5515bfabd50": {
      "model_module": "@jupyter-widgets/controls",
      "model_module_version": "1.5.0",
      "model_name": "DescriptionStyleModel",
      "state": {
       "description_width": ""
      }
     },
     "150cbb1499e94340991f7e37dc9bcebd": {
      "model_module": "@jupyter-widgets/controls",
      "model_module_version": "1.5.0",
      "model_name": "VBoxModel",
      "state": {
       "children": [
        "IPY_MODEL_f363c2a9593f443e8d24b329e1a2d926",
        "IPY_MODEL_1abbabc41ba44b0d928bf37857cb73cd"
       ],
       "layout": "IPY_MODEL_4b7552e5d8974f719af6189f69ec1a20"
      }
     },
     "151d4cd19704496b81b6768e2ef2bb70": {
      "model_module": "@jupyter-widgets/controls",
      "model_module_version": "1.5.0",
      "model_name": "HTMLMathModel",
      "state": {
       "layout": "IPY_MODEL_f716d79fea354c018b8acdfbadf8b2a0",
       "style": "IPY_MODEL_f4ed553abd55484dbc6eb44905cee816",
       "value": "Enter here the values of the right hand side vector $b$"
      }
     },
     "1533142d76394219893639590182eb2c": {
      "model_module": "@jupyter-widgets/controls",
      "model_module_version": "1.5.0",
      "model_name": "ButtonModel",
      "state": {
       "description": "Multiply row",
       "layout": "IPY_MODEL_cd890d51764c44c9804a75ceb3cbebf9",
       "style": "IPY_MODEL_4f18eac6d3c84c75aeff7351c5a190e5"
      }
     },
     "15369d6e49984de4a53e22d903185d7c": {
      "model_module": "@jupyter-widgets/controls",
      "model_module_version": "1.5.0",
      "model_name": "DescriptionStyleModel",
      "state": {
       "description_width": ""
      }
     },
     "15413ae3fbd1435c9debce26f7104432": {
      "model_module": "@jupyter-widgets/controls",
      "model_module_version": "1.5.0",
      "model_name": "TextModel",
      "state": {
       "layout": "IPY_MODEL_efe34e22991049d5b12a19c5a386a8dc",
       "style": "IPY_MODEL_c6720c7ef8544e2d8b95c2f7ceabdd2e",
       "value": "1"
      }
     },
     "157ae4e77b3947a8abde54620b799bc9": {
      "model_module": "@jupyter-widgets/controls",
      "model_module_version": "1.5.0",
      "model_name": "DescriptionStyleModel",
      "state": {
       "description_width": ""
      }
     },
     "1583ba30c5a1455b900fbd83b5ad5407": {
      "model_module": "@jupyter-widgets/base",
      "model_module_version": "1.2.0",
      "model_name": "LayoutModel",
      "state": {}
     },
     "1584ef30857a49f79e9f10bce010f5d8": {
      "model_module": "@jupyter-widgets/controls",
      "model_module_version": "1.5.0",
      "model_name": "DescriptionStyleModel",
      "state": {
       "description_width": ""
      }
     },
     "15c3c18194494f949a990d3788677e1a": {
      "model_module": "@jupyter-widgets/controls",
      "model_module_version": "1.5.0",
      "model_name": "VBoxModel",
      "state": {
       "children": [
        "IPY_MODEL_ab48570210694ea1a1c9ea63aa7e5076",
        "IPY_MODEL_505394b5f5384a479a0e01fade47768e",
        "IPY_MODEL_a535938a924440dd8765a4b4c0215797"
       ],
       "layout": "IPY_MODEL_4d9d3a0430fb47ada318b10222279b0e"
      }
     },
     "15c703e8676e47de90af9006c89c94c2": {
      "model_module": "@jupyter-widgets/controls",
      "model_module_version": "1.5.0",
      "model_name": "DescriptionStyleModel",
      "state": {
       "description_width": ""
      }
     },
     "15ca9276830c4b84abbb569829e3bfe2": {
      "model_module": "@jupyter-widgets/controls",
      "model_module_version": "1.5.0",
      "model_name": "TextModel",
      "state": {
       "layout": "IPY_MODEL_35e7cd5dc3a344c7867ddf08fc7e1130",
       "style": "IPY_MODEL_5d42a8c6dc014997860aaa4600b2405b",
       "value": "-1"
      }
     },
     "15cb1eba10714e2095f4d934b9f73e07": {
      "model_module": "@jupyter-widgets/base",
      "model_module_version": "1.2.0",
      "model_name": "LayoutModel",
      "state": {
       "width": "40px"
      }
     },
     "15d7c0a375b44586b4132ddc54104639": {
      "model_module": "@jupyter-widgets/controls",
      "model_module_version": "1.5.0",
      "model_name": "DescriptionStyleModel",
      "state": {
       "description_width": ""
      }
     },
     "15e77a75434b49029f53d5327c55e995": {
      "model_module": "@jupyter-widgets/controls",
      "model_module_version": "1.5.0",
      "model_name": "TextModel",
      "state": {
       "layout": "IPY_MODEL_efe34e22991049d5b12a19c5a386a8dc",
       "style": "IPY_MODEL_450cffb3b87b4e80bda5c3ab7d2c8db2",
       "value": "1"
      }
     },
     "15fa0341b33c48088508f13de8ab7089": {
      "model_module": "@jupyter-widgets/controls",
      "model_module_version": "1.5.0",
      "model_name": "HTMLMathModel",
      "state": {
       "layout": "IPY_MODEL_dc62ff2c7b3746f789fbbf6c8188f48d",
       "style": "IPY_MODEL_a7e6b445309d4479b5fe494f64a78dd7",
       "value": "$$ $$$$ \\left[\\begin{array}{ rrr|rrr }\n\\color{ blue }{ 4 } & \\color{ blue }{ 1 } & \\color{ blue }{ -2 } & \\color{ blue }{ 1 } & \\color{ blue }{ 0 } & \\color{ blue }{ 0 } \\\\\n\\color{ red }{ 3 } & \\color{ red }{ -1 } & \\color{ red }{ 1 } & \\color{ red }{ 0 } & \\color{ red }{ 1 } & \\color{ red }{ 0 } \\\\\n1 & -1 & 1 & 0 & 0 & 1\n\\end{array}\\right ]\\stackrel{ \\color{blue}{R_1} \\leftrightarrow \\color{red}{R_2}}{\\Longrightarrow}\\left [\\begin{array}{ rrr|rrr }\n\\color{ red }{ 3 } & \\color{ red }{ -1 } & \\color{ red }{ 1 } & \\color{ red }{ 0 } & \\color{ red }{ 1 } & \\color{ red }{ 0 } \\\\\n\\color{ blue }{ 4 } & \\color{ blue }{ 1 } & \\color{ blue }{ -2 } & \\color{ blue }{ 1 } & \\color{ blue }{ 0 } & \\color{ blue }{ 0 } \\\\\n1 & -1 & 1 & 0 & 0 & 1\n\\end{array}\\right ] $$$$ $$$$ \\left[\\begin{array}{ rrr|rrr }\n\\color{ blue }{ 3 } & \\color{ blue }{ -1 } & \\color{ blue }{ 1 } & \\color{ blue }{ 0 } & \\color{ blue }{ 1 } & \\color{ blue }{ 0 } \\\\\n4 & 1 & -2 & 1 & 0 & 0 \\\\\n\\color{ red }{ 1 } & \\color{ red }{ -1 } & \\color{ red }{ 1 } & \\color{ red }{ 0 } & \\color{ red }{ 0 } & \\color{ red }{ 1 }\n\\end{array}\\right ]\\stackrel{ \\color{blue}{R_1} \\leftrightarrow \\color{red}{R_3}}{\\Longrightarrow}\\left [\\begin{array}{ rrr|rrr }\n\\color{ red }{ 1 } & \\color{ red }{ -1 } & \\color{ red }{ 1 } & \\color{ red }{ 0 } & \\color{ red }{ 0 } & \\color{ red }{ 1 } \\\\\n4 & 1 & -2 & 1 & 0 & 0 \\\\\n\\color{ blue }{ 3 } & \\color{ blue }{ -1 } & \\color{ blue }{ 1 } & \\color{ blue }{ 0 } & \\color{ blue }{ 1 } & \\color{ blue }{ 0 }\n\\end{array}\\right ] $$$$ $$$$ \\left[\\begin{array}{ rrr|rrr }\n\\color{ blue }{ 1 } & \\color{ blue }{ -1 } & \\color{ blue }{ 1 } & \\color{ blue }{ 0 } & \\color{ blue }{ 0 } & \\color{ blue }{ 1 } \\\\\n\\color{ red }{ 4 } & \\color{ red }{ 1 } & \\color{ red }{ -2 } & \\color{ red }{ 1 } & \\color{ red }{ 0 } & \\color{ red }{ 0 } \\\\\n3 & -1 & 1 & 0 & 1 & 0\n\\end{array}\\right ]\\stackrel{ -4\\color{blue}{R_1} + \\color{red}{R_2} \\to \\color{green}{R_2}}{\\Longrightarrow}\\left [\\begin{array}{ rrr|rrr }\n\\color{ blue }{ 1 } & \\color{ blue }{ -1 } & \\color{ blue }{ 1 } & \\color{ blue }{ 0 } & \\color{ blue }{ 0 } & \\color{ blue }{ 1 } \\\\\n\\color{ green }{ 0 } & \\color{ green }{ 5 } & \\color{ green }{ -6 } & \\color{ green }{ 1 } & \\color{ green }{ 0 } & \\color{ green }{ -4 } \\\\\n3 & -1 & 1 & 0 & 1 & 0\n\\end{array}\\right ] $$$$ $$$$ \\left[\\begin{array}{ rrr|rrr }\n\\color{ blue }{ 1 } & \\color{ blue }{ -1 } & \\color{ blue }{ 1 } & \\color{ blue }{ 0 } & \\color{ blue }{ 0 } & \\color{ blue }{ 1 } \\\\\n0 & 5 & -6 & 1 & 0 & -4 \\\\\n\\color{ red }{ 3 } & \\color{ red }{ -1 } & \\color{ red }{ 1 } & \\color{ red }{ 0 } & \\color{ red }{ 1 } & \\color{ red }{ 0 }\n\\end{array}\\right ]\\stackrel{ -3\\color{blue}{R_1} + \\color{red}{R_3} \\to \\color{green}{R_3}}{\\Longrightarrow}\\left [\\begin{array}{ rrr|rrr }\n\\color{ blue }{ 1 } & \\color{ blue }{ -1 } & \\color{ blue }{ 1 } & \\color{ blue }{ 0 } & \\color{ blue }{ 0 } & \\color{ blue }{ 1 } \\\\\n0 & 5 & -6 & 1 & 0 & -4 \\\\\n\\color{ green }{ 0 } & \\color{ green }{ 2 } & \\color{ green }{ -2 } & \\color{ green }{ 0 } & \\color{ green }{ 1 } & \\color{ green }{ -3 }\n\\end{array}\\right ] $$$$ $$$$ \\left[\\begin{array}{ rrr|rrr }\n1 & -1 & 1 & 0 & 0 & 1 \\\\\n\\color{ blue }{ 0 } & \\color{ blue }{ 5 } & \\color{ blue }{ -6 } & \\color{ blue }{ 1 } & \\color{ blue }{ 0 } & \\color{ blue }{ -4 } \\\\\n\\color{ red }{ 0 } & \\color{ red }{ 2 } & \\color{ red }{ -2 } & \\color{ red }{ 0 } & \\color{ red }{ 1 } & \\color{ red }{ -3 }\n\\end{array}\\right ]\\stackrel{ \\color{blue}{R_2} \\leftrightarrow \\color{red}{R_3}}{\\Longrightarrow}\\left [\\begin{array}{ rrr|rrr }\n1 & -1 & 1 & 0 & 0 & 1 \\\\\n\\color{ red }{ 0 } & \\color{ red }{ 2 } & \\color{ red }{ -2 } & \\color{ red }{ 0 } & \\color{ red }{ 1 } & \\color{ red }{ -3 } \\\\\n\\color{ blue }{ 0 } & \\color{ blue }{ 5 } & \\color{ blue }{ -6 } & \\color{ blue }{ 1 } & \\color{ blue }{ 0 } & \\color{ blue }{ -4 }\n\\end{array}\\right ] $$$$ $$$$ \\left[\\begin{array}{ rrr|rrr }\n1 & -1 & 1 & 0 & 0 & 1 \\\\\n\\color{ red }{ 0 } & \\color{ red }{ 2 } & \\color{ red }{ -2 } & \\color{ red }{ 0 } & \\color{ red }{ 1 } & \\color{ red }{ -3 } \\\\\n0 & 5 & -6 & 1 & 0 & -4\n\\end{array}\\right ]\\stackrel{ 1/2 \\,\\color{red}{R_2} \\to \\color{green}{R_2}}{\\Longrightarrow}\\left [\\begin{array}{ rrr|rrr }\n1 & -1 & 1 & 0 & 0 & 1 \\\\\n\\color{ green }{ 0 } & \\color{ green }{ 1 } & \\color{ green }{ -1 } & \\color{ green }{ 0 } & \\color{ green }{ 1/2 } & \\color{ green }{ -3/2 } \\\\\n0 & 5 & -6 & 1 & 0 & -4\n\\end{array}\\right ] $$$$ $$$$ \\left[\\begin{array}{ rrr|rrr }\n1 & -1 & 1 & 0 & 0 & 1 \\\\\n\\color{ blue }{ 0 } & \\color{ blue }{ 1 } & \\color{ blue }{ -1 } & \\color{ blue }{ 0 } & \\color{ blue }{ 1/2 } & \\color{ blue }{ -3/2 } \\\\\n\\color{ red }{ 0 } & \\color{ red }{ 5 } & \\color{ red }{ -6 } & \\color{ red }{ 1 } & \\color{ red }{ 0 } & \\color{ red }{ -4 }\n\\end{array}\\right ]\\stackrel{ -5\\color{blue}{R_2} + \\color{red}{R_3} \\to \\color{green}{R_3}}{\\Longrightarrow}\\left [\\begin{array}{ rrr|rrr }\n1 & -1 & 1 & 0 & 0 & 1 \\\\\n\\color{ blue }{ 0 } & \\color{ blue }{ 1 } & \\color{ blue }{ -1 } & \\color{ blue }{ 0 } & \\color{ blue }{ 1/2 } & \\color{ blue }{ -3/2 } \\\\\n\\color{ green }{ 0 } & \\color{ green }{ 0 } & \\color{ green }{ -1 } & \\color{ green }{ 1 } & \\color{ green }{ -5/2 } & \\color{ green }{ 7/2 }\n\\end{array}\\right ] $$$$ $$$$ \\left[\\begin{array}{ rrr|rrr }\n1 & -1 & 1 & 0 & 0 & 1 \\\\\n0 & 1 & -1 & 0 & 1/2 & -3/2 \\\\\n\\color{ red }{ 0 } & \\color{ red }{ 0 } & \\color{ red }{ -1 } & \\color{ red }{ 1 } & \\color{ red }{ -5/2 } & \\color{ red }{ 7/2 }\n\\end{array}\\right ]\\stackrel{ -1 \\,\\color{red}{R_3} \\to \\color{green}{R_3}}{\\Longrightarrow}\\left [\\begin{array}{ rrr|rrr }\n1 & -1 & 1 & 0 & 0 & 1 \\\\\n0 & 1 & -1 & 0 & 1/2 & -3/2 \\\\\n\\color{ green }{ 0 } & \\color{ green }{ 0 } & \\color{ green }{ 1 } & \\color{ green }{ -1 } & \\color{ green }{ 5/2 } & \\color{ green }{ -7/2 }\n\\end{array}\\right ] $$$$ $${\\bf A} {\\bf B} = $$ \\left[\\begin{array}{ rrr }\n4 & 1 & -2 \\\\\n3 & -1 & 1 \\\\\n1 & -1 & 1\n\\end{array}\\right ]\\left [\\begin{array}{ rrr }\n0 & 0 & 1 \\\\\n0 & 1/2 & -3/2 \\\\\n-1 & 5/2 & -7/2\n\\end{array}\\right ] $$"
      }
     },
     "1629eb5d09ba4794a7795e65eb55d4d2": {
      "model_module": "@jupyter-widgets/base",
      "model_module_version": "1.2.0",
      "model_name": "LayoutModel",
      "state": {
       "width": "150px"
      }
     },
     "1636a72511dd4b81834efbb002534283": {
      "model_module": "@jupyter-widgets/base",
      "model_module_version": "1.2.0",
      "model_name": "LayoutModel",
      "state": {
       "align_items": "center",
       "flex_flow": "row wrap",
       "height": "70px",
       "justify_content": "space-around"
      }
     },
     "16506dc3b5f9426fa2760d8a18a3f178": {
      "model_module": "@jupyter-widgets/controls",
      "model_module_version": "1.5.0",
      "model_name": "TextModel",
      "state": {
       "layout": "IPY_MODEL_201e1a4ee32840b19f981690bdacf3ae",
       "style": "IPY_MODEL_56b063aa808a4e4288063755efeae76e",
       "value": "-6"
      }
     },
     "1697ca7de2b14b059e57e92996030e9f": {
      "model_module": "@jupyter-widgets/base",
      "model_module_version": "1.2.0",
      "model_name": "LayoutModel",
      "state": {}
     },
     "1698fc2ea89940b3afa9a5726c23a0d2": {
      "model_module": "@jupyter-widgets/controls",
      "model_module_version": "1.5.0",
      "model_name": "DescriptionStyleModel",
      "state": {
       "description_width": ""
      }
     },
     "16a5b1ce60bc48b4b33c971494166401": {
      "model_module": "@jupyter-widgets/controls",
      "model_module_version": "1.5.0",
      "model_name": "HBoxModel",
      "state": {
       "children": [
        "IPY_MODEL_446bd0f86a6044d79e7e10a2c7a2d9bf",
        "IPY_MODEL_580d13390c1f455fa295ac08753af4c4",
        "IPY_MODEL_29e20250ef5a4f98937bffb4dd3a2816"
       ],
       "layout": "IPY_MODEL_4e7ce9bdf5004837b0ab930a8085aa33"
      }
     },
     "16b1c7f4cfd3488e80cc90283b45f171": {
      "model_module": "@jupyter-widgets/controls",
      "model_module_version": "1.5.0",
      "model_name": "DescriptionStyleModel",
      "state": {
       "description_width": ""
      }
     },
     "16d10af4b2ee4e189f770da47880e72b": {
      "model_module": "@jupyter-widgets/controls",
      "model_module_version": "1.5.0",
      "model_name": "DescriptionStyleModel",
      "state": {
       "description_width": ""
      }
     },
     "16d7e588c06e43bfb642ae0ff98faaa0": {
      "model_module": "@jupyter-widgets/controls",
      "model_module_version": "1.5.0",
      "model_name": "TextModel",
      "state": {
       "layout": "IPY_MODEL_250753b918e0432c803452a019d33c5c",
       "style": "IPY_MODEL_7eeee1955ce74ebd9fc09516b8fb2ba3",
       "value": "2"
      }
     },
     "16eaf48503304fc5a756b0fb1c5803f3": {
      "model_module": "@jupyter-widgets/base",
      "model_module_version": "1.2.0",
      "model_name": "LayoutModel",
      "state": {
       "width": "100px"
      }
     },
     "16f6262952aa4a2a9e761c09c6bfab12": {
      "model_module": "@jupyter-widgets/controls",
      "model_module_version": "1.5.0",
      "model_name": "TextModel",
      "state": {
       "layout": "IPY_MODEL_a21d52801ae94e44813bb1c00d81c473",
       "style": "IPY_MODEL_a497970313864f46b898085fa5aafa82",
       "value": "4"
      }
     },
     "17076c2c2b174ef3be2823763c097861": {
      "model_module": "@jupyter-widgets/controls",
      "model_module_version": "1.5.0",
      "model_name": "DropdownModel",
      "state": {
       "_options_labels": [
        "1",
        "2",
        "3"
       ],
       "description": "Add row",
       "index": 0,
       "layout": "IPY_MODEL_ea966ab4a96146bea3b76b38c891ef66",
       "style": "IPY_MODEL_8669bb10a8bf428593854433bdbede9e"
      }
     },
     "171d71039d1947fb980da20c068a0690": {
      "model_module": "@jupyter-widgets/controls",
      "model_module_version": "1.5.0",
      "model_name": "HBoxModel",
      "state": {
       "children": [
        "IPY_MODEL_24de0fc4349f49dca93eff3358c148d2",
        "IPY_MODEL_d2734faefdb7480eb2354117a15b2297"
       ],
       "layout": "IPY_MODEL_a7192a4cd93f41d6ad11286ea82bc14e"
      }
     },
     "17504ed2cec749d3862b9249bb6cec20": {
      "model_module": "@jupyter-widgets/controls",
      "model_module_version": "1.5.0",
      "model_name": "ButtonStyleModel",
      "state": {}
     },
     "175a4ea0951a42aba45be01648f408c6": {
      "model_module": "@jupyter-widgets/base",
      "model_module_version": "1.2.0",
      "model_name": "LayoutModel",
      "state": {
       "width": "150px"
      }
     },
     "1762cc6f207747919ca28897fba82d70": {
      "model_module": "@jupyter-widgets/controls",
      "model_module_version": "1.5.0",
      "model_name": "TextModel",
      "state": {
       "description": "times",
       "layout": "IPY_MODEL_30414b9b4b28414baf7f22c252767ef7",
       "style": "IPY_MODEL_92e4cd8b5f67430ab79f31dc4dfa893a",
       "value": "1/10"
      }
     },
     "17679fd8bf4c43feac1b47de092afe6d": {
      "model_module": "@jupyter-widgets/controls",
      "model_module_version": "1.5.0",
      "model_name": "DescriptionStyleModel",
      "state": {
       "description_width": ""
      }
     },
     "1783e8f560bc4d1a8dc9b14626f8b0ad": {
      "model_module": "@jupyter-widgets/controls",
      "model_module_version": "1.5.0",
      "model_name": "VBoxModel",
      "state": {
       "children": [
        "IPY_MODEL_fec747be70df4a558b3088f2dcf3c1f7",
        "IPY_MODEL_43235a77f49940c0aee85f719894d192",
        "IPY_MODEL_b54771b656be4d48a53bf86e18bf3e9d"
       ],
       "layout": "IPY_MODEL_0e3670d7a37d4366a34fab339b9308e1"
      }
     },
     "178963f860734af49feb5cf335e970a4": {
      "model_module": "@jupyter-widgets/controls",
      "model_module_version": "1.5.0",
      "model_name": "DescriptionStyleModel",
      "state": {
       "description_width": ""
      }
     },
     "17ac7a7304e24b929c8a9efc4d89c5a6": {
      "model_module": "@jupyter-widgets/controls",
      "model_module_version": "1.5.0",
      "model_name": "DescriptionStyleModel",
      "state": {
       "description_width": ""
      }
     },
     "17b71db5681b4d258bb0205f930b72b9": {
      "model_module": "@jupyter-widgets/controls",
      "model_module_version": "1.5.0",
      "model_name": "DescriptionStyleModel",
      "state": {
       "description_width": ""
      }
     },
     "17b944bd4f7d4fa28d86e6943cfe919f": {
      "model_module": "@jupyter-widgets/base",
      "model_module_version": "1.2.0",
      "model_name": "LayoutModel",
      "state": {}
     },
     "17bc9321de474f2fac9acb7e2c6ec572": {
      "model_module": "@jupyter-widgets/controls",
      "model_module_version": "1.5.0",
      "model_name": "TextModel",
      "state": {
       "layout": "IPY_MODEL_d29f4c6323274c2ea715833a610068a5",
       "style": "IPY_MODEL_347d689d18c046a09ff914f4d3497591",
       "value": "5"
      }
     },
     "17c48bff25c94e1b8ebf18d1cd4f8066": {
      "model_module": "@jupyter-widgets/controls",
      "model_module_version": "1.5.0",
      "model_name": "BoxModel",
      "state": {
       "children": [
        "IPY_MODEL_171d71039d1947fb980da20c068a0690",
        "IPY_MODEL_c97077be0d1443ba9a1ee5cd5821c9f4",
        "IPY_MODEL_af6de9f6c4424dc989b783ffcc139792",
        "IPY_MODEL_78ef9a42c5254c6f9df62864fd4345a9"
       ],
       "layout": "IPY_MODEL_9e523b43626a434d8e9b35924bb6dad3"
      }
     },
     "17d1c86131f44115a4f6956b6bf744fe": {
      "model_module": "@jupyter-widgets/controls",
      "model_module_version": "1.5.0",
      "model_name": "HBoxModel",
      "state": {
       "children": [
        "IPY_MODEL_ca87561f5fd04a02aac6b22183ec0238",
        "IPY_MODEL_e7484725f42f4170b3e5cf05fb1c8645"
       ],
       "layout": "IPY_MODEL_b9b78ce0d8454ab9a46163f0cc35fd0d"
      }
     },
     "17e0c499ff3b41f7acfe1f46931781d3": {
      "model_module": "@jupyter-widgets/base",
      "model_module_version": "1.2.0",
      "model_name": "LayoutModel",
      "state": {}
     },
     "180cd0a7f14c4ce0aed9cf0ab1204918": {
      "model_module": "@jupyter-widgets/controls",
      "model_module_version": "1.5.0",
      "model_name": "DescriptionStyleModel",
      "state": {
       "description_width": ""
      }
     },
     "180e518928984c238e151e47659d3495": {
      "model_module": "@jupyter-widgets/controls",
      "model_module_version": "1.5.0",
      "model_name": "DescriptionStyleModel",
      "state": {
       "description_width": ""
      }
     },
     "184e93dc1c4948b69d1c58ec50fe5422": {
      "model_module": "@jupyter-widgets/controls",
      "model_module_version": "1.5.0",
      "model_name": "DropdownModel",
      "state": {
       "_options_labels": [
        "1",
        "2",
        "3"
       ],
       "description": "Row",
       "index": 2,
       "layout": "IPY_MODEL_525dbddc956b4309b8b15b567944b082",
       "style": "IPY_MODEL_eae4ce228155493c82a816d0d56a61ca"
      }
     },
     "185109d8aed640948e66a2ae273abaff": {
      "model_module": "@jupyter-widgets/controls",
      "model_module_version": "1.5.0",
      "model_name": "TextModel",
      "state": {
       "layout": "IPY_MODEL_efe34e22991049d5b12a19c5a386a8dc",
       "style": "IPY_MODEL_c63a53cfada54e5daa8ec113ed1e655a",
       "value": "-1"
      }
     },
     "18595dde49b44358a1957b07f35a3c0a": {
      "model_module": "@jupyter-widgets/controls",
      "model_module_version": "1.5.0",
      "model_name": "BoxModel",
      "state": {
       "children": [
        "IPY_MODEL_558283ed6ad54b00920c3b7ee41643b9",
        "IPY_MODEL_8afe343619064fa8bfdfef8806d989d0",
        "IPY_MODEL_67192b9a5077409d860c21c16101abd3"
       ],
       "layout": "IPY_MODEL_a7afe44bc9fb4882878b9cf9d5862e42"
      }
     },
     "185ca62ad59b4fb1898de88daadfbf19": {
      "model_module": "@jupyter-widgets/controls",
      "model_module_version": "1.5.0",
      "model_name": "HBoxModel",
      "state": {
       "children": [
        "IPY_MODEL_d9d3994636a44eaaa5a0469788291ebe",
        "IPY_MODEL_02918147d93c4a498574ec9ca08427b7"
       ],
       "layout": "IPY_MODEL_b690ed8b742a4bc292fd270f6229f2a7"
      }
     },
     "186e0f28be0f4346842b6d3e08d280e9": {
      "model_module": "@jupyter-widgets/base",
      "model_module_version": "1.2.0",
      "model_name": "LayoutModel",
      "state": {
       "width": "40px"
      }
     },
     "186fa258249b4acbbc2a2c1f49845ef6": {
      "model_module": "@jupyter-widgets/controls",
      "model_module_version": "1.5.0",
      "model_name": "DescriptionStyleModel",
      "state": {
       "description_width": ""
      }
     },
     "1871a56a6ab8421590af257b22560775": {
      "model_module": "@jupyter-widgets/controls",
      "model_module_version": "1.5.0",
      "model_name": "HBoxModel",
      "state": {
       "children": [
        "IPY_MODEL_fe622aa4ab214246846bce2694058050",
        "IPY_MODEL_074dcffb329d41e0b705f0b7cfca2dbf",
        "IPY_MODEL_58a762b6c031406689088f17ea2fd5f1"
       ],
       "layout": "IPY_MODEL_567d1ad56ef245ab814ee2cdad898117"
      }
     },
     "1889a9609800451db09a2050d18710ff": {
      "model_module": "@jupyter-widgets/base",
      "model_module_version": "1.2.0",
      "model_name": "LayoutModel",
      "state": {
       "flex_flow": "row wrap",
       "justify_content": "space-around"
      }
     },
     "1893a0a1365446b982bde153f137f578": {
      "model_module": "@jupyter-widgets/controls",
      "model_module_version": "1.5.0",
      "model_name": "DescriptionStyleModel",
      "state": {
       "description_width": ""
      }
     },
     "189c5ad6960b4474b3465723934b56e7": {
      "model_module": "@jupyter-widgets/controls",
      "model_module_version": "1.5.0",
      "model_name": "DropdownModel",
      "state": {
       "_options_labels": [
        "1",
        "2",
        "3"
       ],
       "description": "Swap row",
       "index": 0,
       "layout": "IPY_MODEL_8fcf637cbe534cf7a48d3166e616981f",
       "style": "IPY_MODEL_7f8a1975cde346279e3fc383ba55deb9"
      }
     },
     "18d2348cfa1d4db09b100e265839fc1d": {
      "model_module": "@jupyter-widgets/controls",
      "model_module_version": "1.5.0",
      "model_name": "ButtonModel",
      "state": {
       "description": "Start",
       "layout": "IPY_MODEL_de69e4c502904d80b39c48d4999dd7df",
       "style": "IPY_MODEL_5b414281e78848ad91a594c1f31ed7ec"
      }
     },
     "18e77e13623f45fc9698915ad866fc2b": {
      "model_module": "@jupyter-widgets/controls",
      "model_module_version": "1.5.0",
      "model_name": "BoxModel",
      "state": {
       "children": [
        "IPY_MODEL_d14b119ca725417c9d65ce255efe8b4e",
        "IPY_MODEL_0999378733a24bab863bad390d16ee41",
        "IPY_MODEL_8abba779255f4a47b15c0cfd01d3a27e",
        "IPY_MODEL_3263fa349260464ea52668dc5ad42812"
       ],
       "layout": "IPY_MODEL_527bb8380c37401087bcd28e94711a8c"
      }
     },
     "18e800eadb0a403fac297973b35ed653": {
      "model_module": "@jupyter-widgets/controls",
      "model_module_version": "1.5.0",
      "model_name": "ButtonStyleModel",
      "state": {}
     },
     "18ec50b8b9c44eaf92b6b1fb66d7aa90": {
      "model_module": "@jupyter-widgets/controls",
      "model_module_version": "1.5.0",
      "model_name": "TextModel",
      "state": {
       "layout": "IPY_MODEL_36d600bb3cb144de8da56ca358490108",
       "style": "IPY_MODEL_8223f2d74d7d4c7791dc88c3cd2a3204",
       "value": "-1"
      }
     },
     "18f7695f0ad84174a2536ebe3d32a1f1": {
      "model_module": "@jupyter-widgets/controls",
      "model_module_version": "1.5.0",
      "model_name": "HBoxModel",
      "state": {
       "children": [
        "IPY_MODEL_49ef03a562e24aafa9efe4ff8db8dba4",
        "IPY_MODEL_d627a5402c1d4b18adfb2315ca5e7443",
        "IPY_MODEL_13b0cece1d994686a9564a07dbded9d3"
       ],
       "layout": "IPY_MODEL_52f606d2574a4911a171797a185d8783"
      }
     },
     "18fd9c9e3fab4b82905f86e510e38efa": {
      "model_module": "@jupyter-widgets/controls",
      "model_module_version": "1.5.0",
      "model_name": "VBoxModel",
      "state": {
       "children": [
        "IPY_MODEL_58327644063c40c8a4e4c056c7d83d33",
        "IPY_MODEL_4a7d00f4daf54401bd301335c28af0d7",
        "IPY_MODEL_7c259f08ae934843b0e94cf048a41c10"
       ],
       "layout": "IPY_MODEL_9ee6ca50dda64de3acdf8ba133d08c6b"
      }
     },
     "19204e2d0c2f4765a74dc262b2b95d84": {
      "model_module": "@jupyter-widgets/controls",
      "model_module_version": "1.5.0",
      "model_name": "DescriptionStyleModel",
      "state": {
       "description_width": ""
      }
     },
     "194d5881fb18447585798b14c51e301b": {
      "model_module": "@jupyter-widgets/base",
      "model_module_version": "1.2.0",
      "model_name": "LayoutModel",
      "state": {
       "height": "35px",
       "width": "30px"
      }
     },
     "194d9d1ee85c4bb2bbd6da3bbc0be3c7": {
      "model_module": "@jupyter-widgets/controls",
      "model_module_version": "1.5.0",
      "model_name": "ButtonStyleModel",
      "state": {}
     },
     "196bccd9b03140a58c0b9186b5083d6d": {
      "model_module": "@jupyter-widgets/controls",
      "model_module_version": "1.5.0",
      "model_name": "DescriptionStyleModel",
      "state": {
       "description_width": ""
      }
     },
     "1985116ce6744f2c96a0811b499c56e2": {
      "model_module": "@jupyter-widgets/controls",
      "model_module_version": "1.5.0",
      "model_name": "ButtonModel",
      "state": {
       "description": "Add rows",
       "layout": "IPY_MODEL_78004ff1c9d841cf8cec3ddbed8f9810",
       "style": "IPY_MODEL_7ae152d7f79d4e32a940c0fc8aeefb8d"
      }
     },
     "19ab22d813214a56a256fddcce27c4e1": {
      "model_module": "@jupyter-widgets/base",
      "model_module_version": "1.2.0",
      "model_name": "LayoutModel",
      "state": {
       "flex_flow": "row wrap",
       "justify_content": "space-around"
      }
     },
     "19b0bad4e8d84674b586335be18536fe": {
      "model_module": "@jupyter-widgets/controls",
      "model_module_version": "1.5.0",
      "model_name": "DescriptionStyleModel",
      "state": {
       "description_width": ""
      }
     },
     "19cbe962e8c54b8785f50134b7747dc1": {
      "model_module": "@jupyter-widgets/base",
      "model_module_version": "1.2.0",
      "model_name": "LayoutModel",
      "state": {
       "width": "40px"
      }
     },
     "19e16f9a6d32479b8e08846947605b0b": {
      "model_module": "@jupyter-widgets/controls",
      "model_module_version": "1.5.0",
      "model_name": "DescriptionStyleModel",
      "state": {
       "description_width": ""
      }
     },
     "19fa193cac964d278ae6c86bf2d59099": {
      "model_module": "@jupyter-widgets/controls",
      "model_module_version": "1.5.0",
      "model_name": "TextModel",
      "state": {
       "layout": "IPY_MODEL_250753b918e0432c803452a019d33c5c",
       "style": "IPY_MODEL_5f983e3acaac416e8a9921c86452432d",
       "value": "7"
      }
     },
     "1a3f7aab2c7543329557f2a3ecb54029": {
      "model_module": "@jupyter-widgets/controls",
      "model_module_version": "1.5.0",
      "model_name": "TextModel",
      "state": {
       "layout": "IPY_MODEL_d743f8ba50f447a3ad2d5faaa6a0e9e2",
       "style": "IPY_MODEL_b40eb410e1ce4ac6a5429c652689b637",
       "value": "9"
      }
     },
     "1a49f50980d546b78848028893a4217c": {
      "model_module": "@jupyter-widgets/controls",
      "model_module_version": "1.5.0",
      "model_name": "HBoxModel",
      "state": {
       "children": [
        "IPY_MODEL_320f3af34cef4fc99355b350cdc9ee47",
        "IPY_MODEL_08e87bb5ac5b4062bb89c33b52ec02a7"
       ],
       "layout": "IPY_MODEL_cee1a5dae95b4c51a73e85d33242b432"
      }
     },
     "1a4e7075c3ef4e43abe0ee10b4c30e5e": {
      "model_module": "@jupyter-widgets/controls",
      "model_module_version": "1.5.0",
      "model_name": "TextModel",
      "state": {
       "layout": "IPY_MODEL_250753b918e0432c803452a019d33c5c",
       "style": "IPY_MODEL_46964c4bbbc94785be24c627e3f60c9f",
       "value": "-1"
      }
     },
     "1a5171c310f54112bd530fb112b4fd83": {
      "model_module": "@jupyter-widgets/base",
      "model_module_version": "1.2.0",
      "model_name": "LayoutModel",
      "state": {
       "height": "300px",
       "justify_content": "center"
      }
     },
     "1a8624605d0e4ccab80dd4c6dae8c7da": {
      "model_module": "@jupyter-widgets/base",
      "model_module_version": "1.2.0",
      "model_name": "LayoutModel",
      "state": {}
     },
     "1a93b827117f4aa1b140037dd5db7012": {
      "model_module": "@jupyter-widgets/base",
      "model_module_version": "1.2.0",
      "model_name": "LayoutModel",
      "state": {
       "flex_flow": "row wrap",
       "justify_content": "space-around"
      }
     },
     "1aa7ea1c20e54848befdde683323c447": {
      "model_module": "@jupyter-widgets/controls",
      "model_module_version": "1.5.0",
      "model_name": "BoxModel",
      "state": {
       "children": [
        "IPY_MODEL_f17775995bdd45d9bfc1e67bb2b0bc06",
        "IPY_MODEL_a2b6a96f714d45e187f60f5f7435921f",
        "IPY_MODEL_2f737ba152f242e8b202c882f6da30f9"
       ],
       "layout": "IPY_MODEL_e10499a9d063472782d15c93d34716d6"
      }
     },
     "1ab781484dd24550b34507f44f2a186f": {
      "model_module": "@jupyter-widgets/controls",
      "model_module_version": "1.5.0",
      "model_name": "DescriptionStyleModel",
      "state": {
       "description_width": ""
      }
     },
     "1abbabc41ba44b0d928bf37857cb73cd": {
      "model_module": "@jupyter-widgets/controls",
      "model_module_version": "1.5.0",
      "model_name": "ButtonModel",
      "state": {
       "description": "Add rows",
       "layout": "IPY_MODEL_5ae5dd2c957749cda43de6e4ca5a2a0a",
       "style": "IPY_MODEL_baae6d59497b41ca8a0c653931e5c3cc"
      }
     },
     "1ad478fb93ac455096f343ff66be9ccf": {
      "model_module": "@jupyter-widgets/controls",
      "model_module_version": "1.5.0",
      "model_name": "DescriptionStyleModel",
      "state": {
       "description_width": ""
      }
     },
     "1ae9ca2c7aa344218ff0143264ccdd71": {
      "model_module": "@jupyter-widgets/controls",
      "model_module_version": "1.5.0",
      "model_name": "HBoxModel",
      "state": {
       "children": [
        "IPY_MODEL_202bcea152d8455fab230486ecd60886",
        "IPY_MODEL_49dd9cc77f46495083137b30377a9857",
        "IPY_MODEL_cb6395e0542b4504a1146f40e1f6620b"
       ],
       "layout": "IPY_MODEL_31712fbd2aa54f68a18fd31f523e1d26"
      }
     },
     "1af76ee5f0594bc7a6ec173107b18037": {
      "model_module": "@jupyter-widgets/controls",
      "model_module_version": "1.5.0",
      "model_name": "HTMLMathModel",
      "state": {
       "layout": "IPY_MODEL_99d435aca2024110b4a5617ab503fafc",
       "style": "IPY_MODEL_9c73f942b87642ed81933ab42fc9e355",
       "value": "Enter here the values of the right hand side vector $b$"
      }
     },
     "1af939db96cf44e581d786dce95ac2d9": {
      "model_module": "@jupyter-widgets/controls",
      "model_module_version": "1.5.0",
      "model_name": "TextModel",
      "state": {
       "layout": "IPY_MODEL_c0d9a1b66a034d3c880457f50a593771",
       "style": "IPY_MODEL_7aa8901eac2d4365bd057befb3070e2a",
       "value": "1"
      }
     },
     "1b3a773e66084685801c3502eddcfc1f": {
      "model_module": "@jupyter-widgets/controls",
      "model_module_version": "1.5.0",
      "model_name": "TextModel",
      "state": {
       "layout": "IPY_MODEL_201e1a4ee32840b19f981690bdacf3ae",
       "style": "IPY_MODEL_820d5503e5704a0d869352f6dd31a5df",
       "value": "1"
      }
     },
     "1b3c9f5758b948da9cc1e0f5db464056": {
      "model_module": "@jupyter-widgets/controls",
      "model_module_version": "1.5.0",
      "model_name": "DescriptionStyleModel",
      "state": {
       "description_width": ""
      }
     },
     "1b4128d059e64ccd9a69f046676d65dc": {
      "model_module": "@jupyter-widgets/controls",
      "model_module_version": "1.5.0",
      "model_name": "ButtonStyleModel",
      "state": {}
     },
     "1b4d08b4c0d64dd0bd8828b69e5609a7": {
      "model_module": "@jupyter-widgets/base",
      "model_module_version": "1.2.0",
      "model_name": "LayoutModel",
      "state": {}
     },
     "1b6235d99b964a2aa67e46def0a15dfa": {
      "model_module": "@jupyter-widgets/controls",
      "model_module_version": "1.5.0",
      "model_name": "DescriptionStyleModel",
      "state": {
       "description_width": ""
      }
     },
     "1b67125bc30f4371b0004013cb1f07b2": {
      "model_module": "@jupyter-widgets/controls",
      "model_module_version": "1.5.0",
      "model_name": "DescriptionStyleModel",
      "state": {
       "description_width": ""
      }
     },
     "1b7841a39b56460cafa5955fd02f0e70": {
      "model_module": "@jupyter-widgets/base",
      "model_module_version": "1.2.0",
      "model_name": "LayoutModel",
      "state": {
       "width": "90px"
      }
     },
     "1ba9b5a6948a4e00864cf684f2dedd49": {
      "model_module": "@jupyter-widgets/controls",
      "model_module_version": "1.5.0",
      "model_name": "DescriptionStyleModel",
      "state": {
       "description_width": ""
      }
     },
     "1babda5310064a1095c2a1ce71e0f253": {
      "model_module": "@jupyter-widgets/controls",
      "model_module_version": "1.5.0",
      "model_name": "DescriptionStyleModel",
      "state": {
       "description_width": ""
      }
     },
     "1bdfd78d4e0044cbba4909e665465369": {
      "model_module": "@jupyter-widgets/controls",
      "model_module_version": "1.5.0",
      "model_name": "DescriptionStyleModel",
      "state": {
       "description_width": ""
      }
     },
     "1c07b9a6df85462e8297014fc29ba5a4": {
      "model_module": "@jupyter-widgets/base",
      "model_module_version": "1.2.0",
      "model_name": "LayoutModel",
      "state": {
       "width": "90px"
      }
     },
     "1c09d5fa83504cc7b37edf1fca619c04": {
      "model_module": "@jupyter-widgets/base",
      "model_module_version": "1.2.0",
      "model_name": "LayoutModel",
      "state": {
       "justify_content": "space-between"
      }
     },
     "1c10ef4e9ece42b4946e427e251af35d": {
      "model_module": "@jupyter-widgets/base",
      "model_module_version": "1.2.0",
      "model_name": "LayoutModel",
      "state": {}
     },
     "1c16fd0d7dad4d59afb8c2f76a208770": {
      "model_module": "@jupyter-widgets/controls",
      "model_module_version": "1.5.0",
      "model_name": "DescriptionStyleModel",
      "state": {
       "description_width": ""
      }
     },
     "1c1bcb38cf6347d294c09c44ea5372c2": {
      "model_module": "@jupyter-widgets/base",
      "model_module_version": "1.2.0",
      "model_name": "LayoutModel",
      "state": {
       "width": "40px"
      }
     },
     "1c2e07a08f6f4529909c12f9e151ca96": {
      "model_module": "@jupyter-widgets/base",
      "model_module_version": "1.2.0",
      "model_name": "LayoutModel",
      "state": {
       "width": "150px"
      }
     },
     "1c331eeda1014ce2bd00b94476de78cf": {
      "model_module": "@jupyter-widgets/controls",
      "model_module_version": "1.5.0",
      "model_name": "ButtonStyleModel",
      "state": {}
     },
     "1c42016859284db5acf760b042fbe760": {
      "model_module": "@jupyter-widgets/controls",
      "model_module_version": "1.5.0",
      "model_name": "DropdownModel",
      "state": {
       "_options_labels": [
        "1",
        "2",
        "3"
       ],
       "description": "to row",
       "index": 1,
       "layout": "IPY_MODEL_882a386452c94d7baaf9bd4b3d9082ad",
       "style": "IPY_MODEL_54441dc8a73d4a059a82d04dd09c2e9a"
      }
     },
     "1c473fa3fa084f6fb6f32f4f09d42d23": {
      "model_module": "@jupyter-widgets/controls",
      "model_module_version": "1.5.0",
      "model_name": "HTMLMathModel",
      "state": {
       "layout": "IPY_MODEL_305d1587d7104b50a98b9af1a5c2ac27",
       "style": "IPY_MODEL_8abf4bfdb9574deb83d5526265325a76",
       "value": "Enter here the values of the right hand side vector $b$"
      }
     },
     "1c4a8fdc3c9946fdaa2fcfae6d91276b": {
      "model_module": "@jupyter-widgets/controls",
      "model_module_version": "1.5.0",
      "model_name": "DescriptionStyleModel",
      "state": {
       "description_width": ""
      }
     },
     "1c5730d8a32748b5a80bee5b82425007": {
      "model_module": "@jupyter-widgets/base",
      "model_module_version": "1.2.0",
      "model_name": "LayoutModel",
      "state": {
       "width": "120px"
      }
     },
     "1c59818f6bc749f799514eb3e286928d": {
      "model_module": "@jupyter-widgets/controls",
      "model_module_version": "1.5.0",
      "model_name": "ButtonModel",
      "state": {
       "description": "Add rows",
       "layout": "IPY_MODEL_a4e4041c55554d9f879528bdf0d02c51",
       "style": "IPY_MODEL_60f90b69f50244f989e62c8740030e40"
      }
     },
     "1c65bd6c489a4324b0c5b80d5f25a503": {
      "model_module": "@jupyter-widgets/controls",
      "model_module_version": "1.5.0",
      "model_name": "TextModel",
      "state": {
       "layout": "IPY_MODEL_66f664c2d36b4d74aa7cdd21ce7345c1",
       "style": "IPY_MODEL_3a819ce8a53d4558ab046e3dbda2b947",
       "value": "1"
      }
     },
     "1c750dcfb47c4baba6eb6629980f6f1d": {
      "model_module": "@jupyter-widgets/controls",
      "model_module_version": "1.5.0",
      "model_name": "DropdownModel",
      "state": {
       "_options_labels": [
        "1",
        "2",
        "3"
       ],
       "description": "Row",
       "index": 0,
       "layout": "IPY_MODEL_c02f467855d4488e8814190ca5bdc237",
       "style": "IPY_MODEL_42ad513782954a15b233720e00a72633"
      }
     },
     "1c9f1913e92c46f7bbcd8748cf38a0f2": {
      "model_module": "@jupyter-widgets/controls",
      "model_module_version": "1.5.0",
      "model_name": "TextModel",
      "state": {
       "layout": "IPY_MODEL_308f071668994851a29f0ae6fcc0bc14",
       "style": "IPY_MODEL_b528d2b908854d1b97e49c24e26ed163",
       "value": "1"
      }
     },
     "1cb0574fe7684b8fb47191d4c64450d4": {
      "model_module": "@jupyter-widgets/controls",
      "model_module_version": "1.5.0",
      "model_name": "TextModel",
      "state": {
       "layout": "IPY_MODEL_194d5881fb18447585798b14c51e301b",
       "style": "IPY_MODEL_c36672e4c69b40c8963b29175e86f8f0",
       "value": "1"
      }
     },
     "1ceaf9c9ac774ae985cae0c34af76539": {
      "model_module": "@jupyter-widgets/base",
      "model_module_version": "1.2.0",
      "model_name": "LayoutModel",
      "state": {
       "height": "35px",
       "width": "30px"
      }
     },
     "1cef6f3e112e414f85d4779dee8b76a4": {
      "model_module": "@jupyter-widgets/controls",
      "model_module_version": "1.5.0",
      "model_name": "DescriptionStyleModel",
      "state": {
       "description_width": ""
      }
     },
     "1d0bbf21e763452d8df9b29bd3b16d02": {
      "model_module": "@jupyter-widgets/base",
      "model_module_version": "1.2.0",
      "model_name": "LayoutModel",
      "state": {}
     },
     "1d2cf0dd430042028208abc8c7ac3880": {
      "model_module": "@jupyter-widgets/base",
      "model_module_version": "1.2.0",
      "model_name": "LayoutModel",
      "state": {
       "width": "100px"
      }
     },
     "1d362fa3291a438991c0f64e813d6fb5": {
      "model_module": "@jupyter-widgets/controls",
      "model_module_version": "1.5.0",
      "model_name": "HBoxModel",
      "state": {
       "children": [
        "IPY_MODEL_bd7a7e5e032c4a71be00bbfc02ac8080",
        "IPY_MODEL_9fe42b2fd1794fcb9db6d654f804828d"
       ],
       "layout": "IPY_MODEL_8da7e323600647a4857851013aadc645"
      }
     },
     "1d4a68d74d2147e1b5854782d5e2588c": {
      "model_module": "@jupyter-widgets/controls",
      "model_module_version": "1.5.0",
      "model_name": "DescriptionStyleModel",
      "state": {
       "description_width": ""
      }
     },
     "1d6f8011df4649169e2274b9b89c3aff": {
      "model_module": "@jupyter-widgets/controls",
      "model_module_version": "1.5.0",
      "model_name": "DescriptionStyleModel",
      "state": {
       "description_width": ""
      }
     },
     "1d731c254e0544c29857005878fbfa23": {
      "model_module": "@jupyter-widgets/controls",
      "model_module_version": "1.5.0",
      "model_name": "VBoxModel",
      "state": {
       "children": [
        "IPY_MODEL_d577e1fb946147aa9930a4b70e68a4fb",
        "IPY_MODEL_57eb86a15fec4b6499b13b7e6fc194ba",
        "IPY_MODEL_1871a56a6ab8421590af257b22560775"
       ],
       "layout": "IPY_MODEL_ee01a585197e493bbdff5a34cb0a9e43"
      }
     },
     "1d8264c48c00424d812edd4e34858736": {
      "model_module": "@jupyter-widgets/controls",
      "model_module_version": "1.5.0",
      "model_name": "DescriptionStyleModel",
      "state": {
       "description_width": ""
      }
     },
     "1d8631b27f334741b4dec4e62367332d": {
      "model_module": "@jupyter-widgets/controls",
      "model_module_version": "1.5.0",
      "model_name": "HTMLMathModel",
      "state": {
       "layout": "IPY_MODEL_3019e58990bb4706a3bf95b83a8cca0d",
       "style": "IPY_MODEL_348495434cbc45ffbb3b84f1b4571117",
       "value": "Enter here the values of the right hand side vector $b$"
      }
     },
     "1d87c96996df4560becef2317973b3a5": {
      "model_module": "@jupyter-widgets/controls",
      "model_module_version": "1.5.0",
      "model_name": "TextModel",
      "state": {
       "layout": "IPY_MODEL_9f4d9e00ae3e470a8d024478444df27d",
       "style": "IPY_MODEL_afd07095cfa744c0a6d4068a1eea5f3b",
       "value": "2"
      }
     },
     "1d8dd25d307d4215987c4cffe4f8dc87": {
      "model_module": "@jupyter-widgets/controls",
      "model_module_version": "1.5.0",
      "model_name": "DescriptionStyleModel",
      "state": {
       "description_width": ""
      }
     },
     "1dc7a793c07d40ba97d56d1d8a26d346": {
      "model_module": "@jupyter-widgets/controls",
      "model_module_version": "1.5.0",
      "model_name": "TextModel",
      "state": {
       "layout": "IPY_MODEL_1ceaf9c9ac774ae985cae0c34af76539",
       "style": "IPY_MODEL_b244ac24cb6c46f498c847643e9a754f",
       "value": "2"
      }
     },
     "1dd6798dcc784a88bc13c5b61f5db63b": {
      "model_module": "@jupyter-widgets/controls",
      "model_module_version": "1.5.0",
      "model_name": "DescriptionStyleModel",
      "state": {
       "description_width": ""
      }
     },
     "1e0e540311654503ba7e3d3205e9e21d": {
      "model_module": "@jupyter-widgets/base",
      "model_module_version": "1.2.0",
      "model_name": "LayoutModel",
      "state": {
       "justify_content": "space-between"
      }
     },
     "1e168e8c2dde42e3a713151b8d0d0e69": {
      "model_module": "@jupyter-widgets/controls",
      "model_module_version": "1.5.0",
      "model_name": "DescriptionStyleModel",
      "state": {
       "description_width": ""
      }
     },
     "1e204bac2f364ad181a34880cde442d3": {
      "model_module": "@jupyter-widgets/controls",
      "model_module_version": "1.5.0",
      "model_name": "TextModel",
      "state": {
       "layout": "IPY_MODEL_4bcd3a11811347d3979a9396c2e71cd4",
       "style": "IPY_MODEL_245aab02fe79430cbef9252664745237",
       "value": "-1"
      }
     },
     "1e477f549b904a3f83f3df8bdf0a4c76": {
      "model_module": "@jupyter-widgets/controls",
      "model_module_version": "1.5.0",
      "model_name": "DescriptionStyleModel",
      "state": {
       "description_width": ""
      }
     },
     "1e4db18bee5444b5bb44b79a0a64cff9": {
      "model_module": "@jupyter-widgets/controls",
      "model_module_version": "1.5.0",
      "model_name": "DropdownModel",
      "state": {
       "_options_labels": [
        "1",
        "2",
        "3"
       ],
       "description": "and row",
       "index": 2,
       "layout": "IPY_MODEL_f2125e79e8e24524b0fb57889e431f9f",
       "style": "IPY_MODEL_b2dbf900ddbd426cba3e671503d9c310"
      }
     },
     "1e76b044b6734dd49ee43007b7d45516": {
      "model_module": "@jupyter-widgets/base",
      "model_module_version": "1.2.0",
      "model_name": "LayoutModel",
      "state": {}
     },
     "1e8ea17bff424874a38e1432b1dc43be": {
      "model_module": "@jupyter-widgets/base",
      "model_module_version": "1.2.0",
      "model_name": "LayoutModel",
      "state": {
       "width": "90px"
      }
     },
     "1e90424a45d04f6ca0a843a7020d6750": {
      "model_module": "@jupyter-widgets/base",
      "model_module_version": "1.2.0",
      "model_name": "LayoutModel",
      "state": {
       "width": "150px"
      }
     },
     "1ea4034f4b944ea2b8195289feca344b": {
      "model_module": "@jupyter-widgets/controls",
      "model_module_version": "1.5.0",
      "model_name": "DescriptionStyleModel",
      "state": {
       "description_width": ""
      }
     },
     "1eaa7abc0ab549cb988f3a0586415b25": {
      "model_module": "@jupyter-widgets/controls",
      "model_module_version": "1.5.0",
      "model_name": "DescriptionStyleModel",
      "state": {
       "description_width": ""
      }
     },
     "1eba5f7167cd49e6aae4447eb467570d": {
      "model_module": "@jupyter-widgets/base",
      "model_module_version": "1.2.0",
      "model_name": "LayoutModel",
      "state": {}
     },
     "1ecfcca19742416c82e7f8da9439baec": {
      "model_module": "@jupyter-widgets/base",
      "model_module_version": "1.2.0",
      "model_name": "LayoutModel",
      "state": {}
     },
     "1efbb9d5c4f0409c8978d5465ea6fc17": {
      "model_module": "@jupyter-widgets/controls",
      "model_module_version": "1.5.0",
      "model_name": "HBoxModel",
      "state": {
       "children": [
        "IPY_MODEL_7ab158f6fff941ad8580f2a6e8077c9d",
        "IPY_MODEL_40b5f3358d8f42df964a3535bbd32b4b",
        "IPY_MODEL_ca5cb79102e4486f94a85625e3bdbfff"
       ],
       "layout": "IPY_MODEL_06b62d54e2f04aa38ac4733df7852070"
      }
     },
     "1effe42e72904ed4a3ac27a9bcfc01e8": {
      "model_module": "@jupyter-widgets/controls",
      "model_module_version": "1.5.0",
      "model_name": "TextModel",
      "state": {
       "layout": "IPY_MODEL_f73078d706924fb0a75d30fb0655ac85",
       "style": "IPY_MODEL_4f416a3d724d447d9eef5e13bd551213",
       "value": "-1"
      }
     },
     "1f13011daa7041179a9973dd0265ea53": {
      "model_module": "@jupyter-widgets/controls",
      "model_module_version": "1.5.0",
      "model_name": "ButtonStyleModel",
      "state": {}
     },
     "1f1721a406774c5b881d4b6417839ce7": {
      "model_module": "@jupyter-widgets/controls",
      "model_module_version": "1.5.0",
      "model_name": "TextModel",
      "state": {
       "layout": "IPY_MODEL_9f4d9e00ae3e470a8d024478444df27d",
       "style": "IPY_MODEL_9d39e1be33c14ddab3fca2fbfdc502fe",
       "value": "2"
      }
     },
     "1f2618d047e34e3e878370e36a2a6bc3": {
      "model_module": "@jupyter-widgets/controls",
      "model_module_version": "1.5.0",
      "model_name": "TextModel",
      "state": {
       "layout": "IPY_MODEL_8642d067baba44c0bf86d09f3f211429",
       "style": "IPY_MODEL_3d8c95c7ba484536920e0326fbe68fe5",
       "value": "4"
      }
     },
     "1f2e25fea01a424596c78c53bb17c23e": {
      "model_module": "@jupyter-widgets/controls",
      "model_module_version": "1.5.0",
      "model_name": "TextModel",
      "state": {
       "layout": "IPY_MODEL_c0d9a1b66a034d3c880457f50a593771",
       "style": "IPY_MODEL_3b3f0684ffc242188187ce34dcee1fc7",
       "value": "1"
      }
     },
     "1f392525c40e47758956e03c9f5fbc72": {
      "model_module": "@jupyter-widgets/base",
      "model_module_version": "1.2.0",
      "model_name": "LayoutModel",
      "state": {
       "width": "120px"
      }
     },
     "1f4ff2dc9cc14829ab276ba790386732": {
      "model_module": "@jupyter-widgets/controls",
      "model_module_version": "1.5.0",
      "model_name": "ButtonStyleModel",
      "state": {}
     },
     "1f7bd99816a947c5a12ee239811365bb": {
      "model_module": "@jupyter-widgets/controls",
      "model_module_version": "1.5.0",
      "model_name": "TextModel",
      "state": {
       "layout": "IPY_MODEL_ff8f131091ed4bf49b858ed52bc5b3ea",
       "style": "IPY_MODEL_5562803f777f4220922e115d4f04d27c",
       "value": "-6"
      }
     },
     "1fadf0461d954bb0abbd09ff4d16d9cd": {
      "model_module": "@jupyter-widgets/controls",
      "model_module_version": "1.5.0",
      "model_name": "BoxModel",
      "state": {
       "children": [
        "IPY_MODEL_0bf7a4d58c1642a699e5dd62fe83d8fe",
        "IPY_MODEL_30e24d66977b439cac6f6595c7775c83",
        "IPY_MODEL_6c728eeaabe540f294c6559e60dacc1c"
       ],
       "layout": "IPY_MODEL_b6464fc260eb4db2b444d092b15c0ccf"
      }
     },
     "1fe99bc6dcfd406ca5bab6bcbaae7054": {
      "model_module": "@jupyter-widgets/base",
      "model_module_version": "1.2.0",
      "model_name": "LayoutModel",
      "state": {}
     },
     "1feab301f5294c33935573d885ce2896": {
      "model_module": "@jupyter-widgets/controls",
      "model_module_version": "1.5.0",
      "model_name": "VBoxModel",
      "state": {
       "children": [
        "IPY_MODEL_c43adc73ea8d4267ab335121c3dd0c49",
        "IPY_MODEL_48cae2ed8d344f5faa81110fd23beb2c",
        "IPY_MODEL_813027176bd94c4198fc8ecc1564ea2e"
       ],
       "layout": "IPY_MODEL_33ed9009863e4c70ab0f5b6de1c8fb9e"
      }
     },
     "1fef59c25df443d0900d39ad15732b68": {
      "model_module": "@jupyter-widgets/base",
      "model_module_version": "1.2.0",
      "model_name": "LayoutModel",
      "state": {
       "width": "150px"
      }
     },
     "1fef745312564af7ac08083de461b9aa": {
      "model_module": "@jupyter-widgets/controls",
      "model_module_version": "1.5.0",
      "model_name": "DescriptionStyleModel",
      "state": {
       "description_width": ""
      }
     },
     "2009020c9a5a42d4bee119bb9f4fcdfc": {
      "model_module": "@jupyter-widgets/controls",
      "model_module_version": "1.5.0",
      "model_name": "VBoxModel",
      "state": {
       "children": [
        "IPY_MODEL_595a8aad58a74a0fb8f37456bb3df3be",
        "IPY_MODEL_a2472081381f4f3794d302ebd73c196d"
       ],
       "layout": "IPY_MODEL_f085ae177b8a4b0885a60ef667f5cabd"
      }
     },
     "201e1a4ee32840b19f981690bdacf3ae": {
      "model_module": "@jupyter-widgets/base",
      "model_module_version": "1.2.0",
      "model_name": "LayoutModel",
      "state": {
       "height": "35px",
       "width": "30px"
      }
     },
     "2023debcfc47402ea6ea593d709a05f2": {
      "model_module": "@jupyter-widgets/controls",
      "model_module_version": "1.5.0",
      "model_name": "DescriptionStyleModel",
      "state": {
       "description_width": ""
      }
     },
     "202bcea152d8455fab230486ecd60886": {
      "model_module": "@jupyter-widgets/controls",
      "model_module_version": "1.5.0",
      "model_name": "TextModel",
      "state": {
       "layout": "IPY_MODEL_e56e2cbba3324f1e9a6da6e53dfda065",
       "style": "IPY_MODEL_0a2b760debba442881752869b447449c",
       "value": "2"
      }
     },
     "2033bf8a32114dab9538ce2cab01c478": {
      "model_module": "@jupyter-widgets/controls",
      "model_module_version": "1.5.0",
      "model_name": "DropdownModel",
      "state": {
       "_options_labels": [
        "1",
        "2",
        "3"
       ],
       "description": "and row",
       "index": 1,
       "layout": "IPY_MODEL_1e90424a45d04f6ca0a843a7020d6750",
       "style": "IPY_MODEL_53bdff4cdba241c6b23c2708198aaaaa"
      }
     },
     "205117a8f4f94aabaa92fe5ebce03dd4": {
      "model_module": "@jupyter-widgets/controls",
      "model_module_version": "1.5.0",
      "model_name": "HTMLMathModel",
      "state": {
       "layout": "IPY_MODEL_3791b490e79048c684bb5d12570d454f",
       "style": "IPY_MODEL_a91fd4a111824bb7b225ca7e0b4e0590",
       "value": "Enter here the values of the constant matrix $\\bf{B}$"
      }
     },
     "208a77e63079408faaff46bec5a2fc9f": {
      "model_module": "@jupyter-widgets/controls",
      "model_module_version": "1.5.0",
      "model_name": "VBoxModel",
      "state": {
       "children": [
        "IPY_MODEL_0e2183cc86484a959f5c2da3ad882c6f",
        "IPY_MODEL_adda5e436c784157947d36267b3c2407",
        "IPY_MODEL_6013b28714e04d31944ce362521f8ae3"
       ],
       "layout": "IPY_MODEL_24e4c9b6c05d490c94add47b85d5dd89"
      }
     },
     "20cc6ee9c4b8471899b0eed8346430ce": {
      "model_module": "@jupyter-widgets/controls",
      "model_module_version": "1.5.0",
      "model_name": "HBoxModel",
      "state": {
       "children": [
        "IPY_MODEL_065607d587154dd0bf33efd59c9fd2e5",
        "IPY_MODEL_45600524194d41f9843f8cfef3d021cb",
        "IPY_MODEL_6027277628f14e74a3f2a49fcb4d1e71"
       ],
       "layout": "IPY_MODEL_07c1ec7739c84ab9ac6cb72b1f3c64f1"
      }
     },
     "20f2323de88c4f828e3ed4f1c2e3ab40": {
      "model_module": "@jupyter-widgets/controls",
      "model_module_version": "1.5.0",
      "model_name": "DescriptionStyleModel",
      "state": {
       "description_width": ""
      }
     },
     "210a393e750a4ad8917ff5cb67fb339f": {
      "model_module": "@jupyter-widgets/controls",
      "model_module_version": "1.5.0",
      "model_name": "HBoxModel",
      "state": {
       "children": [
        "IPY_MODEL_9de3d1ad90064f468a849a10745fd0fa",
        "IPY_MODEL_0d90a62c69f04db09f7e6c938c607302",
        "IPY_MODEL_7ce32d06288d4ccd848b0de8c4bb2177"
       ],
       "layout": "IPY_MODEL_695f9257f4a9417a81a9b176fd2944ec"
      }
     },
     "213171bafceb417580ae616b5cd6fbd2": {
      "model_module": "@jupyter-widgets/controls",
      "model_module_version": "1.5.0",
      "model_name": "TextModel",
      "state": {
       "layout": "IPY_MODEL_342fbdc31d2d406489b24d1349c22e03",
       "style": "IPY_MODEL_fe1eacb80c524d05bd3206c88634d7e2",
       "value": "2"
      }
     },
     "213e24b61b874b8aa7754f4037ba3dcb": {
      "model_module": "@jupyter-widgets/controls",
      "model_module_version": "1.5.0",
      "model_name": "DescriptionStyleModel",
      "state": {
       "description_width": ""
      }
     },
     "2149a2c76b964772a4a3545aa597628b": {
      "model_module": "@jupyter-widgets/base",
      "model_module_version": "1.2.0",
      "model_name": "LayoutModel",
      "state": {}
     },
     "215dfe54c4e344daae05088a2c266042": {
      "model_module": "@jupyter-widgets/base",
      "model_module_version": "1.2.0",
      "model_name": "LayoutModel",
      "state": {}
     },
     "217e959126c146748b1c8c37a13d378e": {
      "model_module": "@jupyter-widgets/controls",
      "model_module_version": "1.5.0",
      "model_name": "DropdownModel",
      "state": {
       "_options_labels": [
        "1",
        "2",
        "3"
       ],
       "description": "Add row",
       "index": 0,
       "layout": "IPY_MODEL_a8ad8d721db44f26977dddde5420ae1b",
       "style": "IPY_MODEL_15c703e8676e47de90af9006c89c94c2"
      }
     },
     "2182a10ffa20451dbf5d777f16a69240": {
      "model_module": "@jupyter-widgets/base",
      "model_module_version": "1.2.0",
      "model_name": "LayoutModel",
      "state": {
       "width": "120px"
      }
     },
     "219b7bccfeab476a93b92f5ea1f40877": {
      "model_module": "@jupyter-widgets/base",
      "model_module_version": "1.2.0",
      "model_name": "LayoutModel",
      "state": {}
     },
     "21af9118e00348b183154456a4eec555": {
      "model_module": "@jupyter-widgets/base",
      "model_module_version": "1.2.0",
      "model_name": "LayoutModel",
      "state": {
       "width": "150px"
      }
     },
     "21e17d6a4d9247408657bd12746e4e02": {
      "model_module": "@jupyter-widgets/controls",
      "model_module_version": "1.5.0",
      "model_name": "ButtonStyleModel",
      "state": {}
     },
     "220023d8dfce4698ae5434e9230be0c4": {
      "model_module": "@jupyter-widgets/controls",
      "model_module_version": "1.5.0",
      "model_name": "BoxModel",
      "state": {
       "children": [
        "IPY_MODEL_798f4a9a0653434181ae0b0d8d82e677",
        "IPY_MODEL_3c4ec5effdd74ea18fd1ec3a8480692d",
        "IPY_MODEL_70b01c5704794019927ff06f0ffd65c8",
        "IPY_MODEL_6637f3c5eaab427bab59fffd0f299f83"
       ],
       "layout": "IPY_MODEL_1e0e540311654503ba7e3d3205e9e21d"
      }
     },
     "2201fc263d934025a98b6446ae7d8f2c": {
      "model_module": "@jupyter-widgets/controls",
      "model_module_version": "1.5.0",
      "model_name": "VBoxModel",
      "state": {
       "children": [
        "IPY_MODEL_27def1cebe11409d914b2b8ff9595290",
        "IPY_MODEL_cd6c514871824ca6b4ad768f59d6b078",
        "IPY_MODEL_4c0b1ef52a8c4d188d3abc59fb505491"
       ],
       "layout": "IPY_MODEL_7a1de4d5af1e4f33b84c915067d8aaac"
      }
     },
     "2208c8013a0d4581a2662f947d523ae7": {
      "model_module": "@jupyter-widgets/base",
      "model_module_version": "1.2.0",
      "model_name": "LayoutModel",
      "state": {}
     },
     "2209cd4fd68344019596cb60b6f8d1e2": {
      "model_module": "@jupyter-widgets/base",
      "model_module_version": "1.2.0",
      "model_name": "LayoutModel",
      "state": {}
     },
     "221413b645cf469a99a03986d50f7250": {
      "model_module": "@jupyter-widgets/controls",
      "model_module_version": "1.5.0",
      "model_name": "DescriptionStyleModel",
      "state": {
       "description_width": ""
      }
     },
     "221907c7c41b4b45aedc671d63867511": {
      "model_module": "@jupyter-widgets/base",
      "model_module_version": "1.2.0",
      "model_name": "LayoutModel",
      "state": {
       "flex_flow": "row wrap",
       "justify_content": "space-around"
      }
     },
     "2239baeffc514d7ca96b46d75d3c3fee": {
      "model_module": "@jupyter-widgets/controls",
      "model_module_version": "1.5.0",
      "model_name": "BoxModel",
      "state": {
       "children": [
        "IPY_MODEL_1feab301f5294c33935573d885ce2896",
        "IPY_MODEL_f4607a3ef364477e8344414ef794f983",
        "IPY_MODEL_02db26faaef947598fd45c3acee38d42"
       ],
       "layout": "IPY_MODEL_a15e3820a56b4386bdcfca448b2e9562"
      }
     },
     "224e84fd18524d10923643b2e0e6b76d": {
      "model_module": "@jupyter-widgets/base",
      "model_module_version": "1.2.0",
      "model_name": "LayoutModel",
      "state": {
       "width": "150px"
      }
     },
     "2257a54b7fb44eef953cc10919568a02": {
      "model_module": "@jupyter-widgets/controls",
      "model_module_version": "1.5.0",
      "model_name": "DescriptionStyleModel",
      "state": {
       "description_width": ""
      }
     },
     "226c7c5f1b15439686c255a2c7570eff": {
      "model_module": "@jupyter-widgets/controls",
      "model_module_version": "1.5.0",
      "model_name": "DescriptionStyleModel",
      "state": {
       "description_width": ""
      }
     },
     "2280a32f982442c080c8e0427a4cba23": {
      "model_module": "@jupyter-widgets/base",
      "model_module_version": "1.2.0",
      "model_name": "LayoutModel",
      "state": {
       "width": "150px"
      }
     },
     "228ca673db6848d2b13ab692bc3fda44": {
      "model_module": "@jupyter-widgets/controls",
      "model_module_version": "1.5.0",
      "model_name": "BoxModel",
      "state": {
       "children": [
        "IPY_MODEL_d835e14b95ff413da8e335b159e808d6",
        "IPY_MODEL_d67c2a5bf2b249a88dea1110b382f7c6",
        "IPY_MODEL_12d3e28e7ce34b71a02bfe9458d4930b",
        "IPY_MODEL_f823ff325aed40fd85786b680418073e"
       ],
       "layout": "IPY_MODEL_1c09d5fa83504cc7b37edf1fca619c04"
      }
     },
     "22b72113590842739b0640016292472a": {
      "model_module": "@jupyter-widgets/controls",
      "model_module_version": "1.5.0",
      "model_name": "ButtonModel",
      "state": {
       "description": "Swap rows",
       "layout": "IPY_MODEL_735e5d8241d145a0ab4f51aa47ea06ca",
       "style": "IPY_MODEL_691dc3995cd341c89956ecd5a3dc9c54"
      }
     },
     "22e8785b1ee746058102274b13f30d31": {
      "model_module": "@jupyter-widgets/controls",
      "model_module_version": "1.5.0",
      "model_name": "DropdownModel",
      "state": {
       "_options_labels": [
        "1",
        "2",
        "3"
       ],
       "description": "to row",
       "index": 1,
       "layout": "IPY_MODEL_c13fea0473ae42148fc39ccb1ab0cc21",
       "style": "IPY_MODEL_350fff36d0d54beb9bea1268f5d78d59"
      }
     },
     "22ed4d4ecee840d68a2d9da9321467a0": {
      "model_module": "@jupyter-widgets/controls",
      "model_module_version": "1.5.0",
      "model_name": "DescriptionStyleModel",
      "state": {
       "description_width": ""
      }
     },
     "23032e0b18c748c4b66356fe909656ed": {
      "model_module": "@jupyter-widgets/controls",
      "model_module_version": "1.5.0",
      "model_name": "TextModel",
      "state": {
       "layout": "IPY_MODEL_b2827ab913cf4f49b7a4aeebd116396e",
       "style": "IPY_MODEL_2d33913fd8c44fa2b32543c12a135386",
       "value": "1"
      }
     },
     "230eaa41c63a4af498c5d5c00b11ff94": {
      "model_module": "@jupyter-widgets/controls",
      "model_module_version": "1.5.0",
      "model_name": "TextModel",
      "state": {
       "layout": "IPY_MODEL_7a607c89a00143a7a0808c95689bf41a",
       "style": "IPY_MODEL_999d16ca92594bd4a58a13637bcd4cc1",
       "value": "7"
      }
     },
     "231b58a9b1854609a5f4b598fa6e40bb": {
      "model_module": "@jupyter-widgets/base",
      "model_module_version": "1.2.0",
      "model_name": "LayoutModel",
      "state": {
       "flex_flow": "row wrap",
       "justify_content": "space-around"
      }
     },
     "2328995324a444098a24465dac68e5f0": {
      "model_module": "@jupyter-widgets/controls",
      "model_module_version": "1.5.0",
      "model_name": "DescriptionStyleModel",
      "state": {
       "description_width": ""
      }
     },
     "234fd6bd218943bca80c2e98b9f8ba69": {
      "model_module": "@jupyter-widgets/controls",
      "model_module_version": "1.5.0",
      "model_name": "DescriptionStyleModel",
      "state": {
       "description_width": ""
      }
     },
     "237222725650412f9e984d8f10d97422": {
      "model_module": "@jupyter-widgets/controls",
      "model_module_version": "1.5.0",
      "model_name": "VBoxModel",
      "state": {
       "children": [
        "IPY_MODEL_1c750dcfb47c4baba6eb6629980f6f1d",
        "IPY_MODEL_eb756f189be74e6fb9af3ece602897f8",
        "IPY_MODEL_9b6444b5fd19468c9e59c5b87966a636"
       ],
       "layout": "IPY_MODEL_921260cf9be147eaaebc390ab49ba9c6"
      }
     },
     "237a110dc3124bf09a922c69adbd449c": {
      "model_module": "@jupyter-widgets/controls",
      "model_module_version": "1.5.0",
      "model_name": "DescriptionStyleModel",
      "state": {
       "description_width": ""
      }
     },
     "237feb43c3984f1c9f37ac9c75cb0316": {
      "model_module": "@jupyter-widgets/controls",
      "model_module_version": "1.5.0",
      "model_name": "HBoxModel",
      "state": {
       "children": [
        "IPY_MODEL_eb29f29b39b647e08cfea5f0f8b41fa7",
        "IPY_MODEL_5f85c6ab0277455f99b05f34b351e22c",
        "IPY_MODEL_9935ee937e5d4e7696be5d4b22b056b3"
       ],
       "layout": "IPY_MODEL_89aa01d2624b45949572270d6e8b60f5"
      }
     },
     "238203f5c4a143b291c2bc83f4da6f4d": {
      "model_module": "@jupyter-widgets/controls",
      "model_module_version": "1.5.0",
      "model_name": "DropdownModel",
      "state": {
       "_options_labels": [
        "1",
        "2",
        "3"
       ],
       "description": "Row",
       "index": 0,
       "layout": "IPY_MODEL_d3577b9756e14580abee88ac71105f68",
       "style": "IPY_MODEL_a95bb0479c1846968d2575fa0053b36f"
      }
     },
     "238dc26deb124d2e826066be38802c6d": {
      "model_module": "@jupyter-widgets/controls",
      "model_module_version": "1.5.0",
      "model_name": "HTMLMathModel",
      "state": {
       "layout": "IPY_MODEL_7c93b0891d2d41bfbfc9d9ad98e5c3aa",
       "style": "IPY_MODEL_614eeb440c474e308e97660a23910362",
       "value": "The augmented matrix is:\n    $$\n    \\left[ \\begin{array}{rrr|r}\n        2 & -6 & 1 & 7\\\\\n        1 & 2 & -1 & -1\\\\\n        5 & 7 & -4 & 9\n    \\end{array} \\right]\n    $$"
      }
     },
     "239bec109578490f9329cf0477e25967": {
      "model_module": "@jupyter-widgets/base",
      "model_module_version": "1.2.0",
      "model_name": "LayoutModel",
      "state": {
       "height": "35px",
       "width": "30px"
      }
     },
     "23b71ad4c90c41ae9eda16c6b16e8791": {
      "model_module": "@jupyter-widgets/controls",
      "model_module_version": "1.5.0",
      "model_name": "HBoxModel",
      "state": {
       "children": [
        "IPY_MODEL_e06b6935fe4f4197904c5ef76be76a4b",
        "IPY_MODEL_8f703c7c65e541269845be3faeb124e9"
       ],
       "layout": "IPY_MODEL_8c21363e29ca4259a8e74c484b3a756d"
      }
     },
     "23d608c094b34066a6bbb7cbd733c1a0": {
      "model_module": "@jupyter-widgets/controls",
      "model_module_version": "1.5.0",
      "model_name": "TextModel",
      "state": {
       "layout": "IPY_MODEL_97993fa24fac42e28605e8d366180168",
       "style": "IPY_MODEL_563d566cffc449619e6778b5aa4a3369",
       "value": "1"
      }
     },
     "23dd1ca78ec447f9babdc3ef3b3c5cec": {
      "model_module": "@jupyter-widgets/controls",
      "model_module_version": "1.5.0",
      "model_name": "DescriptionStyleModel",
      "state": {
       "description_width": ""
      }
     },
     "2430d7ab76e14c8399c1b62d5c64d452": {
      "model_module": "@jupyter-widgets/controls",
      "model_module_version": "1.5.0",
      "model_name": "HBoxModel",
      "state": {
       "children": [
        "IPY_MODEL_eca4c35a016d4bfab194ffb0cd279fbe",
        "IPY_MODEL_6c965513aa7d4ea69d036cfd7a56bc44"
       ],
       "layout": "IPY_MODEL_d1e7cd7d7a5c4afb97dada2c7c6d1757"
      }
     },
     "2437923e6cbb4b6a9c9a787f14f992a2": {
      "model_module": "@jupyter-widgets/base",
      "model_module_version": "1.2.0",
      "model_name": "LayoutModel",
      "state": {}
     },
     "243a1ad0e3f246bc9ac843815cd68ef6": {
      "model_module": "@jupyter-widgets/base",
      "model_module_version": "1.2.0",
      "model_name": "LayoutModel",
      "state": {}
     },
     "245aab02fe79430cbef9252664745237": {
      "model_module": "@jupyter-widgets/controls",
      "model_module_version": "1.5.0",
      "model_name": "DescriptionStyleModel",
      "state": {
       "description_width": ""
      }
     },
     "248aa46aa6924a879e705dd7291bb893": {
      "model_module": "@jupyter-widgets/controls",
      "model_module_version": "1.5.0",
      "model_name": "HTMLMathModel",
      "state": {
       "layout": "IPY_MODEL_26e4f2aac50a42659caec5fec5cb1044",
       "style": "IPY_MODEL_0a6fdaf2cab9418cb73cde409a0a83f0",
       "value": "Enter here the values of the matrix $A$"
      }
     },
     "24da1a4ef69c4e6aaf08af01ec5fc126": {
      "model_module": "@jupyter-widgets/controls",
      "model_module_version": "1.5.0",
      "model_name": "VBoxModel",
      "state": {
       "children": [
        "IPY_MODEL_0cd909d7e75b4dca930bf7befc8e9156",
        "IPY_MODEL_7362a71846a24c0f90bc62605b13b547",
        "IPY_MODEL_4a488eba4b3d4c309074a0b1c13dd2ec"
       ],
       "layout": "IPY_MODEL_7edfd17ba07446bf9f3490b0b73ca4fb"
      }
     },
     "24de0fc4349f49dca93eff3358c148d2": {
      "model_module": "@jupyter-widgets/controls",
      "model_module_version": "1.5.0",
      "model_name": "HTMLMathModel",
      "state": {
       "layout": "IPY_MODEL_6491d7a88f0a43129db3865bf2c52bd3",
       "style": "IPY_MODEL_b46dffe59e25455b8da113a95882f408",
       "value": "Enter here the values of the matrix $A$"
      }
     },
     "24e4c9b6c05d490c94add47b85d5dd89": {
      "model_module": "@jupyter-widgets/base",
      "model_module_version": "1.2.0",
      "model_name": "LayoutModel",
      "state": {}
     },
     "24e52a9da5f64680833f56257412e632": {
      "model_module": "@jupyter-widgets/base",
      "model_module_version": "1.2.0",
      "model_name": "LayoutModel",
      "state": {
       "height": "35px",
       "width": "30px"
      }
     },
     "24e928f6f8cb48e9a2c8810e45ffa908": {
      "model_module": "@jupyter-widgets/controls",
      "model_module_version": "1.5.0",
      "model_name": "VBoxModel",
      "state": {
       "children": [
        "IPY_MODEL_859cc43c1d154e15a6b81826e2874929",
        "IPY_MODEL_edf76f77bb2345249e4915144d90afc2"
       ],
       "layout": "IPY_MODEL_c77caa6526a745949292ebc17be476ac"
      }
     },
     "24f3b6a6852542fcafa7522a595f43a1": {
      "model_module": "@jupyter-widgets/controls",
      "model_module_version": "1.5.0",
      "model_name": "VBoxModel",
      "state": {
       "children": [
        "IPY_MODEL_8689fc2bb6ce480485156cf5b07bdf4d",
        "IPY_MODEL_a64ee2cb1ea24db7bbe56e821291f43c"
       ],
       "layout": "IPY_MODEL_620c2d87598f4c928d6573093a0380ab"
      }
     },
     "250753b918e0432c803452a019d33c5c": {
      "model_module": "@jupyter-widgets/base",
      "model_module_version": "1.2.0",
      "model_name": "LayoutModel",
      "state": {
       "height": "35px",
       "width": "40px"
      }
     },
     "251d49ce877e4bf583ea0524dc2696c6": {
      "model_module": "@jupyter-widgets/controls",
      "model_module_version": "1.5.0",
      "model_name": "DescriptionStyleModel",
      "state": {
       "description_width": ""
      }
     },
     "25271f6541b145abbaf149c4a9eb78ff": {
      "model_module": "@jupyter-widgets/controls",
      "model_module_version": "1.5.0",
      "model_name": "DescriptionStyleModel",
      "state": {
       "description_width": ""
      }
     },
     "256e48f506f14bf2b12458f7e5f998fc": {
      "model_module": "@jupyter-widgets/base",
      "model_module_version": "1.2.0",
      "model_name": "LayoutModel",
      "state": {}
     },
     "259aa4ea44154dfa98b297b6a94ecda3": {
      "model_module": "@jupyter-widgets/controls",
      "model_module_version": "1.5.0",
      "model_name": "VBoxModel",
      "state": {
       "children": [
        "IPY_MODEL_6e9a76b61fa54105ba982e17e39a64b2",
        "IPY_MODEL_0c9f7e2c0fff4a2dbbfdac47d11bb8d2",
        "IPY_MODEL_57397c7c5ac141ba824274924ca08e4f"
       ],
       "layout": "IPY_MODEL_4ef623a9da6b40a9b94c546346a6ed78"
      }
     },
     "25b5d8d68590423591bc398eeec6d574": {
      "model_module": "@jupyter-widgets/controls",
      "model_module_version": "1.5.0",
      "model_name": "DescriptionStyleModel",
      "state": {
       "description_width": ""
      }
     },
     "25b711b470f24ac1ae6f95a115b77415": {
      "model_module": "@jupyter-widgets/base",
      "model_module_version": "1.2.0",
      "model_name": "LayoutModel",
      "state": {}
     },
     "25baaf28b2324ebda9a7c97a543b470f": {
      "model_module": "@jupyter-widgets/controls",
      "model_module_version": "1.5.0",
      "model_name": "DescriptionStyleModel",
      "state": {
       "description_width": ""
      }
     },
     "25d4f493c8ea4cedbfa7dcb7717d3701": {
      "model_module": "@jupyter-widgets/controls",
      "model_module_version": "1.5.0",
      "model_name": "HTMLModel",
      "state": {
       "layout": "IPY_MODEL_d8d558cfae7743ee98c2838480f962fc",
       "style": "IPY_MODEL_a7c5c741036f4cb2b81c51b48da8fa71",
       "value": "Click the button below to start the calculator"
      }
     },
     "25eb5f3912014d3e8dca02d0788b2af3": {
      "model_module": "@jupyter-widgets/controls",
      "model_module_version": "1.5.0",
      "model_name": "DescriptionStyleModel",
      "state": {
       "description_width": ""
      }
     },
     "25f0492a1b064794913bb02482bb46bc": {
      "model_module": "@jupyter-widgets/controls",
      "model_module_version": "1.5.0",
      "model_name": "BoxModel",
      "state": {
       "children": [
        "IPY_MODEL_f9c7028b213c49c28b4f09e848b3520c",
        "IPY_MODEL_d86a016ae96e491cbbb1cafd05657077",
        "IPY_MODEL_6c817dd725e94563b0a8b2c39a5c064f"
       ],
       "layout": "IPY_MODEL_ec58c80859bd40c3ae834b423212f7f3"
      }
     },
     "2606432d4b3744eba13f63c81f6e8436": {
      "model_module": "@jupyter-widgets/base",
      "model_module_version": "1.2.0",
      "model_name": "LayoutModel",
      "state": {}
     },
     "260b9023be324194ade5bb1086a74b4a": {
      "model_module": "@jupyter-widgets/controls",
      "model_module_version": "1.5.0",
      "model_name": "VBoxModel",
      "state": {
       "children": [
        "IPY_MODEL_6c442d08bce64d29ad2ca26c5d1ed357",
        "IPY_MODEL_dc0aa3db886b4617b8459a2c2c6d301c"
       ],
       "layout": "IPY_MODEL_33bd0e962590410ebb73c612a4e166a0"
      }
     },
     "2651fe566279451baa34d2b1a40aaf6b": {
      "model_module": "@jupyter-widgets/base",
      "model_module_version": "1.2.0",
      "model_name": "LayoutModel",
      "state": {
       "flex_flow": "row wrap",
       "justify_content": "space-around"
      }
     },
     "265dc97ead1348268d4fec0c5a85c5b3": {
      "model_module": "@jupyter-widgets/controls",
      "model_module_version": "1.5.0",
      "model_name": "HTMLModel",
      "state": {
       "layout": "IPY_MODEL_b6150c63209b4276b3bd02f308092141",
       "style": "IPY_MODEL_7ecd63ce5cb94b2a84bf5a7c6658a342",
       "value": "Click the button below to start the calculator"
      }
     },
     "266dc666d595467f89f6e6a6d7155ed3": {
      "model_module": "@jupyter-widgets/base",
      "model_module_version": "1.2.0",
      "model_name": "LayoutModel",
      "state": {}
     },
     "268b20f256bc4d2cb538471abe1d5078": {
      "model_module": "@jupyter-widgets/controls",
      "model_module_version": "1.5.0",
      "model_name": "DescriptionStyleModel",
      "state": {
       "description_width": ""
      }
     },
     "268d4ad3924647ce906335e7415ad7a2": {
      "model_module": "@jupyter-widgets/controls",
      "model_module_version": "1.5.0",
      "model_name": "TextModel",
      "state": {
       "layout": "IPY_MODEL_776389df997545fcab086c0233cb0ab0",
       "style": "IPY_MODEL_86ae6eb8ce7643dfaf73c1d1b1addd88",
       "value": "9"
      }
     },
     "268d89e146694ac08062b694129757cf": {
      "model_module": "@jupyter-widgets/controls",
      "model_module_version": "1.5.0",
      "model_name": "DescriptionStyleModel",
      "state": {
       "description_width": ""
      }
     },
     "2694759319eb4c2fbc58bcfb039c1643": {
      "model_module": "@jupyter-widgets/controls",
      "model_module_version": "1.5.0",
      "model_name": "HTMLMathModel",
      "state": {
       "layout": "IPY_MODEL_46bd368a155544aeb7f43ca6c392538a",
       "style": "IPY_MODEL_996630e66dd54e9cb6a3775c5bda16d9",
       "value": "The augmented matrix $(\\bf{A}|\\bf{B})$ is:\n $$ \n    \\left[ \\begin{array}{rrr|r}\n        2 & -6 & 1 & 7\\\\\n        1 & 2 & -1 & -1\\\\\n        5 & 7 & -4 & 9\n    \\end{array} \\right]\n    $$ \nwith $\\det{\\bf A} = 1$"
      }
     },
     "2699498574154a41bb61d281b07169c6": {
      "model_module": "@jupyter-widgets/base",
      "model_module_version": "1.2.0",
      "model_name": "LayoutModel",
      "state": {
       "width": "150px"
      }
     },
     "26ae4d7d8ca84d0da16f6704116d6d81": {
      "model_module": "@jupyter-widgets/base",
      "model_module_version": "1.2.0",
      "model_name": "LayoutModel",
      "state": {
       "width": "90px"
      }
     },
     "26b92b38aae144aa84b27cdca667d519": {
      "model_module": "@jupyter-widgets/controls",
      "model_module_version": "1.5.0",
      "model_name": "TextModel",
      "state": {
       "layout": "IPY_MODEL_8642d067baba44c0bf86d09f3f211429",
       "style": "IPY_MODEL_c46585b8a0a64c3a919c4116ec1c1c8c",
       "value": "1"
      }
     },
     "26cc52b26dce4e6794f96b51316137b6": {
      "model_module": "@jupyter-widgets/controls",
      "model_module_version": "1.5.0",
      "model_name": "VBoxModel",
      "state": {
       "children": [
        "IPY_MODEL_8ce01e6b5c0649d283cbd05e4cde3150",
        "IPY_MODEL_9215f36a3c99422e80b40f29a31302e4",
        "IPY_MODEL_df8bcee6c9b44c3e88fe5a747a906f5a"
       ],
       "layout": "IPY_MODEL_72dde0d5194c480f92352db4e5ae1e21"
      }
     },
     "26e4f2aac50a42659caec5fec5cb1044": {
      "model_module": "@jupyter-widgets/base",
      "model_module_version": "1.2.0",
      "model_name": "LayoutModel",
      "state": {
       "width": "90px"
      }
     },
     "2713a253450d495d8a0a44dad3954860": {
      "model_module": "@jupyter-widgets/controls",
      "model_module_version": "1.5.0",
      "model_name": "DescriptionStyleModel",
      "state": {
       "description_width": ""
      }
     },
     "271c37bcc7cc4dab8c857a1a5c5cf653": {
      "model_module": "@jupyter-widgets/base",
      "model_module_version": "1.2.0",
      "model_name": "LayoutModel",
      "state": {}
     },
     "2723cc5a4fb348278c3373ff5f55afd5": {
      "model_module": "@jupyter-widgets/base",
      "model_module_version": "1.2.0",
      "model_name": "LayoutModel",
      "state": {}
     },
     "272693dae249402d964a049d58e0c3a8": {
      "model_module": "@jupyter-widgets/base",
      "model_module_version": "1.2.0",
      "model_name": "LayoutModel",
      "state": {
       "width": "100px"
      }
     },
     "272d73819acf4403bb4c480fe7eff7ec": {
      "model_module": "@jupyter-widgets/base",
      "model_module_version": "1.2.0",
      "model_name": "LayoutModel",
      "state": {}
     },
     "27364bcc66784d72a5235213e3191c41": {
      "model_module": "@jupyter-widgets/controls",
      "model_module_version": "1.5.0",
      "model_name": "ButtonStyleModel",
      "state": {}
     },
     "2743a5b7fa964d3cae8eb89181de9c60": {
      "model_module": "@jupyter-widgets/controls",
      "model_module_version": "1.5.0",
      "model_name": "DescriptionStyleModel",
      "state": {
       "description_width": ""
      }
     },
     "2776291cb0144876be4745eddadccc5f": {
      "model_module": "@jupyter-widgets/controls",
      "model_module_version": "1.5.0",
      "model_name": "TextModel",
      "state": {
       "layout": "IPY_MODEL_239bec109578490f9329cf0477e25967",
       "style": "IPY_MODEL_a0ca02b99863475181c472671181931b",
       "value": "2"
      }
     },
     "2778daa48ab64c0db6ad457cd526e82b": {
      "model_module": "@jupyter-widgets/base",
      "model_module_version": "1.2.0",
      "model_name": "LayoutModel",
      "state": {}
     },
     "27858370fad5458d92d7dd6a4b82ca8f": {
      "model_module": "@jupyter-widgets/controls",
      "model_module_version": "1.5.0",
      "model_name": "VBoxModel",
      "state": {
       "children": [
        "IPY_MODEL_ad0c581ace6644679c7f139bea382624",
        "IPY_MODEL_f25e8e58d0ff4bfdac9976e2b810609f",
        "IPY_MODEL_8c662a756dec486e88f7e95c527a8ed5"
       ],
       "layout": "IPY_MODEL_d52a604bf63d477da2ef70e30e0ba77b"
      }
     },
     "278d0257a16b46f3bd5b0cf6a749ef7a": {
      "model_module": "@jupyter-widgets/base",
      "model_module_version": "1.2.0",
      "model_name": "LayoutModel",
      "state": {}
     },
     "279f582fd16e487ab9983179129112ee": {
      "model_module": "@jupyter-widgets/controls",
      "model_module_version": "1.5.0",
      "model_name": "BoxModel",
      "state": {
       "children": [
        "IPY_MODEL_a59f12fa718c46579c4aea8809dea6a7",
        "IPY_MODEL_a9ac0550e11a40198a6cf372d3a5a6ed",
        "IPY_MODEL_7e3c5396fcee44518743f679cbdde3e4",
        "IPY_MODEL_ce8d672259f64ba5b0abc94b3c51cff2"
       ],
       "layout": "IPY_MODEL_96d97b2c33114511b89b12ab5eb8480b"
      }
     },
     "27bb81f81e374baa97518595585dbffc": {
      "model_module": "@jupyter-widgets/base",
      "model_module_version": "1.2.0",
      "model_name": "LayoutModel",
      "state": {
       "width": "150px"
      }
     },
     "27bdb22148914b76ad42b4c47112636a": {
      "model_module": "@jupyter-widgets/controls",
      "model_module_version": "1.5.0",
      "model_name": "TextModel",
      "state": {
       "description": "times",
       "layout": "IPY_MODEL_ebc34247da3345df99ebe025f29f915b",
       "style": "IPY_MODEL_cc5ccd69022b4b968f9d8101f1cbfa01",
       "value": "1"
      }
     },
     "27def1cebe11409d914b2b8ff9595290": {
      "model_module": "@jupyter-widgets/controls",
      "model_module_version": "1.5.0",
      "model_name": "TextModel",
      "state": {
       "layout": "IPY_MODEL_4bcd3a11811347d3979a9396c2e71cd4",
       "style": "IPY_MODEL_99297227650b4b25a957dead6bc6dc34",
       "value": "7"
      }
     },
     "281efdd502c74ca8a2e8d12af8d95a38": {
      "model_module": "@jupyter-widgets/base",
      "model_module_version": "1.2.0",
      "model_name": "LayoutModel",
      "state": {}
     },
     "28281cc5db8849778bce13619e1bee94": {
      "model_module": "@jupyter-widgets/controls",
      "model_module_version": "1.5.0",
      "model_name": "DescriptionStyleModel",
      "state": {
       "description_width": ""
      }
     },
     "28460ee1def8481c9c42314b33c19318": {
      "model_module": "@jupyter-widgets/controls",
      "model_module_version": "1.5.0",
      "model_name": "TextModel",
      "state": {
       "description": "times",
       "layout": "IPY_MODEL_006ac3f4088f4baaae2eeca3ac6b9ce7",
       "style": "IPY_MODEL_871d56d114d642f69fd2f5fb0311035b",
       "value": "1"
      }
     },
     "28778d37a3d34de8abdb465645c3a198": {
      "model_module": "@jupyter-widgets/base",
      "model_module_version": "1.2.0",
      "model_name": "LayoutModel",
      "state": {
       "justify_content": "center"
      }
     },
     "28aef19c4c674d4282884f9d8db3313d": {
      "model_module": "@jupyter-widgets/base",
      "model_module_version": "1.2.0",
      "model_name": "LayoutModel",
      "state": {}
     },
     "28c6f44c68c24f47930ad943e1c212ae": {
      "model_module": "@jupyter-widgets/controls",
      "model_module_version": "1.5.0",
      "model_name": "ButtonStyleModel",
      "state": {}
     },
     "28ceea5bd3b94a2882c848e4c9d38095": {
      "model_module": "@jupyter-widgets/controls",
      "model_module_version": "1.5.0",
      "model_name": "DescriptionStyleModel",
      "state": {
       "description_width": ""
      }
     },
     "28d5633686e6401d9eb6f462f2178b21": {
      "model_module": "@jupyter-widgets/base",
      "model_module_version": "1.2.0",
      "model_name": "LayoutModel",
      "state": {
       "width": "100px"
      }
     },
     "28ec98da42234b85bbe98536907e385d": {
      "model_module": "@jupyter-widgets/base",
      "model_module_version": "1.2.0",
      "model_name": "LayoutModel",
      "state": {
       "width": "150px"
      }
     },
     "28f1a048e81e46ff8588ec500ca814bc": {
      "model_module": "@jupyter-widgets/controls",
      "model_module_version": "1.5.0",
      "model_name": "HTMLMathModel",
      "state": {
       "layout": "IPY_MODEL_4fe85e2e9fe44935918d987dd3b640c9",
       "style": "IPY_MODEL_4ecaa8b7683a40939c401081bd7ed430",
       "value": "Enter here the values of the matrix $A$"
      }
     },
     "28fab18fb6f94f60864dc96112d4e93d": {
      "model_module": "@jupyter-widgets/base",
      "model_module_version": "1.2.0",
      "model_name": "LayoutModel",
      "state": {}
     },
     "292616b9a7b0409d922f4e8da963d12f": {
      "model_module": "@jupyter-widgets/controls",
      "model_module_version": "1.5.0",
      "model_name": "DescriptionStyleModel",
      "state": {
       "description_width": ""
      }
     },
     "293687d5716f4e6b918f703e75391af0": {
      "model_module": "@jupyter-widgets/controls",
      "model_module_version": "1.5.0",
      "model_name": "DescriptionStyleModel",
      "state": {
       "description_width": ""
      }
     },
     "2941da78a3234d6e8187141eb0f90fcd": {
      "model_module": "@jupyter-widgets/base",
      "model_module_version": "1.2.0",
      "model_name": "LayoutModel",
      "state": {}
     },
     "29656c331b434cb9a44a81e17fd9d846": {
      "model_module": "@jupyter-widgets/controls",
      "model_module_version": "1.5.0",
      "model_name": "DescriptionStyleModel",
      "state": {
       "description_width": ""
      }
     },
     "2966ba1130e74e7788bceb36f0dfd090": {
      "model_module": "@jupyter-widgets/controls",
      "model_module_version": "1.5.0",
      "model_name": "DescriptionStyleModel",
      "state": {
       "description_width": ""
      }
     },
     "298c24db2d8d4b06be98207d0618f277": {
      "model_module": "@jupyter-widgets/controls",
      "model_module_version": "1.5.0",
      "model_name": "DescriptionStyleModel",
      "state": {
       "description_width": ""
      }
     },
     "29908dd67df2444caafa1ccafe794c45": {
      "model_module": "@jupyter-widgets/base",
      "model_module_version": "1.2.0",
      "model_name": "LayoutModel",
      "state": {}
     },
     "29b5731093c9454088990116213b1993": {
      "model_module": "@jupyter-widgets/base",
      "model_module_version": "1.2.0",
      "model_name": "LayoutModel",
      "state": {
       "width": "90px"
      }
     },
     "29b7c756e0eb4f5ab236cc978c838b34": {
      "model_module": "@jupyter-widgets/base",
      "model_module_version": "1.2.0",
      "model_name": "LayoutModel",
      "state": {}
     },
     "29d21bc21ee24e8392b2eb9118556be3": {
      "model_module": "@jupyter-widgets/controls",
      "model_module_version": "1.5.0",
      "model_name": "DescriptionStyleModel",
      "state": {
       "description_width": ""
      }
     },
     "29e20250ef5a4f98937bffb4dd3a2816": {
      "model_module": "@jupyter-widgets/controls",
      "model_module_version": "1.5.0",
      "model_name": "TextModel",
      "state": {
       "layout": "IPY_MODEL_109f6d462a004bdd9a95542348d778f8",
       "style": "IPY_MODEL_f90a04cf9aa141c2b2268effad885d92",
       "value": "-1"
      }
     },
     "2a128d6d4b754f6b94032aa5acf4c4ec": {
      "model_module": "@jupyter-widgets/controls",
      "model_module_version": "1.5.0",
      "model_name": "DescriptionStyleModel",
      "state": {
       "description_width": ""
      }
     },
     "2a44e11b4a604194b1dddad46bccf849": {
      "model_module": "@jupyter-widgets/controls",
      "model_module_version": "1.5.0",
      "model_name": "ButtonModel",
      "state": {
       "description": "Start",
       "layout": "IPY_MODEL_29908dd67df2444caafa1ccafe794c45",
       "style": "IPY_MODEL_759a4cdb2c014bed8ace68c7fd0debfc"
      }
     },
     "2a75ae7e276c4b90aff664ea81dbf53e": {
      "model_module": "@jupyter-widgets/controls",
      "model_module_version": "1.5.0",
      "model_name": "TextModel",
      "state": {
       "layout": "IPY_MODEL_47a60aa1cf3045f2a536b06edf49c5ea",
       "style": "IPY_MODEL_6f8efccceed649bba135fcfc82dd1b6c",
       "value": "2"
      }
     },
     "2a84caefaaf04cd9b6f67a05dc1039a9": {
      "model_module": "@jupyter-widgets/controls",
      "model_module_version": "1.5.0",
      "model_name": "TextModel",
      "state": {
       "layout": "IPY_MODEL_201e1a4ee32840b19f981690bdacf3ae",
       "style": "IPY_MODEL_dfdc943601c64603ac3cf14cf995f38d",
       "value": "-1"
      }
     },
     "2a90f9ef28eb4e99aad79e83136a4bd6": {
      "model_module": "@jupyter-widgets/controls",
      "model_module_version": "1.5.0",
      "model_name": "DescriptionStyleModel",
      "state": {
       "description_width": ""
      }
     },
     "2aa17632797d492988b90a4f5fb6687b": {
      "model_module": "@jupyter-widgets/controls",
      "model_module_version": "1.5.0",
      "model_name": "HBoxModel",
      "state": {
       "children": [
        "IPY_MODEL_db87d0b42b6b464a90308e08be743a0f",
        "IPY_MODEL_44cb07a0751941d4a4d14f7cff087d4d"
       ],
       "layout": "IPY_MODEL_13b2a989995f45d789414b3b89e8dc92"
      }
     },
     "2aaf272458ff4a91912f44f70ce55db7": {
      "model_module": "@jupyter-widgets/controls",
      "model_module_version": "1.5.0",
      "model_name": "TextModel",
      "state": {
       "layout": "IPY_MODEL_97993fa24fac42e28605e8d366180168",
       "style": "IPY_MODEL_c15c8aa9f302432888f362099dbeabb7",
       "value": "9"
      }
     },
     "2ace8d28a67e4d9aab87e6de4dba898f": {
      "model_module": "@jupyter-widgets/controls",
      "model_module_version": "1.5.0",
      "model_name": "TextModel",
      "state": {
       "layout": "IPY_MODEL_5a0c24727aa941b48d996c0a1f0c2bf8",
       "style": "IPY_MODEL_63831aa668c547daa7d69cdb79734294",
       "value": "-6"
      }
     },
     "2adcaf30401b4797b9cfc813761f42d8": {
      "model_module": "@jupyter-widgets/controls",
      "model_module_version": "1.5.0",
      "model_name": "TextModel",
      "state": {
       "layout": "IPY_MODEL_dfe771ca3cb647c5ba599a113ad575df",
       "style": "IPY_MODEL_312ee71620fc4495a1aded436e61cace",
       "value": "-1"
      }
     },
     "2afa6b4e140c44e6bef60f47b1573a3d": {
      "model_module": "@jupyter-widgets/base",
      "model_module_version": "1.2.0",
      "model_name": "LayoutModel",
      "state": {}
     },
     "2b1a28b63fe54bb0aa2b38644bb53a42": {
      "model_module": "@jupyter-widgets/controls",
      "model_module_version": "1.5.0",
      "model_name": "HTMLMathModel",
      "state": {
       "layout": "IPY_MODEL_37fcb50523f34e7297659eb4d4c61bc7",
       "style": "IPY_MODEL_22ed4d4ecee840d68a2d9da9321467a0",
       "value": "The augmented matrix will appear here."
      }
     },
     "2b344d9ebcf040338f89b9e60afaa0f4": {
      "model_module": "@jupyter-widgets/controls",
      "model_module_version": "1.5.0",
      "model_name": "HBoxModel",
      "state": {
       "children": [
        "IPY_MODEL_86f58410ab2544e9b1378cb940941d97",
        "IPY_MODEL_151d4cd19704496b81b6768e2ef2bb70"
       ],
       "layout": "IPY_MODEL_0d6bdfcbd4a0483e8b44b5f267ea3c6e"
      }
     },
     "2b414da73256469183a63797efc162d1": {
      "model_module": "@jupyter-widgets/controls",
      "model_module_version": "1.5.0",
      "model_name": "HBoxModel",
      "state": {
       "children": [
        "IPY_MODEL_48601e1496764b1783d8750ed425f8d1",
        "IPY_MODEL_8ff0ec45936248d8811eb7582dace907",
        "IPY_MODEL_71bddc835ec74c7bbdcc813765c37303"
       ],
       "layout": "IPY_MODEL_2fc29ec74c2f4d52ad6509f751ad9046"
      }
     },
     "2b566c72742a44cf89334ee30a5f109d": {
      "model_module": "@jupyter-widgets/controls",
      "model_module_version": "1.5.0",
      "model_name": "DescriptionStyleModel",
      "state": {
       "description_width": ""
      }
     },
     "2b63bf28c45c4944bc18962074f124bc": {
      "model_module": "@jupyter-widgets/base",
      "model_module_version": "1.2.0",
      "model_name": "LayoutModel",
      "state": {}
     },
     "2b754989fd9d4f72a40dd712a17297c5": {
      "model_module": "@jupyter-widgets/base",
      "model_module_version": "1.2.0",
      "model_name": "LayoutModel",
      "state": {}
     },
     "2b787eaa14064c8ab6aabd3ed94d26d0": {
      "model_module": "@jupyter-widgets/controls",
      "model_module_version": "1.5.0",
      "model_name": "DescriptionStyleModel",
      "state": {
       "description_width": ""
      }
     },
     "2b9b518842db47a3bae3afe48b7e21fc": {
      "model_module": "@jupyter-widgets/controls",
      "model_module_version": "1.5.0",
      "model_name": "DescriptionStyleModel",
      "state": {
       "description_width": ""
      }
     },
     "2bc7b8f7653b48b6bfbf9beb8e41bdaa": {
      "model_module": "@jupyter-widgets/controls",
      "model_module_version": "1.5.0",
      "model_name": "ButtonModel",
      "state": {
       "description": "Swap rows",
       "layout": "IPY_MODEL_56205f294daa479fb497538e8ed67531",
       "style": "IPY_MODEL_bbc8c3f625e04239b88ebed60d75bee3"
      }
     },
     "2bd11f98038f403bb960dc717e6e444e": {
      "model_module": "@jupyter-widgets/controls",
      "model_module_version": "1.5.0",
      "model_name": "ButtonStyleModel",
      "state": {}
     },
     "2bd2d6e8efd54955834b5a4446ece3e1": {
      "model_module": "@jupyter-widgets/base",
      "model_module_version": "1.2.0",
      "model_name": "LayoutModel",
      "state": {
       "width": "150px"
      }
     },
     "2c33a9b4e41a4727bef14ba44f6fed0c": {
      "model_module": "@jupyter-widgets/controls",
      "model_module_version": "1.5.0",
      "model_name": "VBoxModel",
      "state": {
       "children": [
        "IPY_MODEL_e0f7e9c79b414ab6987e26eb7247b9f1",
        "IPY_MODEL_8d16ced010fc428ab81bce4fbe2609e1",
        "IPY_MODEL_237feb43c3984f1c9f37ac9c75cb0316"
       ],
       "layout": "IPY_MODEL_f1fa41c9f71c4f8bb49565f039a58277"
      }
     },
     "2c8b4e40a7ca496f9b0eaada84c1273f": {
      "model_module": "@jupyter-widgets/controls",
      "model_module_version": "1.5.0",
      "model_name": "DropdownModel",
      "state": {
       "_options_labels": [
        "1",
        "2",
        "3"
       ],
       "description": "Row",
       "index": 0,
       "layout": "IPY_MODEL_2e2fb3e740cf44ed99d1dd9b02ef2741",
       "style": "IPY_MODEL_c1181e38393442cdbfda45760c255e86"
      }
     },
     "2cb12575ca47479fba8b77c06769e60b": {
      "model_module": "@jupyter-widgets/base",
      "model_module_version": "1.2.0",
      "model_name": "LayoutModel",
      "state": {
       "height": "300px",
       "justify_content": "center"
      }
     },
     "2d03458821b84cf0ac61f3dbc5c083bb": {
      "model_module": "@jupyter-widgets/controls",
      "model_module_version": "1.5.0",
      "model_name": "BoxModel",
      "state": {
       "children": [
        "IPY_MODEL_a4d47edefcc34ee19901b29b6866cce0"
       ],
       "layout": "IPY_MODEL_8f89562761c64c089b0447c83774624d"
      }
     },
     "2d282b9121bb4c73a4f1b22458413649": {
      "model_module": "@jupyter-widgets/base",
      "model_module_version": "1.2.0",
      "model_name": "LayoutModel",
      "state": {
       "width": "150px"
      }
     },
     "2d2917d769b6478989bd9fd8c0ea961b": {
      "model_module": "@jupyter-widgets/controls",
      "model_module_version": "1.5.0",
      "model_name": "DescriptionStyleModel",
      "state": {
       "description_width": ""
      }
     },
     "2d33574bd29841d6b6d3498276177b53": {
      "model_module": "@jupyter-widgets/controls",
      "model_module_version": "1.5.0",
      "model_name": "DescriptionStyleModel",
      "state": {
       "description_width": ""
      }
     },
     "2d33913fd8c44fa2b32543c12a135386": {
      "model_module": "@jupyter-widgets/controls",
      "model_module_version": "1.5.0",
      "model_name": "DescriptionStyleModel",
      "state": {
       "description_width": ""
      }
     },
     "2d567123192d4d709615777378d571af": {
      "model_module": "@jupyter-widgets/base",
      "model_module_version": "1.2.0",
      "model_name": "LayoutModel",
      "state": {}
     },
     "2d67ec38004c47ffbb5db63abfaf30c0": {
      "model_module": "@jupyter-widgets/controls",
      "model_module_version": "1.5.0",
      "model_name": "ButtonModel",
      "state": {
       "description": "Start",
       "layout": "IPY_MODEL_4258c0cb737247b0b2954f90cc0d40aa",
       "style": "IPY_MODEL_f422046e23c8401abdfb33fc0a5f3f5a"
      }
     },
     "2d73d1978456452db67373fc65eb3133": {
      "model_module": "@jupyter-widgets/controls",
      "model_module_version": "1.5.0",
      "model_name": "DescriptionStyleModel",
      "state": {
       "description_width": ""
      }
     },
     "2d8dfb43d02a4ea7b5a8918d25da9f57": {
      "model_module": "@jupyter-widgets/base",
      "model_module_version": "1.2.0",
      "model_name": "LayoutModel",
      "state": {
       "width": "90px"
      }
     },
     "2d958c8949524fe9a001c716d9a4cdc2": {
      "model_module": "@jupyter-widgets/controls",
      "model_module_version": "1.5.0",
      "model_name": "ButtonStyleModel",
      "state": {}
     },
     "2dc1d5fe954a4354bdc0542a2f5f775d": {
      "model_module": "@jupyter-widgets/base",
      "model_module_version": "1.2.0",
      "model_name": "LayoutModel",
      "state": {}
     },
     "2dc322cdb8a441c1b4f4559dbcba7746": {
      "model_module": "@jupyter-widgets/base",
      "model_module_version": "1.2.0",
      "model_name": "LayoutModel",
      "state": {
       "flex_flow": "row wrap",
       "justify_content": "space-around"
      }
     },
     "2dc52afa0a424630afda17f0855abca0": {
      "model_module": "@jupyter-widgets/controls",
      "model_module_version": "1.5.0",
      "model_name": "DescriptionStyleModel",
      "state": {
       "description_width": ""
      }
     },
     "2dc891ffe5fc4cb9bcadc89f915d30d3": {
      "model_module": "@jupyter-widgets/base",
      "model_module_version": "1.2.0",
      "model_name": "LayoutModel",
      "state": {}
     },
     "2dca3d6de0fa4e00a564ca06e66f88a3": {
      "model_module": "@jupyter-widgets/controls",
      "model_module_version": "1.5.0",
      "model_name": "ButtonModel",
      "state": {
       "description": "Swap rows",
       "layout": "IPY_MODEL_65b12b7efab24a9c9ddeb8f6542de660",
       "style": "IPY_MODEL_e68b82d94cfe4eb587f8ffd7712b919c"
      }
     },
     "2dd052f9e5cf46fc8cbe7badda5ece48": {
      "model_module": "@jupyter-widgets/base",
      "model_module_version": "1.2.0",
      "model_name": "LayoutModel",
      "state": {
       "width": "100px"
      }
     },
     "2dd8f476c90946ca8411be22e8261c6b": {
      "model_module": "@jupyter-widgets/controls",
      "model_module_version": "1.5.0",
      "model_name": "DescriptionStyleModel",
      "state": {
       "description_width": ""
      }
     },
     "2ddddaae060445b6b5a243c3c2a0d386": {
      "model_module": "@jupyter-widgets/controls",
      "model_module_version": "1.5.0",
      "model_name": "DropdownModel",
      "state": {
       "_options_labels": [
        "1",
        "2",
        "3"
       ],
       "description": "and row",
       "index": 1,
       "layout": "IPY_MODEL_04e4c5cf91b0404c8d6845236b556cbd",
       "style": "IPY_MODEL_49fd5baa30064c88afad8e6eacc7d880"
      }
     },
     "2de4ac702bdc4377b4b1e76ea0f36abe": {
      "model_module": "@jupyter-widgets/base",
      "model_module_version": "1.2.0",
      "model_name": "LayoutModel",
      "state": {}
     },
     "2dede00b438548bf87b27a6efa51999f": {
      "model_module": "@jupyter-widgets/base",
      "model_module_version": "1.2.0",
      "model_name": "LayoutModel",
      "state": {
       "width": "150px"
      }
     },
     "2dfb2f0815b74f8d8717a64975508a06": {
      "model_module": "@jupyter-widgets/base",
      "model_module_version": "1.2.0",
      "model_name": "LayoutModel",
      "state": {}
     },
     "2e18a309848548118dc1051ca6d51e7c": {
      "model_module": "@jupyter-widgets/controls",
      "model_module_version": "1.5.0",
      "model_name": "DescriptionStyleModel",
      "state": {
       "description_width": ""
      }
     },
     "2e2fb3e740cf44ed99d1dd9b02ef2741": {
      "model_module": "@jupyter-widgets/base",
      "model_module_version": "1.2.0",
      "model_name": "LayoutModel",
      "state": {
       "width": "150px"
      }
     },
     "2e6bfdadb4474882b32393a9a1465b65": {
      "model_module": "@jupyter-widgets/controls",
      "model_module_version": "1.5.0",
      "model_name": "HBoxModel",
      "state": {
       "children": [
        "IPY_MODEL_65c402a2652c40dc9a6e1c673809c5ac",
        "IPY_MODEL_ec98a905b0674bab9d816ed1bc603cc7",
        "IPY_MODEL_93d75bf643ef4ed5915f52affd6d1221"
       ],
       "layout": "IPY_MODEL_423519f11c55416f965eb4875a1b7d1c"
      }
     },
     "2e7ce31e54dd4b92b77d8cfac2a5e445": {
      "model_module": "@jupyter-widgets/base",
      "model_module_version": "1.2.0",
      "model_name": "LayoutModel",
      "state": {}
     },
     "2e977334645647e3abad10c5c40dec3c": {
      "model_module": "@jupyter-widgets/controls",
      "model_module_version": "1.5.0",
      "model_name": "DescriptionStyleModel",
      "state": {
       "description_width": ""
      }
     },
     "2e9d771f4b3d4c4e8b6cced00a088494": {
      "model_module": "@jupyter-widgets/base",
      "model_module_version": "1.2.0",
      "model_name": "LayoutModel",
      "state": {}
     },
     "2eabd5d7e73d40579cf42cf914c038d4": {
      "model_module": "@jupyter-widgets/base",
      "model_module_version": "1.2.0",
      "model_name": "LayoutModel",
      "state": {}
     },
     "2eb1476cf7a54fb38c86c2d1b546cbd4": {
      "model_module": "@jupyter-widgets/base",
      "model_module_version": "1.2.0",
      "model_name": "LayoutModel",
      "state": {}
     },
     "2ef3cd51ce8e475a911a9ed3701bea03": {
      "model_module": "@jupyter-widgets/base",
      "model_module_version": "1.2.0",
      "model_name": "LayoutModel",
      "state": {
       "width": "150px"
      }
     },
     "2f0321b7e0054db18378c3f84ddc4ea6": {
      "model_module": "@jupyter-widgets/base",
      "model_module_version": "1.2.0",
      "model_name": "LayoutModel",
      "state": {
       "width": "150px"
      }
     },
     "2f2df2a2357449aa83c63d0bfc1908b5": {
      "model_module": "@jupyter-widgets/controls",
      "model_module_version": "1.5.0",
      "model_name": "ButtonModel",
      "state": {
       "description": "Check inverse",
       "layout": "IPY_MODEL_c83e665e904441b387bef29a60efc741",
       "style": "IPY_MODEL_9dac9b760999435faf0e51992e7daa00"
      }
     },
     "2f34a7fb445442a78d2ae808ea75adf1": {
      "model_module": "@jupyter-widgets/controls",
      "model_module_version": "1.5.0",
      "model_name": "DescriptionStyleModel",
      "state": {
       "description_width": ""
      }
     },
     "2f737ba152f242e8b202c882f6da30f9": {
      "model_module": "@jupyter-widgets/controls",
      "model_module_version": "1.5.0",
      "model_name": "HTMLMathModel",
      "state": {
       "layout": "IPY_MODEL_cb1a6b70276648fba9617f555749a920",
       "style": "IPY_MODEL_d9eac83519e8422a8cdc935469cd93f4",
       "value": "The augmented matrix $(\\bf{A}|\\bf{I})$ is:\n $$\\left [\\begin{array}{ rrr|rrr }\n4 & 1 & -2 & 1 & 0 & 0 \\\\\n3 & -1 & 1 & 0 & 1 & 0 \\\\\n1 & -1 & 1 & 0 & 0 & 1\n\\end{array}\\right ] $$ with $\\det A =2$."
      }
     },
     "2f742a140e0d4cadbb4df4cbc08b1062": {
      "model_module": "@jupyter-widgets/controls",
      "model_module_version": "1.5.0",
      "model_name": "TextModel",
      "state": {
       "layout": "IPY_MODEL_9a1e48de729e4abb89a3a19428a205a0",
       "style": "IPY_MODEL_c67711fbe2224070b43d02f5be39c54a",
       "value": "1"
      }
     },
     "2f755b9020d549f5877dbeb4cfc47c86": {
      "model_module": "@jupyter-widgets/controls",
      "model_module_version": "1.5.0",
      "model_name": "DescriptionStyleModel",
      "state": {
       "description_width": ""
      }
     },
     "2f7c06a8bb4845b28237de2ee295b9af": {
      "model_module": "@jupyter-widgets/controls",
      "model_module_version": "1.5.0",
      "model_name": "BoxModel",
      "state": {
       "children": [
        "IPY_MODEL_07be2cbf2222489f93d867801970daf1",
        "IPY_MODEL_237222725650412f9e984d8f10d97422",
        "IPY_MODEL_c21d552022a140468cae5bc3786518a7"
       ],
       "layout": "IPY_MODEL_d6c8e4c590dc4dd18f5dc4b218e6ee0e"
      }
     },
     "2f7d97f9c5884ac0965678ed6130f096": {
      "model_module": "@jupyter-widgets/base",
      "model_module_version": "1.2.0",
      "model_name": "LayoutModel",
      "state": {
       "width": "150px"
      }
     },
     "2f9a244cf46648c7bea68e4dd89f3843": {
      "model_module": "@jupyter-widgets/base",
      "model_module_version": "1.2.0",
      "model_name": "LayoutModel",
      "state": {}
     },
     "2fc29ec74c2f4d52ad6509f751ad9046": {
      "model_module": "@jupyter-widgets/base",
      "model_module_version": "1.2.0",
      "model_name": "LayoutModel",
      "state": {}
     },
     "2fd153954dc147da970765cb657eebe3": {
      "model_module": "@jupyter-widgets/controls",
      "model_module_version": "1.5.0",
      "model_name": "HTMLMathModel",
      "state": {
       "layout": "IPY_MODEL_57402a2d9d3d495b9627d59c87363c23",
       "style": "IPY_MODEL_57636afa71ac47b69928ac189dab6828",
       "value": "Enter here the values of the right hand side vector $b$"
      }
     },
     "2fedb076a914436bb19c4c0acdce1eb4": {
      "model_module": "@jupyter-widgets/base",
      "model_module_version": "1.2.0",
      "model_name": "LayoutModel",
      "state": {}
     },
     "3019e58990bb4706a3bf95b83a8cca0d": {
      "model_module": "@jupyter-widgets/base",
      "model_module_version": "1.2.0",
      "model_name": "LayoutModel",
      "state": {
       "width": "100px"
      }
     },
     "302d4cb0457b491aa3b3d1fe539d68e4": {
      "model_module": "@jupyter-widgets/base",
      "model_module_version": "1.2.0",
      "model_name": "LayoutModel",
      "state": {}
     },
     "30414b9b4b28414baf7f22c252767ef7": {
      "model_module": "@jupyter-widgets/base",
      "model_module_version": "1.2.0",
      "model_name": "LayoutModel",
      "state": {
       "width": "150px"
      }
     },
     "30417b19cbcf4f13b307052fdba25749": {
      "model_module": "@jupyter-widgets/controls",
      "model_module_version": "1.5.0",
      "model_name": "DescriptionStyleModel",
      "state": {
       "description_width": ""
      }
     },
     "304b08b4a7014314a8c561d2ae74b4b8": {
      "model_module": "@jupyter-widgets/controls",
      "model_module_version": "1.5.0",
      "model_name": "VBoxModel",
      "state": {
       "children": [
        "IPY_MODEL_5ee53d25fc564b1faf206c4a448278fa",
        "IPY_MODEL_71a043bb35034ef8a8f68b15be0448e7"
       ],
       "layout": "IPY_MODEL_bbbba68533d7458589b5f23bdb521bb9"
      }
     },
     "3052d1ae3dc149a997947ade1185ba4d": {
      "model_module": "@jupyter-widgets/base",
      "model_module_version": "1.2.0",
      "model_name": "LayoutModel",
      "state": {}
     },
     "305d1587d7104b50a98b9af1a5c2ac27": {
      "model_module": "@jupyter-widgets/base",
      "model_module_version": "1.2.0",
      "model_name": "LayoutModel",
      "state": {
       "width": "100px"
      }
     },
     "3085bfbd1cb9493081fc66494a53448d": {
      "model_module": "@jupyter-widgets/base",
      "model_module_version": "1.2.0",
      "model_name": "LayoutModel",
      "state": {
       "width": "90px"
      }
     },
     "308f071668994851a29f0ae6fcc0bc14": {
      "model_module": "@jupyter-widgets/base",
      "model_module_version": "1.2.0",
      "model_name": "LayoutModel",
      "state": {
       "height": "35px",
       "width": "40px"
      }
     },
     "308fd71d6dd747d288e4785e56a07a00": {
      "model_module": "@jupyter-widgets/controls",
      "model_module_version": "1.5.0",
      "model_name": "ButtonStyleModel",
      "state": {}
     },
     "30af29e3f3104565b0fe946fa6483370": {
      "model_module": "@jupyter-widgets/controls",
      "model_module_version": "1.5.0",
      "model_name": "ButtonModel",
      "state": {
       "description": "Swap rows",
       "layout": "IPY_MODEL_f16b07887d074602943a49dbb77551a0",
       "style": "IPY_MODEL_a4ce331ddd91435ab4a63b897ab71163"
      }
     },
     "30b93015e3c444248f73545d1d92177f": {
      "model_module": "@jupyter-widgets/base",
      "model_module_version": "1.2.0",
      "model_name": "LayoutModel",
      "state": {
       "width": "150px"
      }
     },
     "30c3d49e2aaa48dfa4485199962941fd": {
      "model_module": "@jupyter-widgets/controls",
      "model_module_version": "1.5.0",
      "model_name": "TextModel",
      "state": {
       "layout": "IPY_MODEL_d743f8ba50f447a3ad2d5faaa6a0e9e2",
       "style": "IPY_MODEL_4adb0b2ba8e0421f9e47825dd8d97adb",
       "value": "7"
      }
     },
     "30c90ace0afa45adb76a627dfff80b2b": {
      "model_module": "@jupyter-widgets/controls",
      "model_module_version": "1.5.0",
      "model_name": "TextModel",
      "state": {
       "layout": "IPY_MODEL_65cb8db367e14667886b79ef97c800d1",
       "style": "IPY_MODEL_234fd6bd218943bca80c2e98b9f8ba69",
       "value": "-1"
      }
     },
     "30d5e1b994d34e02801a2af46acd155e": {
      "model_module": "@jupyter-widgets/base",
      "model_module_version": "1.2.0",
      "model_name": "LayoutModel",
      "state": {}
     },
     "30e24d66977b439cac6f6595c7775c83": {
      "model_module": "@jupyter-widgets/controls",
      "model_module_version": "1.5.0",
      "model_name": "VBoxModel",
      "state": {
       "children": [
        "IPY_MODEL_6b4e85c5c4cf4b1bb70336bd6ab05044",
        "IPY_MODEL_811b1db1ac5f4cb2bc4f5e8b4f2ddc28"
       ],
       "layout": "IPY_MODEL_8984321359a04262bd5a0da9c645e433"
      }
     },
     "3108d4484645481b87f74a54bed4cfa8": {
      "model_module": "@jupyter-widgets/controls",
      "model_module_version": "1.5.0",
      "model_name": "ButtonStyleModel",
      "state": {}
     },
     "31101d7e0bf64b81a45ccc6d836820d6": {
      "model_module": "@jupyter-widgets/base",
      "model_module_version": "1.2.0",
      "model_name": "LayoutModel",
      "state": {}
     },
     "31230e9aa15c4947891a15505593e2b7": {
      "model_module": "@jupyter-widgets/base",
      "model_module_version": "1.2.0",
      "model_name": "LayoutModel",
      "state": {}
     },
     "3127dd1ea93446a9b765ca385fd8ed73": {
      "model_module": "@jupyter-widgets/base",
      "model_module_version": "1.2.0",
      "model_name": "LayoutModel",
      "state": {
       "align_items": "center",
       "flex_flow": "row wrap",
       "height": "100px",
       "justify_content": "space-around"
      }
     },
     "312b06a1a48644f49dd0b293d3e574aa": {
      "model_module": "@jupyter-widgets/controls",
      "model_module_version": "1.5.0",
      "model_name": "TextModel",
      "state": {
       "layout": "IPY_MODEL_a21d52801ae94e44813bb1c00d81c473",
       "style": "IPY_MODEL_298c24db2d8d4b06be98207d0618f277",
       "value": "1"
      }
     },
     "312dfe903bab411a80b9f9497e869381": {
      "model_module": "@jupyter-widgets/controls",
      "model_module_version": "1.5.0",
      "model_name": "VBoxModel",
      "state": {
       "children": [
        "IPY_MODEL_fe596947972647c88ff5f6d2504bac37",
        "IPY_MODEL_e2da722f51574a32801ea079bea653bb",
        "IPY_MODEL_7e89f4146d8c40ffb773363da2a60efe"
       ],
       "layout": "IPY_MODEL_7cc0daa96b8d4b6595fc0dc9b4923dbc"
      }
     },
     "312ee71620fc4495a1aded436e61cace": {
      "model_module": "@jupyter-widgets/controls",
      "model_module_version": "1.5.0",
      "model_name": "DescriptionStyleModel",
      "state": {
       "description_width": ""
      }
     },
     "31712fbd2aa54f68a18fd31f523e1d26": {
      "model_module": "@jupyter-widgets/base",
      "model_module_version": "1.2.0",
      "model_name": "LayoutModel",
      "state": {}
     },
     "319fadb2ec894910825e0a62eb0d37fd": {
      "model_module": "@jupyter-widgets/controls",
      "model_module_version": "1.5.0",
      "model_name": "DescriptionStyleModel",
      "state": {
       "description_width": ""
      }
     },
     "31ba861654524d979e2b51b7ea9ac9c2": {
      "model_module": "@jupyter-widgets/base",
      "model_module_version": "1.2.0",
      "model_name": "LayoutModel",
      "state": {
       "width": "150px"
      }
     },
     "31c4e0f88a45434fac7ce588133f88bc": {
      "model_module": "@jupyter-widgets/base",
      "model_module_version": "1.2.0",
      "model_name": "LayoutModel",
      "state": {
       "width": "150px"
      }
     },
     "31ce60b5435b4a8683a0b147783e26e9": {
      "model_module": "@jupyter-widgets/controls",
      "model_module_version": "1.5.0",
      "model_name": "TextModel",
      "state": {
       "description": "times",
       "layout": "IPY_MODEL_a3fd92c846cb4eb697499944ccb9ee06",
       "style": "IPY_MODEL_8784d0cbe3d745d3a68cde5dafc8f7b6",
       "value": "1"
      }
     },
     "31d5fe54664a4f28a9d1f63a82c16a42": {
      "model_module": "@jupyter-widgets/base",
      "model_module_version": "1.2.0",
      "model_name": "LayoutModel",
      "state": {}
     },
     "31ddb732ca134a0cb1b56475ee480f82": {
      "model_module": "@jupyter-widgets/controls",
      "model_module_version": "1.5.0",
      "model_name": "DescriptionStyleModel",
      "state": {
       "description_width": ""
      }
     },
     "31f7b242d3b242e69309b22c1149a097": {
      "model_module": "@jupyter-widgets/controls",
      "model_module_version": "1.5.0",
      "model_name": "DescriptionStyleModel",
      "state": {
       "description_width": ""
      }
     },
     "320f3af34cef4fc99355b350cdc9ee47": {
      "model_module": "@jupyter-widgets/controls",
      "model_module_version": "1.5.0",
      "model_name": "HTMLMathModel",
      "state": {
       "layout": "IPY_MODEL_4b4f676af3fb4b288ef52c00510a88fc",
       "style": "IPY_MODEL_07d0f9a0cf9a4c409539873163d5dc90",
       "value": "Enter here the values of the coefficient matrix $\\bf{A}$"
      }
     },
     "321f18e47ecc4d4da85005136283cba3": {
      "model_module": "@jupyter-widgets/controls",
      "model_module_version": "1.5.0",
      "model_name": "VBoxModel",
      "state": {
       "children": [
        "IPY_MODEL_f1a460adf0e1420dac326066b1145c30",
        "IPY_MODEL_58db598281744b48861f51a55f37fb3e"
       ],
       "layout": "IPY_MODEL_a57a6f87da364d46b4297f77b92984b8"
      }
     },
     "3225d56c13224b2f91875047c725e5fa": {
      "model_module": "@jupyter-widgets/controls",
      "model_module_version": "1.5.0",
      "model_name": "DescriptionStyleModel",
      "state": {
       "description_width": ""
      }
     },
     "3263fa349260464ea52668dc5ad42812": {
      "model_module": "@jupyter-widgets/controls",
      "model_module_version": "1.5.0",
      "model_name": "HTMLMathModel",
      "state": {
       "layout": "IPY_MODEL_7b9fbf87fec34688af7ea7293e3537bc",
       "style": "IPY_MODEL_d921c4620ed54d18aabf21b32cd98d09",
       "value": "The augmented matrix is:\n \n    $$\n    \\left[ \\begin{array}{rrr|r}\n        2 & -6 & 1 & 7\\\\\n        1 & 2 & -1 & -1\\\\\n        5 & 7 & -4 & 9\n    \\end{array} \\right]\n    $$\n    "
      }
     },
     "328b3676b5c24f18bc2e47ede2b4c473": {
      "model_module": "@jupyter-widgets/base",
      "model_module_version": "1.2.0",
      "model_name": "LayoutModel",
      "state": {}
     },
     "3297f54c9e874cf392f0e9c218127b42": {
      "model_module": "@jupyter-widgets/base",
      "model_module_version": "1.2.0",
      "model_name": "LayoutModel",
      "state": {}
     },
     "32b4c92919144610b4525cb9e894d2de": {
      "model_module": "@jupyter-widgets/controls",
      "model_module_version": "1.5.0",
      "model_name": "VBoxModel",
      "state": {
       "children": [
        "IPY_MODEL_793085962ba246cc80df51034038686a",
        "IPY_MODEL_3a3e3efe11af4d22820ca625c81d4913"
       ],
       "layout": "IPY_MODEL_f465d1a148114a65a386d2fcb0ef1581"
      }
     },
     "32bd3667e04d42b69756252d5360ed57": {
      "model_module": "@jupyter-widgets/base",
      "model_module_version": "1.2.0",
      "model_name": "LayoutModel",
      "state": {}
     },
     "32dc9a9b317740d297f428ea51ba7952": {
      "model_module": "@jupyter-widgets/controls",
      "model_module_version": "1.5.0",
      "model_name": "BoxModel",
      "state": {
       "children": [
        "IPY_MODEL_18fd9c9e3fab4b82905f86e510e38efa",
        "IPY_MODEL_c109d38ccecf4c9585de6618fa019cc0",
        "IPY_MODEL_33ee7d2e5c52409482d2cfb2328a217b"
       ],
       "layout": "IPY_MODEL_af5642f83d614eb0b741252f3ab653db"
      }
     },
     "32f602b51c8340b6802da89319e1132b": {
      "model_module": "@jupyter-widgets/controls",
      "model_module_version": "1.5.0",
      "model_name": "DescriptionStyleModel",
      "state": {
       "description_width": ""
      }
     },
     "32feb49b5d0145f4a85b9625643a303f": {
      "model_module": "@jupyter-widgets/controls",
      "model_module_version": "1.5.0",
      "model_name": "DropdownModel",
      "state": {
       "_options_labels": [
        "1",
        "2",
        "3"
       ],
       "description": "Swap row",
       "index": 0,
       "layout": "IPY_MODEL_1c2e07a08f6f4529909c12f9e151ca96",
       "style": "IPY_MODEL_d5664297b59d433da038aaca81fcf4f4"
      }
     },
     "3336ef4628934ae6976d52d6d7bbc184": {
      "model_module": "@jupyter-widgets/controls",
      "model_module_version": "1.5.0",
      "model_name": "DescriptionStyleModel",
      "state": {
       "description_width": ""
      }
     },
     "33396439e67747aaa6d6baa3c98fd179": {
      "model_module": "@jupyter-widgets/controls",
      "model_module_version": "1.5.0",
      "model_name": "VBoxModel",
      "state": {
       "children": [
        "IPY_MODEL_ca464192a3a849f4a3111ec029a3d1d5",
        "IPY_MODEL_2d67ec38004c47ffbb5db63abfaf30c0"
       ],
       "layout": "IPY_MODEL_9eb7208844e74bd9868e7fe13c980bed"
      }
     },
     "333f6e25072c40f5900b4c9aa4d2bf49": {
      "model_module": "@jupyter-widgets/controls",
      "model_module_version": "1.5.0",
      "model_name": "HBoxModel",
      "state": {
       "children": [
        "IPY_MODEL_adfdd6e9e70746bebec8a6bc1166939a",
        "IPY_MODEL_e8fb122427ac4a5c95e5787e68e194ea"
       ],
       "layout": "IPY_MODEL_2437923e6cbb4b6a9c9a787f14f992a2"
      }
     },
     "335f4ecb0d434d8c8404200f239f73da": {
      "model_module": "@jupyter-widgets/controls",
      "model_module_version": "1.5.0",
      "model_name": "TextModel",
      "state": {
       "layout": "IPY_MODEL_35e7cd5dc3a344c7867ddf08fc7e1130",
       "style": "IPY_MODEL_619b7d8c06f64c7e97681ca808b4d02f",
       "value": " 1"
      }
     },
     "33748b101f9c48f69c0a23efdbd6cabc": {
      "model_module": "@jupyter-widgets/controls",
      "model_module_version": "1.5.0",
      "model_name": "DropdownModel",
      "state": {
       "_options_labels": [
        "1",
        "2",
        "3"
       ],
       "description": "Add row",
       "index": 0,
       "layout": "IPY_MODEL_790ebe0913d445a78abbfea678b44f7a",
       "style": "IPY_MODEL_81d8de21aa254bc6bff5b6151936a4df"
      }
     },
     "339aab08b6094045bddd14a39999ae2e": {
      "model_module": "@jupyter-widgets/controls",
      "model_module_version": "1.5.0",
      "model_name": "ButtonModel",
      "state": {
       "description": "Add rows",
       "layout": "IPY_MODEL_5214914e961d41cd8850423bb107a7c7",
       "style": "IPY_MODEL_cac2ce8c22ab409f940b7f3fdc9eabe9"
      }
     },
     "33bd0e962590410ebb73c612a4e166a0": {
      "model_module": "@jupyter-widgets/base",
      "model_module_version": "1.2.0",
      "model_name": "LayoutModel",
      "state": {}
     },
     "33cf66b3ba8b4ae193faa1ffafde3900": {
      "model_module": "@jupyter-widgets/controls",
      "model_module_version": "1.5.0",
      "model_name": "DescriptionStyleModel",
      "state": {
       "description_width": ""
      }
     },
     "33d2e629b0fa45cfa3f682a850dae812": {
      "model_module": "@jupyter-widgets/controls",
      "model_module_version": "1.5.0",
      "model_name": "HTMLMathModel",
      "state": {
       "layout": "IPY_MODEL_0a5833ded21c4998a2f94f098dd93e5f",
       "style": "IPY_MODEL_018a1ddc20b4430a81ea8333f199734f",
       "value": "Enter here the values of matrix $\\bf{A}$"
      }
     },
     "33ed9009863e4c70ab0f5b6de1c8fb9e": {
      "model_module": "@jupyter-widgets/base",
      "model_module_version": "1.2.0",
      "model_name": "LayoutModel",
      "state": {}
     },
     "33ee7d2e5c52409482d2cfb2328a217b": {
      "model_module": "@jupyter-widgets/controls",
      "model_module_version": "1.5.0",
      "model_name": "HBoxModel",
      "state": {
       "children": [
        "IPY_MODEL_d89917ebf05e43e79771a0c9b9a09f82",
        "IPY_MODEL_2009020c9a5a42d4bee119bb9f4fcdfc"
       ],
       "layout": "IPY_MODEL_36e65ffc99d748fc8ed1a98dda77d406"
      }
     },
     "33fab2c7cef44485941637efe4bf32ae": {
      "model_module": "@jupyter-widgets/base",
      "model_module_version": "1.2.0",
      "model_name": "LayoutModel",
      "state": {}
     },
     "3416ccb889f34840ba0235d758de1cc7": {
      "model_module": "@jupyter-widgets/controls",
      "model_module_version": "1.5.0",
      "model_name": "DescriptionStyleModel",
      "state": {
       "description_width": ""
      }
     },
     "342fbdc31d2d406489b24d1349c22e03": {
      "model_module": "@jupyter-widgets/base",
      "model_module_version": "1.2.0",
      "model_name": "LayoutModel",
      "state": {
       "height": "35px",
       "width": "40px"
      }
     },
     "3439b5e70b314bfbb885bd1371ebcbdd": {
      "model_module": "@jupyter-widgets/controls",
      "model_module_version": "1.5.0",
      "model_name": "ButtonStyleModel",
      "state": {}
     },
     "344cef62ee194b1ea53d1db52a0557d8": {
      "model_module": "@jupyter-widgets/base",
      "model_module_version": "1.2.0",
      "model_name": "LayoutModel",
      "state": {}
     },
     "345c96814d644cc79191d1c68086d3ea": {
      "model_module": "@jupyter-widgets/controls",
      "model_module_version": "1.5.0",
      "model_name": "TextModel",
      "state": {
       "layout": "IPY_MODEL_24e52a9da5f64680833f56257412e632",
       "style": "IPY_MODEL_f3f39816c8804cfca62d30eee3143169",
       "value": "7"
      }
     },
     "347d689d18c046a09ff914f4d3497591": {
      "model_module": "@jupyter-widgets/controls",
      "model_module_version": "1.5.0",
      "model_name": "DescriptionStyleModel",
      "state": {
       "description_width": ""
      }
     },
     "348495434cbc45ffbb3b84f1b4571117": {
      "model_module": "@jupyter-widgets/controls",
      "model_module_version": "1.5.0",
      "model_name": "DescriptionStyleModel",
      "state": {
       "description_width": ""
      }
     },
     "349695f8da084530925e788a541afae0": {
      "model_module": "@jupyter-widgets/controls",
      "model_module_version": "1.5.0",
      "model_name": "DescriptionStyleModel",
      "state": {
       "description_width": ""
      }
     },
     "34c2d76774104927845e81ec043b97e3": {
      "model_module": "@jupyter-widgets/controls",
      "model_module_version": "1.5.0",
      "model_name": "TextModel",
      "state": {
       "description": "times",
       "layout": "IPY_MODEL_f5a606fcbc344780ba3e59b8919cabd9",
       "style": "IPY_MODEL_aab1f190e5fe4f51bcf2eb078221c765",
       "value": "1"
      }
     },
     "34cc6803183a43e081417ee3a38f94b6": {
      "model_module": "@jupyter-widgets/controls",
      "model_module_version": "1.5.0",
      "model_name": "VBoxModel",
      "state": {
       "children": [
        "IPY_MODEL_845cd8e412634f5f949ceefd45856941",
        "IPY_MODEL_3db181f7959a40e1bf0f11495d2d7c92"
       ],
       "layout": "IPY_MODEL_fc8c15267a7142c3beb0ef5761079855"
      }
     },
     "34d6b37c6eff4e54baeca93fb16388ba": {
      "model_module": "@jupyter-widgets/base",
      "model_module_version": "1.2.0",
      "model_name": "LayoutModel",
      "state": {
       "width": "150px"
      }
     },
     "35000041449b487092bf5b738dc3e803": {
      "model_module": "@jupyter-widgets/controls",
      "model_module_version": "1.5.0",
      "model_name": "TextModel",
      "state": {
       "layout": "IPY_MODEL_f28c3c7f5ced4384b8a9eca6bc4c00fd",
       "style": "IPY_MODEL_eb71288ee6b64a15b0d0a2803f6b8572",
       "value": "7"
      }
     },
     "350fff36d0d54beb9bea1268f5d78d59": {
      "model_module": "@jupyter-widgets/controls",
      "model_module_version": "1.5.0",
      "model_name": "DescriptionStyleModel",
      "state": {
       "description_width": ""
      }
     },
     "35224dec32d84903b83dfca5d5887968": {
      "model_module": "@jupyter-widgets/controls",
      "model_module_version": "1.5.0",
      "model_name": "TextModel",
      "state": {
       "layout": "IPY_MODEL_239bec109578490f9329cf0477e25967",
       "style": "IPY_MODEL_cd1235ab90e64818a6d4bec00d5ef162",
       "value": "2"
      }
     },
     "35350c4302b14cb1976c54dfe3a486cf": {
      "model_module": "@jupyter-widgets/controls",
      "model_module_version": "1.5.0",
      "model_name": "DescriptionStyleModel",
      "state": {
       "description_width": ""
      }
     },
     "35377fcb8b304ec89d483579bcc13b5d": {
      "model_module": "@jupyter-widgets/controls",
      "model_module_version": "1.5.0",
      "model_name": "TextModel",
      "state": {
       "layout": "IPY_MODEL_342fbdc31d2d406489b24d1349c22e03",
       "style": "IPY_MODEL_53b6f3d32824469a899776b3ac2e5018",
       "value": "7"
      }
     },
     "354bfed5c847424cafc163ecf2f67d67": {
      "model_module": "@jupyter-widgets/controls",
      "model_module_version": "1.5.0",
      "model_name": "DescriptionStyleModel",
      "state": {
       "description_width": ""
      }
     },
     "3560e49a2bc7415380dfa7bffb94d1e1": {
      "model_module": "@jupyter-widgets/controls",
      "model_module_version": "1.5.0",
      "model_name": "TextModel",
      "state": {
       "layout": "IPY_MODEL_d19375b63f4b4e069ae82d3822ecfbd2",
       "style": "IPY_MODEL_94a707d9c50b4dcea0676ced2e7d4cbd",
       "value": "1"
      }
     },
     "3566ddabed134c3aa4b704daaa0a9613": {
      "model_module": "@jupyter-widgets/controls",
      "model_module_version": "1.5.0",
      "model_name": "DescriptionStyleModel",
      "state": {
       "description_width": ""
      }
     },
     "35698706a0c74b948d293f208ebfbf4d": {
      "model_module": "@jupyter-widgets/controls",
      "model_module_version": "1.5.0",
      "model_name": "VBoxModel",
      "state": {
       "children": [
        "IPY_MODEL_a121cd67d17a499d9b71b33b73c12d77",
        "IPY_MODEL_41837046d02f4b61a27084fface2c437"
       ],
       "layout": "IPY_MODEL_9773009742044ae4ba9e6f3c13ba3bb5"
      }
     },
     "3579da55966145ed8e495e49c601b781": {
      "model_module": "@jupyter-widgets/base",
      "model_module_version": "1.2.0",
      "model_name": "LayoutModel",
      "state": {}
     },
     "357d5cb7147048e3ba4c4ade2de0c746": {
      "model_module": "@jupyter-widgets/controls",
      "model_module_version": "1.5.0",
      "model_name": "TextModel",
      "state": {
       "layout": "IPY_MODEL_7336bcfb9a2145e9a2df614b1768b15f",
       "style": "IPY_MODEL_7910865ffcfb441c993d059dda3cde52",
       "value": "3"
      }
     },
     "35a4d40335954b698a53c5f13272b40d": {
      "model_module": "@jupyter-widgets/base",
      "model_module_version": "1.2.0",
      "model_name": "LayoutModel",
      "state": {
       "height": "300px",
       "justify_content": "center"
      }
     },
     "35a7aab008f44517aeb3aa619e3b2fcf": {
      "model_module": "@jupyter-widgets/base",
      "model_module_version": "1.2.0",
      "model_name": "LayoutModel",
      "state": {
       "justify_content": "center"
      }
     },
     "35c44a1b53024d65889815d417de8966": {
      "model_module": "@jupyter-widgets/base",
      "model_module_version": "1.2.0",
      "model_name": "LayoutModel",
      "state": {}
     },
     "35e2f4c6375742ee9bed9eff80ba7715": {
      "model_module": "@jupyter-widgets/base",
      "model_module_version": "1.2.0",
      "model_name": "LayoutModel",
      "state": {}
     },
     "35e7cd5dc3a344c7867ddf08fc7e1130": {
      "model_module": "@jupyter-widgets/base",
      "model_module_version": "1.2.0",
      "model_name": "LayoutModel",
      "state": {
       "height": "35px",
       "width": "30px"
      }
     },
     "35fb20e57cc94405aa2fae9e091b0e85": {
      "model_module": "@jupyter-widgets/controls",
      "model_module_version": "1.5.0",
      "model_name": "TextModel",
      "state": {
       "description": "times",
       "layout": "IPY_MODEL_7e059045d0de4580882cb61573ec0188",
       "style": "IPY_MODEL_4b4c7aa4cb504ca4bf72e6ecf908ac19",
       "value": "1"
      }
     },
     "360fc902e9824ec382244ee4778c6110": {
      "model_module": "@jupyter-widgets/controls",
      "model_module_version": "1.5.0",
      "model_name": "DescriptionStyleModel",
      "state": {
       "description_width": ""
      }
     },
     "364dd5a5d4ca4fffbbe41d1bd3d1bfab": {
      "model_module": "@jupyter-widgets/controls",
      "model_module_version": "1.5.0",
      "model_name": "TextModel",
      "state": {
       "layout": "IPY_MODEL_35e7cd5dc3a344c7867ddf08fc7e1130",
       "style": "IPY_MODEL_bf133051f9c242d5961ba3c7aa41f595",
       "value": " 7"
      }
     },
     "3659d426474b430fb68b997c3e1615d9": {
      "model_module": "@jupyter-widgets/controls",
      "model_module_version": "1.5.0",
      "model_name": "ButtonStyleModel",
      "state": {}
     },
     "367baf66a88146c8b5b8ead0d552c0a5": {
      "model_module": "@jupyter-widgets/controls",
      "model_module_version": "1.5.0",
      "model_name": "DropdownModel",
      "state": {
       "_options_labels": [
        "1",
        "2",
        "3"
       ],
       "description": "Add row",
       "index": 1,
       "layout": "IPY_MODEL_df6eddf4e1a44b0888ed43181fac4491",
       "style": "IPY_MODEL_ed2a06754a4f499aa139a9895bb8b482"
      }
     },
     "3683afd86d7d4ad4bf0ba1d5b89abe9f": {
      "model_module": "@jupyter-widgets/controls",
      "model_module_version": "1.5.0",
      "model_name": "VBoxModel",
      "state": {
       "children": [
        "IPY_MODEL_f55c22f200e64b4b873bf85ac4b885d4",
        "IPY_MODEL_a05c1e40bf624112ba0de1b32008b26b",
        "IPY_MODEL_3d8d2923127d482eb64fccbb0196d89b"
       ],
       "layout": "IPY_MODEL_5df62fb485f94c0689bdec998e24c163"
      }
     },
     "3686333061284c9c89eeeaf180d12c0b": {
      "model_module": "@jupyter-widgets/base",
      "model_module_version": "1.2.0",
      "model_name": "LayoutModel",
      "state": {
       "flex_flow": "row wrap",
       "justify_content": "space-around"
      }
     },
     "369754e4b678443d8c2919b0840e6a3d": {
      "model_module": "@jupyter-widgets/base",
      "model_module_version": "1.2.0",
      "model_name": "LayoutModel",
      "state": {}
     },
     "36c3335ba7014120bc8951fc24905925": {
      "model_module": "@jupyter-widgets/controls",
      "model_module_version": "1.5.0",
      "model_name": "DescriptionStyleModel",
      "state": {
       "description_width": ""
      }
     },
     "36d600bb3cb144de8da56ca358490108": {
      "model_module": "@jupyter-widgets/base",
      "model_module_version": "1.2.0",
      "model_name": "LayoutModel",
      "state": {
       "height": "35px",
       "width": "40px"
      }
     },
     "36da31c1490443ae9bf4534336822938": {
      "model_module": "@jupyter-widgets/base",
      "model_module_version": "1.2.0",
      "model_name": "LayoutModel",
      "state": {
       "width": "150px"
      }
     },
     "36dbc954e5a74e50ac82fc551f0ed952": {
      "model_module": "@jupyter-widgets/controls",
      "model_module_version": "1.5.0",
      "model_name": "TextModel",
      "state": {
       "layout": "IPY_MODEL_4bcd3a11811347d3979a9396c2e71cd4",
       "style": "IPY_MODEL_05d824fc732b462cbc65da1fe3b445de",
       "value": "-4"
      }
     },
     "36e65ffc99d748fc8ed1a98dda77d406": {
      "model_module": "@jupyter-widgets/base",
      "model_module_version": "1.2.0",
      "model_name": "LayoutModel",
      "state": {}
     },
     "36f4a001763645f284adce9268ed5287": {
      "model_module": "@jupyter-widgets/controls",
      "model_module_version": "1.5.0",
      "model_name": "DescriptionStyleModel",
      "state": {
       "description_width": ""
      }
     },
     "372ed7a5cc394621ab6513f1814aa07f": {
      "model_module": "@jupyter-widgets/base",
      "model_module_version": "1.2.0",
      "model_name": "LayoutModel",
      "state": {}
     },
     "3779a7b08b334d90b67329e0a07a34dd": {
      "model_module": "@jupyter-widgets/controls",
      "model_module_version": "1.5.0",
      "model_name": "TextModel",
      "state": {
       "layout": "IPY_MODEL_8642d067baba44c0bf86d09f3f211429",
       "style": "IPY_MODEL_3b18ca16155940feafc8565bc6143cfb",
       "value": "1"
      }
     },
     "3791b490e79048c684bb5d12570d454f": {
      "model_module": "@jupyter-widgets/base",
      "model_module_version": "1.2.0",
      "model_name": "LayoutModel",
      "state": {
       "width": "90px"
      }
     },
     "37cce93af156445796753c206f90c42d": {
      "model_module": "@jupyter-widgets/controls",
      "model_module_version": "1.5.0",
      "model_name": "DropdownModel",
      "state": {
       "_options_labels": [
        "1",
        "2",
        "3"
       ],
       "description": "Swap row",
       "index": 0,
       "layout": "IPY_MODEL_cdce43372255467fa0c33341d14134f8",
       "style": "IPY_MODEL_133071a6e3284c44bba61ea818c127f5"
      }
     },
     "37dae0dce8774bc1882d3dcbaf114419": {
      "model_module": "@jupyter-widgets/controls",
      "model_module_version": "1.5.0",
      "model_name": "DescriptionStyleModel",
      "state": {
       "description_width": ""
      }
     },
     "37df36448f5c405194729a2c35c33d59": {
      "model_module": "@jupyter-widgets/controls",
      "model_module_version": "1.5.0",
      "model_name": "HBoxModel",
      "state": {
       "children": [
        "IPY_MODEL_2201fc263d934025a98b6446ae7d8f2c",
        "IPY_MODEL_e8c351c7ca3146cb902e74efccfdb1fe"
       ],
       "layout": "IPY_MODEL_a5de056aa545494d9c6adbc57f035436"
      }
     },
     "37f6707337e548fd8d9da12068d1e432": {
      "model_module": "@jupyter-widgets/base",
      "model_module_version": "1.2.0",
      "model_name": "LayoutModel",
      "state": {}
     },
     "37fcb50523f34e7297659eb4d4c61bc7": {
      "model_module": "@jupyter-widgets/base",
      "model_module_version": "1.2.0",
      "model_name": "LayoutModel",
      "state": {
       "width": "300px"
      }
     },
     "3843f1d8a0bf41a695d14e23f35e970f": {
      "model_module": "@jupyter-widgets/controls",
      "model_module_version": "1.5.0",
      "model_name": "DescriptionStyleModel",
      "state": {
       "description_width": ""
      }
     },
     "3860319c75cd41849c9d9b2161bfe478": {
      "model_module": "@jupyter-widgets/base",
      "model_module_version": "1.2.0",
      "model_name": "LayoutModel",
      "state": {}
     },
     "3880841f797b416a98480c81eabfd492": {
      "model_module": "@jupyter-widgets/controls",
      "model_module_version": "1.5.0",
      "model_name": "HBoxModel",
      "state": {
       "children": [
        "IPY_MODEL_ad7a09ca5dd245c9b86ba8cb1b5e230b",
        "IPY_MODEL_9748d940eb5e476998049c017764b096",
        "IPY_MODEL_5b2b21137c8a40ca963b4b178d50b9e2"
       ],
       "layout": "IPY_MODEL_78265e98fce34cca99783d6035995310"
      }
     },
     "388330af6e3749b5a4d160059b1b203f": {
      "model_module": "@jupyter-widgets/controls",
      "model_module_version": "1.5.0",
      "model_name": "DescriptionStyleModel",
      "state": {
       "description_width": ""
      }
     },
     "3886dcd238d7482dbec72b1fa2e7a447": {
      "model_module": "@jupyter-widgets/base",
      "model_module_version": "1.2.0",
      "model_name": "LayoutModel",
      "state": {}
     },
     "38967776d188405b99074075535fbdd5": {
      "model_module": "@jupyter-widgets/base",
      "model_module_version": "1.2.0",
      "model_name": "LayoutModel",
      "state": {
       "width": "120px"
      }
     },
     "389748515c6c475eb6223e40249ad939": {
      "model_module": "@jupyter-widgets/controls",
      "model_module_version": "1.5.0",
      "model_name": "VBoxModel",
      "state": {
       "children": [
        "IPY_MODEL_0fd6aec4b79043d59028fc4199b7d92a",
        "IPY_MODEL_e971ff09af864317aea0f315ec34b6d3",
        "IPY_MODEL_22b72113590842739b0640016292472a"
       ],
       "layout": "IPY_MODEL_eec9aefd7db54b25a1ed8114d7aff5c8"
      }
     },
     "389e41d10a70427a9f773410b02ba265": {
      "model_module": "@jupyter-widgets/controls",
      "model_module_version": "1.5.0",
      "model_name": "TextModel",
      "state": {
       "layout": "IPY_MODEL_194d5881fb18447585798b14c51e301b",
       "style": "IPY_MODEL_afdfadb9789c4a9ca681bfb9063319a8",
       "value": "7"
      }
     },
     "38ba7f1aa33642cca39b07fe201e1086": {
      "model_module": "@jupyter-widgets/controls",
      "model_module_version": "1.5.0",
      "model_name": "BoxModel",
      "state": {
       "children": [
        "IPY_MODEL_467abe371e45470db69e38e48f3fc9bc",
        "IPY_MODEL_9ef9826b987a4c6bb930e59baa3ec7bd",
        "IPY_MODEL_d6def6e010bd4ac3a65f888bd214de72",
        "IPY_MODEL_bd2273473ed94c6ea91bc9f88282e08c"
       ],
       "layout": "IPY_MODEL_5c668c713e554d97af8e3fa4fe1cd0ee"
      }
     },
     "38bfea837361406995778beb5e418227": {
      "model_module": "@jupyter-widgets/controls",
      "model_module_version": "1.5.0",
      "model_name": "DescriptionStyleModel",
      "state": {
       "description_width": ""
      }
     },
     "38cce1a64bde48478c6873906e560717": {
      "model_module": "@jupyter-widgets/controls",
      "model_module_version": "1.5.0",
      "model_name": "DescriptionStyleModel",
      "state": {
       "description_width": ""
      }
     },
     "38e76337283c4a00a813a2c2670d439d": {
      "model_module": "@jupyter-widgets/base",
      "model_module_version": "1.2.0",
      "model_name": "LayoutModel",
      "state": {}
     },
     "395583456a3d413890d2f6dd4011787e": {
      "model_module": "@jupyter-widgets/controls",
      "model_module_version": "1.5.0",
      "model_name": "DescriptionStyleModel",
      "state": {
       "description_width": ""
      }
     },
     "396a39095de24ef5b1ad48887cedc2c3": {
      "model_module": "@jupyter-widgets/base",
      "model_module_version": "1.2.0",
      "model_name": "LayoutModel",
      "state": {}
     },
     "396dc6abaac24db2b18d24ed41b40490": {
      "model_module": "@jupyter-widgets/base",
      "model_module_version": "1.2.0",
      "model_name": "LayoutModel",
      "state": {
       "justify_content": "center"
      }
     },
     "3994d78d0349440dbf70b7e46e35270b": {
      "model_module": "@jupyter-widgets/base",
      "model_module_version": "1.2.0",
      "model_name": "LayoutModel",
      "state": {}
     },
     "39a045d69ca94ba4a93eb39f9268a0fa": {
      "model_module": "@jupyter-widgets/controls",
      "model_module_version": "1.5.0",
      "model_name": "DropdownModel",
      "state": {
       "_options_labels": [
        "1",
        "2",
        "3"
       ],
       "description": "and row",
       "index": 1,
       "layout": "IPY_MODEL_be6616b7fa8a4a69bfe79867e7822993",
       "style": "IPY_MODEL_df732e62bd5d46abb748553a7aebfff7"
      }
     },
     "39e992a26b29448fa631f67c2276a649": {
      "model_module": "@jupyter-widgets/controls",
      "model_module_version": "1.5.0",
      "model_name": "TextModel",
      "state": {
       "layout": "IPY_MODEL_0360a59724284d16ab0033f9c2a97d5d",
       "style": "IPY_MODEL_10dee4ab04a64c269b6e8699e2ad1727",
       "value": "1"
      }
     },
     "39f1be3210e843abaab2be0b7951763a": {
      "model_module": "@jupyter-widgets/controls",
      "model_module_version": "1.5.0",
      "model_name": "ButtonModel",
      "state": {
       "description": "Swap rows",
       "layout": "IPY_MODEL_0b49b1e15c66421e925efbf75e7bec4b",
       "style": "IPY_MODEL_577b97fa2660405eb8fd9db452a0bc73"
      }
     },
     "3a0ed782347544099f1e92b25dd08930": {
      "model_module": "@jupyter-widgets/base",
      "model_module_version": "1.2.0",
      "model_name": "LayoutModel",
      "state": {
       "width": "150px"
      }
     },
     "3a3e3efe11af4d22820ca625c81d4913": {
      "model_module": "@jupyter-widgets/controls",
      "model_module_version": "1.5.0",
      "model_name": "TextModel",
      "state": {
       "description": "times",
       "layout": "IPY_MODEL_de11205fd7114d31847bfa1877e9a76e",
       "style": "IPY_MODEL_f7060891f50c4335b8ea32aeb6d9c9db",
       "value": "1"
      }
     },
     "3a5296d89eed4978ac29bda34dbab445": {
      "model_module": "@jupyter-widgets/controls",
      "model_module_version": "1.5.0",
      "model_name": "TextModel",
      "state": {
       "layout": "IPY_MODEL_065f08ede0b647238ec761aa592646c7",
       "style": "IPY_MODEL_3db9f1d9e79745e0a6a1f743c92bfda1",
       "value": "2"
      }
     },
     "3a67296a5abd44e79175cdb6b5095f4e": {
      "model_module": "@jupyter-widgets/controls",
      "model_module_version": "1.5.0",
      "model_name": "HTMLMathModel",
      "state": {
       "layout": "IPY_MODEL_3c1a77ad9a104254802262ca3f434b56",
       "style": "IPY_MODEL_9aec1d5a682849f8bf63ed0d4f07169d",
       "value": "Enter here the values of the constant matrix $\\bf{B}$"
      }
     },
     "3a78b01b2cf848cebd0752e725e1eb43": {
      "model_module": "@jupyter-widgets/controls",
      "model_module_version": "1.5.0",
      "model_name": "DescriptionStyleModel",
      "state": {
       "description_width": ""
      }
     },
     "3a80830ac2b64030a9c6a4bfa3c02b18": {
      "model_module": "@jupyter-widgets/base",
      "model_module_version": "1.2.0",
      "model_name": "LayoutModel",
      "state": {
       "height": "35px",
       "width": "30px"
      }
     },
     "3a819ce8a53d4558ab046e3dbda2b947": {
      "model_module": "@jupyter-widgets/controls",
      "model_module_version": "1.5.0",
      "model_name": "DescriptionStyleModel",
      "state": {
       "description_width": ""
      }
     },
     "3aa363937d6d4f0da2ca5cd5df7ca752": {
      "model_module": "@jupyter-widgets/base",
      "model_module_version": "1.2.0",
      "model_name": "LayoutModel",
      "state": {
       "flex_flow": "row wrap",
       "height": "100px",
       "justify_content": "space-around"
      }
     },
     "3acf8b646c1f4813bcd6902877a82e18": {
      "model_module": "@jupyter-widgets/controls",
      "model_module_version": "1.5.0",
      "model_name": "HBoxModel",
      "state": {
       "children": [
        "IPY_MODEL_f319eceba10541c7ba43056909455536",
        "IPY_MODEL_5b1e7c265131415f898086815a21c655",
        "IPY_MODEL_a16544cf07944cb0a29fc82a0e5729e7"
       ],
       "layout": "IPY_MODEL_0c565d578f344027b807de21ce8f072c"
      }
     },
     "3af32c0d12bb45cfb451562e2feddec9": {
      "model_module": "@jupyter-widgets/controls",
      "model_module_version": "1.5.0",
      "model_name": "HBoxModel",
      "state": {
       "children": [
        "IPY_MODEL_46766a6153f84c5e91b0e683469534b6",
        "IPY_MODEL_f71287e41b8d43418ec96663c5aabdcb",
        "IPY_MODEL_23d608c094b34066a6bbb7cbd733c1a0"
       ],
       "layout": "IPY_MODEL_c55d781a4ec043acb73efe998faf3d60"
      }
     },
     "3b092df8dde24e699550d620dc36d41f": {
      "model_module": "@jupyter-widgets/base",
      "model_module_version": "1.2.0",
      "model_name": "LayoutModel",
      "state": {
       "width": "100px"
      }
     },
     "3b0ed817d0ab4e8083381c19b39d8ae2": {
      "model_module": "@jupyter-widgets/base",
      "model_module_version": "1.2.0",
      "model_name": "LayoutModel",
      "state": {}
     },
     "3b18ca16155940feafc8565bc6143cfb": {
      "model_module": "@jupyter-widgets/controls",
      "model_module_version": "1.5.0",
      "model_name": "DescriptionStyleModel",
      "state": {
       "description_width": ""
      }
     },
     "3b2eb68a845d44e6b1fce3e3808f8a77": {
      "model_module": "@jupyter-widgets/base",
      "model_module_version": "1.2.0",
      "model_name": "LayoutModel",
      "state": {
       "width": "150px"
      }
     },
     "3b3f0684ffc242188187ce34dcee1fc7": {
      "model_module": "@jupyter-widgets/controls",
      "model_module_version": "1.5.0",
      "model_name": "DescriptionStyleModel",
      "state": {
       "description_width": ""
      }
     },
     "3b6168d524b349f4b60b5c3db7ea7206": {
      "model_module": "@jupyter-widgets/controls",
      "model_module_version": "1.5.0",
      "model_name": "VBoxModel",
      "state": {
       "children": [
        "IPY_MODEL_3fdb771cefdd4d65a43e8e7d88e99ff5",
        "IPY_MODEL_30c90ace0afa45adb76a627dfff80b2b",
        "IPY_MODEL_951ddb31c207458ca03edf12c64999e2"
       ],
       "layout": "IPY_MODEL_7f95c2af627d42abb02163ba0656f55c"
      }
     },
     "3b644969fba742ac8715488678270c0c": {
      "model_module": "@jupyter-widgets/controls",
      "model_module_version": "1.5.0",
      "model_name": "TextModel",
      "state": {
       "layout": "IPY_MODEL_d29f4c6323274c2ea715833a610068a5",
       "style": "IPY_MODEL_f6ae98d6d5f44b7391c4b2f8d67d9340",
       "value": "2"
      }
     },
     "3b65071cc1da4db9ba354c90840295a7": {
      "model_module": "@jupyter-widgets/base",
      "model_module_version": "1.2.0",
      "model_name": "LayoutModel",
      "state": {}
     },
     "3b6746c53df34f9f923a92ff0a94452e": {
      "model_module": "@jupyter-widgets/controls",
      "model_module_version": "1.5.0",
      "model_name": "DescriptionStyleModel",
      "state": {
       "description_width": ""
      }
     },
     "3b7a6342f63741c7a56d78d7ade7ce64": {
      "model_module": "@jupyter-widgets/base",
      "model_module_version": "1.2.0",
      "model_name": "LayoutModel",
      "state": {}
     },
     "3ba64c148baa4c0880128ea6c9d462a7": {
      "model_module": "@jupyter-widgets/controls",
      "model_module_version": "1.5.0",
      "model_name": "DropdownModel",
      "state": {
       "_options_labels": [
        "1",
        "2",
        "3"
       ],
       "description": "Swap row",
       "index": 0,
       "layout": "IPY_MODEL_981dcb87019a4ded9037f1f6ced8af62",
       "style": "IPY_MODEL_cf3b693ce768490fb1432a40cd13951d"
      }
     },
     "3bb8261974264858a8fd215375cd4d04": {
      "model_module": "@jupyter-widgets/base",
      "model_module_version": "1.2.0",
      "model_name": "LayoutModel",
      "state": {
       "width": "150px"
      }
     },
     "3bb87ccf73ef4aa6b7977f90e4920bfc": {
      "model_module": "@jupyter-widgets/controls",
      "model_module_version": "1.5.0",
      "model_name": "HBoxModel",
      "state": {
       "children": [
        "IPY_MODEL_52906c233678465e94f4d012aaad1dd3",
        "IPY_MODEL_b819b7e951dc4772a502acb8334e65d5"
       ],
       "layout": "IPY_MODEL_28fab18fb6f94f60864dc96112d4e93d"
      }
     },
     "3bea237394c74d4c910c2bd4cc8529e5": {
      "model_module": "@jupyter-widgets/base",
      "model_module_version": "1.2.0",
      "model_name": "LayoutModel",
      "state": {}
     },
     "3c008eddd9bb462aa1a99f11daf0dd6e": {
      "model_module": "@jupyter-widgets/controls",
      "model_module_version": "1.5.0",
      "model_name": "ButtonStyleModel",
      "state": {}
     },
     "3c1a77ad9a104254802262ca3f434b56": {
      "model_module": "@jupyter-widgets/base",
      "model_module_version": "1.2.0",
      "model_name": "LayoutModel",
      "state": {
       "width": "90px"
      }
     },
     "3c1daffb2501413c9a1420c84d71ecbf": {
      "model_module": "@jupyter-widgets/controls",
      "model_module_version": "1.5.0",
      "model_name": "HBoxModel",
      "state": {
       "children": [
        "IPY_MODEL_f0e435f708eb40afb638d2cf9d9781d3",
        "IPY_MODEL_1af76ee5f0594bc7a6ec173107b18037"
       ],
       "layout": "IPY_MODEL_0539bbb194854c9e9915eeca31595aef"
      }
     },
     "3c1e678af02d4af38f26e76c7c0bccb4": {
      "model_module": "@jupyter-widgets/controls",
      "model_module_version": "1.5.0",
      "model_name": "DropdownModel",
      "state": {
       "_options_labels": [
        "1",
        "2",
        "3"
       ],
       "description": "to row",
       "index": 1,
       "layout": "IPY_MODEL_9027e35793b941fcb00cbf7b3a14b669",
       "style": "IPY_MODEL_1eaa7abc0ab549cb988f3a0586415b25"
      }
     },
     "3c4ec5effdd74ea18fd1ec3a8480692d": {
      "model_module": "@jupyter-widgets/controls",
      "model_module_version": "1.5.0",
      "model_name": "HBoxModel",
      "state": {
       "children": [
        "IPY_MODEL_b988c113dbf14e86a1715061c72c7152",
        "IPY_MODEL_2fd153954dc147da970765cb657eebe3"
       ],
       "layout": "IPY_MODEL_7dceb22fd1cc4c69b6072291aa5a807c"
      }
     },
     "3c71608d4e084918872dd4840230c98a": {
      "model_module": "@jupyter-widgets/controls",
      "model_module_version": "1.5.0",
      "model_name": "HTMLMathModel",
      "state": {
       "layout": "IPY_MODEL_b46cd9dd6196443db5682258f01d446c",
       "style": "IPY_MODEL_19e16f9a6d32479b8e08846947605b0b",
       "value": "Enter here the values of the matrix $A$"
      }
     },
     "3cbd83117aca4da195d29586f77150af": {
      "model_module": "@jupyter-widgets/base",
      "model_module_version": "1.2.0",
      "model_name": "LayoutModel",
      "state": {}
     },
     "3d15cd2a168f4b59b1b34868e76fedb2": {
      "model_module": "@jupyter-widgets/base",
      "model_module_version": "1.2.0",
      "model_name": "LayoutModel",
      "state": {}
     },
     "3d4e7b56d0374c7f94e6bc90e301f49c": {
      "model_module": "@jupyter-widgets/controls",
      "model_module_version": "1.5.0",
      "model_name": "TextModel",
      "state": {
       "layout": "IPY_MODEL_efe34e22991049d5b12a19c5a386a8dc",
       "style": "IPY_MODEL_fb105de4780d440fa86ca63ebb6a34e1",
       "value": "3"
      }
     },
     "3d5d4e873f2b44ae8f02b9551d65e4d1": {
      "model_module": "@jupyter-widgets/controls",
      "model_module_version": "1.5.0",
      "model_name": "BoxModel",
      "state": {
       "children": [
        "IPY_MODEL_9e742ff8a4684522823e20b2aa374964",
        "IPY_MODEL_0b1005061f194fa2a8f9adc9dcc6d9f5",
        "IPY_MODEL_3bb87ccf73ef4aa6b7977f90e4920bfc"
       ],
       "layout": "IPY_MODEL_f3f4a527f6874638a6472c9016aca9f6"
      }
     },
     "3d6a69f414b14bd7b650adb0654bdd98": {
      "model_module": "@jupyter-widgets/base",
      "model_module_version": "1.2.0",
      "model_name": "LayoutModel",
      "state": {}
     },
     "3d7ae768a6aa4b79ae3f122f7f6b3c9f": {
      "model_module": "@jupyter-widgets/controls",
      "model_module_version": "1.5.0",
      "model_name": "TextModel",
      "state": {
       "layout": "IPY_MODEL_4bcd3a11811347d3979a9396c2e71cd4",
       "style": "IPY_MODEL_1c4a8fdc3c9946fdaa2fcfae6d91276b",
       "value": "2"
      }
     },
     "3d7f54f4165b41769fa5f2901a40bfd5": {
      "model_module": "@jupyter-widgets/controls",
      "model_module_version": "1.5.0",
      "model_name": "DescriptionStyleModel",
      "state": {
       "description_width": ""
      }
     },
     "3d8c95c7ba484536920e0326fbe68fe5": {
      "model_module": "@jupyter-widgets/controls",
      "model_module_version": "1.5.0",
      "model_name": "DescriptionStyleModel",
      "state": {
       "description_width": ""
      }
     },
     "3d8cc5b061604dcdaf140d971c6a2d83": {
      "model_module": "@jupyter-widgets/controls",
      "model_module_version": "1.5.0",
      "model_name": "HBoxModel",
      "state": {
       "children": [
        "IPY_MODEL_f27e0f18d55744be8068dad7dbf7737a",
        "IPY_MODEL_49947b9714d242579f6685a2c327a6a6",
        "IPY_MODEL_099971f01b6b43bcbf4a8cd847c5f088"
       ],
       "layout": "IPY_MODEL_67f623a1221044139c2e0e17c17a6198"
      }
     },
     "3d8d2923127d482eb64fccbb0196d89b": {
      "model_module": "@jupyter-widgets/controls",
      "model_module_version": "1.5.0",
      "model_name": "ButtonModel",
      "state": {
       "description": "Swap rows",
       "layout": "IPY_MODEL_cb2759c8ff0b402e8e6418be7da6d6ff",
       "style": "IPY_MODEL_013a3f173d2b412c8b9718c70730d431"
      }
     },
     "3da97c80fb1542a78e88a246bccf4378": {
      "model_module": "@jupyter-widgets/base",
      "model_module_version": "1.2.0",
      "model_name": "LayoutModel",
      "state": {
       "width": "100px"
      }
     },
     "3db181f7959a40e1bf0f11495d2d7c92": {
      "model_module": "@jupyter-widgets/controls",
      "model_module_version": "1.5.0",
      "model_name": "ButtonModel",
      "state": {
       "description": "Start",
       "layout": "IPY_MODEL_6346305f8fcd4dcfad79fb48120773f3",
       "style": "IPY_MODEL_aca5d4097ce54949ba9688241c0ddbbe"
      }
     },
     "3db2e2b11fdb45cd8f264eaa8c4e1b96": {
      "model_module": "@jupyter-widgets/controls",
      "model_module_version": "1.5.0",
      "model_name": "TextModel",
      "state": {
       "layout": "IPY_MODEL_5a0c24727aa941b48d996c0a1f0c2bf8",
       "style": "IPY_MODEL_25baaf28b2324ebda9a7c97a543b470f",
       "value": "1"
      }
     },
     "3db9f1d9e79745e0a6a1f743c92bfda1": {
      "model_module": "@jupyter-widgets/controls",
      "model_module_version": "1.5.0",
      "model_name": "DescriptionStyleModel",
      "state": {
       "description_width": ""
      }
     },
     "3de2ebf26ed140c68c84ff787ffcfb7f": {
      "model_module": "@jupyter-widgets/controls",
      "model_module_version": "1.5.0",
      "model_name": "HBoxModel",
      "state": {
       "children": [
        "IPY_MODEL_f9aabeac974b4419abdd181e988d6564",
        "IPY_MODEL_ad06bc4debb9475d92e15f3a36fccf5b",
        "IPY_MODEL_404d3c6422a247ae986fdf946535f5fd"
       ],
       "layout": "IPY_MODEL_e7cbaebbdead48cbb9e5afbe0afa2b76"
      }
     },
     "3dffffd690c44268ba3a0424e963bec9": {
      "model_module": "@jupyter-widgets/controls",
      "model_module_version": "1.5.0",
      "model_name": "TextModel",
      "state": {
       "layout": "IPY_MODEL_e60a861eca344ffe9430ae66e253e656",
       "style": "IPY_MODEL_1b6235d99b964a2aa67e46def0a15dfa",
       "value": "-1"
      }
     },
     "3e0a485d343e46d7a41dfb76a143482b": {
      "model_module": "@jupyter-widgets/controls",
      "model_module_version": "1.5.0",
      "model_name": "TextModel",
      "state": {
       "layout": "IPY_MODEL_efe34e22991049d5b12a19c5a386a8dc",
       "style": "IPY_MODEL_cd140fa3654b4629b5df9fe5f2dedda2",
       "value": "-1"
      }
     },
     "3e264e3176a94dc0bf629d1e8942c8d2": {
      "model_module": "@jupyter-widgets/controls",
      "model_module_version": "1.5.0",
      "model_name": "HTMLMathModel",
      "state": {
       "layout": "IPY_MODEL_4badd6d2fa4440489616e47d288a88d2",
       "style": "IPY_MODEL_3f2f12d5aacb425597e29fb3dcae94b5",
       "value": "Enter here the values of matrix $\\bf{A}$"
      }
     },
     "3e2729c4ce094f4f9d7e64306aaa63f5": {
      "model_module": "@jupyter-widgets/controls",
      "model_module_version": "1.5.0",
      "model_name": "DescriptionStyleModel",
      "state": {
       "description_width": ""
      }
     },
     "3e42da55c14d4c96ad61bc1b4584224c": {
      "model_module": "@jupyter-widgets/controls",
      "model_module_version": "1.5.0",
      "model_name": "TextModel",
      "state": {
       "layout": "IPY_MODEL_9f4d9e00ae3e470a8d024478444df27d",
       "style": "IPY_MODEL_918257d8846f4ba6bc4cab24c50e6524",
       "value": "2"
      }
     },
     "3e465d29936b451486e351ad53355287": {
      "model_module": "@jupyter-widgets/controls",
      "model_module_version": "1.5.0",
      "model_name": "HBoxModel",
      "state": {
       "children": [
        "IPY_MODEL_58f53823b3a5433cbcb57c2974e9458e",
        "IPY_MODEL_cdd9dab4935c42c3962d95f2eeb84c89",
        "IPY_MODEL_9b34b632123f4974b8391883ef60cfea"
       ],
       "layout": "IPY_MODEL_6dd22e7d56754a168034fd760123ce0f"
      }
     },
     "3e9d8c81b89a467699b24d9ded37ba0e": {
      "model_module": "@jupyter-widgets/controls",
      "model_module_version": "1.5.0",
      "model_name": "DescriptionStyleModel",
      "state": {
       "description_width": ""
      }
     },
     "3eada95ee57b414780d5c378b3b2f36c": {
      "model_module": "@jupyter-widgets/controls",
      "model_module_version": "1.5.0",
      "model_name": "HTMLMathModel",
      "state": {
       "layout": "IPY_MODEL_df0ffce47b3f4515bd1da641632e8a97",
       "style": "IPY_MODEL_68a8d700b6fe4f259fde5354434f8288",
       "value": "Enter here the values of the right hand side vector $b$"
      }
     },
     "3ed4ffb11b9b41ac88c852a15316aa36": {
      "model_module": "@jupyter-widgets/controls",
      "model_module_version": "1.5.0",
      "model_name": "DescriptionStyleModel",
      "state": {
       "description_width": ""
      }
     },
     "3edc48aaa86c47d09abba92b8296a33f": {
      "model_module": "@jupyter-widgets/controls",
      "model_module_version": "1.5.0",
      "model_name": "DropdownModel",
      "state": {
       "_options_labels": [
        "1",
        "2",
        "3"
       ],
       "description": "and row",
       "index": 1,
       "layout": "IPY_MODEL_f789f920dd8e4a7c8fe54464505af57d",
       "style": "IPY_MODEL_ce48675331a342c2bba5f968a8b89b79"
      }
     },
     "3f031cac4b2348d685e936bcf5b85491": {
      "model_module": "@jupyter-widgets/controls",
      "model_module_version": "1.5.0",
      "model_name": "HTMLMathModel",
      "state": {
       "layout": "IPY_MODEL_0eae850f291a4fb6990eff505e33407b",
       "style": "IPY_MODEL_a356ca7a10e0491e82005f042454ea61",
       "value": "Results will be shown here."
      }
     },
     "3f22e8f1a1214e1e8856946dae2c8c53": {
      "model_module": "@jupyter-widgets/controls",
      "model_module_version": "1.5.0",
      "model_name": "TextModel",
      "state": {
       "layout": "IPY_MODEL_9f4d9e00ae3e470a8d024478444df27d",
       "style": "IPY_MODEL_4665c19c5aeb4403b342424a6c364515",
       "value": "2"
      }
     },
     "3f2f12d5aacb425597e29fb3dcae94b5": {
      "model_module": "@jupyter-widgets/controls",
      "model_module_version": "1.5.0",
      "model_name": "DescriptionStyleModel",
      "state": {
       "description_width": ""
      }
     },
     "3f3f137359b7455e9a4f21ae3cb37914": {
      "model_module": "@jupyter-widgets/base",
      "model_module_version": "1.2.0",
      "model_name": "LayoutModel",
      "state": {
       "width": "150px"
      }
     },
     "3f5c282cb7614c07a33fdfceddad2e59": {
      "model_module": "@jupyter-widgets/controls",
      "model_module_version": "1.5.0",
      "model_name": "TextModel",
      "state": {
       "layout": "IPY_MODEL_24e52a9da5f64680833f56257412e632",
       "style": "IPY_MODEL_af6006bf4c634e0d89d3ef82c0b37465",
       "value": "2/3"
      }
     },
     "3f6bd4cdb4a24f78b87e4e2ad4020c47": {
      "model_module": "@jupyter-widgets/base",
      "model_module_version": "1.2.0",
      "model_name": "LayoutModel",
      "state": {
       "align_items": "center",
       "flex_flow": "row wrap",
       "height": "100px",
       "justify_content": "space-around"
      }
     },
     "3fcedba7054b4f00aa95b24f4459252a": {
      "model_module": "@jupyter-widgets/controls",
      "model_module_version": "1.5.0",
      "model_name": "ButtonModel",
      "state": {
       "description": "Start",
       "layout": "IPY_MODEL_4c76c6b487df4a228b0014fd785ba48d",
       "style": "IPY_MODEL_10a58219c0cd44d98cac63e23eaa7fe2"
      }
     },
     "3fdb771cefdd4d65a43e8e7d88e99ff5": {
      "model_module": "@jupyter-widgets/controls",
      "model_module_version": "1.5.0",
      "model_name": "TextModel",
      "state": {
       "layout": "IPY_MODEL_65cb8db367e14667886b79ef97c800d1",
       "style": "IPY_MODEL_60780020aeec4cd6a5005588e958946c",
       "value": "7"
      }
     },
     "3ff1dcae763c45de9639835e3e9e93ca": {
      "model_module": "@jupyter-widgets/controls",
      "model_module_version": "1.5.0",
      "model_name": "DescriptionStyleModel",
      "state": {
       "description_width": ""
      }
     },
     "4015c8fbfb7d4f5db32514cb429ffdd9": {
      "model_module": "@jupyter-widgets/base",
      "model_module_version": "1.2.0",
      "model_name": "LayoutModel",
      "state": {}
     },
     "403f6b50c01b425984516eb0d23793c2": {
      "model_module": "@jupyter-widgets/controls",
      "model_module_version": "1.5.0",
      "model_name": "TextModel",
      "state": {
       "layout": "IPY_MODEL_109f6d462a004bdd9a95542348d778f8",
       "style": "IPY_MODEL_a6ab870be1e84abcb4578ffec5467fa8",
       "value": "1"
      }
     },
     "404d3c6422a247ae986fdf946535f5fd": {
      "model_module": "@jupyter-widgets/controls",
      "model_module_version": "1.5.0",
      "model_name": "TextModel",
      "state": {
       "layout": "IPY_MODEL_194d5881fb18447585798b14c51e301b",
       "style": "IPY_MODEL_f95ea6c6a2614feba56e2877f30f1353",
       "value": "-1"
      }
     },
     "4081949446e141c1879d5345ef974dcf": {
      "model_module": "@jupyter-widgets/controls",
      "model_module_version": "1.5.0",
      "model_name": "HTMLModel",
      "state": {
       "layout": "IPY_MODEL_5a730f4a86c04107be4ccc85c2b569a1",
       "style": "IPY_MODEL_eefc9c0201ae48deb3268c915b3fb7b0",
       "value": "Click the button below to start the calculator"
      }
     },
     "40b031fcae544cb7bf40151e610c863a": {
      "model_module": "@jupyter-widgets/controls",
      "model_module_version": "1.5.0",
      "model_name": "HBoxModel",
      "state": {
       "children": [
        "IPY_MODEL_e67a74ada3534011839726ff555b48a3",
        "IPY_MODEL_7e8270b4d5174da2810312a0266b63a3",
        "IPY_MODEL_979e8df4713148e3a892d22adc655de2"
       ],
       "layout": "IPY_MODEL_a06347292d25493eb86208f7d52b3246"
      }
     },
     "40b5f3358d8f42df964a3535bbd32b4b": {
      "model_module": "@jupyter-widgets/controls",
      "model_module_version": "1.5.0",
      "model_name": "TextModel",
      "state": {
       "layout": "IPY_MODEL_5a0c24727aa941b48d996c0a1f0c2bf8",
       "style": "IPY_MODEL_bba58beff2704be5a8a1e6606af679a0",
       "value": "7"
      }
     },
     "40c3b198f4ba4d53a1a049546757ed98": {
      "model_module": "@jupyter-widgets/controls",
      "model_module_version": "1.5.0",
      "model_name": "VBoxModel",
      "state": {
       "children": [
        "IPY_MODEL_0ef0234445154cc8acb93d7777ba30b9",
        "IPY_MODEL_d0d44bbfa3a24c07a9e5dd462b584db0",
        "IPY_MODEL_2aaf272458ff4a91912f44f70ce55db7"
       ],
       "layout": "IPY_MODEL_6ae136288848499885cc76c693627dbe"
      }
     },
     "40d52eb81d894994837af5324e71566c": {
      "model_module": "@jupyter-widgets/controls",
      "model_module_version": "1.5.0",
      "model_name": "DescriptionStyleModel",
      "state": {
       "description_width": ""
      }
     },
     "4103463bea7b400ba7bea4fdec5bbff6": {
      "model_module": "@jupyter-widgets/base",
      "model_module_version": "1.2.0",
      "model_name": "LayoutModel",
      "state": {
       "width": "100px"
      }
     },
     "410a8c62e21540afa6c312425d7240ab": {
      "model_module": "@jupyter-widgets/base",
      "model_module_version": "1.2.0",
      "model_name": "LayoutModel",
      "state": {
       "width": "100px"
      }
     },
     "41195f6a9ecb4f6baefeeb925b846ccf": {
      "model_module": "@jupyter-widgets/controls",
      "model_module_version": "1.5.0",
      "model_name": "DropdownModel",
      "state": {
       "_options_labels": [
        "1",
        "2",
        "3"
       ],
       "description": "Row",
       "index": 0,
       "layout": "IPY_MODEL_ee7f584d373d4e5da9882d4fbc91c1f6",
       "style": "IPY_MODEL_10039fa1f09b43cb8cea57e7e05003a3"
      }
     },
     "41228a721d8349f2ae6d7ef859f97acd": {
      "model_module": "@jupyter-widgets/controls",
      "model_module_version": "1.5.0",
      "model_name": "TextModel",
      "state": {
       "layout": "IPY_MODEL_e60a861eca344ffe9430ae66e253e656",
       "style": "IPY_MODEL_9153db670d0a414381935af1d892c14e",
       "value": "-1"
      }
     },
     "413babb57e214caaa1f8047aabe85756": {
      "model_module": "@jupyter-widgets/controls",
      "model_module_version": "1.5.0",
      "model_name": "DescriptionStyleModel",
      "state": {
       "description_width": ""
      }
     },
     "4147deb5a78d464aa87d8c7a6b1b4ba9": {
      "model_module": "@jupyter-widgets/base",
      "model_module_version": "1.2.0",
      "model_name": "LayoutModel",
      "state": {
       "height": "300px",
       "justify_content": "center"
      }
     },
     "4148c095bd24450a8dd6b2d33c72966e": {
      "model_module": "@jupyter-widgets/controls",
      "model_module_version": "1.5.0",
      "model_name": "HBoxModel",
      "state": {
       "children": [
        "IPY_MODEL_63888e459a374ce79460f073f5aefde9",
        "IPY_MODEL_c19e9cf7ae3f4efeaf7bc4b6b325e7b2",
        "IPY_MODEL_cbe4c8e6f2d24f40a2cd538ac9dd62b9"
       ],
       "layout": "IPY_MODEL_9b3904d84cc34825880f52798ae1bc87"
      }
     },
     "41615810ab9c4e999c14ca3bb1be0d18": {
      "model_module": "@jupyter-widgets/controls",
      "model_module_version": "1.5.0",
      "model_name": "DropdownModel",
      "state": {
       "_options_labels": [
        "1",
        "2",
        "3"
       ],
       "description": "to row",
       "index": 2,
       "layout": "IPY_MODEL_1194bd3c8fe64af88047e6dcfaa6b391",
       "style": "IPY_MODEL_4bd941d9a7fa4d2a88b14d0828e8edb1"
      }
     },
     "416e295847204c3dbb17c04abc4bd3a5": {
      "model_module": "@jupyter-widgets/controls",
      "model_module_version": "1.5.0",
      "model_name": "DescriptionStyleModel",
      "state": {
       "description_width": ""
      }
     },
     "41752c975cdd464692ab3826ed8fea75": {
      "model_module": "@jupyter-widgets/controls",
      "model_module_version": "1.5.0",
      "model_name": "HBoxModel",
      "state": {
       "children": [
        "IPY_MODEL_bf470fc58914473bb9de9c9d91b1f8da",
        "IPY_MODEL_a83e47b84a3e4ebd996596d925e258e7",
        "IPY_MODEL_746fa81095204260a1da7db8ae4c2924"
       ],
       "layout": "IPY_MODEL_64e3e56d08f44a4888573f2692cda4ca"
      }
     },
     "41792316ecc5436aa4d748a1fcbe0eae": {
      "model_module": "@jupyter-widgets/controls",
      "model_module_version": "1.5.0",
      "model_name": "ButtonStyleModel",
      "state": {}
     },
     "41837046d02f4b61a27084fface2c437": {
      "model_module": "@jupyter-widgets/controls",
      "model_module_version": "1.5.0",
      "model_name": "ButtonModel",
      "state": {
       "description": "Start",
       "layout": "IPY_MODEL_b5412308b42844929ea6cb7509694b92",
       "style": "IPY_MODEL_62058eae981647c3b0128ccef6be377b"
      }
     },
     "418be70cb35c4d6cb945a7859ea6272f": {
      "model_module": "@jupyter-widgets/controls",
      "model_module_version": "1.5.0",
      "model_name": "TextModel",
      "state": {
       "layout": "IPY_MODEL_d19375b63f4b4e069ae82d3822ecfbd2",
       "style": "IPY_MODEL_7385688017d145d992e2ba819a1d5d19",
       "value": "-1"
      }
     },
     "41b6739edc5b47268e2dac597e38b24c": {
      "model_module": "@jupyter-widgets/base",
      "model_module_version": "1.2.0",
      "model_name": "LayoutModel",
      "state": {}
     },
     "41d3726d9628467d9272111dd9aeb5e2": {
      "model_module": "@jupyter-widgets/controls",
      "model_module_version": "1.5.0",
      "model_name": "DescriptionStyleModel",
      "state": {
       "description_width": ""
      }
     },
     "41eba958119a459aa99c15a7cf22a422": {
      "model_module": "@jupyter-widgets/controls",
      "model_module_version": "1.5.0",
      "model_name": "TextModel",
      "state": {
       "layout": "IPY_MODEL_e56e2cbba3324f1e9a6da6e53dfda065",
       "style": "IPY_MODEL_76f2861cae944245a92eb58aa11ab809",
       "value": "7"
      }
     },
     "42082311d26a4af39fea87611f4975a8": {
      "model_module": "@jupyter-widgets/controls",
      "model_module_version": "1.5.0",
      "model_name": "DescriptionStyleModel",
      "state": {
       "description_width": ""
      }
     },
     "4222790f4af5486bae8b5b7607a72d7f": {
      "model_module": "@jupyter-widgets/controls",
      "model_module_version": "1.5.0",
      "model_name": "DescriptionStyleModel",
      "state": {
       "description_width": ""
      }
     },
     "423519f11c55416f965eb4875a1b7d1c": {
      "model_module": "@jupyter-widgets/base",
      "model_module_version": "1.2.0",
      "model_name": "LayoutModel",
      "state": {}
     },
     "4258c0cb737247b0b2954f90cc0d40aa": {
      "model_module": "@jupyter-widgets/base",
      "model_module_version": "1.2.0",
      "model_name": "LayoutModel",
      "state": {}
     },
     "4265f3529f1149aeb98126130c96b425": {
      "model_module": "@jupyter-widgets/controls",
      "model_module_version": "1.5.0",
      "model_name": "HTMLMathModel",
      "state": {
       "layout": "IPY_MODEL_0373ebbff55945a1934f6beb2ba9b566",
       "style": "IPY_MODEL_3566ddabed134c3aa4b704daaa0a9613",
       "value": "Enter here the values of the coefficient matrix $\\bf{A}$"
      }
     },
     "428944530b7b4f449028404d92e3a7ad": {
      "model_module": "@jupyter-widgets/controls",
      "model_module_version": "1.5.0",
      "model_name": "DescriptionStyleModel",
      "state": {
       "description_width": ""
      }
     },
     "42ad513782954a15b233720e00a72633": {
      "model_module": "@jupyter-widgets/controls",
      "model_module_version": "1.5.0",
      "model_name": "DescriptionStyleModel",
      "state": {
       "description_width": ""
      }
     },
     "42b15d0e1fbb489f8b3bd80087e7f0af": {
      "model_module": "@jupyter-widgets/controls",
      "model_module_version": "1.5.0",
      "model_name": "DescriptionStyleModel",
      "state": {
       "description_width": ""
      }
     },
     "42b941b1b02a4dd8816ba0af704a022b": {
      "model_module": "@jupyter-widgets/controls",
      "model_module_version": "1.5.0",
      "model_name": "DescriptionStyleModel",
      "state": {
       "description_width": ""
      }
     },
     "42be6321ef0743888cb5914a8ed49696": {
      "model_module": "@jupyter-widgets/base",
      "model_module_version": "1.2.0",
      "model_name": "LayoutModel",
      "state": {}
     },
     "42f92aed02144d9aa4ccef1a22a7402f": {
      "model_module": "@jupyter-widgets/controls",
      "model_module_version": "1.5.0",
      "model_name": "ButtonStyleModel",
      "state": {}
     },
     "43019518a3204a5cac81e40c722afbd9": {
      "model_module": "@jupyter-widgets/controls",
      "model_module_version": "1.5.0",
      "model_name": "TextModel",
      "state": {
       "layout": "IPY_MODEL_66f664c2d36b4d74aa7cdd21ce7345c1",
       "style": "IPY_MODEL_fb3afc8860304acc86da465cf5e4b9d3",
       "value": "-1"
      }
     },
     "430bcf396aa04007a171abce7823fe93": {
      "model_module": "@jupyter-widgets/controls",
      "model_module_version": "1.5.0",
      "model_name": "TextModel",
      "state": {
       "layout": "IPY_MODEL_065f08ede0b647238ec761aa592646c7",
       "style": "IPY_MODEL_8230740224844c9195f0574d10c86d7e",
       "value": "2"
      }
     },
     "430e02a44b584816bd1721dd7b8b4917": {
      "model_module": "@jupyter-widgets/controls",
      "model_module_version": "1.5.0",
      "model_name": "HTMLModel",
      "state": {
       "layout": "IPY_MODEL_8c3be8a25fc249d198bea8c619da7221",
       "style": "IPY_MODEL_293687d5716f4e6b918f703e75391af0",
       "value": "Click this button to start the calculator"
      }
     },
     "430f084f28914b059709ecb4b8f6f712": {
      "model_module": "@jupyter-widgets/controls",
      "model_module_version": "1.5.0",
      "model_name": "HBoxModel",
      "state": {
       "children": [
        "IPY_MODEL_17bc9321de474f2fac9acb7e2c6ec572",
        "IPY_MODEL_a6191c7b85f24d29967a142f134ca578",
        "IPY_MODEL_a6f0dc7c4b2f4f14ac0933f9f1f5511d"
       ],
       "layout": "IPY_MODEL_2149a2c76b964772a4a3545aa597628b"
      }
     },
     "4314c83188ac4e56a945b51c7a0bf553": {
      "model_module": "@jupyter-widgets/base",
      "model_module_version": "1.2.0",
      "model_name": "LayoutModel",
      "state": {
       "justify_content": "center"
      }
     },
     "43235a77f49940c0aee85f719894d192": {
      "model_module": "@jupyter-widgets/controls",
      "model_module_version": "1.5.0",
      "model_name": "TextModel",
      "state": {
       "layout": "IPY_MODEL_ff8f131091ed4bf49b858ed52bc5b3ea",
       "style": "IPY_MODEL_1ab781484dd24550b34507f44f2a186f",
       "value": "-1"
      }
     },
     "432dd1f474964e35b1568fdc39575336": {
      "model_module": "@jupyter-widgets/controls",
      "model_module_version": "1.5.0",
      "model_name": "DescriptionStyleModel",
      "state": {
       "description_width": ""
      }
     },
     "436e52387c1c4a9482a37e3bbe840290": {
      "model_module": "@jupyter-widgets/controls",
      "model_module_version": "1.5.0",
      "model_name": "HBoxModel",
      "state": {
       "children": [
        "IPY_MODEL_8430270f1d684264afc257c6972da413",
        "IPY_MODEL_8304e01080f648b38daac93e446d24a6"
       ],
       "layout": "IPY_MODEL_9ee277e0d12041039b38c1719c11f57d"
      }
     },
     "4387ebf327ca4900b2e495c60800cba1": {
      "model_module": "@jupyter-widgets/controls",
      "model_module_version": "1.5.0",
      "model_name": "ButtonStyleModel",
      "state": {}
     },
     "43947a523658464b80499e76a9cc12c7": {
      "model_module": "@jupyter-widgets/base",
      "model_module_version": "1.2.0",
      "model_name": "LayoutModel",
      "state": {
       "width": "150px"
      }
     },
     "43c03291296a42089d709604317ded46": {
      "model_module": "@jupyter-widgets/base",
      "model_module_version": "1.2.0",
      "model_name": "LayoutModel",
      "state": {}
     },
     "43d22d0cb869411aa30b1ac30659627c": {
      "model_module": "@jupyter-widgets/controls",
      "model_module_version": "1.5.0",
      "model_name": "DropdownModel",
      "state": {
       "_options_labels": [
        "1",
        "2",
        "3"
       ],
       "description": "Row",
       "index": 0,
       "layout": "IPY_MODEL_36da31c1490443ae9bf4534336822938",
       "style": "IPY_MODEL_360fc902e9824ec382244ee4778c6110"
      }
     },
     "43d45095b3bb480787d374cb0e79e0c5": {
      "model_module": "@jupyter-widgets/controls",
      "model_module_version": "1.5.0",
      "model_name": "HTMLMathModel",
      "state": {
       "layout": "IPY_MODEL_8fd2915d6ac34d2285425a215868d17e",
       "style": "IPY_MODEL_d8a5fee0b34149b581b27226d34f81fd",
       "value": "Enter here the values of the right hand side vector $b$"
      }
     },
     "43ea316cf7154d038674a2be56018d60": {
      "model_module": "@jupyter-widgets/controls",
      "model_module_version": "1.5.0",
      "model_name": "DescriptionStyleModel",
      "state": {
       "description_width": ""
      }
     },
     "43f262eff72c4c2e90aeccd4baa0667e": {
      "model_module": "@jupyter-widgets/base",
      "model_module_version": "1.2.0",
      "model_name": "LayoutModel",
      "state": {}
     },
     "43fafe2cc70c4052acb4942f9779e6cc": {
      "model_module": "@jupyter-widgets/controls",
      "model_module_version": "1.5.0",
      "model_name": "DescriptionStyleModel",
      "state": {
       "description_width": ""
      }
     },
     "44075922e82845a7ad78617e2661993d": {
      "model_module": "@jupyter-widgets/controls",
      "model_module_version": "1.5.0",
      "model_name": "DescriptionStyleModel",
      "state": {
       "description_width": ""
      }
     },
     "441de1e256e749bd8b2a06263d4b24f4": {
      "model_module": "@jupyter-widgets/controls",
      "model_module_version": "1.5.0",
      "model_name": "BoxModel",
      "state": {
       "children": [
        "IPY_MODEL_7fe6078de9b242ca96a6405fda0a0a44",
        "IPY_MODEL_b2da0e500b16485c95b72ada479982d8",
        "IPY_MODEL_e122dddaa8a94c6799d86e41e57fbda8",
        "IPY_MODEL_bfe90f0b088e4744841d9615494c5524"
       ],
       "layout": "IPY_MODEL_c68ba1b409ec46f59a86e118d2714a93"
      }
     },
     "4436fb64b79f4d089ef2139d45db452e": {
      "model_module": "@jupyter-widgets/controls",
      "model_module_version": "1.5.0",
      "model_name": "HTMLMathModel",
      "state": {
       "layout": "IPY_MODEL_b4f06e8cc3c7472a8364ab43fde2511c",
       "style": "IPY_MODEL_6ff7c57429c5425cbf95a45a7b62b903",
       "value": "Enter here the values of matrix $\\bf{A}$"
      }
     },
     "4440492bed3a48ac987efb0b1eca2b68": {
      "model_module": "@jupyter-widgets/base",
      "model_module_version": "1.2.0",
      "model_name": "LayoutModel",
      "state": {}
     },
     "446bd0f86a6044d79e7e10a2c7a2d9bf": {
      "model_module": "@jupyter-widgets/controls",
      "model_module_version": "1.5.0",
      "model_name": "TextModel",
      "state": {
       "layout": "IPY_MODEL_109f6d462a004bdd9a95542348d778f8",
       "style": "IPY_MODEL_1bdfd78d4e0044cbba4909e665465369",
       "value": "1"
      }
     },
     "44af4010d6aa472e838322c2febe4b6f": {
      "model_module": "@jupyter-widgets/controls",
      "model_module_version": "1.5.0",
      "model_name": "ButtonModel",
      "state": {
       "description": "Add rows",
       "layout": "IPY_MODEL_2b754989fd9d4f72a40dd712a17297c5",
       "style": "IPY_MODEL_ab0b0f7e28ad4648a1d4ebe2d8a8ea3b"
      }
     },
     "44cb07a0751941d4a4d14f7cff087d4d": {
      "model_module": "@jupyter-widgets/controls",
      "model_module_version": "1.5.0",
      "model_name": "VBoxModel",
      "state": {
       "children": [
        "IPY_MODEL_210a393e750a4ad8917ff5cb67fb339f",
        "IPY_MODEL_afdd129ec13244fd8b99e75f808be5b9",
        "IPY_MODEL_20cc6ee9c4b8471899b0eed8346430ce"
       ],
       "layout": "IPY_MODEL_069a925a480540a1b410682f093ae38a"
      }
     },
     "44d42f8085c1415d814cac5b45021cc5": {
      "model_module": "@jupyter-widgets/controls",
      "model_module_version": "1.5.0",
      "model_name": "TextModel",
      "state": {
       "layout": "IPY_MODEL_7336bcfb9a2145e9a2df614b1768b15f",
       "style": "IPY_MODEL_a7958a63d96b4429be30ba40f0aa17a6",
       "value": "-1"
      }
     },
     "44ec7bb4adc4427a882888e0f04d3285": {
      "model_module": "@jupyter-widgets/controls",
      "model_module_version": "1.5.0",
      "model_name": "DescriptionStyleModel",
      "state": {
       "description_width": ""
      }
     },
     "44f45716382047738312e675c5dc20d2": {
      "model_module": "@jupyter-widgets/controls",
      "model_module_version": "1.5.0",
      "model_name": "DescriptionStyleModel",
      "state": {
       "description_width": ""
      }
     },
     "4500b6cf9aec4a2a87a30446027945c1": {
      "model_module": "@jupyter-widgets/base",
      "model_module_version": "1.2.0",
      "model_name": "LayoutModel",
      "state": {}
     },
     "450cffb3b87b4e80bda5c3ab7d2c8db2": {
      "model_module": "@jupyter-widgets/controls",
      "model_module_version": "1.5.0",
      "model_name": "DescriptionStyleModel",
      "state": {
       "description_width": ""
      }
     },
     "451bfd2114104297a6bf0b0cc7cfb3a9": {
      "model_module": "@jupyter-widgets/controls",
      "model_module_version": "1.5.0",
      "model_name": "TextModel",
      "state": {
       "layout": "IPY_MODEL_1ceaf9c9ac774ae985cae0c34af76539",
       "style": "IPY_MODEL_2dd8f476c90946ca8411be22e8261c6b",
       "value": "2"
      }
     },
     "453914f5c7de4326936afd46c5548eb6": {
      "model_module": "@jupyter-widgets/controls",
      "model_module_version": "1.5.0",
      "model_name": "DropdownModel",
      "state": {
       "_options_labels": [
        "1",
        "2",
        "3"
       ],
       "description": "Add row",
       "index": 0,
       "layout": "IPY_MODEL_d76f91ce1d7d4c6cb2ccc147698b3fe0",
       "style": "IPY_MODEL_cac3cfaf0caf46bf982f9a06ba1f6059"
      }
     },
     "45600524194d41f9843f8cfef3d021cb": {
      "model_module": "@jupyter-widgets/controls",
      "model_module_version": "1.5.0",
      "model_name": "TextModel",
      "state": {
       "layout": "IPY_MODEL_250753b918e0432c803452a019d33c5c",
       "style": "IPY_MODEL_65abb230129546c4a8be04778678eec6",
       "value": "7"
      }
     },
     "4572dd9ec8ea45a4ab1496cfda3bb2f3": {
      "model_module": "@jupyter-widgets/controls",
      "model_module_version": "1.5.0",
      "model_name": "VBoxModel",
      "state": {
       "children": [
        "IPY_MODEL_184e93dc1c4948b69d1c58ec50fe5422",
        "IPY_MODEL_94d520641db6404c9f5cfe46d3c20350",
        "IPY_MODEL_f3626da171524a3b8838ed4a43f49184"
       ],
       "layout": "IPY_MODEL_41b6739edc5b47268e2dac597e38b24c"
      }
     },
     "45808614afea485c8eb741b83d1c92e0": {
      "model_module": "@jupyter-widgets/controls",
      "model_module_version": "1.5.0",
      "model_name": "TextModel",
      "state": {
       "layout": "IPY_MODEL_1ceaf9c9ac774ae985cae0c34af76539",
       "style": "IPY_MODEL_7335ec8989094b4c8a2baa4226018349",
       "value": "7"
      }
     },
     "45e3f90f469547f6a42e4ba9151d2b5f": {
      "model_module": "@jupyter-widgets/base",
      "model_module_version": "1.2.0",
      "model_name": "LayoutModel",
      "state": {
       "width": "150px"
      }
     },
     "45f36584e17d4cb799fe282581839c92": {
      "model_module": "@jupyter-widgets/controls",
      "model_module_version": "1.5.0",
      "model_name": "TextModel",
      "state": {
       "layout": "IPY_MODEL_dfe771ca3cb647c5ba599a113ad575df",
       "style": "IPY_MODEL_d3bc5cdde6e34f878db129df2557e8b0",
       "value": "2"
      }
     },
     "45f4876d84874264a860825f05b36f9e": {
      "model_module": "@jupyter-widgets/controls",
      "model_module_version": "1.5.0",
      "model_name": "DescriptionStyleModel",
      "state": {
       "description_width": ""
      }
     },
     "46078661b45f4502ad6a42800109b977": {
      "model_module": "@jupyter-widgets/controls",
      "model_module_version": "1.5.0",
      "model_name": "DescriptionStyleModel",
      "state": {
       "description_width": ""
      }
     },
     "460a520abdb9412388af8c3b44ca82d9": {
      "model_module": "@jupyter-widgets/controls",
      "model_module_version": "1.5.0",
      "model_name": "VBoxModel",
      "state": {
       "children": [
        "IPY_MODEL_6452a364bbae4664a9675bd8365b157a",
        "IPY_MODEL_91a72f682f924389bdcadc627973ba43",
        "IPY_MODEL_792dbfe75e0d468a8a256fdc441fe671"
       ],
       "layout": "IPY_MODEL_2dc891ffe5fc4cb9bcadc89f915d30d3"
      }
     },
     "461cb6309f3549a998d14f1794548655": {
      "model_module": "@jupyter-widgets/controls",
      "model_module_version": "1.5.0",
      "model_name": "TextModel",
      "state": {
       "layout": "IPY_MODEL_24e52a9da5f64680833f56257412e632",
       "style": "IPY_MODEL_e74fcf404e004a1ba2d5393ae1fb28b0",
       "value": "7"
      }
     },
     "461f2b6bca3a4e4d90c0c8229748dbd9": {
      "model_module": "@jupyter-widgets/controls",
      "model_module_version": "1.5.0",
      "model_name": "HBoxModel",
      "state": {
       "children": [
        "IPY_MODEL_1af939db96cf44e581d786dce95ac2d9",
        "IPY_MODEL_d002b346727844959d2f22557e727876",
        "IPY_MODEL_d0f2a4bd716f4694b7159b61fc1310a6"
       ],
       "layout": "IPY_MODEL_ba8cd49bacb04688b8bcefd59cd2415b"
      }
     },
     "462388385ffb4aa0ad16a93b4424a0e2": {
      "model_module": "@jupyter-widgets/controls",
      "model_module_version": "1.5.0",
      "model_name": "HBoxModel",
      "state": {
       "children": [
        "IPY_MODEL_4436fb64b79f4d089ef2139d45db452e",
        "IPY_MODEL_e8a51c5e770f4c5a9d9dbe05be632929"
       ],
       "layout": "IPY_MODEL_2e7ce31e54dd4b92b77d8cfac2a5e445"
      }
     },
     "4634f28305954d10b4ad96623b089a73": {
      "model_module": "@jupyter-widgets/controls",
      "model_module_version": "1.5.0",
      "model_name": "HBoxModel",
      "state": {
       "children": [
        "IPY_MODEL_4821efaa03644e18b941cf73f15cd294",
        "IPY_MODEL_8347664d2c6b458ab113ee8cbc01561f",
        "IPY_MODEL_5303cafc37eb4171956b0f4eff768217"
       ],
       "layout": "IPY_MODEL_ec6356d787844b12abf4df0a396148f5"
      }
     },
     "465befe8f55740f8a5f6319f40d5e4f7": {
      "model_module": "@jupyter-widgets/controls",
      "model_module_version": "1.5.0",
      "model_name": "DescriptionStyleModel",
      "state": {
       "description_width": ""
      }
     },
     "4665c19c5aeb4403b342424a6c364515": {
      "model_module": "@jupyter-widgets/controls",
      "model_module_version": "1.5.0",
      "model_name": "DescriptionStyleModel",
      "state": {
       "description_width": ""
      }
     },
     "46766a6153f84c5e91b0e683469534b6": {
      "model_module": "@jupyter-widgets/controls",
      "model_module_version": "1.5.0",
      "model_name": "TextModel",
      "state": {
       "layout": "IPY_MODEL_97993fa24fac42e28605e8d366180168",
       "style": "IPY_MODEL_fa460f7171ea4e338379113aab0b4a67",
       "value": "2"
      }
     },
     "467abe371e45470db69e38e48f3fc9bc": {
      "model_module": "@jupyter-widgets/controls",
      "model_module_version": "1.5.0",
      "model_name": "HBoxModel",
      "state": {
       "children": [
        "IPY_MODEL_e3556a0c67ef431397d44a4e3848a40d",
        "IPY_MODEL_2c33a9b4e41a4727bef14ba44f6fed0c"
       ],
       "layout": "IPY_MODEL_56ef320d3b87465890320dcfe92d0eab"
      }
     },
     "4685420a2834475f8a520bbe5c17a9df": {
      "model_module": "@jupyter-widgets/controls",
      "model_module_version": "1.5.0",
      "model_name": "ButtonStyleModel",
      "state": {}
     },
     "46964c4bbbc94785be24c627e3f60c9f": {
      "model_module": "@jupyter-widgets/controls",
      "model_module_version": "1.5.0",
      "model_name": "DescriptionStyleModel",
      "state": {
       "description_width": ""
      }
     },
     "469b2a10962f4730ab1aa848fc57cfdc": {
      "model_module": "@jupyter-widgets/controls",
      "model_module_version": "1.5.0",
      "model_name": "DescriptionStyleModel",
      "state": {
       "description_width": ""
      }
     },
     "46a36d4c9e2b4230bd17166999c6d9a3": {
      "model_module": "@jupyter-widgets/base",
      "model_module_version": "1.2.0",
      "model_name": "LayoutModel",
      "state": {}
     },
     "46a6d9472cbd4892ad6b1e4142f4d68d": {
      "model_module": "@jupyter-widgets/base",
      "model_module_version": "1.2.0",
      "model_name": "LayoutModel",
      "state": {
       "width": "100px"
      }
     },
     "46b0ec0b21ba4bd5a97f211e214065b3": {
      "model_module": "@jupyter-widgets/base",
      "model_module_version": "1.2.0",
      "model_name": "LayoutModel",
      "state": {}
     },
     "46b320499f5044bf99e9c3cf19d5228c": {
      "model_module": "@jupyter-widgets/controls",
      "model_module_version": "1.5.0",
      "model_name": "DescriptionStyleModel",
      "state": {
       "description_width": ""
      }
     },
     "46bd368a155544aeb7f43ca6c392538a": {
      "model_module": "@jupyter-widgets/base",
      "model_module_version": "1.2.0",
      "model_name": "LayoutModel",
      "state": {
       "justify_content": "center"
      }
     },
     "46bec9f28a624d65825db04265d64726": {
      "model_module": "@jupyter-widgets/controls",
      "model_module_version": "1.5.0",
      "model_name": "VBoxModel",
      "state": {
       "children": [
        "IPY_MODEL_95fb39d5e88449599dbc2b5f9b02dee3",
        "IPY_MODEL_d97f79a9280841749a406698dfb0ed5a"
       ],
       "layout": "IPY_MODEL_31101d7e0bf64b81a45ccc6d836820d6"
      }
     },
     "46f72c47f38e4a7ca556826107ebf7a0": {
      "model_module": "@jupyter-widgets/controls",
      "model_module_version": "1.5.0",
      "model_name": "TextModel",
      "state": {
       "layout": "IPY_MODEL_d19375b63f4b4e069ae82d3822ecfbd2",
       "style": "IPY_MODEL_85250ab656b345bea21c54074e0c7820",
       "value": "3"
      }
     },
     "470ac3a13d2c4ecf87b707643a7aefdd": {
      "model_module": "@jupyter-widgets/controls",
      "model_module_version": "1.5.0",
      "model_name": "HBoxModel",
      "state": {
       "children": [
        "IPY_MODEL_5d61b8fac4b44ca19a9899cc4cb695e0",
        "IPY_MODEL_ca4c2db1f93947cbad65be98fe43599f",
        "IPY_MODEL_59a5ce918cb04f6e8196a4b81f302c2e"
       ],
       "layout": "IPY_MODEL_cdd7855ec53a479893be1ee02b6eb0e9"
      }
     },
     "472abd49d98a4066b63c7fc3161a33db": {
      "model_module": "@jupyter-widgets/controls",
      "model_module_version": "1.5.0",
      "model_name": "ButtonModel",
      "state": {
       "description": "Add rows",
       "layout": "IPY_MODEL_37f6707337e548fd8d9da12068d1e432",
       "style": "IPY_MODEL_e39100f5658a4aaa84f50601cdbde6a2"
      }
     },
     "474a77088cce4728a6174e0029d57a5c": {
      "model_module": "@jupyter-widgets/controls",
      "model_module_version": "1.5.0",
      "model_name": "TextModel",
      "state": {
       "description": "times",
       "layout": "IPY_MODEL_84fef734e9a34c4183cf26bb3f9d2888",
       "style": "IPY_MODEL_04aa4476a3b940b983dd861b140dbabb",
       "value": "1"
      }
     },
     "475925480fc84dcd95df3150a3133835": {
      "model_module": "@jupyter-widgets/controls",
      "model_module_version": "1.5.0",
      "model_name": "TextModel",
      "state": {
       "layout": "IPY_MODEL_a21d52801ae94e44813bb1c00d81c473",
       "style": "IPY_MODEL_fb1a32620aa2464ea0c53967c9efb376",
       "value": "1"
      }
     },
     "4784036de72448b1a44de2e4ba67215c": {
      "model_module": "@jupyter-widgets/controls",
      "model_module_version": "1.5.0",
      "model_name": "DescriptionStyleModel",
      "state": {
       "description_width": ""
      }
     },
     "47a60aa1cf3045f2a536b06edf49c5ea": {
      "model_module": "@jupyter-widgets/base",
      "model_module_version": "1.2.0",
      "model_name": "LayoutModel",
      "state": {
       "height": "35px",
       "width": "30px"
      }
     },
     "47a8870e0fea4dd8962de0889a0decf4": {
      "model_module": "@jupyter-widgets/base",
      "model_module_version": "1.2.0",
      "model_name": "LayoutModel",
      "state": {}
     },
     "47b45c6ead1943da88da26166aca607d": {
      "model_module": "@jupyter-widgets/controls",
      "model_module_version": "1.5.0",
      "model_name": "TextModel",
      "state": {
       "layout": "IPY_MODEL_8642d067baba44c0bf86d09f3f211429",
       "style": "IPY_MODEL_d8e8ffe1a6e44cbcb1cc12b20a9b20f4",
       "value": "1"
      }
     },
     "47eeeec577eb49e5bce136d75cab94cc": {
      "model_module": "@jupyter-widgets/base",
      "model_module_version": "1.2.0",
      "model_name": "LayoutModel",
      "state": {}
     },
     "47fb1d5ab4dd41d2b537fbe1a909fa6a": {
      "model_module": "@jupyter-widgets/controls",
      "model_module_version": "1.5.0",
      "model_name": "DescriptionStyleModel",
      "state": {
       "description_width": ""
      }
     },
     "48168b6e88c1420084e3ba69bd6a330c": {
      "model_module": "@jupyter-widgets/controls",
      "model_module_version": "1.5.0",
      "model_name": "TextModel",
      "state": {
       "layout": "IPY_MODEL_308f071668994851a29f0ae6fcc0bc14",
       "style": "IPY_MODEL_47fb1d5ab4dd41d2b537fbe1a909fa6a",
       "value": "-1"
      }
     },
     "4821efaa03644e18b941cf73f15cd294": {
      "model_module": "@jupyter-widgets/controls",
      "model_module_version": "1.5.0",
      "model_name": "TextModel",
      "state": {
       "layout": "IPY_MODEL_201e1a4ee32840b19f981690bdacf3ae",
       "style": "IPY_MODEL_cf7ec6985ae843cc8a4659886c36e7d1",
       "value": "5"
      }
     },
     "4845bb52c671408f8404ef6886d810c5": {
      "model_module": "@jupyter-widgets/controls",
      "model_module_version": "1.5.0",
      "model_name": "TextModel",
      "state": {
       "layout": "IPY_MODEL_dfe771ca3cb647c5ba599a113ad575df",
       "style": "IPY_MODEL_fc838a3673c54ee1a5818ec92a34b307",
       "value": "7"
      }
     },
     "484f655761684a08bf8817d715b75345": {
      "model_module": "@jupyter-widgets/base",
      "model_module_version": "1.2.0",
      "model_name": "LayoutModel",
      "state": {}
     },
     "48601e1496764b1783d8750ed425f8d1": {
      "model_module": "@jupyter-widgets/controls",
      "model_module_version": "1.5.0",
      "model_name": "TextModel",
      "state": {
       "layout": "IPY_MODEL_239bec109578490f9329cf0477e25967",
       "style": "IPY_MODEL_7b7863acfa67404183957296f07d4ed2",
       "value": "2"
      }
     },
     "48a458c96d0c4f59a0d60b46fee3180c": {
      "model_module": "@jupyter-widgets/controls",
      "model_module_version": "1.5.0",
      "model_name": "VBoxModel",
      "state": {
       "children": [
        "IPY_MODEL_087fac6b26f944b29ee2e8d87cec1b24",
        "IPY_MODEL_f2e149f1a8d0497eb086b5fd62f3847f",
        "IPY_MODEL_268d4ad3924647ce906335e7415ad7a2"
       ],
       "layout": "IPY_MODEL_19cbe962e8c54b8785f50134b7747dc1"
      }
     },
     "48a9446b70384f5cad1fad47cd905e9f": {
      "model_module": "@jupyter-widgets/base",
      "model_module_version": "1.2.0",
      "model_name": "LayoutModel",
      "state": {}
     },
     "48cae2ed8d344f5faa81110fd23beb2c": {
      "model_module": "@jupyter-widgets/controls",
      "model_module_version": "1.5.0",
      "model_name": "DropdownModel",
      "state": {
       "_options_labels": [
        "1",
        "2",
        "3"
       ],
       "description": "and row",
       "index": 1,
       "layout": "IPY_MODEL_7fdcb176b431426b9d2691c7733ee8b9",
       "style": "IPY_MODEL_ce19ae91e88742ff896e68cdd069ee20"
      }
     },
     "48cccc2f4e624b9e9b5ad3f71b9d911a": {
      "model_module": "@jupyter-widgets/controls",
      "model_module_version": "1.5.0",
      "model_name": "HTMLMathModel",
      "state": {
       "layout": "IPY_MODEL_baceb057f2824a32bfd1a299b8c9f0ca",
       "style": "IPY_MODEL_ab630e7d6b8b430ab76670ed1729a764",
       "value": "Enter here the values of the matrix $A$"
      }
     },
     "48ce2a5544ec4074890ee9caef96a6ff": {
      "model_module": "@jupyter-widgets/controls",
      "model_module_version": "1.5.0",
      "model_name": "DescriptionStyleModel",
      "state": {
       "description_width": ""
      }
     },
     "48e677e5b6a24358ab970644e52ea919": {
      "model_module": "@jupyter-widgets/controls",
      "model_module_version": "1.5.0",
      "model_name": "DescriptionStyleModel",
      "state": {
       "description_width": ""
      }
     },
     "48fd8f2b9361434f8fd028824a90a7c9": {
      "model_module": "@jupyter-widgets/controls",
      "model_module_version": "1.5.0",
      "model_name": "BoxModel",
      "state": {
       "children": [
        "IPY_MODEL_cf2088fac36e476b84866e6aaa2f86c6"
       ],
       "layout": "IPY_MODEL_1636a72511dd4b81834efbb002534283"
      }
     },
     "4936dc93e93b4ac1939a2d158ae5a110": {
      "model_module": "@jupyter-widgets/controls",
      "model_module_version": "1.5.0",
      "model_name": "DescriptionStyleModel",
      "state": {
       "description_width": ""
      }
     },
     "49733811a47544a1bd1ad125242e48ac": {
      "model_module": "@jupyter-widgets/controls",
      "model_module_version": "1.5.0",
      "model_name": "DescriptionStyleModel",
      "state": {
       "description_width": ""
      }
     },
     "49947b9714d242579f6685a2c327a6a6": {
      "model_module": "@jupyter-widgets/controls",
      "model_module_version": "1.5.0",
      "model_name": "TextModel",
      "state": {
       "layout": "IPY_MODEL_97993fa24fac42e28605e8d366180168",
       "style": "IPY_MODEL_e26b2eec25dd4fecb08f9c1835111319",
       "value": "7"
      }
     },
     "49dd9cc77f46495083137b30377a9857": {
      "model_module": "@jupyter-widgets/controls",
      "model_module_version": "1.5.0",
      "model_name": "TextModel",
      "state": {
       "layout": "IPY_MODEL_e56e2cbba3324f1e9a6da6e53dfda065",
       "style": "IPY_MODEL_46078661b45f4502ad6a42800109b977",
       "value": "2"
      }
     },
     "49ddfa6ed2204bf88dd661d50f83c8ba": {
      "model_module": "@jupyter-widgets/controls",
      "model_module_version": "1.5.0",
      "model_name": "HBoxModel",
      "state": {
       "children": [
        "IPY_MODEL_7135351aeb0947248f265fab22fa2346",
        "IPY_MODEL_f9fff6fa7c4b4cc79b0688546ee48359",
        "IPY_MODEL_bd2444d907a348b18d6b66ff7e5a4643"
       ],
       "layout": "IPY_MODEL_2eabd5d7e73d40579cf42cf914c038d4"
      }
     },
     "49deea5b60be4bd5892376579c18d59b": {
      "model_module": "@jupyter-widgets/controls",
      "model_module_version": "1.5.0",
      "model_name": "HBoxModel",
      "state": {
       "children": [
        "IPY_MODEL_0ab04c70e1d146589f0f5cc9ffc9fa85",
        "IPY_MODEL_26cc52b26dce4e6794f96b51316137b6"
       ],
       "layout": "IPY_MODEL_cd74410b74504cbfbb7eae7142808878"
      }
     },
     "49e1b06fffb94916aa93ab404ae81207": {
      "model_module": "@jupyter-widgets/base",
      "model_module_version": "1.2.0",
      "model_name": "LayoutModel",
      "state": {
       "width": "150px"
      }
     },
     "49e6c49f83fb4219957ff0edf21f8165": {
      "model_module": "@jupyter-widgets/controls",
      "model_module_version": "1.5.0",
      "model_name": "DescriptionStyleModel",
      "state": {
       "description_width": ""
      }
     },
     "49ef03a562e24aafa9efe4ff8db8dba4": {
      "model_module": "@jupyter-widgets/controls",
      "model_module_version": "1.5.0",
      "model_name": "TextModel",
      "state": {
       "layout": "IPY_MODEL_fc4b7699475642ecb4c02ebf24f1e6a2",
       "style": "IPY_MODEL_2743a5b7fa964d3cae8eb89181de9c60",
       "value": "4"
      }
     },
     "49f833aec50049728347b67ead722224": {
      "model_module": "@jupyter-widgets/base",
      "model_module_version": "1.2.0",
      "model_name": "LayoutModel",
      "state": {}
     },
     "49fd5baa30064c88afad8e6eacc7d880": {
      "model_module": "@jupyter-widgets/controls",
      "model_module_version": "1.5.0",
      "model_name": "DescriptionStyleModel",
      "state": {
       "description_width": ""
      }
     },
     "4a1a37c06f90467d923ed3ac0300e336": {
      "model_module": "@jupyter-widgets/controls",
      "model_module_version": "1.5.0",
      "model_name": "HTMLModel",
      "state": {
       "layout": "IPY_MODEL_0fea4e6d91ae4e48a82e569ada3a620e",
       "style": "IPY_MODEL_509d1591fb0745df949d7d0709f4b6f2",
       "value": "Click this button to start the calculator"
      }
     },
     "4a462b62283c43538330a170e98ca4d7": {
      "model_module": "@jupyter-widgets/base",
      "model_module_version": "1.2.0",
      "model_name": "LayoutModel",
      "state": {}
     },
     "4a46f71c183342468886a28574162a56": {
      "model_module": "@jupyter-widgets/base",
      "model_module_version": "1.2.0",
      "model_name": "LayoutModel",
      "state": {}
     },
     "4a488eba4b3d4c309074a0b1c13dd2ec": {
      "model_module": "@jupyter-widgets/controls",
      "model_module_version": "1.5.0",
      "model_name": "TextModel",
      "state": {
       "layout": "IPY_MODEL_342fbdc31d2d406489b24d1349c22e03",
       "style": "IPY_MODEL_c8756142dbd74b40943ae81419356657",
       "value": "9"
      }
     },
     "4a587684b5ad4b7ab5b69fbd2b15d964": {
      "model_module": "@jupyter-widgets/base",
      "model_module_version": "1.2.0",
      "model_name": "LayoutModel",
      "state": {}
     },
     "4a630d754f524059a7468b17f36a6168": {
      "model_module": "@jupyter-widgets/controls",
      "model_module_version": "1.5.0",
      "model_name": "DescriptionStyleModel",
      "state": {
       "description_width": ""
      }
     },
     "4a6c16a0275f488b947ea8177258848a": {
      "model_module": "@jupyter-widgets/controls",
      "model_module_version": "1.5.0",
      "model_name": "ButtonStyleModel",
      "state": {}
     },
     "4a7d00f4daf54401bd301335c28af0d7": {
      "model_module": "@jupyter-widgets/controls",
      "model_module_version": "1.5.0",
      "model_name": "DropdownModel",
      "state": {
       "_options_labels": [
        "1",
        "2",
        "3"
       ],
       "description": "and row",
       "index": 1,
       "layout": "IPY_MODEL_14c42d4eeebb444a93536a0613b284dd",
       "style": "IPY_MODEL_7c953b63b8f94b48aff461221e51e0cb"
      }
     },
     "4a7ee14c7e42480bb3d1d3d4e7fa7bab": {
      "model_module": "@jupyter-widgets/controls",
      "model_module_version": "1.5.0",
      "model_name": "DescriptionStyleModel",
      "state": {
       "description_width": ""
      }
     },
     "4a8bc5a4a70a483fa1a659da0c219ad7": {
      "model_module": "@jupyter-widgets/base",
      "model_module_version": "1.2.0",
      "model_name": "LayoutModel",
      "state": {}
     },
     "4aac7ece8a6b4515a583564bab355079": {
      "model_module": "@jupyter-widgets/base",
      "model_module_version": "1.2.0",
      "model_name": "LayoutModel",
      "state": {
       "width": "150px"
      }
     },
     "4ac60f07828f433ea9495e19ffe231b8": {
      "model_module": "@jupyter-widgets/base",
      "model_module_version": "1.2.0",
      "model_name": "LayoutModel",
      "state": {}
     },
     "4ad70300b9964656ae344235b972d3cb": {
      "model_module": "@jupyter-widgets/controls",
      "model_module_version": "1.5.0",
      "model_name": "DescriptionStyleModel",
      "state": {
       "description_width": ""
      }
     },
     "4ad78b2ded254f23b706964cb0068729": {
      "model_module": "@jupyter-widgets/controls",
      "model_module_version": "1.5.0",
      "model_name": "ButtonStyleModel",
      "state": {}
     },
     "4adb0b2ba8e0421f9e47825dd8d97adb": {
      "model_module": "@jupyter-widgets/controls",
      "model_module_version": "1.5.0",
      "model_name": "DescriptionStyleModel",
      "state": {
       "description_width": ""
      }
     },
     "4ae155ee907742588cfd353ed0dd98a5": {
      "model_module": "@jupyter-widgets/controls",
      "model_module_version": "1.5.0",
      "model_name": "DescriptionStyleModel",
      "state": {
       "description_width": ""
      }
     },
     "4af9411f4ebf480b8dd7073e122c7210": {
      "model_module": "@jupyter-widgets/controls",
      "model_module_version": "1.5.0",
      "model_name": "ButtonStyleModel",
      "state": {}
     },
     "4b13c98a3aee4e58a240bdb4e73613c2": {
      "model_module": "@jupyter-widgets/base",
      "model_module_version": "1.2.0",
      "model_name": "LayoutModel",
      "state": {}
     },
     "4b2e113cc1384bf99f494a1206f44cf5": {
      "model_module": "@jupyter-widgets/base",
      "model_module_version": "1.2.0",
      "model_name": "LayoutModel",
      "state": {
       "flex_flow": "row wrap",
       "justify_content": "space-around"
      }
     },
     "4b4b11dbbd1d4679abcd824f39f84d78": {
      "model_module": "@jupyter-widgets/controls",
      "model_module_version": "1.5.0",
      "model_name": "VBoxModel",
      "state": {
       "children": [
        "IPY_MODEL_75d46b3fba5b4e2d91edbac8f35b0dd3",
        "IPY_MODEL_16a5b1ce60bc48b4b33c971494166401",
        "IPY_MODEL_cfed47a3c03749c58c7656eb799d455e"
       ],
       "layout": "IPY_MODEL_25b711b470f24ac1ae6f95a115b77415"
      }
     },
     "4b4c7aa4cb504ca4bf72e6ecf908ac19": {
      "model_module": "@jupyter-widgets/controls",
      "model_module_version": "1.5.0",
      "model_name": "DescriptionStyleModel",
      "state": {
       "description_width": ""
      }
     },
     "4b4f676af3fb4b288ef52c00510a88fc": {
      "model_module": "@jupyter-widgets/base",
      "model_module_version": "1.2.0",
      "model_name": "LayoutModel",
      "state": {
       "width": "90px"
      }
     },
     "4b632a42f5754929b93a202726dfef46": {
      "model_module": "@jupyter-widgets/controls",
      "model_module_version": "1.5.0",
      "model_name": "TextModel",
      "state": {
       "layout": "IPY_MODEL_d19375b63f4b4e069ae82d3822ecfbd2",
       "style": "IPY_MODEL_fc48f35e2c104e0e964f0949354e956b",
       "value": "1"
      }
     },
     "4b7552e5d8974f719af6189f69ec1a20": {
      "model_module": "@jupyter-widgets/base",
      "model_module_version": "1.2.0",
      "model_name": "LayoutModel",
      "state": {}
     },
     "4b7b774fe5b5401c83d6d3a01dd6f487": {
      "model_module": "@jupyter-widgets/base",
      "model_module_version": "1.2.0",
      "model_name": "LayoutModel",
      "state": {
       "width": "150px"
      }
     },
     "4b88beee1cae4ac89adfb6189b3d8826": {
      "model_module": "@jupyter-widgets/controls",
      "model_module_version": "1.5.0",
      "model_name": "DescriptionStyleModel",
      "state": {
       "description_width": ""
      }
     },
     "4b8fd77af6104bacbdc15158a23b9d7e": {
      "model_module": "@jupyter-widgets/controls",
      "model_module_version": "1.5.0",
      "model_name": "ButtonModel",
      "state": {
       "description": "Multiply row",
       "layout": "IPY_MODEL_6a345a97bdc442dea349cb9a9bfd31cf",
       "style": "IPY_MODEL_a8792407e6254da68a5b9b75d22b36d5"
      }
     },
     "4b91f4231d2440558535d75f19c020e4": {
      "model_module": "@jupyter-widgets/base",
      "model_module_version": "1.2.0",
      "model_name": "LayoutModel",
      "state": {}
     },
     "4badd6d2fa4440489616e47d288a88d2": {
      "model_module": "@jupyter-widgets/base",
      "model_module_version": "1.2.0",
      "model_name": "LayoutModel",
      "state": {
       "width": "90px"
      }
     },
     "4bcd3a11811347d3979a9396c2e71cd4": {
      "model_module": "@jupyter-widgets/base",
      "model_module_version": "1.2.0",
      "model_name": "LayoutModel",
      "state": {
       "height": "35px",
       "width": "30px"
      }
     },
     "4bcf835bf52a4804a8508deaa921b131": {
      "model_module": "@jupyter-widgets/controls",
      "model_module_version": "1.5.0",
      "model_name": "TextModel",
      "state": {
       "layout": "IPY_MODEL_308f071668994851a29f0ae6fcc0bc14",
       "style": "IPY_MODEL_90e1bf6c80744489b6207fd56dceb819",
       "value": "-1"
      }
     },
     "4bd941d9a7fa4d2a88b14d0828e8edb1": {
      "model_module": "@jupyter-widgets/controls",
      "model_module_version": "1.5.0",
      "model_name": "DescriptionStyleModel",
      "state": {
       "description_width": ""
      }
     },
     "4be901e7e78a426fb917aee1c9e4548a": {
      "model_module": "@jupyter-widgets/base",
      "model_module_version": "1.2.0",
      "model_name": "LayoutModel",
      "state": {}
     },
     "4be9f3f43bc743ec86e193fa7296f488": {
      "model_module": "@jupyter-widgets/controls",
      "model_module_version": "1.5.0",
      "model_name": "VBoxModel",
      "state": {
       "children": [
        "IPY_MODEL_9c5fb3dcd7644526af57adb06996e84b",
        "IPY_MODEL_1762cc6f207747919ca28897fba82d70",
        "IPY_MODEL_138f3d0f8b5e466d9c3f9652e070fc44"
       ],
       "layout": "IPY_MODEL_a2e1bf502f3b413d9abd0f232702db24"
      }
     },
     "4c0b1ef52a8c4d188d3abc59fb505491": {
      "model_module": "@jupyter-widgets/controls",
      "model_module_version": "1.5.0",
      "model_name": "TextModel",
      "state": {
       "layout": "IPY_MODEL_4bcd3a11811347d3979a9396c2e71cd4",
       "style": "IPY_MODEL_17b71db5681b4d258bb0205f930b72b9",
       "value": "9"
      }
     },
     "4c212fec75234aa6a6b968c084149988": {
      "model_module": "@jupyter-widgets/controls",
      "model_module_version": "1.5.0",
      "model_name": "ButtonStyleModel",
      "state": {}
     },
     "4c24898c7983471aa85b2374b325cc42": {
      "model_module": "@jupyter-widgets/controls",
      "model_module_version": "1.5.0",
      "model_name": "ButtonStyleModel",
      "state": {}
     },
     "4c48c4de2f6148e887c2fc75281b6404": {
      "model_module": "@jupyter-widgets/controls",
      "model_module_version": "1.5.0",
      "model_name": "ButtonStyleModel",
      "state": {}
     },
     "4c690ee7921046299501021b0613d727": {
      "model_module": "@jupyter-widgets/controls",
      "model_module_version": "1.5.0",
      "model_name": "TextModel",
      "state": {
       "layout": "IPY_MODEL_65cb8db367e14667886b79ef97c800d1",
       "style": "IPY_MODEL_319fadb2ec894910825e0a62eb0d37fd",
       "value": "2"
      }
     },
     "4c76c6b487df4a228b0014fd785ba48d": {
      "model_module": "@jupyter-widgets/base",
      "model_module_version": "1.2.0",
      "model_name": "LayoutModel",
      "state": {}
     },
     "4c7d47c92cc54833bf3a3e9f44c25884": {
      "model_module": "@jupyter-widgets/base",
      "model_module_version": "1.2.0",
      "model_name": "LayoutModel",
      "state": {
       "flex_flow": "row wrap",
       "justify_content": "space-around"
      }
     },
     "4c7f89702ca9437597ff04bd3ff8e636": {
      "model_module": "@jupyter-widgets/base",
      "model_module_version": "1.2.0",
      "model_name": "LayoutModel",
      "state": {
       "height": "300px",
       "justify_content": "center"
      }
     },
     "4ca520b5298740fab98874851bc7e360": {
      "model_module": "@jupyter-widgets/base",
      "model_module_version": "1.2.0",
      "model_name": "LayoutModel",
      "state": {
       "justify_content": "space-between"
      }
     },
     "4ccd7fcfc54048e1afeee9567d3b3dca": {
      "model_module": "@jupyter-widgets/controls",
      "model_module_version": "1.5.0",
      "model_name": "ButtonStyleModel",
      "state": {}
     },
     "4cd5c60b8c924f66bb48e6aaee5976b7": {
      "model_module": "@jupyter-widgets/base",
      "model_module_version": "1.2.0",
      "model_name": "LayoutModel",
      "state": {
       "height": "300px",
       "justify_content": "center"
      }
     },
     "4cdb7b5a038845098e289e53b2125a72": {
      "model_module": "@jupyter-widgets/controls",
      "model_module_version": "1.5.0",
      "model_name": "HTMLMathModel",
      "state": {
       "layout": "IPY_MODEL_8d3926e6b49a41bb8122d0ce30f0715d",
       "style": "IPY_MODEL_1698fc2ea89940b3afa9a5726c23a0d2",
       "value": "Enter here the values of the coefficient matrix $\\bf{A}$"
      }
     },
     "4cdc710347c84425bf813fbc1354240a": {
      "model_module": "@jupyter-widgets/controls",
      "model_module_version": "1.5.0",
      "model_name": "HBoxModel",
      "state": {
       "children": [
        "IPY_MODEL_04cdc9fd85474cc3a01bcac1d60f7671",
        "IPY_MODEL_35000041449b487092bf5b738dc3e803",
        "IPY_MODEL_52692f3e950e4d2a9bc33bd2c9c52ec1"
       ],
       "layout": "IPY_MODEL_f4a859db86ad4588891d2c32612887ed"
      }
     },
     "4ce4256fe1624f3a831aab30d5f81bd5": {
      "model_module": "@jupyter-widgets/controls",
      "model_module_version": "1.5.0",
      "model_name": "TextModel",
      "state": {
       "layout": "IPY_MODEL_8642d067baba44c0bf86d09f3f211429",
       "style": "IPY_MODEL_cafc6a0b59a547e59fa019b6296ed26d",
       "value": "-2"
      }
     },
     "4ce7eb7ce6f948c6925f5719ff6ca495": {
      "model_module": "@jupyter-widgets/controls",
      "model_module_version": "1.5.0",
      "model_name": "HBoxModel",
      "state": {
       "children": [
        "IPY_MODEL_2a75ae7e276c4b90aff664ea81dbf53e",
        "IPY_MODEL_c63cc49d1f6e42c280caa089327057a9",
        "IPY_MODEL_89ed7a566d214769ac6de3c224cce994"
       ],
       "layout": "IPY_MODEL_99eebb9442fe47b185aaa9db049de54c"
      }
     },
     "4d090d5c77564b81a1cc3171f55ef4af": {
      "model_module": "@jupyter-widgets/controls",
      "model_module_version": "1.5.0",
      "model_name": "DescriptionStyleModel",
      "state": {
       "description_width": ""
      }
     },
     "4d181be52b504ffa908da50ecaafba6d": {
      "model_module": "@jupyter-widgets/controls",
      "model_module_version": "1.5.0",
      "model_name": "HBoxModel",
      "state": {
       "children": [
        "IPY_MODEL_666b4116b218482ca020d9517d76277f",
        "IPY_MODEL_0e6e0efceabd4ae3a46b211dc4ff810b",
        "IPY_MODEL_1cb0574fe7684b8fb47191d4c64450d4"
       ],
       "layout": "IPY_MODEL_cd22321a9c8440198e4796d6e987082c"
      }
     },
     "4d18bda7b5ab4d2db460dedd00e47709": {
      "model_module": "@jupyter-widgets/base",
      "model_module_version": "1.2.0",
      "model_name": "LayoutModel",
      "state": {}
     },
     "4d215c88febe40f3a985280ae9a17bd0": {
      "model_module": "@jupyter-widgets/controls",
      "model_module_version": "1.5.0",
      "model_name": "DescriptionStyleModel",
      "state": {
       "description_width": ""
      }
     },
     "4d391a2a7cf54dbbbbf853429c01ffde": {
      "model_module": "@jupyter-widgets/controls",
      "model_module_version": "1.5.0",
      "model_name": "DescriptionStyleModel",
      "state": {
       "description_width": ""
      }
     },
     "4d3efca797e04672bc418cd73e7b8f92": {
      "model_module": "@jupyter-widgets/base",
      "model_module_version": "1.2.0",
      "model_name": "LayoutModel",
      "state": {}
     },
     "4d809df97dbf4b6894c67b3e76824e9d": {
      "model_module": "@jupyter-widgets/controls",
      "model_module_version": "1.5.0",
      "model_name": "ButtonModel",
      "state": {
       "description": "Start",
       "layout": "IPY_MODEL_33fab2c7cef44485941637efe4bf32ae",
       "style": "IPY_MODEL_1b4128d059e64ccd9a69f046676d65dc"
      }
     },
     "4d85738cd47e43c9ae256ff6df822fda": {
      "model_module": "@jupyter-widgets/controls",
      "model_module_version": "1.5.0",
      "model_name": "ButtonStyleModel",
      "state": {}
     },
     "4d9d3a0430fb47ada318b10222279b0e": {
      "model_module": "@jupyter-widgets/base",
      "model_module_version": "1.2.0",
      "model_name": "LayoutModel",
      "state": {}
     },
     "4da29d84c0b64773939d5ca413108ac5": {
      "model_module": "@jupyter-widgets/base",
      "model_module_version": "1.2.0",
      "model_name": "LayoutModel",
      "state": {}
     },
     "4dc8b9450435447ebef56a12de022275": {
      "model_module": "@jupyter-widgets/controls",
      "model_module_version": "1.5.0",
      "model_name": "DescriptionStyleModel",
      "state": {
       "description_width": ""
      }
     },
     "4de14cd8bc0a46b980f802373ea3661c": {
      "model_module": "@jupyter-widgets/controls",
      "model_module_version": "1.5.0",
      "model_name": "DescriptionStyleModel",
      "state": {
       "description_width": ""
      }
     },
     "4de8fcd02a244d71938c6b584b708e3d": {
      "model_module": "@jupyter-widgets/controls",
      "model_module_version": "1.5.0",
      "model_name": "TextModel",
      "state": {
       "layout": "IPY_MODEL_9f4d9e00ae3e470a8d024478444df27d",
       "style": "IPY_MODEL_9c6effb8a19a497189c0e14d57ea300b",
       "value": "2"
      }
     },
     "4df25e7f8f4b4e878e9ce0687386356d": {
      "model_module": "@jupyter-widgets/base",
      "model_module_version": "1.2.0",
      "model_name": "LayoutModel",
      "state": {}
     },
     "4dfbe679109146bba4fa78bb12fbe1c0": {
      "model_module": "@jupyter-widgets/base",
      "model_module_version": "1.2.0",
      "model_name": "LayoutModel",
      "state": {}
     },
     "4e4b7a49bb2a4c3f9c0b5c2f47945a18": {
      "model_module": "@jupyter-widgets/base",
      "model_module_version": "1.2.0",
      "model_name": "LayoutModel",
      "state": {}
     },
     "4e4c740168f540b2868ec45051ec2f88": {
      "model_module": "@jupyter-widgets/controls",
      "model_module_version": "1.5.0",
      "model_name": "VBoxModel",
      "state": {
       "children": [
        "IPY_MODEL_fca1f378f9894c4fa96f469513e2d98a",
        "IPY_MODEL_5294333dd5ae4663ae17edc4a35ae7e4"
       ],
       "layout": "IPY_MODEL_3994d78d0349440dbf70b7e46e35270b"
      }
     },
     "4e4ca7ab3dc04e17aafa81be5eb39834": {
      "model_module": "@jupyter-widgets/base",
      "model_module_version": "1.2.0",
      "model_name": "LayoutModel",
      "state": {
       "width": "90px"
      }
     },
     "4e6295a5047847f3b983e837dcb99df5": {
      "model_module": "@jupyter-widgets/controls",
      "model_module_version": "1.5.0",
      "model_name": "VBoxModel",
      "state": {
       "children": [
        "IPY_MODEL_345c96814d644cc79191d1c68086d3ea",
        "IPY_MODEL_b674b130b01948a1967559211c4f32cf",
        "IPY_MODEL_e2483a59d1db4e5e92e34ff01be22074"
       ],
       "layout": "IPY_MODEL_ced30150dd3848d0bcc6107092dc418c"
      }
     },
     "4e7ce9bdf5004837b0ab930a8085aa33": {
      "model_module": "@jupyter-widgets/base",
      "model_module_version": "1.2.0",
      "model_name": "LayoutModel",
      "state": {}
     },
     "4e906a31db0a414890457e2563c74669": {
      "model_module": "@jupyter-widgets/controls",
      "model_module_version": "1.5.0",
      "model_name": "TextModel",
      "state": {
       "layout": "IPY_MODEL_24e52a9da5f64680833f56257412e632",
       "style": "IPY_MODEL_0d83040495904c82b895a7860c681a9e",
       "value": "1"
      }
     },
     "4e9581007e1b4f72ad78495b96aca542": {
      "model_module": "@jupyter-widgets/controls",
      "model_module_version": "1.5.0",
      "model_name": "VBoxModel",
      "state": {
       "children": [
        "IPY_MODEL_90ecb3e5f2764095b9b7407a856e1eb8",
        "IPY_MODEL_44af4010d6aa472e838322c2febe4b6f"
       ],
       "layout": "IPY_MODEL_f6e9b4b5cf9143799cf471ac5da56fa8"
      }
     },
     "4ecaa8b7683a40939c401081bd7ed430": {
      "model_module": "@jupyter-widgets/controls",
      "model_module_version": "1.5.0",
      "model_name": "DescriptionStyleModel",
      "state": {
       "description_width": ""
      }
     },
     "4ef623a9da6b40a9b94c546346a6ed78": {
      "model_module": "@jupyter-widgets/base",
      "model_module_version": "1.2.0",
      "model_name": "LayoutModel",
      "state": {}
     },
     "4f18eac6d3c84c75aeff7351c5a190e5": {
      "model_module": "@jupyter-widgets/controls",
      "model_module_version": "1.5.0",
      "model_name": "ButtonStyleModel",
      "state": {}
     },
     "4f3e3089214d4e4e963b999a73bfa7b5": {
      "model_module": "@jupyter-widgets/controls",
      "model_module_version": "1.5.0",
      "model_name": "DescriptionStyleModel",
      "state": {
       "description_width": ""
      }
     },
     "4f403739e8f04573a529c763391ab7ce": {
      "model_module": "@jupyter-widgets/base",
      "model_module_version": "1.2.0",
      "model_name": "LayoutModel",
      "state": {
       "width": "150px"
      }
     },
     "4f416a3d724d447d9eef5e13bd551213": {
      "model_module": "@jupyter-widgets/controls",
      "model_module_version": "1.5.0",
      "model_name": "DescriptionStyleModel",
      "state": {
       "description_width": ""
      }
     },
     "4f503c1a743d448384680b86b903ba18": {
      "model_module": "@jupyter-widgets/controls",
      "model_module_version": "1.5.0",
      "model_name": "VBoxModel",
      "state": {
       "children": [
        "IPY_MODEL_6ac2e135b3c440779a191dea6e79367c",
        "IPY_MODEL_61f4337f297a4488a7258e4d26bfb63b"
       ],
       "layout": "IPY_MODEL_94466750ff064aee938c50134b4abd9b"
      }
     },
     "4f53076e24624573b82bfef6a40807c4": {
      "model_module": "@jupyter-widgets/base",
      "model_module_version": "1.2.0",
      "model_name": "LayoutModel",
      "state": {
       "width": "150px"
      }
     },
     "4f6fbde9d12749639703a02793d24d4a": {
      "model_module": "@jupyter-widgets/controls",
      "model_module_version": "1.5.0",
      "model_name": "TextModel",
      "state": {
       "layout": "IPY_MODEL_47a60aa1cf3045f2a536b06edf49c5ea",
       "style": "IPY_MODEL_adfe9b7cbe7e48cd9e3ef644043fa7a8",
       "value": "-1"
      }
     },
     "4f8dfc5fbcb449df8976d17f4caecaac": {
      "model_module": "@jupyter-widgets/controls",
      "model_module_version": "1.5.0",
      "model_name": "TextModel",
      "state": {
       "layout": "IPY_MODEL_7a607c89a00143a7a0808c95689bf41a",
       "style": "IPY_MODEL_03d1158065b645c89bf19acd9fb7023e",
       "value": "2"
      }
     },
     "4f973246ea6445bc90fa8e1e21e01df3": {
      "model_module": "@jupyter-widgets/controls",
      "model_module_version": "1.5.0",
      "model_name": "TextModel",
      "state": {
       "layout": "IPY_MODEL_fc4b7699475642ecb4c02ebf24f1e6a2",
       "style": "IPY_MODEL_cec2cddf2921480d825a0d51eb7cb6e4",
       "value": "-1"
      }
     },
     "4fe85e2e9fe44935918d987dd3b640c9": {
      "model_module": "@jupyter-widgets/base",
      "model_module_version": "1.2.0",
      "model_name": "LayoutModel",
      "state": {
       "width": "90px"
      }
     },
     "4febef15e12744e0bb60ad80caeab455": {
      "model_module": "@jupyter-widgets/controls",
      "model_module_version": "1.5.0",
      "model_name": "HTMLModel",
      "state": {
       "layout": "IPY_MODEL_d6681414000d4325912639ed0d21f09f",
       "style": "IPY_MODEL_fd49711376e94d27a206afe8658120fe",
       "value": "Click this button to start the calculator"
      }
     },
     "4fee6ca95fdf446f8183537c8640bb94": {
      "model_module": "@jupyter-widgets/controls",
      "model_module_version": "1.5.0",
      "model_name": "VBoxModel",
      "state": {
       "children": [
        "IPY_MODEL_f84e0bf31aec4daeba4d355b59768519",
        "IPY_MODEL_d9d715ad2ebb4fd793635dffa6b6c961",
        "IPY_MODEL_e4ecb2b0a09f46b6a2031fa13d009cff"
       ],
       "layout": "IPY_MODEL_8f6a5438770b440e951f03476a132578"
      }
     },
     "4ffe004dd0ae47429fdcd5403a84671a": {
      "model_module": "@jupyter-widgets/base",
      "model_module_version": "1.2.0",
      "model_name": "LayoutModel",
      "state": {}
     },
     "4fffdef6fcb9425eaf2e56e43ec61679": {
      "model_module": "@jupyter-widgets/controls",
      "model_module_version": "1.5.0",
      "model_name": "DescriptionStyleModel",
      "state": {
       "description_width": ""
      }
     },
     "5019ed0555bf4e8c86125aebe33e0c75": {
      "model_module": "@jupyter-widgets/controls",
      "model_module_version": "1.5.0",
      "model_name": "ButtonStyleModel",
      "state": {}
     },
     "505394b5f5384a479a0e01fade47768e": {
      "model_module": "@jupyter-widgets/controls",
      "model_module_version": "1.5.0",
      "model_name": "DropdownModel",
      "state": {
       "_options_labels": [
        "1",
        "2",
        "3"
       ],
       "description": "and row",
       "index": 2,
       "layout": "IPY_MODEL_21af9118e00348b183154456a4eec555",
       "style": "IPY_MODEL_ca518a6ff3ae492fbe84a5fb89d839f4"
      }
     },
     "5053ce12c01d45709ae2fb3e904a62b9": {
      "model_module": "@jupyter-widgets/base",
      "model_module_version": "1.2.0",
      "model_name": "LayoutModel",
      "state": {
       "flex_flow": "row wrap",
       "justify_content": "space-around"
      }
     },
     "505cdfd500cc43799bdcd58c1bf4f1e1": {
      "model_module": "@jupyter-widgets/controls",
      "model_module_version": "1.5.0",
      "model_name": "VBoxModel",
      "state": {
       "children": [
        "IPY_MODEL_5777428793db424d9a16c5d422b9d097",
        "IPY_MODEL_e893495e047041519f8af131231cc353"
       ],
       "layout": "IPY_MODEL_56bb15a5bd214d7280f67e662022361f"
      }
     },
     "50708f463b31415cbed627ccc99d9718": {
      "model_module": "@jupyter-widgets/base",
      "model_module_version": "1.2.0",
      "model_name": "LayoutModel",
      "state": {
       "flex_flow": "row wrap",
       "justify_content": "space-around"
      }
     },
     "50932b40c2994d219598f2fb5b8f0889": {
      "model_module": "@jupyter-widgets/base",
      "model_module_version": "1.2.0",
      "model_name": "LayoutModel",
      "state": {}
     },
     "5095dc86fc3b46ae83d5f4a653ece073": {
      "model_module": "@jupyter-widgets/controls",
      "model_module_version": "1.5.0",
      "model_name": "VBoxModel",
      "state": {
       "children": [
        "IPY_MODEL_5acfcbb8aa8040d5aa30726db90d9960",
        "IPY_MODEL_474a77088cce4728a6174e0029d57a5c"
       ],
       "layout": "IPY_MODEL_d38f7da0c63b498081f82b3bd6818b43"
      }
     },
     "509d1591fb0745df949d7d0709f4b6f2": {
      "model_module": "@jupyter-widgets/controls",
      "model_module_version": "1.5.0",
      "model_name": "DescriptionStyleModel",
      "state": {
       "description_width": ""
      }
     },
     "50a69e84f0dd4e02a3846e3584324659": {
      "model_module": "@jupyter-widgets/base",
      "model_module_version": "1.2.0",
      "model_name": "LayoutModel",
      "state": {}
     },
     "50e38bc99cac4f6eaa8958e35e9e66a1": {
      "model_module": "@jupyter-widgets/base",
      "model_module_version": "1.2.0",
      "model_name": "LayoutModel",
      "state": {
       "width": "120px"
      }
     },
     "50e52a33327146348c5fab7b8e93d09a": {
      "model_module": "@jupyter-widgets/controls",
      "model_module_version": "1.5.0",
      "model_name": "DescriptionStyleModel",
      "state": {
       "description_width": ""
      }
     },
     "51083d56560b41049042230c8f7764f8": {
      "model_module": "@jupyter-widgets/controls",
      "model_module_version": "1.5.0",
      "model_name": "TextModel",
      "state": {
       "layout": "IPY_MODEL_1ceaf9c9ac774ae985cae0c34af76539",
       "style": "IPY_MODEL_69b47da00a6049f0ac7a28b2b6b79d44",
       "value": "2"
      }
     },
     "513e85f611fa48a79d055de88f56d3fa": {
      "model_module": "@jupyter-widgets/base",
      "model_module_version": "1.2.0",
      "model_name": "LayoutModel",
      "state": {
       "flex_flow": "row wrap",
       "justify_content": "space-around"
      }
     },
     "516962bd8d264667bc70b4b61be7e327": {
      "model_module": "@jupyter-widgets/controls",
      "model_module_version": "1.5.0",
      "model_name": "TextModel",
      "state": {
       "layout": "IPY_MODEL_239bec109578490f9329cf0477e25967",
       "style": "IPY_MODEL_e590e70d2e654827a1a13fe7c4e9eeac",
       "value": "2"
      }
     },
     "51808ea1109a4ef2a77264375423d651": {
      "model_module": "@jupyter-widgets/controls",
      "model_module_version": "1.5.0",
      "model_name": "DescriptionStyleModel",
      "state": {
       "description_width": ""
      }
     },
     "51954ceaabf0413083150223a6633b0b": {
      "model_module": "@jupyter-widgets/base",
      "model_module_version": "1.2.0",
      "model_name": "LayoutModel",
      "state": {
       "width": "150px"
      }
     },
     "51c1ffe48e334f30aa4a9a9eb7f15112": {
      "model_module": "@jupyter-widgets/controls",
      "model_module_version": "1.5.0",
      "model_name": "HBoxModel",
      "state": {
       "children": [
        "IPY_MODEL_04d25003413f4f508e0f29e3e6337f09",
        "IPY_MODEL_8bfa437597724a95ba309f1f8092ee72",
        "IPY_MODEL_51083d56560b41049042230c8f7764f8"
       ],
       "layout": "IPY_MODEL_95f4ff13162042cf8a405bff2dba842c"
      }
     },
     "51db859a846d4bdea6e95da5919da6dd": {
      "model_module": "@jupyter-widgets/base",
      "model_module_version": "1.2.0",
      "model_name": "LayoutModel",
      "state": {}
     },
     "51e6cbbeeec1428d829c483b0a32442a": {
      "model_module": "@jupyter-widgets/controls",
      "model_module_version": "1.5.0",
      "model_name": "DropdownModel",
      "state": {
       "_options_labels": [
        "1",
        "2",
        "3"
       ],
       "description": "and row",
       "index": 1,
       "layout": "IPY_MODEL_124a684d9f2c49afac32c936b687984c",
       "style": "IPY_MODEL_3225d56c13224b2f91875047c725e5fa"
      }
     },
     "51efdd5f1d144807a20dd483e9c25a58": {
      "model_module": "@jupyter-widgets/controls",
      "model_module_version": "1.5.0",
      "model_name": "HTMLMathModel",
      "state": {
       "layout": "IPY_MODEL_b83fd4ae545a4265809440b66acf2ecb",
       "style": "IPY_MODEL_010d4e71670e454f8ccb68d6704e79f5",
       "value": "The augmented matrix is:\n \n    $$\n    \\left[ \\begin{array}{rrr|r}\n        2/3 & -6 & 1 & 7\\\\\n        1 & 2 & -1 & -1\\\\\n        5 & 7 & -4 & 9\n    \\end{array} \\right]\n    $$\n    "
      }
     },
     "5214914e961d41cd8850423bb107a7c7": {
      "model_module": "@jupyter-widgets/base",
      "model_module_version": "1.2.0",
      "model_name": "LayoutModel",
      "state": {}
     },
     "522206124bee4f8db427068f58b5a267": {
      "model_module": "@jupyter-widgets/controls",
      "model_module_version": "1.5.0",
      "model_name": "DescriptionStyleModel",
      "state": {
       "description_width": ""
      }
     },
     "52466bf230334ac2bc3149fb7cc526cc": {
      "model_module": "@jupyter-widgets/base",
      "model_module_version": "1.2.0",
      "model_name": "LayoutModel",
      "state": {}
     },
     "525dbddc956b4309b8b15b567944b082": {
      "model_module": "@jupyter-widgets/base",
      "model_module_version": "1.2.0",
      "model_name": "LayoutModel",
      "state": {
       "width": "150px"
      }
     },
     "52692f3e950e4d2a9bc33bd2c9c52ec1": {
      "model_module": "@jupyter-widgets/controls",
      "model_module_version": "1.5.0",
      "model_name": "TextModel",
      "state": {
       "layout": "IPY_MODEL_f28c3c7f5ced4384b8a9eca6bc4c00fd",
       "style": "IPY_MODEL_3ff1dcae763c45de9639835e3e9e93ca",
       "value": "-4"
      }
     },
     "527bb8380c37401087bcd28e94711a8c": {
      "model_module": "@jupyter-widgets/base",
      "model_module_version": "1.2.0",
      "model_name": "LayoutModel",
      "state": {
       "justify_content": "space-between"
      }
     },
     "52906c233678465e94f4d012aaad1dd3": {
      "model_module": "@jupyter-widgets/controls",
      "model_module_version": "1.5.0",
      "model_name": "VBoxModel",
      "state": {
       "children": [
        "IPY_MODEL_042be99070704eabb20a9fed6d1e334a",
        "IPY_MODEL_958f02dc415f44f281f18e8bffd8015f"
       ],
       "layout": "IPY_MODEL_611b2deb7ac2421aa5568c6ebea9a354"
      }
     },
     "5294333dd5ae4663ae17edc4a35ae7e4": {
      "model_module": "@jupyter-widgets/controls",
      "model_module_version": "1.5.0",
      "model_name": "TextModel",
      "state": {
       "description": "times",
       "layout": "IPY_MODEL_deba24d331604f0cb92f56183a5fc945",
       "style": "IPY_MODEL_809020c3111848c3ae54e27303cec962",
       "value": "-2"
      }
     },
     "52e9e0e7fb2640309a96ac6a069cdc36": {
      "model_module": "@jupyter-widgets/controls",
      "model_module_version": "1.5.0",
      "model_name": "ButtonModel",
      "state": {
       "description": "Swap rows",
       "layout": "IPY_MODEL_b2d30656d4c84d42a12941f1022a15a5",
       "style": "IPY_MODEL_6286156f70f4419a962abb3cbdb3e749"
      }
     },
     "52f606d2574a4911a171797a185d8783": {
      "model_module": "@jupyter-widgets/base",
      "model_module_version": "1.2.0",
      "model_name": "LayoutModel",
      "state": {}
     },
     "5303cafc37eb4171956b0f4eff768217": {
      "model_module": "@jupyter-widgets/controls",
      "model_module_version": "1.5.0",
      "model_name": "TextModel",
      "state": {
       "layout": "IPY_MODEL_201e1a4ee32840b19f981690bdacf3ae",
       "style": "IPY_MODEL_c85a987b874c4c649cba6805255f9318",
       "value": "-4"
      }
     },
     "5320e07a6f3d4f92ad0ff46bc3d2315a": {
      "model_module": "@jupyter-widgets/base",
      "model_module_version": "1.2.0",
      "model_name": "LayoutModel",
      "state": {}
     },
     "53373de3990348cfba9f464571f56512": {
      "model_module": "@jupyter-widgets/base",
      "model_module_version": "1.2.0",
      "model_name": "LayoutModel",
      "state": {}
     },
     "53550936e5674e849d77a73776ce2af5": {
      "model_module": "@jupyter-widgets/controls",
      "model_module_version": "1.5.0",
      "model_name": "TextModel",
      "state": {
       "layout": "IPY_MODEL_47a60aa1cf3045f2a536b06edf49c5ea",
       "style": "IPY_MODEL_a80c4d1ad60d4d83b0f7acafdb185167",
       "value": "5"
      }
     },
     "536bcf5227d541488ef7a2836598e100": {
      "model_module": "@jupyter-widgets/controls",
      "model_module_version": "1.5.0",
      "model_name": "HBoxModel",
      "state": {
       "children": [
        "IPY_MODEL_0ae30b94945943ce913c6650354b1664",
        "IPY_MODEL_6f1ef0db4d3b4495a07e2c721323ef96"
       ],
       "layout": "IPY_MODEL_9ebe97876dab484ebcd1d7bc28d53f65"
      }
     },
     "537394e3a42f4e189c8560c8ccdda6ba": {
      "model_module": "@jupyter-widgets/controls",
      "model_module_version": "1.5.0",
      "model_name": "TextModel",
      "state": {
       "layout": "IPY_MODEL_f28c3c7f5ced4384b8a9eca6bc4c00fd",
       "style": "IPY_MODEL_42b941b1b02a4dd8816ba0af704a022b",
       "value": "7"
      }
     },
     "537f76367e284f45a70e06e3c8433716": {
      "model_module": "@jupyter-widgets/controls",
      "model_module_version": "1.5.0",
      "model_name": "TextModel",
      "state": {
       "description": "times",
       "layout": "IPY_MODEL_175a4ea0951a42aba45be01648f408c6",
       "style": "IPY_MODEL_dcf37afe3f2a45d198e9bb0d0118f0e7",
       "value": "-5"
      }
     },
     "53882676a31b48e69adc3870e996b7d7": {
      "model_module": "@jupyter-widgets/controls",
      "model_module_version": "1.5.0",
      "model_name": "HTMLMathModel",
      "state": {
       "layout": "IPY_MODEL_b0b37cbad4314c71ac6d9ffbb15fcf0a",
       "style": "IPY_MODEL_ac3bc8e3641e46d4adced4a17ea7c65a",
       "value": "Enter here the values of the matrix $A$"
      }
     },
     "53b6f3d32824469a899776b3ac2e5018": {
      "model_module": "@jupyter-widgets/controls",
      "model_module_version": "1.5.0",
      "model_name": "DescriptionStyleModel",
      "state": {
       "description_width": ""
      }
     },
     "53bdff4cdba241c6b23c2708198aaaaa": {
      "model_module": "@jupyter-widgets/controls",
      "model_module_version": "1.5.0",
      "model_name": "DescriptionStyleModel",
      "state": {
       "description_width": ""
      }
     },
     "5432b236fd4742429f05235d2ed230b9": {
      "model_module": "@jupyter-widgets/base",
      "model_module_version": "1.2.0",
      "model_name": "LayoutModel",
      "state": {
       "width": "90px"
      }
     },
     "54347aac6fa74fe1bd3eb1454197e6bd": {
      "model_module": "@jupyter-widgets/base",
      "model_module_version": "1.2.0",
      "model_name": "LayoutModel",
      "state": {
       "width": "150px"
      }
     },
     "54441dc8a73d4a059a82d04dd09c2e9a": {
      "model_module": "@jupyter-widgets/controls",
      "model_module_version": "1.5.0",
      "model_name": "DescriptionStyleModel",
      "state": {
       "description_width": ""
      }
     },
     "547c854d26234f9abbd1f4f15818cdb1": {
      "model_module": "@jupyter-widgets/base",
      "model_module_version": "1.2.0",
      "model_name": "LayoutModel",
      "state": {
       "justify_content": "space-between"
      }
     },
     "54d5df0f5d554248b16acc189cfeb362": {
      "model_module": "@jupyter-widgets/controls",
      "model_module_version": "1.5.0",
      "model_name": "TextModel",
      "state": {
       "layout": "IPY_MODEL_fc4b7699475642ecb4c02ebf24f1e6a2",
       "style": "IPY_MODEL_ab387945260047829f07714686b7f4e8",
       "value": "1"
      }
     },
     "55259ab1568b4f4db2a5b38a443d0108": {
      "model_module": "@jupyter-widgets/controls",
      "model_module_version": "1.5.0",
      "model_name": "DescriptionStyleModel",
      "state": {
       "description_width": ""
      }
     },
     "553ad84d1f18481bbf67af2505bf4a3d": {
      "model_module": "@jupyter-widgets/controls",
      "model_module_version": "1.5.0",
      "model_name": "DescriptionStyleModel",
      "state": {
       "description_width": ""
      }
     },
     "55414b87723a4ea9a40c59e3d27932f2": {
      "model_module": "@jupyter-widgets/controls",
      "model_module_version": "1.5.0",
      "model_name": "TextModel",
      "state": {
       "layout": "IPY_MODEL_47a60aa1cf3045f2a536b06edf49c5ea",
       "style": "IPY_MODEL_93f0d1409c7a4102bf9dccea0a49cbdd",
       "value": "1"
      }
     },
     "5550e816d068429987ba6ca55c1a7e8c": {
      "model_module": "@jupyter-widgets/controls",
      "model_module_version": "1.5.0",
      "model_name": "TextModel",
      "state": {
       "layout": "IPY_MODEL_ff8f131091ed4bf49b858ed52bc5b3ea",
       "style": "IPY_MODEL_580043c44b9b485faafb02bfea3de182",
       "value": "-1"
      }
     },
     "55613864bf2b49b6808a5965f523fee9": {
      "model_module": "@jupyter-widgets/base",
      "model_module_version": "1.2.0",
      "model_name": "LayoutModel",
      "state": {}
     },
     "5562803f777f4220922e115d4f04d27c": {
      "model_module": "@jupyter-widgets/controls",
      "model_module_version": "1.5.0",
      "model_name": "DescriptionStyleModel",
      "state": {
       "description_width": ""
      }
     },
     "556375f056dd41bcb87fa2b811349dc5": {
      "model_module": "@jupyter-widgets/controls",
      "model_module_version": "1.5.0",
      "model_name": "DescriptionStyleModel",
      "state": {
       "description_width": ""
      }
     },
     "55678c21de30453ca64ece6dd2f13011": {
      "model_module": "@jupyter-widgets/base",
      "model_module_version": "1.2.0",
      "model_name": "LayoutModel",
      "state": {}
     },
     "5568816a1cca42f58508e83235d89f1e": {
      "model_module": "@jupyter-widgets/base",
      "model_module_version": "1.2.0",
      "model_name": "LayoutModel",
      "state": {
       "height": "35px",
       "width": "30px"
      }
     },
     "556b9ac4710749dda073434a2562b4df": {
      "model_module": "@jupyter-widgets/controls",
      "model_module_version": "1.5.0",
      "model_name": "HTMLModel",
      "state": {
       "layout": "IPY_MODEL_e3b0043337d84f57a4b94b298fdb01aa",
       "style": "IPY_MODEL_c0cc098bac7549dcbc8671cc9a2cae55",
       "value": "Click this button to start the calculator"
      }
     },
     "558283ed6ad54b00920c3b7ee41643b9": {
      "model_module": "@jupyter-widgets/controls",
      "model_module_version": "1.5.0",
      "model_name": "VBoxModel",
      "state": {
       "children": [
        "IPY_MODEL_aa3d1b35af034af993be349218493de3",
        "IPY_MODEL_39a045d69ca94ba4a93eb39f9268a0fa",
        "IPY_MODEL_39f1be3210e843abaab2be0b7951763a"
       ],
       "layout": "IPY_MODEL_4be901e7e78a426fb917aee1c9e4548a"
      }
     },
     "55a53b19623e4d88b3affeed9247b071": {
      "model_module": "@jupyter-widgets/base",
      "model_module_version": "1.2.0",
      "model_name": "LayoutModel",
      "state": {
       "width": "90px"
      }
     },
     "55ceb80c9f104e7d962a5dd621a200ed": {
      "model_module": "@jupyter-widgets/controls",
      "model_module_version": "1.5.0",
      "model_name": "DescriptionStyleModel",
      "state": {
       "description_width": ""
      }
     },
     "560201dadbe84e5dbbf4a2f4cb93c76f": {
      "model_module": "@jupyter-widgets/controls",
      "model_module_version": "1.5.0",
      "model_name": "DescriptionStyleModel",
      "state": {
       "description_width": ""
      }
     },
     "561bd46bb4074d7cae746a4914f28c9b": {
      "model_module": "@jupyter-widgets/controls",
      "model_module_version": "1.5.0",
      "model_name": "HTMLMathModel",
      "state": {
       "layout": "IPY_MODEL_396dc6abaac24db2b18d24ed41b40490",
       "style": "IPY_MODEL_fdace73915244554b6291e49f09ec7f4",
       "value": "$$ \n    \\left[ \\begin{array}{rrr|r}\n        1 & 2 & 0 & 112\\\\\n        0 & 1 & 0 & 33\\\\\n        0 & 0 & 1 & 113\n    \\end{array} \\right]\n    \\stackrel{ -2 \\, R_2 + R_1 }{\\Rightarrow} \n    \\left[ \\begin{array}{rrr|r}\n        1 & 0 & 0 & 46\\\\\n        0 & 1 & 0 & 33\\\\\n        0 & 0 & 1 & 113\n    \\end{array} \\right]\n    $$"
      }
     },
     "56205f294daa479fb497538e8ed67531": {
      "model_module": "@jupyter-widgets/base",
      "model_module_version": "1.2.0",
      "model_name": "LayoutModel",
      "state": {}
     },
     "563d566cffc449619e6778b5aa4a3369": {
      "model_module": "@jupyter-widgets/controls",
      "model_module_version": "1.5.0",
      "model_name": "DescriptionStyleModel",
      "state": {
       "description_width": ""
      }
     },
     "56439ffcae5540438700e3133c8c5cb7": {
      "model_module": "@jupyter-widgets/controls",
      "model_module_version": "1.5.0",
      "model_name": "ButtonModel",
      "state": {
       "description": "Multiply row",
       "layout": "IPY_MODEL_1b4d08b4c0d64dd0bd8828b69e5609a7",
       "style": "IPY_MODEL_ec9cffad8f6f4b29ba6731cf1c684fa1"
      }
     },
     "56484d1dd0bf490f980cd60d6a458373": {
      "model_module": "@jupyter-widgets/controls",
      "model_module_version": "1.5.0",
      "model_name": "DescriptionStyleModel",
      "state": {
       "description_width": ""
      }
     },
     "56588b94a7b544949832cdad083ac66f": {
      "model_module": "@jupyter-widgets/controls",
      "model_module_version": "1.5.0",
      "model_name": "HBoxModel",
      "state": {
       "children": [
        "IPY_MODEL_a266c8b6128642d9904d79ba7be8a9d1",
        "IPY_MODEL_b6c88ee779944499829f6d6f352b0e65",
        "IPY_MODEL_968c59e906ae4323acc26bacb63baf83"
       ],
       "layout": "IPY_MODEL_49f833aec50049728347b67ead722224"
      }
     },
     "5679cefc4f6f40ddaae90cd22339c354": {
      "model_module": "@jupyter-widgets/controls",
      "model_module_version": "1.5.0",
      "model_name": "DescriptionStyleModel",
      "state": {
       "description_width": ""
      }
     },
     "567ca486007d4b28a2508a9f4a504dfc": {
      "model_module": "@jupyter-widgets/controls",
      "model_module_version": "1.5.0",
      "model_name": "TextModel",
      "state": {
       "layout": "IPY_MODEL_5a0c24727aa941b48d996c0a1f0c2bf8",
       "style": "IPY_MODEL_95e89f6314944daa9a3b52d3a6f61e85",
       "value": "1"
      }
     },
     "567d1ad56ef245ab814ee2cdad898117": {
      "model_module": "@jupyter-widgets/base",
      "model_module_version": "1.2.0",
      "model_name": "LayoutModel",
      "state": {}
     },
     "5683ce8eeb4e4b4dab70df356784fce9": {
      "model_module": "@jupyter-widgets/base",
      "model_module_version": "1.2.0",
      "model_name": "LayoutModel",
      "state": {}
     },
     "56b063aa808a4e4288063755efeae76e": {
      "model_module": "@jupyter-widgets/controls",
      "model_module_version": "1.5.0",
      "model_name": "DescriptionStyleModel",
      "state": {
       "description_width": ""
      }
     },
     "56bb15a5bd214d7280f67e662022361f": {
      "model_module": "@jupyter-widgets/base",
      "model_module_version": "1.2.0",
      "model_name": "LayoutModel",
      "state": {}
     },
     "56d72c9b3bfa46ada38df1859311fb05": {
      "model_module": "@jupyter-widgets/base",
      "model_module_version": "1.2.0",
      "model_name": "LayoutModel",
      "state": {
       "justify_content": "center"
      }
     },
     "56ef320d3b87465890320dcfe92d0eab": {
      "model_module": "@jupyter-widgets/base",
      "model_module_version": "1.2.0",
      "model_name": "LayoutModel",
      "state": {}
     },
     "571a0e9e17e149d9be515e7ac7cd9e07": {
      "model_module": "@jupyter-widgets/base",
      "model_module_version": "1.2.0",
      "model_name": "LayoutModel",
      "state": {
       "width": "100px"
      }
     },
     "5725ed9360854e5d88d72a355bd35f9c": {
      "model_module": "@jupyter-widgets/controls",
      "model_module_version": "1.5.0",
      "model_name": "DescriptionStyleModel",
      "state": {
       "description_width": ""
      }
     },
     "57397c7c5ac141ba824274924ca08e4f": {
      "model_module": "@jupyter-widgets/controls",
      "model_module_version": "1.5.0",
      "model_name": "ButtonModel",
      "state": {
       "description": "Multiply row",
       "layout": "IPY_MODEL_01f60b50456842338d9bd70edcfefa39",
       "style": "IPY_MODEL_3108d4484645481b87f74a54bed4cfa8"
      }
     },
     "57402a2d9d3d495b9627d59c87363c23": {
      "model_module": "@jupyter-widgets/base",
      "model_module_version": "1.2.0",
      "model_name": "LayoutModel",
      "state": {
       "width": "100px"
      }
     },
     "575f937f908949548c510205936ca7e8": {
      "model_module": "@jupyter-widgets/controls",
      "model_module_version": "1.5.0",
      "model_name": "DescriptionStyleModel",
      "state": {
       "description_width": ""
      }
     },
     "5762a68b234f4675ba3dbffc8cb92bfe": {
      "model_module": "@jupyter-widgets/controls",
      "model_module_version": "1.5.0",
      "model_name": "DescriptionStyleModel",
      "state": {
       "description_width": ""
      }
     },
     "57636afa71ac47b69928ac189dab6828": {
      "model_module": "@jupyter-widgets/controls",
      "model_module_version": "1.5.0",
      "model_name": "DescriptionStyleModel",
      "state": {
       "description_width": ""
      }
     },
     "5777428793db424d9a16c5d422b9d097": {
      "model_module": "@jupyter-widgets/controls",
      "model_module_version": "1.5.0",
      "model_name": "DropdownModel",
      "state": {
       "_options_labels": [
        "1",
        "2",
        "3"
       ],
       "description": "to row",
       "index": 2,
       "layout": "IPY_MODEL_e76b955a198f4114aa18ab9a24ce63af",
       "style": "IPY_MODEL_cf37401a5bed4476816701de2172693d"
      }
     },
     "577b97fa2660405eb8fd9db452a0bc73": {
      "model_module": "@jupyter-widgets/controls",
      "model_module_version": "1.5.0",
      "model_name": "ButtonStyleModel",
      "state": {}
     },
     "578d4a1004ae47acafce98dda5900f60": {
      "model_module": "@jupyter-widgets/controls",
      "model_module_version": "1.5.0",
      "model_name": "DescriptionStyleModel",
      "state": {
       "description_width": ""
      }
     },
     "57c9287ea21844059f0111d9661b2beb": {
      "model_module": "@jupyter-widgets/base",
      "model_module_version": "1.2.0",
      "model_name": "LayoutModel",
      "state": {}
     },
     "57eb86a15fec4b6499b13b7e6fc194ba": {
      "model_module": "@jupyter-widgets/controls",
      "model_module_version": "1.5.0",
      "model_name": "HBoxModel",
      "state": {
       "children": [
        "IPY_MODEL_8634c947b9a049c9ac664c0444c94e48",
        "IPY_MODEL_18ec50b8b9c44eaf92b6b1fb66d7aa90",
        "IPY_MODEL_be356a7292af445c92c5bfbd147f4f70"
       ],
       "layout": "IPY_MODEL_5f6679627e48473fb736ece27560a4a6"
      }
     },
     "57ee74bafbd04f1d9c19237ad36e05bd": {
      "model_module": "@jupyter-widgets/controls",
      "model_module_version": "1.5.0",
      "model_name": "ButtonModel",
      "state": {
       "description": "Start",
       "layout": "IPY_MODEL_02471de07c2349929fc80653ca623e0d",
       "style": "IPY_MODEL_1f13011daa7041179a9973dd0265ea53"
      }
     },
     "57f37a482b9b4212a5d2ed4a2eec7123": {
      "model_module": "@jupyter-widgets/controls",
      "model_module_version": "1.5.0",
      "model_name": "DescriptionStyleModel",
      "state": {
       "description_width": ""
      }
     },
     "580043c44b9b485faafb02bfea3de182": {
      "model_module": "@jupyter-widgets/controls",
      "model_module_version": "1.5.0",
      "model_name": "DescriptionStyleModel",
      "state": {
       "description_width": ""
      }
     },
     "580597e7aa9344b0a1de196dd77cefe1": {
      "model_module": "@jupyter-widgets/base",
      "model_module_version": "1.2.0",
      "model_name": "LayoutModel",
      "state": {
       "width": "100px"
      }
     },
     "580d13390c1f455fa295ac08753af4c4": {
      "model_module": "@jupyter-widgets/controls",
      "model_module_version": "1.5.0",
      "model_name": "TextModel",
      "state": {
       "layout": "IPY_MODEL_109f6d462a004bdd9a95542348d778f8",
       "style": "IPY_MODEL_28ceea5bd3b94a2882c848e4c9d38095",
       "value": "4"
      }
     },
     "5822cb27926a4b96943dac8c282264cb": {
      "model_module": "@jupyter-widgets/base",
      "model_module_version": "1.2.0",
      "model_name": "LayoutModel",
      "state": {
       "flex_flow": "row wrap",
       "justify_content": "space-around"
      }
     },
     "58327644063c40c8a4e4c056c7d83d33": {
      "model_module": "@jupyter-widgets/controls",
      "model_module_version": "1.5.0",
      "model_name": "DropdownModel",
      "state": {
       "_options_labels": [
        "1",
        "2",
        "3"
       ],
       "description": "Swap row",
       "index": 0,
       "layout": "IPY_MODEL_6f0914de525c4c3b877f1e3a15942a47",
       "style": "IPY_MODEL_1d8264c48c00424d812edd4e34858736"
      }
     },
     "58349022765c4e9d9e1dc50abe4323b9": {
      "model_module": "@jupyter-widgets/controls",
      "model_module_version": "1.5.0",
      "model_name": "DescriptionStyleModel",
      "state": {
       "description_width": ""
      }
     },
     "586173b69cb3439b91c31d14d893a954": {
      "model_module": "@jupyter-widgets/controls",
      "model_module_version": "1.5.0",
      "model_name": "HBoxModel",
      "state": {
       "children": [
        "IPY_MODEL_af7477456c33456ca54767e20fa33876",
        "IPY_MODEL_12932f2c8c3d4eeb95088967ccdb0d22",
        "IPY_MODEL_335f4ecb0d434d8c8404200f239f73da"
       ],
       "layout": "IPY_MODEL_7f3e3690462d4f2893902f9b16156a3d"
      }
     },
     "58a762b6c031406689088f17ea2fd5f1": {
      "model_module": "@jupyter-widgets/controls",
      "model_module_version": "1.5.0",
      "model_name": "TextModel",
      "state": {
       "layout": "IPY_MODEL_36d600bb3cb144de8da56ca358490108",
       "style": "IPY_MODEL_e9ae95f526f746bfb2c77cfb9460ccbd",
       "value": "1"
      }
     },
     "58db598281744b48861f51a55f37fb3e": {
      "model_module": "@jupyter-widgets/controls",
      "model_module_version": "1.5.0",
      "model_name": "ButtonModel",
      "state": {
       "description": "Start",
       "layout": "IPY_MODEL_17b944bd4f7d4fa28d86e6943cfe919f",
       "style": "IPY_MODEL_667fb845c7384732a48d73dae624f8c7"
      }
     },
     "58f53823b3a5433cbcb57c2974e9458e": {
      "model_module": "@jupyter-widgets/controls",
      "model_module_version": "1.5.0",
      "model_name": "TextModel",
      "state": {
       "layout": "IPY_MODEL_201e1a4ee32840b19f981690bdacf3ae",
       "style": "IPY_MODEL_ecc7c416e4554d67824e1735f8adf8ed",
       "value": "1"
      }
     },
     "590bd867545e4f828a33d836914d9331": {
      "model_module": "@jupyter-widgets/controls",
      "model_module_version": "1.5.0",
      "model_name": "TextModel",
      "state": {
       "layout": "IPY_MODEL_250753b918e0432c803452a019d33c5c",
       "style": "IPY_MODEL_5d74c7d8c17044408b6d45afbc37671a",
       "value": "1"
      }
     },
     "595a8aad58a74a0fb8f37456bb3df3be": {
      "model_module": "@jupyter-widgets/controls",
      "model_module_version": "1.5.0",
      "model_name": "DropdownModel",
      "state": {
       "_options_labels": [
        "1",
        "2",
        "3"
       ],
       "description": "to row",
       "index": 1,
       "layout": "IPY_MODEL_f03fa4c9dee14dcc8e169086e9dee2f3",
       "style": "IPY_MODEL_a1a5cc0f5ce34594a74f39319208ef0b"
      }
     },
     "596c323d9ab54c17a2ee73511dda6fb2": {
      "model_module": "@jupyter-widgets/controls",
      "model_module_version": "1.5.0",
      "model_name": "DescriptionStyleModel",
      "state": {
       "description_width": ""
      }
     },
     "59a5ce918cb04f6e8196a4b81f302c2e": {
      "model_module": "@jupyter-widgets/controls",
      "model_module_version": "1.5.0",
      "model_name": "TextModel",
      "state": {
       "layout": "IPY_MODEL_65cb8db367e14667886b79ef97c800d1",
       "style": "IPY_MODEL_8e3fab4c84364ff1962b50b3c24ccab1",
       "value": "1"
      }
     },
     "59aaf93ad5e74f89a9d1684f22b39b30": {
      "model_module": "@jupyter-widgets/controls",
      "model_module_version": "1.5.0",
      "model_name": "TextModel",
      "state": {
       "layout": "IPY_MODEL_1ceaf9c9ac774ae985cae0c34af76539",
       "style": "IPY_MODEL_0e8779d387d345ce83061d7884680c4b",
       "value": "2"
      }
     },
     "59e01ee30bab48ac981a3bae946b177c": {
      "model_module": "@jupyter-widgets/base",
      "model_module_version": "1.2.0",
      "model_name": "LayoutModel",
      "state": {}
     },
     "5a039a8077f2480db6f4d9e20fe8e0eb": {
      "model_module": "@jupyter-widgets/controls",
      "model_module_version": "1.5.0",
      "model_name": "DescriptionStyleModel",
      "state": {
       "description_width": ""
      }
     },
     "5a0c24727aa941b48d996c0a1f0c2bf8": {
      "model_module": "@jupyter-widgets/base",
      "model_module_version": "1.2.0",
      "model_name": "LayoutModel",
      "state": {
       "height": "35px",
       "width": "40px"
      }
     },
     "5a11092834df496393b9afbe3c0ca4ac": {
      "model_module": "@jupyter-widgets/controls",
      "model_module_version": "1.5.0",
      "model_name": "HTMLModel",
      "state": {
       "layout": "IPY_MODEL_05389552ca1e4815adafaa31d330760b",
       "style": "IPY_MODEL_cd2d9b2b81cb4a3690456ffa2f069854",
       "value": "Click this button to start the calculator"
      }
     },
     "5a195c0d1e70499e9aa83c3332dd719d": {
      "model_module": "@jupyter-widgets/base",
      "model_module_version": "1.2.0",
      "model_name": "LayoutModel",
      "state": {}
     },
     "5a1bb1869bd0497d8035a804a8a55899": {
      "model_module": "@jupyter-widgets/controls",
      "model_module_version": "1.5.0",
      "model_name": "DescriptionStyleModel",
      "state": {
       "description_width": ""
      }
     },
     "5a3bea2e9e01483281c1cf2d77667dac": {
      "model_module": "@jupyter-widgets/base",
      "model_module_version": "1.2.0",
      "model_name": "LayoutModel",
      "state": {}
     },
     "5a436bac695845b382ab0b67241af013": {
      "model_module": "@jupyter-widgets/controls",
      "model_module_version": "1.5.0",
      "model_name": "HBoxModel",
      "state": {
       "children": [
        "IPY_MODEL_b3ec3d14d67b48c49ab74ba484a8eedf",
        "IPY_MODEL_a7726ebb6b5b41fbb98a2d6a7b034797",
        "IPY_MODEL_6c93c05258ae4b1eb000aaee593b189f"
       ],
       "layout": "IPY_MODEL_78fae9695b084070b025ebe14d7a3e7a"
      }
     },
     "5a507ec33302402296f53fe711dc414a": {
      "model_module": "@jupyter-widgets/controls",
      "model_module_version": "1.5.0",
      "model_name": "ButtonModel",
      "state": {
       "description": "Swap rows",
       "layout": "IPY_MODEL_328b3676b5c24f18bc2e47ede2b4c473",
       "style": "IPY_MODEL_4d85738cd47e43c9ae256ff6df822fda"
      }
     },
     "5a730f4a86c04107be4ccc85c2b569a1": {
      "model_module": "@jupyter-widgets/base",
      "model_module_version": "1.2.0",
      "model_name": "LayoutModel",
      "state": {
       "width": "100px"
      }
     },
     "5a783098df544aadb5e3fe798c81dd23": {
      "model_module": "@jupyter-widgets/controls",
      "model_module_version": "1.5.0",
      "model_name": "ButtonModel",
      "state": {
       "description": "Add rows",
       "layout": "IPY_MODEL_6ac07e6bb81440f0901822fed29cb839",
       "style": "IPY_MODEL_a6d96b6539d140518c643ef7bbf40fb4"
      }
     },
     "5a821d7e577b42c8ae2d56a31fcfec77": {
      "model_module": "@jupyter-widgets/controls",
      "model_module_version": "1.5.0",
      "model_name": "HBoxModel",
      "state": {
       "children": [
        "IPY_MODEL_bff12ca03f2f477b8df56827cfc9aca5",
        "IPY_MODEL_75a8e3e75fce4f7fb2d20f102a46ef55",
        "IPY_MODEL_cab4d8d41bcd413f834122d156fa5bb2"
       ],
       "layout": "IPY_MODEL_1fe99bc6dcfd406ca5bab6bcbaae7054"
      }
     },
     "5a9cffcd628443abba4868bdc4e699b9": {
      "model_module": "@jupyter-widgets/controls",
      "model_module_version": "1.5.0",
      "model_name": "TextModel",
      "state": {
       "layout": "IPY_MODEL_a21d52801ae94e44813bb1c00d81c473",
       "style": "IPY_MODEL_395583456a3d413890d2f6dd4011787e",
       "value": "-1"
      }
     },
     "5aae81e3f8024790bf8f109c0f926404": {
      "model_module": "@jupyter-widgets/controls",
      "model_module_version": "1.5.0",
      "model_name": "HTMLMathModel",
      "state": {
       "layout": "IPY_MODEL_55a53b19623e4d88b3affeed9247b071",
       "style": "IPY_MODEL_da98e56535d741acbe0e00f49579d43f",
       "value": "Enter here the values of matrix $\\bf{A}$"
      }
     },
     "5ac478c19fcb4b9eb123e71c5cd00212": {
      "model_module": "@jupyter-widgets/base",
      "model_module_version": "1.2.0",
      "model_name": "LayoutModel",
      "state": {
       "flex_flow": "row wrap",
       "justify_content": "space-around"
      }
     },
     "5acfcbb8aa8040d5aa30726db90d9960": {
      "model_module": "@jupyter-widgets/controls",
      "model_module_version": "1.5.0",
      "model_name": "DropdownModel",
      "state": {
       "_options_labels": [
        "1",
        "2",
        "3"
       ],
       "description": "Add row",
       "index": 0,
       "layout": "IPY_MODEL_1054c6abba2642b0b73cf08f200b0bc0",
       "style": "IPY_MODEL_96970f00182e4615a05c9e1a6140a025"
      }
     },
     "5adf9d9f09334095abbdc828b00563b9": {
      "model_module": "@jupyter-widgets/controls",
      "model_module_version": "1.5.0",
      "model_name": "DescriptionStyleModel",
      "state": {
       "description_width": ""
      }
     },
     "5ae5dd2c957749cda43de6e4ca5a2a0a": {
      "model_module": "@jupyter-widgets/base",
      "model_module_version": "1.2.0",
      "model_name": "LayoutModel",
      "state": {}
     },
     "5af1cb40e94749c6ac2d36872f6049bc": {
      "model_module": "@jupyter-widgets/controls",
      "model_module_version": "1.5.0",
      "model_name": "VBoxModel",
      "state": {
       "children": [
        "IPY_MODEL_ad812977f3954f03b0e6f2a0082c7174",
        "IPY_MODEL_90929bf11a4442cc898f760df93a9f78",
        "IPY_MODEL_10f39bfa0f60430584dc4acf8d2f802c"
       ],
       "layout": "IPY_MODEL_78a9ad309e1742be9b3d04e2cb24c3b7"
      }
     },
     "5b1e7c265131415f898086815a21c655": {
      "model_module": "@jupyter-widgets/controls",
      "model_module_version": "1.5.0",
      "model_name": "TextModel",
      "state": {
       "layout": "IPY_MODEL_9a1e48de729e4abb89a3a19428a205a0",
       "style": "IPY_MODEL_2d73d1978456452db67373fc65eb3133",
       "value": "-1"
      }
     },
     "5b2b21137c8a40ca963b4b178d50b9e2": {
      "model_module": "@jupyter-widgets/controls",
      "model_module_version": "1.5.0",
      "model_name": "TextModel",
      "state": {
       "layout": "IPY_MODEL_d29f4c6323274c2ea715833a610068a5",
       "style": "IPY_MODEL_a85445def5ea42728df88b18fda59ee1",
       "value": "-1"
      }
     },
     "5b414281e78848ad91a594c1f31ed7ec": {
      "model_module": "@jupyter-widgets/controls",
      "model_module_version": "1.5.0",
      "model_name": "ButtonStyleModel",
      "state": {}
     },
     "5b9118f2352a44f5a322baae71489f99": {
      "model_module": "@jupyter-widgets/controls",
      "model_module_version": "1.5.0",
      "model_name": "ButtonModel",
      "state": {
       "description": "Start",
       "layout": "IPY_MODEL_bc5b8dfec5ea462e831759ae0fc061f2",
       "style": "IPY_MODEL_675276f03db74c9dbf15ae04dd05d784"
      }
     },
     "5c10a940ad234d5b8d8f26867d6e4d16": {
      "model_module": "@jupyter-widgets/controls",
      "model_module_version": "1.5.0",
      "model_name": "ButtonStyleModel",
      "state": {}
     },
     "5c41e05133a8474dbd879de17b0e9983": {
      "model_module": "@jupyter-widgets/controls",
      "model_module_version": "1.5.0",
      "model_name": "HBoxModel",
      "state": {
       "children": [
        "IPY_MODEL_4e4c740168f540b2868ec45051ec2f88",
        "IPY_MODEL_7f1d4d510410432daa6e38c2cd8e1842"
       ],
       "layout": "IPY_MODEL_8d4b50e567d94154af95f250ea6e41a5"
      }
     },
     "5c4a78959b5a44199492e0023e2984d0": {
      "model_module": "@jupyter-widgets/controls",
      "model_module_version": "1.5.0",
      "model_name": "VBoxModel",
      "state": {
       "children": [
        "IPY_MODEL_189c5ad6960b4474b3465723934b56e7",
        "IPY_MODEL_e2b5bccf4d37401299e69628102a7b7c",
        "IPY_MODEL_2bc7b8f7653b48b6bfbf9beb8e41bdaa"
       ],
       "layout": "IPY_MODEL_2941da78a3234d6e8187141eb0f90fcd"
      }
     },
     "5c668c713e554d97af8e3fa4fe1cd0ee": {
      "model_module": "@jupyter-widgets/base",
      "model_module_version": "1.2.0",
      "model_name": "LayoutModel",
      "state": {
       "justify_content": "space-between"
      }
     },
     "5c7bf75963ee46b0bcf3674b34451be4": {
      "model_module": "@jupyter-widgets/controls",
      "model_module_version": "1.5.0",
      "model_name": "DescriptionStyleModel",
      "state": {
       "description_width": ""
      }
     },
     "5c7dd0149eb6408998e2ffea88a44db3": {
      "model_module": "@jupyter-widgets/controls",
      "model_module_version": "1.5.0",
      "model_name": "VBoxModel",
      "state": {
       "children": [
        "IPY_MODEL_05826fc3d6c1452dbd996f50056eff0b",
        "IPY_MODEL_13e2564bb813496a9fe8a8a618109eff",
        "IPY_MODEL_7c70e37c53ce408381cd5e44831dab9b"
       ],
       "layout": "IPY_MODEL_d915ffffc8524ecebac4fa7fdd73994b"
      }
     },
     "5c870b470f4649938c410039a7d55f48": {
      "model_module": "@jupyter-widgets/controls",
      "model_module_version": "1.5.0",
      "model_name": "DescriptionStyleModel",
      "state": {
       "description_width": ""
      }
     },
     "5c9ba0a0a18444cb9fad2a46845c253f": {
      "model_module": "@jupyter-widgets/base",
      "model_module_version": "1.2.0",
      "model_name": "LayoutModel",
      "state": {}
     },
     "5cab07d256ab49d3924b047c9409c151": {
      "model_module": "@jupyter-widgets/base",
      "model_module_version": "1.2.0",
      "model_name": "LayoutModel",
      "state": {}
     },
     "5ce4a7d84ecf41eb978ee2d7650fb9e7": {
      "model_module": "@jupyter-widgets/controls",
      "model_module_version": "1.5.0",
      "model_name": "TextModel",
      "state": {
       "layout": "IPY_MODEL_b2827ab913cf4f49b7a4aeebd116396e",
       "style": "IPY_MODEL_f1aa2df246494e15a23c8062d7e3ccde",
       "value": "-6"
      }
     },
     "5cff2b7f04394228a58ef948c8b6c6fe": {
      "model_module": "@jupyter-widgets/controls",
      "model_module_version": "1.5.0",
      "model_name": "DropdownModel",
      "state": {
       "_options_labels": [
        "1",
        "2",
        "3"
       ],
       "description": "Add row",
       "index": 0,
       "layout": "IPY_MODEL_96795cdec8554d02b320a03a5b835ea7",
       "style": "IPY_MODEL_3e9d8c81b89a467699b24d9ded37ba0e"
      }
     },
     "5d1575e4a6934614a0ab83b0e1d4984d": {
      "model_module": "@jupyter-widgets/controls",
      "model_module_version": "1.5.0",
      "model_name": "DescriptionStyleModel",
      "state": {
       "description_width": ""
      }
     },
     "5d19451c7550443294f4b4435c644393": {
      "model_module": "@jupyter-widgets/base",
      "model_module_version": "1.2.0",
      "model_name": "LayoutModel",
      "state": {
       "width": "150px"
      }
     },
     "5d42a8c6dc014997860aaa4600b2405b": {
      "model_module": "@jupyter-widgets/controls",
      "model_module_version": "1.5.0",
      "model_name": "DescriptionStyleModel",
      "state": {
       "description_width": ""
      }
     },
     "5d4a00169b2f42c68bfedb3687e4528f": {
      "model_module": "@jupyter-widgets/controls",
      "model_module_version": "1.5.0",
      "model_name": "HBoxModel",
      "state": {
       "children": [
        "IPY_MODEL_d1a162c79f59407b9ca55ea7eee0226d",
        "IPY_MODEL_5f6edcac46784d378b88e872ea5eb240"
       ],
       "layout": "IPY_MODEL_2eb1476cf7a54fb38c86c2d1b546cbd4"
      }
     },
     "5d57b31b70ab401182d4571bd820aeca": {
      "model_module": "@jupyter-widgets/controls",
      "model_module_version": "1.5.0",
      "model_name": "TextModel",
      "state": {
       "layout": "IPY_MODEL_dfe771ca3cb647c5ba599a113ad575df",
       "style": "IPY_MODEL_6ab06ae82e094e4fa4b0cfa4b50afb8b",
       "value": "1"
      }
     },
     "5d61b8fac4b44ca19a9899cc4cb695e0": {
      "model_module": "@jupyter-widgets/controls",
      "model_module_version": "1.5.0",
      "model_name": "TextModel",
      "state": {
       "layout": "IPY_MODEL_65cb8db367e14667886b79ef97c800d1",
       "style": "IPY_MODEL_79b45511afa14b9099b020203adc4e5c",
       "value": "2"
      }
     },
     "5d661419008c418eb7fcb896662eb3c9": {
      "model_module": "@jupyter-widgets/controls",
      "model_module_version": "1.5.0",
      "model_name": "BoxModel",
      "state": {
       "children": [
        "IPY_MODEL_2430d7ab76e14c8399c1b62d5c64d452",
        "IPY_MODEL_b94963d0a1434b1e984ef602f8059bb1",
        "IPY_MODEL_9e2f248b499648cf9f65c5e5a6b3f74b",
        "IPY_MODEL_51efdd5f1d144807a20dd483e9c25a58"
       ],
       "layout": "IPY_MODEL_cbb6c52ee8b6435d9bfcce83422f2da0"
      }
     },
     "5d67fefd67a54d2dbed9e48efd1cba7d": {
      "model_module": "@jupyter-widgets/controls",
      "model_module_version": "1.5.0",
      "model_name": "ButtonModel",
      "state": {
       "description": "Start",
       "layout": "IPY_MODEL_4da29d84c0b64773939d5ca413108ac5",
       "style": "IPY_MODEL_aae8ef693efb49b3a6f1339f7af0c284"
      }
     },
     "5d74c7d8c17044408b6d45afbc37671a": {
      "model_module": "@jupyter-widgets/controls",
      "model_module_version": "1.5.0",
      "model_name": "DescriptionStyleModel",
      "state": {
       "description_width": ""
      }
     },
     "5d8824e772c44ba6b2db408f4c18e308": {
      "model_module": "@jupyter-widgets/controls",
      "model_module_version": "1.5.0",
      "model_name": "TextModel",
      "state": {
       "layout": "IPY_MODEL_109f6d462a004bdd9a95542348d778f8",
       "style": "IPY_MODEL_64414fce32e447f79d269328cbb21e46",
       "value": "7"
      }
     },
     "5da7425e44b042cb92ac73d9134a89ae": {
      "model_module": "@jupyter-widgets/controls",
      "model_module_version": "1.5.0",
      "model_name": "DescriptionStyleModel",
      "state": {
       "description_width": ""
      }
     },
     "5dbb77ca12814e62a5fcbb4307296aa5": {
      "model_module": "@jupyter-widgets/base",
      "model_module_version": "1.2.0",
      "model_name": "LayoutModel",
      "state": {
       "justify_content": "center"
      }
     },
     "5dc953eb61c54fc1948b313fb3461dd9": {
      "model_module": "@jupyter-widgets/controls",
      "model_module_version": "1.5.0",
      "model_name": "DescriptionStyleModel",
      "state": {
       "description_width": ""
      }
     },
     "5df62fb485f94c0689bdec998e24c163": {
      "model_module": "@jupyter-widgets/base",
      "model_module_version": "1.2.0",
      "model_name": "LayoutModel",
      "state": {}
     },
     "5e2fa3118c8f4aa2bb923de329385f65": {
      "model_module": "@jupyter-widgets/controls",
      "model_module_version": "1.5.0",
      "model_name": "DescriptionStyleModel",
      "state": {
       "description_width": ""
      }
     },
     "5e5777fc99864c5da0c58dedb0982749": {
      "model_module": "@jupyter-widgets/controls",
      "model_module_version": "1.5.0",
      "model_name": "DescriptionStyleModel",
      "state": {
       "description_width": ""
      }
     },
     "5e638243fe01472fb267b174de418599": {
      "model_module": "@jupyter-widgets/base",
      "model_module_version": "1.2.0",
      "model_name": "LayoutModel",
      "state": {
       "width": "40px"
      }
     },
     "5e8e30a868a0428ea1c5a6d690bf2c07": {
      "model_module": "@jupyter-widgets/controls",
      "model_module_version": "1.5.0",
      "model_name": "DescriptionStyleModel",
      "state": {
       "description_width": ""
      }
     },
     "5e9d5f212cf34899af5621ddfd8da6d8": {
      "model_module": "@jupyter-widgets/controls",
      "model_module_version": "1.5.0",
      "model_name": "DescriptionStyleModel",
      "state": {
       "description_width": ""
      }
     },
     "5eab7ff98c634aeba0718607ae240033": {
      "model_module": "@jupyter-widgets/controls",
      "model_module_version": "1.5.0",
      "model_name": "HBoxModel",
      "state": {
       "children": [
        "IPY_MODEL_3b6168d524b349f4b60b5c3db7ea7206",
        "IPY_MODEL_5eb8384193dc432aba6505645053fd45"
       ],
       "layout": "IPY_MODEL_4b13c98a3aee4e58a240bdb4e73613c2"
      }
     },
     "5eb8384193dc432aba6505645053fd45": {
      "model_module": "@jupyter-widgets/controls",
      "model_module_version": "1.5.0",
      "model_name": "HTMLMathModel",
      "state": {
       "layout": "IPY_MODEL_4e4ca7ab3dc04e17aafa81be5eb39834",
       "style": "IPY_MODEL_080e245494a84bc19b59b3de9ffee19c",
       "value": "Enter here the values of the constant matrix $\\bf{B}$"
      }
     },
     "5ee53d25fc564b1faf206c4a448278fa": {
      "model_module": "@jupyter-widgets/controls",
      "model_module_version": "1.5.0",
      "model_name": "HTMLModel",
      "state": {
       "layout": "IPY_MODEL_28d5633686e6401d9eb6f462f2178b21",
       "style": "IPY_MODEL_f4ececb133c946159ffda3fb7d04a502",
       "value": "Click the button below to start the calculator"
      }
     },
     "5eee96ef54b34c9aa4723d22f583c0f3": {
      "model_module": "@jupyter-widgets/controls",
      "model_module_version": "1.5.0",
      "model_name": "BoxModel",
      "state": {
       "children": [
        "IPY_MODEL_e40d33909af24f7a949520021d2ec118",
        "IPY_MODEL_e53bc1f96ccb4e82aef3139063349fa5",
        "IPY_MODEL_436e52387c1c4a9482a37e3bbe840290"
       ],
       "layout": "IPY_MODEL_b5ec5b1cd97846e1b579d815cfdd562f"
      }
     },
     "5ef86c67c208439487806d5c8b1379eb": {
      "model_module": "@jupyter-widgets/controls",
      "model_module_version": "1.5.0",
      "model_name": "HTMLMathModel",
      "state": {
       "layout": "IPY_MODEL_913c3ff08876431382be76e477ea213a",
       "style": "IPY_MODEL_7009728b39f144c29e2e3cacd1f3d18b",
       "value": "Enter here the values of matrix $\\bf{A}$"
      }
     },
     "5f0c26c3d40e4881906939cfabb1a5d4": {
      "model_module": "@jupyter-widgets/controls",
      "model_module_version": "1.5.0",
      "model_name": "DescriptionStyleModel",
      "state": {
       "description_width": ""
      }
     },
     "5f2425829dae4b15b0a0d0b3a37cb4e2": {
      "model_module": "@jupyter-widgets/base",
      "model_module_version": "1.2.0",
      "model_name": "LayoutModel",
      "state": {}
     },
     "5f40c5be70ee456e903dc502557032d9": {
      "model_module": "@jupyter-widgets/controls",
      "model_module_version": "1.5.0",
      "model_name": "DescriptionStyleModel",
      "state": {
       "description_width": ""
      }
     },
     "5f6679627e48473fb736ece27560a4a6": {
      "model_module": "@jupyter-widgets/base",
      "model_module_version": "1.2.0",
      "model_name": "LayoutModel",
      "state": {}
     },
     "5f6edcac46784d378b88e872ea5eb240": {
      "model_module": "@jupyter-widgets/controls",
      "model_module_version": "1.5.0",
      "model_name": "HTMLMathModel",
      "state": {
       "layout": "IPY_MODEL_4103463bea7b400ba7bea4fdec5bbff6",
       "style": "IPY_MODEL_dfa294d7aec1452c93ca5911f16e2fea",
       "value": "Enter here the values of the right hand side vector $b$"
      }
     },
     "5f85c6ab0277455f99b05f34b351e22c": {
      "model_module": "@jupyter-widgets/controls",
      "model_module_version": "1.5.0",
      "model_name": "TextModel",
      "state": {
       "layout": "IPY_MODEL_776389df997545fcab086c0233cb0ab0",
       "style": "IPY_MODEL_09da1c4605184562a2d7c2d6ea3839a8",
       "value": "7"
      }
     },
     "5f983e3acaac416e8a9921c86452432d": {
      "model_module": "@jupyter-widgets/controls",
      "model_module_version": "1.5.0",
      "model_name": "DescriptionStyleModel",
      "state": {
       "description_width": ""
      }
     },
     "5f9f15e11c9a472a8e9d60794a0e0d5d": {
      "model_module": "@jupyter-widgets/base",
      "model_module_version": "1.2.0",
      "model_name": "LayoutModel",
      "state": {
       "width": "40px"
      }
     },
     "5fa9267f6145465a8c1e18cc3fe44763": {
      "model_module": "@jupyter-widgets/controls",
      "model_module_version": "1.5.0",
      "model_name": "HTMLMathModel",
      "state": {
       "layout": "IPY_MODEL_f044b7410eb84078b1addf830f7255ae",
       "style": "IPY_MODEL_78aa84eefe6b488fb605c8914685a565",
       "value": "The augmented matrix $(\\bf{A}|\\bf{I})$ will appear here."
      }
     },
     "5fe000100d944351b4eca728e99465d6": {
      "model_module": "@jupyter-widgets/controls",
      "model_module_version": "1.5.0",
      "model_name": "DescriptionStyleModel",
      "state": {
       "description_width": ""
      }
     },
     "5ff2b8aeeafb4bc3a504bda367e7e9dc": {
      "model_module": "@jupyter-widgets/base",
      "model_module_version": "1.2.0",
      "model_name": "LayoutModel",
      "state": {
       "width": "150px"
      }
     },
     "601193ce09544f8e98fa0004fe059b47": {
      "model_module": "@jupyter-widgets/base",
      "model_module_version": "1.2.0",
      "model_name": "LayoutModel",
      "state": {}
     },
     "6013b28714e04d31944ce362521f8ae3": {
      "model_module": "@jupyter-widgets/controls",
      "model_module_version": "1.5.0",
      "model_name": "HBoxModel",
      "state": {
       "children": [
        "IPY_MODEL_312b06a1a48644f49dd0b293d3e574aa",
        "IPY_MODEL_5a9cffcd628443abba4868bdc4e699b9",
        "IPY_MODEL_475925480fc84dcd95df3150a3133835"
       ],
       "layout": "IPY_MODEL_dd26dd8864c14c5c8e310a1995b909d3"
      }
     },
     "6027277628f14e74a3f2a49fcb4d1e71": {
      "model_module": "@jupyter-widgets/controls",
      "model_module_version": "1.5.0",
      "model_name": "TextModel",
      "state": {
       "layout": "IPY_MODEL_250753b918e0432c803452a019d33c5c",
       "style": "IPY_MODEL_6b4536305c2d48f1b369266664ccb5f5",
       "value": "-4"
      }
     },
     "602ab08f8fcb49cba4ed28b0884c2ecf": {
      "model_module": "@jupyter-widgets/controls",
      "model_module_version": "1.5.0",
      "model_name": "DescriptionStyleModel",
      "state": {
       "description_width": ""
      }
     },
     "60780020aeec4cd6a5005588e958946c": {
      "model_module": "@jupyter-widgets/controls",
      "model_module_version": "1.5.0",
      "model_name": "DescriptionStyleModel",
      "state": {
       "description_width": ""
      }
     },
     "60aedde2acee4503880453b3456a8e6a": {
      "model_module": "@jupyter-widgets/base",
      "model_module_version": "1.2.0",
      "model_name": "LayoutModel",
      "state": {}
     },
     "60b7028effa941ffaa9a2472e011d459": {
      "model_module": "@jupyter-widgets/controls",
      "model_module_version": "1.5.0",
      "model_name": "DropdownModel",
      "state": {
       "_options_labels": [
        "1",
        "2",
        "3"
       ],
       "description": "Swap row",
       "index": 0,
       "layout": "IPY_MODEL_27bb81f81e374baa97518595585dbffc",
       "style": "IPY_MODEL_f22a495074be40beac753748778be6f3"
      }
     },
     "60bd95c31596400e8b6cf1a57ce8cb87": {
      "model_module": "@jupyter-widgets/controls",
      "model_module_version": "1.5.0",
      "model_name": "HTMLMathModel",
      "state": {
       "layout": "IPY_MODEL_35a7aab008f44517aeb3aa619e3b2fcf",
       "style": "IPY_MODEL_c4d179acabbf4c85ba205286252d8b6e",
       "value": "The augmented matrix $(\\bf{A}|\\bf{I})$ is:\n $$\\left [\\begin{array}{ rrr|rrr }\n4 & 1 & -2 & 1 & 0 & 0 \\\\\n3 & -1 & 1 & 0 & 1 & 0 \\\\\n1 & -1 & 1 & 0 & 0 & 1\n\\end{array}\\right ] $$ with $\\det A =2$."
      }
     },
     "60d3132022a744a48d53e3fa153002b5": {
      "model_module": "@jupyter-widgets/controls",
      "model_module_version": "1.5.0",
      "model_name": "TextModel",
      "state": {
       "layout": "IPY_MODEL_5a0c24727aa941b48d996c0a1f0c2bf8",
       "style": "IPY_MODEL_b95d9576413f4b89b29d4a1d68b1f97a",
       "value": "2"
      }
     },
     "60e977fa3df3419a9a07292736996280": {
      "model_module": "@jupyter-widgets/controls",
      "model_module_version": "1.5.0",
      "model_name": "TextModel",
      "state": {
       "layout": "IPY_MODEL_e56e2cbba3324f1e9a6da6e53dfda065",
       "style": "IPY_MODEL_eeefb8331e13454eabb4f58381b053d7",
       "value": "2"
      }
     },
     "60f90b69f50244f989e62c8740030e40": {
      "model_module": "@jupyter-widgets/controls",
      "model_module_version": "1.5.0",
      "model_name": "ButtonStyleModel",
      "state": {}
     },
     "61193839c6454ae6adbe37f18724de0a": {
      "model_module": "@jupyter-widgets/controls",
      "model_module_version": "1.5.0",
      "model_name": "TextModel",
      "state": {
       "layout": "IPY_MODEL_0360a59724284d16ab0033f9c2a97d5d",
       "style": "IPY_MODEL_2b9b518842db47a3bae3afe48b7e21fc",
       "value": "3"
      }
     },
     "611b2deb7ac2421aa5568c6ebea9a354": {
      "model_module": "@jupyter-widgets/base",
      "model_module_version": "1.2.0",
      "model_name": "LayoutModel",
      "state": {}
     },
     "6126474d45904f29ad70f737925f6d12": {
      "model_module": "@jupyter-widgets/base",
      "model_module_version": "1.2.0",
      "model_name": "LayoutModel",
      "state": {}
     },
     "614eeb440c474e308e97660a23910362": {
      "model_module": "@jupyter-widgets/controls",
      "model_module_version": "1.5.0",
      "model_name": "DescriptionStyleModel",
      "state": {
       "description_width": ""
      }
     },
     "6170e5b1165a47d2a61e996f21e28e51": {
      "model_module": "@jupyter-widgets/controls",
      "model_module_version": "1.5.0",
      "model_name": "ButtonStyleModel",
      "state": {}
     },
     "61849b1331cf49f89406ed92467757c0": {
      "model_module": "@jupyter-widgets/controls",
      "model_module_version": "1.5.0",
      "model_name": "HTMLMathModel",
      "state": {
       "layout": "IPY_MODEL_ff9da2a6715946bca511c519d01fc6c8",
       "style": "IPY_MODEL_b7b97898865c4da18bca7711338bf060",
       "value": "$$ $$$$ {\\bf A} {\\bf B} = \\left [\\begin{array}{ rrr }\n4 & 1 & -2 \\\\\n3 & -1 & 1 \\\\\n1 & -1 & 1\n\\end{array}\\right ]\\left [\\begin{array}{ rrr }\n1 & 0 & 0 \\\\\n0 & 1 & 0 \\\\\n0 & 0 & 1\n\\end{array}\\right ]= \\left [\\begin{array}{ rrr }\n4 & 1 & -2 \\\\\n3 & -1 & 1 \\\\\n1 & -1 & 1\n\\end{array}\\right ] $$$$ $$$$ \\left[\\begin{array}{ rrr|rrr }\n\\color{ blue }{ 4 } & \\color{ blue }{ 1 } & \\color{ blue }{ -2 } & \\color{ blue }{ 1 } & \\color{ blue }{ 0 } & \\color{ blue }{ 0 } \\\\\n3 & -1 & 1 & 0 & 1 & 0 \\\\\n\\color{ red }{ 1 } & \\color{ red }{ -1 } & \\color{ red }{ 1 } & \\color{ red }{ 0 } & \\color{ red }{ 0 } & \\color{ red }{ 1 }\n\\end{array}\\right ]\\stackrel{ \\color{blue}{R_1} \\leftrightarrow \\color{red}{R_3}}{\\Longrightarrow}\\left [\\begin{array}{ rrr|rrr }\n\\color{ red }{ 1 } & \\color{ red }{ -1 } & \\color{ red }{ 1 } & \\color{ red }{ 0 } & \\color{ red }{ 0 } & \\color{ red }{ 1 } \\\\\n3 & -1 & 1 & 0 & 1 & 0 \\\\\n\\color{ blue }{ 4 } & \\color{ blue }{ 1 } & \\color{ blue }{ -2 } & \\color{ blue }{ 1 } & \\color{ blue }{ 0 } & \\color{ blue }{ 0 }\n\\end{array}\\right ] $$$$ $$$$ {\\bf A} {\\bf B} = \\left [\\begin{array}{ rrr }\n4 & 1 & -2 \\\\\n3 & -1 & 1 \\\\\n1 & -1 & 1\n\\end{array}\\right ]\\left [\\begin{array}{ rrr }\n0 & 0 & 1 \\\\\n0 & 1 & 0 \\\\\n1 & 0 & 0\n\\end{array}\\right ]= \\left [\\begin{array}{ rrr }\n-2 & 1 & 4 \\\\\n1 & -1 & 3 \\\\\n1 & -1 & 1\n\\end{array}\\right ] $$"
      }
     },
     "6187dc080e784ce1b06e472048647c3c": {
      "model_module": "@jupyter-widgets/controls",
      "model_module_version": "1.5.0",
      "model_name": "HBoxModel",
      "state": {
       "children": [
        "IPY_MODEL_d9b2bcc850874c34a15b4c2d4a6ce473",
        "IPY_MODEL_35377fcb8b304ec89d483579bcc13b5d",
        "IPY_MODEL_f2b6b852a94441abad5cca5793983c9f"
       ],
       "layout": "IPY_MODEL_d94d6bb532ae4043b66dd8bb46b08d9f"
      }
     },
     "619955ee74d54df08ee3f999e2f07575": {
      "model_module": "@jupyter-widgets/base",
      "model_module_version": "1.2.0",
      "model_name": "LayoutModel",
      "state": {}
     },
     "619b7d8c06f64c7e97681ca808b4d02f": {
      "model_module": "@jupyter-widgets/controls",
      "model_module_version": "1.5.0",
      "model_name": "DescriptionStyleModel",
      "state": {
       "description_width": ""
      }
     },
     "619efbd321c941ee9694e5e4065169f4": {
      "model_module": "@jupyter-widgets/controls",
      "model_module_version": "1.5.0",
      "model_name": "ButtonStyleModel",
      "state": {}
     },
     "61bb2d603f3b42dc88999c25922900d9": {
      "model_module": "@jupyter-widgets/controls",
      "model_module_version": "1.5.0",
      "model_name": "DescriptionStyleModel",
      "state": {
       "description_width": ""
      }
     },
     "61f4337f297a4488a7258e4d26bfb63b": {
      "model_module": "@jupyter-widgets/controls",
      "model_module_version": "1.5.0",
      "model_name": "ButtonModel",
      "state": {
       "description": "Start",
       "layout": "IPY_MODEL_f3195ad60d4842aa9e571ae0ebe5feb6",
       "style": "IPY_MODEL_3439b5e70b314bfbb885bd1371ebcbdd"
      }
     },
     "62058eae981647c3b0128ccef6be377b": {
      "model_module": "@jupyter-widgets/controls",
      "model_module_version": "1.5.0",
      "model_name": "ButtonStyleModel",
      "state": {}
     },
     "620c2d87598f4c928d6573093a0380ab": {
      "model_module": "@jupyter-widgets/base",
      "model_module_version": "1.2.0",
      "model_name": "LayoutModel",
      "state": {}
     },
     "622059e28e0d43308d0f056ebedd6918": {
      "model_module": "@jupyter-widgets/controls",
      "model_module_version": "1.5.0",
      "model_name": "BoxModel",
      "state": {
       "children": [
        "IPY_MODEL_6eadf59c84124385b1b090a528604d88"
       ],
       "layout": "IPY_MODEL_d2d1b440affe438396b490507137e651"
      }
     },
     "623921d0e69240bc9a94dc3830f517bd": {
      "model_module": "@jupyter-widgets/controls",
      "model_module_version": "1.5.0",
      "model_name": "TextModel",
      "state": {
       "layout": "IPY_MODEL_342fbdc31d2d406489b24d1349c22e03",
       "style": "IPY_MODEL_f3d5e08eff0c48a08a4209d2c72b688f",
       "value": "1"
      }
     },
     "62463a8c949e4261bc1a9eb6e05d340e": {
      "model_module": "@jupyter-widgets/controls",
      "model_module_version": "1.5.0",
      "model_name": "DescriptionStyleModel",
      "state": {
       "description_width": ""
      }
     },
     "624d7a532cc145a19781e66687d9c82b": {
      "model_module": "@jupyter-widgets/controls",
      "model_module_version": "1.5.0",
      "model_name": "TextModel",
      "state": {
       "layout": "IPY_MODEL_24e52a9da5f64680833f56257412e632",
       "style": "IPY_MODEL_49733811a47544a1bd1ad125242e48ac",
       "value": "5"
      }
     },
     "6251019a8edd4245be01f1afc6493cae": {
      "model_module": "@jupyter-widgets/controls",
      "model_module_version": "1.5.0",
      "model_name": "TextModel",
      "state": {
       "layout": "IPY_MODEL_4bcd3a11811347d3979a9396c2e71cd4",
       "style": "IPY_MODEL_55ceb80c9f104e7d962a5dd621a200ed",
       "value": "2"
      }
     },
     "625b7f57678a47679c960cae15ade347": {
      "model_module": "@jupyter-widgets/controls",
      "model_module_version": "1.5.0",
      "model_name": "VBoxModel",
      "state": {
       "children": [
        "IPY_MODEL_92ef7dc2886f4e1d883286b549948cd7",
        "IPY_MODEL_928af77fb9544b048ce9c57bab62ca78"
       ],
       "layout": "IPY_MODEL_1697ca7de2b14b059e57e92996030e9f"
      }
     },
     "6286156f70f4419a962abb3cbdb3e749": {
      "model_module": "@jupyter-widgets/controls",
      "model_module_version": "1.5.0",
      "model_name": "ButtonStyleModel",
      "state": {}
     },
     "6299f44249684c518b0bd3e2fbc9c2b2": {
      "model_module": "@jupyter-widgets/controls",
      "model_module_version": "1.5.0",
      "model_name": "DescriptionStyleModel",
      "state": {
       "description_width": ""
      }
     },
     "62a520007c9f4e4ea9170b2f0101dc72": {
      "model_module": "@jupyter-widgets/base",
      "model_module_version": "1.2.0",
      "model_name": "LayoutModel",
      "state": {}
     },
     "62c4ee51c74d4f78a3d13c1cacf03561": {
      "model_module": "@jupyter-widgets/controls",
      "model_module_version": "1.5.0",
      "model_name": "BoxModel",
      "state": {
       "children": [
        "IPY_MODEL_17d1c86131f44115a4f6956b6bf744fe",
        "IPY_MODEL_5d4a00169b2f42c68bfedb3687e4528f",
        "IPY_MODEL_33396439e67747aaa6d6baa3c98fd179",
        "IPY_MODEL_2b1a28b63fe54bb0aa2b38644bb53a42"
       ],
       "layout": "IPY_MODEL_96d19d494fb04199b01f18e291be8b75"
      }
     },
     "62d0b4f47fdb436aae30e804c3c1ddd5": {
      "model_module": "@jupyter-widgets/controls",
      "model_module_version": "1.5.0",
      "model_name": "DescriptionStyleModel",
      "state": {
       "description_width": ""
      }
     },
     "62da834a27334571b3e7209ecc1ea65b": {
      "model_module": "@jupyter-widgets/controls",
      "model_module_version": "1.5.0",
      "model_name": "DescriptionStyleModel",
      "state": {
       "description_width": ""
      }
     },
     "62eed11e178f4b81ad1c48f29f334fdb": {
      "model_module": "@jupyter-widgets/base",
      "model_module_version": "1.2.0",
      "model_name": "LayoutModel",
      "state": {}
     },
     "62f8e520c42f4d939c839664f6e56ef5": {
      "model_module": "@jupyter-widgets/controls",
      "model_module_version": "1.5.0",
      "model_name": "TextModel",
      "state": {
       "layout": "IPY_MODEL_239bec109578490f9329cf0477e25967",
       "style": "IPY_MODEL_aa6a88b675cd41a68584497ba2d69ec7",
       "value": "7"
      }
     },
     "6346305f8fcd4dcfad79fb48120773f3": {
      "model_module": "@jupyter-widgets/base",
      "model_module_version": "1.2.0",
      "model_name": "LayoutModel",
      "state": {}
     },
     "635633f677294ef58c93d08fa63aad67": {
      "model_module": "@jupyter-widgets/controls",
      "model_module_version": "1.5.0",
      "model_name": "DropdownModel",
      "state": {
       "_options_labels": [
        "1",
        "2",
        "3"
       ],
       "description": "to row",
       "index": 1,
       "layout": "IPY_MODEL_3f3f137359b7455e9a4f21ae3cb37914",
       "style": "IPY_MODEL_31ddb732ca134a0cb1b56475ee480f82"
      }
     },
     "63831aa668c547daa7d69cdb79734294": {
      "model_module": "@jupyter-widgets/controls",
      "model_module_version": "1.5.0",
      "model_name": "DescriptionStyleModel",
      "state": {
       "description_width": ""
      }
     },
     "63888e459a374ce79460f073f5aefde9": {
      "model_module": "@jupyter-widgets/controls",
      "model_module_version": "1.5.0",
      "model_name": "TextModel",
      "state": {
       "layout": "IPY_MODEL_a6b672bf88094d8fa8327c74293c6a55",
       "style": "IPY_MODEL_55259ab1568b4f4db2a5b38a443d0108",
       "value": "1"
      }
     },
     "63b91cf5877d4b3fa25923e70020654e": {
      "model_module": "@jupyter-widgets/base",
      "model_module_version": "1.2.0",
      "model_name": "LayoutModel",
      "state": {
       "width": "150px"
      }
     },
     "63edfd79265343af9677992a95438de6": {
      "model_module": "@jupyter-widgets/controls",
      "model_module_version": "1.5.0",
      "model_name": "HTMLMathModel",
      "state": {
       "layout": "IPY_MODEL_4147deb5a78d464aa87d8c7a6b1b4ba9",
       "style": "IPY_MODEL_00a3a2565177462ba1f0f63dac15821c",
       "value": "Results will be shown here."
      }
     },
     "640b0d9c6d284a918ba3f5e88b82621d": {
      "model_module": "@jupyter-widgets/base",
      "model_module_version": "1.2.0",
      "model_name": "LayoutModel",
      "state": {
       "flex_flow": "row wrap",
       "justify_content": "space-around"
      }
     },
     "642fa8999dd34e5aa518b1a4b2a4c1a9": {
      "model_module": "@jupyter-widgets/controls",
      "model_module_version": "1.5.0",
      "model_name": "TextModel",
      "state": {
       "layout": "IPY_MODEL_4bcd3a11811347d3979a9396c2e71cd4",
       "style": "IPY_MODEL_04db686b7a50431db5c0a215a93abaf4",
       "value": "5"
      }
     },
     "64359c9eee864d37b9454551e6f2c461": {
      "model_module": "@jupyter-widgets/controls",
      "model_module_version": "1.5.0",
      "model_name": "DescriptionStyleModel",
      "state": {
       "description_width": ""
      }
     },
     "64414fce32e447f79d269328cbb21e46": {
      "model_module": "@jupyter-widgets/controls",
      "model_module_version": "1.5.0",
      "model_name": "DescriptionStyleModel",
      "state": {
       "description_width": ""
      }
     },
     "6452a364bbae4664a9675bd8365b157a": {
      "model_module": "@jupyter-widgets/controls",
      "model_module_version": "1.5.0",
      "model_name": "HBoxModel",
      "state": {
       "children": [
        "IPY_MODEL_430bcf396aa04007a171abce7823fe93",
        "IPY_MODEL_8414a43bf0ba47e9a3501592779794b9",
        "IPY_MODEL_8c910f49460843d48764a89f2b1692b0"
       ],
       "layout": "IPY_MODEL_9dfe574a4a8e4415b2620da2cc67ac24"
      }
     },
     "647528c4a94c456b95ac9387f01e90e1": {
      "model_module": "@jupyter-widgets/base",
      "model_module_version": "1.2.0",
      "model_name": "LayoutModel",
      "state": {}
     },
     "6491d7a88f0a43129db3865bf2c52bd3": {
      "model_module": "@jupyter-widgets/base",
      "model_module_version": "1.2.0",
      "model_name": "LayoutModel",
      "state": {
       "width": "90px"
      }
     },
     "64c97bf5a3d14a6a923faa8149fc7952": {
      "model_module": "@jupyter-widgets/controls",
      "model_module_version": "1.5.0",
      "model_name": "HBoxModel",
      "state": {
       "children": [
        "IPY_MODEL_782185885e874282855669e9f6b5c968",
        "IPY_MODEL_451bfd2114104297a6bf0b0cc7cfb3a9",
        "IPY_MODEL_e5d0d54b798a40a5a02955c8e33526c0"
       ],
       "layout": "IPY_MODEL_43c03291296a42089d709604317ded46"
      }
     },
     "64dfc8513a514a84afc89c54d9b4441f": {
      "model_module": "@jupyter-widgets/controls",
      "model_module_version": "1.5.0",
      "model_name": "HTMLMathModel",
      "state": {
       "layout": "IPY_MODEL_c104f04f9ad14ad4a1bcf1ffc82da033",
       "style": "IPY_MODEL_a1786683522547f9839b3622218d5248",
       "value": "The augmented matrix $(\\bf{A}|\\bf{I})$ is:\n $$\\left[ \\begin{array}{ rrr|rrr }\n4 & 1 & -2 & 1 & 0 & 0 \\\\\n3 & -1 & 1 & 0 & 1 & 0 \\\\\n1 & -1 & 1 & 0 & 0 & 1\n\\end{array} \\right]$$ with $\\det A =2$."
      }
     },
     "64e3e56d08f44a4888573f2692cda4ca": {
      "model_module": "@jupyter-widgets/base",
      "model_module_version": "1.2.0",
      "model_name": "LayoutModel",
      "state": {}
     },
     "64fa9221ea8f44c48d030858eeda8fce": {
      "model_module": "@jupyter-widgets/base",
      "model_module_version": "1.2.0",
      "model_name": "LayoutModel",
      "state": {
       "width": "150px"
      }
     },
     "64fd141057e94260bdcf99ea8806049c": {
      "model_module": "@jupyter-widgets/controls",
      "model_module_version": "1.5.0",
      "model_name": "ButtonStyleModel",
      "state": {}
     },
     "6512ca68235e4e67a26cd6ea02032e44": {
      "model_module": "@jupyter-widgets/base",
      "model_module_version": "1.2.0",
      "model_name": "LayoutModel",
      "state": {}
     },
     "651e2aa718364c7d95868eb2902afcc1": {
      "model_module": "@jupyter-widgets/controls",
      "model_module_version": "1.5.0",
      "model_name": "ButtonStyleModel",
      "state": {}
     },
     "652cab09e0534bda9972a5b58a1a350f": {
      "model_module": "@jupyter-widgets/base",
      "model_module_version": "1.2.0",
      "model_name": "LayoutModel",
      "state": {}
     },
     "658cde154c9f488fb0be7c7c29c0af9c": {
      "model_module": "@jupyter-widgets/controls",
      "model_module_version": "1.5.0",
      "model_name": "DescriptionStyleModel",
      "state": {
       "description_width": ""
      }
     },
     "65a216b38ffb4a33958ebb7ac282b58d": {
      "model_module": "@jupyter-widgets/controls",
      "model_module_version": "1.5.0",
      "model_name": "TextModel",
      "state": {
       "layout": "IPY_MODEL_66f664c2d36b4d74aa7cdd21ce7345c1",
       "style": "IPY_MODEL_237a110dc3124bf09a922c69adbd449c",
       "value": "1"
      }
     },
     "65abb230129546c4a8be04778678eec6": {
      "model_module": "@jupyter-widgets/controls",
      "model_module_version": "1.5.0",
      "model_name": "DescriptionStyleModel",
      "state": {
       "description_width": ""
      }
     },
     "65b12b7efab24a9c9ddeb8f6542de660": {
      "model_module": "@jupyter-widgets/base",
      "model_module_version": "1.2.0",
      "model_name": "LayoutModel",
      "state": {}
     },
     "65c402a2652c40dc9a6e1c673809c5ac": {
      "model_module": "@jupyter-widgets/controls",
      "model_module_version": "1.5.0",
      "model_name": "TextModel",
      "state": {
       "layout": "IPY_MODEL_97993fa24fac42e28605e8d366180168",
       "style": "IPY_MODEL_720bb0097968463c90c4280da92f4f7e",
       "value": "1"
      }
     },
     "65cb8db367e14667886b79ef97c800d1": {
      "model_module": "@jupyter-widgets/base",
      "model_module_version": "1.2.0",
      "model_name": "LayoutModel",
      "state": {
       "height": "35px",
       "width": "40px"
      }
     },
     "65d5b47270a54725933207ff9f0a1b04": {
      "model_module": "@jupyter-widgets/controls",
      "model_module_version": "1.5.0",
      "model_name": "ButtonStyleModel",
      "state": {}
     },
     "65fd8c1312da405981fdc57d1f69c603": {
      "model_module": "@jupyter-widgets/controls",
      "model_module_version": "1.5.0",
      "model_name": "DescriptionStyleModel",
      "state": {
       "description_width": ""
      }
     },
     "6618e462e2a24bc797f0bc5db445b3f3": {
      "model_module": "@jupyter-widgets/controls",
      "model_module_version": "1.5.0",
      "model_name": "TextModel",
      "state": {
       "layout": "IPY_MODEL_66f664c2d36b4d74aa7cdd21ce7345c1",
       "style": "IPY_MODEL_04397a36c2c345a5b98814d569c565bd",
       "value": "1"
      }
     },
     "6623208b66e44f45abe794b71760d53c": {
      "model_module": "@jupyter-widgets/controls",
      "model_module_version": "1.5.0",
      "model_name": "TextModel",
      "state": {
       "layout": "IPY_MODEL_250753b918e0432c803452a019d33c5c",
       "style": "IPY_MODEL_d14ab43598aa4951b21c510595540277",
       "value": "9"
      }
     },
     "66236546b3014b63be53c6ccd359400f": {
      "model_module": "@jupyter-widgets/base",
      "model_module_version": "1.2.0",
      "model_name": "LayoutModel",
      "state": {}
     },
     "6637f3c5eaab427bab59fffd0f299f83": {
      "model_module": "@jupyter-widgets/controls",
      "model_module_version": "1.5.0",
      "model_name": "HTMLMathModel",
      "state": {
       "layout": "IPY_MODEL_410a8c62e21540afa6c312425d7240ab",
       "style": "IPY_MODEL_2b787eaa14064c8ab6aabd3ed94d26d0",
       "value": "The augmented matrix will appear here."
      }
     },
     "666142723e284e3a98afff96201f7241": {
      "model_module": "@jupyter-widgets/controls",
      "model_module_version": "1.5.0",
      "model_name": "DropdownModel",
      "state": {
       "_options_labels": [
        "1",
        "2",
        "3"
       ],
       "description": "and row",
       "index": 2,
       "layout": "IPY_MODEL_28ec98da42234b85bbe98536907e385d",
       "style": "IPY_MODEL_daa4948152cd46389d4e46a597b8ef55"
      }
     },
     "666b4116b218482ca020d9517d76277f": {
      "model_module": "@jupyter-widgets/controls",
      "model_module_version": "1.5.0",
      "model_name": "TextModel",
      "state": {
       "layout": "IPY_MODEL_194d5881fb18447585798b14c51e301b",
       "style": "IPY_MODEL_058a930ab69a46fca51409202ea0de9f",
       "value": "2"
      }
     },
     "667fb845c7384732a48d73dae624f8c7": {
      "model_module": "@jupyter-widgets/controls",
      "model_module_version": "1.5.0",
      "model_name": "ButtonStyleModel",
      "state": {}
     },
     "66803d9f7cf84dfdb576e48f4e6a14f8": {
      "model_module": "@jupyter-widgets/controls",
      "model_module_version": "1.5.0",
      "model_name": "DescriptionStyleModel",
      "state": {
       "description_width": ""
      }
     },
     "6681f64315474cc3810d0a9c8a756e71": {
      "model_module": "@jupyter-widgets/controls",
      "model_module_version": "1.5.0",
      "model_name": "BoxModel",
      "state": {
       "children": [
        "IPY_MODEL_2aa17632797d492988b90a4f5fb6687b",
        "IPY_MODEL_a86266f5c9c74443b17d344cc32156e9",
        "IPY_MODEL_6dce6c59eda04251958dfaa6e7dd14c3",
        "IPY_MODEL_c32c0d2b78d346128ca7383b2d75b662"
       ],
       "layout": "IPY_MODEL_e4e0fb4e6b89454a86cbfcffd3fa5a35"
      }
     },
     "668b58442b1c49c391fb9ed5fbd6bd10": {
      "model_module": "@jupyter-widgets/base",
      "model_module_version": "1.2.0",
      "model_name": "LayoutModel",
      "state": {
       "width": "100px"
      }
     },
     "668d1b7ee9574d808ac10157acf3a793": {
      "model_module": "@jupyter-widgets/controls",
      "model_module_version": "1.5.0",
      "model_name": "DescriptionStyleModel",
      "state": {
       "description_width": ""
      }
     },
     "6694a139e1b14486a107472a65fe2979": {
      "model_module": "@jupyter-widgets/controls",
      "model_module_version": "1.5.0",
      "model_name": "DescriptionStyleModel",
      "state": {
       "description_width": ""
      }
     },
     "66a4684564364070a77229f04cef478f": {
      "model_module": "@jupyter-widgets/base",
      "model_module_version": "1.2.0",
      "model_name": "LayoutModel",
      "state": {
       "flex_flow": "row wrap",
       "justify_content": "space-around"
      }
     },
     "66a94674b0b94854a03ae0cc321b0e53": {
      "model_module": "@jupyter-widgets/base",
      "model_module_version": "1.2.0",
      "model_name": "LayoutModel",
      "state": {}
     },
     "66b24b1cb84f458eb2f3ded5f2a6676e": {
      "model_module": "@jupyter-widgets/controls",
      "model_module_version": "1.5.0",
      "model_name": "HBoxModel",
      "state": {
       "children": [
        "IPY_MODEL_b87caeeafffd4c5ab8f0d6ec665b8d4e",
        "IPY_MODEL_b1791b0879624e658357762d2369ac65"
       ],
       "layout": "IPY_MODEL_619955ee74d54df08ee3f999e2f07575"
      }
     },
     "66c03f69c26241279063153b1e533ad1": {
      "model_module": "@jupyter-widgets/controls",
      "model_module_version": "1.5.0",
      "model_name": "ButtonStyleModel",
      "state": {}
     },
     "66d9ad3db1c748768404ba43693323f5": {
      "model_module": "@jupyter-widgets/controls",
      "model_module_version": "1.5.0",
      "model_name": "DescriptionStyleModel",
      "state": {
       "description_width": ""
      }
     },
     "66f664c2d36b4d74aa7cdd21ce7345c1": {
      "model_module": "@jupyter-widgets/base",
      "model_module_version": "1.2.0",
      "model_name": "LayoutModel",
      "state": {
       "height": "35px",
       "width": "40px"
      }
     },
     "67055905e6bc422abe9b2c3c78cd90e2": {
      "model_module": "@jupyter-widgets/controls",
      "model_module_version": "1.5.0",
      "model_name": "BoxModel",
      "state": {
       "children": [
        "IPY_MODEL_8db2f7fbe1454d88a74cfd1abfa8c981"
       ],
       "layout": "IPY_MODEL_3127dd1ea93446a9b765ca385fd8ed73"
      }
     },
     "67192b9a5077409d860c21c16101abd3": {
      "model_module": "@jupyter-widgets/controls",
      "model_module_version": "1.5.0",
      "model_name": "HBoxModel",
      "state": {
       "children": [
        "IPY_MODEL_b9631cba1d2d4fcaa434ecc2b2274074",
        "IPY_MODEL_0fb0c0ac4ae8447fbb17ff43596d9168"
       ],
       "layout": "IPY_MODEL_35c44a1b53024d65889815d417de8966"
      }
     },
     "671cbe0663bc4a58aab8a370916d95ff": {
      "model_module": "@jupyter-widgets/controls",
      "model_module_version": "1.5.0",
      "model_name": "DescriptionStyleModel",
      "state": {
       "description_width": ""
      }
     },
     "671fb1d99753438c85ede45e2f8975b6": {
      "model_module": "@jupyter-widgets/base",
      "model_module_version": "1.2.0",
      "model_name": "LayoutModel",
      "state": {
       "flex_flow": "row wrap",
       "justify_content": "space-around"
      }
     },
     "671febabb8aa460e9eab9a3995c8cdb5": {
      "model_module": "@jupyter-widgets/base",
      "model_module_version": "1.2.0",
      "model_name": "LayoutModel",
      "state": {
       "width": "150px"
      }
     },
     "6724c5a3c95547aa851050f5db7d2932": {
      "model_module": "@jupyter-widgets/base",
      "model_module_version": "1.2.0",
      "model_name": "LayoutModel",
      "state": {}
     },
     "675276f03db74c9dbf15ae04dd05d784": {
      "model_module": "@jupyter-widgets/controls",
      "model_module_version": "1.5.0",
      "model_name": "ButtonStyleModel",
      "state": {}
     },
     "67690d0ae1b94ff296b4ec53d7b86ee0": {
      "model_module": "@jupyter-widgets/controls",
      "model_module_version": "1.5.0",
      "model_name": "VBoxModel",
      "state": {
       "children": [
        "IPY_MODEL_367baf66a88146c8b5b8ead0d552c0a5",
        "IPY_MODEL_537f76367e284f45a70e06e3c8433716"
       ],
       "layout": "IPY_MODEL_c8ae42d25cfe44d093fe3c44f1502d60"
      }
     },
     "67739626fc1b4f4abf087f772914942b": {
      "model_module": "@jupyter-widgets/controls",
      "model_module_version": "1.5.0",
      "model_name": "TextModel",
      "state": {
       "layout": "IPY_MODEL_065f08ede0b647238ec761aa592646c7",
       "style": "IPY_MODEL_2b566c72742a44cf89334ee30a5f109d",
       "value": "2"
      }
     },
     "67e53a76fe0e47208b000762cfc63c19": {
      "model_module": "@jupyter-widgets/controls",
      "model_module_version": "1.5.0",
      "model_name": "VBoxModel",
      "state": {
       "children": [
        "IPY_MODEL_4febef15e12744e0bb60ad80caeab455",
        "IPY_MODEL_57ee74bafbd04f1d9c19237ad36e05bd"
       ],
       "layout": "IPY_MODEL_0559abe1e7974a988ed90369b76005d8"
      }
     },
     "67f623a1221044139c2e0e17c17a6198": {
      "model_module": "@jupyter-widgets/base",
      "model_module_version": "1.2.0",
      "model_name": "LayoutModel",
      "state": {}
     },
     "6808831a1628406db2f3ac9a4fcc847b": {
      "model_module": "@jupyter-widgets/controls",
      "model_module_version": "1.5.0",
      "model_name": "DescriptionStyleModel",
      "state": {
       "description_width": ""
      }
     },
     "6809d34d186541ef91d5cfd024fc9782": {
      "model_module": "@jupyter-widgets/base",
      "model_module_version": "1.2.0",
      "model_name": "LayoutModel",
      "state": {}
     },
     "681474a7973d4b749115bd735dbdf0e1": {
      "model_module": "@jupyter-widgets/controls",
      "model_module_version": "1.5.0",
      "model_name": "HBoxModel",
      "state": {
       "children": [
        "IPY_MODEL_c4650cd8404440079c26dfee57285a6f",
        "IPY_MODEL_ec92452da74a4cdb8bec4d17ce338bd8",
        "IPY_MODEL_a0cec4f6bf814f67acd467b72cefcf28"
       ],
       "layout": "IPY_MODEL_344cef62ee194b1ea53d1db52a0557d8"
      }
     },
     "68307ad28a194411b9815a24bf44e468": {
      "model_module": "@jupyter-widgets/controls",
      "model_module_version": "1.5.0",
      "model_name": "HBoxModel",
      "state": {
       "children": [
        "IPY_MODEL_0a125904f15d473ebd86c861e96b9ef0",
        "IPY_MODEL_150cbb1499e94340991f7e37dc9bcebd"
       ],
       "layout": "IPY_MODEL_8c392af24601481ea2818b3ccb2bb632"
      }
     },
     "684aef2eb6df4d20842dd25326b73f75": {
      "model_module": "@jupyter-widgets/controls",
      "model_module_version": "1.5.0",
      "model_name": "TextModel",
      "state": {
       "layout": "IPY_MODEL_e56e2cbba3324f1e9a6da6e53dfda065",
       "style": "IPY_MODEL_6808831a1628406db2f3ac9a4fcc847b",
       "value": "2"
      }
     },
     "68543e0a26c047a583cd3e54b1d5d474": {
      "model_module": "@jupyter-widgets/controls",
      "model_module_version": "1.5.0",
      "model_name": "HTMLMathModel",
      "state": {
       "layout": "IPY_MODEL_3da97c80fb1542a78e88a246bccf4378",
       "style": "IPY_MODEL_6c40de0f11994c3ea85d7103408499dc",
       "value": "The augmented matrix is:\n    $$\n    \\left[ \\begin{array}{rrr|r}\n        2 & -6 & 1 & 7\\\\\n        1 & 2 & -1 & -1\\\\\n        5 & 7 & -4 & 9\n    \\end{array} \\right]\n    $$"
      }
     },
     "686ad391775245e69fb5899e6facf20a": {
      "model_module": "@jupyter-widgets/controls",
      "model_module_version": "1.5.0",
      "model_name": "ButtonStyleModel",
      "state": {}
     },
     "686e9f3dbae54b289a8c39f46b8c73e3": {
      "model_module": "@jupyter-widgets/base",
      "model_module_version": "1.2.0",
      "model_name": "LayoutModel",
      "state": {}
     },
     "68937de1ef6d46c6b4f0f79712e71607": {
      "model_module": "@jupyter-widgets/controls",
      "model_module_version": "1.5.0",
      "model_name": "DescriptionStyleModel",
      "state": {
       "description_width": ""
      }
     },
     "689cdfe6c433461491eb888281537bf5": {
      "model_module": "@jupyter-widgets/controls",
      "model_module_version": "1.5.0",
      "model_name": "DescriptionStyleModel",
      "state": {
       "description_width": ""
      }
     },
     "68a8d700b6fe4f259fde5354434f8288": {
      "model_module": "@jupyter-widgets/controls",
      "model_module_version": "1.5.0",
      "model_name": "DescriptionStyleModel",
      "state": {
       "description_width": ""
      }
     },
     "68cda6481edd4e13b5679f1a926fcdb9": {
      "model_module": "@jupyter-widgets/base",
      "model_module_version": "1.2.0",
      "model_name": "LayoutModel",
      "state": {
       "width": "150px"
      }
     },
     "68e76f2b98124ec28d2448e80dc33863": {
      "model_module": "@jupyter-widgets/controls",
      "model_module_version": "1.5.0",
      "model_name": "TextModel",
      "state": {
       "layout": "IPY_MODEL_5a0c24727aa941b48d996c0a1f0c2bf8",
       "style": "IPY_MODEL_7c9d58bbb1d54bf28db322aedbf19166",
       "value": "9"
      }
     },
     "68e991d4aec64994a909b7cdb10becbc": {
      "model_module": "@jupyter-widgets/controls",
      "model_module_version": "1.5.0",
      "model_name": "DescriptionStyleModel",
      "state": {
       "description_width": ""
      }
     },
     "6906c8e64a804184b1933571548a0b24": {
      "model_module": "@jupyter-widgets/controls",
      "model_module_version": "1.5.0",
      "model_name": "TextModel",
      "state": {
       "layout": "IPY_MODEL_a6b672bf88094d8fa8327c74293c6a55",
       "style": "IPY_MODEL_c14d3d7f3cda4370b99048bcbeae02a1",
       "value": "1"
      }
     },
     "691dc3995cd341c89956ecd5a3dc9c54": {
      "model_module": "@jupyter-widgets/controls",
      "model_module_version": "1.5.0",
      "model_name": "ButtonStyleModel",
      "state": {}
     },
     "692e5e6603824ec087da17330943d3c1": {
      "model_module": "@jupyter-widgets/controls",
      "model_module_version": "1.5.0",
      "model_name": "HBoxModel",
      "state": {
       "children": [
        "IPY_MODEL_b11139dc4e3b4d50aeba312fbc4bd827",
        "IPY_MODEL_c6778ec8dfad484ebeb3ea1b91556a1a"
       ],
       "layout": "IPY_MODEL_ae56788c958e4f0394d980e40ad98629"
      }
     },
     "695aa9e8bd06472997a6a077fab96b45": {
      "model_module": "@jupyter-widgets/controls",
      "model_module_version": "1.5.0",
      "model_name": "DescriptionStyleModel",
      "state": {
       "description_width": ""
      }
     },
     "695f9257f4a9417a81a9b176fd2944ec": {
      "model_module": "@jupyter-widgets/base",
      "model_module_version": "1.2.0",
      "model_name": "LayoutModel",
      "state": {}
     },
     "698f2c44ed154d589d08023a78456c13": {
      "model_module": "@jupyter-widgets/base",
      "model_module_version": "1.2.0",
      "model_name": "LayoutModel",
      "state": {
       "flex_flow": "row wrap",
       "justify_content": "space-around"
      }
     },
     "69b47da00a6049f0ac7a28b2b6b79d44": {
      "model_module": "@jupyter-widgets/controls",
      "model_module_version": "1.5.0",
      "model_name": "DescriptionStyleModel",
      "state": {
       "description_width": ""
      }
     },
     "69b8a98bd1374a2e9295f3213d0c49b5": {
      "model_module": "@jupyter-widgets/controls",
      "model_module_version": "1.5.0",
      "model_name": "DescriptionStyleModel",
      "state": {
       "description_width": ""
      }
     },
     "69bc4e3c52194474998aa9265dfe56c9": {
      "model_module": "@jupyter-widgets/base",
      "model_module_version": "1.2.0",
      "model_name": "LayoutModel",
      "state": {
       "width": "100px"
      }
     },
     "69c30bf1d73744968eb59a68b40ef03c": {
      "model_module": "@jupyter-widgets/controls",
      "model_module_version": "1.5.0",
      "model_name": "DescriptionStyleModel",
      "state": {
       "description_width": ""
      }
     },
     "69d0b927712e476abeabb5847565c45b": {
      "model_module": "@jupyter-widgets/controls",
      "model_module_version": "1.5.0",
      "model_name": "DescriptionStyleModel",
      "state": {
       "description_width": ""
      }
     },
     "69f1d92c76194409b605d61578acc0f4": {
      "model_module": "@jupyter-widgets/controls",
      "model_module_version": "1.5.0",
      "model_name": "HTMLMathModel",
      "state": {
       "layout": "IPY_MODEL_26ae4d7d8ca84d0da16f6704116d6d81",
       "style": "IPY_MODEL_0bdbc075252144f6b39a71f35a9d2843",
       "value": "Enter here the values of the matrix $A$"
      }
     },
     "69f96826782144a587c54c0c600d2c89": {
      "model_module": "@jupyter-widgets/base",
      "model_module_version": "1.2.0",
      "model_name": "LayoutModel",
      "state": {}
     },
     "6a345a97bdc442dea349cb9a9bfd31cf": {
      "model_module": "@jupyter-widgets/base",
      "model_module_version": "1.2.0",
      "model_name": "LayoutModel",
      "state": {}
     },
     "6a34b01a70b840709c851f85080f2dd6": {
      "model_module": "@jupyter-widgets/controls",
      "model_module_version": "1.5.0",
      "model_name": "DropdownModel",
      "state": {
       "_options_labels": [
        "1",
        "2",
        "3"
       ],
       "description": "Swap row",
       "index": 0,
       "layout": "IPY_MODEL_ea8fb48509034940b0bf2793031f47c3",
       "style": "IPY_MODEL_ac91cbc1ec8249c7b079ceecf6f03c3b"
      }
     },
     "6a381b1a0a264242aaf9d1c9dc7b47b1": {
      "model_module": "@jupyter-widgets/controls",
      "model_module_version": "1.5.0",
      "model_name": "TextModel",
      "state": {
       "layout": "IPY_MODEL_f73078d706924fb0a75d30fb0655ac85",
       "style": "IPY_MODEL_cb92cac95f2c4ffcb3ad67e5c7f23ed1",
       "value": "4"
      }
     },
     "6a3afa979d134545b005ccbf971f9f2b": {
      "model_module": "@jupyter-widgets/controls",
      "model_module_version": "1.5.0",
      "model_name": "DescriptionStyleModel",
      "state": {
       "description_width": ""
      }
     },
     "6a9c29d715954664a3b6582a3fd99a05": {
      "model_module": "@jupyter-widgets/controls",
      "model_module_version": "1.5.0",
      "model_name": "DescriptionStyleModel",
      "state": {
       "description_width": ""
      }
     },
     "6aad26db731740b8b2ca4c39a85f2b19": {
      "model_module": "@jupyter-widgets/controls",
      "model_module_version": "1.5.0",
      "model_name": "DescriptionStyleModel",
      "state": {
       "description_width": ""
      }
     },
     "6aadf99942174bd8bfad42742b272e1a": {
      "model_module": "@jupyter-widgets/controls",
      "model_module_version": "1.5.0",
      "model_name": "DescriptionStyleModel",
      "state": {
       "description_width": ""
      }
     },
     "6ab06ae82e094e4fa4b0cfa4b50afb8b": {
      "model_module": "@jupyter-widgets/controls",
      "model_module_version": "1.5.0",
      "model_name": "DescriptionStyleModel",
      "state": {
       "description_width": ""
      }
     },
     "6ab526ed1cb149cf9d439bb1c5832665": {
      "model_module": "@jupyter-widgets/controls",
      "model_module_version": "1.5.0",
      "model_name": "TextModel",
      "state": {
       "description": "times",
       "layout": "IPY_MODEL_c3b612643b4d44a3ade8cfd2387e9471",
       "style": "IPY_MODEL_b1d82bbfeb4d4e92b274fba235b1cd4c",
       "value": "1"
      }
     },
     "6ac07e6bb81440f0901822fed29cb839": {
      "model_module": "@jupyter-widgets/base",
      "model_module_version": "1.2.0",
      "model_name": "LayoutModel",
      "state": {}
     },
     "6ac2e135b3c440779a191dea6e79367c": {
      "model_module": "@jupyter-widgets/controls",
      "model_module_version": "1.5.0",
      "model_name": "HTMLModel",
      "state": {
       "layout": "IPY_MODEL_02ca0318f8d64e50860060fb40564cdc",
       "style": "IPY_MODEL_64359c9eee864d37b9454551e6f2c461",
       "value": "Click this button to start the calculator"
      }
     },
     "6ac75f494ef84a00b83c36c01bfd99fc": {
      "model_module": "@jupyter-widgets/controls",
      "model_module_version": "1.5.0",
      "model_name": "TextModel",
      "state": {
       "description": "times",
       "layout": "IPY_MODEL_31ba861654524d979e2b51b7ea9ac9c2",
       "style": "IPY_MODEL_556375f056dd41bcb87fa2b811349dc5",
       "value": "1"
      }
     },
     "6ae0050bbedc494cae4c1a50018a88f9": {
      "model_module": "@jupyter-widgets/controls",
      "model_module_version": "1.5.0",
      "model_name": "TextModel",
      "state": {
       "layout": "IPY_MODEL_fc4b7699475642ecb4c02ebf24f1e6a2",
       "style": "IPY_MODEL_f62b122c2cdc483d89306b20e471e596",
       "value": "1"
      }
     },
     "6ae136288848499885cc76c693627dbe": {
      "model_module": "@jupyter-widgets/base",
      "model_module_version": "1.2.0",
      "model_name": "LayoutModel",
      "state": {
       "width": "50px"
      }
     },
     "6afae485e1274ef0835afdd3b9aba54f": {
      "model_module": "@jupyter-widgets/base",
      "model_module_version": "1.2.0",
      "model_name": "LayoutModel",
      "state": {}
     },
     "6b3ebf123f1940d2a1985abc852ca74b": {
      "model_module": "@jupyter-widgets/controls",
      "model_module_version": "1.5.0",
      "model_name": "TextModel",
      "state": {
       "layout": "IPY_MODEL_109f6d462a004bdd9a95542348d778f8",
       "style": "IPY_MODEL_10f325c9cdd5412db11465529d3d02ae",
       "value": "-1"
      }
     },
     "6b4536305c2d48f1b369266664ccb5f5": {
      "model_module": "@jupyter-widgets/controls",
      "model_module_version": "1.5.0",
      "model_name": "DescriptionStyleModel",
      "state": {
       "description_width": ""
      }
     },
     "6b4e85c5c4cf4b1bb70336bd6ab05044": {
      "model_module": "@jupyter-widgets/controls",
      "model_module_version": "1.5.0",
      "model_name": "HTMLModel",
      "state": {
       "layout": "IPY_MODEL_ad705ae26de74d94a0de603e00a9d680",
       "style": "IPY_MODEL_354bfed5c847424cafc163ecf2f67d67",
       "value": "Click this button to start the calculator"
      }
     },
     "6b7e634502774c97a14593a62aeacbcc": {
      "model_module": "@jupyter-widgets/controls",
      "model_module_version": "1.5.0",
      "model_name": "TextModel",
      "state": {
       "layout": "IPY_MODEL_efe34e22991049d5b12a19c5a386a8dc",
       "style": "IPY_MODEL_81d871da58a443bf8136d76167b750dd",
       "value": "1"
      }
     },
     "6ba1908675d94c17a7d5a537cdfac87f": {
      "model_module": "@jupyter-widgets/controls",
      "model_module_version": "1.5.0",
      "model_name": "TextModel",
      "state": {
       "layout": "IPY_MODEL_0360a59724284d16ab0033f9c2a97d5d",
       "style": "IPY_MODEL_66d9ad3db1c748768404ba43693323f5",
       "value": "-1"
      }
     },
     "6bac896b44fa446dbe2cc50dbf2ab508": {
      "model_module": "@jupyter-widgets/controls",
      "model_module_version": "1.5.0",
      "model_name": "TextModel",
      "state": {
       "layout": "IPY_MODEL_1ceaf9c9ac774ae985cae0c34af76539",
       "style": "IPY_MODEL_b1896b3f670d4d108835cab73cba5ad7",
       "value": "2"
      }
     },
     "6baf3bee1cb94db6b09fdd1d9ac8204a": {
      "model_module": "@jupyter-widgets/controls",
      "model_module_version": "1.5.0",
      "model_name": "BoxModel",
      "state": {
       "children": [
        "IPY_MODEL_07deda7b92004be580f11a9181992118",
        "IPY_MODEL_7e1231afd0b44733b3196aeb113f5d40",
        "IPY_MODEL_fb87d43024cf4c419c84494bc8b85274",
        "IPY_MODEL_b64f59a203764a89af5a45834e8cc53f"
       ],
       "layout": "IPY_MODEL_c99eb4f1a3c6468187e530814945f6d7"
      }
     },
     "6bb04487f30b47dba4d9b035c68a4a4b": {
      "model_module": "@jupyter-widgets/base",
      "model_module_version": "1.2.0",
      "model_name": "LayoutModel",
      "state": {}
     },
     "6bc5507608534967963ac6b5af1b7e41": {
      "model_module": "@jupyter-widgets/base",
      "model_module_version": "1.2.0",
      "model_name": "LayoutModel",
      "state": {
       "width": "150px"
      }
     },
     "6bef60a7b3994bd2aa874e69f4dc84da": {
      "model_module": "@jupyter-widgets/controls",
      "model_module_version": "1.5.0",
      "model_name": "DescriptionStyleModel",
      "state": {
       "description_width": ""
      }
     },
     "6bf012f6d178429f9b9bf08fbc5bd06d": {
      "model_module": "@jupyter-widgets/controls",
      "model_module_version": "1.5.0",
      "model_name": "VBoxModel",
      "state": {
       "children": [
        "IPY_MODEL_30c3d49e2aaa48dfa4485199962941fd",
        "IPY_MODEL_98516fb8019d423eb195970e617bc353",
        "IPY_MODEL_1a3f7aab2c7543329557f2a3ecb54029"
       ],
       "layout": "IPY_MODEL_edcba7f84b834a7697b3280a6cea10fe"
      }
     },
     "6c2eac0f207445529430b606f6fa2def": {
      "model_module": "@jupyter-widgets/controls",
      "model_module_version": "1.5.0",
      "model_name": "DescriptionStyleModel",
      "state": {
       "description_width": ""
      }
     },
     "6c40de0f11994c3ea85d7103408499dc": {
      "model_module": "@jupyter-widgets/controls",
      "model_module_version": "1.5.0",
      "model_name": "DescriptionStyleModel",
      "state": {
       "description_width": ""
      }
     },
     "6c442d08bce64d29ad2ca26c5d1ed357": {
      "model_module": "@jupyter-widgets/controls",
      "model_module_version": "1.5.0",
      "model_name": "DropdownModel",
      "state": {
       "_options_labels": [
        "1",
        "2",
        "3"
       ],
       "description": "to row",
       "index": 1,
       "layout": "IPY_MODEL_9994f22fe61b4b91a91a41f7511c7c69",
       "style": "IPY_MODEL_5762a68b234f4675ba3dbffc8cb92bfe"
      }
     },
     "6c728eeaabe540f294c6559e60dacc1c": {
      "model_module": "@jupyter-widgets/controls",
      "model_module_version": "1.5.0",
      "model_name": "HTMLMathModel",
      "state": {
       "layout": "IPY_MODEL_b2c6b689a1544f63880033ac31eaa48a",
       "style": "IPY_MODEL_19b0bad4e8d84674b586335be18536fe",
       "value": "The augmented matrix $(\\bf{A}|\\bf{I})$ is:\n $$\\left [\\begin{array}{ rrr|rrr }\n4 & 1 & -2 & 1 & 0 & 0 \\\\\n3 & -1 & 1 & 0 & 1 & 0 \\\\\n1 & -1 & 1 & 0 & 0 & 1\n\\end{array}\\right ] $$ with $\\det A =2$."
      }
     },
     "6c817dd725e94563b0a8b2c39a5c064f": {
      "model_module": "@jupyter-widgets/controls",
      "model_module_version": "1.5.0",
      "model_name": "HBoxModel",
      "state": {
       "children": [
        "IPY_MODEL_5095dc86fc3b46ae83d5f4a653ece073",
        "IPY_MODEL_c1c7d41dc06e4d67b6f3723f464b9850"
       ],
       "layout": "IPY_MODEL_c556c5d21a214695af18649a52b8f792"
      }
     },
     "6c93c05258ae4b1eb000aaee593b189f": {
      "model_module": "@jupyter-widgets/controls",
      "model_module_version": "1.5.0",
      "model_name": "TextModel",
      "state": {
       "layout": "IPY_MODEL_7336bcfb9a2145e9a2df614b1768b15f",
       "style": "IPY_MODEL_3416ccb889f34840ba0235d758de1cc7",
       "value": "1"
      }
     },
     "6c965513aa7d4ea69d036cfd7a56bc44": {
      "model_module": "@jupyter-widgets/controls",
      "model_module_version": "1.5.0",
      "model_name": "VBoxModel",
      "state": {
       "children": [
        "IPY_MODEL_8c786dde77ec479b9ba92c21b5e3e706",
        "IPY_MODEL_3e465d29936b451486e351ad53355287",
        "IPY_MODEL_4634f28305954d10b4ad96623b089a73"
       ],
       "layout": "IPY_MODEL_6e34ffd49deb44c6a32756ccd7737025"
      }
     },
     "6cce94c6ce3f48488fe01a71baa43020": {
      "model_module": "@jupyter-widgets/controls",
      "model_module_version": "1.5.0",
      "model_name": "ButtonStyleModel",
      "state": {}
     },
     "6ce1b377ec7649228be55f298142f7a6": {
      "model_module": "@jupyter-widgets/base",
      "model_module_version": "1.2.0",
      "model_name": "LayoutModel",
      "state": {}
     },
     "6ce43df2a8d94af4b25e6a7633bb6c13": {
      "model_module": "@jupyter-widgets/controls",
      "model_module_version": "1.5.0",
      "model_name": "ButtonModel",
      "state": {
       "description": "Add rows",
       "layout": "IPY_MODEL_30d5e1b994d34e02801a2af46acd155e",
       "style": "IPY_MODEL_651e2aa718364c7d95868eb2902afcc1"
      }
     },
     "6cead23cb1e2410a884c15e46c3a6c4a": {
      "model_module": "@jupyter-widgets/controls",
      "model_module_version": "1.5.0",
      "model_name": "VBoxModel",
      "state": {
       "children": [
        "IPY_MODEL_fc9277aad2a94993aeb3b24a1b30dd70",
        "IPY_MODEL_77d0ae46dd374a17a3fe0222430db5ac",
        "IPY_MODEL_ef52107204e04f2a97f6b95ecc1151de"
       ],
       "layout": "IPY_MODEL_bc6ef12b830b4e6f86e10966e090a3d6"
      }
     },
     "6ceb3e39013c44b7abf9bb4802981df2": {
      "model_module": "@jupyter-widgets/controls",
      "model_module_version": "1.5.0",
      "model_name": "VBoxModel",
      "state": {
       "children": [
        "IPY_MODEL_b71a1c4e2bef4baba58bcdc3b74c23f9",
        "IPY_MODEL_955d3f6f69c849298521710ff0ff6624"
       ],
       "layout": "IPY_MODEL_f29ce3ba67d24dc8871830d5d9f4d4c7"
      }
     },
     "6cfc77168c6044229a39c5f4d1270653": {
      "model_module": "@jupyter-widgets/controls",
      "model_module_version": "1.5.0",
      "model_name": "TextModel",
      "state": {
       "layout": "IPY_MODEL_776389df997545fcab086c0233cb0ab0",
       "style": "IPY_MODEL_bd9e4e39c0f145f29ea1a5da6f08d394",
       "value": "2"
      }
     },
     "6d13e6d8c1cf4f648fedf042d250b4f6": {
      "model_module": "@jupyter-widgets/controls",
      "model_module_version": "1.5.0",
      "model_name": "DescriptionStyleModel",
      "state": {
       "description_width": ""
      }
     },
     "6d33130e3ddb478183ad9116ebca18ea": {
      "model_module": "@jupyter-widgets/base",
      "model_module_version": "1.2.0",
      "model_name": "LayoutModel",
      "state": {}
     },
     "6d3c5c3693db4dc89ab601c8203bd33e": {
      "model_module": "@jupyter-widgets/controls",
      "model_module_version": "1.5.0",
      "model_name": "DropdownModel",
      "state": {
       "_options_labels": [
        "1",
        "2",
        "3"
       ],
       "description": "to row",
       "index": 1,
       "layout": "IPY_MODEL_d13ae58f71d24ceab343610bfb8cff07",
       "style": "IPY_MODEL_43fafe2cc70c4052acb4942f9779e6cc"
      }
     },
     "6d7a0617108443e89b2a41c52ed1f630": {
      "model_module": "@jupyter-widgets/base",
      "model_module_version": "1.2.0",
      "model_name": "LayoutModel",
      "state": {}
     },
     "6d942404b0954a4bafd7352ec4138701": {
      "model_module": "@jupyter-widgets/controls",
      "model_module_version": "1.5.0",
      "model_name": "TextModel",
      "state": {
       "layout": "IPY_MODEL_065f08ede0b647238ec761aa592646c7",
       "style": "IPY_MODEL_46b320499f5044bf99e9c3cf19d5228c",
       "value": "7"
      }
     },
     "6dad8dc389924fa0baf9c3f001d7c8f0": {
      "model_module": "@jupyter-widgets/base",
      "model_module_version": "1.2.0",
      "model_name": "LayoutModel",
      "state": {
       "width": "100px"
      }
     },
     "6dce6c59eda04251958dfaa6e7dd14c3": {
      "model_module": "@jupyter-widgets/controls",
      "model_module_version": "1.5.0",
      "model_name": "VBoxModel",
      "state": {
       "children": [
        "IPY_MODEL_0f351ad227364b28b2aad46ee261b59d",
        "IPY_MODEL_7b2f2b8af5584ee3aa3cf9075f6a4461"
       ],
       "layout": "IPY_MODEL_0cabdc15793e4dd58e647f6542dd1b99"
      }
     },
     "6dd22e7d56754a168034fd760123ce0f": {
      "model_module": "@jupyter-widgets/base",
      "model_module_version": "1.2.0",
      "model_name": "LayoutModel",
      "state": {}
     },
     "6e066c9211684a5481eadc996b6c51d1": {
      "model_module": "@jupyter-widgets/controls",
      "model_module_version": "1.5.0",
      "model_name": "VBoxModel",
      "state": {
       "children": [
        "IPY_MODEL_993857af94b74179938819e908dd6211",
        "IPY_MODEL_982eb6210cee45f383a61d447317ed55",
        "IPY_MODEL_f33bc32532f14d079a5b6a40df72ef50"
       ],
       "layout": "IPY_MODEL_ff0ae4c98157472997cc8f44af9833df"
      }
     },
     "6e08c9382fce40d092e6d5e0c371b7ca": {
      "model_module": "@jupyter-widgets/controls",
      "model_module_version": "1.5.0",
      "model_name": "DescriptionStyleModel",
      "state": {
       "description_width": ""
      }
     },
     "6e0b65549c6e4d06814e5dda69f48b8c": {
      "model_module": "@jupyter-widgets/controls",
      "model_module_version": "1.5.0",
      "model_name": "TextModel",
      "state": {
       "layout": "IPY_MODEL_47a60aa1cf3045f2a536b06edf49c5ea",
       "style": "IPY_MODEL_0b6872970b134a9794bf6713e01fffae",
       "value": "7"
      }
     },
     "6e1195a568ee4d0e89f2d6eb4ae88352": {
      "model_module": "@jupyter-widgets/controls",
      "model_module_version": "1.5.0",
      "model_name": "HBoxModel",
      "state": {
       "children": [
        "IPY_MODEL_567ca486007d4b28a2508a9f4a504dfc",
        "IPY_MODEL_60d3132022a744a48d53e3fa153002b5",
        "IPY_MODEL_08367ae695c645c0959ca3bc414774dd"
       ],
       "layout": "IPY_MODEL_4a587684b5ad4b7ab5b69fbd2b15d964"
      }
     },
     "6e288c97588e418aabfc1f3ef33b8c3e": {
      "model_module": "@jupyter-widgets/base",
      "model_module_version": "1.2.0",
      "model_name": "LayoutModel",
      "state": {}
     },
     "6e340a759b324f31917261a18667b14d": {
      "model_module": "@jupyter-widgets/controls",
      "model_module_version": "1.5.0",
      "model_name": "DescriptionStyleModel",
      "state": {
       "description_width": ""
      }
     },
     "6e34ffd49deb44c6a32756ccd7737025": {
      "model_module": "@jupyter-widgets/base",
      "model_module_version": "1.2.0",
      "model_name": "LayoutModel",
      "state": {}
     },
     "6e3a0f2416c84a7dafb6584165082312": {
      "model_module": "@jupyter-widgets/controls",
      "model_module_version": "1.5.0",
      "model_name": "DescriptionStyleModel",
      "state": {
       "description_width": ""
      }
     },
     "6e3d12632e2e47a8aea7fda25d9a48c1": {
      "model_module": "@jupyter-widgets/base",
      "model_module_version": "1.2.0",
      "model_name": "LayoutModel",
      "state": {
       "width": "90px"
      }
     },
     "6e57efaac86c4b869c692c0dd290d8ca": {
      "model_module": "@jupyter-widgets/controls",
      "model_module_version": "1.5.0",
      "model_name": "VBoxModel",
      "state": {
       "children": [
        "IPY_MODEL_0f146334d20c40c5a3cf2f6f9e454979",
        "IPY_MODEL_a9473816ad6241cf80cf8ea226761390",
        "IPY_MODEL_eefc96d3ecc94c589d5246bde07b63c2"
       ],
       "layout": "IPY_MODEL_5e638243fe01472fb267b174de418599"
      }
     },
     "6e6b42216b8c4db28086c8693a1631b7": {
      "model_module": "@jupyter-widgets/base",
      "model_module_version": "1.2.0",
      "model_name": "LayoutModel",
      "state": {
       "width": "90px"
      }
     },
     "6e7363e8017c44daad8b9d164d011131": {
      "model_module": "@jupyter-widgets/base",
      "model_module_version": "1.2.0",
      "model_name": "LayoutModel",
      "state": {
       "justify_content": "space-between"
      }
     },
     "6e939921766a4f98b752e8b4d0b93b35": {
      "model_module": "@jupyter-widgets/base",
      "model_module_version": "1.2.0",
      "model_name": "LayoutModel",
      "state": {}
     },
     "6e9a76b61fa54105ba982e17e39a64b2": {
      "model_module": "@jupyter-widgets/controls",
      "model_module_version": "1.5.0",
      "model_name": "DropdownModel",
      "state": {
       "_options_labels": [
        "1",
        "2",
        "3"
       ],
       "description": "Row",
       "index": 0,
       "layout": "IPY_MODEL_a3d3705f776a4d79bf875f7b06e3f2c9",
       "style": "IPY_MODEL_89b3e4571057466f8088f47cc6141e24"
      }
     },
     "6eadf59c84124385b1b090a528604d88": {
      "model_module": "@jupyter-widgets/controls",
      "model_module_version": "1.5.0",
      "model_name": "ButtonModel",
      "state": {
       "description": "Check inverse",
       "layout": "IPY_MODEL_272d73819acf4403bb4c480fe7eff7ec",
       "style": "IPY_MODEL_e4a60a2326fb49d0805fb797c1b39928"
      }
     },
     "6ee17cb2215e4a51b4ff1a9e949bd107": {
      "model_module": "@jupyter-widgets/controls",
      "model_module_version": "1.5.0",
      "model_name": "DescriptionStyleModel",
      "state": {
       "description_width": ""
      }
     },
     "6ef3bc0744a743f4a50b6c4fc67c3b22": {
      "model_module": "@jupyter-widgets/base",
      "model_module_version": "1.2.0",
      "model_name": "LayoutModel",
      "state": {}
     },
     "6f0914de525c4c3b877f1e3a15942a47": {
      "model_module": "@jupyter-widgets/base",
      "model_module_version": "1.2.0",
      "model_name": "LayoutModel",
      "state": {
       "width": "150px"
      }
     },
     "6f13f7c6f5054803a36a8c0bbe5269c3": {
      "model_module": "@jupyter-widgets/controls",
      "model_module_version": "1.5.0",
      "model_name": "DescriptionStyleModel",
      "state": {
       "description_width": ""
      }
     },
     "6f1ef0db4d3b4495a07e2c721323ef96": {
      "model_module": "@jupyter-widgets/controls",
      "model_module_version": "1.5.0",
      "model_name": "VBoxModel",
      "state": {
       "children": [
        "IPY_MODEL_a35260dc3af94059b47f7cac7e6267df",
        "IPY_MODEL_d6b33ac2f14344cf8789bd051693575d",
        "IPY_MODEL_a41f9127fbbe4247a6d759740ff3aea1"
       ],
       "layout": "IPY_MODEL_686e9f3dbae54b289a8c39f46b8c73e3"
      }
     },
     "6f5d7189f3294051aa6db2e280be4851": {
      "model_module": "@jupyter-widgets/base",
      "model_module_version": "1.2.0",
      "model_name": "LayoutModel",
      "state": {
       "width": "150px"
      }
     },
     "6f6808a1453f46c8b15d427fa7d70528": {
      "model_module": "@jupyter-widgets/controls",
      "model_module_version": "1.5.0",
      "model_name": "HBoxModel",
      "state": {
       "children": [
        "IPY_MODEL_32b4c92919144610b4525cb9e894d2de",
        "IPY_MODEL_a03b6b68150a49479c284f094cbfde0f"
       ],
       "layout": "IPY_MODEL_fc87b5ff85294e889780b7f02d7c6030"
      }
     },
     "6f73f61d7ee94767b9144f8de012ffbf": {
      "model_module": "@jupyter-widgets/controls",
      "model_module_version": "1.5.0",
      "model_name": "HBoxModel",
      "state": {
       "children": [
        "IPY_MODEL_f03167670854477988a957d116c254b7",
        "IPY_MODEL_4c690ee7921046299501021b0613d727",
        "IPY_MODEL_8056cfa700ac4315850f82e18bb8cf23"
       ],
       "layout": "IPY_MODEL_c5d636cea53d4916b99b4e03b8ac467a"
      }
     },
     "6f8d5a25238b4dbcad0d3a0d27cfbc4c": {
      "model_module": "@jupyter-widgets/controls",
      "model_module_version": "1.5.0",
      "model_name": "TextModel",
      "state": {
       "layout": "IPY_MODEL_ff8f131091ed4bf49b858ed52bc5b3ea",
       "style": "IPY_MODEL_744b952698ec45f6a2a0d7f5033dcf47",
       "value": "1"
      }
     },
     "6f8efccceed649bba135fcfc82dd1b6c": {
      "model_module": "@jupyter-widgets/controls",
      "model_module_version": "1.5.0",
      "model_name": "DescriptionStyleModel",
      "state": {
       "description_width": ""
      }
     },
     "6faad59dbb884c9fbb17637883343600": {
      "model_module": "@jupyter-widgets/controls",
      "model_module_version": "1.5.0",
      "model_name": "DescriptionStyleModel",
      "state": {
       "description_width": ""
      }
     },
     "6fd88a03d4404bbc941802f90c084a85": {
      "model_module": "@jupyter-widgets/base",
      "model_module_version": "1.2.0",
      "model_name": "LayoutModel",
      "state": {
       "width": "150px"
      }
     },
     "6ff7c57429c5425cbf95a45a7b62b903": {
      "model_module": "@jupyter-widgets/controls",
      "model_module_version": "1.5.0",
      "model_name": "DescriptionStyleModel",
      "state": {
       "description_width": ""
      }
     },
     "7009728b39f144c29e2e3cacd1f3d18b": {
      "model_module": "@jupyter-widgets/controls",
      "model_module_version": "1.5.0",
      "model_name": "DescriptionStyleModel",
      "state": {
       "description_width": ""
      }
     },
     "702fa46304c24628869bf2ae24697e6e": {
      "model_module": "@jupyter-widgets/controls",
      "model_module_version": "1.5.0",
      "model_name": "DescriptionStyleModel",
      "state": {
       "description_width": ""
      }
     },
     "704ad8b0a249492eae49c1568a516888": {
      "model_module": "@jupyter-widgets/controls",
      "model_module_version": "1.5.0",
      "model_name": "HTMLModel",
      "state": {
       "layout": "IPY_MODEL_83455cb4b6504b38b6c9858015b9fdac",
       "style": "IPY_MODEL_62d0b4f47fdb436aae30e804c3c1ddd5",
       "value": "Click this button to start the calculator"
      }
     },
     "704d5a26e8574765b67aa1f7b78dda36": {
      "model_module": "@jupyter-widgets/controls",
      "model_module_version": "1.5.0",
      "model_name": "HBoxModel",
      "state": {
       "children": [
        "IPY_MODEL_ddf32652dd6043ad9317968265fa17ef",
        "IPY_MODEL_6cead23cb1e2410a884c15e46c3a6c4a"
       ],
       "layout": "IPY_MODEL_07361b8935ce41ccb877278c622db033"
      }
     },
     "7059f9c5ab7a4b96b260a7357bf54975": {
      "model_module": "@jupyter-widgets/base",
      "model_module_version": "1.2.0",
      "model_name": "LayoutModel",
      "state": {}
     },
     "70b01c5704794019927ff06f0ffd65c8": {
      "model_module": "@jupyter-widgets/controls",
      "model_module_version": "1.5.0",
      "model_name": "VBoxModel",
      "state": {
       "children": [
        "IPY_MODEL_ffab03d87d05495b92a79147ec420936",
        "IPY_MODEL_d0a6210a464046b281c28128290ebd53"
       ],
       "layout": "IPY_MODEL_2dfb2f0815b74f8d8717a64975508a06"
      }
     },
     "710bb206711c41f79b8588f0e56b86de": {
      "model_module": "@jupyter-widgets/base",
      "model_module_version": "1.2.0",
      "model_name": "LayoutModel",
      "state": {}
     },
     "712c3c645239403ab70f4ccc615744b2": {
      "model_module": "@jupyter-widgets/controls",
      "model_module_version": "1.5.0",
      "model_name": "ButtonModel",
      "state": {
       "description": "Multiply row",
       "layout": "IPY_MODEL_0c6f2c314f204a0a9bb9380d1dc6b960",
       "style": "IPY_MODEL_feaec62d0d844614a1378a4eb6c59074"
      }
     },
     "7135351aeb0947248f265fab22fa2346": {
      "model_module": "@jupyter-widgets/controls",
      "model_module_version": "1.5.0",
      "model_name": "TextModel",
      "state": {
       "layout": "IPY_MODEL_e60a861eca344ffe9430ae66e253e656",
       "style": "IPY_MODEL_cc160c836f3342bda2c02dc88b722e63",
       "value": "4"
      }
     },
     "71453e071a9f46ebbddba55c81bb939f": {
      "model_module": "@jupyter-widgets/controls",
      "model_module_version": "1.5.0",
      "model_name": "HTMLMathModel",
      "state": {
       "layout": "IPY_MODEL_7e9217281f134a3cbfaea6cdc6627edb",
       "style": "IPY_MODEL_abfc0782a96b451f8ab1b3399452c5ef",
       "value": "Results will be shown here."
      }
     },
     "7158a014734241aab5bc5d0df1b2d8af": {
      "model_module": "@jupyter-widgets/controls",
      "model_module_version": "1.5.0",
      "model_name": "TextModel",
      "state": {
       "layout": "IPY_MODEL_35e7cd5dc3a344c7867ddf08fc7e1130",
       "style": "IPY_MODEL_71c32b7655874675ac173f958d911040",
       "value": " 1"
      }
     },
     "71767ad1af554999bd12c591aee9fb25": {
      "model_module": "@jupyter-widgets/base",
      "model_module_version": "1.2.0",
      "model_name": "LayoutModel",
      "state": {}
     },
     "718c22a22be74e419f215027fe8e0309": {
      "model_module": "@jupyter-widgets/controls",
      "model_module_version": "1.5.0",
      "model_name": "TextModel",
      "state": {
       "description": "times",
       "layout": "IPY_MODEL_fd83eab33cc944e898f59710b384f270",
       "style": "IPY_MODEL_79b16fe14da4491cbff471194ad23034",
       "value": "1"
      }
     },
     "71a043bb35034ef8a8f68b15be0448e7": {
      "model_module": "@jupyter-widgets/controls",
      "model_module_version": "1.5.0",
      "model_name": "ButtonModel",
      "state": {
       "description": "Start",
       "layout": "IPY_MODEL_00bad89f10f84261b66ba902ec6dc01d",
       "style": "IPY_MODEL_28c6f44c68c24f47930ad943e1c212ae"
      }
     },
     "71a10ae1f8e04fcab4732cdaaf7f8fd3": {
      "model_module": "@jupyter-widgets/base",
      "model_module_version": "1.2.0",
      "model_name": "LayoutModel",
      "state": {
       "width": "150px"
      }
     },
     "71bddc835ec74c7bbdcc813765c37303": {
      "model_module": "@jupyter-widgets/controls",
      "model_module_version": "1.5.0",
      "model_name": "TextModel",
      "state": {
       "layout": "IPY_MODEL_239bec109578490f9329cf0477e25967",
       "style": "IPY_MODEL_c02d8f1652314e80a48eff63e69d1ccc",
       "value": "2"
      }
     },
     "71c32b7655874675ac173f958d911040": {
      "model_module": "@jupyter-widgets/controls",
      "model_module_version": "1.5.0",
      "model_name": "DescriptionStyleModel",
      "state": {
       "description_width": ""
      }
     },
     "71c8db1a40c64665a03d33fedd74d377": {
      "model_module": "@jupyter-widgets/controls",
      "model_module_version": "1.5.0",
      "model_name": "DescriptionStyleModel",
      "state": {
       "description_width": ""
      }
     },
     "71ccaefef5204efb9847d70d0986be68": {
      "model_module": "@jupyter-widgets/base",
      "model_module_version": "1.2.0",
      "model_name": "LayoutModel",
      "state": {
       "width": "120px"
      }
     },
     "71d23df065f840aebb97c99e531a36c6": {
      "model_module": "@jupyter-widgets/controls",
      "model_module_version": "1.5.0",
      "model_name": "VBoxModel",
      "state": {
       "children": [
        "IPY_MODEL_17076c2c2b174ef3be2823763c097861",
        "IPY_MODEL_35fb20e57cc94405aa2fae9e091b0e85"
       ],
       "layout": "IPY_MODEL_b15695fe3c094b13af49d7d2bb3c86e1"
      }
     },
     "71d35b37ce8e4a009830e6b08ff10f9e": {
      "model_module": "@jupyter-widgets/base",
      "model_module_version": "1.2.0",
      "model_name": "LayoutModel",
      "state": {}
     },
     "720bb0097968463c90c4280da92f4f7e": {
      "model_module": "@jupyter-widgets/controls",
      "model_module_version": "1.5.0",
      "model_name": "DescriptionStyleModel",
      "state": {
       "description_width": ""
      }
     },
     "721e905890494a43bb331fa1a6bf0902": {
      "model_module": "@jupyter-widgets/controls",
      "model_module_version": "1.5.0",
      "model_name": "HBoxModel",
      "state": {
       "children": [
        "IPY_MODEL_55414b87723a4ea9a40c59e3d27932f2",
        "IPY_MODEL_e5f45988dcc34d81b5ae6e54e536b7de",
        "IPY_MODEL_4f6fbde9d12749639703a02793d24d4a"
       ],
       "layout": "IPY_MODEL_4a8bc5a4a70a483fa1a659da0c219ad7"
      }
     },
     "7231a6e6a9504e24a63aba01f0b0a6ab": {
      "model_module": "@jupyter-widgets/controls",
      "model_module_version": "1.5.0",
      "model_name": "TextModel",
      "state": {
       "layout": "IPY_MODEL_24e52a9da5f64680833f56257412e632",
       "style": "IPY_MODEL_5dc953eb61c54fc1948b313fb3461dd9",
       "value": "-6"
      }
     },
     "7238e65219374dde85db1716a83173fb": {
      "model_module": "@jupyter-widgets/controls",
      "model_module_version": "1.5.0",
      "model_name": "TextModel",
      "state": {
       "description": "times",
       "layout": "IPY_MODEL_64fa9221ea8f44c48d030858eeda8fce",
       "style": "IPY_MODEL_9991906b4c984d73bb62878fc1749ca9",
       "value": "1"
      }
     },
     "7240fb04b5c94d5095a9f06439eb796b": {
      "model_module": "@jupyter-widgets/controls",
      "model_module_version": "1.5.0",
      "model_name": "HTMLMathModel",
      "state": {
       "layout": "IPY_MODEL_cc9faa02a1614de59991fac6e167e928",
       "style": "IPY_MODEL_a116ed648ee54683af1ba558b1c388b2",
       "value": "The augmented matrix $(\\bf{A}|\\bf{I})$ is:\n $$\\left [\\begin{array}{ rrr|rrr }\n4 & 1 & -2 & 1 & 0 & 0 \\\\\n3 & -1 & 1 & 0 & 1 & 0 \\\\\n1 & -1 & 1 & 0 & 0 & 1\n\\end{array}\\right ] $$ with $\\det A =2$."
      }
     },
     "724c6a91d9094a5eb15278283f01e927": {
      "model_module": "@jupyter-widgets/controls",
      "model_module_version": "1.5.0",
      "model_name": "HBoxModel",
      "state": {
       "children": [
        "IPY_MODEL_e2680f5102274c879290f0fd80b7a2fd",
        "IPY_MODEL_3a67296a5abd44e79175cdb6b5095f4e"
       ],
       "layout": "IPY_MODEL_f2f1079d40fe4ce5b06799417f86036c"
      }
     },
     "7280a62ab27f4595969c2db2a3eeec5f": {
      "model_module": "@jupyter-widgets/controls",
      "model_module_version": "1.5.0",
      "model_name": "DescriptionStyleModel",
      "state": {
       "description_width": ""
      }
     },
     "7282b0e52c5745819d59ae398bdf74f1": {
      "model_module": "@jupyter-widgets/controls",
      "model_module_version": "1.5.0",
      "model_name": "DescriptionStyleModel",
      "state": {
       "description_width": ""
      }
     },
     "7283262a48814e33b27f1ffb36e24f39": {
      "model_module": "@jupyter-widgets/controls",
      "model_module_version": "1.5.0",
      "model_name": "VBoxModel",
      "state": {
       "children": [
        "IPY_MODEL_9f73eee50005417b96459dbd9eeba9ef",
        "IPY_MODEL_022ab57b395d41cfa17e02b5ccf1ca8a",
        "IPY_MODEL_8c72cee3e98f48b29999197a67d0eece"
       ],
       "layout": "IPY_MODEL_9e8ea9f08df8499eb80b895b04aa8775"
      }
     },
     "72985fd91f8b4d1097b58b276981043f": {
      "model_module": "@jupyter-widgets/controls",
      "model_module_version": "1.5.0",
      "model_name": "HTMLMathModel",
      "state": {
       "layout": "IPY_MODEL_b73a47a6949b4fbb9c457e60eb20b552",
       "style": "IPY_MODEL_62da834a27334571b3e7209ecc1ea65b",
       "value": "The augmented matrix will appear here."
      }
     },
     "72bb58bd5b5647f9b0f2bbae6756c292": {
      "model_module": "@jupyter-widgets/controls",
      "model_module_version": "1.5.0",
      "model_name": "TextModel",
      "state": {
       "layout": "IPY_MODEL_dfe771ca3cb647c5ba599a113ad575df",
       "style": "IPY_MODEL_b83654dbe6154a2ea6780feff2354ae0",
       "value": "9"
      }
     },
     "72c920985ddd49e08088aaccc0e2b859": {
      "model_module": "@jupyter-widgets/controls",
      "model_module_version": "1.5.0",
      "model_name": "TextModel",
      "state": {
       "layout": "IPY_MODEL_342fbdc31d2d406489b24d1349c22e03",
       "style": "IPY_MODEL_9fecc969df554c3bb6fa46b79b26d15e",
       "value": "-1"
      }
     },
     "72cb05b652e54229a2e9e241785a89d5": {
      "model_module": "@jupyter-widgets/controls",
      "model_module_version": "1.5.0",
      "model_name": "TextModel",
      "state": {
       "layout": "IPY_MODEL_a21d52801ae94e44813bb1c00d81c473",
       "style": "IPY_MODEL_25271f6541b145abbaf149c4a9eb78ff",
       "value": "1"
      }
     },
     "72dde0d5194c480f92352db4e5ae1e21": {
      "model_module": "@jupyter-widgets/base",
      "model_module_version": "1.2.0",
      "model_name": "LayoutModel",
      "state": {}
     },
     "730489c14e4e4555afdf6dfcd79389e8": {
      "model_module": "@jupyter-widgets/controls",
      "model_module_version": "1.5.0",
      "model_name": "TextModel",
      "state": {
       "layout": "IPY_MODEL_65cb8db367e14667886b79ef97c800d1",
       "style": "IPY_MODEL_0be087d82ca1497b8f6f9d31cbb4239e",
       "value": "7"
      }
     },
     "7323c5891cb346ef94bbe440a9569a38": {
      "model_module": "@jupyter-widgets/controls",
      "model_module_version": "1.5.0",
      "model_name": "DescriptionStyleModel",
      "state": {
       "description_width": ""
      }
     },
     "7335ec8989094b4c8a2baa4226018349": {
      "model_module": "@jupyter-widgets/controls",
      "model_module_version": "1.5.0",
      "model_name": "DescriptionStyleModel",
      "state": {
       "description_width": ""
      }
     },
     "7336bcfb9a2145e9a2df614b1768b15f": {
      "model_module": "@jupyter-widgets/base",
      "model_module_version": "1.2.0",
      "model_name": "LayoutModel",
      "state": {
       "height": "35px",
       "width": "40px"
      }
     },
     "734f908248364b5eb88bed04a49f9677": {
      "model_module": "@jupyter-widgets/base",
      "model_module_version": "1.2.0",
      "model_name": "LayoutModel",
      "state": {
       "width": "100px"
      }
     },
     "735d455316d844e4bc088d1303c1e0fc": {
      "model_module": "@jupyter-widgets/controls",
      "model_module_version": "1.5.0",
      "model_name": "TextModel",
      "state": {
       "layout": "IPY_MODEL_9a1e48de729e4abb89a3a19428a205a0",
       "style": "IPY_MODEL_758bc87e428c43e1b0f41f36ba529c5a",
       "value": "-2"
      }
     },
     "735e5d8241d145a0ab4f51aa47ea06ca": {
      "model_module": "@jupyter-widgets/base",
      "model_module_version": "1.2.0",
      "model_name": "LayoutModel",
      "state": {}
     },
     "7360273407e04c57ae2c648d0f434a90": {
      "model_module": "@jupyter-widgets/controls",
      "model_module_version": "1.5.0",
      "model_name": "DescriptionStyleModel",
      "state": {
       "description_width": ""
      }
     },
     "7362a71846a24c0f90bc62605b13b547": {
      "model_module": "@jupyter-widgets/controls",
      "model_module_version": "1.5.0",
      "model_name": "TextModel",
      "state": {
       "layout": "IPY_MODEL_342fbdc31d2d406489b24d1349c22e03",
       "style": "IPY_MODEL_dd77878f5e5c4cbfb022fe1ae57e409f",
       "value": "-1"
      }
     },
     "7385688017d145d992e2ba819a1d5d19": {
      "model_module": "@jupyter-widgets/controls",
      "model_module_version": "1.5.0",
      "model_name": "DescriptionStyleModel",
      "state": {
       "description_width": ""
      }
     },
     "73afa188ce16406dbce01458abce3648": {
      "model_module": "@jupyter-widgets/controls",
      "model_module_version": "1.5.0",
      "model_name": "VBoxModel",
      "state": {
       "children": [
        "IPY_MODEL_859904409f2945b0a19cc9b29f8ba484",
        "IPY_MODEL_27bdb22148914b76ad42b4c47112636a",
        "IPY_MODEL_1533142d76394219893639590182eb2c"
       ],
       "layout": "IPY_MODEL_50932b40c2994d219598f2fb5b8f0889"
      }
     },
     "73cafa62da9743a3817cdc9ca4a68f4d": {
      "model_module": "@jupyter-widgets/controls",
      "model_module_version": "1.5.0",
      "model_name": "TextModel",
      "state": {
       "layout": "IPY_MODEL_342fbdc31d2d406489b24d1349c22e03",
       "style": "IPY_MODEL_3843f1d8a0bf41a695d14e23f35e970f",
       "value": "2"
      }
     },
     "73e278548575430ba34d148a792d1687": {
      "model_module": "@jupyter-widgets/controls",
      "model_module_version": "1.5.0",
      "model_name": "HTMLMathModel",
      "state": {
       "layout": "IPY_MODEL_b2ffaba8b497439a942ad036187b964b",
       "style": "IPY_MODEL_c64059aee24b495dbdfe2d17c3363fd4",
       "value": "Enter here the values of the right hand side vector $b$"
      }
     },
     "73ee0f582b8a47ddaa082f8751c1d7bd": {
      "model_module": "@jupyter-widgets/controls",
      "model_module_version": "1.5.0",
      "model_name": "HBoxModel",
      "state": {
       "children": [
        "IPY_MODEL_febb1884e36c4378af567644d19c74db",
        "IPY_MODEL_b945cd11dba949a1b2a67e6adfd1f5a9"
       ],
       "layout": "IPY_MODEL_a51ce9527b3a446e8e4b606c18d484b4"
      }
     },
     "73eeb7a0691f4f6b8b70696029b646c9": {
      "model_module": "@jupyter-widgets/controls",
      "model_module_version": "1.5.0",
      "model_name": "TextModel",
      "state": {
       "description": "times",
       "layout": "IPY_MODEL_f97dbf302f114dd2b95140c9e14c3cc7",
       "style": "IPY_MODEL_4a630d754f524059a7468b17f36a6168",
       "value": "1"
      }
     },
     "7421e8d041284cd8945f22c22cf05d8c": {
      "model_module": "@jupyter-widgets/controls",
      "model_module_version": "1.5.0",
      "model_name": "DescriptionStyleModel",
      "state": {
       "description_width": ""
      }
     },
     "744b952698ec45f6a2a0d7f5033dcf47": {
      "model_module": "@jupyter-widgets/controls",
      "model_module_version": "1.5.0",
      "model_name": "DescriptionStyleModel",
      "state": {
       "description_width": ""
      }
     },
     "746fa81095204260a1da7db8ae4c2924": {
      "model_module": "@jupyter-widgets/controls",
      "model_module_version": "1.5.0",
      "model_name": "TextModel",
      "state": {
       "layout": "IPY_MODEL_35e7cd5dc3a344c7867ddf08fc7e1130",
       "style": "IPY_MODEL_1b67125bc30f4371b0004013cb1f07b2",
       "value": "-4"
      }
     },
     "749f6875a42d43818eacf729788cd425": {
      "model_module": "@jupyter-widgets/base",
      "model_module_version": "1.2.0",
      "model_name": "LayoutModel",
      "state": {}
     },
     "749f71f0184b4aa486dc319ec00855c6": {
      "model_module": "@jupyter-widgets/controls",
      "model_module_version": "1.5.0",
      "model_name": "HBoxModel",
      "state": {
       "children": [
        "IPY_MODEL_7dde712f1739459c9ecdf3e5cd144f3f",
        "IPY_MODEL_35224dec32d84903b83dfca5d5887968",
        "IPY_MODEL_c814b1c43f274816a7a1ddfb9148137c"
       ],
       "layout": "IPY_MODEL_fa6ffe7609f44c86a845c42560697ecb"
      }
     },
     "74a6b1792bc643ea98f3b799129801aa": {
      "model_module": "@jupyter-widgets/controls",
      "model_module_version": "1.5.0",
      "model_name": "DescriptionStyleModel",
      "state": {
       "description_width": ""
      }
     },
     "74cd3546676f4b52998b873b9481d48e": {
      "model_module": "@jupyter-widgets/base",
      "model_module_version": "1.2.0",
      "model_name": "LayoutModel",
      "state": {}
     },
     "74d5714661a846d89c00c0e7855a3b28": {
      "model_module": "@jupyter-widgets/controls",
      "model_module_version": "1.5.0",
      "model_name": "BoxModel",
      "state": {
       "children": [
        "IPY_MODEL_185ca62ad59b4fb1898de88daadfbf19",
        "IPY_MODEL_5eab7ff98c634aeba0718607ae240033",
        "IPY_MODEL_7b8a14a2e4234bcf8a7209938b68c57e",
        "IPY_MODEL_e8f8d488ac1948b5b90177cb2b455b1f"
       ],
       "layout": "IPY_MODEL_3686333061284c9c89eeeaf180d12c0b"
      }
     },
     "74d5e40220c543e38afd705a4f81476e": {
      "model_module": "@jupyter-widgets/controls",
      "model_module_version": "1.5.0",
      "model_name": "ButtonModel",
      "state": {
       "description": "Multiply row",
       "layout": "IPY_MODEL_6512ca68235e4e67a26cd6ea02032e44",
       "style": "IPY_MODEL_41792316ecc5436aa4d748a1fcbe0eae"
      }
     },
     "74dbec571f184de7bc8900c3076f4493": {
      "model_module": "@jupyter-widgets/controls",
      "model_module_version": "1.5.0",
      "model_name": "ButtonModel",
      "state": {
       "description": "Check inverse",
       "layout": "IPY_MODEL_256e48f506f14bf2b12458f7e5f998fc",
       "style": "IPY_MODEL_64fd141057e94260bdcf99ea8806049c"
      }
     },
     "750dd9d3577c433da0daddd8af017e90": {
      "model_module": "@jupyter-widgets/controls",
      "model_module_version": "1.5.0",
      "model_name": "TextModel",
      "state": {
       "layout": "IPY_MODEL_a21d52801ae94e44813bb1c00d81c473",
       "style": "IPY_MODEL_33cf66b3ba8b4ae193faa1ffafde3900",
       "value": "-1"
      }
     },
     "75598fbbf3654bee81a9f77b05103a98": {
      "model_module": "@jupyter-widgets/controls",
      "model_module_version": "1.5.0",
      "model_name": "ButtonStyleModel",
      "state": {}
     },
     "7574ff2cf42c442eb502986d7c71dfd9": {
      "model_module": "@jupyter-widgets/base",
      "model_module_version": "1.2.0",
      "model_name": "LayoutModel",
      "state": {}
     },
     "758bc87e428c43e1b0f41f36ba529c5a": {
      "model_module": "@jupyter-widgets/controls",
      "model_module_version": "1.5.0",
      "model_name": "DescriptionStyleModel",
      "state": {
       "description_width": ""
      }
     },
     "759a4cdb2c014bed8ace68c7fd0debfc": {
      "model_module": "@jupyter-widgets/controls",
      "model_module_version": "1.5.0",
      "model_name": "ButtonStyleModel",
      "state": {}
     },
     "75a6736d1b554771af5fd5b22a225cd7": {
      "model_module": "@jupyter-widgets/controls",
      "model_module_version": "1.5.0",
      "model_name": "DescriptionStyleModel",
      "state": {
       "description_width": ""
      }
     },
     "75a8e3e75fce4f7fb2d20f102a46ef55": {
      "model_module": "@jupyter-widgets/controls",
      "model_module_version": "1.5.0",
      "model_name": "TextModel",
      "state": {
       "layout": "IPY_MODEL_ff8f131091ed4bf49b858ed52bc5b3ea",
       "style": "IPY_MODEL_04893e74f4054d4f9bcd50d44748d01a",
       "value": "7"
      }
     },
     "75ae19b76bb44449be86d6e2c58edcde": {
      "model_module": "@jupyter-widgets/controls",
      "model_module_version": "1.5.0",
      "model_name": "VBoxModel",
      "state": {
       "children": [
        "IPY_MODEL_f6746d44ce064bfaa36f53ecb2852105",
        "IPY_MODEL_e24097b12fa7495d9dde9fb8e385ba7f",
        "IPY_MODEL_7c0b8ecc74534b90821ebd83df909ba6"
       ],
       "layout": "IPY_MODEL_652cab09e0534bda9972a5b58a1a350f"
      }
     },
     "75d46b3fba5b4e2d91edbac8f35b0dd3": {
      "model_module": "@jupyter-widgets/controls",
      "model_module_version": "1.5.0",
      "model_name": "HBoxModel",
      "state": {
       "children": [
        "IPY_MODEL_02ab505bdb774066b289b53d7f5cc40c",
        "IPY_MODEL_b88433ee3f2e4fad97a6181a28efa23f",
        "IPY_MODEL_403f6b50c01b425984516eb0d23793c2"
       ],
       "layout": "IPY_MODEL_ce0b8e347f0e4c6f95b244b8743697fe"
      }
     },
     "75d53e8d60304c599bec5db36d1d566e": {
      "model_module": "@jupyter-widgets/controls",
      "model_module_version": "1.5.0",
      "model_name": "DescriptionStyleModel",
      "state": {
       "description_width": ""
      }
     },
     "76095eb7cfe94299b15ac66ed4804cd2": {
      "model_module": "@jupyter-widgets/controls",
      "model_module_version": "1.5.0",
      "model_name": "VBoxModel",
      "state": {
       "children": [
        "IPY_MODEL_79f825f547ad478dab700ef35f4ef716",
        "IPY_MODEL_2ddddaae060445b6b5a243c3c2a0d386",
        "IPY_MODEL_f5c2eceac0c54bed876aef75b96436ad"
       ],
       "layout": "IPY_MODEL_59e01ee30bab48ac981a3bae946b177c"
      }
     },
     "761265acf45546c38b009da957086831": {
      "model_module": "@jupyter-widgets/base",
      "model_module_version": "1.2.0",
      "model_name": "LayoutModel",
      "state": {
       "width": "90px"
      }
     },
     "761a7bcc826a44ca80c6acbcbb84612d": {
      "model_module": "@jupyter-widgets/controls",
      "model_module_version": "1.5.0",
      "model_name": "DescriptionStyleModel",
      "state": {
       "description_width": ""
      }
     },
     "7631ed6744ee4de9b50877450eb75457": {
      "model_module": "@jupyter-widgets/controls",
      "model_module_version": "1.5.0",
      "model_name": "TextModel",
      "state": {
       "layout": "IPY_MODEL_c0d9a1b66a034d3c880457f50a593771",
       "style": "IPY_MODEL_2023debcfc47402ea6ea593d709a05f2",
       "value": "4"
      }
     },
     "76323745dea44d04af1cd639962c30c2": {
      "model_module": "@jupyter-widgets/controls",
      "model_module_version": "1.5.0",
      "model_name": "VBoxModel",
      "state": {
       "children": [
        "IPY_MODEL_b2fe8e502d674bb58c9543d6a2a9f216",
        "IPY_MODEL_ac7e9d5ffe1447bc9679c41f38f30a63"
       ],
       "layout": "IPY_MODEL_cacb5662808240fead83b9cb99e43cce"
      }
     },
     "764b8b0cedbd4c79a3ddca781dd65111": {
      "model_module": "@jupyter-widgets/controls",
      "model_module_version": "1.5.0",
      "model_name": "HTMLMathModel",
      "state": {
       "layout": "IPY_MODEL_1d2cf0dd430042028208abc8c7ac3880",
       "style": "IPY_MODEL_0c7ad4d71e4c46d8be409f7d817a62e9",
       "value": "Enter here the values of the right hand side vector $b$"
      }
     },
     "764faca5f2464a95a3b07b0081d46e68": {
      "model_module": "@jupyter-widgets/controls",
      "model_module_version": "1.5.0",
      "model_name": "TextModel",
      "state": {
       "layout": "IPY_MODEL_dfe771ca3cb647c5ba599a113ad575df",
       "style": "IPY_MODEL_ad582b963daa4691af6d82cc03f90c98",
       "value": "-4"
      }
     },
     "765510b8527440108549a16bd942367b": {
      "model_module": "@jupyter-widgets/controls",
      "model_module_version": "1.5.0",
      "model_name": "TextModel",
      "state": {
       "layout": "IPY_MODEL_f73078d706924fb0a75d30fb0655ac85",
       "style": "IPY_MODEL_78b2064140cb47669fa7b3dcfc32fc43",
       "value": "-2"
      }
     },
     "767c8c97575d40f59091c00e401cc95c": {
      "model_module": "@jupyter-widgets/controls",
      "model_module_version": "1.5.0",
      "model_name": "TextModel",
      "state": {
       "layout": "IPY_MODEL_e56e2cbba3324f1e9a6da6e53dfda065",
       "style": "IPY_MODEL_66803d9f7cf84dfdb576e48f4e6a14f8",
       "value": "2"
      }
     },
     "76c7b549bdcd4fff95d7eb17223b6812": {
      "model_module": "@jupyter-widgets/controls",
      "model_module_version": "1.5.0",
      "model_name": "HTMLModel",
      "state": {
       "layout": "IPY_MODEL_c0f03013f8974e06b203201dad818da6",
       "style": "IPY_MODEL_180cd0a7f14c4ce0aed9cf0ab1204918",
       "value": "Click the button below to start the calculator"
      }
     },
     "76ecfc4ac2034aa08c1e30f0a5f02511": {
      "model_module": "@jupyter-widgets/controls",
      "model_module_version": "1.5.0",
      "model_name": "BoxModel",
      "state": {
       "children": [
        "IPY_MODEL_704d5a26e8574765b67aa1f7b78dda36",
        "IPY_MODEL_2b344d9ebcf040338f89b9e60afaa0f4",
        "IPY_MODEL_35698706a0c74b948d293f208ebfbf4d",
        "IPY_MODEL_ff8c910b2ced41dc92b40fa0b1cd83f1"
       ],
       "layout": "IPY_MODEL_c3afe053aa96462786353332ad2f9241"
      }
     },
     "76f2861cae944245a92eb58aa11ab809": {
      "model_module": "@jupyter-widgets/controls",
      "model_module_version": "1.5.0",
      "model_name": "DescriptionStyleModel",
      "state": {
       "description_width": ""
      }
     },
     "76f306559b394bfab8b316a4c4d0a41d": {
      "model_module": "@jupyter-widgets/controls",
      "model_module_version": "1.5.0",
      "model_name": "TextModel",
      "state": {
       "layout": "IPY_MODEL_47a60aa1cf3045f2a536b06edf49c5ea",
       "style": "IPY_MODEL_818c4696cd4d47b29398f73a3d75ac9e",
       "value": "7"
      }
     },
     "76f8f81434b54ee7a325a67113779e53": {
      "model_module": "@jupyter-widgets/controls",
      "model_module_version": "1.5.0",
      "model_name": "DescriptionStyleModel",
      "state": {
       "description_width": ""
      }
     },
     "77128ab465da4e8eb25b5d9e3683b1c8": {
      "model_module": "@jupyter-widgets/controls",
      "model_module_version": "1.5.0",
      "model_name": "HTMLMathModel",
      "state": {
       "layout": "IPY_MODEL_69bc4e3c52194474998aa9265dfe56c9",
       "style": "IPY_MODEL_25eb5f3912014d3e8dca02d0788b2af3",
       "value": "Enter here the values of the right hand side vector $b$"
      }
     },
     "7723b28d13c4497a9b913aec12f7645f": {
      "model_module": "@jupyter-widgets/controls",
      "model_module_version": "1.5.0",
      "model_name": "TextModel",
      "state": {
       "layout": "IPY_MODEL_8642f3d57e224dca89f44c73206facdc",
       "style": "IPY_MODEL_a2b5ad9b21db468abedbfda7fc4ae25a",
       "value": "1"
      }
     },
     "77262e2420b84139be84713590236071": {
      "model_module": "@jupyter-widgets/controls",
      "model_module_version": "1.5.0",
      "model_name": "TextModel",
      "state": {
       "layout": "IPY_MODEL_7a607c89a00143a7a0808c95689bf41a",
       "style": "IPY_MODEL_088627021db34591b402142767cc991b",
       "value": "-4"
      }
     },
     "772a4dacf67f48cead87599d74a548b7": {
      "model_module": "@jupyter-widgets/controls",
      "model_module_version": "1.5.0",
      "model_name": "DescriptionStyleModel",
      "state": {
       "description_width": ""
      }
     },
     "77618720a0cf44318c04a2ca1cb40ede": {
      "model_module": "@jupyter-widgets/base",
      "model_module_version": "1.2.0",
      "model_name": "LayoutModel",
      "state": {}
     },
     "776389df997545fcab086c0233cb0ab0": {
      "model_module": "@jupyter-widgets/base",
      "model_module_version": "1.2.0",
      "model_name": "LayoutModel",
      "state": {
       "height": "35px",
       "width": "30px"
      }
     },
     "7766674660134c608a1710e13b0e88a6": {
      "model_module": "@jupyter-widgets/base",
      "model_module_version": "1.2.0",
      "model_name": "LayoutModel",
      "state": {}
     },
     "777e2d395bfa4c6da9d4b7a53cfad041": {
      "model_module": "@jupyter-widgets/controls",
      "model_module_version": "1.5.0",
      "model_name": "TextModel",
      "state": {
       "layout": "IPY_MODEL_e56e2cbba3324f1e9a6da6e53dfda065",
       "style": "IPY_MODEL_f5fd07a008d6498dabe37fd510233c5f",
       "value": "7"
      }
     },
     "7780c1ca610245ca9c7396ecd964c22b": {
      "model_module": "@jupyter-widgets/base",
      "model_module_version": "1.2.0",
      "model_name": "LayoutModel",
      "state": {}
     },
     "77b8247de17449f7bdca4cd1f8b17b4c": {
      "model_module": "@jupyter-widgets/controls",
      "model_module_version": "1.5.0",
      "model_name": "DescriptionStyleModel",
      "state": {
       "description_width": ""
      }
     },
     "77d0ae46dd374a17a3fe0222430db5ac": {
      "model_module": "@jupyter-widgets/controls",
      "model_module_version": "1.5.0",
      "model_name": "HBoxModel",
      "state": {
       "children": [
        "IPY_MODEL_e122dcce1911475788c82adf7f1f53d5",
        "IPY_MODEL_4f8dfc5fbcb449df8976d17f4caecaac",
        "IPY_MODEL_a7fd2cd6dcb2492d9f206d86d530c26a"
       ],
       "layout": "IPY_MODEL_f98a9a9016f34eec99b078d6c738146f"
      }
     },
     "77f8bd9beb454262b3f8b8aa6ab44873": {
      "model_module": "@jupyter-widgets/controls",
      "model_module_version": "1.5.0",
      "model_name": "DescriptionStyleModel",
      "state": {
       "description_width": ""
      }
     },
     "78004ff1c9d841cf8cec3ddbed8f9810": {
      "model_module": "@jupyter-widgets/base",
      "model_module_version": "1.2.0",
      "model_name": "LayoutModel",
      "state": {}
     },
     "780a5db6e72d4149abab4f6f1acb5aad": {
      "model_module": "@jupyter-widgets/controls",
      "model_module_version": "1.5.0",
      "model_name": "BoxModel",
      "state": {
       "children": [
        "IPY_MODEL_12da5593b6b94989852a9468736bb837",
        "IPY_MODEL_ac1f1a21ee534cdbbee66c22df9ac89c",
        "IPY_MODEL_c4eb55234c54425f93dacd7d05471aab"
       ],
       "layout": "IPY_MODEL_513e85f611fa48a79d055de88f56d3fa"
      }
     },
     "780dde044c0f4980acdd37899e136d11": {
      "model_module": "@jupyter-widgets/controls",
      "model_module_version": "1.5.0",
      "model_name": "DescriptionStyleModel",
      "state": {
       "description_width": ""
      }
     },
     "782185885e874282855669e9f6b5c968": {
      "model_module": "@jupyter-widgets/controls",
      "model_module_version": "1.5.0",
      "model_name": "TextModel",
      "state": {
       "layout": "IPY_MODEL_1ceaf9c9ac774ae985cae0c34af76539",
       "style": "IPY_MODEL_d59d73dbbf0247e09209869aefcfed17",
       "value": "2"
      }
     },
     "78265e98fce34cca99783d6035995310": {
      "model_module": "@jupyter-widgets/base",
      "model_module_version": "1.2.0",
      "model_name": "LayoutModel",
      "state": {}
     },
     "782d6ea60dec469a863bbd246a6b2060": {
      "model_module": "@jupyter-widgets/base",
      "model_module_version": "1.2.0",
      "model_name": "LayoutModel",
      "state": {}
     },
     "7880f8b9bca5449ab4d5cc4d7870719d": {
      "model_module": "@jupyter-widgets/controls",
      "model_module_version": "1.5.0",
      "model_name": "ButtonStyleModel",
      "state": {}
     },
     "78864e46ebbb437499a3b0fc5e55490d": {
      "model_module": "@jupyter-widgets/controls",
      "model_module_version": "1.5.0",
      "model_name": "TextModel",
      "state": {
       "layout": "IPY_MODEL_f73078d706924fb0a75d30fb0655ac85",
       "style": "IPY_MODEL_4f3e3089214d4e4e963b999a73bfa7b5",
       "value": "1"
      }
     },
     "78950406acab47cfbbb52e78a7731cad": {
      "model_module": "@jupyter-widgets/base",
      "model_module_version": "1.2.0",
      "model_name": "LayoutModel",
      "state": {
       "width": "90px"
      }
     },
     "78a9ad309e1742be9b3d04e2cb24c3b7": {
      "model_module": "@jupyter-widgets/base",
      "model_module_version": "1.2.0",
      "model_name": "LayoutModel",
      "state": {}
     },
     "78aa84eefe6b488fb605c8914685a565": {
      "model_module": "@jupyter-widgets/controls",
      "model_module_version": "1.5.0",
      "model_name": "DescriptionStyleModel",
      "state": {
       "description_width": ""
      }
     },
     "78b2064140cb47669fa7b3dcfc32fc43": {
      "model_module": "@jupyter-widgets/controls",
      "model_module_version": "1.5.0",
      "model_name": "DescriptionStyleModel",
      "state": {
       "description_width": ""
      }
     },
     "78b46fdc4a1d46c1a133a310d723dc8f": {
      "model_module": "@jupyter-widgets/base",
      "model_module_version": "1.2.0",
      "model_name": "LayoutModel",
      "state": {}
     },
     "78d83c26d40d4ba38b91634d573fdc07": {
      "model_module": "@jupyter-widgets/base",
      "model_module_version": "1.2.0",
      "model_name": "LayoutModel",
      "state": {}
     },
     "78ef9a42c5254c6f9df62864fd4345a9": {
      "model_module": "@jupyter-widgets/controls",
      "model_module_version": "1.5.0",
      "model_name": "HTMLMathModel",
      "state": {
       "layout": "IPY_MODEL_bfc58a432ec6425abf68bf907943b5b6",
       "style": "IPY_MODEL_dcb07c21a07b40d4ba38f1cd6d7252d8",
       "value": "The augmented matrix is:\n \n    $$\n    \\left[ \\begin{array}{rrr|r}\n        2/3 & -6 & 1 & 7\\\\\n        1 & 2 & -1 & -1\\\\\n        5 & 7 & -4 & 9\n    \\end{array} \\right]\n    $$\n    "
      }
     },
     "78fae9695b084070b025ebe14d7a3e7a": {
      "model_module": "@jupyter-widgets/base",
      "model_module_version": "1.2.0",
      "model_name": "LayoutModel",
      "state": {}
     },
     "7904caf4ba6a48028da2e9afd26c9973": {
      "model_module": "@jupyter-widgets/controls",
      "model_module_version": "1.5.0",
      "model_name": "DescriptionStyleModel",
      "state": {
       "description_width": ""
      }
     },
     "790ebe0913d445a78abbfea678b44f7a": {
      "model_module": "@jupyter-widgets/base",
      "model_module_version": "1.2.0",
      "model_name": "LayoutModel",
      "state": {
       "width": "150px"
      }
     },
     "7910865ffcfb441c993d059dda3cde52": {
      "model_module": "@jupyter-widgets/controls",
      "model_module_version": "1.5.0",
      "model_name": "DescriptionStyleModel",
      "state": {
       "description_width": ""
      }
     },
     "79109e41aecc40e19684b98418e71884": {
      "model_module": "@jupyter-widgets/controls",
      "model_module_version": "1.5.0",
      "model_name": "DescriptionStyleModel",
      "state": {
       "description_width": ""
      }
     },
     "792ca8dcec6d4416ab1ee7481ad1d3bc": {
      "model_module": "@jupyter-widgets/base",
      "model_module_version": "1.2.0",
      "model_name": "LayoutModel",
      "state": {
       "width": "50px"
      }
     },
     "792dbfe75e0d468a8a256fdc441fe671": {
      "model_module": "@jupyter-widgets/controls",
      "model_module_version": "1.5.0",
      "model_name": "HBoxModel",
      "state": {
       "children": [
        "IPY_MODEL_df30a71038e64f2fa1d6db5da5249ef5",
        "IPY_MODEL_67739626fc1b4f4abf087f772914942b",
        "IPY_MODEL_3a5296d89eed4978ac29bda34dbab445"
       ],
       "layout": "IPY_MODEL_4d18bda7b5ab4d2db460dedd00e47709"
      }
     },
     "793085962ba246cc80df51034038686a": {
      "model_module": "@jupyter-widgets/controls",
      "model_module_version": "1.5.0",
      "model_name": "DropdownModel",
      "state": {
       "_options_labels": [
        "1",
        "2",
        "3"
       ],
       "description": "Add row",
       "index": 0,
       "layout": "IPY_MODEL_1629eb5d09ba4794a7795e65eb55d4d2",
       "style": "IPY_MODEL_da989811bb7644fc9583e9cdd984ae83"
      }
     },
     "7947974f472448cab52d5367e18d4d16": {
      "model_module": "@jupyter-widgets/controls",
      "model_module_version": "1.5.0",
      "model_name": "DescriptionStyleModel",
      "state": {
       "description_width": ""
      }
     },
     "79601fac43644dfe8498d7c9159ac60e": {
      "model_module": "@jupyter-widgets/controls",
      "model_module_version": "1.5.0",
      "model_name": "DescriptionStyleModel",
      "state": {
       "description_width": ""
      }
     },
     "79764fbb952b49819a09e2c2d7881d40": {
      "model_module": "@jupyter-widgets/controls",
      "model_module_version": "1.5.0",
      "model_name": "HTMLModel",
      "state": {
       "layout": "IPY_MODEL_38967776d188405b99074075535fbdd5",
       "style": "IPY_MODEL_196bccd9b03140a58c0b9186b5083d6d",
       "value": "Click this button to start the calculator"
      }
     },
     "7976a6062cc74b4bbba7d062c2e73e4c": {
      "model_module": "@jupyter-widgets/base",
      "model_module_version": "1.2.0",
      "model_name": "LayoutModel",
      "state": {
       "width": "40px"
      }
     },
     "798f4a9a0653434181ae0b0d8d82e677": {
      "model_module": "@jupyter-widgets/controls",
      "model_module_version": "1.5.0",
      "model_name": "HBoxModel",
      "state": {
       "children": [
        "IPY_MODEL_fe628084846c43ebac6b00cb47fcdcdf",
        "IPY_MODEL_aedbf0ad4686406ab1c2c93571c2a08e"
       ],
       "layout": "IPY_MODEL_84da16342ca6452a88ea03e97a10668d"
      }
     },
     "79b16fe14da4491cbff471194ad23034": {
      "model_module": "@jupyter-widgets/controls",
      "model_module_version": "1.5.0",
      "model_name": "DescriptionStyleModel",
      "state": {
       "description_width": ""
      }
     },
     "79b45511afa14b9099b020203adc4e5c": {
      "model_module": "@jupyter-widgets/controls",
      "model_module_version": "1.5.0",
      "model_name": "DescriptionStyleModel",
      "state": {
       "description_width": ""
      }
     },
     "79c091629e31438ebd5079ee5b52feef": {
      "model_module": "@jupyter-widgets/controls",
      "model_module_version": "1.5.0",
      "model_name": "TextModel",
      "state": {
       "layout": "IPY_MODEL_66f664c2d36b4d74aa7cdd21ce7345c1",
       "style": "IPY_MODEL_8fc27852a5734c089ffe7f3986157709",
       "value": "-2"
      }
     },
     "79f0a8c010d8482fa3983fbbd7fa960a": {
      "model_module": "@jupyter-widgets/controls",
      "model_module_version": "1.5.0",
      "model_name": "VBoxModel",
      "state": {
       "children": [
        "IPY_MODEL_d7dc4a3ff86b48348606646f92be89ea",
        "IPY_MODEL_fea8469f47f243f3a348a76abc83289a"
       ],
       "layout": "IPY_MODEL_243a1ad0e3f246bc9ac843815cd68ef6"
      }
     },
     "79f825f547ad478dab700ef35f4ef716": {
      "model_module": "@jupyter-widgets/controls",
      "model_module_version": "1.5.0",
      "model_name": "DropdownModel",
      "state": {
       "_options_labels": [
        "1",
        "2",
        "3"
       ],
       "description": "Swap row",
       "index": 0,
       "layout": "IPY_MODEL_6bc5507608534967963ac6b5af1b7e41",
       "style": "IPY_MODEL_fef8b1564a054dfb8df108c3a31b594c"
      }
     },
     "7a1de4d5af1e4f33b84c915067d8aaac": {
      "model_module": "@jupyter-widgets/base",
      "model_module_version": "1.2.0",
      "model_name": "LayoutModel",
      "state": {
       "width": "40px"
      }
     },
     "7a607c89a00143a7a0808c95689bf41a": {
      "model_module": "@jupyter-widgets/base",
      "model_module_version": "1.2.0",
      "model_name": "LayoutModel",
      "state": {
       "height": "35px",
       "width": "30px"
      }
     },
     "7a90f0208bde4eb3ac229076800f3898": {
      "model_module": "@jupyter-widgets/base",
      "model_module_version": "1.2.0",
      "model_name": "LayoutModel",
      "state": {}
     },
     "7a967b1216ab4f8e90164586fa014f87": {
      "model_module": "@jupyter-widgets/base",
      "model_module_version": "1.2.0",
      "model_name": "LayoutModel",
      "state": {}
     },
     "7aa8901eac2d4365bd057befb3070e2a": {
      "model_module": "@jupyter-widgets/controls",
      "model_module_version": "1.5.0",
      "model_name": "DescriptionStyleModel",
      "state": {
       "description_width": ""
      }
     },
     "7ab158f6fff941ad8580f2a6e8077c9d": {
      "model_module": "@jupyter-widgets/controls",
      "model_module_version": "1.5.0",
      "model_name": "TextModel",
      "state": {
       "layout": "IPY_MODEL_5a0c24727aa941b48d996c0a1f0c2bf8",
       "style": "IPY_MODEL_c5b2331e0c3141579a3e43ae55bfd5ba",
       "value": "5"
      }
     },
     "7ae152d7f79d4e32a940c0fc8aeefb8d": {
      "model_module": "@jupyter-widgets/controls",
      "model_module_version": "1.5.0",
      "model_name": "ButtonStyleModel",
      "state": {}
     },
     "7aef777ae4c04daa9f29fb9e8306ed4b": {
      "model_module": "@jupyter-widgets/controls",
      "model_module_version": "1.5.0",
      "model_name": "DescriptionStyleModel",
      "state": {
       "description_width": ""
      }
     },
     "7af583561230447585879073000829a8": {
      "model_module": "@jupyter-widgets/controls",
      "model_module_version": "1.5.0",
      "model_name": "TextModel",
      "state": {
       "layout": "IPY_MODEL_194d5881fb18447585798b14c51e301b",
       "style": "IPY_MODEL_c4ca9923ead94e1894c9af6928a73825",
       "value": "5"
      }
     },
     "7b17b990e956428eb2b4981cc9bc495f": {
      "model_module": "@jupyter-widgets/controls",
      "model_module_version": "1.5.0",
      "model_name": "TextModel",
      "state": {
       "layout": "IPY_MODEL_308f071668994851a29f0ae6fcc0bc14",
       "style": "IPY_MODEL_51808ea1109a4ef2a77264375423d651",
       "value": "1"
      }
     },
     "7b2f2b8af5584ee3aa3cf9075f6a4461": {
      "model_module": "@jupyter-widgets/controls",
      "model_module_version": "1.5.0",
      "model_name": "ButtonModel",
      "state": {
       "description": "Start",
       "layout": "IPY_MODEL_85d726df836f4ac3b775232543f6489e",
       "style": "IPY_MODEL_1c331eeda1014ce2bd00b94476de78cf"
      }
     },
     "7b432fdf1aa945c1a1aa6bf3f31437cb": {
      "model_module": "@jupyter-widgets/controls",
      "model_module_version": "1.5.0",
      "model_name": "BoxModel",
      "state": {
       "children": [
        "IPY_MODEL_74dbec571f184de7bc8900c3076f4493"
       ],
       "layout": "IPY_MODEL_3aa363937d6d4f0da2ca5cd5df7ca752"
      }
     },
     "7b5d1a632ea64703b677759da084d9fb": {
      "model_module": "@jupyter-widgets/controls",
      "model_module_version": "1.5.0",
      "model_name": "BoxModel",
      "state": {
       "children": [
        "IPY_MODEL_8f02137791ae4d74a3128c85f158b4ab",
        "IPY_MODEL_e210e493bcda4798872a05d373613894",
        "IPY_MODEL_23b71ad4c90c41ae9eda16c6b16e8791"
       ],
       "layout": "IPY_MODEL_4b2e113cc1384bf99f494a1206f44cf5"
      }
     },
     "7b5f2c720faa4cf49e6623a940b45b90": {
      "model_module": "@jupyter-widgets/base",
      "model_module_version": "1.2.0",
      "model_name": "LayoutModel",
      "state": {}
     },
     "7b7863acfa67404183957296f07d4ed2": {
      "model_module": "@jupyter-widgets/controls",
      "model_module_version": "1.5.0",
      "model_name": "DescriptionStyleModel",
      "state": {
       "description_width": ""
      }
     },
     "7b7d29f1ca354a1787fb86a5ddd7d571": {
      "model_module": "@jupyter-widgets/base",
      "model_module_version": "1.2.0",
      "model_name": "LayoutModel",
      "state": {}
     },
     "7b8a14a2e4234bcf8a7209938b68c57e": {
      "model_module": "@jupyter-widgets/controls",
      "model_module_version": "1.5.0",
      "model_name": "VBoxModel",
      "state": {
       "children": [
        "IPY_MODEL_a00428fdcf0f49d88311e8669fe71f32",
        "IPY_MODEL_aa1c9541094240f6952159eeccfce0e6"
       ],
       "layout": "IPY_MODEL_2723cc5a4fb348278c3373ff5f55afd5"
      }
     },
     "7b8ad78edd6c44ac9043e4d4307a3ab1": {
      "model_module": "@jupyter-widgets/base",
      "model_module_version": "1.2.0",
      "model_name": "LayoutModel",
      "state": {
       "justify_content": "space-between"
      }
     },
     "7b9fbf87fec34688af7ea7293e3537bc": {
      "model_module": "@jupyter-widgets/base",
      "model_module_version": "1.2.0",
      "model_name": "LayoutModel",
      "state": {
       "width": "150px"
      }
     },
     "7ba39d27a2de4d99a55b6d98288983ea": {
      "model_module": "@jupyter-widgets/controls",
      "model_module_version": "1.5.0",
      "model_name": "TextModel",
      "state": {
       "layout": "IPY_MODEL_d19375b63f4b4e069ae82d3822ecfbd2",
       "style": "IPY_MODEL_213e24b61b874b8aa7754f4037ba3dcb",
       "value": "-2"
      }
     },
     "7bc22f2759354225979a8f13978f200c": {
      "model_module": "@jupyter-widgets/controls",
      "model_module_version": "1.5.0",
      "model_name": "TextModel",
      "state": {
       "layout": "IPY_MODEL_9f4d9e00ae3e470a8d024478444df27d",
       "style": "IPY_MODEL_99e5d8fa7af7400c802122803725fb61",
       "value": "2"
      }
     },
     "7bc3b1216ccf452bb775d1b03aa25465": {
      "model_module": "@jupyter-widgets/base",
      "model_module_version": "1.2.0",
      "model_name": "LayoutModel",
      "state": {}
     },
     "7bf41fcda04a43a4a78a23fcddf912a2": {
      "model_module": "@jupyter-widgets/base",
      "model_module_version": "1.2.0",
      "model_name": "LayoutModel",
      "state": {}
     },
     "7bfc94aa5dca43b09fb04c8188b8cafb": {
      "model_module": "@jupyter-widgets/base",
      "model_module_version": "1.2.0",
      "model_name": "LayoutModel",
      "state": {}
     },
     "7c0b8ecc74534b90821ebd83df909ba6": {
      "model_module": "@jupyter-widgets/controls",
      "model_module_version": "1.5.0",
      "model_name": "HBoxModel",
      "state": {
       "children": [
        "IPY_MODEL_6b7e634502774c97a14593a62aeacbcc",
        "IPY_MODEL_185109d8aed640948e66a2ae273abaff",
        "IPY_MODEL_aae194536b874100980484d85dedcd4e"
       ],
       "layout": "IPY_MODEL_7cce907e3e6f4fb7a0cfced46f7843b9"
      }
     },
     "7c259f08ae934843b0e94cf048a41c10": {
      "model_module": "@jupyter-widgets/controls",
      "model_module_version": "1.5.0",
      "model_name": "ButtonModel",
      "state": {
       "description": "Swap rows",
       "layout": "IPY_MODEL_266dc666d595467f89f6e6a6d7155ed3",
       "style": "IPY_MODEL_4a6c16a0275f488b947ea8177258848a"
      }
     },
     "7c27273dff8b4e7eb16f68c179440fb8": {
      "model_module": "@jupyter-widgets/base",
      "model_module_version": "1.2.0",
      "model_name": "LayoutModel",
      "state": {}
     },
     "7c4c898f368f41ed9c8971c5ac433b01": {
      "model_module": "@jupyter-widgets/base",
      "model_module_version": "1.2.0",
      "model_name": "LayoutModel",
      "state": {
       "width": "150px"
      }
     },
     "7c4d15c3fa72493cb98a0cc1cf1a8427": {
      "model_module": "@jupyter-widgets/controls",
      "model_module_version": "1.5.0",
      "model_name": "DescriptionStyleModel",
      "state": {
       "description_width": ""
      }
     },
     "7c70e37c53ce408381cd5e44831dab9b": {
      "model_module": "@jupyter-widgets/controls",
      "model_module_version": "1.5.0",
      "model_name": "HBoxModel",
      "state": {
       "children": [
        "IPY_MODEL_ee0fac3c03254350a8d60801c82c0f7e",
        "IPY_MODEL_4845bb52c671408f8404ef6886d810c5",
        "IPY_MODEL_764faca5f2464a95a3b07b0081d46e68"
       ],
       "layout": "IPY_MODEL_e7abbc721f6e4bb6830239c57ae0e439"
      }
     },
     "7c93b0891d2d41bfbfc9d9ad98e5c3aa": {
      "model_module": "@jupyter-widgets/base",
      "model_module_version": "1.2.0",
      "model_name": "LayoutModel",
      "state": {
       "width": "150px"
      }
     },
     "7c953b63b8f94b48aff461221e51e0cb": {
      "model_module": "@jupyter-widgets/controls",
      "model_module_version": "1.5.0",
      "model_name": "DescriptionStyleModel",
      "state": {
       "description_width": ""
      }
     },
     "7c9d58bbb1d54bf28db322aedbf19166": {
      "model_module": "@jupyter-widgets/controls",
      "model_module_version": "1.5.0",
      "model_name": "DescriptionStyleModel",
      "state": {
       "description_width": ""
      }
     },
     "7cbae076b28b4358962e926da39f6485": {
      "model_module": "@jupyter-widgets/controls",
      "model_module_version": "1.5.0",
      "model_name": "DescriptionStyleModel",
      "state": {
       "description_width": ""
      }
     },
     "7cbb5ebfeb45473fb78af99fabc58d24": {
      "model_module": "@jupyter-widgets/base",
      "model_module_version": "1.2.0",
      "model_name": "LayoutModel",
      "state": {
       "width": "150px"
      }
     },
     "7cc030fb44984b60899dd4d3698162d9": {
      "model_module": "@jupyter-widgets/base",
      "model_module_version": "1.2.0",
      "model_name": "LayoutModel",
      "state": {}
     },
     "7cc0daa96b8d4b6595fc0dc9b4923dbc": {
      "model_module": "@jupyter-widgets/base",
      "model_module_version": "1.2.0",
      "model_name": "LayoutModel",
      "state": {}
     },
     "7cce907e3e6f4fb7a0cfced46f7843b9": {
      "model_module": "@jupyter-widgets/base",
      "model_module_version": "1.2.0",
      "model_name": "LayoutModel",
      "state": {}
     },
     "7ce32d06288d4ccd848b0de8c4bb2177": {
      "model_module": "@jupyter-widgets/controls",
      "model_module_version": "1.5.0",
      "model_name": "TextModel",
      "state": {
       "layout": "IPY_MODEL_250753b918e0432c803452a019d33c5c",
       "style": "IPY_MODEL_12647a1ed57d4122a3e425dc663ac125",
       "value": "1"
      }
     },
     "7cee55adab1040efad5d3315a9e84f06": {
      "model_module": "@jupyter-widgets/base",
      "model_module_version": "1.2.0",
      "model_name": "LayoutModel",
      "state": {
       "align_items": "center",
       "flex_flow": "row wrap",
       "height": "70px",
       "justify_content": "space-around"
      }
     },
     "7d0daf783aad4c9cb8d04145990821de": {
      "model_module": "@jupyter-widgets/controls",
      "model_module_version": "1.5.0",
      "model_name": "HBoxModel",
      "state": {
       "children": [
        "IPY_MODEL_e5cda50c914040649f33c5d69f985e69",
        "IPY_MODEL_1c65bd6c489a4324b0c5b80d5f25a503",
        "IPY_MODEL_79c091629e31438ebd5079ee5b52feef"
       ],
       "layout": "IPY_MODEL_46a36d4c9e2b4230bd17166999c6d9a3"
      }
     },
     "7d2cc03bc07f402b8453d892f5543a78": {
      "model_module": "@jupyter-widgets/controls",
      "model_module_version": "1.5.0",
      "model_name": "TextModel",
      "state": {
       "layout": "IPY_MODEL_a21d52801ae94e44813bb1c00d81c473",
       "style": "IPY_MODEL_b81fd4a43d3b442aa7b8db387eb66b18",
       "value": "-2"
      }
     },
     "7d594d5a472446348d27408858b846a4": {
      "model_module": "@jupyter-widgets/base",
      "model_module_version": "1.2.0",
      "model_name": "LayoutModel",
      "state": {
       "flex_flow": "row wrap",
       "justify_content": "space-around"
      }
     },
     "7d5af838b19146bda1e6b996a266cbc1": {
      "model_module": "@jupyter-widgets/controls",
      "model_module_version": "1.5.0",
      "model_name": "TextModel",
      "state": {
       "layout": "IPY_MODEL_f28c3c7f5ced4384b8a9eca6bc4c00fd",
       "style": "IPY_MODEL_44f45716382047738312e675c5dc20d2",
       "value": "1"
      }
     },
     "7d7b79f717d443ceb7206cdb6630ef4c": {
      "model_module": "@jupyter-widgets/base",
      "model_module_version": "1.2.0",
      "model_name": "LayoutModel",
      "state": {
       "width": "100px"
      }
     },
     "7d7d88ffc94843e988f3ebfb35979e02": {
      "model_module": "@jupyter-widgets/controls",
      "model_module_version": "1.5.0",
      "model_name": "TextModel",
      "state": {
       "layout": "IPY_MODEL_d743f8ba50f447a3ad2d5faaa6a0e9e2",
       "style": "IPY_MODEL_4fffdef6fcb9425eaf2e56e43ec61679",
       "value": "7"
      }
     },
     "7d8bfd11d7c342a1a5ded6f63c422c38": {
      "model_module": "@jupyter-widgets/controls",
      "model_module_version": "1.5.0",
      "model_name": "HBoxModel",
      "state": {
       "children": [
        "IPY_MODEL_1f2618d047e34e3e878370e36a2a6bc3",
        "IPY_MODEL_d69bb84337db4f48941714568863f569",
        "IPY_MODEL_4ce4256fe1624f3a831aab30d5f81bd5"
       ],
       "layout": "IPY_MODEL_1583ba30c5a1455b900fbd83b5ad5407"
      }
     },
     "7da62cbba2534eb68c1d2f1827d7ab58": {
      "model_module": "@jupyter-widgets/controls",
      "model_module_version": "1.5.0",
      "model_name": "TextModel",
      "state": {
       "layout": "IPY_MODEL_776389df997545fcab086c0233cb0ab0",
       "style": "IPY_MODEL_4d090d5c77564b81a1cc3171f55ef4af",
       "value": "1"
      }
     },
     "7daf65fce7814e8e855c44062fae55c8": {
      "model_module": "@jupyter-widgets/controls",
      "model_module_version": "1.5.0",
      "model_name": "HBoxModel",
      "state": {
       "children": [
        "IPY_MODEL_fb4cf6adf6dd4316b1b33ceefbf49c18",
        "IPY_MODEL_e729b7a994534b1682157812676238d0"
       ],
       "layout": "IPY_MODEL_ed66af272c9a4bd1b826c0d0070b8dd6"
      }
     },
     "7db3620b414c41718b10d470a39813a6": {
      "model_module": "@jupyter-widgets/controls",
      "model_module_version": "1.5.0",
      "model_name": "TextModel",
      "state": {
       "layout": "IPY_MODEL_8642f3d57e224dca89f44c73206facdc",
       "style": "IPY_MODEL_ca1b30af0ff7449ca9a64e0c49464495",
       "value": "-2"
      }
     },
     "7dcb9e606a4a42db8118fd4b8d85c4ee": {
      "model_module": "@jupyter-widgets/base",
      "model_module_version": "1.2.0",
      "model_name": "LayoutModel",
      "state": {}
     },
     "7dceb22fd1cc4c69b6072291aa5a807c": {
      "model_module": "@jupyter-widgets/base",
      "model_module_version": "1.2.0",
      "model_name": "LayoutModel",
      "state": {}
     },
     "7ddd925b7de64daabfeb19088e15b604": {
      "model_module": "@jupyter-widgets/controls",
      "model_module_version": "1.5.0",
      "model_name": "HBoxModel",
      "state": {
       "children": [
        "IPY_MODEL_000a2ec94ba04602b62498979a33ebab",
        "IPY_MODEL_4f973246ea6445bc90fa8e1e21e01df3",
        "IPY_MODEL_6ae0050bbedc494cae4c1a50018a88f9"
       ],
       "layout": "IPY_MODEL_c829032531ea4a88a173c0139ee5cb17"
      }
     },
     "7dde712f1739459c9ecdf3e5cd144f3f": {
      "model_module": "@jupyter-widgets/controls",
      "model_module_version": "1.5.0",
      "model_name": "TextModel",
      "state": {
       "layout": "IPY_MODEL_239bec109578490f9329cf0477e25967",
       "style": "IPY_MODEL_00b49682c323495090ab5aefc3e9969e",
       "value": "2"
      }
     },
     "7e059045d0de4580882cb61573ec0188": {
      "model_module": "@jupyter-widgets/base",
      "model_module_version": "1.2.0",
      "model_name": "LayoutModel",
      "state": {
       "width": "150px"
      }
     },
     "7e1231afd0b44733b3196aeb113f5d40": {
      "model_module": "@jupyter-widgets/controls",
      "model_module_version": "1.5.0",
      "model_name": "HBoxModel",
      "state": {
       "children": [
        "IPY_MODEL_40c3b198f4ba4d53a1a049546757ed98",
        "IPY_MODEL_ea7e22664aff417694d571c55475b12b"
       ],
       "layout": "IPY_MODEL_12c9096434eb4b009cb1af19b52fa748"
      }
     },
     "7e19bdb4d509459285b470d187e4fa01": {
      "model_module": "@jupyter-widgets/controls",
      "model_module_version": "1.5.0",
      "model_name": "BoxModel",
      "state": {
       "children": [
        "IPY_MODEL_3683afd86d7d4ad4bf0ba1d5b89abe9f",
        "IPY_MODEL_4572dd9ec8ea45a4ab1496cfda3bb2f3",
        "IPY_MODEL_9f6dfe6349fa4c01acf8ed24ab1b6335"
       ],
       "layout": "IPY_MODEL_4c7d47c92cc54833bf3a3e9f44c25884"
      }
     },
     "7e1c175d4ba249ea8c0511d244d4f399": {
      "model_module": "@jupyter-widgets/controls",
      "model_module_version": "1.5.0",
      "model_name": "DropdownModel",
      "state": {
       "_options_labels": [
        "1",
        "2",
        "3"
       ],
       "description": "and row",
       "index": 1,
       "layout": "IPY_MODEL_3a0ed782347544099f1e92b25dd08930",
       "style": "IPY_MODEL_28281cc5db8849778bce13619e1bee94"
      }
     },
     "7e1e1ebf3c6040dc8cbb0e9ee77be293": {
      "model_module": "@jupyter-widgets/base",
      "model_module_version": "1.2.0",
      "model_name": "LayoutModel",
      "state": {}
     },
     "7e3c5396fcee44518743f679cbdde3e4": {
      "model_module": "@jupyter-widgets/controls",
      "model_module_version": "1.5.0",
      "model_name": "VBoxModel",
      "state": {
       "children": [
        "IPY_MODEL_bdef2a0a52ae4e97a1bee792a020dc65",
        "IPY_MODEL_906c7977d372403fa0933dfaeb72b757"
       ],
       "layout": "IPY_MODEL_32bd3667e04d42b69756252d5360ed57"
      }
     },
     "7e5d8a2c0a644213a8c6d351717699ed": {
      "model_module": "@jupyter-widgets/controls",
      "model_module_version": "1.5.0",
      "model_name": "ButtonModel",
      "state": {
       "description": "Multiply row",
       "layout": "IPY_MODEL_08d32c038ea843cbb87931703d1debac",
       "style": "IPY_MODEL_d1c586af65894408bd4d86661bec2829"
      }
     },
     "7e610db10e6b42eebc37e0319450dd5d": {
      "model_module": "@jupyter-widgets/controls",
      "model_module_version": "1.5.0",
      "model_name": "DescriptionStyleModel",
      "state": {
       "description_width": ""
      }
     },
     "7e8270b4d5174da2810312a0266b63a3": {
      "model_module": "@jupyter-widgets/controls",
      "model_module_version": "1.5.0",
      "model_name": "TextModel",
      "state": {
       "layout": "IPY_MODEL_9a1e48de729e4abb89a3a19428a205a0",
       "style": "IPY_MODEL_69b8a98bd1374a2e9295f3213d0c49b5",
       "value": "-1"
      }
     },
     "7e89f4146d8c40ffb773363da2a60efe": {
      "model_module": "@jupyter-widgets/controls",
      "model_module_version": "1.5.0",
      "model_name": "HBoxModel",
      "state": {
       "children": [
        "IPY_MODEL_7b17b990e956428eb2b4981cc9bc495f",
        "IPY_MODEL_48168b6e88c1420084e3ba69bd6a330c",
        "IPY_MODEL_f019a1b34f2f49f18161b7d9b4f714ff"
       ],
       "layout": "IPY_MODEL_5a3bea2e9e01483281c1cf2d77667dac"
      }
     },
     "7e8d4bd6e90f4868b6e3d3746c1758d9": {
      "model_module": "@jupyter-widgets/controls",
      "model_module_version": "1.5.0",
      "model_name": "DescriptionStyleModel",
      "state": {
       "description_width": ""
      }
     },
     "7e9217281f134a3cbfaea6cdc6627edb": {
      "model_module": "@jupyter-widgets/base",
      "model_module_version": "1.2.0",
      "model_name": "LayoutModel",
      "state": {
       "height": "300px",
       "justify_content": "center"
      }
     },
     "7ecd63ce5cb94b2a84bf5a7c6658a342": {
      "model_module": "@jupyter-widgets/controls",
      "model_module_version": "1.5.0",
      "model_name": "DescriptionStyleModel",
      "state": {
       "description_width": ""
      }
     },
     "7edfd17ba07446bf9f3490b0b73ca4fb": {
      "model_module": "@jupyter-widgets/base",
      "model_module_version": "1.2.0",
      "model_name": "LayoutModel",
      "state": {
       "width": "50px"
      }
     },
     "7eeee1955ce74ebd9fc09516b8fb2ba3": {
      "model_module": "@jupyter-widgets/controls",
      "model_module_version": "1.5.0",
      "model_name": "DescriptionStyleModel",
      "state": {
       "description_width": ""
      }
     },
     "7f1d4d510410432daa6e38c2cd8e1842": {
      "model_module": "@jupyter-widgets/controls",
      "model_module_version": "1.5.0",
      "model_name": "VBoxModel",
      "state": {
       "children": [
        "IPY_MODEL_f091f449490a41eabafc9416846749b3",
        "IPY_MODEL_b1bb9582f5664bab878cae686d35c113"
       ],
       "layout": "IPY_MODEL_8a0083f5168b49a88c122feea6035e85"
      }
     },
     "7f30dec383c9460eac44556116156ea1": {
      "model_module": "@jupyter-widgets/controls",
      "model_module_version": "1.5.0",
      "model_name": "VBoxModel",
      "state": {
       "children": [
        "IPY_MODEL_deaf1adf664148f8aed99c78a4d3cb88",
        "IPY_MODEL_777e2d395bfa4c6da9d4b7a53cfad041",
        "IPY_MODEL_41eba958119a459aa99c15a7cf22a422"
       ],
       "layout": "IPY_MODEL_f6b7b12288084af2bfde95df5410f94d"
      }
     },
     "7f349744b7c24f32b288d3b47cb85956": {
      "model_module": "@jupyter-widgets/base",
      "model_module_version": "1.2.0",
      "model_name": "LayoutModel",
      "state": {}
     },
     "7f38dacd36cc41c2a6aee83a0f863f58": {
      "model_module": "@jupyter-widgets/controls",
      "model_module_version": "1.5.0",
      "model_name": "HBoxModel",
      "state": {
       "children": [
        "IPY_MODEL_53550936e5674e849d77a73776ce2af5",
        "IPY_MODEL_6e0b65549c6e4d06814e5dda69f48b8c",
        "IPY_MODEL_cf3a4a8c12504fe3b0c5a175dc56a1e4"
       ],
       "layout": "IPY_MODEL_c357de2c62374bcaaf1d8692a5785540"
      }
     },
     "7f3e3690462d4f2893902f9b16156a3d": {
      "model_module": "@jupyter-widgets/base",
      "model_module_version": "1.2.0",
      "model_name": "LayoutModel",
      "state": {}
     },
     "7f8a1975cde346279e3fc383ba55deb9": {
      "model_module": "@jupyter-widgets/controls",
      "model_module_version": "1.5.0",
      "model_name": "DescriptionStyleModel",
      "state": {
       "description_width": ""
      }
     },
     "7f95c2af627d42abb02163ba0656f55c": {
      "model_module": "@jupyter-widgets/base",
      "model_module_version": "1.2.0",
      "model_name": "LayoutModel",
      "state": {
       "width": "50px"
      }
     },
     "7f986ba495a1457d9ab569e32378badc": {
      "model_module": "@jupyter-widgets/base",
      "model_module_version": "1.2.0",
      "model_name": "LayoutModel",
      "state": {}
     },
     "7f9c7fb60b604cdc88c8d9656091e9c8": {
      "model_module": "@jupyter-widgets/controls",
      "model_module_version": "1.5.0",
      "model_name": "DescriptionStyleModel",
      "state": {
       "description_width": ""
      }
     },
     "7fb4a2fd115246778a2f07a8cb6d4e36": {
      "model_module": "@jupyter-widgets/controls",
      "model_module_version": "1.5.0",
      "model_name": "TextModel",
      "state": {
       "layout": "IPY_MODEL_d29f4c6323274c2ea715833a610068a5",
       "style": "IPY_MODEL_71c8db1a40c64665a03d33fedd74d377",
       "value": "-6"
      }
     },
     "7fbff3551ceb431e95b6a8de7e4ef3ee": {
      "model_module": "@jupyter-widgets/controls",
      "model_module_version": "1.5.0",
      "model_name": "TextModel",
      "state": {
       "layout": "IPY_MODEL_f28c3c7f5ced4384b8a9eca6bc4c00fd",
       "style": "IPY_MODEL_4b88beee1cae4ac89adfb6189b3d8826",
       "value": "-1"
      }
     },
     "7fd11bc345004c37ba8a5ce2906aef35": {
      "model_module": "@jupyter-widgets/controls",
      "model_module_version": "1.5.0",
      "model_name": "TextModel",
      "state": {
       "layout": "IPY_MODEL_4bcd3a11811347d3979a9396c2e71cd4",
       "style": "IPY_MODEL_40d52eb81d894994837af5324e71566c",
       "value": "1"
      }
     },
     "7fdcb176b431426b9d2691c7733ee8b9": {
      "model_module": "@jupyter-widgets/base",
      "model_module_version": "1.2.0",
      "model_name": "LayoutModel",
      "state": {
       "width": "150px"
      }
     },
     "7fe6078de9b242ca96a6405fda0a0a44": {
      "model_module": "@jupyter-widgets/controls",
      "model_module_version": "1.5.0",
      "model_name": "HBoxModel",
      "state": {
       "children": [
        "IPY_MODEL_48cccc2f4e624b9e9b5ad3f71b9d911a",
        "IPY_MODEL_ca6c3f4d328c46cdb0560cae4b44698b"
       ],
       "layout": "IPY_MODEL_912dcb0aa7fb4bd1bef42ae67783f916"
      }
     },
     "80387b3f03754d14bb2fd63711c3c601": {
      "model_module": "@jupyter-widgets/controls",
      "model_module_version": "1.5.0",
      "model_name": "VBoxModel",
      "state": {
       "children": [
        "IPY_MODEL_364dd5a5d4ca4fffbbe41d1bd3d1bfab",
        "IPY_MODEL_15ca9276830c4b84abbb569829e3bfe2",
        "IPY_MODEL_bd838b6228b34498a45d5b9542932568"
       ],
       "layout": "IPY_MODEL_85ab1b11d2014e1688c01c8a9c69d3e8"
      }
     },
     "8056cfa700ac4315850f82e18bb8cf23": {
      "model_module": "@jupyter-widgets/controls",
      "model_module_version": "1.5.0",
      "model_name": "TextModel",
      "state": {
       "layout": "IPY_MODEL_65cb8db367e14667886b79ef97c800d1",
       "style": "IPY_MODEL_09a6256c899e4f99bd7006b25a734cb0",
       "value": "-1"
      }
     },
     "8061c4dcdb9145769b4e3439cec6572c": {
      "model_module": "@jupyter-widgets/controls",
      "model_module_version": "1.5.0",
      "model_name": "ButtonModel",
      "state": {
       "description": "Check inverse",
       "layout": "IPY_MODEL_babab35465b645f0803cf29485f5c1fa",
       "style": "IPY_MODEL_5019ed0555bf4e8c86125aebe33e0c75"
      }
     },
     "807a89e511464bb6beb86cb3bced08a7": {
      "model_module": "@jupyter-widgets/controls",
      "model_module_version": "1.5.0",
      "model_name": "DescriptionStyleModel",
      "state": {
       "description_width": ""
      }
     },
     "8088a1057058427d8b9034ab41260e00": {
      "model_module": "@jupyter-widgets/controls",
      "model_module_version": "1.5.0",
      "model_name": "VBoxModel",
      "state": {
       "children": [
        "IPY_MODEL_2b414da73256469183a63797efc162d1",
        "IPY_MODEL_749f71f0184b4aa486dc319ec00855c6",
        "IPY_MODEL_cc8318150c284d4e9e8023fa70ab6180"
       ],
       "layout": "IPY_MODEL_aeb819a310ad4bd6bf967194d64bb21c"
      }
     },
     "809020c3111848c3ae54e27303cec962": {
      "model_module": "@jupyter-widgets/controls",
      "model_module_version": "1.5.0",
      "model_name": "DescriptionStyleModel",
      "state": {
       "description_width": ""
      }
     },
     "80e59833f6494e16b4b1c0396502e5f1": {
      "model_module": "@jupyter-widgets/controls",
      "model_module_version": "1.5.0",
      "model_name": "DescriptionStyleModel",
      "state": {
       "description_width": ""
      }
     },
     "80f259b13ab24c5c9c6d50c65250009f": {
      "model_module": "@jupyter-widgets/base",
      "model_module_version": "1.2.0",
      "model_name": "LayoutModel",
      "state": {}
     },
     "80fd7480154a4395a3b6e1d4c1879c58": {
      "model_module": "@jupyter-widgets/controls",
      "model_module_version": "1.5.0",
      "model_name": "BoxModel",
      "state": {
       "children": [
        "IPY_MODEL_462388385ffb4aa0ad16a93b4424a0e2",
        "IPY_MODEL_0263dce4ceb14189871912f61ef6edf1",
        "IPY_MODEL_64dfc8513a514a84afc89c54d9b4441f"
       ],
       "layout": "IPY_MODEL_c536e6aac5d845889ddd27d9b84789d4"
      }
     },
     "810e80ce59f94e25b66071b8495c2969": {
      "model_module": "@jupyter-widgets/controls",
      "model_module_version": "1.5.0",
      "model_name": "HBoxModel",
      "state": {
       "children": [
        "IPY_MODEL_a34242f411bb4bf3a8a896cea9802015",
        "IPY_MODEL_eeb3e45220af45b5b55b9ceda94be70a"
       ],
       "layout": "IPY_MODEL_edda38f8e7024c04bb44f496da67e749"
      }
     },
     "811b1db1ac5f4cb2bc4f5e8b4f2ddc28": {
      "model_module": "@jupyter-widgets/controls",
      "model_module_version": "1.5.0",
      "model_name": "ButtonModel",
      "state": {
       "description": "Start",
       "layout": "IPY_MODEL_b7da8f54f02c424b821fad8d542b1de4",
       "style": "IPY_MODEL_7880f8b9bca5449ab4d5cc4d7870719d"
      }
     },
     "811ecbe683254dbebc218f078f1dbe18": {
      "model_module": "@jupyter-widgets/base",
      "model_module_version": "1.2.0",
      "model_name": "LayoutModel",
      "state": {
       "width": "90px"
      }
     },
     "8128addc87474a52b7302af4a9dd1a21": {
      "model_module": "@jupyter-widgets/controls",
      "model_module_version": "1.5.0",
      "model_name": "DescriptionStyleModel",
      "state": {
       "description_width": ""
      }
     },
     "813027176bd94c4198fc8ecc1564ea2e": {
      "model_module": "@jupyter-widgets/controls",
      "model_module_version": "1.5.0",
      "model_name": "ButtonModel",
      "state": {
       "description": "Swap rows",
       "layout": "IPY_MODEL_ce2a886433234f7ba4a16e2ae255820c",
       "style": "IPY_MODEL_6170e5b1165a47d2a61e996f21e28e51"
      }
     },
     "8148061acb494fbf8eb7cdb5e6d25e67": {
      "model_module": "@jupyter-widgets/controls",
      "model_module_version": "1.5.0",
      "model_name": "TextModel",
      "state": {
       "layout": "IPY_MODEL_ff8f131091ed4bf49b858ed52bc5b3ea",
       "style": "IPY_MODEL_f7b3943169a0462e98ee81a95205f93f",
       "value": "1"
      }
     },
     "817b8188af144d88a141cf14449faa37": {
      "model_module": "@jupyter-widgets/base",
      "model_module_version": "1.2.0",
      "model_name": "LayoutModel",
      "state": {}
     },
     "818c4696cd4d47b29398f73a3d75ac9e": {
      "model_module": "@jupyter-widgets/controls",
      "model_module_version": "1.5.0",
      "model_name": "DescriptionStyleModel",
      "state": {
       "description_width": ""
      }
     },
     "819acd4064d246b7b67b5c271e89c461": {
      "model_module": "@jupyter-widgets/controls",
      "model_module_version": "1.5.0",
      "model_name": "DescriptionStyleModel",
      "state": {
       "description_width": ""
      }
     },
     "81a395c01c8a4fa1ba80dc951368fb25": {
      "model_module": "@jupyter-widgets/controls",
      "model_module_version": "1.5.0",
      "model_name": "DescriptionStyleModel",
      "state": {
       "description_width": ""
      }
     },
     "81c27c13e4a94cdf92e4cc198973780d": {
      "model_module": "@jupyter-widgets/base",
      "model_module_version": "1.2.0",
      "model_name": "LayoutModel",
      "state": {}
     },
     "81c7197b47ea44fe92bff765f933e4d3": {
      "model_module": "@jupyter-widgets/controls",
      "model_module_version": "1.5.0",
      "model_name": "TextModel",
      "state": {
       "layout": "IPY_MODEL_308f071668994851a29f0ae6fcc0bc14",
       "style": "IPY_MODEL_cf83566fd2324f42af8686cea87634ac",
       "value": "3"
      }
     },
     "81d28aa1c5e44866a65d801b74c25340": {
      "model_module": "@jupyter-widgets/controls",
      "model_module_version": "1.5.0",
      "model_name": "DescriptionStyleModel",
      "state": {
       "description_width": ""
      }
     },
     "81d871da58a443bf8136d76167b750dd": {
      "model_module": "@jupyter-widgets/controls",
      "model_module_version": "1.5.0",
      "model_name": "DescriptionStyleModel",
      "state": {
       "description_width": ""
      }
     },
     "81d8de21aa254bc6bff5b6151936a4df": {
      "model_module": "@jupyter-widgets/controls",
      "model_module_version": "1.5.0",
      "model_name": "DescriptionStyleModel",
      "state": {
       "description_width": ""
      }
     },
     "81e1ea914d1f491b8c149edbdd6a594f": {
      "model_module": "@jupyter-widgets/controls",
      "model_module_version": "1.5.0",
      "model_name": "DescriptionStyleModel",
      "state": {
       "description_width": ""
      }
     },
     "81fe12969da24c008ceecb167f0e8e28": {
      "model_module": "@jupyter-widgets/base",
      "model_module_version": "1.2.0",
      "model_name": "LayoutModel",
      "state": {
       "height": "300px",
       "justify_content": "center"
      }
     },
     "8200348d03bc472f97e594453199a6ab": {
      "model_module": "@jupyter-widgets/controls",
      "model_module_version": "1.5.0",
      "model_name": "DescriptionStyleModel",
      "state": {
       "description_width": ""
      }
     },
     "820d5503e5704a0d869352f6dd31a5df": {
      "model_module": "@jupyter-widgets/controls",
      "model_module_version": "1.5.0",
      "model_name": "DescriptionStyleModel",
      "state": {
       "description_width": ""
      }
     },
     "8223f2d74d7d4c7791dc88c3cd2a3204": {
      "model_module": "@jupyter-widgets/controls",
      "model_module_version": "1.5.0",
      "model_name": "DescriptionStyleModel",
      "state": {
       "description_width": ""
      }
     },
     "8230740224844c9195f0574d10c86d7e": {
      "model_module": "@jupyter-widgets/controls",
      "model_module_version": "1.5.0",
      "model_name": "DescriptionStyleModel",
      "state": {
       "description_width": ""
      }
     },
     "824c5a87a7264da3bcfb461905e4825d": {
      "model_module": "@jupyter-widgets/controls",
      "model_module_version": "1.5.0",
      "model_name": "DescriptionStyleModel",
      "state": {
       "description_width": ""
      }
     },
     "824f8626841f41ac89952e1f54346e8f": {
      "model_module": "@jupyter-widgets/controls",
      "model_module_version": "1.5.0",
      "model_name": "TextModel",
      "state": {
       "layout": "IPY_MODEL_776389df997545fcab086c0233cb0ab0",
       "style": "IPY_MODEL_d26df39d21404e7dbc3b8384096cc245",
       "value": "-6"
      }
     },
     "8266fa58a10f44e7b363bf627f1c1885": {
      "model_module": "@jupyter-widgets/controls",
      "model_module_version": "1.5.0",
      "model_name": "HBoxModel",
      "state": {
       "children": [
        "IPY_MODEL_3779a7b08b334d90b67329e0a07a34dd",
        "IPY_MODEL_08389b62e7234ef994c0751439a3f8ae",
        "IPY_MODEL_47b45c6ead1943da88da26166aca607d"
       ],
       "layout": "IPY_MODEL_a051f64dee0d4920b5cf5dc89745bb2c"
      }
     },
     "826dbbc907264df183f6f9cc1a963e28": {
      "model_module": "@jupyter-widgets/controls",
      "model_module_version": "1.5.0",
      "model_name": "ButtonStyleModel",
      "state": {}
     },
     "82a13f61b5a54a9a9e5eb14dcd3f0460": {
      "model_module": "@jupyter-widgets/controls",
      "model_module_version": "1.5.0",
      "model_name": "TextModel",
      "state": {
       "layout": "IPY_MODEL_8642f3d57e224dca89f44c73206facdc",
       "style": "IPY_MODEL_dccda493be7248868f702c58c867dd03",
       "value": "3"
      }
     },
     "82cf7b01dba34acf8f2a20db7a87eead": {
      "model_module": "@jupyter-widgets/controls",
      "model_module_version": "1.5.0",
      "model_name": "DescriptionStyleModel",
      "state": {
       "description_width": ""
      }
     },
     "8303ede0076f4f739eeac3fffbb8bdca": {
      "model_module": "@jupyter-widgets/controls",
      "model_module_version": "1.5.0",
      "model_name": "DescriptionStyleModel",
      "state": {
       "description_width": ""
      }
     },
     "8304e01080f648b38daac93e446d24a6": {
      "model_module": "@jupyter-widgets/controls",
      "model_module_version": "1.5.0",
      "model_name": "VBoxModel",
      "state": {
       "children": [
        "IPY_MODEL_6d3c5c3693db4dc89ab601c8203bd33e",
        "IPY_MODEL_6ce43df2a8d94af4b25e6a7633bb6c13"
       ],
       "layout": "IPY_MODEL_db7939a320d249689dd93c2deb712022"
      }
     },
     "83323b5c1e014e8d963d4780c4348277": {
      "model_module": "@jupyter-widgets/controls",
      "model_module_version": "1.5.0",
      "model_name": "DescriptionStyleModel",
      "state": {
       "description_width": ""
      }
     },
     "833af64f11a04cc19bd11b8d68ea0701": {
      "model_module": "@jupyter-widgets/controls",
      "model_module_version": "1.5.0",
      "model_name": "DescriptionStyleModel",
      "state": {
       "description_width": ""
      }
     },
     "83455cb4b6504b38b6c9858015b9fdac": {
      "model_module": "@jupyter-widgets/base",
      "model_module_version": "1.2.0",
      "model_name": "LayoutModel",
      "state": {
       "width": "120px"
      }
     },
     "8347664d2c6b458ab113ee8cbc01561f": {
      "model_module": "@jupyter-widgets/controls",
      "model_module_version": "1.5.0",
      "model_name": "TextModel",
      "state": {
       "layout": "IPY_MODEL_201e1a4ee32840b19f981690bdacf3ae",
       "style": "IPY_MODEL_6a3afa979d134545b005ccbf971f9f2b",
       "value": "7"
      }
     },
     "8363861efeb44f65a73f81e9e9e45408": {
      "model_module": "@jupyter-widgets/controls",
      "model_module_version": "1.5.0",
      "model_name": "TextModel",
      "state": {
       "layout": "IPY_MODEL_36d600bb3cb144de8da56ca358490108",
       "style": "IPY_MODEL_a3425483d53046ba8f2ae65d6c4879b6",
       "value": "4"
      }
     },
     "838a84339de74cdb87ca4a7e5a31760c": {
      "model_module": "@jupyter-widgets/base",
      "model_module_version": "1.2.0",
      "model_name": "LayoutModel",
      "state": {}
     },
     "83a3ced6c8c64bf2836ea80fd5ffcf1c": {
      "model_module": "@jupyter-widgets/controls",
      "model_module_version": "1.5.0",
      "model_name": "DescriptionStyleModel",
      "state": {
       "description_width": ""
      }
     },
     "83aecc892a5a496f95b0b6402dcb61df": {
      "model_module": "@jupyter-widgets/base",
      "model_module_version": "1.2.0",
      "model_name": "LayoutModel",
      "state": {}
     },
     "8414a43bf0ba47e9a3501592779794b9": {
      "model_module": "@jupyter-widgets/controls",
      "model_module_version": "1.5.0",
      "model_name": "TextModel",
      "state": {
       "layout": "IPY_MODEL_065f08ede0b647238ec761aa592646c7",
       "style": "IPY_MODEL_b204a51df14e4006a11bff71ba14b36a",
       "value": "2"
      }
     },
     "8419d117de0a483bb4f7f2dd2f014fac": {
      "model_module": "@jupyter-widgets/base",
      "model_module_version": "1.2.0",
      "model_name": "LayoutModel",
      "state": {
       "width": "90px"
      }
     },
     "8430270f1d684264afc257c6972da413": {
      "model_module": "@jupyter-widgets/controls",
      "model_module_version": "1.5.0",
      "model_name": "VBoxModel",
      "state": {
       "children": [
        "IPY_MODEL_f43ba0e924ef4d19a3984eb50ef3c4d3",
        "IPY_MODEL_6ab526ed1cb149cf9d439bb1c5832665"
       ],
       "layout": "IPY_MODEL_1ecfcca19742416c82e7f8da9439baec"
      }
     },
     "84489c3cabcc4e90a072c13fd0627cae": {
      "model_module": "@jupyter-widgets/controls",
      "model_module_version": "1.5.0",
      "model_name": "DescriptionStyleModel",
      "state": {
       "description_width": ""
      }
     },
     "844b37e96d92458f8dfee75f60f6efad": {
      "model_module": "@jupyter-widgets/controls",
      "model_module_version": "1.5.0",
      "model_name": "VBoxModel",
      "state": {
       "children": [
        "IPY_MODEL_e9942661f54c4f869208fa6fd77a3755",
        "IPY_MODEL_2a84caefaaf04cd9b6f67a05dc1039a9",
        "IPY_MODEL_0c08a95ef5a84dc6a82a786848f4a2a2"
       ],
       "layout": "IPY_MODEL_097a293b33d64e8e8d2cc6d3257248be"
      }
     },
     "845cd8e412634f5f949ceefd45856941": {
      "model_module": "@jupyter-widgets/controls",
      "model_module_version": "1.5.0",
      "model_name": "HTMLModel",
      "state": {
       "layout": "IPY_MODEL_b7a541c5631e49ef9425b932d8dd1292",
       "style": "IPY_MODEL_3d7f54f4165b41769fa5f2901a40bfd5",
       "value": "Click the button below to start the calculator"
      }
     },
     "848fd26982654fdfa9af1c0173154fe7": {
      "model_module": "@jupyter-widgets/base",
      "model_module_version": "1.2.0",
      "model_name": "LayoutModel",
      "state": {}
     },
     "849f4f13f3c24cbaa3acbd17eec86146": {
      "model_module": "@jupyter-widgets/base",
      "model_module_version": "1.2.0",
      "model_name": "LayoutModel",
      "state": {}
     },
     "84da16342ca6452a88ea03e97a10668d": {
      "model_module": "@jupyter-widgets/base",
      "model_module_version": "1.2.0",
      "model_name": "LayoutModel",
      "state": {}
     },
     "84fef734e9a34c4183cf26bb3f9d2888": {
      "model_module": "@jupyter-widgets/base",
      "model_module_version": "1.2.0",
      "model_name": "LayoutModel",
      "state": {
       "width": "150px"
      }
     },
     "85077bf8003d4501acfa8a9f154f25a2": {
      "model_module": "@jupyter-widgets/controls",
      "model_module_version": "1.5.0",
      "model_name": "DescriptionStyleModel",
      "state": {
       "description_width": ""
      }
     },
     "85250ab656b345bea21c54074e0c7820": {
      "model_module": "@jupyter-widgets/controls",
      "model_module_version": "1.5.0",
      "model_name": "DescriptionStyleModel",
      "state": {
       "description_width": ""
      }
     },
     "854698d3124944c4b01e997588977372": {
      "model_module": "@jupyter-widgets/controls",
      "model_module_version": "1.5.0",
      "model_name": "DescriptionStyleModel",
      "state": {
       "description_width": ""
      }
     },
     "85587d5312494651852678f83ffd5726": {
      "model_module": "@jupyter-widgets/controls",
      "model_module_version": "1.5.0",
      "model_name": "DescriptionStyleModel",
      "state": {
       "description_width": ""
      }
     },
     "855fdb399c6648809bc6ff75c2c0cd7e": {
      "model_module": "@jupyter-widgets/controls",
      "model_module_version": "1.5.0",
      "model_name": "VBoxModel",
      "state": {
       "children": [
        "IPY_MODEL_af17b13a0640441986cc2e3396c77e4e",
        "IPY_MODEL_18d2348cfa1d4db09b100e265839fc1d"
       ],
       "layout": "IPY_MODEL_c787b56f160c4601971e7cb2be2da5bf"
      }
     },
     "857b2ed1264b4ff0923c1f42df5372a3": {
      "model_module": "@jupyter-widgets/controls",
      "model_module_version": "1.5.0",
      "model_name": "HBoxModel",
      "state": {
       "children": [
        "IPY_MODEL_f7cb77c598d64bb48ddcfaf7b8641487",
        "IPY_MODEL_a3b361d7a9374460abf72b51e9137900"
       ],
       "layout": "IPY_MODEL_9b0fb6daf7d340dab93fb0870b5f2ac8"
      }
     },
     "85801564a80549adbf3ff92b4d61e3f2": {
      "model_module": "@jupyter-widgets/controls",
      "model_module_version": "1.5.0",
      "model_name": "TextModel",
      "state": {
       "layout": "IPY_MODEL_d29f4c6323274c2ea715833a610068a5",
       "style": "IPY_MODEL_95e4288b9a1a4eee8bbc63ed8f093aab",
       "value": "1"
      }
     },
     "859904409f2945b0a19cc9b29f8ba484": {
      "model_module": "@jupyter-widgets/controls",
      "model_module_version": "1.5.0",
      "model_name": "DropdownModel",
      "state": {
       "_options_labels": [
        "1",
        "2",
        "3"
       ],
       "description": "Row",
       "index": 0,
       "layout": "IPY_MODEL_d62fdda3d13f47608268dff3c78617c1",
       "style": "IPY_MODEL_050b831627ca4d4f9786fdf51209d931"
      }
     },
     "859cc43c1d154e15a6b81826e2874929": {
      "model_module": "@jupyter-widgets/controls",
      "model_module_version": "1.5.0",
      "model_name": "HTMLModel",
      "state": {
       "layout": "IPY_MODEL_668b58442b1c49c391fb9ed5fbd6bd10",
       "style": "IPY_MODEL_c22478fe1b0d4f3795ea62042ac3b543",
       "value": "Click the button below to start the calculator"
      }
     },
     "85ab1b11d2014e1688c01c8a9c69d3e8": {
      "model_module": "@jupyter-widgets/base",
      "model_module_version": "1.2.0",
      "model_name": "LayoutModel",
      "state": {
       "width": "40px"
      }
     },
     "85c89e87601d457c972d2699e645027c": {
      "model_module": "@jupyter-widgets/controls",
      "model_module_version": "1.5.0",
      "model_name": "ButtonStyleModel",
      "state": {}
     },
     "85d726df836f4ac3b775232543f6489e": {
      "model_module": "@jupyter-widgets/base",
      "model_module_version": "1.2.0",
      "model_name": "LayoutModel",
      "state": {}
     },
     "85e92960f2b348aaaedcbf3b19a27ed3": {
      "model_module": "@jupyter-widgets/base",
      "model_module_version": "1.2.0",
      "model_name": "LayoutModel",
      "state": {
       "width": "150px"
      }
     },
     "85e9a700cc7a4effaf2d19b4d0e2804a": {
      "model_module": "@jupyter-widgets/controls",
      "model_module_version": "1.5.0",
      "model_name": "HBoxModel",
      "state": {
       "children": [
        "IPY_MODEL_cf901beb353b4830b8691e6828395633",
        "IPY_MODEL_07cbf12cf2264b98a289a66ec0d6e724",
        "IPY_MODEL_dd09e7724adb4548a5f16ac31ed8c8b5"
       ],
       "layout": "IPY_MODEL_b6befaa6d48c49228952fa04bfdea4d8"
      }
     },
     "85f2d6f30eaa4d109f18de120398bf7a": {
      "model_module": "@jupyter-widgets/controls",
      "model_module_version": "1.5.0",
      "model_name": "TextModel",
      "state": {
       "layout": "IPY_MODEL_e60a861eca344ffe9430ae66e253e656",
       "style": "IPY_MODEL_cd53a323303947f5b29e86f355968b29",
       "value": "1"
      }
     },
     "8614d1006c384591b0e493cf4fe50791": {
      "model_module": "@jupyter-widgets/controls",
      "model_module_version": "1.5.0",
      "model_name": "DropdownModel",
      "state": {
       "_options_labels": [
        "1",
        "2",
        "3"
       ],
       "description": "to row",
       "index": 1,
       "layout": "IPY_MODEL_b49e025edc384b168e2cc102d10d2f0e",
       "style": "IPY_MODEL_4784036de72448b1a44de2e4ba67215c"
      }
     },
     "8634c947b9a049c9ac664c0444c94e48": {
      "model_module": "@jupyter-widgets/controls",
      "model_module_version": "1.5.0",
      "model_name": "TextModel",
      "state": {
       "layout": "IPY_MODEL_36d600bb3cb144de8da56ca358490108",
       "style": "IPY_MODEL_49e6c49f83fb4219957ff0edf21f8165",
       "value": "3"
      }
     },
     "8642d067baba44c0bf86d09f3f211429": {
      "model_module": "@jupyter-widgets/base",
      "model_module_version": "1.2.0",
      "model_name": "LayoutModel",
      "state": {
       "height": "35px",
       "width": "40px"
      }
     },
     "8642f3d57e224dca89f44c73206facdc": {
      "model_module": "@jupyter-widgets/base",
      "model_module_version": "1.2.0",
      "model_name": "LayoutModel",
      "state": {
       "height": "35px",
       "width": "40px"
      }
     },
     "865a725c88ee491db0bcf87d2fdab680": {
      "model_module": "@jupyter-widgets/base",
      "model_module_version": "1.2.0",
      "model_name": "LayoutModel",
      "state": {}
     },
     "8669bb10a8bf428593854433bdbede9e": {
      "model_module": "@jupyter-widgets/controls",
      "model_module_version": "1.5.0",
      "model_name": "DescriptionStyleModel",
      "state": {
       "description_width": ""
      }
     },
     "8689fc2bb6ce480485156cf5b07bdf4d": {
      "model_module": "@jupyter-widgets/controls",
      "model_module_version": "1.5.0",
      "model_name": "HTMLModel",
      "state": {
       "layout": "IPY_MODEL_b022a4792c1d45e8a716fcf99ecf088c",
       "style": "IPY_MODEL_1e477f549b904a3f83f3df8bdf0a4c76",
       "value": "Click the button below to start the calculator"
      }
     },
     "86ae6eb8ce7643dfaf73c1d1b1addd88": {
      "model_module": "@jupyter-widgets/controls",
      "model_module_version": "1.5.0",
      "model_name": "DescriptionStyleModel",
      "state": {
       "description_width": ""
      }
     },
     "86be88e0b9c2425f8d17e71f85a3f8e4": {
      "model_module": "@jupyter-widgets/controls",
      "model_module_version": "1.5.0",
      "model_name": "DropdownModel",
      "state": {
       "_options_labels": [
        "1",
        "2",
        "3"
       ],
       "description": "Row",
       "index": 0,
       "layout": "IPY_MODEL_3b2eb68a845d44e6b1fce3e3808f8a77",
       "style": "IPY_MODEL_6e340a759b324f31917261a18667b14d"
      }
     },
     "86f2b67107dc4d9ab08cb3edc82cc793": {
      "model_module": "@jupyter-widgets/controls",
      "model_module_version": "1.5.0",
      "model_name": "HBoxModel",
      "state": {
       "children": [
        "IPY_MODEL_ff7bb6638e31481c9a500c5d3dff08cf",
        "IPY_MODEL_43019518a3204a5cac81e40c722afbd9",
        "IPY_MODEL_6618e462e2a24bc797f0bc5db445b3f3"
       ],
       "layout": "IPY_MODEL_7574ff2cf42c442eb502986d7c71dfd9"
      }
     },
     "86f58410ab2544e9b1378cb940941d97": {
      "model_module": "@jupyter-widgets/controls",
      "model_module_version": "1.5.0",
      "model_name": "VBoxModel",
      "state": {
       "children": [
        "IPY_MODEL_230eaa41c63a4af498c5d5c00b11ff94",
        "IPY_MODEL_ad89ee31645c4e22ae6daf14671e0ca5",
        "IPY_MODEL_f71ec22e621a4a38b3e9ccc942c9bc4a"
       ],
       "layout": "IPY_MODEL_f19cadcefec641e395cd67af48991c05"
      }
     },
     "871d56d114d642f69fd2f5fb0311035b": {
      "model_module": "@jupyter-widgets/controls",
      "model_module_version": "1.5.0",
      "model_name": "DescriptionStyleModel",
      "state": {
       "description_width": ""
      }
     },
     "87219293ed324a78b94421185d26a09c": {
      "model_module": "@jupyter-widgets/controls",
      "model_module_version": "1.5.0",
      "model_name": "ButtonModel",
      "state": {
       "description": "Multiply row",
       "layout": "IPY_MODEL_484f655761684a08bf8817d715b75345",
       "style": "IPY_MODEL_3659d426474b430fb68b997c3e1615d9"
      }
     },
     "8744f6d14e654f24ad0353240a0db607": {
      "model_module": "@jupyter-widgets/base",
      "model_module_version": "1.2.0",
      "model_name": "LayoutModel",
      "state": {
       "width": "150px"
      }
     },
     "8784d0cbe3d745d3a68cde5dafc8f7b6": {
      "model_module": "@jupyter-widgets/controls",
      "model_module_version": "1.5.0",
      "model_name": "DescriptionStyleModel",
      "state": {
       "description_width": ""
      }
     },
     "878a2fe2fb944fd4bd655d8a112ce0f2": {
      "model_module": "@jupyter-widgets/base",
      "model_module_version": "1.2.0",
      "model_name": "LayoutModel",
      "state": {}
     },
     "87905b94b3cf4fafb0261506110687d5": {
      "model_module": "@jupyter-widgets/base",
      "model_module_version": "1.2.0",
      "model_name": "LayoutModel",
      "state": {}
     },
     "87c037b92d3d4544a8f5406c1eeaeb50": {
      "model_module": "@jupyter-widgets/controls",
      "model_module_version": "1.5.0",
      "model_name": "DescriptionStyleModel",
      "state": {
       "description_width": ""
      }
     },
     "87cce66433bf4718820155bb1c666e8e": {
      "model_module": "@jupyter-widgets/controls",
      "model_module_version": "1.5.0",
      "model_name": "VBoxModel",
      "state": {
       "children": [
        "IPY_MODEL_00774dfed7d942f5a0b57b04252600cb",
        "IPY_MODEL_5a783098df544aadb5e3fe798c81dd23"
       ],
       "layout": "IPY_MODEL_7dcb9e606a4a42db8118fd4b8d85c4ee"
      }
     },
     "8824468931684d0da16445df8364c975": {
      "model_module": "@jupyter-widgets/base",
      "model_module_version": "1.2.0",
      "model_name": "LayoutModel",
      "state": {}
     },
     "88244efbf0b24985ab97f503feb4873f": {
      "model_module": "@jupyter-widgets/base",
      "model_module_version": "1.2.0",
      "model_name": "LayoutModel",
      "state": {}
     },
     "882a386452c94d7baaf9bd4b3d9082ad": {
      "model_module": "@jupyter-widgets/base",
      "model_module_version": "1.2.0",
      "model_name": "LayoutModel",
      "state": {
       "width": "150px"
      }
     },
     "88443d3565134680ad935cde84797d9e": {
      "model_module": "@jupyter-widgets/controls",
      "model_module_version": "1.5.0",
      "model_name": "TextModel",
      "state": {
       "layout": "IPY_MODEL_24e52a9da5f64680833f56257412e632",
       "style": "IPY_MODEL_b5bfe1f40a4e4ec9b4908f610e3fc4e7",
       "value": "1"
      }
     },
     "88819f7b505a4266ba8ef3c1ce573510": {
      "model_module": "@jupyter-widgets/base",
      "model_module_version": "1.2.0",
      "model_name": "LayoutModel",
      "state": {}
     },
     "8890a4e7660547f6b856f48ecb1039f2": {
      "model_module": "@jupyter-widgets/controls",
      "model_module_version": "1.5.0",
      "model_name": "VBoxModel",
      "state": {
       "children": [
        "IPY_MODEL_41195f6a9ecb4f6baefeeb925b846ccf",
        "IPY_MODEL_c1f54432965b4eb78b3e499ba90740f7",
        "IPY_MODEL_712c3c645239403ab70f4ccc615744b2"
       ],
       "layout": "IPY_MODEL_7bc3b1216ccf452bb775d1b03aa25465"
      }
     },
     "889d659f554741789020ce2ba75dbb73": {
      "model_module": "@jupyter-widgets/controls",
      "model_module_version": "1.5.0",
      "model_name": "ButtonModel",
      "state": {
       "description": "Multiply row",
       "layout": "IPY_MODEL_7f986ba495a1457d9ab569e32378badc",
       "style": "IPY_MODEL_4ad78b2ded254f23b706964cb0068729"
      }
     },
     "88a669d6a24d4ccc8077ca677805791d": {
      "model_module": "@jupyter-widgets/base",
      "model_module_version": "1.2.0",
      "model_name": "LayoutModel",
      "state": {}
     },
     "88cbc6d726c5460aba93dd255bb8daa7": {
      "model_module": "@jupyter-widgets/controls",
      "model_module_version": "1.5.0",
      "model_name": "BoxModel",
      "state": {
       "children": [
        "IPY_MODEL_dc90cce451eb4960a24c189a28f3b89f",
        "IPY_MODEL_05b9945f99b74c8aab7d9fdf04aff964",
        "IPY_MODEL_304b08b4a7014314a8c561d2ae74b4b8",
        "IPY_MODEL_e6c181e87e7248e5a35f8bf520433bc3"
       ],
       "layout": "IPY_MODEL_b0405bcdc64e48e88e2ce24a821b02bf"
      }
     },
     "88dc6dbce38a4c379b4b3401844dcfca": {
      "model_module": "@jupyter-widgets/base",
      "model_module_version": "1.2.0",
      "model_name": "LayoutModel",
      "state": {
       "width": "150px"
      }
     },
     "88e333fb63574020b51c0472cbc18199": {
      "model_module": "@jupyter-widgets/controls",
      "model_module_version": "1.5.0",
      "model_name": "DescriptionStyleModel",
      "state": {
       "description_width": ""
      }
     },
     "88f2b62e152c4aa4a19547997d5fd4bc": {
      "model_module": "@jupyter-widgets/controls",
      "model_module_version": "1.5.0",
      "model_name": "DescriptionStyleModel",
      "state": {
       "description_width": ""
      }
     },
     "890983480d4042eaa69ee9c30df8c931": {
      "model_module": "@jupyter-widgets/base",
      "model_module_version": "1.2.0",
      "model_name": "LayoutModel",
      "state": {}
     },
     "891c74ffd49449d79fc07b58e4be638f": {
      "model_module": "@jupyter-widgets/controls",
      "model_module_version": "1.5.0",
      "model_name": "TextModel",
      "state": {
       "layout": "IPY_MODEL_308f071668994851a29f0ae6fcc0bc14",
       "style": "IPY_MODEL_dcef39c61cdc4eeb8b0829449698893d",
       "value": "-2"
      }
     },
     "891f51e9502742adb34a1eed1e551d41": {
      "model_module": "@jupyter-widgets/controls",
      "model_module_version": "1.5.0",
      "model_name": "DescriptionStyleModel",
      "state": {
       "description_width": ""
      }
     },
     "8941e8425a424eb88e6e0f44972dd4bb": {
      "model_module": "@jupyter-widgets/base",
      "model_module_version": "1.2.0",
      "model_name": "LayoutModel",
      "state": {}
     },
     "8984321359a04262bd5a0da9c645e433": {
      "model_module": "@jupyter-widgets/base",
      "model_module_version": "1.2.0",
      "model_name": "LayoutModel",
      "state": {}
     },
     "8989008f3ab74a88819f54a9b8b06e87": {
      "model_module": "@jupyter-widgets/controls",
      "model_module_version": "1.5.0",
      "model_name": "TextModel",
      "state": {
       "layout": "IPY_MODEL_1ceaf9c9ac774ae985cae0c34af76539",
       "style": "IPY_MODEL_469b2a10962f4730ab1aa848fc57cfdc",
       "value": "7"
      }
     },
     "89aa01d2624b45949572270d6e8b60f5": {
      "model_module": "@jupyter-widgets/base",
      "model_module_version": "1.2.0",
      "model_name": "LayoutModel",
      "state": {}
     },
     "89b3e4571057466f8088f47cc6141e24": {
      "model_module": "@jupyter-widgets/controls",
      "model_module_version": "1.5.0",
      "model_name": "DescriptionStyleModel",
      "state": {
       "description_width": ""
      }
     },
     "89e0afba6c6d4e1a8b0e6b37e315d8f2": {
      "model_module": "@jupyter-widgets/controls",
      "model_module_version": "1.5.0",
      "model_name": "DescriptionStyleModel",
      "state": {
       "description_width": ""
      }
     },
     "89ebd0fdcf934b8f958bc97ae307c517": {
      "model_module": "@jupyter-widgets/controls",
      "model_module_version": "1.5.0",
      "model_name": "DescriptionStyleModel",
      "state": {
       "description_width": ""
      }
     },
     "89ed7a566d214769ac6de3c224cce994": {
      "model_module": "@jupyter-widgets/controls",
      "model_module_version": "1.5.0",
      "model_name": "TextModel",
      "state": {
       "layout": "IPY_MODEL_47a60aa1cf3045f2a536b06edf49c5ea",
       "style": "IPY_MODEL_d4f22d1be86749a88d55a4d2ea1c9654",
       "value": "1"
      }
     },
     "8a0083f5168b49a88c122feea6035e85": {
      "model_module": "@jupyter-widgets/base",
      "model_module_version": "1.2.0",
      "model_name": "LayoutModel",
      "state": {}
     },
     "8a1479b08f2a4dfaab91b547ae8196a5": {
      "model_module": "@jupyter-widgets/controls",
      "model_module_version": "1.5.0",
      "model_name": "TextModel",
      "state": {
       "layout": "IPY_MODEL_8642f3d57e224dca89f44c73206facdc",
       "style": "IPY_MODEL_e369e39e30784720b86b9945cd752db2",
       "value": "-1"
      }
     },
     "8a188f18880f440ca3e786d87b2d8af7": {
      "model_module": "@jupyter-widgets/controls",
      "model_module_version": "1.5.0",
      "model_name": "DescriptionStyleModel",
      "state": {
       "description_width": ""
      }
     },
     "8a1e6c8eec914c579f67521e61e50376": {
      "model_module": "@jupyter-widgets/controls",
      "model_module_version": "1.5.0",
      "model_name": "BoxModel",
      "state": {
       "children": [
        "IPY_MODEL_2f2df2a2357449aa83c63d0bfc1908b5"
       ],
       "layout": "IPY_MODEL_a3167d83b4a1484299315a6316cb186f"
      }
     },
     "8a6c0234256847d4bc2e4b27dd671ada": {
      "model_module": "@jupyter-widgets/base",
      "model_module_version": "1.2.0",
      "model_name": "LayoutModel",
      "state": {
       "width": "120px"
      }
     },
     "8a8f51ce59da445cab30a74817bb10fe": {
      "model_module": "@jupyter-widgets/controls",
      "model_module_version": "1.5.0",
      "model_name": "DescriptionStyleModel",
      "state": {
       "description_width": ""
      }
     },
     "8abba779255f4a47b15c0cfd01d3a27e": {
      "model_module": "@jupyter-widgets/controls",
      "model_module_version": "1.5.0",
      "model_name": "VBoxModel",
      "state": {
       "children": [
        "IPY_MODEL_fcd0effc71594e75812f11150dd9043f",
        "IPY_MODEL_91342cc031174464afec0fdb80c325cb"
       ],
       "layout": "IPY_MODEL_4b91f4231d2440558535d75f19c020e4"
      }
     },
     "8abf4bfdb9574deb83d5526265325a76": {
      "model_module": "@jupyter-widgets/controls",
      "model_module_version": "1.5.0",
      "model_name": "DescriptionStyleModel",
      "state": {
       "description_width": ""
      }
     },
     "8ac6f64dd6df4dd18c767b6a3d6ca935": {
      "model_module": "@jupyter-widgets/controls",
      "model_module_version": "1.5.0",
      "model_name": "VBoxModel",
      "state": {
       "children": [
        "IPY_MODEL_6d942404b0954a4bafd7352ec4138701",
        "IPY_MODEL_082fd162475847578bb712bab74da44d",
        "IPY_MODEL_08c391716f754d7d87cc4cfe55a330ac"
       ],
       "layout": "IPY_MODEL_186e0f28be0f4346842b6d3e08d280e9"
      }
     },
     "8ad2025df1f045ccba1edafb7dad7173": {
      "model_module": "@jupyter-widgets/controls",
      "model_module_version": "1.5.0",
      "model_name": "HBoxModel",
      "state": {
       "children": [
        "IPY_MODEL_c24d50f252b647dc90e27e403c7d3980",
        "IPY_MODEL_2f742a140e0d4cadbb4df4cbc08b1062",
        "IPY_MODEL_735d455316d844e4bc088d1303c1e0fc"
       ],
       "layout": "IPY_MODEL_cf77ddaa56394e7a9f9e134eb5b54d75"
      }
     },
     "8ae4e97911d64448a105894a4f241917": {
      "model_module": "@jupyter-widgets/controls",
      "model_module_version": "1.5.0",
      "model_name": "TextModel",
      "state": {
       "layout": "IPY_MODEL_a21d52801ae94e44813bb1c00d81c473",
       "style": "IPY_MODEL_e280d1b109454573ac6478114d05c3f8",
       "value": "3"
      }
     },
     "8afe343619064fa8bfdfef8806d989d0": {
      "model_module": "@jupyter-widgets/controls",
      "model_module_version": "1.5.0",
      "model_name": "VBoxModel",
      "state": {
       "children": [
        "IPY_MODEL_0749e51fce5741c2be11a06622082a52",
        "IPY_MODEL_cb6c37fc39c746aab7d88428953189d6",
        "IPY_MODEL_06f781b1145042f4aaaf169bf0cf1c99"
       ],
       "layout": "IPY_MODEL_ccae19b5fe3d4c63865bb6b6e991c9cd"
      }
     },
     "8b1bf5c63be64d088655fd427101fde4": {
      "model_module": "@jupyter-widgets/base",
      "model_module_version": "1.2.0",
      "model_name": "LayoutModel",
      "state": {
       "flex_flow": "row wrap",
       "justify_content": "space-around"
      }
     },
     "8b4afb1df6eb4ce7a006f86f6c598a8f": {
      "model_module": "@jupyter-widgets/controls",
      "model_module_version": "1.5.0",
      "model_name": "DescriptionStyleModel",
      "state": {
       "description_width": ""
      }
     },
     "8b784dac0e86496496346537eebf2cd7": {
      "model_module": "@jupyter-widgets/controls",
      "model_module_version": "1.5.0",
      "model_name": "ButtonStyleModel",
      "state": {}
     },
     "8b81d93fc9f04a33b256d91c97ac546f": {
      "model_module": "@jupyter-widgets/controls",
      "model_module_version": "1.5.0",
      "model_name": "DescriptionStyleModel",
      "state": {
       "description_width": ""
      }
     },
     "8b82260dc5654c4fa75bdd8381126b7b": {
      "model_module": "@jupyter-widgets/controls",
      "model_module_version": "1.5.0",
      "model_name": "BoxModel",
      "state": {
       "children": [
        "IPY_MODEL_536bcf5227d541488ef7a2836598e100",
        "IPY_MODEL_321f18e47ecc4d4da85005136283cba3",
        "IPY_MODEL_b365b6ad7e4b44e68374577f3cf2255a"
       ],
       "layout": "IPY_MODEL_1889a9609800451db09a2050d18710ff"
      }
     },
     "8b91dde451f9469ba32c7c9704d81d29": {
      "model_module": "@jupyter-widgets/controls",
      "model_module_version": "1.5.0",
      "model_name": "DescriptionStyleModel",
      "state": {
       "description_width": ""
      }
     },
     "8ba44fdcaa4c4cffb0068fa207227330": {
      "model_module": "@jupyter-widgets/controls",
      "model_module_version": "1.5.0",
      "model_name": "DropdownModel",
      "state": {
       "_options_labels": [
        "1",
        "2",
        "3"
       ],
       "description": "Swap row",
       "index": 0,
       "layout": "IPY_MODEL_fb27b559ad0b40e1ac08f5ca3376ce81",
       "style": "IPY_MODEL_761a7bcc826a44ca80c6acbcbb84612d"
      }
     },
     "8ba7aa1be79445e7a3c57b1df103cc33": {
      "model_module": "@jupyter-widgets/base",
      "model_module_version": "1.2.0",
      "model_name": "LayoutModel",
      "state": {
       "justify_content": "center"
      }
     },
     "8bfa437597724a95ba309f1f8092ee72": {
      "model_module": "@jupyter-widgets/controls",
      "model_module_version": "1.5.0",
      "model_name": "TextModel",
      "state": {
       "layout": "IPY_MODEL_1ceaf9c9ac774ae985cae0c34af76539",
       "style": "IPY_MODEL_07326cfa60494e6083ebb125f32a41f6",
       "value": "2"
      }
     },
     "8c21363e29ca4259a8e74c484b3a756d": {
      "model_module": "@jupyter-widgets/base",
      "model_module_version": "1.2.0",
      "model_name": "LayoutModel",
      "state": {}
     },
     "8c392af24601481ea2818b3ccb2bb632": {
      "model_module": "@jupyter-widgets/base",
      "model_module_version": "1.2.0",
      "model_name": "LayoutModel",
      "state": {}
     },
     "8c3be8a25fc249d198bea8c619da7221": {
      "model_module": "@jupyter-widgets/base",
      "model_module_version": "1.2.0",
      "model_name": "LayoutModel",
      "state": {
       "width": "120px"
      }
     },
     "8c62b0c4430145ceae4d8be510e8ec92": {
      "model_module": "@jupyter-widgets/base",
      "model_module_version": "1.2.0",
      "model_name": "LayoutModel",
      "state": {
       "justify_content": "space-between"
      }
     },
     "8c662a756dec486e88f7e95c527a8ed5": {
      "model_module": "@jupyter-widgets/controls",
      "model_module_version": "1.5.0",
      "model_name": "ButtonModel",
      "state": {
       "description": "Multiply row",
       "layout": "IPY_MODEL_35e2f4c6375742ee9bed9eff80ba7715",
       "style": "IPY_MODEL_17504ed2cec749d3862b9249bb6cec20"
      }
     },
     "8c686a87a0974ee9812f0c4acdd42b46": {
      "model_module": "@jupyter-widgets/controls",
      "model_module_version": "1.5.0",
      "model_name": "VBoxModel",
      "state": {
       "children": [
        "IPY_MODEL_e24b373cefd249239248808256d983ce",
        "IPY_MODEL_6e1195a568ee4d0e89f2d6eb4ae88352",
        "IPY_MODEL_1efbb9d5c4f0409c8978d5465ea6fc17"
       ],
       "layout": "IPY_MODEL_05289a0e205147fbb94813186d954274"
      }
     },
     "8c72cee3e98f48b29999197a67d0eece": {
      "model_module": "@jupyter-widgets/controls",
      "model_module_version": "1.5.0",
      "model_name": "TextModel",
      "state": {
       "layout": "IPY_MODEL_a6b672bf88094d8fa8327c74293c6a55",
       "style": "IPY_MODEL_38cce1a64bde48478c6873906e560717",
       "value": "9"
      }
     },
     "8c786dde77ec479b9ba92c21b5e3e706": {
      "model_module": "@jupyter-widgets/controls",
      "model_module_version": "1.5.0",
      "model_name": "HBoxModel",
      "state": {
       "children": [
        "IPY_MODEL_e97148d946324133ad43252de564f26c",
        "IPY_MODEL_16506dc3b5f9426fa2760d8a18a3f178",
        "IPY_MODEL_1b3a773e66084685801c3502eddcfc1f"
       ],
       "layout": "IPY_MODEL_b021255de6654125b6a12dbc17cebd18"
      }
     },
     "8c8dbfc314bf4626b88dcc2f9217890a": {
      "model_module": "@jupyter-widgets/controls",
      "model_module_version": "1.5.0",
      "model_name": "DescriptionStyleModel",
      "state": {
       "description_width": ""
      }
     },
     "8c910f49460843d48764a89f2b1692b0": {
      "model_module": "@jupyter-widgets/controls",
      "model_module_version": "1.5.0",
      "model_name": "TextModel",
      "state": {
       "layout": "IPY_MODEL_065f08ede0b647238ec761aa592646c7",
       "style": "IPY_MODEL_5725ed9360854e5d88d72a355bd35f9c",
       "value": "2"
      }
     },
     "8cca10a4c8104235a793e1477fd2c241": {
      "model_module": "@jupyter-widgets/controls",
      "model_module_version": "1.5.0",
      "model_name": "ButtonModel",
      "state": {
       "description": "Add rows",
       "layout": "IPY_MODEL_7a90f0208bde4eb3ac229076800f3898",
       "style": "IPY_MODEL_fc99138ef6f8495fba82e7ccbc3a86ab"
      }
     },
     "8cde4dd2d5154b6ab1fe7ad60f08e452": {
      "model_module": "@jupyter-widgets/controls",
      "model_module_version": "1.5.0",
      "model_name": "BoxModel",
      "state": {
       "children": [
        "IPY_MODEL_ea7cfb796b414c39860084d2025ae1d8",
        "IPY_MODEL_d705ab541c184fdd914d1eeed013d2fe",
        "IPY_MODEL_8e122b479763425cb3779d93a04756e9"
       ],
       "layout": "IPY_MODEL_e4872da4ce714908ba07ffe1c10f838f"
      }
     },
     "8ce01e6b5c0649d283cbd05e4cde3150": {
      "model_module": "@jupyter-widgets/controls",
      "model_module_version": "1.5.0",
      "model_name": "HBoxModel",
      "state": {
       "children": [
        "IPY_MODEL_da61b83affe64168a457008ddd35ea35",
        "IPY_MODEL_ff2e2abf59aa4c748cfdb5b948219d1a",
        "IPY_MODEL_c243ebdb2d094f83bcc24fc5cd04c344"
       ],
       "layout": "IPY_MODEL_47eeeec577eb49e5bce136d75cab94cc"
      }
     },
     "8d16ced010fc428ab81bce4fbe2609e1": {
      "model_module": "@jupyter-widgets/controls",
      "model_module_version": "1.5.0",
      "model_name": "HBoxModel",
      "state": {
       "children": [
        "IPY_MODEL_7da62cbba2534eb68c1d2f1827d7ab58",
        "IPY_MODEL_6cfc77168c6044229a39c5f4d1270653",
        "IPY_MODEL_0cc061f4602d4733b367e761aad09b37"
       ],
       "layout": "IPY_MODEL_6e288c97588e418aabfc1f3ef33b8c3e"
      }
     },
     "8d178c7dbcb84e16ae6c67cab08506e4": {
      "model_module": "@jupyter-widgets/controls",
      "model_module_version": "1.5.0",
      "model_name": "HBoxModel",
      "state": {
       "children": [
        "IPY_MODEL_1d87c96996df4560becef2317973b3a5",
        "IPY_MODEL_c73ceabe5e37471dbcde32658547cb1d",
        "IPY_MODEL_93d09b4754f84ed890462aacb7a2d408"
       ],
       "layout": "IPY_MODEL_95625489786e4c679acdba157ce43a5e"
      }
     },
     "8d3926e6b49a41bb8122d0ce30f0715d": {
      "model_module": "@jupyter-widgets/base",
      "model_module_version": "1.2.0",
      "model_name": "LayoutModel",
      "state": {
       "width": "90px"
      }
     },
     "8d4b50e567d94154af95f250ea6e41a5": {
      "model_module": "@jupyter-widgets/base",
      "model_module_version": "1.2.0",
      "model_name": "LayoutModel",
      "state": {}
     },
     "8d523280695d44a8ae7fc16533a1a862": {
      "model_module": "@jupyter-widgets/base",
      "model_module_version": "1.2.0",
      "model_name": "LayoutModel",
      "state": {}
     },
     "8d6e213d92c7477b9d301a1c44249c19": {
      "model_module": "@jupyter-widgets/controls",
      "model_module_version": "1.5.0",
      "model_name": "VBoxModel",
      "state": {
       "children": [
        "IPY_MODEL_e0376c0f89da4c06a5ee8cf2b4ed9cfc",
        "IPY_MODEL_681474a7973d4b749115bd735dbdf0e1",
        "IPY_MODEL_b69d67ac313a40b0bb50cb9e51bc7bfe"
       ],
       "layout": "IPY_MODEL_2fedb076a914436bb19c4c0acdce1eb4"
      }
     },
     "8d8b21ef344f457ab7a51cdedf68a90d": {
      "model_module": "@jupyter-widgets/controls",
      "model_module_version": "1.5.0",
      "model_name": "TextModel",
      "state": {
       "layout": "IPY_MODEL_24e52a9da5f64680833f56257412e632",
       "style": "IPY_MODEL_ee590e817f7c495b80d39039d98ffde0",
       "value": "2"
      }
     },
     "8da7e323600647a4857851013aadc645": {
      "model_module": "@jupyter-widgets/base",
      "model_module_version": "1.2.0",
      "model_name": "LayoutModel",
      "state": {}
     },
     "8db2f7fbe1454d88a74cfd1abfa8c981": {
      "model_module": "@jupyter-widgets/controls",
      "model_module_version": "1.5.0",
      "model_name": "ButtonModel",
      "state": {
       "description": "Check inverse",
       "layout": "IPY_MODEL_b8d80dd6495f4d78899d5a653e89b8e2",
       "style": "IPY_MODEL_011f364d4a8541c5bb3be68059e59ea9"
      }
     },
     "8db6b00844384ba486a69b2bee444d3e": {
      "model_module": "@jupyter-widgets/controls",
      "model_module_version": "1.5.0",
      "model_name": "DescriptionStyleModel",
      "state": {
       "description_width": ""
      }
     },
     "8df7c3dc3df24618940b584610c6c908": {
      "model_module": "@jupyter-widgets/controls",
      "model_module_version": "1.5.0",
      "model_name": "BoxModel",
      "state": {
       "children": [
        "IPY_MODEL_1d362fa3291a438991c0f64e813d6fb5",
        "IPY_MODEL_cee7d934dbaa41c68000ff08e8173020",
        "IPY_MODEL_34cc6803183a43e081417ee3a38f94b6",
        "IPY_MODEL_72985fd91f8b4d1097b58b276981043f"
       ],
       "layout": "IPY_MODEL_547c854d26234f9abbd1f4f15818cdb1"
      }
     },
     "8e122b479763425cb3779d93a04756e9": {
      "model_module": "@jupyter-widgets/controls",
      "model_module_version": "1.5.0",
      "model_name": "HBoxModel",
      "state": {
       "children": [
        "IPY_MODEL_fb88bd18e0f64009be516e8429d81de8",
        "IPY_MODEL_07766f82b3ea47fe8776c218b72e721b"
       ],
       "layout": "IPY_MODEL_7bfc94aa5dca43b09fb04c8188b8cafb"
      }
     },
     "8e1ede23baac4a54ba8535003afc6edd": {
      "model_module": "@jupyter-widgets/base",
      "model_module_version": "1.2.0",
      "model_name": "LayoutModel",
      "state": {
       "justify_content": "center"
      }
     },
     "8e336dfb072749efa54b8ba74eba652b": {
      "model_module": "@jupyter-widgets/controls",
      "model_module_version": "1.5.0",
      "model_name": "HBoxModel",
      "state": {
       "children": [
        "IPY_MODEL_0173a63402124ad5a2984043b0c71cfd",
        "IPY_MODEL_f4c4c0af20ff46fa929361544473e16b",
        "IPY_MODEL_96483f185a774de4b6efbcbb3aa3c58a"
       ],
       "layout": "IPY_MODEL_29b7c756e0eb4f5ab236cc978c838b34"
      }
     },
     "8e3fab4c84364ff1962b50b3c24ccab1": {
      "model_module": "@jupyter-widgets/controls",
      "model_module_version": "1.5.0",
      "model_name": "DescriptionStyleModel",
      "state": {
       "description_width": ""
      }
     },
     "8eb7f269d05d4f68bfe127fc91489dd4": {
      "model_module": "@jupyter-widgets/controls",
      "model_module_version": "1.5.0",
      "model_name": "DescriptionStyleModel",
      "state": {
       "description_width": ""
      }
     },
     "8ed1fae549034de3bbde442b4c5bfc78": {
      "model_module": "@jupyter-widgets/controls",
      "model_module_version": "1.5.0",
      "model_name": "HTMLMathModel",
      "state": {
       "layout": "IPY_MODEL_8ba7aa1be79445e7a3c57b1df103cc33",
       "style": "IPY_MODEL_81d28aa1c5e44866a65d801b74c25340",
       "value": "Results will be shown here."
      }
     },
     "8ee4abdbea464171b06048326e653ed0": {
      "model_module": "@jupyter-widgets/controls",
      "model_module_version": "1.5.0",
      "model_name": "VBoxModel",
      "state": {
       "children": [
        "IPY_MODEL_dfaa102df3f24507a6d52844a4b7b272",
        "IPY_MODEL_991caa1b24d54c248f58dbb332527bfa"
       ],
       "layout": "IPY_MODEL_de82b3555d8e4e35b8dddfa50126e34d"
      }
     },
     "8f02137791ae4d74a3128c85f158b4ab": {
      "model_module": "@jupyter-widgets/controls",
      "model_module_version": "1.5.0",
      "model_name": "VBoxModel",
      "state": {
       "children": [
        "IPY_MODEL_32feb49b5d0145f4a85b9625643a303f",
        "IPY_MODEL_51e6cbbeeec1428d829c483b0a32442a",
        "IPY_MODEL_00377420b05c4f988f0c534a2323b1fd"
       ],
       "layout": "IPY_MODEL_b44b3024983f4137b8d179db77698459"
      }
     },
     "8f6a5438770b440e951f03476a132578": {
      "model_module": "@jupyter-widgets/base",
      "model_module_version": "1.2.0",
      "model_name": "LayoutModel",
      "state": {}
     },
     "8f703c7c65e541269845be3faeb124e9": {
      "model_module": "@jupyter-widgets/controls",
      "model_module_version": "1.5.0",
      "model_name": "VBoxModel",
      "state": {
       "children": [
        "IPY_MODEL_b9fcafe4daa3425eb76f8273bec8165f",
        "IPY_MODEL_d8e3b817cb8b4e31a42bc9dbee5d0cec"
       ],
       "layout": "IPY_MODEL_5cab07d256ab49d3924b047c9409c151"
      }
     },
     "8f89562761c64c089b0447c83774624d": {
      "model_module": "@jupyter-widgets/base",
      "model_module_version": "1.2.0",
      "model_name": "LayoutModel",
      "state": {
       "align_items": "center",
       "flex_flow": "row wrap",
       "height": "100px",
       "justify_content": "space-around"
      }
     },
     "8f97c166a3a147828f83fd7e63178832": {
      "model_module": "@jupyter-widgets/controls",
      "model_module_version": "1.5.0",
      "model_name": "DescriptionStyleModel",
      "state": {
       "description_width": ""
      }
     },
     "8fc27852a5734c089ffe7f3986157709": {
      "model_module": "@jupyter-widgets/controls",
      "model_module_version": "1.5.0",
      "model_name": "DescriptionStyleModel",
      "state": {
       "description_width": ""
      }
     },
     "8fcf637cbe534cf7a48d3166e616981f": {
      "model_module": "@jupyter-widgets/base",
      "model_module_version": "1.2.0",
      "model_name": "LayoutModel",
      "state": {
       "width": "150px"
      }
     },
     "8fd2915d6ac34d2285425a215868d17e": {
      "model_module": "@jupyter-widgets/base",
      "model_module_version": "1.2.0",
      "model_name": "LayoutModel",
      "state": {
       "width": "100px"
      }
     },
     "8feaee7c4b6e4fedad4ff3f334d745a6": {
      "model_module": "@jupyter-widgets/controls",
      "model_module_version": "1.5.0",
      "model_name": "HTMLMathModel",
      "state": {
       "layout": "IPY_MODEL_d739557e42f34aad946a29463dbb13ab",
       "style": "IPY_MODEL_b8f9c71b4fd34c4da917dc2553cf6e20",
       "value": "Results will be shown here."
      }
     },
     "8ff0ec45936248d8811eb7582dace907": {
      "model_module": "@jupyter-widgets/controls",
      "model_module_version": "1.5.0",
      "model_name": "TextModel",
      "state": {
       "layout": "IPY_MODEL_239bec109578490f9329cf0477e25967",
       "style": "IPY_MODEL_89ebd0fdcf934b8f958bc97ae307c517",
       "value": "2"
      }
     },
     "9027e35793b941fcb00cbf7b3a14b669": {
      "model_module": "@jupyter-widgets/base",
      "model_module_version": "1.2.0",
      "model_name": "LayoutModel",
      "state": {
       "width": "150px"
      }
     },
     "906c7977d372403fa0933dfaeb72b757": {
      "model_module": "@jupyter-widgets/controls",
      "model_module_version": "1.5.0",
      "model_name": "ButtonModel",
      "state": {
       "description": "Start",
       "layout": "IPY_MODEL_782d6ea60dec469a863bbd246a6b2060",
       "style": "IPY_MODEL_e1bcbb60ebab4617ac690232d0d74196"
      }
     },
     "90745d4b0d0348a3a45896fdd6e0b91e": {
      "model_module": "@jupyter-widgets/controls",
      "model_module_version": "1.5.0",
      "model_name": "TextModel",
      "state": {
       "layout": "IPY_MODEL_f73078d706924fb0a75d30fb0655ac85",
       "style": "IPY_MODEL_bf19d37ce82543eeac16b839c05cbdd4",
       "value": "-1"
      }
     },
     "9081a0716bc44b7ea86f2b59b7f3bf1f": {
      "model_module": "@jupyter-widgets/base",
      "model_module_version": "1.2.0",
      "model_name": "LayoutModel",
      "state": {}
     },
     "90929bf11a4442cc898f760df93a9f78": {
      "model_module": "@jupyter-widgets/controls",
      "model_module_version": "1.5.0",
      "model_name": "TextModel",
      "state": {
       "description": "times",
       "layout": "IPY_MODEL_cb655ea66840445385672cfb773a7c2a",
       "style": "IPY_MODEL_4ad70300b9964656ae344235b972d3cb",
       "value": "-1"
      }
     },
     "9098c965a51d4f86942174e4766c8595": {
      "model_module": "@jupyter-widgets/controls",
      "model_module_version": "1.5.0",
      "model_name": "DescriptionStyleModel",
      "state": {
       "description_width": ""
      }
     },
     "909bb8a066fb44099ebd540a9b6cc6c7": {
      "model_module": "@jupyter-widgets/controls",
      "model_module_version": "1.5.0",
      "model_name": "DescriptionStyleModel",
      "state": {
       "description_width": ""
      }
     },
     "909edb0fab65494cba9a4e4e7ef025d2": {
      "model_module": "@jupyter-widgets/base",
      "model_module_version": "1.2.0",
      "model_name": "LayoutModel",
      "state": {
       "width": "150px"
      }
     },
     "90aef78a96ce4d1194b547d6f2f55ffa": {
      "model_module": "@jupyter-widgets/controls",
      "model_module_version": "1.5.0",
      "model_name": "TextModel",
      "state": {
       "layout": "IPY_MODEL_d743f8ba50f447a3ad2d5faaa6a0e9e2",
       "style": "IPY_MODEL_d236ef24818641ada0cbeffc529212a6",
       "value": "-1"
      }
     },
     "90e1bf6c80744489b6207fd56dceb819": {
      "model_module": "@jupyter-widgets/controls",
      "model_module_version": "1.5.0",
      "model_name": "DescriptionStyleModel",
      "state": {
       "description_width": ""
      }
     },
     "90e9b4afabaa42f297d7e3022cfb17db": {
      "model_module": "@jupyter-widgets/controls",
      "model_module_version": "1.5.0",
      "model_name": "ButtonModel",
      "state": {
       "description": "Swap rows",
       "layout": "IPY_MODEL_3886dcd238d7482dbec72b1fa2e7a447",
       "style": "IPY_MODEL_308fd71d6dd747d288e4785e56a07a00"
      }
     },
     "90ecb3e5f2764095b9b7407a856e1eb8": {
      "model_module": "@jupyter-widgets/controls",
      "model_module_version": "1.5.0",
      "model_name": "DropdownModel",
      "state": {
       "_options_labels": [
        "1",
        "2",
        "3"
       ],
       "description": "to row",
       "index": 1,
       "layout": "IPY_MODEL_4f403739e8f04573a529c763391ab7ce",
       "style": "IPY_MODEL_79109e41aecc40e19684b98418e71884"
      }
     },
     "911782efbdb943058e1fb7375d220e6b": {
      "model_module": "@jupyter-widgets/base",
      "model_module_version": "1.2.0",
      "model_name": "LayoutModel",
      "state": {
       "width": "100px"
      }
     },
     "912dcb0aa7fb4bd1bef42ae67783f916": {
      "model_module": "@jupyter-widgets/base",
      "model_module_version": "1.2.0",
      "model_name": "LayoutModel",
      "state": {}
     },
     "91342cc031174464afec0fdb80c325cb": {
      "model_module": "@jupyter-widgets/controls",
      "model_module_version": "1.5.0",
      "model_name": "ButtonModel",
      "state": {
       "description": "Start",
       "layout": "IPY_MODEL_4d3efca797e04672bc418cd73e7b8f92",
       "style": "IPY_MODEL_4c24898c7983471aa85b2374b325cc42"
      }
     },
     "913c3ff08876431382be76e477ea213a": {
      "model_module": "@jupyter-widgets/base",
      "model_module_version": "1.2.0",
      "model_name": "LayoutModel",
      "state": {
       "width": "90px"
      }
     },
     "9141f2dde1084ea2b324df57759f2d3c": {
      "model_module": "@jupyter-widgets/base",
      "model_module_version": "1.2.0",
      "model_name": "LayoutModel",
      "state": {}
     },
     "9153db670d0a414381935af1d892c14e": {
      "model_module": "@jupyter-widgets/controls",
      "model_module_version": "1.5.0",
      "model_name": "DescriptionStyleModel",
      "state": {
       "description_width": ""
      }
     },
     "916d801793554fc68bb3e4187390a469": {
      "model_module": "@jupyter-widgets/controls",
      "model_module_version": "1.5.0",
      "model_name": "TextModel",
      "state": {
       "layout": "IPY_MODEL_f73078d706924fb0a75d30fb0655ac85",
       "style": "IPY_MODEL_69d0b927712e476abeabb5847565c45b",
       "value": "1"
      }
     },
     "91784b2a3b01482e916116652aecf183": {
      "model_module": "@jupyter-widgets/controls",
      "model_module_version": "1.5.0",
      "model_name": "HBoxModel",
      "state": {
       "children": [
        "IPY_MODEL_aa3fd332ab7346408b2511dc2ed703af",
        "IPY_MODEL_c33b14e5954044d1bc8347d420f80038",
        "IPY_MODEL_a774ad687fbd43c28e79cbc983d1d03b"
       ],
       "layout": "IPY_MODEL_7f349744b7c24f32b288d3b47cb85956"
      }
     },
     "918257d8846f4ba6bc4cab24c50e6524": {
      "model_module": "@jupyter-widgets/controls",
      "model_module_version": "1.5.0",
      "model_name": "DescriptionStyleModel",
      "state": {
       "description_width": ""
      }
     },
     "91a72f682f924389bdcadc627973ba43": {
      "model_module": "@jupyter-widgets/controls",
      "model_module_version": "1.5.0",
      "model_name": "HBoxModel",
      "state": {
       "children": [
        "IPY_MODEL_9d633646cedf46749f505f90aa0f0810",
        "IPY_MODEL_cccd12e1209d4fe9ad8ecd8255b5449b",
        "IPY_MODEL_008533c8e6514a46b4a5d0d32abdb081"
       ],
       "layout": "IPY_MODEL_da49f8edf9cc477cb16925ea0bccc703"
      }
     },
     "91db62ef1eaf48919f036805a60f6fd2": {
      "model_module": "@jupyter-widgets/controls",
      "model_module_version": "1.5.0",
      "model_name": "HBoxModel",
      "state": {
       "children": [
        "IPY_MODEL_7158a014734241aab5bc5d0df1b2d8af",
        "IPY_MODEL_124d9e6b1e624c0ab89adb99c83858a0",
        "IPY_MODEL_02d02a3a41104a4cb1ce19dd6231e7b0"
       ],
       "layout": "IPY_MODEL_2208c8013a0d4581a2662f947d523ae7"
      }
     },
     "91f4ec477c9b48f0a0f8b879a06db714": {
      "model_module": "@jupyter-widgets/controls",
      "model_module_version": "1.5.0",
      "model_name": "DescriptionStyleModel",
      "state": {
       "description_width": ""
      }
     },
     "921260cf9be147eaaebc390ab49ba9c6": {
      "model_module": "@jupyter-widgets/base",
      "model_module_version": "1.2.0",
      "model_name": "LayoutModel",
      "state": {}
     },
     "9215f36a3c99422e80b40f29a31302e4": {
      "model_module": "@jupyter-widgets/controls",
      "model_module_version": "1.5.0",
      "model_name": "HBoxModel",
      "state": {
       "children": [
        "IPY_MODEL_61193839c6454ae6adbe37f18724de0a",
        "IPY_MODEL_df56df8559c540cfa134b9e8bb7141da",
        "IPY_MODEL_e79a80bea1074d1cbdafd1971c3fe630"
       ],
       "layout": "IPY_MODEL_77618720a0cf44318c04a2ca1cb40ede"
      }
     },
     "9240155b1afa405badd5dd9e6b5c9a34": {
      "model_module": "@jupyter-widgets/controls",
      "model_module_version": "1.5.0",
      "model_name": "DescriptionStyleModel",
      "state": {
       "description_width": ""
      }
     },
     "928af77fb9544b048ce9c57bab62ca78": {
      "model_module": "@jupyter-widgets/controls",
      "model_module_version": "1.5.0",
      "model_name": "ButtonModel",
      "state": {
       "description": "Start",
       "layout": "IPY_MODEL_b85305a20b1b4a4f807aeebc03c16d4e",
       "style": "IPY_MODEL_1f4ff2dc9cc14829ab276ba790386732"
      }
     },
     "92995dbd99b4442d81ed1ac5a88c7d56": {
      "model_module": "@jupyter-widgets/controls",
      "model_module_version": "1.5.0",
      "model_name": "DescriptionStyleModel",
      "state": {
       "description_width": ""
      }
     },
     "92a6543388b649baa3eb9e0a5b23b206": {
      "model_module": "@jupyter-widgets/controls",
      "model_module_version": "1.5.0",
      "model_name": "VBoxModel",
      "state": {
       "children": [
        "IPY_MODEL_4d181be52b504ffa908da50ecaafba6d",
        "IPY_MODEL_3de2ebf26ed140c68c84ff787ffcfb7f",
        "IPY_MODEL_def1c5c6e5c4480cb1c0fda03de51552"
       ],
       "layout": "IPY_MODEL_2778daa48ab64c0db6ad457cd526e82b"
      }
     },
     "92b55001dd354012abb5d9a62b16fdb3": {
      "model_module": "@jupyter-widgets/base",
      "model_module_version": "1.2.0",
      "model_name": "LayoutModel",
      "state": {
       "width": "90px"
      }
     },
     "92e4cd8b5f67430ab79f31dc4dfa893a": {
      "model_module": "@jupyter-widgets/controls",
      "model_module_version": "1.5.0",
      "model_name": "DescriptionStyleModel",
      "state": {
       "description_width": ""
      }
     },
     "92ef7dc2886f4e1d883286b549948cd7": {
      "model_module": "@jupyter-widgets/controls",
      "model_module_version": "1.5.0",
      "model_name": "HTMLModel",
      "state": {
       "layout": "IPY_MODEL_46a6d9472cbd4892ad6b1e4142f4d68d",
       "style": "IPY_MODEL_2d33574bd29841d6b6d3498276177b53",
       "value": "Click the button below to start the calculator"
      }
     },
     "93622fe6937f4605a871e065d4ed3008": {
      "model_module": "@jupyter-widgets/controls",
      "model_module_version": "1.5.0",
      "model_name": "TextModel",
      "state": {
       "layout": "IPY_MODEL_dfe771ca3cb647c5ba599a113ad575df",
       "style": "IPY_MODEL_5f0c26c3d40e4881906939cfabb1a5d4",
       "value": "2"
      }
     },
     "937c7680fade4ba68d71bac5dfa2040c": {
      "model_module": "@jupyter-widgets/controls",
      "model_module_version": "1.5.0",
      "model_name": "DescriptionStyleModel",
      "state": {
       "description_width": ""
      }
     },
     "9391f2bc485a4d9cb441b3abee03ca5e": {
      "model_module": "@jupyter-widgets/base",
      "model_module_version": "1.2.0",
      "model_name": "LayoutModel",
      "state": {
       "width": "150px"
      }
     },
     "93afcd4a20a844269625caff03d002a4": {
      "model_module": "@jupyter-widgets/controls",
      "model_module_version": "1.5.0",
      "model_name": "VBoxModel",
      "state": {
       "children": [
        "IPY_MODEL_43d22d0cb869411aa30b1ac30659627c",
        "IPY_MODEL_7238e65219374dde85db1716a83173fb",
        "IPY_MODEL_74d5e40220c543e38afd705a4f81476e"
       ],
       "layout": "IPY_MODEL_38e76337283c4a00a813a2c2670d439d"
      }
     },
     "93bfa3e7c0204b1dbb929338428d0f11": {
      "model_module": "@jupyter-widgets/controls",
      "model_module_version": "1.5.0",
      "model_name": "ButtonModel",
      "state": {
       "description": "Start",
       "layout": "IPY_MODEL_0bf90608e018438da96fec272cf6a019",
       "style": "IPY_MODEL_0d30074111024cbf935af07db166050b"
      }
     },
     "93d09b4754f84ed890462aacb7a2d408": {
      "model_module": "@jupyter-widgets/controls",
      "model_module_version": "1.5.0",
      "model_name": "TextModel",
      "state": {
       "layout": "IPY_MODEL_9f4d9e00ae3e470a8d024478444df27d",
       "style": "IPY_MODEL_f2ae0e66337c4ebdae2cb01a413f8e02",
       "value": "2"
      }
     },
     "93d527fbbd674ac8bf53f7b621c3bea5": {
      "model_module": "@jupyter-widgets/controls",
      "model_module_version": "1.5.0",
      "model_name": "DescriptionStyleModel",
      "state": {
       "description_width": ""
      }
     },
     "93d75bf643ef4ed5915f52affd6d1221": {
      "model_module": "@jupyter-widgets/controls",
      "model_module_version": "1.5.0",
      "model_name": "TextModel",
      "state": {
       "layout": "IPY_MODEL_97993fa24fac42e28605e8d366180168",
       "style": "IPY_MODEL_292616b9a7b0409d922f4e8da963d12f",
       "value": "-1"
      }
     },
     "93f0d1409c7a4102bf9dccea0a49cbdd": {
      "model_module": "@jupyter-widgets/controls",
      "model_module_version": "1.5.0",
      "model_name": "DescriptionStyleModel",
      "state": {
       "description_width": ""
      }
     },
     "94120941d8134bc5b4a252b15efc449a": {
      "model_module": "@jupyter-widgets/controls",
      "model_module_version": "1.5.0",
      "model_name": "HTMLMathModel",
      "state": {
       "layout": "IPY_MODEL_6dad8dc389924fa0baf9c3f001d7c8f0",
       "style": "IPY_MODEL_8b4afb1df6eb4ce7a006f86f6c598a8f",
       "value": "Enter here the values of the right hand side vector $b$"
      }
     },
     "94443913171042e6985a4b231f62d457": {
      "model_module": "@jupyter-widgets/controls",
      "model_module_version": "1.5.0",
      "model_name": "DescriptionStyleModel",
      "state": {
       "description_width": ""
      }
     },
     "94466750ff064aee938c50134b4abd9b": {
      "model_module": "@jupyter-widgets/base",
      "model_module_version": "1.2.0",
      "model_name": "LayoutModel",
      "state": {}
     },
     "945e550e7dc84b848e940e607e7ee007": {
      "model_module": "@jupyter-widgets/base",
      "model_module_version": "1.2.0",
      "model_name": "LayoutModel",
      "state": {}
     },
     "9472dc7c8a6341bc870d60aad19fefe8": {
      "model_module": "@jupyter-widgets/controls",
      "model_module_version": "1.5.0",
      "model_name": "DescriptionStyleModel",
      "state": {
       "description_width": ""
      }
     },
     "947b84b12e164bfca734f46861bbf3d6": {
      "model_module": "@jupyter-widgets/controls",
      "model_module_version": "1.5.0",
      "model_name": "DropdownModel",
      "state": {
       "_options_labels": [
        "1",
        "2",
        "3"
       ],
       "description": "to row",
       "index": 1,
       "layout": "IPY_MODEL_f2f16efda7f64b86bcf02aedbb48b3ca",
       "style": "IPY_MODEL_2dc52afa0a424630afda17f0855abca0"
      }
     },
     "94993f2d8edb4c15b815b85125f23b3c": {
      "model_module": "@jupyter-widgets/controls",
      "model_module_version": "1.5.0",
      "model_name": "BoxModel",
      "state": {
       "children": [
        "IPY_MODEL_98f25a87b33c4872a51514dc01221949",
        "IPY_MODEL_a1de97ffa09b4779a1cb9bf24a973716",
        "IPY_MODEL_fc8138c1f7a44e6b8a907d0f7f1a0bd5",
        "IPY_MODEL_68543e0a26c047a583cd3e54b1d5d474"
       ],
       "layout": "IPY_MODEL_4ca520b5298740fab98874851bc7e360"
      }
     },
     "94a707d9c50b4dcea0676ced2e7d4cbd": {
      "model_module": "@jupyter-widgets/controls",
      "model_module_version": "1.5.0",
      "model_name": "DescriptionStyleModel",
      "state": {
       "description_width": ""
      }
     },
     "94b5d81cfc23473fa78e0ac0f86e3070": {
      "model_module": "@jupyter-widgets/controls",
      "model_module_version": "1.5.0",
      "model_name": "BoxModel",
      "state": {
       "children": [
        "IPY_MODEL_f2d1f3df114f4723a3a7aa08ce1a337f"
       ],
       "layout": "IPY_MODEL_3f6bd4cdb4a24f78b87e4e2ad4020c47"
      }
     },
     "94d1f64f764c4519b458eaae0bbacf75": {
      "model_module": "@jupyter-widgets/base",
      "model_module_version": "1.2.0",
      "model_name": "LayoutModel",
      "state": {}
     },
     "94d520641db6404c9f5cfe46d3c20350": {
      "model_module": "@jupyter-widgets/controls",
      "model_module_version": "1.5.0",
      "model_name": "TextModel",
      "state": {
       "description": "times",
       "layout": "IPY_MODEL_6fd88a03d4404bbc941802f90c084a85",
       "style": "IPY_MODEL_c0fb1e1a391d4fad8b2d6ee4d6f25b74",
       "value": "-1"
      }
     },
     "94f30df9d6fb4916aae21e4e2b82e3ff": {
      "model_module": "@jupyter-widgets/controls",
      "model_module_version": "1.5.0",
      "model_name": "ButtonModel",
      "state": {
       "description": "Start",
       "layout": "IPY_MODEL_bd9d47a6081e4b82b99007bbffcc5266",
       "style": "IPY_MODEL_f82e874f2a6d48d0990e15e1998d4f46"
      }
     },
     "94f3b762c4f24ae3b2659eadb8432154": {
      "model_module": "@jupyter-widgets/controls",
      "model_module_version": "1.5.0",
      "model_name": "DropdownModel",
      "state": {
       "_options_labels": [
        "1",
        "2",
        "3"
       ],
       "description": "Row",
       "index": 0,
       "layout": "IPY_MODEL_fdb27c5fc18d444eaa6327f8e54250c5",
       "style": "IPY_MODEL_578d4a1004ae47acafce98dda5900f60"
      }
     },
     "94ff80fb73814960877c00ab97ba788b": {
      "model_module": "@jupyter-widgets/base",
      "model_module_version": "1.2.0",
      "model_name": "LayoutModel",
      "state": {
       "width": "150px"
      }
     },
     "950636dfec7446fa929ac9c8e182e8f2": {
      "model_module": "@jupyter-widgets/base",
      "model_module_version": "1.2.0",
      "model_name": "LayoutModel",
      "state": {
       "width": "90px"
      }
     },
     "951ddb31c207458ca03edf12c64999e2": {
      "model_module": "@jupyter-widgets/controls",
      "model_module_version": "1.5.0",
      "model_name": "TextModel",
      "state": {
       "layout": "IPY_MODEL_65cb8db367e14667886b79ef97c800d1",
       "style": "IPY_MODEL_14ac1c7acedb4b4f8ef005ca8700024c",
       "value": "9"
      }
     },
     "95264c7a366c4cff892ab4b1e7f7db42": {
      "model_module": "@jupyter-widgets/base",
      "model_module_version": "1.2.0",
      "model_name": "LayoutModel",
      "state": {
       "width": "150px"
      }
     },
     "9555669019a44fb1a41ee73e6f7f9fc5": {
      "model_module": "@jupyter-widgets/controls",
      "model_module_version": "1.5.0",
      "model_name": "HTMLMathModel",
      "state": {
       "layout": "IPY_MODEL_f0c37c50ebf74d1b8c8e6007f1902a2d",
       "style": "IPY_MODEL_f768bf630d6d4b4e9df315eb1bccd4ca",
       "value": "The augmented matrix is:\n    $$\n    \\left[ \\begin{array}{rrr|r}\n        2 & -6 & 1 & 7\\\\\n        1 & 4 & -1 & -1\\\\\n        5 & 7 & -4 & 9\n    \\end{array} \\right]\n    $$"
      }
     },
     "955c3c0dbd694d0e9bb08773daf3d343": {
      "model_module": "@jupyter-widgets/controls",
      "model_module_version": "1.5.0",
      "model_name": "DescriptionStyleModel",
      "state": {
       "description_width": ""
      }
     },
     "955d3f6f69c849298521710ff0ff6624": {
      "model_module": "@jupyter-widgets/controls",
      "model_module_version": "1.5.0",
      "model_name": "ButtonModel",
      "state": {
       "description": "Start",
       "layout": "IPY_MODEL_3bea237394c74d4c910c2bd4cc8529e5",
       "style": "IPY_MODEL_619efbd321c941ee9694e5e4065169f4"
      }
     },
     "95625489786e4c679acdba157ce43a5e": {
      "model_module": "@jupyter-widgets/base",
      "model_module_version": "1.2.0",
      "model_name": "LayoutModel",
      "state": {}
     },
     "9568f6d8e9624adaa6c2161c819c22b1": {
      "model_module": "@jupyter-widgets/controls",
      "model_module_version": "1.5.0",
      "model_name": "DropdownModel",
      "state": {
       "_options_labels": [
        "1",
        "2",
        "3"
       ],
       "description": "and row",
       "index": 1,
       "layout": "IPY_MODEL_30b93015e3c444248f73545d1d92177f",
       "style": "IPY_MODEL_cbf337106b2a4262bc245904dec0ac35"
      }
     },
     "958f02dc415f44f281f18e8bffd8015f": {
      "model_module": "@jupyter-widgets/controls",
      "model_module_version": "1.5.0",
      "model_name": "TextModel",
      "state": {
       "description": "times",
       "layout": "IPY_MODEL_9391f2bc485a4d9cb441b3abee03ca5e",
       "style": "IPY_MODEL_94443913171042e6985a4b231f62d457",
       "value": "1"
      }
     },
     "959b0d6930f44a08b608939ccfa4c2fa": {
      "model_module": "@jupyter-widgets/controls",
      "model_module_version": "1.5.0",
      "model_name": "ButtonModel",
      "state": {
       "description": "Start",
       "layout": "IPY_MODEL_74cd3546676f4b52998b873b9481d48e",
       "style": "IPY_MODEL_bfbe2a03bc8b4a278fd13b513823dee6"
      }
     },
     "95e4288b9a1a4eee8bbc63ed8f093aab": {
      "model_module": "@jupyter-widgets/controls",
      "model_module_version": "1.5.0",
      "model_name": "DescriptionStyleModel",
      "state": {
       "description_width": ""
      }
     },
     "95e89f6314944daa9a3b52d3a6f61e85": {
      "model_module": "@jupyter-widgets/controls",
      "model_module_version": "1.5.0",
      "model_name": "DescriptionStyleModel",
      "state": {
       "description_width": ""
      }
     },
     "95f4ff13162042cf8a405bff2dba842c": {
      "model_module": "@jupyter-widgets/base",
      "model_module_version": "1.2.0",
      "model_name": "LayoutModel",
      "state": {}
     },
     "95fb39d5e88449599dbc2b5f9b02dee3": {
      "model_module": "@jupyter-widgets/controls",
      "model_module_version": "1.5.0",
      "model_name": "HTMLModel",
      "state": {
       "layout": "IPY_MODEL_dfbd33580c2d461a861656800f922119",
       "style": "IPY_MODEL_9f4a403df85e4368803a796e82d072a0",
       "value": "Click this button to start the calculator"
      }
     },
     "9622b87d96e346ff9156b0af9b242f3e": {
      "model_module": "@jupyter-widgets/base",
      "model_module_version": "1.2.0",
      "model_name": "LayoutModel",
      "state": {
       "width": "150px"
      }
     },
     "96483f185a774de4b6efbcbb3aa3c58a": {
      "model_module": "@jupyter-widgets/controls",
      "model_module_version": "1.5.0",
      "model_name": "TextModel",
      "state": {
       "layout": "IPY_MODEL_8642f3d57e224dca89f44c73206facdc",
       "style": "IPY_MODEL_c20d5c5fa870408a931a6c4a2f032fe6",
       "value": "1"
      }
     },
     "964c24c29cc14ed49481eaf774388a7b": {
      "model_module": "@jupyter-widgets/controls",
      "model_module_version": "1.5.0",
      "model_name": "HTMLMathModel",
      "state": {
       "layout": "IPY_MODEL_03aa298568504613b3d9685a22992fa2",
       "style": "IPY_MODEL_7e8d4bd6e90f4868b6e3d3746c1758d9",
       "value": "$$ $$$$ \\left[\\begin{array}{ rrr|rrr }\n\\color{ blue }{ 4 } & \\color{ blue }{ 1 } & \\color{ blue }{ -2 } & \\color{ blue }{ 1 } & \\color{ blue }{ 0 } & \\color{ blue }{ 0 } \\\\\n3 & -1 & 1 & 0 & 1 & 0 \\\\\n\\color{ red }{ 1 } & \\color{ red }{ -1 } & \\color{ red }{ 1 } & \\color{ red }{ 0 } & \\color{ red }{ 0 } & \\color{ red }{ 1 }\n\\end{array}\\right ]\\stackrel{ \\color{blue}{R_1} \\leftrightarrow \\color{red}{R_3}}{\\Longrightarrow}\\left [\\begin{array}{ rrr|rrr }\n\\color{ red }{ 1 } & \\color{ red }{ -1 } & \\color{ red }{ 1 } & \\color{ red }{ 0 } & \\color{ red }{ 0 } & \\color{ red }{ 1 } \\\\\n3 & -1 & 1 & 0 & 1 & 0 \\\\\n\\color{ blue }{ 4 } & \\color{ blue }{ 1 } & \\color{ blue }{ -2 } & \\color{ blue }{ 1 } & \\color{ blue }{ 0 } & \\color{ blue }{ 0 }\n\\end{array}\\right ] $$$$ $$$$ \\left[\\begin{array}{ rrr|rrr }\n\\color{ blue }{ 1 } & \\color{ blue }{ -1 } & \\color{ blue }{ 1 } & \\color{ blue }{ 0 } & \\color{ blue }{ 0 } & \\color{ blue }{ 1 } \\\\\n\\color{ red }{ 3 } & \\color{ red }{ -1 } & \\color{ red }{ 1 } & \\color{ red }{ 0 } & \\color{ red }{ 1 } & \\color{ red }{ 0 } \\\\\n4 & 1 & -2 & 1 & 0 & 0\n\\end{array}\\right ]\\stackrel{ -3\\color{blue}{R_1} + \\color{red}{R_2} \\to \\color{green}{R_2}}{\\Longrightarrow}\\left [\\begin{array}{ rrr|rrr }\n\\color{ blue }{ 1 } & \\color{ blue }{ -1 } & \\color{ blue }{ 1 } & \\color{ blue }{ 0 } & \\color{ blue }{ 0 } & \\color{ blue }{ 1 } \\\\\n\\color{ green }{ 0 } & \\color{ green }{ 2 } & \\color{ green }{ -2 } & \\color{ green }{ 0 } & \\color{ green }{ 1 } & \\color{ green }{ -3 } \\\\\n4 & 1 & -2 & 1 & 0 & 0\n\\end{array}\\right ] $$$$ $$$$ \\left[\\begin{array}{ rrr|rrr }\n\\color{ blue }{ 1 } & \\color{ blue }{ -1 } & \\color{ blue }{ 1 } & \\color{ blue }{ 0 } & \\color{ blue }{ 0 } & \\color{ blue }{ 1 } \\\\\n0 & 2 & -2 & 0 & 1 & -3 \\\\\n\\color{ red }{ 4 } & \\color{ red }{ 1 } & \\color{ red }{ -2 } & \\color{ red }{ 1 } & \\color{ red }{ 0 } & \\color{ red }{ 0 }\n\\end{array}\\right ]\\stackrel{ -4\\color{blue}{R_1} + \\color{red}{R_3} \\to \\color{green}{R_3}}{\\Longrightarrow}\\left [\\begin{array}{ rrr|rrr }\n\\color{ blue }{ 1 } & \\color{ blue }{ -1 } & \\color{ blue }{ 1 } & \\color{ blue }{ 0 } & \\color{ blue }{ 0 } & \\color{ blue }{ 1 } \\\\\n0 & 2 & -2 & 0 & 1 & -3 \\\\\n\\color{ green }{ 0 } & \\color{ green }{ 5 } & \\color{ green }{ -6 } & \\color{ green }{ 1 } & \\color{ green }{ 0 } & \\color{ green }{ -4 }\n\\end{array}\\right ] $$$$ $$$$ \\left[\\begin{array}{ rrr|rrr }\n1 & -1 & 1 & 0 & 0 & 1 \\\\\n\\color{ red }{ 0 } & \\color{ red }{ 2 } & \\color{ red }{ -2 } & \\color{ red }{ 0 } & \\color{ red }{ 1 } & \\color{ red }{ -3 } \\\\\n0 & 5 & -6 & 1 & 0 & -4\n\\end{array}\\right ]\\stackrel{ 1/2 \\,\\color{red}{R_2} \\to \\color{green}{R_2}}{\\Longrightarrow}\\left [\\begin{array}{ rrr|rrr }\n1 & -1 & 1 & 0 & 0 & 1 \\\\\n\\color{ green }{ 0 } & \\color{ green }{ 1 } & \\color{ green }{ -1 } & \\color{ green }{ 0 } & \\color{ green }{ 1/2 } & \\color{ green }{ -3/2 } \\\\\n0 & 5 & -6 & 1 & 0 & -4\n\\end{array}\\right ] $$$$ $$$$ \\left[\\begin{array}{ rrr|rrr }\n1 & -1 & 1 & 0 & 0 & 1 \\\\\n\\color{ blue }{ 0 } & \\color{ blue }{ 1 } & \\color{ blue }{ -1 } & \\color{ blue }{ 0 } & \\color{ blue }{ 1/2 } & \\color{ blue }{ -3/2 } \\\\\n\\color{ red }{ 0 } & \\color{ red }{ 5 } & \\color{ red }{ -6 } & \\color{ red }{ 1 } & \\color{ red }{ 0 } & \\color{ red }{ -4 }\n\\end{array}\\right ]\\stackrel{ -5\\color{blue}{R_2} + \\color{red}{R_3} \\to \\color{green}{R_3}}{\\Longrightarrow}\\left [\\begin{array}{ rrr|rrr }\n1 & -1 & 1 & 0 & 0 & 1 \\\\\n\\color{ blue }{ 0 } & \\color{ blue }{ 1 } & \\color{ blue }{ -1 } & \\color{ blue }{ 0 } & \\color{ blue }{ 1/2 } & \\color{ blue }{ -3/2 } \\\\\n\\color{ green }{ 0 } & \\color{ green }{ 0 } & \\color{ green }{ -1 } & \\color{ green }{ 1 } & \\color{ green }{ -5/2 } & \\color{ green }{ 7/2 }\n\\end{array}\\right ] $$$$ $$$$ \\left[\\begin{array}{ rrr|rrr }\n1 & -1 & 1 & 0 & 0 & 1 \\\\\n0 & 1 & -1 & 0 & 1/2 & -3/2 \\\\\n\\color{ red }{ 0 } & \\color{ red }{ 0 } & \\color{ red }{ -1 } & \\color{ red }{ 1 } & \\color{ red }{ -5/2 } & \\color{ red }{ 7/2 }\n\\end{array}\\right ]\\stackrel{ -1 \\,\\color{red}{R_3} \\to \\color{green}{R_3}}{\\Longrightarrow}\\left [\\begin{array}{ rrr|rrr }\n1 & -1 & 1 & 0 & 0 & 1 \\\\\n0 & 1 & -1 & 0 & 1/2 & -3/2 \\\\\n\\color{ green }{ 0 } & \\color{ green }{ 0 } & \\color{ green }{ 1 } & \\color{ green }{ -1 } & \\color{ green }{ 5/2 } & \\color{ green }{ -7/2 }\n\\end{array}\\right ] $$$$ $$$$ \\left[\\begin{array}{ rrr|rrr }\n1 & -1 & 1 & 0 & 0 & 1 \\\\\n\\color{ red }{ 0 } & \\color{ red }{ 1 } & \\color{ red }{ -1 } & \\color{ red }{ 0 } & \\color{ red }{ 1/2 } & \\color{ red }{ -3/2 } \\\\\n\\color{ blue }{ 0 } & \\color{ blue }{ 0 } & \\color{ blue }{ 1 } & \\color{ blue }{ -1 } & \\color{ blue }{ 5/2 } & \\color{ blue }{ -7/2 }\n\\end{array}\\right ]\\stackrel{ 1\\color{blue}{R_3} + \\color{red}{R_2} \\to \\color{green}{R_2}}{\\Longrightarrow}\\left [\\begin{array}{ rrr|rrr }\n1 & -1 & 1 & 0 & 0 & 1 \\\\\n\\color{ green }{ 0 } & \\color{ green }{ 1 } & \\color{ green }{ 0 } & \\color{ green }{ -1 } & \\color{ green }{ 3 } & \\color{ green }{ -5 } \\\\\n\\color{ blue }{ 0 } & \\color{ blue }{ 0 } & \\color{ blue }{ 1 } & \\color{ blue }{ -1 } & \\color{ blue }{ 5/2 } & \\color{ blue }{ -7/2 }\n\\end{array}\\right ] $$$$ $$$$ \\left[\\begin{array}{ rrr|rrr }\n\\color{ red }{ 1 } & \\color{ red }{ -1 } & \\color{ red }{ 1 } & \\color{ red }{ 0 } & \\color{ red }{ 0 } & \\color{ red }{ 1 } \\\\\n0 & 1 & 0 & -1 & 3 & -5 \\\\\n\\color{ blue }{ 0 } & \\color{ blue }{ 0 } & \\color{ blue }{ 1 } & \\color{ blue }{ -1 } & \\color{ blue }{ 5/2 } & \\color{ blue }{ -7/2 }\n\\end{array}\\right ]\\stackrel{ -1\\color{blue}{R_3} + \\color{red}{R_1} \\to \\color{green}{R_1}}{\\Longrightarrow}\\left [\\begin{array}{ rrr|rrr }\n\\color{ green }{ 1 } & \\color{ green }{ -1 } & \\color{ green }{ 0 } & \\color{ green }{ 1 } & \\color{ green }{ -5/2 } & \\color{ green }{ 9/2 } \\\\\n0 & 1 & 0 & -1 & 3 & -5 \\\\\n\\color{ blue }{ 0 } & \\color{ blue }{ 0 } & \\color{ blue }{ 1 } & \\color{ blue }{ -1 } & \\color{ blue }{ 5/2 } & \\color{ blue }{ -7/2 }\n\\end{array}\\right ] $$$$ $$$$ \\left[\\begin{array}{ rrr|rrr }\n\\color{ red }{ 1 } & \\color{ red }{ -1 } & \\color{ red }{ 0 } & \\color{ red }{ 1 } & \\color{ red }{ -5/2 } & \\color{ red }{ 9/2 } \\\\\n\\color{ blue }{ 0 } & \\color{ blue }{ 1 } & \\color{ blue }{ 0 } & \\color{ blue }{ -1 } & \\color{ blue }{ 3 } & \\color{ blue }{ -5 } \\\\\n0 & 0 & 1 & -1 & 5/2 & -7/2\n\\end{array}\\right ]\\stackrel{ 1\\color{blue}{R_2} + \\color{red}{R_1} \\to \\color{green}{R_1}}{\\Longrightarrow}\\left [\\begin{array}{ rrr|rrr }\n\\color{ green }{ 1 } & \\color{ green }{ 0 } & \\color{ green }{ 0 } & \\color{ green }{ 0 } & \\color{ green }{ 1/2 } & \\color{ green }{ -1/2 } \\\\\n\\color{ blue }{ 0 } & \\color{ blue }{ 1 } & \\color{ blue }{ 0 } & \\color{ blue }{ -1 } & \\color{ blue }{ 3 } & \\color{ blue }{ -5 } \\\\\n0 & 0 & 1 & -1 & 5/2 & -7/2\n\\end{array}\\right ] $$$$ $$$$ {\\bf A} {\\bf B} = \\left [\\begin{array}{ rrr }\n4 & 1 & -2 \\\\\n3 & -1 & 1 \\\\\n1 & -1 & 1\n\\end{array}\\right ]\\left [\\begin{array}{ rrr }\n0 & 1/2 & -1/2 \\\\\n-1 & 3 & -5 \\\\\n-1 & 5/2 & -7/2\n\\end{array}\\right ]= \\left [\\begin{array}{ rrr }\n1 & 0 & 0 \\\\\n0 & 1 & 0 \\\\\n0 & 0 & 1\n\\end{array}\\right ] $$"
      }
     },
     "9670e9cfb18f4124988e999e1d0344b0": {
      "model_module": "@jupyter-widgets/base",
      "model_module_version": "1.2.0",
      "model_name": "LayoutModel",
      "state": {}
     },
     "96731ed4acc440c6b494163601990df7": {
      "model_module": "@jupyter-widgets/controls",
      "model_module_version": "1.5.0",
      "model_name": "TextModel",
      "state": {
       "description": "times",
       "layout": "IPY_MODEL_3bb8261974264858a8fd215375cd4d04",
       "style": "IPY_MODEL_a6ee9256d81c4cf3bf7a593eb7811cdc",
       "value": "1"
      }
     },
     "96795cdec8554d02b320a03a5b835ea7": {
      "model_module": "@jupyter-widgets/base",
      "model_module_version": "1.2.0",
      "model_name": "LayoutModel",
      "state": {
       "width": "150px"
      }
     },
     "9679b07c0f354f30afcf89b9f099a9f0": {
      "model_module": "@jupyter-widgets/controls",
      "model_module_version": "1.5.0",
      "model_name": "HBoxModel",
      "state": {
       "children": [
        "IPY_MODEL_8ac6f64dd6df4dd18c767b6a3d6ca935",
        "IPY_MODEL_73e278548575430ba34d148a792d1687"
       ],
       "layout": "IPY_MODEL_62eed11e178f4b81ad1c48f29f334fdb"
      }
     },
     "968c59e906ae4323acc26bacb63baf83": {
      "model_module": "@jupyter-widgets/controls",
      "model_module_version": "1.5.0",
      "model_name": "TextModel",
      "state": {
       "layout": "IPY_MODEL_f28c3c7f5ced4384b8a9eca6bc4c00fd",
       "style": "IPY_MODEL_5f40c5be70ee456e903dc502557032d9",
       "value": "-1"
      }
     },
     "96970f00182e4615a05c9e1a6140a025": {
      "model_module": "@jupyter-widgets/controls",
      "model_module_version": "1.5.0",
      "model_name": "DescriptionStyleModel",
      "state": {
       "description_width": ""
      }
     },
     "96a669ea2fbc4f5b89d66566f7c35020": {
      "model_module": "@jupyter-widgets/controls",
      "model_module_version": "1.5.0",
      "model_name": "VBoxModel",
      "state": {
       "children": [
        "IPY_MODEL_09347a6c033445648a5b38845b2cffd8",
        "IPY_MODEL_4148c095bd24450a8dd6b2d33c72966e",
        "IPY_MODEL_91784b2a3b01482e916116652aecf183"
       ],
       "layout": "IPY_MODEL_ea941d8f6eb24820bba538d2c4260b4a"
      }
     },
     "96c3b68a139842e9b54a2a02b927daba": {
      "model_module": "@jupyter-widgets/controls",
      "model_module_version": "1.5.0",
      "model_name": "DescriptionStyleModel",
      "state": {
       "description_width": ""
      }
     },
     "96d19d494fb04199b01f18e291be8b75": {
      "model_module": "@jupyter-widgets/base",
      "model_module_version": "1.2.0",
      "model_name": "LayoutModel",
      "state": {
       "justify_content": "space-between"
      }
     },
     "96d97b2c33114511b89b12ab5eb8480b": {
      "model_module": "@jupyter-widgets/base",
      "model_module_version": "1.2.0",
      "model_name": "LayoutModel",
      "state": {
       "justify_content": "space-between"
      }
     },
     "96e694cf6c574adeb0604bd1b34eb473": {
      "model_module": "@jupyter-widgets/controls",
      "model_module_version": "1.5.0",
      "model_name": "DescriptionStyleModel",
      "state": {
       "description_width": ""
      }
     },
     "96ea6fa32ca14d219844712a3a7b5513": {
      "model_module": "@jupyter-widgets/controls",
      "model_module_version": "1.5.0",
      "model_name": "HBoxModel",
      "state": {
       "children": [
        "IPY_MODEL_3e42da55c14d4c96ad61bc1b4584224c",
        "IPY_MODEL_1f1721a406774c5b881d4b6417839ce7",
        "IPY_MODEL_4de8fcd02a244d71938c6b584b708e3d"
       ],
       "layout": "IPY_MODEL_f40918507ba748c199cf99ae1d4a343b"
      }
     },
     "96fce22b49874b799fe61902fd5c9a6c": {
      "model_module": "@jupyter-widgets/controls",
      "model_module_version": "1.5.0",
      "model_name": "DescriptionStyleModel",
      "state": {
       "description_width": ""
      }
     },
     "9704107052284bffa2796409f9f8d122": {
      "model_module": "@jupyter-widgets/base",
      "model_module_version": "1.2.0",
      "model_name": "LayoutModel",
      "state": {}
     },
     "970f2c7faab642849101141b7409a788": {
      "model_module": "@jupyter-widgets/controls",
      "model_module_version": "1.5.0",
      "model_name": "TextModel",
      "state": {
       "layout": "IPY_MODEL_66f664c2d36b4d74aa7cdd21ce7345c1",
       "style": "IPY_MODEL_b60d45b0b4844496b79cce9e5f215ba8",
       "value": "-1"
      }
     },
     "97443628219a4546b47dd3d531819942": {
      "model_module": "@jupyter-widgets/controls",
      "model_module_version": "1.5.0",
      "model_name": "TextModel",
      "state": {
       "layout": "IPY_MODEL_b2827ab913cf4f49b7a4aeebd116396e",
       "style": "IPY_MODEL_85587d5312494651852678f83ffd5726",
       "value": "7"
      }
     },
     "9748d940eb5e476998049c017764b096": {
      "model_module": "@jupyter-widgets/controls",
      "model_module_version": "1.5.0",
      "model_name": "TextModel",
      "state": {
       "layout": "IPY_MODEL_d29f4c6323274c2ea715833a610068a5",
       "style": "IPY_MODEL_1babda5310064a1095c2a1ce71e0f253",
       "value": "2"
      }
     },
     "9773009742044ae4ba9e6f3c13ba3bb5": {
      "model_module": "@jupyter-widgets/base",
      "model_module_version": "1.2.0",
      "model_name": "LayoutModel",
      "state": {}
     },
     "9780da0b5ab844fd98bbe655f2f23aa8": {
      "model_module": "@jupyter-widgets/base",
      "model_module_version": "1.2.0",
      "model_name": "LayoutModel",
      "state": {
       "justify_content": "center"
      }
     },
     "97993fa24fac42e28605e8d366180168": {
      "model_module": "@jupyter-widgets/base",
      "model_module_version": "1.2.0",
      "model_name": "LayoutModel",
      "state": {
       "height": "35px",
       "width": "40px"
      }
     },
     "979e8df4713148e3a892d22adc655de2": {
      "model_module": "@jupyter-widgets/controls",
      "model_module_version": "1.5.0",
      "model_name": "TextModel",
      "state": {
       "layout": "IPY_MODEL_9a1e48de729e4abb89a3a19428a205a0",
       "style": "IPY_MODEL_dc3342263015440a80b68aa137d531b9",
       "value": "1"
      }
     },
     "97a4475a35fa426eb1a5055353bfa7ab": {
      "model_module": "@jupyter-widgets/base",
      "model_module_version": "1.2.0",
      "model_name": "LayoutModel",
      "state": {}
     },
     "97c51eeb9c7443d2bef6f473e7e52cb4": {
      "model_module": "@jupyter-widgets/controls",
      "model_module_version": "1.5.0",
      "model_name": "TextModel",
      "state": {
       "description": "times",
       "layout": "IPY_MODEL_2280a32f982442c080c8e0427a4cba23",
       "style": "IPY_MODEL_b5f3b0ebe56a4011a1b5afa3c1b07963",
       "value": "1"
      }
     },
     "97cf9053f74b431fa84db6ccc1c79804": {
      "model_module": "@jupyter-widgets/controls",
      "model_module_version": "1.5.0",
      "model_name": "BoxModel",
      "state": {
       "children": [
        "IPY_MODEL_810e80ce59f94e25b66071b8495c2969",
        "IPY_MODEL_46bec9f28a624d65825db04265d64726",
        "IPY_MODEL_c1cd8c753bbb4c34bb8b4781dd5b87c3"
       ],
       "layout": "IPY_MODEL_1a93b827117f4aa1b140037dd5db7012"
      }
     },
     "981c3959f7a54021ad9bcc84e034d0cc": {
      "model_module": "@jupyter-widgets/controls",
      "model_module_version": "1.5.0",
      "model_name": "ButtonStyleModel",
      "state": {}
     },
     "981dcb87019a4ded9037f1f6ced8af62": {
      "model_module": "@jupyter-widgets/base",
      "model_module_version": "1.2.0",
      "model_name": "LayoutModel",
      "state": {
       "width": "150px"
      }
     },
     "982eb6210cee45f383a61d447317ed55": {
      "model_module": "@jupyter-widgets/controls",
      "model_module_version": "1.5.0",
      "model_name": "TextModel",
      "state": {
       "layout": "IPY_MODEL_194d5881fb18447585798b14c51e301b",
       "style": "IPY_MODEL_ef8ff7e115424eeb9f1ab956b502617e",
       "value": "-1"
      }
     },
     "98516fb8019d423eb195970e617bc353": {
      "model_module": "@jupyter-widgets/controls",
      "model_module_version": "1.5.0",
      "model_name": "TextModel",
      "state": {
       "layout": "IPY_MODEL_d743f8ba50f447a3ad2d5faaa6a0e9e2",
       "style": "IPY_MODEL_c439c5fd2e8241318092750f6357d1a6",
       "value": "-1"
      }
     },
     "9860967390e442e6b59702d77463839c": {
      "model_module": "@jupyter-widgets/controls",
      "model_module_version": "1.5.0",
      "model_name": "DescriptionStyleModel",
      "state": {
       "description_width": ""
      }
     },
     "98639c4fe44f4ad2b8cac11ae8e2bbb3": {
      "model_module": "@jupyter-widgets/controls",
      "model_module_version": "1.5.0",
      "model_name": "ButtonStyleModel",
      "state": {}
     },
     "988c15a0f6f04ff0ba5087dcb70c9a60": {
      "model_module": "@jupyter-widgets/controls",
      "model_module_version": "1.5.0",
      "model_name": "ButtonStyleModel",
      "state": {}
     },
     "98960fbd27f846d6a50b02945dfb2498": {
      "model_module": "@jupyter-widgets/controls",
      "model_module_version": "1.5.0",
      "model_name": "TextModel",
      "state": {
       "layout": "IPY_MODEL_e60a861eca344ffe9430ae66e253e656",
       "style": "IPY_MODEL_dd51328560d842b5aef05dd427212146",
       "value": "3"
      }
     },
     "989b38be82d14a488904e5186fcb3161": {
      "model_module": "@jupyter-widgets/controls",
      "model_module_version": "1.5.0",
      "model_name": "TextModel",
      "state": {
       "layout": "IPY_MODEL_dfe771ca3cb647c5ba599a113ad575df",
       "style": "IPY_MODEL_75d53e8d60304c599bec5db36d1d566e",
       "value": "-6"
      }
     },
     "98f25a87b33c4872a51514dc01221949": {
      "model_module": "@jupyter-widgets/controls",
      "model_module_version": "1.5.0",
      "model_name": "HBoxModel",
      "state": {
       "children": [
        "IPY_MODEL_bab1f6c2766b44c2a3abf090e834a017",
        "IPY_MODEL_9c640ce0cd04473dbc759760acdace4f"
       ],
       "layout": "IPY_MODEL_271c37bcc7cc4dab8c857a1a5c5cf653"
      }
     },
     "991caa1b24d54c248f58dbb332527bfa": {
      "model_module": "@jupyter-widgets/controls",
      "model_module_version": "1.5.0",
      "model_name": "ButtonModel",
      "state": {
       "description": "Start",
       "layout": "IPY_MODEL_0a3ee6c8a404455284a7f29b357942f2",
       "style": "IPY_MODEL_ca6aa9ac101e4ce5823bb717ac4b3286"
      }
     },
     "99297227650b4b25a957dead6bc6dc34": {
      "model_module": "@jupyter-widgets/controls",
      "model_module_version": "1.5.0",
      "model_name": "DescriptionStyleModel",
      "state": {
       "description_width": ""
      }
     },
     "9935ee937e5d4e7696be5d4b22b056b3": {
      "model_module": "@jupyter-widgets/controls",
      "model_module_version": "1.5.0",
      "model_name": "TextModel",
      "state": {
       "layout": "IPY_MODEL_776389df997545fcab086c0233cb0ab0",
       "style": "IPY_MODEL_b79a6222ceb24a419585eace47c694cb",
       "value": "-4"
      }
     },
     "993857af94b74179938819e908dd6211": {
      "model_module": "@jupyter-widgets/controls",
      "model_module_version": "1.5.0",
      "model_name": "TextModel",
      "state": {
       "layout": "IPY_MODEL_194d5881fb18447585798b14c51e301b",
       "style": "IPY_MODEL_42b15d0e1fbb489f8b3bd80087e7f0af",
       "value": "7"
      }
     },
     "993b91f9043843fcb5d25d6b625ce029": {
      "model_module": "@jupyter-widgets/base",
      "model_module_version": "1.2.0",
      "model_name": "LayoutModel",
      "state": {
       "flex_flow": "row wrap",
       "justify_content": "space-around"
      }
     },
     "99441ff72fda4f91aa7f34e23eebb138": {
      "model_module": "@jupyter-widgets/controls",
      "model_module_version": "1.5.0",
      "model_name": "VBoxModel",
      "state": {
       "children": [
        "IPY_MODEL_f9d6b70b6cf044e3a32555cfb438c052",
        "IPY_MODEL_7e1c175d4ba249ea8c0511d244d4f399",
        "IPY_MODEL_c600058616a24e58990e5d00c1b9f6bf"
       ],
       "layout": "IPY_MODEL_05f1926266754cfd91626bb84964269a"
      }
     },
     "996630e66dd54e9cb6a3775c5bda16d9": {
      "model_module": "@jupyter-widgets/controls",
      "model_module_version": "1.5.0",
      "model_name": "DescriptionStyleModel",
      "state": {
       "description_width": ""
      }
     },
     "9991906b4c984d73bb62878fc1749ca9": {
      "model_module": "@jupyter-widgets/controls",
      "model_module_version": "1.5.0",
      "model_name": "DescriptionStyleModel",
      "state": {
       "description_width": ""
      }
     },
     "9994f22fe61b4b91a91a41f7511c7c69": {
      "model_module": "@jupyter-widgets/base",
      "model_module_version": "1.2.0",
      "model_name": "LayoutModel",
      "state": {
       "width": "150px"
      }
     },
     "999d16ca92594bd4a58a13637bcd4cc1": {
      "model_module": "@jupyter-widgets/controls",
      "model_module_version": "1.5.0",
      "model_name": "DescriptionStyleModel",
      "state": {
       "description_width": ""
      }
     },
     "99d435aca2024110b4a5617ab503fafc": {
      "model_module": "@jupyter-widgets/base",
      "model_module_version": "1.2.0",
      "model_name": "LayoutModel",
      "state": {
       "width": "100px"
      }
     },
     "99e5d8fa7af7400c802122803725fb61": {
      "model_module": "@jupyter-widgets/controls",
      "model_module_version": "1.5.0",
      "model_name": "DescriptionStyleModel",
      "state": {
       "description_width": ""
      }
     },
     "99eebb9442fe47b185aaa9db049de54c": {
      "model_module": "@jupyter-widgets/base",
      "model_module_version": "1.2.0",
      "model_name": "LayoutModel",
      "state": {}
     },
     "9a0711ec496342c8ab978bcf70283918": {
      "model_module": "@jupyter-widgets/base",
      "model_module_version": "1.2.0",
      "model_name": "LayoutModel",
      "state": {}
     },
     "9a1e48de729e4abb89a3a19428a205a0": {
      "model_module": "@jupyter-widgets/base",
      "model_module_version": "1.2.0",
      "model_name": "LayoutModel",
      "state": {
       "height": "35px",
       "width": "40px"
      }
     },
     "9a45d4b2695144fd8268442c31ef6cd4": {
      "model_module": "@jupyter-widgets/controls",
      "model_module_version": "1.5.0",
      "model_name": "ButtonStyleModel",
      "state": {}
     },
     "9a82381e9fc44c2a8bd80e485571bd17": {
      "model_module": "@jupyter-widgets/base",
      "model_module_version": "1.2.0",
      "model_name": "LayoutModel",
      "state": {
       "width": "90px"
      }
     },
     "9a9ce989b08d453e9ce9f5b62a3121b6": {
      "model_module": "@jupyter-widgets/controls",
      "model_module_version": "1.5.0",
      "model_name": "HTMLMathModel",
      "state": {
       "layout": "IPY_MODEL_9780da0b5ab844fd98bbe655f2f23aa8",
       "style": "IPY_MODEL_a08fa4ea89de45d09faf52160a851e48",
       "value": "The augmented matrix $(\\bf{A}|\\bf{I})$ will appear here."
      }
     },
     "9ad40d767bd946dca55ed665b376fa37": {
      "model_module": "@jupyter-widgets/controls",
      "model_module_version": "1.5.0",
      "model_name": "DescriptionStyleModel",
      "state": {
       "description_width": ""
      }
     },
     "9ad64602bb1543e7907fe8c6739345cb": {
      "model_module": "@jupyter-widgets/controls",
      "model_module_version": "1.5.0",
      "model_name": "HBoxModel",
      "state": {
       "children": [
        "IPY_MODEL_357d5cb7147048e3ba4c4ade2de0c746",
        "IPY_MODEL_44d42f8085c1415d814cac5b45021cc5",
        "IPY_MODEL_e7c8ecd1d3f3489785fc9ccf8825238e"
       ],
       "layout": "IPY_MODEL_c6946bc99cf54481bb22981c107b70a1"
      }
     },
     "9aec1d5a682849f8bf63ed0d4f07169d": {
      "model_module": "@jupyter-widgets/controls",
      "model_module_version": "1.5.0",
      "model_name": "DescriptionStyleModel",
      "state": {
       "description_width": ""
      }
     },
     "9b00b4ec31964672a420c973147abced": {
      "model_module": "@jupyter-widgets/controls",
      "model_module_version": "1.5.0",
      "model_name": "DescriptionStyleModel",
      "state": {
       "description_width": ""
      }
     },
     "9b06db0e30214a879741724ebb9ce690": {
      "model_module": "@jupyter-widgets/base",
      "model_module_version": "1.2.0",
      "model_name": "LayoutModel",
      "state": {
       "width": "300px"
      }
     },
     "9b0ab126f2a94decb4852f31c7b8ed4b": {
      "model_module": "@jupyter-widgets/controls",
      "model_module_version": "1.5.0",
      "model_name": "DescriptionStyleModel",
      "state": {
       "description_width": ""
      }
     },
     "9b0fb6daf7d340dab93fb0870b5f2ac8": {
      "model_module": "@jupyter-widgets/base",
      "model_module_version": "1.2.0",
      "model_name": "LayoutModel",
      "state": {}
     },
     "9b34b632123f4974b8391883ef60cfea": {
      "model_module": "@jupyter-widgets/controls",
      "model_module_version": "1.5.0",
      "model_name": "TextModel",
      "state": {
       "layout": "IPY_MODEL_201e1a4ee32840b19f981690bdacf3ae",
       "style": "IPY_MODEL_79601fac43644dfe8498d7c9159ac60e",
       "value": "-1"
      }
     },
     "9b3904d84cc34825880f52798ae1bc87": {
      "model_module": "@jupyter-widgets/base",
      "model_module_version": "1.2.0",
      "model_name": "LayoutModel",
      "state": {}
     },
     "9b4b64c9b0be438aa4886a6514a55fa6": {
      "model_module": "@jupyter-widgets/controls",
      "model_module_version": "1.5.0",
      "model_name": "DescriptionStyleModel",
      "state": {
       "description_width": ""
      }
     },
     "9b59b8f98c2245d096f2be7208f7522f": {
      "model_module": "@jupyter-widgets/controls",
      "model_module_version": "1.5.0",
      "model_name": "HBoxModel",
      "state": {
       "children": [
        "IPY_MODEL_3b644969fba742ac8715488678270c0c",
        "IPY_MODEL_7fb4a2fd115246778a2f07a8cb6d4e36",
        "IPY_MODEL_85801564a80549adbf3ff92b4d61e3f2"
       ],
       "layout": "IPY_MODEL_e7f2c78a6f2f46f18eb36073e544aa51"
      }
     },
     "9b63673dcd2344eda79dba68ac1fb197": {
      "model_module": "@jupyter-widgets/controls",
      "model_module_version": "1.5.0",
      "model_name": "DescriptionStyleModel",
      "state": {
       "description_width": ""
      }
     },
     "9b6444b5fd19468c9e59c5b87966a636": {
      "model_module": "@jupyter-widgets/controls",
      "model_module_version": "1.5.0",
      "model_name": "ButtonModel",
      "state": {
       "description": "Multiply row",
       "layout": "IPY_MODEL_9f36fd2db1dc4f458205d9b3160211d2",
       "style": "IPY_MODEL_cc6641129ed8454bbd1d68feae7ad15c"
      }
     },
     "9bced0ebe4584af3ad826b9b7423f36c": {
      "model_module": "@jupyter-widgets/base",
      "model_module_version": "1.2.0",
      "model_name": "LayoutModel",
      "state": {}
     },
     "9c2115dcd23149b4b1539d130af7e9b0": {
      "model_module": "@jupyter-widgets/base",
      "model_module_version": "1.2.0",
      "model_name": "LayoutModel",
      "state": {
       "width": "100px"
      }
     },
     "9c307432a46441c1865d286171269841": {
      "model_module": "@jupyter-widgets/controls",
      "model_module_version": "1.5.0",
      "model_name": "TextModel",
      "state": {
       "layout": "IPY_MODEL_b2827ab913cf4f49b7a4aeebd116396e",
       "style": "IPY_MODEL_c5d708b861ca42ef98ce6bee61e47e39",
       "value": "-4"
      }
     },
     "9c32ba5df2364853a9345b1ed164d8ef": {
      "model_module": "@jupyter-widgets/controls",
      "model_module_version": "1.5.0",
      "model_name": "HBoxModel",
      "state": {
       "children": [
        "IPY_MODEL_d3542c6f82024eb3a1cd9efb49890f9f",
        "IPY_MODEL_b1542e6c385843e5ab97d505bbfd924a"
       ],
       "layout": "IPY_MODEL_7a967b1216ab4f8e90164586fa014f87"
      }
     },
     "9c563507d9a143448ec45b8b8146014a": {
      "model_module": "@jupyter-widgets/controls",
      "model_module_version": "1.5.0",
      "model_name": "VBoxModel",
      "state": {
       "children": [
        "IPY_MODEL_430e02a44b584816bd1721dd7b8b4917",
        "IPY_MODEL_a2ea0681a4474b0597e2328db06272dc"
       ],
       "layout": "IPY_MODEL_88819f7b505a4266ba8ef3c1ce573510"
      }
     },
     "9c56a278d3eb4ff5a3ed50ae0d38f251": {
      "model_module": "@jupyter-widgets/base",
      "model_module_version": "1.2.0",
      "model_name": "LayoutModel",
      "state": {}
     },
     "9c5fb3dcd7644526af57adb06996e84b": {
      "model_module": "@jupyter-widgets/controls",
      "model_module_version": "1.5.0",
      "model_name": "DropdownModel",
      "state": {
       "_options_labels": [
        "1",
        "2",
        "3"
       ],
       "description": "Row",
       "index": 1,
       "layout": "IPY_MODEL_c056a79e780d43c89b62fbe55fbe56f4",
       "style": "IPY_MODEL_e6e8634bf3fa45a981d0b15fb379c303"
      }
     },
     "9c640ce0cd04473dbc759760acdace4f": {
      "model_module": "@jupyter-widgets/controls",
      "model_module_version": "1.5.0",
      "model_name": "VBoxModel",
      "state": {
       "children": [
        "IPY_MODEL_f474cab1c8f54b52bad2fe2cb3823b84",
        "IPY_MODEL_df70b502de93411190527415db503d0b",
        "IPY_MODEL_5a821d7e577b42c8ae2d56a31fcfec77"
       ],
       "layout": "IPY_MODEL_ab43396becc34353a6270f34e81e3bed"
      }
     },
     "9c6effb8a19a497189c0e14d57ea300b": {
      "model_module": "@jupyter-widgets/controls",
      "model_module_version": "1.5.0",
      "model_name": "DescriptionStyleModel",
      "state": {
       "description_width": ""
      }
     },
     "9c73f942b87642ed81933ab42fc9e355": {
      "model_module": "@jupyter-widgets/controls",
      "model_module_version": "1.5.0",
      "model_name": "DescriptionStyleModel",
      "state": {
       "description_width": ""
      }
     },
     "9c786c7a432144aba810fdb9035edead": {
      "model_module": "@jupyter-widgets/controls",
      "model_module_version": "1.5.0",
      "model_name": "DescriptionStyleModel",
      "state": {
       "description_width": ""
      }
     },
     "9c9ac125803046c9a98c0065cb43e73a": {
      "model_module": "@jupyter-widgets/controls",
      "model_module_version": "1.5.0",
      "model_name": "HBoxModel",
      "state": {
       "children": [
        "IPY_MODEL_642fa8999dd34e5aa518b1a4b2a4c1a9",
        "IPY_MODEL_a4af4e14976342d1af0c90a71e99f190",
        "IPY_MODEL_36dbc954e5a74e50ac82fc551f0ed952"
       ],
       "layout": "IPY_MODEL_6afae485e1274ef0835afdd3b9aba54f"
      }
     },
     "9ca1f19c98d34f8bb9ab0d864b157fcc": {
      "model_module": "@jupyter-widgets/base",
      "model_module_version": "1.2.0",
      "model_name": "LayoutModel",
      "state": {
       "align_items": "center",
       "flex_flow": "row wrap",
       "height": "100px",
       "justify_content": "space-around"
      }
     },
     "9cf45fe035c94a7fb39881463d7fbb96": {
      "model_module": "@jupyter-widgets/controls",
      "model_module_version": "1.5.0",
      "model_name": "DescriptionStyleModel",
      "state": {
       "description_width": ""
      }
     },
     "9d39e1be33c14ddab3fca2fbfdc502fe": {
      "model_module": "@jupyter-widgets/controls",
      "model_module_version": "1.5.0",
      "model_name": "DescriptionStyleModel",
      "state": {
       "description_width": ""
      }
     },
     "9d633646cedf46749f505f90aa0f0810": {
      "model_module": "@jupyter-widgets/controls",
      "model_module_version": "1.5.0",
      "model_name": "TextModel",
      "state": {
       "layout": "IPY_MODEL_065f08ede0b647238ec761aa592646c7",
       "style": "IPY_MODEL_10c7837a966f4796a96051bb35ea126d",
       "value": "2"
      }
     },
     "9dac9b760999435faf0e51992e7daa00": {
      "model_module": "@jupyter-widgets/controls",
      "model_module_version": "1.5.0",
      "model_name": "ButtonStyleModel",
      "state": {}
     },
     "9db8695a9feb44889b2e280f93ad8f06": {
      "model_module": "@jupyter-widgets/controls",
      "model_module_version": "1.5.0",
      "model_name": "BoxModel",
      "state": {
       "children": [
        "IPY_MODEL_fdbaef6e96274830b8505ca4383f5224",
        "IPY_MODEL_3c1daffb2501413c9a1420c84d71ecbf",
        "IPY_MODEL_24e928f6f8cb48e9a2c8810e45ffa908",
        "IPY_MODEL_9555669019a44fb1a41ee73e6f7f9fc5"
       ],
       "layout": "IPY_MODEL_7b8ad78edd6c44ac9043e4d4307a3ab1"
      }
     },
     "9dc76bbe6c1d4d11b03eb0374dfcccb5": {
      "model_module": "@jupyter-widgets/controls",
      "model_module_version": "1.5.0",
      "model_name": "HBoxModel",
      "state": {
       "children": [
        "IPY_MODEL_6e066c9211684a5481eadc996b6c51d1",
        "IPY_MODEL_f2eb8d9717d341ecb4c76868748421e1"
       ],
       "layout": "IPY_MODEL_5f2425829dae4b15b0a0d0b3a37cb4e2"
      }
     },
     "9de3d1ad90064f468a849a10745fd0fa": {
      "model_module": "@jupyter-widgets/controls",
      "model_module_version": "1.5.0",
      "model_name": "TextModel",
      "state": {
       "layout": "IPY_MODEL_250753b918e0432c803452a019d33c5c",
       "style": "IPY_MODEL_955c3c0dbd694d0e9bb08773daf3d343",
       "value": "2"
      }
     },
     "9dfe574a4a8e4415b2620da2cc67ac24": {
      "model_module": "@jupyter-widgets/base",
      "model_module_version": "1.2.0",
      "model_name": "LayoutModel",
      "state": {}
     },
     "9e0ead81d8cb4c44b526642f8d8a47d0": {
      "model_module": "@jupyter-widgets/controls",
      "model_module_version": "1.5.0",
      "model_name": "DescriptionStyleModel",
      "state": {
       "description_width": ""
      }
     },
     "9e2f248b499648cf9f65c5e5a6b3f74b": {
      "model_module": "@jupyter-widgets/controls",
      "model_module_version": "1.5.0",
      "model_name": "VBoxModel",
      "state": {
       "children": [
        "IPY_MODEL_017cf17c585148b18d0df195df307086",
        "IPY_MODEL_a1a21a2c64ef4b4ba3161ccdafb83b37"
       ],
       "layout": "IPY_MODEL_095f0bb465814d788951e17aee133a42"
      }
     },
     "9e523b43626a434d8e9b35924bb6dad3": {
      "model_module": "@jupyter-widgets/base",
      "model_module_version": "1.2.0",
      "model_name": "LayoutModel",
      "state": {
       "justify_content": "space-between"
      }
     },
     "9e742ff8a4684522823e20b2aa374964": {
      "model_module": "@jupyter-widgets/controls",
      "model_module_version": "1.5.0",
      "model_name": "VBoxModel",
      "state": {
       "children": [
        "IPY_MODEL_ee781f9ddda346b98cf8bc6eb0633929",
        "IPY_MODEL_666142723e284e3a98afff96201f7241",
        "IPY_MODEL_0c9bef34bbc94a78aa088c7684790751"
       ],
       "layout": "IPY_MODEL_4015c8fbfb7d4f5db32514cb429ffdd9"
      }
     },
     "9e8ea9f08df8499eb80b895b04aa8775": {
      "model_module": "@jupyter-widgets/base",
      "model_module_version": "1.2.0",
      "model_name": "LayoutModel",
      "state": {
       "width": "40px"
      }
     },
     "9e9043d30a3048c5b41e27de0c4259a7": {
      "model_module": "@jupyter-widgets/controls",
      "model_module_version": "1.5.0",
      "model_name": "HTMLMathModel",
      "state": {
       "layout": "IPY_MODEL_2cb12575ca47479fba8b77c06769e60b",
       "style": "IPY_MODEL_e3233ec823794fc788f81d1e669c34a4",
       "value": "Results will be shown here."
      }
     },
     "9e9c3873cf7e4fe68504d566674dadf1": {
      "model_module": "@jupyter-widgets/base",
      "model_module_version": "1.2.0",
      "model_name": "LayoutModel",
      "state": {}
     },
     "9ea4009cb3a84cd18fd342fe3ef6bc5c": {
      "model_module": "@jupyter-widgets/controls",
      "model_module_version": "1.5.0",
      "model_name": "VBoxModel",
      "state": {
       "children": [
        "IPY_MODEL_8ba44fdcaa4c4cffb0068fa207227330",
        "IPY_MODEL_1e4db18bee5444b5bb44b79a0a64cff9",
        "IPY_MODEL_ccab7349def941fab036cf0a1cfae70e"
       ],
       "layout": "IPY_MODEL_0d6deceac52b4c05a2cfaf4587cb3967"
      }
     },
     "9eb7208844e74bd9868e7fe13c980bed": {
      "model_module": "@jupyter-widgets/base",
      "model_module_version": "1.2.0",
      "model_name": "LayoutModel",
      "state": {}
     },
     "9ebe97876dab484ebcd1d7bc28d53f65": {
      "model_module": "@jupyter-widgets/base",
      "model_module_version": "1.2.0",
      "model_name": "LayoutModel",
      "state": {}
     },
     "9ee277e0d12041039b38c1719c11f57d": {
      "model_module": "@jupyter-widgets/base",
      "model_module_version": "1.2.0",
      "model_name": "LayoutModel",
      "state": {}
     },
     "9ee6ca50dda64de3acdf8ba133d08c6b": {
      "model_module": "@jupyter-widgets/base",
      "model_module_version": "1.2.0",
      "model_name": "LayoutModel",
      "state": {}
     },
     "9ef5aee8414e411ab9b26d478502db02": {
      "model_module": "@jupyter-widgets/base",
      "model_module_version": "1.2.0",
      "model_name": "LayoutModel",
      "state": {}
     },
     "9ef9826b987a4c6bb930e59baa3ec7bd": {
      "model_module": "@jupyter-widgets/controls",
      "model_module_version": "1.5.0",
      "model_name": "HBoxModel",
      "state": {
       "children": [
        "IPY_MODEL_48a458c96d0c4f59a0d60b46fee3180c",
        "IPY_MODEL_ec03ea6157c04c5f823fa7f5591c7e58"
       ],
       "layout": "IPY_MODEL_eaf31ba8fcce43b2be33f3b76c6cd8dc"
      }
     },
     "9f09ede67305469697f2b802bfbb1191": {
      "model_module": "@jupyter-widgets/base",
      "model_module_version": "1.2.0",
      "model_name": "LayoutModel",
      "state": {
       "width": "150px"
      }
     },
     "9f21f1a63ede41b28972cfe2f69440b0": {
      "model_module": "@jupyter-widgets/controls",
      "model_module_version": "1.5.0",
      "model_name": "HTMLModel",
      "state": {
       "layout": "IPY_MODEL_2182a10ffa20451dbf5d777f16a69240",
       "style": "IPY_MODEL_c4699187f24e48df9454a95112819761",
       "value": "Click this button to start the calculator"
      }
     },
     "9f36fd2db1dc4f458205d9b3160211d2": {
      "model_module": "@jupyter-widgets/base",
      "model_module_version": "1.2.0",
      "model_name": "LayoutModel",
      "state": {}
     },
     "9f4a403df85e4368803a796e82d072a0": {
      "model_module": "@jupyter-widgets/controls",
      "model_module_version": "1.5.0",
      "model_name": "DescriptionStyleModel",
      "state": {
       "description_width": ""
      }
     },
     "9f4d9e00ae3e470a8d024478444df27d": {
      "model_module": "@jupyter-widgets/base",
      "model_module_version": "1.2.0",
      "model_name": "LayoutModel",
      "state": {
       "height": "35px",
       "width": "30px"
      }
     },
     "9f5c6fc6e5d54c558e0b19411d7d63f6": {
      "model_module": "@jupyter-widgets/controls",
      "model_module_version": "1.5.0",
      "model_name": "HTMLMathModel",
      "state": {
       "layout": "IPY_MODEL_28778d37a3d34de8abdb465645c3a198",
       "style": "IPY_MODEL_3a78b01b2cf848cebd0752e725e1eb43",
       "value": "The augmented matrix $(\\bf{A}|\\bf{B})$ will appear here."
      }
     },
     "9f6dfe6349fa4c01acf8ed24ab1b6335": {
      "model_module": "@jupyter-widgets/controls",
      "model_module_version": "1.5.0",
      "model_name": "HBoxModel",
      "state": {
       "children": [
        "IPY_MODEL_76323745dea44d04af1cd639962c30c2",
        "IPY_MODEL_f93c3cbd774d4d209e2649ece9330b70"
       ],
       "layout": "IPY_MODEL_0b454023423f45cd82367a0c09954a27"
      }
     },
     "9f73eee50005417b96459dbd9eeba9ef": {
      "model_module": "@jupyter-widgets/controls",
      "model_module_version": "1.5.0",
      "model_name": "TextModel",
      "state": {
       "layout": "IPY_MODEL_a6b672bf88094d8fa8327c74293c6a55",
       "style": "IPY_MODEL_f3bfe76ba66241cdb015000c16d218cd",
       "value": "7"
      }
     },
     "9fb144770e3e431cbae52436d2a3c629": {
      "model_module": "@jupyter-widgets/controls",
      "model_module_version": "1.5.0",
      "model_name": "BoxModel",
      "state": {
       "children": [
        "IPY_MODEL_e4bb6d3b612445eb81b52d76df2c22d7",
        "IPY_MODEL_9c563507d9a143448ec45b8b8146014a",
        "IPY_MODEL_01000d891f1f42cab6758a3713122e99"
       ],
       "layout": "IPY_MODEL_66a4684564364070a77229f04cef478f"
      }
     },
     "9fe42b2fd1794fcb9db6d654f804828d": {
      "model_module": "@jupyter-widgets/controls",
      "model_module_version": "1.5.0",
      "model_name": "VBoxModel",
      "state": {
       "children": [
        "IPY_MODEL_d378e134c1ff45c398c6ec228da84b6d",
        "IPY_MODEL_56588b94a7b544949832cdad083ac66f",
        "IPY_MODEL_4cdc710347c84425bf813fbc1354240a"
       ],
       "layout": "IPY_MODEL_c5006b66ec054928b6f7cb8cd1f20974"
      }
     },
     "9fecc969df554c3bb6fa46b79b26d15e": {
      "model_module": "@jupyter-widgets/controls",
      "model_module_version": "1.5.0",
      "model_name": "DescriptionStyleModel",
      "state": {
       "description_width": ""
      }
     },
     "a00428fdcf0f49d88311e8669fe71f32": {
      "model_module": "@jupyter-widgets/controls",
      "model_module_version": "1.5.0",
      "model_name": "HTMLModel",
      "state": {
       "layout": "IPY_MODEL_0c9442cac1194995a742e23535c40406",
       "style": "IPY_MODEL_e7adadbd8c24482b91e34418165d0ae6",
       "value": "Click this button to start the calculator"
      }
     },
     "a016b0f585fc49268e9a5ff9755694f4": {
      "model_module": "@jupyter-widgets/controls",
      "model_module_version": "1.5.0",
      "model_name": "ButtonStyleModel",
      "state": {}
     },
     "a022fd234d654f989d5198e29e3eca00": {
      "model_module": "@jupyter-widgets/controls",
      "model_module_version": "1.5.0",
      "model_name": "VBoxModel",
      "state": {
       "children": [
        "IPY_MODEL_86be88e0b9c2425f8d17e71f85a3f8e4",
        "IPY_MODEL_ca895438b669454eacf6665288d86d4d",
        "IPY_MODEL_dd261241e3fd4e3f9c3dc2987a6d673d"
       ],
       "layout": "IPY_MODEL_b1ec43ab8bdc4c578fcb0f3ec91020b1"
      }
     },
     "a03b6b68150a49479c284f094cbfde0f": {
      "model_module": "@jupyter-widgets/controls",
      "model_module_version": "1.5.0",
      "model_name": "VBoxModel",
      "state": {
       "children": [
        "IPY_MODEL_8614d1006c384591b0e493cf4fe50791",
        "IPY_MODEL_07d0baaeec3c4c7d808036266f83a272"
       ],
       "layout": "IPY_MODEL_af1ad8ed859e42cb94b23726532cff4f"
      }
     },
     "a03bc017a49840339e22a299913355a4": {
      "model_module": "@jupyter-widgets/controls",
      "model_module_version": "1.5.0",
      "model_name": "DescriptionStyleModel",
      "state": {
       "description_width": ""
      }
     },
     "a03cb5bbc7f4420fabeb26bbb3614ff6": {
      "model_module": "@jupyter-widgets/controls",
      "model_module_version": "1.5.0",
      "model_name": "TextModel",
      "state": {
       "description": "times",
       "layout": "IPY_MODEL_a9aa8bf633fb45d48fbf81f1d5c055b2",
       "style": "IPY_MODEL_9b00b4ec31964672a420c973147abced",
       "value": "1"
      }
     },
     "a04b7220506c49c7ba32a3589801f426": {
      "model_module": "@jupyter-widgets/controls",
      "model_module_version": "1.5.0",
      "model_name": "TextModel",
      "state": {
       "description": "times",
       "layout": "IPY_MODEL_49e1b06fffb94916aa93ab404ae81207",
       "style": "IPY_MODEL_a71fad0a41e64fd289e4c161af34e37c",
       "value": "1"
      }
     },
     "a051f64dee0d4920b5cf5dc89745bb2c": {
      "model_module": "@jupyter-widgets/base",
      "model_module_version": "1.2.0",
      "model_name": "LayoutModel",
      "state": {}
     },
     "a05c1e40bf624112ba0de1b32008b26b": {
      "model_module": "@jupyter-widgets/controls",
      "model_module_version": "1.5.0",
      "model_name": "DropdownModel",
      "state": {
       "_options_labels": [
        "1",
        "2",
        "3"
       ],
       "description": "and row",
       "index": 2,
       "layout": "IPY_MODEL_4f53076e24624573b82bfef6a40807c4",
       "style": "IPY_MODEL_090c4e59990d47e8b91dea3c9231a3c3"
      }
     },
     "a06347292d25493eb86208f7d52b3246": {
      "model_module": "@jupyter-widgets/base",
      "model_module_version": "1.2.0",
      "model_name": "LayoutModel",
      "state": {}
     },
     "a08a9d8a40b947e7b2a97a75e62af6e6": {
      "model_module": "@jupyter-widgets/controls",
      "model_module_version": "1.5.0",
      "model_name": "TextModel",
      "state": {
       "layout": "IPY_MODEL_d743f8ba50f447a3ad2d5faaa6a0e9e2",
       "style": "IPY_MODEL_b60a9d5d2d7c4355bc32aca3b805cbf6",
       "value": "-6"
      }
     },
     "a08fa4ea89de45d09faf52160a851e48": {
      "model_module": "@jupyter-widgets/controls",
      "model_module_version": "1.5.0",
      "model_name": "DescriptionStyleModel",
      "state": {
       "description_width": ""
      }
     },
     "a0ca02b99863475181c472671181931b": {
      "model_module": "@jupyter-widgets/controls",
      "model_module_version": "1.5.0",
      "model_name": "DescriptionStyleModel",
      "state": {
       "description_width": ""
      }
     },
     "a0cec4f6bf814f67acd467b72cefcf28": {
      "model_module": "@jupyter-widgets/controls",
      "model_module_version": "1.5.0",
      "model_name": "TextModel",
      "state": {
       "layout": "IPY_MODEL_b2827ab913cf4f49b7a4aeebd116396e",
       "style": "IPY_MODEL_32f602b51c8340b6802da89319e1132b",
       "value": "-1"
      }
     },
     "a116ed648ee54683af1ba558b1c388b2": {
      "model_module": "@jupyter-widgets/controls",
      "model_module_version": "1.5.0",
      "model_name": "DescriptionStyleModel",
      "state": {
       "description_width": ""
      }
     },
     "a121cd67d17a499d9b71b33b73c12d77": {
      "model_module": "@jupyter-widgets/controls",
      "model_module_version": "1.5.0",
      "model_name": "HTMLModel",
      "state": {
       "layout": "IPY_MODEL_bbfa983be5714b3cacf1f1687e9f34de",
       "style": "IPY_MODEL_30417b19cbcf4f13b307052fdba25749",
       "value": "Click the button below to start the calculator"
      }
     },
     "a13f315bcad549ae9247729c47b30fa0": {
      "model_module": "@jupyter-widgets/controls",
      "model_module_version": "1.5.0",
      "model_name": "HTMLModel",
      "state": {
       "layout": "IPY_MODEL_db8abbdc2cba490590a0f6522398d989",
       "style": "IPY_MODEL_17ac7a7304e24b929c8a9efc4d89c5a6",
       "value": "Click the button below to start the calculator"
      }
     },
     "a15e3820a56b4386bdcfca448b2e9562": {
      "model_module": "@jupyter-widgets/base",
      "model_module_version": "1.2.0",
      "model_name": "LayoutModel",
      "state": {
       "flex_flow": "row wrap",
       "justify_content": "space-around"
      }
     },
     "a16544cf07944cb0a29fc82a0e5729e7": {
      "model_module": "@jupyter-widgets/controls",
      "model_module_version": "1.5.0",
      "model_name": "TextModel",
      "state": {
       "layout": "IPY_MODEL_9a1e48de729e4abb89a3a19428a205a0",
       "style": "IPY_MODEL_e5607adebfb74f3dbc6bc195fc0b3adb",
       "value": "1"
      }
     },
     "a16e14e98dc3426bb713fc29ef832720": {
      "model_module": "@jupyter-widgets/base",
      "model_module_version": "1.2.0",
      "model_name": "LayoutModel",
      "state": {}
     },
     "a1786683522547f9839b3622218d5248": {
      "model_module": "@jupyter-widgets/controls",
      "model_module_version": "1.5.0",
      "model_name": "DescriptionStyleModel",
      "state": {
       "description_width": ""
      }
     },
     "a1841f10dc2046cfbca8eb5be66d00ac": {
      "model_module": "@jupyter-widgets/controls",
      "model_module_version": "1.5.0",
      "model_name": "TextModel",
      "state": {
       "layout": "IPY_MODEL_a21d52801ae94e44813bb1c00d81c473",
       "style": "IPY_MODEL_f6387237b6af4fc0a55b73f1ea6fb4ab",
       "value": "1"
      }
     },
     "a1982a7ec499433b9545e6c2fab70671": {
      "model_module": "@jupyter-widgets/base",
      "model_module_version": "1.2.0",
      "model_name": "LayoutModel",
      "state": {}
     },
     "a1a21a2c64ef4b4ba3161ccdafb83b37": {
      "model_module": "@jupyter-widgets/controls",
      "model_module_version": "1.5.0",
      "model_name": "ButtonModel",
      "state": {
       "description": "Start",
       "layout": "IPY_MODEL_d63f8d90634348ba8b9f82f2885e9c0a",
       "style": "IPY_MODEL_8b784dac0e86496496346537eebf2cd7"
      }
     },
     "a1a5cc0f5ce34594a74f39319208ef0b": {
      "model_module": "@jupyter-widgets/controls",
      "model_module_version": "1.5.0",
      "model_name": "DescriptionStyleModel",
      "state": {
       "description_width": ""
      }
     },
     "a1bcaee7fb4442bcb71d693c3b294136": {
      "model_module": "@jupyter-widgets/controls",
      "model_module_version": "1.5.0",
      "model_name": "TextModel",
      "state": {
       "layout": "IPY_MODEL_239bec109578490f9329cf0477e25967",
       "style": "IPY_MODEL_428944530b7b4f449028404d92e3a7ad",
       "value": "7"
      }
     },
     "a1ce92debc5449bea8d605f768d35758": {
      "model_module": "@jupyter-widgets/controls",
      "model_module_version": "1.5.0",
      "model_name": "DropdownModel",
      "state": {
       "_options_labels": [
        "1",
        "2",
        "3"
       ],
       "description": "Add row",
       "index": 0,
       "layout": "IPY_MODEL_dccf2d59890948b0ba126789d164cda3",
       "style": "IPY_MODEL_aed3a4c4d14b464da4f20c758a7ba08f"
      }
     },
     "a1de97ffa09b4779a1cb9bf24a973716": {
      "model_module": "@jupyter-widgets/controls",
      "model_module_version": "1.5.0",
      "model_name": "HBoxModel",
      "state": {
       "children": [
        "IPY_MODEL_1783e8f560bc4d1a8dc9b14626f8b0ad",
        "IPY_MODEL_bafb335991f74acdaca6e33ab45d60a6"
       ],
       "layout": "IPY_MODEL_e4ec6b9d22fd4ec0a643c90506c80e55"
      }
     },
     "a2175b79f9884a63a08fb01aebcb6fb7": {
      "model_module": "@jupyter-widgets/controls",
      "model_module_version": "1.5.0",
      "model_name": "DescriptionStyleModel",
      "state": {
       "description_width": ""
      }
     },
     "a21d52801ae94e44813bb1c00d81c473": {
      "model_module": "@jupyter-widgets/base",
      "model_module_version": "1.2.0",
      "model_name": "LayoutModel",
      "state": {
       "height": "35px",
       "width": "40px"
      }
     },
     "a235ae011d404d968bb6c06ee502340b": {
      "model_module": "@jupyter-widgets/controls",
      "model_module_version": "1.5.0",
      "model_name": "TextModel",
      "state": {
       "layout": "IPY_MODEL_0360a59724284d16ab0033f9c2a97d5d",
       "style": "IPY_MODEL_77b8247de17449f7bdca4cd1f8b17b4c",
       "value": "1"
      }
     },
     "a2472081381f4f3794d302ebd73c196d": {
      "model_module": "@jupyter-widgets/controls",
      "model_module_version": "1.5.0",
      "model_name": "ButtonModel",
      "state": {
       "description": "Add rows",
       "layout": "IPY_MODEL_278d0257a16b46f3bd5b0cf6a749ef7a",
       "style": "IPY_MODEL_3c008eddd9bb462aa1a99f11daf0dd6e"
      }
     },
     "a25bb9a65ef842d68b8b2daf59d394c3": {
      "model_module": "@jupyter-widgets/controls",
      "model_module_version": "1.5.0",
      "model_name": "ButtonStyleModel",
      "state": {}
     },
     "a266c8b6128642d9904d79ba7be8a9d1": {
      "model_module": "@jupyter-widgets/controls",
      "model_module_version": "1.5.0",
      "model_name": "TextModel",
      "state": {
       "layout": "IPY_MODEL_f28c3c7f5ced4384b8a9eca6bc4c00fd",
       "style": "IPY_MODEL_96c3b68a139842e9b54a2a02b927daba",
       "value": "1"
      }
     },
     "a2800954a6584c12b5eda12d5963f662": {
      "model_module": "@jupyter-widgets/controls",
      "model_module_version": "1.5.0",
      "model_name": "BoxModel",
      "state": {
       "children": [
        "IPY_MODEL_cf5a4594e3e347bfa52ca0a2a36897eb",
        "IPY_MODEL_79f0a8c010d8482fa3983fbbd7fa960a",
        "IPY_MODEL_1279f02c72b24e9ebf1eee73a15418d3"
       ],
       "layout": "IPY_MODEL_993b91f9043843fcb5d25d6b625ce029"
      }
     },
     "a2a1a61aa5454a9c976e3eaa776ca120": {
      "model_module": "@jupyter-widgets/base",
      "model_module_version": "1.2.0",
      "model_name": "LayoutModel",
      "state": {}
     },
     "a2b0e93ee9dd4e67a3ea848054b0c99c": {
      "model_module": "@jupyter-widgets/controls",
      "model_module_version": "1.5.0",
      "model_name": "TextModel",
      "state": {
       "layout": "IPY_MODEL_b2827ab913cf4f49b7a4aeebd116396e",
       "style": "IPY_MODEL_37dae0dce8774bc1882d3dcbaf114419",
       "value": "2"
      }
     },
     "a2b5ad9b21db468abedbfda7fc4ae25a": {
      "model_module": "@jupyter-widgets/controls",
      "model_module_version": "1.5.0",
      "model_name": "DescriptionStyleModel",
      "state": {
       "description_width": ""
      }
     },
     "a2b6a96f714d45e187f60f5f7435921f": {
      "model_module": "@jupyter-widgets/controls",
      "model_module_version": "1.5.0",
      "model_name": "VBoxModel",
      "state": {
       "children": [
        "IPY_MODEL_79764fbb952b49819a09e2c2d7881d40",
        "IPY_MODEL_ef366ef88d174c3299ce49f2f3673208"
       ],
       "layout": "IPY_MODEL_cb89c6936cd8467f8460b206065ebcaa"
      }
     },
     "a2bd3ae83aa541f98ecf8f777f123857": {
      "model_module": "@jupyter-widgets/controls",
      "model_module_version": "1.5.0",
      "model_name": "HBoxModel",
      "state": {
       "children": [
        "IPY_MODEL_b2a5684ef53740c3afb424f37f96e251",
        "IPY_MODEL_d8dc53c0dd0a431f85ee7bc2d5650652",
        "IPY_MODEL_26b92b38aae144aa84b27cdca667d519"
       ],
       "layout": "IPY_MODEL_372ed7a5cc394621ab6513f1814aa07f"
      }
     },
     "a2c2aeb39bef4483a29dc15133897d6b": {
      "model_module": "@jupyter-widgets/controls",
      "model_module_version": "1.5.0",
      "model_name": "DescriptionStyleModel",
      "state": {
       "description_width": ""
      }
     },
     "a2c3c3590f49453890bbf499b8d2a98c": {
      "model_module": "@jupyter-widgets/controls",
      "model_module_version": "1.5.0",
      "model_name": "DescriptionStyleModel",
      "state": {
       "description_width": ""
      }
     },
     "a2e1bf502f3b413d9abd0f232702db24": {
      "model_module": "@jupyter-widgets/base",
      "model_module_version": "1.2.0",
      "model_name": "LayoutModel",
      "state": {}
     },
     "a2ea0681a4474b0597e2328db06272dc": {
      "model_module": "@jupyter-widgets/controls",
      "model_module_version": "1.5.0",
      "model_name": "ButtonModel",
      "state": {
       "description": "Start",
       "layout": "IPY_MODEL_97a4475a35fa426eb1a5055353bfa7ab",
       "style": "IPY_MODEL_d84975169d9f41d88a20e3d87c4d09fe"
      }
     },
     "a3167d83b4a1484299315a6316cb186f": {
      "model_module": "@jupyter-widgets/base",
      "model_module_version": "1.2.0",
      "model_name": "LayoutModel",
      "state": {
       "align_items": "center",
       "flex_flow": "row wrap",
       "height": "100px",
       "justify_content": "space-around"
      }
     },
     "a34242f411bb4bf3a8a896cea9802015": {
      "model_module": "@jupyter-widgets/controls",
      "model_module_version": "1.5.0",
      "model_name": "HTMLMathModel",
      "state": {
       "layout": "IPY_MODEL_b6bdcae37f5f418ebe6da89918d6748a",
       "style": "IPY_MODEL_5e2fa3118c8f4aa2bb923de329385f65",
       "value": "Enter here the values of matrix $\\bf{A}$"
      }
     },
     "a3425483d53046ba8f2ae65d6c4879b6": {
      "model_module": "@jupyter-widgets/controls",
      "model_module_version": "1.5.0",
      "model_name": "DescriptionStyleModel",
      "state": {
       "description_width": ""
      }
     },
     "a35260dc3af94059b47f7cac7e6267df": {
      "model_module": "@jupyter-widgets/controls",
      "model_module_version": "1.5.0",
      "model_name": "HBoxModel",
      "state": {
       "children": [
        "IPY_MODEL_6a381b1a0a264242aaf9d1c9dc7b47b1",
        "IPY_MODEL_916d801793554fc68bb3e4187390a469",
        "IPY_MODEL_765510b8527440108549a16bd942367b"
       ],
       "layout": "IPY_MODEL_28aef19c4c674d4282884f9d8db3313d"
      }
     },
     "a356ca7a10e0491e82005f042454ea61": {
      "model_module": "@jupyter-widgets/controls",
      "model_module_version": "1.5.0",
      "model_name": "DescriptionStyleModel",
      "state": {
       "description_width": ""
      }
     },
     "a3603e2a49b94d39a56bf8797b17c384": {
      "model_module": "@jupyter-widgets/controls",
      "model_module_version": "1.5.0",
      "model_name": "HTMLMathModel",
      "state": {
       "layout": "IPY_MODEL_48a9446b70384f5cad1fad47cd905e9f",
       "style": "IPY_MODEL_0b939843b33244f598beb1d018494b7b",
       "value": "The augmented matrix is:\n    $$\n    \\left[ \\begin{array}{rrr|r}\n         2 & -6 &  1 &  7\\\\\n         1 &  2 & -1 & -1\\\\\n         5 &  7 & -4 &  9\n    \\end{array} \\right]\n    $$"
      }
     },
     "a3666952588c4373a71a19fc2c845406": {
      "model_module": "@jupyter-widgets/base",
      "model_module_version": "1.2.0",
      "model_name": "LayoutModel",
      "state": {
       "width": "150px"
      }
     },
     "a39bcc528d1f4340aadca484237a24a1": {
      "model_module": "@jupyter-widgets/controls",
      "model_module_version": "1.5.0",
      "model_name": "HBoxModel",
      "state": {
       "children": [
        "IPY_MODEL_7fd11bc345004c37ba8a5ce2906aef35",
        "IPY_MODEL_6251019a8edd4245be01f1afc6493cae",
        "IPY_MODEL_1e204bac2f364ad181a34880cde442d3"
       ],
       "layout": "IPY_MODEL_e07eb283342648d0bd663f4f5f468b1d"
      }
     },
     "a3b361d7a9374460abf72b51e9137900": {
      "model_module": "@jupyter-widgets/controls",
      "model_module_version": "1.5.0",
      "model_name": "VBoxModel",
      "state": {
       "children": [
        "IPY_MODEL_3c1e678af02d4af38f26e76c7c0bccb4",
        "IPY_MODEL_d0bc9eb2f5bf41c483a9279f97cf7ab9"
       ],
       "layout": "IPY_MODEL_2209cd4fd68344019596cb60b6f8d1e2"
      }
     },
     "a3d3705f776a4d79bf875f7b06e3f2c9": {
      "model_module": "@jupyter-widgets/base",
      "model_module_version": "1.2.0",
      "model_name": "LayoutModel",
      "state": {
       "width": "150px"
      }
     },
     "a3fd92c846cb4eb697499944ccb9ee06": {
      "model_module": "@jupyter-widgets/base",
      "model_module_version": "1.2.0",
      "model_name": "LayoutModel",
      "state": {
       "width": "150px"
      }
     },
     "a41f9127fbbe4247a6d759740ff3aea1": {
      "model_module": "@jupyter-widgets/controls",
      "model_module_version": "1.5.0",
      "model_name": "HBoxModel",
      "state": {
       "children": [
        "IPY_MODEL_fd209117348c48f89476d37e0bffe2fe",
        "IPY_MODEL_90745d4b0d0348a3a45896fdd6e0b91e",
        "IPY_MODEL_e5da14fa0ba64d8c9602268f8d5a74d7"
       ],
       "layout": "IPY_MODEL_7059f9c5ab7a4b96b260a7357bf54975"
      }
     },
     "a42997bab69646339a8fd2cf0039062b": {
      "model_module": "@jupyter-widgets/base",
      "model_module_version": "1.2.0",
      "model_name": "LayoutModel",
      "state": {
       "width": "150px"
      }
     },
     "a43d7154604b47cfa0f4d17c1b5c513a": {
      "model_module": "@jupyter-widgets/controls",
      "model_module_version": "1.5.0",
      "model_name": "HTMLMathModel",
      "state": {
       "layout": "IPY_MODEL_1e8ea17bff424874a38e1432b1dc43be",
       "style": "IPY_MODEL_7323c5891cb346ef94bbe440a9569a38",
       "value": "Enter here the values of matrix $\\bf{A}$"
      }
     },
     "a483c52dc5a94df8b7f6fb64c0f3c395": {
      "model_module": "@jupyter-widgets/base",
      "model_module_version": "1.2.0",
      "model_name": "LayoutModel",
      "state": {}
     },
     "a497970313864f46b898085fa5aafa82": {
      "model_module": "@jupyter-widgets/controls",
      "model_module_version": "1.5.0",
      "model_name": "DescriptionStyleModel",
      "state": {
       "description_width": ""
      }
     },
     "a4af4e14976342d1af0c90a71e99f190": {
      "model_module": "@jupyter-widgets/controls",
      "model_module_version": "1.5.0",
      "model_name": "TextModel",
      "state": {
       "layout": "IPY_MODEL_4bcd3a11811347d3979a9396c2e71cd4",
       "style": "IPY_MODEL_ced7d7a9b7c9469781571b1ec307898a",
       "value": "7"
      }
     },
     "a4ce331ddd91435ab4a63b897ab71163": {
      "model_module": "@jupyter-widgets/controls",
      "model_module_version": "1.5.0",
      "model_name": "ButtonStyleModel",
      "state": {}
     },
     "a4d47edefcc34ee19901b29b6866cce0": {
      "model_module": "@jupyter-widgets/controls",
      "model_module_version": "1.5.0",
      "model_name": "ButtonModel",
      "state": {
       "description": "Check inverse",
       "layout": "IPY_MODEL_f3302e7bfa1b44528d27e15c59795652",
       "style": "IPY_MODEL_9a45d4b2695144fd8268442c31ef6cd4"
      }
     },
     "a4e4041c55554d9f879528bdf0d02c51": {
      "model_module": "@jupyter-widgets/base",
      "model_module_version": "1.2.0",
      "model_name": "LayoutModel",
      "state": {}
     },
     "a4ecbf0cb990401bbe345b2363bdcd94": {
      "model_module": "@jupyter-widgets/base",
      "model_module_version": "1.2.0",
      "model_name": "LayoutModel",
      "state": {
       "justify_content": "space-between"
      }
     },
     "a51ce9527b3a446e8e4b606c18d484b4": {
      "model_module": "@jupyter-widgets/base",
      "model_module_version": "1.2.0",
      "model_name": "LayoutModel",
      "state": {}
     },
     "a52027e1b256464594022dda9d4dd403": {
      "model_module": "@jupyter-widgets/controls",
      "model_module_version": "1.5.0",
      "model_name": "HBoxModel",
      "state": {
       "children": [
        "IPY_MODEL_60e977fa3df3419a9a07292736996280",
        "IPY_MODEL_767c8c97575d40f59091c00e401cc95c",
        "IPY_MODEL_a525f40f59ff4bc7bdd3ea3cbb689ce5"
       ],
       "layout": "IPY_MODEL_31230e9aa15c4947891a15505593e2b7"
      }
     },
     "a525f40f59ff4bc7bdd3ea3cbb689ce5": {
      "model_module": "@jupyter-widgets/controls",
      "model_module_version": "1.5.0",
      "model_name": "TextModel",
      "state": {
       "layout": "IPY_MODEL_e56e2cbba3324f1e9a6da6e53dfda065",
       "style": "IPY_MODEL_eacf872d21354c7591564531c66e2582",
       "value": "2"
      }
     },
     "a535938a924440dd8765a4b4c0215797": {
      "model_module": "@jupyter-widgets/controls",
      "model_module_version": "1.5.0",
      "model_name": "ButtonModel",
      "state": {
       "description": "Swap rows",
       "layout": "IPY_MODEL_848fd26982654fdfa9af1c0173154fe7",
       "style": "IPY_MODEL_c3d472f342d34f75ba9ad7e10fc2f71c"
      }
     },
     "a5798b0c86cf4df298f1bf1f3f787f64": {
      "model_module": "@jupyter-widgets/controls",
      "model_module_version": "1.5.0",
      "model_name": "DescriptionStyleModel",
      "state": {
       "description_width": ""
      }
     },
     "a57a6f87da364d46b4297f77b92984b8": {
      "model_module": "@jupyter-widgets/base",
      "model_module_version": "1.2.0",
      "model_name": "LayoutModel",
      "state": {}
     },
     "a59f12fa718c46579c4aea8809dea6a7": {
      "model_module": "@jupyter-widgets/controls",
      "model_module_version": "1.5.0",
      "model_name": "HBoxModel",
      "state": {
       "children": [
        "IPY_MODEL_d03b4b39472e4087b1e97e04716ca758",
        "IPY_MODEL_0d8d7d0cf84b4037b7e377649d9f56bc"
       ],
       "layout": "IPY_MODEL_81c27c13e4a94cdf92e4cc198973780d"
      }
     },
     "a5cbea5fa926421aa5669a4ac7a9d66b": {
      "model_module": "@jupyter-widgets/controls",
      "model_module_version": "1.5.0",
      "model_name": "DescriptionStyleModel",
      "state": {
       "description_width": ""
      }
     },
     "a5de056aa545494d9c6adbc57f035436": {
      "model_module": "@jupyter-widgets/base",
      "model_module_version": "1.2.0",
      "model_name": "LayoutModel",
      "state": {}
     },
     "a5ff18a0a71b46c891adb17e46f582d7": {
      "model_module": "@jupyter-widgets/controls",
      "model_module_version": "1.5.0",
      "model_name": "ButtonModel",
      "state": {
       "description": "Swap rows",
       "layout": "IPY_MODEL_4ac60f07828f433ea9495e19ffe231b8",
       "style": "IPY_MODEL_4c212fec75234aa6a6b968c084149988"
      }
     },
     "a60bb58c2ec44d2d87be9aa57a53f46e": {
      "model_module": "@jupyter-widgets/controls",
      "model_module_version": "1.5.0",
      "model_name": "TextModel",
      "state": {
       "layout": "IPY_MODEL_5a0c24727aa941b48d996c0a1f0c2bf8",
       "style": "IPY_MODEL_9240155b1afa405badd5dd9e6b5c9a34",
       "value": "7"
      }
     },
     "a6191c7b85f24d29967a142f134ca578": {
      "model_module": "@jupyter-widgets/controls",
      "model_module_version": "1.5.0",
      "model_name": "TextModel",
      "state": {
       "layout": "IPY_MODEL_d29f4c6323274c2ea715833a610068a5",
       "style": "IPY_MODEL_6faad59dbb884c9fbb17637883343600",
       "value": "7"
      }
     },
     "a61e26bcf0054796956aaca78e8b2271": {
      "model_module": "@jupyter-widgets/controls",
      "model_module_version": "1.5.0",
      "model_name": "DescriptionStyleModel",
      "state": {
       "description_width": ""
      }
     },
     "a64bd27427cc43f99688e7ef7a714386": {
      "model_module": "@jupyter-widgets/controls",
      "model_module_version": "1.5.0",
      "model_name": "TextModel",
      "state": {
       "layout": "IPY_MODEL_d29f4c6323274c2ea715833a610068a5",
       "style": "IPY_MODEL_226c7c5f1b15439686c255a2c7570eff",
       "value": "7"
      }
     },
     "a64d6c22f92342ae8091255e80427a4f": {
      "model_module": "@jupyter-widgets/controls",
      "model_module_version": "1.5.0",
      "model_name": "DescriptionStyleModel",
      "state": {
       "description_width": ""
      }
     },
     "a64ee2cb1ea24db7bbe56e821291f43c": {
      "model_module": "@jupyter-widgets/controls",
      "model_module_version": "1.5.0",
      "model_name": "ButtonModel",
      "state": {
       "description": "Start",
       "layout": "IPY_MODEL_aeed03c4aa404b179dd1bac2f495e8d5",
       "style": "IPY_MODEL_988c15a0f6f04ff0ba5087dcb70c9a60"
      }
     },
     "a65799e2fe494873b3e5d0e34016613e": {
      "model_module": "@jupyter-widgets/controls",
      "model_module_version": "1.5.0",
      "model_name": "DescriptionStyleModel",
      "state": {
       "description_width": ""
      }
     },
     "a6ab870be1e84abcb4578ffec5467fa8": {
      "model_module": "@jupyter-widgets/controls",
      "model_module_version": "1.5.0",
      "model_name": "DescriptionStyleModel",
      "state": {
       "description_width": ""
      }
     },
     "a6b672bf88094d8fa8327c74293c6a55": {
      "model_module": "@jupyter-widgets/base",
      "model_module_version": "1.2.0",
      "model_name": "LayoutModel",
      "state": {
       "height": "35px",
       "width": "30px"
      }
     },
     "a6d96b6539d140518c643ef7bbf40fb4": {
      "model_module": "@jupyter-widgets/controls",
      "model_module_version": "1.5.0",
      "model_name": "ButtonStyleModel",
      "state": {}
     },
     "a6ee9256d81c4cf3bf7a593eb7811cdc": {
      "model_module": "@jupyter-widgets/controls",
      "model_module_version": "1.5.0",
      "model_name": "DescriptionStyleModel",
      "state": {
       "description_width": ""
      }
     },
     "a6ef4ad5118541c78a88cdbeb2925d84": {
      "model_module": "@jupyter-widgets/base",
      "model_module_version": "1.2.0",
      "model_name": "LayoutModel",
      "state": {
       "width": "150px"
      }
     },
     "a6f0dc7c4b2f4f14ac0933f9f1f5511d": {
      "model_module": "@jupyter-widgets/controls",
      "model_module_version": "1.5.0",
      "model_name": "TextModel",
      "state": {
       "layout": "IPY_MODEL_d29f4c6323274c2ea715833a610068a5",
       "style": "IPY_MODEL_89e0afba6c6d4e1a8b0e6b37e315d8f2",
       "value": "-4"
      }
     },
     "a717cdbdfa854b5f8de09f1fff010f21": {
      "model_module": "@jupyter-widgets/controls",
      "model_module_version": "1.5.0",
      "model_name": "DescriptionStyleModel",
      "state": {
       "description_width": ""
      }
     },
     "a7192a4cd93f41d6ad11286ea82bc14e": {
      "model_module": "@jupyter-widgets/base",
      "model_module_version": "1.2.0",
      "model_name": "LayoutModel",
      "state": {}
     },
     "a71fad0a41e64fd289e4c161af34e37c": {
      "model_module": "@jupyter-widgets/controls",
      "model_module_version": "1.5.0",
      "model_name": "DescriptionStyleModel",
      "state": {
       "description_width": ""
      }
     },
     "a72ba6f8f4e8452fa173b0eb5a85fd95": {
      "model_module": "@jupyter-widgets/controls",
      "model_module_version": "1.5.0",
      "model_name": "TextModel",
      "state": {
       "layout": "IPY_MODEL_776389df997545fcab086c0233cb0ab0",
       "style": "IPY_MODEL_f54059be4d2748b293ca090e6ff8382b",
       "value": "2"
      }
     },
     "a740ff59eb3649808f9461627980463a": {
      "model_module": "@jupyter-widgets/controls",
      "model_module_version": "1.5.0",
      "model_name": "DescriptionStyleModel",
      "state": {
       "description_width": ""
      }
     },
     "a76f7a0fe16241c0bbb8bb683d81bb76": {
      "model_module": "@jupyter-widgets/controls",
      "model_module_version": "1.5.0",
      "model_name": "TextModel",
      "state": {
       "description": "times",
       "layout": "IPY_MODEL_c60528652e3c4636a65b4e10944f638a",
       "style": "IPY_MODEL_5adf9d9f09334095abbdc828b00563b9",
       "value": "1"
      }
     },
     "a7726ebb6b5b41fbb98a2d6a7b034797": {
      "model_module": "@jupyter-widgets/controls",
      "model_module_version": "1.5.0",
      "model_name": "TextModel",
      "state": {
       "layout": "IPY_MODEL_7336bcfb9a2145e9a2df614b1768b15f",
       "style": "IPY_MODEL_268d89e146694ac08062b694129757cf",
       "value": "-1"
      }
     },
     "a774ad687fbd43c28e79cbc983d1d03b": {
      "model_module": "@jupyter-widgets/controls",
      "model_module_version": "1.5.0",
      "model_name": "TextModel",
      "state": {
       "layout": "IPY_MODEL_a6b672bf88094d8fa8327c74293c6a55",
       "style": "IPY_MODEL_432dd1f474964e35b1568fdc39575336",
       "value": "-4"
      }
     },
     "a7958a63d96b4429be30ba40f0aa17a6": {
      "model_module": "@jupyter-widgets/controls",
      "model_module_version": "1.5.0",
      "model_name": "DescriptionStyleModel",
      "state": {
       "description_width": ""
      }
     },
     "a7afe44bc9fb4882878b9cf9d5862e42": {
      "model_module": "@jupyter-widgets/base",
      "model_module_version": "1.2.0",
      "model_name": "LayoutModel",
      "state": {
       "flex_flow": "row wrap",
       "justify_content": "space-around"
      }
     },
     "a7c5c741036f4cb2b81c51b48da8fa71": {
      "model_module": "@jupyter-widgets/controls",
      "model_module_version": "1.5.0",
      "model_name": "DescriptionStyleModel",
      "state": {
       "description_width": ""
      }
     },
     "a7e6b445309d4479b5fe494f64a78dd7": {
      "model_module": "@jupyter-widgets/controls",
      "model_module_version": "1.5.0",
      "model_name": "DescriptionStyleModel",
      "state": {
       "description_width": ""
      }
     },
     "a7ee333669a346e98b853fc4535d26ea": {
      "model_module": "@jupyter-widgets/controls",
      "model_module_version": "1.5.0",
      "model_name": "HBoxModel",
      "state": {
       "children": [
        "IPY_MODEL_53882676a31b48e69adc3870e996b7d7",
        "IPY_MODEL_acdc668f06ca4ce7bb56c554be7f68da"
       ],
       "layout": "IPY_MODEL_dfcd0d23056a4dadb38a0f511c6edb13"
      }
     },
     "a7f16672a77d49739f2cc8c0eef41bfb": {
      "model_module": "@jupyter-widgets/controls",
      "model_module_version": "1.5.0",
      "model_name": "DescriptionStyleModel",
      "state": {
       "description_width": ""
      }
     },
     "a7fd2cd6dcb2492d9f206d86d530c26a": {
      "model_module": "@jupyter-widgets/controls",
      "model_module_version": "1.5.0",
      "model_name": "TextModel",
      "state": {
       "layout": "IPY_MODEL_7a607c89a00143a7a0808c95689bf41a",
       "style": "IPY_MODEL_a2c3c3590f49453890bbf499b8d2a98c",
       "value": "-1"
      }
     },
     "a80c4d1ad60d4d83b0f7acafdb185167": {
      "model_module": "@jupyter-widgets/controls",
      "model_module_version": "1.5.0",
      "model_name": "DescriptionStyleModel",
      "state": {
       "description_width": ""
      }
     },
     "a80f5b1f21024f9980cad50d329d0c4f": {
      "model_module": "@jupyter-widgets/base",
      "model_module_version": "1.2.0",
      "model_name": "LayoutModel",
      "state": {}
     },
     "a83e47b84a3e4ebd996596d925e258e7": {
      "model_module": "@jupyter-widgets/controls",
      "model_module_version": "1.5.0",
      "model_name": "TextModel",
      "state": {
       "layout": "IPY_MODEL_35e7cd5dc3a344c7867ddf08fc7e1130",
       "style": "IPY_MODEL_695aa9e8bd06472997a6a077fab96b45",
       "value": " 7"
      }
     },
     "a85445def5ea42728df88b18fda59ee1": {
      "model_module": "@jupyter-widgets/controls",
      "model_module_version": "1.5.0",
      "model_name": "DescriptionStyleModel",
      "state": {
       "description_width": ""
      }
     },
     "a86266f5c9c74443b17d344cc32156e9": {
      "model_module": "@jupyter-widgets/controls",
      "model_module_version": "1.5.0",
      "model_name": "HBoxModel",
      "state": {
       "children": [
        "IPY_MODEL_ae77eebf326042d29e187a1086ad9042",
        "IPY_MODEL_94120941d8134bc5b4a252b15efc449a"
       ],
       "layout": "IPY_MODEL_dba69b7bccad43b2972ff6e43106622a"
      }
     },
     "a870f50104284ac3b1f8d56b2790f4bb": {
      "model_module": "@jupyter-widgets/base",
      "model_module_version": "1.2.0",
      "model_name": "LayoutModel",
      "state": {
       "width": "100px"
      }
     },
     "a87133d2b4c34130a07bc303b10257e4": {
      "model_module": "@jupyter-widgets/controls",
      "model_module_version": "1.5.0",
      "model_name": "HBoxModel",
      "state": {
       "children": [
        "IPY_MODEL_73cafa62da9743a3817cdc9ca4a68f4d",
        "IPY_MODEL_ff52d6e0556d481e9325e5ff6b9f0973",
        "IPY_MODEL_623921d0e69240bc9a94dc3830f517bd"
       ],
       "layout": "IPY_MODEL_9ef5aee8414e411ab9b26d478502db02"
      }
     },
     "a8792407e6254da68a5b9b75d22b36d5": {
      "model_module": "@jupyter-widgets/controls",
      "model_module_version": "1.5.0",
      "model_name": "ButtonStyleModel",
      "state": {}
     },
     "a897b41b41184edbadce3b142e2a6033": {
      "model_module": "@jupyter-widgets/controls",
      "model_module_version": "1.5.0",
      "model_name": "DropdownModel",
      "state": {
       "_options_labels": [
        "1",
        "2",
        "3"
       ],
       "description": "and row",
       "index": 2,
       "layout": "IPY_MODEL_d0759b7699b24fecac3e778df83b01b3",
       "style": "IPY_MODEL_74a6b1792bc643ea98f3b799129801aa"
      }
     },
     "a8ad8d721db44f26977dddde5420ae1b": {
      "model_module": "@jupyter-widgets/base",
      "model_module_version": "1.2.0",
      "model_name": "LayoutModel",
      "state": {
       "width": "150px"
      }
     },
     "a8d0d1cbbc6e4b4597ee6ab3d2965d72": {
      "model_module": "@jupyter-widgets/controls",
      "model_module_version": "1.5.0",
      "model_name": "HTMLMathModel",
      "state": {
       "layout": "IPY_MODEL_1c07b9a6df85462e8297014fc29ba5a4",
       "style": "IPY_MODEL_102e908dcff74288801c5cf158216579",
       "value": "Enter here the values of matrix $\\bf{A}$"
      }
     },
     "a8d9a9d067be49ef964b00fca56cb80b": {
      "model_module": "@jupyter-widgets/base",
      "model_module_version": "1.2.0",
      "model_name": "LayoutModel",
      "state": {}
     },
     "a8e5f6abea014d3abd3189b7c38f4f50": {
      "model_module": "@jupyter-widgets/controls",
      "model_module_version": "1.5.0",
      "model_name": "ButtonStyleModel",
      "state": {}
     },
     "a8f3e8e5d430433881f0e27a13ea5429": {
      "model_module": "@jupyter-widgets/controls",
      "model_module_version": "1.5.0",
      "model_name": "ButtonStyleModel",
      "state": {}
     },
     "a91fd4a111824bb7b225ca7e0b4e0590": {
      "model_module": "@jupyter-widgets/controls",
      "model_module_version": "1.5.0",
      "model_name": "DescriptionStyleModel",
      "state": {
       "description_width": ""
      }
     },
     "a93c7abaf7e4470d9c63401fb383193e": {
      "model_module": "@jupyter-widgets/controls",
      "model_module_version": "1.5.0",
      "model_name": "VBoxModel",
      "state": {
       "children": [
        "IPY_MODEL_25d4f493c8ea4cedbfa7dcb7717d3701",
        "IPY_MODEL_c5824ed0b54e4bcd9ed07b5d0d47092b"
       ],
       "layout": "IPY_MODEL_7766674660134c608a1710e13b0e88a6"
      }
     },
     "a9473816ad6241cf80cf8ea226761390": {
      "model_module": "@jupyter-widgets/controls",
      "model_module_version": "1.5.0",
      "model_name": "TextModel",
      "state": {
       "layout": "IPY_MODEL_b2827ab913cf4f49b7a4aeebd116396e",
       "style": "IPY_MODEL_7aef777ae4c04daa9f29fb9e8306ed4b",
       "value": "-1"
      }
     },
     "a95bb0479c1846968d2575fa0053b36f": {
      "model_module": "@jupyter-widgets/controls",
      "model_module_version": "1.5.0",
      "model_name": "DescriptionStyleModel",
      "state": {
       "description_width": ""
      }
     },
     "a9aa8bf633fb45d48fbf81f1d5c055b2": {
      "model_module": "@jupyter-widgets/base",
      "model_module_version": "1.2.0",
      "model_name": "LayoutModel",
      "state": {
       "width": "150px"
      }
     },
     "a9ac0550e11a40198a6cf372d3a5a6ed": {
      "model_module": "@jupyter-widgets/controls",
      "model_module_version": "1.5.0",
      "model_name": "HBoxModel",
      "state": {
       "children": [
        "IPY_MODEL_6bf012f6d178429f9b9bf08fbc5bd06d",
        "IPY_MODEL_3eada95ee57b414780d5c378b3b2f36c"
       ],
       "layout": "IPY_MODEL_7c27273dff8b4e7eb16f68c179440fb8"
      }
     },
     "a9c9100bbeb34b1982105aab30a6c77b": {
      "model_module": "@jupyter-widgets/controls",
      "model_module_version": "1.5.0",
      "model_name": "DescriptionStyleModel",
      "state": {
       "description_width": ""
      }
     },
     "aa11cb16dc51499ab3fac424b4d7da7c": {
      "model_module": "@jupyter-widgets/controls",
      "model_module_version": "1.5.0",
      "model_name": "DescriptionStyleModel",
      "state": {
       "description_width": ""
      }
     },
     "aa1c9541094240f6952159eeccfce0e6": {
      "model_module": "@jupyter-widgets/controls",
      "model_module_version": "1.5.0",
      "model_name": "ButtonModel",
      "state": {
       "description": "Start",
       "layout": "IPY_MODEL_5683ce8eeb4e4b4dab70df356784fce9",
       "style": "IPY_MODEL_f1d5cf599d7742bdbcb8970a31942c1b"
      }
     },
     "aa329791e0dc45c58b08e1e34b13cc04": {
      "model_module": "@jupyter-widgets/base",
      "model_module_version": "1.2.0",
      "model_name": "LayoutModel",
      "state": {}
     },
     "aa3d1b35af034af993be349218493de3": {
      "model_module": "@jupyter-widgets/controls",
      "model_module_version": "1.5.0",
      "model_name": "DropdownModel",
      "state": {
       "_options_labels": [
        "1",
        "2",
        "3"
       ],
       "description": "Swap row",
       "index": 0,
       "layout": "IPY_MODEL_909edb0fab65494cba9a4e4e7ef025d2",
       "style": "IPY_MODEL_d60ba313d905431984e79fc1504cd97d"
      }
     },
     "aa3fd332ab7346408b2511dc2ed703af": {
      "model_module": "@jupyter-widgets/controls",
      "model_module_version": "1.5.0",
      "model_name": "TextModel",
      "state": {
       "layout": "IPY_MODEL_a6b672bf88094d8fa8327c74293c6a55",
       "style": "IPY_MODEL_ef72b16de5bf4989a0e40ae9e62b66b1",
       "value": "5"
      }
     },
     "aa4acbf318224ef4943c4ec59c6d89dc": {
      "model_module": "@jupyter-widgets/controls",
      "model_module_version": "1.5.0",
      "model_name": "TextModel",
      "state": {
       "layout": "IPY_MODEL_fc4b7699475642ecb4c02ebf24f1e6a2",
       "style": "IPY_MODEL_9cf45fe035c94a7fb39881463d7fbb96",
       "value": "3"
      }
     },
     "aa6a88b675cd41a68584497ba2d69ec7": {
      "model_module": "@jupyter-widgets/controls",
      "model_module_version": "1.5.0",
      "model_name": "DescriptionStyleModel",
      "state": {
       "description_width": ""
      }
     },
     "aa871fbba6ad4491b6b9b2032c095a00": {
      "model_module": "@jupyter-widgets/controls",
      "model_module_version": "1.5.0",
      "model_name": "VBoxModel",
      "state": {
       "children": [
        "IPY_MODEL_18f7695f0ad84174a2536ebe3d32a1f1",
        "IPY_MODEL_e9fac382b3f0401eae8279a9a79dcf8d",
        "IPY_MODEL_7ddd925b7de64daabfeb19088e15b604"
       ],
       "layout": "IPY_MODEL_3d15cd2a168f4b59b1b34868e76fedb2"
      }
     },
     "aaa777c13b2d49d79b41f27e7769bbef": {
      "model_module": "@jupyter-widgets/controls",
      "model_module_version": "1.5.0",
      "model_name": "BoxModel",
      "state": {
       "children": [
        "IPY_MODEL_9ea4009cb3a84cd18fd342fe3ef6bc5c",
        "IPY_MODEL_27858370fad5458d92d7dd6a4b82ca8f",
        "IPY_MODEL_9c32ba5df2364853a9345b1ed164d8ef"
       ],
       "layout": "IPY_MODEL_7d594d5a472446348d27408858b846a4"
      }
     },
     "aab1f190e5fe4f51bcf2eb078221c765": {
      "model_module": "@jupyter-widgets/controls",
      "model_module_version": "1.5.0",
      "model_name": "DescriptionStyleModel",
      "state": {
       "description_width": ""
      }
     },
     "aae194536b874100980484d85dedcd4e": {
      "model_module": "@jupyter-widgets/controls",
      "model_module_version": "1.5.0",
      "model_name": "TextModel",
      "state": {
       "layout": "IPY_MODEL_efe34e22991049d5b12a19c5a386a8dc",
       "style": "IPY_MODEL_0b859c0aeaa34571b951aa690f458eb4",
       "value": "1"
      }
     },
     "aae8ef693efb49b3a6f1339f7af0c284": {
      "model_module": "@jupyter-widgets/controls",
      "model_module_version": "1.5.0",
      "model_name": "ButtonStyleModel",
      "state": {}
     },
     "aafc93c83c6644fabcccebba9a26abe4": {
      "model_module": "@jupyter-widgets/controls",
      "model_module_version": "1.5.0",
      "model_name": "DropdownModel",
      "state": {
       "_options_labels": [
        "1",
        "2",
        "3"
       ],
       "description": "Row",
       "index": 0,
       "layout": "IPY_MODEL_2bd2d6e8efd54955834b5a4446ece3e1",
       "style": "IPY_MODEL_00424815f6b2428cab327bc7c100b344"
      }
     },
     "ab0b0f7e28ad4648a1d4ebe2d8a8ea3b": {
      "model_module": "@jupyter-widgets/controls",
      "model_module_version": "1.5.0",
      "model_name": "ButtonStyleModel",
      "state": {}
     },
     "ab241dcf27964f7696da8f451fadf9de": {
      "model_module": "@jupyter-widgets/controls",
      "model_module_version": "1.5.0",
      "model_name": "DescriptionStyleModel",
      "state": {
       "description_width": ""
      }
     },
     "ab387945260047829f07714686b7f4e8": {
      "model_module": "@jupyter-widgets/controls",
      "model_module_version": "1.5.0",
      "model_name": "DescriptionStyleModel",
      "state": {
       "description_width": ""
      }
     },
     "ab43396becc34353a6270f34e81e3bed": {
      "model_module": "@jupyter-widgets/base",
      "model_module_version": "1.2.0",
      "model_name": "LayoutModel",
      "state": {}
     },
     "ab48570210694ea1a1c9ea63aa7e5076": {
      "model_module": "@jupyter-widgets/controls",
      "model_module_version": "1.5.0",
      "model_name": "DropdownModel",
      "state": {
       "_options_labels": [
        "1",
        "2",
        "3"
       ],
       "description": "Swap row",
       "index": 1,
       "layout": "IPY_MODEL_2dede00b438548bf87b27a6efa51999f",
       "style": "IPY_MODEL_12cbdd3218bd4b41a9625bcc5b40b545"
      }
     },
     "ab53d38855ef4aca9d2e9e14cd9a56b0": {
      "model_module": "@jupyter-widgets/controls",
      "model_module_version": "1.5.0",
      "model_name": "DescriptionStyleModel",
      "state": {
       "description_width": ""
      }
     },
     "ab56e368eca74d6dbd0dc24f5023a077": {
      "model_module": "@jupyter-widgets/controls",
      "model_module_version": "1.5.0",
      "model_name": "TextModel",
      "state": {
       "layout": "IPY_MODEL_efe34e22991049d5b12a19c5a386a8dc",
       "style": "IPY_MODEL_6d13e6d8c1cf4f648fedf042d250b4f6",
       "value": "-2"
      }
     },
     "ab630e7d6b8b430ab76670ed1729a764": {
      "model_module": "@jupyter-widgets/controls",
      "model_module_version": "1.5.0",
      "model_name": "DescriptionStyleModel",
      "state": {
       "description_width": ""
      }
     },
     "ab78a5ed2f4a4f089092f5f78d63b24b": {
      "model_module": "@jupyter-widgets/controls",
      "model_module_version": "1.5.0",
      "model_name": "DescriptionStyleModel",
      "state": {
       "description_width": ""
      }
     },
     "ab9ac5dc39c74dc9b6a13120bdc2a6b6": {
      "model_module": "@jupyter-widgets/controls",
      "model_module_version": "1.5.0",
      "model_name": "BoxModel",
      "state": {
       "children": [
        "IPY_MODEL_096d7e01c4ab495b97d4c8da52092a3c",
        "IPY_MODEL_724c6a91d9094a5eb15278283f01e927",
        "IPY_MODEL_0d13a2ae3090437a9013c2620fae42d2",
        "IPY_MODEL_2694759319eb4c2fbc58bcfb039c1643"
       ],
       "layout": "IPY_MODEL_5ac478c19fcb4b9eb123e71c5cd00212"
      }
     },
     "ab9ba25fd07245f3bf46f951ee0190cf": {
      "model_module": "@jupyter-widgets/controls",
      "model_module_version": "1.5.0",
      "model_name": "VBoxModel",
      "state": {
       "children": [
        "IPY_MODEL_537394e3a42f4e189c8560c8ccdda6ba",
        "IPY_MODEL_7fbff3551ceb431e95b6a8de7e4ef3ee",
        "IPY_MODEL_cb4719e8ad0e4cd09d11e3be743a8a1c"
       ],
       "layout": "IPY_MODEL_7976a6062cc74b4bbba7d062c2e73e4c"
      }
     },
     "abf884726f024e6f9ab76c4cd78aa330": {
      "model_module": "@jupyter-widgets/controls",
      "model_module_version": "1.5.0",
      "model_name": "DescriptionStyleModel",
      "state": {
       "description_width": ""
      }
     },
     "abfc0782a96b451f8ab1b3399452c5ef": {
      "model_module": "@jupyter-widgets/controls",
      "model_module_version": "1.5.0",
      "model_name": "DescriptionStyleModel",
      "state": {
       "description_width": ""
      }
     },
     "ac0bd227518841a2857a2d9662fa007d": {
      "model_module": "@jupyter-widgets/base",
      "model_module_version": "1.2.0",
      "model_name": "LayoutModel",
      "state": {}
     },
     "ac1f1a21ee534cdbbee66c22df9ac89c": {
      "model_module": "@jupyter-widgets/controls",
      "model_module_version": "1.5.0",
      "model_name": "VBoxModel",
      "state": {
       "children": [
        "IPY_MODEL_4a1a37c06f90467d923ed3ac0300e336",
        "IPY_MODEL_5d67fefd67a54d2dbed9e48efd1cba7d"
       ],
       "layout": "IPY_MODEL_dc9841d6299f46868999d6ca47b139b5"
      }
     },
     "ac3bc8e3641e46d4adced4a17ea7c65a": {
      "model_module": "@jupyter-widgets/controls",
      "model_module_version": "1.5.0",
      "model_name": "DescriptionStyleModel",
      "state": {
       "description_width": ""
      }
     },
     "ac7e9d5ffe1447bc9679c41f38f30a63": {
      "model_module": "@jupyter-widgets/controls",
      "model_module_version": "1.5.0",
      "model_name": "TextModel",
      "state": {
       "description": "times",
       "layout": "IPY_MODEL_9f09ede67305469697f2b802bfbb1191",
       "style": "IPY_MODEL_9c786c7a432144aba810fdb9035edead",
       "value": "1"
      }
     },
     "ac86d81545b64d17a98d72f3df6e61a7": {
      "model_module": "@jupyter-widgets/controls",
      "model_module_version": "1.5.0",
      "model_name": "DescriptionStyleModel",
      "state": {
       "description_width": ""
      }
     },
     "ac91cbc1ec8249c7b079ceecf6f03c3b": {
      "model_module": "@jupyter-widgets/controls",
      "model_module_version": "1.5.0",
      "model_name": "DescriptionStyleModel",
      "state": {
       "description_width": ""
      }
     },
     "aca5d4097ce54949ba9688241c0ddbbe": {
      "model_module": "@jupyter-widgets/controls",
      "model_module_version": "1.5.0",
      "model_name": "ButtonStyleModel",
      "state": {}
     },
     "acbe0fe95c754be2a1ec221a98c766c1": {
      "model_module": "@jupyter-widgets/controls",
      "model_module_version": "1.5.0",
      "model_name": "HBoxModel",
      "state": {
       "children": [
        "IPY_MODEL_67690d0ae1b94ff296b4ec53d7b86ee0",
        "IPY_MODEL_505cdfd500cc43799bdcd58c1bf4f1e1"
       ],
       "layout": "IPY_MODEL_b87ac92d7e95498c926b8cba5a8b7ee5"
      }
     },
     "acc5204935b04668b9b0b6bfdcccb7ec": {
      "model_module": "@jupyter-widgets/controls",
      "model_module_version": "1.5.0",
      "model_name": "VBoxModel",
      "state": {
       "children": [
        "IPY_MODEL_b7373a91cc744547aa954fb91c400a77",
        "IPY_MODEL_6ac75f494ef84a00b83c36c01bfd99fc"
       ],
       "layout": "IPY_MODEL_219b7bccfeab476a93b92f5ea1f40877"
      }
     },
     "acdc668f06ca4ce7bb56c554be7f68da": {
      "model_module": "@jupyter-widgets/controls",
      "model_module_version": "1.5.0",
      "model_name": "VBoxModel",
      "state": {
       "children": [
        "IPY_MODEL_c6bbec391e6742afa027e042be6248bb",
        "IPY_MODEL_a52027e1b256464594022dda9d4dd403",
        "IPY_MODEL_1ae9ca2c7aa344218ff0143264ccdd71"
       ],
       "layout": "IPY_MODEL_0801093bfb36451398ac22fe324a5a7f"
      }
     },
     "acf924170cd4476d95bd450b3f84687c": {
      "model_module": "@jupyter-widgets/controls",
      "model_module_version": "1.5.0",
      "model_name": "DescriptionStyleModel",
      "state": {
       "description_width": ""
      }
     },
     "ad06bc4debb9475d92e15f3a36fccf5b": {
      "model_module": "@jupyter-widgets/controls",
      "model_module_version": "1.5.0",
      "model_name": "TextModel",
      "state": {
       "layout": "IPY_MODEL_194d5881fb18447585798b14c51e301b",
       "style": "IPY_MODEL_0261727a0a2e41e583fb6712a55d8f5e",
       "value": "2"
      }
     },
     "ad0c581ace6644679c7f139bea382624": {
      "model_module": "@jupyter-widgets/controls",
      "model_module_version": "1.5.0",
      "model_name": "DropdownModel",
      "state": {
       "_options_labels": [
        "1",
        "2",
        "3"
       ],
       "description": "Row",
       "index": 0,
       "layout": "IPY_MODEL_fe0fd061e2244014a041288f0cab7c5f",
       "style": "IPY_MODEL_1c16fd0d7dad4d59afb8c2f76a208770"
      }
     },
     "ad21e233277244778e707fd68da2c5d9": {
      "model_module": "@jupyter-widgets/controls",
      "model_module_version": "1.5.0",
      "model_name": "DescriptionStyleModel",
      "state": {
       "description_width": ""
      }
     },
     "ad3708e59d0c4eaf888eaafd32064927": {
      "model_module": "@jupyter-widgets/base",
      "model_module_version": "1.2.0",
      "model_name": "LayoutModel",
      "state": {}
     },
     "ad4c3723b87b4ba085595b1ea9c730c5": {
      "model_module": "@jupyter-widgets/controls",
      "model_module_version": "1.5.0",
      "model_name": "VBoxModel",
      "state": {
       "children": [
        "IPY_MODEL_5a11092834df496393b9afbe3c0ca4ac",
        "IPY_MODEL_94f30df9d6fb4916aae21e4e2b82e3ff"
       ],
       "layout": "IPY_MODEL_af0001b3ee5a4f5fa502d185a986fc92"
      }
     },
     "ad582b963daa4691af6d82cc03f90c98": {
      "model_module": "@jupyter-widgets/controls",
      "model_module_version": "1.5.0",
      "model_name": "DescriptionStyleModel",
      "state": {
       "description_width": ""
      }
     },
     "ad667437c7504081859d5c162a06411b": {
      "model_module": "@jupyter-widgets/controls",
      "model_module_version": "1.5.0",
      "model_name": "DescriptionStyleModel",
      "state": {
       "description_width": ""
      }
     },
     "ad705ae26de74d94a0de603e00a9d680": {
      "model_module": "@jupyter-widgets/base",
      "model_module_version": "1.2.0",
      "model_name": "LayoutModel",
      "state": {
       "width": "120px"
      }
     },
     "ad7a09ca5dd245c9b86ba8cb1b5e230b": {
      "model_module": "@jupyter-widgets/controls",
      "model_module_version": "1.5.0",
      "model_name": "TextModel",
      "state": {
       "layout": "IPY_MODEL_d29f4c6323274c2ea715833a610068a5",
       "style": "IPY_MODEL_48ce2a5544ec4074890ee9caef96a6ff",
       "value": "1"
      }
     },
     "ad812977f3954f03b0e6f2a0082c7174": {
      "model_module": "@jupyter-widgets/controls",
      "model_module_version": "1.5.0",
      "model_name": "DropdownModel",
      "state": {
       "_options_labels": [
        "1",
        "2",
        "3"
       ],
       "description": "Row",
       "index": 2,
       "layout": "IPY_MODEL_2ef3cd51ce8e475a911a9ed3701bea03",
       "style": "IPY_MODEL_8200348d03bc472f97e594453199a6ab"
      }
     },
     "ad89ee31645c4e22ae6daf14671e0ca5": {
      "model_module": "@jupyter-widgets/controls",
      "model_module_version": "1.5.0",
      "model_name": "TextModel",
      "state": {
       "layout": "IPY_MODEL_7a607c89a00143a7a0808c95689bf41a",
       "style": "IPY_MODEL_f7ac967140d345f4abf41b80a6e16393",
       "value": "-1"
      }
     },
     "adbc7a5cde2f488fa91e3863dddfbf14": {
      "model_module": "@jupyter-widgets/base",
      "model_module_version": "1.2.0",
      "model_name": "LayoutModel",
      "state": {}
     },
     "adda5e436c784157947d36267b3c2407": {
      "model_module": "@jupyter-widgets/controls",
      "model_module_version": "1.5.0",
      "model_name": "HBoxModel",
      "state": {
       "children": [
        "IPY_MODEL_8ae4e97911d64448a105894a4f241917",
        "IPY_MODEL_750dd9d3577c433da0daddd8af017e90",
        "IPY_MODEL_72cb05b652e54229a2e9e241785a89d5"
       ],
       "layout": "IPY_MODEL_ff3df24b4f544272b04f117fadfa6150"
      }
     },
     "ade3660114fe47a7bb7a50fccb931b1e": {
      "model_module": "@jupyter-widgets/controls",
      "model_module_version": "1.5.0",
      "model_name": "HTMLMathModel",
      "state": {
       "layout": "IPY_MODEL_3b092df8dde24e699550d620dc36d41f",
       "style": "IPY_MODEL_ea7032af5a434b63b25757ecd430e019",
       "value": "Enter here the values of the right hand side vector $b$"
      }
     },
     "adfdd6e9e70746bebec8a6bc1166939a": {
      "model_module": "@jupyter-widgets/controls",
      "model_module_version": "1.5.0",
      "model_name": "VBoxModel",
      "state": {
       "children": [
        "IPY_MODEL_453914f5c7de4326936afd46c5548eb6",
        "IPY_MODEL_97c51eeb9c7443d2bef6f473e7e52cb4"
       ],
       "layout": "IPY_MODEL_6d33130e3ddb478183ad9116ebca18ea"
      }
     },
     "adfe9b7cbe7e48cd9e3ef644043fa7a8": {
      "model_module": "@jupyter-widgets/controls",
      "model_module_version": "1.5.0",
      "model_name": "DescriptionStyleModel",
      "state": {
       "description_width": ""
      }
     },
     "ae56788c958e4f0394d980e40ad98629": {
      "model_module": "@jupyter-widgets/base",
      "model_module_version": "1.2.0",
      "model_name": "LayoutModel",
      "state": {}
     },
     "ae77eebf326042d29e187a1086ad9042": {
      "model_module": "@jupyter-widgets/controls",
      "model_module_version": "1.5.0",
      "model_name": "VBoxModel",
      "state": {
       "children": [
        "IPY_MODEL_19fa193cac964d278ae6c86bf2d59099",
        "IPY_MODEL_1a4e7075c3ef4e43abe0ee10b4c30e5e",
        "IPY_MODEL_6623208b66e44f45abe794b71760d53c"
       ],
       "layout": "IPY_MODEL_e16c683bbe5a4fa9afa56982c1d8e9e5"
      }
     },
     "aeb07636df5c4a2dae5b44b4b41ef7c2": {
      "model_module": "@jupyter-widgets/controls",
      "model_module_version": "1.5.0",
      "model_name": "DescriptionStyleModel",
      "state": {
       "description_width": ""
      }
     },
     "aeb819a310ad4bd6bf967194d64bb21c": {
      "model_module": "@jupyter-widgets/base",
      "model_module_version": "1.2.0",
      "model_name": "LayoutModel",
      "state": {}
     },
     "aed3a4c4d14b464da4f20c758a7ba08f": {
      "model_module": "@jupyter-widgets/controls",
      "model_module_version": "1.5.0",
      "model_name": "DescriptionStyleModel",
      "state": {
       "description_width": ""
      }
     },
     "aedbf0ad4686406ab1c2c93571c2a08e": {
      "model_module": "@jupyter-widgets/controls",
      "model_module_version": "1.5.0",
      "model_name": "VBoxModel",
      "state": {
       "children": [
        "IPY_MODEL_fb9a8823347d4aecb7dac7ce200bbb85",
        "IPY_MODEL_96ea6fa32ca14d219844712a3a7b5513",
        "IPY_MODEL_8d178c7dbcb84e16ae6c67cab08506e4"
       ],
       "layout": "IPY_MODEL_78d83c26d40d4ba38b91634d573fdc07"
      }
     },
     "aeed03c4aa404b179dd1bac2f495e8d5": {
      "model_module": "@jupyter-widgets/base",
      "model_module_version": "1.2.0",
      "model_name": "LayoutModel",
      "state": {}
     },
     "aefdae709ce94c3ea83fc6d511783bb4": {
      "model_module": "@jupyter-widgets/base",
      "model_module_version": "1.2.0",
      "model_name": "LayoutModel",
      "state": {}
     },
     "af0001b3ee5a4f5fa502d185a986fc92": {
      "model_module": "@jupyter-widgets/base",
      "model_module_version": "1.2.0",
      "model_name": "LayoutModel",
      "state": {}
     },
     "af1105e0604d4430b14de9c078bae96c": {
      "model_module": "@jupyter-widgets/controls",
      "model_module_version": "1.5.0",
      "model_name": "TextModel",
      "state": {
       "layout": "IPY_MODEL_239bec109578490f9329cf0477e25967",
       "style": "IPY_MODEL_69c30bf1d73744968eb59a68b40ef03c",
       "value": "7"
      }
     },
     "af1465f0d3e14644a07a392351fb10df": {
      "model_module": "@jupyter-widgets/controls",
      "model_module_version": "1.5.0",
      "model_name": "VBoxModel",
      "state": {
       "children": [
        "IPY_MODEL_0f90d747bf4745abba5c6cb4abdfc1f5",
        "IPY_MODEL_f2ce4122509b40f9958550f0c01618d8"
       ],
       "layout": "IPY_MODEL_d6e2a00a03964f8c9b8930ec390ea29a"
      }
     },
     "af17b13a0640441986cc2e3396c77e4e": {
      "model_module": "@jupyter-widgets/controls",
      "model_module_version": "1.5.0",
      "model_name": "HTMLModel",
      "state": {
       "layout": "IPY_MODEL_1f392525c40e47758956e03c9f5fbc72",
       "style": "IPY_MODEL_054bb1d3d5cb4563981b19c6d64f5492",
       "value": "Click this button to start the calculator"
      }
     },
     "af1ad8ed859e42cb94b23726532cff4f": {
      "model_module": "@jupyter-widgets/base",
      "model_module_version": "1.2.0",
      "model_name": "LayoutModel",
      "state": {}
     },
     "af5642f83d614eb0b741252f3ab653db": {
      "model_module": "@jupyter-widgets/base",
      "model_module_version": "1.2.0",
      "model_name": "LayoutModel",
      "state": {
       "flex_flow": "row wrap",
       "justify_content": "space-around"
      }
     },
     "af5ac56f1a17454981bcfb78194ab92f": {
      "model_module": "@jupyter-widgets/controls",
      "model_module_version": "1.5.0",
      "model_name": "TextModel",
      "state": {
       "layout": "IPY_MODEL_36d600bb3cb144de8da56ca358490108",
       "style": "IPY_MODEL_2328995324a444098a24465dac68e5f0",
       "value": "-2"
      }
     },
     "af6006bf4c634e0d89d3ef82c0b37465": {
      "model_module": "@jupyter-widgets/controls",
      "model_module_version": "1.5.0",
      "model_name": "DescriptionStyleModel",
      "state": {
       "description_width": ""
      }
     },
     "af6de9f6c4424dc989b783ffcc139792": {
      "model_module": "@jupyter-widgets/controls",
      "model_module_version": "1.5.0",
      "model_name": "VBoxModel",
      "state": {
       "children": [
        "IPY_MODEL_c8a8bc8491d94b4b9289f0a90f83169f",
        "IPY_MODEL_4d809df97dbf4b6894c67b3e76824e9d"
       ],
       "layout": "IPY_MODEL_bb4f33fd2a024edbab12b5091188895c"
      }
     },
     "af73b19a13c74eba80224f144d11f722": {
      "model_module": "@jupyter-widgets/base",
      "model_module_version": "1.2.0",
      "model_name": "LayoutModel",
      "state": {}
     },
     "af7477456c33456ca54767e20fa33876": {
      "model_module": "@jupyter-widgets/controls",
      "model_module_version": "1.5.0",
      "model_name": "TextModel",
      "state": {
       "layout": "IPY_MODEL_35e7cd5dc3a344c7867ddf08fc7e1130",
       "style": "IPY_MODEL_807a89e511464bb6beb86cb3bced08a7",
       "value": " 2"
      }
     },
     "af8ad6274d92412d913ee11dfcc986b6": {
      "model_module": "@jupyter-widgets/controls",
      "model_module_version": "1.5.0",
      "model_name": "BoxModel",
      "state": {
       "children": [
        "IPY_MODEL_ed7df2142d06450ab4fc6fef01c700cf"
       ],
       "layout": "IPY_MODEL_7cee55adab1040efad5d3315a9e84f06"
      }
     },
     "afc6d3f6bf3347eba5325746f85bab4b": {
      "model_module": "@jupyter-widgets/controls",
      "model_module_version": "1.5.0",
      "model_name": "DescriptionStyleModel",
      "state": {
       "description_width": ""
      }
     },
     "afcee6e16407434a8a8ba611f03bf62b": {
      "model_module": "@jupyter-widgets/controls",
      "model_module_version": "1.5.0",
      "model_name": "DescriptionStyleModel",
      "state": {
       "description_width": ""
      }
     },
     "afd07095cfa744c0a6d4068a1eea5f3b": {
      "model_module": "@jupyter-widgets/controls",
      "model_module_version": "1.5.0",
      "model_name": "DescriptionStyleModel",
      "state": {
       "description_width": ""
      }
     },
     "afd633c90c664b979c75d8d4f0e27101": {
      "model_module": "@jupyter-widgets/base",
      "model_module_version": "1.2.0",
      "model_name": "LayoutModel",
      "state": {}
     },
     "afdd063b9fc44fdaa6dac4d26eec807e": {
      "model_module": "@jupyter-widgets/controls",
      "model_module_version": "1.5.0",
      "model_name": "TextModel",
      "state": {
       "layout": "IPY_MODEL_d743f8ba50f447a3ad2d5faaa6a0e9e2",
       "style": "IPY_MODEL_31f7b242d3b242e69309b22c1149a097",
       "value": "1"
      }
     },
     "afdd129ec13244fd8b99e75f808be5b9": {
      "model_module": "@jupyter-widgets/controls",
      "model_module_version": "1.5.0",
      "model_name": "HBoxModel",
      "state": {
       "children": [
        "IPY_MODEL_590bd867545e4f828a33d836914d9331",
        "IPY_MODEL_16d7e588c06e43bfb642ae0ff98faaa0",
        "IPY_MODEL_04470ade57e34f9f8741e6ab65ef1567"
       ],
       "layout": "IPY_MODEL_80f259b13ab24c5c9c6d50c65250009f"
      }
     },
     "afdfadb9789c4a9ca681bfb9063319a8": {
      "model_module": "@jupyter-widgets/controls",
      "model_module_version": "1.5.0",
      "model_name": "DescriptionStyleModel",
      "state": {
       "description_width": ""
      }
     },
     "b021255de6654125b6a12dbc17cebd18": {
      "model_module": "@jupyter-widgets/base",
      "model_module_version": "1.2.0",
      "model_name": "LayoutModel",
      "state": {}
     },
     "b022a4792c1d45e8a716fcf99ecf088c": {
      "model_module": "@jupyter-widgets/base",
      "model_module_version": "1.2.0",
      "model_name": "LayoutModel",
      "state": {
       "width": "100px"
      }
     },
     "b02b8f85ab8b4f05819be1812fb9b8a2": {
      "model_module": "@jupyter-widgets/controls",
      "model_module_version": "1.5.0",
      "model_name": "DescriptionStyleModel",
      "state": {
       "description_width": ""
      }
     },
     "b0405bcdc64e48e88e2ce24a821b02bf": {
      "model_module": "@jupyter-widgets/base",
      "model_module_version": "1.2.0",
      "model_name": "LayoutModel",
      "state": {
       "justify_content": "space-between"
      }
     },
     "b06d6ef88f02450ebab580dc385c82ee": {
      "model_module": "@jupyter-widgets/base",
      "model_module_version": "1.2.0",
      "model_name": "LayoutModel",
      "state": {}
     },
     "b09b650053c24433affa28ded09867bd": {
      "model_module": "@jupyter-widgets/base",
      "model_module_version": "1.2.0",
      "model_name": "LayoutModel",
      "state": {}
     },
     "b0b37cbad4314c71ac6d9ffbb15fcf0a": {
      "model_module": "@jupyter-widgets/base",
      "model_module_version": "1.2.0",
      "model_name": "LayoutModel",
      "state": {
       "width": "90px"
      }
     },
     "b0f3d5c3592b45bc8def281b3843d570": {
      "model_module": "@jupyter-widgets/controls",
      "model_module_version": "1.5.0",
      "model_name": "TextModel",
      "state": {
       "layout": "IPY_MODEL_36d600bb3cb144de8da56ca358490108",
       "style": "IPY_MODEL_38bfea837361406995778beb5e418227",
       "value": "1"
      }
     },
     "b11139dc4e3b4d50aeba312fbc4bd827": {
      "model_module": "@jupyter-widgets/controls",
      "model_module_version": "1.5.0",
      "model_name": "HTMLMathModel",
      "state": {
       "layout": "IPY_MODEL_0ac096e2f7a24f6bbe4388d8c380d186",
       "style": "IPY_MODEL_c44929609589462a886b56aa16e89809",
       "value": "Enter here the values of matrix $\\bf{A}$"
      }
     },
     "b1278b3df10f4338a8bfe4e36f72f0bf": {
      "model_module": "@jupyter-widgets/controls",
      "model_module_version": "1.5.0",
      "model_name": "TextModel",
      "state": {
       "layout": "IPY_MODEL_ff8f131091ed4bf49b858ed52bc5b3ea",
       "style": "IPY_MODEL_cefb352ebcc64fdba426ed489dfe55d2",
       "value": "2"
      }
     },
     "b139b5bfb3064ef284e7c4c902337610": {
      "model_module": "@jupyter-widgets/controls",
      "model_module_version": "1.5.0",
      "model_name": "TextModel",
      "state": {
       "layout": "IPY_MODEL_24e52a9da5f64680833f56257412e632",
       "style": "IPY_MODEL_ea23d0027d3d4ed9abbc7770dcaa6f70",
       "value": "-4"
      }
     },
     "b1542e6c385843e5ab97d505bbfd924a": {
      "model_module": "@jupyter-widgets/controls",
      "model_module_version": "1.5.0",
      "model_name": "VBoxModel",
      "state": {
       "children": [
        "IPY_MODEL_41615810ab9c4e999c14ca3bb1be0d18",
        "IPY_MODEL_8cca10a4c8104235a793e1477fd2c241"
       ],
       "layout": "IPY_MODEL_a8d9a9d067be49ef964b00fca56cb80b"
      }
     },
     "b15695fe3c094b13af49d7d2bb3c86e1": {
      "model_module": "@jupyter-widgets/base",
      "model_module_version": "1.2.0",
      "model_name": "LayoutModel",
      "state": {}
     },
     "b16dfbe331fe43fabbc50ae50aed289f": {
      "model_module": "@jupyter-widgets/base",
      "model_module_version": "1.2.0",
      "model_name": "LayoutModel",
      "state": {
       "width": "50px"
      }
     },
     "b1791b0879624e658357762d2369ac65": {
      "model_module": "@jupyter-widgets/controls",
      "model_module_version": "1.5.0",
      "model_name": "VBoxModel",
      "state": {
       "children": [
        "IPY_MODEL_f895ea3132694a979c2d178a101b75ad",
        "IPY_MODEL_64c97bf5a3d14a6a923faa8149fc7952",
        "IPY_MODEL_51c1ffe48e334f30aa4a9a9eb7f15112"
       ],
       "layout": "IPY_MODEL_396a39095de24ef5b1ad48887cedc2c3"
      }
     },
     "b188595e7cc8401cb3c6e765f8e86dfd": {
      "model_module": "@jupyter-widgets/controls",
      "model_module_version": "1.5.0",
      "model_name": "ButtonStyleModel",
      "state": {}
     },
     "b1896b3f670d4d108835cab73cba5ad7": {
      "model_module": "@jupyter-widgets/controls",
      "model_module_version": "1.5.0",
      "model_name": "DescriptionStyleModel",
      "state": {
       "description_width": ""
      }
     },
     "b1a28f44621a4561ac0e1be83d0367ba": {
      "model_module": "@jupyter-widgets/controls",
      "model_module_version": "1.5.0",
      "model_name": "DropdownModel",
      "state": {
       "_options_labels": [
        "1",
        "2",
        "3"
       ],
       "description": "and row",
       "index": 1,
       "layout": "IPY_MODEL_e437e6949337406db5a0e19959a3181d",
       "style": "IPY_MODEL_87c037b92d3d4544a8f5406c1eeaeb50"
      }
     },
     "b1b400f7a9db48c7b220f38e3f214f0c": {
      "model_module": "@jupyter-widgets/controls",
      "model_module_version": "1.5.0",
      "model_name": "TextModel",
      "state": {
       "layout": "IPY_MODEL_9f4d9e00ae3e470a8d024478444df27d",
       "style": "IPY_MODEL_f889cd3076264fc6ac2d49038d7b96e7",
       "value": "7"
      }
     },
     "b1bb9582f5664bab878cae686d35c113": {
      "model_module": "@jupyter-widgets/controls",
      "model_module_version": "1.5.0",
      "model_name": "ButtonModel",
      "state": {
       "description": "Add rows",
       "layout": "IPY_MODEL_9081a0716bc44b7ea86f2b59b7f3bf1f",
       "style": "IPY_MODEL_18e800eadb0a403fac297973b35ed653"
      }
     },
     "b1d82bbfeb4d4e92b274fba235b1cd4c": {
      "model_module": "@jupyter-widgets/controls",
      "model_module_version": "1.5.0",
      "model_name": "DescriptionStyleModel",
      "state": {
       "description_width": ""
      }
     },
     "b1ec43ab8bdc4c578fcb0f3ec91020b1": {
      "model_module": "@jupyter-widgets/base",
      "model_module_version": "1.2.0",
      "model_name": "LayoutModel",
      "state": {}
     },
     "b204a51df14e4006a11bff71ba14b36a": {
      "model_module": "@jupyter-widgets/controls",
      "model_module_version": "1.5.0",
      "model_name": "DescriptionStyleModel",
      "state": {
       "description_width": ""
      }
     },
     "b2114799c4a84bbc87247973e58f4c95": {
      "model_module": "@jupyter-widgets/base",
      "model_module_version": "1.2.0",
      "model_name": "LayoutModel",
      "state": {}
     },
     "b24188af17df4f399847f097fc67807e": {
      "model_module": "@jupyter-widgets/controls",
      "model_module_version": "1.5.0",
      "model_name": "HBoxModel",
      "state": {
       "children": [
        "IPY_MODEL_3f5c282cb7614c07a33fdfceddad2e59",
        "IPY_MODEL_7231a6e6a9504e24a63aba01f0b0a6ab",
        "IPY_MODEL_4e906a31db0a414890457e2563c74669"
       ],
       "layout": "IPY_MODEL_3052d1ae3dc149a997947ade1185ba4d"
      }
     },
     "b244ac24cb6c46f498c847643e9a754f": {
      "model_module": "@jupyter-widgets/controls",
      "model_module_version": "1.5.0",
      "model_name": "DescriptionStyleModel",
      "state": {
       "description_width": ""
      }
     },
     "b26ea79547104f72bbb7d86d4bd771f6": {
      "model_module": "@jupyter-widgets/base",
      "model_module_version": "1.2.0",
      "model_name": "LayoutModel",
      "state": {
       "width": "100px"
      }
     },
     "b272a8422d2c421c8783cb60a6e334f1": {
      "model_module": "@jupyter-widgets/base",
      "model_module_version": "1.2.0",
      "model_name": "LayoutModel",
      "state": {}
     },
     "b2827ab913cf4f49b7a4aeebd116396e": {
      "model_module": "@jupyter-widgets/base",
      "model_module_version": "1.2.0",
      "model_name": "LayoutModel",
      "state": {
       "height": "35px",
       "width": "30px"
      }
     },
     "b2a5684ef53740c3afb424f37f96e251": {
      "model_module": "@jupyter-widgets/controls",
      "model_module_version": "1.5.0",
      "model_name": "TextModel",
      "state": {
       "layout": "IPY_MODEL_8642d067baba44c0bf86d09f3f211429",
       "style": "IPY_MODEL_4222790f4af5486bae8b5b7607a72d7f",
       "value": "3"
      }
     },
     "b2a677f9f5f84f7bbdd0f4f2f14964b3": {
      "model_module": "@jupyter-widgets/controls",
      "model_module_version": "1.5.0",
      "model_name": "VBoxModel",
      "state": {
       "children": [
        "IPY_MODEL_f6060de1acf0439cbb41db60dda58aba",
        "IPY_MODEL_d4d73753c111421397fa81c160aeb22f",
        "IPY_MODEL_461f2b6bca3a4e4d90c0c8229748dbd9"
       ],
       "layout": "IPY_MODEL_601193ce09544f8e98fa0004fe059b47"
      }
     },
     "b2b0604d46134161b6ff1301686f5550": {
      "model_module": "@jupyter-widgets/controls",
      "model_module_version": "1.5.0",
      "model_name": "TextModel",
      "state": {
       "layout": "IPY_MODEL_7a607c89a00143a7a0808c95689bf41a",
       "style": "IPY_MODEL_d439cf17d9594c0d8444aa336c93b871",
       "value": "7"
      }
     },
     "b2bf5b1b35004de9a394ff891532194e": {
      "model_module": "@jupyter-widgets/base",
      "model_module_version": "1.2.0",
      "model_name": "LayoutModel",
      "state": {}
     },
     "b2c6b689a1544f63880033ac31eaa48a": {
      "model_module": "@jupyter-widgets/base",
      "model_module_version": "1.2.0",
      "model_name": "LayoutModel",
      "state": {
       "justify_content": "center"
      }
     },
     "b2d30656d4c84d42a12941f1022a15a5": {
      "model_module": "@jupyter-widgets/base",
      "model_module_version": "1.2.0",
      "model_name": "LayoutModel",
      "state": {}
     },
     "b2da0e500b16485c95b72ada479982d8": {
      "model_module": "@jupyter-widgets/controls",
      "model_module_version": "1.5.0",
      "model_name": "HBoxModel",
      "state": {
       "children": [
        "IPY_MODEL_80387b3f03754d14bb2fd63711c3c601",
        "IPY_MODEL_edd10de6b3354b2a9e98cdea7b17e20e"
       ],
       "layout": "IPY_MODEL_9141f2dde1084ea2b324df57759f2d3c"
      }
     },
     "b2dbf900ddbd426cba3e671503d9c310": {
      "model_module": "@jupyter-widgets/controls",
      "model_module_version": "1.5.0",
      "model_name": "DescriptionStyleModel",
      "state": {
       "description_width": ""
      }
     },
     "b2fd1676cfc9432e80f7990cf343bd4e": {
      "model_module": "@jupyter-widgets/controls",
      "model_module_version": "1.5.0",
      "model_name": "TextModel",
      "state": {
       "layout": "IPY_MODEL_dfe771ca3cb647c5ba599a113ad575df",
       "style": "IPY_MODEL_88f2b62e152c4aa4a19547997d5fd4bc",
       "value": "-1"
      }
     },
     "b2fe8e502d674bb58c9543d6a2a9f216": {
      "model_module": "@jupyter-widgets/controls",
      "model_module_version": "1.5.0",
      "model_name": "DropdownModel",
      "state": {
       "_options_labels": [
        "1",
        "2",
        "3"
       ],
       "description": "Add row",
       "index": 1,
       "layout": "IPY_MODEL_daee76bbe16249c0b2d8650affe4b792",
       "style": "IPY_MODEL_105367edda914291845dfc460cd5b5ed"
      }
     },
     "b2ffaba8b497439a942ad036187b964b": {
      "model_module": "@jupyter-widgets/base",
      "model_module_version": "1.2.0",
      "model_name": "LayoutModel",
      "state": {
       "width": "100px"
      }
     },
     "b3087980f9df4a809d553216df4fc908": {
      "model_module": "@jupyter-widgets/controls",
      "model_module_version": "1.5.0",
      "model_name": "ButtonModel",
      "state": {
       "description": "Start",
       "layout": "IPY_MODEL_a483c52dc5a94df8b7f6fb64c0f3c395",
       "style": "IPY_MODEL_eb87a08f228b4899b30e7a7761e4bfd5"
      }
     },
     "b309ff0f0496459bbc8c3bde4a7c3c2c": {
      "model_module": "@jupyter-widgets/controls",
      "model_module_version": "1.5.0",
      "model_name": "DescriptionStyleModel",
      "state": {
       "description_width": ""
      }
     },
     "b3103a9e8afc4b98af6d0da7484a3a22": {
      "model_module": "@jupyter-widgets/base",
      "model_module_version": "1.2.0",
      "model_name": "LayoutModel",
      "state": {}
     },
     "b31e9a90d378404fb6140916190bd4e4": {
      "model_module": "@jupyter-widgets/controls",
      "model_module_version": "1.5.0",
      "model_name": "TextModel",
      "state": {
       "layout": "IPY_MODEL_308f071668994851a29f0ae6fcc0bc14",
       "style": "IPY_MODEL_d51c976462574d398cf26800e349e1f7",
       "value": "4"
      }
     },
     "b365b6ad7e4b44e68374577f3cf2255a": {
      "model_module": "@jupyter-widgets/controls",
      "model_module_version": "1.5.0",
      "model_name": "HTMLMathModel",
      "state": {
       "layout": "IPY_MODEL_4314c83188ac4e56a945b51c7a0bf553",
       "style": "IPY_MODEL_8f97c166a3a147828f83fd7e63178832",
       "value": "The augmented matrix $(\\bf{A}|\\bf{I})$ is:\n $$\\left [\\begin{array}{ rrr|rrr }\n4 & 1 & -2 & 1 & 0 & 0 \\\\\n3 & -1 & 1 & 0 & 1 & 0 \\\\\n1 & -1 & 1 & 0 & 0 & 1\n\\end{array}\\right ] $$ with $\\det A =2$."
      }
     },
     "b3ec3d14d67b48c49ab74ba484a8eedf": {
      "model_module": "@jupyter-widgets/controls",
      "model_module_version": "1.5.0",
      "model_name": "TextModel",
      "state": {
       "layout": "IPY_MODEL_7336bcfb9a2145e9a2df614b1768b15f",
       "style": "IPY_MODEL_5c7bf75963ee46b0bcf3674b34451be4",
       "value": "1"
      }
     },
     "b40eb410e1ce4ac6a5429c652689b637": {
      "model_module": "@jupyter-widgets/controls",
      "model_module_version": "1.5.0",
      "model_name": "DescriptionStyleModel",
      "state": {
       "description_width": ""
      }
     },
     "b4233c1a634145478e2c7712e61c06f3": {
      "model_module": "@jupyter-widgets/controls",
      "model_module_version": "1.5.0",
      "model_name": "DescriptionStyleModel",
      "state": {
       "description_width": ""
      }
     },
     "b44b3024983f4137b8d179db77698459": {
      "model_module": "@jupyter-widgets/base",
      "model_module_version": "1.2.0",
      "model_name": "LayoutModel",
      "state": {}
     },
     "b45cca93b651435b81c2143578b9d4a3": {
      "model_module": "@jupyter-widgets/base",
      "model_module_version": "1.2.0",
      "model_name": "LayoutModel",
      "state": {
       "width": "120px"
      }
     },
     "b46cd9dd6196443db5682258f01d446c": {
      "model_module": "@jupyter-widgets/base",
      "model_module_version": "1.2.0",
      "model_name": "LayoutModel",
      "state": {
       "width": "90px"
      }
     },
     "b46dffe59e25455b8da113a95882f408": {
      "model_module": "@jupyter-widgets/controls",
      "model_module_version": "1.5.0",
      "model_name": "DescriptionStyleModel",
      "state": {
       "description_width": ""
      }
     },
     "b485cfc31de242488a281e5b3b80acfe": {
      "model_module": "@jupyter-widgets/controls",
      "model_module_version": "1.5.0",
      "model_name": "DescriptionStyleModel",
      "state": {
       "description_width": ""
      }
     },
     "b49e025edc384b168e2cc102d10d2f0e": {
      "model_module": "@jupyter-widgets/base",
      "model_module_version": "1.2.0",
      "model_name": "LayoutModel",
      "state": {
       "width": "150px"
      }
     },
     "b4aea46e342b496da1e0c1e683c32a1d": {
      "model_module": "@jupyter-widgets/base",
      "model_module_version": "1.2.0",
      "model_name": "LayoutModel",
      "state": {}
     },
     "b4cfe506c079401380e7671fada31f13": {
      "model_module": "@jupyter-widgets/base",
      "model_module_version": "1.2.0",
      "model_name": "LayoutModel",
      "state": {
       "height": "35px",
       "width": "30px"
      }
     },
     "b4e8bedc66614c2b971638f28f3b0643": {
      "model_module": "@jupyter-widgets/base",
      "model_module_version": "1.2.0",
      "model_name": "LayoutModel",
      "state": {
       "width": "100px"
      }
     },
     "b4f06e8cc3c7472a8364ab43fde2511c": {
      "model_module": "@jupyter-widgets/base",
      "model_module_version": "1.2.0",
      "model_name": "LayoutModel",
      "state": {
       "width": "90px"
      }
     },
     "b528d2b908854d1b97e49c24e26ed163": {
      "model_module": "@jupyter-widgets/controls",
      "model_module_version": "1.5.0",
      "model_name": "DescriptionStyleModel",
      "state": {
       "description_width": ""
      }
     },
     "b52e67fabe904ec8b4df7c5b458608ab": {
      "model_module": "@jupyter-widgets/controls",
      "model_module_version": "1.5.0",
      "model_name": "DescriptionStyleModel",
      "state": {
       "description_width": ""
      }
     },
     "b5412308b42844929ea6cb7509694b92": {
      "model_module": "@jupyter-widgets/base",
      "model_module_version": "1.2.0",
      "model_name": "LayoutModel",
      "state": {}
     },
     "b54771b656be4d48a53bf86e18bf3e9d": {
      "model_module": "@jupyter-widgets/controls",
      "model_module_version": "1.5.0",
      "model_name": "TextModel",
      "state": {
       "layout": "IPY_MODEL_ff8f131091ed4bf49b858ed52bc5b3ea",
       "style": "IPY_MODEL_a2c2aeb39bef4483a29dc15133897d6b",
       "value": "9"
      }
     },
     "b58ecbeb11f34c18baa76e340523697c": {
      "model_module": "@jupyter-widgets/base",
      "model_module_version": "1.2.0",
      "model_name": "LayoutModel",
      "state": {}
     },
     "b5b5373e845840edb6df518a102b0c3e": {
      "model_module": "@jupyter-widgets/controls",
      "model_module_version": "1.5.0",
      "model_name": "TextModel",
      "state": {
       "description": "times",
       "layout": "IPY_MODEL_09a129273cba4f06b64ea60c945e4947",
       "style": "IPY_MODEL_cf9b443a97a94b399498a05b8a802c7b",
       "value": "1"
      }
     },
     "b5bfe1f40a4e4ec9b4908f610e3fc4e7": {
      "model_module": "@jupyter-widgets/controls",
      "model_module_version": "1.5.0",
      "model_name": "DescriptionStyleModel",
      "state": {
       "description_width": ""
      }
     },
     "b5d7c25c558445dfaaaffc58366c83e8": {
      "model_module": "@jupyter-widgets/controls",
      "model_module_version": "1.5.0",
      "model_name": "DescriptionStyleModel",
      "state": {
       "description_width": ""
      }
     },
     "b5dc224c5410477da16dd3bd79fffe9c": {
      "model_module": "@jupyter-widgets/controls",
      "model_module_version": "1.5.0",
      "model_name": "TextModel",
      "state": {
       "layout": "IPY_MODEL_9f4d9e00ae3e470a8d024478444df27d",
       "style": "IPY_MODEL_b309ff0f0496459bbc8c3bde4a7c3c2c",
       "value": "7"
      }
     },
     "b5dd18cb86dc463d9d5ce3758697ea7a": {
      "model_module": "@jupyter-widgets/base",
      "model_module_version": "1.2.0",
      "model_name": "LayoutModel",
      "state": {}
     },
     "b5ec5b1cd97846e1b579d815cfdd562f": {
      "model_module": "@jupyter-widgets/base",
      "model_module_version": "1.2.0",
      "model_name": "LayoutModel",
      "state": {
       "flex_flow": "row wrap",
       "justify_content": "space-around"
      }
     },
     "b5f3b0ebe56a4011a1b5afa3c1b07963": {
      "model_module": "@jupyter-widgets/controls",
      "model_module_version": "1.5.0",
      "model_name": "DescriptionStyleModel",
      "state": {
       "description_width": ""
      }
     },
     "b60a9d5d2d7c4355bc32aca3b805cbf6": {
      "model_module": "@jupyter-widgets/controls",
      "model_module_version": "1.5.0",
      "model_name": "DescriptionStyleModel",
      "state": {
       "description_width": ""
      }
     },
     "b60d45b0b4844496b79cce9e5f215ba8": {
      "model_module": "@jupyter-widgets/controls",
      "model_module_version": "1.5.0",
      "model_name": "DescriptionStyleModel",
      "state": {
       "description_width": ""
      }
     },
     "b6150c63209b4276b3bd02f308092141": {
      "model_module": "@jupyter-widgets/base",
      "model_module_version": "1.2.0",
      "model_name": "LayoutModel",
      "state": {
       "width": "100px"
      }
     },
     "b6464fc260eb4db2b444d092b15c0ccf": {
      "model_module": "@jupyter-widgets/base",
      "model_module_version": "1.2.0",
      "model_name": "LayoutModel",
      "state": {
       "flex_flow": "row wrap",
       "justify_content": "space-around"
      }
     },
     "b64bc98b17b94d6a984b411e34c31e75": {
      "model_module": "@jupyter-widgets/controls",
      "model_module_version": "1.5.0",
      "model_name": "HBoxModel",
      "state": {
       "children": [
        "IPY_MODEL_a43d7154604b47cfa0f4d17c1b5c513a",
        "IPY_MODEL_aa871fbba6ad4491b6b9b2032c095a00"
       ],
       "layout": "IPY_MODEL_b3103a9e8afc4b98af6d0da7484a3a22"
      }
     },
     "b64f59a203764a89af5a45834e8cc53f": {
      "model_module": "@jupyter-widgets/controls",
      "model_module_version": "1.5.0",
      "model_name": "HTMLMathModel",
      "state": {
       "layout": "IPY_MODEL_fc2e8b14472a49538b44e494859dde65",
       "style": "IPY_MODEL_faf8d511d6da4abd99879cdb6e7d70a4",
       "value": "The augmented matrix $(\\bf{A}|\\bf{B})$ will appear here."
      }
     },
     "b674b130b01948a1967559211c4f32cf": {
      "model_module": "@jupyter-widgets/controls",
      "model_module_version": "1.5.0",
      "model_name": "TextModel",
      "state": {
       "layout": "IPY_MODEL_24e52a9da5f64680833f56257412e632",
       "style": "IPY_MODEL_7c4d15c3fa72493cb98a0cc1cf1a8427",
       "value": "-1"
      }
     },
     "b690ed8b742a4bc292fd270f6229f2a7": {
      "model_module": "@jupyter-widgets/base",
      "model_module_version": "1.2.0",
      "model_name": "LayoutModel",
      "state": {}
     },
     "b69d67ac313a40b0bb50cb9e51bc7bfe": {
      "model_module": "@jupyter-widgets/controls",
      "model_module_version": "1.5.0",
      "model_name": "HBoxModel",
      "state": {
       "children": [
        "IPY_MODEL_0a02e7b644da470cb73ee9aba198f096",
        "IPY_MODEL_97443628219a4546b47dd3d531819942",
        "IPY_MODEL_9c307432a46441c1865d286171269841"
       ],
       "layout": "IPY_MODEL_b74f316e014b4045b117946e3e23f29a"
      }
     },
     "b6b1e0fd5f0a452183d21e8c04c7a767": {
      "model_module": "@jupyter-widgets/controls",
      "model_module_version": "1.5.0",
      "model_name": "BoxModel",
      "state": {
       "children": [
        "IPY_MODEL_ff950e31222a4f1ab614294935274c32",
        "IPY_MODEL_93afcd4a20a844269625caff03d002a4",
        "IPY_MODEL_68307ad28a194411b9815a24bf44e468"
       ],
       "layout": "IPY_MODEL_640b0d9c6d284a918ba3f5e88b82621d"
      }
     },
     "b6b60cbc42eb4f28a2b472a8894c41de": {
      "model_module": "@jupyter-widgets/controls",
      "model_module_version": "1.5.0",
      "model_name": "DescriptionStyleModel",
      "state": {
       "description_width": ""
      }
     },
     "b6bdcae37f5f418ebe6da89918d6748a": {
      "model_module": "@jupyter-widgets/base",
      "model_module_version": "1.2.0",
      "model_name": "LayoutModel",
      "state": {
       "width": "90px"
      }
     },
     "b6befaa6d48c49228952fa04bfdea4d8": {
      "model_module": "@jupyter-widgets/base",
      "model_module_version": "1.2.0",
      "model_name": "LayoutModel",
      "state": {}
     },
     "b6c88ee779944499829f6d6f352b0e65": {
      "model_module": "@jupyter-widgets/controls",
      "model_module_version": "1.5.0",
      "model_name": "TextModel",
      "state": {
       "layout": "IPY_MODEL_f28c3c7f5ced4384b8a9eca6bc4c00fd",
       "style": "IPY_MODEL_668d1b7ee9574d808ac10157acf3a793",
       "value": "2"
      }
     },
     "b71a1c4e2bef4baba58bcdc3b74c23f9": {
      "model_module": "@jupyter-widgets/controls",
      "model_module_version": "1.5.0",
      "model_name": "HTMLModel",
      "state": {
       "layout": "IPY_MODEL_0dab27311a574510a4e8775960744879",
       "style": "IPY_MODEL_d2975ec20bc64de584422d5b03eb5b92",
       "value": "Click the button below to start the calculator"
      }
     },
     "b728c9014fa14742b664d1ff356cfe32": {
      "model_module": "@jupyter-widgets/controls",
      "model_module_version": "1.5.0",
      "model_name": "HTMLMathModel",
      "state": {
       "layout": "IPY_MODEL_fb6b64ad8dac4819b7b996f2752a4970",
       "style": "IPY_MODEL_a03bc017a49840339e22a299913355a4",
       "value": "Enter here the values of the right hand side vector $b$"
      }
     },
     "b72a40ca03ab4d5295ed82f3cc5654d8": {
      "model_module": "@jupyter-widgets/base",
      "model_module_version": "1.2.0",
      "model_name": "LayoutModel",
      "state": {}
     },
     "b7373a91cc744547aa954fb91c400a77": {
      "model_module": "@jupyter-widgets/controls",
      "model_module_version": "1.5.0",
      "model_name": "DropdownModel",
      "state": {
       "_options_labels": [
        "1",
        "2",
        "3"
       ],
       "description": "Add row",
       "index": 0,
       "layout": "IPY_MODEL_a42997bab69646339a8fd2cf0039062b",
       "style": "IPY_MODEL_0f6e25d4e68d4f7999e7fe387dc379ea"
      }
     },
     "b73a47a6949b4fbb9c457e60eb20b552": {
      "model_module": "@jupyter-widgets/base",
      "model_module_version": "1.2.0",
      "model_name": "LayoutModel",
      "state": {
       "width": "100px"
      }
     },
     "b74f316e014b4045b117946e3e23f29a": {
      "model_module": "@jupyter-widgets/base",
      "model_module_version": "1.2.0",
      "model_name": "LayoutModel",
      "state": {}
     },
     "b773511b817b4faa8d10821a2846f86f": {
      "model_module": "@jupyter-widgets/controls",
      "model_module_version": "1.5.0",
      "model_name": "DescriptionStyleModel",
      "state": {
       "description_width": ""
      }
     },
     "b7776b8c4c6b4d89a60e46a4b3fbf5eb": {
      "model_module": "@jupyter-widgets/controls",
      "model_module_version": "1.5.0",
      "model_name": "HBoxModel",
      "state": {
       "children": [
        "IPY_MODEL_afdd063b9fc44fdaa6dac4d26eec807e",
        "IPY_MODEL_f672c930fbb1405abd7774618075988e",
        "IPY_MODEL_90aef78a96ce4d1194b547d6f2f55ffa"
       ],
       "layout": "IPY_MODEL_1eba5f7167cd49e6aae4447eb467570d"
      }
     },
     "b79a6222ceb24a419585eace47c694cb": {
      "model_module": "@jupyter-widgets/controls",
      "model_module_version": "1.5.0",
      "model_name": "DescriptionStyleModel",
      "state": {
       "description_width": ""
      }
     },
     "b7a541c5631e49ef9425b932d8dd1292": {
      "model_module": "@jupyter-widgets/base",
      "model_module_version": "1.2.0",
      "model_name": "LayoutModel",
      "state": {
       "width": "100px"
      }
     },
     "b7b97898865c4da18bca7711338bf060": {
      "model_module": "@jupyter-widgets/controls",
      "model_module_version": "1.5.0",
      "model_name": "DescriptionStyleModel",
      "state": {
       "description_width": ""
      }
     },
     "b7da8f54f02c424b821fad8d542b1de4": {
      "model_module": "@jupyter-widgets/base",
      "model_module_version": "1.2.0",
      "model_name": "LayoutModel",
      "state": {}
     },
     "b7ddd141d01440f285de3eb73ff2686b": {
      "model_module": "@jupyter-widgets/controls",
      "model_module_version": "1.5.0",
      "model_name": "TextModel",
      "state": {
       "description": "times",
       "layout": "IPY_MODEL_eb030789050644a98f4b9c88d777183d",
       "style": "IPY_MODEL_7f9c7fb60b604cdc88c8d9656091e9c8",
       "value": "1"
      }
     },
     "b819b7e951dc4772a502acb8334e65d5": {
      "model_module": "@jupyter-widgets/controls",
      "model_module_version": "1.5.0",
      "model_name": "VBoxModel",
      "state": {
       "children": [
        "IPY_MODEL_635633f677294ef58c93d08fa63aad67",
        "IPY_MODEL_1c59818f6bc749f799514eb3e286928d"
       ],
       "layout": "IPY_MODEL_3d6a69f414b14bd7b650adb0654bdd98"
      }
     },
     "b81fd4a43d3b442aa7b8db387eb66b18": {
      "model_module": "@jupyter-widgets/controls",
      "model_module_version": "1.5.0",
      "model_name": "DescriptionStyleModel",
      "state": {
       "description_width": ""
      }
     },
     "b820f3a43f2f4aa19c0263da9b1dad60": {
      "model_module": "@jupyter-widgets/controls",
      "model_module_version": "1.5.0",
      "model_name": "DescriptionStyleModel",
      "state": {
       "description_width": ""
      }
     },
     "b83654dbe6154a2ea6780feff2354ae0": {
      "model_module": "@jupyter-widgets/controls",
      "model_module_version": "1.5.0",
      "model_name": "DescriptionStyleModel",
      "state": {
       "description_width": ""
      }
     },
     "b83fd4ae545a4265809440b66acf2ecb": {
      "model_module": "@jupyter-widgets/base",
      "model_module_version": "1.2.0",
      "model_name": "LayoutModel",
      "state": {
       "width": "150px"
      }
     },
     "b85305a20b1b4a4f807aeebc03c16d4e": {
      "model_module": "@jupyter-widgets/base",
      "model_module_version": "1.2.0",
      "model_name": "LayoutModel",
      "state": {}
     },
     "b872929a130941e09564239fed7eb104": {
      "model_module": "@jupyter-widgets/base",
      "model_module_version": "1.2.0",
      "model_name": "LayoutModel",
      "state": {
       "width": "150px"
      }
     },
     "b875b9a36324497aa2132759ec1673d6": {
      "model_module": "@jupyter-widgets/controls",
      "model_module_version": "1.5.0",
      "model_name": "DropdownModel",
      "state": {
       "_options_labels": [
        "1",
        "2",
        "3"
       ],
       "description": "Add row",
       "index": 0,
       "layout": "IPY_MODEL_7cbb5ebfeb45473fb78af99fabc58d24",
       "style": "IPY_MODEL_2713a253450d495d8a0a44dad3954860"
      }
     },
     "b87ac92d7e95498c926b8cba5a8b7ee5": {
      "model_module": "@jupyter-widgets/base",
      "model_module_version": "1.2.0",
      "model_name": "LayoutModel",
      "state": {}
     },
     "b87caeeafffd4c5ab8f0d6ec665b8d4e": {
      "model_module": "@jupyter-widgets/controls",
      "model_module_version": "1.5.0",
      "model_name": "HTMLMathModel",
      "state": {
       "layout": "IPY_MODEL_761265acf45546c38b009da957086831",
       "style": "IPY_MODEL_596c323d9ab54c17a2ee73511dda6fb2",
       "value": "Enter here the values of the matrix $A$"
      }
     },
     "b88433ee3f2e4fad97a6181a28efa23f": {
      "model_module": "@jupyter-widgets/controls",
      "model_module_version": "1.5.0",
      "model_name": "TextModel",
      "state": {
       "layout": "IPY_MODEL_109f6d462a004bdd9a95542348d778f8",
       "style": "IPY_MODEL_14f522fd2fd24732bc86a5515bfabd50",
       "value": "-6"
      }
     },
     "b8d80dd6495f4d78899d5a653e89b8e2": {
      "model_module": "@jupyter-widgets/base",
      "model_module_version": "1.2.0",
      "model_name": "LayoutModel",
      "state": {}
     },
     "b8f9c71b4fd34c4da917dc2553cf6e20": {
      "model_module": "@jupyter-widgets/controls",
      "model_module_version": "1.5.0",
      "model_name": "DescriptionStyleModel",
      "state": {
       "description_width": ""
      }
     },
     "b927e4294283456c9a036b73b0eb8531": {
      "model_module": "@jupyter-widgets/controls",
      "model_module_version": "1.5.0",
      "model_name": "BoxModel",
      "state": {
       "children": [
        "IPY_MODEL_99441ff72fda4f91aa7f34e23eebb138",
        "IPY_MODEL_4be9f3f43bc743ec86e193fa7296f488",
        "IPY_MODEL_5c41e05133a8474dbd879de17b0e9983"
       ],
       "layout": "IPY_MODEL_c2d9a8bb18c2457c86a2aa25312cc7a5"
      }
     },
     "b945cd11dba949a1b2a67e6adfd1f5a9": {
      "model_module": "@jupyter-widgets/controls",
      "model_module_version": "1.5.0",
      "model_name": "VBoxModel",
      "state": {
       "children": [
        "IPY_MODEL_85e9a700cc7a4effaf2d19b4d0e2804a",
        "IPY_MODEL_9ad64602bb1543e7907fe8c6739345cb",
        "IPY_MODEL_5a436bac695845b382ab0b67241af013"
       ],
       "layout": "IPY_MODEL_4e4b7a49bb2a4c3f9c0b5c2f47945a18"
      }
     },
     "b94963d0a1434b1e984ef602f8059bb1": {
      "model_module": "@jupyter-widgets/controls",
      "model_module_version": "1.5.0",
      "model_name": "HBoxModel",
      "state": {
       "children": [
        "IPY_MODEL_844b37e96d92458f8dfee75f60f6efad",
        "IPY_MODEL_1c473fa3fa084f6fb6f32f4f09d42d23"
       ],
       "layout": "IPY_MODEL_ea061cdc7a824fd3ad0b823444d348fd"
      }
     },
     "b95d9576413f4b89b29d4a1d68b1f97a": {
      "model_module": "@jupyter-widgets/controls",
      "model_module_version": "1.5.0",
      "model_name": "DescriptionStyleModel",
      "state": {
       "description_width": ""
      }
     },
     "b9631cba1d2d4fcaa434ecc2b2274074": {
      "model_module": "@jupyter-widgets/controls",
      "model_module_version": "1.5.0",
      "model_name": "VBoxModel",
      "state": {
       "children": [
        "IPY_MODEL_06f5fe5bc9534d6e8d7adbf04c081b11",
        "IPY_MODEL_a03cb5bbc7f4420fabeb26bbb3614ff6"
       ],
       "layout": "IPY_MODEL_6e939921766a4f98b752e8b4d0b93b35"
      }
     },
     "b988c113dbf14e86a1715061c72c7152": {
      "model_module": "@jupyter-widgets/controls",
      "model_module_version": "1.5.0",
      "model_name": "VBoxModel",
      "state": {
       "children": [
        "IPY_MODEL_b5dc224c5410477da16dd3bd79fffe9c",
        "IPY_MODEL_c2099aa3093f46cfb774d334922b2c70",
        "IPY_MODEL_b1b400f7a9db48c7b220f38e3f214f0c"
       ],
       "layout": "IPY_MODEL_de35fe9b2c7742e8a5ed676bf0bfb35b"
      }
     },
     "b9b78ce0d8454ab9a46163f0cc35fd0d": {
      "model_module": "@jupyter-widgets/base",
      "model_module_version": "1.2.0",
      "model_name": "LayoutModel",
      "state": {}
     },
     "b9bfc06ef81a4d948c954bef22443ab8": {
      "model_module": "@jupyter-widgets/controls",
      "model_module_version": "1.5.0",
      "model_name": "DescriptionStyleModel",
      "state": {
       "description_width": ""
      }
     },
     "b9fcafe4daa3425eb76f8273bec8165f": {
      "model_module": "@jupyter-widgets/controls",
      "model_module_version": "1.5.0",
      "model_name": "DropdownModel",
      "state": {
       "_options_labels": [
        "1",
        "2",
        "3"
       ],
       "description": "to row",
       "index": 1,
       "layout": "IPY_MODEL_e00f54ed89a2476b85ea824e0b6f4448",
       "style": "IPY_MODEL_180e518928984c238e151e47659d3495"
      }
     },
     "ba8cd49bacb04688b8bcefd59cd2415b": {
      "model_module": "@jupyter-widgets/base",
      "model_module_version": "1.2.0",
      "model_name": "LayoutModel",
      "state": {}
     },
     "ba9d8ed3affd4cce956a957e92fc06ba": {
      "model_module": "@jupyter-widgets/controls",
      "model_module_version": "1.5.0",
      "model_name": "TextModel",
      "state": {
       "layout": "IPY_MODEL_f28c3c7f5ced4384b8a9eca6bc4c00fd",
       "style": "IPY_MODEL_4936dc93e93b4ac1939a2d158ae5a110",
       "value": "-6"
      }
     },
     "baae6d59497b41ca8a0c653931e5c3cc": {
      "model_module": "@jupyter-widgets/controls",
      "model_module_version": "1.5.0",
      "model_name": "ButtonStyleModel",
      "state": {}
     },
     "bab1f6c2766b44c2a3abf090e834a017": {
      "model_module": "@jupyter-widgets/controls",
      "model_module_version": "1.5.0",
      "model_name": "HTMLMathModel",
      "state": {
       "layout": "IPY_MODEL_dfb4b9bb1cdd4683b59a937680e9639c",
       "style": "IPY_MODEL_1ad478fb93ac455096f343ff66be9ccf",
       "value": "Enter here the values of the matrix $A$"
      }
     },
     "babab35465b645f0803cf29485f5c1fa": {
      "model_module": "@jupyter-widgets/base",
      "model_module_version": "1.2.0",
      "model_name": "LayoutModel",
      "state": {}
     },
     "bac10775295a487b9fc668f21c98b972": {
      "model_module": "@jupyter-widgets/controls",
      "model_module_version": "1.5.0",
      "model_name": "BoxModel",
      "state": {
       "children": [
        "IPY_MODEL_692e5e6603824ec087da17330943d3c1",
        "IPY_MODEL_67e53a76fe0e47208b000762cfc63c19",
        "IPY_MODEL_60bd95c31596400e8b6cf1a57ce8cb87"
       ],
       "layout": "IPY_MODEL_2651fe566279451baa34d2b1a40aaf6b"
      }
     },
     "bac5b3b35b4f4ab1ae0960c1418f763f": {
      "model_module": "@jupyter-widgets/base",
      "model_module_version": "1.2.0",
      "model_name": "LayoutModel",
      "state": {
       "height": "300px",
       "justify_content": "center"
      }
     },
     "baceb057f2824a32bfd1a299b8c9f0ca": {
      "model_module": "@jupyter-widgets/base",
      "model_module_version": "1.2.0",
      "model_name": "LayoutModel",
      "state": {
       "width": "90px"
      }
     },
     "bafb335991f74acdaca6e33ab45d60a6": {
      "model_module": "@jupyter-widgets/controls",
      "model_module_version": "1.5.0",
      "model_name": "HTMLMathModel",
      "state": {
       "layout": "IPY_MODEL_a870f50104284ac3b1f8d56b2790f4bb",
       "style": "IPY_MODEL_15369d6e49984de4a53e22d903185d7c",
       "value": "Enter here the values of the right hand side vector $b$"
      }
     },
     "bb3ca6c9d4354a9d93091eae41438699": {
      "model_module": "@jupyter-widgets/controls",
      "model_module_version": "1.5.0",
      "model_name": "DescriptionStyleModel",
      "state": {
       "description_width": ""
      }
     },
     "bb4f33fd2a024edbab12b5091188895c": {
      "model_module": "@jupyter-widgets/base",
      "model_module_version": "1.2.0",
      "model_name": "LayoutModel",
      "state": {}
     },
     "bba377566f814d8798656e5f02cd836f": {
      "model_module": "@jupyter-widgets/controls",
      "model_module_version": "1.5.0",
      "model_name": "TextModel",
      "state": {
       "layout": "IPY_MODEL_f73078d706924fb0a75d30fb0655ac85",
       "style": "IPY_MODEL_5a1bb1869bd0497d8035a804a8a55899",
       "value": "3"
      }
     },
     "bba58beff2704be5a8a1e6606af679a0": {
      "model_module": "@jupyter-widgets/controls",
      "model_module_version": "1.5.0",
      "model_name": "DescriptionStyleModel",
      "state": {
       "description_width": ""
      }
     },
     "bbbba68533d7458589b5f23bdb521bb9": {
      "model_module": "@jupyter-widgets/base",
      "model_module_version": "1.2.0",
      "model_name": "LayoutModel",
      "state": {}
     },
     "bbc8c3f625e04239b88ebed60d75bee3": {
      "model_module": "@jupyter-widgets/controls",
      "model_module_version": "1.5.0",
      "model_name": "ButtonStyleModel",
      "state": {}
     },
     "bbfa983be5714b3cacf1f1687e9f34de": {
      "model_module": "@jupyter-widgets/base",
      "model_module_version": "1.2.0",
      "model_name": "LayoutModel",
      "state": {
       "width": "100px"
      }
     },
     "bc5b8dfec5ea462e831759ae0fc061f2": {
      "model_module": "@jupyter-widgets/base",
      "model_module_version": "1.2.0",
      "model_name": "LayoutModel",
      "state": {}
     },
     "bc6ef12b830b4e6f86e10966e090a3d6": {
      "model_module": "@jupyter-widgets/base",
      "model_module_version": "1.2.0",
      "model_name": "LayoutModel",
      "state": {}
     },
     "bc797ff1ee394d8e9b402427e646a34d": {
      "model_module": "@jupyter-widgets/base",
      "model_module_version": "1.2.0",
      "model_name": "LayoutModel",
      "state": {
       "width": "150px"
      }
     },
     "bc9ce607a3e842f399c67598a54e8dbe": {
      "model_module": "@jupyter-widgets/controls",
      "model_module_version": "1.5.0",
      "model_name": "BoxModel",
      "state": {
       "children": [
        "IPY_MODEL_fd9dc18e3e534d57a3a5c1683fb6adbc",
        "IPY_MODEL_9dc76bbe6c1d4d11b03eb0374dfcccb5",
        "IPY_MODEL_24f3b6a6852542fcafa7522a595f43a1",
        "IPY_MODEL_ecb53aaf49a74ce0bd882d4f806c15cd"
       ],
       "layout": "IPY_MODEL_6e7363e8017c44daad8b9d164d011131"
      }
     },
     "bd118836cd034951a20b41d3ada4418b": {
      "model_module": "@jupyter-widgets/controls",
      "model_module_version": "1.5.0",
      "model_name": "DescriptionStyleModel",
      "state": {
       "description_width": ""
      }
     },
     "bd2273473ed94c6ea91bc9f88282e08c": {
      "model_module": "@jupyter-widgets/controls",
      "model_module_version": "1.5.0",
      "model_name": "HTMLMathModel",
      "state": {
       "layout": "IPY_MODEL_fc71c956adf0406e9e9a1a195b1a173b",
       "style": "IPY_MODEL_7947974f472448cab52d5367e18d4d16",
       "value": "The augmented matrix will appear here."
      }
     },
     "bd2444d907a348b18d6b66ff7e5a4643": {
      "model_module": "@jupyter-widgets/controls",
      "model_module_version": "1.5.0",
      "model_name": "TextModel",
      "state": {
       "layout": "IPY_MODEL_e60a861eca344ffe9430ae66e253e656",
       "style": "IPY_MODEL_e1b0b57c891c4a51abd0368b0592f337",
       "value": "-2"
      }
     },
     "bd34cf3c22034811990da6fab58469be": {
      "model_module": "@jupyter-widgets/base",
      "model_module_version": "1.2.0",
      "model_name": "LayoutModel",
      "state": {}
     },
     "bd7a7e5e032c4a71be00bbfc02ac8080": {
      "model_module": "@jupyter-widgets/controls",
      "model_module_version": "1.5.0",
      "model_name": "HTMLMathModel",
      "state": {
       "layout": "IPY_MODEL_cfcaef2dd3094d5b98e09ffd0df8b0bb",
       "style": "IPY_MODEL_7e610db10e6b42eebc37e0319450dd5d",
       "value": "Enter here the values of the matrix $A$"
      }
     },
     "bd838b6228b34498a45d5b9542932568": {
      "model_module": "@jupyter-widgets/controls",
      "model_module_version": "1.5.0",
      "model_name": "TextModel",
      "state": {
       "layout": "IPY_MODEL_35e7cd5dc3a344c7867ddf08fc7e1130",
       "style": "IPY_MODEL_4d215c88febe40f3a985280ae9a17bd0",
       "value": " 9"
      }
     },
     "bd98f4ac961c4abb9023a3754468fded": {
      "model_module": "@jupyter-widgets/controls",
      "model_module_version": "1.5.0",
      "model_name": "BoxModel",
      "state": {
       "children": [
        "IPY_MODEL_ebb14017cbde40269139927156f7ed6e",
        "IPY_MODEL_4f503c1a743d448384680b86b903ba18",
        "IPY_MODEL_9a9ce989b08d453e9ce9f5b62a3121b6"
       ],
       "layout": "IPY_MODEL_fc09d5b49ceb4b83badf04ae1467f30c"
      }
     },
     "bd9d47a6081e4b82b99007bbffcc5266": {
      "model_module": "@jupyter-widgets/base",
      "model_module_version": "1.2.0",
      "model_name": "LayoutModel",
      "state": {}
     },
     "bd9e4e39c0f145f29ea1a5da6f08d394": {
      "model_module": "@jupyter-widgets/controls",
      "model_module_version": "1.5.0",
      "model_name": "DescriptionStyleModel",
      "state": {
       "description_width": ""
      }
     },
     "bda164a7675c4815915aab80fb22cbd5": {
      "model_module": "@jupyter-widgets/controls",
      "model_module_version": "1.5.0",
      "model_name": "TextModel",
      "state": {
       "layout": "IPY_MODEL_f28c3c7f5ced4384b8a9eca6bc4c00fd",
       "style": "IPY_MODEL_a740ff59eb3649808f9461627980463a",
       "value": "2"
      }
     },
     "bdef2a0a52ae4e97a1bee792a020dc65": {
      "model_module": "@jupyter-widgets/controls",
      "model_module_version": "1.5.0",
      "model_name": "HTMLModel",
      "state": {
       "layout": "IPY_MODEL_e530640bb6a244e2b64e8de0d4598a90",
       "style": "IPY_MODEL_20f2323de88c4f828e3ed4f1c2e3ab40",
       "value": "Click the button below to start the calculator"
      }
     },
     "be356a7292af445c92c5bfbd147f4f70": {
      "model_module": "@jupyter-widgets/controls",
      "model_module_version": "1.5.0",
      "model_name": "TextModel",
      "state": {
       "layout": "IPY_MODEL_36d600bb3cb144de8da56ca358490108",
       "style": "IPY_MODEL_bd118836cd034951a20b41d3ada4418b",
       "value": "1"
      }
     },
     "be6616b7fa8a4a69bfe79867e7822993": {
      "model_module": "@jupyter-widgets/base",
      "model_module_version": "1.2.0",
      "model_name": "LayoutModel",
      "state": {
       "width": "150px"
      }
     },
     "bf0dc975693f4895844fa486730a0835": {
      "model_module": "@jupyter-widgets/base",
      "model_module_version": "1.2.0",
      "model_name": "LayoutModel",
      "state": {}
     },
     "bf133051f9c242d5961ba3c7aa41f595": {
      "model_module": "@jupyter-widgets/controls",
      "model_module_version": "1.5.0",
      "model_name": "DescriptionStyleModel",
      "state": {
       "description_width": ""
      }
     },
     "bf19d37ce82543eeac16b839c05cbdd4": {
      "model_module": "@jupyter-widgets/controls",
      "model_module_version": "1.5.0",
      "model_name": "DescriptionStyleModel",
      "state": {
       "description_width": ""
      }
     },
     "bf2624d83eb44ff6990539a3b668cce6": {
      "model_module": "@jupyter-widgets/controls",
      "model_module_version": "1.5.0",
      "model_name": "DescriptionStyleModel",
      "state": {
       "description_width": ""
      }
     },
     "bf46c6dbb2e34af59709fa94ffecf80a": {
      "model_module": "@jupyter-widgets/base",
      "model_module_version": "1.2.0",
      "model_name": "LayoutModel",
      "state": {}
     },
     "bf470fc58914473bb9de9c9d91b1f8da": {
      "model_module": "@jupyter-widgets/controls",
      "model_module_version": "1.5.0",
      "model_name": "TextModel",
      "state": {
       "layout": "IPY_MODEL_35e7cd5dc3a344c7867ddf08fc7e1130",
       "style": "IPY_MODEL_7904caf4ba6a48028da2e9afd26c9973",
       "value": " 5"
      }
     },
     "bf57719d8a064b1c929e5ca64241b877": {
      "model_module": "@jupyter-widgets/controls",
      "model_module_version": "1.5.0",
      "model_name": "TextModel",
      "state": {
       "layout": "IPY_MODEL_c0d9a1b66a034d3c880457f50a593771",
       "style": "IPY_MODEL_5e8e30a868a0428ea1c5a6d690bf2c07",
       "value": "1"
      }
     },
     "bfb0bf4b8aa649a4bcd61a69177be072": {
      "model_module": "@jupyter-widgets/base",
      "model_module_version": "1.2.0",
      "model_name": "LayoutModel",
      "state": {
       "width": "150px"
      }
     },
     "bfbe2a03bc8b4a278fd13b513823dee6": {
      "model_module": "@jupyter-widgets/controls",
      "model_module_version": "1.5.0",
      "model_name": "ButtonStyleModel",
      "state": {}
     },
     "bfc58a432ec6425abf68bf907943b5b6": {
      "model_module": "@jupyter-widgets/base",
      "model_module_version": "1.2.0",
      "model_name": "LayoutModel",
      "state": {
       "width": "300px"
      }
     },
     "bfe90f0b088e4744841d9615494c5524": {
      "model_module": "@jupyter-widgets/controls",
      "model_module_version": "1.5.0",
      "model_name": "HTMLMathModel",
      "state": {
       "layout": "IPY_MODEL_215dfe54c4e344daae05088a2c266042",
       "style": "IPY_MODEL_1ea4034f4b944ea2b8195289feca344b",
       "value": "The augmented matrix is:\n    $$\n    \\left[ \\begin{array}{rrr|r}\n         2 & -6 &  1 &  7\\\\\n         1 &  2 & -1 & -1\\\\\n         5 &  7 & -4 &  9\n    \\end{array} \\right]\n    $$"
      }
     },
     "bfea0087592c47d5b56c0958c0d49ec1": {
      "model_module": "@jupyter-widgets/controls",
      "model_module_version": "1.5.0",
      "model_name": "DescriptionStyleModel",
      "state": {
       "description_width": ""
      }
     },
     "bff12ca03f2f477b8df56827cfc9aca5": {
      "model_module": "@jupyter-widgets/controls",
      "model_module_version": "1.5.0",
      "model_name": "TextModel",
      "state": {
       "layout": "IPY_MODEL_ff8f131091ed4bf49b858ed52bc5b3ea",
       "style": "IPY_MODEL_e08bd86acfe3404e8b16421bf5343fba",
       "value": "5"
      }
     },
     "c0087dcef37d4938880a2c50087ae282": {
      "model_module": "@jupyter-widgets/base",
      "model_module_version": "1.2.0",
      "model_name": "LayoutModel",
      "state": {
       "width": "100px"
      }
     },
     "c02d8f1652314e80a48eff63e69d1ccc": {
      "model_module": "@jupyter-widgets/controls",
      "model_module_version": "1.5.0",
      "model_name": "DescriptionStyleModel",
      "state": {
       "description_width": ""
      }
     },
     "c02f467855d4488e8814190ca5bdc237": {
      "model_module": "@jupyter-widgets/base",
      "model_module_version": "1.2.0",
      "model_name": "LayoutModel",
      "state": {
       "width": "150px"
      }
     },
     "c056a79e780d43c89b62fbe55fbe56f4": {
      "model_module": "@jupyter-widgets/base",
      "model_module_version": "1.2.0",
      "model_name": "LayoutModel",
      "state": {
       "width": "150px"
      }
     },
     "c0837313dafa45fd91fc70e417337efa": {
      "model_module": "@jupyter-widgets/controls",
      "model_module_version": "1.5.0",
      "model_name": "DescriptionStyleModel",
      "state": {
       "description_width": ""
      }
     },
     "c09feacfe187483a91c6c881344ac4d9": {
      "model_module": "@jupyter-widgets/controls",
      "model_module_version": "1.5.0",
      "model_name": "TextModel",
      "state": {
       "layout": "IPY_MODEL_fc4b7699475642ecb4c02ebf24f1e6a2",
       "style": "IPY_MODEL_de19fa6b05ab4983b8ea4702fe34d5b7",
       "value": "-1"
      }
     },
     "c0cc098bac7549dcbc8671cc9a2cae55": {
      "model_module": "@jupyter-widgets/controls",
      "model_module_version": "1.5.0",
      "model_name": "DescriptionStyleModel",
      "state": {
       "description_width": ""
      }
     },
     "c0d9a1b66a034d3c880457f50a593771": {
      "model_module": "@jupyter-widgets/base",
      "model_module_version": "1.2.0",
      "model_name": "LayoutModel",
      "state": {
       "height": "35px",
       "width": "40px"
      }
     },
     "c0f03013f8974e06b203201dad818da6": {
      "model_module": "@jupyter-widgets/base",
      "model_module_version": "1.2.0",
      "model_name": "LayoutModel",
      "state": {
       "width": "100px"
      }
     },
     "c0fb1e1a391d4fad8b2d6ee4d6f25b74": {
      "model_module": "@jupyter-widgets/controls",
      "model_module_version": "1.5.0",
      "model_name": "DescriptionStyleModel",
      "state": {
       "description_width": ""
      }
     },
     "c104f04f9ad14ad4a1bcf1ffc82da033": {
      "model_module": "@jupyter-widgets/base",
      "model_module_version": "1.2.0",
      "model_name": "LayoutModel",
      "state": {
       "justify_content": "center"
      }
     },
     "c109d38ccecf4c9585de6618fa019cc0": {
      "model_module": "@jupyter-widgets/controls",
      "model_module_version": "1.5.0",
      "model_name": "VBoxModel",
      "state": {
       "children": [
        "IPY_MODEL_dde73826070941f6814a6b6ec9908fa6",
        "IPY_MODEL_73eeb7a0691f4f6b8b70696029b646c9",
        "IPY_MODEL_faae52dda3494495b6323d4a61aea26d"
       ],
       "layout": "IPY_MODEL_57c9287ea21844059f0111d9661b2beb"
      }
     },
     "c1181e38393442cdbfda45760c255e86": {
      "model_module": "@jupyter-widgets/controls",
      "model_module_version": "1.5.0",
      "model_name": "DescriptionStyleModel",
      "state": {
       "description_width": ""
      }
     },
     "c13fea0473ae42148fc39ccb1ab0cc21": {
      "model_module": "@jupyter-widgets/base",
      "model_module_version": "1.2.0",
      "model_name": "LayoutModel",
      "state": {
       "width": "150px"
      }
     },
     "c14d3d7f3cda4370b99048bcbeae02a1": {
      "model_module": "@jupyter-widgets/controls",
      "model_module_version": "1.5.0",
      "model_name": "DescriptionStyleModel",
      "state": {
       "description_width": ""
      }
     },
     "c15c8aa9f302432888f362099dbeabb7": {
      "model_module": "@jupyter-widgets/controls",
      "model_module_version": "1.5.0",
      "model_name": "DescriptionStyleModel",
      "state": {
       "description_width": ""
      }
     },
     "c18c537bfbad433098fff95f60f82f47": {
      "model_module": "@jupyter-widgets/controls",
      "model_module_version": "1.5.0",
      "model_name": "DescriptionStyleModel",
      "state": {
       "description_width": ""
      }
     },
     "c19e9cf7ae3f4efeaf7bc4b6b325e7b2": {
      "model_module": "@jupyter-widgets/controls",
      "model_module_version": "1.5.0",
      "model_name": "TextModel",
      "state": {
       "layout": "IPY_MODEL_a6b672bf88094d8fa8327c74293c6a55",
       "style": "IPY_MODEL_96fce22b49874b799fe61902fd5c9a6c",
       "value": "2"
      }
     },
     "c1b3196aeabe42a7b32146204e076d5a": {
      "model_module": "@jupyter-widgets/controls",
      "model_module_version": "1.5.0",
      "model_name": "TextModel",
      "state": {
       "layout": "IPY_MODEL_342fbdc31d2d406489b24d1349c22e03",
       "style": "IPY_MODEL_f894ccd4e76e4fde8b8c85f85e117e82",
       "value": "1"
      }
     },
     "c1c7d41dc06e4d67b6f3723f464b9850": {
      "model_module": "@jupyter-widgets/controls",
      "model_module_version": "1.5.0",
      "model_name": "VBoxModel",
      "state": {
       "children": [
        "IPY_MODEL_947b84b12e164bfca734f46861bbf3d6",
        "IPY_MODEL_339aab08b6094045bddd14a39999ae2e"
       ],
       "layout": "IPY_MODEL_55678c21de30453ca64ece6dd2f13011"
      }
     },
     "c1cd8c753bbb4c34bb8b4781dd5b87c3": {
      "model_module": "@jupyter-widgets/controls",
      "model_module_version": "1.5.0",
      "model_name": "HTMLMathModel",
      "state": {
       "layout": "IPY_MODEL_c9c70133b3e74242a00d78fae9600826",
       "style": "IPY_MODEL_ab241dcf27964f7696da8f451fadf9de",
       "value": "The augmented matrix $(\\bf{A}|\\bf{I})$ is:\n $$\\left [\\begin{array}{ rrr|rrr }\n4 & 1 & -2 & 1 & 0 & 0 \\\\\n3 & -1 & 1 & 0 & 1 & 0 \\\\\n1 & -1 & 1 & 0 & 0 & 1\n\\end{array}\\right ] $$ with $\\det A =2$."
      }
     },
     "c1cd9410e22a4625bdac3b683190b156": {
      "model_module": "@jupyter-widgets/base",
      "model_module_version": "1.2.0",
      "model_name": "LayoutModel",
      "state": {
       "width": "150px"
      }
     },
     "c1f54432965b4eb78b3e499ba90740f7": {
      "model_module": "@jupyter-widgets/controls",
      "model_module_version": "1.5.0",
      "model_name": "TextModel",
      "state": {
       "description": "times",
       "layout": "IPY_MODEL_1fef59c25df443d0900d39ad15732b68",
       "style": "IPY_MODEL_4d391a2a7cf54dbbbbf853429c01ffde",
       "value": "1"
      }
     },
     "c2099aa3093f46cfb774d334922b2c70": {
      "model_module": "@jupyter-widgets/controls",
      "model_module_version": "1.5.0",
      "model_name": "TextModel",
      "state": {
       "layout": "IPY_MODEL_9f4d9e00ae3e470a8d024478444df27d",
       "style": "IPY_MODEL_0e94e36f3ffc4397b7b027e6f13dcf86",
       "value": "7"
      }
     },
     "c20d5c5fa870408a931a6c4a2f032fe6": {
      "model_module": "@jupyter-widgets/controls",
      "model_module_version": "1.5.0",
      "model_name": "DescriptionStyleModel",
      "state": {
       "description_width": ""
      }
     },
     "c21d552022a140468cae5bc3786518a7": {
      "model_module": "@jupyter-widgets/controls",
      "model_module_version": "1.5.0",
      "model_name": "HBoxModel",
      "state": {
       "children": [
        "IPY_MODEL_acc5204935b04668b9b0b6bfdcccb7ec",
        "IPY_MODEL_c7c7f0c5da824907975eeaae9f73ec99"
       ],
       "layout": "IPY_MODEL_eeba3ece71b54defa53ffef84323b508"
      }
     },
     "c22478fe1b0d4f3795ea62042ac3b543": {
      "model_module": "@jupyter-widgets/controls",
      "model_module_version": "1.5.0",
      "model_name": "DescriptionStyleModel",
      "state": {
       "description_width": ""
      }
     },
     "c23c6b09603c488ab12e1c9a4ead0897": {
      "model_module": "@jupyter-widgets/controls",
      "model_module_version": "1.5.0",
      "model_name": "BoxModel",
      "state": {
       "children": [
        "IPY_MODEL_fba19d553a15404e90d6db3124eb6962"
       ],
       "layout": "IPY_MODEL_9ca1f19c98d34f8bb9ab0d864b157fcc"
      }
     },
     "c243ebdb2d094f83bcc24fc5cd04c344": {
      "model_module": "@jupyter-widgets/controls",
      "model_module_version": "1.5.0",
      "model_name": "TextModel",
      "state": {
       "layout": "IPY_MODEL_0360a59724284d16ab0033f9c2a97d5d",
       "style": "IPY_MODEL_48e677e5b6a24358ab970644e52ea919",
       "value": "-2"
      }
     },
     "c24d50f252b647dc90e27e403c7d3980": {
      "model_module": "@jupyter-widgets/controls",
      "model_module_version": "1.5.0",
      "model_name": "TextModel",
      "state": {
       "layout": "IPY_MODEL_9a1e48de729e4abb89a3a19428a205a0",
       "style": "IPY_MODEL_b820f3a43f2f4aa19c0263da9b1dad60",
       "value": "4"
      }
     },
     "c2829292512547818836c0e826587e0e": {
      "model_module": "@jupyter-widgets/controls",
      "model_module_version": "1.5.0",
      "model_name": "DescriptionStyleModel",
      "state": {
       "description_width": ""
      }
     },
     "c2d9a8bb18c2457c86a2aa25312cc7a5": {
      "model_module": "@jupyter-widgets/base",
      "model_module_version": "1.2.0",
      "model_name": "LayoutModel",
      "state": {
       "flex_flow": "row wrap",
       "justify_content": "space-around"
      }
     },
     "c3015bcbfc53442d896452040b5beb5e": {
      "model_module": "@jupyter-widgets/controls",
      "model_module_version": "1.5.0",
      "model_name": "VBoxModel",
      "state": {
       "children": [
        "IPY_MODEL_d6fd0916667e4fdf925042c57bf09178",
        "IPY_MODEL_a39bcc528d1f4340aadca484237a24a1",
        "IPY_MODEL_9c9ac125803046c9a98c0065cb43e73a"
       ],
       "layout": "IPY_MODEL_f599bfdaf108462bb589f1650b3b184f"
      }
     },
     "c32c0d2b78d346128ca7383b2d75b662": {
      "model_module": "@jupyter-widgets/controls",
      "model_module_version": "1.5.0",
      "model_name": "HTMLMathModel",
      "state": {
       "layout": "IPY_MODEL_9b06db0e30214a879741724ebb9ce690",
       "style": "IPY_MODEL_0ea18523c5d748059fccdd96a26b89fe",
       "value": "The augmented matrix is:\n \n    $$\n    \\left[ \\begin{array}{rrr|r}\n        2 & -6 & 1 & 7\\\\\n        1 & 2 & -1 & -1\\\\\n        5 & 7 & -4 & 9\n    \\end{array} \\right]\n    $$\n    "
      }
     },
     "c33b14e5954044d1bc8347d420f80038": {
      "model_module": "@jupyter-widgets/controls",
      "model_module_version": "1.5.0",
      "model_name": "TextModel",
      "state": {
       "layout": "IPY_MODEL_a6b672bf88094d8fa8327c74293c6a55",
       "style": "IPY_MODEL_9860967390e442e6b59702d77463839c",
       "value": "7"
      }
     },
     "c3406b597f264cc3998a8332c3436007": {
      "model_module": "@jupyter-widgets/controls",
      "model_module_version": "1.5.0",
      "model_name": "DropdownModel",
      "state": {
       "_options_labels": [
        "1",
        "2",
        "3"
       ],
       "description": "to row",
       "index": 1,
       "layout": "IPY_MODEL_51954ceaabf0413083150223a6633b0b",
       "style": "IPY_MODEL_2e977334645647e3abad10c5c40dec3c"
      }
     },
     "c348359cb96f4ae5a73b1fca2ff232d6": {
      "model_module": "@jupyter-widgets/controls",
      "model_module_version": "1.5.0",
      "model_name": "DescriptionStyleModel",
      "state": {
       "description_width": ""
      }
     },
     "c357de2c62374bcaaf1d8692a5785540": {
      "model_module": "@jupyter-widgets/base",
      "model_module_version": "1.2.0",
      "model_name": "LayoutModel",
      "state": {}
     },
     "c36672e4c69b40c8963b29175e86f8f0": {
      "model_module": "@jupyter-widgets/controls",
      "model_module_version": "1.5.0",
      "model_name": "DescriptionStyleModel",
      "state": {
       "description_width": ""
      }
     },
     "c3a471de48f641239745f3d6b30f2085": {
      "model_module": "@jupyter-widgets/controls",
      "model_module_version": "1.5.0",
      "model_name": "DescriptionStyleModel",
      "state": {
       "description_width": ""
      }
     },
     "c3afe053aa96462786353332ad2f9241": {
      "model_module": "@jupyter-widgets/base",
      "model_module_version": "1.2.0",
      "model_name": "LayoutModel",
      "state": {
       "justify_content": "space-between"
      }
     },
     "c3b612643b4d44a3ade8cfd2387e9471": {
      "model_module": "@jupyter-widgets/base",
      "model_module_version": "1.2.0",
      "model_name": "LayoutModel",
      "state": {
       "width": "150px"
      }
     },
     "c3d472f342d34f75ba9ad7e10fc2f71c": {
      "model_module": "@jupyter-widgets/controls",
      "model_module_version": "1.5.0",
      "model_name": "ButtonStyleModel",
      "state": {}
     },
     "c3fdb0021eb74189ac9646c05ed1c778": {
      "model_module": "@jupyter-widgets/base",
      "model_module_version": "1.2.0",
      "model_name": "LayoutModel",
      "state": {}
     },
     "c404bdca40134ce78dfd82809bad49e7": {
      "model_module": "@jupyter-widgets/controls",
      "model_module_version": "1.5.0",
      "model_name": "DescriptionStyleModel",
      "state": {
       "description_width": ""
      }
     },
     "c423e0a776c74bba82606e70efbf6ea0": {
      "model_module": "@jupyter-widgets/controls",
      "model_module_version": "1.5.0",
      "model_name": "DescriptionStyleModel",
      "state": {
       "description_width": ""
      }
     },
     "c439c5fd2e8241318092750f6357d1a6": {
      "model_module": "@jupyter-widgets/controls",
      "model_module_version": "1.5.0",
      "model_name": "DescriptionStyleModel",
      "state": {
       "description_width": ""
      }
     },
     "c43adc73ea8d4267ab335121c3dd0c49": {
      "model_module": "@jupyter-widgets/controls",
      "model_module_version": "1.5.0",
      "model_name": "DropdownModel",
      "state": {
       "_options_labels": [
        "1",
        "2",
        "3"
       ],
       "description": "Swap row",
       "index": 0,
       "layout": "IPY_MODEL_224e84fd18524d10923643b2e0e6b76d",
       "style": "IPY_MODEL_f233366c8a374af180bee2390194c7cf"
      }
     },
     "c44929609589462a886b56aa16e89809": {
      "model_module": "@jupyter-widgets/controls",
      "model_module_version": "1.5.0",
      "model_name": "DescriptionStyleModel",
      "state": {
       "description_width": ""
      }
     },
     "c4650cd8404440079c26dfee57285a6f": {
      "model_module": "@jupyter-widgets/controls",
      "model_module_version": "1.5.0",
      "model_name": "TextModel",
      "state": {
       "layout": "IPY_MODEL_b2827ab913cf4f49b7a4aeebd116396e",
       "style": "IPY_MODEL_349695f8da084530925e788a541afae0",
       "value": "1"
      }
     },
     "c46585b8a0a64c3a919c4116ec1c1c8c": {
      "model_module": "@jupyter-widgets/controls",
      "model_module_version": "1.5.0",
      "model_name": "DescriptionStyleModel",
      "state": {
       "description_width": ""
      }
     },
     "c4699187f24e48df9454a95112819761": {
      "model_module": "@jupyter-widgets/controls",
      "model_module_version": "1.5.0",
      "model_name": "DescriptionStyleModel",
      "state": {
       "description_width": ""
      }
     },
     "c49da874f4974e57982fead9d1b1f71b": {
      "model_module": "@jupyter-widgets/controls",
      "model_module_version": "1.5.0",
      "model_name": "TextModel",
      "state": {
       "layout": "IPY_MODEL_d19375b63f4b4e069ae82d3822ecfbd2",
       "style": "IPY_MODEL_45f4876d84874264a860825f05b36f9e",
       "value": "4"
      }
     },
     "c4ca9923ead94e1894c9af6928a73825": {
      "model_module": "@jupyter-widgets/controls",
      "model_module_version": "1.5.0",
      "model_name": "DescriptionStyleModel",
      "state": {
       "description_width": ""
      }
     },
     "c4d179acabbf4c85ba205286252d8b6e": {
      "model_module": "@jupyter-widgets/controls",
      "model_module_version": "1.5.0",
      "model_name": "DescriptionStyleModel",
      "state": {
       "description_width": ""
      }
     },
     "c4eb55234c54425f93dacd7d05471aab": {
      "model_module": "@jupyter-widgets/controls",
      "model_module_version": "1.5.0",
      "model_name": "HTMLMathModel",
      "state": {
       "layout": "IPY_MODEL_5dbb77ca12814e62a5fcbb4307296aa5",
       "style": "IPY_MODEL_fc4971bb23dc49d3862aec522a261f62",
       "value": "The augmented matrix $(\\bf{A}|\\bf{I})$ will appear here."
      }
     },
     "c5006b66ec054928b6f7cb8cd1f20974": {
      "model_module": "@jupyter-widgets/base",
      "model_module_version": "1.2.0",
      "model_name": "LayoutModel",
      "state": {}
     },
     "c5063591b116485a9ea4d294b57eed86": {
      "model_module": "@jupyter-widgets/base",
      "model_module_version": "1.2.0",
      "model_name": "LayoutModel",
      "state": {
       "width": "100px"
      }
     },
     "c536e6aac5d845889ddd27d9b84789d4": {
      "model_module": "@jupyter-widgets/base",
      "model_module_version": "1.2.0",
      "model_name": "LayoutModel",
      "state": {
       "flex_flow": "row wrap",
       "justify_content": "space-around"
      }
     },
     "c556c5d21a214695af18649a52b8f792": {
      "model_module": "@jupyter-widgets/base",
      "model_module_version": "1.2.0",
      "model_name": "LayoutModel",
      "state": {}
     },
     "c55d781a4ec043acb73efe998faf3d60": {
      "model_module": "@jupyter-widgets/base",
      "model_module_version": "1.2.0",
      "model_name": "LayoutModel",
      "state": {}
     },
     "c57ea4a15e1d4f0eb937f2b9a9fc2314": {
      "model_module": "@jupyter-widgets/controls",
      "model_module_version": "1.5.0",
      "model_name": "HBoxModel",
      "state": {
       "children": [
        "IPY_MODEL_e5e7ceb084e8406ca8d2a66d89dcadca",
        "IPY_MODEL_8088a1057058427d8b9034ab41260e00"
       ],
       "layout": "IPY_MODEL_6d7a0617108443e89b2a41c52ed1f630"
      }
     },
     "c5824ed0b54e4bcd9ed07b5d0d47092b": {
      "model_module": "@jupyter-widgets/controls",
      "model_module_version": "1.5.0",
      "model_name": "ButtonModel",
      "state": {
       "description": "Start",
       "layout": "IPY_MODEL_9670e9cfb18f4124988e999e1d0344b0",
       "style": "IPY_MODEL_98639c4fe44f4ad2b8cac11ae8e2bbb3"
      }
     },
     "c5b2331e0c3141579a3e43ae55bfd5ba": {
      "model_module": "@jupyter-widgets/controls",
      "model_module_version": "1.5.0",
      "model_name": "DescriptionStyleModel",
      "state": {
       "description_width": ""
      }
     },
     "c5d636cea53d4916b99b4e03b8ac467a": {
      "model_module": "@jupyter-widgets/base",
      "model_module_version": "1.2.0",
      "model_name": "LayoutModel",
      "state": {}
     },
     "c5d708b861ca42ef98ce6bee61e47e39": {
      "model_module": "@jupyter-widgets/controls",
      "model_module_version": "1.5.0",
      "model_name": "DescriptionStyleModel",
      "state": {
       "description_width": ""
      }
     },
     "c600058616a24e58990e5d00c1b9f6bf": {
      "model_module": "@jupyter-widgets/controls",
      "model_module_version": "1.5.0",
      "model_name": "ButtonModel",
      "state": {
       "description": "Swap rows",
       "layout": "IPY_MODEL_9a0711ec496342c8ab978bcf70283918",
       "style": "IPY_MODEL_4c48c4de2f6148e887c2fc75281b6404"
      }
     },
     "c60528652e3c4636a65b4e10944f638a": {
      "model_module": "@jupyter-widgets/base",
      "model_module_version": "1.2.0",
      "model_name": "LayoutModel",
      "state": {
       "width": "150px"
      }
     },
     "c63a53cfada54e5daa8ec113ed1e655a": {
      "model_module": "@jupyter-widgets/controls",
      "model_module_version": "1.5.0",
      "model_name": "DescriptionStyleModel",
      "state": {
       "description_width": ""
      }
     },
     "c63cc49d1f6e42c280caa089327057a9": {
      "model_module": "@jupyter-widgets/controls",
      "model_module_version": "1.5.0",
      "model_name": "TextModel",
      "state": {
       "layout": "IPY_MODEL_47a60aa1cf3045f2a536b06edf49c5ea",
       "style": "IPY_MODEL_b02b8f85ab8b4f05819be1812fb9b8a2",
       "value": "-6"
      }
     },
     "c64059aee24b495dbdfe2d17c3363fd4": {
      "model_module": "@jupyter-widgets/controls",
      "model_module_version": "1.5.0",
      "model_name": "DescriptionStyleModel",
      "state": {
       "description_width": ""
      }
     },
     "c66b4f922bca4b7d845ce65ee4c75c70": {
      "model_module": "@jupyter-widgets/controls",
      "model_module_version": "1.5.0",
      "model_name": "DescriptionStyleModel",
      "state": {
       "description_width": ""
      }
     },
     "c6720c7ef8544e2d8b95c2f7ceabdd2e": {
      "model_module": "@jupyter-widgets/controls",
      "model_module_version": "1.5.0",
      "model_name": "DescriptionStyleModel",
      "state": {
       "description_width": ""
      }
     },
     "c67711fbe2224070b43d02f5be39c54a": {
      "model_module": "@jupyter-widgets/controls",
      "model_module_version": "1.5.0",
      "model_name": "DescriptionStyleModel",
      "state": {
       "description_width": ""
      }
     },
     "c6778ec8dfad484ebeb3ea1b91556a1a": {
      "model_module": "@jupyter-widgets/controls",
      "model_module_version": "1.5.0",
      "model_name": "VBoxModel",
      "state": {
       "children": [
        "IPY_MODEL_7d0daf783aad4c9cb8d04145990821de",
        "IPY_MODEL_86f2b67107dc4d9ab08cb3edc82cc793",
        "IPY_MODEL_e4e72ae853124d318208ae1a8d649fac"
       ],
       "layout": "IPY_MODEL_f8342b5e63d14a7a9d8098f84c5f2327"
      }
     },
     "c6860b9ca6934cb29ad6f7775c6ee499": {
      "model_module": "@jupyter-widgets/controls",
      "model_module_version": "1.5.0",
      "model_name": "HTMLMathModel",
      "state": {
       "layout": "IPY_MODEL_d71a823a25024b71a0990c9dbc0b64c2",
       "style": "IPY_MODEL_a7f16672a77d49739f2cc8c0eef41bfb",
       "value": "Enter here the values of the matrix $A$"
      }
     },
     "c6867261133e4ae2b1d1ec75c2dd8806": {
      "model_module": "@jupyter-widgets/controls",
      "model_module_version": "1.5.0",
      "model_name": "TextModel",
      "state": {
       "layout": "IPY_MODEL_d19375b63f4b4e069ae82d3822ecfbd2",
       "style": "IPY_MODEL_e72f5ebc879749068f65cdd10b9826ff",
       "value": "1"
      }
     },
     "c68ba1b409ec46f59a86e118d2714a93": {
      "model_module": "@jupyter-widgets/base",
      "model_module_version": "1.2.0",
      "model_name": "LayoutModel",
      "state": {
       "justify_content": "space-between"
      }
     },
     "c6946bc99cf54481bb22981c107b70a1": {
      "model_module": "@jupyter-widgets/base",
      "model_module_version": "1.2.0",
      "model_name": "LayoutModel",
      "state": {}
     },
     "c6971ec81ed544c39da0adc9ebdde97e": {
      "model_module": "@jupyter-widgets/controls",
      "model_module_version": "1.5.0",
      "model_name": "DescriptionStyleModel",
      "state": {
       "description_width": ""
      }
     },
     "c6a4ed8a266c400a9f0d257b8dea3f47": {
      "model_module": "@jupyter-widgets/controls",
      "model_module_version": "1.5.0",
      "model_name": "DescriptionStyleModel",
      "state": {
       "description_width": ""
      }
     },
     "c6bbec391e6742afa027e042be6248bb": {
      "model_module": "@jupyter-widgets/controls",
      "model_module_version": "1.5.0",
      "model_name": "HBoxModel",
      "state": {
       "children": [
        "IPY_MODEL_684aef2eb6df4d20842dd25326b73f75",
        "IPY_MODEL_f39c2405301a45fdaf6706ac32945a36",
        "IPY_MODEL_eb939392501748a59a3887486a7d2971"
       ],
       "layout": "IPY_MODEL_5a195c0d1e70499e9aa83c3332dd719d"
      }
     },
     "c6d0c5f73e0a427291b0940a2fd4f75d": {
      "model_module": "@jupyter-widgets/controls",
      "model_module_version": "1.5.0",
      "model_name": "HBoxModel",
      "state": {
       "children": [
        "IPY_MODEL_71d23df065f840aebb97c99e531a36c6",
        "IPY_MODEL_4e9581007e1b4f72ad78495b96aca542"
       ],
       "layout": "IPY_MODEL_1e76b044b6734dd49ee43007b7d45516"
      }
     },
     "c6fcbf2f817a486e84809a315ceeb7ec": {
      "model_module": "@jupyter-widgets/controls",
      "model_module_version": "1.5.0",
      "model_name": "HBoxModel",
      "state": {
       "children": [
        "IPY_MODEL_facabce22d93430eabfa6940612cfff7",
        "IPY_MODEL_41228a721d8349f2ae6d7ef859f97acd",
        "IPY_MODEL_10bde96bfd6247ee8b6f5b7fd5585a3a"
       ],
       "layout": "IPY_MODEL_60aedde2acee4503880453b3456a8e6a"
      }
     },
     "c6fead6402ef4e8cb8b7bd65eaf95664": {
      "model_module": "@jupyter-widgets/controls",
      "model_module_version": "1.5.0",
      "model_name": "VBoxModel",
      "state": {
       "children": [
        "IPY_MODEL_e2da8bf827a2404a8f0ca0886b96e05a",
        "IPY_MODEL_2adcaf30401b4797b9cfc813761f42d8",
        "IPY_MODEL_72bb58bd5b5647f9b0f2bbae6756c292"
       ],
       "layout": "IPY_MODEL_5f9f15e11c9a472a8e9d60794a0e0d5d"
      }
     },
     "c72b7309c7974dfebbd08ccd8dab80b0": {
      "model_module": "@jupyter-widgets/controls",
      "model_module_version": "1.5.0",
      "model_name": "TextModel",
      "state": {
       "layout": "IPY_MODEL_65cb8db367e14667886b79ef97c800d1",
       "style": "IPY_MODEL_8a188f18880f440ca3e786d87b2d8af7",
       "value": "5"
      }
     },
     "c72d709b944a45dea64e69fb02822e48": {
      "model_module": "@jupyter-widgets/controls",
      "model_module_version": "1.5.0",
      "model_name": "TextModel",
      "state": {
       "layout": "IPY_MODEL_efe34e22991049d5b12a19c5a386a8dc",
       "style": "IPY_MODEL_f1e8f994bc904a7b8f9e17c5cffb59a0",
       "value": "4"
      }
     },
     "c730cc44611641c081f635d3e5bdf038": {
      "model_module": "@jupyter-widgets/controls",
      "model_module_version": "1.5.0",
      "model_name": "DropdownModel",
      "state": {
       "_options_labels": [
        "1",
        "2",
        "3"
       ],
       "description": "Add row",
       "index": 0,
       "layout": "IPY_MODEL_4b7b774fe5b5401c83d6d3a01dd6f487",
       "style": "IPY_MODEL_c404bdca40134ce78dfd82809bad49e7"
      }
     },
     "c73ceabe5e37471dbcde32658547cb1d": {
      "model_module": "@jupyter-widgets/controls",
      "model_module_version": "1.5.0",
      "model_name": "TextModel",
      "state": {
       "layout": "IPY_MODEL_9f4d9e00ae3e470a8d024478444df27d",
       "style": "IPY_MODEL_a9c9100bbeb34b1982105aab30a6c77b",
       "value": "2"
      }
     },
     "c77caa6526a745949292ebc17be476ac": {
      "model_module": "@jupyter-widgets/base",
      "model_module_version": "1.2.0",
      "model_name": "LayoutModel",
      "state": {}
     },
     "c787b56f160c4601971e7cb2be2da5bf": {
      "model_module": "@jupyter-widgets/base",
      "model_module_version": "1.2.0",
      "model_name": "LayoutModel",
      "state": {}
     },
     "c7c7f0c5da824907975eeaae9f73ec99": {
      "model_module": "@jupyter-widgets/controls",
      "model_module_version": "1.5.0",
      "model_name": "VBoxModel",
      "state": {
       "children": [
        "IPY_MODEL_22e8785b1ee746058102274b13f30d31",
        "IPY_MODEL_ce8c17f471f24bd18ec5cfdbbdc44238"
       ],
       "layout": "IPY_MODEL_945e550e7dc84b848e940e607e7ee007"
      }
     },
     "c7cec6fce78944fc8fb51dffe0a50fe4": {
      "model_module": "@jupyter-widgets/controls",
      "model_module_version": "1.5.0",
      "model_name": "TextModel",
      "state": {
       "layout": "IPY_MODEL_7a607c89a00143a7a0808c95689bf41a",
       "style": "IPY_MODEL_2f755b9020d549f5877dbeb4cfc47c86",
       "value": "-6"
      }
     },
     "c7e52100ef4b4b189e7a3aa4fd0a1259": {
      "model_module": "@jupyter-widgets/controls",
      "model_module_version": "1.5.0",
      "model_name": "VBoxModel",
      "state": {
       "children": [
        "IPY_MODEL_e05d5715744f45069b5d9d1edd4730b1",
        "IPY_MODEL_b5b5373e845840edb6df518a102b0c3e"
       ],
       "layout": "IPY_MODEL_2f9a244cf46648c7bea68e4dd89f3843"
      }
     },
     "c814b1c43f274816a7a1ddfb9148137c": {
      "model_module": "@jupyter-widgets/controls",
      "model_module_version": "1.5.0",
      "model_name": "TextModel",
      "state": {
       "layout": "IPY_MODEL_239bec109578490f9329cf0477e25967",
       "style": "IPY_MODEL_2257a54b7fb44eef953cc10919568a02",
       "value": "2"
      }
     },
     "c81d75f690c34af5984f1471e502a895": {
      "model_module": "@jupyter-widgets/controls",
      "model_module_version": "1.5.0",
      "model_name": "TextModel",
      "state": {
       "layout": "IPY_MODEL_ff8f131091ed4bf49b858ed52bc5b3ea",
       "style": "IPY_MODEL_f876ef45798542f4914ca266bc3b8f3c",
       "value": "2"
      }
     },
     "c829032531ea4a88a173c0139ee5cb17": {
      "model_module": "@jupyter-widgets/base",
      "model_module_version": "1.2.0",
      "model_name": "LayoutModel",
      "state": {}
     },
     "c83e665e904441b387bef29a60efc741": {
      "model_module": "@jupyter-widgets/base",
      "model_module_version": "1.2.0",
      "model_name": "LayoutModel",
      "state": {}
     },
     "c85a987b874c4c649cba6805255f9318": {
      "model_module": "@jupyter-widgets/controls",
      "model_module_version": "1.5.0",
      "model_name": "DescriptionStyleModel",
      "state": {
       "description_width": ""
      }
     },
     "c8756142dbd74b40943ae81419356657": {
      "model_module": "@jupyter-widgets/controls",
      "model_module_version": "1.5.0",
      "model_name": "DescriptionStyleModel",
      "state": {
       "description_width": ""
      }
     },
     "c8a0be71defd42a3b3d12d5fdfda5581": {
      "model_module": "@jupyter-widgets/controls",
      "model_module_version": "1.5.0",
      "model_name": "TextModel",
      "state": {
       "layout": "IPY_MODEL_66f664c2d36b4d74aa7cdd21ce7345c1",
       "style": "IPY_MODEL_f4f4ccbee1064c178a1e45e911ca7de3",
       "value": "1"
      }
     },
     "c8a8bc8491d94b4b9289f0a90f83169f": {
      "model_module": "@jupyter-widgets/controls",
      "model_module_version": "1.5.0",
      "model_name": "HTMLModel",
      "state": {
       "layout": "IPY_MODEL_571a0e9e17e149d9be515e7ac7cd9e07",
       "style": "IPY_MODEL_1dd6798dcc784a88bc13c5b61f5db63b",
       "value": "Click the button below to start the calculator"
      }
     },
     "c8ae42d25cfe44d093fe3c44f1502d60": {
      "model_module": "@jupyter-widgets/base",
      "model_module_version": "1.2.0",
      "model_name": "LayoutModel",
      "state": {}
     },
     "c8d35454bab74a0fa8b636796c5266f2": {
      "model_module": "@jupyter-widgets/controls",
      "model_module_version": "1.5.0",
      "model_name": "DescriptionStyleModel",
      "state": {
       "description_width": ""
      }
     },
     "c8ee85cbb5c2415284049feca493ea48": {
      "model_module": "@jupyter-widgets/controls",
      "model_module_version": "1.5.0",
      "model_name": "VBoxModel",
      "state": {
       "children": [
        "IPY_MODEL_76f306559b394bfab8b316a4c4d0a41d",
        "IPY_MODEL_103155977d88458bae43b1483b1832fd",
        "IPY_MODEL_f39330af18304cf98cc420abbea7452a"
       ],
       "layout": "IPY_MODEL_1c1bcb38cf6347d294c09c44ea5372c2"
      }
     },
     "c9184918c1164fe8926499d7cbf33e25": {
      "model_module": "@jupyter-widgets/controls",
      "model_module_version": "1.5.0",
      "model_name": "DropdownModel",
      "state": {
       "_options_labels": [
        "1",
        "2",
        "3"
       ],
       "description": "Add row",
       "index": 0,
       "layout": "IPY_MODEL_b872929a130941e09564239fed7eb104",
       "style": "IPY_MODEL_602ab08f8fcb49cba4ed28b0884c2ecf"
      }
     },
     "c923f02de59345ea95cce81c42c7f136": {
      "model_module": "@jupyter-widgets/controls",
      "model_module_version": "1.5.0",
      "model_name": "TextModel",
      "state": {
       "layout": "IPY_MODEL_a6b672bf88094d8fa8327c74293c6a55",
       "style": "IPY_MODEL_aeb07636df5c4a2dae5b44b4b41ef7c2",
       "value": "-6"
      }
     },
     "c97077be0d1443ba9a1ee5cd5821c9f4": {
      "model_module": "@jupyter-widgets/controls",
      "model_module_version": "1.5.0",
      "model_name": "HBoxModel",
      "state": {
       "children": [
        "IPY_MODEL_4e6295a5047847f3b983e837dcb99df5",
        "IPY_MODEL_03b560bf96ee41318f455c2fa0bec6e6"
       ],
       "layout": "IPY_MODEL_eeebf09d6f9341e89319c547b5376a0d"
      }
     },
     "c99eb4f1a3c6468187e530814945f6d7": {
      "model_module": "@jupyter-widgets/base",
      "model_module_version": "1.2.0",
      "model_name": "LayoutModel",
      "state": {
       "flex_flow": "row wrap",
       "justify_content": "space-around"
      }
     },
     "c9c70133b3e74242a00d78fae9600826": {
      "model_module": "@jupyter-widgets/base",
      "model_module_version": "1.2.0",
      "model_name": "LayoutModel",
      "state": {
       "justify_content": "center"
      }
     },
     "c9d4ae8a05c04c5f9404bd63bbd7faec": {
      "model_module": "@jupyter-widgets/base",
      "model_module_version": "1.2.0",
      "model_name": "LayoutModel",
      "state": {
       "width": "90px"
      }
     },
     "c9eb3a3c76f548a486e32a8ae2ff017e": {
      "model_module": "@jupyter-widgets/base",
      "model_module_version": "1.2.0",
      "model_name": "LayoutModel",
      "state": {}
     },
     "c9fa608b3a5748309fbe1d0471152a0d": {
      "model_module": "@jupyter-widgets/controls",
      "model_module_version": "1.5.0",
      "model_name": "BoxModel",
      "state": {
       "children": [
        "IPY_MODEL_7daf65fce7814e8e855c44062fae55c8",
        "IPY_MODEL_cbdd7ceb8b4d4ae7861332197c70bd16",
        "IPY_MODEL_a93c7abaf7e4470d9c63401fb383193e",
        "IPY_MODEL_088aa52508cf4a47b1bb596a6b68f8ed"
       ],
       "layout": "IPY_MODEL_8c62b0c4430145ceae4d8be510e8ec92"
      }
     },
     "ca166a9cd6e5468abc345b4dc6d58f55": {
      "model_module": "@jupyter-widgets/controls",
      "model_module_version": "1.5.0",
      "model_name": "ButtonModel",
      "state": {
       "description": "Add rows",
       "layout": "IPY_MODEL_838a84339de74cdb87ca4a7e5a31760c",
       "style": "IPY_MODEL_fb7037c6a4d24a8d87af2a6bb6810482"
      }
     },
     "ca1b30af0ff7449ca9a64e0c49464495": {
      "model_module": "@jupyter-widgets/controls",
      "model_module_version": "1.5.0",
      "model_name": "DescriptionStyleModel",
      "state": {
       "description_width": ""
      }
     },
     "ca464192a3a849f4a3111ec029a3d1d5": {
      "model_module": "@jupyter-widgets/controls",
      "model_module_version": "1.5.0",
      "model_name": "HTMLModel",
      "state": {
       "layout": "IPY_MODEL_7d7b79f717d443ceb7206cdb6630ef4c",
       "style": "IPY_MODEL_b5d7c25c558445dfaaaffc58366c83e8",
       "value": "Click the button below to start the calculator"
      }
     },
     "ca4c2db1f93947cbad65be98fe43599f": {
      "model_module": "@jupyter-widgets/controls",
      "model_module_version": "1.5.0",
      "model_name": "TextModel",
      "state": {
       "layout": "IPY_MODEL_65cb8db367e14667886b79ef97c800d1",
       "style": "IPY_MODEL_92995dbd99b4442d81ed1ac5a88c7d56",
       "value": "-6"
      }
     },
     "ca518a6ff3ae492fbe84a5fb89d839f4": {
      "model_module": "@jupyter-widgets/controls",
      "model_module_version": "1.5.0",
      "model_name": "DescriptionStyleModel",
      "state": {
       "description_width": ""
      }
     },
     "ca5cb79102e4486f94a85625e3bdbfff": {
      "model_module": "@jupyter-widgets/controls",
      "model_module_version": "1.5.0",
      "model_name": "TextModel",
      "state": {
       "layout": "IPY_MODEL_5a0c24727aa941b48d996c0a1f0c2bf8",
       "style": "IPY_MODEL_d11c57ac67694301b5920d4d7664840f",
       "value": "-4"
      }
     },
     "ca6aa9ac101e4ce5823bb717ac4b3286": {
      "model_module": "@jupyter-widgets/controls",
      "model_module_version": "1.5.0",
      "model_name": "ButtonStyleModel",
      "state": {}
     },
     "ca6c3f4d328c46cdb0560cae4b44698b": {
      "model_module": "@jupyter-widgets/controls",
      "model_module_version": "1.5.0",
      "model_name": "VBoxModel",
      "state": {
       "children": [
        "IPY_MODEL_586173b69cb3439b91c31d14d893a954",
        "IPY_MODEL_91db62ef1eaf48919f036805a60f6fd2",
        "IPY_MODEL_41752c975cdd464692ab3826ed8fea75"
       ],
       "layout": "IPY_MODEL_f2882cebb7f2411abae8002027e464ba"
      }
     },
     "ca87561f5fd04a02aac6b22183ec0238": {
      "model_module": "@jupyter-widgets/controls",
      "model_module_version": "1.5.0",
      "model_name": "HTMLMathModel",
      "state": {
       "layout": "IPY_MODEL_f58ab3e248644d5fa752429a25620982",
       "style": "IPY_MODEL_e54ff38a20124f7495d001d4b76ab1fc",
       "value": "Enter here the values of the matrix $A$"
      }
     },
     "ca895438b669454eacf6665288d86d4d": {
      "model_module": "@jupyter-widgets/controls",
      "model_module_version": "1.5.0",
      "model_name": "TextModel",
      "state": {
       "description": "times",
       "layout": "IPY_MODEL_1005e81ac98b4c87b344a13966a36a12",
       "style": "IPY_MODEL_251d49ce877e4bf583ea0524dc2696c6",
       "value": "1"
      }
     },
     "cab4d8d41bcd413f834122d156fa5bb2": {
      "model_module": "@jupyter-widgets/controls",
      "model_module_version": "1.5.0",
      "model_name": "TextModel",
      "state": {
       "layout": "IPY_MODEL_ff8f131091ed4bf49b858ed52bc5b3ea",
       "style": "IPY_MODEL_2a90f9ef28eb4e99aad79e83136a4bd6",
       "value": "-4"
      }
     },
     "cac2ce8c22ab409f940b7f3fdc9eabe9": {
      "model_module": "@jupyter-widgets/controls",
      "model_module_version": "1.5.0",
      "model_name": "ButtonStyleModel",
      "state": {}
     },
     "cac3cfaf0caf46bf982f9a06ba1f6059": {
      "model_module": "@jupyter-widgets/controls",
      "model_module_version": "1.5.0",
      "model_name": "DescriptionStyleModel",
      "state": {
       "description_width": ""
      }
     },
     "cacb5662808240fead83b9cb99e43cce": {
      "model_module": "@jupyter-widgets/base",
      "model_module_version": "1.2.0",
      "model_name": "LayoutModel",
      "state": {}
     },
     "cae462006fc0462195f45ae3086689cd": {
      "model_module": "@jupyter-widgets/controls",
      "model_module_version": "1.5.0",
      "model_name": "DescriptionStyleModel",
      "state": {
       "description_width": ""
      }
     },
     "cae6bba2c52b446d9a0e77135106f223": {
      "model_module": "@jupyter-widgets/controls",
      "model_module_version": "1.5.0",
      "model_name": "HTMLMathModel",
      "state": {
       "layout": "IPY_MODEL_d3961b286e8449bfb9c36530c960b59e",
       "style": "IPY_MODEL_76f8f81434b54ee7a325a67113779e53",
       "value": "The augmented matrix $(\\bf{A}|\\bf{I})$ is:\n $$\\left [\\begin{array}{ rrr|rrr }\n4 & 1 & -2 & 1 & 0 & 0 \\\\\n3 & -1 & 1 & 0 & 1 & 0 \\\\\n1 & -1 & 1 & 0 & 0 & 1\n\\end{array}\\right ] $$ with $\\det A =2$."
      }
     },
     "cafc6a0b59a547e59fa019b6296ed26d": {
      "model_module": "@jupyter-widgets/controls",
      "model_module_version": "1.5.0",
      "model_name": "DescriptionStyleModel",
      "state": {
       "description_width": ""
      }
     },
     "cb1a6b70276648fba9617f555749a920": {
      "model_module": "@jupyter-widgets/base",
      "model_module_version": "1.2.0",
      "model_name": "LayoutModel",
      "state": {
       "justify_content": "center"
      }
     },
     "cb2178d5d9b44ee2ab906d0c2d51d309": {
      "model_module": "@jupyter-widgets/controls",
      "model_module_version": "1.5.0",
      "model_name": "ButtonModel",
      "state": {
       "description": "Start",
       "layout": "IPY_MODEL_dff0b0292a1c43479b0483a6b79d42b7",
       "style": "IPY_MODEL_66c03f69c26241279063153b1e533ad1"
      }
     },
     "cb2759c8ff0b402e8e6418be7da6d6ff": {
      "model_module": "@jupyter-widgets/base",
      "model_module_version": "1.2.0",
      "model_name": "LayoutModel",
      "state": {}
     },
     "cb4719e8ad0e4cd09d11e3be743a8a1c": {
      "model_module": "@jupyter-widgets/controls",
      "model_module_version": "1.5.0",
      "model_name": "TextModel",
      "state": {
       "layout": "IPY_MODEL_f28c3c7f5ced4384b8a9eca6bc4c00fd",
       "style": "IPY_MODEL_819acd4064d246b7b67b5c271e89c461",
       "value": "9"
      }
     },
     "cb6395e0542b4504a1146f40e1f6620b": {
      "model_module": "@jupyter-widgets/controls",
      "model_module_version": "1.5.0",
      "model_name": "TextModel",
      "state": {
       "layout": "IPY_MODEL_e56e2cbba3324f1e9a6da6e53dfda065",
       "style": "IPY_MODEL_9b63673dcd2344eda79dba68ac1fb197",
       "value": "2"
      }
     },
     "cb655ea66840445385672cfb773a7c2a": {
      "model_module": "@jupyter-widgets/base",
      "model_module_version": "1.2.0",
      "model_name": "LayoutModel",
      "state": {
       "width": "150px"
      }
     },
     "cb6c37fc39c746aab7d88428953189d6": {
      "model_module": "@jupyter-widgets/controls",
      "model_module_version": "1.5.0",
      "model_name": "TextModel",
      "state": {
       "description": "times",
       "layout": "IPY_MODEL_8744f6d14e654f24ad0353240a0db607",
       "style": "IPY_MODEL_522206124bee4f8db427068f58b5a267",
       "value": "1"
      }
     },
     "cb89c6936cd8467f8460b206065ebcaa": {
      "model_module": "@jupyter-widgets/base",
      "model_module_version": "1.2.0",
      "model_name": "LayoutModel",
      "state": {}
     },
     "cb92cac95f2c4ffcb3ad67e5c7f23ed1": {
      "model_module": "@jupyter-widgets/controls",
      "model_module_version": "1.5.0",
      "model_name": "DescriptionStyleModel",
      "state": {
       "description_width": ""
      }
     },
     "cbb6c52ee8b6435d9bfcce83422f2da0": {
      "model_module": "@jupyter-widgets/base",
      "model_module_version": "1.2.0",
      "model_name": "LayoutModel",
      "state": {
       "justify_content": "space-between"
      }
     },
     "cbbfc98cdc3b4062a35457cf301e1927": {
      "model_module": "@jupyter-widgets/controls",
      "model_module_version": "1.5.0",
      "model_name": "DescriptionStyleModel",
      "state": {
       "description_width": ""
      }
     },
     "cbc4049ba4254a8690faafc3332f1237": {
      "model_module": "@jupyter-widgets/base",
      "model_module_version": "1.2.0",
      "model_name": "LayoutModel",
      "state": {}
     },
     "cbdd7ceb8b4d4ae7861332197c70bd16": {
      "model_module": "@jupyter-widgets/controls",
      "model_module_version": "1.5.0",
      "model_name": "HBoxModel",
      "state": {
       "children": [
        "IPY_MODEL_c8ee85cbb5c2415284049feca493ea48",
        "IPY_MODEL_b728c9014fa14742b664d1ff356cfe32"
       ],
       "layout": "IPY_MODEL_9c56a278d3eb4ff5a3ed50ae0d38f251"
      }
     },
     "cbe4c8e6f2d24f40a2cd538ac9dd62b9": {
      "model_module": "@jupyter-widgets/controls",
      "model_module_version": "1.5.0",
      "model_name": "TextModel",
      "state": {
       "layout": "IPY_MODEL_a6b672bf88094d8fa8327c74293c6a55",
       "style": "IPY_MODEL_3ed4ffb11b9b41ac88c852a15316aa36",
       "value": "-1"
      }
     },
     "cbf337106b2a4262bc245904dec0ac35": {
      "model_module": "@jupyter-widgets/controls",
      "model_module_version": "1.5.0",
      "model_name": "DescriptionStyleModel",
      "state": {
       "description_width": ""
      }
     },
     "cc14063e6c3b477d8b7b1543fc0210e9": {
      "model_module": "@jupyter-widgets/controls",
      "model_module_version": "1.5.0",
      "model_name": "ButtonStyleModel",
      "state": {}
     },
     "cc160c836f3342bda2c02dc88b722e63": {
      "model_module": "@jupyter-widgets/controls",
      "model_module_version": "1.5.0",
      "model_name": "DescriptionStyleModel",
      "state": {
       "description_width": ""
      }
     },
     "cc1eaaf2a7de414fb1db3308d9ebfa92": {
      "model_module": "@jupyter-widgets/base",
      "model_module_version": "1.2.0",
      "model_name": "LayoutModel",
      "state": {}
     },
     "cc56faf88d7a43dcac61a879abbe3eda": {
      "model_module": "@jupyter-widgets/controls",
      "model_module_version": "1.5.0",
      "model_name": "TextModel",
      "state": {
       "layout": "IPY_MODEL_239bec109578490f9329cf0477e25967",
       "style": "IPY_MODEL_b9bfc06ef81a4d948c954bef22443ab8",
       "value": "2"
      }
     },
     "cc5ccd69022b4b968f9d8101f1cbfa01": {
      "model_module": "@jupyter-widgets/controls",
      "model_module_version": "1.5.0",
      "model_name": "DescriptionStyleModel",
      "state": {
       "description_width": ""
      }
     },
     "cc6641129ed8454bbd1d68feae7ad15c": {
      "model_module": "@jupyter-widgets/controls",
      "model_module_version": "1.5.0",
      "model_name": "ButtonStyleModel",
      "state": {}
     },
     "cc69688fba2847fe8351bce08673ec69": {
      "model_module": "@jupyter-widgets/controls",
      "model_module_version": "1.5.0",
      "model_name": "DropdownModel",
      "state": {
       "_options_labels": [
        "1",
        "2",
        "3"
       ],
       "description": "and row",
       "index": 1,
       "layout": "IPY_MODEL_a3666952588c4373a71a19fc2c845406",
       "style": "IPY_MODEL_ab78a5ed2f4a4f089092f5f78d63b24b"
      }
     },
     "cc7bd332cf6e4a0cb271dc92546ef6cf": {
      "model_module": "@jupyter-widgets/controls",
      "model_module_version": "1.5.0",
      "model_name": "ButtonModel",
      "state": {
       "description": "Swap rows",
       "layout": "IPY_MODEL_2de4ac702bdc4377b4b1e76ea0f36abe",
       "style": "IPY_MODEL_85c89e87601d457c972d2699e645027c"
      }
     },
     "cc8318150c284d4e9e8023fa70ab6180": {
      "model_module": "@jupyter-widgets/controls",
      "model_module_version": "1.5.0",
      "model_name": "HBoxModel",
      "state": {
       "children": [
        "IPY_MODEL_cc56faf88d7a43dcac61a879abbe3eda",
        "IPY_MODEL_2776291cb0144876be4745eddadccc5f",
        "IPY_MODEL_516962bd8d264667bc70b4b61be7e327"
       ],
       "layout": "IPY_MODEL_66a94674b0b94854a03ae0cc321b0e53"
      }
     },
     "cc9faa02a1614de59991fac6e167e928": {
      "model_module": "@jupyter-widgets/base",
      "model_module_version": "1.2.0",
      "model_name": "LayoutModel",
      "state": {
       "justify_content": "center"
      }
     },
     "ccab7349def941fab036cf0a1cfae70e": {
      "model_module": "@jupyter-widgets/controls",
      "model_module_version": "1.5.0",
      "model_name": "ButtonModel",
      "state": {
       "description": "Swap rows",
       "layout": "IPY_MODEL_47a8870e0fea4dd8962de0889a0decf4",
       "style": "IPY_MODEL_e197d07f38db43aebc8d80cdeb2396a8"
      }
     },
     "ccae19b5fe3d4c63865bb6b6e991c9cd": {
      "model_module": "@jupyter-widgets/base",
      "model_module_version": "1.2.0",
      "model_name": "LayoutModel",
      "state": {}
     },
     "cccd12e1209d4fe9ad8ecd8255b5449b": {
      "model_module": "@jupyter-widgets/controls",
      "model_module_version": "1.5.0",
      "model_name": "TextModel",
      "state": {
       "layout": "IPY_MODEL_065f08ede0b647238ec761aa592646c7",
       "style": "IPY_MODEL_8db6b00844384ba486a69b2bee444d3e",
       "value": "2"
      }
     },
     "cd08c1004dfb4ccf8aad5acca5347558": {
      "model_module": "@jupyter-widgets/controls",
      "model_module_version": "1.5.0",
      "model_name": "DescriptionStyleModel",
      "state": {
       "description_width": ""
      }
     },
     "cd1235ab90e64818a6d4bec00d5ef162": {
      "model_module": "@jupyter-widgets/controls",
      "model_module_version": "1.5.0",
      "model_name": "DescriptionStyleModel",
      "state": {
       "description_width": ""
      }
     },
     "cd140fa3654b4629b5df9fe5f2dedda2": {
      "model_module": "@jupyter-widgets/controls",
      "model_module_version": "1.5.0",
      "model_name": "DescriptionStyleModel",
      "state": {
       "description_width": ""
      }
     },
     "cd22321a9c8440198e4796d6e987082c": {
      "model_module": "@jupyter-widgets/base",
      "model_module_version": "1.2.0",
      "model_name": "LayoutModel",
      "state": {}
     },
     "cd2d9b2b81cb4a3690456ffa2f069854": {
      "model_module": "@jupyter-widgets/controls",
      "model_module_version": "1.5.0",
      "model_name": "DescriptionStyleModel",
      "state": {
       "description_width": ""
      }
     },
     "cd53a323303947f5b29e86f355968b29": {
      "model_module": "@jupyter-widgets/controls",
      "model_module_version": "1.5.0",
      "model_name": "DescriptionStyleModel",
      "state": {
       "description_width": ""
      }
     },
     "cd6c514871824ca6b4ad768f59d6b078": {
      "model_module": "@jupyter-widgets/controls",
      "model_module_version": "1.5.0",
      "model_name": "TextModel",
      "state": {
       "layout": "IPY_MODEL_4bcd3a11811347d3979a9396c2e71cd4",
       "style": "IPY_MODEL_eea5d6610d954516b2cf76848db834e0",
       "value": "-1"
      }
     },
     "cd74410b74504cbfbb7eae7142808878": {
      "model_module": "@jupyter-widgets/base",
      "model_module_version": "1.2.0",
      "model_name": "LayoutModel",
      "state": {}
     },
     "cd890d51764c44c9804a75ceb3cbebf9": {
      "model_module": "@jupyter-widgets/base",
      "model_module_version": "1.2.0",
      "model_name": "LayoutModel",
      "state": {}
     },
     "cdb8d0d47aa44a85a8d08c2bf40f25c8": {
      "model_module": "@jupyter-widgets/controls",
      "model_module_version": "1.5.0",
      "model_name": "HBoxModel",
      "state": {
       "children": [
        "IPY_MODEL_cec169a977694baf8238741eedc711ab",
        "IPY_MODEL_260b9023be324194ade5bb1086a74b4a"
       ],
       "layout": "IPY_MODEL_b2bf5b1b35004de9a394ff891532194e"
      }
     },
     "cdce43372255467fa0c33341d14134f8": {
      "model_module": "@jupyter-widgets/base",
      "model_module_version": "1.2.0",
      "model_name": "LayoutModel",
      "state": {
       "width": "150px"
      }
     },
     "cdd33074eab34addba492777efb132a7": {
      "model_module": "@jupyter-widgets/controls",
      "model_module_version": "1.5.0",
      "model_name": "TextModel",
      "state": {
       "layout": "IPY_MODEL_308f071668994851a29f0ae6fcc0bc14",
       "style": "IPY_MODEL_6aadf99942174bd8bfad42742b272e1a",
       "value": "1"
      }
     },
     "cdd7855ec53a479893be1ee02b6eb0e9": {
      "model_module": "@jupyter-widgets/base",
      "model_module_version": "1.2.0",
      "model_name": "LayoutModel",
      "state": {}
     },
     "cdd9dab4935c42c3962d95f2eeb84c89": {
      "model_module": "@jupyter-widgets/controls",
      "model_module_version": "1.5.0",
      "model_name": "TextModel",
      "state": {
       "layout": "IPY_MODEL_201e1a4ee32840b19f981690bdacf3ae",
       "style": "IPY_MODEL_41d3726d9628467d9272111dd9aeb5e2",
       "value": "2"
      }
     },
     "ce0b8e347f0e4c6f95b244b8743697fe": {
      "model_module": "@jupyter-widgets/base",
      "model_module_version": "1.2.0",
      "model_name": "LayoutModel",
      "state": {}
     },
     "ce19ae91e88742ff896e68cdd069ee20": {
      "model_module": "@jupyter-widgets/controls",
      "model_module_version": "1.5.0",
      "model_name": "DescriptionStyleModel",
      "state": {
       "description_width": ""
      }
     },
     "ce2a886433234f7ba4a16e2ae255820c": {
      "model_module": "@jupyter-widgets/base",
      "model_module_version": "1.2.0",
      "model_name": "LayoutModel",
      "state": {}
     },
     "ce48675331a342c2bba5f968a8b89b79": {
      "model_module": "@jupyter-widgets/controls",
      "model_module_version": "1.5.0",
      "model_name": "DescriptionStyleModel",
      "state": {
       "description_width": ""
      }
     },
     "ce67573e4d664688aefd740adef14e84": {
      "model_module": "@jupyter-widgets/controls",
      "model_module_version": "1.5.0",
      "model_name": "VBoxModel",
      "state": {
       "children": [
        "IPY_MODEL_704ad8b0a249492eae49c1568a516888",
        "IPY_MODEL_93bfa3e7c0204b1dbb929338428d0f11"
       ],
       "layout": "IPY_MODEL_4440492bed3a48ac987efb0b1eca2b68"
      }
     },
     "ce6f063131f143288bba09b458ec8765": {
      "model_module": "@jupyter-widgets/base",
      "model_module_version": "1.2.0",
      "model_name": "LayoutModel",
      "state": {
       "justify_content": "center"
      }
     },
     "ce8c17f471f24bd18ec5cfdbbdc44238": {
      "model_module": "@jupyter-widgets/controls",
      "model_module_version": "1.5.0",
      "model_name": "ButtonModel",
      "state": {
       "description": "Add rows",
       "layout": "IPY_MODEL_3b7a6342f63741c7a56d78d7ade7ce64",
       "style": "IPY_MODEL_27364bcc66784d72a5235213e3191c41"
      }
     },
     "ce8d672259f64ba5b0abc94b3c51cff2": {
      "model_module": "@jupyter-widgets/controls",
      "model_module_version": "1.5.0",
      "model_name": "HTMLMathModel",
      "state": {
       "layout": "IPY_MODEL_b26ea79547104f72bbb7d86d4bd771f6",
       "style": "IPY_MODEL_5fe000100d944351b4eca728e99465d6",
       "value": "The augmented matrix will appear here."
      }
     },
     "cead6ed81b0a493082fb6746d7479151": {
      "model_module": "@jupyter-widgets/controls",
      "model_module_version": "1.5.0",
      "model_name": "DescriptionStyleModel",
      "state": {
       "description_width": ""
      }
     },
     "cec169a977694baf8238741eedc711ab": {
      "model_module": "@jupyter-widgets/controls",
      "model_module_version": "1.5.0",
      "model_name": "VBoxModel",
      "state": {
       "children": [
        "IPY_MODEL_33748b101f9c48f69c0a23efdbd6cabc",
        "IPY_MODEL_718c22a22be74e419f215027fe8e0309"
       ],
       "layout": "IPY_MODEL_fd2e84f0af624382b42d96158a8933fe"
      }
     },
     "cec2cddf2921480d825a0d51eb7cb6e4": {
      "model_module": "@jupyter-widgets/controls",
      "model_module_version": "1.5.0",
      "model_name": "DescriptionStyleModel",
      "state": {
       "description_width": ""
      }
     },
     "ced30150dd3848d0bcc6107092dc418c": {
      "model_module": "@jupyter-widgets/base",
      "model_module_version": "1.2.0",
      "model_name": "LayoutModel",
      "state": {
       "width": "40px"
      }
     },
     "ced7d7a9b7c9469781571b1ec307898a": {
      "model_module": "@jupyter-widgets/controls",
      "model_module_version": "1.5.0",
      "model_name": "DescriptionStyleModel",
      "state": {
       "description_width": ""
      }
     },
     "cee1a5dae95b4c51a73e85d33242b432": {
      "model_module": "@jupyter-widgets/base",
      "model_module_version": "1.2.0",
      "model_name": "LayoutModel",
      "state": {}
     },
     "cee7d934dbaa41c68000ff08e8173020": {
      "model_module": "@jupyter-widgets/controls",
      "model_module_version": "1.5.0",
      "model_name": "HBoxModel",
      "state": {
       "children": [
        "IPY_MODEL_ab9ba25fd07245f3bf46f951ee0190cf",
        "IPY_MODEL_ade3660114fe47a7bb7a50fccb931b1e"
       ],
       "layout": "IPY_MODEL_7b7d29f1ca354a1787fb86a5ddd7d571"
      }
     },
     "cefb352ebcc64fdba426ed489dfe55d2": {
      "model_module": "@jupyter-widgets/controls",
      "model_module_version": "1.5.0",
      "model_name": "DescriptionStyleModel",
      "state": {
       "description_width": ""
      }
     },
     "cf1ae174465243cf846771558cc3a7e5": {
      "model_module": "@jupyter-widgets/controls",
      "model_module_version": "1.5.0",
      "model_name": "HTMLMathModel",
      "state": {
       "layout": "IPY_MODEL_2dd052f9e5cf46fc8cbe7badda5ece48",
       "style": "IPY_MODEL_7282b0e52c5745819d59ae398bdf74f1",
       "value": "Enter here the values of the right hand side vector $b$"
      }
     },
     "cf2088fac36e476b84866e6aaa2f86c6": {
      "model_module": "@jupyter-widgets/controls",
      "model_module_version": "1.5.0",
      "model_name": "ButtonModel",
      "state": {
       "description": "Check inverse",
       "layout": "IPY_MODEL_dd4349edd809488bb1eaf618557e7e5e",
       "style": "IPY_MODEL_cc14063e6c3b477d8b7b1543fc0210e9"
      }
     },
     "cf37401a5bed4476816701de2172693d": {
      "model_module": "@jupyter-widgets/controls",
      "model_module_version": "1.5.0",
      "model_name": "DescriptionStyleModel",
      "state": {
       "description_width": ""
      }
     },
     "cf3a4a8c12504fe3b0c5a175dc56a1e4": {
      "model_module": "@jupyter-widgets/controls",
      "model_module_version": "1.5.0",
      "model_name": "TextModel",
      "state": {
       "layout": "IPY_MODEL_47a60aa1cf3045f2a536b06edf49c5ea",
       "style": "IPY_MODEL_ad21e233277244778e707fd68da2c5d9",
       "value": "-4"
      }
     },
     "cf3b693ce768490fb1432a40cd13951d": {
      "model_module": "@jupyter-widgets/controls",
      "model_module_version": "1.5.0",
      "model_name": "DescriptionStyleModel",
      "state": {
       "description_width": ""
      }
     },
     "cf5a4594e3e347bfa52ca0a2a36897eb": {
      "model_module": "@jupyter-widgets/controls",
      "model_module_version": "1.5.0",
      "model_name": "HBoxModel",
      "state": {
       "children": [
        "IPY_MODEL_3e264e3176a94dc0bf629d1e8942c8d2",
        "IPY_MODEL_208a77e63079408faaff46bec5a2fc9f"
       ],
       "layout": "IPY_MODEL_8d523280695d44a8ae7fc16533a1a862"
      }
     },
     "cf77ddaa56394e7a9f9e134eb5b54d75": {
      "model_module": "@jupyter-widgets/base",
      "model_module_version": "1.2.0",
      "model_name": "LayoutModel",
      "state": {}
     },
     "cf7ec6985ae843cc8a4659886c36e7d1": {
      "model_module": "@jupyter-widgets/controls",
      "model_module_version": "1.5.0",
      "model_name": "DescriptionStyleModel",
      "state": {
       "description_width": ""
      }
     },
     "cf83566fd2324f42af8686cea87634ac": {
      "model_module": "@jupyter-widgets/controls",
      "model_module_version": "1.5.0",
      "model_name": "DescriptionStyleModel",
      "state": {
       "description_width": ""
      }
     },
     "cf901beb353b4830b8691e6828395633": {
      "model_module": "@jupyter-widgets/controls",
      "model_module_version": "1.5.0",
      "model_name": "TextModel",
      "state": {
       "layout": "IPY_MODEL_7336bcfb9a2145e9a2df614b1768b15f",
       "style": "IPY_MODEL_1584ef30857a49f79e9f10bce010f5d8",
       "value": "4"
      }
     },
     "cf9b443a97a94b399498a05b8a802c7b": {
      "model_module": "@jupyter-widgets/controls",
      "model_module_version": "1.5.0",
      "model_name": "DescriptionStyleModel",
      "state": {
       "description_width": ""
      }
     },
     "cf9e7349866e470588789ff62fd401bd": {
      "model_module": "@jupyter-widgets/controls",
      "model_module_version": "1.5.0",
      "model_name": "TextModel",
      "state": {
       "layout": "IPY_MODEL_24e52a9da5f64680833f56257412e632",
       "style": "IPY_MODEL_5c870b470f4649938c410039a7d55f48",
       "value": "-1"
      }
     },
     "cfcaef2dd3094d5b98e09ffd0df8b0bb": {
      "model_module": "@jupyter-widgets/base",
      "model_module_version": "1.2.0",
      "model_name": "LayoutModel",
      "state": {
       "width": "90px"
      }
     },
     "cfcbc0ed917e48a181950b87c4a128ee": {
      "model_module": "@jupyter-widgets/controls",
      "model_module_version": "1.5.0",
      "model_name": "BoxModel",
      "state": {
       "children": [
        "IPY_MODEL_07b1880a51b74e58870e37b7fe28ea19"
       ],
       "layout": "IPY_MODEL_d42ac3b225bd4689a874832738e5ae45"
      }
     },
     "cfed47a3c03749c58c7656eb799d455e": {
      "model_module": "@jupyter-widgets/controls",
      "model_module_version": "1.5.0",
      "model_name": "HBoxModel",
      "state": {
       "children": [
        "IPY_MODEL_db700eeb34994f299e70e242d82678d7",
        "IPY_MODEL_f57d30c88ead4f9c89f904fc3f1ba191",
        "IPY_MODEL_116c3d2aeaec4cccbb0fb1470cea5fbd"
       ],
       "layout": "IPY_MODEL_6ce1b377ec7649228be55f298142f7a6"
      }
     },
     "d002b346727844959d2f22557e727876": {
      "model_module": "@jupyter-widgets/controls",
      "model_module_version": "1.5.0",
      "model_name": "TextModel",
      "state": {
       "layout": "IPY_MODEL_c0d9a1b66a034d3c880457f50a593771",
       "style": "IPY_MODEL_93d527fbbd674ac8bf53f7b621c3bea5",
       "value": "-1"
      }
     },
     "d0322e382ab74d469a83a00e58d08aff": {
      "model_module": "@jupyter-widgets/base",
      "model_module_version": "1.2.0",
      "model_name": "LayoutModel",
      "state": {}
     },
     "d03b4b39472e4087b1e97e04716ca758": {
      "model_module": "@jupyter-widgets/controls",
      "model_module_version": "1.5.0",
      "model_name": "HTMLMathModel",
      "state": {
       "layout": "IPY_MODEL_78950406acab47cfbbb52e78a7731cad",
       "style": "IPY_MODEL_29d21bc21ee24e8392b2eb9118556be3",
       "value": "Enter here the values of the matrix $A$"
      }
     },
     "d0759b7699b24fecac3e778df83b01b3": {
      "model_module": "@jupyter-widgets/base",
      "model_module_version": "1.2.0",
      "model_name": "LayoutModel",
      "state": {
       "width": "150px"
      }
     },
     "d0a6210a464046b281c28128290ebd53": {
      "model_module": "@jupyter-widgets/controls",
      "model_module_version": "1.5.0",
      "model_name": "ButtonModel",
      "state": {
       "description": "Start",
       "layout": "IPY_MODEL_369754e4b678443d8c2919b0840e6a3d",
       "style": "IPY_MODEL_a016b0f585fc49268e9a5ff9755694f4"
      }
     },
     "d0bc9eb2f5bf41c483a9279f97cf7ab9": {
      "model_module": "@jupyter-widgets/controls",
      "model_module_version": "1.5.0",
      "model_name": "ButtonModel",
      "state": {
       "description": "Add rows",
       "layout": "IPY_MODEL_af73b19a13c74eba80224f144d11f722",
       "style": "IPY_MODEL_5c10a940ad234d5b8d8f26867d6e4d16"
      }
     },
     "d0d44bbfa3a24c07a9e5dd462b584db0": {
      "model_module": "@jupyter-widgets/controls",
      "model_module_version": "1.5.0",
      "model_name": "TextModel",
      "state": {
       "layout": "IPY_MODEL_97993fa24fac42e28605e8d366180168",
       "style": "IPY_MODEL_8b81d93fc9f04a33b256d91c97ac546f",
       "value": "-1"
      }
     },
     "d0d4de5f8ea748fd8a2b2cf87ee9a044": {
      "model_module": "@jupyter-widgets/controls",
      "model_module_version": "1.5.0",
      "model_name": "DescriptionStyleModel",
      "state": {
       "description_width": ""
      }
     },
     "d0f2a4bd716f4694b7159b61fc1310a6": {
      "model_module": "@jupyter-widgets/controls",
      "model_module_version": "1.5.0",
      "model_name": "TextModel",
      "state": {
       "layout": "IPY_MODEL_c0d9a1b66a034d3c880457f50a593771",
       "style": "IPY_MODEL_064cf949cf3e4f25afd7f21dcc458f0a",
       "value": "1"
      }
     },
     "d11c57ac67694301b5920d4d7664840f": {
      "model_module": "@jupyter-widgets/controls",
      "model_module_version": "1.5.0",
      "model_name": "DescriptionStyleModel",
      "state": {
       "description_width": ""
      }
     },
     "d12a958e7b15475fbee7e34cee85438c": {
      "model_module": "@jupyter-widgets/controls",
      "model_module_version": "1.5.0",
      "model_name": "HTMLMathModel",
      "state": {
       "layout": "IPY_MODEL_d417958f9d82411686235ceea5189d63",
       "style": "IPY_MODEL_25b5d8d68590423591bc398eeec6d574",
       "value": "The augmented matrix $(\\bf{A}|\\bf{I})$ is:\n $$\\left [\\begin{array}{ rrr|rrr }\n4 & 1 & -2 & 1 & 0 & 0 \\\\\n3 & -1 & 1 & 0 & 1 & 0 \\\\\n1 & -1 & 1 & 0 & 0 & 1\n\\end{array}\\right ] $$ with $\\det A =2$."
      }
     },
     "d13ae58f71d24ceab343610bfb8cff07": {
      "model_module": "@jupyter-widgets/base",
      "model_module_version": "1.2.0",
      "model_name": "LayoutModel",
      "state": {
       "width": "150px"
      }
     },
     "d14ab43598aa4951b21c510595540277": {
      "model_module": "@jupyter-widgets/controls",
      "model_module_version": "1.5.0",
      "model_name": "DescriptionStyleModel",
      "state": {
       "description_width": ""
      }
     },
     "d14b119ca725417c9d65ce255efe8b4e": {
      "model_module": "@jupyter-widgets/controls",
      "model_module_version": "1.5.0",
      "model_name": "HBoxModel",
      "state": {
       "children": [
        "IPY_MODEL_3c71608d4e084918872dd4840230c98a",
        "IPY_MODEL_96a669ea2fbc4f5b89d66566f7c35020"
       ],
       "layout": "IPY_MODEL_17e0c499ff3b41f7acfe1f46931781d3"
      }
     },
     "d19375b63f4b4e069ae82d3822ecfbd2": {
      "model_module": "@jupyter-widgets/base",
      "model_module_version": "1.2.0",
      "model_name": "LayoutModel",
      "state": {
       "height": "35px",
       "width": "40px"
      }
     },
     "d1a162c79f59407b9ca55ea7eee0226d": {
      "model_module": "@jupyter-widgets/controls",
      "model_module_version": "1.5.0",
      "model_name": "VBoxModel",
      "state": {
       "children": [
        "IPY_MODEL_a64bd27427cc43f99688e7ef7a714386",
        "IPY_MODEL_e736b81508d841458dff96b9825a05ff",
        "IPY_MODEL_f80f2684859c49cf99f4f5f07b214ddb"
       ],
       "layout": "IPY_MODEL_792ca8dcec6d4416ab1ee7481ad1d3bc"
      }
     },
     "d1c586af65894408bd4d86661bec2829": {
      "model_module": "@jupyter-widgets/controls",
      "model_module_version": "1.5.0",
      "model_name": "ButtonStyleModel",
      "state": {}
     },
     "d1e7cd7d7a5c4afb97dada2c7c6d1757": {
      "model_module": "@jupyter-widgets/base",
      "model_module_version": "1.2.0",
      "model_name": "LayoutModel",
      "state": {}
     },
     "d22fab0b63f24ec48dd8a67aa7ce583d": {
      "model_module": "@jupyter-widgets/base",
      "model_module_version": "1.2.0",
      "model_name": "LayoutModel",
      "state": {
       "width": "100px"
      }
     },
     "d236ef24818641ada0cbeffc529212a6": {
      "model_module": "@jupyter-widgets/controls",
      "model_module_version": "1.5.0",
      "model_name": "DescriptionStyleModel",
      "state": {
       "description_width": ""
      }
     },
     "d26df39d21404e7dbc3b8384096cc245": {
      "model_module": "@jupyter-widgets/controls",
      "model_module_version": "1.5.0",
      "model_name": "DescriptionStyleModel",
      "state": {
       "description_width": ""
      }
     },
     "d2734faefdb7480eb2354117a15b2297": {
      "model_module": "@jupyter-widgets/controls",
      "model_module_version": "1.5.0",
      "model_name": "VBoxModel",
      "state": {
       "children": [
        "IPY_MODEL_b24188af17df4f399847f097fc67807e",
        "IPY_MODEL_e098073954fa46139aa9200e78493a23",
        "IPY_MODEL_0e854f26a1f34e898cea5d16e4114734"
       ],
       "layout": "IPY_MODEL_adbc7a5cde2f488fa91e3863dddfbf14"
      }
     },
     "d2975ec20bc64de584422d5b03eb5b92": {
      "model_module": "@jupyter-widgets/controls",
      "model_module_version": "1.5.0",
      "model_name": "DescriptionStyleModel",
      "state": {
       "description_width": ""
      }
     },
     "d29f4c6323274c2ea715833a610068a5": {
      "model_module": "@jupyter-widgets/base",
      "model_module_version": "1.2.0",
      "model_name": "LayoutModel",
      "state": {
       "height": "35px",
       "width": "40px"
      }
     },
     "d2d1b440affe438396b490507137e651": {
      "model_module": "@jupyter-widgets/base",
      "model_module_version": "1.2.0",
      "model_name": "LayoutModel",
      "state": {
       "flex_flow": "row wrap",
       "justify_content": "space-around"
      }
     },
     "d2d4b9ce88014140ab49c9adbfc4f41f": {
      "model_module": "@jupyter-widgets/base",
      "model_module_version": "1.2.0",
      "model_name": "LayoutModel",
      "state": {}
     },
     "d3542c6f82024eb3a1cd9efb49890f9f": {
      "model_module": "@jupyter-widgets/controls",
      "model_module_version": "1.5.0",
      "model_name": "VBoxModel",
      "state": {
       "children": [
        "IPY_MODEL_a1ce92debc5449bea8d605f768d35758",
        "IPY_MODEL_f55679be91804d4f9d252887e5809fb7"
       ],
       "layout": "IPY_MODEL_a80f5b1f21024f9980cad50d329d0c4f"
      }
     },
     "d3577b9756e14580abee88ac71105f68": {
      "model_module": "@jupyter-widgets/base",
      "model_module_version": "1.2.0",
      "model_name": "LayoutModel",
      "state": {
       "width": "150px"
      }
     },
     "d378e134c1ff45c398c6ec228da84b6d": {
      "model_module": "@jupyter-widgets/controls",
      "model_module_version": "1.5.0",
      "model_name": "HBoxModel",
      "state": {
       "children": [
        "IPY_MODEL_bda164a7675c4815915aab80fb22cbd5",
        "IPY_MODEL_ba9d8ed3affd4cce956a957e92fc06ba",
        "IPY_MODEL_7d5af838b19146bda1e6b996a266cbc1"
       ],
       "layout": "IPY_MODEL_43f262eff72c4c2e90aeccd4baa0667e"
      }
     },
     "d382f148ae7b496289dba4b4a742459a": {
      "model_module": "@jupyter-widgets/base",
      "model_module_version": "1.2.0",
      "model_name": "LayoutModel",
      "state": {}
     },
     "d38f7da0c63b498081f82b3bd6818b43": {
      "model_module": "@jupyter-widgets/base",
      "model_module_version": "1.2.0",
      "model_name": "LayoutModel",
      "state": {}
     },
     "d3961b286e8449bfb9c36530c960b59e": {
      "model_module": "@jupyter-widgets/base",
      "model_module_version": "1.2.0",
      "model_name": "LayoutModel",
      "state": {
       "justify_content": "center"
      }
     },
     "d3a2dffb419a427f82b357cdb6c93552": {
      "model_module": "@jupyter-widgets/controls",
      "model_module_version": "1.5.0",
      "model_name": "DescriptionStyleModel",
      "state": {
       "description_width": ""
      }
     },
     "d3bc5cdde6e34f878db129df2557e8b0": {
      "model_module": "@jupyter-widgets/controls",
      "model_module_version": "1.5.0",
      "model_name": "DescriptionStyleModel",
      "state": {
       "description_width": ""
      }
     },
     "d4136dda8f1e4270a05e57176b3a99e2": {
      "model_module": "@jupyter-widgets/controls",
      "model_module_version": "1.5.0",
      "model_name": "BoxModel",
      "state": {
       "children": [
        "IPY_MODEL_73ee0f582b8a47ddaa082f8751c1d7bd",
        "IPY_MODEL_ad4c3723b87b4ba085595b1ea9c730c5",
        "IPY_MODEL_5fa9267f6145465a8c1e18cc3fe44763"
       ],
       "layout": "IPY_MODEL_698f2c44ed154d589d08023a78456c13"
      }
     },
     "d417958f9d82411686235ceea5189d63": {
      "model_module": "@jupyter-widgets/base",
      "model_module_version": "1.2.0",
      "model_name": "LayoutModel",
      "state": {
       "justify_content": "center"
      }
     },
     "d42ac3b225bd4689a874832738e5ae45": {
      "model_module": "@jupyter-widgets/base",
      "model_module_version": "1.2.0",
      "model_name": "LayoutModel",
      "state": {
       "align_items": "center",
       "flex_flow": "row wrap",
       "height": "100px",
       "justify_content": "space-around"
      }
     },
     "d42c3ba77c7f4672b714f37ec4713de5": {
      "model_module": "@jupyter-widgets/base",
      "model_module_version": "1.2.0",
      "model_name": "LayoutModel",
      "state": {
       "width": "150px"
      }
     },
     "d439cf17d9594c0d8444aa336c93b871": {
      "model_module": "@jupyter-widgets/controls",
      "model_module_version": "1.5.0",
      "model_name": "DescriptionStyleModel",
      "state": {
       "description_width": ""
      }
     },
     "d4d73753c111421397fa81c160aeb22f": {
      "model_module": "@jupyter-widgets/controls",
      "model_module_version": "1.5.0",
      "model_name": "HBoxModel",
      "state": {
       "children": [
        "IPY_MODEL_dae4d48ce82f4ec6a5d7503564d6cbbf",
        "IPY_MODEL_dabf09ca29bc4949bc0eb68d8895c791",
        "IPY_MODEL_1f2e25fea01a424596c78c53bb17c23e"
       ],
       "layout": "IPY_MODEL_07a22c4406ee4243ac72cb744db5ab19"
      }
     },
     "d4df5a3590014531ab48d0c394dca053": {
      "model_module": "@jupyter-widgets/controls",
      "model_module_version": "1.5.0",
      "model_name": "DescriptionStyleModel",
      "state": {
       "description_width": ""
      }
     },
     "d4f22d1be86749a88d55a4d2ea1c9654": {
      "model_module": "@jupyter-widgets/controls",
      "model_module_version": "1.5.0",
      "model_name": "DescriptionStyleModel",
      "state": {
       "description_width": ""
      }
     },
     "d4faf9dbbbf14986882b5b9b12ba1401": {
      "model_module": "@jupyter-widgets/controls",
      "model_module_version": "1.5.0",
      "model_name": "TextModel",
      "state": {
       "layout": "IPY_MODEL_a6b672bf88094d8fa8327c74293c6a55",
       "style": "IPY_MODEL_658cde154c9f488fb0be7c7c29c0af9c",
       "value": "2"
      }
     },
     "d51c976462574d398cf26800e349e1f7": {
      "model_module": "@jupyter-widgets/controls",
      "model_module_version": "1.5.0",
      "model_name": "DescriptionStyleModel",
      "state": {
       "description_width": ""
      }
     },
     "d52a604bf63d477da2ef70e30e0ba77b": {
      "model_module": "@jupyter-widgets/base",
      "model_module_version": "1.2.0",
      "model_name": "LayoutModel",
      "state": {}
     },
     "d53d52cd50104d68898013add0990e73": {
      "model_module": "@jupyter-widgets/controls",
      "model_module_version": "1.5.0",
      "model_name": "VBoxModel",
      "state": {
       "children": [
        "IPY_MODEL_e9b0283856634de6b495c663d4849e1e",
        "IPY_MODEL_f242ecd4d96e4910b2a4edd8381ba44a",
        "IPY_MODEL_8e336dfb072749efa54b8ba74eba652b"
       ],
       "layout": "IPY_MODEL_bf0dc975693f4895844fa486730a0835"
      }
     },
     "d5664297b59d433da038aaca81fcf4f4": {
      "model_module": "@jupyter-widgets/controls",
      "model_module_version": "1.5.0",
      "model_name": "DescriptionStyleModel",
      "state": {
       "description_width": ""
      }
     },
     "d5720e1b89794f4191711502677e5a47": {
      "model_module": "@jupyter-widgets/controls",
      "model_module_version": "1.5.0",
      "model_name": "DescriptionStyleModel",
      "state": {
       "description_width": ""
      }
     },
     "d577e1fb946147aa9930a4b70e68a4fb": {
      "model_module": "@jupyter-widgets/controls",
      "model_module_version": "1.5.0",
      "model_name": "HBoxModel",
      "state": {
       "children": [
        "IPY_MODEL_8363861efeb44f65a73f81e9e9e45408",
        "IPY_MODEL_b0f3d5c3592b45bc8def281b3843d570",
        "IPY_MODEL_af5ac56f1a17454981bcfb78194ab92f"
       ],
       "layout": "IPY_MODEL_302d4cb0457b491aa3b3d1fe539d68e4"
      }
     },
     "d584c5573e924c35b4bef2919816e088": {
      "model_module": "@jupyter-widgets/controls",
      "model_module_version": "1.5.0",
      "model_name": "DescriptionStyleModel",
      "state": {
       "description_width": ""
      }
     },
     "d59d73dbbf0247e09209869aefcfed17": {
      "model_module": "@jupyter-widgets/controls",
      "model_module_version": "1.5.0",
      "model_name": "DescriptionStyleModel",
      "state": {
       "description_width": ""
      }
     },
     "d5ed8d38b04b4bdca84cb58f02d9b76c": {
      "model_module": "@jupyter-widgets/controls",
      "model_module_version": "1.5.0",
      "model_name": "ButtonModel",
      "state": {
       "description": "Add rows",
       "layout": "IPY_MODEL_3b65071cc1da4db9ba354c90840295a7",
       "style": "IPY_MODEL_194d9d1ee85c4bb2bbd6da3bbc0be3c7"
      }
     },
     "d60ba313d905431984e79fc1504cd97d": {
      "model_module": "@jupyter-widgets/controls",
      "model_module_version": "1.5.0",
      "model_name": "DescriptionStyleModel",
      "state": {
       "description_width": ""
      }
     },
     "d627a5402c1d4b18adfb2315ca5e7443": {
      "model_module": "@jupyter-widgets/controls",
      "model_module_version": "1.5.0",
      "model_name": "TextModel",
      "state": {
       "layout": "IPY_MODEL_fc4b7699475642ecb4c02ebf24f1e6a2",
       "style": "IPY_MODEL_178963f860734af49feb5cf335e970a4",
       "value": "1"
      }
     },
     "d62fdda3d13f47608268dff3c78617c1": {
      "model_module": "@jupyter-widgets/base",
      "model_module_version": "1.2.0",
      "model_name": "LayoutModel",
      "state": {
       "width": "150px"
      }
     },
     "d63f8d90634348ba8b9f82f2885e9c0a": {
      "model_module": "@jupyter-widgets/base",
      "model_module_version": "1.2.0",
      "model_name": "LayoutModel",
      "state": {}
     },
     "d64c192c2e9c47969bacd26bd2f5c1c0": {
      "model_module": "@jupyter-widgets/controls",
      "model_module_version": "1.5.0",
      "model_name": "TextModel",
      "state": {
       "layout": "IPY_MODEL_d743f8ba50f447a3ad2d5faaa6a0e9e2",
       "style": "IPY_MODEL_6aad26db731740b8b2ca4c39a85f2b19",
       "value": "5"
      }
     },
     "d6681414000d4325912639ed0d21f09f": {
      "model_module": "@jupyter-widgets/base",
      "model_module_version": "1.2.0",
      "model_name": "LayoutModel",
      "state": {
       "width": "120px"
      }
     },
     "d67c2a5bf2b249a88dea1110b382f7c6": {
      "model_module": "@jupyter-widgets/controls",
      "model_module_version": "1.5.0",
      "model_name": "HBoxModel",
      "state": {
       "children": [
        "IPY_MODEL_c6fead6402ef4e8cb8b7bd65eaf95664",
        "IPY_MODEL_764b8b0cedbd4c79a3ddca781dd65111"
       ],
       "layout": "IPY_MODEL_b4aea46e342b496da1e0c1e683c32a1d"
      }
     },
     "d69bb84337db4f48941714568863f569": {
      "model_module": "@jupyter-widgets/controls",
      "model_module_version": "1.5.0",
      "model_name": "TextModel",
      "state": {
       "layout": "IPY_MODEL_8642d067baba44c0bf86d09f3f211429",
       "style": "IPY_MODEL_a2175b79f9884a63a08fb01aebcb6fb7",
       "value": "1"
      }
     },
     "d6b33ac2f14344cf8789bd051693575d": {
      "model_module": "@jupyter-widgets/controls",
      "model_module_version": "1.5.0",
      "model_name": "HBoxModel",
      "state": {
       "children": [
        "IPY_MODEL_bba377566f814d8798656e5f02cd836f",
        "IPY_MODEL_1effe42e72904ed4a3ac27a9bcfc01e8",
        "IPY_MODEL_78864e46ebbb437499a3b0fc5e55490d"
       ],
       "layout": "IPY_MODEL_0a7a2840a4d34eb489c319e2f6bc64c4"
      }
     },
     "d6c32aeabf1b4d68aee21dcb28d2abae": {
      "model_module": "@jupyter-widgets/base",
      "model_module_version": "1.2.0",
      "model_name": "LayoutModel",
      "state": {
       "width": "100px"
      }
     },
     "d6c6adca572f4199b30f3c341b36e2c0": {
      "model_module": "@jupyter-widgets/controls",
      "model_module_version": "1.5.0",
      "model_name": "TextModel",
      "state": {
       "layout": "IPY_MODEL_c0d9a1b66a034d3c880457f50a593771",
       "style": "IPY_MODEL_e028c24dad864eca9ad8802e2bab8317",
       "value": "-2"
      }
     },
     "d6c8e4c590dc4dd18f5dc4b218e6ee0e": {
      "model_module": "@jupyter-widgets/base",
      "model_module_version": "1.2.0",
      "model_name": "LayoutModel",
      "state": {
       "flex_flow": "row wrap",
       "justify_content": "space-around"
      }
     },
     "d6d6590af3f94b7680a3f8bbdc28fcbf": {
      "model_module": "@jupyter-widgets/controls",
      "model_module_version": "1.5.0",
      "model_name": "VBoxModel",
      "state": {
       "children": [
        "IPY_MODEL_f2cee3b571a1433e89ea17c4c5ccee8e",
        "IPY_MODEL_cc69688fba2847fe8351bce08673ec69",
        "IPY_MODEL_2dca3d6de0fa4e00a564ca06e66f88a3"
       ],
       "layout": "IPY_MODEL_8941e8425a424eb88e6e0f44972dd4bb"
      }
     },
     "d6def6e010bd4ac3a65f888bd214de72": {
      "model_module": "@jupyter-widgets/controls",
      "model_module_version": "1.5.0",
      "model_name": "VBoxModel",
      "state": {
       "children": [
        "IPY_MODEL_4081949446e141c1879d5345ef974dcf",
        "IPY_MODEL_b3087980f9df4a809d553216df4fc908"
       ],
       "layout": "IPY_MODEL_b58ecbeb11f34c18baa76e340523697c"
      }
     },
     "d6e2a00a03964f8c9b8930ec390ea29a": {
      "model_module": "@jupyter-widgets/base",
      "model_module_version": "1.2.0",
      "model_name": "LayoutModel",
      "state": {}
     },
     "d6fd0916667e4fdf925042c57bf09178": {
      "model_module": "@jupyter-widgets/controls",
      "model_module_version": "1.5.0",
      "model_name": "HBoxModel",
      "state": {
       "children": [
        "IPY_MODEL_3d7ae768a6aa4b79ae3f122f7f6b3c9f",
        "IPY_MODEL_fd062927d4e64720a93e17e638bc51e8",
        "IPY_MODEL_d9f4e7d5e04f434da7a01485bc790be9"
       ],
       "layout": "IPY_MODEL_a1982a7ec499433b9545e6c2fab70671"
      }
     },
     "d705ab541c184fdd914d1eeed013d2fe": {
      "model_module": "@jupyter-widgets/controls",
      "model_module_version": "1.5.0",
      "model_name": "VBoxModel",
      "state": {
       "children": [
        "IPY_MODEL_2c8b4e40a7ca496f9b0eaada84c1273f",
        "IPY_MODEL_d9ee16d5e4f0466bb47ae0840e1ddcf7",
        "IPY_MODEL_56439ffcae5540438700e3133c8c5cb7"
       ],
       "layout": "IPY_MODEL_647528c4a94c456b95ac9387f01e90e1"
      }
     },
     "d71a823a25024b71a0990c9dbc0b64c2": {
      "model_module": "@jupyter-widgets/base",
      "model_module_version": "1.2.0",
      "model_name": "LayoutModel",
      "state": {
       "width": "90px"
      }
     },
     "d739557e42f34aad946a29463dbb13ab": {
      "model_module": "@jupyter-widgets/base",
      "model_module_version": "1.2.0",
      "model_name": "LayoutModel",
      "state": {
       "height": "300px",
       "justify_content": "center"
      }
     },
     "d743f8ba50f447a3ad2d5faaa6a0e9e2": {
      "model_module": "@jupyter-widgets/base",
      "model_module_version": "1.2.0",
      "model_name": "LayoutModel",
      "state": {
       "height": "35px",
       "width": "30px"
      }
     },
     "d7557671ad7141079ff3bede386495ff": {
      "model_module": "@jupyter-widgets/controls",
      "model_module_version": "1.5.0",
      "model_name": "DescriptionStyleModel",
      "state": {
       "description_width": ""
      }
     },
     "d7694ba28681409aa3717d96fbd0e042": {
      "model_module": "@jupyter-widgets/controls",
      "model_module_version": "1.5.0",
      "model_name": "HTMLMathModel",
      "state": {
       "layout": "IPY_MODEL_4c7f89702ca9437597ff04bd3ff8e636",
       "style": "IPY_MODEL_0ba799e20a8e4d89aae6d2dc798c607e"
      }
     },
     "d76f91ce1d7d4c6cb2ccc147698b3fe0": {
      "model_module": "@jupyter-widgets/base",
      "model_module_version": "1.2.0",
      "model_name": "LayoutModel",
      "state": {
       "width": "150px"
      }
     },
     "d77c3c582c73441ab327a555a69e203a": {
      "model_module": "@jupyter-widgets/base",
      "model_module_version": "1.2.0",
      "model_name": "LayoutModel",
      "state": {}
     },
     "d7caf43b50be46f6a5195292db8ca2d9": {
      "model_module": "@jupyter-widgets/controls",
      "model_module_version": "1.5.0",
      "model_name": "BoxModel",
      "state": {
       "children": [
        "IPY_MODEL_e322fb26c0df4af084877b05e3ab6642",
        "IPY_MODEL_855fdb399c6648809bc6ff75c2c0cd7e",
        "IPY_MODEL_d12a958e7b15475fbee7e34cee85438c"
       ],
       "layout": "IPY_MODEL_f859e21fd66d42d9a82a77868839d293"
      }
     },
     "d7d07c72b0934bfc8ebe912b0cf3117b": {
      "model_module": "@jupyter-widgets/controls",
      "model_module_version": "1.5.0",
      "model_name": "TextModel",
      "state": {
       "description": "times",
       "layout": "IPY_MODEL_f72c7adb21ae43db9613f6661669326b",
       "style": "IPY_MODEL_afc6d3f6bf3347eba5325746f85bab4b",
       "value": "1"
      }
     },
     "d7dc4a3ff86b48348606646f92be89ea": {
      "model_module": "@jupyter-widgets/controls",
      "model_module_version": "1.5.0",
      "model_name": "HTMLModel",
      "state": {
       "layout": "IPY_MODEL_1c5730d8a32748b5a80bee5b82425007",
       "style": "IPY_MODEL_abf884726f024e6f9ab76c4cd78aa330",
       "value": "Click this button to start the calculator"
      }
     },
     "d820b318ccac40d08640f560a801fd28": {
      "model_module": "@jupyter-widgets/base",
      "model_module_version": "1.2.0",
      "model_name": "LayoutModel",
      "state": {
       "width": "40px"
      }
     },
     "d835e14b95ff413da8e335b159e808d6": {
      "model_module": "@jupyter-widgets/controls",
      "model_module_version": "1.5.0",
      "model_name": "HBoxModel",
      "state": {
       "children": [
        "IPY_MODEL_28f1a048e81e46ff8588ec500ca814bc",
        "IPY_MODEL_5c7dd0149eb6408998e2ffea88a44db3"
       ],
       "layout": "IPY_MODEL_7e1e1ebf3c6040dc8cbb0e9ee77be293"
      }
     },
     "d83be6200d3d44409f3f7e65e09c0921": {
      "model_module": "@jupyter-widgets/controls",
      "model_module_version": "1.5.0",
      "model_name": "DescriptionStyleModel",
      "state": {
       "description_width": ""
      }
     },
     "d84975169d9f41d88a20e3d87c4d09fe": {
      "model_module": "@jupyter-widgets/controls",
      "model_module_version": "1.5.0",
      "model_name": "ButtonStyleModel",
      "state": {}
     },
     "d852a8e617e34f50b89f6a7fa6161c01": {
      "model_module": "@jupyter-widgets/controls",
      "model_module_version": "1.5.0",
      "model_name": "DescriptionStyleModel",
      "state": {
       "description_width": ""
      }
     },
     "d852abe18e5c4992bcffb3eb1cf43475": {
      "model_module": "@jupyter-widgets/controls",
      "model_module_version": "1.5.0",
      "model_name": "DropdownModel",
      "state": {
       "_options_labels": [
        "1",
        "2",
        "3"
       ],
       "description": "to row",
       "index": 1,
       "layout": "IPY_MODEL_85e92960f2b348aaaedcbf3b19a27ed3",
       "style": "IPY_MODEL_df78399679744728abd9be0140b00304"
      }
     },
     "d85901dbcb234b2f9fdbb510a342a5d1": {
      "model_module": "@jupyter-widgets/controls",
      "model_module_version": "1.5.0",
      "model_name": "DescriptionStyleModel",
      "state": {
       "description_width": ""
      }
     },
     "d86a016ae96e491cbbb1cafd05657077": {
      "model_module": "@jupyter-widgets/controls",
      "model_module_version": "1.5.0",
      "model_name": "VBoxModel",
      "state": {
       "children": [
        "IPY_MODEL_aafc93c83c6644fabcccebba9a26abe4",
        "IPY_MODEL_34c2d76774104927845e81ec043b97e3",
        "IPY_MODEL_889d659f554741789020ce2ba75dbb73"
       ],
       "layout": "IPY_MODEL_849f4f13f3c24cbaa3acbd17eec86146"
      }
     },
     "d89917ebf05e43e79771a0c9b9a09f82": {
      "model_module": "@jupyter-widgets/controls",
      "model_module_version": "1.5.0",
      "model_name": "VBoxModel",
      "state": {
       "children": [
        "IPY_MODEL_b875b9a36324497aa2132759ec1673d6",
        "IPY_MODEL_a04b7220506c49c7ba32a3589801f426"
       ],
       "layout": "IPY_MODEL_71d35b37ce8e4a009830e6b08ff10f9e"
      }
     },
     "d8a5fee0b34149b581b27226d34f81fd": {
      "model_module": "@jupyter-widgets/controls",
      "model_module_version": "1.5.0",
      "model_name": "DescriptionStyleModel",
      "state": {
       "description_width": ""
      }
     },
     "d8c372fe3176421f8c76a1954edc6f31": {
      "model_module": "@jupyter-widgets/base",
      "model_module_version": "1.2.0",
      "model_name": "LayoutModel",
      "state": {
       "width": "90px"
      }
     },
     "d8d558cfae7743ee98c2838480f962fc": {
      "model_module": "@jupyter-widgets/base",
      "model_module_version": "1.2.0",
      "model_name": "LayoutModel",
      "state": {
       "width": "100px"
      }
     },
     "d8dc53c0dd0a431f85ee7bc2d5650652": {
      "model_module": "@jupyter-widgets/controls",
      "model_module_version": "1.5.0",
      "model_name": "TextModel",
      "state": {
       "layout": "IPY_MODEL_8642d067baba44c0bf86d09f3f211429",
       "style": "IPY_MODEL_5a039a8077f2480db6f4d9e20fe8e0eb",
       "value": "-1"
      }
     },
     "d8e3b817cb8b4e31a42bc9dbee5d0cec": {
      "model_module": "@jupyter-widgets/controls",
      "model_module_version": "1.5.0",
      "model_name": "ButtonModel",
      "state": {
       "description": "Add rows",
       "layout": "IPY_MODEL_817b8188af144d88a141cf14449faa37",
       "style": "IPY_MODEL_0fd5928b876c4d9d80f95ab4c8fc7851"
      }
     },
     "d8e8ffe1a6e44cbcb1cc12b20a9b20f4": {
      "model_module": "@jupyter-widgets/controls",
      "model_module_version": "1.5.0",
      "model_name": "DescriptionStyleModel",
      "state": {
       "description_width": ""
      }
     },
     "d915ffffc8524ecebac4fa7fdd73994b": {
      "model_module": "@jupyter-widgets/base",
      "model_module_version": "1.2.0",
      "model_name": "LayoutModel",
      "state": {}
     },
     "d921c4620ed54d18aabf21b32cd98d09": {
      "model_module": "@jupyter-widgets/controls",
      "model_module_version": "1.5.0",
      "model_name": "DescriptionStyleModel",
      "state": {
       "description_width": ""
      }
     },
     "d938bde17f534f0f9e33df1ffd1805d0": {
      "model_module": "@jupyter-widgets/controls",
      "model_module_version": "1.5.0",
      "model_name": "DescriptionStyleModel",
      "state": {
       "description_width": ""
      }
     },
     "d94d6bb532ae4043b66dd8bb46b08d9f": {
      "model_module": "@jupyter-widgets/base",
      "model_module_version": "1.2.0",
      "model_name": "LayoutModel",
      "state": {}
     },
     "d97f79a9280841749a406698dfb0ed5a": {
      "model_module": "@jupyter-widgets/controls",
      "model_module_version": "1.5.0",
      "model_name": "ButtonModel",
      "state": {
       "description": "Start",
       "layout": "IPY_MODEL_e9f9930c48bc48f6a986ef6ab7558200",
       "style": "IPY_MODEL_2bd11f98038f403bb960dc717e6e444e"
      }
     },
     "d9869f6e160c41b1a9238a5e8bbf4995": {
      "model_module": "@jupyter-widgets/controls",
      "model_module_version": "1.5.0",
      "model_name": "DescriptionStyleModel",
      "state": {
       "description_width": ""
      }
     },
     "d9930c5b19da4d56bb1d496ea65bd9ab": {
      "model_module": "@jupyter-widgets/controls",
      "model_module_version": "1.5.0",
      "model_name": "HBoxModel",
      "state": {
       "children": [
        "IPY_MODEL_5aae81e3f8024790bf8f109c0f926404",
        "IPY_MODEL_4fee6ca95fdf446f8183537c8640bb94"
       ],
       "layout": "IPY_MODEL_bd34cf3c22034811990da6fab58469be"
      }
     },
     "d9b2bcc850874c34a15b4c2d4a6ce473": {
      "model_module": "@jupyter-widgets/controls",
      "model_module_version": "1.5.0",
      "model_name": "TextModel",
      "state": {
       "layout": "IPY_MODEL_342fbdc31d2d406489b24d1349c22e03",
       "style": "IPY_MODEL_a61e26bcf0054796956aaca78e8b2271",
       "value": "5"
      }
     },
     "d9c2f9ff74ba44978691a0d8e10a1d76": {
      "model_module": "@jupyter-widgets/controls",
      "model_module_version": "1.5.0",
      "model_name": "DropdownModel",
      "state": {
       "_options_labels": [
        "1",
        "2",
        "3"
       ],
       "description": "and row",
       "index": 1,
       "layout": "IPY_MODEL_2699498574154a41bb61d281b07169c6",
       "style": "IPY_MODEL_eb63194e107e4ce3bed97e9bfb8a3402"
      }
     },
     "d9d3994636a44eaaa5a0469788291ebe": {
      "model_module": "@jupyter-widgets/controls",
      "model_module_version": "1.5.0",
      "model_name": "HTMLMathModel",
      "state": {
       "layout": "IPY_MODEL_d8c372fe3176421f8c76a1954edc6f31",
       "style": "IPY_MODEL_80e59833f6494e16b4b1c0396502e5f1",
       "value": "Enter here the values of the coefficient matrix $\\bf{A}$"
      }
     },
     "d9d715ad2ebb4fd793635dffa6b6c961": {
      "model_module": "@jupyter-widgets/controls",
      "model_module_version": "1.5.0",
      "model_name": "HBoxModel",
      "state": {
       "children": [
        "IPY_MODEL_46f72c47f38e4a7ca556826107ebf7a0",
        "IPY_MODEL_418be70cb35c4d6cb945a7859ea6272f",
        "IPY_MODEL_019741eae2b04e70b2515ba7cefce9a3"
       ],
       "layout": "IPY_MODEL_2afa6b4e140c44e6bef60f47b1573a3d"
      }
     },
     "d9eac83519e8422a8cdc935469cd93f4": {
      "model_module": "@jupyter-widgets/controls",
      "model_module_version": "1.5.0",
      "model_name": "DescriptionStyleModel",
      "state": {
       "description_width": ""
      }
     },
     "d9eb850473d54beaba7348c31cb89e3e": {
      "model_module": "@jupyter-widgets/controls",
      "model_module_version": "1.5.0",
      "model_name": "BoxModel",
      "state": {
       "children": [
        "IPY_MODEL_1a49f50980d546b78848028893a4217c",
        "IPY_MODEL_e1f33a6ce3064a3eb91d81f165fb8463",
        "IPY_MODEL_12c88b7bec5f4eb2b97f1c12dbd41baa",
        "IPY_MODEL_9f5c6fc6e5d54c558e0b19411d7d63f6"
       ],
       "layout": "IPY_MODEL_231b58a9b1854609a5f4b598fa6e40bb"
      }
     },
     "d9ee16d5e4f0466bb47ae0840e1ddcf7": {
      "model_module": "@jupyter-widgets/controls",
      "model_module_version": "1.5.0",
      "model_name": "TextModel",
      "state": {
       "description": "times",
       "layout": "IPY_MODEL_0b01db88c7cb4ac6977b3fba519464f4",
       "style": "IPY_MODEL_9b0ab126f2a94decb4852f31c7b8ed4b",
       "value": "1"
      }
     },
     "d9f4e7d5e04f434da7a01485bc790be9": {
      "model_module": "@jupyter-widgets/controls",
      "model_module_version": "1.5.0",
      "model_name": "TextModel",
      "state": {
       "layout": "IPY_MODEL_4bcd3a11811347d3979a9396c2e71cd4",
       "style": "IPY_MODEL_268b20f256bc4d2cb538471abe1d5078",
       "value": "1"
      }
     },
     "da49f8edf9cc477cb16925ea0bccc703": {
      "model_module": "@jupyter-widgets/base",
      "model_module_version": "1.2.0",
      "model_name": "LayoutModel",
      "state": {}
     },
     "da61b83affe64168a457008ddd35ea35": {
      "model_module": "@jupyter-widgets/controls",
      "model_module_version": "1.5.0",
      "model_name": "TextModel",
      "state": {
       "layout": "IPY_MODEL_0360a59724284d16ab0033f9c2a97d5d",
       "style": "IPY_MODEL_e1bb77af8711423cab80fb5cbe2a13b1",
       "value": "4"
      }
     },
     "da8cd33a5af14e178055b87c686b4da4": {
      "model_module": "@jupyter-widgets/controls",
      "model_module_version": "1.5.0",
      "model_name": "DescriptionStyleModel",
      "state": {
       "description_width": ""
      }
     },
     "da989811bb7644fc9583e9cdd984ae83": {
      "model_module": "@jupyter-widgets/controls",
      "model_module_version": "1.5.0",
      "model_name": "DescriptionStyleModel",
      "state": {
       "description_width": ""
      }
     },
     "da98e56535d741acbe0e00f49579d43f": {
      "model_module": "@jupyter-widgets/controls",
      "model_module_version": "1.5.0",
      "model_name": "DescriptionStyleModel",
      "state": {
       "description_width": ""
      }
     },
     "daa4948152cd46389d4e46a597b8ef55": {
      "model_module": "@jupyter-widgets/controls",
      "model_module_version": "1.5.0",
      "model_name": "DescriptionStyleModel",
      "state": {
       "description_width": ""
      }
     },
     "dabf09ca29bc4949bc0eb68d8895c791": {
      "model_module": "@jupyter-widgets/controls",
      "model_module_version": "1.5.0",
      "model_name": "TextModel",
      "state": {
       "layout": "IPY_MODEL_c0d9a1b66a034d3c880457f50a593771",
       "style": "IPY_MODEL_d4df5a3590014531ab48d0c394dca053",
       "value": "-1"
      }
     },
     "dae4d48ce82f4ec6a5d7503564d6cbbf": {
      "model_module": "@jupyter-widgets/controls",
      "model_module_version": "1.5.0",
      "model_name": "TextModel",
      "state": {
       "layout": "IPY_MODEL_c0d9a1b66a034d3c880457f50a593771",
       "style": "IPY_MODEL_42082311d26a4af39fea87611f4975a8",
       "value": "3"
      }
     },
     "daee76bbe16249c0b2d8650affe4b792": {
      "model_module": "@jupyter-widgets/base",
      "model_module_version": "1.2.0",
      "model_name": "LayoutModel",
      "state": {
       "width": "150px"
      }
     },
     "db700eeb34994f299e70e242d82678d7": {
      "model_module": "@jupyter-widgets/controls",
      "model_module_version": "1.5.0",
      "model_name": "TextModel",
      "state": {
       "layout": "IPY_MODEL_109f6d462a004bdd9a95542348d778f8",
       "style": "IPY_MODEL_5da7425e44b042cb92ac73d9134a89ae",
       "value": "5"
      }
     },
     "db77f84136dd4f35a126108dccfe26ea": {
      "model_module": "@jupyter-widgets/base",
      "model_module_version": "1.2.0",
      "model_name": "LayoutModel",
      "state": {}
     },
     "db7939a320d249689dd93c2deb712022": {
      "model_module": "@jupyter-widgets/base",
      "model_module_version": "1.2.0",
      "model_name": "LayoutModel",
      "state": {}
     },
     "db7ae4c519314abeb98d3cb06673f90e": {
      "model_module": "@jupyter-widgets/base",
      "model_module_version": "1.2.0",
      "model_name": "LayoutModel",
      "state": {
       "justify_content": "center"
      }
     },
     "db87d0b42b6b464a90308e08be743a0f": {
      "model_module": "@jupyter-widgets/controls",
      "model_module_version": "1.5.0",
      "model_name": "HTMLMathModel",
      "state": {
       "layout": "IPY_MODEL_9a82381e9fc44c2a8bd80e485571bd17",
       "style": "IPY_MODEL_da8cd33a5af14e178055b87c686b4da4",
       "value": "Enter here the values of the matrix $A$"
      }
     },
     "db8abbdc2cba490590a0f6522398d989": {
      "model_module": "@jupyter-widgets/base",
      "model_module_version": "1.2.0",
      "model_name": "LayoutModel",
      "state": {
       "width": "100px"
      }
     },
     "dba69b7bccad43b2972ff6e43106622a": {
      "model_module": "@jupyter-widgets/base",
      "model_module_version": "1.2.0",
      "model_name": "LayoutModel",
      "state": {}
     },
     "dc0aa3db886b4617b8459a2c2c6d301c": {
      "model_module": "@jupyter-widgets/controls",
      "model_module_version": "1.5.0",
      "model_name": "ButtonModel",
      "state": {
       "description": "Add rows",
       "layout": "IPY_MODEL_50a69e84f0dd4e02a3846e3584324659",
       "style": "IPY_MODEL_ed760300f36b4718bd86cd07ba5808a4"
      }
     },
     "dc3342263015440a80b68aa137d531b9": {
      "model_module": "@jupyter-widgets/controls",
      "model_module_version": "1.5.0",
      "model_name": "DescriptionStyleModel",
      "state": {
       "description_width": ""
      }
     },
     "dc62ff2c7b3746f789fbbf6c8188f48d": {
      "model_module": "@jupyter-widgets/base",
      "model_module_version": "1.2.0",
      "model_name": "LayoutModel",
      "state": {
       "height": "300px",
       "justify_content": "center"
      }
     },
     "dc7303c8caa545c99fb323509aa8d4d4": {
      "model_module": "@jupyter-widgets/controls",
      "model_module_version": "1.5.0",
      "model_name": "ButtonModel",
      "state": {
       "description": "Start",
       "layout": "IPY_MODEL_6724c5a3c95547aa851050f5db7d2932",
       "style": "IPY_MODEL_1468d91b96c2407294945354ffa84e77"
      }
     },
     "dc8a8372ee7f42659bbd229b86e3fb3d": {
      "model_module": "@jupyter-widgets/controls",
      "model_module_version": "1.5.0",
      "model_name": "HTMLMathModel",
      "state": {
       "layout": "IPY_MODEL_35a4d40335954b698a53c5f13272b40d",
       "style": "IPY_MODEL_3e2729c4ce094f4f9d7e64306aaa63f5",
       "value": "Results will be shown here."
      }
     },
     "dc8cab5b981849e58feddbd219c43be8": {
      "model_module": "@jupyter-widgets/controls",
      "model_module_version": "1.5.0",
      "model_name": "TextModel",
      "state": {
       "layout": "IPY_MODEL_dfe771ca3cb647c5ba599a113ad575df",
       "style": "IPY_MODEL_fc071ac813e3426581b808b4ae45c247",
       "value": "1"
      }
     },
     "dc907336f31b48ba8bc325ec4b9cfad8": {
      "model_module": "@jupyter-widgets/controls",
      "model_module_version": "1.5.0",
      "model_name": "DescriptionStyleModel",
      "state": {
       "description_width": ""
      }
     },
     "dc90cce451eb4960a24c189a28f3b89f": {
      "model_module": "@jupyter-widgets/controls",
      "model_module_version": "1.5.0",
      "model_name": "HBoxModel",
      "state": {
       "children": [
        "IPY_MODEL_f8aaf4ced7bc4bc0bdf082436460403e",
        "IPY_MODEL_8d6e213d92c7477b9d301a1c44249c19"
       ],
       "layout": "IPY_MODEL_a2a1a61aa5454a9c976e3eaa776ca120"
      }
     },
     "dc9841d6299f46868999d6ca47b139b5": {
      "model_module": "@jupyter-widgets/base",
      "model_module_version": "1.2.0",
      "model_name": "LayoutModel",
      "state": {}
     },
     "dcb07c21a07b40d4ba38f1cd6d7252d8": {
      "model_module": "@jupyter-widgets/controls",
      "model_module_version": "1.5.0",
      "model_name": "DescriptionStyleModel",
      "state": {
       "description_width": ""
      }
     },
     "dccda493be7248868f702c58c867dd03": {
      "model_module": "@jupyter-widgets/controls",
      "model_module_version": "1.5.0",
      "model_name": "DescriptionStyleModel",
      "state": {
       "description_width": ""
      }
     },
     "dccf2d59890948b0ba126789d164cda3": {
      "model_module": "@jupyter-widgets/base",
      "model_module_version": "1.2.0",
      "model_name": "LayoutModel",
      "state": {
       "width": "150px"
      }
     },
     "dcd7341dd28b4bfd94cebdc438839d36": {
      "model_module": "@jupyter-widgets/controls",
      "model_module_version": "1.5.0",
      "model_name": "DescriptionStyleModel",
      "state": {
       "description_width": ""
      }
     },
     "dcef39c61cdc4eeb8b0829449698893d": {
      "model_module": "@jupyter-widgets/controls",
      "model_module_version": "1.5.0",
      "model_name": "DescriptionStyleModel",
      "state": {
       "description_width": ""
      }
     },
     "dcf37afe3f2a45d198e9bb0d0118f0e7": {
      "model_module": "@jupyter-widgets/controls",
      "model_module_version": "1.5.0",
      "model_name": "DescriptionStyleModel",
      "state": {
       "description_width": ""
      }
     },
     "dd09e7724adb4548a5f16ac31ed8c8b5": {
      "model_module": "@jupyter-widgets/controls",
      "model_module_version": "1.5.0",
      "model_name": "TextModel",
      "state": {
       "layout": "IPY_MODEL_7336bcfb9a2145e9a2df614b1768b15f",
       "style": "IPY_MODEL_a717cdbdfa854b5f8de09f1fff010f21",
       "value": "-2"
      }
     },
     "dd261241e3fd4e3f9c3dc2987a6d673d": {
      "model_module": "@jupyter-widgets/controls",
      "model_module_version": "1.5.0",
      "model_name": "ButtonModel",
      "state": {
       "description": "Multiply row",
       "layout": "IPY_MODEL_db77f84136dd4f35a126108dccfe26ea",
       "style": "IPY_MODEL_4387ebf327ca4900b2e495c60800cba1"
      }
     },
     "dd26dd8864c14c5c8e310a1995b909d3": {
      "model_module": "@jupyter-widgets/base",
      "model_module_version": "1.2.0",
      "model_name": "LayoutModel",
      "state": {}
     },
     "dd347cb9118a4916a3bfb73c72f7aa18": {
      "model_module": "@jupyter-widgets/controls",
      "model_module_version": "1.5.0",
      "model_name": "DropdownModel",
      "state": {
       "_options_labels": [
        "1",
        "2",
        "3"
       ],
       "description": "to row",
       "index": 0,
       "layout": "IPY_MODEL_5d19451c7550443294f4b4435c644393",
       "style": "IPY_MODEL_84489c3cabcc4e90a072c13fd0627cae"
      }
     },
     "dd4349edd809488bb1eaf618557e7e5e": {
      "model_module": "@jupyter-widgets/base",
      "model_module_version": "1.2.0",
      "model_name": "LayoutModel",
      "state": {}
     },
     "dd51328560d842b5aef05dd427212146": {
      "model_module": "@jupyter-widgets/controls",
      "model_module_version": "1.5.0",
      "model_name": "DescriptionStyleModel",
      "state": {
       "description_width": ""
      }
     },
     "dd7564191cbe4edd9177a7263bd8d50b": {
      "model_module": "@jupyter-widgets/controls",
      "model_module_version": "1.5.0",
      "model_name": "TextModel",
      "state": {
       "layout": "IPY_MODEL_8642f3d57e224dca89f44c73206facdc",
       "style": "IPY_MODEL_d9869f6e160c41b1a9238a5e8bbf4995",
       "value": "4"
      }
     },
     "dd77878f5e5c4cbfb022fe1ae57e409f": {
      "model_module": "@jupyter-widgets/controls",
      "model_module_version": "1.5.0",
      "model_name": "DescriptionStyleModel",
      "state": {
       "description_width": ""
      }
     },
     "dd818aa1c6ba48c9a537cd66f52b81c9": {
      "model_module": "@jupyter-widgets/controls",
      "model_module_version": "1.5.0",
      "model_name": "HTMLMathModel",
      "state": {
       "layout": "IPY_MODEL_f1b0883b59c24d3094bb528872d50e60",
       "style": "IPY_MODEL_14746acf83664855a05d623943a521ae",
       "value": "$$ $$$$ {\\bf A} {\\bf B} = \\left [\\begin{array}{ rrr }\n4 & 1 & -2 \\\\\n3 & -1 & 1 \\\\\n1 & -1 & 1\n\\end{array}\\right ]\\left [\\begin{array}{ rrr }\n1 & 0 & 0 \\\\\n0 & 1 & 0 \\\\\n0 & 0 & 1\n\\end{array}\\right ] $$"
      }
     },
     "ddb72c7a5d8f442ea0102b63b3fc6764": {
      "model_module": "@jupyter-widgets/controls",
      "model_module_version": "1.5.0",
      "model_name": "HTMLMathModel",
      "state": {
       "layout": "IPY_MODEL_bac5b3b35b4f4ab1ae0960c1418f763f",
       "style": "IPY_MODEL_c348359cb96f4ae5a73b1fca2ff232d6",
       "value": "$$ $$$$ \\left[\\begin{array}{ rrr }\n4 & 1 & -2 \\\\\n3 & -1 & 1 \\\\\n1 & -1 & 1\n\\end{array}\\right ]\\left [\\begin{array}{ rrr }\n1 & 0 & 0 \\\\\n0 & 1 & 0 \\\\\n0 & 0 & 1\n\\end{array}\\right ] $$"
      }
     },
     "dde73826070941f6814a6b6ec9908fa6": {
      "model_module": "@jupyter-widgets/controls",
      "model_module_version": "1.5.0",
      "model_name": "DropdownModel",
      "state": {
       "_options_labels": [
        "1",
        "2",
        "3"
       ],
       "description": "Row",
       "index": 0,
       "layout": "IPY_MODEL_88dc6dbce38a4c379b4b3401844dcfca",
       "style": "IPY_MODEL_56484d1dd0bf490f980cd60d6a458373"
      }
     },
     "ddf32652dd6043ad9317968265fa17ef": {
      "model_module": "@jupyter-widgets/controls",
      "model_module_version": "1.5.0",
      "model_name": "HTMLMathModel",
      "state": {
       "layout": "IPY_MODEL_5432b236fd4742429f05235d2ed230b9",
       "style": "IPY_MODEL_68e991d4aec64994a909b7cdb10becbc",
       "value": "Enter here the values of the matrix $A$"
      }
     },
     "de11205fd7114d31847bfa1877e9a76e": {
      "model_module": "@jupyter-widgets/base",
      "model_module_version": "1.2.0",
      "model_name": "LayoutModel",
      "state": {
       "width": "150px"
      }
     },
     "de19fa6b05ab4983b8ea4702fe34d5b7": {
      "model_module": "@jupyter-widgets/controls",
      "model_module_version": "1.5.0",
      "model_name": "DescriptionStyleModel",
      "state": {
       "description_width": ""
      }
     },
     "de24ffbfb4f44dc988ec7358dd11aebc": {
      "model_module": "@jupyter-widgets/base",
      "model_module_version": "1.2.0",
      "model_name": "LayoutModel",
      "state": {}
     },
     "de35fe9b2c7742e8a5ed676bf0bfb35b": {
      "model_module": "@jupyter-widgets/base",
      "model_module_version": "1.2.0",
      "model_name": "LayoutModel",
      "state": {
       "width": "40px"
      }
     },
     "de69e4c502904d80b39c48d4999dd7df": {
      "model_module": "@jupyter-widgets/base",
      "model_module_version": "1.2.0",
      "model_name": "LayoutModel",
      "state": {}
     },
     "de71cb52555b4d57867cea8ff3497484": {
      "model_module": "@jupyter-widgets/controls",
      "model_module_version": "1.5.0",
      "model_name": "ButtonModel",
      "state": {
       "description": "Start",
       "layout": "IPY_MODEL_ffffaaa56619417290cfd3c4e3a5570e",
       "style": "IPY_MODEL_0219e58f76b24b04a0f83fd0a3244a98"
      }
     },
     "de82b3555d8e4e35b8dddfa50126e34d": {
      "model_module": "@jupyter-widgets/base",
      "model_module_version": "1.2.0",
      "model_name": "LayoutModel",
      "state": {}
     },
     "dea65e988b10490ca341f9a9434a932f": {
      "model_module": "@jupyter-widgets/controls",
      "model_module_version": "1.5.0",
      "model_name": "HBoxModel",
      "state": {
       "children": [
        "IPY_MODEL_c1b3196aeabe42a7b32146204e076d5a",
        "IPY_MODEL_213171bafceb417580ae616b5cd6fbd2",
        "IPY_MODEL_72c920985ddd49e08088aaccc0e2b859"
       ],
       "layout": "IPY_MODEL_e933fef0d29f4c78a9245a4c4f5a1e96"
      }
     },
     "deac9b500d3647a39b1ddccae9148014": {
      "model_module": "@jupyter-widgets/base",
      "model_module_version": "1.2.0",
      "model_name": "LayoutModel",
      "state": {
       "width": "150px"
      }
     },
     "deaf1adf664148f8aed99c78a4d3cb88": {
      "model_module": "@jupyter-widgets/controls",
      "model_module_version": "1.5.0",
      "model_name": "TextModel",
      "state": {
       "layout": "IPY_MODEL_e56e2cbba3324f1e9a6da6e53dfda065",
       "style": "IPY_MODEL_d938bde17f534f0f9e33df1ffd1805d0",
       "value": "7"
      }
     },
     "deba24d331604f0cb92f56183a5fc945": {
      "model_module": "@jupyter-widgets/base",
      "model_module_version": "1.2.0",
      "model_name": "LayoutModel",
      "state": {
       "width": "150px"
      }
     },
     "def1c5c6e5c4480cb1c0fda03de51552": {
      "model_module": "@jupyter-widgets/controls",
      "model_module_version": "1.5.0",
      "model_name": "HBoxModel",
      "state": {
       "children": [
        "IPY_MODEL_7af583561230447585879073000829a8",
        "IPY_MODEL_389e41d10a70427a9f773410b02ba265",
        "IPY_MODEL_10b695f98e3045a98d2654eb8462ea0c"
       ],
       "layout": "IPY_MODEL_b09b650053c24433affa28ded09867bd"
      }
     },
     "def34a737c1e4ec1a2816c73ed284971": {
      "model_module": "@jupyter-widgets/controls",
      "model_module_version": "1.5.0",
      "model_name": "ButtonStyleModel",
      "state": {}
     },
     "df0ffce47b3f4515bd1da641632e8a97": {
      "model_module": "@jupyter-widgets/base",
      "model_module_version": "1.2.0",
      "model_name": "LayoutModel",
      "state": {
       "width": "100px"
      }
     },
     "df30a71038e64f2fa1d6db5da5249ef5": {
      "model_module": "@jupyter-widgets/controls",
      "model_module_version": "1.5.0",
      "model_name": "TextModel",
      "state": {
       "layout": "IPY_MODEL_065f08ede0b647238ec761aa592646c7",
       "style": "IPY_MODEL_9472dc7c8a6341bc870d60aad19fefe8",
       "value": "2"
      }
     },
     "df56df8559c540cfa134b9e8bb7141da": {
      "model_module": "@jupyter-widgets/controls",
      "model_module_version": "1.5.0",
      "model_name": "TextModel",
      "state": {
       "layout": "IPY_MODEL_0360a59724284d16ab0033f9c2a97d5d",
       "style": "IPY_MODEL_416e295847204c3dbb17c04abc4bd3a5",
       "value": "-1"
      }
     },
     "df6eddf4e1a44b0888ed43181fac4491": {
      "model_module": "@jupyter-widgets/base",
      "model_module_version": "1.2.0",
      "model_name": "LayoutModel",
      "state": {
       "width": "150px"
      }
     },
     "df70b502de93411190527415db503d0b": {
      "model_module": "@jupyter-widgets/controls",
      "model_module_version": "1.5.0",
      "model_name": "HBoxModel",
      "state": {
       "children": [
        "IPY_MODEL_8148061acb494fbf8eb7cdb5e6d25e67",
        "IPY_MODEL_b1278b3df10f4338a8bfe4e36f72f0bf",
        "IPY_MODEL_5550e816d068429987ba6ca55c1a7e8c"
       ],
       "layout": "IPY_MODEL_6bb04487f30b47dba4d9b035c68a4a4b"
      }
     },
     "df732e62bd5d46abb748553a7aebfff7": {
      "model_module": "@jupyter-widgets/controls",
      "model_module_version": "1.5.0",
      "model_name": "DescriptionStyleModel",
      "state": {
       "description_width": ""
      }
     },
     "df78399679744728abd9be0140b00304": {
      "model_module": "@jupyter-widgets/controls",
      "model_module_version": "1.5.0",
      "model_name": "DescriptionStyleModel",
      "state": {
       "description_width": ""
      }
     },
     "df8bcee6c9b44c3e88fe5a747a906f5a": {
      "model_module": "@jupyter-widgets/controls",
      "model_module_version": "1.5.0",
      "model_name": "HBoxModel",
      "state": {
       "children": [
        "IPY_MODEL_39e992a26b29448fa631f67c2276a649",
        "IPY_MODEL_6ba1908675d94c17a7d5a537cdfac87f",
        "IPY_MODEL_a235ae011d404d968bb6c06ee502340b"
       ],
       "layout": "IPY_MODEL_b06d6ef88f02450ebab580dc385c82ee"
      }
     },
     "dfa294d7aec1452c93ca5911f16e2fea": {
      "model_module": "@jupyter-widgets/controls",
      "model_module_version": "1.5.0",
      "model_name": "DescriptionStyleModel",
      "state": {
       "description_width": ""
      }
     },
     "dfaa102df3f24507a6d52844a4b7b272": {
      "model_module": "@jupyter-widgets/controls",
      "model_module_version": "1.5.0",
      "model_name": "HTMLModel",
      "state": {
       "layout": "IPY_MODEL_8a6c0234256847d4bc2e4b27dd671ada",
       "style": "IPY_MODEL_f9c092455c7f4f36b4943dcaa6d3e0e1",
       "value": "Click this button to start the calculator"
      }
     },
     "dfb4b9bb1cdd4683b59a937680e9639c": {
      "model_module": "@jupyter-widgets/base",
      "model_module_version": "1.2.0",
      "model_name": "LayoutModel",
      "state": {
       "width": "90px"
      }
     },
     "dfbd33580c2d461a861656800f922119": {
      "model_module": "@jupyter-widgets/base",
      "model_module_version": "1.2.0",
      "model_name": "LayoutModel",
      "state": {
       "width": "120px"
      }
     },
     "dfcd0d23056a4dadb38a0f511c6edb13": {
      "model_module": "@jupyter-widgets/base",
      "model_module_version": "1.2.0",
      "model_name": "LayoutModel",
      "state": {}
     },
     "dfdc943601c64603ac3cf14cf995f38d": {
      "model_module": "@jupyter-widgets/controls",
      "model_module_version": "1.5.0",
      "model_name": "DescriptionStyleModel",
      "state": {
       "description_width": ""
      }
     },
     "dfe771ca3cb647c5ba599a113ad575df": {
      "model_module": "@jupyter-widgets/base",
      "model_module_version": "1.2.0",
      "model_name": "LayoutModel",
      "state": {
       "height": "35px",
       "width": "30px"
      }
     },
     "dff0b0292a1c43479b0483a6b79d42b7": {
      "model_module": "@jupyter-widgets/base",
      "model_module_version": "1.2.0",
      "model_name": "LayoutModel",
      "state": {}
     },
     "e00f54ed89a2476b85ea824e0b6f4448": {
      "model_module": "@jupyter-widgets/base",
      "model_module_version": "1.2.0",
      "model_name": "LayoutModel",
      "state": {
       "width": "150px"
      }
     },
     "e028c24dad864eca9ad8802e2bab8317": {
      "model_module": "@jupyter-widgets/controls",
      "model_module_version": "1.5.0",
      "model_name": "DescriptionStyleModel",
      "state": {
       "description_width": ""
      }
     },
     "e0376c0f89da4c06a5ee8cf2b4ed9cfc": {
      "model_module": "@jupyter-widgets/controls",
      "model_module_version": "1.5.0",
      "model_name": "HBoxModel",
      "state": {
       "children": [
        "IPY_MODEL_a2b0e93ee9dd4e67a3ea848054b0c99c",
        "IPY_MODEL_5ce4a7d84ecf41eb978ee2d7650fb9e7",
        "IPY_MODEL_23032e0b18c748c4b66356fe909656ed"
       ],
       "layout": "IPY_MODEL_5c9ba0a0a18444cb9fad2a46845c253f"
      }
     },
     "e0472565760d4f3d8f75da43856a398a": {
      "model_module": "@jupyter-widgets/controls",
      "model_module_version": "1.5.0",
      "model_name": "VBoxModel",
      "state": {
       "children": [
        "IPY_MODEL_f93903beba214b7ea239af82feea578d",
        "IPY_MODEL_28460ee1def8481c9c42314b33c19318",
        "IPY_MODEL_4b8fd77af6104bacbdc15158a23b9d7e"
       ],
       "layout": "IPY_MODEL_7bf41fcda04a43a4a78a23fcddf912a2"
      }
     },
     "e05d5715744f45069b5d9d1edd4730b1": {
      "model_module": "@jupyter-widgets/controls",
      "model_module_version": "1.5.0",
      "model_name": "DropdownModel",
      "state": {
       "_options_labels": [
        "1",
        "2",
        "3"
       ],
       "description": "Add row",
       "index": 0,
       "layout": "IPY_MODEL_e11bc719eed54481997ebb14187b7cdd",
       "style": "IPY_MODEL_c6a4ed8a266c400a9f0d257b8dea3f47"
      }
     },
     "e06b6935fe4f4197904c5ef76be76a4b": {
      "model_module": "@jupyter-widgets/controls",
      "model_module_version": "1.5.0",
      "model_name": "VBoxModel",
      "state": {
       "children": [
        "IPY_MODEL_c9184918c1164fe8926499d7cbf33e25",
        "IPY_MODEL_96731ed4acc440c6b494163601990df7"
       ],
       "layout": "IPY_MODEL_f6cc4a54a2384f729c84b50e1be768af"
      }
     },
     "e07c446c03984f5fbb6255455697893a": {
      "model_module": "@jupyter-widgets/base",
      "model_module_version": "1.2.0",
      "model_name": "LayoutModel",
      "state": {}
     },
     "e07eb283342648d0bd663f4f5f468b1d": {
      "model_module": "@jupyter-widgets/base",
      "model_module_version": "1.2.0",
      "model_name": "LayoutModel",
      "state": {}
     },
     "e08bd86acfe3404e8b16421bf5343fba": {
      "model_module": "@jupyter-widgets/controls",
      "model_module_version": "1.5.0",
      "model_name": "DescriptionStyleModel",
      "state": {
       "description_width": ""
      }
     },
     "e098073954fa46139aa9200e78493a23": {
      "model_module": "@jupyter-widgets/controls",
      "model_module_version": "1.5.0",
      "model_name": "HBoxModel",
      "state": {
       "children": [
        "IPY_MODEL_88443d3565134680ad935cde84797d9e",
        "IPY_MODEL_8d8b21ef344f457ab7a51cdedf68a90d",
        "IPY_MODEL_cf9e7349866e470588789ff62fd401bd"
       ],
       "layout": "IPY_MODEL_a16e14e98dc3426bb713fc29ef832720"
      }
     },
     "e0f7e9c79b414ab6987e26eb7247b9f1": {
      "model_module": "@jupyter-widgets/controls",
      "model_module_version": "1.5.0",
      "model_name": "HBoxModel",
      "state": {
       "children": [
        "IPY_MODEL_a72ba6f8f4e8452fa173b0eb5a85fd95",
        "IPY_MODEL_824f8626841f41ac89952e1f54346e8f",
        "IPY_MODEL_f97a52ce4d5442058e31ec16df69a65a"
       ],
       "layout": "IPY_MODEL_afd633c90c664b979c75d8d4f0e27101"
      }
     },
     "e10499a9d063472782d15c93d34716d6": {
      "model_module": "@jupyter-widgets/base",
      "model_module_version": "1.2.0",
      "model_name": "LayoutModel",
      "state": {
       "flex_flow": "row wrap",
       "justify_content": "space-around"
      }
     },
     "e11bc719eed54481997ebb14187b7cdd": {
      "model_module": "@jupyter-widgets/base",
      "model_module_version": "1.2.0",
      "model_name": "LayoutModel",
      "state": {
       "width": "150px"
      }
     },
     "e122dcce1911475788c82adf7f1f53d5": {
      "model_module": "@jupyter-widgets/controls",
      "model_module_version": "1.5.0",
      "model_name": "TextModel",
      "state": {
       "layout": "IPY_MODEL_7a607c89a00143a7a0808c95689bf41a",
       "style": "IPY_MODEL_575f937f908949548c510205936ca7e8",
       "value": "1"
      }
     },
     "e122dddaa8a94c6799d86e41e57fbda8": {
      "model_module": "@jupyter-widgets/controls",
      "model_module_version": "1.5.0",
      "model_name": "VBoxModel",
      "state": {
       "children": [
        "IPY_MODEL_76c7b549bdcd4fff95d7eb17223b6812",
        "IPY_MODEL_dc7303c8caa545c99fb323509aa8d4d4"
       ],
       "layout": "IPY_MODEL_94d1f64f764c4519b458eaae0bbacf75"
      }
     },
     "e16c683bbe5a4fa9afa56982c1d8e9e5": {
      "model_module": "@jupyter-widgets/base",
      "model_module_version": "1.2.0",
      "model_name": "LayoutModel",
      "state": {
       "width": "50px"
      }
     },
     "e197d07f38db43aebc8d80cdeb2396a8": {
      "model_module": "@jupyter-widgets/controls",
      "model_module_version": "1.5.0",
      "model_name": "ButtonStyleModel",
      "state": {}
     },
     "e1b0b57c891c4a51abd0368b0592f337": {
      "model_module": "@jupyter-widgets/controls",
      "model_module_version": "1.5.0",
      "model_name": "DescriptionStyleModel",
      "state": {
       "description_width": ""
      }
     },
     "e1bb77af8711423cab80fb5cbe2a13b1": {
      "model_module": "@jupyter-widgets/controls",
      "model_module_version": "1.5.0",
      "model_name": "DescriptionStyleModel",
      "state": {
       "description_width": ""
      }
     },
     "e1bcbb60ebab4617ac690232d0d74196": {
      "model_module": "@jupyter-widgets/controls",
      "model_module_version": "1.5.0",
      "model_name": "ButtonStyleModel",
      "state": {}
     },
     "e1f33a6ce3064a3eb91d81f165fb8463": {
      "model_module": "@jupyter-widgets/controls",
      "model_module_version": "1.5.0",
      "model_name": "HBoxModel",
      "state": {
       "children": [
        "IPY_MODEL_24da1a4ef69c4e6aaf08af01ec5fc126",
        "IPY_MODEL_205117a8f4f94aabaa92fe5ebce03dd4"
       ],
       "layout": "IPY_MODEL_890983480d4042eaa69ee9c30df8c931"
      }
     },
     "e210e493bcda4798872a05d373613894": {
      "model_module": "@jupyter-widgets/controls",
      "model_module_version": "1.5.0",
      "model_name": "VBoxModel",
      "state": {
       "children": [
        "IPY_MODEL_f6d38eea29a34a468d669aee57d56a4a",
        "IPY_MODEL_a76f7a0fe16241c0bbb8bb683d81bb76",
        "IPY_MODEL_87219293ed324a78b94421185d26a09c"
       ],
       "layout": "IPY_MODEL_6ef3bc0744a743f4a50b6c4fc67c3b22"
      }
     },
     "e24097b12fa7495d9dde9fb8e385ba7f": {
      "model_module": "@jupyter-widgets/controls",
      "model_module_version": "1.5.0",
      "model_name": "HBoxModel",
      "state": {
       "children": [
        "IPY_MODEL_3d4e7b56d0374c7f94e6bc90e301f49c",
        "IPY_MODEL_3e0a485d343e46d7a41dfb76a143482b",
        "IPY_MODEL_15413ae3fbd1435c9debce26f7104432"
       ],
       "layout": "IPY_MODEL_9bced0ebe4584af3ad826b9b7423f36c"
      }
     },
     "e2483a59d1db4e5e92e34ff01be22074": {
      "model_module": "@jupyter-widgets/controls",
      "model_module_version": "1.5.0",
      "model_name": "TextModel",
      "state": {
       "layout": "IPY_MODEL_24e52a9da5f64680833f56257412e632",
       "style": "IPY_MODEL_c66b4f922bca4b7d845ce65ee4c75c70",
       "value": "9"
      }
     },
     "e24b373cefd249239248808256d983ce": {
      "model_module": "@jupyter-widgets/controls",
      "model_module_version": "1.5.0",
      "model_name": "HBoxModel",
      "state": {
       "children": [
        "IPY_MODEL_e587c6d0603a4660bea2f41a08640f2c",
        "IPY_MODEL_2ace8d28a67e4d9aab87e6de4dba898f",
        "IPY_MODEL_3db2e2b11fdb45cd8f264eaa8c4e1b96"
       ],
       "layout": "IPY_MODEL_71767ad1af554999bd12c591aee9fb25"
      }
     },
     "e24ef0dda2e842deb500733821749d75": {
      "model_module": "@jupyter-widgets/base",
      "model_module_version": "1.2.0",
      "model_name": "LayoutModel",
      "state": {}
     },
     "e2680f5102274c879290f0fd80b7a2fd": {
      "model_module": "@jupyter-widgets/controls",
      "model_module_version": "1.5.0",
      "model_name": "VBoxModel",
      "state": {
       "children": [
        "IPY_MODEL_a60bb58c2ec44d2d87be9aa57a53f46e",
        "IPY_MODEL_ea71b0d034c84249b3adec5074883f15",
        "IPY_MODEL_68e76f2b98124ec28d2448e80dc33863"
       ],
       "layout": "IPY_MODEL_b16dfbe331fe43fabbc50ae50aed289f"
      }
     },
     "e26b2eec25dd4fecb08f9c1835111319": {
      "model_module": "@jupyter-widgets/controls",
      "model_module_version": "1.5.0",
      "model_name": "DescriptionStyleModel",
      "state": {
       "description_width": ""
      }
     },
     "e280d1b109454573ac6478114d05c3f8": {
      "model_module": "@jupyter-widgets/controls",
      "model_module_version": "1.5.0",
      "model_name": "DescriptionStyleModel",
      "state": {
       "description_width": ""
      }
     },
     "e290390a0737467db9e3ce2d3f3ce734": {
      "model_module": "@jupyter-widgets/controls",
      "model_module_version": "1.5.0",
      "model_name": "BoxModel",
      "state": {
       "children": [
        "IPY_MODEL_15c3c18194494f949a990d3788677e1a",
        "IPY_MODEL_5af1cb40e94749c6ac2d36872f6049bc",
        "IPY_MODEL_acbe0fe95c754be2a1ec221a98c766c1"
       ],
       "layout": "IPY_MODEL_19ab22d813214a56a256fddcce27c4e1"
      }
     },
     "e2961294fff944cea7162e05b0c33c87": {
      "model_module": "@jupyter-widgets/controls",
      "model_module_version": "1.5.0",
      "model_name": "DescriptionStyleModel",
      "state": {
       "description_width": ""
      }
     },
     "e2b5bccf4d37401299e69628102a7b7c": {
      "model_module": "@jupyter-widgets/controls",
      "model_module_version": "1.5.0",
      "model_name": "DropdownModel",
      "state": {
       "_options_labels": [
        "1",
        "2",
        "3"
       ],
       "description": "and row",
       "index": 1,
       "layout": "IPY_MODEL_31c4e0f88a45434fac7ce588133f88bc",
       "style": "IPY_MODEL_6f13f7c6f5054803a36a8c0bbe5269c3"
      }
     },
     "e2d5e137948e4595bc840cf170ce392d": {
      "model_module": "@jupyter-widgets/controls",
      "model_module_version": "1.5.0",
      "model_name": "ButtonModel",
      "state": {
       "description": "Multiply row",
       "layout": "IPY_MODEL_033ecd4bb38a4902bda3512b72f95f40",
       "style": "IPY_MODEL_12515526b4614d98863c3c1532d9f997"
      }
     },
     "e2da722f51574a32801ea079bea653bb": {
      "model_module": "@jupyter-widgets/controls",
      "model_module_version": "1.5.0",
      "model_name": "HBoxModel",
      "state": {
       "children": [
        "IPY_MODEL_81c7197b47ea44fe92bff765f933e4d3",
        "IPY_MODEL_4bcf835bf52a4804a8508deaa921b131",
        "IPY_MODEL_1c9f1913e92c46f7bbcd8748cf38a0f2"
       ],
       "layout": "IPY_MODEL_3860319c75cd41849c9d9b2161bfe478"
      }
     },
     "e2da8bf827a2404a8f0ca0886b96e05a": {
      "model_module": "@jupyter-widgets/controls",
      "model_module_version": "1.5.0",
      "model_name": "TextModel",
      "state": {
       "layout": "IPY_MODEL_dfe771ca3cb647c5ba599a113ad575df",
       "style": "IPY_MODEL_cae462006fc0462195f45ae3086689cd",
       "value": "7"
      }
     },
     "e322fb26c0df4af084877b05e3ab6642": {
      "model_module": "@jupyter-widgets/controls",
      "model_module_version": "1.5.0",
      "model_name": "HBoxModel",
      "state": {
       "children": [
        "IPY_MODEL_fe67e2f9d3964a7992c89b15beb37afb",
        "IPY_MODEL_75ae19b76bb44449be86d6e2c58edcde"
       ],
       "layout": "IPY_MODEL_42be6321ef0743888cb5914a8ed49696"
      }
     },
     "e3233ec823794fc788f81d1e669c34a4": {
      "model_module": "@jupyter-widgets/controls",
      "model_module_version": "1.5.0",
      "model_name": "DescriptionStyleModel",
      "state": {
       "description_width": ""
      }
     },
     "e3556a0c67ef431397d44a4e3848a40d": {
      "model_module": "@jupyter-widgets/controls",
      "model_module_version": "1.5.0",
      "model_name": "HTMLMathModel",
      "state": {
       "layout": "IPY_MODEL_950636dfec7446fa929ac9c8e182e8f2",
       "style": "IPY_MODEL_16d10af4b2ee4e189f770da47880e72b",
       "value": "Enter here the values of the matrix $A$"
      }
     },
     "e369e39e30784720b86b9945cd752db2": {
      "model_module": "@jupyter-widgets/controls",
      "model_module_version": "1.5.0",
      "model_name": "DescriptionStyleModel",
      "state": {
       "description_width": ""
      }
     },
     "e39100f5658a4aaa84f50601cdbde6a2": {
      "model_module": "@jupyter-widgets/controls",
      "model_module_version": "1.5.0",
      "model_name": "ButtonStyleModel",
      "state": {}
     },
     "e3b0043337d84f57a4b94b298fdb01aa": {
      "model_module": "@jupyter-widgets/base",
      "model_module_version": "1.2.0",
      "model_name": "LayoutModel",
      "state": {
       "width": "120px"
      }
     },
     "e3bdf8d52f5f4d3c9ce1f0157ec1b18f": {
      "model_module": "@jupyter-widgets/controls",
      "model_module_version": "1.5.0",
      "model_name": "HTMLModel",
      "state": {
       "layout": "IPY_MODEL_71ccaefef5204efb9847d70d0986be68",
       "style": "IPY_MODEL_6694a139e1b14486a107472a65fe2979",
       "value": "Click this button to start the calculator"
      }
     },
     "e40d33909af24f7a949520021d2ec118": {
      "model_module": "@jupyter-widgets/controls",
      "model_module_version": "1.5.0",
      "model_name": "VBoxModel",
      "state": {
       "children": [
        "IPY_MODEL_facf20724a7f4ae9af7865c5e39e1ade",
        "IPY_MODEL_3edc48aaa86c47d09abba92b8296a33f",
        "IPY_MODEL_30af29e3f3104565b0fe946fa6483370"
       ],
       "layout": "IPY_MODEL_2b63bf28c45c4944bc18962074f124bc"
      }
     },
     "e435fd7f1d454b9b98b4eeeb3fc7ce41": {
      "model_module": "@jupyter-widgets/controls",
      "model_module_version": "1.5.0",
      "model_name": "DescriptionStyleModel",
      "state": {
       "description_width": ""
      }
     },
     "e437e6949337406db5a0e19959a3181d": {
      "model_module": "@jupyter-widgets/base",
      "model_module_version": "1.2.0",
      "model_name": "LayoutModel",
      "state": {
       "width": "150px"
      }
     },
     "e4872da4ce714908ba07ffe1c10f838f": {
      "model_module": "@jupyter-widgets/base",
      "model_module_version": "1.2.0",
      "model_name": "LayoutModel",
      "state": {
       "flex_flow": "row wrap",
       "justify_content": "space-around"
      }
     },
     "e4a60a2326fb49d0805fb797c1b39928": {
      "model_module": "@jupyter-widgets/controls",
      "model_module_version": "1.5.0",
      "model_name": "ButtonStyleModel",
      "state": {}
     },
     "e4bb6d3b612445eb81b52d76df2c22d7": {
      "model_module": "@jupyter-widgets/controls",
      "model_module_version": "1.5.0",
      "model_name": "HBoxModel",
      "state": {
       "children": [
        "IPY_MODEL_5ef86c67c208439487806d5c8b1379eb",
        "IPY_MODEL_d53d52cd50104d68898013add0990e73"
       ],
       "layout": "IPY_MODEL_fbca8fdad3e1451fb9fe976cd8b1497b"
      }
     },
     "e4e0fb4e6b89454a86cbfcffd3fa5a35": {
      "model_module": "@jupyter-widgets/base",
      "model_module_version": "1.2.0",
      "model_name": "LayoutModel",
      "state": {
       "justify_content": "space-between"
      }
     },
     "e4e72ae853124d318208ae1a8d649fac": {
      "model_module": "@jupyter-widgets/controls",
      "model_module_version": "1.5.0",
      "model_name": "HBoxModel",
      "state": {
       "children": [
        "IPY_MODEL_c8a0be71defd42a3b3d12d5fdfda5581",
        "IPY_MODEL_970f2c7faab642849101141b7409a788",
        "IPY_MODEL_65a216b38ffb4a33958ebb7ac282b58d"
       ],
       "layout": "IPY_MODEL_66236546b3014b63be53c6ccd359400f"
      }
     },
     "e4ec6b9d22fd4ec0a643c90506c80e55": {
      "model_module": "@jupyter-widgets/base",
      "model_module_version": "1.2.0",
      "model_name": "LayoutModel",
      "state": {}
     },
     "e4ecb2b0a09f46b6a2031fa13d009cff": {
      "model_module": "@jupyter-widgets/controls",
      "model_module_version": "1.5.0",
      "model_name": "HBoxModel",
      "state": {
       "children": [
        "IPY_MODEL_4b632a42f5754929b93a202726dfef46",
        "IPY_MODEL_023814058e0f4917ab7cbe8659e2a382",
        "IPY_MODEL_c6867261133e4ae2b1d1ec75c2dd8806"
       ],
       "layout": "IPY_MODEL_3579da55966145ed8e495e49c601b781"
      }
     },
     "e530640bb6a244e2b64e8de0d4598a90": {
      "model_module": "@jupyter-widgets/base",
      "model_module_version": "1.2.0",
      "model_name": "LayoutModel",
      "state": {
       "width": "100px"
      }
     },
     "e53bc1f96ccb4e82aef3139063349fa5": {
      "model_module": "@jupyter-widgets/controls",
      "model_module_version": "1.5.0",
      "model_name": "VBoxModel",
      "state": {
       "children": [
        "IPY_MODEL_238203f5c4a143b291c2bc83f4da6f4d",
        "IPY_MODEL_b7ddd141d01440f285de3eb73ff2686b",
        "IPY_MODEL_e942d84712c14555b9b6004783d4c6f0"
       ],
       "layout": "IPY_MODEL_1377a46501834649aff3115a057d2044"
      }
     },
     "e54ff38a20124f7495d001d4b76ab1fc": {
      "model_module": "@jupyter-widgets/controls",
      "model_module_version": "1.5.0",
      "model_name": "DescriptionStyleModel",
      "state": {
       "description_width": ""
      }
     },
     "e5607adebfb74f3dbc6bc195fc0b3adb": {
      "model_module": "@jupyter-widgets/controls",
      "model_module_version": "1.5.0",
      "model_name": "DescriptionStyleModel",
      "state": {
       "description_width": ""
      }
     },
     "e56e2cbba3324f1e9a6da6e53dfda065": {
      "model_module": "@jupyter-widgets/base",
      "model_module_version": "1.2.0",
      "model_name": "LayoutModel",
      "state": {
       "height": "35px",
       "width": "30px"
      }
     },
     "e587c6d0603a4660bea2f41a08640f2c": {
      "model_module": "@jupyter-widgets/controls",
      "model_module_version": "1.5.0",
      "model_name": "TextModel",
      "state": {
       "layout": "IPY_MODEL_5a0c24727aa941b48d996c0a1f0c2bf8",
       "style": "IPY_MODEL_c3a471de48f641239745f3d6b30f2085",
       "value": "2"
      }
     },
     "e590e70d2e654827a1a13fe7c4e9eeac": {
      "model_module": "@jupyter-widgets/controls",
      "model_module_version": "1.5.0",
      "model_name": "DescriptionStyleModel",
      "state": {
       "description_width": ""
      }
     },
     "e5cda50c914040649f33c5d69f985e69": {
      "model_module": "@jupyter-widgets/controls",
      "model_module_version": "1.5.0",
      "model_name": "TextModel",
      "state": {
       "layout": "IPY_MODEL_66f664c2d36b4d74aa7cdd21ce7345c1",
       "style": "IPY_MODEL_560201dadbe84e5dbbf4a2f4cb93c76f",
       "value": "4"
      }
     },
     "e5d0d54b798a40a5a02955c8e33526c0": {
      "model_module": "@jupyter-widgets/controls",
      "model_module_version": "1.5.0",
      "model_name": "TextModel",
      "state": {
       "layout": "IPY_MODEL_1ceaf9c9ac774ae985cae0c34af76539",
       "style": "IPY_MODEL_2d2917d769b6478989bd9fd8c0ea961b",
       "value": "2"
      }
     },
     "e5da14fa0ba64d8c9602268f8d5a74d7": {
      "model_module": "@jupyter-widgets/controls",
      "model_module_version": "1.5.0",
      "model_name": "TextModel",
      "state": {
       "layout": "IPY_MODEL_f73078d706924fb0a75d30fb0655ac85",
       "style": "IPY_MODEL_780dde044c0f4980acdd37899e136d11",
       "value": "1"
      }
     },
     "e5e7ceb084e8406ca8d2a66d89dcadca": {
      "model_module": "@jupyter-widgets/controls",
      "model_module_version": "1.5.0",
      "model_name": "HTMLMathModel",
      "state": {
       "layout": "IPY_MODEL_f78c7dcb212c4a87b6823c96e024b223",
       "style": "IPY_MODEL_1d4a68d74d2147e1b5854782d5e2588c",
       "value": "Enter here the values of the matrix $A$"
      }
     },
     "e5f45988dcc34d81b5ae6e54e536b7de": {
      "model_module": "@jupyter-widgets/controls",
      "model_module_version": "1.5.0",
      "model_name": "TextModel",
      "state": {
       "layout": "IPY_MODEL_47a60aa1cf3045f2a536b06edf49c5ea",
       "style": "IPY_MODEL_2966ba1130e74e7788bceb36f0dfd090",
       "value": "2"
      }
     },
     "e60a861eca344ffe9430ae66e253e656": {
      "model_module": "@jupyter-widgets/base",
      "model_module_version": "1.2.0",
      "model_name": "LayoutModel",
      "state": {
       "height": "35px",
       "width": "40px"
      }
     },
     "e619f1afbb9e46dbb34616a0e9bba430": {
      "model_module": "@jupyter-widgets/base",
      "model_module_version": "1.2.0",
      "model_name": "LayoutModel",
      "state": {}
     },
     "e65005353bf1418db6601012dc6b9af8": {
      "model_module": "@jupyter-widgets/controls",
      "model_module_version": "1.5.0",
      "model_name": "HTMLMathModel",
      "state": {
       "layout": "IPY_MODEL_2d8dfb43d02a4ea7b5a8918d25da9f57",
       "style": "IPY_MODEL_6bef60a7b3994bd2aa874e69f4dc84da",
       "value": "Enter here the values of the matrix $A$"
      }
     },
     "e659cf0fa00743b1b48f8b22ae3b6913": {
      "model_module": "@jupyter-widgets/base",
      "model_module_version": "1.2.0",
      "model_name": "LayoutModel",
      "state": {
       "width": "90px"
      }
     },
     "e67a74ada3534011839726ff555b48a3": {
      "model_module": "@jupyter-widgets/controls",
      "model_module_version": "1.5.0",
      "model_name": "TextModel",
      "state": {
       "layout": "IPY_MODEL_9a1e48de729e4abb89a3a19428a205a0",
       "style": "IPY_MODEL_81a395c01c8a4fa1ba80dc951368fb25",
       "value": "3"
      }
     },
     "e685aa28f90545b9886a135da1b58ec4": {
      "model_module": "@jupyter-widgets/controls",
      "model_module_version": "1.5.0",
      "model_name": "HBoxModel",
      "state": {
       "children": [
        "IPY_MODEL_c6860b9ca6934cb29ad6f7775c6ee499",
        "IPY_MODEL_460a520abdb9412388af8c3b44ca82d9"
       ],
       "layout": "IPY_MODEL_feab542d68594cea9011ae7b078caae9"
      }
     },
     "e68b82d94cfe4eb587f8ffd7712b919c": {
      "model_module": "@jupyter-widgets/controls",
      "model_module_version": "1.5.0",
      "model_name": "ButtonStyleModel",
      "state": {}
     },
     "e6beeb05f6ce4efd8c60d47a977e7ade": {
      "model_module": "@jupyter-widgets/base",
      "model_module_version": "1.2.0",
      "model_name": "LayoutModel",
      "state": {
       "height": "35px",
       "width": "30px"
      }
     },
     "e6c181e87e7248e5a35f8bf520433bc3": {
      "model_module": "@jupyter-widgets/controls",
      "model_module_version": "1.5.0",
      "model_name": "HTMLMathModel",
      "state": {
       "layout": "IPY_MODEL_d22fab0b63f24ec48dd8a67aa7ce583d",
       "style": "IPY_MODEL_43ea316cf7154d038674a2be56018d60",
       "value": "The augmented matrix will appear here."
      }
     },
     "e6db3b0a35b04387a144a3c5489d71fd": {
      "model_module": "@jupyter-widgets/controls",
      "model_module_version": "1.5.0",
      "model_name": "HTMLMathModel",
      "state": {
       "layout": "IPY_MODEL_f52fcf10d4eb44919d64fa8372ae1376",
       "style": "IPY_MODEL_83323b5c1e014e8d963d4780c4348277",
       "value": "Results will be shown here."
      }
     },
     "e6e8634bf3fa45a981d0b15fb379c303": {
      "model_module": "@jupyter-widgets/controls",
      "model_module_version": "1.5.0",
      "model_name": "DescriptionStyleModel",
      "state": {
       "description_width": ""
      }
     },
     "e713fce1b721422d8f59ed947bc8a84a": {
      "model_module": "@jupyter-widgets/base",
      "model_module_version": "1.2.0",
      "model_name": "LayoutModel",
      "state": {}
     },
     "e729b7a994534b1682157812676238d0": {
      "model_module": "@jupyter-widgets/controls",
      "model_module_version": "1.5.0",
      "model_name": "VBoxModel",
      "state": {
       "children": [
        "IPY_MODEL_4ce7eb7ce6f948c6925f5719ff6ca495",
        "IPY_MODEL_721e905890494a43bb331fa1a6bf0902",
        "IPY_MODEL_7f38dacd36cc41c2a6aee83a0f863f58"
       ],
       "layout": "IPY_MODEL_de24ffbfb4f44dc988ec7358dd11aebc"
      }
     },
     "e72f5ebc879749068f65cdd10b9826ff": {
      "model_module": "@jupyter-widgets/controls",
      "model_module_version": "1.5.0",
      "model_name": "DescriptionStyleModel",
      "state": {
       "description_width": ""
      }
     },
     "e736b81508d841458dff96b9825a05ff": {
      "model_module": "@jupyter-widgets/controls",
      "model_module_version": "1.5.0",
      "model_name": "TextModel",
      "state": {
       "layout": "IPY_MODEL_d29f4c6323274c2ea715833a610068a5",
       "style": "IPY_MODEL_130c0e9ce08645a6860799fb9b56ddd6",
       "value": "-1"
      }
     },
     "e7399f40ac1340359c918cd0f0671b93": {
      "model_module": "@jupyter-widgets/controls",
      "model_module_version": "1.5.0",
      "model_name": "VBoxModel",
      "state": {
       "children": [
        "IPY_MODEL_3af32c0d12bb45cfb451562e2feddec9",
        "IPY_MODEL_2e6bfdadb4474882b32393a9a1465b65",
        "IPY_MODEL_3d8cc5b061604dcdaf140d971c6a2d83"
       ],
       "layout": "IPY_MODEL_13b871b4f1294b79addc825df026b2d9"
      }
     },
     "e7484725f42f4170b3e5cf05fb1c8645": {
      "model_module": "@jupyter-widgets/controls",
      "model_module_version": "1.5.0",
      "model_name": "VBoxModel",
      "state": {
       "children": [
        "IPY_MODEL_9b59b8f98c2245d096f2be7208f7522f",
        "IPY_MODEL_3880841f797b416a98480c81eabfd492",
        "IPY_MODEL_430f084f28914b059709ecb4b8f6f712"
       ],
       "layout": "IPY_MODEL_1a8624605d0e4ccab80dd4c6dae8c7da"
      }
     },
     "e74fcf404e004a1ba2d5393ae1fb28b0": {
      "model_module": "@jupyter-widgets/controls",
      "model_module_version": "1.5.0",
      "model_name": "DescriptionStyleModel",
      "state": {
       "description_width": ""
      }
     },
     "e76b955a198f4114aa18ab9a24ce63af": {
      "model_module": "@jupyter-widgets/base",
      "model_module_version": "1.2.0",
      "model_name": "LayoutModel",
      "state": {
       "width": "150px"
      }
     },
     "e76e69b8dccc484face3e63e62020f6c": {
      "model_module": "@jupyter-widgets/controls",
      "model_module_version": "1.5.0",
      "model_name": "HTMLMathModel",
      "state": {
       "layout": "IPY_MODEL_0d5360a17ca6498eb5e07d4bd1f8953f",
       "style": "IPY_MODEL_186fa258249b4acbbc2a2c1f49845ef6",
       "value": "$$ $$$$\\left[ \\begin{array}{ rrr|rrr }\n\\color{ blue }{ 4 } & \\color{ blue }{ 1 } & \\color{ blue }{ -2 } & \\color{ blue }{ 1 } & \\color{ blue }{ 0 } & \\color{ blue }{ 0 } \\\\\n3 & -1 & 1 & 0 & 1 & 0 \\\\\n\\color{ red }{ 1 } & \\color{ red }{ -1 } & \\color{ red }{ 1 } & \\color{ red }{ 0 } & \\color{ red }{ 0 } & \\color{ red }{ 1 }\n\\end{array} \\right]\\stackrel{ \\color{blue}{R_1} \\leftrightarrow \\color{red}{R_3}}{\\Longrightarrow}\\left[ \\begin{array}{ rrr|rrr }\n\\color{ red }{ 1 } & \\color{ red }{ -1 } & \\color{ red }{ 1 } & \\color{ red }{ 0 } & \\color{ red }{ 0 } & \\color{ red }{ 1 } \\\\\n3 & -1 & 1 & 0 & 1 & 0 \\\\\n\\color{ blue }{ 4 } & \\color{ blue }{ 1 } & \\color{ blue }{ -2 } & \\color{ blue }{ 1 } & \\color{ blue }{ 0 } & \\color{ blue }{ 0 }\n\\end{array} \\right]$$"
      }
     },
     "e77f45cea6ac45929e43291a144eaaf0": {
      "model_module": "@jupyter-widgets/controls",
      "model_module_version": "1.5.0",
      "model_name": "BoxModel",
      "state": {
       "children": [
        "IPY_MODEL_f2cdd27425f14512b732dfe256dcb896",
        "IPY_MODEL_e0472565760d4f3d8f75da43856a398a",
        "IPY_MODEL_857b2ed1264b4ff0923c1f42df5372a3"
       ],
       "layout": "IPY_MODEL_671fb1d99753438c85ede45e2f8975b6"
      }
     },
     "e79a80bea1074d1cbdafd1971c3fe630": {
      "model_module": "@jupyter-widgets/controls",
      "model_module_version": "1.5.0",
      "model_name": "TextModel",
      "state": {
       "layout": "IPY_MODEL_0360a59724284d16ab0033f9c2a97d5d",
       "style": "IPY_MODEL_2f34a7fb445442a78d2ae808ea75adf1",
       "value": "1"
      }
     },
     "e7a24bbec11247e39d8a24b3207ca1fe": {
      "model_module": "@jupyter-widgets/base",
      "model_module_version": "1.2.0",
      "model_name": "LayoutModel",
      "state": {
       "width": "100px"
      }
     },
     "e7abbc721f6e4bb6830239c57ae0e439": {
      "model_module": "@jupyter-widgets/base",
      "model_module_version": "1.2.0",
      "model_name": "LayoutModel",
      "state": {}
     },
     "e7adadbd8c24482b91e34418165d0ae6": {
      "model_module": "@jupyter-widgets/controls",
      "model_module_version": "1.5.0",
      "model_name": "DescriptionStyleModel",
      "state": {
       "description_width": ""
      }
     },
     "e7c8ecd1d3f3489785fc9ccf8825238e": {
      "model_module": "@jupyter-widgets/controls",
      "model_module_version": "1.5.0",
      "model_name": "TextModel",
      "state": {
       "layout": "IPY_MODEL_7336bcfb9a2145e9a2df614b1768b15f",
       "style": "IPY_MODEL_4de14cd8bc0a46b980f802373ea3661c",
       "value": "1"
      }
     },
     "e7cbaebbdead48cbb9e5afbe0afa2b76": {
      "model_module": "@jupyter-widgets/base",
      "model_module_version": "1.2.0",
      "model_name": "LayoutModel",
      "state": {}
     },
     "e7f2c78a6f2f46f18eb36073e544aa51": {
      "model_module": "@jupyter-widgets/base",
      "model_module_version": "1.2.0",
      "model_name": "LayoutModel",
      "state": {}
     },
     "e85b60d5795940b78b2b0309d777c459": {
      "model_module": "@jupyter-widgets/controls",
      "model_module_version": "1.5.0",
      "model_name": "DescriptionStyleModel",
      "state": {
       "description_width": ""
      }
     },
     "e8763a25b9ca43c4a509c670adc526f6": {
      "model_module": "@jupyter-widgets/controls",
      "model_module_version": "1.5.0",
      "model_name": "TextModel",
      "state": {
       "description": "times",
       "layout": "IPY_MODEL_bc797ff1ee394d8e9b402427e646a34d",
       "style": "IPY_MODEL_141c0912b09e422bb0c93b0a55383890",
       "value": "1"
      }
     },
     "e893495e047041519f8af131231cc353": {
      "model_module": "@jupyter-widgets/controls",
      "model_module_version": "1.5.0",
      "model_name": "ButtonModel",
      "state": {
       "description": "Add rows",
       "layout": "IPY_MODEL_e713fce1b721422d8f59ed947bc8a84a",
       "style": "IPY_MODEL_686ad391775245e69fb5899e6facf20a"
      }
     },
     "e8a51c5e770f4c5a9d9dbe05be632929": {
      "model_module": "@jupyter-widgets/controls",
      "model_module_version": "1.5.0",
      "model_name": "VBoxModel",
      "state": {
       "children": [
        "IPY_MODEL_49ddfa6ed2204bf88dd661d50f83c8ba",
        "IPY_MODEL_eee71e02901a476593bbf69496c41171",
        "IPY_MODEL_c6fcbf2f817a486e84809a315ceeb7ec"
       ],
       "layout": "IPY_MODEL_cc1eaaf2a7de414fb1db3308d9ebfa92"
      }
     },
     "e8c351c7ca3146cb902e74efccfdb1fe": {
      "model_module": "@jupyter-widgets/controls",
      "model_module_version": "1.5.0",
      "model_name": "HTMLMathModel",
      "state": {
       "layout": "IPY_MODEL_0c75223a1dec4741b1b708ef6fe84920",
       "style": "IPY_MODEL_157ae4e77b3947a8abde54620b799bc9",
       "value": "Enter here the values of the right hand side vector $b$"
      }
     },
     "e8c4ce31d136447191e29fab50924497": {
      "model_module": "@jupyter-widgets/controls",
      "model_module_version": "1.5.0",
      "model_name": "TextModel",
      "state": {
       "layout": "IPY_MODEL_7a607c89a00143a7a0808c95689bf41a",
       "style": "IPY_MODEL_221413b645cf469a99a03986d50f7250",
       "value": "1"
      }
     },
     "e8f8d488ac1948b5b90177cb2b455b1f": {
      "model_module": "@jupyter-widgets/controls",
      "model_module_version": "1.5.0",
      "model_name": "HTMLMathModel",
      "state": {
       "layout": "IPY_MODEL_db7ae4c519314abeb98d3cb06673f90e",
       "style": "IPY_MODEL_75a6736d1b554771af5fd5b22a225cd7",
       "value": "The augmented matrix $(\\bf{A}|\\bf{B})$ will appear here."
      }
     },
     "e8fb122427ac4a5c95e5787e68e194ea": {
      "model_module": "@jupyter-widgets/controls",
      "model_module_version": "1.5.0",
      "model_name": "VBoxModel",
      "state": {
       "children": [
        "IPY_MODEL_c3406b597f264cc3998a8332c3436007",
        "IPY_MODEL_1985116ce6744f2c96a0811b499c56e2"
       ],
       "layout": "IPY_MODEL_4500b6cf9aec4a2a87a30446027945c1"
      }
     },
     "e933fef0d29f4c78a9245a4c4f5a1e96": {
      "model_module": "@jupyter-widgets/base",
      "model_module_version": "1.2.0",
      "model_name": "LayoutModel",
      "state": {}
     },
     "e942d84712c14555b9b6004783d4c6f0": {
      "model_module": "@jupyter-widgets/controls",
      "model_module_version": "1.5.0",
      "model_name": "ButtonModel",
      "state": {
       "description": "Multiply row",
       "layout": "IPY_MODEL_cbc4049ba4254a8690faafc3332f1237",
       "style": "IPY_MODEL_4685420a2834475f8a520bbe5c17a9df"
      }
     },
     "e97148d946324133ad43252de564f26c": {
      "model_module": "@jupyter-widgets/controls",
      "model_module_version": "1.5.0",
      "model_name": "TextModel",
      "state": {
       "layout": "IPY_MODEL_201e1a4ee32840b19f981690bdacf3ae",
       "style": "IPY_MODEL_05f7501b90f348f89d7ae8e61517a072",
       "value": "2/3"
      }
     },
     "e971ff09af864317aea0f315ec34b6d3": {
      "model_module": "@jupyter-widgets/controls",
      "model_module_version": "1.5.0",
      "model_name": "DropdownModel",
      "state": {
       "_options_labels": [
        "1",
        "2",
        "3"
       ],
       "description": "and row",
       "index": 1,
       "layout": "IPY_MODEL_deac9b500d3647a39b1ddccae9148014",
       "style": "IPY_MODEL_824c5a87a7264da3bcfb461905e4825d"
      }
     },
     "e9942661f54c4f869208fa6fd77a3755": {
      "model_module": "@jupyter-widgets/controls",
      "model_module_version": "1.5.0",
      "model_name": "TextModel",
      "state": {
       "layout": "IPY_MODEL_201e1a4ee32840b19f981690bdacf3ae",
       "style": "IPY_MODEL_1d8dd25d307d4215987c4cffe4f8dc87",
       "value": "7"
      }
     },
     "e9ae95f526f746bfb2c77cfb9460ccbd": {
      "model_module": "@jupyter-widgets/controls",
      "model_module_version": "1.5.0",
      "model_name": "DescriptionStyleModel",
      "state": {
       "description_width": ""
      }
     },
     "e9b0283856634de6b495c663d4849e1e": {
      "model_module": "@jupyter-widgets/controls",
      "model_module_version": "1.5.0",
      "model_name": "HBoxModel",
      "state": {
       "children": [
        "IPY_MODEL_dd7564191cbe4edd9177a7263bd8d50b",
        "IPY_MODEL_004b1baa5d3942eea0dd3565eb274d0c",
        "IPY_MODEL_7db3620b414c41718b10d470a39813a6"
       ],
       "layout": "IPY_MODEL_ad3708e59d0c4eaf888eaafd32064927"
      }
     },
     "e9c77696af63445e927b60a5d777aeef": {
      "model_module": "@jupyter-widgets/base",
      "model_module_version": "1.2.0",
      "model_name": "LayoutModel",
      "state": {}
     },
     "e9f9930c48bc48f6a986ef6ab7558200": {
      "model_module": "@jupyter-widgets/base",
      "model_module_version": "1.2.0",
      "model_name": "LayoutModel",
      "state": {}
     },
     "e9fac382b3f0401eae8279a9a79dcf8d": {
      "model_module": "@jupyter-widgets/controls",
      "model_module_version": "1.5.0",
      "model_name": "HBoxModel",
      "state": {
       "children": [
        "IPY_MODEL_aa4acbf318224ef4943c4ec59c6d89dc",
        "IPY_MODEL_c09feacfe187483a91c6c881344ac4d9",
        "IPY_MODEL_54d5df0f5d554248b16acc189cfeb362"
       ],
       "layout": "IPY_MODEL_2dc1d5fe954a4354bdc0542a2f5f775d"
      }
     },
     "ea061cdc7a824fd3ad0b823444d348fd": {
      "model_module": "@jupyter-widgets/base",
      "model_module_version": "1.2.0",
      "model_name": "LayoutModel",
      "state": {}
     },
     "ea1d397cf32e447db548e3591b0669a2": {
      "model_module": "@jupyter-widgets/controls",
      "model_module_version": "1.5.0",
      "model_name": "BoxModel",
      "state": {
       "children": [
        "IPY_MODEL_76095eb7cfe94299b15ac66ed4804cd2",
        "IPY_MODEL_8890a4e7660547f6b856f48ecb1039f2",
        "IPY_MODEL_cdb8d0d47aa44a85a8d08c2bf40f25c8"
       ],
       "layout": "IPY_MODEL_1406ba5af04a480baeccbcdc533082a5"
      }
     },
     "ea23d0027d3d4ed9abbc7770dcaa6f70": {
      "model_module": "@jupyter-widgets/controls",
      "model_module_version": "1.5.0",
      "model_name": "DescriptionStyleModel",
      "state": {
       "description_width": ""
      }
     },
     "ea2f511c90b0459fa280c3e7b1eb4cc0": {
      "model_module": "@jupyter-widgets/controls",
      "model_module_version": "1.5.0",
      "model_name": "HTMLMathModel",
      "state": {
       "layout": "IPY_MODEL_1a5171c310f54112bd530fb112b4fd83",
       "style": "IPY_MODEL_fc19d8239ee74020a09417c26babbf75",
       "value": "$$ $$$$ \\left[\\begin{array}{ rrr|rrr }\n\\color{ blue }{ 4 } & \\color{ blue }{ 1 } & \\color{ blue }{ -2 } & \\color{ blue }{ 1 } & \\color{ blue }{ 0 } & \\color{ blue }{ 0 } \\\\\n3 & -1 & 1 & 0 & 1 & 0 \\\\\n\\color{ red }{ 1 } & \\color{ red }{ -1 } & \\color{ red }{ 1 } & \\color{ red }{ 0 } & \\color{ red }{ 0 } & \\color{ red }{ 1 }\n\\end{array}\\right ]\\stackrel{ \\color{blue}{R_1} \\leftrightarrow \\color{red}{R_3}}{\\Longrightarrow}\\left [\\begin{array}{ rrr|rrr }\n\\color{ red }{ 1 } & \\color{ red }{ -1 } & \\color{ red }{ 1 } & \\color{ red }{ 0 } & \\color{ red }{ 0 } & \\color{ red }{ 1 } \\\\\n3 & -1 & 1 & 0 & 1 & 0 \\\\\n\\color{ blue }{ 4 } & \\color{ blue }{ 1 } & \\color{ blue }{ -2 } & \\color{ blue }{ 1 } & \\color{ blue }{ 0 } & \\color{ blue }{ 0 }\n\\end{array}\\right ] $$$$ $$$$ \\left[\\begin{array}{ rrr|rrr }\n\\color{ blue }{ 1 } & \\color{ blue }{ -1 } & \\color{ blue }{ 1 } & \\color{ blue }{ 0 } & \\color{ blue }{ 0 } & \\color{ blue }{ 1 } \\\\\n\\color{ red }{ 3 } & \\color{ red }{ -1 } & \\color{ red }{ 1 } & \\color{ red }{ 0 } & \\color{ red }{ 1 } & \\color{ red }{ 0 } \\\\\n4 & 1 & -2 & 1 & 0 & 0\n\\end{array}\\right ]\\stackrel{ -3\\color{blue}{R_1} + \\color{red}{R_2} \\to \\color{green}{R_2}}{\\Longrightarrow}\\left [\\begin{array}{ rrr|rrr }\n\\color{ blue }{ 1 } & \\color{ blue }{ -1 } & \\color{ blue }{ 1 } & \\color{ blue }{ 0 } & \\color{ blue }{ 0 } & \\color{ blue }{ 1 } \\\\\n\\color{ green }{ 0 } & \\color{ green }{ 2 } & \\color{ green }{ -2 } & \\color{ green }{ 0 } & \\color{ green }{ 1 } & \\color{ green }{ -3 } \\\\\n4 & 1 & -2 & 1 & 0 & 0\n\\end{array}\\right ] $$$$ $$$$ \\left[\\begin{array}{ rrr|rrr }\n\\color{ blue }{ 1 } & \\color{ blue }{ -1 } & \\color{ blue }{ 1 } & \\color{ blue }{ 0 } & \\color{ blue }{ 0 } & \\color{ blue }{ 1 } \\\\\n0 & 2 & -2 & 0 & 1 & -3 \\\\\n\\color{ red }{ 4 } & \\color{ red }{ 1 } & \\color{ red }{ -2 } & \\color{ red }{ 1 } & \\color{ red }{ 0 } & \\color{ red }{ 0 }\n\\end{array}\\right ]\\stackrel{ -4\\color{blue}{R_1} + \\color{red}{R_3} \\to \\color{green}{R_3}}{\\Longrightarrow}\\left [\\begin{array}{ rrr|rrr }\n\\color{ blue }{ 1 } & \\color{ blue }{ -1 } & \\color{ blue }{ 1 } & \\color{ blue }{ 0 } & \\color{ blue }{ 0 } & \\color{ blue }{ 1 } \\\\\n0 & 2 & -2 & 0 & 1 & -3 \\\\\n\\color{ green }{ 0 } & \\color{ green }{ 5 } & \\color{ green }{ -6 } & \\color{ green }{ 1 } & \\color{ green }{ 0 } & \\color{ green }{ -4 }\n\\end{array}\\right ] $$"
      }
     },
     "ea4c33f7782241d68035a6d6340fabba": {
      "model_module": "@jupyter-widgets/controls",
      "model_module_version": "1.5.0",
      "model_name": "VBoxModel",
      "state": {
       "children": [
        "IPY_MODEL_a1bcaee7fb4442bcb71d693c3b294136",
        "IPY_MODEL_62f8e520c42f4d939c839664f6e56ef5",
        "IPY_MODEL_af1105e0604d4430b14de9c078bae96c"
       ],
       "layout": "IPY_MODEL_d820b318ccac40d08640f560a801fd28"
      }
     },
     "ea7032af5a434b63b25757ecd430e019": {
      "model_module": "@jupyter-widgets/controls",
      "model_module_version": "1.5.0",
      "model_name": "DescriptionStyleModel",
      "state": {
       "description_width": ""
      }
     },
     "ea71b0d034c84249b3adec5074883f15": {
      "model_module": "@jupyter-widgets/controls",
      "model_module_version": "1.5.0",
      "model_name": "TextModel",
      "state": {
       "layout": "IPY_MODEL_5a0c24727aa941b48d996c0a1f0c2bf8",
       "style": "IPY_MODEL_d3a2dffb419a427f82b357cdb6c93552",
       "value": "-1"
      }
     },
     "ea7cfb796b414c39860084d2025ae1d8": {
      "model_module": "@jupyter-widgets/controls",
      "model_module_version": "1.5.0",
      "model_name": "VBoxModel",
      "state": {
       "children": [
        "IPY_MODEL_60b7028effa941ffaa9a2472e011d459",
        "IPY_MODEL_2033bf8a32114dab9538ce2cab01c478",
        "IPY_MODEL_52e9e0e7fb2640309a96ac6a069cdc36"
       ],
       "layout": "IPY_MODEL_efdfa32d929d422dbf8e4403ca2c9137"
      }
     },
     "ea7e22664aff417694d571c55475b12b": {
      "model_module": "@jupyter-widgets/controls",
      "model_module_version": "1.5.0",
      "model_name": "HTMLMathModel",
      "state": {
       "layout": "IPY_MODEL_c9d4ae8a05c04c5f9404bd63bbd7faec",
       "style": "IPY_MODEL_1b3c9f5758b948da9cc1e0f5db464056",
       "value": "Enter here the values of the constant matrix $\\bf{B}$"
      }
     },
     "ea8fb48509034940b0bf2793031f47c3": {
      "model_module": "@jupyter-widgets/base",
      "model_module_version": "1.2.0",
      "model_name": "LayoutModel",
      "state": {
       "width": "150px"
      }
     },
     "ea941d8f6eb24820bba538d2c4260b4a": {
      "model_module": "@jupyter-widgets/base",
      "model_module_version": "1.2.0",
      "model_name": "LayoutModel",
      "state": {}
     },
     "ea966ab4a96146bea3b76b38c891ef66": {
      "model_module": "@jupyter-widgets/base",
      "model_module_version": "1.2.0",
      "model_name": "LayoutModel",
      "state": {
       "width": "150px"
      }
     },
     "ea9c959b68fa46978f06c017677b9361": {
      "model_module": "@jupyter-widgets/controls",
      "model_module_version": "1.5.0",
      "model_name": "TextModel",
      "state": {
       "layout": "IPY_MODEL_d743f8ba50f447a3ad2d5faaa6a0e9e2",
       "style": "IPY_MODEL_f397f39963fc4d7e8afd01c63db77140",
       "value": "2"
      }
     },
     "eacf872d21354c7591564531c66e2582": {
      "model_module": "@jupyter-widgets/controls",
      "model_module_version": "1.5.0",
      "model_name": "DescriptionStyleModel",
      "state": {
       "description_width": ""
      }
     },
     "eae4ce228155493c82a816d0d56a61ca": {
      "model_module": "@jupyter-widgets/controls",
      "model_module_version": "1.5.0",
      "model_name": "DescriptionStyleModel",
      "state": {
       "description_width": ""
      }
     },
     "eaf31ba8fcce43b2be33f3b76c6cd8dc": {
      "model_module": "@jupyter-widgets/base",
      "model_module_version": "1.2.0",
      "model_name": "LayoutModel",
      "state": {}
     },
     "eb030789050644a98f4b9c88d777183d": {
      "model_module": "@jupyter-widgets/base",
      "model_module_version": "1.2.0",
      "model_name": "LayoutModel",
      "state": {
       "width": "150px"
      }
     },
     "eb29f29b39b647e08cfea5f0f8b41fa7": {
      "model_module": "@jupyter-widgets/controls",
      "model_module_version": "1.5.0",
      "model_name": "TextModel",
      "state": {
       "layout": "IPY_MODEL_776389df997545fcab086c0233cb0ab0",
       "style": "IPY_MODEL_854698d3124944c4b01e997588977372",
       "value": "5"
      }
     },
     "eb63194e107e4ce3bed97e9bfb8a3402": {
      "model_module": "@jupyter-widgets/controls",
      "model_module_version": "1.5.0",
      "model_name": "DescriptionStyleModel",
      "state": {
       "description_width": ""
      }
     },
     "eb71288ee6b64a15b0d0a2803f6b8572": {
      "model_module": "@jupyter-widgets/controls",
      "model_module_version": "1.5.0",
      "model_name": "DescriptionStyleModel",
      "state": {
       "description_width": ""
      }
     },
     "eb756f189be74e6fb9af3ece602897f8": {
      "model_module": "@jupyter-widgets/controls",
      "model_module_version": "1.5.0",
      "model_name": "TextModel",
      "state": {
       "description": "times",
       "layout": "IPY_MODEL_d42c3ba77c7f4672b714f37ec4713de5",
       "style": "IPY_MODEL_aa11cb16dc51499ab3fac424b4d7da7c",
       "value": "1"
      }
     },
     "eb87a08f228b4899b30e7a7761e4bfd5": {
      "model_module": "@jupyter-widgets/controls",
      "model_module_version": "1.5.0",
      "model_name": "ButtonStyleModel",
      "state": {}
     },
     "eb939392501748a59a3887486a7d2971": {
      "model_module": "@jupyter-widgets/controls",
      "model_module_version": "1.5.0",
      "model_name": "TextModel",
      "state": {
       "layout": "IPY_MODEL_e56e2cbba3324f1e9a6da6e53dfda065",
       "style": "IPY_MODEL_388330af6e3749b5a4d160059b1b203f",
       "value": "2"
      }
     },
     "ebb14017cbde40269139927156f7ed6e": {
      "model_module": "@jupyter-widgets/controls",
      "model_module_version": "1.5.0",
      "model_name": "HBoxModel",
      "state": {
       "children": [
        "IPY_MODEL_a8d0d1cbbc6e4b4597ee6ab3d2965d72",
        "IPY_MODEL_1d731c254e0544c29857005878fbfa23"
       ],
       "layout": "IPY_MODEL_5320e07a6f3d4f92ad0ff46bc3d2315a"
      }
     },
     "ebc34247da3345df99ebe025f29f915b": {
      "model_module": "@jupyter-widgets/base",
      "model_module_version": "1.2.0",
      "model_name": "LayoutModel",
      "state": {
       "width": "150px"
      }
     },
     "ec03ea6157c04c5f823fa7f5591c7e58": {
      "model_module": "@jupyter-widgets/controls",
      "model_module_version": "1.5.0",
      "model_name": "HTMLMathModel",
      "state": {
       "layout": "IPY_MODEL_911782efbdb943058e1fb7375d220e6b",
       "style": "IPY_MODEL_91f4ec477c9b48f0a0f8b879a06db714",
       "value": "Enter here the values of the right hand side vector $b$"
      }
     },
     "ec58c80859bd40c3ae834b423212f7f3": {
      "model_module": "@jupyter-widgets/base",
      "model_module_version": "1.2.0",
      "model_name": "LayoutModel",
      "state": {
       "flex_flow": "row wrap",
       "justify_content": "space-around"
      }
     },
     "ec6356d787844b12abf4df0a396148f5": {
      "model_module": "@jupyter-widgets/base",
      "model_module_version": "1.2.0",
      "model_name": "LayoutModel",
      "state": {}
     },
     "ec92452da74a4cdb8bec4d17ce338bd8": {
      "model_module": "@jupyter-widgets/controls",
      "model_module_version": "1.5.0",
      "model_name": "TextModel",
      "state": {
       "layout": "IPY_MODEL_b2827ab913cf4f49b7a4aeebd116396e",
       "style": "IPY_MODEL_82cf7b01dba34acf8f2a20db7a87eead",
       "value": "2"
      }
     },
     "ec98a905b0674bab9d816ed1bc603cc7": {
      "model_module": "@jupyter-widgets/controls",
      "model_module_version": "1.5.0",
      "model_name": "TextModel",
      "state": {
       "layout": "IPY_MODEL_97993fa24fac42e28605e8d366180168",
       "style": "IPY_MODEL_36f4a001763645f284adce9268ed5287",
       "value": "2"
      }
     },
     "ec9cffad8f6f4b29ba6731cf1c684fa1": {
      "model_module": "@jupyter-widgets/controls",
      "model_module_version": "1.5.0",
      "model_name": "ButtonStyleModel",
      "state": {}
     },
     "eca4c35a016d4bfab194ffb0cd279fbe": {
      "model_module": "@jupyter-widgets/controls",
      "model_module_version": "1.5.0",
      "model_name": "HTMLMathModel",
      "state": {
       "layout": "IPY_MODEL_8419d117de0a483bb4f7f2dd2f014fac",
       "style": "IPY_MODEL_772a4dacf67f48cead87599d74a548b7",
       "value": "Enter here the values of the matrix $A$"
      }
     },
     "ecb53aaf49a74ce0bd882d4f806c15cd": {
      "model_module": "@jupyter-widgets/controls",
      "model_module_version": "1.5.0",
      "model_name": "HTMLMathModel",
      "state": {
       "layout": "IPY_MODEL_734f908248364b5eb88bed04a49f9677",
       "style": "IPY_MODEL_1d6f8011df4649169e2274b9b89c3aff",
       "value": "The augmented matrix will appear here."
      }
     },
     "ecc7c416e4554d67824e1735f8adf8ed": {
      "model_module": "@jupyter-widgets/controls",
      "model_module_version": "1.5.0",
      "model_name": "DescriptionStyleModel",
      "state": {
       "description_width": ""
      }
     },
     "ed2a06754a4f499aa139a9895bb8b482": {
      "model_module": "@jupyter-widgets/controls",
      "model_module_version": "1.5.0",
      "model_name": "DescriptionStyleModel",
      "state": {
       "description_width": ""
      }
     },
     "ed66af272c9a4bd1b826c0d0070b8dd6": {
      "model_module": "@jupyter-widgets/base",
      "model_module_version": "1.2.0",
      "model_name": "LayoutModel",
      "state": {}
     },
     "ed760300f36b4718bd86cd07ba5808a4": {
      "model_module": "@jupyter-widgets/controls",
      "model_module_version": "1.5.0",
      "model_name": "ButtonStyleModel",
      "state": {}
     },
     "ed7df2142d06450ab4fc6fef01c700cf": {
      "model_module": "@jupyter-widgets/controls",
      "model_module_version": "1.5.0",
      "model_name": "ButtonModel",
      "state": {
       "description": "Check inverse",
       "layout": "IPY_MODEL_b72a40ca03ab4d5295ed82f3cc5654d8",
       "style": "IPY_MODEL_826dbbc907264df183f6f9cc1a963e28"
      }
     },
     "ed9e4888a47a41bdbca99949e12037f8": {
      "model_module": "@jupyter-widgets/base",
      "model_module_version": "1.2.0",
      "model_name": "LayoutModel",
      "state": {}
     },
     "edcba7f84b834a7697b3280a6cea10fe": {
      "model_module": "@jupyter-widgets/base",
      "model_module_version": "1.2.0",
      "model_name": "LayoutModel",
      "state": {
       "width": "40px"
      }
     },
     "edd10de6b3354b2a9e98cdea7b17e20e": {
      "model_module": "@jupyter-widgets/controls",
      "model_module_version": "1.5.0",
      "model_name": "HTMLMathModel",
      "state": {
       "layout": "IPY_MODEL_e7a24bbec11247e39d8a24b3207ca1fe",
       "style": "IPY_MODEL_81e1ea914d1f491b8c149edbdd6a594f",
       "value": "Enter here the values of the right hand side vector $b$"
      }
     },
     "edda38f8e7024c04bb44f496da67e749": {
      "model_module": "@jupyter-widgets/base",
      "model_module_version": "1.2.0",
      "model_name": "LayoutModel",
      "state": {}
     },
     "edf76f77bb2345249e4915144d90afc2": {
      "model_module": "@jupyter-widgets/controls",
      "model_module_version": "1.5.0",
      "model_name": "ButtonModel",
      "state": {
       "description": "Start",
       "layout": "IPY_MODEL_00eb8c2b2bcd4266ae00682af1b48ec4",
       "style": "IPY_MODEL_65d5b47270a54725933207ff9f0a1b04"
      }
     },
     "ee01a585197e493bbdff5a34cb0a9e43": {
      "model_module": "@jupyter-widgets/base",
      "model_module_version": "1.2.0",
      "model_name": "LayoutModel",
      "state": {}
     },
     "ee0fac3c03254350a8d60801c82c0f7e": {
      "model_module": "@jupyter-widgets/controls",
      "model_module_version": "1.5.0",
      "model_name": "TextModel",
      "state": {
       "layout": "IPY_MODEL_dfe771ca3cb647c5ba599a113ad575df",
       "style": "IPY_MODEL_3b6746c53df34f9f923a92ff0a94452e",
       "value": "5"
      }
     },
     "ee590e817f7c495b80d39039d98ffde0": {
      "model_module": "@jupyter-widgets/controls",
      "model_module_version": "1.5.0",
      "model_name": "DescriptionStyleModel",
      "state": {
       "description_width": ""
      }
     },
     "ee781f9ddda346b98cf8bc6eb0633929": {
      "model_module": "@jupyter-widgets/controls",
      "model_module_version": "1.5.0",
      "model_name": "DropdownModel",
      "state": {
       "_options_labels": [
        "1",
        "2",
        "3"
       ],
       "description": "Swap row",
       "index": 0,
       "layout": "IPY_MODEL_4aac7ece8a6b4515a583564bab355079",
       "style": "IPY_MODEL_c6971ec81ed544c39da0adc9ebdde97e"
      }
     },
     "ee7f584d373d4e5da9882d4fbc91c1f6": {
      "model_module": "@jupyter-widgets/base",
      "model_module_version": "1.2.0",
      "model_name": "LayoutModel",
      "state": {
       "width": "150px"
      }
     },
     "eea5d6610d954516b2cf76848db834e0": {
      "model_module": "@jupyter-widgets/controls",
      "model_module_version": "1.5.0",
      "model_name": "DescriptionStyleModel",
      "state": {
       "description_width": ""
      }
     },
     "eeb3e45220af45b5b55b9ceda94be70a": {
      "model_module": "@jupyter-widgets/controls",
      "model_module_version": "1.5.0",
      "model_name": "VBoxModel",
      "state": {
       "children": [
        "IPY_MODEL_8ad2025df1f045ccba1edafb7dad7173",
        "IPY_MODEL_40b031fcae544cb7bf40151e610c863a",
        "IPY_MODEL_3acf8b646c1f4813bcd6902877a82e18"
       ],
       "layout": "IPY_MODEL_1c10ef4e9ece42b4946e427e251af35d"
      }
     },
     "eeba3ece71b54defa53ffef84323b508": {
      "model_module": "@jupyter-widgets/base",
      "model_module_version": "1.2.0",
      "model_name": "LayoutModel",
      "state": {}
     },
     "eec9aefd7db54b25a1ed8114d7aff5c8": {
      "model_module": "@jupyter-widgets/base",
      "model_module_version": "1.2.0",
      "model_name": "LayoutModel",
      "state": {}
     },
     "eee71e02901a476593bbf69496c41171": {
      "model_module": "@jupyter-widgets/controls",
      "model_module_version": "1.5.0",
      "model_name": "HBoxModel",
      "state": {
       "children": [
        "IPY_MODEL_98960fbd27f846d6a50b02945dfb2498",
        "IPY_MODEL_3dffffd690c44268ba3a0424e963bec9",
        "IPY_MODEL_85f2d6f30eaa4d109f18de120398bf7a"
       ],
       "layout": "IPY_MODEL_fb3a513eb9fb4d97a5d5aad5fc202665"
      }
     },
     "eeebf09d6f9341e89319c547b5376a0d": {
      "model_module": "@jupyter-widgets/base",
      "model_module_version": "1.2.0",
      "model_name": "LayoutModel",
      "state": {}
     },
     "eeef97788e59480e8ae35444b0d4f51f": {
      "model_module": "@jupyter-widgets/controls",
      "model_module_version": "1.5.0",
      "model_name": "DescriptionStyleModel",
      "state": {
       "description_width": ""
      }
     },
     "eeefb8331e13454eabb4f58381b053d7": {
      "model_module": "@jupyter-widgets/controls",
      "model_module_version": "1.5.0",
      "model_name": "DescriptionStyleModel",
      "state": {
       "description_width": ""
      }
     },
     "eefc96d3ecc94c589d5246bde07b63c2": {
      "model_module": "@jupyter-widgets/controls",
      "model_module_version": "1.5.0",
      "model_name": "TextModel",
      "state": {
       "layout": "IPY_MODEL_b2827ab913cf4f49b7a4aeebd116396e",
       "style": "IPY_MODEL_58349022765c4e9d9e1dc50abe4323b9",
       "value": "9"
      }
     },
     "eefc9c0201ae48deb3268c915b3fb7b0": {
      "model_module": "@jupyter-widgets/controls",
      "model_module_version": "1.5.0",
      "model_name": "DescriptionStyleModel",
      "state": {
       "description_width": ""
      }
     },
     "ef366ef88d174c3299ce49f2f3673208": {
      "model_module": "@jupyter-widgets/controls",
      "model_module_version": "1.5.0",
      "model_name": "ButtonModel",
      "state": {
       "description": "Start",
       "layout": "IPY_MODEL_ff3d770f323440cbaaafa25cd5896a27",
       "style": "IPY_MODEL_21e17d6a4d9247408657bd12746e4e02"
      }
     },
     "ef52107204e04f2a97f6b95ecc1151de": {
      "model_module": "@jupyter-widgets/controls",
      "model_module_version": "1.5.0",
      "model_name": "HBoxModel",
      "state": {
       "children": [
        "IPY_MODEL_0c87e0e9dd314f49af89ae12a412d2c1",
        "IPY_MODEL_b2b0604d46134161b6ff1301686f5550",
        "IPY_MODEL_77262e2420b84139be84713590236071"
       ],
       "layout": "IPY_MODEL_8824468931684d0da16445df8364c975"
      }
     },
     "ef72b16de5bf4989a0e40ae9e62b66b1": {
      "model_module": "@jupyter-widgets/controls",
      "model_module_version": "1.5.0",
      "model_name": "DescriptionStyleModel",
      "state": {
       "description_width": ""
      }
     },
     "ef8ff7e115424eeb9f1ab956b502617e": {
      "model_module": "@jupyter-widgets/controls",
      "model_module_version": "1.5.0",
      "model_name": "DescriptionStyleModel",
      "state": {
       "description_width": ""
      }
     },
     "efdfa32d929d422dbf8e4403ca2c9137": {
      "model_module": "@jupyter-widgets/base",
      "model_module_version": "1.2.0",
      "model_name": "LayoutModel",
      "state": {}
     },
     "efe34e22991049d5b12a19c5a386a8dc": {
      "model_module": "@jupyter-widgets/base",
      "model_module_version": "1.2.0",
      "model_name": "LayoutModel",
      "state": {
       "height": "35px",
       "width": "40px"
      }
     },
     "f019a1b34f2f49f18161b7d9b4f714ff": {
      "model_module": "@jupyter-widgets/controls",
      "model_module_version": "1.5.0",
      "model_name": "TextModel",
      "state": {
       "layout": "IPY_MODEL_308f071668994851a29f0ae6fcc0bc14",
       "style": "IPY_MODEL_dc907336f31b48ba8bc325ec4b9cfad8",
       "value": "1"
      }
     },
     "f01ae29b7d644da99ee63fcf34372431": {
      "model_module": "@jupyter-widgets/base",
      "model_module_version": "1.2.0",
      "model_name": "LayoutModel",
      "state": {
       "width": "90px"
      }
     },
     "f03167670854477988a957d116c254b7": {
      "model_module": "@jupyter-widgets/controls",
      "model_module_version": "1.5.0",
      "model_name": "TextModel",
      "state": {
       "layout": "IPY_MODEL_65cb8db367e14667886b79ef97c800d1",
       "style": "IPY_MODEL_57f37a482b9b4212a5d2ed4a2eec7123",
       "value": "1"
      }
     },
     "f03fa4c9dee14dcc8e169086e9dee2f3": {
      "model_module": "@jupyter-widgets/base",
      "model_module_version": "1.2.0",
      "model_name": "LayoutModel",
      "state": {
       "width": "150px"
      }
     },
     "f044b7410eb84078b1addf830f7255ae": {
      "model_module": "@jupyter-widgets/base",
      "model_module_version": "1.2.0",
      "model_name": "LayoutModel",
      "state": {
       "justify_content": "center"
      }
     },
     "f085ae177b8a4b0885a60ef667f5cabd": {
      "model_module": "@jupyter-widgets/base",
      "model_module_version": "1.2.0",
      "model_name": "LayoutModel",
      "state": {}
     },
     "f091f449490a41eabafc9416846749b3": {
      "model_module": "@jupyter-widgets/controls",
      "model_module_version": "1.5.0",
      "model_name": "DropdownModel",
      "state": {
       "_options_labels": [
        "1",
        "2",
        "3"
       ],
       "description": "to row",
       "index": 0,
       "layout": "IPY_MODEL_9622b87d96e346ff9156b0af9b242f3e",
       "style": "IPY_MODEL_6a9c29d715954664a3b6582a3fd99a05"
      }
     },
     "f0c37c50ebf74d1b8c8e6007f1902a2d": {
      "model_module": "@jupyter-widgets/base",
      "model_module_version": "1.2.0",
      "model_name": "LayoutModel",
      "state": {
       "width": "150px"
      }
     },
     "f0e435f708eb40afb638d2cf9d9781d3": {
      "model_module": "@jupyter-widgets/controls",
      "model_module_version": "1.5.0",
      "model_name": "VBoxModel",
      "state": {
       "children": [
        "IPY_MODEL_5d8824e772c44ba6b2db408f4c18e308",
        "IPY_MODEL_6b3ebf123f1940d2a1985abc852ca74b",
        "IPY_MODEL_f4e29c12a4044874876b9d14adb16e6d"
       ],
       "layout": "IPY_MODEL_15cb1eba10714e2095f4d934b9f73e07"
      }
     },
     "f16b07887d074602943a49dbb77551a0": {
      "model_module": "@jupyter-widgets/base",
      "model_module_version": "1.2.0",
      "model_name": "LayoutModel",
      "state": {}
     },
     "f17775995bdd45d9bfc1e67bb2b0bc06": {
      "model_module": "@jupyter-widgets/controls",
      "model_module_version": "1.5.0",
      "model_name": "HBoxModel",
      "state": {
       "children": [
        "IPY_MODEL_0b8d8522f9b046b1813ca8373d8a602b",
        "IPY_MODEL_b2a677f9f5f84f7bbdd0f4f2f14964b3"
       ],
       "layout": "IPY_MODEL_53373de3990348cfba9f464571f56512"
      }
     },
     "f19cadcefec641e395cd67af48991c05": {
      "model_module": "@jupyter-widgets/base",
      "model_module_version": "1.2.0",
      "model_name": "LayoutModel",
      "state": {
       "width": "40px"
      }
     },
     "f1a460adf0e1420dac326066b1145c30": {
      "model_module": "@jupyter-widgets/controls",
      "model_module_version": "1.5.0",
      "model_name": "HTMLModel",
      "state": {
       "layout": "IPY_MODEL_f7812d9b703b4e0b8bbf6bcd19d05789",
       "style": "IPY_MODEL_4a7ee14c7e42480bb3d1d3d4e7fa7bab",
       "value": "Click this button to start the calculator"
      }
     },
     "f1aa2df246494e15a23c8062d7e3ccde": {
      "model_module": "@jupyter-widgets/controls",
      "model_module_version": "1.5.0",
      "model_name": "DescriptionStyleModel",
      "state": {
       "description_width": ""
      }
     },
     "f1b0883b59c24d3094bb528872d50e60": {
      "model_module": "@jupyter-widgets/base",
      "model_module_version": "1.2.0",
      "model_name": "LayoutModel",
      "state": {
       "height": "300px",
       "justify_content": "center"
      }
     },
     "f1d5cf599d7742bdbcb8970a31942c1b": {
      "model_module": "@jupyter-widgets/controls",
      "model_module_version": "1.5.0",
      "model_name": "ButtonStyleModel",
      "state": {}
     },
     "f1e8f994bc904a7b8f9e17c5cffb59a0": {
      "model_module": "@jupyter-widgets/controls",
      "model_module_version": "1.5.0",
      "model_name": "DescriptionStyleModel",
      "state": {
       "description_width": ""
      }
     },
     "f1fa41c9f71c4f8bb49565f039a58277": {
      "model_module": "@jupyter-widgets/base",
      "model_module_version": "1.2.0",
      "model_name": "LayoutModel",
      "state": {}
     },
     "f2125e79e8e24524b0fb57889e431f9f": {
      "model_module": "@jupyter-widgets/base",
      "model_module_version": "1.2.0",
      "model_name": "LayoutModel",
      "state": {
       "width": "150px"
      }
     },
     "f22a495074be40beac753748778be6f3": {
      "model_module": "@jupyter-widgets/controls",
      "model_module_version": "1.5.0",
      "model_name": "DescriptionStyleModel",
      "state": {
       "description_width": ""
      }
     },
     "f22c060de5474d7e8daa8c79ee787237": {
      "model_module": "@jupyter-widgets/controls",
      "model_module_version": "1.5.0",
      "model_name": "HBoxModel",
      "state": {
       "children": [
        "IPY_MODEL_d64c192c2e9c47969bacd26bd2f5c1c0",
        "IPY_MODEL_7d7d88ffc94843e988f3ebfb35979e02",
        "IPY_MODEL_f88d21bd2fc54bdd892e55255cc40114"
       ],
       "layout": "IPY_MODEL_b2114799c4a84bbc87247973e58f4c95"
      }
     },
     "f233366c8a374af180bee2390194c7cf": {
      "model_module": "@jupyter-widgets/controls",
      "model_module_version": "1.5.0",
      "model_name": "DescriptionStyleModel",
      "state": {
       "description_width": ""
      }
     },
     "f242ecd4d96e4910b2a4edd8381ba44a": {
      "model_module": "@jupyter-widgets/controls",
      "model_module_version": "1.5.0",
      "model_name": "HBoxModel",
      "state": {
       "children": [
        "IPY_MODEL_82a13f61b5a54a9a9e5eb14dcd3f0460",
        "IPY_MODEL_8a1479b08f2a4dfaab91b547ae8196a5",
        "IPY_MODEL_7723b28d13c4497a9b913aec12f7645f"
       ],
       "layout": "IPY_MODEL_0bc34d4545114c028fa07889b8084772"
      }
     },
     "f25e8e58d0ff4bfdac9976e2b810609f": {
      "model_module": "@jupyter-widgets/controls",
      "model_module_version": "1.5.0",
      "model_name": "TextModel",
      "state": {
       "description": "times",
       "layout": "IPY_MODEL_6f5d7189f3294051aa6db2e280be4851",
       "style": "IPY_MODEL_c2829292512547818836c0e826587e0e",
       "value": "1"
      }
     },
     "f27e0f18d55744be8068dad7dbf7737a": {
      "model_module": "@jupyter-widgets/controls",
      "model_module_version": "1.5.0",
      "model_name": "TextModel",
      "state": {
       "layout": "IPY_MODEL_97993fa24fac42e28605e8d366180168",
       "style": "IPY_MODEL_cead6ed81b0a493082fb6746d7479151",
       "value": "5"
      }
     },
     "f2882cebb7f2411abae8002027e464ba": {
      "model_module": "@jupyter-widgets/base",
      "model_module_version": "1.2.0",
      "model_name": "LayoutModel",
      "state": {}
     },
     "f28c3c7f5ced4384b8a9eca6bc4c00fd": {
      "model_module": "@jupyter-widgets/base",
      "model_module_version": "1.2.0",
      "model_name": "LayoutModel",
      "state": {
       "height": "35px",
       "width": "30px"
      }
     },
     "f29ce3ba67d24dc8871830d5d9f4d4c7": {
      "model_module": "@jupyter-widgets/base",
      "model_module_version": "1.2.0",
      "model_name": "LayoutModel",
      "state": {}
     },
     "f2ae0e66337c4ebdae2cb01a413f8e02": {
      "model_module": "@jupyter-widgets/controls",
      "model_module_version": "1.5.0",
      "model_name": "DescriptionStyleModel",
      "state": {
       "description_width": ""
      }
     },
     "f2b6b852a94441abad5cca5793983c9f": {
      "model_module": "@jupyter-widgets/controls",
      "model_module_version": "1.5.0",
      "model_name": "TextModel",
      "state": {
       "layout": "IPY_MODEL_342fbdc31d2d406489b24d1349c22e03",
       "style": "IPY_MODEL_6299f44249684c518b0bd3e2fbc9c2b2",
       "value": "-4"
      }
     },
     "f2cdd27425f14512b732dfe256dcb896": {
      "model_module": "@jupyter-widgets/controls",
      "model_module_version": "1.5.0",
      "model_name": "VBoxModel",
      "state": {
       "children": [
        "IPY_MODEL_6a34b01a70b840709c851f85080f2dd6",
        "IPY_MODEL_d9c2f9ff74ba44978691a0d8e10a1d76",
        "IPY_MODEL_a5ff18a0a71b46c891adb17e46f582d7"
       ],
       "layout": "IPY_MODEL_b272a8422d2c421c8783cb60a6e334f1"
      }
     },
     "f2ce4122509b40f9958550f0c01618d8": {
      "model_module": "@jupyter-widgets/controls",
      "model_module_version": "1.5.0",
      "model_name": "ButtonModel",
      "state": {
       "description": "Start",
       "layout": "IPY_MODEL_6126474d45904f29ad70f737925f6d12",
       "style": "IPY_MODEL_981c3959f7a54021ad9bcc84e034d0cc"
      }
     },
     "f2cee3b571a1433e89ea17c4c5ccee8e": {
      "model_module": "@jupyter-widgets/controls",
      "model_module_version": "1.5.0",
      "model_name": "DropdownModel",
      "state": {
       "_options_labels": [
        "1",
        "2",
        "3"
       ],
       "description": "Swap row",
       "index": 0,
       "layout": "IPY_MODEL_a6ef4ad5118541c78a88cdbeb2925d84",
       "style": "IPY_MODEL_a64d6c22f92342ae8091255e80427a4f"
      }
     },
     "f2d1f3df114f4723a3a7aa08ce1a337f": {
      "model_module": "@jupyter-widgets/controls",
      "model_module_version": "1.5.0",
      "model_name": "ButtonModel",
      "state": {
       "description": "Check inverse",
       "layout": "IPY_MODEL_1d0bbf21e763452d8df9b29bd3b16d02",
       "style": "IPY_MODEL_42f92aed02144d9aa4ccef1a22a7402f"
      }
     },
     "f2e149f1a8d0497eb086b5fd62f3847f": {
      "model_module": "@jupyter-widgets/controls",
      "model_module_version": "1.5.0",
      "model_name": "TextModel",
      "state": {
       "layout": "IPY_MODEL_776389df997545fcab086c0233cb0ab0",
       "style": "IPY_MODEL_1ba9b5a6948a4e00864cf684f2dedd49",
       "value": "-1"
      }
     },
     "f2eb8d9717d341ecb4c76868748421e1": {
      "model_module": "@jupyter-widgets/controls",
      "model_module_version": "1.5.0",
      "model_name": "HTMLMathModel",
      "state": {
       "layout": "IPY_MODEL_b4e8bedc66614c2b971638f28f3b0643",
       "style": "IPY_MODEL_f6614e67fb2f471b8322f0f125349cc7",
       "value": "Enter here the values of the right hand side vector $b$"
      }
     },
     "f2f1079d40fe4ce5b06799417f86036c": {
      "model_module": "@jupyter-widgets/base",
      "model_module_version": "1.2.0",
      "model_name": "LayoutModel",
      "state": {}
     },
     "f2f16efda7f64b86bcf02aedbb48b3ca": {
      "model_module": "@jupyter-widgets/base",
      "model_module_version": "1.2.0",
      "model_name": "LayoutModel",
      "state": {
       "width": "150px"
      }
     },
     "f3195ad60d4842aa9e571ae0ebe5feb6": {
      "model_module": "@jupyter-widgets/base",
      "model_module_version": "1.2.0",
      "model_name": "LayoutModel",
      "state": {}
     },
     "f319eceba10541c7ba43056909455536": {
      "model_module": "@jupyter-widgets/controls",
      "model_module_version": "1.5.0",
      "model_name": "TextModel",
      "state": {
       "layout": "IPY_MODEL_9a1e48de729e4abb89a3a19428a205a0",
       "style": "IPY_MODEL_cd08c1004dfb4ccf8aad5acca5347558",
       "value": "1"
      }
     },
     "f3302e7bfa1b44528d27e15c59795652": {
      "model_module": "@jupyter-widgets/base",
      "model_module_version": "1.2.0",
      "model_name": "LayoutModel",
      "state": {}
     },
     "f33bc32532f14d079a5b6a40df72ef50": {
      "model_module": "@jupyter-widgets/controls",
      "model_module_version": "1.5.0",
      "model_name": "TextModel",
      "state": {
       "layout": "IPY_MODEL_194d5881fb18447585798b14c51e301b",
       "style": "IPY_MODEL_909bb8a066fb44099ebd540a9b6cc6c7",
       "value": "9"
      }
     },
     "f3626da171524a3b8838ed4a43f49184": {
      "model_module": "@jupyter-widgets/controls",
      "model_module_version": "1.5.0",
      "model_name": "ButtonModel",
      "state": {
       "description": "Multiply row",
       "layout": "IPY_MODEL_aefdae709ce94c3ea83fc6d511783bb4",
       "style": "IPY_MODEL_4ccd7fcfc54048e1afeee9567d3b3dca"
      }
     },
     "f363c2a9593f443e8d24b329e1a2d926": {
      "model_module": "@jupyter-widgets/controls",
      "model_module_version": "1.5.0",
      "model_name": "DropdownModel",
      "state": {
       "_options_labels": [
        "1",
        "2",
        "3"
       ],
       "description": "to row",
       "index": 1,
       "layout": "IPY_MODEL_54347aac6fa74fe1bd3eb1454197e6bd",
       "style": "IPY_MODEL_093d54d2ff3c4700b2e9e95c41589838"
      }
     },
     "f39330af18304cf98cc420abbea7452a": {
      "model_module": "@jupyter-widgets/controls",
      "model_module_version": "1.5.0",
      "model_name": "TextModel",
      "state": {
       "layout": "IPY_MODEL_47a60aa1cf3045f2a536b06edf49c5ea",
       "style": "IPY_MODEL_b485cfc31de242488a281e5b3b80acfe",
       "value": "9"
      }
     },
     "f397f39963fc4d7e8afd01c63db77140": {
      "model_module": "@jupyter-widgets/controls",
      "model_module_version": "1.5.0",
      "model_name": "DescriptionStyleModel",
      "state": {
       "description_width": ""
      }
     },
     "f39c2405301a45fdaf6706ac32945a36": {
      "model_module": "@jupyter-widgets/controls",
      "model_module_version": "1.5.0",
      "model_name": "TextModel",
      "state": {
       "layout": "IPY_MODEL_e56e2cbba3324f1e9a6da6e53dfda065",
       "style": "IPY_MODEL_d83be6200d3d44409f3f7e65e09c0921",
       "value": "2"
      }
     },
     "f3bfe76ba66241cdb015000c16d218cd": {
      "model_module": "@jupyter-widgets/controls",
      "model_module_version": "1.5.0",
      "model_name": "DescriptionStyleModel",
      "state": {
       "description_width": ""
      }
     },
     "f3c94f406538459a9aa83cc684eb0958": {
      "model_module": "@jupyter-widgets/controls",
      "model_module_version": "1.5.0",
      "model_name": "HTMLMathModel",
      "state": {
       "layout": "IPY_MODEL_3085bfbd1cb9493081fc66494a53448d",
       "style": "IPY_MODEL_fbc8fb701aea4dc297bd1d9e62a23f97",
       "value": "Enter here the values of matrix $\\bf{A}$"
      }
     },
     "f3d5e08eff0c48a08a4209d2c72b688f": {
      "model_module": "@jupyter-widgets/controls",
      "model_module_version": "1.5.0",
      "model_name": "DescriptionStyleModel",
      "state": {
       "description_width": ""
      }
     },
     "f3f39816c8804cfca62d30eee3143169": {
      "model_module": "@jupyter-widgets/controls",
      "model_module_version": "1.5.0",
      "model_name": "DescriptionStyleModel",
      "state": {
       "description_width": ""
      }
     },
     "f3f4a527f6874638a6472c9016aca9f6": {
      "model_module": "@jupyter-widgets/base",
      "model_module_version": "1.2.0",
      "model_name": "LayoutModel",
      "state": {
       "flex_flow": "row wrap",
       "justify_content": "space-around"
      }
     },
     "f40918507ba748c199cf99ae1d4a343b": {
      "model_module": "@jupyter-widgets/base",
      "model_module_version": "1.2.0",
      "model_name": "LayoutModel",
      "state": {}
     },
     "f422046e23c8401abdfb33fc0a5f3f5a": {
      "model_module": "@jupyter-widgets/controls",
      "model_module_version": "1.5.0",
      "model_name": "ButtonStyleModel",
      "state": {}
     },
     "f43ba0e924ef4d19a3984eb50ef3c4d3": {
      "model_module": "@jupyter-widgets/controls",
      "model_module_version": "1.5.0",
      "model_name": "DropdownModel",
      "state": {
       "_options_labels": [
        "1",
        "2",
        "3"
       ],
       "description": "Add row",
       "index": 0,
       "layout": "IPY_MODEL_2f7d97f9c5884ac0965678ed6130f096",
       "style": "IPY_MODEL_19204e2d0c2f4765a74dc262b2b95d84"
      }
     },
     "f4607a3ef364477e8344414ef794f983": {
      "model_module": "@jupyter-widgets/controls",
      "model_module_version": "1.5.0",
      "model_name": "VBoxModel",
      "state": {
       "children": [
        "IPY_MODEL_0122836ea33f478598c57447d3899e3b",
        "IPY_MODEL_31ce60b5435b4a8683a0b147783e26e9",
        "IPY_MODEL_7e5d8a2c0a644213a8c6d351717699ed"
       ],
       "layout": "IPY_MODEL_31d5fe54664a4f28a9d1f63a82c16a42"
      }
     },
     "f465d1a148114a65a386d2fcb0ef1581": {
      "model_module": "@jupyter-widgets/base",
      "model_module_version": "1.2.0",
      "model_name": "LayoutModel",
      "state": {}
     },
     "f474cab1c8f54b52bad2fe2cb3823b84": {
      "model_module": "@jupyter-widgets/controls",
      "model_module_version": "1.5.0",
      "model_name": "HBoxModel",
      "state": {
       "children": [
        "IPY_MODEL_c81d75f690c34af5984f1471e502a895",
        "IPY_MODEL_1f7bd99816a947c5a12ee239811365bb",
        "IPY_MODEL_6f8d5a25238b4dbcad0d3a0d27cfbc4c"
       ],
       "layout": "IPY_MODEL_4dfbe679109146bba4fa78bb12fbe1c0"
      }
     },
     "f4a859db86ad4588891d2c32612887ed": {
      "model_module": "@jupyter-widgets/base",
      "model_module_version": "1.2.0",
      "model_name": "LayoutModel",
      "state": {}
     },
     "f4ab5f9a45f44824af0c80fa8604e619": {
      "model_module": "@jupyter-widgets/controls",
      "model_module_version": "1.5.0",
      "model_name": "TextModel",
      "state": {
       "layout": "IPY_MODEL_65cb8db367e14667886b79ef97c800d1",
       "style": "IPY_MODEL_b52e67fabe904ec8b4df7c5b458608ab",
       "value": "-4"
      }
     },
     "f4c4c0af20ff46fa929361544473e16b": {
      "model_module": "@jupyter-widgets/controls",
      "model_module_version": "1.5.0",
      "model_name": "TextModel",
      "state": {
       "layout": "IPY_MODEL_8642f3d57e224dca89f44c73206facdc",
       "style": "IPY_MODEL_833af64f11a04cc19bd11b8d68ea0701",
       "value": "-1"
      }
     },
     "f4e29c12a4044874876b9d14adb16e6d": {
      "model_module": "@jupyter-widgets/controls",
      "model_module_version": "1.5.0",
      "model_name": "TextModel",
      "state": {
       "layout": "IPY_MODEL_109f6d462a004bdd9a95542348d778f8",
       "style": "IPY_MODEL_b4233c1a634145478e2c7712e61c06f3",
       "value": "9"
      }
     },
     "f4ececb133c946159ffda3fb7d04a502": {
      "model_module": "@jupyter-widgets/controls",
      "model_module_version": "1.5.0",
      "model_name": "DescriptionStyleModel",
      "state": {
       "description_width": ""
      }
     },
     "f4ed553abd55484dbc6eb44905cee816": {
      "model_module": "@jupyter-widgets/controls",
      "model_module_version": "1.5.0",
      "model_name": "DescriptionStyleModel",
      "state": {
       "description_width": ""
      }
     },
     "f4f4ccbee1064c178a1e45e911ca7de3": {
      "model_module": "@jupyter-widgets/controls",
      "model_module_version": "1.5.0",
      "model_name": "DescriptionStyleModel",
      "state": {
       "description_width": ""
      }
     },
     "f52fcf10d4eb44919d64fa8372ae1376": {
      "model_module": "@jupyter-widgets/base",
      "model_module_version": "1.2.0",
      "model_name": "LayoutModel",
      "state": {
       "justify_content": "center"
      }
     },
     "f54059be4d2748b293ca090e6ff8382b": {
      "model_module": "@jupyter-widgets/controls",
      "model_module_version": "1.5.0",
      "model_name": "DescriptionStyleModel",
      "state": {
       "description_width": ""
      }
     },
     "f55679be91804d4f9d252887e5809fb7": {
      "model_module": "@jupyter-widgets/controls",
      "model_module_version": "1.5.0",
      "model_name": "TextModel",
      "state": {
       "description": "times",
       "layout": "IPY_MODEL_0f8fa4a8e2504d5db11ccfbc7064920b",
       "style": "IPY_MODEL_1e168e8c2dde42e3a713151b8d0d0e69",
       "value": "-4"
      }
     },
     "f55c22f200e64b4b873bf85ac4b885d4": {
      "model_module": "@jupyter-widgets/controls",
      "model_module_version": "1.5.0",
      "model_name": "DropdownModel",
      "state": {
       "_options_labels": [
        "1",
        "2",
        "3"
       ],
       "description": "Swap row",
       "index": 0,
       "layout": "IPY_MODEL_94ff80fb73814960877c00ab97ba788b",
       "style": "IPY_MODEL_4ae155ee907742588cfd353ed0dd98a5"
      }
     },
     "f57d30c88ead4f9c89f904fc3f1ba191": {
      "model_module": "@jupyter-widgets/controls",
      "model_module_version": "1.5.0",
      "model_name": "TextModel",
      "state": {
       "layout": "IPY_MODEL_109f6d462a004bdd9a95542348d778f8",
       "style": "IPY_MODEL_62463a8c949e4261bc1a9eb6e05d340e",
       "value": "7"
      }
     },
     "f58ab3e248644d5fa752429a25620982": {
      "model_module": "@jupyter-widgets/base",
      "model_module_version": "1.2.0",
      "model_name": "LayoutModel",
      "state": {
       "width": "90px"
      }
     },
     "f599bfdaf108462bb589f1650b3b184f": {
      "model_module": "@jupyter-widgets/base",
      "model_module_version": "1.2.0",
      "model_name": "LayoutModel",
      "state": {}
     },
     "f5a606fcbc344780ba3e59b8919cabd9": {
      "model_module": "@jupyter-widgets/base",
      "model_module_version": "1.2.0",
      "model_name": "LayoutModel",
      "state": {
       "width": "150px"
      }
     },
     "f5c2eceac0c54bed876aef75b96436ad": {
      "model_module": "@jupyter-widgets/controls",
      "model_module_version": "1.5.0",
      "model_name": "ButtonModel",
      "state": {
       "description": "Swap rows",
       "layout": "IPY_MODEL_710bb206711c41f79b8588f0e56b86de",
       "style": "IPY_MODEL_f8c11ce226ee40f59b474b3372d7b43d"
      }
     },
     "f5ec38601bdb424e86fdfdb7dc1728ef": {
      "model_module": "@jupyter-widgets/base",
      "model_module_version": "1.2.0",
      "model_name": "LayoutModel",
      "state": {}
     },
     "f5fd07a008d6498dabe37fd510233c5f": {
      "model_module": "@jupyter-widgets/controls",
      "model_module_version": "1.5.0",
      "model_name": "DescriptionStyleModel",
      "state": {
       "description_width": ""
      }
     },
     "f6060de1acf0439cbb41db60dda58aba": {
      "model_module": "@jupyter-widgets/controls",
      "model_module_version": "1.5.0",
      "model_name": "HBoxModel",
      "state": {
       "children": [
        "IPY_MODEL_7631ed6744ee4de9b50877450eb75457",
        "IPY_MODEL_bf57719d8a064b1c929e5ca64241b877",
        "IPY_MODEL_d6c6adca572f4199b30f3c341b36e2c0"
       ],
       "layout": "IPY_MODEL_2e9d771f4b3d4c4e8b6cced00a088494"
      }
     },
     "f62514f2be614633ac759f1252e94606": {
      "model_module": "@jupyter-widgets/controls",
      "model_module_version": "1.5.0",
      "model_name": "BoxModel",
      "state": {
       "children": [
        "IPY_MODEL_b64bc98b17b94d6a984b411e34c31e75",
        "IPY_MODEL_8ee4abdbea464171b06048326e653ed0",
        "IPY_MODEL_0506c79be0b2465a8c4a739c01f5300c"
       ],
       "layout": "IPY_MODEL_8b1bf5c63be64d088655fd427101fde4"
      }
     },
     "f62b122c2cdc483d89306b20e471e596": {
      "model_module": "@jupyter-widgets/controls",
      "model_module_version": "1.5.0",
      "model_name": "DescriptionStyleModel",
      "state": {
       "description_width": ""
      }
     },
     "f6387237b6af4fc0a55b73f1ea6fb4ab": {
      "model_module": "@jupyter-widgets/controls",
      "model_module_version": "1.5.0",
      "model_name": "DescriptionStyleModel",
      "state": {
       "description_width": ""
      }
     },
     "f6614e67fb2f471b8322f0f125349cc7": {
      "model_module": "@jupyter-widgets/controls",
      "model_module_version": "1.5.0",
      "model_name": "DescriptionStyleModel",
      "state": {
       "description_width": ""
      }
     },
     "f66d21d8cba34e41b0debead8d73fbea": {
      "model_module": "@jupyter-widgets/base",
      "model_module_version": "1.2.0",
      "model_name": "LayoutModel",
      "state": {}
     },
     "f672c930fbb1405abd7774618075988e": {
      "model_module": "@jupyter-widgets/controls",
      "model_module_version": "1.5.0",
      "model_name": "TextModel",
      "state": {
       "layout": "IPY_MODEL_d743f8ba50f447a3ad2d5faaa6a0e9e2",
       "style": "IPY_MODEL_9ad40d767bd946dca55ed665b376fa37",
       "value": "2"
      }
     },
     "f6746d44ce064bfaa36f53ecb2852105": {
      "model_module": "@jupyter-widgets/controls",
      "model_module_version": "1.5.0",
      "model_name": "HBoxModel",
      "state": {
       "children": [
        "IPY_MODEL_c72d709b944a45dea64e69fb02822e48",
        "IPY_MODEL_15e77a75434b49029f53d5327c55e995",
        "IPY_MODEL_ab56e368eca74d6dbd0dc24f5023a077"
       ],
       "layout": "IPY_MODEL_4ffe004dd0ae47429fdcd5403a84671a"
      }
     },
     "f6ae98d6d5f44b7391c4b2f8d67d9340": {
      "model_module": "@jupyter-widgets/controls",
      "model_module_version": "1.5.0",
      "model_name": "DescriptionStyleModel",
      "state": {
       "description_width": ""
      }
     },
     "f6b7b12288084af2bfde95df5410f94d": {
      "model_module": "@jupyter-widgets/base",
      "model_module_version": "1.2.0",
      "model_name": "LayoutModel",
      "state": {
       "width": "40px"
      }
     },
     "f6cc4a54a2384f729c84b50e1be768af": {
      "model_module": "@jupyter-widgets/base",
      "model_module_version": "1.2.0",
      "model_name": "LayoutModel",
      "state": {}
     },
     "f6d38eea29a34a468d669aee57d56a4a": {
      "model_module": "@jupyter-widgets/controls",
      "model_module_version": "1.5.0",
      "model_name": "DropdownModel",
      "state": {
       "_options_labels": [
        "1",
        "2",
        "3"
       ],
       "description": "Row",
       "index": 0,
       "layout": "IPY_MODEL_45e3f90f469547f6a42e4ba9151d2b5f",
       "style": "IPY_MODEL_6e08c9382fce40d092e6d5e0c371b7ca"
      }
     },
     "f6e9b4b5cf9143799cf471ac5da56fa8": {
      "model_module": "@jupyter-widgets/base",
      "model_module_version": "1.2.0",
      "model_name": "LayoutModel",
      "state": {}
     },
     "f7060891f50c4335b8ea32aeb6d9c9db": {
      "model_module": "@jupyter-widgets/controls",
      "model_module_version": "1.5.0",
      "model_name": "DescriptionStyleModel",
      "state": {
       "description_width": ""
      }
     },
     "f71287e41b8d43418ec96663c5aabdcb": {
      "model_module": "@jupyter-widgets/controls",
      "model_module_version": "1.5.0",
      "model_name": "TextModel",
      "state": {
       "layout": "IPY_MODEL_97993fa24fac42e28605e8d366180168",
       "style": "IPY_MODEL_44075922e82845a7ad78617e2661993d",
       "value": "-6"
      }
     },
     "f716d79fea354c018b8acdfbadf8b2a0": {
      "model_module": "@jupyter-widgets/base",
      "model_module_version": "1.2.0",
      "model_name": "LayoutModel",
      "state": {
       "width": "100px"
      }
     },
     "f71ec22e621a4a38b3e9ccc942c9bc4a": {
      "model_module": "@jupyter-widgets/controls",
      "model_module_version": "1.5.0",
      "model_name": "TextModel",
      "state": {
       "layout": "IPY_MODEL_7a607c89a00143a7a0808c95689bf41a",
       "style": "IPY_MODEL_8b91dde451f9469ba32c7c9704d81d29",
       "value": "9"
      }
     },
     "f72c7adb21ae43db9613f6661669326b": {
      "model_module": "@jupyter-widgets/base",
      "model_module_version": "1.2.0",
      "model_name": "LayoutModel",
      "state": {
       "width": "150px"
      }
     },
     "f73078d706924fb0a75d30fb0655ac85": {
      "model_module": "@jupyter-widgets/base",
      "model_module_version": "1.2.0",
      "model_name": "LayoutModel",
      "state": {
       "height": "35px",
       "width": "40px"
      }
     },
     "f768bf630d6d4b4e9df315eb1bccd4ca": {
      "model_module": "@jupyter-widgets/controls",
      "model_module_version": "1.5.0",
      "model_name": "DescriptionStyleModel",
      "state": {
       "description_width": ""
      }
     },
     "f7812d9b703b4e0b8bbf6bcd19d05789": {
      "model_module": "@jupyter-widgets/base",
      "model_module_version": "1.2.0",
      "model_name": "LayoutModel",
      "state": {
       "width": "120px"
      }
     },
     "f789f920dd8e4a7c8fe54464505af57d": {
      "model_module": "@jupyter-widgets/base",
      "model_module_version": "1.2.0",
      "model_name": "LayoutModel",
      "state": {
       "width": "150px"
      }
     },
     "f78c7dcb212c4a87b6823c96e024b223": {
      "model_module": "@jupyter-widgets/base",
      "model_module_version": "1.2.0",
      "model_name": "LayoutModel",
      "state": {
       "width": "90px"
      }
     },
     "f7ac967140d345f4abf41b80a6e16393": {
      "model_module": "@jupyter-widgets/controls",
      "model_module_version": "1.5.0",
      "model_name": "DescriptionStyleModel",
      "state": {
       "description_width": ""
      }
     },
     "f7b3943169a0462e98ee81a95205f93f": {
      "model_module": "@jupyter-widgets/controls",
      "model_module_version": "1.5.0",
      "model_name": "DescriptionStyleModel",
      "state": {
       "description_width": ""
      }
     },
     "f7b8143c54a84033b19278978ddfa7d0": {
      "model_module": "@jupyter-widgets/controls",
      "model_module_version": "1.5.0",
      "model_name": "HBoxModel",
      "state": {
       "children": [
        "IPY_MODEL_ea9c959b68fa46978f06c017677b9361",
        "IPY_MODEL_a08a9d8a40b947e7b2a97a75e62af6e6",
        "IPY_MODEL_fdccaa769d28417ea384e8b3bc73d130"
       ],
       "layout": "IPY_MODEL_04f179f159cd4390a1679b7cdfd63742"
      }
     },
     "f7cb77c598d64bb48ddcfaf7b8641487": {
      "model_module": "@jupyter-widgets/controls",
      "model_module_version": "1.5.0",
      "model_name": "VBoxModel",
      "state": {
       "children": [
        "IPY_MODEL_217e959126c146748b1c8c37a13d378e",
        "IPY_MODEL_fa602ed2b0114cff9efedd574837423e"
       ],
       "layout": "IPY_MODEL_7b5f2c720faa4cf49e6623a940b45b90"
      }
     },
     "f7e4e423888d4941b338d68c46ec8771": {
      "model_module": "@jupyter-widgets/controls",
      "model_module_version": "1.5.0",
      "model_name": "BoxModel",
      "state": {
       "children": [
        "IPY_MODEL_49deea5b60be4bd5892376579c18d59b",
        "IPY_MODEL_ce67573e4d664688aefd740adef14e84",
        "IPY_MODEL_7240fb04b5c94d5095a9f06439eb796b"
       ],
       "layout": "IPY_MODEL_2dc322cdb8a441c1b4f4559dbcba7746"
      }
     },
     "f80f2684859c49cf99f4f5f07b214ddb": {
      "model_module": "@jupyter-widgets/controls",
      "model_module_version": "1.5.0",
      "model_name": "TextModel",
      "state": {
       "layout": "IPY_MODEL_d29f4c6323274c2ea715833a610068a5",
       "style": "IPY_MODEL_a5798b0c86cf4df298f1bf1f3f787f64",
       "value": "9"
      }
     },
     "f823ff325aed40fd85786b680418073e": {
      "model_module": "@jupyter-widgets/controls",
      "model_module_version": "1.5.0",
      "model_name": "HTMLMathModel",
      "state": {
       "layout": "IPY_MODEL_34d6b37c6eff4e54baeca93fb16388ba",
       "style": "IPY_MODEL_c18c537bfbad433098fff95f60f82f47",
       "value": "The augmented matrix will appear here."
      }
     },
     "f82e874f2a6d48d0990e15e1998d4f46": {
      "model_module": "@jupyter-widgets/controls",
      "model_module_version": "1.5.0",
      "model_name": "ButtonStyleModel",
      "state": {}
     },
     "f8342b5e63d14a7a9d8098f84c5f2327": {
      "model_module": "@jupyter-widgets/base",
      "model_module_version": "1.2.0",
      "model_name": "LayoutModel",
      "state": {}
     },
     "f84e0bf31aec4daeba4d355b59768519": {
      "model_module": "@jupyter-widgets/controls",
      "model_module_version": "1.5.0",
      "model_name": "HBoxModel",
      "state": {
       "children": [
        "IPY_MODEL_c49da874f4974e57982fead9d1b1f71b",
        "IPY_MODEL_3560e49a2bc7415380dfa7bffb94d1e1",
        "IPY_MODEL_7ba39d27a2de4d99a55b6d98288983ea"
       ],
       "layout": "IPY_MODEL_aa329791e0dc45c58b08e1e34b13cc04"
      }
     },
     "f859e21fd66d42d9a82a77868839d293": {
      "model_module": "@jupyter-widgets/base",
      "model_module_version": "1.2.0",
      "model_name": "LayoutModel",
      "state": {
       "flex_flow": "row wrap",
       "justify_content": "space-around"
      }
     },
     "f876ef45798542f4914ca266bc3b8f3c": {
      "model_module": "@jupyter-widgets/controls",
      "model_module_version": "1.5.0",
      "model_name": "DescriptionStyleModel",
      "state": {
       "description_width": ""
      }
     },
     "f8864d5f346f429496c2b1cb07bf5b2e": {
      "model_module": "@jupyter-widgets/controls",
      "model_module_version": "1.5.0",
      "model_name": "HTMLModel",
      "state": {
       "layout": "IPY_MODEL_d6c32aeabf1b4d68aee21dcb28d2abae",
       "style": "IPY_MODEL_937c7680fade4ba68d71bac5dfa2040c",
       "value": "Click the button below to start the calculator"
      }
     },
     "f889cd3076264fc6ac2d49038d7b96e7": {
      "model_module": "@jupyter-widgets/controls",
      "model_module_version": "1.5.0",
      "model_name": "DescriptionStyleModel",
      "state": {
       "description_width": ""
      }
     },
     "f88d21bd2fc54bdd892e55255cc40114": {
      "model_module": "@jupyter-widgets/controls",
      "model_module_version": "1.5.0",
      "model_name": "TextModel",
      "state": {
       "layout": "IPY_MODEL_d743f8ba50f447a3ad2d5faaa6a0e9e2",
       "style": "IPY_MODEL_5d1575e4a6934614a0ab83b0e1d4984d",
       "value": "-4"
      }
     },
     "f894ccd4e76e4fde8b8c85f85e117e82": {
      "model_module": "@jupyter-widgets/controls",
      "model_module_version": "1.5.0",
      "model_name": "DescriptionStyleModel",
      "state": {
       "description_width": ""
      }
     },
     "f895ea3132694a979c2d178a101b75ad": {
      "model_module": "@jupyter-widgets/controls",
      "model_module_version": "1.5.0",
      "model_name": "HBoxModel",
      "state": {
       "children": [
        "IPY_MODEL_6bac896b44fa446dbe2cc50dbf2ab508",
        "IPY_MODEL_59aaf93ad5e74f89a9d1684f22b39b30",
        "IPY_MODEL_1dc7a793c07d40ba97d56d1d8a26d346"
       ],
       "layout": "IPY_MODEL_e24ef0dda2e842deb500733821749d75"
      }
     },
     "f8aaf4ced7bc4bc0bdf082436460403e": {
      "model_module": "@jupyter-widgets/controls",
      "model_module_version": "1.5.0",
      "model_name": "HTMLMathModel",
      "state": {
       "layout": "IPY_MODEL_f01ae29b7d644da99ee63fcf34372431",
       "style": "IPY_MODEL_1fef745312564af7ac08083de461b9aa",
       "value": "Enter here the values of the matrix $A$"
      }
     },
     "f8c11ce226ee40f59b474b3372d7b43d": {
      "model_module": "@jupyter-widgets/controls",
      "model_module_version": "1.5.0",
      "model_name": "ButtonStyleModel",
      "state": {}
     },
     "f90a04cf9aa141c2b2268effad885d92": {
      "model_module": "@jupyter-widgets/controls",
      "model_module_version": "1.5.0",
      "model_name": "DescriptionStyleModel",
      "state": {
       "description_width": ""
      }
     },
     "f93903beba214b7ea239af82feea578d": {
      "model_module": "@jupyter-widgets/controls",
      "model_module_version": "1.5.0",
      "model_name": "DropdownModel",
      "state": {
       "_options_labels": [
        "1",
        "2",
        "3"
       ],
       "description": "Row",
       "index": 0,
       "layout": "IPY_MODEL_7c4c898f368f41ed9c8971c5ac433b01",
       "style": "IPY_MODEL_88e333fb63574020b51c0472cbc18199"
      }
     },
     "f93c3cbd774d4d209e2649ece9330b70": {
      "model_module": "@jupyter-widgets/controls",
      "model_module_version": "1.5.0",
      "model_name": "VBoxModel",
      "state": {
       "children": [
        "IPY_MODEL_dd347cb9118a4916a3bfb73c72f7aa18",
        "IPY_MODEL_ca166a9cd6e5468abc345b4dc6d58f55"
       ],
       "layout": "IPY_MODEL_4a46f71c183342468886a28574162a56"
      }
     },
     "f95ea6c6a2614feba56e2877f30f1353": {
      "model_module": "@jupyter-widgets/controls",
      "model_module_version": "1.5.0",
      "model_name": "DescriptionStyleModel",
      "state": {
       "description_width": ""
      }
     },
     "f96a2297b952432b8a844b09e215f3c9": {
      "model_module": "@jupyter-widgets/controls",
      "model_module_version": "1.5.0",
      "model_name": "DescriptionStyleModel",
      "state": {
       "description_width": ""
      }
     },
     "f97a52ce4d5442058e31ec16df69a65a": {
      "model_module": "@jupyter-widgets/controls",
      "model_module_version": "1.5.0",
      "model_name": "TextModel",
      "state": {
       "layout": "IPY_MODEL_776389df997545fcab086c0233cb0ab0",
       "style": "IPY_MODEL_36c3335ba7014120bc8951fc24905925",
       "value": "1"
      }
     },
     "f97dbf302f114dd2b95140c9e14c3cc7": {
      "model_module": "@jupyter-widgets/base",
      "model_module_version": "1.2.0",
      "model_name": "LayoutModel",
      "state": {
       "width": "150px"
      }
     },
     "f98a9a9016f34eec99b078d6c738146f": {
      "model_module": "@jupyter-widgets/base",
      "model_module_version": "1.2.0",
      "model_name": "LayoutModel",
      "state": {}
     },
     "f9aabeac974b4419abdd181e988d6564": {
      "model_module": "@jupyter-widgets/controls",
      "model_module_version": "1.5.0",
      "model_name": "TextModel",
      "state": {
       "layout": "IPY_MODEL_194d5881fb18447585798b14c51e301b",
       "style": "IPY_MODEL_6c2eac0f207445529430b606f6fa2def",
       "value": "1"
      }
     },
     "f9c092455c7f4f36b4943dcaa6d3e0e1": {
      "model_module": "@jupyter-widgets/controls",
      "model_module_version": "1.5.0",
      "model_name": "DescriptionStyleModel",
      "state": {
       "description_width": ""
      }
     },
     "f9c7028b213c49c28b4f09e848b3520c": {
      "model_module": "@jupyter-widgets/controls",
      "model_module_version": "1.5.0",
      "model_name": "VBoxModel",
      "state": {
       "children": [
        "IPY_MODEL_37cce93af156445796753c206f90c42d",
        "IPY_MODEL_a897b41b41184edbadce3b142e2a6033",
        "IPY_MODEL_cc7bd332cf6e4a0cb271dc92546ef6cf"
       ],
       "layout": "IPY_MODEL_e07c446c03984f5fbb6255455697893a"
      }
     },
     "f9d6b70b6cf044e3a32555cfb438c052": {
      "model_module": "@jupyter-widgets/controls",
      "model_module_version": "1.5.0",
      "model_name": "DropdownModel",
      "state": {
       "_options_labels": [
        "1",
        "2",
        "3"
       ],
       "description": "Swap row",
       "index": 0,
       "layout": "IPY_MODEL_bfb0bf4b8aa649a4bcd61a69177be072",
       "style": "IPY_MODEL_a65799e2fe494873b3e5d0e34016613e"
      }
     },
     "f9fff6fa7c4b4cc79b0688546ee48359": {
      "model_module": "@jupyter-widgets/controls",
      "model_module_version": "1.5.0",
      "model_name": "TextModel",
      "state": {
       "layout": "IPY_MODEL_e60a861eca344ffe9430ae66e253e656",
       "style": "IPY_MODEL_5679cefc4f6f40ddaae90cd22339c354",
       "value": "1"
      }
     },
     "fa460f7171ea4e338379113aab0b4a67": {
      "model_module": "@jupyter-widgets/controls",
      "model_module_version": "1.5.0",
      "model_name": "DescriptionStyleModel",
      "state": {
       "description_width": ""
      }
     },
     "fa602ed2b0114cff9efedd574837423e": {
      "model_module": "@jupyter-widgets/controls",
      "model_module_version": "1.5.0",
      "model_name": "TextModel",
      "state": {
       "description": "times",
       "layout": "IPY_MODEL_63b91cf5877d4b3fa25923e70020654e",
       "style": "IPY_MODEL_553ad84d1f18481bbf67af2505bf4a3d",
       "value": "1"
      }
     },
     "fa6ffe7609f44c86a845c42560697ecb": {
      "model_module": "@jupyter-widgets/base",
      "model_module_version": "1.2.0",
      "model_name": "LayoutModel",
      "state": {}
     },
     "faae52dda3494495b6323d4a61aea26d": {
      "model_module": "@jupyter-widgets/controls",
      "model_module_version": "1.5.0",
      "model_name": "ButtonModel",
      "state": {
       "description": "Multiply row",
       "layout": "IPY_MODEL_bf46c6dbb2e34af59709fa94ffecf80a",
       "style": "IPY_MODEL_2d958c8949524fe9a001c716d9a4cdc2"
      }
     },
     "facabce22d93430eabfa6940612cfff7": {
      "model_module": "@jupyter-widgets/controls",
      "model_module_version": "1.5.0",
      "model_name": "TextModel",
      "state": {
       "layout": "IPY_MODEL_e60a861eca344ffe9430ae66e253e656",
       "style": "IPY_MODEL_77f8bd9beb454262b3f8b8aa6ab44873",
       "value": "1"
      }
     },
     "facf20724a7f4ae9af7865c5e39e1ade": {
      "model_module": "@jupyter-widgets/controls",
      "model_module_version": "1.5.0",
      "model_name": "DropdownModel",
      "state": {
       "_options_labels": [
        "1",
        "2",
        "3"
       ],
       "description": "Swap row",
       "index": 0,
       "layout": "IPY_MODEL_2f0321b7e0054db18378c3f84ddc4ea6",
       "style": "IPY_MODEL_17679fd8bf4c43feac1b47de092afe6d"
      }
     },
     "faf8d511d6da4abd99879cdb6e7d70a4": {
      "model_module": "@jupyter-widgets/controls",
      "model_module_version": "1.5.0",
      "model_name": "DescriptionStyleModel",
      "state": {
       "description_width": ""
      }
     },
     "fb105de4780d440fa86ca63ebb6a34e1": {
      "model_module": "@jupyter-widgets/controls",
      "model_module_version": "1.5.0",
      "model_name": "DescriptionStyleModel",
      "state": {
       "description_width": ""
      }
     },
     "fb1a32620aa2464ea0c53967c9efb376": {
      "model_module": "@jupyter-widgets/controls",
      "model_module_version": "1.5.0",
      "model_name": "DescriptionStyleModel",
      "state": {
       "description_width": ""
      }
     },
     "fb27b559ad0b40e1ac08f5ca3376ce81": {
      "model_module": "@jupyter-widgets/base",
      "model_module_version": "1.2.0",
      "model_name": "LayoutModel",
      "state": {
       "width": "150px"
      }
     },
     "fb32e93225a242a0aebfc71a1bb430db": {
      "model_module": "@jupyter-widgets/controls",
      "model_module_version": "1.5.0",
      "model_name": "ButtonStyleModel",
      "state": {}
     },
     "fb3a513eb9fb4d97a5d5aad5fc202665": {
      "model_module": "@jupyter-widgets/base",
      "model_module_version": "1.2.0",
      "model_name": "LayoutModel",
      "state": {}
     },
     "fb3afc8860304acc86da465cf5e4b9d3": {
      "model_module": "@jupyter-widgets/controls",
      "model_module_version": "1.5.0",
      "model_name": "DescriptionStyleModel",
      "state": {
       "description_width": ""
      }
     },
     "fb4cf6adf6dd4316b1b33ceefbf49c18": {
      "model_module": "@jupyter-widgets/controls",
      "model_module_version": "1.5.0",
      "model_name": "HTMLMathModel",
      "state": {
       "layout": "IPY_MODEL_6e3d12632e2e47a8aea7fda25d9a48c1",
       "style": "IPY_MODEL_35350c4302b14cb1976c54dfe3a486cf",
       "value": "Enter here the values of the matrix $A$"
      }
     },
     "fb6b64ad8dac4819b7b996f2752a4970": {
      "model_module": "@jupyter-widgets/base",
      "model_module_version": "1.2.0",
      "model_name": "LayoutModel",
      "state": {
       "width": "100px"
      }
     },
     "fb7037c6a4d24a8d87af2a6bb6810482": {
      "model_module": "@jupyter-widgets/controls",
      "model_module_version": "1.5.0",
      "model_name": "ButtonStyleModel",
      "state": {}
     },
     "fb87d43024cf4c419c84494bc8b85274": {
      "model_module": "@jupyter-widgets/controls",
      "model_module_version": "1.5.0",
      "model_name": "VBoxModel",
      "state": {
       "children": [
        "IPY_MODEL_556b9ac4710749dda073434a2562b4df",
        "IPY_MODEL_3fcedba7054b4f00aa95b24f4459252a"
       ],
       "layout": "IPY_MODEL_0e6cf7f51fe6496a9cf10cc476805197"
      }
     },
     "fb88bd18e0f64009be516e8429d81de8": {
      "model_module": "@jupyter-widgets/controls",
      "model_module_version": "1.5.0",
      "model_name": "VBoxModel",
      "state": {
       "children": [
        "IPY_MODEL_5cff2b7f04394228a58ef948c8b6c6fe",
        "IPY_MODEL_fd824dc35dc64fd89e7a99fbd7966709"
       ],
       "layout": "IPY_MODEL_d382f148ae7b496289dba4b4a742459a"
      }
     },
     "fb9a8823347d4aecb7dac7ce200bbb85": {
      "model_module": "@jupyter-widgets/controls",
      "model_module_version": "1.5.0",
      "model_name": "HBoxModel",
      "state": {
       "children": [
        "IPY_MODEL_7bc22f2759354225979a8f13978f200c",
        "IPY_MODEL_02abb2b51ddf4f7bb245ca3c0ed34380",
        "IPY_MODEL_3f22e8f1a1214e1e8856946dae2c8c53"
       ],
       "layout": "IPY_MODEL_749f6875a42d43818eacf729788cd425"
      }
     },
     "fba19d553a15404e90d6db3124eb6962": {
      "model_module": "@jupyter-widgets/controls",
      "model_module_version": "1.5.0",
      "model_name": "ButtonModel",
      "state": {
       "description": "Check inverse",
       "layout": "IPY_MODEL_e619f1afbb9e46dbb34616a0e9bba430",
       "style": "IPY_MODEL_fb32e93225a242a0aebfc71a1bb430db"
      }
     },
     "fbc8fb701aea4dc297bd1d9e62a23f97": {
      "model_module": "@jupyter-widgets/controls",
      "model_module_version": "1.5.0",
      "model_name": "DescriptionStyleModel",
      "state": {
       "description_width": ""
      }
     },
     "fbca8fdad3e1451fb9fe976cd8b1497b": {
      "model_module": "@jupyter-widgets/base",
      "model_module_version": "1.2.0",
      "model_name": "LayoutModel",
      "state": {}
     },
     "fc071ac813e3426581b808b4ae45c247": {
      "model_module": "@jupyter-widgets/controls",
      "model_module_version": "1.5.0",
      "model_name": "DescriptionStyleModel",
      "state": {
       "description_width": ""
      }
     },
     "fc09d5b49ceb4b83badf04ae1467f30c": {
      "model_module": "@jupyter-widgets/base",
      "model_module_version": "1.2.0",
      "model_name": "LayoutModel",
      "state": {
       "flex_flow": "row wrap",
       "justify_content": "space-around"
      }
     },
     "fc19d8239ee74020a09417c26babbf75": {
      "model_module": "@jupyter-widgets/controls",
      "model_module_version": "1.5.0",
      "model_name": "DescriptionStyleModel",
      "state": {
       "description_width": ""
      }
     },
     "fc2e8b14472a49538b44e494859dde65": {
      "model_module": "@jupyter-widgets/base",
      "model_module_version": "1.2.0",
      "model_name": "LayoutModel",
      "state": {
       "justify_content": "center"
      }
     },
     "fc3599a94bee444f915e379dbf36b706": {
      "model_module": "@jupyter-widgets/controls",
      "model_module_version": "1.5.0",
      "model_name": "DescriptionStyleModel",
      "state": {
       "description_width": ""
      }
     },
     "fc48f35e2c104e0e964f0949354e956b": {
      "model_module": "@jupyter-widgets/controls",
      "model_module_version": "1.5.0",
      "model_name": "DescriptionStyleModel",
      "state": {
       "description_width": ""
      }
     },
     "fc4971bb23dc49d3862aec522a261f62": {
      "model_module": "@jupyter-widgets/controls",
      "model_module_version": "1.5.0",
      "model_name": "DescriptionStyleModel",
      "state": {
       "description_width": ""
      }
     },
     "fc4b7699475642ecb4c02ebf24f1e6a2": {
      "model_module": "@jupyter-widgets/base",
      "model_module_version": "1.2.0",
      "model_name": "LayoutModel",
      "state": {
       "height": "35px",
       "width": "40px"
      }
     },
     "fc71c956adf0406e9e9a1a195b1a173b": {
      "model_module": "@jupyter-widgets/base",
      "model_module_version": "1.2.0",
      "model_name": "LayoutModel",
      "state": {
       "width": "150px"
      }
     },
     "fc8138c1f7a44e6b8a907d0f7f1a0bd5": {
      "model_module": "@jupyter-widgets/controls",
      "model_module_version": "1.5.0",
      "model_name": "VBoxModel",
      "state": {
       "children": [
        "IPY_MODEL_f8864d5f346f429496c2b1cb07bf5b2e",
        "IPY_MODEL_cb2178d5d9b44ee2ab906d0c2d51d309"
       ],
       "layout": "IPY_MODEL_281efdd502c74ca8a2e8d12af8d95a38"
      }
     },
     "fc81dd8f413b4199978ac70ca1af47f8": {
      "model_module": "@jupyter-widgets/controls",
      "model_module_version": "1.5.0",
      "model_name": "DescriptionStyleModel",
      "state": {
       "description_width": ""
      }
     },
     "fc838a3673c54ee1a5818ec92a34b307": {
      "model_module": "@jupyter-widgets/controls",
      "model_module_version": "1.5.0",
      "model_name": "DescriptionStyleModel",
      "state": {
       "description_width": ""
      }
     },
     "fc87b5ff85294e889780b7f02d7c6030": {
      "model_module": "@jupyter-widgets/base",
      "model_module_version": "1.2.0",
      "model_name": "LayoutModel",
      "state": {}
     },
     "fc8c15267a7142c3beb0ef5761079855": {
      "model_module": "@jupyter-widgets/base",
      "model_module_version": "1.2.0",
      "model_name": "LayoutModel",
      "state": {}
     },
     "fc8d42f382d046998b374305d94e60a5": {
      "model_module": "@jupyter-widgets/base",
      "model_module_version": "1.2.0",
      "model_name": "LayoutModel",
      "state": {
       "width": "150px"
      }
     },
     "fc9277aad2a94993aeb3b24a1b30dd70": {
      "model_module": "@jupyter-widgets/controls",
      "model_module_version": "1.5.0",
      "model_name": "HBoxModel",
      "state": {
       "children": [
        "IPY_MODEL_136433dc00f242c48ca727dcf2a88b93",
        "IPY_MODEL_c7cec6fce78944fc8fb51dffe0a50fe4",
        "IPY_MODEL_e8c4ce31d136447191e29fab50924497"
       ],
       "layout": "IPY_MODEL_69f96826782144a587c54c0c600d2c89"
      }
     },
     "fc99138ef6f8495fba82e7ccbc3a86ab": {
      "model_module": "@jupyter-widgets/controls",
      "model_module_version": "1.5.0",
      "model_name": "ButtonStyleModel",
      "state": {}
     },
     "fca1f378f9894c4fa96f469513e2d98a": {
      "model_module": "@jupyter-widgets/controls",
      "model_module_version": "1.5.0",
      "model_name": "DropdownModel",
      "state": {
       "_options_labels": [
        "1",
        "2",
        "3"
       ],
       "description": "Add row",
       "index": 1,
       "layout": "IPY_MODEL_c1cd9410e22a4625bdac3b683190b156",
       "style": "IPY_MODEL_702fa46304c24628869bf2ae24697e6e"
      }
     },
     "fcd0effc71594e75812f11150dd9043f": {
      "model_module": "@jupyter-widgets/controls",
      "model_module_version": "1.5.0",
      "model_name": "HTMLModel",
      "state": {
       "layout": "IPY_MODEL_580597e7aa9344b0a1de196dd77cefe1",
       "style": "IPY_MODEL_cbbfc98cdc3b4062a35457cf301e1927",
       "value": "Click the button below to start the calculator"
      }
     },
     "fd062927d4e64720a93e17e638bc51e8": {
      "model_module": "@jupyter-widgets/controls",
      "model_module_version": "1.5.0",
      "model_name": "TextModel",
      "state": {
       "layout": "IPY_MODEL_4bcd3a11811347d3979a9396c2e71cd4",
       "style": "IPY_MODEL_c8d35454bab74a0fa8b636796c5266f2",
       "value": "-6"
      }
     },
     "fd194d982bfa4c81912215d884faef58": {
      "model_module": "@jupyter-widgets/base",
      "model_module_version": "1.2.0",
      "model_name": "LayoutModel",
      "state": {}
     },
     "fd209117348c48f89476d37e0bffe2fe": {
      "model_module": "@jupyter-widgets/controls",
      "model_module_version": "1.5.0",
      "model_name": "TextModel",
      "state": {
       "layout": "IPY_MODEL_f73078d706924fb0a75d30fb0655ac85",
       "style": "IPY_MODEL_5e5777fc99864c5da0c58dedb0982749",
       "value": "1"
      }
     },
     "fd2e84f0af624382b42d96158a8933fe": {
      "model_module": "@jupyter-widgets/base",
      "model_module_version": "1.2.0",
      "model_name": "LayoutModel",
      "state": {}
     },
     "fd49711376e94d27a206afe8658120fe": {
      "model_module": "@jupyter-widgets/controls",
      "model_module_version": "1.5.0",
      "model_name": "DescriptionStyleModel",
      "state": {
       "description_width": ""
      }
     },
     "fd824dc35dc64fd89e7a99fbd7966709": {
      "model_module": "@jupyter-widgets/controls",
      "model_module_version": "1.5.0",
      "model_name": "TextModel",
      "state": {
       "description": "times",
       "layout": "IPY_MODEL_68cda6481edd4e13b5679f1a926fcdb9",
       "style": "IPY_MODEL_bfea0087592c47d5b56c0958c0d49ec1",
       "value": "1"
      }
     },
     "fd83eab33cc944e898f59710b384f270": {
      "model_module": "@jupyter-widgets/base",
      "model_module_version": "1.2.0",
      "model_name": "LayoutModel",
      "state": {
       "width": "150px"
      }
     },
     "fd9dc18e3e534d57a3a5c1683fb6adbc": {
      "model_module": "@jupyter-widgets/controls",
      "model_module_version": "1.5.0",
      "model_name": "HBoxModel",
      "state": {
       "children": [
        "IPY_MODEL_248aa46aa6924a879e705dd7291bb893",
        "IPY_MODEL_92a6543388b649baa3eb9e0a5b23b206"
       ],
       "layout": "IPY_MODEL_83aecc892a5a496f95b0b6402dcb61df"
      }
     },
     "fda7ac6e0efd43e3a01dcb24dda71e46": {
      "model_module": "@jupyter-widgets/controls",
      "model_module_version": "1.5.0",
      "model_name": "HBoxModel",
      "state": {
       "children": [
        "IPY_MODEL_c72b7309c7974dfebbd08ccd8dab80b0",
        "IPY_MODEL_730489c14e4e4555afdf6dfcd79389e8",
        "IPY_MODEL_f4ab5f9a45f44824af0c80fa8604e619"
       ],
       "layout": "IPY_MODEL_51db859a846d4bdea6e95da5919da6dd"
      }
     },
     "fdace73915244554b6291e49f09ec7f4": {
      "model_module": "@jupyter-widgets/controls",
      "model_module_version": "1.5.0",
      "model_name": "DescriptionStyleModel",
      "state": {
       "description_width": ""
      }
     },
     "fdb27c5fc18d444eaa6327f8e54250c5": {
      "model_module": "@jupyter-widgets/base",
      "model_module_version": "1.2.0",
      "model_name": "LayoutModel",
      "state": {
       "width": "150px"
      }
     },
     "fdbaef6e96274830b8505ca4383f5224": {
      "model_module": "@jupyter-widgets/controls",
      "model_module_version": "1.5.0",
      "model_name": "HBoxModel",
      "state": {
       "children": [
        "IPY_MODEL_69f1d92c76194409b605d61578acc0f4",
        "IPY_MODEL_4b4b11dbbd1d4679abcd824f39f84d78"
       ],
       "layout": "IPY_MODEL_2606432d4b3744eba13f63c81f6e8436"
      }
     },
     "fdbb40cfe5734ff894012e17a6dfde37": {
      "model_module": "@jupyter-widgets/controls",
      "model_module_version": "1.5.0",
      "model_name": "DescriptionStyleModel",
      "state": {
       "description_width": ""
      }
     },
     "fdccaa769d28417ea384e8b3bc73d130": {
      "model_module": "@jupyter-widgets/controls",
      "model_module_version": "1.5.0",
      "model_name": "TextModel",
      "state": {
       "layout": "IPY_MODEL_d743f8ba50f447a3ad2d5faaa6a0e9e2",
       "style": "IPY_MODEL_6ee17cb2215e4a51b4ff1a9e949bd107",
       "value": "1"
      }
     },
     "fe0fd061e2244014a041288f0cab7c5f": {
      "model_module": "@jupyter-widgets/base",
      "model_module_version": "1.2.0",
      "model_name": "LayoutModel",
      "state": {
       "width": "150px"
      }
     },
     "fe1eacb80c524d05bd3206c88634d7e2": {
      "model_module": "@jupyter-widgets/controls",
      "model_module_version": "1.5.0",
      "model_name": "DescriptionStyleModel",
      "state": {
       "description_width": ""
      }
     },
     "fe51300303d545589fc6e2ee22ead880": {
      "model_module": "@jupyter-widgets/controls",
      "model_module_version": "1.5.0",
      "model_name": "DescriptionStyleModel",
      "state": {
       "description_width": ""
      }
     },
     "fe596947972647c88ff5f6d2504bac37": {
      "model_module": "@jupyter-widgets/controls",
      "model_module_version": "1.5.0",
      "model_name": "HBoxModel",
      "state": {
       "children": [
        "IPY_MODEL_b31e9a90d378404fb6140916190bd4e4",
        "IPY_MODEL_cdd33074eab34addba492777efb132a7",
        "IPY_MODEL_891c74ffd49449d79fc07b58e4be638f"
       ],
       "layout": "IPY_MODEL_88244efbf0b24985ab97f503feb4873f"
      }
     },
     "fe622aa4ab214246846bce2694058050": {
      "model_module": "@jupyter-widgets/controls",
      "model_module_version": "1.5.0",
      "model_name": "TextModel",
      "state": {
       "layout": "IPY_MODEL_36d600bb3cb144de8da56ca358490108",
       "style": "IPY_MODEL_14a6bc9f71a84c3ca28a319dbd613dcc",
       "value": "1"
      }
     },
     "fe628084846c43ebac6b00cb47fcdcdf": {
      "model_module": "@jupyter-widgets/controls",
      "model_module_version": "1.5.0",
      "model_name": "HTMLMathModel",
      "state": {
       "layout": "IPY_MODEL_92b55001dd354012abb5d9a62b16fdb3",
       "style": "IPY_MODEL_129c6d7cd1c341ab93fd59634722d890",
       "value": "Enter here the values of the matrix $A$"
      }
     },
     "fe67e2f9d3964a7992c89b15beb37afb": {
      "model_module": "@jupyter-widgets/controls",
      "model_module_version": "1.5.0",
      "model_name": "HTMLMathModel",
      "state": {
       "layout": "IPY_MODEL_29b5731093c9454088990116213b1993",
       "style": "IPY_MODEL_7421e8d041284cd8945f22c22cf05d8c",
       "value": "Enter here the values of matrix $\\bf{A}$"
      }
     },
     "fea10da8ad01480790c0118f67ba4515": {
      "model_module": "@jupyter-widgets/controls",
      "model_module_version": "1.5.0",
      "model_name": "BoxModel",
      "state": {
       "children": [
        "IPY_MODEL_d9930c5b19da4d56bb1d496ea65bd9ab",
        "IPY_MODEL_af1465f0d3e14644a07a392351fb10df",
        "IPY_MODEL_cae6bba2c52b446d9a0e77135106f223"
       ],
       "layout": "IPY_MODEL_5053ce12c01d45709ae2fb3e904a62b9"
      }
     },
     "fea8469f47f243f3a348a76abc83289a": {
      "model_module": "@jupyter-widgets/controls",
      "model_module_version": "1.5.0",
      "model_name": "ButtonModel",
      "state": {
       "description": "Start",
       "layout": "IPY_MODEL_3297f54c9e874cf392f0e9c218127b42",
       "style": "IPY_MODEL_a8f3e8e5d430433881f0e27a13ea5429"
      }
     },
     "feaac82c7e0e4766a983f5516676bbd7": {
      "model_module": "@jupyter-widgets/controls",
      "model_module_version": "1.5.0",
      "model_name": "BoxModel",
      "state": {
       "children": [
        "IPY_MODEL_5c4a78959b5a44199492e0023e2984d0",
        "IPY_MODEL_73afa188ce16406dbce01458abce3648",
        "IPY_MODEL_333f6e25072c40f5900b4c9aa4d2bf49"
       ],
       "layout": "IPY_MODEL_5822cb27926a4b96943dac8c282264cb"
      }
     },
     "feab542d68594cea9011ae7b078caae9": {
      "model_module": "@jupyter-widgets/base",
      "model_module_version": "1.2.0",
      "model_name": "LayoutModel",
      "state": {}
     },
     "feacb065f0a341df928c19b0df9ce636": {
      "model_module": "@jupyter-widgets/controls",
      "model_module_version": "1.5.0",
      "model_name": "VBoxModel",
      "state": {
       "children": [
        "IPY_MODEL_7d8bfd11d7c342a1a5ded6f63c422c38",
        "IPY_MODEL_a2bd3ae83aa541f98ecf8f777f123857",
        "IPY_MODEL_8266fa58a10f44e7b363bf627f1c1885"
       ],
       "layout": "IPY_MODEL_d0322e382ab74d469a83a00e58d08aff"
      }
     },
     "feaec62d0d844614a1378a4eb6c59074": {
      "model_module": "@jupyter-widgets/controls",
      "model_module_version": "1.5.0",
      "model_name": "ButtonStyleModel",
      "state": {}
     },
     "febb1884e36c4378af567644d19c74db": {
      "model_module": "@jupyter-widgets/controls",
      "model_module_version": "1.5.0",
      "model_name": "HTMLMathModel",
      "state": {
       "layout": "IPY_MODEL_811ecbe683254dbebc218f078f1dbe18",
       "style": "IPY_MODEL_689cdfe6c433461491eb888281537bf5",
       "value": "Enter here the values of matrix $\\bf{A}$"
      }
     },
     "fec747be70df4a558b3088f2dcf3c1f7": {
      "model_module": "@jupyter-widgets/controls",
      "model_module_version": "1.5.0",
      "model_name": "TextModel",
      "state": {
       "layout": "IPY_MODEL_ff8f131091ed4bf49b858ed52bc5b3ea",
       "style": "IPY_MODEL_15d7c0a375b44586b4132ddc54104639",
       "value": "7"
      }
     },
     "fef8b1564a054dfb8df108c3a31b594c": {
      "model_module": "@jupyter-widgets/controls",
      "model_module_version": "1.5.0",
      "model_name": "DescriptionStyleModel",
      "state": {
       "description_width": ""
      }
     },
     "ff0ae4c98157472997cc8f44af9833df": {
      "model_module": "@jupyter-widgets/base",
      "model_module_version": "1.2.0",
      "model_name": "LayoutModel",
      "state": {
       "width": "40px"
      }
     },
     "ff2e2abf59aa4c748cfdb5b948219d1a": {
      "model_module": "@jupyter-widgets/controls",
      "model_module_version": "1.5.0",
      "model_name": "TextModel",
      "state": {
       "layout": "IPY_MODEL_0360a59724284d16ab0033f9c2a97d5d",
       "style": "IPY_MODEL_2e18a309848548118dc1051ca6d51e7c",
       "value": "1"
      }
     },
     "ff3d770f323440cbaaafa25cd5896a27": {
      "model_module": "@jupyter-widgets/base",
      "model_module_version": "1.2.0",
      "model_name": "LayoutModel",
      "state": {}
     },
     "ff3df24b4f544272b04f117fadfa6150": {
      "model_module": "@jupyter-widgets/base",
      "model_module_version": "1.2.0",
      "model_name": "LayoutModel",
      "state": {}
     },
     "ff52d6e0556d481e9325e5ff6b9f0973": {
      "model_module": "@jupyter-widgets/controls",
      "model_module_version": "1.5.0",
      "model_name": "TextModel",
      "state": {
       "layout": "IPY_MODEL_342fbdc31d2d406489b24d1349c22e03",
       "style": "IPY_MODEL_0b51104c1e9f4719b5061bea145fdfaa",
       "value": "-6"
      }
     },
     "ff7bb6638e31481c9a500c5d3dff08cf": {
      "model_module": "@jupyter-widgets/controls",
      "model_module_version": "1.5.0",
      "model_name": "TextModel",
      "state": {
       "layout": "IPY_MODEL_66f664c2d36b4d74aa7cdd21ce7345c1",
       "style": "IPY_MODEL_0283e9bf09c24fa487832a3b4afd72ed",
       "value": "3"
      }
     },
     "ff8c910b2ced41dc92b40fa0b1cd83f1": {
      "model_module": "@jupyter-widgets/controls",
      "model_module_version": "1.5.0",
      "model_name": "HTMLMathModel",
      "state": {
       "layout": "IPY_MODEL_0f73d60c72fa4763a786e53528d3506d",
       "style": "IPY_MODEL_65fd8c1312da405981fdc57d1f69c603",
       "value": "The augmented matrix will appear here."
      }
     },
     "ff8f131091ed4bf49b858ed52bc5b3ea": {
      "model_module": "@jupyter-widgets/base",
      "model_module_version": "1.2.0",
      "model_name": "LayoutModel",
      "state": {
       "height": "35px",
       "width": "30px"
      }
     },
     "ff950e31222a4f1ab614294935274c32": {
      "model_module": "@jupyter-widgets/controls",
      "model_module_version": "1.5.0",
      "model_name": "VBoxModel",
      "state": {
       "children": [
        "IPY_MODEL_3ba64c148baa4c0880128ea6c9d462a7",
        "IPY_MODEL_9568f6d8e9624adaa6c2161c819c22b1",
        "IPY_MODEL_5a507ec33302402296f53fe711dc414a"
       ],
       "layout": "IPY_MODEL_88a669d6a24d4ccc8077ca677805791d"
      }
     },
     "ff9da2a6715946bca511c519d01fc6c8": {
      "model_module": "@jupyter-widgets/base",
      "model_module_version": "1.2.0",
      "model_name": "LayoutModel",
      "state": {
       "height": "300px",
       "justify_content": "center"
      }
     },
     "ffab03d87d05495b92a79147ec420936": {
      "model_module": "@jupyter-widgets/controls",
      "model_module_version": "1.5.0",
      "model_name": "HTMLModel",
      "state": {
       "layout": "IPY_MODEL_16eaf48503304fc5a756b0fb1c5803f3",
       "style": "IPY_MODEL_acf924170cd4476d95bd450b3f84687c",
       "value": "Click the button below to start the calculator"
      }
     },
     "ffffaaa56619417290cfd3c4e3a5570e": {
      "model_module": "@jupyter-widgets/base",
      "model_module_version": "1.2.0",
      "model_name": "LayoutModel",
      "state": {}
     }
    },
    "version_major": 2,
    "version_minor": 0
   }
  }
 },
 "nbformat": 4,
 "nbformat_minor": 4
}
